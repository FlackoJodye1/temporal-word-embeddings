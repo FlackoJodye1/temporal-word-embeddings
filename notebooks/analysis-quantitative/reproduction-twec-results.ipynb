{
 "cells": [
  {
   "cell_type": "code",
   "execution_count": 1,
   "outputs": [],
   "source": [
    "%load_ext autoreload"
   ],
   "metadata": {
    "collapsed": false
   }
  },
  {
   "cell_type": "code",
   "execution_count": 2,
   "metadata": {
    "collapsed": true
   },
   "outputs": [],
   "source": [
    "import json\n",
    "import pickle\n",
    "import pandas as pd\n",
    "from glob import glob\n",
    "from pathlib import Path\n",
    "import scipy.sparse as sp\n",
    "from tqdm.notebook import tqdm\n",
    "from gensim.models.word2vec import Word2Vec\n",
    "\n",
    "import sys\n",
    "sys.path.append('../../')\n",
    "\n",
    "import src.test.util as test_util"
   ]
  },
  {
   "cell_type": "markdown",
   "source": [
    "# Imports"
   ],
   "metadata": {
    "collapsed": false
   }
  },
  {
   "cell_type": "code",
   "execution_count": 3,
   "outputs": [],
   "source": [
    "path_to_test_data = Path(\"../../data\") / \"test\"\n",
    "path_to_tppmi_model = Path(\"../../data\") / \"ppmi-matrices\" / \"nyt-data\"\n",
    "path_to_twec_model = Path(\"../../model\") / \"nyt-data\" / \"cade\" / \"model\"\n",
    "path_to_static_model = Path(\"../../model\") / \"nyt-data\" / \"static\""
   ],
   "metadata": {
    "collapsed": false
   }
  },
  {
   "cell_type": "markdown",
   "source": [
    "# Setup"
   ],
   "metadata": {
    "collapsed": false
   }
  },
  {
   "cell_type": "markdown",
   "source": [
    "## Testsets"
   ],
   "metadata": {
    "collapsed": false
   }
  },
  {
   "cell_type": "markdown",
   "source": [
    "### Testset 1\n",
    "\n",
    "Based on publicly recorded knowledge that for each year lists different names for a particular role, such as U.S. president, U.K. prime minister, NFL superbowl champion team, and so on."
   ],
   "metadata": {
    "collapsed": false
   }
  },
  {
   "cell_type": "code",
   "execution_count": 4,
   "outputs": [],
   "source": [
    "test_data_1_all = pd.read_csv(path_to_test_data / \"testset_1.csv\")"
   ],
   "metadata": {
    "collapsed": false
   }
  },
  {
   "cell_type": "code",
   "execution_count": 5,
   "outputs": [],
   "source": [
    "test_data_1_all.columns = ['truth', 'equivalent']"
   ],
   "metadata": {
    "collapsed": false
   }
  },
  {
   "cell_type": "code",
   "execution_count": 6,
   "outputs": [],
   "source": [
    "test_data_1_all = test_data_1_all.sort_values(by='truth', ascending=True)"
   ],
   "metadata": {
    "collapsed": false
   }
  },
  {
   "cell_type": "code",
   "execution_count": 7,
   "outputs": [],
   "source": [
    "test_cases_1_all = test_data_1_all['truth'].unique()"
   ],
   "metadata": {
    "collapsed": false
   }
  },
  {
   "cell_type": "code",
   "execution_count": 8,
   "outputs": [
    {
     "name": "stdout",
     "output_type": "stream",
     "text": [
      "Testset\n",
      "Testcases (all): 11027\n",
      "Testcases (unique): 499\n"
     ]
    }
   ],
   "source": [
    "print(\"Testset\")\n",
    "print(f\"Testcases (all): {len(test_data_1_all)}\")\n",
    "print(f\"Testcases (unique): {len(test_cases_1_all)}\")"
   ],
   "metadata": {
    "collapsed": false
   }
  },
  {
   "cell_type": "markdown",
   "source": [
    "Now we want to split the testset into static & dynamic testcases as was done by Di Carlo et al. in their paper \"Training Temporal Word Embeddings with a Compass\""
   ],
   "metadata": {
    "collapsed": false
   }
  },
  {
   "cell_type": "code",
   "execution_count": 9,
   "outputs": [],
   "source": [
    "# Splitting the columns into words and years\n",
    "split_truth = test_data_1_all['truth'].str.split('-', expand=True)\n",
    "split_equivalent = test_data_1_all['equivalent'].str.split('-', expand=True)\n",
    "\n",
    "# Creating masks for \"static\" and \"dynamic\" conditions\n",
    "static_mask = split_truth[0] == split_equivalent[0]\n",
    "dynamic_mask = split_truth[0] != split_equivalent[0]\n",
    "\n",
    "# Applying the masks to create the separate DataFrames\n",
    "test_data_1_static = test_data_1_all[static_mask]\n",
    "test_data_1_dynamic = test_data_1_all[dynamic_mask]"
   ],
   "metadata": {
    "collapsed": false
   }
  },
  {
   "cell_type": "code",
   "execution_count": 10,
   "outputs": [],
   "source": [
    "test_cases_1_static = test_data_1_static['truth'].unique()\n",
    "test_cases_1_dynamic = test_data_1_dynamic['truth'].unique()"
   ],
   "metadata": {
    "collapsed": false
   }
  },
  {
   "cell_type": "code",
   "execution_count": 11,
   "outputs": [
    {
     "name": "stdout",
     "output_type": "stream",
     "text": [
      "Static\n",
      "Testcases (all): 2937\n",
      "Testcases (unique): 443\n"
     ]
    }
   ],
   "source": [
    "print(\"Static\")\n",
    "print(f\"Testcases (all): {len(test_data_1_static)}\")\n",
    "print(f\"Testcases (unique): {len(test_cases_1_static)}\")"
   ],
   "metadata": {
    "collapsed": false
   }
  },
  {
   "cell_type": "code",
   "execution_count": 12,
   "outputs": [
    {
     "name": "stdout",
     "output_type": "stream",
     "text": [
      "Dynamic\n",
      "Testcases (all): 8090\n",
      "Testcases (unique): 499\n"
     ]
    }
   ],
   "source": [
    "print(\"Dynamic\")\n",
    "print(f\"Testcases (all): {len(test_data_1_dynamic)}\")\n",
    "print(f\"Testcases (unique): {len(test_cases_1_dynamic)}\")"
   ],
   "metadata": {
    "collapsed": false
   }
  },
  {
   "cell_type": "markdown",
   "source": [
    "## Models"
   ],
   "metadata": {
    "collapsed": false
   }
  },
  {
   "cell_type": "markdown",
   "source": [
    "### TWEC"
   ],
   "metadata": {
    "collapsed": false
   }
  },
  {
   "cell_type": "code",
   "execution_count": 13,
   "outputs": [],
   "source": [
    "model_filenames_cade = glob(str(path_to_twec_model / \"*_data.model\"))"
   ],
   "metadata": {
    "collapsed": false
   }
  },
  {
   "cell_type": "code",
   "execution_count": 14,
   "outputs": [
    {
     "data": {
      "text/plain": "['../../model/nyt-data/cade/model/1994_data.model',\n '../../model/nyt-data/cade/model/2000_data.model',\n '../../model/nyt-data/cade/model/1999_data.model',\n '../../model/nyt-data/cade/model/2011_data.model',\n '../../model/nyt-data/cade/model/2008_data.model',\n '../../model/nyt-data/cade/model/2014_data.model',\n '../../model/nyt-data/cade/model/2005_data.model',\n '../../model/nyt-data/cade/model/1991_data.model',\n '../../model/nyt-data/cade/model/1996_data.model',\n '../../model/nyt-data/cade/model/2002_data.model',\n '../../model/nyt-data/cade/model/2013_data.model',\n '../../model/nyt-data/cade/model/2016_data.model',\n '../../model/nyt-data/cade/model/2007_data.model',\n '../../model/nyt-data/cade/model/1993_data.model',\n '../../model/nyt-data/cade/model/2009_data.model',\n '../../model/nyt-data/cade/model/2015_data.model',\n '../../model/nyt-data/cade/model/1990_data.model',\n '../../model/nyt-data/cade/model/2004_data.model',\n '../../model/nyt-data/cade/model/2001_data.model',\n '../../model/nyt-data/cade/model/1995_data.model',\n '../../model/nyt-data/cade/model/1998_data.model',\n '../../model/nyt-data/cade/model/2010_data.model',\n '../../model/nyt-data/cade/model/1992_data.model',\n '../../model/nyt-data/cade/model/2006_data.model',\n '../../model/nyt-data/cade/model/2003_data.model',\n '../../model/nyt-data/cade/model/1997_data.model',\n '../../model/nyt-data/cade/model/2012_data.model']"
     },
     "execution_count": 14,
     "metadata": {},
     "output_type": "execute_result"
    }
   ],
   "source": [
    "model_filenames_cade"
   ],
   "metadata": {
    "collapsed": false
   }
  },
  {
   "cell_type": "code",
   "execution_count": 15,
   "outputs": [
    {
     "data": {
      "text/plain": "  0%|          | 0/27 [00:00<?, ?it/s]",
      "application/vnd.jupyter.widget-view+json": {
       "version_major": 2,
       "version_minor": 0,
       "model_id": "2e025e8f15dd493989e953b1f78d0446"
      },
      "application/json": {
       "n": 0,
       "total": 27,
       "elapsed": 0.0045092105865478516,
       "ncols": null,
       "nrows": null,
       "prefix": "",
       "ascii": false,
       "unit": "it",
       "unit_scale": false,
       "rate": null,
       "bar_format": null,
       "postfix": null,
       "unit_divisor": 1000,
       "initial": 0,
       "colour": null
      }
     },
     "metadata": {},
     "output_type": "display_data"
    }
   ],
   "source": [
    "# load models\n",
    "models_cade = {f\"model_{model_file.split('_data')[0][-4:]}\":Word2Vec.load(model_file) for model_file in tqdm(model_filenames_cade)}"
   ],
   "metadata": {
    "collapsed": false
   }
  },
  {
   "cell_type": "code",
   "execution_count": 16,
   "outputs": [],
   "source": [
    "models_cade = {model_key: models_cade[model_key] for model_key in sorted(models_cade, key=lambda x: int(x.split('_')[1]))}"
   ],
   "metadata": {
    "collapsed": false
   }
  },
  {
   "cell_type": "code",
   "execution_count": 17,
   "outputs": [
    {
     "data": {
      "text/plain": "dict_keys(['model_1990', 'model_1991', 'model_1992', 'model_1993', 'model_1994', 'model_1995', 'model_1996', 'model_1997', 'model_1998', 'model_1999', 'model_2000', 'model_2001', 'model_2002', 'model_2003', 'model_2004', 'model_2005', 'model_2006', 'model_2007', 'model_2008', 'model_2009', 'model_2010', 'model_2011', 'model_2012', 'model_2013', 'model_2014', 'model_2015', 'model_2016'])"
     },
     "execution_count": 17,
     "metadata": {},
     "output_type": "execute_result"
    }
   ],
   "source": [
    "models_cade.keys()"
   ],
   "metadata": {
    "collapsed": false
   }
  },
  {
   "cell_type": "markdown",
   "source": [
    "Create dictionary of testsets that contain all test-words along with their embedding in the respective year"
   ],
   "metadata": {
    "collapsed": false
   }
  },
  {
   "cell_type": "code",
   "execution_count": 18,
   "outputs": [
    {
     "name": "stdout",
     "output_type": "stream",
     "text": [
      "2 Testcases are not in the vocab of the model(s)\n"
     ]
    }
   ],
   "source": [
    "test_case_dict_cade_all = test_util.create_test_case_dict_cade(test_cases_1_all, models_cade)"
   ],
   "metadata": {
    "collapsed": false
   }
  },
  {
   "cell_type": "code",
   "execution_count": 19,
   "outputs": [
    {
     "name": "stdout",
     "output_type": "stream",
     "text": [
      "2 Testcases are not in the vocab of the model(s)\n"
     ]
    }
   ],
   "source": [
    "test_case_dict_cade_static = test_util.create_test_case_dict_cade(test_cases_1_static, models_cade)"
   ],
   "metadata": {
    "collapsed": false
   }
  },
  {
   "cell_type": "code",
   "execution_count": 20,
   "outputs": [
    {
     "name": "stdout",
     "output_type": "stream",
     "text": [
      "2 Testcases are not in the vocab of the model(s)\n"
     ]
    }
   ],
   "source": [
    "test_case_dict_cade_dynamic = test_util.create_test_case_dict_cade(test_cases_1_dynamic, models_cade)"
   ],
   "metadata": {
    "collapsed": false
   }
  },
  {
   "cell_type": "markdown",
   "source": [
    "Retrieve most similar words for each testword in each year"
   ],
   "metadata": {
    "collapsed": false
   }
  },
  {
   "cell_type": "code",
   "execution_count": 21,
   "outputs": [
    {
     "data": {
      "text/plain": "  0%|          | 0/497 [00:00<?, ?it/s]",
      "application/vnd.jupyter.widget-view+json": {
       "version_major": 2,
       "version_minor": 0,
       "model_id": "5e8852a7dd874fe4ac8cf0591a9dda7c"
      },
      "application/json": {
       "n": 0,
       "total": 497,
       "elapsed": 0.004354238510131836,
       "ncols": null,
       "nrows": null,
       "prefix": "",
       "ascii": false,
       "unit": "it",
       "unit_scale": false,
       "rate": null,
       "bar_format": null,
       "postfix": null,
       "unit_divisor": 1000,
       "initial": 0,
       "colour": null
      }
     },
     "metadata": {},
     "output_type": "display_data"
    }
   ],
   "source": [
    "similarities_cade_all = test_util.get_similarities_of_models(models_cade, test_case_dict_cade_all)"
   ],
   "metadata": {
    "collapsed": false
   }
  },
  {
   "cell_type": "code",
   "execution_count": 22,
   "outputs": [
    {
     "data": {
      "text/plain": "  0%|          | 0/441 [00:00<?, ?it/s]",
      "application/vnd.jupyter.widget-view+json": {
       "version_major": 2,
       "version_minor": 0,
       "model_id": "4ee15177945a4f40bd419b43755793aa"
      },
      "application/json": {
       "n": 0,
       "total": 441,
       "elapsed": 0.0046079158782958984,
       "ncols": null,
       "nrows": null,
       "prefix": "",
       "ascii": false,
       "unit": "it",
       "unit_scale": false,
       "rate": null,
       "bar_format": null,
       "postfix": null,
       "unit_divisor": 1000,
       "initial": 0,
       "colour": null
      }
     },
     "metadata": {},
     "output_type": "display_data"
    }
   ],
   "source": [
    "similarities_cade_static = test_util.get_similarities_of_models(models_cade, test_case_dict_cade_static)"
   ],
   "metadata": {
    "collapsed": false
   }
  },
  {
   "cell_type": "code",
   "execution_count": 23,
   "outputs": [
    {
     "data": {
      "text/plain": "  0%|          | 0/497 [00:00<?, ?it/s]",
      "application/vnd.jupyter.widget-view+json": {
       "version_major": 2,
       "version_minor": 0,
       "model_id": "73e89fe1c100457b9fe7f248d49c01df"
      },
      "application/json": {
       "n": 0,
       "total": 497,
       "elapsed": 0.003545999526977539,
       "ncols": null,
       "nrows": null,
       "prefix": "",
       "ascii": false,
       "unit": "it",
       "unit_scale": false,
       "rate": null,
       "bar_format": null,
       "postfix": null,
       "unit_divisor": 1000,
       "initial": 0,
       "colour": null
      }
     },
     "metadata": {},
     "output_type": "display_data"
    }
   ],
   "source": [
    "similarities_cade_dynamic = test_util.get_similarities_of_models(models_cade, test_case_dict_cade_dynamic)"
   ],
   "metadata": {
    "collapsed": false
   }
  },
  {
   "cell_type": "markdown",
   "source": [
    "### Static Word2Vec"
   ],
   "metadata": {
    "collapsed": false
   }
  },
  {
   "cell_type": "code",
   "execution_count": 24,
   "outputs": [],
   "source": [
    "model_static = Word2Vec.load(str(path_to_static_model / \"w2v_model.model\"))"
   ],
   "metadata": {
    "collapsed": false
   }
  },
  {
   "cell_type": "code",
   "execution_count": 25,
   "outputs": [
    {
     "name": "stdout",
     "output_type": "stream",
     "text": [
      "0 Testcases are not in the vocab of the model\n"
     ]
    }
   ],
   "source": [
    "test_case_dict_static_all = test_util.create_test_case_dict_static(model_static, test_cases_1_all)"
   ],
   "metadata": {
    "collapsed": false
   }
  },
  {
   "cell_type": "code",
   "execution_count": 26,
   "outputs": [
    {
     "name": "stdout",
     "output_type": "stream",
     "text": [
      "0 Testcases are not in the vocab of the model\n"
     ]
    }
   ],
   "source": [
    "test_case_dict_static_static = test_util.create_test_case_dict_static(model_static, test_cases_1_static)"
   ],
   "metadata": {
    "collapsed": false
   }
  },
  {
   "cell_type": "code",
   "execution_count": 27,
   "outputs": [
    {
     "name": "stdout",
     "output_type": "stream",
     "text": [
      "0 Testcases are not in the vocab of the model\n"
     ]
    }
   ],
   "source": [
    "test_case_dict_static_dynamic = test_util.create_test_case_dict_static(model_static, test_cases_1_dynamic)"
   ],
   "metadata": {
    "collapsed": false
   }
  },
  {
   "cell_type": "code",
   "execution_count": 28,
   "outputs": [
    {
     "data": {
      "text/plain": "  0%|          | 0/499 [00:00<?, ?it/s]",
      "application/vnd.jupyter.widget-view+json": {
       "version_major": 2,
       "version_minor": 0,
       "model_id": "d5d2c9330230425196761b3e873b2861"
      },
      "application/json": {
       "n": 0,
       "total": 499,
       "elapsed": 0.0020291805267333984,
       "ncols": null,
       "nrows": null,
       "prefix": "",
       "ascii": false,
       "unit": "it",
       "unit_scale": false,
       "rate": null,
       "bar_format": null,
       "postfix": null,
       "unit_divisor": 1000,
       "initial": 0,
       "colour": null
      }
     },
     "metadata": {},
     "output_type": "display_data"
    }
   ],
   "source": [
    "similarities_static_all = test_util.get_similarities_of_models_static(model_static, test_case_dict_static_all)"
   ],
   "metadata": {
    "collapsed": false
   }
  },
  {
   "cell_type": "code",
   "execution_count": 29,
   "outputs": [
    {
     "data": {
      "text/plain": "  0%|          | 0/443 [00:00<?, ?it/s]",
      "application/vnd.jupyter.widget-view+json": {
       "version_major": 2,
       "version_minor": 0,
       "model_id": "fc8c1d2ba61b4587a47430cc8e55e84f"
      },
      "application/json": {
       "n": 0,
       "total": 443,
       "elapsed": 0.003692626953125,
       "ncols": null,
       "nrows": null,
       "prefix": "",
       "ascii": false,
       "unit": "it",
       "unit_scale": false,
       "rate": null,
       "bar_format": null,
       "postfix": null,
       "unit_divisor": 1000,
       "initial": 0,
       "colour": null
      }
     },
     "metadata": {},
     "output_type": "display_data"
    }
   ],
   "source": [
    "similarities_static_static = test_util.get_similarities_of_models_static(model_static, test_case_dict_static_static)"
   ],
   "metadata": {
    "collapsed": false
   }
  },
  {
   "cell_type": "code",
   "execution_count": 30,
   "outputs": [
    {
     "data": {
      "text/plain": "  0%|          | 0/499 [00:00<?, ?it/s]",
      "application/vnd.jupyter.widget-view+json": {
       "version_major": 2,
       "version_minor": 0,
       "model_id": "ba9c9c410fa14df89dde36cc9eb8aff0"
      },
      "application/json": {
       "n": 0,
       "total": 499,
       "elapsed": 0.005978107452392578,
       "ncols": null,
       "nrows": null,
       "prefix": "",
       "ascii": false,
       "unit": "it",
       "unit_scale": false,
       "rate": null,
       "bar_format": null,
       "postfix": null,
       "unit_divisor": 1000,
       "initial": 0,
       "colour": null
      }
     },
     "metadata": {},
     "output_type": "display_data"
    }
   ],
   "source": [
    "similarities_static_dynamic = test_util.get_similarities_of_models_static(model_static, test_case_dict_static_dynamic)"
   ],
   "metadata": {
    "collapsed": false
   }
  },
  {
   "cell_type": "markdown",
   "source": [
    "### TPPMI"
   ],
   "metadata": {
    "collapsed": false
   }
  },
  {
   "cell_type": "code",
   "execution_count": 52,
   "outputs": [],
   "source": [
    "%autoreload 2\n",
    "\n",
    "from src.packages.TPPMI.ppmi_model import PPMIModel\n",
    "from src.packages.TPPMI.tppmi_model import TPPMIModel"
   ],
   "metadata": {
    "collapsed": false
   }
  },
  {
   "cell_type": "code",
   "execution_count": 53,
   "outputs": [],
   "source": [
    "ppmi_data_files = sorted(glob(str(path_to_tppmi_model  / \"*.npz\")))\n",
    "words_files = sorted(glob(str(path_to_tppmi_model  / \"*.pkl\")))"
   ],
   "metadata": {
    "collapsed": false
   }
  },
  {
   "cell_type": "markdown",
   "source": [
    "Split context-words from timestamped-vocabularies"
   ],
   "metadata": {
    "collapsed": false
   }
  },
  {
   "cell_type": "code",
   "execution_count": 54,
   "outputs": [],
   "source": [
    "context_words_file = [path for path in words_files if \"context-words\" in path]\n",
    "ppmi_vocab_files = [path for path in words_files if \"context-words\" not in path]"
   ],
   "metadata": {
    "collapsed": false
   }
  },
  {
   "cell_type": "code",
   "execution_count": 55,
   "outputs": [],
   "source": [
    "# Get ppmi-matrices and vocab\n",
    "ppmi_matrices = {}\n",
    "\n",
    "for filenames in zip(ppmi_vocab_files, ppmi_data_files):\n",
    "    ppmi_matrix = sp.load_npz(filenames[1])\n",
    "    with open(filenames[0], \"rb\") as f:\n",
    "        vocab = pickle.load(f)\n",
    "    key = filenames[0].split(\"ppmi-\")[2][0:4]\n",
    "    ppmi_matrices[key] = {\"ppmi_matrix\" : ppmi_matrix, \"vocab\": vocab}\n",
    "\n",
    "# Get common context-words\n",
    "with open(context_words_file[0], \"rb\") as f:\n",
    "    context_words = pickle.load(f)"
   ],
   "metadata": {
    "collapsed": false
   }
  },
  {
   "cell_type": "code",
   "execution_count": 56,
   "outputs": [
    {
     "data": {
      "text/plain": "dict_keys(['1990', '1991', '1992', '1993', '1994', '1995', '1996', '1997', '1998', '1999', '2000', '2001', '2002', '2003', '2004', '2005', '2006', '2007', '2008', '2009', '2010', '2011', '2012', '2013', '2014', '2015', '2016'])"
     },
     "execution_count": 56,
     "metadata": {},
     "output_type": "execute_result"
    }
   ],
   "source": [
    "ppmi_matrices.keys()"
   ],
   "metadata": {
    "collapsed": false
   }
  },
  {
   "cell_type": "markdown",
   "source": [
    "Create ppmi_model objects"
   ],
   "metadata": {
    "collapsed": false
   }
  },
  {
   "cell_type": "code",
   "execution_count": 57,
   "outputs": [],
   "source": [
    "ppmi_models = {key: PPMIModel.construct_from_data(ppmi_data[\"ppmi_matrix\"], ppmi_data[\"vocab\"], context_words, normalize=True) for key, ppmi_data in ppmi_matrices.items()}"
   ],
   "metadata": {
    "collapsed": false
   }
  },
  {
   "cell_type": "code",
   "execution_count": 58,
   "outputs": [],
   "source": [
    "tppmi_model = TPPMIModel(ppmi_models, dates=\"years\", smooth=False)"
   ],
   "metadata": {
    "collapsed": false
   }
  },
  {
   "cell_type": "code",
   "execution_count": 59,
   "outputs": [],
   "source": [
    "test = tppmi_model.ppmi_models[next(iter(tppmi_model.ppmi_models))]"
   ],
   "metadata": {
    "collapsed": false
   }
  },
  {
   "cell_type": "code",
   "execution_count": 60,
   "outputs": [
    {
     "data": {
      "text/plain": "array([[0.        , 0.        , 0.06148732, ..., 0.        , 0.10782979,\n        0.11228748],\n       [0.        , 0.        , 0.        , ..., 0.        , 0.        ,\n        0.        ],\n       [0.        , 0.        , 0.10169234, ..., 0.        , 0.        ,\n        0.        ],\n       ...,\n       [0.        , 0.        , 0.19770416, ..., 0.        , 0.10555057,\n        0.        ],\n       [0.        , 0.        , 0.16703345, ..., 0.        , 0.        ,\n        0.        ],\n       [0.        , 0.        , 0.        , ..., 0.        , 0.        ,\n        0.        ]])"
     },
     "execution_count": 60,
     "metadata": {},
     "output_type": "execute_result"
    }
   ],
   "source": [
    "test.ppmi_matrix"
   ],
   "metadata": {
    "collapsed": false
   }
  },
  {
   "cell_type": "code",
   "execution_count": 61,
   "outputs": [
    {
     "name": "stdout",
     "output_type": "stream",
     "text": [
      "All words are contained in the vocabulary\n",
      "All words are contained in the vocabulary\n",
      "All words are contained in the vocabulary\n",
      "All words are contained in the vocabulary\n",
      "albright - not in vocab of timestep: 1990\n",
      "albright - not in vocab of timestep: 1992\n",
      "albright - not in vocab of timestep: 2013\n",
      "All words are contained in the vocabulary\n",
      "albright - not in vocab of timestep: 1990\n",
      "albright - not in vocab of timestep: 1992\n",
      "albright - not in vocab of timestep: 2013\n",
      "All words are contained in the vocabulary\n",
      "albright - not in vocab of timestep: 1990\n",
      "albright - not in vocab of timestep: 1992\n",
      "albright - not in vocab of timestep: 2013\n",
      "All words are contained in the vocabulary\n",
      "albright - not in vocab of timestep: 1990\n",
      "albright - not in vocab of timestep: 1992\n",
      "albright - not in vocab of timestep: 2013\n",
      "All words are contained in the vocabulary\n",
      "athens - not in vocab of timestep: 2006\n",
      "All words are contained in the vocabulary\n",
      "All words are contained in the vocabulary\n",
      "All words are contained in the vocabulary\n",
      "All words are contained in the vocabulary\n",
      "barak - not in vocab of timestep: 1990\n",
      "barak - not in vocab of timestep: 1991\n",
      "barak - not in vocab of timestep: 1992\n",
      "barak - not in vocab of timestep: 1994\n",
      "barak - not in vocab of timestep: 1995\n",
      "barak - not in vocab of timestep: 2003\n",
      "barak - not in vocab of timestep: 2006\n",
      "barak - not in vocab of timestep: 2016\n",
      "All words are contained in the vocabulary\n",
      "barak - not in vocab of timestep: 1990\n",
      "barak - not in vocab of timestep: 1991\n",
      "barak - not in vocab of timestep: 1992\n",
      "barak - not in vocab of timestep: 1994\n",
      "barak - not in vocab of timestep: 1995\n",
      "barak - not in vocab of timestep: 2003\n",
      "barak - not in vocab of timestep: 2006\n",
      "barak - not in vocab of timestep: 2016\n",
      "All words are contained in the vocabulary\n",
      "All words are contained in the vocabulary\n",
      "All words are contained in the vocabulary\n",
      "All words are contained in the vocabulary\n",
      "benedict - not in vocab of timestep: 1997\n",
      "All words are contained in the vocabulary\n",
      "benedict - not in vocab of timestep: 1997\n",
      "All words are contained in the vocabulary\n",
      "benedict - not in vocab of timestep: 1997\n",
      "All words are contained in the vocabulary\n",
      "benedict - not in vocab of timestep: 1997\n",
      "All words are contained in the vocabulary\n",
      "benedict - not in vocab of timestep: 1997\n",
      "All words are contained in the vocabulary\n",
      "benedict - not in vocab of timestep: 1997\n",
      "All words are contained in the vocabulary\n",
      "benedict - not in vocab of timestep: 1997\n",
      "All words are contained in the vocabulary\n",
      "benedict - not in vocab of timestep: 1997\n",
      "All words are contained in the vocabulary\n",
      "bernanke - not in vocab of timestep: 1990\n",
      "bernanke - not in vocab of timestep: 1991\n",
      "bernanke - not in vocab of timestep: 1992\n",
      "bernanke - not in vocab of timestep: 1994\n",
      "bernanke - not in vocab of timestep: 1995\n",
      "bernanke - not in vocab of timestep: 1996\n",
      "bernanke - not in vocab of timestep: 1997\n",
      "bernanke - not in vocab of timestep: 1998\n",
      "bernanke - not in vocab of timestep: 1999\n",
      "bernanke - not in vocab of timestep: 2000\n",
      "bernanke - not in vocab of timestep: 2001\n",
      "bernanke - not in vocab of timestep: 2016\n",
      "All words are contained in the vocabulary\n",
      "bernanke - not in vocab of timestep: 1990\n",
      "bernanke - not in vocab of timestep: 1991\n",
      "bernanke - not in vocab of timestep: 1992\n",
      "bernanke - not in vocab of timestep: 1994\n",
      "bernanke - not in vocab of timestep: 1995\n",
      "bernanke - not in vocab of timestep: 1996\n",
      "bernanke - not in vocab of timestep: 1997\n",
      "bernanke - not in vocab of timestep: 1998\n",
      "bernanke - not in vocab of timestep: 1999\n",
      "bernanke - not in vocab of timestep: 2000\n",
      "bernanke - not in vocab of timestep: 2001\n",
      "bernanke - not in vocab of timestep: 2016\n",
      "All words are contained in the vocabulary\n",
      "bernanke - not in vocab of timestep: 1990\n",
      "bernanke - not in vocab of timestep: 1991\n",
      "bernanke - not in vocab of timestep: 1992\n",
      "bernanke - not in vocab of timestep: 1994\n",
      "bernanke - not in vocab of timestep: 1995\n",
      "bernanke - not in vocab of timestep: 1996\n",
      "bernanke - not in vocab of timestep: 1997\n",
      "bernanke - not in vocab of timestep: 1998\n",
      "bernanke - not in vocab of timestep: 1999\n",
      "bernanke - not in vocab of timestep: 2000\n",
      "bernanke - not in vocab of timestep: 2001\n",
      "bernanke - not in vocab of timestep: 2016\n",
      "All words are contained in the vocabulary\n",
      "bernanke - not in vocab of timestep: 1990\n",
      "bernanke - not in vocab of timestep: 1991\n",
      "bernanke - not in vocab of timestep: 1992\n",
      "bernanke - not in vocab of timestep: 1994\n",
      "bernanke - not in vocab of timestep: 1995\n",
      "bernanke - not in vocab of timestep: 1996\n",
      "bernanke - not in vocab of timestep: 1997\n",
      "bernanke - not in vocab of timestep: 1998\n",
      "bernanke - not in vocab of timestep: 1999\n",
      "bernanke - not in vocab of timestep: 2000\n",
      "bernanke - not in vocab of timestep: 2001\n",
      "bernanke - not in vocab of timestep: 2016\n",
      "All words are contained in the vocabulary\n",
      "bernanke - not in vocab of timestep: 1990\n",
      "bernanke - not in vocab of timestep: 1991\n",
      "bernanke - not in vocab of timestep: 1992\n",
      "bernanke - not in vocab of timestep: 1994\n",
      "bernanke - not in vocab of timestep: 1995\n",
      "bernanke - not in vocab of timestep: 1996\n",
      "bernanke - not in vocab of timestep: 1997\n",
      "bernanke - not in vocab of timestep: 1998\n",
      "bernanke - not in vocab of timestep: 1999\n",
      "bernanke - not in vocab of timestep: 2000\n",
      "bernanke - not in vocab of timestep: 2001\n",
      "bernanke - not in vocab of timestep: 2016\n",
      "All words are contained in the vocabulary\n",
      "bernanke - not in vocab of timestep: 1990\n",
      "bernanke - not in vocab of timestep: 1991\n",
      "bernanke - not in vocab of timestep: 1992\n",
      "bernanke - not in vocab of timestep: 1994\n",
      "bernanke - not in vocab of timestep: 1995\n",
      "bernanke - not in vocab of timestep: 1996\n",
      "bernanke - not in vocab of timestep: 1997\n",
      "bernanke - not in vocab of timestep: 1998\n",
      "bernanke - not in vocab of timestep: 1999\n",
      "bernanke - not in vocab of timestep: 2000\n",
      "bernanke - not in vocab of timestep: 2001\n",
      "bernanke - not in vocab of timestep: 2016\n",
      "All words are contained in the vocabulary\n",
      "bernanke - not in vocab of timestep: 1990\n",
      "bernanke - not in vocab of timestep: 1991\n",
      "bernanke - not in vocab of timestep: 1992\n",
      "bernanke - not in vocab of timestep: 1994\n",
      "bernanke - not in vocab of timestep: 1995\n",
      "bernanke - not in vocab of timestep: 1996\n",
      "bernanke - not in vocab of timestep: 1997\n",
      "bernanke - not in vocab of timestep: 1998\n",
      "bernanke - not in vocab of timestep: 1999\n",
      "bernanke - not in vocab of timestep: 2000\n",
      "bernanke - not in vocab of timestep: 2001\n",
      "bernanke - not in vocab of timestep: 2016\n",
      "All words are contained in the vocabulary\n",
      "bernanke - not in vocab of timestep: 1990\n",
      "bernanke - not in vocab of timestep: 1991\n",
      "bernanke - not in vocab of timestep: 1992\n",
      "bernanke - not in vocab of timestep: 1994\n",
      "bernanke - not in vocab of timestep: 1995\n",
      "bernanke - not in vocab of timestep: 1996\n",
      "bernanke - not in vocab of timestep: 1997\n",
      "bernanke - not in vocab of timestep: 1998\n",
      "bernanke - not in vocab of timestep: 1999\n",
      "bernanke - not in vocab of timestep: 2000\n",
      "bernanke - not in vocab of timestep: 2001\n",
      "bernanke - not in vocab of timestep: 2016\n",
      "All words are contained in the vocabulary\n",
      "All words are contained in the vocabulary\n",
      "All words are contained in the vocabulary\n",
      "All words are contained in the vocabulary\n",
      "All words are contained in the vocabulary\n",
      "All words are contained in the vocabulary\n",
      "All words are contained in the vocabulary\n",
      "All words are contained in the vocabulary\n",
      "All words are contained in the vocabulary\n",
      "All words are contained in the vocabulary\n",
      "All words are contained in the vocabulary\n",
      "All words are contained in the vocabulary\n",
      "All words are contained in the vocabulary\n",
      "All words are contained in the vocabulary\n",
      "All words are contained in the vocabulary\n",
      "All words are contained in the vocabulary\n",
      "All words are contained in the vocabulary\n",
      "All words are contained in the vocabulary\n",
      "All words are contained in the vocabulary\n",
      "All words are contained in the vocabulary\n",
      "All words are contained in the vocabulary\n",
      "blasio - not in vocab of timestep: 1990\n",
      "blasio - not in vocab of timestep: 1991\n",
      "blasio - not in vocab of timestep: 1992\n",
      "blasio - not in vocab of timestep: 1993\n",
      "blasio - not in vocab of timestep: 1994\n",
      "blasio - not in vocab of timestep: 1995\n",
      "blasio - not in vocab of timestep: 1996\n",
      "blasio - not in vocab of timestep: 1997\n",
      "blasio - not in vocab of timestep: 1998\n",
      "blasio - not in vocab of timestep: 1999\n",
      "blasio - not in vocab of timestep: 2001\n",
      "blasio - not in vocab of timestep: 2005\n",
      "blasio - not in vocab of timestep: 2006\n",
      "All words are contained in the vocabulary\n",
      "blasio - not in vocab of timestep: 1990\n",
      "blasio - not in vocab of timestep: 1991\n",
      "blasio - not in vocab of timestep: 1992\n",
      "blasio - not in vocab of timestep: 1993\n",
      "blasio - not in vocab of timestep: 1994\n",
      "blasio - not in vocab of timestep: 1995\n",
      "blasio - not in vocab of timestep: 1996\n",
      "blasio - not in vocab of timestep: 1997\n",
      "blasio - not in vocab of timestep: 1998\n",
      "blasio - not in vocab of timestep: 1999\n",
      "blasio - not in vocab of timestep: 2001\n",
      "blasio - not in vocab of timestep: 2005\n",
      "blasio - not in vocab of timestep: 2006\n",
      "All words are contained in the vocabulary\n",
      "blasio - not in vocab of timestep: 1990\n",
      "blasio - not in vocab of timestep: 1991\n",
      "blasio - not in vocab of timestep: 1992\n",
      "blasio - not in vocab of timestep: 1993\n",
      "blasio - not in vocab of timestep: 1994\n",
      "blasio - not in vocab of timestep: 1995\n",
      "blasio - not in vocab of timestep: 1996\n",
      "blasio - not in vocab of timestep: 1997\n",
      "blasio - not in vocab of timestep: 1998\n",
      "blasio - not in vocab of timestep: 1999\n",
      "blasio - not in vocab of timestep: 2001\n",
      "blasio - not in vocab of timestep: 2005\n",
      "blasio - not in vocab of timestep: 2006\n",
      "All words are contained in the vocabulary\n",
      "bloomberg - not in vocab of timestep: 1990\n",
      "bloomberg - not in vocab of timestep: 1991\n",
      "All words are contained in the vocabulary\n",
      "bloomberg - not in vocab of timestep: 1990\n",
      "bloomberg - not in vocab of timestep: 1991\n",
      "All words are contained in the vocabulary\n",
      "bloomberg - not in vocab of timestep: 1990\n",
      "bloomberg - not in vocab of timestep: 1991\n",
      "All words are contained in the vocabulary\n",
      "bloomberg - not in vocab of timestep: 1990\n",
      "bloomberg - not in vocab of timestep: 1991\n",
      "All words are contained in the vocabulary\n",
      "bloomberg - not in vocab of timestep: 1990\n",
      "bloomberg - not in vocab of timestep: 1991\n",
      "All words are contained in the vocabulary\n",
      "bloomberg - not in vocab of timestep: 1990\n",
      "bloomberg - not in vocab of timestep: 1991\n",
      "All words are contained in the vocabulary\n",
      "bloomberg - not in vocab of timestep: 1990\n",
      "bloomberg - not in vocab of timestep: 1991\n",
      "All words are contained in the vocabulary\n",
      "bloomberg - not in vocab of timestep: 1990\n",
      "bloomberg - not in vocab of timestep: 1991\n",
      "All words are contained in the vocabulary\n",
      "bloomberg - not in vocab of timestep: 1990\n",
      "bloomberg - not in vocab of timestep: 1991\n",
      "All words are contained in the vocabulary\n",
      "bloomberg - not in vocab of timestep: 1990\n",
      "bloomberg - not in vocab of timestep: 1991\n",
      "All words are contained in the vocabulary\n",
      "bloomberg - not in vocab of timestep: 1990\n",
      "bloomberg - not in vocab of timestep: 1991\n",
      "All words are contained in the vocabulary\n",
      "bloomberg - not in vocab of timestep: 1990\n",
      "bloomberg - not in vocab of timestep: 1991\n",
      "All words are contained in the vocabulary\n",
      "All words are contained in the vocabulary\n",
      "All words are contained in the vocabulary\n",
      "All words are contained in the vocabulary\n",
      "All words are contained in the vocabulary\n",
      "All words are contained in the vocabulary\n",
      "All words are contained in the vocabulary\n",
      "All words are contained in the vocabulary\n",
      "All words are contained in the vocabulary\n",
      "All words are contained in the vocabulary\n",
      "All words are contained in the vocabulary\n",
      "All words are contained in the vocabulary\n",
      "All words are contained in the vocabulary\n",
      "All words are contained in the vocabulary\n",
      "All words are contained in the vocabulary\n",
      "All words are contained in the vocabulary\n",
      "All words are contained in the vocabulary\n",
      "All words are contained in the vocabulary\n",
      "All words are contained in the vocabulary\n",
      "All words are contained in the vocabulary\n",
      "All words are contained in the vocabulary\n",
      "All words are contained in the vocabulary\n",
      "All words are contained in the vocabulary\n",
      "All words are contained in the vocabulary\n",
      "All words are contained in the vocabulary\n",
      "All words are contained in the vocabulary\n",
      "All words are contained in the vocabulary\n",
      "All words are contained in the vocabulary\n",
      "All words are contained in the vocabulary\n",
      "All words are contained in the vocabulary\n",
      "All words are contained in the vocabulary\n",
      "All words are contained in the vocabulary\n",
      "All words are contained in the vocabulary\n",
      "All words are contained in the vocabulary\n",
      "All words are contained in the vocabulary\n",
      "All words are contained in the vocabulary\n",
      "All words are contained in the vocabulary\n",
      "cavaliers - not in vocab of timestep: 2006\n",
      "All words are contained in the vocabulary\n",
      "All words are contained in the vocabulary\n",
      "cheney - not in vocab of timestep: 1997\n",
      "cheney - not in vocab of timestep: 1999\n",
      "All words are contained in the vocabulary\n",
      "cheney - not in vocab of timestep: 1997\n",
      "cheney - not in vocab of timestep: 1999\n",
      "All words are contained in the vocabulary\n",
      "cheney - not in vocab of timestep: 1997\n",
      "cheney - not in vocab of timestep: 1999\n",
      "All words are contained in the vocabulary\n",
      "cheney - not in vocab of timestep: 1997\n",
      "cheney - not in vocab of timestep: 1999\n",
      "All words are contained in the vocabulary\n",
      "cheney - not in vocab of timestep: 1997\n",
      "cheney - not in vocab of timestep: 1999\n",
      "All words are contained in the vocabulary\n",
      "cheney - not in vocab of timestep: 1997\n",
      "cheney - not in vocab of timestep: 1999\n",
      "All words are contained in the vocabulary\n",
      "cheney - not in vocab of timestep: 1997\n",
      "cheney - not in vocab of timestep: 1999\n",
      "All words are contained in the vocabulary\n",
      "cheney - not in vocab of timestep: 1997\n",
      "cheney - not in vocab of timestep: 1999\n",
      "All words are contained in the vocabulary\n",
      "chirac - not in vocab of timestep: 1993\n",
      "chirac - not in vocab of timestep: 1994\n",
      "chirac - not in vocab of timestep: 2009\n",
      "chirac - not in vocab of timestep: 2013\n",
      "chirac - not in vocab of timestep: 2016\n",
      "All words are contained in the vocabulary\n",
      "chirac - not in vocab of timestep: 1993\n",
      "chirac - not in vocab of timestep: 1994\n",
      "chirac - not in vocab of timestep: 2009\n",
      "chirac - not in vocab of timestep: 2013\n",
      "chirac - not in vocab of timestep: 2016\n",
      "All words are contained in the vocabulary\n",
      "chirac - not in vocab of timestep: 1993\n",
      "chirac - not in vocab of timestep: 1994\n",
      "chirac - not in vocab of timestep: 2009\n",
      "chirac - not in vocab of timestep: 2013\n",
      "chirac - not in vocab of timestep: 2016\n",
      "All words are contained in the vocabulary\n",
      "chirac - not in vocab of timestep: 1993\n",
      "chirac - not in vocab of timestep: 1994\n",
      "chirac - not in vocab of timestep: 2009\n",
      "chirac - not in vocab of timestep: 2013\n",
      "chirac - not in vocab of timestep: 2016\n",
      "All words are contained in the vocabulary\n",
      "chirac - not in vocab of timestep: 1993\n",
      "chirac - not in vocab of timestep: 1994\n",
      "chirac - not in vocab of timestep: 2009\n",
      "chirac - not in vocab of timestep: 2013\n",
      "chirac - not in vocab of timestep: 2016\n",
      "All words are contained in the vocabulary\n",
      "chirac - not in vocab of timestep: 1993\n",
      "chirac - not in vocab of timestep: 1994\n",
      "chirac - not in vocab of timestep: 2009\n",
      "chirac - not in vocab of timestep: 2013\n",
      "chirac - not in vocab of timestep: 2016\n",
      "All words are contained in the vocabulary\n",
      "chirac - not in vocab of timestep: 1993\n",
      "chirac - not in vocab of timestep: 1994\n",
      "chirac - not in vocab of timestep: 2009\n",
      "chirac - not in vocab of timestep: 2013\n",
      "chirac - not in vocab of timestep: 2016\n",
      "All words are contained in the vocabulary\n",
      "chirac - not in vocab of timestep: 1993\n",
      "chirac - not in vocab of timestep: 1994\n",
      "chirac - not in vocab of timestep: 2009\n",
      "chirac - not in vocab of timestep: 2013\n",
      "chirac - not in vocab of timestep: 2016\n",
      "All words are contained in the vocabulary\n",
      "chirac - not in vocab of timestep: 1993\n",
      "chirac - not in vocab of timestep: 1994\n",
      "chirac - not in vocab of timestep: 2009\n",
      "chirac - not in vocab of timestep: 2013\n",
      "chirac - not in vocab of timestep: 2016\n",
      "All words are contained in the vocabulary\n",
      "chirac - not in vocab of timestep: 1993\n",
      "chirac - not in vocab of timestep: 1994\n",
      "chirac - not in vocab of timestep: 2009\n",
      "chirac - not in vocab of timestep: 2013\n",
      "chirac - not in vocab of timestep: 2016\n",
      "All words are contained in the vocabulary\n",
      "chirac - not in vocab of timestep: 1993\n",
      "chirac - not in vocab of timestep: 1994\n",
      "chirac - not in vocab of timestep: 2009\n",
      "chirac - not in vocab of timestep: 2013\n",
      "chirac - not in vocab of timestep: 2016\n",
      "All words are contained in the vocabulary\n",
      "chirac - not in vocab of timestep: 1993\n",
      "chirac - not in vocab of timestep: 1994\n",
      "chirac - not in vocab of timestep: 2009\n",
      "chirac - not in vocab of timestep: 2013\n",
      "chirac - not in vocab of timestep: 2016\n",
      "All words are contained in the vocabulary\n",
      "cholera - not in vocab of timestep: 2006\n",
      "All words are contained in the vocabulary\n",
      "All words are contained in the vocabulary\n",
      "All words are contained in the vocabulary\n",
      "All words are contained in the vocabulary\n",
      "All words are contained in the vocabulary\n",
      "All words are contained in the vocabulary\n",
      "All words are contained in the vocabulary\n",
      "All words are contained in the vocabulary\n",
      "All words are contained in the vocabulary\n",
      "All words are contained in the vocabulary\n",
      "All words are contained in the vocabulary\n",
      "All words are contained in the vocabulary\n",
      "All words are contained in the vocabulary\n",
      "All words are contained in the vocabulary\n",
      "All words are contained in the vocabulary\n",
      "All words are contained in the vocabulary\n",
      "All words are contained in the vocabulary\n",
      "All words are contained in the vocabulary\n",
      "All words are contained in the vocabulary\n",
      "All words are contained in the vocabulary\n",
      "All words are contained in the vocabulary\n",
      "All words are contained in the vocabulary\n",
      "crowe - not in vocab of timestep: 1996\n",
      "All words are contained in the vocabulary\n",
      "dempsey - not in vocab of timestep: 1993\n",
      "All words are contained in the vocabulary\n",
      "dempsey - not in vocab of timestep: 1993\n",
      "All words are contained in the vocabulary\n",
      "dempsey - not in vocab of timestep: 1993\n",
      "All words are contained in the vocabulary\n",
      "dempsey - not in vocab of timestep: 1993\n",
      "All words are contained in the vocabulary\n",
      "dicaprio - not in vocab of timestep: 1990\n",
      "dicaprio - not in vocab of timestep: 1991\n",
      "dicaprio - not in vocab of timestep: 1992\n",
      "dicaprio - not in vocab of timestep: 1993\n",
      "dicaprio - not in vocab of timestep: 1995\n",
      "dicaprio - not in vocab of timestep: 1996\n",
      "All words are contained in the vocabulary\n",
      "dinkins - not in vocab of timestep: 2006\n",
      "All words are contained in the vocabulary\n",
      "dinkins - not in vocab of timestep: 2006\n",
      "All words are contained in the vocabulary\n",
      "dinkins - not in vocab of timestep: 2006\n",
      "All words are contained in the vocabulary\n",
      "dinkins - not in vocab of timestep: 2006\n",
      "All words are contained in the vocabulary\n",
      "djokovic - not in vocab of timestep: 1990\n",
      "djokovic - not in vocab of timestep: 1991\n",
      "djokovic - not in vocab of timestep: 1992\n",
      "djokovic - not in vocab of timestep: 1993\n",
      "djokovic - not in vocab of timestep: 1994\n",
      "djokovic - not in vocab of timestep: 1995\n",
      "djokovic - not in vocab of timestep: 1996\n",
      "djokovic - not in vocab of timestep: 1997\n",
      "djokovic - not in vocab of timestep: 1998\n",
      "djokovic - not in vocab of timestep: 1999\n",
      "djokovic - not in vocab of timestep: 2000\n",
      "djokovic - not in vocab of timestep: 2001\n",
      "djokovic - not in vocab of timestep: 2002\n",
      "djokovic - not in vocab of timestep: 2003\n",
      "djokovic - not in vocab of timestep: 2004\n",
      "djokovic - not in vocab of timestep: 2005\n",
      "djokovic - not in vocab of timestep: 2006\n",
      "All words are contained in the vocabulary\n",
      "djokovic - not in vocab of timestep: 1990\n",
      "djokovic - not in vocab of timestep: 1991\n",
      "djokovic - not in vocab of timestep: 1992\n",
      "djokovic - not in vocab of timestep: 1993\n",
      "djokovic - not in vocab of timestep: 1994\n",
      "djokovic - not in vocab of timestep: 1995\n",
      "djokovic - not in vocab of timestep: 1996\n",
      "djokovic - not in vocab of timestep: 1997\n",
      "djokovic - not in vocab of timestep: 1998\n",
      "djokovic - not in vocab of timestep: 1999\n",
      "djokovic - not in vocab of timestep: 2000\n",
      "djokovic - not in vocab of timestep: 2001\n",
      "djokovic - not in vocab of timestep: 2002\n",
      "djokovic - not in vocab of timestep: 2003\n",
      "djokovic - not in vocab of timestep: 2004\n",
      "djokovic - not in vocab of timestep: 2005\n",
      "djokovic - not in vocab of timestep: 2006\n",
      "All words are contained in the vocabulary\n",
      "djokovic - not in vocab of timestep: 1990\n",
      "djokovic - not in vocab of timestep: 1991\n",
      "djokovic - not in vocab of timestep: 1992\n",
      "djokovic - not in vocab of timestep: 1993\n",
      "djokovic - not in vocab of timestep: 1994\n",
      "djokovic - not in vocab of timestep: 1995\n",
      "djokovic - not in vocab of timestep: 1996\n",
      "djokovic - not in vocab of timestep: 1997\n",
      "djokovic - not in vocab of timestep: 1998\n",
      "djokovic - not in vocab of timestep: 1999\n",
      "djokovic - not in vocab of timestep: 2000\n",
      "djokovic - not in vocab of timestep: 2001\n",
      "djokovic - not in vocab of timestep: 2002\n",
      "djokovic - not in vocab of timestep: 2003\n",
      "djokovic - not in vocab of timestep: 2004\n",
      "djokovic - not in vocab of timestep: 2005\n",
      "djokovic - not in vocab of timestep: 2006\n",
      "All words are contained in the vocabulary\n",
      "djokovic - not in vocab of timestep: 1990\n",
      "djokovic - not in vocab of timestep: 1991\n",
      "djokovic - not in vocab of timestep: 1992\n",
      "djokovic - not in vocab of timestep: 1993\n",
      "djokovic - not in vocab of timestep: 1994\n",
      "djokovic - not in vocab of timestep: 1995\n",
      "djokovic - not in vocab of timestep: 1996\n",
      "djokovic - not in vocab of timestep: 1997\n",
      "djokovic - not in vocab of timestep: 1998\n",
      "djokovic - not in vocab of timestep: 1999\n",
      "djokovic - not in vocab of timestep: 2000\n",
      "djokovic - not in vocab of timestep: 2001\n",
      "djokovic - not in vocab of timestep: 2002\n",
      "djokovic - not in vocab of timestep: 2003\n",
      "djokovic - not in vocab of timestep: 2004\n",
      "djokovic - not in vocab of timestep: 2005\n",
      "djokovic - not in vocab of timestep: 2006\n",
      "All words are contained in the vocabulary\n",
      "ebola - not in vocab of timestep: 1991\n",
      "ebola - not in vocab of timestep: 1992\n",
      "ebola - not in vocab of timestep: 1993\n",
      "ebola - not in vocab of timestep: 1994\n",
      "ebola - not in vocab of timestep: 1997\n",
      "ebola - not in vocab of timestep: 2000\n",
      "ebola - not in vocab of timestep: 2006\n",
      "ebola - not in vocab of timestep: 2007\n",
      "ebola - not in vocab of timestep: 2011\n",
      "All words are contained in the vocabulary\n",
      "edberg - not in vocab of timestep: 1998\n",
      "edberg - not in vocab of timestep: 2000\n",
      "edberg - not in vocab of timestep: 2001\n",
      "edberg - not in vocab of timestep: 2005\n",
      "edberg - not in vocab of timestep: 2006\n",
      "edberg - not in vocab of timestep: 2008\n",
      "edberg - not in vocab of timestep: 2010\n",
      "edberg - not in vocab of timestep: 2011\n",
      "edberg - not in vocab of timestep: 2012\n",
      "All words are contained in the vocabulary\n",
      "edberg - not in vocab of timestep: 1998\n",
      "edberg - not in vocab of timestep: 2000\n",
      "edberg - not in vocab of timestep: 2001\n",
      "edberg - not in vocab of timestep: 2005\n",
      "edberg - not in vocab of timestep: 2006\n",
      "edberg - not in vocab of timestep: 2008\n",
      "edberg - not in vocab of timestep: 2010\n",
      "edberg - not in vocab of timestep: 2011\n",
      "edberg - not in vocab of timestep: 2012\n",
      "All words are contained in the vocabulary\n",
      "euro - not in vocab of timestep: 1990\n",
      "All words are contained in the vocabulary\n",
      "euro - not in vocab of timestep: 1990\n",
      "All words are contained in the vocabulary\n",
      "euro - not in vocab of timestep: 1990\n",
      "All words are contained in the vocabulary\n",
      "federer - not in vocab of timestep: 1990\n",
      "federer - not in vocab of timestep: 1991\n",
      "federer - not in vocab of timestep: 1992\n",
      "federer - not in vocab of timestep: 1993\n",
      "federer - not in vocab of timestep: 1994\n",
      "federer - not in vocab of timestep: 1995\n",
      "federer - not in vocab of timestep: 1996\n",
      "federer - not in vocab of timestep: 1997\n",
      "All words are contained in the vocabulary\n",
      "federer - not in vocab of timestep: 1990\n",
      "federer - not in vocab of timestep: 1991\n",
      "federer - not in vocab of timestep: 1992\n",
      "federer - not in vocab of timestep: 1993\n",
      "federer - not in vocab of timestep: 1994\n",
      "federer - not in vocab of timestep: 1995\n",
      "federer - not in vocab of timestep: 1996\n",
      "federer - not in vocab of timestep: 1997\n",
      "All words are contained in the vocabulary\n",
      "federer - not in vocab of timestep: 1990\n",
      "federer - not in vocab of timestep: 1991\n",
      "federer - not in vocab of timestep: 1992\n",
      "federer - not in vocab of timestep: 1993\n",
      "federer - not in vocab of timestep: 1994\n",
      "federer - not in vocab of timestep: 1995\n",
      "federer - not in vocab of timestep: 1996\n",
      "federer - not in vocab of timestep: 1997\n",
      "All words are contained in the vocabulary\n",
      "federer - not in vocab of timestep: 1990\n",
      "federer - not in vocab of timestep: 1991\n",
      "federer - not in vocab of timestep: 1992\n",
      "federer - not in vocab of timestep: 1993\n",
      "federer - not in vocab of timestep: 1994\n",
      "federer - not in vocab of timestep: 1995\n",
      "federer - not in vocab of timestep: 1996\n",
      "federer - not in vocab of timestep: 1997\n",
      "All words are contained in the vocabulary\n",
      "federer - not in vocab of timestep: 1990\n",
      "federer - not in vocab of timestep: 1991\n",
      "federer - not in vocab of timestep: 1992\n",
      "federer - not in vocab of timestep: 1993\n",
      "federer - not in vocab of timestep: 1994\n",
      "federer - not in vocab of timestep: 1995\n",
      "federer - not in vocab of timestep: 1996\n",
      "federer - not in vocab of timestep: 1997\n",
      "All words are contained in the vocabulary\n",
      "All words are contained in the vocabulary\n",
      "All words are contained in the vocabulary\n",
      "All words are contained in the vocabulary\n",
      "All words are contained in the vocabulary\n",
      "All words are contained in the vocabulary\n",
      "freeh - not in vocab of timestep: 1990\n",
      "freeh - not in vocab of timestep: 1991\n",
      "freeh - not in vocab of timestep: 1992\n",
      "freeh - not in vocab of timestep: 2003\n",
      "freeh - not in vocab of timestep: 2006\n",
      "freeh - not in vocab of timestep: 2011\n",
      "freeh - not in vocab of timestep: 2016\n",
      "All words are contained in the vocabulary\n",
      "freeh - not in vocab of timestep: 1990\n",
      "freeh - not in vocab of timestep: 1991\n",
      "freeh - not in vocab of timestep: 1992\n",
      "freeh - not in vocab of timestep: 2003\n",
      "freeh - not in vocab of timestep: 2006\n",
      "freeh - not in vocab of timestep: 2011\n",
      "freeh - not in vocab of timestep: 2016\n",
      "All words are contained in the vocabulary\n",
      "freeh - not in vocab of timestep: 1990\n",
      "freeh - not in vocab of timestep: 1991\n",
      "freeh - not in vocab of timestep: 1992\n",
      "freeh - not in vocab of timestep: 2003\n",
      "freeh - not in vocab of timestep: 2006\n",
      "freeh - not in vocab of timestep: 2011\n",
      "freeh - not in vocab of timestep: 2016\n",
      "All words are contained in the vocabulary\n",
      "freeh - not in vocab of timestep: 1990\n",
      "freeh - not in vocab of timestep: 1991\n",
      "freeh - not in vocab of timestep: 1992\n",
      "freeh - not in vocab of timestep: 2003\n",
      "freeh - not in vocab of timestep: 2006\n",
      "freeh - not in vocab of timestep: 2011\n",
      "freeh - not in vocab of timestep: 2016\n",
      "All words are contained in the vocabulary\n",
      "freeh - not in vocab of timestep: 1990\n",
      "freeh - not in vocab of timestep: 1991\n",
      "freeh - not in vocab of timestep: 1992\n",
      "freeh - not in vocab of timestep: 2003\n",
      "freeh - not in vocab of timestep: 2006\n",
      "freeh - not in vocab of timestep: 2011\n",
      "freeh - not in vocab of timestep: 2016\n",
      "All words are contained in the vocabulary\n",
      "freeh - not in vocab of timestep: 1990\n",
      "freeh - not in vocab of timestep: 1991\n",
      "freeh - not in vocab of timestep: 1992\n",
      "freeh - not in vocab of timestep: 2003\n",
      "freeh - not in vocab of timestep: 2006\n",
      "freeh - not in vocab of timestep: 2011\n",
      "freeh - not in vocab of timestep: 2016\n",
      "All words are contained in the vocabulary\n",
      "freeh - not in vocab of timestep: 1990\n",
      "freeh - not in vocab of timestep: 1991\n",
      "freeh - not in vocab of timestep: 1992\n",
      "freeh - not in vocab of timestep: 2003\n",
      "freeh - not in vocab of timestep: 2006\n",
      "freeh - not in vocab of timestep: 2011\n",
      "freeh - not in vocab of timestep: 2016\n",
      "All words are contained in the vocabulary\n",
      "freeh - not in vocab of timestep: 1990\n",
      "freeh - not in vocab of timestep: 1991\n",
      "freeh - not in vocab of timestep: 1992\n",
      "freeh - not in vocab of timestep: 2003\n",
      "freeh - not in vocab of timestep: 2006\n",
      "freeh - not in vocab of timestep: 2011\n",
      "freeh - not in vocab of timestep: 2016\n",
      "All words are contained in the vocabulary\n",
      "All words are contained in the vocabulary\n",
      "All words are contained in the vocabulary\n",
      "All words are contained in the vocabulary\n",
      "All words are contained in the vocabulary\n",
      "All words are contained in the vocabulary\n",
      "All words are contained in the vocabulary\n",
      "All words are contained in the vocabulary\n",
      "All words are contained in the vocabulary\n",
      "All words are contained in the vocabulary\n",
      "All words are contained in the vocabulary\n",
      "All words are contained in the vocabulary\n",
      "All words are contained in the vocabulary\n",
      "All words are contained in the vocabulary\n",
      "All words are contained in the vocabulary\n",
      "All words are contained in the vocabulary\n",
      "All words are contained in the vocabulary\n",
      "All words are contained in the vocabulary\n",
      "All words are contained in the vocabulary\n",
      "All words are contained in the vocabulary\n",
      "All words are contained in the vocabulary\n",
      "All words are contained in the vocabulary\n",
      "All words are contained in the vocabulary\n",
      "All words are contained in the vocabulary\n",
      "All words are contained in the vocabulary\n",
      "All words are contained in the vocabulary\n",
      "All words are contained in the vocabulary\n",
      "All words are contained in the vocabulary\n",
      "All words are contained in the vocabulary\n",
      "All words are contained in the vocabulary\n",
      "All words are contained in the vocabulary\n",
      "All words are contained in the vocabulary\n",
      "All words are contained in the vocabulary\n",
      "All words are contained in the vocabulary\n",
      "All words are contained in the vocabulary\n",
      "All words are contained in the vocabulary\n",
      "All words are contained in the vocabulary\n",
      "All words are contained in the vocabulary\n",
      "All words are contained in the vocabulary\n",
      "All words are contained in the vocabulary\n",
      "All words are contained in the vocabulary\n",
      "All words are contained in the vocabulary\n",
      "All words are contained in the vocabulary\n",
      "All words are contained in the vocabulary\n",
      "All words are contained in the vocabulary\n",
      "All words are contained in the vocabulary\n",
      "hewitt - not in vocab of timestep: 1990\n",
      "All words are contained in the vocabulary\n",
      "hewitt - not in vocab of timestep: 1990\n",
      "All words are contained in the vocabulary\n",
      "All words are contained in the vocabulary\n",
      "hollande - not in vocab of timestep: 1990\n",
      "hollande - not in vocab of timestep: 1991\n",
      "hollande - not in vocab of timestep: 1992\n",
      "hollande - not in vocab of timestep: 1993\n",
      "hollande - not in vocab of timestep: 1994\n",
      "hollande - not in vocab of timestep: 1995\n",
      "hollande - not in vocab of timestep: 1996\n",
      "hollande - not in vocab of timestep: 1997\n",
      "hollande - not in vocab of timestep: 1998\n",
      "hollande - not in vocab of timestep: 1999\n",
      "hollande - not in vocab of timestep: 2000\n",
      "hollande - not in vocab of timestep: 2001\n",
      "hollande - not in vocab of timestep: 2003\n",
      "hollande - not in vocab of timestep: 2004\n",
      "hollande - not in vocab of timestep: 2005\n",
      "hollande - not in vocab of timestep: 2006\n",
      "hollande - not in vocab of timestep: 2007\n",
      "hollande - not in vocab of timestep: 2009\n",
      "All words are contained in the vocabulary\n",
      "hollande - not in vocab of timestep: 1990\n",
      "hollande - not in vocab of timestep: 1991\n",
      "hollande - not in vocab of timestep: 1992\n",
      "hollande - not in vocab of timestep: 1993\n",
      "hollande - not in vocab of timestep: 1994\n",
      "hollande - not in vocab of timestep: 1995\n",
      "hollande - not in vocab of timestep: 1996\n",
      "hollande - not in vocab of timestep: 1997\n",
      "hollande - not in vocab of timestep: 1998\n",
      "hollande - not in vocab of timestep: 1999\n",
      "hollande - not in vocab of timestep: 2000\n",
      "hollande - not in vocab of timestep: 2001\n",
      "hollande - not in vocab of timestep: 2003\n",
      "hollande - not in vocab of timestep: 2004\n",
      "hollande - not in vocab of timestep: 2005\n",
      "hollande - not in vocab of timestep: 2006\n",
      "hollande - not in vocab of timestep: 2007\n",
      "hollande - not in vocab of timestep: 2009\n",
      "All words are contained in the vocabulary\n",
      "hollande - not in vocab of timestep: 1990\n",
      "hollande - not in vocab of timestep: 1991\n",
      "hollande - not in vocab of timestep: 1992\n",
      "hollande - not in vocab of timestep: 1993\n",
      "hollande - not in vocab of timestep: 1994\n",
      "hollande - not in vocab of timestep: 1995\n",
      "hollande - not in vocab of timestep: 1996\n",
      "hollande - not in vocab of timestep: 1997\n",
      "hollande - not in vocab of timestep: 1998\n",
      "hollande - not in vocab of timestep: 1999\n",
      "hollande - not in vocab of timestep: 2000\n",
      "hollande - not in vocab of timestep: 2001\n",
      "hollande - not in vocab of timestep: 2003\n",
      "hollande - not in vocab of timestep: 2004\n",
      "hollande - not in vocab of timestep: 2005\n",
      "hollande - not in vocab of timestep: 2006\n",
      "hollande - not in vocab of timestep: 2007\n",
      "hollande - not in vocab of timestep: 2009\n",
      "All words are contained in the vocabulary\n",
      "hollande - not in vocab of timestep: 1990\n",
      "hollande - not in vocab of timestep: 1991\n",
      "hollande - not in vocab of timestep: 1992\n",
      "hollande - not in vocab of timestep: 1993\n",
      "hollande - not in vocab of timestep: 1994\n",
      "hollande - not in vocab of timestep: 1995\n",
      "hollande - not in vocab of timestep: 1996\n",
      "hollande - not in vocab of timestep: 1997\n",
      "hollande - not in vocab of timestep: 1998\n",
      "hollande - not in vocab of timestep: 1999\n",
      "hollande - not in vocab of timestep: 2000\n",
      "hollande - not in vocab of timestep: 2001\n",
      "hollande - not in vocab of timestep: 2003\n",
      "hollande - not in vocab of timestep: 2004\n",
      "hollande - not in vocab of timestep: 2005\n",
      "hollande - not in vocab of timestep: 2006\n",
      "hollande - not in vocab of timestep: 2007\n",
      "hollande - not in vocab of timestep: 2009\n",
      "All words are contained in the vocabulary\n",
      "hollande - not in vocab of timestep: 1990\n",
      "hollande - not in vocab of timestep: 1991\n",
      "hollande - not in vocab of timestep: 1992\n",
      "hollande - not in vocab of timestep: 1993\n",
      "hollande - not in vocab of timestep: 1994\n",
      "hollande - not in vocab of timestep: 1995\n",
      "hollande - not in vocab of timestep: 1996\n",
      "hollande - not in vocab of timestep: 1997\n",
      "hollande - not in vocab of timestep: 1998\n",
      "hollande - not in vocab of timestep: 1999\n",
      "hollande - not in vocab of timestep: 2000\n",
      "hollande - not in vocab of timestep: 2001\n",
      "hollande - not in vocab of timestep: 2003\n",
      "hollande - not in vocab of timestep: 2004\n",
      "hollande - not in vocab of timestep: 2005\n",
      "hollande - not in vocab of timestep: 2006\n",
      "hollande - not in vocab of timestep: 2007\n",
      "hollande - not in vocab of timestep: 2009\n",
      "All words are contained in the vocabulary\n",
      "All words are contained in the vocabulary\n",
      "All words are contained in the vocabulary\n",
      "All words are contained in the vocabulary\n",
      "ike - not in vocab of timestep: 2006\n",
      "All words are contained in the vocabulary\n",
      "katrina - not in vocab of timestep: 1990\n",
      "katrina - not in vocab of timestep: 1991\n",
      "katrina - not in vocab of timestep: 1994\n",
      "katrina - not in vocab of timestep: 1998\n",
      "katrina - not in vocab of timestep: 2001\n",
      "All words are contained in the vocabulary\n",
      "All words are contained in the vocabulary\n",
      "All words are contained in the vocabulary\n",
      "All words are contained in the vocabulary\n",
      "All words are contained in the vocabulary\n",
      "kidman - not in vocab of timestep: 1990\n",
      "kidman - not in vocab of timestep: 1991\n",
      "kidman - not in vocab of timestep: 1992\n",
      "kidman - not in vocab of timestep: 1993\n",
      "kidman - not in vocab of timestep: 1994\n",
      "kidman - not in vocab of timestep: 1996\n",
      "All words are contained in the vocabulary\n",
      "All words are contained in the vocabulary\n",
      "kohl - not in vocab of timestep: 2006\n",
      "kohl - not in vocab of timestep: 2011\n",
      "kohl - not in vocab of timestep: 2012\n",
      "kohl - not in vocab of timestep: 2016\n",
      "All words are contained in the vocabulary\n",
      "kohl - not in vocab of timestep: 2006\n",
      "kohl - not in vocab of timestep: 2011\n",
      "kohl - not in vocab of timestep: 2012\n",
      "kohl - not in vocab of timestep: 2016\n",
      "All words are contained in the vocabulary\n",
      "kohl - not in vocab of timestep: 2006\n",
      "kohl - not in vocab of timestep: 2011\n",
      "kohl - not in vocab of timestep: 2012\n",
      "kohl - not in vocab of timestep: 2016\n",
      "All words are contained in the vocabulary\n",
      "kohl - not in vocab of timestep: 2006\n",
      "kohl - not in vocab of timestep: 2011\n",
      "kohl - not in vocab of timestep: 2012\n",
      "kohl - not in vocab of timestep: 2016\n",
      "All words are contained in the vocabulary\n",
      "kohl - not in vocab of timestep: 2006\n",
      "kohl - not in vocab of timestep: 2011\n",
      "kohl - not in vocab of timestep: 2012\n",
      "kohl - not in vocab of timestep: 2016\n",
      "All words are contained in the vocabulary\n",
      "kohl - not in vocab of timestep: 2006\n",
      "kohl - not in vocab of timestep: 2011\n",
      "kohl - not in vocab of timestep: 2012\n",
      "kohl - not in vocab of timestep: 2016\n",
      "All words are contained in the vocabulary\n",
      "kohl - not in vocab of timestep: 2006\n",
      "kohl - not in vocab of timestep: 2011\n",
      "kohl - not in vocab of timestep: 2012\n",
      "kohl - not in vocab of timestep: 2016\n",
      "All words are contained in the vocabulary\n",
      "kohl - not in vocab of timestep: 2006\n",
      "kohl - not in vocab of timestep: 2011\n",
      "kohl - not in vocab of timestep: 2012\n",
      "kohl - not in vocab of timestep: 2016\n",
      "All words are contained in the vocabulary\n",
      "All words are contained in the vocabulary\n",
      "All words are contained in the vocabulary\n",
      "All words are contained in the vocabulary\n",
      "All words are contained in the vocabulary\n",
      "All words are contained in the vocabulary\n",
      "All words are contained in the vocabulary\n",
      "larson - not in vocab of timestep: 1997\n",
      "larson - not in vocab of timestep: 1998\n",
      "All words are contained in the vocabulary\n",
      "All words are contained in the vocabulary\n",
      "likud - not in vocab of timestep: 2006\n",
      "likud - not in vocab of timestep: 2008\n",
      "likud - not in vocab of timestep: 2016\n",
      "All words are contained in the vocabulary\n",
      "likud - not in vocab of timestep: 2006\n",
      "likud - not in vocab of timestep: 2008\n",
      "likud - not in vocab of timestep: 2016\n",
      "All words are contained in the vocabulary\n",
      "All words are contained in the vocabulary\n",
      "All words are contained in the vocabulary\n",
      "All words are contained in the vocabulary\n",
      "All words are contained in the vocabulary\n",
      "All words are contained in the vocabulary\n",
      "All words are contained in the vocabulary\n",
      "All words are contained in the vocabulary\n",
      "All words are contained in the vocabulary\n",
      "All words are contained in the vocabulary\n",
      "All words are contained in the vocabulary\n",
      "All words are contained in the vocabulary\n",
      "All words are contained in the vocabulary\n",
      "medvedev - not in vocab of timestep: 1998\n",
      "medvedev - not in vocab of timestep: 2001\n",
      "medvedev - not in vocab of timestep: 2002\n",
      "medvedev - not in vocab of timestep: 2003\n",
      "medvedev - not in vocab of timestep: 2004\n",
      "medvedev - not in vocab of timestep: 2005\n",
      "medvedev - not in vocab of timestep: 2006\n",
      "All words are contained in the vocabulary\n",
      "medvedev - not in vocab of timestep: 1998\n",
      "medvedev - not in vocab of timestep: 2001\n",
      "medvedev - not in vocab of timestep: 2002\n",
      "medvedev - not in vocab of timestep: 2003\n",
      "medvedev - not in vocab of timestep: 2004\n",
      "medvedev - not in vocab of timestep: 2005\n",
      "medvedev - not in vocab of timestep: 2006\n",
      "All words are contained in the vocabulary\n",
      "medvedev - not in vocab of timestep: 1998\n",
      "medvedev - not in vocab of timestep: 2001\n",
      "medvedev - not in vocab of timestep: 2002\n",
      "medvedev - not in vocab of timestep: 2003\n",
      "medvedev - not in vocab of timestep: 2004\n",
      "medvedev - not in vocab of timestep: 2005\n",
      "medvedev - not in vocab of timestep: 2006\n",
      "All words are contained in the vocabulary\n",
      "medvedev - not in vocab of timestep: 1998\n",
      "medvedev - not in vocab of timestep: 2001\n",
      "medvedev - not in vocab of timestep: 2002\n",
      "medvedev - not in vocab of timestep: 2003\n",
      "medvedev - not in vocab of timestep: 2004\n",
      "medvedev - not in vocab of timestep: 2005\n",
      "medvedev - not in vocab of timestep: 2006\n",
      "All words are contained in the vocabulary\n",
      "merkel - not in vocab of timestep: 1990\n",
      "merkel - not in vocab of timestep: 1991\n",
      "merkel - not in vocab of timestep: 1992\n",
      "merkel - not in vocab of timestep: 1993\n",
      "merkel - not in vocab of timestep: 1994\n",
      "merkel - not in vocab of timestep: 1995\n",
      "merkel - not in vocab of timestep: 1996\n",
      "merkel - not in vocab of timestep: 1997\n",
      "merkel - not in vocab of timestep: 1998\n",
      "merkel - not in vocab of timestep: 1999\n",
      "merkel - not in vocab of timestep: 2000\n",
      "merkel - not in vocab of timestep: 2002\n",
      "merkel - not in vocab of timestep: 2006\n",
      "All words are contained in the vocabulary\n",
      "merkel - not in vocab of timestep: 1990\n",
      "merkel - not in vocab of timestep: 1991\n",
      "merkel - not in vocab of timestep: 1992\n",
      "merkel - not in vocab of timestep: 1993\n",
      "merkel - not in vocab of timestep: 1994\n",
      "merkel - not in vocab of timestep: 1995\n",
      "merkel - not in vocab of timestep: 1996\n",
      "merkel - not in vocab of timestep: 1997\n",
      "merkel - not in vocab of timestep: 1998\n",
      "merkel - not in vocab of timestep: 1999\n",
      "merkel - not in vocab of timestep: 2000\n",
      "merkel - not in vocab of timestep: 2002\n",
      "merkel - not in vocab of timestep: 2006\n",
      "All words are contained in the vocabulary\n",
      "merkel - not in vocab of timestep: 1990\n",
      "merkel - not in vocab of timestep: 1991\n",
      "merkel - not in vocab of timestep: 1992\n",
      "merkel - not in vocab of timestep: 1993\n",
      "merkel - not in vocab of timestep: 1994\n",
      "merkel - not in vocab of timestep: 1995\n",
      "merkel - not in vocab of timestep: 1996\n",
      "merkel - not in vocab of timestep: 1997\n",
      "merkel - not in vocab of timestep: 1998\n",
      "merkel - not in vocab of timestep: 1999\n",
      "merkel - not in vocab of timestep: 2000\n",
      "merkel - not in vocab of timestep: 2002\n",
      "merkel - not in vocab of timestep: 2006\n",
      "All words are contained in the vocabulary\n",
      "merkel - not in vocab of timestep: 1990\n",
      "merkel - not in vocab of timestep: 1991\n",
      "merkel - not in vocab of timestep: 1992\n",
      "merkel - not in vocab of timestep: 1993\n",
      "merkel - not in vocab of timestep: 1994\n",
      "merkel - not in vocab of timestep: 1995\n",
      "merkel - not in vocab of timestep: 1996\n",
      "merkel - not in vocab of timestep: 1997\n",
      "merkel - not in vocab of timestep: 1998\n",
      "merkel - not in vocab of timestep: 1999\n",
      "merkel - not in vocab of timestep: 2000\n",
      "merkel - not in vocab of timestep: 2002\n",
      "merkel - not in vocab of timestep: 2006\n",
      "All words are contained in the vocabulary\n",
      "merkel - not in vocab of timestep: 1990\n",
      "merkel - not in vocab of timestep: 1991\n",
      "merkel - not in vocab of timestep: 1992\n",
      "merkel - not in vocab of timestep: 1993\n",
      "merkel - not in vocab of timestep: 1994\n",
      "merkel - not in vocab of timestep: 1995\n",
      "merkel - not in vocab of timestep: 1996\n",
      "merkel - not in vocab of timestep: 1997\n",
      "merkel - not in vocab of timestep: 1998\n",
      "merkel - not in vocab of timestep: 1999\n",
      "merkel - not in vocab of timestep: 2000\n",
      "merkel - not in vocab of timestep: 2002\n",
      "merkel - not in vocab of timestep: 2006\n",
      "All words are contained in the vocabulary\n",
      "merkel - not in vocab of timestep: 1990\n",
      "merkel - not in vocab of timestep: 1991\n",
      "merkel - not in vocab of timestep: 1992\n",
      "merkel - not in vocab of timestep: 1993\n",
      "merkel - not in vocab of timestep: 1994\n",
      "merkel - not in vocab of timestep: 1995\n",
      "merkel - not in vocab of timestep: 1996\n",
      "merkel - not in vocab of timestep: 1997\n",
      "merkel - not in vocab of timestep: 1998\n",
      "merkel - not in vocab of timestep: 1999\n",
      "merkel - not in vocab of timestep: 2000\n",
      "merkel - not in vocab of timestep: 2002\n",
      "merkel - not in vocab of timestep: 2006\n",
      "All words are contained in the vocabulary\n",
      "merkel - not in vocab of timestep: 1990\n",
      "merkel - not in vocab of timestep: 1991\n",
      "merkel - not in vocab of timestep: 1992\n",
      "merkel - not in vocab of timestep: 1993\n",
      "merkel - not in vocab of timestep: 1994\n",
      "merkel - not in vocab of timestep: 1995\n",
      "merkel - not in vocab of timestep: 1996\n",
      "merkel - not in vocab of timestep: 1997\n",
      "merkel - not in vocab of timestep: 1998\n",
      "merkel - not in vocab of timestep: 1999\n",
      "merkel - not in vocab of timestep: 2000\n",
      "merkel - not in vocab of timestep: 2002\n",
      "merkel - not in vocab of timestep: 2006\n",
      "All words are contained in the vocabulary\n",
      "merkel - not in vocab of timestep: 1990\n",
      "merkel - not in vocab of timestep: 1991\n",
      "merkel - not in vocab of timestep: 1992\n",
      "merkel - not in vocab of timestep: 1993\n",
      "merkel - not in vocab of timestep: 1994\n",
      "merkel - not in vocab of timestep: 1995\n",
      "merkel - not in vocab of timestep: 1996\n",
      "merkel - not in vocab of timestep: 1997\n",
      "merkel - not in vocab of timestep: 1998\n",
      "merkel - not in vocab of timestep: 1999\n",
      "merkel - not in vocab of timestep: 2000\n",
      "merkel - not in vocab of timestep: 2002\n",
      "merkel - not in vocab of timestep: 2006\n",
      "All words are contained in the vocabulary\n",
      "merkel - not in vocab of timestep: 1990\n",
      "merkel - not in vocab of timestep: 1991\n",
      "merkel - not in vocab of timestep: 1992\n",
      "merkel - not in vocab of timestep: 1993\n",
      "merkel - not in vocab of timestep: 1994\n",
      "merkel - not in vocab of timestep: 1995\n",
      "merkel - not in vocab of timestep: 1996\n",
      "merkel - not in vocab of timestep: 1997\n",
      "merkel - not in vocab of timestep: 1998\n",
      "merkel - not in vocab of timestep: 1999\n",
      "merkel - not in vocab of timestep: 2000\n",
      "merkel - not in vocab of timestep: 2002\n",
      "merkel - not in vocab of timestep: 2006\n",
      "All words are contained in the vocabulary\n",
      "merkel - not in vocab of timestep: 1990\n",
      "merkel - not in vocab of timestep: 1991\n",
      "merkel - not in vocab of timestep: 1992\n",
      "merkel - not in vocab of timestep: 1993\n",
      "merkel - not in vocab of timestep: 1994\n",
      "merkel - not in vocab of timestep: 1995\n",
      "merkel - not in vocab of timestep: 1996\n",
      "merkel - not in vocab of timestep: 1997\n",
      "merkel - not in vocab of timestep: 1998\n",
      "merkel - not in vocab of timestep: 1999\n",
      "merkel - not in vocab of timestep: 2000\n",
      "merkel - not in vocab of timestep: 2002\n",
      "merkel - not in vocab of timestep: 2006\n",
      "All words are contained in the vocabulary\n",
      "merkel - not in vocab of timestep: 1990\n",
      "merkel - not in vocab of timestep: 1991\n",
      "merkel - not in vocab of timestep: 1992\n",
      "merkel - not in vocab of timestep: 1993\n",
      "merkel - not in vocab of timestep: 1994\n",
      "merkel - not in vocab of timestep: 1995\n",
      "merkel - not in vocab of timestep: 1996\n",
      "merkel - not in vocab of timestep: 1997\n",
      "merkel - not in vocab of timestep: 1998\n",
      "merkel - not in vocab of timestep: 1999\n",
      "merkel - not in vocab of timestep: 2000\n",
      "merkel - not in vocab of timestep: 2002\n",
      "merkel - not in vocab of timestep: 2006\n",
      "All words are contained in the vocabulary\n",
      "mitterrand - not in vocab of timestep: 2000\n",
      "mitterrand - not in vocab of timestep: 2004\n",
      "mitterrand - not in vocab of timestep: 2006\n",
      "mitterrand - not in vocab of timestep: 2016\n",
      "All words are contained in the vocabulary\n",
      "mitterrand - not in vocab of timestep: 2000\n",
      "mitterrand - not in vocab of timestep: 2004\n",
      "mitterrand - not in vocab of timestep: 2006\n",
      "mitterrand - not in vocab of timestep: 2016\n",
      "All words are contained in the vocabulary\n",
      "mitterrand - not in vocab of timestep: 2000\n",
      "mitterrand - not in vocab of timestep: 2004\n",
      "mitterrand - not in vocab of timestep: 2006\n",
      "mitterrand - not in vocab of timestep: 2016\n",
      "All words are contained in the vocabulary\n",
      "mitterrand - not in vocab of timestep: 2000\n",
      "mitterrand - not in vocab of timestep: 2004\n",
      "mitterrand - not in vocab of timestep: 2006\n",
      "mitterrand - not in vocab of timestep: 2016\n",
      "All words are contained in the vocabulary\n",
      "mitterrand - not in vocab of timestep: 2000\n",
      "mitterrand - not in vocab of timestep: 2004\n",
      "mitterrand - not in vocab of timestep: 2006\n",
      "mitterrand - not in vocab of timestep: 2016\n",
      "All words are contained in the vocabulary\n",
      "modi - not in vocab of timestep: 1990\n",
      "modi - not in vocab of timestep: 1991\n",
      "modi - not in vocab of timestep: 1992\n",
      "modi - not in vocab of timestep: 1993\n",
      "modi - not in vocab of timestep: 1994\n",
      "modi - not in vocab of timestep: 1995\n",
      "modi - not in vocab of timestep: 1996\n",
      "modi - not in vocab of timestep: 1997\n",
      "modi - not in vocab of timestep: 1998\n",
      "modi - not in vocab of timestep: 1999\n",
      "modi - not in vocab of timestep: 2000\n",
      "modi - not in vocab of timestep: 2001\n",
      "modi - not in vocab of timestep: 2003\n",
      "modi - not in vocab of timestep: 2004\n",
      "modi - not in vocab of timestep: 2005\n",
      "modi - not in vocab of timestep: 2006\n",
      "modi - not in vocab of timestep: 2007\n",
      "modi - not in vocab of timestep: 2008\n",
      "modi - not in vocab of timestep: 2010\n",
      "modi - not in vocab of timestep: 2011\n",
      "All words are contained in the vocabulary\n",
      "modi - not in vocab of timestep: 1990\n",
      "modi - not in vocab of timestep: 1991\n",
      "modi - not in vocab of timestep: 1992\n",
      "modi - not in vocab of timestep: 1993\n",
      "modi - not in vocab of timestep: 1994\n",
      "modi - not in vocab of timestep: 1995\n",
      "modi - not in vocab of timestep: 1996\n",
      "modi - not in vocab of timestep: 1997\n",
      "modi - not in vocab of timestep: 1998\n",
      "modi - not in vocab of timestep: 1999\n",
      "modi - not in vocab of timestep: 2000\n",
      "modi - not in vocab of timestep: 2001\n",
      "modi - not in vocab of timestep: 2003\n",
      "modi - not in vocab of timestep: 2004\n",
      "modi - not in vocab of timestep: 2005\n",
      "modi - not in vocab of timestep: 2006\n",
      "modi - not in vocab of timestep: 2007\n",
      "modi - not in vocab of timestep: 2008\n",
      "modi - not in vocab of timestep: 2010\n",
      "modi - not in vocab of timestep: 2011\n",
      "All words are contained in the vocabulary\n",
      "modi - not in vocab of timestep: 1990\n",
      "modi - not in vocab of timestep: 1991\n",
      "modi - not in vocab of timestep: 1992\n",
      "modi - not in vocab of timestep: 1993\n",
      "modi - not in vocab of timestep: 1994\n",
      "modi - not in vocab of timestep: 1995\n",
      "modi - not in vocab of timestep: 1996\n",
      "modi - not in vocab of timestep: 1997\n",
      "modi - not in vocab of timestep: 1998\n",
      "modi - not in vocab of timestep: 1999\n",
      "modi - not in vocab of timestep: 2000\n",
      "modi - not in vocab of timestep: 2001\n",
      "modi - not in vocab of timestep: 2003\n",
      "modi - not in vocab of timestep: 2004\n",
      "modi - not in vocab of timestep: 2005\n",
      "modi - not in vocab of timestep: 2006\n",
      "modi - not in vocab of timestep: 2007\n",
      "modi - not in vocab of timestep: 2008\n",
      "modi - not in vocab of timestep: 2010\n",
      "modi - not in vocab of timestep: 2011\n",
      "All words are contained in the vocabulary\n",
      "All words are contained in the vocabulary\n",
      "mueller - not in vocab of timestep: 1990\n",
      "mueller - not in vocab of timestep: 2006\n",
      "All words are contained in the vocabulary\n",
      "mueller - not in vocab of timestep: 1990\n",
      "mueller - not in vocab of timestep: 2006\n",
      "All words are contained in the vocabulary\n",
      "mueller - not in vocab of timestep: 1990\n",
      "mueller - not in vocab of timestep: 2006\n",
      "All words are contained in the vocabulary\n",
      "mueller - not in vocab of timestep: 1990\n",
      "mueller - not in vocab of timestep: 2006\n",
      "All words are contained in the vocabulary\n",
      "mueller - not in vocab of timestep: 1990\n",
      "mueller - not in vocab of timestep: 2006\n",
      "All words are contained in the vocabulary\n",
      "mueller - not in vocab of timestep: 1990\n",
      "mueller - not in vocab of timestep: 2006\n",
      "All words are contained in the vocabulary\n",
      "mueller - not in vocab of timestep: 1990\n",
      "mueller - not in vocab of timestep: 2006\n",
      "All words are contained in the vocabulary\n",
      "mueller - not in vocab of timestep: 1990\n",
      "mueller - not in vocab of timestep: 2006\n",
      "All words are contained in the vocabulary\n",
      "mueller - not in vocab of timestep: 1990\n",
      "mueller - not in vocab of timestep: 2006\n",
      "All words are contained in the vocabulary\n",
      "mueller - not in vocab of timestep: 1990\n",
      "mueller - not in vocab of timestep: 2006\n",
      "All words are contained in the vocabulary\n",
      "mueller - not in vocab of timestep: 1990\n",
      "mueller - not in vocab of timestep: 2006\n",
      "All words are contained in the vocabulary\n",
      "mullen - not in vocab of timestep: 1994\n",
      "mullen - not in vocab of timestep: 2001\n",
      "All words are contained in the vocabulary\n",
      "mullen - not in vocab of timestep: 1994\n",
      "mullen - not in vocab of timestep: 2001\n",
      "All words are contained in the vocabulary\n",
      "mullen - not in vocab of timestep: 1994\n",
      "mullen - not in vocab of timestep: 2001\n",
      "All words are contained in the vocabulary\n",
      "mullen - not in vocab of timestep: 1994\n",
      "mullen - not in vocab of timestep: 2001\n",
      "All words are contained in the vocabulary\n",
      "All words are contained in the vocabulary\n",
      "All words are contained in the vocabulary\n",
      "All words are contained in the vocabulary\n",
      "All words are contained in the vocabulary\n",
      "All words are contained in the vocabulary\n",
      "nadal - not in vocab of timestep: 1990\n",
      "nadal - not in vocab of timestep: 1991\n",
      "nadal - not in vocab of timestep: 1992\n",
      "nadal - not in vocab of timestep: 1995\n",
      "nadal - not in vocab of timestep: 1996\n",
      "nadal - not in vocab of timestep: 1997\n",
      "nadal - not in vocab of timestep: 1998\n",
      "nadal - not in vocab of timestep: 2000\n",
      "nadal - not in vocab of timestep: 2001\n",
      "nadal - not in vocab of timestep: 2002\n",
      "nadal - not in vocab of timestep: 2003\n",
      "All words are contained in the vocabulary\n",
      "nadal - not in vocab of timestep: 1990\n",
      "nadal - not in vocab of timestep: 1991\n",
      "nadal - not in vocab of timestep: 1992\n",
      "nadal - not in vocab of timestep: 1995\n",
      "nadal - not in vocab of timestep: 1996\n",
      "nadal - not in vocab of timestep: 1997\n",
      "nadal - not in vocab of timestep: 1998\n",
      "nadal - not in vocab of timestep: 2000\n",
      "nadal - not in vocab of timestep: 2001\n",
      "nadal - not in vocab of timestep: 2002\n",
      "nadal - not in vocab of timestep: 2003\n",
      "All words are contained in the vocabulary\n",
      "nadal - not in vocab of timestep: 1990\n",
      "nadal - not in vocab of timestep: 1991\n",
      "nadal - not in vocab of timestep: 1992\n",
      "nadal - not in vocab of timestep: 1995\n",
      "nadal - not in vocab of timestep: 1996\n",
      "nadal - not in vocab of timestep: 1997\n",
      "nadal - not in vocab of timestep: 1998\n",
      "nadal - not in vocab of timestep: 2000\n",
      "nadal - not in vocab of timestep: 2001\n",
      "nadal - not in vocab of timestep: 2002\n",
      "nadal - not in vocab of timestep: 2003\n",
      "All words are contained in the vocabulary\n",
      "netanyahu - not in vocab of timestep: 1990\n",
      "netanyahu - not in vocab of timestep: 2001\n",
      "netanyahu - not in vocab of timestep: 2006\n",
      "netanyahu - not in vocab of timestep: 2008\n",
      "All words are contained in the vocabulary\n",
      "netanyahu - not in vocab of timestep: 1990\n",
      "netanyahu - not in vocab of timestep: 2001\n",
      "netanyahu - not in vocab of timestep: 2006\n",
      "netanyahu - not in vocab of timestep: 2008\n",
      "All words are contained in the vocabulary\n",
      "netanyahu - not in vocab of timestep: 1990\n",
      "netanyahu - not in vocab of timestep: 2001\n",
      "netanyahu - not in vocab of timestep: 2006\n",
      "netanyahu - not in vocab of timestep: 2008\n",
      "All words are contained in the vocabulary\n",
      "netanyahu - not in vocab of timestep: 1990\n",
      "netanyahu - not in vocab of timestep: 2001\n",
      "netanyahu - not in vocab of timestep: 2006\n",
      "netanyahu - not in vocab of timestep: 2008\n",
      "All words are contained in the vocabulary\n",
      "netanyahu - not in vocab of timestep: 1990\n",
      "netanyahu - not in vocab of timestep: 2001\n",
      "netanyahu - not in vocab of timestep: 2006\n",
      "netanyahu - not in vocab of timestep: 2008\n",
      "All words are contained in the vocabulary\n",
      "netanyahu - not in vocab of timestep: 1990\n",
      "netanyahu - not in vocab of timestep: 2001\n",
      "netanyahu - not in vocab of timestep: 2006\n",
      "netanyahu - not in vocab of timestep: 2008\n",
      "All words are contained in the vocabulary\n",
      "netanyahu - not in vocab of timestep: 1990\n",
      "netanyahu - not in vocab of timestep: 2001\n",
      "netanyahu - not in vocab of timestep: 2006\n",
      "netanyahu - not in vocab of timestep: 2008\n",
      "All words are contained in the vocabulary\n",
      "netanyahu - not in vocab of timestep: 1990\n",
      "netanyahu - not in vocab of timestep: 2001\n",
      "netanyahu - not in vocab of timestep: 2006\n",
      "netanyahu - not in vocab of timestep: 2008\n",
      "All words are contained in the vocabulary\n",
      "netanyahu - not in vocab of timestep: 1990\n",
      "netanyahu - not in vocab of timestep: 2001\n",
      "netanyahu - not in vocab of timestep: 2006\n",
      "netanyahu - not in vocab of timestep: 2008\n",
      "All words are contained in the vocabulary\n",
      "netanyahu - not in vocab of timestep: 1990\n",
      "netanyahu - not in vocab of timestep: 2001\n",
      "netanyahu - not in vocab of timestep: 2006\n",
      "netanyahu - not in vocab of timestep: 2008\n",
      "All words are contained in the vocabulary\n",
      "netanyahu - not in vocab of timestep: 1990\n",
      "netanyahu - not in vocab of timestep: 2001\n",
      "netanyahu - not in vocab of timestep: 2006\n",
      "netanyahu - not in vocab of timestep: 2008\n",
      "All words are contained in the vocabulary\n",
      "All words are contained in the vocabulary\n",
      "obama - not in vocab of timestep: 1991\n",
      "obama - not in vocab of timestep: 1992\n",
      "obama - not in vocab of timestep: 1993\n",
      "obama - not in vocab of timestep: 1994\n",
      "obama - not in vocab of timestep: 1995\n",
      "obama - not in vocab of timestep: 1996\n",
      "obama - not in vocab of timestep: 1997\n",
      "obama - not in vocab of timestep: 1998\n",
      "obama - not in vocab of timestep: 1999\n",
      "obama - not in vocab of timestep: 2000\n",
      "obama - not in vocab of timestep: 2001\n",
      "obama - not in vocab of timestep: 2002\n",
      "obama - not in vocab of timestep: 2003\n",
      "All words are contained in the vocabulary\n",
      "obama - not in vocab of timestep: 1991\n",
      "obama - not in vocab of timestep: 1992\n",
      "obama - not in vocab of timestep: 1993\n",
      "obama - not in vocab of timestep: 1994\n",
      "obama - not in vocab of timestep: 1995\n",
      "obama - not in vocab of timestep: 1996\n",
      "obama - not in vocab of timestep: 1997\n",
      "obama - not in vocab of timestep: 1998\n",
      "obama - not in vocab of timestep: 1999\n",
      "obama - not in vocab of timestep: 2000\n",
      "obama - not in vocab of timestep: 2001\n",
      "obama - not in vocab of timestep: 2002\n",
      "obama - not in vocab of timestep: 2003\n",
      "All words are contained in the vocabulary\n",
      "obama - not in vocab of timestep: 1991\n",
      "obama - not in vocab of timestep: 1992\n",
      "obama - not in vocab of timestep: 1993\n",
      "obama - not in vocab of timestep: 1994\n",
      "obama - not in vocab of timestep: 1995\n",
      "obama - not in vocab of timestep: 1996\n",
      "obama - not in vocab of timestep: 1997\n",
      "obama - not in vocab of timestep: 1998\n",
      "obama - not in vocab of timestep: 1999\n",
      "obama - not in vocab of timestep: 2000\n",
      "obama - not in vocab of timestep: 2001\n",
      "obama - not in vocab of timestep: 2002\n",
      "obama - not in vocab of timestep: 2003\n",
      "All words are contained in the vocabulary\n",
      "obama - not in vocab of timestep: 1991\n",
      "obama - not in vocab of timestep: 1992\n",
      "obama - not in vocab of timestep: 1993\n",
      "obama - not in vocab of timestep: 1994\n",
      "obama - not in vocab of timestep: 1995\n",
      "obama - not in vocab of timestep: 1996\n",
      "obama - not in vocab of timestep: 1997\n",
      "obama - not in vocab of timestep: 1998\n",
      "obama - not in vocab of timestep: 1999\n",
      "obama - not in vocab of timestep: 2000\n",
      "obama - not in vocab of timestep: 2001\n",
      "obama - not in vocab of timestep: 2002\n",
      "obama - not in vocab of timestep: 2003\n",
      "All words are contained in the vocabulary\n",
      "obama - not in vocab of timestep: 1991\n",
      "obama - not in vocab of timestep: 1992\n",
      "obama - not in vocab of timestep: 1993\n",
      "obama - not in vocab of timestep: 1994\n",
      "obama - not in vocab of timestep: 1995\n",
      "obama - not in vocab of timestep: 1996\n",
      "obama - not in vocab of timestep: 1997\n",
      "obama - not in vocab of timestep: 1998\n",
      "obama - not in vocab of timestep: 1999\n",
      "obama - not in vocab of timestep: 2000\n",
      "obama - not in vocab of timestep: 2001\n",
      "obama - not in vocab of timestep: 2002\n",
      "obama - not in vocab of timestep: 2003\n",
      "All words are contained in the vocabulary\n",
      "obama - not in vocab of timestep: 1991\n",
      "obama - not in vocab of timestep: 1992\n",
      "obama - not in vocab of timestep: 1993\n",
      "obama - not in vocab of timestep: 1994\n",
      "obama - not in vocab of timestep: 1995\n",
      "obama - not in vocab of timestep: 1996\n",
      "obama - not in vocab of timestep: 1997\n",
      "obama - not in vocab of timestep: 1998\n",
      "obama - not in vocab of timestep: 1999\n",
      "obama - not in vocab of timestep: 2000\n",
      "obama - not in vocab of timestep: 2001\n",
      "obama - not in vocab of timestep: 2002\n",
      "obama - not in vocab of timestep: 2003\n",
      "All words are contained in the vocabulary\n",
      "obama - not in vocab of timestep: 1991\n",
      "obama - not in vocab of timestep: 1992\n",
      "obama - not in vocab of timestep: 1993\n",
      "obama - not in vocab of timestep: 1994\n",
      "obama - not in vocab of timestep: 1995\n",
      "obama - not in vocab of timestep: 1996\n",
      "obama - not in vocab of timestep: 1997\n",
      "obama - not in vocab of timestep: 1998\n",
      "obama - not in vocab of timestep: 1999\n",
      "obama - not in vocab of timestep: 2000\n",
      "obama - not in vocab of timestep: 2001\n",
      "obama - not in vocab of timestep: 2002\n",
      "obama - not in vocab of timestep: 2003\n",
      "All words are contained in the vocabulary\n",
      "obama - not in vocab of timestep: 1991\n",
      "obama - not in vocab of timestep: 1992\n",
      "obama - not in vocab of timestep: 1993\n",
      "obama - not in vocab of timestep: 1994\n",
      "obama - not in vocab of timestep: 1995\n",
      "obama - not in vocab of timestep: 1996\n",
      "obama - not in vocab of timestep: 1997\n",
      "obama - not in vocab of timestep: 1998\n",
      "obama - not in vocab of timestep: 1999\n",
      "obama - not in vocab of timestep: 2000\n",
      "obama - not in vocab of timestep: 2001\n",
      "obama - not in vocab of timestep: 2002\n",
      "obama - not in vocab of timestep: 2003\n",
      "All words are contained in the vocabulary\n",
      "obama - not in vocab of timestep: 1991\n",
      "obama - not in vocab of timestep: 1992\n",
      "obama - not in vocab of timestep: 1993\n",
      "obama - not in vocab of timestep: 1994\n",
      "obama - not in vocab of timestep: 1995\n",
      "obama - not in vocab of timestep: 1996\n",
      "obama - not in vocab of timestep: 1997\n",
      "obama - not in vocab of timestep: 1998\n",
      "obama - not in vocab of timestep: 1999\n",
      "obama - not in vocab of timestep: 2000\n",
      "obama - not in vocab of timestep: 2001\n",
      "obama - not in vocab of timestep: 2002\n",
      "obama - not in vocab of timestep: 2003\n",
      "All words are contained in the vocabulary\n",
      "All words are contained in the vocabulary\n",
      "All words are contained in the vocabulary\n",
      "All words are contained in the vocabulary\n",
      "panetta - not in vocab of timestep: 1991\n",
      "panetta - not in vocab of timestep: 2000\n",
      "panetta - not in vocab of timestep: 2006\n",
      "panetta - not in vocab of timestep: 2007\n",
      "panetta - not in vocab of timestep: 2008\n",
      "panetta - not in vocab of timestep: 2015\n",
      "All words are contained in the vocabulary\n",
      "panetta - not in vocab of timestep: 1991\n",
      "panetta - not in vocab of timestep: 2000\n",
      "panetta - not in vocab of timestep: 2006\n",
      "panetta - not in vocab of timestep: 2007\n",
      "panetta - not in vocab of timestep: 2008\n",
      "panetta - not in vocab of timestep: 2015\n",
      "All words are contained in the vocabulary\n",
      "All words are contained in the vocabulary\n",
      "All words are contained in the vocabulary\n",
      "All words are contained in the vocabulary\n",
      "All words are contained in the vocabulary\n",
      "All words are contained in the vocabulary\n",
      "All words are contained in the vocabulary\n",
      "peres - not in vocab of timestep: 2004\n",
      "All words are contained in the vocabulary\n",
      "petraeus - not in vocab of timestep: 1990\n",
      "petraeus - not in vocab of timestep: 1991\n",
      "petraeus - not in vocab of timestep: 1992\n",
      "petraeus - not in vocab of timestep: 1993\n",
      "petraeus - not in vocab of timestep: 1994\n",
      "petraeus - not in vocab of timestep: 1995\n",
      "petraeus - not in vocab of timestep: 1996\n",
      "petraeus - not in vocab of timestep: 1997\n",
      "petraeus - not in vocab of timestep: 1998\n",
      "petraeus - not in vocab of timestep: 1999\n",
      "petraeus - not in vocab of timestep: 2000\n",
      "petraeus - not in vocab of timestep: 2001\n",
      "petraeus - not in vocab of timestep: 2002\n",
      "petraeus - not in vocab of timestep: 2006\n",
      "All words are contained in the vocabulary\n",
      "petraeus - not in vocab of timestep: 1990\n",
      "petraeus - not in vocab of timestep: 1991\n",
      "petraeus - not in vocab of timestep: 1992\n",
      "petraeus - not in vocab of timestep: 1993\n",
      "petraeus - not in vocab of timestep: 1994\n",
      "petraeus - not in vocab of timestep: 1995\n",
      "petraeus - not in vocab of timestep: 1996\n",
      "petraeus - not in vocab of timestep: 1997\n",
      "petraeus - not in vocab of timestep: 1998\n",
      "petraeus - not in vocab of timestep: 1999\n",
      "petraeus - not in vocab of timestep: 2000\n",
      "petraeus - not in vocab of timestep: 2001\n",
      "petraeus - not in vocab of timestep: 2002\n",
      "petraeus - not in vocab of timestep: 2006\n",
      "All words are contained in the vocabulary\n",
      "pistons - not in vocab of timestep: 1999\n",
      "All words are contained in the vocabulary\n",
      "pistons - not in vocab of timestep: 1999\n",
      "All words are contained in the vocabulary\n",
      "plague - not in vocab of timestep: 2006\n",
      "All words are contained in the vocabulary\n",
      "All words are contained in the vocabulary\n",
      "All words are contained in the vocabulary\n",
      "All words are contained in the vocabulary\n",
      "All words are contained in the vocabulary\n",
      "All words are contained in the vocabulary\n",
      "All words are contained in the vocabulary\n",
      "All words are contained in the vocabulary\n",
      "putin - not in vocab of timestep: 1990\n",
      "putin - not in vocab of timestep: 1991\n",
      "putin - not in vocab of timestep: 1992\n",
      "putin - not in vocab of timestep: 1993\n",
      "putin - not in vocab of timestep: 1994\n",
      "putin - not in vocab of timestep: 1995\n",
      "putin - not in vocab of timestep: 1997\n",
      "putin - not in vocab of timestep: 1998\n",
      "All words are contained in the vocabulary\n",
      "putin - not in vocab of timestep: 1990\n",
      "putin - not in vocab of timestep: 1991\n",
      "putin - not in vocab of timestep: 1992\n",
      "putin - not in vocab of timestep: 1993\n",
      "putin - not in vocab of timestep: 1994\n",
      "putin - not in vocab of timestep: 1995\n",
      "putin - not in vocab of timestep: 1997\n",
      "putin - not in vocab of timestep: 1998\n",
      "All words are contained in the vocabulary\n",
      "putin - not in vocab of timestep: 1990\n",
      "putin - not in vocab of timestep: 1991\n",
      "putin - not in vocab of timestep: 1992\n",
      "putin - not in vocab of timestep: 1993\n",
      "putin - not in vocab of timestep: 1994\n",
      "putin - not in vocab of timestep: 1995\n",
      "putin - not in vocab of timestep: 1997\n",
      "putin - not in vocab of timestep: 1998\n",
      "All words are contained in the vocabulary\n",
      "putin - not in vocab of timestep: 1990\n",
      "putin - not in vocab of timestep: 1991\n",
      "putin - not in vocab of timestep: 1992\n",
      "putin - not in vocab of timestep: 1993\n",
      "putin - not in vocab of timestep: 1994\n",
      "putin - not in vocab of timestep: 1995\n",
      "putin - not in vocab of timestep: 1997\n",
      "putin - not in vocab of timestep: 1998\n",
      "All words are contained in the vocabulary\n",
      "putin - not in vocab of timestep: 1990\n",
      "putin - not in vocab of timestep: 1991\n",
      "putin - not in vocab of timestep: 1992\n",
      "putin - not in vocab of timestep: 1993\n",
      "putin - not in vocab of timestep: 1994\n",
      "putin - not in vocab of timestep: 1995\n",
      "putin - not in vocab of timestep: 1997\n",
      "putin - not in vocab of timestep: 1998\n",
      "All words are contained in the vocabulary\n",
      "putin - not in vocab of timestep: 1990\n",
      "putin - not in vocab of timestep: 1991\n",
      "putin - not in vocab of timestep: 1992\n",
      "putin - not in vocab of timestep: 1993\n",
      "putin - not in vocab of timestep: 1994\n",
      "putin - not in vocab of timestep: 1995\n",
      "putin - not in vocab of timestep: 1997\n",
      "putin - not in vocab of timestep: 1998\n",
      "All words are contained in the vocabulary\n",
      "putin - not in vocab of timestep: 1990\n",
      "putin - not in vocab of timestep: 1991\n",
      "putin - not in vocab of timestep: 1992\n",
      "putin - not in vocab of timestep: 1993\n",
      "putin - not in vocab of timestep: 1994\n",
      "putin - not in vocab of timestep: 1995\n",
      "putin - not in vocab of timestep: 1997\n",
      "putin - not in vocab of timestep: 1998\n",
      "All words are contained in the vocabulary\n",
      "putin - not in vocab of timestep: 1990\n",
      "putin - not in vocab of timestep: 1991\n",
      "putin - not in vocab of timestep: 1992\n",
      "putin - not in vocab of timestep: 1993\n",
      "putin - not in vocab of timestep: 1994\n",
      "putin - not in vocab of timestep: 1995\n",
      "putin - not in vocab of timestep: 1997\n",
      "putin - not in vocab of timestep: 1998\n",
      "All words are contained in the vocabulary\n",
      "putin - not in vocab of timestep: 1990\n",
      "putin - not in vocab of timestep: 1991\n",
      "putin - not in vocab of timestep: 1992\n",
      "putin - not in vocab of timestep: 1993\n",
      "putin - not in vocab of timestep: 1994\n",
      "putin - not in vocab of timestep: 1995\n",
      "putin - not in vocab of timestep: 1997\n",
      "putin - not in vocab of timestep: 1998\n",
      "All words are contained in the vocabulary\n",
      "putin - not in vocab of timestep: 1990\n",
      "putin - not in vocab of timestep: 1991\n",
      "putin - not in vocab of timestep: 1992\n",
      "putin - not in vocab of timestep: 1993\n",
      "putin - not in vocab of timestep: 1994\n",
      "putin - not in vocab of timestep: 1995\n",
      "putin - not in vocab of timestep: 1997\n",
      "putin - not in vocab of timestep: 1998\n",
      "All words are contained in the vocabulary\n",
      "putin - not in vocab of timestep: 1990\n",
      "putin - not in vocab of timestep: 1991\n",
      "putin - not in vocab of timestep: 1992\n",
      "putin - not in vocab of timestep: 1993\n",
      "putin - not in vocab of timestep: 1994\n",
      "putin - not in vocab of timestep: 1995\n",
      "putin - not in vocab of timestep: 1997\n",
      "putin - not in vocab of timestep: 1998\n",
      "All words are contained in the vocabulary\n",
      "putin - not in vocab of timestep: 1990\n",
      "putin - not in vocab of timestep: 1991\n",
      "putin - not in vocab of timestep: 1992\n",
      "putin - not in vocab of timestep: 1993\n",
      "putin - not in vocab of timestep: 1994\n",
      "putin - not in vocab of timestep: 1995\n",
      "putin - not in vocab of timestep: 1997\n",
      "putin - not in vocab of timestep: 1998\n",
      "All words are contained in the vocabulary\n",
      "putin - not in vocab of timestep: 1990\n",
      "putin - not in vocab of timestep: 1991\n",
      "putin - not in vocab of timestep: 1992\n",
      "putin - not in vocab of timestep: 1993\n",
      "putin - not in vocab of timestep: 1994\n",
      "putin - not in vocab of timestep: 1995\n",
      "putin - not in vocab of timestep: 1997\n",
      "putin - not in vocab of timestep: 1998\n",
      "All words are contained in the vocabulary\n",
      "quayle - not in vocab of timestep: 2002\n",
      "quayle - not in vocab of timestep: 2005\n",
      "quayle - not in vocab of timestep: 2014\n",
      "quayle - not in vocab of timestep: 2016\n",
      "All words are contained in the vocabulary\n",
      "quayle - not in vocab of timestep: 2002\n",
      "quayle - not in vocab of timestep: 2005\n",
      "quayle - not in vocab of timestep: 2014\n",
      "quayle - not in vocab of timestep: 2016\n",
      "All words are contained in the vocabulary\n",
      "rabin - not in vocab of timestep: 1990\n",
      "All words are contained in the vocabulary\n",
      "rabin - not in vocab of timestep: 1990\n",
      "All words are contained in the vocabulary\n",
      "rabin - not in vocab of timestep: 1990\n",
      "All words are contained in the vocabulary\n",
      "All words are contained in the vocabulary\n",
      "ravens - not in vocab of timestep: 1990\n",
      "ravens - not in vocab of timestep: 1992\n",
      "All words are contained in the vocabulary\n",
      "ravens - not in vocab of timestep: 1990\n",
      "ravens - not in vocab of timestep: 1992\n",
      "All words are contained in the vocabulary\n",
      "All words are contained in the vocabulary\n",
      "All words are contained in the vocabulary\n",
      "All words are contained in the vocabulary\n",
      "All words are contained in the vocabulary\n",
      "All words are contained in the vocabulary\n",
      "All words are contained in the vocabulary\n",
      "All words are contained in the vocabulary\n",
      "All words are contained in the vocabulary\n",
      "All words are contained in the vocabulary\n",
      "All words are contained in the vocabulary\n",
      "All words are contained in the vocabulary\n",
      "All words are contained in the vocabulary\n",
      "All words are contained in the vocabulary\n",
      "All words are contained in the vocabulary\n",
      "All words are contained in the vocabulary\n",
      "All words are contained in the vocabulary\n",
      "All words are contained in the vocabulary\n",
      "All words are contained in the vocabulary\n",
      "All words are contained in the vocabulary\n",
      "All words are contained in the vocabulary\n",
      "All words are contained in the vocabulary\n",
      "All words are contained in the vocabulary\n",
      "All words are contained in the vocabulary\n",
      "All words are contained in the vocabulary\n",
      "All words are contained in the vocabulary\n",
      "All words are contained in the vocabulary\n",
      "All words are contained in the vocabulary\n",
      "All words are contained in the vocabulary\n",
      "All words are contained in the vocabulary\n",
      "All words are contained in the vocabulary\n",
      "All words are contained in the vocabulary\n",
      "All words are contained in the vocabulary\n",
      "All words are contained in the vocabulary\n",
      "All words are contained in the vocabulary\n",
      "All words are contained in the vocabulary\n",
      "All words are contained in the vocabulary\n",
      "roddick - not in vocab of timestep: 1990\n",
      "roddick - not in vocab of timestep: 1991\n",
      "roddick - not in vocab of timestep: 1992\n",
      "roddick - not in vocab of timestep: 1993\n",
      "roddick - not in vocab of timestep: 1995\n",
      "roddick - not in vocab of timestep: 1996\n",
      "roddick - not in vocab of timestep: 1997\n",
      "roddick - not in vocab of timestep: 1998\n",
      "roddick - not in vocab of timestep: 1999\n",
      "roddick - not in vocab of timestep: 2000\n",
      "roddick - not in vocab of timestep: 2015\n",
      "All words are contained in the vocabulary\n",
      "All words are contained in the vocabulary\n",
      "All words are contained in the vocabulary\n",
      "All words are contained in the vocabulary\n",
      "All words are contained in the vocabulary\n",
      "All words are contained in the vocabulary\n",
      "All words are contained in the vocabulary\n",
      "All words are contained in the vocabulary\n",
      "All words are contained in the vocabulary\n",
      "sarkozy - not in vocab of timestep: 1990\n",
      "sarkozy - not in vocab of timestep: 1991\n",
      "sarkozy - not in vocab of timestep: 1992\n",
      "sarkozy - not in vocab of timestep: 1993\n",
      "sarkozy - not in vocab of timestep: 1994\n",
      "sarkozy - not in vocab of timestep: 1995\n",
      "sarkozy - not in vocab of timestep: 1996\n",
      "sarkozy - not in vocab of timestep: 1997\n",
      "sarkozy - not in vocab of timestep: 1998\n",
      "sarkozy - not in vocab of timestep: 1999\n",
      "sarkozy - not in vocab of timestep: 2000\n",
      "sarkozy - not in vocab of timestep: 2001\n",
      "sarkozy - not in vocab of timestep: 2002\n",
      "sarkozy - not in vocab of timestep: 2006\n",
      "All words are contained in the vocabulary\n",
      "sarkozy - not in vocab of timestep: 1990\n",
      "sarkozy - not in vocab of timestep: 1991\n",
      "sarkozy - not in vocab of timestep: 1992\n",
      "sarkozy - not in vocab of timestep: 1993\n",
      "sarkozy - not in vocab of timestep: 1994\n",
      "sarkozy - not in vocab of timestep: 1995\n",
      "sarkozy - not in vocab of timestep: 1996\n",
      "sarkozy - not in vocab of timestep: 1997\n",
      "sarkozy - not in vocab of timestep: 1998\n",
      "sarkozy - not in vocab of timestep: 1999\n",
      "sarkozy - not in vocab of timestep: 2000\n",
      "sarkozy - not in vocab of timestep: 2001\n",
      "sarkozy - not in vocab of timestep: 2002\n",
      "sarkozy - not in vocab of timestep: 2006\n",
      "All words are contained in the vocabulary\n",
      "sarkozy - not in vocab of timestep: 1990\n",
      "sarkozy - not in vocab of timestep: 1991\n",
      "sarkozy - not in vocab of timestep: 1992\n",
      "sarkozy - not in vocab of timestep: 1993\n",
      "sarkozy - not in vocab of timestep: 1994\n",
      "sarkozy - not in vocab of timestep: 1995\n",
      "sarkozy - not in vocab of timestep: 1996\n",
      "sarkozy - not in vocab of timestep: 1997\n",
      "sarkozy - not in vocab of timestep: 1998\n",
      "sarkozy - not in vocab of timestep: 1999\n",
      "sarkozy - not in vocab of timestep: 2000\n",
      "sarkozy - not in vocab of timestep: 2001\n",
      "sarkozy - not in vocab of timestep: 2002\n",
      "sarkozy - not in vocab of timestep: 2006\n",
      "All words are contained in the vocabulary\n",
      "sarkozy - not in vocab of timestep: 1990\n",
      "sarkozy - not in vocab of timestep: 1991\n",
      "sarkozy - not in vocab of timestep: 1992\n",
      "sarkozy - not in vocab of timestep: 1993\n",
      "sarkozy - not in vocab of timestep: 1994\n",
      "sarkozy - not in vocab of timestep: 1995\n",
      "sarkozy - not in vocab of timestep: 1996\n",
      "sarkozy - not in vocab of timestep: 1997\n",
      "sarkozy - not in vocab of timestep: 1998\n",
      "sarkozy - not in vocab of timestep: 1999\n",
      "sarkozy - not in vocab of timestep: 2000\n",
      "sarkozy - not in vocab of timestep: 2001\n",
      "sarkozy - not in vocab of timestep: 2002\n",
      "sarkozy - not in vocab of timestep: 2006\n",
      "All words are contained in the vocabulary\n",
      "sarkozy - not in vocab of timestep: 1990\n",
      "sarkozy - not in vocab of timestep: 1991\n",
      "sarkozy - not in vocab of timestep: 1992\n",
      "sarkozy - not in vocab of timestep: 1993\n",
      "sarkozy - not in vocab of timestep: 1994\n",
      "sarkozy - not in vocab of timestep: 1995\n",
      "sarkozy - not in vocab of timestep: 1996\n",
      "sarkozy - not in vocab of timestep: 1997\n",
      "sarkozy - not in vocab of timestep: 1998\n",
      "sarkozy - not in vocab of timestep: 1999\n",
      "sarkozy - not in vocab of timestep: 2000\n",
      "sarkozy - not in vocab of timestep: 2001\n",
      "sarkozy - not in vocab of timestep: 2002\n",
      "sarkozy - not in vocab of timestep: 2006\n",
      "All words are contained in the vocabulary\n",
      "sars - not in vocab of timestep: 1990\n",
      "sars - not in vocab of timestep: 1991\n",
      "sars - not in vocab of timestep: 1992\n",
      "sars - not in vocab of timestep: 1993\n",
      "sars - not in vocab of timestep: 1994\n",
      "sars - not in vocab of timestep: 1995\n",
      "sars - not in vocab of timestep: 1996\n",
      "sars - not in vocab of timestep: 1997\n",
      "sars - not in vocab of timestep: 1999\n",
      "sars - not in vocab of timestep: 2000\n",
      "sars - not in vocab of timestep: 2001\n",
      "sars - not in vocab of timestep: 2002\n",
      "sars - not in vocab of timestep: 2006\n",
      "sars - not in vocab of timestep: 2007\n",
      "sars - not in vocab of timestep: 2010\n",
      "sars - not in vocab of timestep: 2016\n",
      "All words are contained in the vocabulary\n",
      "All words are contained in the vocabulary\n",
      "All words are contained in the vocabulary\n",
      "All words are contained in the vocabulary\n",
      "All words are contained in the vocabulary\n",
      "All words are contained in the vocabulary\n",
      "All words are contained in the vocabulary\n",
      "All words are contained in the vocabulary\n",
      "All words are contained in the vocabulary\n",
      "All words are contained in the vocabulary\n",
      "shelton - not in vocab of timestep: 1993\n",
      "All words are contained in the vocabulary\n",
      "shelton - not in vocab of timestep: 1993\n",
      "All words are contained in the vocabulary\n",
      "shelton - not in vocab of timestep: 1993\n",
      "All words are contained in the vocabulary\n",
      "shelton - not in vocab of timestep: 1993\n",
      "All words are contained in the vocabulary\n",
      "All words are contained in the vocabulary\n",
      "All words are contained in the vocabulary\n",
      "All words are contained in the vocabulary\n",
      "All words are contained in the vocabulary\n",
      "All words are contained in the vocabulary\n",
      "All words are contained in the vocabulary\n",
      "All words are contained in the vocabulary\n",
      "All words are contained in the vocabulary\n",
      "All words are contained in the vocabulary\n",
      "All words are contained in the vocabulary\n",
      "spacey - not in vocab of timestep: 1990\n",
      "spacey - not in vocab of timestep: 1993\n",
      "spacey - not in vocab of timestep: 1995\n",
      "spacey - not in vocab of timestep: 2016\n",
      "All words are contained in the vocabulary\n",
      "All words are contained in the vocabulary\n",
      "All words are contained in the vocabulary\n",
      "All words are contained in the vocabulary\n",
      "All words are contained in the vocabulary\n",
      "All words are contained in the vocabulary\n",
      "All words are contained in the vocabulary\n",
      "All words are contained in the vocabulary\n",
      "All words are contained in the vocabulary\n",
      "All words are contained in the vocabulary\n",
      "All words are contained in the vocabulary\n",
      "All words are contained in the vocabulary\n",
      "All words are contained in the vocabulary\n",
      "All words are contained in the vocabulary\n",
      "All words are contained in the vocabulary\n",
      "All words are contained in the vocabulary\n",
      "All words are contained in the vocabulary\n",
      "All words are contained in the vocabulary\n",
      "All words are contained in the vocabulary\n",
      "All words are contained in the vocabulary\n",
      "All words are contained in the vocabulary\n",
      "yeltsin - not in vocab of timestep: 2006\n",
      "yeltsin - not in vocab of timestep: 2010\n",
      "All words are contained in the vocabulary\n",
      "yeltsin - not in vocab of timestep: 2006\n",
      "yeltsin - not in vocab of timestep: 2010\n",
      "All words are contained in the vocabulary\n",
      "yeltsin - not in vocab of timestep: 2006\n",
      "yeltsin - not in vocab of timestep: 2010\n",
      "All words are contained in the vocabulary\n",
      "yeltsin - not in vocab of timestep: 2006\n",
      "yeltsin - not in vocab of timestep: 2010\n",
      "All words are contained in the vocabulary\n",
      "yeltsin - not in vocab of timestep: 2006\n",
      "yeltsin - not in vocab of timestep: 2010\n",
      "All words are contained in the vocabulary\n",
      "yeltsin - not in vocab of timestep: 2006\n",
      "yeltsin - not in vocab of timestep: 2010\n",
      "All words are contained in the vocabulary\n",
      "yeltsin - not in vocab of timestep: 2006\n",
      "yeltsin - not in vocab of timestep: 2010\n",
      "All words are contained in the vocabulary\n",
      "yeltsin - not in vocab of timestep: 2006\n",
      "yeltsin - not in vocab of timestep: 2010\n",
      "All words are contained in the vocabulary\n",
      "yeltsin - not in vocab of timestep: 2006\n",
      "yeltsin - not in vocab of timestep: 2010\n",
      "All words are contained in the vocabulary\n",
      "zika - not in vocab of timestep: 1990\n",
      "zika - not in vocab of timestep: 1991\n",
      "zika - not in vocab of timestep: 1992\n",
      "zika - not in vocab of timestep: 1993\n",
      "zika - not in vocab of timestep: 1994\n",
      "zika - not in vocab of timestep: 1995\n",
      "zika - not in vocab of timestep: 1997\n",
      "zika - not in vocab of timestep: 1998\n",
      "zika - not in vocab of timestep: 1999\n",
      "zika - not in vocab of timestep: 2000\n",
      "zika - not in vocab of timestep: 2001\n",
      "zika - not in vocab of timestep: 2002\n",
      "zika - not in vocab of timestep: 2003\n",
      "zika - not in vocab of timestep: 2004\n",
      "zika - not in vocab of timestep: 2005\n",
      "zika - not in vocab of timestep: 2006\n",
      "zika - not in vocab of timestep: 2007\n",
      "zika - not in vocab of timestep: 2008\n",
      "zika - not in vocab of timestep: 2009\n",
      "zika - not in vocab of timestep: 2011\n",
      "zika - not in vocab of timestep: 2012\n",
      "zika - not in vocab of timestep: 2013\n",
      "zika - not in vocab of timestep: 2014\n",
      "zika - not in vocab of timestep: 2015\n",
      "2 Testcases are not in the vocab of the model\n"
     ]
    }
   ],
   "source": [
    "test_case_dict_tppmi = test_util.create_test_case_dict_tppmi(tppmi_model, test_cases_1_all)"
   ],
   "metadata": {
    "collapsed": false
   }
  },
  {
   "cell_type": "code",
   "execution_count": 49,
   "outputs": [],
   "source": [
    "from itertools import islice\n",
    "# First, filter the dictionary to include only the keys containing 'bush'\n",
    "filtered_dict = {key: value for key, value in test_case_dict_tppmi.items() if 'bush' in key}\n",
    "\n",
    "# Then, take the first 3 elements from the filtered dictionary\n",
    "test_single_tppmi = dict(islice(filtered_dict.items(), 3))"
   ],
   "metadata": {
    "collapsed": false
   }
  },
  {
   "cell_type": "code",
   "execution_count": 62,
   "outputs": [
    {
     "data": {
      "text/plain": "  0%|          | 0/10 [00:00<?, ?it/s]",
      "application/vnd.jupyter.widget-view+json": {
       "version_major": 2,
       "version_minor": 0,
       "model_id": "04665ba1a7e54059987d2e12b87746f8"
      },
      "application/json": {
       "n": 0,
       "total": 10,
       "elapsed": 0.0030558109283447266,
       "ncols": null,
       "nrows": null,
       "prefix": "",
       "ascii": false,
       "unit": "it",
       "unit_scale": false,
       "rate": null,
       "bar_format": null,
       "postfix": null,
       "unit_divisor": 1000,
       "initial": 0,
       "colour": null
      }
     },
     "metadata": {},
     "output_type": "display_data"
    }
   ],
   "source": [
    "# Takes very long, load from .json instead\n",
    "similarities_tppmi = test_util.get_similarites_of_models_tppmi(tppmi_model, filtered_dict)\n",
    "\n",
    "# Writing JSON data\n",
    "#with open(path_to_test_data / 'tppmi-similarities.json', 'w') as file:\n",
    "#    json.dump(similarities_tppmi, file, indent=4);"
   ],
   "metadata": {
    "collapsed": false
   }
  },
  {
   "cell_type": "code",
   "execution_count": 63,
   "outputs": [
    {
     "data": {
      "text/plain": "{'bush-1990': {'1990': [('return', 0.3651278355814282),\n   ('darkened', 0.2977646376615701),\n   ('deutsche', 0.2935834276806349),\n   ('went', 0.2910105743270783),\n   ('stay', 0.28810521749533086),\n   ('thursday', 0.2872300158866207),\n   ('wednesday', 0.2864851181707352),\n   ('w', 0.2864577817695255),\n   ('station', 0.2840315676296587),\n   ('free', 0.282429784968538)],\n  '1991': [('return', 0.3651278355814282),\n   ('darkened', 0.2977646376615701),\n   ('deutsche', 0.2935834276806349),\n   ('went', 0.2910105743270783),\n   ('stay', 0.28810521749533086),\n   ('thursday', 0.2872300158866207),\n   ('wednesday', 0.2864851181707352),\n   ('w', 0.2864577817695255),\n   ('station', 0.2840315676296587),\n   ('free', 0.282429784968538)],\n  '1992': [('return', 0.3651278355814282),\n   ('darkened', 0.2977646376615701),\n   ('deutsche', 0.2935834276806349),\n   ('went', 0.2910105743270783),\n   ('stay', 0.28810521749533086),\n   ('thursday', 0.2872300158866207),\n   ('wednesday', 0.2864851181707352),\n   ('w', 0.2864577817695255),\n   ('station', 0.2840315676296587),\n   ('free', 0.282429784968538)],\n  '1993': [('return', 0.3651278355814282),\n   ('darkened', 0.2977646376615701),\n   ('deutsche', 0.2935834276806349),\n   ('went', 0.2910105743270783),\n   ('stay', 0.28810521749533086),\n   ('thursday', 0.2872300158866207),\n   ('wednesday', 0.2864851181707352),\n   ('w', 0.2864577817695255),\n   ('station', 0.2840315676296587),\n   ('free', 0.282429784968538)],\n  '1994': [('return', 0.3651278355814282),\n   ('darkened', 0.2977646376615701),\n   ('went', 0.2910105743270783),\n   ('stay', 0.28810521749533086),\n   ('thursday', 0.2872300158866207),\n   ('wednesday', 0.2864851181707352),\n   ('w', 0.2864577817695255),\n   ('station', 0.2840315676296587),\n   ('free', 0.282429784968538),\n   ('kabul', 0.28211951714382777)],\n  '1995': [('return', 0.3651278355814282),\n   ('darkened', 0.2977646376615701),\n   ('deutsche', 0.2935834276806349),\n   ('went', 0.2910105743270783),\n   ('stay', 0.28810521749533086),\n   ('thursday', 0.2872300158866207),\n   ('wednesday', 0.2864851181707352),\n   ('w', 0.2864577817695255),\n   ('station', 0.2840315676296587),\n   ('free', 0.282429784968538)],\n  '1996': [('return', 0.3651278355814282),\n   ('darkened', 0.2977646376615701),\n   ('deutsche', 0.2935834276806349),\n   ('went', 0.2910105743270783),\n   ('stay', 0.28810521749533086),\n   ('thursday', 0.2872300158866207),\n   ('wednesday', 0.2864851181707352),\n   ('w', 0.2864577817695255),\n   ('station', 0.2840315676296587),\n   ('free', 0.282429784968538)],\n  '1997': [('return', 0.3651278355814282),\n   ('darkened', 0.2977646376615701),\n   ('deutsche', 0.2935834276806349),\n   ('went', 0.2910105743270783),\n   ('stay', 0.28810521749533086),\n   ('thursday', 0.2872300158866207),\n   ('wednesday', 0.2864851181707352),\n   ('w', 0.2864577817695255),\n   ('station', 0.2840315676296587),\n   ('free', 0.282429784968538)],\n  '1998': [('return', 0.3651278355814282),\n   ('darkened', 0.2977646376615701),\n   ('deutsche', 0.2935834276806349),\n   ('went', 0.2910105743270783),\n   ('stay', 0.28810521749533086),\n   ('thursday', 0.2872300158866207),\n   ('wednesday', 0.2864851181707352),\n   ('w', 0.2864577817695255),\n   ('station', 0.2840315676296587),\n   ('free', 0.282429784968538)],\n  '1999': [('return', 0.3651278355814282),\n   ('darkened', 0.2977646376615701),\n   ('deutsche', 0.2935834276806349),\n   ('went', 0.2910105743270783),\n   ('stay', 0.28810521749533086),\n   ('thursday', 0.2872300158866207),\n   ('wednesday', 0.2864851181707352),\n   ('w', 0.2864577817695255),\n   ('station', 0.2840315676296587),\n   ('free', 0.282429784968538)],\n  '2000': [('return', 0.3651278355814282),\n   ('darkened', 0.2977646376615701),\n   ('deutsche', 0.2935834276806349),\n   ('went', 0.2910105743270783),\n   ('stay', 0.28810521749533086),\n   ('thursday', 0.2872300158866207),\n   ('wednesday', 0.2864851181707352),\n   ('w', 0.2864577817695255),\n   ('station', 0.2840315676296587),\n   ('free', 0.282429784968538)],\n  '2001': [('return', 0.3651278355814282),\n   ('darkened', 0.2977646376615701),\n   ('deutsche', 0.2935834276806349),\n   ('went', 0.2910105743270783),\n   ('stay', 0.28810521749533086),\n   ('thursday', 0.2872300158866207),\n   ('wednesday', 0.2864851181707352),\n   ('w', 0.2864577817695255),\n   ('station', 0.2840315676296587),\n   ('free', 0.282429784968538)],\n  '2002': [('return', 0.3651278355814282),\n   ('darkened', 0.2977646376615701),\n   ('deutsche', 0.2935834276806349),\n   ('went', 0.2910105743270783),\n   ('stay', 0.28810521749533086),\n   ('thursday', 0.2872300158866207),\n   ('wednesday', 0.2864851181707352),\n   ('w', 0.2864577817695255),\n   ('station', 0.2840315676296587),\n   ('free', 0.282429784968538)],\n  '2003': [('return', 0.3651278355814282),\n   ('darkened', 0.2977646376615701),\n   ('deutsche', 0.2935834276806349),\n   ('went', 0.2910105743270783),\n   ('stay', 0.28810521749533086),\n   ('thursday', 0.2872300158866207),\n   ('wednesday', 0.2864851181707352),\n   ('w', 0.2864577817695255),\n   ('station', 0.2840315676296587),\n   ('free', 0.282429784968538)],\n  '2004': [('return', 0.3651278355814282),\n   ('darkened', 0.2977646376615701),\n   ('deutsche', 0.2935834276806349),\n   ('went', 0.2910105743270783),\n   ('stay', 0.28810521749533086),\n   ('thursday', 0.2872300158866207),\n   ('wednesday', 0.2864851181707352),\n   ('w', 0.2864577817695255),\n   ('station', 0.2840315676296587),\n   ('free', 0.282429784968538)],\n  '2005': [('return', 0.3651278355814282),\n   ('darkened', 0.2977646376615701),\n   ('deutsche', 0.2935834276806349),\n   ('went', 0.2910105743270783),\n   ('stay', 0.28810521749533086),\n   ('thursday', 0.2872300158866207),\n   ('wednesday', 0.2864851181707352),\n   ('w', 0.2864577817695255),\n   ('station', 0.2840315676296587),\n   ('free', 0.282429784968538)],\n  '2006': [('return', 0.3651278355814282),\n   ('darkened', 0.2977646376615701),\n   ('deutsche', 0.2935834276806349),\n   ('went', 0.2910105743270783),\n   ('stay', 0.28810521749533086),\n   ('thursday', 0.2872300158866207),\n   ('wednesday', 0.2864851181707352),\n   ('w', 0.2864577817695255),\n   ('station', 0.2840315676296587),\n   ('free', 0.282429784968538)],\n  '2007': [('return', 0.3651278355814282),\n   ('darkened', 0.2977646376615701),\n   ('deutsche', 0.2935834276806349),\n   ('went', 0.2910105743270783),\n   ('stay', 0.28810521749533086),\n   ('thursday', 0.2872300158866207),\n   ('wednesday', 0.2864851181707352),\n   ('w', 0.2864577817695255),\n   ('station', 0.2840315676296587),\n   ('free', 0.282429784968538)],\n  '2008': [('return', 0.3651278355814282),\n   ('darkened', 0.2977646376615701),\n   ('deutsche', 0.2935834276806349),\n   ('went', 0.2910105743270783),\n   ('stay', 0.28810521749533086),\n   ('thursday', 0.2872300158866207),\n   ('wednesday', 0.2864851181707352),\n   ('w', 0.2864577817695255),\n   ('station', 0.2840315676296587),\n   ('free', 0.282429784968538)],\n  '2009': [('return', 0.3651278355814282),\n   ('darkened', 0.2977646376615701),\n   ('deutsche', 0.2935834276806349),\n   ('went', 0.2910105743270783),\n   ('stay', 0.28810521749533086),\n   ('thursday', 0.2872300158866207),\n   ('wednesday', 0.2864851181707352),\n   ('w', 0.2864577817695255),\n   ('station', 0.2840315676296587),\n   ('free', 0.282429784968538)],\n  '2010': [('return', 0.3651278355814282),\n   ('darkened', 0.2977646376615701),\n   ('deutsche', 0.2935834276806349),\n   ('went', 0.2910105743270783),\n   ('stay', 0.28810521749533086),\n   ('thursday', 0.2872300158866207),\n   ('wednesday', 0.2864851181707352),\n   ('w', 0.2864577817695255),\n   ('station', 0.2840315676296587),\n   ('free', 0.282429784968538)],\n  '2011': [('return', 0.3651278355814282),\n   ('darkened', 0.2977646376615701),\n   ('deutsche', 0.2935834276806349),\n   ('went', 0.2910105743270783),\n   ('stay', 0.28810521749533086),\n   ('thursday', 0.2872300158866207),\n   ('wednesday', 0.2864851181707352),\n   ('w', 0.2864577817695255),\n   ('station', 0.2840315676296587),\n   ('free', 0.282429784968538)],\n  '2012': [('return', 0.3651278355814282),\n   ('darkened', 0.2977646376615701),\n   ('deutsche', 0.2935834276806349),\n   ('went', 0.2910105743270783),\n   ('stay', 0.28810521749533086),\n   ('thursday', 0.2872300158866207),\n   ('wednesday', 0.2864851181707352),\n   ('w', 0.2864577817695255),\n   ('station', 0.2840315676296587),\n   ('free', 0.282429784968538)],\n  '2013': [('return', 0.3651278355814282),\n   ('darkened', 0.2977646376615701),\n   ('deutsche', 0.2935834276806349),\n   ('went', 0.2910105743270783),\n   ('stay', 0.28810521749533086),\n   ('thursday', 0.2872300158866207),\n   ('wednesday', 0.2864851181707352),\n   ('w', 0.2864577817695255),\n   ('station', 0.2840315676296587),\n   ('free', 0.282429784968538)],\n  '2014': [('return', 0.3651278355814282),\n   ('darkened', 0.2977646376615701),\n   ('deutsche', 0.2935834276806349),\n   ('went', 0.2910105743270783),\n   ('stay', 0.28810521749533086),\n   ('thursday', 0.2872300158866207),\n   ('wednesday', 0.2864851181707352),\n   ('w', 0.2864577817695255),\n   ('station', 0.2840315676296587),\n   ('free', 0.282429784968538)],\n  '2015': [('return', 0.3651278355814282),\n   ('darkened', 0.2977646376615701),\n   ('deutsche', 0.2935834276806349),\n   ('went', 0.2910105743270783),\n   ('stay', 0.28810521749533086),\n   ('thursday', 0.2872300158866207),\n   ('wednesday', 0.2864851181707352),\n   ('w', 0.2864577817695255),\n   ('station', 0.2840315676296587),\n   ('free', 0.282429784968538)],\n  '2016': [('return', 0.3651278355814282),\n   ('darkened', 0.2977646376615701),\n   ('deutsche', 0.2935834276806349),\n   ('went', 0.2910105743270783),\n   ('stay', 0.28810521749533086),\n   ('thursday', 0.2872300158866207),\n   ('wednesday', 0.2864851181707352),\n   ('w', 0.2864577817695255),\n   ('station', 0.2840315676296587),\n   ('free', 0.282429784968538)]},\n 'bush-1991': {'1990': [('return', 0.3651278355814282),\n   ('darkened', 0.2977646376615701),\n   ('deutsche', 0.2935834276806349),\n   ('went', 0.2910105743270783),\n   ('stay', 0.28810521749533086),\n   ('thursday', 0.2872300158866207),\n   ('wednesday', 0.2864851181707352),\n   ('w', 0.2864577817695255),\n   ('station', 0.2840315676296587),\n   ('free', 0.282429784968538)],\n  '1991': [('return', 0.3651278355814282),\n   ('darkened', 0.2977646376615701),\n   ('deutsche', 0.2935834276806349),\n   ('went', 0.2910105743270783),\n   ('stay', 0.28810521749533086),\n   ('thursday', 0.2872300158866207),\n   ('wednesday', 0.2864851181707352),\n   ('w', 0.2864577817695255),\n   ('station', 0.2840315676296587),\n   ('free', 0.282429784968538)],\n  '1992': [('return', 0.3651278355814282),\n   ('darkened', 0.2977646376615701),\n   ('deutsche', 0.2935834276806349),\n   ('went', 0.2910105743270783),\n   ('stay', 0.28810521749533086),\n   ('thursday', 0.2872300158866207),\n   ('wednesday', 0.2864851181707352),\n   ('w', 0.2864577817695255),\n   ('station', 0.2840315676296587),\n   ('free', 0.282429784968538)],\n  '1993': [('return', 0.3651278355814282),\n   ('darkened', 0.2977646376615701),\n   ('deutsche', 0.2935834276806349),\n   ('went', 0.2910105743270783),\n   ('stay', 0.28810521749533086),\n   ('thursday', 0.2872300158866207),\n   ('wednesday', 0.2864851181707352),\n   ('w', 0.2864577817695255),\n   ('station', 0.2840315676296587),\n   ('free', 0.282429784968538)],\n  '1994': [('return', 0.3651278355814282),\n   ('darkened', 0.2977646376615701),\n   ('went', 0.2910105743270783),\n   ('stay', 0.28810521749533086),\n   ('thursday', 0.2872300158866207),\n   ('wednesday', 0.2864851181707352),\n   ('w', 0.2864577817695255),\n   ('station', 0.2840315676296587),\n   ('free', 0.282429784968538),\n   ('kabul', 0.28211951714382777)],\n  '1995': [('return', 0.3651278355814282),\n   ('darkened', 0.2977646376615701),\n   ('deutsche', 0.2935834276806349),\n   ('went', 0.2910105743270783),\n   ('stay', 0.28810521749533086),\n   ('thursday', 0.2872300158866207),\n   ('wednesday', 0.2864851181707352),\n   ('w', 0.2864577817695255),\n   ('station', 0.2840315676296587),\n   ('free', 0.282429784968538)],\n  '1996': [('return', 0.3651278355814282),\n   ('darkened', 0.2977646376615701),\n   ('deutsche', 0.2935834276806349),\n   ('went', 0.2910105743270783),\n   ('stay', 0.28810521749533086),\n   ('thursday', 0.2872300158866207),\n   ('wednesday', 0.2864851181707352),\n   ('w', 0.2864577817695255),\n   ('station', 0.2840315676296587),\n   ('free', 0.282429784968538)],\n  '1997': [('return', 0.3651278355814282),\n   ('darkened', 0.2977646376615701),\n   ('deutsche', 0.2935834276806349),\n   ('went', 0.2910105743270783),\n   ('stay', 0.28810521749533086),\n   ('thursday', 0.2872300158866207),\n   ('wednesday', 0.2864851181707352),\n   ('w', 0.2864577817695255),\n   ('station', 0.2840315676296587),\n   ('free', 0.282429784968538)],\n  '1998': [('return', 0.3651278355814282),\n   ('darkened', 0.2977646376615701),\n   ('deutsche', 0.2935834276806349),\n   ('went', 0.2910105743270783),\n   ('stay', 0.28810521749533086),\n   ('thursday', 0.2872300158866207),\n   ('wednesday', 0.2864851181707352),\n   ('w', 0.2864577817695255),\n   ('station', 0.2840315676296587),\n   ('free', 0.282429784968538)],\n  '1999': [('return', 0.3651278355814282),\n   ('darkened', 0.2977646376615701),\n   ('deutsche', 0.2935834276806349),\n   ('went', 0.2910105743270783),\n   ('stay', 0.28810521749533086),\n   ('thursday', 0.2872300158866207),\n   ('wednesday', 0.2864851181707352),\n   ('w', 0.2864577817695255),\n   ('station', 0.2840315676296587),\n   ('free', 0.282429784968538)],\n  '2000': [('return', 0.3651278355814282),\n   ('darkened', 0.2977646376615701),\n   ('deutsche', 0.2935834276806349),\n   ('went', 0.2910105743270783),\n   ('stay', 0.28810521749533086),\n   ('thursday', 0.2872300158866207),\n   ('wednesday', 0.2864851181707352),\n   ('w', 0.2864577817695255),\n   ('station', 0.2840315676296587),\n   ('free', 0.282429784968538)],\n  '2001': [('return', 0.3651278355814282),\n   ('darkened', 0.2977646376615701),\n   ('deutsche', 0.2935834276806349),\n   ('went', 0.2910105743270783),\n   ('stay', 0.28810521749533086),\n   ('thursday', 0.2872300158866207),\n   ('wednesday', 0.2864851181707352),\n   ('w', 0.2864577817695255),\n   ('station', 0.2840315676296587),\n   ('free', 0.282429784968538)],\n  '2002': [('return', 0.3651278355814282),\n   ('darkened', 0.2977646376615701),\n   ('deutsche', 0.2935834276806349),\n   ('went', 0.2910105743270783),\n   ('stay', 0.28810521749533086),\n   ('thursday', 0.2872300158866207),\n   ('wednesday', 0.2864851181707352),\n   ('w', 0.2864577817695255),\n   ('station', 0.2840315676296587),\n   ('free', 0.282429784968538)],\n  '2003': [('return', 0.3651278355814282),\n   ('darkened', 0.2977646376615701),\n   ('deutsche', 0.2935834276806349),\n   ('went', 0.2910105743270783),\n   ('stay', 0.28810521749533086),\n   ('thursday', 0.2872300158866207),\n   ('wednesday', 0.2864851181707352),\n   ('w', 0.2864577817695255),\n   ('station', 0.2840315676296587),\n   ('free', 0.282429784968538)],\n  '2004': [('return', 0.3651278355814282),\n   ('darkened', 0.2977646376615701),\n   ('deutsche', 0.2935834276806349),\n   ('went', 0.2910105743270783),\n   ('stay', 0.28810521749533086),\n   ('thursday', 0.2872300158866207),\n   ('wednesday', 0.2864851181707352),\n   ('w', 0.2864577817695255),\n   ('station', 0.2840315676296587),\n   ('free', 0.282429784968538)],\n  '2005': [('return', 0.3651278355814282),\n   ('darkened', 0.2977646376615701),\n   ('deutsche', 0.2935834276806349),\n   ('went', 0.2910105743270783),\n   ('stay', 0.28810521749533086),\n   ('thursday', 0.2872300158866207),\n   ('wednesday', 0.2864851181707352),\n   ('w', 0.2864577817695255),\n   ('station', 0.2840315676296587),\n   ('free', 0.282429784968538)],\n  '2006': [('return', 0.3651278355814282),\n   ('darkened', 0.2977646376615701),\n   ('deutsche', 0.2935834276806349),\n   ('went', 0.2910105743270783),\n   ('stay', 0.28810521749533086),\n   ('thursday', 0.2872300158866207),\n   ('wednesday', 0.2864851181707352),\n   ('w', 0.2864577817695255),\n   ('station', 0.2840315676296587),\n   ('free', 0.282429784968538)],\n  '2007': [('return', 0.3651278355814282),\n   ('darkened', 0.2977646376615701),\n   ('deutsche', 0.2935834276806349),\n   ('went', 0.2910105743270783),\n   ('stay', 0.28810521749533086),\n   ('thursday', 0.2872300158866207),\n   ('wednesday', 0.2864851181707352),\n   ('w', 0.2864577817695255),\n   ('station', 0.2840315676296587),\n   ('free', 0.282429784968538)],\n  '2008': [('return', 0.3651278355814282),\n   ('darkened', 0.2977646376615701),\n   ('deutsche', 0.2935834276806349),\n   ('went', 0.2910105743270783),\n   ('stay', 0.28810521749533086),\n   ('thursday', 0.2872300158866207),\n   ('wednesday', 0.2864851181707352),\n   ('w', 0.2864577817695255),\n   ('station', 0.2840315676296587),\n   ('free', 0.282429784968538)],\n  '2009': [('return', 0.3651278355814282),\n   ('darkened', 0.2977646376615701),\n   ('deutsche', 0.2935834276806349),\n   ('went', 0.2910105743270783),\n   ('stay', 0.28810521749533086),\n   ('thursday', 0.2872300158866207),\n   ('wednesday', 0.2864851181707352),\n   ('w', 0.2864577817695255),\n   ('station', 0.2840315676296587),\n   ('free', 0.282429784968538)],\n  '2010': [('return', 0.3651278355814282),\n   ('darkened', 0.2977646376615701),\n   ('deutsche', 0.2935834276806349),\n   ('went', 0.2910105743270783),\n   ('stay', 0.28810521749533086),\n   ('thursday', 0.2872300158866207),\n   ('wednesday', 0.2864851181707352),\n   ('w', 0.2864577817695255),\n   ('station', 0.2840315676296587),\n   ('free', 0.282429784968538)],\n  '2011': [('return', 0.3651278355814282),\n   ('darkened', 0.2977646376615701),\n   ('deutsche', 0.2935834276806349),\n   ('went', 0.2910105743270783),\n   ('stay', 0.28810521749533086),\n   ('thursday', 0.2872300158866207),\n   ('wednesday', 0.2864851181707352),\n   ('w', 0.2864577817695255),\n   ('station', 0.2840315676296587),\n   ('free', 0.282429784968538)],\n  '2012': [('return', 0.3651278355814282),\n   ('darkened', 0.2977646376615701),\n   ('deutsche', 0.2935834276806349),\n   ('went', 0.2910105743270783),\n   ('stay', 0.28810521749533086),\n   ('thursday', 0.2872300158866207),\n   ('wednesday', 0.2864851181707352),\n   ('w', 0.2864577817695255),\n   ('station', 0.2840315676296587),\n   ('free', 0.282429784968538)],\n  '2013': [('return', 0.3651278355814282),\n   ('darkened', 0.2977646376615701),\n   ('deutsche', 0.2935834276806349),\n   ('went', 0.2910105743270783),\n   ('stay', 0.28810521749533086),\n   ('thursday', 0.2872300158866207),\n   ('wednesday', 0.2864851181707352),\n   ('w', 0.2864577817695255),\n   ('station', 0.2840315676296587),\n   ('free', 0.282429784968538)],\n  '2014': [('return', 0.3651278355814282),\n   ('darkened', 0.2977646376615701),\n   ('deutsche', 0.2935834276806349),\n   ('went', 0.2910105743270783),\n   ('stay', 0.28810521749533086),\n   ('thursday', 0.2872300158866207),\n   ('wednesday', 0.2864851181707352),\n   ('w', 0.2864577817695255),\n   ('station', 0.2840315676296587),\n   ('free', 0.282429784968538)],\n  '2015': [('return', 0.3651278355814282),\n   ('darkened', 0.2977646376615701),\n   ('deutsche', 0.2935834276806349),\n   ('went', 0.2910105743270783),\n   ('stay', 0.28810521749533086),\n   ('thursday', 0.2872300158866207),\n   ('wednesday', 0.2864851181707352),\n   ('w', 0.2864577817695255),\n   ('station', 0.2840315676296587),\n   ('free', 0.282429784968538)],\n  '2016': [('return', 0.3651278355814282),\n   ('darkened', 0.2977646376615701),\n   ('deutsche', 0.2935834276806349),\n   ('went', 0.2910105743270783),\n   ('stay', 0.28810521749533086),\n   ('thursday', 0.2872300158866207),\n   ('wednesday', 0.2864851181707352),\n   ('w', 0.2864577817695255),\n   ('station', 0.2840315676296587),\n   ('free', 0.282429784968538)]},\n 'bush-2000': {'1990': [('return', 0.3651278355814282),\n   ('darkened', 0.2977646376615701),\n   ('deutsche', 0.2935834276806349),\n   ('went', 0.2910105743270783),\n   ('stay', 0.28810521749533086),\n   ('thursday', 0.2872300158866207),\n   ('wednesday', 0.2864851181707352),\n   ('w', 0.2864577817695255),\n   ('station', 0.2840315676296587),\n   ('free', 0.282429784968538)],\n  '1991': [('return', 0.3651278355814282),\n   ('darkened', 0.2977646376615701),\n   ('deutsche', 0.2935834276806349),\n   ('went', 0.2910105743270783),\n   ('stay', 0.28810521749533086),\n   ('thursday', 0.2872300158866207),\n   ('wednesday', 0.2864851181707352),\n   ('w', 0.2864577817695255),\n   ('station', 0.2840315676296587),\n   ('free', 0.282429784968538)],\n  '1992': [('return', 0.3651278355814282),\n   ('darkened', 0.2977646376615701),\n   ('deutsche', 0.2935834276806349),\n   ('went', 0.2910105743270783),\n   ('stay', 0.28810521749533086),\n   ('thursday', 0.2872300158866207),\n   ('wednesday', 0.2864851181707352),\n   ('w', 0.2864577817695255),\n   ('station', 0.2840315676296587),\n   ('free', 0.282429784968538)],\n  '1993': [('return', 0.3651278355814282),\n   ('darkened', 0.2977646376615701),\n   ('deutsche', 0.2935834276806349),\n   ('went', 0.2910105743270783),\n   ('stay', 0.28810521749533086),\n   ('thursday', 0.2872300158866207),\n   ('wednesday', 0.2864851181707352),\n   ('w', 0.2864577817695255),\n   ('station', 0.2840315676296587),\n   ('free', 0.282429784968538)],\n  '1994': [('return', 0.3651278355814282),\n   ('darkened', 0.2977646376615701),\n   ('went', 0.2910105743270783),\n   ('stay', 0.28810521749533086),\n   ('thursday', 0.2872300158866207),\n   ('wednesday', 0.2864851181707352),\n   ('w', 0.2864577817695255),\n   ('station', 0.2840315676296587),\n   ('free', 0.282429784968538),\n   ('kabul', 0.28211951714382777)],\n  '1995': [('return', 0.3651278355814282),\n   ('darkened', 0.2977646376615701),\n   ('deutsche', 0.2935834276806349),\n   ('went', 0.2910105743270783),\n   ('stay', 0.28810521749533086),\n   ('thursday', 0.2872300158866207),\n   ('wednesday', 0.2864851181707352),\n   ('w', 0.2864577817695255),\n   ('station', 0.2840315676296587),\n   ('free', 0.282429784968538)],\n  '1996': [('return', 0.3651278355814282),\n   ('darkened', 0.2977646376615701),\n   ('deutsche', 0.2935834276806349),\n   ('went', 0.2910105743270783),\n   ('stay', 0.28810521749533086),\n   ('thursday', 0.2872300158866207),\n   ('wednesday', 0.2864851181707352),\n   ('w', 0.2864577817695255),\n   ('station', 0.2840315676296587),\n   ('free', 0.282429784968538)],\n  '1997': [('return', 0.3651278355814282),\n   ('darkened', 0.2977646376615701),\n   ('deutsche', 0.2935834276806349),\n   ('went', 0.2910105743270783),\n   ('stay', 0.28810521749533086),\n   ('thursday', 0.2872300158866207),\n   ('wednesday', 0.2864851181707352),\n   ('w', 0.2864577817695255),\n   ('station', 0.2840315676296587),\n   ('free', 0.282429784968538)],\n  '1998': [('return', 0.3651278355814282),\n   ('darkened', 0.2977646376615701),\n   ('deutsche', 0.2935834276806349),\n   ('went', 0.2910105743270783),\n   ('stay', 0.28810521749533086),\n   ('thursday', 0.2872300158866207),\n   ('wednesday', 0.2864851181707352),\n   ('w', 0.2864577817695255),\n   ('station', 0.2840315676296587),\n   ('free', 0.282429784968538)],\n  '1999': [('return', 0.3651278355814282),\n   ('darkened', 0.2977646376615701),\n   ('deutsche', 0.2935834276806349),\n   ('went', 0.2910105743270783),\n   ('stay', 0.28810521749533086),\n   ('thursday', 0.2872300158866207),\n   ('wednesday', 0.2864851181707352),\n   ('w', 0.2864577817695255),\n   ('station', 0.2840315676296587),\n   ('free', 0.282429784968538)],\n  '2000': [('return', 0.3651278355814282),\n   ('darkened', 0.2977646376615701),\n   ('deutsche', 0.2935834276806349),\n   ('went', 0.2910105743270783),\n   ('stay', 0.28810521749533086),\n   ('thursday', 0.2872300158866207),\n   ('wednesday', 0.2864851181707352),\n   ('w', 0.2864577817695255),\n   ('station', 0.2840315676296587),\n   ('free', 0.282429784968538)],\n  '2001': [('return', 0.3651278355814282),\n   ('darkened', 0.2977646376615701),\n   ('deutsche', 0.2935834276806349),\n   ('went', 0.2910105743270783),\n   ('stay', 0.28810521749533086),\n   ('thursday', 0.2872300158866207),\n   ('wednesday', 0.2864851181707352),\n   ('w', 0.2864577817695255),\n   ('station', 0.2840315676296587),\n   ('free', 0.282429784968538)],\n  '2002': [('return', 0.3651278355814282),\n   ('darkened', 0.2977646376615701),\n   ('deutsche', 0.2935834276806349),\n   ('went', 0.2910105743270783),\n   ('stay', 0.28810521749533086),\n   ('thursday', 0.2872300158866207),\n   ('wednesday', 0.2864851181707352),\n   ('w', 0.2864577817695255),\n   ('station', 0.2840315676296587),\n   ('free', 0.282429784968538)],\n  '2003': [('return', 0.3651278355814282),\n   ('darkened', 0.2977646376615701),\n   ('deutsche', 0.2935834276806349),\n   ('went', 0.2910105743270783),\n   ('stay', 0.28810521749533086),\n   ('thursday', 0.2872300158866207),\n   ('wednesday', 0.2864851181707352),\n   ('w', 0.2864577817695255),\n   ('station', 0.2840315676296587),\n   ('free', 0.282429784968538)],\n  '2004': [('return', 0.3651278355814282),\n   ('darkened', 0.2977646376615701),\n   ('deutsche', 0.2935834276806349),\n   ('went', 0.2910105743270783),\n   ('stay', 0.28810521749533086),\n   ('thursday', 0.2872300158866207),\n   ('wednesday', 0.2864851181707352),\n   ('w', 0.2864577817695255),\n   ('station', 0.2840315676296587),\n   ('free', 0.282429784968538)],\n  '2005': [('return', 0.3651278355814282),\n   ('darkened', 0.2977646376615701),\n   ('deutsche', 0.2935834276806349),\n   ('went', 0.2910105743270783),\n   ('stay', 0.28810521749533086),\n   ('thursday', 0.2872300158866207),\n   ('wednesday', 0.2864851181707352),\n   ('w', 0.2864577817695255),\n   ('station', 0.2840315676296587),\n   ('free', 0.282429784968538)],\n  '2006': [('return', 0.3651278355814282),\n   ('darkened', 0.2977646376615701),\n   ('deutsche', 0.2935834276806349),\n   ('went', 0.2910105743270783),\n   ('stay', 0.28810521749533086),\n   ('thursday', 0.2872300158866207),\n   ('wednesday', 0.2864851181707352),\n   ('w', 0.2864577817695255),\n   ('station', 0.2840315676296587),\n   ('free', 0.282429784968538)],\n  '2007': [('return', 0.3651278355814282),\n   ('darkened', 0.2977646376615701),\n   ('deutsche', 0.2935834276806349),\n   ('went', 0.2910105743270783),\n   ('stay', 0.28810521749533086),\n   ('thursday', 0.2872300158866207),\n   ('wednesday', 0.2864851181707352),\n   ('w', 0.2864577817695255),\n   ('station', 0.2840315676296587),\n   ('free', 0.282429784968538)],\n  '2008': [('return', 0.3651278355814282),\n   ('darkened', 0.2977646376615701),\n   ('deutsche', 0.2935834276806349),\n   ('went', 0.2910105743270783),\n   ('stay', 0.28810521749533086),\n   ('thursday', 0.2872300158866207),\n   ('wednesday', 0.2864851181707352),\n   ('w', 0.2864577817695255),\n   ('station', 0.2840315676296587),\n   ('free', 0.282429784968538)],\n  '2009': [('return', 0.3651278355814282),\n   ('darkened', 0.2977646376615701),\n   ('deutsche', 0.2935834276806349),\n   ('went', 0.2910105743270783),\n   ('stay', 0.28810521749533086),\n   ('thursday', 0.2872300158866207),\n   ('wednesday', 0.2864851181707352),\n   ('w', 0.2864577817695255),\n   ('station', 0.2840315676296587),\n   ('free', 0.282429784968538)],\n  '2010': [('return', 0.3651278355814282),\n   ('darkened', 0.2977646376615701),\n   ('deutsche', 0.2935834276806349),\n   ('went', 0.2910105743270783),\n   ('stay', 0.28810521749533086),\n   ('thursday', 0.2872300158866207),\n   ('wednesday', 0.2864851181707352),\n   ('w', 0.2864577817695255),\n   ('station', 0.2840315676296587),\n   ('free', 0.282429784968538)],\n  '2011': [('return', 0.3651278355814282),\n   ('darkened', 0.2977646376615701),\n   ('deutsche', 0.2935834276806349),\n   ('went', 0.2910105743270783),\n   ('stay', 0.28810521749533086),\n   ('thursday', 0.2872300158866207),\n   ('wednesday', 0.2864851181707352),\n   ('w', 0.2864577817695255),\n   ('station', 0.2840315676296587),\n   ('free', 0.282429784968538)],\n  '2012': [('return', 0.3651278355814282),\n   ('darkened', 0.2977646376615701),\n   ('deutsche', 0.2935834276806349),\n   ('went', 0.2910105743270783),\n   ('stay', 0.28810521749533086),\n   ('thursday', 0.2872300158866207),\n   ('wednesday', 0.2864851181707352),\n   ('w', 0.2864577817695255),\n   ('station', 0.2840315676296587),\n   ('free', 0.282429784968538)],\n  '2013': [('return', 0.3651278355814282),\n   ('darkened', 0.2977646376615701),\n   ('deutsche', 0.2935834276806349),\n   ('went', 0.2910105743270783),\n   ('stay', 0.28810521749533086),\n   ('thursday', 0.2872300158866207),\n   ('wednesday', 0.2864851181707352),\n   ('w', 0.2864577817695255),\n   ('station', 0.2840315676296587),\n   ('free', 0.282429784968538)],\n  '2014': [('return', 0.3651278355814282),\n   ('darkened', 0.2977646376615701),\n   ('deutsche', 0.2935834276806349),\n   ('went', 0.2910105743270783),\n   ('stay', 0.28810521749533086),\n   ('thursday', 0.2872300158866207),\n   ('wednesday', 0.2864851181707352),\n   ('w', 0.2864577817695255),\n   ('station', 0.2840315676296587),\n   ('free', 0.282429784968538)],\n  '2015': [('return', 0.3651278355814282),\n   ('darkened', 0.2977646376615701),\n   ('deutsche', 0.2935834276806349),\n   ('went', 0.2910105743270783),\n   ('stay', 0.28810521749533086),\n   ('thursday', 0.2872300158866207),\n   ('wednesday', 0.2864851181707352),\n   ('w', 0.2864577817695255),\n   ('station', 0.2840315676296587),\n   ('free', 0.282429784968538)],\n  '2016': [('return', 0.3651278355814282),\n   ('darkened', 0.2977646376615701),\n   ('deutsche', 0.2935834276806349),\n   ('went', 0.2910105743270783),\n   ('stay', 0.28810521749533086),\n   ('thursday', 0.2872300158866207),\n   ('wednesday', 0.2864851181707352),\n   ('w', 0.2864577817695255),\n   ('station', 0.2840315676296587),\n   ('free', 0.282429784968538)]},\n 'bush-2001': {'1990': [('return', 0.3651278355814282),\n   ('darkened', 0.2977646376615701),\n   ('deutsche', 0.2935834276806349),\n   ('went', 0.2910105743270783),\n   ('stay', 0.28810521749533086),\n   ('thursday', 0.2872300158866207),\n   ('wednesday', 0.2864851181707352),\n   ('w', 0.2864577817695255),\n   ('station', 0.2840315676296587),\n   ('free', 0.282429784968538)],\n  '1991': [('return', 0.3651278355814282),\n   ('darkened', 0.2977646376615701),\n   ('deutsche', 0.2935834276806349),\n   ('went', 0.2910105743270783),\n   ('stay', 0.28810521749533086),\n   ('thursday', 0.2872300158866207),\n   ('wednesday', 0.2864851181707352),\n   ('w', 0.2864577817695255),\n   ('station', 0.2840315676296587),\n   ('free', 0.282429784968538)],\n  '1992': [('return', 0.3651278355814282),\n   ('darkened', 0.2977646376615701),\n   ('deutsche', 0.2935834276806349),\n   ('went', 0.2910105743270783),\n   ('stay', 0.28810521749533086),\n   ('thursday', 0.2872300158866207),\n   ('wednesday', 0.2864851181707352),\n   ('w', 0.2864577817695255),\n   ('station', 0.2840315676296587),\n   ('free', 0.282429784968538)],\n  '1993': [('return', 0.3651278355814282),\n   ('darkened', 0.2977646376615701),\n   ('deutsche', 0.2935834276806349),\n   ('went', 0.2910105743270783),\n   ('stay', 0.28810521749533086),\n   ('thursday', 0.2872300158866207),\n   ('wednesday', 0.2864851181707352),\n   ('w', 0.2864577817695255),\n   ('station', 0.2840315676296587),\n   ('free', 0.282429784968538)],\n  '1994': [('return', 0.3651278355814282),\n   ('darkened', 0.2977646376615701),\n   ('went', 0.2910105743270783),\n   ('stay', 0.28810521749533086),\n   ('thursday', 0.2872300158866207),\n   ('wednesday', 0.2864851181707352),\n   ('w', 0.2864577817695255),\n   ('station', 0.2840315676296587),\n   ('free', 0.282429784968538),\n   ('kabul', 0.28211951714382777)],\n  '1995': [('return', 0.3651278355814282),\n   ('darkened', 0.2977646376615701),\n   ('deutsche', 0.2935834276806349),\n   ('went', 0.2910105743270783),\n   ('stay', 0.28810521749533086),\n   ('thursday', 0.2872300158866207),\n   ('wednesday', 0.2864851181707352),\n   ('w', 0.2864577817695255),\n   ('station', 0.2840315676296587),\n   ('free', 0.282429784968538)],\n  '1996': [('return', 0.3651278355814282),\n   ('darkened', 0.2977646376615701),\n   ('deutsche', 0.2935834276806349),\n   ('went', 0.2910105743270783),\n   ('stay', 0.28810521749533086),\n   ('thursday', 0.2872300158866207),\n   ('wednesday', 0.2864851181707352),\n   ('w', 0.2864577817695255),\n   ('station', 0.2840315676296587),\n   ('free', 0.282429784968538)],\n  '1997': [('return', 0.3651278355814282),\n   ('darkened', 0.2977646376615701),\n   ('deutsche', 0.2935834276806349),\n   ('went', 0.2910105743270783),\n   ('stay', 0.28810521749533086),\n   ('thursday', 0.2872300158866207),\n   ('wednesday', 0.2864851181707352),\n   ('w', 0.2864577817695255),\n   ('station', 0.2840315676296587),\n   ('free', 0.282429784968538)],\n  '1998': [('return', 0.3651278355814282),\n   ('darkened', 0.2977646376615701),\n   ('deutsche', 0.2935834276806349),\n   ('went', 0.2910105743270783),\n   ('stay', 0.28810521749533086),\n   ('thursday', 0.2872300158866207),\n   ('wednesday', 0.2864851181707352),\n   ('w', 0.2864577817695255),\n   ('station', 0.2840315676296587),\n   ('free', 0.282429784968538)],\n  '1999': [('return', 0.3651278355814282),\n   ('darkened', 0.2977646376615701),\n   ('deutsche', 0.2935834276806349),\n   ('went', 0.2910105743270783),\n   ('stay', 0.28810521749533086),\n   ('thursday', 0.2872300158866207),\n   ('wednesday', 0.2864851181707352),\n   ('w', 0.2864577817695255),\n   ('station', 0.2840315676296587),\n   ('free', 0.282429784968538)],\n  '2000': [('return', 0.3651278355814282),\n   ('darkened', 0.2977646376615701),\n   ('deutsche', 0.2935834276806349),\n   ('went', 0.2910105743270783),\n   ('stay', 0.28810521749533086),\n   ('thursday', 0.2872300158866207),\n   ('wednesday', 0.2864851181707352),\n   ('w', 0.2864577817695255),\n   ('station', 0.2840315676296587),\n   ('free', 0.282429784968538)],\n  '2001': [('return', 0.3651278355814282),\n   ('darkened', 0.2977646376615701),\n   ('deutsche', 0.2935834276806349),\n   ('went', 0.2910105743270783),\n   ('stay', 0.28810521749533086),\n   ('thursday', 0.2872300158866207),\n   ('wednesday', 0.2864851181707352),\n   ('w', 0.2864577817695255),\n   ('station', 0.2840315676296587),\n   ('free', 0.282429784968538)],\n  '2002': [('return', 0.3651278355814282),\n   ('darkened', 0.2977646376615701),\n   ('deutsche', 0.2935834276806349),\n   ('went', 0.2910105743270783),\n   ('stay', 0.28810521749533086),\n   ('thursday', 0.2872300158866207),\n   ('wednesday', 0.2864851181707352),\n   ('w', 0.2864577817695255),\n   ('station', 0.2840315676296587),\n   ('free', 0.282429784968538)],\n  '2003': [('return', 0.3651278355814282),\n   ('darkened', 0.2977646376615701),\n   ('deutsche', 0.2935834276806349),\n   ('went', 0.2910105743270783),\n   ('stay', 0.28810521749533086),\n   ('thursday', 0.2872300158866207),\n   ('wednesday', 0.2864851181707352),\n   ('w', 0.2864577817695255),\n   ('station', 0.2840315676296587),\n   ('free', 0.282429784968538)],\n  '2004': [('return', 0.3651278355814282),\n   ('darkened', 0.2977646376615701),\n   ('deutsche', 0.2935834276806349),\n   ('went', 0.2910105743270783),\n   ('stay', 0.28810521749533086),\n   ('thursday', 0.2872300158866207),\n   ('wednesday', 0.2864851181707352),\n   ('w', 0.2864577817695255),\n   ('station', 0.2840315676296587),\n   ('free', 0.282429784968538)],\n  '2005': [('return', 0.3651278355814282),\n   ('darkened', 0.2977646376615701),\n   ('deutsche', 0.2935834276806349),\n   ('went', 0.2910105743270783),\n   ('stay', 0.28810521749533086),\n   ('thursday', 0.2872300158866207),\n   ('wednesday', 0.2864851181707352),\n   ('w', 0.2864577817695255),\n   ('station', 0.2840315676296587),\n   ('free', 0.282429784968538)],\n  '2006': [('return', 0.3651278355814282),\n   ('darkened', 0.2977646376615701),\n   ('deutsche', 0.2935834276806349),\n   ('went', 0.2910105743270783),\n   ('stay', 0.28810521749533086),\n   ('thursday', 0.2872300158866207),\n   ('wednesday', 0.2864851181707352),\n   ('w', 0.2864577817695255),\n   ('station', 0.2840315676296587),\n   ('free', 0.282429784968538)],\n  '2007': [('return', 0.3651278355814282),\n   ('darkened', 0.2977646376615701),\n   ('deutsche', 0.2935834276806349),\n   ('went', 0.2910105743270783),\n   ('stay', 0.28810521749533086),\n   ('thursday', 0.2872300158866207),\n   ('wednesday', 0.2864851181707352),\n   ('w', 0.2864577817695255),\n   ('station', 0.2840315676296587),\n   ('free', 0.282429784968538)],\n  '2008': [('return', 0.3651278355814282),\n   ('darkened', 0.2977646376615701),\n   ('deutsche', 0.2935834276806349),\n   ('went', 0.2910105743270783),\n   ('stay', 0.28810521749533086),\n   ('thursday', 0.2872300158866207),\n   ('wednesday', 0.2864851181707352),\n   ('w', 0.2864577817695255),\n   ('station', 0.2840315676296587),\n   ('free', 0.282429784968538)],\n  '2009': [('return', 0.3651278355814282),\n   ('darkened', 0.2977646376615701),\n   ('deutsche', 0.2935834276806349),\n   ('went', 0.2910105743270783),\n   ('stay', 0.28810521749533086),\n   ('thursday', 0.2872300158866207),\n   ('wednesday', 0.2864851181707352),\n   ('w', 0.2864577817695255),\n   ('station', 0.2840315676296587),\n   ('free', 0.282429784968538)],\n  '2010': [('return', 0.3651278355814282),\n   ('darkened', 0.2977646376615701),\n   ('deutsche', 0.2935834276806349),\n   ('went', 0.2910105743270783),\n   ('stay', 0.28810521749533086),\n   ('thursday', 0.2872300158866207),\n   ('wednesday', 0.2864851181707352),\n   ('w', 0.2864577817695255),\n   ('station', 0.2840315676296587),\n   ('free', 0.282429784968538)],\n  '2011': [('return', 0.3651278355814282),\n   ('darkened', 0.2977646376615701),\n   ('deutsche', 0.2935834276806349),\n   ('went', 0.2910105743270783),\n   ('stay', 0.28810521749533086),\n   ('thursday', 0.2872300158866207),\n   ('wednesday', 0.2864851181707352),\n   ('w', 0.2864577817695255),\n   ('station', 0.2840315676296587),\n   ('free', 0.282429784968538)],\n  '2012': [('return', 0.3651278355814282),\n   ('darkened', 0.2977646376615701),\n   ('deutsche', 0.2935834276806349),\n   ('went', 0.2910105743270783),\n   ('stay', 0.28810521749533086),\n   ('thursday', 0.2872300158866207),\n   ('wednesday', 0.2864851181707352),\n   ('w', 0.2864577817695255),\n   ('station', 0.2840315676296587),\n   ('free', 0.282429784968538)],\n  '2013': [('return', 0.3651278355814282),\n   ('darkened', 0.2977646376615701),\n   ('deutsche', 0.2935834276806349),\n   ('went', 0.2910105743270783),\n   ('stay', 0.28810521749533086),\n   ('thursday', 0.2872300158866207),\n   ('wednesday', 0.2864851181707352),\n   ('w', 0.2864577817695255),\n   ('station', 0.2840315676296587),\n   ('free', 0.282429784968538)],\n  '2014': [('return', 0.3651278355814282),\n   ('darkened', 0.2977646376615701),\n   ('deutsche', 0.2935834276806349),\n   ('went', 0.2910105743270783),\n   ('stay', 0.28810521749533086),\n   ('thursday', 0.2872300158866207),\n   ('wednesday', 0.2864851181707352),\n   ('w', 0.2864577817695255),\n   ('station', 0.2840315676296587),\n   ('free', 0.282429784968538)],\n  '2015': [('return', 0.3651278355814282),\n   ('darkened', 0.2977646376615701),\n   ('deutsche', 0.2935834276806349),\n   ('went', 0.2910105743270783),\n   ('stay', 0.28810521749533086),\n   ('thursday', 0.2872300158866207),\n   ('wednesday', 0.2864851181707352),\n   ('w', 0.2864577817695255),\n   ('station', 0.2840315676296587),\n   ('free', 0.282429784968538)],\n  '2016': [('return', 0.3651278355814282),\n   ('darkened', 0.2977646376615701),\n   ('deutsche', 0.2935834276806349),\n   ('went', 0.2910105743270783),\n   ('stay', 0.28810521749533086),\n   ('thursday', 0.2872300158866207),\n   ('wednesday', 0.2864851181707352),\n   ('w', 0.2864577817695255),\n   ('station', 0.2840315676296587),\n   ('free', 0.282429784968538)]},\n 'bush-2002': {'1990': [('return', 0.3651278355814282),\n   ('darkened', 0.2977646376615701),\n   ('deutsche', 0.2935834276806349),\n   ('went', 0.2910105743270783),\n   ('stay', 0.28810521749533086),\n   ('thursday', 0.2872300158866207),\n   ('wednesday', 0.2864851181707352),\n   ('w', 0.2864577817695255),\n   ('station', 0.2840315676296587),\n   ('free', 0.282429784968538)],\n  '1991': [('return', 0.3651278355814282),\n   ('darkened', 0.2977646376615701),\n   ('deutsche', 0.2935834276806349),\n   ('went', 0.2910105743270783),\n   ('stay', 0.28810521749533086),\n   ('thursday', 0.2872300158866207),\n   ('wednesday', 0.2864851181707352),\n   ('w', 0.2864577817695255),\n   ('station', 0.2840315676296587),\n   ('free', 0.282429784968538)],\n  '1992': [('return', 0.3651278355814282),\n   ('darkened', 0.2977646376615701),\n   ('deutsche', 0.2935834276806349),\n   ('went', 0.2910105743270783),\n   ('stay', 0.28810521749533086),\n   ('thursday', 0.2872300158866207),\n   ('wednesday', 0.2864851181707352),\n   ('w', 0.2864577817695255),\n   ('station', 0.2840315676296587),\n   ('free', 0.282429784968538)],\n  '1993': [('return', 0.3651278355814282),\n   ('darkened', 0.2977646376615701),\n   ('deutsche', 0.2935834276806349),\n   ('went', 0.2910105743270783),\n   ('stay', 0.28810521749533086),\n   ('thursday', 0.2872300158866207),\n   ('wednesday', 0.2864851181707352),\n   ('w', 0.2864577817695255),\n   ('station', 0.2840315676296587),\n   ('free', 0.282429784968538)],\n  '1994': [('return', 0.3651278355814282),\n   ('darkened', 0.2977646376615701),\n   ('went', 0.2910105743270783),\n   ('stay', 0.28810521749533086),\n   ('thursday', 0.2872300158866207),\n   ('wednesday', 0.2864851181707352),\n   ('w', 0.2864577817695255),\n   ('station', 0.2840315676296587),\n   ('free', 0.282429784968538),\n   ('kabul', 0.28211951714382777)],\n  '1995': [('return', 0.3651278355814282),\n   ('darkened', 0.2977646376615701),\n   ('deutsche', 0.2935834276806349),\n   ('went', 0.2910105743270783),\n   ('stay', 0.28810521749533086),\n   ('thursday', 0.2872300158866207),\n   ('wednesday', 0.2864851181707352),\n   ('w', 0.2864577817695255),\n   ('station', 0.2840315676296587),\n   ('free', 0.282429784968538)],\n  '1996': [('return', 0.3651278355814282),\n   ('darkened', 0.2977646376615701),\n   ('deutsche', 0.2935834276806349),\n   ('went', 0.2910105743270783),\n   ('stay', 0.28810521749533086),\n   ('thursday', 0.2872300158866207),\n   ('wednesday', 0.2864851181707352),\n   ('w', 0.2864577817695255),\n   ('station', 0.2840315676296587),\n   ('free', 0.282429784968538)],\n  '1997': [('return', 0.3651278355814282),\n   ('darkened', 0.2977646376615701),\n   ('deutsche', 0.2935834276806349),\n   ('went', 0.2910105743270783),\n   ('stay', 0.28810521749533086),\n   ('thursday', 0.2872300158866207),\n   ('wednesday', 0.2864851181707352),\n   ('w', 0.2864577817695255),\n   ('station', 0.2840315676296587),\n   ('free', 0.282429784968538)],\n  '1998': [('return', 0.3651278355814282),\n   ('darkened', 0.2977646376615701),\n   ('deutsche', 0.2935834276806349),\n   ('went', 0.2910105743270783),\n   ('stay', 0.28810521749533086),\n   ('thursday', 0.2872300158866207),\n   ('wednesday', 0.2864851181707352),\n   ('w', 0.2864577817695255),\n   ('station', 0.2840315676296587),\n   ('free', 0.282429784968538)],\n  '1999': [('return', 0.3651278355814282),\n   ('darkened', 0.2977646376615701),\n   ('deutsche', 0.2935834276806349),\n   ('went', 0.2910105743270783),\n   ('stay', 0.28810521749533086),\n   ('thursday', 0.2872300158866207),\n   ('wednesday', 0.2864851181707352),\n   ('w', 0.2864577817695255),\n   ('station', 0.2840315676296587),\n   ('free', 0.282429784968538)],\n  '2000': [('return', 0.3651278355814282),\n   ('darkened', 0.2977646376615701),\n   ('deutsche', 0.2935834276806349),\n   ('went', 0.2910105743270783),\n   ('stay', 0.28810521749533086),\n   ('thursday', 0.2872300158866207),\n   ('wednesday', 0.2864851181707352),\n   ('w', 0.2864577817695255),\n   ('station', 0.2840315676296587),\n   ('free', 0.282429784968538)],\n  '2001': [('return', 0.3651278355814282),\n   ('darkened', 0.2977646376615701),\n   ('deutsche', 0.2935834276806349),\n   ('went', 0.2910105743270783),\n   ('stay', 0.28810521749533086),\n   ('thursday', 0.2872300158866207),\n   ('wednesday', 0.2864851181707352),\n   ('w', 0.2864577817695255),\n   ('station', 0.2840315676296587),\n   ('free', 0.282429784968538)],\n  '2002': [('return', 0.3651278355814282),\n   ('darkened', 0.2977646376615701),\n   ('deutsche', 0.2935834276806349),\n   ('went', 0.2910105743270783),\n   ('stay', 0.28810521749533086),\n   ('thursday', 0.2872300158866207),\n   ('wednesday', 0.2864851181707352),\n   ('w', 0.2864577817695255),\n   ('station', 0.2840315676296587),\n   ('free', 0.282429784968538)],\n  '2003': [('return', 0.3651278355814282),\n   ('darkened', 0.2977646376615701),\n   ('deutsche', 0.2935834276806349),\n   ('went', 0.2910105743270783),\n   ('stay', 0.28810521749533086),\n   ('thursday', 0.2872300158866207),\n   ('wednesday', 0.2864851181707352),\n   ('w', 0.2864577817695255),\n   ('station', 0.2840315676296587),\n   ('free', 0.282429784968538)],\n  '2004': [('return', 0.3651278355814282),\n   ('darkened', 0.2977646376615701),\n   ('deutsche', 0.2935834276806349),\n   ('went', 0.2910105743270783),\n   ('stay', 0.28810521749533086),\n   ('thursday', 0.2872300158866207),\n   ('wednesday', 0.2864851181707352),\n   ('w', 0.2864577817695255),\n   ('station', 0.2840315676296587),\n   ('free', 0.282429784968538)],\n  '2005': [('return', 0.3651278355814282),\n   ('darkened', 0.2977646376615701),\n   ('deutsche', 0.2935834276806349),\n   ('went', 0.2910105743270783),\n   ('stay', 0.28810521749533086),\n   ('thursday', 0.2872300158866207),\n   ('wednesday', 0.2864851181707352),\n   ('w', 0.2864577817695255),\n   ('station', 0.2840315676296587),\n   ('free', 0.282429784968538)],\n  '2006': [('return', 0.3651278355814282),\n   ('darkened', 0.2977646376615701),\n   ('deutsche', 0.2935834276806349),\n   ('went', 0.2910105743270783),\n   ('stay', 0.28810521749533086),\n   ('thursday', 0.2872300158866207),\n   ('wednesday', 0.2864851181707352),\n   ('w', 0.2864577817695255),\n   ('station', 0.2840315676296587),\n   ('free', 0.282429784968538)],\n  '2007': [('return', 0.3651278355814282),\n   ('darkened', 0.2977646376615701),\n   ('deutsche', 0.2935834276806349),\n   ('went', 0.2910105743270783),\n   ('stay', 0.28810521749533086),\n   ('thursday', 0.2872300158866207),\n   ('wednesday', 0.2864851181707352),\n   ('w', 0.2864577817695255),\n   ('station', 0.2840315676296587),\n   ('free', 0.282429784968538)],\n  '2008': [('return', 0.3651278355814282),\n   ('darkened', 0.2977646376615701),\n   ('deutsche', 0.2935834276806349),\n   ('went', 0.2910105743270783),\n   ('stay', 0.28810521749533086),\n   ('thursday', 0.2872300158866207),\n   ('wednesday', 0.2864851181707352),\n   ('w', 0.2864577817695255),\n   ('station', 0.2840315676296587),\n   ('free', 0.282429784968538)],\n  '2009': [('return', 0.3651278355814282),\n   ('darkened', 0.2977646376615701),\n   ('deutsche', 0.2935834276806349),\n   ('went', 0.2910105743270783),\n   ('stay', 0.28810521749533086),\n   ('thursday', 0.2872300158866207),\n   ('wednesday', 0.2864851181707352),\n   ('w', 0.2864577817695255),\n   ('station', 0.2840315676296587),\n   ('free', 0.282429784968538)],\n  '2010': [('return', 0.3651278355814282),\n   ('darkened', 0.2977646376615701),\n   ('deutsche', 0.2935834276806349),\n   ('went', 0.2910105743270783),\n   ('stay', 0.28810521749533086),\n   ('thursday', 0.2872300158866207),\n   ('wednesday', 0.2864851181707352),\n   ('w', 0.2864577817695255),\n   ('station', 0.2840315676296587),\n   ('free', 0.282429784968538)],\n  '2011': [('return', 0.3651278355814282),\n   ('darkened', 0.2977646376615701),\n   ('deutsche', 0.2935834276806349),\n   ('went', 0.2910105743270783),\n   ('stay', 0.28810521749533086),\n   ('thursday', 0.2872300158866207),\n   ('wednesday', 0.2864851181707352),\n   ('w', 0.2864577817695255),\n   ('station', 0.2840315676296587),\n   ('free', 0.282429784968538)],\n  '2012': [('return', 0.3651278355814282),\n   ('darkened', 0.2977646376615701),\n   ('deutsche', 0.2935834276806349),\n   ('went', 0.2910105743270783),\n   ('stay', 0.28810521749533086),\n   ('thursday', 0.2872300158866207),\n   ('wednesday', 0.2864851181707352),\n   ('w', 0.2864577817695255),\n   ('station', 0.2840315676296587),\n   ('free', 0.282429784968538)],\n  '2013': [('return', 0.3651278355814282),\n   ('darkened', 0.2977646376615701),\n   ('deutsche', 0.2935834276806349),\n   ('went', 0.2910105743270783),\n   ('stay', 0.28810521749533086),\n   ('thursday', 0.2872300158866207),\n   ('wednesday', 0.2864851181707352),\n   ('w', 0.2864577817695255),\n   ('station', 0.2840315676296587),\n   ('free', 0.282429784968538)],\n  '2014': [('return', 0.3651278355814282),\n   ('darkened', 0.2977646376615701),\n   ('deutsche', 0.2935834276806349),\n   ('went', 0.2910105743270783),\n   ('stay', 0.28810521749533086),\n   ('thursday', 0.2872300158866207),\n   ('wednesday', 0.2864851181707352),\n   ('w', 0.2864577817695255),\n   ('station', 0.2840315676296587),\n   ('free', 0.282429784968538)],\n  '2015': [('return', 0.3651278355814282),\n   ('darkened', 0.2977646376615701),\n   ('deutsche', 0.2935834276806349),\n   ('went', 0.2910105743270783),\n   ('stay', 0.28810521749533086),\n   ('thursday', 0.2872300158866207),\n   ('wednesday', 0.2864851181707352),\n   ('w', 0.2864577817695255),\n   ('station', 0.2840315676296587),\n   ('free', 0.282429784968538)],\n  '2016': [('return', 0.3651278355814282),\n   ('darkened', 0.2977646376615701),\n   ('deutsche', 0.2935834276806349),\n   ('went', 0.2910105743270783),\n   ('stay', 0.28810521749533086),\n   ('thursday', 0.2872300158866207),\n   ('wednesday', 0.2864851181707352),\n   ('w', 0.2864577817695255),\n   ('station', 0.2840315676296587),\n   ('free', 0.282429784968538)]},\n 'bush-2003': {'1990': [('return', 0.3651278355814282),\n   ('darkened', 0.2977646376615701),\n   ('deutsche', 0.2935834276806349),\n   ('went', 0.2910105743270783),\n   ('stay', 0.28810521749533086),\n   ('thursday', 0.2872300158866207),\n   ('wednesday', 0.2864851181707352),\n   ('w', 0.2864577817695255),\n   ('station', 0.2840315676296587),\n   ('free', 0.282429784968538)],\n  '1991': [('return', 0.3651278355814282),\n   ('darkened', 0.2977646376615701),\n   ('deutsche', 0.2935834276806349),\n   ('went', 0.2910105743270783),\n   ('stay', 0.28810521749533086),\n   ('thursday', 0.2872300158866207),\n   ('wednesday', 0.2864851181707352),\n   ('w', 0.2864577817695255),\n   ('station', 0.2840315676296587),\n   ('free', 0.282429784968538)],\n  '1992': [('return', 0.3651278355814282),\n   ('darkened', 0.2977646376615701),\n   ('deutsche', 0.2935834276806349),\n   ('went', 0.2910105743270783),\n   ('stay', 0.28810521749533086),\n   ('thursday', 0.2872300158866207),\n   ('wednesday', 0.2864851181707352),\n   ('w', 0.2864577817695255),\n   ('station', 0.2840315676296587),\n   ('free', 0.282429784968538)],\n  '1993': [('return', 0.3651278355814282),\n   ('darkened', 0.2977646376615701),\n   ('deutsche', 0.2935834276806349),\n   ('went', 0.2910105743270783),\n   ('stay', 0.28810521749533086),\n   ('thursday', 0.2872300158866207),\n   ('wednesday', 0.2864851181707352),\n   ('w', 0.2864577817695255),\n   ('station', 0.2840315676296587),\n   ('free', 0.282429784968538)],\n  '1994': [('return', 0.3651278355814282),\n   ('darkened', 0.2977646376615701),\n   ('went', 0.2910105743270783),\n   ('stay', 0.28810521749533086),\n   ('thursday', 0.2872300158866207),\n   ('wednesday', 0.2864851181707352),\n   ('w', 0.2864577817695255),\n   ('station', 0.2840315676296587),\n   ('free', 0.282429784968538),\n   ('kabul', 0.28211951714382777)],\n  '1995': [('return', 0.3651278355814282),\n   ('darkened', 0.2977646376615701),\n   ('deutsche', 0.2935834276806349),\n   ('went', 0.2910105743270783),\n   ('stay', 0.28810521749533086),\n   ('thursday', 0.2872300158866207),\n   ('wednesday', 0.2864851181707352),\n   ('w', 0.2864577817695255),\n   ('station', 0.2840315676296587),\n   ('free', 0.282429784968538)],\n  '1996': [('return', 0.3651278355814282),\n   ('darkened', 0.2977646376615701),\n   ('deutsche', 0.2935834276806349),\n   ('went', 0.2910105743270783),\n   ('stay', 0.28810521749533086),\n   ('thursday', 0.2872300158866207),\n   ('wednesday', 0.2864851181707352),\n   ('w', 0.2864577817695255),\n   ('station', 0.2840315676296587),\n   ('free', 0.282429784968538)],\n  '1997': [('return', 0.3651278355814282),\n   ('darkened', 0.2977646376615701),\n   ('deutsche', 0.2935834276806349),\n   ('went', 0.2910105743270783),\n   ('stay', 0.28810521749533086),\n   ('thursday', 0.2872300158866207),\n   ('wednesday', 0.2864851181707352),\n   ('w', 0.2864577817695255),\n   ('station', 0.2840315676296587),\n   ('free', 0.282429784968538)],\n  '1998': [('return', 0.3651278355814282),\n   ('darkened', 0.2977646376615701),\n   ('deutsche', 0.2935834276806349),\n   ('went', 0.2910105743270783),\n   ('stay', 0.28810521749533086),\n   ('thursday', 0.2872300158866207),\n   ('wednesday', 0.2864851181707352),\n   ('w', 0.2864577817695255),\n   ('station', 0.2840315676296587),\n   ('free', 0.282429784968538)],\n  '1999': [('return', 0.3651278355814282),\n   ('darkened', 0.2977646376615701),\n   ('deutsche', 0.2935834276806349),\n   ('went', 0.2910105743270783),\n   ('stay', 0.28810521749533086),\n   ('thursday', 0.2872300158866207),\n   ('wednesday', 0.2864851181707352),\n   ('w', 0.2864577817695255),\n   ('station', 0.2840315676296587),\n   ('free', 0.282429784968538)],\n  '2000': [('return', 0.3651278355814282),\n   ('darkened', 0.2977646376615701),\n   ('deutsche', 0.2935834276806349),\n   ('went', 0.2910105743270783),\n   ('stay', 0.28810521749533086),\n   ('thursday', 0.2872300158866207),\n   ('wednesday', 0.2864851181707352),\n   ('w', 0.2864577817695255),\n   ('station', 0.2840315676296587),\n   ('free', 0.282429784968538)],\n  '2001': [('return', 0.3651278355814282),\n   ('darkened', 0.2977646376615701),\n   ('deutsche', 0.2935834276806349),\n   ('went', 0.2910105743270783),\n   ('stay', 0.28810521749533086),\n   ('thursday', 0.2872300158866207),\n   ('wednesday', 0.2864851181707352),\n   ('w', 0.2864577817695255),\n   ('station', 0.2840315676296587),\n   ('free', 0.282429784968538)],\n  '2002': [('return', 0.3651278355814282),\n   ('darkened', 0.2977646376615701),\n   ('deutsche', 0.2935834276806349),\n   ('went', 0.2910105743270783),\n   ('stay', 0.28810521749533086),\n   ('thursday', 0.2872300158866207),\n   ('wednesday', 0.2864851181707352),\n   ('w', 0.2864577817695255),\n   ('station', 0.2840315676296587),\n   ('free', 0.282429784968538)],\n  '2003': [('return', 0.3651278355814282),\n   ('darkened', 0.2977646376615701),\n   ('deutsche', 0.2935834276806349),\n   ('went', 0.2910105743270783),\n   ('stay', 0.28810521749533086),\n   ('thursday', 0.2872300158866207),\n   ('wednesday', 0.2864851181707352),\n   ('w', 0.2864577817695255),\n   ('station', 0.2840315676296587),\n   ('free', 0.282429784968538)],\n  '2004': [('return', 0.3651278355814282),\n   ('darkened', 0.2977646376615701),\n   ('deutsche', 0.2935834276806349),\n   ('went', 0.2910105743270783),\n   ('stay', 0.28810521749533086),\n   ('thursday', 0.2872300158866207),\n   ('wednesday', 0.2864851181707352),\n   ('w', 0.2864577817695255),\n   ('station', 0.2840315676296587),\n   ('free', 0.282429784968538)],\n  '2005': [('return', 0.3651278355814282),\n   ('darkened', 0.2977646376615701),\n   ('deutsche', 0.2935834276806349),\n   ('went', 0.2910105743270783),\n   ('stay', 0.28810521749533086),\n   ('thursday', 0.2872300158866207),\n   ('wednesday', 0.2864851181707352),\n   ('w', 0.2864577817695255),\n   ('station', 0.2840315676296587),\n   ('free', 0.282429784968538)],\n  '2006': [('return', 0.3651278355814282),\n   ('darkened', 0.2977646376615701),\n   ('deutsche', 0.2935834276806349),\n   ('went', 0.2910105743270783),\n   ('stay', 0.28810521749533086),\n   ('thursday', 0.2872300158866207),\n   ('wednesday', 0.2864851181707352),\n   ('w', 0.2864577817695255),\n   ('station', 0.2840315676296587),\n   ('free', 0.282429784968538)],\n  '2007': [('return', 0.3651278355814282),\n   ('darkened', 0.2977646376615701),\n   ('deutsche', 0.2935834276806349),\n   ('went', 0.2910105743270783),\n   ('stay', 0.28810521749533086),\n   ('thursday', 0.2872300158866207),\n   ('wednesday', 0.2864851181707352),\n   ('w', 0.2864577817695255),\n   ('station', 0.2840315676296587),\n   ('free', 0.282429784968538)],\n  '2008': [('return', 0.3651278355814282),\n   ('darkened', 0.2977646376615701),\n   ('deutsche', 0.2935834276806349),\n   ('went', 0.2910105743270783),\n   ('stay', 0.28810521749533086),\n   ('thursday', 0.2872300158866207),\n   ('wednesday', 0.2864851181707352),\n   ('w', 0.2864577817695255),\n   ('station', 0.2840315676296587),\n   ('free', 0.282429784968538)],\n  '2009': [('return', 0.3651278355814282),\n   ('darkened', 0.2977646376615701),\n   ('deutsche', 0.2935834276806349),\n   ('went', 0.2910105743270783),\n   ('stay', 0.28810521749533086),\n   ('thursday', 0.2872300158866207),\n   ('wednesday', 0.2864851181707352),\n   ('w', 0.2864577817695255),\n   ('station', 0.2840315676296587),\n   ('free', 0.282429784968538)],\n  '2010': [('return', 0.3651278355814282),\n   ('darkened', 0.2977646376615701),\n   ('deutsche', 0.2935834276806349),\n   ('went', 0.2910105743270783),\n   ('stay', 0.28810521749533086),\n   ('thursday', 0.2872300158866207),\n   ('wednesday', 0.2864851181707352),\n   ('w', 0.2864577817695255),\n   ('station', 0.2840315676296587),\n   ('free', 0.282429784968538)],\n  '2011': [('return', 0.3651278355814282),\n   ('darkened', 0.2977646376615701),\n   ('deutsche', 0.2935834276806349),\n   ('went', 0.2910105743270783),\n   ('stay', 0.28810521749533086),\n   ('thursday', 0.2872300158866207),\n   ('wednesday', 0.2864851181707352),\n   ('w', 0.2864577817695255),\n   ('station', 0.2840315676296587),\n   ('free', 0.282429784968538)],\n  '2012': [('return', 0.3651278355814282),\n   ('darkened', 0.2977646376615701),\n   ('deutsche', 0.2935834276806349),\n   ('went', 0.2910105743270783),\n   ('stay', 0.28810521749533086),\n   ('thursday', 0.2872300158866207),\n   ('wednesday', 0.2864851181707352),\n   ('w', 0.2864577817695255),\n   ('station', 0.2840315676296587),\n   ('free', 0.282429784968538)],\n  '2013': [('return', 0.3651278355814282),\n   ('darkened', 0.2977646376615701),\n   ('deutsche', 0.2935834276806349),\n   ('went', 0.2910105743270783),\n   ('stay', 0.28810521749533086),\n   ('thursday', 0.2872300158866207),\n   ('wednesday', 0.2864851181707352),\n   ('w', 0.2864577817695255),\n   ('station', 0.2840315676296587),\n   ('free', 0.282429784968538)],\n  '2014': [('return', 0.3651278355814282),\n   ('darkened', 0.2977646376615701),\n   ('deutsche', 0.2935834276806349),\n   ('went', 0.2910105743270783),\n   ('stay', 0.28810521749533086),\n   ('thursday', 0.2872300158866207),\n   ('wednesday', 0.2864851181707352),\n   ('w', 0.2864577817695255),\n   ('station', 0.2840315676296587),\n   ('free', 0.282429784968538)],\n  '2015': [('return', 0.3651278355814282),\n   ('darkened', 0.2977646376615701),\n   ('deutsche', 0.2935834276806349),\n   ('went', 0.2910105743270783),\n   ('stay', 0.28810521749533086),\n   ('thursday', 0.2872300158866207),\n   ('wednesday', 0.2864851181707352),\n   ('w', 0.2864577817695255),\n   ('station', 0.2840315676296587),\n   ('free', 0.282429784968538)],\n  '2016': [('return', 0.3651278355814282),\n   ('darkened', 0.2977646376615701),\n   ('deutsche', 0.2935834276806349),\n   ('went', 0.2910105743270783),\n   ('stay', 0.28810521749533086),\n   ('thursday', 0.2872300158866207),\n   ('wednesday', 0.2864851181707352),\n   ('w', 0.2864577817695255),\n   ('station', 0.2840315676296587),\n   ('free', 0.282429784968538)]},\n 'bush-2004': {'1990': [('return', 0.3651278355814282),\n   ('darkened', 0.2977646376615701),\n   ('deutsche', 0.2935834276806349),\n   ('went', 0.2910105743270783),\n   ('stay', 0.28810521749533086),\n   ('thursday', 0.2872300158866207),\n   ('wednesday', 0.2864851181707352),\n   ('w', 0.2864577817695255),\n   ('station', 0.2840315676296587),\n   ('free', 0.282429784968538)],\n  '1991': [('return', 0.3651278355814282),\n   ('darkened', 0.2977646376615701),\n   ('deutsche', 0.2935834276806349),\n   ('went', 0.2910105743270783),\n   ('stay', 0.28810521749533086),\n   ('thursday', 0.2872300158866207),\n   ('wednesday', 0.2864851181707352),\n   ('w', 0.2864577817695255),\n   ('station', 0.2840315676296587),\n   ('free', 0.282429784968538)],\n  '1992': [('return', 0.3651278355814282),\n   ('darkened', 0.2977646376615701),\n   ('deutsche', 0.2935834276806349),\n   ('went', 0.2910105743270783),\n   ('stay', 0.28810521749533086),\n   ('thursday', 0.2872300158866207),\n   ('wednesday', 0.2864851181707352),\n   ('w', 0.2864577817695255),\n   ('station', 0.2840315676296587),\n   ('free', 0.282429784968538)],\n  '1993': [('return', 0.3651278355814282),\n   ('darkened', 0.2977646376615701),\n   ('deutsche', 0.2935834276806349),\n   ('went', 0.2910105743270783),\n   ('stay', 0.28810521749533086),\n   ('thursday', 0.2872300158866207),\n   ('wednesday', 0.2864851181707352),\n   ('w', 0.2864577817695255),\n   ('station', 0.2840315676296587),\n   ('free', 0.282429784968538)],\n  '1994': [('return', 0.3651278355814282),\n   ('darkened', 0.2977646376615701),\n   ('went', 0.2910105743270783),\n   ('stay', 0.28810521749533086),\n   ('thursday', 0.2872300158866207),\n   ('wednesday', 0.2864851181707352),\n   ('w', 0.2864577817695255),\n   ('station', 0.2840315676296587),\n   ('free', 0.282429784968538),\n   ('kabul', 0.28211951714382777)],\n  '1995': [('return', 0.3651278355814282),\n   ('darkened', 0.2977646376615701),\n   ('deutsche', 0.2935834276806349),\n   ('went', 0.2910105743270783),\n   ('stay', 0.28810521749533086),\n   ('thursday', 0.2872300158866207),\n   ('wednesday', 0.2864851181707352),\n   ('w', 0.2864577817695255),\n   ('station', 0.2840315676296587),\n   ('free', 0.282429784968538)],\n  '1996': [('return', 0.3651278355814282),\n   ('darkened', 0.2977646376615701),\n   ('deutsche', 0.2935834276806349),\n   ('went', 0.2910105743270783),\n   ('stay', 0.28810521749533086),\n   ('thursday', 0.2872300158866207),\n   ('wednesday', 0.2864851181707352),\n   ('w', 0.2864577817695255),\n   ('station', 0.2840315676296587),\n   ('free', 0.282429784968538)],\n  '1997': [('return', 0.3651278355814282),\n   ('darkened', 0.2977646376615701),\n   ('deutsche', 0.2935834276806349),\n   ('went', 0.2910105743270783),\n   ('stay', 0.28810521749533086),\n   ('thursday', 0.2872300158866207),\n   ('wednesday', 0.2864851181707352),\n   ('w', 0.2864577817695255),\n   ('station', 0.2840315676296587),\n   ('free', 0.282429784968538)],\n  '1998': [('return', 0.3651278355814282),\n   ('darkened', 0.2977646376615701),\n   ('deutsche', 0.2935834276806349),\n   ('went', 0.2910105743270783),\n   ('stay', 0.28810521749533086),\n   ('thursday', 0.2872300158866207),\n   ('wednesday', 0.2864851181707352),\n   ('w', 0.2864577817695255),\n   ('station', 0.2840315676296587),\n   ('free', 0.282429784968538)],\n  '1999': [('return', 0.3651278355814282),\n   ('darkened', 0.2977646376615701),\n   ('deutsche', 0.2935834276806349),\n   ('went', 0.2910105743270783),\n   ('stay', 0.28810521749533086),\n   ('thursday', 0.2872300158866207),\n   ('wednesday', 0.2864851181707352),\n   ('w', 0.2864577817695255),\n   ('station', 0.2840315676296587),\n   ('free', 0.282429784968538)],\n  '2000': [('return', 0.3651278355814282),\n   ('darkened', 0.2977646376615701),\n   ('deutsche', 0.2935834276806349),\n   ('went', 0.2910105743270783),\n   ('stay', 0.28810521749533086),\n   ('thursday', 0.2872300158866207),\n   ('wednesday', 0.2864851181707352),\n   ('w', 0.2864577817695255),\n   ('station', 0.2840315676296587),\n   ('free', 0.282429784968538)],\n  '2001': [('return', 0.3651278355814282),\n   ('darkened', 0.2977646376615701),\n   ('deutsche', 0.2935834276806349),\n   ('went', 0.2910105743270783),\n   ('stay', 0.28810521749533086),\n   ('thursday', 0.2872300158866207),\n   ('wednesday', 0.2864851181707352),\n   ('w', 0.2864577817695255),\n   ('station', 0.2840315676296587),\n   ('free', 0.282429784968538)],\n  '2002': [('return', 0.3651278355814282),\n   ('darkened', 0.2977646376615701),\n   ('deutsche', 0.2935834276806349),\n   ('went', 0.2910105743270783),\n   ('stay', 0.28810521749533086),\n   ('thursday', 0.2872300158866207),\n   ('wednesday', 0.2864851181707352),\n   ('w', 0.2864577817695255),\n   ('station', 0.2840315676296587),\n   ('free', 0.282429784968538)],\n  '2003': [('return', 0.3651278355814282),\n   ('darkened', 0.2977646376615701),\n   ('deutsche', 0.2935834276806349),\n   ('went', 0.2910105743270783),\n   ('stay', 0.28810521749533086),\n   ('thursday', 0.2872300158866207),\n   ('wednesday', 0.2864851181707352),\n   ('w', 0.2864577817695255),\n   ('station', 0.2840315676296587),\n   ('free', 0.282429784968538)],\n  '2004': [('return', 0.3651278355814282),\n   ('darkened', 0.2977646376615701),\n   ('deutsche', 0.2935834276806349),\n   ('went', 0.2910105743270783),\n   ('stay', 0.28810521749533086),\n   ('thursday', 0.2872300158866207),\n   ('wednesday', 0.2864851181707352),\n   ('w', 0.2864577817695255),\n   ('station', 0.2840315676296587),\n   ('free', 0.282429784968538)],\n  '2005': [('return', 0.3651278355814282),\n   ('darkened', 0.2977646376615701),\n   ('deutsche', 0.2935834276806349),\n   ('went', 0.2910105743270783),\n   ('stay', 0.28810521749533086),\n   ('thursday', 0.2872300158866207),\n   ('wednesday', 0.2864851181707352),\n   ('w', 0.2864577817695255),\n   ('station', 0.2840315676296587),\n   ('free', 0.282429784968538)],\n  '2006': [('return', 0.3651278355814282),\n   ('darkened', 0.2977646376615701),\n   ('deutsche', 0.2935834276806349),\n   ('went', 0.2910105743270783),\n   ('stay', 0.28810521749533086),\n   ('thursday', 0.2872300158866207),\n   ('wednesday', 0.2864851181707352),\n   ('w', 0.2864577817695255),\n   ('station', 0.2840315676296587),\n   ('free', 0.282429784968538)],\n  '2007': [('return', 0.3651278355814282),\n   ('darkened', 0.2977646376615701),\n   ('deutsche', 0.2935834276806349),\n   ('went', 0.2910105743270783),\n   ('stay', 0.28810521749533086),\n   ('thursday', 0.2872300158866207),\n   ('wednesday', 0.2864851181707352),\n   ('w', 0.2864577817695255),\n   ('station', 0.2840315676296587),\n   ('free', 0.282429784968538)],\n  '2008': [('return', 0.3651278355814282),\n   ('darkened', 0.2977646376615701),\n   ('deutsche', 0.2935834276806349),\n   ('went', 0.2910105743270783),\n   ('stay', 0.28810521749533086),\n   ('thursday', 0.2872300158866207),\n   ('wednesday', 0.2864851181707352),\n   ('w', 0.2864577817695255),\n   ('station', 0.2840315676296587),\n   ('free', 0.282429784968538)],\n  '2009': [('return', 0.3651278355814282),\n   ('darkened', 0.2977646376615701),\n   ('deutsche', 0.2935834276806349),\n   ('went', 0.2910105743270783),\n   ('stay', 0.28810521749533086),\n   ('thursday', 0.2872300158866207),\n   ('wednesday', 0.2864851181707352),\n   ('w', 0.2864577817695255),\n   ('station', 0.2840315676296587),\n   ('free', 0.282429784968538)],\n  '2010': [('return', 0.3651278355814282),\n   ('darkened', 0.2977646376615701),\n   ('deutsche', 0.2935834276806349),\n   ('went', 0.2910105743270783),\n   ('stay', 0.28810521749533086),\n   ('thursday', 0.2872300158866207),\n   ('wednesday', 0.2864851181707352),\n   ('w', 0.2864577817695255),\n   ('station', 0.2840315676296587),\n   ('free', 0.282429784968538)],\n  '2011': [('return', 0.3651278355814282),\n   ('darkened', 0.2977646376615701),\n   ('deutsche', 0.2935834276806349),\n   ('went', 0.2910105743270783),\n   ('stay', 0.28810521749533086),\n   ('thursday', 0.2872300158866207),\n   ('wednesday', 0.2864851181707352),\n   ('w', 0.2864577817695255),\n   ('station', 0.2840315676296587),\n   ('free', 0.282429784968538)],\n  '2012': [('return', 0.3651278355814282),\n   ('darkened', 0.2977646376615701),\n   ('deutsche', 0.2935834276806349),\n   ('went', 0.2910105743270783),\n   ('stay', 0.28810521749533086),\n   ('thursday', 0.2872300158866207),\n   ('wednesday', 0.2864851181707352),\n   ('w', 0.2864577817695255),\n   ('station', 0.2840315676296587),\n   ('free', 0.282429784968538)],\n  '2013': [('return', 0.3651278355814282),\n   ('darkened', 0.2977646376615701),\n   ('deutsche', 0.2935834276806349),\n   ('went', 0.2910105743270783),\n   ('stay', 0.28810521749533086),\n   ('thursday', 0.2872300158866207),\n   ('wednesday', 0.2864851181707352),\n   ('w', 0.2864577817695255),\n   ('station', 0.2840315676296587),\n   ('free', 0.282429784968538)],\n  '2014': [('return', 0.3651278355814282),\n   ('darkened', 0.2977646376615701),\n   ('deutsche', 0.2935834276806349),\n   ('went', 0.2910105743270783),\n   ('stay', 0.28810521749533086),\n   ('thursday', 0.2872300158866207),\n   ('wednesday', 0.2864851181707352),\n   ('w', 0.2864577817695255),\n   ('station', 0.2840315676296587),\n   ('free', 0.282429784968538)],\n  '2015': [('return', 0.3651278355814282),\n   ('darkened', 0.2977646376615701),\n   ('deutsche', 0.2935834276806349),\n   ('went', 0.2910105743270783),\n   ('stay', 0.28810521749533086),\n   ('thursday', 0.2872300158866207),\n   ('wednesday', 0.2864851181707352),\n   ('w', 0.2864577817695255),\n   ('station', 0.2840315676296587),\n   ('free', 0.282429784968538)],\n  '2016': [('return', 0.3651278355814282),\n   ('darkened', 0.2977646376615701),\n   ('deutsche', 0.2935834276806349),\n   ('went', 0.2910105743270783),\n   ('stay', 0.28810521749533086),\n   ('thursday', 0.2872300158866207),\n   ('wednesday', 0.2864851181707352),\n   ('w', 0.2864577817695255),\n   ('station', 0.2840315676296587),\n   ('free', 0.282429784968538)]},\n 'bush-2005': {'1990': [('return', 0.3651278355814282),\n   ('darkened', 0.2977646376615701),\n   ('deutsche', 0.2935834276806349),\n   ('went', 0.2910105743270783),\n   ('stay', 0.28810521749533086),\n   ('thursday', 0.2872300158866207),\n   ('wednesday', 0.2864851181707352),\n   ('w', 0.2864577817695255),\n   ('station', 0.2840315676296587),\n   ('free', 0.282429784968538)],\n  '1991': [('return', 0.3651278355814282),\n   ('darkened', 0.2977646376615701),\n   ('deutsche', 0.2935834276806349),\n   ('went', 0.2910105743270783),\n   ('stay', 0.28810521749533086),\n   ('thursday', 0.2872300158866207),\n   ('wednesday', 0.2864851181707352),\n   ('w', 0.2864577817695255),\n   ('station', 0.2840315676296587),\n   ('free', 0.282429784968538)],\n  '1992': [('return', 0.3651278355814282),\n   ('darkened', 0.2977646376615701),\n   ('deutsche', 0.2935834276806349),\n   ('went', 0.2910105743270783),\n   ('stay', 0.28810521749533086),\n   ('thursday', 0.2872300158866207),\n   ('wednesday', 0.2864851181707352),\n   ('w', 0.2864577817695255),\n   ('station', 0.2840315676296587),\n   ('free', 0.282429784968538)],\n  '1993': [('return', 0.3651278355814282),\n   ('darkened', 0.2977646376615701),\n   ('deutsche', 0.2935834276806349),\n   ('went', 0.2910105743270783),\n   ('stay', 0.28810521749533086),\n   ('thursday', 0.2872300158866207),\n   ('wednesday', 0.2864851181707352),\n   ('w', 0.2864577817695255),\n   ('station', 0.2840315676296587),\n   ('free', 0.282429784968538)],\n  '1994': [('return', 0.3651278355814282),\n   ('darkened', 0.2977646376615701),\n   ('went', 0.2910105743270783),\n   ('stay', 0.28810521749533086),\n   ('thursday', 0.2872300158866207),\n   ('wednesday', 0.2864851181707352),\n   ('w', 0.2864577817695255),\n   ('station', 0.2840315676296587),\n   ('free', 0.282429784968538),\n   ('kabul', 0.28211951714382777)],\n  '1995': [('return', 0.3651278355814282),\n   ('darkened', 0.2977646376615701),\n   ('deutsche', 0.2935834276806349),\n   ('went', 0.2910105743270783),\n   ('stay', 0.28810521749533086),\n   ('thursday', 0.2872300158866207),\n   ('wednesday', 0.2864851181707352),\n   ('w', 0.2864577817695255),\n   ('station', 0.2840315676296587),\n   ('free', 0.282429784968538)],\n  '1996': [('return', 0.3651278355814282),\n   ('darkened', 0.2977646376615701),\n   ('deutsche', 0.2935834276806349),\n   ('went', 0.2910105743270783),\n   ('stay', 0.28810521749533086),\n   ('thursday', 0.2872300158866207),\n   ('wednesday', 0.2864851181707352),\n   ('w', 0.2864577817695255),\n   ('station', 0.2840315676296587),\n   ('free', 0.282429784968538)],\n  '1997': [('return', 0.3651278355814282),\n   ('darkened', 0.2977646376615701),\n   ('deutsche', 0.2935834276806349),\n   ('went', 0.2910105743270783),\n   ('stay', 0.28810521749533086),\n   ('thursday', 0.2872300158866207),\n   ('wednesday', 0.2864851181707352),\n   ('w', 0.2864577817695255),\n   ('station', 0.2840315676296587),\n   ('free', 0.282429784968538)],\n  '1998': [('return', 0.3651278355814282),\n   ('darkened', 0.2977646376615701),\n   ('deutsche', 0.2935834276806349),\n   ('went', 0.2910105743270783),\n   ('stay', 0.28810521749533086),\n   ('thursday', 0.2872300158866207),\n   ('wednesday', 0.2864851181707352),\n   ('w', 0.2864577817695255),\n   ('station', 0.2840315676296587),\n   ('free', 0.282429784968538)],\n  '1999': [('return', 0.3651278355814282),\n   ('darkened', 0.2977646376615701),\n   ('deutsche', 0.2935834276806349),\n   ('went', 0.2910105743270783),\n   ('stay', 0.28810521749533086),\n   ('thursday', 0.2872300158866207),\n   ('wednesday', 0.2864851181707352),\n   ('w', 0.2864577817695255),\n   ('station', 0.2840315676296587),\n   ('free', 0.282429784968538)],\n  '2000': [('return', 0.3651278355814282),\n   ('darkened', 0.2977646376615701),\n   ('deutsche', 0.2935834276806349),\n   ('went', 0.2910105743270783),\n   ('stay', 0.28810521749533086),\n   ('thursday', 0.2872300158866207),\n   ('wednesday', 0.2864851181707352),\n   ('w', 0.2864577817695255),\n   ('station', 0.2840315676296587),\n   ('free', 0.282429784968538)],\n  '2001': [('return', 0.3651278355814282),\n   ('darkened', 0.2977646376615701),\n   ('deutsche', 0.2935834276806349),\n   ('went', 0.2910105743270783),\n   ('stay', 0.28810521749533086),\n   ('thursday', 0.2872300158866207),\n   ('wednesday', 0.2864851181707352),\n   ('w', 0.2864577817695255),\n   ('station', 0.2840315676296587),\n   ('free', 0.282429784968538)],\n  '2002': [('return', 0.3651278355814282),\n   ('darkened', 0.2977646376615701),\n   ('deutsche', 0.2935834276806349),\n   ('went', 0.2910105743270783),\n   ('stay', 0.28810521749533086),\n   ('thursday', 0.2872300158866207),\n   ('wednesday', 0.2864851181707352),\n   ('w', 0.2864577817695255),\n   ('station', 0.2840315676296587),\n   ('free', 0.282429784968538)],\n  '2003': [('return', 0.3651278355814282),\n   ('darkened', 0.2977646376615701),\n   ('deutsche', 0.2935834276806349),\n   ('went', 0.2910105743270783),\n   ('stay', 0.28810521749533086),\n   ('thursday', 0.2872300158866207),\n   ('wednesday', 0.2864851181707352),\n   ('w', 0.2864577817695255),\n   ('station', 0.2840315676296587),\n   ('free', 0.282429784968538)],\n  '2004': [('return', 0.3651278355814282),\n   ('darkened', 0.2977646376615701),\n   ('deutsche', 0.2935834276806349),\n   ('went', 0.2910105743270783),\n   ('stay', 0.28810521749533086),\n   ('thursday', 0.2872300158866207),\n   ('wednesday', 0.2864851181707352),\n   ('w', 0.2864577817695255),\n   ('station', 0.2840315676296587),\n   ('free', 0.282429784968538)],\n  '2005': [('return', 0.3651278355814282),\n   ('darkened', 0.2977646376615701),\n   ('deutsche', 0.2935834276806349),\n   ('went', 0.2910105743270783),\n   ('stay', 0.28810521749533086),\n   ('thursday', 0.2872300158866207),\n   ('wednesday', 0.2864851181707352),\n   ('w', 0.2864577817695255),\n   ('station', 0.2840315676296587),\n   ('free', 0.282429784968538)],\n  '2006': [('return', 0.3651278355814282),\n   ('darkened', 0.2977646376615701),\n   ('deutsche', 0.2935834276806349),\n   ('went', 0.2910105743270783),\n   ('stay', 0.28810521749533086),\n   ('thursday', 0.2872300158866207),\n   ('wednesday', 0.2864851181707352),\n   ('w', 0.2864577817695255),\n   ('station', 0.2840315676296587),\n   ('free', 0.282429784968538)],\n  '2007': [('return', 0.3651278355814282),\n   ('darkened', 0.2977646376615701),\n   ('deutsche', 0.2935834276806349),\n   ('went', 0.2910105743270783),\n   ('stay', 0.28810521749533086),\n   ('thursday', 0.2872300158866207),\n   ('wednesday', 0.2864851181707352),\n   ('w', 0.2864577817695255),\n   ('station', 0.2840315676296587),\n   ('free', 0.282429784968538)],\n  '2008': [('return', 0.3651278355814282),\n   ('darkened', 0.2977646376615701),\n   ('deutsche', 0.2935834276806349),\n   ('went', 0.2910105743270783),\n   ('stay', 0.28810521749533086),\n   ('thursday', 0.2872300158866207),\n   ('wednesday', 0.2864851181707352),\n   ('w', 0.2864577817695255),\n   ('station', 0.2840315676296587),\n   ('free', 0.282429784968538)],\n  '2009': [('return', 0.3651278355814282),\n   ('darkened', 0.2977646376615701),\n   ('deutsche', 0.2935834276806349),\n   ('went', 0.2910105743270783),\n   ('stay', 0.28810521749533086),\n   ('thursday', 0.2872300158866207),\n   ('wednesday', 0.2864851181707352),\n   ('w', 0.2864577817695255),\n   ('station', 0.2840315676296587),\n   ('free', 0.282429784968538)],\n  '2010': [('return', 0.3651278355814282),\n   ('darkened', 0.2977646376615701),\n   ('deutsche', 0.2935834276806349),\n   ('went', 0.2910105743270783),\n   ('stay', 0.28810521749533086),\n   ('thursday', 0.2872300158866207),\n   ('wednesday', 0.2864851181707352),\n   ('w', 0.2864577817695255),\n   ('station', 0.2840315676296587),\n   ('free', 0.282429784968538)],\n  '2011': [('return', 0.3651278355814282),\n   ('darkened', 0.2977646376615701),\n   ('deutsche', 0.2935834276806349),\n   ('went', 0.2910105743270783),\n   ('stay', 0.28810521749533086),\n   ('thursday', 0.2872300158866207),\n   ('wednesday', 0.2864851181707352),\n   ('w', 0.2864577817695255),\n   ('station', 0.2840315676296587),\n   ('free', 0.282429784968538)],\n  '2012': [('return', 0.3651278355814282),\n   ('darkened', 0.2977646376615701),\n   ('deutsche', 0.2935834276806349),\n   ('went', 0.2910105743270783),\n   ('stay', 0.28810521749533086),\n   ('thursday', 0.2872300158866207),\n   ('wednesday', 0.2864851181707352),\n   ('w', 0.2864577817695255),\n   ('station', 0.2840315676296587),\n   ('free', 0.282429784968538)],\n  '2013': [('return', 0.3651278355814282),\n   ('darkened', 0.2977646376615701),\n   ('deutsche', 0.2935834276806349),\n   ('went', 0.2910105743270783),\n   ('stay', 0.28810521749533086),\n   ('thursday', 0.2872300158866207),\n   ('wednesday', 0.2864851181707352),\n   ('w', 0.2864577817695255),\n   ('station', 0.2840315676296587),\n   ('free', 0.282429784968538)],\n  '2014': [('return', 0.3651278355814282),\n   ('darkened', 0.2977646376615701),\n   ('deutsche', 0.2935834276806349),\n   ('went', 0.2910105743270783),\n   ('stay', 0.28810521749533086),\n   ('thursday', 0.2872300158866207),\n   ('wednesday', 0.2864851181707352),\n   ('w', 0.2864577817695255),\n   ('station', 0.2840315676296587),\n   ('free', 0.282429784968538)],\n  '2015': [('return', 0.3651278355814282),\n   ('darkened', 0.2977646376615701),\n   ('deutsche', 0.2935834276806349),\n   ('went', 0.2910105743270783),\n   ('stay', 0.28810521749533086),\n   ('thursday', 0.2872300158866207),\n   ('wednesday', 0.2864851181707352),\n   ('w', 0.2864577817695255),\n   ('station', 0.2840315676296587),\n   ('free', 0.282429784968538)],\n  '2016': [('return', 0.3651278355814282),\n   ('darkened', 0.2977646376615701),\n   ('deutsche', 0.2935834276806349),\n   ('went', 0.2910105743270783),\n   ('stay', 0.28810521749533086),\n   ('thursday', 0.2872300158866207),\n   ('wednesday', 0.2864851181707352),\n   ('w', 0.2864577817695255),\n   ('station', 0.2840315676296587),\n   ('free', 0.282429784968538)]},\n 'bush-2006': {'1990': [('return', 0.3651278355814282),\n   ('darkened', 0.2977646376615701),\n   ('deutsche', 0.2935834276806349),\n   ('went', 0.2910105743270783),\n   ('stay', 0.28810521749533086),\n   ('thursday', 0.2872300158866207),\n   ('wednesday', 0.2864851181707352),\n   ('w', 0.2864577817695255),\n   ('station', 0.2840315676296587),\n   ('free', 0.282429784968538)],\n  '1991': [('return', 0.3651278355814282),\n   ('darkened', 0.2977646376615701),\n   ('deutsche', 0.2935834276806349),\n   ('went', 0.2910105743270783),\n   ('stay', 0.28810521749533086),\n   ('thursday', 0.2872300158866207),\n   ('wednesday', 0.2864851181707352),\n   ('w', 0.2864577817695255),\n   ('station', 0.2840315676296587),\n   ('free', 0.282429784968538)],\n  '1992': [('return', 0.3651278355814282),\n   ('darkened', 0.2977646376615701),\n   ('deutsche', 0.2935834276806349),\n   ('went', 0.2910105743270783),\n   ('stay', 0.28810521749533086),\n   ('thursday', 0.2872300158866207),\n   ('wednesday', 0.2864851181707352),\n   ('w', 0.2864577817695255),\n   ('station', 0.2840315676296587),\n   ('free', 0.282429784968538)],\n  '1993': [('return', 0.3651278355814282),\n   ('darkened', 0.2977646376615701),\n   ('deutsche', 0.2935834276806349),\n   ('went', 0.2910105743270783),\n   ('stay', 0.28810521749533086),\n   ('thursday', 0.2872300158866207),\n   ('wednesday', 0.2864851181707352),\n   ('w', 0.2864577817695255),\n   ('station', 0.2840315676296587),\n   ('free', 0.282429784968538)],\n  '1994': [('return', 0.3651278355814282),\n   ('darkened', 0.2977646376615701),\n   ('went', 0.2910105743270783),\n   ('stay', 0.28810521749533086),\n   ('thursday', 0.2872300158866207),\n   ('wednesday', 0.2864851181707352),\n   ('w', 0.2864577817695255),\n   ('station', 0.2840315676296587),\n   ('free', 0.282429784968538),\n   ('kabul', 0.28211951714382777)],\n  '1995': [('return', 0.3651278355814282),\n   ('darkened', 0.2977646376615701),\n   ('deutsche', 0.2935834276806349),\n   ('went', 0.2910105743270783),\n   ('stay', 0.28810521749533086),\n   ('thursday', 0.2872300158866207),\n   ('wednesday', 0.2864851181707352),\n   ('w', 0.2864577817695255),\n   ('station', 0.2840315676296587),\n   ('free', 0.282429784968538)],\n  '1996': [('return', 0.3651278355814282),\n   ('darkened', 0.2977646376615701),\n   ('deutsche', 0.2935834276806349),\n   ('went', 0.2910105743270783),\n   ('stay', 0.28810521749533086),\n   ('thursday', 0.2872300158866207),\n   ('wednesday', 0.2864851181707352),\n   ('w', 0.2864577817695255),\n   ('station', 0.2840315676296587),\n   ('free', 0.282429784968538)],\n  '1997': [('return', 0.3651278355814282),\n   ('darkened', 0.2977646376615701),\n   ('deutsche', 0.2935834276806349),\n   ('went', 0.2910105743270783),\n   ('stay', 0.28810521749533086),\n   ('thursday', 0.2872300158866207),\n   ('wednesday', 0.2864851181707352),\n   ('w', 0.2864577817695255),\n   ('station', 0.2840315676296587),\n   ('free', 0.282429784968538)],\n  '1998': [('return', 0.3651278355814282),\n   ('darkened', 0.2977646376615701),\n   ('deutsche', 0.2935834276806349),\n   ('went', 0.2910105743270783),\n   ('stay', 0.28810521749533086),\n   ('thursday', 0.2872300158866207),\n   ('wednesday', 0.2864851181707352),\n   ('w', 0.2864577817695255),\n   ('station', 0.2840315676296587),\n   ('free', 0.282429784968538)],\n  '1999': [('return', 0.3651278355814282),\n   ('darkened', 0.2977646376615701),\n   ('deutsche', 0.2935834276806349),\n   ('went', 0.2910105743270783),\n   ('stay', 0.28810521749533086),\n   ('thursday', 0.2872300158866207),\n   ('wednesday', 0.2864851181707352),\n   ('w', 0.2864577817695255),\n   ('station', 0.2840315676296587),\n   ('free', 0.282429784968538)],\n  '2000': [('return', 0.3651278355814282),\n   ('darkened', 0.2977646376615701),\n   ('deutsche', 0.2935834276806349),\n   ('went', 0.2910105743270783),\n   ('stay', 0.28810521749533086),\n   ('thursday', 0.2872300158866207),\n   ('wednesday', 0.2864851181707352),\n   ('w', 0.2864577817695255),\n   ('station', 0.2840315676296587),\n   ('free', 0.282429784968538)],\n  '2001': [('return', 0.3651278355814282),\n   ('darkened', 0.2977646376615701),\n   ('deutsche', 0.2935834276806349),\n   ('went', 0.2910105743270783),\n   ('stay', 0.28810521749533086),\n   ('thursday', 0.2872300158866207),\n   ('wednesday', 0.2864851181707352),\n   ('w', 0.2864577817695255),\n   ('station', 0.2840315676296587),\n   ('free', 0.282429784968538)],\n  '2002': [('return', 0.3651278355814282),\n   ('darkened', 0.2977646376615701),\n   ('deutsche', 0.2935834276806349),\n   ('went', 0.2910105743270783),\n   ('stay', 0.28810521749533086),\n   ('thursday', 0.2872300158866207),\n   ('wednesday', 0.2864851181707352),\n   ('w', 0.2864577817695255),\n   ('station', 0.2840315676296587),\n   ('free', 0.282429784968538)],\n  '2003': [('return', 0.3651278355814282),\n   ('darkened', 0.2977646376615701),\n   ('deutsche', 0.2935834276806349),\n   ('went', 0.2910105743270783),\n   ('stay', 0.28810521749533086),\n   ('thursday', 0.2872300158866207),\n   ('wednesday', 0.2864851181707352),\n   ('w', 0.2864577817695255),\n   ('station', 0.2840315676296587),\n   ('free', 0.282429784968538)],\n  '2004': [('return', 0.3651278355814282),\n   ('darkened', 0.2977646376615701),\n   ('deutsche', 0.2935834276806349),\n   ('went', 0.2910105743270783),\n   ('stay', 0.28810521749533086),\n   ('thursday', 0.2872300158866207),\n   ('wednesday', 0.2864851181707352),\n   ('w', 0.2864577817695255),\n   ('station', 0.2840315676296587),\n   ('free', 0.282429784968538)],\n  '2005': [('return', 0.3651278355814282),\n   ('darkened', 0.2977646376615701),\n   ('deutsche', 0.2935834276806349),\n   ('went', 0.2910105743270783),\n   ('stay', 0.28810521749533086),\n   ('thursday', 0.2872300158866207),\n   ('wednesday', 0.2864851181707352),\n   ('w', 0.2864577817695255),\n   ('station', 0.2840315676296587),\n   ('free', 0.282429784968538)],\n  '2006': [('return', 0.3651278355814282),\n   ('darkened', 0.2977646376615701),\n   ('deutsche', 0.2935834276806349),\n   ('went', 0.2910105743270783),\n   ('stay', 0.28810521749533086),\n   ('thursday', 0.2872300158866207),\n   ('wednesday', 0.2864851181707352),\n   ('w', 0.2864577817695255),\n   ('station', 0.2840315676296587),\n   ('free', 0.282429784968538)],\n  '2007': [('return', 0.3651278355814282),\n   ('darkened', 0.2977646376615701),\n   ('deutsche', 0.2935834276806349),\n   ('went', 0.2910105743270783),\n   ('stay', 0.28810521749533086),\n   ('thursday', 0.2872300158866207),\n   ('wednesday', 0.2864851181707352),\n   ('w', 0.2864577817695255),\n   ('station', 0.2840315676296587),\n   ('free', 0.282429784968538)],\n  '2008': [('return', 0.3651278355814282),\n   ('darkened', 0.2977646376615701),\n   ('deutsche', 0.2935834276806349),\n   ('went', 0.2910105743270783),\n   ('stay', 0.28810521749533086),\n   ('thursday', 0.2872300158866207),\n   ('wednesday', 0.2864851181707352),\n   ('w', 0.2864577817695255),\n   ('station', 0.2840315676296587),\n   ('free', 0.282429784968538)],\n  '2009': [('return', 0.3651278355814282),\n   ('darkened', 0.2977646376615701),\n   ('deutsche', 0.2935834276806349),\n   ('went', 0.2910105743270783),\n   ('stay', 0.28810521749533086),\n   ('thursday', 0.2872300158866207),\n   ('wednesday', 0.2864851181707352),\n   ('w', 0.2864577817695255),\n   ('station', 0.2840315676296587),\n   ('free', 0.282429784968538)],\n  '2010': [('return', 0.3651278355814282),\n   ('darkened', 0.2977646376615701),\n   ('deutsche', 0.2935834276806349),\n   ('went', 0.2910105743270783),\n   ('stay', 0.28810521749533086),\n   ('thursday', 0.2872300158866207),\n   ('wednesday', 0.2864851181707352),\n   ('w', 0.2864577817695255),\n   ('station', 0.2840315676296587),\n   ('free', 0.282429784968538)],\n  '2011': [('return', 0.3651278355814282),\n   ('darkened', 0.2977646376615701),\n   ('deutsche', 0.2935834276806349),\n   ('went', 0.2910105743270783),\n   ('stay', 0.28810521749533086),\n   ('thursday', 0.2872300158866207),\n   ('wednesday', 0.2864851181707352),\n   ('w', 0.2864577817695255),\n   ('station', 0.2840315676296587),\n   ('free', 0.282429784968538)],\n  '2012': [('return', 0.3651278355814282),\n   ('darkened', 0.2977646376615701),\n   ('deutsche', 0.2935834276806349),\n   ('went', 0.2910105743270783),\n   ('stay', 0.28810521749533086),\n   ('thursday', 0.2872300158866207),\n   ('wednesday', 0.2864851181707352),\n   ('w', 0.2864577817695255),\n   ('station', 0.2840315676296587),\n   ('free', 0.282429784968538)],\n  '2013': [('return', 0.3651278355814282),\n   ('darkened', 0.2977646376615701),\n   ('deutsche', 0.2935834276806349),\n   ('went', 0.2910105743270783),\n   ('stay', 0.28810521749533086),\n   ('thursday', 0.2872300158866207),\n   ('wednesday', 0.2864851181707352),\n   ('w', 0.2864577817695255),\n   ('station', 0.2840315676296587),\n   ('free', 0.282429784968538)],\n  '2014': [('return', 0.3651278355814282),\n   ('darkened', 0.2977646376615701),\n   ('deutsche', 0.2935834276806349),\n   ('went', 0.2910105743270783),\n   ('stay', 0.28810521749533086),\n   ('thursday', 0.2872300158866207),\n   ('wednesday', 0.2864851181707352),\n   ('w', 0.2864577817695255),\n   ('station', 0.2840315676296587),\n   ('free', 0.282429784968538)],\n  '2015': [('return', 0.3651278355814282),\n   ('darkened', 0.2977646376615701),\n   ('deutsche', 0.2935834276806349),\n   ('went', 0.2910105743270783),\n   ('stay', 0.28810521749533086),\n   ('thursday', 0.2872300158866207),\n   ('wednesday', 0.2864851181707352),\n   ('w', 0.2864577817695255),\n   ('station', 0.2840315676296587),\n   ('free', 0.282429784968538)],\n  '2016': [('return', 0.3651278355814282),\n   ('darkened', 0.2977646376615701),\n   ('deutsche', 0.2935834276806349),\n   ('went', 0.2910105743270783),\n   ('stay', 0.28810521749533086),\n   ('thursday', 0.2872300158866207),\n   ('wednesday', 0.2864851181707352),\n   ('w', 0.2864577817695255),\n   ('station', 0.2840315676296587),\n   ('free', 0.282429784968538)]},\n 'bush-2007': {'1990': [('return', 0.3651278355814282),\n   ('darkened', 0.2977646376615701),\n   ('deutsche', 0.2935834276806349),\n   ('went', 0.2910105743270783),\n   ('stay', 0.28810521749533086),\n   ('thursday', 0.2872300158866207),\n   ('wednesday', 0.2864851181707352),\n   ('w', 0.2864577817695255),\n   ('station', 0.2840315676296587),\n   ('free', 0.282429784968538)],\n  '1991': [('return', 0.3651278355814282),\n   ('darkened', 0.2977646376615701),\n   ('deutsche', 0.2935834276806349),\n   ('went', 0.2910105743270783),\n   ('stay', 0.28810521749533086),\n   ('thursday', 0.2872300158866207),\n   ('wednesday', 0.2864851181707352),\n   ('w', 0.2864577817695255),\n   ('station', 0.2840315676296587),\n   ('free', 0.282429784968538)],\n  '1992': [('return', 0.3651278355814282),\n   ('darkened', 0.2977646376615701),\n   ('deutsche', 0.2935834276806349),\n   ('went', 0.2910105743270783),\n   ('stay', 0.28810521749533086),\n   ('thursday', 0.2872300158866207),\n   ('wednesday', 0.2864851181707352),\n   ('w', 0.2864577817695255),\n   ('station', 0.2840315676296587),\n   ('free', 0.282429784968538)],\n  '1993': [('return', 0.3651278355814282),\n   ('darkened', 0.2977646376615701),\n   ('deutsche', 0.2935834276806349),\n   ('went', 0.2910105743270783),\n   ('stay', 0.28810521749533086),\n   ('thursday', 0.2872300158866207),\n   ('wednesday', 0.2864851181707352),\n   ('w', 0.2864577817695255),\n   ('station', 0.2840315676296587),\n   ('free', 0.282429784968538)],\n  '1994': [('return', 0.3651278355814282),\n   ('darkened', 0.2977646376615701),\n   ('went', 0.2910105743270783),\n   ('stay', 0.28810521749533086),\n   ('thursday', 0.2872300158866207),\n   ('wednesday', 0.2864851181707352),\n   ('w', 0.2864577817695255),\n   ('station', 0.2840315676296587),\n   ('free', 0.282429784968538),\n   ('kabul', 0.28211951714382777)],\n  '1995': [('return', 0.3651278355814282),\n   ('darkened', 0.2977646376615701),\n   ('deutsche', 0.2935834276806349),\n   ('went', 0.2910105743270783),\n   ('stay', 0.28810521749533086),\n   ('thursday', 0.2872300158866207),\n   ('wednesday', 0.2864851181707352),\n   ('w', 0.2864577817695255),\n   ('station', 0.2840315676296587),\n   ('free', 0.282429784968538)],\n  '1996': [('return', 0.3651278355814282),\n   ('darkened', 0.2977646376615701),\n   ('deutsche', 0.2935834276806349),\n   ('went', 0.2910105743270783),\n   ('stay', 0.28810521749533086),\n   ('thursday', 0.2872300158866207),\n   ('wednesday', 0.2864851181707352),\n   ('w', 0.2864577817695255),\n   ('station', 0.2840315676296587),\n   ('free', 0.282429784968538)],\n  '1997': [('return', 0.3651278355814282),\n   ('darkened', 0.2977646376615701),\n   ('deutsche', 0.2935834276806349),\n   ('went', 0.2910105743270783),\n   ('stay', 0.28810521749533086),\n   ('thursday', 0.2872300158866207),\n   ('wednesday', 0.2864851181707352),\n   ('w', 0.2864577817695255),\n   ('station', 0.2840315676296587),\n   ('free', 0.282429784968538)],\n  '1998': [('return', 0.3651278355814282),\n   ('darkened', 0.2977646376615701),\n   ('deutsche', 0.2935834276806349),\n   ('went', 0.2910105743270783),\n   ('stay', 0.28810521749533086),\n   ('thursday', 0.2872300158866207),\n   ('wednesday', 0.2864851181707352),\n   ('w', 0.2864577817695255),\n   ('station', 0.2840315676296587),\n   ('free', 0.282429784968538)],\n  '1999': [('return', 0.3651278355814282),\n   ('darkened', 0.2977646376615701),\n   ('deutsche', 0.2935834276806349),\n   ('went', 0.2910105743270783),\n   ('stay', 0.28810521749533086),\n   ('thursday', 0.2872300158866207),\n   ('wednesday', 0.2864851181707352),\n   ('w', 0.2864577817695255),\n   ('station', 0.2840315676296587),\n   ('free', 0.282429784968538)],\n  '2000': [('return', 0.3651278355814282),\n   ('darkened', 0.2977646376615701),\n   ('deutsche', 0.2935834276806349),\n   ('went', 0.2910105743270783),\n   ('stay', 0.28810521749533086),\n   ('thursday', 0.2872300158866207),\n   ('wednesday', 0.2864851181707352),\n   ('w', 0.2864577817695255),\n   ('station', 0.2840315676296587),\n   ('free', 0.282429784968538)],\n  '2001': [('return', 0.3651278355814282),\n   ('darkened', 0.2977646376615701),\n   ('deutsche', 0.2935834276806349),\n   ('went', 0.2910105743270783),\n   ('stay', 0.28810521749533086),\n   ('thursday', 0.2872300158866207),\n   ('wednesday', 0.2864851181707352),\n   ('w', 0.2864577817695255),\n   ('station', 0.2840315676296587),\n   ('free', 0.282429784968538)],\n  '2002': [('return', 0.3651278355814282),\n   ('darkened', 0.2977646376615701),\n   ('deutsche', 0.2935834276806349),\n   ('went', 0.2910105743270783),\n   ('stay', 0.28810521749533086),\n   ('thursday', 0.2872300158866207),\n   ('wednesday', 0.2864851181707352),\n   ('w', 0.2864577817695255),\n   ('station', 0.2840315676296587),\n   ('free', 0.282429784968538)],\n  '2003': [('return', 0.3651278355814282),\n   ('darkened', 0.2977646376615701),\n   ('deutsche', 0.2935834276806349),\n   ('went', 0.2910105743270783),\n   ('stay', 0.28810521749533086),\n   ('thursday', 0.2872300158866207),\n   ('wednesday', 0.2864851181707352),\n   ('w', 0.2864577817695255),\n   ('station', 0.2840315676296587),\n   ('free', 0.282429784968538)],\n  '2004': [('return', 0.3651278355814282),\n   ('darkened', 0.2977646376615701),\n   ('deutsche', 0.2935834276806349),\n   ('went', 0.2910105743270783),\n   ('stay', 0.28810521749533086),\n   ('thursday', 0.2872300158866207),\n   ('wednesday', 0.2864851181707352),\n   ('w', 0.2864577817695255),\n   ('station', 0.2840315676296587),\n   ('free', 0.282429784968538)],\n  '2005': [('return', 0.3651278355814282),\n   ('darkened', 0.2977646376615701),\n   ('deutsche', 0.2935834276806349),\n   ('went', 0.2910105743270783),\n   ('stay', 0.28810521749533086),\n   ('thursday', 0.2872300158866207),\n   ('wednesday', 0.2864851181707352),\n   ('w', 0.2864577817695255),\n   ('station', 0.2840315676296587),\n   ('free', 0.282429784968538)],\n  '2006': [('return', 0.3651278355814282),\n   ('darkened', 0.2977646376615701),\n   ('deutsche', 0.2935834276806349),\n   ('went', 0.2910105743270783),\n   ('stay', 0.28810521749533086),\n   ('thursday', 0.2872300158866207),\n   ('wednesday', 0.2864851181707352),\n   ('w', 0.2864577817695255),\n   ('station', 0.2840315676296587),\n   ('free', 0.282429784968538)],\n  '2007': [('return', 0.3651278355814282),\n   ('darkened', 0.2977646376615701),\n   ('deutsche', 0.2935834276806349),\n   ('went', 0.2910105743270783),\n   ('stay', 0.28810521749533086),\n   ('thursday', 0.2872300158866207),\n   ('wednesday', 0.2864851181707352),\n   ('w', 0.2864577817695255),\n   ('station', 0.2840315676296587),\n   ('free', 0.282429784968538)],\n  '2008': [('return', 0.3651278355814282),\n   ('darkened', 0.2977646376615701),\n   ('deutsche', 0.2935834276806349),\n   ('went', 0.2910105743270783),\n   ('stay', 0.28810521749533086),\n   ('thursday', 0.2872300158866207),\n   ('wednesday', 0.2864851181707352),\n   ('w', 0.2864577817695255),\n   ('station', 0.2840315676296587),\n   ('free', 0.282429784968538)],\n  '2009': [('return', 0.3651278355814282),\n   ('darkened', 0.2977646376615701),\n   ('deutsche', 0.2935834276806349),\n   ('went', 0.2910105743270783),\n   ('stay', 0.28810521749533086),\n   ('thursday', 0.2872300158866207),\n   ('wednesday', 0.2864851181707352),\n   ('w', 0.2864577817695255),\n   ('station', 0.2840315676296587),\n   ('free', 0.282429784968538)],\n  '2010': [('return', 0.3651278355814282),\n   ('darkened', 0.2977646376615701),\n   ('deutsche', 0.2935834276806349),\n   ('went', 0.2910105743270783),\n   ('stay', 0.28810521749533086),\n   ('thursday', 0.2872300158866207),\n   ('wednesday', 0.2864851181707352),\n   ('w', 0.2864577817695255),\n   ('station', 0.2840315676296587),\n   ('free', 0.282429784968538)],\n  '2011': [('return', 0.3651278355814282),\n   ('darkened', 0.2977646376615701),\n   ('deutsche', 0.2935834276806349),\n   ('went', 0.2910105743270783),\n   ('stay', 0.28810521749533086),\n   ('thursday', 0.2872300158866207),\n   ('wednesday', 0.2864851181707352),\n   ('w', 0.2864577817695255),\n   ('station', 0.2840315676296587),\n   ('free', 0.282429784968538)],\n  '2012': [('return', 0.3651278355814282),\n   ('darkened', 0.2977646376615701),\n   ('deutsche', 0.2935834276806349),\n   ('went', 0.2910105743270783),\n   ('stay', 0.28810521749533086),\n   ('thursday', 0.2872300158866207),\n   ('wednesday', 0.2864851181707352),\n   ('w', 0.2864577817695255),\n   ('station', 0.2840315676296587),\n   ('free', 0.282429784968538)],\n  '2013': [('return', 0.3651278355814282),\n   ('darkened', 0.2977646376615701),\n   ('deutsche', 0.2935834276806349),\n   ('went', 0.2910105743270783),\n   ('stay', 0.28810521749533086),\n   ('thursday', 0.2872300158866207),\n   ('wednesday', 0.2864851181707352),\n   ('w', 0.2864577817695255),\n   ('station', 0.2840315676296587),\n   ('free', 0.282429784968538)],\n  '2014': [('return', 0.3651278355814282),\n   ('darkened', 0.2977646376615701),\n   ('deutsche', 0.2935834276806349),\n   ('went', 0.2910105743270783),\n   ('stay', 0.28810521749533086),\n   ('thursday', 0.2872300158866207),\n   ('wednesday', 0.2864851181707352),\n   ('w', 0.2864577817695255),\n   ('station', 0.2840315676296587),\n   ('free', 0.282429784968538)],\n  '2015': [('return', 0.3651278355814282),\n   ('darkened', 0.2977646376615701),\n   ('deutsche', 0.2935834276806349),\n   ('went', 0.2910105743270783),\n   ('stay', 0.28810521749533086),\n   ('thursday', 0.2872300158866207),\n   ('wednesday', 0.2864851181707352),\n   ('w', 0.2864577817695255),\n   ('station', 0.2840315676296587),\n   ('free', 0.282429784968538)],\n  '2016': [('return', 0.3651278355814282),\n   ('darkened', 0.2977646376615701),\n   ('deutsche', 0.2935834276806349),\n   ('went', 0.2910105743270783),\n   ('stay', 0.28810521749533086),\n   ('thursday', 0.2872300158866207),\n   ('wednesday', 0.2864851181707352),\n   ('w', 0.2864577817695255),\n   ('station', 0.2840315676296587),\n   ('free', 0.282429784968538)]}}"
     },
     "execution_count": 63,
     "metadata": {},
     "output_type": "execute_result"
    }
   ],
   "source": [
    "similarities_tppmi"
   ],
   "metadata": {
    "collapsed": false
   }
  },
  {
   "cell_type": "code",
   "execution_count": null,
   "outputs": [],
   "source": [
    "with open(path_to_test_data / 'tppmi-similarities.json', 'r') as file:\n",
    "    similarities_tppmi_all = json.load(file)"
   ],
   "metadata": {
    "collapsed": false
   }
  },
  {
   "cell_type": "code",
   "execution_count": null,
   "outputs": [],
   "source": [
    "'''test_cade = similarities_cade_all[next(iter(similarities_cade_all))]\n",
    "test_tppmi = similarities_tppmi[next(iter(similarities_tppmi))]\n",
    "\n",
    "similarities_tppmi''';"
   ],
   "metadata": {
    "collapsed": false
   }
  },
  {
   "cell_type": "markdown",
   "source": [
    "# Experiment"
   ],
   "metadata": {
    "collapsed": false
   }
  },
  {
   "cell_type": "markdown",
   "source": [
    "To examine the quality of embedding alignment, we create a task to query equivalences across years.\n",
    "\n",
    "For example, given obama-2012, we want to query its equivalent word in 2002. As we know obama is the U.S. president in 2012; its equivalent in 2002 is bush, who was the U.S. president at that time. In this way, we create two testsets.\n",
    "\n",
    "All results are rounded to three decimal places."
   ],
   "metadata": {
    "collapsed": false
   }
  },
  {
   "cell_type": "code",
   "execution_count": null,
   "outputs": [],
   "source": [
    "cutoffs = [1, 3, 5, 10]\n",
    "list_of_types = [\"static\", \"dynamic\", \"all\"]\n",
    "\n",
    "list_of_data_cade = [[similarities_cade_static, test_data_1_static],\n",
    "                     [similarities_cade_dynamic, test_data_1_dynamic], [similarities_cade_all, test_data_1_all]]\n",
    "list_of_data_static = [[similarities_static_static, test_data_1_static],\n",
    "                       [similarities_static_dynamic, test_data_1_dynamic], [similarities_static_all, test_data_1_all]]\n",
    "\n",
    "config_dict_cade = {key: value for key, value in zip(list_of_types, list_of_data_cade)}\n",
    "config_dict_static = {key: value for key, value in zip(list_of_types, list_of_data_static)}\n",
    "\n",
    "scores_cade = {key: dict() for key in list_of_types}\n",
    "scores_static = {key: dict() for key in list_of_types}\n",
    "scores_tppmi = {key: dict() for key in list_of_types}"
   ],
   "metadata": {
    "collapsed": false
   }
  },
  {
   "cell_type": "markdown",
   "source": [
    "## Mean Reciprocal Rank (@10)\n",
    "\n",
    "The Mean Reciprocal Rank (MRR) is a statistical measure used to evaluate the performance of a system that returns a ranked list of responses to queries. It is the average of the reciprocal ranks of the first correct answer for each query, where the reciprocal rank is the inverse of the rank at which the first relevant answer is found.\n",
    "It is evaluated @10"
   ],
   "metadata": {
    "collapsed": false
   }
  },
  {
   "cell_type": "markdown",
   "source": [
    "### TWEC"
   ],
   "metadata": {
    "collapsed": false
   }
  },
  {
   "cell_type": "code",
   "execution_count": null,
   "outputs": [],
   "source": [
    "for key, value in tqdm(config_dict_cade.items()):\n",
    "    scores_cade[key][\"mrr@10\"] = round(test_util.calculate_rank_metric(value[0], value[1], metric='MRR'), 3)"
   ],
   "metadata": {
    "collapsed": false
   }
  },
  {
   "cell_type": "markdown",
   "source": [
    "### Static Word2Vec"
   ],
   "metadata": {
    "collapsed": false
   }
  },
  {
   "cell_type": "code",
   "execution_count": null,
   "outputs": [],
   "source": [
    "for key, value in tqdm(config_dict_static.items()):\n",
    "    scores_static[key][\"mrr@10\"] = round(test_util.calculate_rank_metric_static(value[0], value[1], metric='MRR'), 3)"
   ],
   "metadata": {
    "collapsed": false
   }
  },
  {
   "cell_type": "markdown",
   "source": [
    "### TPPMI"
   ],
   "metadata": {
    "collapsed": false
   }
  },
  {
   "cell_type": "code",
   "execution_count": null,
   "outputs": [],
   "source": [
    "scores_tppmi[\"all\"][\"mrr@10\"] = round(test_util.calculate_rank_metric_static(similarities_tppmi_all, test_data_1_all, metric='MRR'), 3)"
   ],
   "metadata": {
    "collapsed": false
   }
  },
  {
   "cell_type": "markdown",
   "source": [
    "## Mean Precision (@K)\n",
    "\n",
    "As introduced by Yao et al.(2018) the MP@K is defined as such: consider the K words most similar to the query embedding for the given year. The Precision@K for a particular test i, represented as P@K[i], equals 1 if the target word appears within this set of K words; otherwise, it assumes a value of 0."
   ],
   "metadata": {
    "collapsed": false
   }
  },
  {
   "cell_type": "markdown",
   "source": [
    "### TWEC"
   ],
   "metadata": {
    "collapsed": false
   }
  },
  {
   "cell_type": "code",
   "execution_count": null,
   "outputs": [],
   "source": [
    "for key, value in tqdm(config_dict_cade.items()):\n",
    "    for k in cutoffs:\n",
    "        score_key = f\"mp@{k}\"\n",
    "        scores_cade[key][score_key] = round(test_util.calculate_rank_metric(value[0], value[1], metric='MP', k=k), 3)"
   ],
   "metadata": {
    "collapsed": false
   }
  },
  {
   "cell_type": "markdown",
   "source": [
    "### Static Word2Vec"
   ],
   "metadata": {
    "collapsed": false
   }
  },
  {
   "cell_type": "code",
   "execution_count": null,
   "outputs": [],
   "source": [
    "for key, value in tqdm(config_dict_static.items()):\n",
    "    for k in cutoffs:\n",
    "        score_key = f\"mp@{k}\"\n",
    "        scores_static[key][score_key] = round(test_util.calculate_rank_metric_static(value[0], value[1], metric='MP', k=k), 3)"
   ],
   "metadata": {
    "collapsed": false
   }
  },
  {
   "cell_type": "markdown",
   "source": [
    "### TPPMI"
   ],
   "metadata": {
    "collapsed": false
   }
  },
  {
   "cell_type": "code",
   "execution_count": null,
   "outputs": [],
   "source": [
    "for k in cutoffs:\n",
    "    score_key = f\"mp@{k}\"\n",
    "    scores_tppmi[\"all\"][score_key] = round(test_util.calculate_rank_metric_static(similarities_tppmi_all, test_data_1_all, metric='MP', k=k), 3)"
   ],
   "metadata": {
    "collapsed": false
   }
  },
  {
   "cell_type": "markdown",
   "source": [
    "## Results"
   ],
   "metadata": {
    "collapsed": false
   }
  },
  {
   "cell_type": "code",
   "execution_count": null,
   "outputs": [],
   "source": [
    "score_table_cade = pd.DataFrame(scores_cade).T\n",
    "score_table_static = pd.DataFrame(scores_static).T\n",
    "score_table_tppmi = pd.DataFrame(scores_tppmi).T\n",
    "print(\"Scores of TWEC\")\n",
    "display(score_table_cade)\n",
    "print(\"Scores of TPPMI\")\n",
    "display(score_table_tppmi)\n",
    "print(\"Scores of Static Word2Vec (Baseline)\")\n",
    "display(score_table_static)"
   ],
   "metadata": {
    "collapsed": false
   }
  },
  {
   "cell_type": "markdown",
   "source": [
    "----------------------------------------------------------------------------------------------------------------\n",
    "----------------------------------------------------------------------------------------------------------------\n",
    "----------------------------------------------------------------------------------------------------------------"
   ],
   "metadata": {
    "collapsed": false
   }
  },
  {
   "cell_type": "code",
   "execution_count": null,
   "outputs": [],
   "source": [],
   "metadata": {
    "collapsed": false
   }
  }
 ],
 "metadata": {
  "kernelspec": {
   "display_name": "Python 3",
   "language": "python",
   "name": "python3"
  },
  "language_info": {
   "codemirror_mode": {
    "name": "ipython",
    "version": 2
   },
   "file_extension": ".py",
   "mimetype": "text/x-python",
   "name": "python",
   "nbconvert_exporter": "python",
   "pygments_lexer": "ipython2",
   "version": "2.7.6"
  }
 },
 "nbformat": 4,
 "nbformat_minor": 0
}
