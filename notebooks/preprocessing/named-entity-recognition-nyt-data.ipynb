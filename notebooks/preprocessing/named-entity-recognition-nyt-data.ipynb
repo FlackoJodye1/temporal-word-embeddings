{
 "cells": [
  {
   "cell_type": "code",
   "execution_count": 1,
   "outputs": [],
   "source": [
    "import spacy\n",
    "import pandas as pd\n",
    "from pathlib import Path\n",
    "from pprint import pprint\n",
    "from tqdm.notebook import tqdm"
   ],
   "metadata": {
    "collapsed": false
   }
  },
  {
   "cell_type": "code",
   "execution_count": 2,
   "outputs": [],
   "source": [
    "input_path = Path(\"../../data/processed/nyt-data\")\n",
    "output_path = Path(\"../../data/processed/entities\")\n",
    "corpus = pd.read_csv(input_path / \"corpus_all.csv\")"
   ],
   "metadata": {
    "collapsed": false
   }
  },
  {
   "cell_type": "markdown",
   "source": [
    "# Named Entity Recognition"
   ],
   "metadata": {
    "collapsed": false
   }
  },
  {
   "cell_type": "code",
   "execution_count": 3,
   "outputs": [],
   "source": [
    "corpus = corpus[[\"text\"]]"
   ],
   "metadata": {
    "collapsed": false
   }
  },
  {
   "cell_type": "code",
   "execution_count": 4,
   "outputs": [],
   "source": [
    "nlp = spacy.load(\"en_core_web_sm\")"
   ],
   "metadata": {
    "collapsed": false
   }
  },
  {
   "cell_type": "code",
   "execution_count": 5,
   "outputs": [],
   "source": [
    "def extract_entities(text):\n",
    "    doc = nlp(text)\n",
    "    return [(ent.text, ent.label_) for ent in doc.ents]"
   ],
   "metadata": {
    "collapsed": false
   }
  },
  {
   "cell_type": "code",
   "execution_count": 6,
   "outputs": [],
   "source": [
    "data = pd.DataFrame(columns=[\"entities\"])"
   ],
   "metadata": {
    "collapsed": false
   }
  },
  {
   "cell_type": "code",
   "execution_count": 7,
   "outputs": [
    {
     "data": {
      "text/plain": "Processing NER:   0%|          | 0/98360 [00:00<?, ?it/s]",
      "application/vnd.jupyter.widget-view+json": {
       "version_major": 2,
       "version_minor": 0,
       "model_id": "4b459ab8c2384093ae3eb646f71ce46a"
      }
     },
     "metadata": {},
     "output_type": "display_data"
    }
   ],
   "source": [
    "tqdm.pandas(desc=\"Processing NER\")\n",
    "data['entities'] = corpus[\"text\"].progress_apply(extract_entities)"
   ],
   "metadata": {
    "collapsed": false
   }
  },
  {
   "cell_type": "code",
   "execution_count": 8,
   "outputs": [],
   "source": [
    "exploded_data = data.explode('entities')\n",
    "exploded_data[['token', 'entity']] = pd.DataFrame(exploded_data['entities'].tolist(), index=exploded_data.index)\n",
    "exploded_data = exploded_data.drop(columns=['entities'])"
   ],
   "metadata": {
    "collapsed": false
   }
  },
  {
   "cell_type": "code",
   "execution_count": 9,
   "outputs": [],
   "source": [
    "exploded_data.to_csv(output_path / 'entities.csv', index=False)"
   ],
   "metadata": {
    "collapsed": false
   }
  },
  {
   "cell_type": "code",
   "execution_count": 38,
   "outputs": [],
   "source": [
    "result = pd.read_csv(output_path / 'entities.csv')"
   ],
   "metadata": {
    "collapsed": false
   }
  },
  {
   "cell_type": "code",
   "execution_count": 39,
   "outputs": [
    {
     "data": {
      "text/plain": "                                         token    entity\n0                                        third   ORDINAL\n1                                          207  CARDINAL\n2        eastern conference league los angeles       ORG\n3                                          216  CARDINAL\n4                                      next 15      DATE\n...                                        ...       ...\n4955278                                maxwell       ORG\n4955279                                 winter      DATE\n4955280                monaco grand prix first       ORG\n4955281                                   1929      DATE\n4955282                                     29  CARDINAL\n\n[4955283 rows x 2 columns]",
      "text/html": "<div>\n<style scoped>\n    .dataframe tbody tr th:only-of-type {\n        vertical-align: middle;\n    }\n\n    .dataframe tbody tr th {\n        vertical-align: top;\n    }\n\n    .dataframe thead th {\n        text-align: right;\n    }\n</style>\n<table border=\"1\" class=\"dataframe\">\n  <thead>\n    <tr style=\"text-align: right;\">\n      <th></th>\n      <th>token</th>\n      <th>entity</th>\n    </tr>\n  </thead>\n  <tbody>\n    <tr>\n      <th>0</th>\n      <td>third</td>\n      <td>ORDINAL</td>\n    </tr>\n    <tr>\n      <th>1</th>\n      <td>207</td>\n      <td>CARDINAL</td>\n    </tr>\n    <tr>\n      <th>2</th>\n      <td>eastern conference league los angeles</td>\n      <td>ORG</td>\n    </tr>\n    <tr>\n      <th>3</th>\n      <td>216</td>\n      <td>CARDINAL</td>\n    </tr>\n    <tr>\n      <th>4</th>\n      <td>next 15</td>\n      <td>DATE</td>\n    </tr>\n    <tr>\n      <th>...</th>\n      <td>...</td>\n      <td>...</td>\n    </tr>\n    <tr>\n      <th>4955278</th>\n      <td>maxwell</td>\n      <td>ORG</td>\n    </tr>\n    <tr>\n      <th>4955279</th>\n      <td>winter</td>\n      <td>DATE</td>\n    </tr>\n    <tr>\n      <th>4955280</th>\n      <td>monaco grand prix first</td>\n      <td>ORG</td>\n    </tr>\n    <tr>\n      <th>4955281</th>\n      <td>1929</td>\n      <td>DATE</td>\n    </tr>\n    <tr>\n      <th>4955282</th>\n      <td>29</td>\n      <td>CARDINAL</td>\n    </tr>\n  </tbody>\n</table>\n<p>4955283 rows × 2 columns</p>\n</div>"
     },
     "execution_count": 39,
     "metadata": {},
     "output_type": "execute_result"
    }
   ],
   "source": [
    "result"
   ],
   "metadata": {
    "collapsed": false
   }
  },
  {
   "cell_type": "code",
   "execution_count": 40,
   "outputs": [],
   "source": [
    "filtered_result = result[result['token'].str.contains('merkel', case=False, na=False)]"
   ],
   "metadata": {
    "collapsed": false
   }
  },
  {
   "cell_type": "code",
   "execution_count": 41,
   "outputs": [],
   "source": [
    "result['token'] = result['token'].str.split()\n",
    "result_exploded = result.explode('token')"
   ],
   "metadata": {
    "collapsed": false
   }
  },
  {
   "cell_type": "code",
   "execution_count": 47,
   "outputs": [],
   "source": [
    "entity_counts = result_exploded.groupby('token')['entity'].value_counts().unstack(fill_value=0)"
   ],
   "metadata": {
    "collapsed": false
   }
  },
  {
   "cell_type": "code",
   "execution_count": 48,
   "outputs": [],
   "source": [
    "entity_counts['entity'] = entity_counts.idxmax(axis=1)"
   ],
   "metadata": {
    "collapsed": false
   }
  },
  {
   "cell_type": "code",
   "execution_count": 59,
   "outputs": [],
   "source": [
    "entity_counts = entity_counts.reset_index()"
   ],
   "metadata": {
    "collapsed": false
   }
  },
  {
   "cell_type": "code",
   "execution_count": 60,
   "outputs": [],
   "source": [
    "entity_counts = entity_counts[['token', 'entity']]"
   ],
   "metadata": {
    "collapsed": false
   }
  },
  {
   "cell_type": "code",
   "execution_count": 63,
   "outputs": [
    {
     "data": {
      "text/plain": "entity       token    entity\n0                0  CARDINAL\n1               00  CARDINAL\n2               01  CARDINAL\n3               02  CARDINAL\n4               03  CARDINAL\n...            ...       ...\n19157     zucchini       ORG\n19158       zucker    PERSON\n19159   zuckerberg    PERSON\n19160    zuckerman    PERSON\n19161       zurich       GPE\n\n[19162 rows x 2 columns]",
      "text/html": "<div>\n<style scoped>\n    .dataframe tbody tr th:only-of-type {\n        vertical-align: middle;\n    }\n\n    .dataframe tbody tr th {\n        vertical-align: top;\n    }\n\n    .dataframe thead th {\n        text-align: right;\n    }\n</style>\n<table border=\"1\" class=\"dataframe\">\n  <thead>\n    <tr style=\"text-align: right;\">\n      <th>entity</th>\n      <th>token</th>\n      <th>entity</th>\n    </tr>\n  </thead>\n  <tbody>\n    <tr>\n      <th>0</th>\n      <td>0</td>\n      <td>CARDINAL</td>\n    </tr>\n    <tr>\n      <th>1</th>\n      <td>00</td>\n      <td>CARDINAL</td>\n    </tr>\n    <tr>\n      <th>2</th>\n      <td>01</td>\n      <td>CARDINAL</td>\n    </tr>\n    <tr>\n      <th>3</th>\n      <td>02</td>\n      <td>CARDINAL</td>\n    </tr>\n    <tr>\n      <th>4</th>\n      <td>03</td>\n      <td>CARDINAL</td>\n    </tr>\n    <tr>\n      <th>...</th>\n      <td>...</td>\n      <td>...</td>\n    </tr>\n    <tr>\n      <th>19157</th>\n      <td>zucchini</td>\n      <td>ORG</td>\n    </tr>\n    <tr>\n      <th>19158</th>\n      <td>zucker</td>\n      <td>PERSON</td>\n    </tr>\n    <tr>\n      <th>19159</th>\n      <td>zuckerberg</td>\n      <td>PERSON</td>\n    </tr>\n    <tr>\n      <th>19160</th>\n      <td>zuckerman</td>\n      <td>PERSON</td>\n    </tr>\n    <tr>\n      <th>19161</th>\n      <td>zurich</td>\n      <td>GPE</td>\n    </tr>\n  </tbody>\n</table>\n<p>19162 rows × 2 columns</p>\n</div>"
     },
     "execution_count": 63,
     "metadata": {},
     "output_type": "execute_result"
    }
   ],
   "source": [
    "entity_counts"
   ],
   "metadata": {
    "collapsed": false
   }
  },
  {
   "cell_type": "code",
   "execution_count": 64,
   "outputs": [
    {
     "data": {
      "text/plain": "Index(['token', 'entity'], dtype='object', name='entity')"
     },
     "execution_count": 64,
     "metadata": {},
     "output_type": "execute_result"
    }
   ],
   "source": [
    "entity_counts.columns"
   ],
   "metadata": {
    "collapsed": false
   }
  },
  {
   "cell_type": "code",
   "execution_count": 65,
   "outputs": [],
   "source": [
    "entity_counts.to_csv(output_path / 'entities_most_freq.csv', index = False)"
   ],
   "metadata": {
    "collapsed": false
   }
  },
  {
   "cell_type": "code",
   "execution_count": null,
   "outputs": [],
   "source": [],
   "metadata": {
    "collapsed": false
   }
  }
 ],
 "metadata": {
  "kernelspec": {
   "display_name": "Python 3",
   "language": "python",
   "name": "python3"
  },
  "language_info": {
   "codemirror_mode": {
    "name": "ipython",
    "version": 2
   },
   "file_extension": ".py",
   "mimetype": "text/x-python",
   "name": "python",
   "nbconvert_exporter": "python",
   "pygments_lexer": "ipython2",
   "version": "2.7.6"
  }
 },
 "nbformat": 4,
 "nbformat_minor": 0
}
