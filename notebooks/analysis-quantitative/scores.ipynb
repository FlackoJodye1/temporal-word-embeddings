{
 "cells": [
  {
   "cell_type": "code",
   "execution_count": 1,
   "metadata": {
    "collapsed": true
   },
   "outputs": [],
   "source": [
    "import pandas as pd\n",
    "from pathlib import Path\n",
    "from glob import glob"
   ]
  },
  {
   "cell_type": "code",
   "execution_count": 2,
   "outputs": [],
   "source": [
    "path_to_results = Path(\"../../data/results\")"
   ],
   "metadata": {
    "collapsed": false
   }
  },
  {
   "cell_type": "code",
   "execution_count": 3,
   "outputs": [],
   "source": [
    "filepaths_to_filtered_results = glob(f\"{path_to_results}/filtered_ner_self_trained/*\")\n",
    "filepaths_to_unfiltered_results = glob(f\"{path_to_results}/nyt-data/*\")"
   ],
   "metadata": {
    "collapsed": false
   }
  },
  {
   "cell_type": "code",
   "execution_count": 4,
   "outputs": [
    {
     "data": {
      "text/plain": "['../../data/results/filtered_ner_self_trained/score_table_tppmi_2000.csv',\n '../../data/results/filtered_ner_self_trained/score_table_static.csv',\n '../../data/results/filtered_ner_self_trained/score_table_cade.csv']"
     },
     "execution_count": 4,
     "metadata": {},
     "output_type": "execute_result"
    }
   ],
   "source": [
    "filepaths_to_filtered_results"
   ],
   "metadata": {
    "collapsed": false
   }
  },
  {
   "cell_type": "code",
   "execution_count": 5,
   "outputs": [],
   "source": [
    "scores_filtered = {}\n",
    "for filepath in filepaths_to_filtered_results:\n",
    "    score_df = pd.read_csv(filepath)\n",
    "    score_df = score_df.drop(columns=[\"Model\"])\n",
    "    scores_filtered[filepath.split(\"score_table_\")[1].split(\".csv\")[0]] = score_df"
   ],
   "metadata": {
    "collapsed": false
   }
  },
  {
   "cell_type": "code",
   "execution_count": 6,
   "outputs": [],
   "source": [
    "scores_unfiltered = {}\n",
    "for filepath in filepaths_to_unfiltered_results:\n",
    "    score_df = pd.read_csv(filepath)\n",
    "    scores_unfiltered[filepath.split(\"score_table_\")[1].split(\".csv\")[0]] = score_df"
   ],
   "metadata": {
    "collapsed": false
   }
  },
  {
   "cell_type": "code",
   "execution_count": 7,
   "outputs": [
    {
     "data": {
      "text/plain": "dict_keys(['tppmi_2000', 'static', 'tppmi_4000', 'tppmi_500', 'tppmi_6000', 'cade', 'tppmi_1000'])"
     },
     "execution_count": 7,
     "metadata": {},
     "output_type": "execute_result"
    }
   ],
   "source": [
    "scores_unfiltered.keys()"
   ],
   "metadata": {
    "collapsed": false
   }
  },
  {
   "cell_type": "code",
   "execution_count": 33,
   "outputs": [
    {
     "name": "stdout",
     "output_type": "stream",
     "text": [
      "Scores of TWEC\n"
     ]
    },
    {
     "data": {
      "text/plain": "  Unnamed: 0  mrr@10   mp@1   mp@3   mp@5  mp@10\n0     static   0.611  0.532  0.669  0.721  0.766\n1    dynamic   0.319  0.251  0.363  0.410  0.465\n2        all   0.382  0.314  0.429  0.475  0.524",
      "text/html": "<div>\n<style scoped>\n    .dataframe tbody tr th:only-of-type {\n        vertical-align: middle;\n    }\n\n    .dataframe tbody tr th {\n        vertical-align: top;\n    }\n\n    .dataframe thead th {\n        text-align: right;\n    }\n</style>\n<table border=\"1\" class=\"dataframe\">\n  <thead>\n    <tr style=\"text-align: right;\">\n      <th></th>\n      <th>Unnamed: 0</th>\n      <th>mrr@10</th>\n      <th>mp@1</th>\n      <th>mp@3</th>\n      <th>mp@5</th>\n      <th>mp@10</th>\n    </tr>\n  </thead>\n  <tbody>\n    <tr>\n      <th>0</th>\n      <td>static</td>\n      <td>0.611</td>\n      <td>0.532</td>\n      <td>0.669</td>\n      <td>0.721</td>\n      <td>0.766</td>\n    </tr>\n    <tr>\n      <th>1</th>\n      <td>dynamic</td>\n      <td>0.319</td>\n      <td>0.251</td>\n      <td>0.363</td>\n      <td>0.410</td>\n      <td>0.465</td>\n    </tr>\n    <tr>\n      <th>2</th>\n      <td>all</td>\n      <td>0.382</td>\n      <td>0.314</td>\n      <td>0.429</td>\n      <td>0.475</td>\n      <td>0.524</td>\n    </tr>\n  </tbody>\n</table>\n</div>"
     },
     "metadata": {},
     "output_type": "display_data"
    },
    {
     "name": "stdout",
     "output_type": "stream",
     "text": [
      "Scores of TPPMI (2000 context-words)\n"
     ]
    },
    {
     "data": {
      "text/plain": "  Unnamed: 0  mrr@10   mp@1   mp@3   mp@5  mp@10\n0     static   0.538  0.435  0.616  0.676  0.739\n1    dynamic   0.212  0.145  0.251  0.301  0.373\n2        all   0.288  0.212  0.338  0.390  0.455",
      "text/html": "<div>\n<style scoped>\n    .dataframe tbody tr th:only-of-type {\n        vertical-align: middle;\n    }\n\n    .dataframe tbody tr th {\n        vertical-align: top;\n    }\n\n    .dataframe thead th {\n        text-align: right;\n    }\n</style>\n<table border=\"1\" class=\"dataframe\">\n  <thead>\n    <tr style=\"text-align: right;\">\n      <th></th>\n      <th>Unnamed: 0</th>\n      <th>mrr@10</th>\n      <th>mp@1</th>\n      <th>mp@3</th>\n      <th>mp@5</th>\n      <th>mp@10</th>\n    </tr>\n  </thead>\n  <tbody>\n    <tr>\n      <th>0</th>\n      <td>static</td>\n      <td>0.538</td>\n      <td>0.435</td>\n      <td>0.616</td>\n      <td>0.676</td>\n      <td>0.739</td>\n    </tr>\n    <tr>\n      <th>1</th>\n      <td>dynamic</td>\n      <td>0.212</td>\n      <td>0.145</td>\n      <td>0.251</td>\n      <td>0.301</td>\n      <td>0.373</td>\n    </tr>\n    <tr>\n      <th>2</th>\n      <td>all</td>\n      <td>0.288</td>\n      <td>0.212</td>\n      <td>0.338</td>\n      <td>0.390</td>\n      <td>0.455</td>\n    </tr>\n  </tbody>\n</table>\n</div>"
     },
     "metadata": {},
     "output_type": "display_data"
    },
    {
     "name": "stdout",
     "output_type": "stream",
     "text": [
      "Scores of Static Word2Vec (Baseline)\n"
     ]
    },
    {
     "data": {
      "text/plain": "  Unnamed: 0  mrr@10   mp@1   mp@3   mp@5  mp@10\n0     static   1.000  1.000  1.000  1.000  1.000\n1    dynamic   0.158  0.000  0.365  0.427  0.464\n2        all   0.439  0.333  0.577  0.618  0.643",
      "text/html": "<div>\n<style scoped>\n    .dataframe tbody tr th:only-of-type {\n        vertical-align: middle;\n    }\n\n    .dataframe tbody tr th {\n        vertical-align: top;\n    }\n\n    .dataframe thead th {\n        text-align: right;\n    }\n</style>\n<table border=\"1\" class=\"dataframe\">\n  <thead>\n    <tr style=\"text-align: right;\">\n      <th></th>\n      <th>Unnamed: 0</th>\n      <th>mrr@10</th>\n      <th>mp@1</th>\n      <th>mp@3</th>\n      <th>mp@5</th>\n      <th>mp@10</th>\n    </tr>\n  </thead>\n  <tbody>\n    <tr>\n      <th>0</th>\n      <td>static</td>\n      <td>1.000</td>\n      <td>1.000</td>\n      <td>1.000</td>\n      <td>1.000</td>\n      <td>1.000</td>\n    </tr>\n    <tr>\n      <th>1</th>\n      <td>dynamic</td>\n      <td>0.158</td>\n      <td>0.000</td>\n      <td>0.365</td>\n      <td>0.427</td>\n      <td>0.464</td>\n    </tr>\n    <tr>\n      <th>2</th>\n      <td>all</td>\n      <td>0.439</td>\n      <td>0.333</td>\n      <td>0.577</td>\n      <td>0.618</td>\n      <td>0.643</td>\n    </tr>\n  </tbody>\n</table>\n</div>"
     },
     "metadata": {},
     "output_type": "display_data"
    }
   ],
   "source": [
    "score_table_cade_filtered = pd.DataFrame(scores_filtered[\"cade\"])\n",
    "score_table_static_filtered = pd.DataFrame(scores_filtered[\"static\"])\n",
    "score_table_tppmi_filtered = pd.DataFrame(scores_filtered[\"tppmi_2000\"])\n",
    "print(\"Scores of TWEC\")\n",
    "display(score_table_cade_filtered)\n",
    "print(\"Scores of TPPMI (2000 context-words)\")\n",
    "display(score_table_tppmi_filtered)\n",
    "print(\"Scores of Static Word2Vec (Baseline)\")\n",
    "display(score_table_static_filtered)"
   ],
   "metadata": {
    "collapsed": false
   }
  },
  {
   "cell_type": "code",
   "execution_count": 34,
   "outputs": [
    {
     "name": "stdout",
     "output_type": "stream",
     "text": [
      "Scores of TWEC\n"
     ]
    },
    {
     "data": {
      "text/plain": "  Unnamed: 0  mrr@10   mp@1   mp@3   mp@5  mp@10\n0     static   0.587  0.501  0.656  0.708  0.746\n1    dynamic   0.346  0.268  0.398  0.451  0.512\n2        all   0.394  0.316  0.448  0.501  0.556",
      "text/html": "<div>\n<style scoped>\n    .dataframe tbody tr th:only-of-type {\n        vertical-align: middle;\n    }\n\n    .dataframe tbody tr th {\n        vertical-align: top;\n    }\n\n    .dataframe thead th {\n        text-align: right;\n    }\n</style>\n<table border=\"1\" class=\"dataframe\">\n  <thead>\n    <tr style=\"text-align: right;\">\n      <th></th>\n      <th>Unnamed: 0</th>\n      <th>mrr@10</th>\n      <th>mp@1</th>\n      <th>mp@3</th>\n      <th>mp@5</th>\n      <th>mp@10</th>\n    </tr>\n  </thead>\n  <tbody>\n    <tr>\n      <th>0</th>\n      <td>static</td>\n      <td>0.587</td>\n      <td>0.501</td>\n      <td>0.656</td>\n      <td>0.708</td>\n      <td>0.746</td>\n    </tr>\n    <tr>\n      <th>1</th>\n      <td>dynamic</td>\n      <td>0.346</td>\n      <td>0.268</td>\n      <td>0.398</td>\n      <td>0.451</td>\n      <td>0.512</td>\n    </tr>\n    <tr>\n      <th>2</th>\n      <td>all</td>\n      <td>0.394</td>\n      <td>0.316</td>\n      <td>0.448</td>\n      <td>0.501</td>\n      <td>0.556</td>\n    </tr>\n  </tbody>\n</table>\n</div>"
     },
     "metadata": {},
     "output_type": "display_data"
    },
    {
     "name": "stdout",
     "output_type": "stream",
     "text": [
      "Scores of TPPMI (2000 context-words)\n"
     ]
    },
    {
     "data": {
      "text/plain": "  Unnamed: 0  mrr@10   mp@1   mp@3   mp@5  mp@10\n0     static   0.442  0.349  0.504  0.564  0.639\n1    dynamic   0.188  0.130  0.218  0.261  0.337\n2        all   0.244  0.178  0.283  0.330  0.406",
      "text/html": "<div>\n<style scoped>\n    .dataframe tbody tr th:only-of-type {\n        vertical-align: middle;\n    }\n\n    .dataframe tbody tr th {\n        vertical-align: top;\n    }\n\n    .dataframe thead th {\n        text-align: right;\n    }\n</style>\n<table border=\"1\" class=\"dataframe\">\n  <thead>\n    <tr style=\"text-align: right;\">\n      <th></th>\n      <th>Unnamed: 0</th>\n      <th>mrr@10</th>\n      <th>mp@1</th>\n      <th>mp@3</th>\n      <th>mp@5</th>\n      <th>mp@10</th>\n    </tr>\n  </thead>\n  <tbody>\n    <tr>\n      <th>0</th>\n      <td>static</td>\n      <td>0.442</td>\n      <td>0.349</td>\n      <td>0.504</td>\n      <td>0.564</td>\n      <td>0.639</td>\n    </tr>\n    <tr>\n      <th>1</th>\n      <td>dynamic</td>\n      <td>0.188</td>\n      <td>0.130</td>\n      <td>0.218</td>\n      <td>0.261</td>\n      <td>0.337</td>\n    </tr>\n    <tr>\n      <th>2</th>\n      <td>all</td>\n      <td>0.244</td>\n      <td>0.178</td>\n      <td>0.283</td>\n      <td>0.330</td>\n      <td>0.406</td>\n    </tr>\n  </tbody>\n</table>\n</div>"
     },
     "metadata": {},
     "output_type": "display_data"
    },
    {
     "name": "stdout",
     "output_type": "stream",
     "text": [
      "Scores of Static Word2Vec (Baseline)\n"
     ]
    },
    {
     "data": {
      "text/plain": "  Unnamed: 0  mrr@10   mp@1   mp@3   mp@5  mp@10\n0     static   1.000  1.000  1.000  1.000  1.000\n1    dynamic   0.147  0.000  0.240  0.372  0.463\n2        all   0.374  0.266  0.442  0.539  0.606",
      "text/html": "<div>\n<style scoped>\n    .dataframe tbody tr th:only-of-type {\n        vertical-align: middle;\n    }\n\n    .dataframe tbody tr th {\n        vertical-align: top;\n    }\n\n    .dataframe thead th {\n        text-align: right;\n    }\n</style>\n<table border=\"1\" class=\"dataframe\">\n  <thead>\n    <tr style=\"text-align: right;\">\n      <th></th>\n      <th>Unnamed: 0</th>\n      <th>mrr@10</th>\n      <th>mp@1</th>\n      <th>mp@3</th>\n      <th>mp@5</th>\n      <th>mp@10</th>\n    </tr>\n  </thead>\n  <tbody>\n    <tr>\n      <th>0</th>\n      <td>static</td>\n      <td>1.000</td>\n      <td>1.000</td>\n      <td>1.000</td>\n      <td>1.000</td>\n      <td>1.000</td>\n    </tr>\n    <tr>\n      <th>1</th>\n      <td>dynamic</td>\n      <td>0.147</td>\n      <td>0.000</td>\n      <td>0.240</td>\n      <td>0.372</td>\n      <td>0.463</td>\n    </tr>\n    <tr>\n      <th>2</th>\n      <td>all</td>\n      <td>0.374</td>\n      <td>0.266</td>\n      <td>0.442</td>\n      <td>0.539</td>\n      <td>0.606</td>\n    </tr>\n  </tbody>\n</table>\n</div>"
     },
     "metadata": {},
     "output_type": "display_data"
    }
   ],
   "source": [
    "score_table_cade = pd.DataFrame(scores_unfiltered[\"cade\"])\n",
    "score_table_static = pd.DataFrame(scores_unfiltered[\"static\"])\n",
    "score_table_tppmi = pd.DataFrame(scores_unfiltered[\"tppmi_2000\"])\n",
    "print(\"Scores of TWEC\")\n",
    "display(score_table_cade)\n",
    "print(\"Scores of TPPMI (2000 context-words)\")\n",
    "display(score_table_tppmi)\n",
    "print(\"Scores of Static Word2Vec (Baseline)\")\n",
    "display(score_table_static)"
   ],
   "metadata": {
    "collapsed": false
   }
  },
  {
   "cell_type": "code",
   "execution_count": 35,
   "outputs": [],
   "source": [
    "for column in score_table_cade.columns:\n",
    "    if column.startswith(\"m\"):\n",
    "        score_table_cade[f\"{column}_filtered\"] = score_table_cade_filtered[column]\n",
    "        score_table_tppmi[f\"{column}_filtered\"] = score_table_tppmi_filtered[column]\n",
    "        score_table_static[f\"{column}_filtered\"] = score_table_static_filtered[column]"
   ],
   "metadata": {
    "collapsed": false
   }
  },
  {
   "cell_type": "code",
   "execution_count": 36,
   "outputs": [],
   "source": [
    "new_order = [\n",
    "    'Unnamed: 0',\n",
    "    'mrr@10', 'mrr@10_filtered',\n",
    "    'mp@1', 'mp@1_filtered',\n",
    "    'mp@3', 'mp@3_filtered',\n",
    "    'mp@5', 'mp@5_filtered',\n",
    "    'mp@10', 'mp@10_filtered'\n",
    "]"
   ],
   "metadata": {
    "collapsed": false
   }
  },
  {
   "cell_type": "code",
   "execution_count": 37,
   "outputs": [],
   "source": [
    "score_table_cade = score_table_cade[new_order]\n",
    "score_table_tppmi = score_table_tppmi[new_order]\n",
    "score_table_static = score_table_static[new_order]"
   ],
   "metadata": {
    "collapsed": false
   }
  },
  {
   "cell_type": "code",
   "execution_count": 38,
   "outputs": [
    {
     "name": "stdout",
     "output_type": "stream",
     "text": [
      "Scores of TWEC\n"
     ]
    },
    {
     "data": {
      "text/plain": "  Unnamed: 0  mrr@10  mrr@10_filtered   mp@1  mp@1_filtered   mp@3  \\\n0     static   0.587            0.611  0.501          0.532  0.656   \n1    dynamic   0.346            0.319  0.268          0.251  0.398   \n2        all   0.394            0.382  0.316          0.314  0.448   \n\n   mp@3_filtered   mp@5  mp@5_filtered  mp@10  mp@10_filtered  \n0          0.669  0.708          0.721  0.746           0.766  \n1          0.363  0.451          0.410  0.512           0.465  \n2          0.429  0.501          0.475  0.556           0.524  ",
      "text/html": "<div>\n<style scoped>\n    .dataframe tbody tr th:only-of-type {\n        vertical-align: middle;\n    }\n\n    .dataframe tbody tr th {\n        vertical-align: top;\n    }\n\n    .dataframe thead th {\n        text-align: right;\n    }\n</style>\n<table border=\"1\" class=\"dataframe\">\n  <thead>\n    <tr style=\"text-align: right;\">\n      <th></th>\n      <th>Unnamed: 0</th>\n      <th>mrr@10</th>\n      <th>mrr@10_filtered</th>\n      <th>mp@1</th>\n      <th>mp@1_filtered</th>\n      <th>mp@3</th>\n      <th>mp@3_filtered</th>\n      <th>mp@5</th>\n      <th>mp@5_filtered</th>\n      <th>mp@10</th>\n      <th>mp@10_filtered</th>\n    </tr>\n  </thead>\n  <tbody>\n    <tr>\n      <th>0</th>\n      <td>static</td>\n      <td>0.587</td>\n      <td>0.611</td>\n      <td>0.501</td>\n      <td>0.532</td>\n      <td>0.656</td>\n      <td>0.669</td>\n      <td>0.708</td>\n      <td>0.721</td>\n      <td>0.746</td>\n      <td>0.766</td>\n    </tr>\n    <tr>\n      <th>1</th>\n      <td>dynamic</td>\n      <td>0.346</td>\n      <td>0.319</td>\n      <td>0.268</td>\n      <td>0.251</td>\n      <td>0.398</td>\n      <td>0.363</td>\n      <td>0.451</td>\n      <td>0.410</td>\n      <td>0.512</td>\n      <td>0.465</td>\n    </tr>\n    <tr>\n      <th>2</th>\n      <td>all</td>\n      <td>0.394</td>\n      <td>0.382</td>\n      <td>0.316</td>\n      <td>0.314</td>\n      <td>0.448</td>\n      <td>0.429</td>\n      <td>0.501</td>\n      <td>0.475</td>\n      <td>0.556</td>\n      <td>0.524</td>\n    </tr>\n  </tbody>\n</table>\n</div>"
     },
     "metadata": {},
     "output_type": "display_data"
    },
    {
     "name": "stdout",
     "output_type": "stream",
     "text": [
      "Scores of TPPMI (2000 context-words)\n"
     ]
    },
    {
     "data": {
      "text/plain": "  Unnamed: 0  mrr@10  mrr@10_filtered   mp@1  mp@1_filtered   mp@3  \\\n0     static   0.442            0.538  0.349          0.435  0.504   \n1    dynamic   0.188            0.212  0.130          0.145  0.218   \n2        all   0.244            0.288  0.178          0.212  0.283   \n\n   mp@3_filtered   mp@5  mp@5_filtered  mp@10  mp@10_filtered  \n0          0.616  0.564          0.676  0.639           0.739  \n1          0.251  0.261          0.301  0.337           0.373  \n2          0.338  0.330          0.390  0.406           0.455  ",
      "text/html": "<div>\n<style scoped>\n    .dataframe tbody tr th:only-of-type {\n        vertical-align: middle;\n    }\n\n    .dataframe tbody tr th {\n        vertical-align: top;\n    }\n\n    .dataframe thead th {\n        text-align: right;\n    }\n</style>\n<table border=\"1\" class=\"dataframe\">\n  <thead>\n    <tr style=\"text-align: right;\">\n      <th></th>\n      <th>Unnamed: 0</th>\n      <th>mrr@10</th>\n      <th>mrr@10_filtered</th>\n      <th>mp@1</th>\n      <th>mp@1_filtered</th>\n      <th>mp@3</th>\n      <th>mp@3_filtered</th>\n      <th>mp@5</th>\n      <th>mp@5_filtered</th>\n      <th>mp@10</th>\n      <th>mp@10_filtered</th>\n    </tr>\n  </thead>\n  <tbody>\n    <tr>\n      <th>0</th>\n      <td>static</td>\n      <td>0.442</td>\n      <td>0.538</td>\n      <td>0.349</td>\n      <td>0.435</td>\n      <td>0.504</td>\n      <td>0.616</td>\n      <td>0.564</td>\n      <td>0.676</td>\n      <td>0.639</td>\n      <td>0.739</td>\n    </tr>\n    <tr>\n      <th>1</th>\n      <td>dynamic</td>\n      <td>0.188</td>\n      <td>0.212</td>\n      <td>0.130</td>\n      <td>0.145</td>\n      <td>0.218</td>\n      <td>0.251</td>\n      <td>0.261</td>\n      <td>0.301</td>\n      <td>0.337</td>\n      <td>0.373</td>\n    </tr>\n    <tr>\n      <th>2</th>\n      <td>all</td>\n      <td>0.244</td>\n      <td>0.288</td>\n      <td>0.178</td>\n      <td>0.212</td>\n      <td>0.283</td>\n      <td>0.338</td>\n      <td>0.330</td>\n      <td>0.390</td>\n      <td>0.406</td>\n      <td>0.455</td>\n    </tr>\n  </tbody>\n</table>\n</div>"
     },
     "metadata": {},
     "output_type": "display_data"
    },
    {
     "name": "stdout",
     "output_type": "stream",
     "text": [
      "Scores of Static Word2Vec (Baseline)\n"
     ]
    },
    {
     "data": {
      "text/plain": "  Unnamed: 0  mrr@10  mrr@10_filtered   mp@1  mp@1_filtered   mp@3  \\\n0     static   1.000            1.000  1.000          1.000  1.000   \n1    dynamic   0.147            0.158  0.000          0.000  0.240   \n2        all   0.374            0.439  0.266          0.333  0.442   \n\n   mp@3_filtered   mp@5  mp@5_filtered  mp@10  mp@10_filtered  \n0          1.000  1.000          1.000  1.000           1.000  \n1          0.365  0.372          0.427  0.463           0.464  \n2          0.577  0.539          0.618  0.606           0.643  ",
      "text/html": "<div>\n<style scoped>\n    .dataframe tbody tr th:only-of-type {\n        vertical-align: middle;\n    }\n\n    .dataframe tbody tr th {\n        vertical-align: top;\n    }\n\n    .dataframe thead th {\n        text-align: right;\n    }\n</style>\n<table border=\"1\" class=\"dataframe\">\n  <thead>\n    <tr style=\"text-align: right;\">\n      <th></th>\n      <th>Unnamed: 0</th>\n      <th>mrr@10</th>\n      <th>mrr@10_filtered</th>\n      <th>mp@1</th>\n      <th>mp@1_filtered</th>\n      <th>mp@3</th>\n      <th>mp@3_filtered</th>\n      <th>mp@5</th>\n      <th>mp@5_filtered</th>\n      <th>mp@10</th>\n      <th>mp@10_filtered</th>\n    </tr>\n  </thead>\n  <tbody>\n    <tr>\n      <th>0</th>\n      <td>static</td>\n      <td>1.000</td>\n      <td>1.000</td>\n      <td>1.000</td>\n      <td>1.000</td>\n      <td>1.000</td>\n      <td>1.000</td>\n      <td>1.000</td>\n      <td>1.000</td>\n      <td>1.000</td>\n      <td>1.000</td>\n    </tr>\n    <tr>\n      <th>1</th>\n      <td>dynamic</td>\n      <td>0.147</td>\n      <td>0.158</td>\n      <td>0.000</td>\n      <td>0.000</td>\n      <td>0.240</td>\n      <td>0.365</td>\n      <td>0.372</td>\n      <td>0.427</td>\n      <td>0.463</td>\n      <td>0.464</td>\n    </tr>\n    <tr>\n      <th>2</th>\n      <td>all</td>\n      <td>0.374</td>\n      <td>0.439</td>\n      <td>0.266</td>\n      <td>0.333</td>\n      <td>0.442</td>\n      <td>0.577</td>\n      <td>0.539</td>\n      <td>0.618</td>\n      <td>0.606</td>\n      <td>0.643</td>\n    </tr>\n  </tbody>\n</table>\n</div>"
     },
     "metadata": {},
     "output_type": "display_data"
    }
   ],
   "source": [
    "print(\"Scores of TWEC\")\n",
    "display(score_table_cade)\n",
    "print(\"Scores of TPPMI (2000 context-words)\")\n",
    "display(score_table_tppmi)\n",
    "print(\"Scores of Static Word2Vec (Baseline)\")\n",
    "display(score_table_static)"
   ],
   "metadata": {
    "collapsed": false
   }
  },
  {
   "cell_type": "code",
   "execution_count": null,
   "outputs": [],
   "source": [],
   "metadata": {
    "collapsed": false
   }
  }
 ],
 "metadata": {
  "kernelspec": {
   "display_name": "Python 3",
   "language": "python",
   "name": "python3"
  },
  "language_info": {
   "codemirror_mode": {
    "name": "ipython",
    "version": 2
   },
   "file_extension": ".py",
   "mimetype": "text/x-python",
   "name": "python",
   "nbconvert_exporter": "python",
   "pygments_lexer": "ipython2",
   "version": "2.7.6"
  }
 },
 "nbformat": 4,
 "nbformat_minor": 0
}
