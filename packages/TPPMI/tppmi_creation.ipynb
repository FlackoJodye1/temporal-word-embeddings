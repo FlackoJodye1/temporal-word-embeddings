{
 "cells": [
  {
   "cell_type": "markdown",
   "source": [
    "# Creation of Sparse PPMI Embeddings"
   ],
   "metadata": {
    "collapsed": false
   }
  },
  {
   "cell_type": "code",
   "execution_count": 2,
   "outputs": [
    {
     "name": "stderr",
     "output_type": "stream",
     "text": [
      "[nltk_data] Downloading package punkt to\n",
      "[nltk_data]     /Users/paulschmitt/nltk_data...\n",
      "[nltk_data]   Package punkt is already up-to-date!\n"
     ]
    }
   ],
   "source": [
    "import glob\n",
    "import pickle\n",
    "import pandas as pd\n",
    "from pathlib import Path\n",
    "from pprint import pprint\n",
    "from tqdm.notebook import tqdm\n",
    "from ppmi_model import PPMIModel\n",
    "\n",
    "import util as tppmi_util\n",
    "\n",
    "import nltk\n",
    "nltk.download('punkt');"
   ],
   "metadata": {
    "collapsed": false
   }
  },
  {
   "cell_type": "markdown",
   "source": [
    "## Setup"
   ],
   "metadata": {
    "collapsed": false
   }
  },
  {
   "cell_type": "code",
   "execution_count": 3,
   "outputs": [],
   "source": [
    "DIR = Path(\"../../data\")\n",
    "size = \"medium\"\n",
    "split_type = \"monthly\"\n",
    "min_freq = 5 # large = 2, medium = 5, short = 500\n",
    "window_size = 5 # default word2vec window-size\n",
    "number_of_context_words = 500\n",
    "months = [\"Jun\", \"Jul\", \"Aug\", \"Sep\", \"Oct\", \"Nov\", \"Dec\", \"Jan\", \"Feb\", \"Mar\", \"Apr\"]\n",
    "month_codes = {\"Jun\": \"06\", \"Jul\": \"07\", \"Aug\": \"08\", \"Sep\": \"09\", \"Oct\": \"10\", \"Nov\": \"11\", \"Dec\": \"12\", \"Jan\": \"01\", \"Feb\": \"02\", \"Mar\": \"03\", \"Apr\": \"04\"}"
   ],
   "metadata": {
    "collapsed": false
   }
  },
  {
   "cell_type": "markdown",
   "source": [
    "## Build Corpus"
   ],
   "metadata": {
    "collapsed": false
   }
  },
  {
   "cell_type": "markdown",
   "source": [
    " /1. Texts of the entire dataset split into sentences"
   ],
   "metadata": {
    "collapsed": false
   }
  },
  {
   "cell_type": "code",
   "execution_count": 4,
   "outputs": [],
   "source": [
    "df = pd.read_csv(DIR / \"processed_data.csv\")\n",
    "df = df[[\"text\"]]"
   ],
   "metadata": {
    "collapsed": false
   }
  },
  {
   "cell_type": "code",
   "execution_count": 5,
   "outputs": [],
   "source": [
    "df = df.dropna()"
   ],
   "metadata": {
    "collapsed": false
   }
  },
  {
   "cell_type": "code",
   "execution_count": 6,
   "outputs": [],
   "source": [
    "corpus = ' '.join(df[\"text\"])"
   ],
   "metadata": {
    "collapsed": false
   }
  },
  {
   "cell_type": "code",
   "execution_count": 7,
   "outputs": [],
   "source": [
    "context_words = tppmi_util.sample_from_most_common_words(corpus, top_n=2000,\n",
    "                                                         sample_size=number_of_context_words, remove_stopwords=False)"
   ],
   "metadata": {
    "collapsed": false
   }
  },
  {
   "cell_type": "code",
   "execution_count": 8,
   "outputs": [
    {
     "name": "stdout",
     "output_type": "stream",
     "text": [
      "['tennessee', 'request', 'sad', 'else', 'staff', 'south', 'fire', 'tags', 'official', 'c',\n",
      " 'studies', 'gop', 'bill', 'purpose', 'parent', 'ron', 'fuck', 'hospitals', 'assistant', 'werent',\n",
      " 'john', 'lawsuit', 'west', 'classes', 'agenda', 'variety', 'know', 'courses', 'republican',\n",
      " 'areas', 'led', '40', 'communities', 'arizona', '22', 'natural', 'city', 'development',\n",
      " 'something', 'traditional', 'york', '19', 'want', 'months', 'cannot', 'stay', 'say', 'really',\n",
      " 'facilities', 'doctors', 'an', 'period', 'deaths', 'lack', 'drive', 'illegal', 'maybe', 'aid',\n",
      " 'advice', 'work', 'february', 'fucking', 'canada', 'secondary', 'boy', 'mom', 'answer', 'up',\n",
      " 'offering', 'looking', 'authority', 'admissions', 'democratic', 'information', 'wearing', 'many',\n",
      " 'end', 'terrorists', 'tab', '31', 'couple', 'most', 'pandemic', 'fighting', 'alleged', 'protect',\n",
      " 'seven', 'controversial', 'you', 'asked', 'section', 'federal', 'national', 'incumbent', 'nothing',\n",
      " 'seeking', 'off', 'moment', 'weekend', 'likely', 'r', 'safe', 'highly', 'actual', 'two', 'right',\n",
      " 'amazing', 'argued', 'experienced', 'b', 'comes', 'requirements', 'exposed', 'politicians',\n",
      " 'illinois', 'perfect', 'senior', 'english', 'local', 'angeles', 'equality', 'fake', 'toronto',\n",
      " 'now', 'examples', 'governors', 'alone', 'move', 'very', 'difference', 'violent', 'cases', 'folks',\n",
      " 'goal', 'book', 'ed', 'argument', 'would', 'charter', 'absolutely', 'how', 'rate', 'los', 'dress',\n",
      " 'visit', 'anyway', 'bad', 'professor', 'nonprofit', 'night', 'opportunities', 'did', 'chapter',\n",
      " 'thousands', 'minister', 'lead', 'severe', 'teacher', 'courts', 'following', 'bringing', 'arts',\n",
      " 'fox', 'baby', 'justice', 'encourage', 'state', 'killed', 'between', 'particular', 'michael',\n",
      " 'lot', 'main', 'college', 'bills', 'enrollment', 'whatever', 'understand', 'event', 'means',\n",
      " 'exist', 'evidence', 'may', 'probably', 'professionals', 'knowledge', 'care', 'initiative', 'are',\n",
      " 'those', 'provide', 'appropriate', 'all', 'in', 'governor', 'husband', 'lgbtq', 'transmission',\n",
      " 'white', '4', 'spent', 'account', 'willing', 'interest', 'found', 'got', 'hot', 'slavery', '2018',\n",
      " 'mass', 'picture', 'none', 'cultural', 'even', 'setting', 'gives', 'saying', 'more', 'served',\n",
      " 'market', 'democrat', 'some', 'turn', 'forced', 'effect', '1', 'pressure', 'him', 'principal',\n",
      " 'brown', 'imagine', 'lessons', 'her', 'thank', 'floridas', 'take', 'considered', 'protection',\n",
      " 'rule', 'recommended', 'live', 'black', '10', 'big', 'income', 'football', 'providing', 'age',\n",
      " 'economy', 'text', 'eight', 'friday', 'introduced', 'consequences', 'miss', 'facebook', 'talking',\n",
      " 'i', 'worked', 'continue', 'prior', 'disease', 'expect', 'hour', 'millions', 'order', 'posts',\n",
      " 'see', 'monday', 'crts', 'get', 'committee', 'sort', 'conversation', 'moms', 'worst', 'head',\n",
      " 'least', 'books', 'porn', 'amid', '8', 'named', 'showing', 'speaking', 'promoting', 'forward',\n",
      " 'country', 'survey', 'instruction', 'votes', 'general', 'company', 'longer', 'supply', 'health',\n",
      " 'available', 'judge', 'ideas', 'military', 'written', 'nashville', 'standards', 'limit', 'vs',\n",
      " 'whats', 'because', 'lockdowns', 'vulnerable', 'opponents', 'constitution', 'together', 'long',\n",
      " 'ruling', 'threat', 'average', 'facts', 'offices', 'various', 'stress', 'holding', 'mandate',\n",
      " 'appeared', 'sex', 'include', 'families', 'fine', 'pretty', 'called', 'a', 'ive', 'standard',\n",
      " 'wellbeing', 'exams', 'story', 'stated', 'cdc', '30', 'similar', 'largely', 'board', 'equal',\n",
      " 'concerns', 'mean', 'bc', 'diversity', 'therefore', 'us', 'working', 'female', 'materials', 'also',\n",
      " 'felt', 'lockdown', 'hold', 'technology', 'calls', 'theory', 'release', 'requires', 'series',\n",
      " 'concerned', 'court', 'inflation', 'isnt', 'late', 'terms', 'respect', 'childrens', 'child',\n",
      " 'individuals', 'hard', 'used', 'present', 'always', 'offers', 'deserve', 'since', 'unfortunately',\n",
      " 'places', 'mike', 'thursday', 'scores', 'tells', 'among', 'nov', 'patients', 'science', 'so',\n",
      " 'nice', 'at', 'grooming', 'commission', 'institutions', '13', 'april', 'guns', 'towards', 'crime',\n",
      " 'thinking', 'click', 'abuse', 'tell', 'activist', 'mandatory', 'nor', 'then', 'youth', 'training',\n",
      " 'orientation', 'joe', 'only', 'six', 'jones', 'tech', 'screen', 'someone', 'accept', 'government',\n",
      " 'aware', 'spaces', 'enter', 'victory', 'easy', 'including', 'helped', 'engineering', 'primary',\n",
      " 'position', 'ass', 'step', 'not', 'paid', 'chinese', '3', 'little', 'lies', 'companies',\n",
      " 'employees', 'problems', 'quite', 'title', 'advocates', 'when', 'experience', 'both', 'career',\n",
      " 'no', 'theyll', 'save', 'leader', 'these', 'impact', 'real', 'wrong', 'final', 'bidens', 'popular',\n",
      " 'desantis', 'relief', 'reduce', 'response', 'curriculum', 'agency', 'bring', 'consider', 'group',\n",
      " 'special', 'ballot', 'approach', 'protests', 'lesson', 'doing', 'could', 'fellow', 'single',\n",
      " 'homes', 'again', 'wonder', 'videos', 'review', 'control', 'kill', 'arkansas', 'spend', 'building',\n",
      " 'prepare', 'entire', 'media', 'team', 'literally', 'worse', 'near', 'looks', 'especially',\n",
      " 'search', 'died', 'voters', 'game', 'limited']\n"
     ]
    }
   ],
   "source": [
    "pprint(context_words, compact=True, width=100)"
   ],
   "metadata": {
    "collapsed": false
   }
  },
  {
   "cell_type": "markdown",
   "source": [
    "/2. Method for reading posts of specified months of the dataset"
   ],
   "metadata": {
    "collapsed": false
   }
  },
  {
   "cell_type": "code",
   "execution_count": 9,
   "outputs": [],
   "source": [
    "input_dir = DIR / f\"split/{split_type}\"\n",
    "csv_files = glob.glob(str(input_dir / \"*.csv\"))\n",
    "\n",
    "# filter for starting-months\n",
    "csv_files = [filename for filename in csv_files if filename.split(\"_to_\")[0][-3:] in months]\n",
    "\n",
    "# use dict to be able to identify the dfs later on\n",
    "splits = {}"
   ],
   "metadata": {
    "collapsed": false
   }
  },
  {
   "cell_type": "code",
   "execution_count": 10,
   "outputs": [],
   "source": [
    "for filename in csv_files:\n",
    "    df = pd.read_csv(filename)\n",
    "    splits[filename.split(\"_to_\")[0][-3:]] = df"
   ],
   "metadata": {
    "collapsed": false
   }
  },
  {
   "cell_type": "markdown",
   "source": [
    "## Build Model"
   ],
   "metadata": {
    "collapsed": false
   }
  },
  {
   "cell_type": "code",
   "execution_count": 11,
   "outputs": [
    {
     "data": {
      "text/plain": "  0%|          | 0/11 [00:00<?, ?it/s]",
      "application/vnd.jupyter.widget-view+json": {
       "version_major": 2,
       "version_minor": 0,
       "model_id": "045ee71550d74bb1baa4837fbdfbcc9f"
      },
      "application/json": {
       "n": 0,
       "total": 11,
       "elapsed": 0.006395101547241211,
       "ncols": null,
       "nrows": null,
       "prefix": "",
       "ascii": false,
       "unit": "it",
       "unit_scale": false,
       "rate": null,
       "bar_format": null,
       "postfix": null,
       "unit_divisor": 1000,
       "initial": 0,
       "colour": null
      }
     },
     "metadata": {},
     "output_type": "display_data"
    }
   ],
   "source": [
    "ppmi_models = {key: PPMIModel.construct_from_texts(value, context_words=context_words, min_freq=min_freq) for key, value in tqdm(splits.items())}"
   ],
   "metadata": {
    "collapsed": false
   }
  },
  {
   "cell_type": "markdown",
   "source": [
    "### Control"
   ],
   "metadata": {
    "collapsed": false
   }
  },
  {
   "cell_type": "code",
   "execution_count": 14,
   "outputs": [],
   "source": [
    "ppmi_model = ppmi_models[next(iter(ppmi_models))]"
   ],
   "metadata": {
    "collapsed": false
   }
  },
  {
   "cell_type": "code",
   "execution_count": 15,
   "outputs": [
    {
     "data": {
      "text/plain": "array([[0.        , 0.        , 0.        , ..., 0.        , 0.        ,\n        0.        ],\n       [0.        , 0.        , 0.        , ..., 0.        , 0.        ,\n        0.        ],\n       [0.        , 0.        , 0.        , ..., 0.        , 0.        ,\n        0.        ],\n       ...,\n       [0.        , 0.        , 0.        , ..., 0.        , 0.        ,\n        0.        ],\n       [0.        , 0.        , 0.        , ..., 0.        , 0.        ,\n        0.        ],\n       [1.11038789, 0.5032077 , 2.2021273 , ..., 0.64278177, 0.87581565,\n        1.73326588]])"
     },
     "execution_count": 15,
     "metadata": {},
     "output_type": "execute_result"
    }
   ],
   "source": [
    "ppmi_model.compute_ppmi_matrix()"
   ],
   "metadata": {
    "collapsed": false
   }
  },
  {
   "cell_type": "code",
   "execution_count": 16,
   "outputs": [
    {
     "data": {
      "text/plain": "(12243, 500)"
     },
     "execution_count": 16,
     "metadata": {},
     "output_type": "execute_result"
    }
   ],
   "source": [
    "ppmi_model.ppmi_matrix.shape"
   ],
   "metadata": {
    "collapsed": false
   }
  },
  {
   "cell_type": "code",
   "execution_count": 17,
   "outputs": [
    {
     "data": {
      "text/plain": "dict_keys(['Mar', 'Jan', 'Feb', 'Jun', 'Sep', 'Apr', 'Oct', 'Aug', 'Dec', 'Nov', 'Jul'])"
     },
     "execution_count": 17,
     "metadata": {},
     "output_type": "execute_result"
    }
   ],
   "source": [
    "ppmi_models.keys()"
   ],
   "metadata": {
    "collapsed": false
   }
  },
  {
   "cell_type": "markdown",
   "source": [
    "## Vocab"
   ],
   "metadata": {
    "collapsed": false
   }
  },
  {
   "cell_type": "code",
   "execution_count": 21,
   "outputs": [
    {
     "name": "stdout",
     "output_type": "stream",
     "text": [
      "Vocabulary size of timestep Mar: 12243\n",
      "Vocabulary size of timestep Jan: 11687\n",
      "Vocabulary size of timestep Feb: 10446\n",
      "Vocabulary size of timestep Jun: 9760\n",
      "Vocabulary size of timestep Sep: 10444\n",
      "Vocabulary size of timestep Apr: 10208\n",
      "Vocabulary size of timestep Oct: 13448\n",
      "Vocabulary size of timestep Aug: 11428\n",
      "Vocabulary size of timestep Dec: 11992\n",
      "Vocabulary size of timestep Nov: 13232\n",
      "Vocabulary size of timestep Jul: 10295\n"
     ]
    }
   ],
   "source": [
    "for key, ppmi_model in ppmi_models.items():\n",
    "    print(f\"Vocabulary size of timestep {key}: {ppmi_model.get_vocabulary_size()}\")"
   ],
   "metadata": {
    "collapsed": false
   }
  },
  {
   "cell_type": "markdown",
   "source": [
    "## Calulate & Save"
   ],
   "metadata": {
    "collapsed": false
   }
  },
  {
   "cell_type": "code",
   "execution_count": 22,
   "outputs": [
    {
     "name": "stdout",
     "output_type": "stream",
     "text": [
      "Number of context-words: 500\n",
      "PPMI data for 03 saved successfully.\n",
      "Vocabulary Size: 12243\n",
      "PPMI data for 01 saved successfully.\n",
      "Vocabulary Size: 11687\n",
      "PPMI data for 02 saved successfully.\n",
      "Vocabulary Size: 10446\n",
      "PPMI data for 06 saved successfully.\n",
      "Vocabulary Size: 9760\n",
      "PPMI data for 09 saved successfully.\n",
      "Vocabulary Size: 10444\n",
      "PPMI data for 04 saved successfully.\n",
      "Vocabulary Size: 10208\n",
      "PPMI data for 10 saved successfully.\n",
      "Vocabulary Size: 13448\n",
      "PPMI data for 08 saved successfully.\n",
      "Vocabulary Size: 11428\n",
      "PPMI data for 12 saved successfully.\n",
      "Vocabulary Size: 11992\n",
      "PPMI data for 11 saved successfully.\n",
      "Vocabulary Size: 13232\n",
      "PPMI data for 07 saved successfully.\n",
      "Vocabulary Size: 10295\n",
      "--------------- done ---------------\n"
     ]
    }
   ],
   "source": [
    "output_dir = DIR / f\"ppmi-matrices/{split_type}/{number_of_context_words}\"\n",
    "output_dir.mkdir(parents=True, exist_ok=True)\n",
    "\n",
    "# save common context-words\n",
    "print(f\"Number of context-words: {len(context_words)}\")\n",
    "with open(output_dir / f\"context-words.pkl\", \"wb\") as f:\n",
    "    pickle.dump(context_words, f)\n",
    "\n",
    "# save vocab and ppmi-matrices\n",
    "for key, ppmi_model in ppmi_models.items():\n",
    "    ppmi_model.compute_ppmi_matrix(window_size=window_size)\n",
    "    ppmi_model.save(month_codes[key], output_dir)\n",
    "\n",
    "print(\"--------------- done ---------------\")"
   ],
   "metadata": {
    "collapsed": false
   }
  },
  {
   "cell_type": "code",
   "execution_count": null,
   "outputs": [],
   "source": [],
   "metadata": {
    "collapsed": false
   }
  }
 ],
 "metadata": {
  "kernelspec": {
   "display_name": "Python 3",
   "language": "python",
   "name": "python3"
  },
  "language_info": {
   "codemirror_mode": {
    "name": "ipython",
    "version": 2
   },
   "file_extension": ".py",
   "mimetype": "text/x-python",
   "name": "python",
   "nbconvert_exporter": "python",
   "pygments_lexer": "ipython2",
   "version": "2.7.6"
  }
 },
 "nbformat": 4,
 "nbformat_minor": 0
}
