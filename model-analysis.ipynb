{
 "cells": [
  {
   "cell_type": "markdown",
   "metadata": {},
   "source": [
    "# Model Analysis"
   ]
  },
  {
   "cell_type": "code",
   "execution_count": 45,
   "metadata": {},
   "outputs": [],
   "source": [
    "from glob import glob\n",
    "from pathlib import Path\n",
    "import scipy.sparse as sp\n",
    "from tqdm.notebook import tqdm\n",
    "from gensim.models.word2vec import Word2Vec\n",
    "from packages.TPPMI.ppmi_model import PPMIModel\n",
    "from packages.TPPMI.tppmi_model import TPPMIModel\n",
    "\n",
    "from embedding_visualization import plot_temporal_changing_embedding, \\\n",
    "    plot_cosine_similarity, plot_word_vectors_tppmi, plot_cosine_similarity_tppmi"
   ]
  },
  {
   "cell_type": "markdown",
   "metadata": {},
   "source": [
    "## Cade"
   ]
  },
  {
   "cell_type": "code",
   "execution_count": 46,
   "metadata": {},
   "outputs": [],
   "source": [
    "model_path = Path(\"model/\")\n",
    "ppmi_path = Path(f\"data/ppmi-matrices\")"
   ]
  },
  {
   "cell_type": "code",
   "execution_count": 47,
   "metadata": {},
   "outputs": [],
   "source": [
    "model_static = Word2Vec.load(str(model_path / \"static/word2vec.model\"))"
   ]
  },
  {
   "cell_type": "code",
   "execution_count": 48,
   "metadata": {},
   "outputs": [],
   "source": [
    "def print_most_similar_cade(models, target_word, top_n=3):\n",
    "    print(f\"Word: {target_word}\")\n",
    "    for key, value in models.items():\n",
    "        print(f\"Month: {key.split('_')[1].capitalize()}\")\n",
    "        try:\n",
    "            print(value.wv.most_similar(target_word, topn=top_n))\n",
    "        except KeyError:\n",
    "            print(f\"{target_word} not in vocab\")\n",
    "        print(\"--------------------------------\")"
   ]
  },
  {
   "cell_type": "markdown",
   "metadata": {},
   "source": [
    "## Load models for months"
   ]
  },
  {
   "cell_type": "markdown",
   "metadata": {},
   "source": [
    "### Cade"
   ]
  },
  {
   "cell_type": "code",
   "execution_count": 49,
   "metadata": {},
   "outputs": [],
   "source": [
    "# by months\n",
    "model_path_monthly = model_path / \"monthly\"\n",
    "model_monthly_filenames = glob(str(model_path_monthly / \"*.model\"))"
   ]
  },
  {
   "cell_type": "code",
   "execution_count": 50,
   "metadata": {},
   "outputs": [
    {
     "data": {
      "text/plain": "  0%|          | 0/11 [00:00<?, ?it/s]",
      "application/vnd.jupyter.widget-view+json": {
       "version_major": 2,
       "version_minor": 0,
       "model_id": "3c37192c341848219cb1170e170de806"
      },
      "application/json": {
       "n": 0,
       "total": 11,
       "elapsed": 0.0020961761474609375,
       "ncols": null,
       "nrows": null,
       "prefix": "",
       "ascii": false,
       "unit": "it",
       "unit_scale": false,
       "rate": null,
       "bar_format": null,
       "postfix": null,
       "unit_divisor": 1000,
       "initial": 0,
       "colour": null
      }
     },
     "metadata": {},
     "output_type": "display_data"
    }
   ],
   "source": [
    "# load models\n",
    "models_monthly = {f\"model_{model_file.split('_')[1][0:3].lower()}\":Word2Vec.load(model_file) for model_file in tqdm(model_monthly_filenames)}"
   ]
  },
  {
   "cell_type": "markdown",
   "metadata": {},
   "source": [
    "Order the models"
   ]
  },
  {
   "cell_type": "code",
   "execution_count": 51,
   "metadata": {},
   "outputs": [],
   "source": [
    "order = ['jun', 'jul', 'aug', 'sep', 'oct', 'nov', 'dec', 'jan', 'feb', 'mar', 'apr']\n",
    "month_codes = {\"jun\": 6, \"jul\": 7, \"aug\": 8, \"sep\": 9, \"oct\": 10, \"nov\": 11, \"dec\": 12, \"jan\": 1, \"feb\": 2, \"mar\": 3, \"apr\": 4}\n",
    "\n",
    "# Sort the keys based on the desired month order\n",
    "sorted_keys = sorted(models_monthly.keys(), key=lambda x: order.index(x.split('_')[1]))\n",
    "\n",
    "# Create a sorted dictionaries\n",
    "models_monthly = {key: models_monthly[key] for key in sorted_keys}"
   ]
  },
  {
   "cell_type": "markdown",
   "metadata": {},
   "source": [
    "### TPPMI"
   ]
  },
  {
   "cell_type": "code",
   "execution_count": 52,
   "metadata": {},
   "outputs": [],
   "source": [
    "# Get names of the files\n",
    "ppmi_data_filenames = sorted(glob(str(ppmi_path / \"*.npz\"))) # contains ppmi data\n",
    "ppmi_vocab_filenames = sorted(glob(str(ppmi_path / \"*.pkl\"))) # contains vocab (column- and rownames)"
   ]
  },
  {
   "cell_type": "code",
   "execution_count": 53,
   "metadata": {},
   "outputs": [],
   "source": [
    "import pickle\n",
    "\n",
    "ppmi_matrices = {}\n",
    "ppmi_matrices_quarterly = {}\n",
    "\n",
    "for filenames in zip(ppmi_vocab_filenames, ppmi_data_filenames):\n",
    "    ppmi_matrix = sp.load_npz(filenames[1])\n",
    "    with open(filenames[0], \"rb\") as f:\n",
    "        vocab = pickle.load(f)\n",
    "    key = filenames[0].split(\"ppmi-\")[2][0:2]\n",
    "    ppmi_matrices[key] = {\"ppmi_matrix\" : ppmi_matrix, \"vocab\": vocab}"
   ]
  },
  {
   "cell_type": "code",
   "execution_count": 54,
   "metadata": {},
   "outputs": [
    {
     "data": {
      "text/plain": "dict_keys(['01', '02', '03', '04', '06', '07', '08', '09', '10', '11', '12'])"
     },
     "execution_count": 54,
     "metadata": {},
     "output_type": "execute_result"
    }
   ],
   "source": [
    "ppmi_matrices.keys()"
   ]
  },
  {
   "cell_type": "markdown",
   "metadata": {},
   "source": [
    "Create ppmi_model objects"
   ]
  },
  {
   "cell_type": "code",
   "execution_count": 55,
   "metadata": {},
   "outputs": [],
   "source": [
    "ppmi_models = {key: PPMIModel.construct_from_data(ppmi_data[\"ppmi_matrix\"], ppmi_data[\"vocab\"]) for key, ppmi_data in ppmi_matrices.items()}"
   ]
  },
  {
   "cell_type": "code",
   "execution_count": 56,
   "metadata": {},
   "outputs": [],
   "source": [
    "tppmi_model = TPPMIModel(ppmi_models)"
   ]
  },
  {
   "cell_type": "code",
   "execution_count": 57,
   "metadata": {},
   "outputs": [
    {
     "name": "stdout",
     "output_type": "stream",
     "text": [
      "Size of the vocabulary: 26301\n"
     ]
    }
   ],
   "source": [
    "print(f\"Size of the vocabulary: {tppmi_model.get_vocabulary_size()}\")"
   ]
  },
  {
   "cell_type": "markdown",
   "metadata": {},
   "source": [
    "## Release of Brittney Griner"
   ]
  },
  {
   "cell_type": "markdown",
   "metadata": {},
   "source": [
    "### Overview"
   ]
  },
  {
   "cell_type": "markdown",
   "metadata": {},
   "source": [
    "On December 8, 2022, Russia and the United States conducted a prisoner exchange, trading Brittney Griner, an American basketball player, for Viktor Bout, a Russian arms dealer. Griner, a WNBA champion star and Team USA Olympic athlete, had been convicted of smuggling and possession of cannabis in Russia earlier in 2022 and sentenced to nine years in prison.\n",
    "\n",
    "Source: [Wikipedia article](https://en.wikipedia.org/wiki/Viktor_Bout%E2%80%93Brittney_Griner_prisoner_exchange)"
   ]
  },
  {
   "cell_type": "code",
   "execution_count": 58,
   "metadata": {},
   "outputs": [],
   "source": [
    "target_word_griner = \"brittney\""
   ]
  },
  {
   "cell_type": "code",
   "execution_count": 59,
   "metadata": {},
   "outputs": [],
   "source": [
    "selected_months_griner = [\"sep\", \"oct\", \"nov\", \"dec\", \"jan\"]\n",
    "selected_models_monthly_griner = {f\"model_{month}\": models_monthly[f\"model_{month}\"] for month in selected_months_griner}"
   ]
  },
  {
   "cell_type": "code",
   "execution_count": 60,
   "metadata": {},
   "outputs": [],
   "source": [
    "title_griner = f\"Evolution of the word {target_word_griner} over time\"\n",
    "subtitle_griner = f\"Period: {' - '.join([month.capitalize() for month in selected_months_griner])}\""
   ]
  },
  {
   "cell_type": "code",
   "execution_count": 61,
   "metadata": {},
   "outputs": [
    {
     "name": "stdout",
     "output_type": "stream",
     "text": [
      "Word: brittney\n",
      "Month: Sep\n",
      "[('jaclyn', 0.9803667068481445), ('arnett', 0.9777289628982544), ('chennai', 0.9769172668457031)]\n",
      "--------------------------------\n",
      "Month: Oct\n",
      "[('bostonstudentsliam', 0.9941439628601074), ('singlecylinder', 0.9926655292510986), ('gelokkig', 0.9920217990875244)]\n",
      "--------------------------------\n",
      "Month: Nov\n",
      "[('griner', 0.9780524373054504), ('tuy', 0.9757772088050842), ('devere', 0.9645634889602661)]\n",
      "--------------------------------\n",
      "Month: Dec\n",
      "[('zac', 0.9810552597045898), ('bennett', 0.9806931018829346), ('incorrigible', 0.9793301820755005)]\n",
      "--------------------------------\n",
      "Month: Jan\n",
      "[('harvards', 0.984215259552002), ('manguel', 0.9824919104576111), ('baldwin', 0.9764317274093628)]\n",
      "--------------------------------\n"
     ]
    }
   ],
   "source": [
    "print_most_similar_cade(selected_models_monthly_griner, target_word_griner, top_n=3)"
   ]
  },
  {
   "cell_type": "markdown",
   "metadata": {},
   "source": [
    "#### CADE"
   ]
  },
  {
   "cell_type": "markdown",
   "metadata": {},
   "source": [
    "### Temporally changing embeddings"
   ]
  },
  {
   "cell_type": "code",
   "execution_count": 62,
   "metadata": {},
   "outputs": [],
   "source": [
    "'''plot_temporal_changing_embedding(target_word_griner, selected_models_monthly_griner, top_n=3, title=title_griner, subtitle=subtitle_griner, use_tsne=False)''';"
   ]
  },
  {
   "cell_type": "markdown",
   "metadata": {},
   "source": [
    "### Cosine similarities"
   ]
  },
  {
   "cell_type": "code",
   "execution_count": 63,
   "metadata": {},
   "outputs": [],
   "source": [
    "test_words_griner = [\"russia\", \"karen\", \"putin\"]"
   ]
  },
  {
   "cell_type": "code",
   "execution_count": 64,
   "metadata": {},
   "outputs": [
    {
     "data": {
      "text/plain": "<Figure size 1000x600 with 1 Axes>",
      "image/png": "[encoded data removed]"
     },
     "metadata": {},
     "output_type": "display_data"
    }
   ],
   "source": [
    "plot_cosine_similarity(target_word_griner, test_words_griner, selected_models_monthly_griner, event=\"dec\", event_name=\"Brittney Griner is released from prison\")"
   ]
  },
  {
   "cell_type": "markdown",
   "metadata": {},
   "source": [
    "### TPPMI"
   ]
  },
  {
   "cell_type": "code",
   "execution_count": 65,
   "metadata": {},
   "outputs": [],
   "source": [
    "'''target_word_griner = \"brittney\"\n",
    "selected_months = [9, 10, 11, 12, 1]\n",
    "tppmi_griner = tppmi_model.get_tppmi(test_words_griner + [target_word_griner], selected_months=selected_months)\n",
    "''';"
   ]
  },
  {
   "cell_type": "code",
   "execution_count": 66,
   "metadata": {},
   "outputs": [],
   "source": [
    "'''\n",
    "test_words_griner = [\"putin\", \"victor\"]\n",
    "plot_word_vectors_tppmi(tppmi_model.get_2d_representation([target_word_griner] + test_words_griner, selected_months=selected_months, use_tsne=False))\n",
    "''';"
   ]
  },
  {
   "cell_type": "code",
   "execution_count": 67,
   "metadata": {},
   "outputs": [],
   "source": [
    "#plot_cosine_similarity_tppmi(target_word_griner, test_words_griner, tppmi_model, selected_months)"
   ]
  },
  {
   "cell_type": "markdown",
   "metadata": {},
   "source": [
    "## Elon Musk Twitter takeover"
   ]
  },
  {
   "cell_type": "markdown",
   "metadata": {},
   "source": [
    "### Overview"
   ]
  },
  {
   "cell_type": "markdown",
   "metadata": {},
   "source": [
    "Business magnate Elon Musk initiated an acquisition of American social media company Twitter, Inc. on April 14, 2022, and concluded it on October 27, 2022. Musk had begun buying shares of the company in January 2022, becoming its largest shareholder by April with a 9.1 percent ownership stake\n",
    "\n",
    "source: [Wikipedia article](https://en.wikipedia.org/wiki/Acquisition_of_Twitter_by_Elon_Musk#:~:text=Business%20magnate%20Elon%20Musk%20initiated,a%209.1%20percent%20ownership%20stake.)"
   ]
  },
  {
   "cell_type": "code",
   "execution_count": 68,
   "metadata": {},
   "outputs": [],
   "source": [
    "target_word_twitter = \"twitter\""
   ]
  },
  {
   "cell_type": "code",
   "execution_count": 69,
   "metadata": {},
   "outputs": [],
   "source": [
    "selected_months_twitter = [\"oct\", \"nov\", \"dec\", \"jan\"]\n",
    "selected_models_monthly_twitter = {f\"model_{month}\": models_monthly[f\"model_{month}\"] for month in selected_months_twitter}"
   ]
  },
  {
   "cell_type": "code",
   "execution_count": 70,
   "metadata": {},
   "outputs": [],
   "source": [
    "title_twitter = f\"Evolution of the word {target_word_twitter} over time\"\n",
    "subtitle_twitter = f\"Period: {' - '.join([month.capitalize() for month in selected_months_twitter])}\""
   ]
  },
  {
   "cell_type": "code",
   "execution_count": 71,
   "metadata": {},
   "outputs": [
    {
     "name": "stdout",
     "output_type": "stream",
     "text": [
      "Word: twitter\n",
      "Month: Oct\n",
      "[('facebook', 0.9247101545333862), ('instagram', 0.806344747543335), ('sms', 0.7980491518974304)]\n",
      "--------------------------------\n",
      "Month: Nov\n",
      "[('facebook', 0.8923001885414124), ('page', 0.7984558343887329), ('text', 0.7902755737304688)]\n",
      "--------------------------------\n",
      "Month: Dec\n",
      "[('facebook', 0.852095365524292), ('musk', 0.8208754658699036), ('tweet', 0.7895939350128174)]\n",
      "--------------------------------\n",
      "Month: Jan\n",
      "[('elon', 0.8899370431900024), ('amandamarcotte', 0.8567959666252136), ('musks', 0.8488495349884033)]\n",
      "--------------------------------\n"
     ]
    }
   ],
   "source": [
    "print_most_similar_cade(selected_models_monthly_twitter, target_word_twitter)"
   ]
  },
  {
   "cell_type": "markdown",
   "metadata": {},
   "source": [
    "### Temporaly changing embeddings"
   ]
  },
  {
   "cell_type": "code",
   "execution_count": 72,
   "metadata": {},
   "outputs": [],
   "source": [
    "'''plot_temporal_changing_embedding(target_word_twitter, selected_models_monthly_twitter, top_n=3, title=title_twitter, subtitle=subtitle_twitter, use_tsne=True)''';"
   ]
  },
  {
   "cell_type": "markdown",
   "metadata": {},
   "source": [
    "### Cosine similarities"
   ]
  },
  {
   "cell_type": "code",
   "execution_count": 73,
   "metadata": {},
   "outputs": [],
   "source": [
    "test_words_twitter = [\"facebook\",  \"elon\", \"liberal\"]"
   ]
  },
  {
   "cell_type": "code",
   "execution_count": 74,
   "metadata": {},
   "outputs": [
    {
     "data": {
      "text/plain": "<Figure size 1000x600 with 1 Axes>",
      "image/png": "[encoded data removed]"
     },
     "metadata": {},
     "output_type": "display_data"
    }
   ],
   "source": [
    "plot_cosine_similarity(target_word_twitter, test_words_twitter, models_monthly, \"nov\", \"Elon Musk takes over Twitter\")"
   ]
  },
  {
   "cell_type": "markdown",
   "metadata": {},
   "source": [
    "### TPPMI"
   ]
  },
  {
   "cell_type": "code",
   "execution_count": 75,
   "metadata": {},
   "outputs": [
    {
     "name": "stdout",
     "output_type": "stream",
     "text": [
      "All words are contained in the vocabulary\n",
      "elon - not in vocab of timestep: 06\n",
      "elon - not in vocab of timestep: 08\n",
      "elon - not in vocab of timestep: 09\n"
     ]
    }
   ],
   "source": [
    "tppmi_twitter = tppmi_model.get_tppmi(test_words_twitter + [target_word_twitter])"
   ]
  },
  {
   "cell_type": "code",
   "execution_count": 76,
   "metadata": {},
   "outputs": [],
   "source": [
    "'''selected_months = [9, 10, 11, 12]\n",
    "plot_word_vectors_tppmi(tppmi_model.get_2d_representation(test_words_twitter + [target_word_twitter], selected_months=[10, 11, 12], use_tsne=False))''';"
   ]
  },
  {
   "cell_type": "code",
   "execution_count": 77,
   "metadata": {},
   "outputs": [
    {
     "name": "stdout",
     "output_type": "stream",
     "text": [
      "dict_keys(['01', '02', '03', '04', '06', '07', '08', '09', '10', '11', '12'])\n",
      "Similarity Value\n",
      "{'twitter': [0.9999999999999998, 1.0, 0.9999999999999998, 0.9999999999999998, 1.0000000000000002, 1.0000000000000002, 1.0, 0.9999999999999999, 0.9999999999999999, 0.9999999999999998, 1.0], 'facebook': [0.2477047462930744, 0.12805162707718826, 0.18868774178662423, 0.20042292186379068, 0.25361204591534126, 0.19606941062419833, 0.15049443037022595, 0.2093072473371846, 0.1688797893793139, 0.21571369974521068, 0.3206389125307654], 'elon': [0, 0.14851201471714723, 0, 0, 0.09357174857994656, 0.16728881245336938, 0.17871728617522173, 0.15984625855038018, 0.025265914111869656, 0.13936831175580272, 0.17761248358224083]}\n"
     ]
    },
    {
     "data": {
      "text/plain": "<Figure size 1000x600 with 1 Axes>",
      "image/png": "[encoded data removed]"
     },
     "metadata": {},
     "output_type": "display_data"
    }
   ],
   "source": [
    "plot_cosine_similarity_tppmi(\"twitter\", [\"facebook\", \"elon\"], tppmi_model)"
   ]
  },
  {
   "cell_type": "markdown",
   "metadata": {},
   "source": [
    "## Attack on Paul Pelosi"
   ]
  },
  {
   "cell_type": "markdown",
   "metadata": {},
   "source": [
    "### Overview"
   ]
  },
  {
   "cell_type": "markdown",
   "metadata": {},
   "source": [
    "On October 28, 2022, an intruder attacked Paul Pelosi, the 82-year-old husband of Nancy Pelosi, then the Speaker of the United States House of Representatives. The assailant beat Paul Pelosi with a hammer during a home invasion burglary of the couple's residence in Pacific Heights, San Francisco. He was seriously injured and underwent surgery for his fractured skull.\n",
    "\n",
    "source: [Wikipedia article](https://en.wikipedia.org/wiki/Attack_on_Paul_Pelosi)"
   ]
  },
  {
   "cell_type": "code",
   "execution_count": 78,
   "metadata": {},
   "outputs": [],
   "source": [
    "target_word_pelosi = \"paul\""
   ]
  },
  {
   "cell_type": "code",
   "execution_count": 79,
   "metadata": {},
   "outputs": [],
   "source": [
    "selected_months_pelosi = [\"oct\", \"nov\", \"dec\", \"jan\"]\n",
    "selected_models_monthly_pelosi = {f\"model_{month}\": models_monthly[f\"model_{month}\"] for month in selected_months_pelosi}"
   ]
  },
  {
   "cell_type": "code",
   "execution_count": 80,
   "metadata": {},
   "outputs": [],
   "source": [
    "title_pelosi = f\"Evolution of the word {target_word_pelosi} over time\"\n",
    "subtitle_pelosi = f\"Period: {' - '.join([month.capitalize() for month in selected_months_pelosi])}\""
   ]
  },
  {
   "cell_type": "code",
   "execution_count": 81,
   "metadata": {},
   "outputs": [
    {
     "name": "stdout",
     "output_type": "stream",
     "text": [
      "Word: paul\n",
      "Month: Oct\n",
      "[('floyd', 0.8686626553535461), ('andrew', 0.861987292766571), ('alex', 0.8612565398216248), ('chris', 0.8558765649795532)]\n",
      "--------------------------------\n",
      "Month: Nov\n",
      "[('james', 0.8534097671508789), ('pelosi', 0.8324012756347656), ('john', 0.8100072145462036), ('nancy', 0.8045629262924194)]\n",
      "--------------------------------\n",
      "Month: Dec\n",
      "[('james', 0.8934636116027832), ('elizabeth', 0.8768035769462585), ('john', 0.866142988204956), ('david', 0.86399245262146)]\n",
      "--------------------------------\n",
      "Month: Jan\n",
      "[('james', 0.9043503403663635), ('rookierae', 0.9002606868743896), ('pastor', 0.8961584568023682), ('robert', 0.8953264355659485)]\n",
      "--------------------------------\n"
     ]
    }
   ],
   "source": [
    "print_most_similar_cade(selected_models_monthly_pelosi, target_word_pelosi, top_n = 4)"
   ]
  },
  {
   "cell_type": "markdown",
   "metadata": {},
   "source": [
    "### Temporally changing embeddings"
   ]
  },
  {
   "cell_type": "code",
   "execution_count": 82,
   "metadata": {},
   "outputs": [
    {
     "data": {
      "text/html": "        <script type=\"text/javascript\">\n        window.PlotlyConfig = {MathJaxConfig: 'local'};\n        if (window.MathJax && window.MathJax.Hub && window.MathJax.Hub.Config) {window.MathJax.Hub.Config({SVG: {font: \"STIX-Web\"}});}\n        if (typeof require !== 'undefined') {\n        require.undef(\"plotly\");\n        requirejs.config({\n            paths: {\n                'plotly': ['https://cdn.plot.ly/plotly-2.25.2.min']\n            }\n        });\n        require(['plotly'], function(Plotly) {\n            window._Plotly = Plotly;\n        });\n        }\n        </script>\n        "
     },
     "metadata": {},
     "output_type": "display_data"
    },
    {
     "data": {
      "application/vnd.plotly.v1+json": {
       "data": [
        {
         "marker": {
          "color": "black"
         },
         "mode": "markers+text",
         "text": [
          "floyd_oct"
         ],
         "textfont": {
          "color": "black"
         },
         "textposition": "top center",
         "x": [
          1.2211641073226929
         ],
         "y": [
          0.45973002910614014
         ],
         "type": "scatter"
        },
        {
         "marker": {
          "color": "black"
         },
         "mode": "markers+text",
         "text": [
          "andrew_oct"
         ],
         "textfont": {
          "color": "black"
         },
         "textposition": "top center",
         "x": [
          -1.4213975667953491
         ],
         "y": [
          -0.8663783669471741
         ],
         "type": "scatter"
        },
        {
         "marker": {
          "color": "black"
         },
         "mode": "markers+text",
         "text": [
          "alex_oct"
         ],
         "textfont": {
          "color": "black"
         },
         "textposition": "top center",
         "x": [
          -0.3837946057319641
         ],
         "y": [
          -1.0122734308242798
         ],
         "type": "scatter"
        },
        {
         "marker": {
          "color": "red"
         },
         "mode": "markers+text",
         "text": [
          "paul_oct"
         ],
         "textfont": {
          "color": "red"
         },
         "textposition": "top center",
         "x": [
          0.5840280652046204
         ],
         "y": [
          1.4189218282699585
         ],
         "type": "scatter"
        },
        {
         "marker": {
          "color": "black"
         },
         "mode": "markers+text",
         "text": [
          "james_nov"
         ],
         "textfont": {
          "color": "black"
         },
         "textposition": "top center",
         "x": [
          0.19328317046165466
         ],
         "y": [
          -0.42267754673957825
         ],
         "type": "scatter"
        },
        {
         "marker": {
          "color": "black"
         },
         "mode": "markers+text",
         "text": [
          "pelosi_nov"
         ],
         "textfont": {
          "color": "black"
         },
         "textposition": "top center",
         "x": [
          -1.1977674961090088
         ],
         "y": [
          -1.4334155321121216
         ],
         "type": "scatter"
        },
        {
         "marker": {
          "color": "black"
         },
         "mode": "markers+text",
         "text": [
          "john_nov"
         ],
         "textfont": {
          "color": "black"
         },
         "textposition": "top center",
         "x": [
          1.508100152015686
         ],
         "y": [
          0.7795155048370361
         ],
         "type": "scatter"
        },
        {
         "marker": {
          "color": "red"
         },
         "mode": "markers+text",
         "text": [
          "paul_nov"
         ],
         "textfont": {
          "color": "red"
         },
         "textposition": "top center",
         "x": [
          -0.5036155581474304
         ],
         "y": [
          1.0765775442123413
         ],
         "type": "scatter"
        },
        {
         "marker": {
          "color": "black"
         },
         "mode": "markers+text",
         "text": [
          "james_dec"
         ],
         "textfont": {
          "color": "black"
         },
         "textposition": "top center",
         "x": [
          0.46867305040359497
         ],
         "y": [
          0.08725930750370026
         ],
         "type": "scatter"
        },
        {
         "marker": {
          "color": "black"
         },
         "mode": "markers+text",
         "text": [
          "elizabeth_dec"
         ],
         "textfont": {
          "color": "black"
         },
         "textposition": "top center",
         "x": [
          0.7980250120162964
         ],
         "y": [
          -1.2036950588226318
         ],
         "type": "scatter"
        },
        {
         "marker": {
          "color": "black"
         },
         "mode": "markers+text",
         "text": [
          "john_dec"
         ],
         "textfont": {
          "color": "black"
         },
         "textposition": "top center",
         "x": [
          0.4486028254032135
         ],
         "y": [
          1.5380876064300537
         ],
         "type": "scatter"
        },
        {
         "marker": {
          "color": "red"
         },
         "mode": "markers+text",
         "text": [
          "paul_dec"
         ],
         "textfont": {
          "color": "red"
         },
         "textposition": "top center",
         "x": [
          -1.7153009176254272
         ],
         "y": [
          -0.4216518998146057
         ],
         "type": "scatter"
        },
        {
         "marker": {
          "color": "black"
         },
         "mode": "markers+text",
         "text": [
          "james_jan"
         ],
         "textfont": {
          "color": "black"
         },
         "textposition": "top center",
         "x": [
          1.49540376663208
         ],
         "y": [
          1.165898084640503
         ],
         "type": "scatter"
        },
        {
         "marker": {
          "color": "black"
         },
         "mode": "markers+text",
         "text": [
          "rookierae_jan"
         ],
         "textfont": {
          "color": "black"
         },
         "textposition": "top center",
         "x": [
          -0.11044169962406158
         ],
         "y": [
          -1.333724021911621
         ],
         "type": "scatter"
        },
        {
         "marker": {
          "color": "black"
         },
         "mode": "markers+text",
         "text": [
          "pastor_jan"
         ],
         "textfont": {
          "color": "black"
         },
         "textposition": "top center",
         "x": [
          -0.06299307942390442
         ],
         "y": [
          -0.567155122756958
         ],
         "type": "scatter"
        },
        {
         "marker": {
          "color": "red"
         },
         "mode": "markers+text",
         "text": [
          "paul_jan"
         ],
         "textfont": {
          "color": "red"
         },
         "textposition": "top center",
         "x": [
          -1.3219690322875977
         ],
         "y": [
          0.7349810004234314
         ],
         "type": "scatter"
        },
        {
         "marker": {
          "color": "red",
          "size": 10,
          "symbol": "diamond"
         },
         "mode": "markers",
         "x": [
          0.5840280652046204
         ],
         "y": [
          1.4189218282699585
         ],
         "type": "scatter"
        },
        {
         "line": {
          "color": "red"
         },
         "mode": "lines",
         "x": [
          0.5840280652046204,
          -0.5036155581474304
         ],
         "y": [
          1.4189218282699585,
          1.0765775442123413
         ],
         "type": "scatter"
        },
        {
         "line": {
          "color": "red"
         },
         "mode": "lines",
         "x": [
          -0.5036155581474304,
          -1.7153009176254272
         ],
         "y": [
          1.0765775442123413,
          -0.4216518998146057
         ],
         "type": "scatter"
        },
        {
         "line": {
          "color": "red"
         },
         "mode": "lines",
         "x": [
          -1.7153009176254272,
          -1.3219690322875977
         ],
         "y": [
          -0.4216518998146057,
          0.7349810004234314
         ],
         "type": "scatter"
        }
       ],
       "layout": {
        "annotations": [
         {
          "showarrow": false,
          "text": "Period: Oct - Nov - Dec - Jan",
          "x": 0.5,
          "xref": "paper",
          "y": 1.08,
          "yref": "paper"
         }
        ],
        "showlegend": false,
        "template": {
         "data": {
          "barpolar": [
           {
            "marker": {
             "line": {
              "color": "#E5ECF6",
              "width": 0.5
             },
             "pattern": {
              "fillmode": "overlay",
              "size": 10,
              "solidity": 0.2
             }
            },
            "type": "barpolar"
           }
          ],
          "bar": [
           {
            "error_x": {
             "color": "#2a3f5f"
            },
            "error_y": {
             "color": "#2a3f5f"
            },
            "marker": {
             "line": {
              "color": "#E5ECF6",
              "width": 0.5
             },
             "pattern": {
              "fillmode": "overlay",
              "size": 10,
              "solidity": 0.2
             }
            },
            "type": "bar"
           }
          ],
          "carpet": [
           {
            "aaxis": {
             "endlinecolor": "#2a3f5f",
             "gridcolor": "white",
             "linecolor": "white",
             "minorgridcolor": "white",
             "startlinecolor": "#2a3f5f"
            },
            "baxis": {
             "endlinecolor": "#2a3f5f",
             "gridcolor": "white",
             "linecolor": "white",
             "minorgridcolor": "white",
             "startlinecolor": "#2a3f5f"
            },
            "type": "carpet"
           }
          ],
          "choropleth": [
           {
            "colorbar": {
             "outlinewidth": 0,
             "ticks": ""
            },
            "type": "choropleth"
           }
          ],
          "contourcarpet": [
           {
            "colorbar": {
             "outlinewidth": 0,
             "ticks": ""
            },
            "type": "contourcarpet"
           }
          ],
          "contour": [
           {
            "colorbar": {
             "outlinewidth": 0,
             "ticks": ""
            },
            "colorscale": [
             [
              0.0,
              "#0d0887"
             ],
             [
              0.1111111111111111,
              "#46039f"
             ],
             [
              0.2222222222222222,
              "#7201a8"
             ],
             [
              0.3333333333333333,
              "#9c179e"
             ],
             [
              0.4444444444444444,
              "#bd3786"
             ],
             [
              0.5555555555555556,
              "#d8576b"
             ],
             [
              0.6666666666666666,
              "#ed7953"
             ],
             [
              0.7777777777777778,
              "#fb9f3a"
             ],
             [
              0.8888888888888888,
              "#fdca26"
             ],
             [
              1.0,
              "#f0f921"
             ]
            ],
            "type": "contour"
           }
          ],
          "heatmapgl": [
           {
            "colorbar": {
             "outlinewidth": 0,
             "ticks": ""
            },
            "colorscale": [
             [
              0.0,
              "#0d0887"
             ],
             [
              0.1111111111111111,
              "#46039f"
             ],
             [
              0.2222222222222222,
              "#7201a8"
             ],
             [
              0.3333333333333333,
              "#9c179e"
             ],
             [
              0.4444444444444444,
              "#bd3786"
             ],
             [
              0.5555555555555556,
              "#d8576b"
             ],
             [
              0.6666666666666666,
              "#ed7953"
             ],
             [
              0.7777777777777778,
              "#fb9f3a"
             ],
             [
              0.8888888888888888,
              "#fdca26"
             ],
             [
              1.0,
              "#f0f921"
             ]
            ],
            "type": "heatmapgl"
           }
          ],
          "heatmap": [
           {
            "colorbar": {
             "outlinewidth": 0,
             "ticks": ""
            },
            "colorscale": [
             [
              0.0,
              "#0d0887"
             ],
             [
              0.1111111111111111,
              "#46039f"
             ],
             [
              0.2222222222222222,
              "#7201a8"
             ],
             [
              0.3333333333333333,
              "#9c179e"
             ],
             [
              0.4444444444444444,
              "#bd3786"
             ],
             [
              0.5555555555555556,
              "#d8576b"
             ],
             [
              0.6666666666666666,
              "#ed7953"
             ],
             [
              0.7777777777777778,
              "#fb9f3a"
             ],
             [
              0.8888888888888888,
              "#fdca26"
             ],
             [
              1.0,
              "#f0f921"
             ]
            ],
            "type": "heatmap"
           }
          ],
          "histogram2dcontour": [
           {
            "colorbar": {
             "outlinewidth": 0,
             "ticks": ""
            },
            "colorscale": [
             [
              0.0,
              "#0d0887"
             ],
             [
              0.1111111111111111,
              "#46039f"
             ],
             [
              0.2222222222222222,
              "#7201a8"
             ],
             [
              0.3333333333333333,
              "#9c179e"
             ],
             [
              0.4444444444444444,
              "#bd3786"
             ],
             [
              0.5555555555555556,
              "#d8576b"
             ],
             [
              0.6666666666666666,
              "#ed7953"
             ],
             [
              0.7777777777777778,
              "#fb9f3a"
             ],
             [
              0.8888888888888888,
              "#fdca26"
             ],
             [
              1.0,
              "#f0f921"
             ]
            ],
            "type": "histogram2dcontour"
           }
          ],
          "histogram2d": [
           {
            "colorbar": {
             "outlinewidth": 0,
             "ticks": ""
            },
            "colorscale": [
             [
              0.0,
              "#0d0887"
             ],
             [
              0.1111111111111111,
              "#46039f"
             ],
             [
              0.2222222222222222,
              "#7201a8"
             ],
             [
              0.3333333333333333,
              "#9c179e"
             ],
             [
              0.4444444444444444,
              "#bd3786"
             ],
             [
              0.5555555555555556,
              "#d8576b"
             ],
             [
              0.6666666666666666,
              "#ed7953"
             ],
             [
              0.7777777777777778,
              "#fb9f3a"
             ],
             [
              0.8888888888888888,
              "#fdca26"
             ],
             [
              1.0,
              "#f0f921"
             ]
            ],
            "type": "histogram2d"
           }
          ],
          "histogram": [
           {
            "marker": {
             "pattern": {
              "fillmode": "overlay",
              "size": 10,
              "solidity": 0.2
             }
            },
            "type": "histogram"
           }
          ],
          "mesh3d": [
           {
            "colorbar": {
             "outlinewidth": 0,
             "ticks": ""
            },
            "type": "mesh3d"
           }
          ],
          "parcoords": [
           {
            "line": {
             "colorbar": {
              "outlinewidth": 0,
              "ticks": ""
             }
            },
            "type": "parcoords"
           }
          ],
          "pie": [
           {
            "automargin": true,
            "type": "pie"
           }
          ],
          "scatter3d": [
           {
            "line": {
             "colorbar": {
              "outlinewidth": 0,
              "ticks": ""
             }
            },
            "marker": {
             "colorbar": {
              "outlinewidth": 0,
              "ticks": ""
             }
            },
            "type": "scatter3d"
           }
          ],
          "scattercarpet": [
           {
            "marker": {
             "colorbar": {
              "outlinewidth": 0,
              "ticks": ""
             }
            },
            "type": "scattercarpet"
           }
          ],
          "scattergeo": [
           {
            "marker": {
             "colorbar": {
              "outlinewidth": 0,
              "ticks": ""
             }
            },
            "type": "scattergeo"
           }
          ],
          "scattergl": [
           {
            "marker": {
             "colorbar": {
              "outlinewidth": 0,
              "ticks": ""
             }
            },
            "type": "scattergl"
           }
          ],
          "scattermapbox": [
           {
            "marker": {
             "colorbar": {
              "outlinewidth": 0,
              "ticks": ""
             }
            },
            "type": "scattermapbox"
           }
          ],
          "scatterpolargl": [
           {
            "marker": {
             "colorbar": {
              "outlinewidth": 0,
              "ticks": ""
             }
            },
            "type": "scatterpolargl"
           }
          ],
          "scatterpolar": [
           {
            "marker": {
             "colorbar": {
              "outlinewidth": 0,
              "ticks": ""
             }
            },
            "type": "scatterpolar"
           }
          ],
          "scatter": [
           {
            "fillpattern": {
             "fillmode": "overlay",
             "size": 10,
             "solidity": 0.2
            },
            "type": "scatter"
           }
          ],
          "scatterternary": [
           {
            "marker": {
             "colorbar": {
              "outlinewidth": 0,
              "ticks": ""
             }
            },
            "type": "scatterternary"
           }
          ],
          "surface": [
           {
            "colorbar": {
             "outlinewidth": 0,
             "ticks": ""
            },
            "colorscale": [
             [
              0.0,
              "#0d0887"
             ],
             [
              0.1111111111111111,
              "#46039f"
             ],
             [
              0.2222222222222222,
              "#7201a8"
             ],
             [
              0.3333333333333333,
              "#9c179e"
             ],
             [
              0.4444444444444444,
              "#bd3786"
             ],
             [
              0.5555555555555556,
              "#d8576b"
             ],
             [
              0.6666666666666666,
              "#ed7953"
             ],
             [
              0.7777777777777778,
              "#fb9f3a"
             ],
             [
              0.8888888888888888,
              "#fdca26"
             ],
             [
              1.0,
              "#f0f921"
             ]
            ],
            "type": "surface"
           }
          ],
          "table": [
           {
            "cells": {
             "fill": {
              "color": "#EBF0F8"
             },
             "line": {
              "color": "white"
             }
            },
            "header": {
             "fill": {
              "color": "#C8D4E3"
             },
             "line": {
              "color": "white"
             }
            },
            "type": "table"
           }
          ]
         },
         "layout": {
          "annotationdefaults": {
           "arrowcolor": "#2a3f5f",
           "arrowhead": 0,
           "arrowwidth": 1
          },
          "autotypenumbers": "strict",
          "coloraxis": {
           "colorbar": {
            "outlinewidth": 0,
            "ticks": ""
           }
          },
          "colorscale": {
           "diverging": [
            [
             0,
             "#8e0152"
            ],
            [
             0.1,
             "#c51b7d"
            ],
            [
             0.2,
             "#de77ae"
            ],
            [
             0.3,
             "#f1b6da"
            ],
            [
             0.4,
             "#fde0ef"
            ],
            [
             0.5,
             "#f7f7f7"
            ],
            [
             0.6,
             "#e6f5d0"
            ],
            [
             0.7,
             "#b8e186"
            ],
            [
             0.8,
             "#7fbc41"
            ],
            [
             0.9,
             "#4d9221"
            ],
            [
             1,
             "#276419"
            ]
           ],
           "sequential": [
            [
             0.0,
             "#0d0887"
            ],
            [
             0.1111111111111111,
             "#46039f"
            ],
            [
             0.2222222222222222,
             "#7201a8"
            ],
            [
             0.3333333333333333,
             "#9c179e"
            ],
            [
             0.4444444444444444,
             "#bd3786"
            ],
            [
             0.5555555555555556,
             "#d8576b"
            ],
            [
             0.6666666666666666,
             "#ed7953"
            ],
            [
             0.7777777777777778,
             "#fb9f3a"
            ],
            [
             0.8888888888888888,
             "#fdca26"
            ],
            [
             1.0,
             "#f0f921"
            ]
           ],
           "sequentialminus": [
            [
             0.0,
             "#0d0887"
            ],
            [
             0.1111111111111111,
             "#46039f"
            ],
            [
             0.2222222222222222,
             "#7201a8"
            ],
            [
             0.3333333333333333,
             "#9c179e"
            ],
            [
             0.4444444444444444,
             "#bd3786"
            ],
            [
             0.5555555555555556,
             "#d8576b"
            ],
            [
             0.6666666666666666,
             "#ed7953"
            ],
            [
             0.7777777777777778,
             "#fb9f3a"
            ],
            [
             0.8888888888888888,
             "#fdca26"
            ],
            [
             1.0,
             "#f0f921"
            ]
           ]
          },
          "colorway": [
           "#636efa",
           "#EF553B",
           "#00cc96",
           "#ab63fa",
           "#FFA15A",
           "#19d3f3",
           "#FF6692",
           "#B6E880",
           "#FF97FF",
           "#FECB52"
          ],
          "font": {
           "color": "#2a3f5f"
          },
          "geo": {
           "bgcolor": "white",
           "lakecolor": "white",
           "landcolor": "#E5ECF6",
           "showlakes": true,
           "showland": true,
           "subunitcolor": "white"
          },
          "hoverlabel": {
           "align": "left"
          },
          "hovermode": "closest",
          "mapbox": {
           "style": "light"
          },
          "paper_bgcolor": "white",
          "plot_bgcolor": "#E5ECF6",
          "polar": {
           "angularaxis": {
            "gridcolor": "white",
            "linecolor": "white",
            "ticks": ""
           },
           "bgcolor": "#E5ECF6",
           "radialaxis": {
            "gridcolor": "white",
            "linecolor": "white",
            "ticks": ""
           }
          },
          "scene": {
           "xaxis": {
            "backgroundcolor": "#E5ECF6",
            "gridcolor": "white",
            "gridwidth": 2,
            "linecolor": "white",
            "showbackground": true,
            "ticks": "",
            "zerolinecolor": "white"
           },
           "yaxis": {
            "backgroundcolor": "#E5ECF6",
            "gridcolor": "white",
            "gridwidth": 2,
            "linecolor": "white",
            "showbackground": true,
            "ticks": "",
            "zerolinecolor": "white"
           },
           "zaxis": {
            "backgroundcolor": "#E5ECF6",
            "gridcolor": "white",
            "gridwidth": 2,
            "linecolor": "white",
            "showbackground": true,
            "ticks": "",
            "zerolinecolor": "white"
           }
          },
          "shapedefaults": {
           "line": {
            "color": "#2a3f5f"
           }
          },
          "ternary": {
           "aaxis": {
            "gridcolor": "white",
            "linecolor": "white",
            "ticks": ""
           },
           "baxis": {
            "gridcolor": "white",
            "linecolor": "white",
            "ticks": ""
           },
           "bgcolor": "#E5ECF6",
           "caxis": {
            "gridcolor": "white",
            "linecolor": "white",
            "ticks": ""
           }
          },
          "title": {
           "x": 0.05
          },
          "xaxis": {
           "automargin": true,
           "gridcolor": "white",
           "linecolor": "white",
           "ticks": "",
           "title": {
            "standoff": 15
           },
           "zerolinecolor": "white",
           "zerolinewidth": 2
          },
          "yaxis": {
           "automargin": true,
           "gridcolor": "white",
           "linecolor": "white",
           "ticks": "",
           "title": {
            "standoff": 15
           },
           "zerolinecolor": "white",
           "zerolinewidth": 2
          }
         }
        },
        "title": {
         "font": {
          "size": 22
         },
         "text": "Evolution of the word paul over time",
         "x": 0.5
        },
        "xaxis": {
         "title": {
          "text": "X"
         }
        },
        "yaxis": {
         "title": {
          "text": "Y"
         }
        }
       },
       "config": {
        "showLink": false,
        "linkText": "Export to plot.ly",
        "plotlyServerURL": "https://plot.ly"
       }
      },
      "text/html": "<div>                            <div id=\"8429260c-2bee-4d3a-9502-2901639848aa\" class=\"plotly-graph-div\" style=\"height:525px; width:100%;\"></div>            <script type=\"text/javascript\">                require([\"plotly\"], function(Plotly) {                    window.PLOTLYENV=window.PLOTLYENV || {};                                    if (document.getElementById(\"8429260c-2bee-4d3a-9502-2901639848aa\")) {                    Plotly.newPlot(                        \"8429260c-2bee-4d3a-9502-2901639848aa\",                        [{\"marker\":{\"color\":\"black\"},\"mode\":\"markers+text\",\"text\":[\"floyd_oct\"],\"textfont\":{\"color\":\"black\"},\"textposition\":\"top center\",\"x\":[1.2211641073226929],\"y\":[0.45973002910614014],\"type\":\"scatter\"},{\"marker\":{\"color\":\"black\"},\"mode\":\"markers+text\",\"text\":[\"andrew_oct\"],\"textfont\":{\"color\":\"black\"},\"textposition\":\"top center\",\"x\":[-1.4213975667953491],\"y\":[-0.8663783669471741],\"type\":\"scatter\"},{\"marker\":{\"color\":\"black\"},\"mode\":\"markers+text\",\"text\":[\"alex_oct\"],\"textfont\":{\"color\":\"black\"},\"textposition\":\"top center\",\"x\":[-0.3837946057319641],\"y\":[-1.0122734308242798],\"type\":\"scatter\"},{\"marker\":{\"color\":\"red\"},\"mode\":\"markers+text\",\"text\":[\"paul_oct\"],\"textfont\":{\"color\":\"red\"},\"textposition\":\"top center\",\"x\":[0.5840280652046204],\"y\":[1.4189218282699585],\"type\":\"scatter\"},{\"marker\":{\"color\":\"black\"},\"mode\":\"markers+text\",\"text\":[\"james_nov\"],\"textfont\":{\"color\":\"black\"},\"textposition\":\"top center\",\"x\":[0.19328317046165466],\"y\":[-0.42267754673957825],\"type\":\"scatter\"},{\"marker\":{\"color\":\"black\"},\"mode\":\"markers+text\",\"text\":[\"pelosi_nov\"],\"textfont\":{\"color\":\"black\"},\"textposition\":\"top center\",\"x\":[-1.1977674961090088],\"y\":[-1.4334155321121216],\"type\":\"scatter\"},{\"marker\":{\"color\":\"black\"},\"mode\":\"markers+text\",\"text\":[\"john_nov\"],\"textfont\":{\"color\":\"black\"},\"textposition\":\"top center\",\"x\":[1.508100152015686],\"y\":[0.7795155048370361],\"type\":\"scatter\"},{\"marker\":{\"color\":\"red\"},\"mode\":\"markers+text\",\"text\":[\"paul_nov\"],\"textfont\":{\"color\":\"red\"},\"textposition\":\"top center\",\"x\":[-0.5036155581474304],\"y\":[1.0765775442123413],\"type\":\"scatter\"},{\"marker\":{\"color\":\"black\"},\"mode\":\"markers+text\",\"text\":[\"james_dec\"],\"textfont\":{\"color\":\"black\"},\"textposition\":\"top center\",\"x\":[0.46867305040359497],\"y\":[0.08725930750370026],\"type\":\"scatter\"},{\"marker\":{\"color\":\"black\"},\"mode\":\"markers+text\",\"text\":[\"elizabeth_dec\"],\"textfont\":{\"color\":\"black\"},\"textposition\":\"top center\",\"x\":[0.7980250120162964],\"y\":[-1.2036950588226318],\"type\":\"scatter\"},{\"marker\":{\"color\":\"black\"},\"mode\":\"markers+text\",\"text\":[\"john_dec\"],\"textfont\":{\"color\":\"black\"},\"textposition\":\"top center\",\"x\":[0.4486028254032135],\"y\":[1.5380876064300537],\"type\":\"scatter\"},{\"marker\":{\"color\":\"red\"},\"mode\":\"markers+text\",\"text\":[\"paul_dec\"],\"textfont\":{\"color\":\"red\"},\"textposition\":\"top center\",\"x\":[-1.7153009176254272],\"y\":[-0.4216518998146057],\"type\":\"scatter\"},{\"marker\":{\"color\":\"black\"},\"mode\":\"markers+text\",\"text\":[\"james_jan\"],\"textfont\":{\"color\":\"black\"},\"textposition\":\"top center\",\"x\":[1.49540376663208],\"y\":[1.165898084640503],\"type\":\"scatter\"},{\"marker\":{\"color\":\"black\"},\"mode\":\"markers+text\",\"text\":[\"rookierae_jan\"],\"textfont\":{\"color\":\"black\"},\"textposition\":\"top center\",\"x\":[-0.11044169962406158],\"y\":[-1.333724021911621],\"type\":\"scatter\"},{\"marker\":{\"color\":\"black\"},\"mode\":\"markers+text\",\"text\":[\"pastor_jan\"],\"textfont\":{\"color\":\"black\"},\"textposition\":\"top center\",\"x\":[-0.06299307942390442],\"y\":[-0.567155122756958],\"type\":\"scatter\"},{\"marker\":{\"color\":\"red\"},\"mode\":\"markers+text\",\"text\":[\"paul_jan\"],\"textfont\":{\"color\":\"red\"},\"textposition\":\"top center\",\"x\":[-1.3219690322875977],\"y\":[0.7349810004234314],\"type\":\"scatter\"},{\"marker\":{\"color\":\"red\",\"size\":10,\"symbol\":\"diamond\"},\"mode\":\"markers\",\"x\":[0.5840280652046204],\"y\":[1.4189218282699585],\"type\":\"scatter\"},{\"line\":{\"color\":\"red\"},\"mode\":\"lines\",\"x\":[0.5840280652046204,-0.5036155581474304],\"y\":[1.4189218282699585,1.0765775442123413],\"type\":\"scatter\"},{\"line\":{\"color\":\"red\"},\"mode\":\"lines\",\"x\":[-0.5036155581474304,-1.7153009176254272],\"y\":[1.0765775442123413,-0.4216518998146057],\"type\":\"scatter\"},{\"line\":{\"color\":\"red\"},\"mode\":\"lines\",\"x\":[-1.7153009176254272,-1.3219690322875977],\"y\":[-0.4216518998146057,0.7349810004234314],\"type\":\"scatter\"}],                        {\"annotations\":[{\"showarrow\":false,\"text\":\"Period: Oct - Nov - Dec - Jan\",\"x\":0.5,\"xref\":\"paper\",\"y\":1.08,\"yref\":\"paper\"}],\"showlegend\":false,\"template\":{\"data\":{\"barpolar\":[{\"marker\":{\"line\":{\"color\":\"#E5ECF6\",\"width\":0.5},\"pattern\":{\"fillmode\":\"overlay\",\"size\":10,\"solidity\":0.2}},\"type\":\"barpolar\"}],\"bar\":[{\"error_x\":{\"color\":\"#2a3f5f\"},\"error_y\":{\"color\":\"#2a3f5f\"},\"marker\":{\"line\":{\"color\":\"#E5ECF6\",\"width\":0.5},\"pattern\":{\"fillmode\":\"overlay\",\"size\":10,\"solidity\":0.2}},\"type\":\"bar\"}],\"carpet\":[{\"aaxis\":{\"endlinecolor\":\"#2a3f5f\",\"gridcolor\":\"white\",\"linecolor\":\"white\",\"minorgridcolor\":\"white\",\"startlinecolor\":\"#2a3f5f\"},\"baxis\":{\"endlinecolor\":\"#2a3f5f\",\"gridcolor\":\"white\",\"linecolor\":\"white\",\"minorgridcolor\":\"white\",\"startlinecolor\":\"#2a3f5f\"},\"type\":\"carpet\"}],\"choropleth\":[{\"colorbar\":{\"outlinewidth\":0,\"ticks\":\"\"},\"type\":\"choropleth\"}],\"contourcarpet\":[{\"colorbar\":{\"outlinewidth\":0,\"ticks\":\"\"},\"type\":\"contourcarpet\"}],\"contour\":[{\"colorbar\":{\"outlinewidth\":0,\"ticks\":\"\"},\"colorscale\":[[0.0,\"#0d0887\"],[0.1111111111111111,\"#46039f\"],[0.2222222222222222,\"#7201a8\"],[0.3333333333333333,\"#9c179e\"],[0.4444444444444444,\"#bd3786\"],[0.5555555555555556,\"#d8576b\"],[0.6666666666666666,\"#ed7953\"],[0.7777777777777778,\"#fb9f3a\"],[0.8888888888888888,\"#fdca26\"],[1.0,\"#f0f921\"]],\"type\":\"contour\"}],\"heatmapgl\":[{\"colorbar\":{\"outlinewidth\":0,\"ticks\":\"\"},\"colorscale\":[[0.0,\"#0d0887\"],[0.1111111111111111,\"#46039f\"],[0.2222222222222222,\"#7201a8\"],[0.3333333333333333,\"#9c179e\"],[0.4444444444444444,\"#bd3786\"],[0.5555555555555556,\"#d8576b\"],[0.6666666666666666,\"#ed7953\"],[0.7777777777777778,\"#fb9f3a\"],[0.8888888888888888,\"#fdca26\"],[1.0,\"#f0f921\"]],\"type\":\"heatmapgl\"}],\"heatmap\":[{\"colorbar\":{\"outlinewidth\":0,\"ticks\":\"\"},\"colorscale\":[[0.0,\"#0d0887\"],[0.1111111111111111,\"#46039f\"],[0.2222222222222222,\"#7201a8\"],[0.3333333333333333,\"#9c179e\"],[0.4444444444444444,\"#bd3786\"],[0.5555555555555556,\"#d8576b\"],[0.6666666666666666,\"#ed7953\"],[0.7777777777777778,\"#fb9f3a\"],[0.8888888888888888,\"#fdca26\"],[1.0,\"#f0f921\"]],\"type\":\"heatmap\"}],\"histogram2dcontour\":[{\"colorbar\":{\"outlinewidth\":0,\"ticks\":\"\"},\"colorscale\":[[0.0,\"#0d0887\"],[0.1111111111111111,\"#46039f\"],[0.2222222222222222,\"#7201a8\"],[0.3333333333333333,\"#9c179e\"],[0.4444444444444444,\"#bd3786\"],[0.5555555555555556,\"#d8576b\"],[0.6666666666666666,\"#ed7953\"],[0.7777777777777778,\"#fb9f3a\"],[0.8888888888888888,\"#fdca26\"],[1.0,\"#f0f921\"]],\"type\":\"histogram2dcontour\"}],\"histogram2d\":[{\"colorbar\":{\"outlinewidth\":0,\"ticks\":\"\"},\"colorscale\":[[0.0,\"#0d0887\"],[0.1111111111111111,\"#46039f\"],[0.2222222222222222,\"#7201a8\"],[0.3333333333333333,\"#9c179e\"],[0.4444444444444444,\"#bd3786\"],[0.5555555555555556,\"#d8576b\"],[0.6666666666666666,\"#ed7953\"],[0.7777777777777778,\"#fb9f3a\"],[0.8888888888888888,\"#fdca26\"],[1.0,\"#f0f921\"]],\"type\":\"histogram2d\"}],\"histogram\":[{\"marker\":{\"pattern\":{\"fillmode\":\"overlay\",\"size\":10,\"solidity\":0.2}},\"type\":\"histogram\"}],\"mesh3d\":[{\"colorbar\":{\"outlinewidth\":0,\"ticks\":\"\"},\"type\":\"mesh3d\"}],\"parcoords\":[{\"line\":{\"colorbar\":{\"outlinewidth\":0,\"ticks\":\"\"}},\"type\":\"parcoords\"}],\"pie\":[{\"automargin\":true,\"type\":\"pie\"}],\"scatter3d\":[{\"line\":{\"colorbar\":{\"outlinewidth\":0,\"ticks\":\"\"}},\"marker\":{\"colorbar\":{\"outlinewidth\":0,\"ticks\":\"\"}},\"type\":\"scatter3d\"}],\"scattercarpet\":[{\"marker\":{\"colorbar\":{\"outlinewidth\":0,\"ticks\":\"\"}},\"type\":\"scattercarpet\"}],\"scattergeo\":[{\"marker\":{\"colorbar\":{\"outlinewidth\":0,\"ticks\":\"\"}},\"type\":\"scattergeo\"}],\"scattergl\":[{\"marker\":{\"colorbar\":{\"outlinewidth\":0,\"ticks\":\"\"}},\"type\":\"scattergl\"}],\"scattermapbox\":[{\"marker\":{\"colorbar\":{\"outlinewidth\":0,\"ticks\":\"\"}},\"type\":\"scattermapbox\"}],\"scatterpolargl\":[{\"marker\":{\"colorbar\":{\"outlinewidth\":0,\"ticks\":\"\"}},\"type\":\"scatterpolargl\"}],\"scatterpolar\":[{\"marker\":{\"colorbar\":{\"outlinewidth\":0,\"ticks\":\"\"}},\"type\":\"scatterpolar\"}],\"scatter\":[{\"fillpattern\":{\"fillmode\":\"overlay\",\"size\":10,\"solidity\":0.2},\"type\":\"scatter\"}],\"scatterternary\":[{\"marker\":{\"colorbar\":{\"outlinewidth\":0,\"ticks\":\"\"}},\"type\":\"scatterternary\"}],\"surface\":[{\"colorbar\":{\"outlinewidth\":0,\"ticks\":\"\"},\"colorscale\":[[0.0,\"#0d0887\"],[0.1111111111111111,\"#46039f\"],[0.2222222222222222,\"#7201a8\"],[0.3333333333333333,\"#9c179e\"],[0.4444444444444444,\"#bd3786\"],[0.5555555555555556,\"#d8576b\"],[0.6666666666666666,\"#ed7953\"],[0.7777777777777778,\"#fb9f3a\"],[0.8888888888888888,\"#fdca26\"],[1.0,\"#f0f921\"]],\"type\":\"surface\"}],\"table\":[{\"cells\":{\"fill\":{\"color\":\"#EBF0F8\"},\"line\":{\"color\":\"white\"}},\"header\":{\"fill\":{\"color\":\"#C8D4E3\"},\"line\":{\"color\":\"white\"}},\"type\":\"table\"}]},\"layout\":{\"annotationdefaults\":{\"arrowcolor\":\"#2a3f5f\",\"arrowhead\":0,\"arrowwidth\":1},\"autotypenumbers\":\"strict\",\"coloraxis\":{\"colorbar\":{\"outlinewidth\":0,\"ticks\":\"\"}},\"colorscale\":{\"diverging\":[[0,\"#8e0152\"],[0.1,\"#c51b7d\"],[0.2,\"#de77ae\"],[0.3,\"#f1b6da\"],[0.4,\"#fde0ef\"],[0.5,\"#f7f7f7\"],[0.6,\"#e6f5d0\"],[0.7,\"#b8e186\"],[0.8,\"#7fbc41\"],[0.9,\"#4d9221\"],[1,\"#276419\"]],\"sequential\":[[0.0,\"#0d0887\"],[0.1111111111111111,\"#46039f\"],[0.2222222222222222,\"#7201a8\"],[0.3333333333333333,\"#9c179e\"],[0.4444444444444444,\"#bd3786\"],[0.5555555555555556,\"#d8576b\"],[0.6666666666666666,\"#ed7953\"],[0.7777777777777778,\"#fb9f3a\"],[0.8888888888888888,\"#fdca26\"],[1.0,\"#f0f921\"]],\"sequentialminus\":[[0.0,\"#0d0887\"],[0.1111111111111111,\"#46039f\"],[0.2222222222222222,\"#7201a8\"],[0.3333333333333333,\"#9c179e\"],[0.4444444444444444,\"#bd3786\"],[0.5555555555555556,\"#d8576b\"],[0.6666666666666666,\"#ed7953\"],[0.7777777777777778,\"#fb9f3a\"],[0.8888888888888888,\"#fdca26\"],[1.0,\"#f0f921\"]]},\"colorway\":[\"#636efa\",\"#EF553B\",\"#00cc96\",\"#ab63fa\",\"#FFA15A\",\"#19d3f3\",\"#FF6692\",\"#B6E880\",\"#FF97FF\",\"#FECB52\"],\"font\":{\"color\":\"#2a3f5f\"},\"geo\":{\"bgcolor\":\"white\",\"lakecolor\":\"white\",\"landcolor\":\"#E5ECF6\",\"showlakes\":true,\"showland\":true,\"subunitcolor\":\"white\"},\"hoverlabel\":{\"align\":\"left\"},\"hovermode\":\"closest\",\"mapbox\":{\"style\":\"light\"},\"paper_bgcolor\":\"white\",\"plot_bgcolor\":\"#E5ECF6\",\"polar\":{\"angularaxis\":{\"gridcolor\":\"white\",\"linecolor\":\"white\",\"ticks\":\"\"},\"bgcolor\":\"#E5ECF6\",\"radialaxis\":{\"gridcolor\":\"white\",\"linecolor\":\"white\",\"ticks\":\"\"}},\"scene\":{\"xaxis\":{\"backgroundcolor\":\"#E5ECF6\",\"gridcolor\":\"white\",\"gridwidth\":2,\"linecolor\":\"white\",\"showbackground\":true,\"ticks\":\"\",\"zerolinecolor\":\"white\"},\"yaxis\":{\"backgroundcolor\":\"#E5ECF6\",\"gridcolor\":\"white\",\"gridwidth\":2,\"linecolor\":\"white\",\"showbackground\":true,\"ticks\":\"\",\"zerolinecolor\":\"white\"},\"zaxis\":{\"backgroundcolor\":\"#E5ECF6\",\"gridcolor\":\"white\",\"gridwidth\":2,\"linecolor\":\"white\",\"showbackground\":true,\"ticks\":\"\",\"zerolinecolor\":\"white\"}},\"shapedefaults\":{\"line\":{\"color\":\"#2a3f5f\"}},\"ternary\":{\"aaxis\":{\"gridcolor\":\"white\",\"linecolor\":\"white\",\"ticks\":\"\"},\"baxis\":{\"gridcolor\":\"white\",\"linecolor\":\"white\",\"ticks\":\"\"},\"bgcolor\":\"#E5ECF6\",\"caxis\":{\"gridcolor\":\"white\",\"linecolor\":\"white\",\"ticks\":\"\"}},\"title\":{\"x\":0.05},\"xaxis\":{\"automargin\":true,\"gridcolor\":\"white\",\"linecolor\":\"white\",\"ticks\":\"\",\"title\":{\"standoff\":15},\"zerolinecolor\":\"white\",\"zerolinewidth\":2},\"yaxis\":{\"automargin\":true,\"gridcolor\":\"white\",\"linecolor\":\"white\",\"ticks\":\"\",\"title\":{\"standoff\":15},\"zerolinecolor\":\"white\",\"zerolinewidth\":2}}},\"title\":{\"font\":{\"size\":22},\"text\":\"Evolution of the word paul over time\",\"x\":0.5},\"xaxis\":{\"title\":{\"text\":\"X\"}},\"yaxis\":{\"title\":{\"text\":\"Y\"}}},                        {\"responsive\": true}                    ).then(function(){\n                            \nvar gd = document.getElementById('8429260c-2bee-4d3a-9502-2901639848aa');\nvar x = new MutationObserver(function (mutations, observer) {{\n        var display = window.getComputedStyle(gd).display;\n        if (!display || display === 'none') {{\n            console.log([gd, 'removed!']);\n            Plotly.purge(gd);\n            observer.disconnect();\n        }}\n}});\n\n// Listen for the removal of the full notebook cells\nvar notebookContainer = gd.closest('#notebook-container');\nif (notebookContainer) {{\n    x.observe(notebookContainer, {childList: true});\n}}\n\n// Listen for the clearing of the current output cell\nvar outputEl = gd.closest('.output');\nif (outputEl) {{\n    x.observe(outputEl, {childList: true});\n}}\n\n                        })                };                });            </script>        </div>"
     },
     "metadata": {},
     "output_type": "display_data"
    }
   ],
   "source": [
    "plot_temporal_changing_embedding(target_word_pelosi, selected_models_monthly_pelosi, top_n=3, title=title_pelosi, subtitle=subtitle_pelosi, use_tsne=True)"
   ]
  },
  {
   "cell_type": "markdown",
   "metadata": {},
   "source": [
    "### Cosine similarities"
   ]
  },
  {
   "cell_type": "code",
   "execution_count": 83,
   "metadata": {},
   "outputs": [
    {
     "name": "stdout",
     "output_type": "stream",
     "text": [
      "Word: paul\n",
      "Month: Jun\n",
      "[('william', 0.9556578397750854), ('mary', 0.95278000831604), ('lee', 0.9302201867103577)]\n",
      "--------------------------------\n",
      "Month: Jul\n",
      "[('kelly', 0.968390703201294), ('kim', 0.965156078338623), ('vachon', 0.9639986753463745)]\n",
      "--------------------------------\n",
      "Month: Aug\n",
      "[('j', 0.9704556465148926), ('charles', 0.9595333337783813), ('robert', 0.9591725468635559)]\n",
      "--------------------------------\n",
      "Month: Sep\n",
      "[('scott', 0.9557153582572937), ('williams', 0.9533271193504333), ('andrew', 0.9512734413146973)]\n",
      "--------------------------------\n",
      "Month: Oct\n",
      "[('floyd', 0.8686626553535461), ('andrew', 0.861987292766571), ('alex', 0.8612565398216248)]\n",
      "--------------------------------\n",
      "Month: Nov\n",
      "[('james', 0.8534097671508789), ('pelosi', 0.8324012756347656), ('john', 0.8100072145462036)]\n",
      "--------------------------------\n",
      "Month: Dec\n",
      "[('james', 0.8934636116027832), ('elizabeth', 0.8768035769462585), ('john', 0.866142988204956)]\n",
      "--------------------------------\n",
      "Month: Jan\n",
      "[('james', 0.9043503403663635), ('rookierae', 0.9002606868743896), ('pastor', 0.8961584568023682)]\n",
      "--------------------------------\n",
      "Month: Feb\n",
      "[('johnson', 0.8312907814979553), ('michael', 0.8280731439590454), ('smith', 0.8275179266929626)]\n",
      "--------------------------------\n",
      "Month: Mar\n",
      "[('vallas', 0.9184425473213196), ('ceo', 0.8947893977165222), ('brandon', 0.8866525888442993)]\n",
      "--------------------------------\n",
      "Month: Apr\n",
      "[('vallas', 0.9545528292655945), ('ceo', 0.9196469783782959), ('moderate', 0.9113202095031738)]\n",
      "--------------------------------\n"
     ]
    }
   ],
   "source": [
    "print_most_similar_cade(models_monthly, target_word_pelosi)"
   ]
  },
  {
   "cell_type": "code",
   "execution_count": 84,
   "metadata": {},
   "outputs": [],
   "source": [
    "test_words_pelosi = [\"attack\", \"democrats\", \"invasion\", \"hammer\", \"intruder\"]"
   ]
  },
  {
   "cell_type": "code",
   "execution_count": 85,
   "metadata": {},
   "outputs": [
    {
     "data": {
      "text/plain": "<Figure size 1000x600 with 1 Axes>",
      "image/png": "[encoded data removed]"
     },
     "metadata": {},
     "output_type": "display_data"
    }
   ],
   "source": [
    "plot_cosine_similarity(target_word_pelosi, test_words_pelosi, models_monthly, event=\"nov\", event_name=\"Attack on Paul Pelosi\")"
   ]
  },
  {
   "cell_type": "markdown",
   "metadata": {},
   "source": [
    "### TPPMI"
   ]
  },
  {
   "cell_type": "code",
   "execution_count": 86,
   "metadata": {},
   "outputs": [
    {
     "name": "stdout",
     "output_type": "stream",
     "text": [
      "All words are contained in the vocabulary\n",
      "hammer - not in vocab of timestep: 06\n",
      "hammer - not in vocab of timestep: 07\n",
      "hammer - not in vocab of timestep: 12\n",
      "hammer - not in vocab of timestep: 03\n",
      "hammer - not in vocab of timestep: 04\n",
      "intruder - not in vocab of timestep: 06\n",
      "intruder - not in vocab of timestep: 07\n",
      "intruder - not in vocab of timestep: 08\n",
      "intruder - not in vocab of timestep: 10\n",
      "intruder - not in vocab of timestep: 02\n",
      "intruder - not in vocab of timestep: 03\n",
      "intruder - not in vocab of timestep: 04\n"
     ]
    }
   ],
   "source": [
    "tppmi_pelosi = tppmi_model.get_tppmi(test_words_pelosi + [target_word_pelosi])"
   ]
  },
  {
   "cell_type": "code",
   "execution_count": 87,
   "metadata": {},
   "outputs": [
    {
     "name": "stdout",
     "output_type": "stream",
     "text": [
      "All words are contained in the vocabulary\n"
     ]
    },
    {
     "data": {
      "text/html": "        <script type=\"text/javascript\">\n        window.PlotlyConfig = {MathJaxConfig: 'local'};\n        if (window.MathJax && window.MathJax.Hub && window.MathJax.Hub.Config) {window.MathJax.Hub.Config({SVG: {font: \"STIX-Web\"}});}\n        if (typeof require !== 'undefined') {\n        require.undef(\"plotly\");\n        requirejs.config({\n            paths: {\n                'plotly': ['https://cdn.plot.ly/plotly-2.25.2.min']\n            }\n        });\n        require(['plotly'], function(Plotly) {\n            window._Plotly = Plotly;\n        });\n        }\n        </script>\n        "
     },
     "metadata": {},
     "output_type": "display_data"
    },
    {
     "data": {
      "application/vnd.plotly.v1+json": {
       "data": [
        {
         "marker": {
          "color": "#00CC96"
         },
         "mode": "markers+text",
         "name": "attack",
         "showlegend": false,
         "text": [
          "attack"
         ],
         "textposition": "top center",
         "x": [
          -1.6649431149486171
         ],
         "y": [
          32.62470979797957
         ],
         "type": "scatter"
        },
        {
         "marker": {
          "color": "#00CC96",
          "size": 10,
          "symbol": "diamond"
         },
         "mode": "markers",
         "showlegend": false,
         "x": [
          -1.6649431149486171
         ],
         "y": [
          32.62470979797957
         ],
         "type": "scatter"
        },
        {
         "marker": {
          "color": "#00CC96"
         },
         "mode": "markers+text",
         "name": "attack",
         "showlegend": false,
         "text": [
          "attack"
         ],
         "textposition": "top center",
         "x": [
          -2.752570380654266
         ],
         "y": [
          20.3490467408387
         ],
         "type": "scatter"
        },
        {
         "line": {
          "color": "#00CC96",
          "width": 1
         },
         "mode": "lines",
         "showlegend": false,
         "x": [
          -1.6649431149486171,
          -2.752570380654266
         ],
         "y": [
          32.62470979797957,
          20.3490467408387
         ],
         "type": "scatter"
        },
        {
         "marker": {
          "color": "#00CC96"
         },
         "mode": "markers+text",
         "name": "attack",
         "showlegend": false,
         "text": [
          "attack"
         ],
         "textposition": "top center",
         "x": [
          -0.9224454776629724
         ],
         "y": [
          24.599678623948257
         ],
         "type": "scatter"
        },
        {
         "line": {
          "color": "#00CC96",
          "width": 1
         },
         "mode": "lines",
         "showlegend": false,
         "x": [
          -2.752570380654266,
          -0.9224454776629724
         ],
         "y": [
          20.3490467408387,
          24.599678623948257
         ],
         "type": "scatter"
        },
        {
         "marker": {
          "color": "#AB63FA"
         },
         "mode": "markers+text",
         "name": "democrats",
         "showlegend": false,
         "text": [
          "democrats"
         ],
         "textposition": "top center",
         "x": [
          34.42854528113102
         ],
         "y": [
          -17.865088811967208
         ],
         "type": "scatter"
        },
        {
         "marker": {
          "color": "#AB63FA",
          "size": 10,
          "symbol": "diamond"
         },
         "mode": "markers",
         "showlegend": false,
         "x": [
          34.42854528113102
         ],
         "y": [
          -17.865088811967208
         ],
         "type": "scatter"
        },
        {
         "marker": {
          "color": "#AB63FA"
         },
         "mode": "markers+text",
         "name": "democrats",
         "showlegend": false,
         "text": [
          "democrats"
         ],
         "textposition": "top center",
         "x": [
          31.335343093077412
         ],
         "y": [
          -17.61097384039319
         ],
         "type": "scatter"
        },
        {
         "line": {
          "color": "#AB63FA",
          "width": 1
         },
         "mode": "lines",
         "showlegend": false,
         "x": [
          34.42854528113102,
          31.335343093077412
         ],
         "y": [
          -17.865088811967208,
          -17.61097384039319
         ],
         "type": "scatter"
        },
        {
         "marker": {
          "color": "#AB63FA"
         },
         "mode": "markers+text",
         "name": "democrats",
         "showlegend": false,
         "text": [
          "democrats"
         ],
         "textposition": "top center",
         "x": [
          11.913880294653072
         ],
         "y": [
          -4.091189600617943
         ],
         "type": "scatter"
        },
        {
         "line": {
          "color": "#AB63FA",
          "width": 1
         },
         "mode": "lines",
         "showlegend": false,
         "x": [
          31.335343093077412,
          11.913880294653072
         ],
         "y": [
          -17.61097384039319,
          -4.091189600617943
         ],
         "type": "scatter"
        },
        {
         "marker": {
          "color": "#EF553B"
         },
         "mode": "markers+text",
         "name": "invasion",
         "showlegend": false,
         "text": [
          "invasion"
         ],
         "textposition": "top center",
         "x": [
          0.4549592574725265
         ],
         "y": [
          4.841324893355945
         ],
         "type": "scatter"
        },
        {
         "marker": {
          "color": "#EF553B",
          "size": 10,
          "symbol": "diamond"
         },
         "mode": "markers",
         "showlegend": false,
         "x": [
          0.4549592574725265
         ],
         "y": [
          4.841324893355945
         ],
         "type": "scatter"
        },
        {
         "marker": {
          "color": "#EF553B"
         },
         "mode": "markers+text",
         "name": "invasion",
         "showlegend": false,
         "text": [
          "invasion"
         ],
         "textposition": "top center",
         "x": [
          1.355288258460582
         ],
         "y": [
          4.12974459911218
         ],
         "type": "scatter"
        },
        {
         "line": {
          "color": "#EF553B",
          "width": 1
         },
         "mode": "lines",
         "showlegend": false,
         "x": [
          0.4549592574725265,
          1.355288258460582
         ],
         "y": [
          4.841324893355945,
          4.12974459911218
         ],
         "type": "scatter"
        },
        {
         "marker": {
          "color": "#EF553B"
         },
         "mode": "markers+text",
         "name": "invasion",
         "showlegend": false,
         "text": [
          "invasion"
         ],
         "textposition": "top center",
         "x": [
          0.620355801567738
         ],
         "y": [
          3.452841876610268
         ],
         "type": "scatter"
        },
        {
         "line": {
          "color": "#EF553B",
          "width": 1
         },
         "mode": "lines",
         "showlegend": false,
         "x": [
          1.355288258460582,
          0.620355801567738
         ],
         "y": [
          4.12974459911218,
          3.452841876610268
         ],
         "type": "scatter"
        },
        {
         "marker": {
          "color": "#636EFA"
         },
         "mode": "markers+text",
         "name": "paul",
         "showlegend": false,
         "text": [
          "paul"
         ],
         "textposition": "top center",
         "x": [
          -28.472921071673944
         ],
         "y": [
          -12.127746856064897
         ],
         "type": "scatter"
        },
        {
         "marker": {
          "color": "#636EFA",
          "size": 10,
          "symbol": "diamond"
         },
         "mode": "markers",
         "showlegend": false,
         "x": [
          -28.472921071673944
         ],
         "y": [
          -12.127746856064897
         ],
         "type": "scatter"
        },
        {
         "marker": {
          "color": "#636EFA"
         },
         "mode": "markers+text",
         "name": "paul",
         "showlegend": false,
         "text": [
          "paul"
         ],
         "textposition": "top center",
         "x": [
          -29.93699118419835
         ],
         "y": [
          -27.017454890682245
         ],
         "type": "scatter"
        },
        {
         "line": {
          "color": "#636EFA",
          "width": 1
         },
         "mode": "lines",
         "showlegend": false,
         "x": [
          -28.472921071673944,
          -29.93699118419835
         ],
         "y": [
          -12.127746856064897,
          -27.017454890682245
         ],
         "type": "scatter"
        },
        {
         "marker": {
          "color": "#636EFA"
         },
         "mode": "markers+text",
         "name": "paul",
         "showlegend": false,
         "text": [
          "paul"
         ],
         "textposition": "top center",
         "x": [
          -16.358500757224203
         ],
         "y": [
          -11.284892532119514
         ],
         "type": "scatter"
        },
        {
         "line": {
          "color": "#636EFA",
          "width": 1
         },
         "mode": "lines",
         "showlegend": false,
         "x": [
          -29.93699118419835,
          -16.358500757224203
         ],
         "y": [
          -27.017454890682245,
          -11.284892532119514
         ],
         "type": "scatter"
        }
       ],
       "layout": {
        "legend": {
         "x": 1.02,
         "y": 1.0
        },
        "template": {
         "data": {
          "barpolar": [
           {
            "marker": {
             "line": {
              "color": "#E5ECF6",
              "width": 0.5
             },
             "pattern": {
              "fillmode": "overlay",
              "size": 10,
              "solidity": 0.2
             }
            },
            "type": "barpolar"
           }
          ],
          "bar": [
           {
            "error_x": {
             "color": "#2a3f5f"
            },
            "error_y": {
             "color": "#2a3f5f"
            },
            "marker": {
             "line": {
              "color": "#E5ECF6",
              "width": 0.5
             },
             "pattern": {
              "fillmode": "overlay",
              "size": 10,
              "solidity": 0.2
             }
            },
            "type": "bar"
           }
          ],
          "carpet": [
           {
            "aaxis": {
             "endlinecolor": "#2a3f5f",
             "gridcolor": "white",
             "linecolor": "white",
             "minorgridcolor": "white",
             "startlinecolor": "#2a3f5f"
            },
            "baxis": {
             "endlinecolor": "#2a3f5f",
             "gridcolor": "white",
             "linecolor": "white",
             "minorgridcolor": "white",
             "startlinecolor": "#2a3f5f"
            },
            "type": "carpet"
           }
          ],
          "choropleth": [
           {
            "colorbar": {
             "outlinewidth": 0,
             "ticks": ""
            },
            "type": "choropleth"
           }
          ],
          "contourcarpet": [
           {
            "colorbar": {
             "outlinewidth": 0,
             "ticks": ""
            },
            "type": "contourcarpet"
           }
          ],
          "contour": [
           {
            "colorbar": {
             "outlinewidth": 0,
             "ticks": ""
            },
            "colorscale": [
             [
              0.0,
              "#0d0887"
             ],
             [
              0.1111111111111111,
              "#46039f"
             ],
             [
              0.2222222222222222,
              "#7201a8"
             ],
             [
              0.3333333333333333,
              "#9c179e"
             ],
             [
              0.4444444444444444,
              "#bd3786"
             ],
             [
              0.5555555555555556,
              "#d8576b"
             ],
             [
              0.6666666666666666,
              "#ed7953"
             ],
             [
              0.7777777777777778,
              "#fb9f3a"
             ],
             [
              0.8888888888888888,
              "#fdca26"
             ],
             [
              1.0,
              "#f0f921"
             ]
            ],
            "type": "contour"
           }
          ],
          "heatmapgl": [
           {
            "colorbar": {
             "outlinewidth": 0,
             "ticks": ""
            },
            "colorscale": [
             [
              0.0,
              "#0d0887"
             ],
             [
              0.1111111111111111,
              "#46039f"
             ],
             [
              0.2222222222222222,
              "#7201a8"
             ],
             [
              0.3333333333333333,
              "#9c179e"
             ],
             [
              0.4444444444444444,
              "#bd3786"
             ],
             [
              0.5555555555555556,
              "#d8576b"
             ],
             [
              0.6666666666666666,
              "#ed7953"
             ],
             [
              0.7777777777777778,
              "#fb9f3a"
             ],
             [
              0.8888888888888888,
              "#fdca26"
             ],
             [
              1.0,
              "#f0f921"
             ]
            ],
            "type": "heatmapgl"
           }
          ],
          "heatmap": [
           {
            "colorbar": {
             "outlinewidth": 0,
             "ticks": ""
            },
            "colorscale": [
             [
              0.0,
              "#0d0887"
             ],
             [
              0.1111111111111111,
              "#46039f"
             ],
             [
              0.2222222222222222,
              "#7201a8"
             ],
             [
              0.3333333333333333,
              "#9c179e"
             ],
             [
              0.4444444444444444,
              "#bd3786"
             ],
             [
              0.5555555555555556,
              "#d8576b"
             ],
             [
              0.6666666666666666,
              "#ed7953"
             ],
             [
              0.7777777777777778,
              "#fb9f3a"
             ],
             [
              0.8888888888888888,
              "#fdca26"
             ],
             [
              1.0,
              "#f0f921"
             ]
            ],
            "type": "heatmap"
           }
          ],
          "histogram2dcontour": [
           {
            "colorbar": {
             "outlinewidth": 0,
             "ticks": ""
            },
            "colorscale": [
             [
              0.0,
              "#0d0887"
             ],
             [
              0.1111111111111111,
              "#46039f"
             ],
             [
              0.2222222222222222,
              "#7201a8"
             ],
             [
              0.3333333333333333,
              "#9c179e"
             ],
             [
              0.4444444444444444,
              "#bd3786"
             ],
             [
              0.5555555555555556,
              "#d8576b"
             ],
             [
              0.6666666666666666,
              "#ed7953"
             ],
             [
              0.7777777777777778,
              "#fb9f3a"
             ],
             [
              0.8888888888888888,
              "#fdca26"
             ],
             [
              1.0,
              "#f0f921"
             ]
            ],
            "type": "histogram2dcontour"
           }
          ],
          "histogram2d": [
           {
            "colorbar": {
             "outlinewidth": 0,
             "ticks": ""
            },
            "colorscale": [
             [
              0.0,
              "#0d0887"
             ],
             [
              0.1111111111111111,
              "#46039f"
             ],
             [
              0.2222222222222222,
              "#7201a8"
             ],
             [
              0.3333333333333333,
              "#9c179e"
             ],
             [
              0.4444444444444444,
              "#bd3786"
             ],
             [
              0.5555555555555556,
              "#d8576b"
             ],
             [
              0.6666666666666666,
              "#ed7953"
             ],
             [
              0.7777777777777778,
              "#fb9f3a"
             ],
             [
              0.8888888888888888,
              "#fdca26"
             ],
             [
              1.0,
              "#f0f921"
             ]
            ],
            "type": "histogram2d"
           }
          ],
          "histogram": [
           {
            "marker": {
             "pattern": {
              "fillmode": "overlay",
              "size": 10,
              "solidity": 0.2
             }
            },
            "type": "histogram"
           }
          ],
          "mesh3d": [
           {
            "colorbar": {
             "outlinewidth": 0,
             "ticks": ""
            },
            "type": "mesh3d"
           }
          ],
          "parcoords": [
           {
            "line": {
             "colorbar": {
              "outlinewidth": 0,
              "ticks": ""
             }
            },
            "type": "parcoords"
           }
          ],
          "pie": [
           {
            "automargin": true,
            "type": "pie"
           }
          ],
          "scatter3d": [
           {
            "line": {
             "colorbar": {
              "outlinewidth": 0,
              "ticks": ""
             }
            },
            "marker": {
             "colorbar": {
              "outlinewidth": 0,
              "ticks": ""
             }
            },
            "type": "scatter3d"
           }
          ],
          "scattercarpet": [
           {
            "marker": {
             "colorbar": {
              "outlinewidth": 0,
              "ticks": ""
             }
            },
            "type": "scattercarpet"
           }
          ],
          "scattergeo": [
           {
            "marker": {
             "colorbar": {
              "outlinewidth": 0,
              "ticks": ""
             }
            },
            "type": "scattergeo"
           }
          ],
          "scattergl": [
           {
            "marker": {
             "colorbar": {
              "outlinewidth": 0,
              "ticks": ""
             }
            },
            "type": "scattergl"
           }
          ],
          "scattermapbox": [
           {
            "marker": {
             "colorbar": {
              "outlinewidth": 0,
              "ticks": ""
             }
            },
            "type": "scattermapbox"
           }
          ],
          "scatterpolargl": [
           {
            "marker": {
             "colorbar": {
              "outlinewidth": 0,
              "ticks": ""
             }
            },
            "type": "scatterpolargl"
           }
          ],
          "scatterpolar": [
           {
            "marker": {
             "colorbar": {
              "outlinewidth": 0,
              "ticks": ""
             }
            },
            "type": "scatterpolar"
           }
          ],
          "scatter": [
           {
            "fillpattern": {
             "fillmode": "overlay",
             "size": 10,
             "solidity": 0.2
            },
            "type": "scatter"
           }
          ],
          "scatterternary": [
           {
            "marker": {
             "colorbar": {
              "outlinewidth": 0,
              "ticks": ""
             }
            },
            "type": "scatterternary"
           }
          ],
          "surface": [
           {
            "colorbar": {
             "outlinewidth": 0,
             "ticks": ""
            },
            "colorscale": [
             [
              0.0,
              "#0d0887"
             ],
             [
              0.1111111111111111,
              "#46039f"
             ],
             [
              0.2222222222222222,
              "#7201a8"
             ],
             [
              0.3333333333333333,
              "#9c179e"
             ],
             [
              0.4444444444444444,
              "#bd3786"
             ],
             [
              0.5555555555555556,
              "#d8576b"
             ],
             [
              0.6666666666666666,
              "#ed7953"
             ],
             [
              0.7777777777777778,
              "#fb9f3a"
             ],
             [
              0.8888888888888888,
              "#fdca26"
             ],
             [
              1.0,
              "#f0f921"
             ]
            ],
            "type": "surface"
           }
          ],
          "table": [
           {
            "cells": {
             "fill": {
              "color": "#EBF0F8"
             },
             "line": {
              "color": "white"
             }
            },
            "header": {
             "fill": {
              "color": "#C8D4E3"
             },
             "line": {
              "color": "white"
             }
            },
            "type": "table"
           }
          ]
         },
         "layout": {
          "annotationdefaults": {
           "arrowcolor": "#2a3f5f",
           "arrowhead": 0,
           "arrowwidth": 1
          },
          "autotypenumbers": "strict",
          "coloraxis": {
           "colorbar": {
            "outlinewidth": 0,
            "ticks": ""
           }
          },
          "colorscale": {
           "diverging": [
            [
             0,
             "#8e0152"
            ],
            [
             0.1,
             "#c51b7d"
            ],
            [
             0.2,
             "#de77ae"
            ],
            [
             0.3,
             "#f1b6da"
            ],
            [
             0.4,
             "#fde0ef"
            ],
            [
             0.5,
             "#f7f7f7"
            ],
            [
             0.6,
             "#e6f5d0"
            ],
            [
             0.7,
             "#b8e186"
            ],
            [
             0.8,
             "#7fbc41"
            ],
            [
             0.9,
             "#4d9221"
            ],
            [
             1,
             "#276419"
            ]
           ],
           "sequential": [
            [
             0.0,
             "#0d0887"
            ],
            [
             0.1111111111111111,
             "#46039f"
            ],
            [
             0.2222222222222222,
             "#7201a8"
            ],
            [
             0.3333333333333333,
             "#9c179e"
            ],
            [
             0.4444444444444444,
             "#bd3786"
            ],
            [
             0.5555555555555556,
             "#d8576b"
            ],
            [
             0.6666666666666666,
             "#ed7953"
            ],
            [
             0.7777777777777778,
             "#fb9f3a"
            ],
            [
             0.8888888888888888,
             "#fdca26"
            ],
            [
             1.0,
             "#f0f921"
            ]
           ],
           "sequentialminus": [
            [
             0.0,
             "#0d0887"
            ],
            [
             0.1111111111111111,
             "#46039f"
            ],
            [
             0.2222222222222222,
             "#7201a8"
            ],
            [
             0.3333333333333333,
             "#9c179e"
            ],
            [
             0.4444444444444444,
             "#bd3786"
            ],
            [
             0.5555555555555556,
             "#d8576b"
            ],
            [
             0.6666666666666666,
             "#ed7953"
            ],
            [
             0.7777777777777778,
             "#fb9f3a"
            ],
            [
             0.8888888888888888,
             "#fdca26"
            ],
            [
             1.0,
             "#f0f921"
            ]
           ]
          },
          "colorway": [
           "#636efa",
           "#EF553B",
           "#00cc96",
           "#ab63fa",
           "#FFA15A",
           "#19d3f3",
           "#FF6692",
           "#B6E880",
           "#FF97FF",
           "#FECB52"
          ],
          "font": {
           "color": "#2a3f5f"
          },
          "geo": {
           "bgcolor": "white",
           "lakecolor": "white",
           "landcolor": "#E5ECF6",
           "showlakes": true,
           "showland": true,
           "subunitcolor": "white"
          },
          "hoverlabel": {
           "align": "left"
          },
          "hovermode": "closest",
          "mapbox": {
           "style": "light"
          },
          "paper_bgcolor": "white",
          "plot_bgcolor": "#E5ECF6",
          "polar": {
           "angularaxis": {
            "gridcolor": "white",
            "linecolor": "white",
            "ticks": ""
           },
           "bgcolor": "#E5ECF6",
           "radialaxis": {
            "gridcolor": "white",
            "linecolor": "white",
            "ticks": ""
           }
          },
          "scene": {
           "xaxis": {
            "backgroundcolor": "#E5ECF6",
            "gridcolor": "white",
            "gridwidth": 2,
            "linecolor": "white",
            "showbackground": true,
            "ticks": "",
            "zerolinecolor": "white"
           },
           "yaxis": {
            "backgroundcolor": "#E5ECF6",
            "gridcolor": "white",
            "gridwidth": 2,
            "linecolor": "white",
            "showbackground": true,
            "ticks": "",
            "zerolinecolor": "white"
           },
           "zaxis": {
            "backgroundcolor": "#E5ECF6",
            "gridcolor": "white",
            "gridwidth": 2,
            "linecolor": "white",
            "showbackground": true,
            "ticks": "",
            "zerolinecolor": "white"
           }
          },
          "shapedefaults": {
           "line": {
            "color": "#2a3f5f"
           }
          },
          "ternary": {
           "aaxis": {
            "gridcolor": "white",
            "linecolor": "white",
            "ticks": ""
           },
           "baxis": {
            "gridcolor": "white",
            "linecolor": "white",
            "ticks": ""
           },
           "bgcolor": "#E5ECF6",
           "caxis": {
            "gridcolor": "white",
            "linecolor": "white",
            "ticks": ""
           }
          },
          "title": {
           "x": 0.05
          },
          "xaxis": {
           "automargin": true,
           "gridcolor": "white",
           "linecolor": "white",
           "ticks": "",
           "title": {
            "standoff": 15
           },
           "zerolinecolor": "white",
           "zerolinewidth": 2
          },
          "yaxis": {
           "automargin": true,
           "gridcolor": "white",
           "linecolor": "white",
           "ticks": "",
           "title": {
            "standoff": 15
           },
           "zerolinecolor": "white",
           "zerolinewidth": 2
          }
         }
        },
        "title": {
         "text": "2D Visualization of Word Vectors"
        },
        "xaxis": {
         "range": [
          -50,
          50
         ],
         "title": {
          "text": "PC1"
         }
        },
        "yaxis": {
         "range": [
          -50,
          50
         ],
         "title": {
          "text": "PC2"
         }
        }
       },
       "config": {
        "showLink": false,
        "linkText": "Export to plot.ly",
        "plotlyServerURL": "https://plot.ly"
       }
      },
      "text/html": "<div>                            <div id=\"6d5bc172-b4ce-48ce-b1af-bbdc5589f653\" class=\"plotly-graph-div\" style=\"height:525px; width:100%;\"></div>            <script type=\"text/javascript\">                require([\"plotly\"], function(Plotly) {                    window.PLOTLYENV=window.PLOTLYENV || {};                                    if (document.getElementById(\"6d5bc172-b4ce-48ce-b1af-bbdc5589f653\")) {                    Plotly.newPlot(                        \"6d5bc172-b4ce-48ce-b1af-bbdc5589f653\",                        [{\"marker\":{\"color\":\"#00CC96\"},\"mode\":\"markers+text\",\"name\":\"attack\",\"showlegend\":false,\"text\":[\"attack\"],\"textposition\":\"top center\",\"x\":[-1.6649431149486171],\"y\":[32.62470979797957],\"type\":\"scatter\"},{\"marker\":{\"color\":\"#00CC96\",\"size\":10,\"symbol\":\"diamond\"},\"mode\":\"markers\",\"showlegend\":false,\"x\":[-1.6649431149486171],\"y\":[32.62470979797957],\"type\":\"scatter\"},{\"marker\":{\"color\":\"#00CC96\"},\"mode\":\"markers+text\",\"name\":\"attack\",\"showlegend\":false,\"text\":[\"attack\"],\"textposition\":\"top center\",\"x\":[-2.752570380654266],\"y\":[20.3490467408387],\"type\":\"scatter\"},{\"line\":{\"color\":\"#00CC96\",\"width\":1},\"mode\":\"lines\",\"showlegend\":false,\"x\":[-1.6649431149486171,-2.752570380654266],\"y\":[32.62470979797957,20.3490467408387],\"type\":\"scatter\"},{\"marker\":{\"color\":\"#00CC96\"},\"mode\":\"markers+text\",\"name\":\"attack\",\"showlegend\":false,\"text\":[\"attack\"],\"textposition\":\"top center\",\"x\":[-0.9224454776629724],\"y\":[24.599678623948257],\"type\":\"scatter\"},{\"line\":{\"color\":\"#00CC96\",\"width\":1},\"mode\":\"lines\",\"showlegend\":false,\"x\":[-2.752570380654266,-0.9224454776629724],\"y\":[20.3490467408387,24.599678623948257],\"type\":\"scatter\"},{\"marker\":{\"color\":\"#AB63FA\"},\"mode\":\"markers+text\",\"name\":\"democrats\",\"showlegend\":false,\"text\":[\"democrats\"],\"textposition\":\"top center\",\"x\":[34.42854528113102],\"y\":[-17.865088811967208],\"type\":\"scatter\"},{\"marker\":{\"color\":\"#AB63FA\",\"size\":10,\"symbol\":\"diamond\"},\"mode\":\"markers\",\"showlegend\":false,\"x\":[34.42854528113102],\"y\":[-17.865088811967208],\"type\":\"scatter\"},{\"marker\":{\"color\":\"#AB63FA\"},\"mode\":\"markers+text\",\"name\":\"democrats\",\"showlegend\":false,\"text\":[\"democrats\"],\"textposition\":\"top center\",\"x\":[31.335343093077412],\"y\":[-17.61097384039319],\"type\":\"scatter\"},{\"line\":{\"color\":\"#AB63FA\",\"width\":1},\"mode\":\"lines\",\"showlegend\":false,\"x\":[34.42854528113102,31.335343093077412],\"y\":[-17.865088811967208,-17.61097384039319],\"type\":\"scatter\"},{\"marker\":{\"color\":\"#AB63FA\"},\"mode\":\"markers+text\",\"name\":\"democrats\",\"showlegend\":false,\"text\":[\"democrats\"],\"textposition\":\"top center\",\"x\":[11.913880294653072],\"y\":[-4.091189600617943],\"type\":\"scatter\"},{\"line\":{\"color\":\"#AB63FA\",\"width\":1},\"mode\":\"lines\",\"showlegend\":false,\"x\":[31.335343093077412,11.913880294653072],\"y\":[-17.61097384039319,-4.091189600617943],\"type\":\"scatter\"},{\"marker\":{\"color\":\"#EF553B\"},\"mode\":\"markers+text\",\"name\":\"invasion\",\"showlegend\":false,\"text\":[\"invasion\"],\"textposition\":\"top center\",\"x\":[0.4549592574725265],\"y\":[4.841324893355945],\"type\":\"scatter\"},{\"marker\":{\"color\":\"#EF553B\",\"size\":10,\"symbol\":\"diamond\"},\"mode\":\"markers\",\"showlegend\":false,\"x\":[0.4549592574725265],\"y\":[4.841324893355945],\"type\":\"scatter\"},{\"marker\":{\"color\":\"#EF553B\"},\"mode\":\"markers+text\",\"name\":\"invasion\",\"showlegend\":false,\"text\":[\"invasion\"],\"textposition\":\"top center\",\"x\":[1.355288258460582],\"y\":[4.12974459911218],\"type\":\"scatter\"},{\"line\":{\"color\":\"#EF553B\",\"width\":1},\"mode\":\"lines\",\"showlegend\":false,\"x\":[0.4549592574725265,1.355288258460582],\"y\":[4.841324893355945,4.12974459911218],\"type\":\"scatter\"},{\"marker\":{\"color\":\"#EF553B\"},\"mode\":\"markers+text\",\"name\":\"invasion\",\"showlegend\":false,\"text\":[\"invasion\"],\"textposition\":\"top center\",\"x\":[0.620355801567738],\"y\":[3.452841876610268],\"type\":\"scatter\"},{\"line\":{\"color\":\"#EF553B\",\"width\":1},\"mode\":\"lines\",\"showlegend\":false,\"x\":[1.355288258460582,0.620355801567738],\"y\":[4.12974459911218,3.452841876610268],\"type\":\"scatter\"},{\"marker\":{\"color\":\"#636EFA\"},\"mode\":\"markers+text\",\"name\":\"paul\",\"showlegend\":false,\"text\":[\"paul\"],\"textposition\":\"top center\",\"x\":[-28.472921071673944],\"y\":[-12.127746856064897],\"type\":\"scatter\"},{\"marker\":{\"color\":\"#636EFA\",\"size\":10,\"symbol\":\"diamond\"},\"mode\":\"markers\",\"showlegend\":false,\"x\":[-28.472921071673944],\"y\":[-12.127746856064897],\"type\":\"scatter\"},{\"marker\":{\"color\":\"#636EFA\"},\"mode\":\"markers+text\",\"name\":\"paul\",\"showlegend\":false,\"text\":[\"paul\"],\"textposition\":\"top center\",\"x\":[-29.93699118419835],\"y\":[-27.017454890682245],\"type\":\"scatter\"},{\"line\":{\"color\":\"#636EFA\",\"width\":1},\"mode\":\"lines\",\"showlegend\":false,\"x\":[-28.472921071673944,-29.93699118419835],\"y\":[-12.127746856064897,-27.017454890682245],\"type\":\"scatter\"},{\"marker\":{\"color\":\"#636EFA\"},\"mode\":\"markers+text\",\"name\":\"paul\",\"showlegend\":false,\"text\":[\"paul\"],\"textposition\":\"top center\",\"x\":[-16.358500757224203],\"y\":[-11.284892532119514],\"type\":\"scatter\"},{\"line\":{\"color\":\"#636EFA\",\"width\":1},\"mode\":\"lines\",\"showlegend\":false,\"x\":[-29.93699118419835,-16.358500757224203],\"y\":[-27.017454890682245,-11.284892532119514],\"type\":\"scatter\"}],                        {\"legend\":{\"x\":1.02,\"y\":1.0},\"template\":{\"data\":{\"barpolar\":[{\"marker\":{\"line\":{\"color\":\"#E5ECF6\",\"width\":0.5},\"pattern\":{\"fillmode\":\"overlay\",\"size\":10,\"solidity\":0.2}},\"type\":\"barpolar\"}],\"bar\":[{\"error_x\":{\"color\":\"#2a3f5f\"},\"error_y\":{\"color\":\"#2a3f5f\"},\"marker\":{\"line\":{\"color\":\"#E5ECF6\",\"width\":0.5},\"pattern\":{\"fillmode\":\"overlay\",\"size\":10,\"solidity\":0.2}},\"type\":\"bar\"}],\"carpet\":[{\"aaxis\":{\"endlinecolor\":\"#2a3f5f\",\"gridcolor\":\"white\",\"linecolor\":\"white\",\"minorgridcolor\":\"white\",\"startlinecolor\":\"#2a3f5f\"},\"baxis\":{\"endlinecolor\":\"#2a3f5f\",\"gridcolor\":\"white\",\"linecolor\":\"white\",\"minorgridcolor\":\"white\",\"startlinecolor\":\"#2a3f5f\"},\"type\":\"carpet\"}],\"choropleth\":[{\"colorbar\":{\"outlinewidth\":0,\"ticks\":\"\"},\"type\":\"choropleth\"}],\"contourcarpet\":[{\"colorbar\":{\"outlinewidth\":0,\"ticks\":\"\"},\"type\":\"contourcarpet\"}],\"contour\":[{\"colorbar\":{\"outlinewidth\":0,\"ticks\":\"\"},\"colorscale\":[[0.0,\"#0d0887\"],[0.1111111111111111,\"#46039f\"],[0.2222222222222222,\"#7201a8\"],[0.3333333333333333,\"#9c179e\"],[0.4444444444444444,\"#bd3786\"],[0.5555555555555556,\"#d8576b\"],[0.6666666666666666,\"#ed7953\"],[0.7777777777777778,\"#fb9f3a\"],[0.8888888888888888,\"#fdca26\"],[1.0,\"#f0f921\"]],\"type\":\"contour\"}],\"heatmapgl\":[{\"colorbar\":{\"outlinewidth\":0,\"ticks\":\"\"},\"colorscale\":[[0.0,\"#0d0887\"],[0.1111111111111111,\"#46039f\"],[0.2222222222222222,\"#7201a8\"],[0.3333333333333333,\"#9c179e\"],[0.4444444444444444,\"#bd3786\"],[0.5555555555555556,\"#d8576b\"],[0.6666666666666666,\"#ed7953\"],[0.7777777777777778,\"#fb9f3a\"],[0.8888888888888888,\"#fdca26\"],[1.0,\"#f0f921\"]],\"type\":\"heatmapgl\"}],\"heatmap\":[{\"colorbar\":{\"outlinewidth\":0,\"ticks\":\"\"},\"colorscale\":[[0.0,\"#0d0887\"],[0.1111111111111111,\"#46039f\"],[0.2222222222222222,\"#7201a8\"],[0.3333333333333333,\"#9c179e\"],[0.4444444444444444,\"#bd3786\"],[0.5555555555555556,\"#d8576b\"],[0.6666666666666666,\"#ed7953\"],[0.7777777777777778,\"#fb9f3a\"],[0.8888888888888888,\"#fdca26\"],[1.0,\"#f0f921\"]],\"type\":\"heatmap\"}],\"histogram2dcontour\":[{\"colorbar\":{\"outlinewidth\":0,\"ticks\":\"\"},\"colorscale\":[[0.0,\"#0d0887\"],[0.1111111111111111,\"#46039f\"],[0.2222222222222222,\"#7201a8\"],[0.3333333333333333,\"#9c179e\"],[0.4444444444444444,\"#bd3786\"],[0.5555555555555556,\"#d8576b\"],[0.6666666666666666,\"#ed7953\"],[0.7777777777777778,\"#fb9f3a\"],[0.8888888888888888,\"#fdca26\"],[1.0,\"#f0f921\"]],\"type\":\"histogram2dcontour\"}],\"histogram2d\":[{\"colorbar\":{\"outlinewidth\":0,\"ticks\":\"\"},\"colorscale\":[[0.0,\"#0d0887\"],[0.1111111111111111,\"#46039f\"],[0.2222222222222222,\"#7201a8\"],[0.3333333333333333,\"#9c179e\"],[0.4444444444444444,\"#bd3786\"],[0.5555555555555556,\"#d8576b\"],[0.6666666666666666,\"#ed7953\"],[0.7777777777777778,\"#fb9f3a\"],[0.8888888888888888,\"#fdca26\"],[1.0,\"#f0f921\"]],\"type\":\"histogram2d\"}],\"histogram\":[{\"marker\":{\"pattern\":{\"fillmode\":\"overlay\",\"size\":10,\"solidity\":0.2}},\"type\":\"histogram\"}],\"mesh3d\":[{\"colorbar\":{\"outlinewidth\":0,\"ticks\":\"\"},\"type\":\"mesh3d\"}],\"parcoords\":[{\"line\":{\"colorbar\":{\"outlinewidth\":0,\"ticks\":\"\"}},\"type\":\"parcoords\"}],\"pie\":[{\"automargin\":true,\"type\":\"pie\"}],\"scatter3d\":[{\"line\":{\"colorbar\":{\"outlinewidth\":0,\"ticks\":\"\"}},\"marker\":{\"colorbar\":{\"outlinewidth\":0,\"ticks\":\"\"}},\"type\":\"scatter3d\"}],\"scattercarpet\":[{\"marker\":{\"colorbar\":{\"outlinewidth\":0,\"ticks\":\"\"}},\"type\":\"scattercarpet\"}],\"scattergeo\":[{\"marker\":{\"colorbar\":{\"outlinewidth\":0,\"ticks\":\"\"}},\"type\":\"scattergeo\"}],\"scattergl\":[{\"marker\":{\"colorbar\":{\"outlinewidth\":0,\"ticks\":\"\"}},\"type\":\"scattergl\"}],\"scattermapbox\":[{\"marker\":{\"colorbar\":{\"outlinewidth\":0,\"ticks\":\"\"}},\"type\":\"scattermapbox\"}],\"scatterpolargl\":[{\"marker\":{\"colorbar\":{\"outlinewidth\":0,\"ticks\":\"\"}},\"type\":\"scatterpolargl\"}],\"scatterpolar\":[{\"marker\":{\"colorbar\":{\"outlinewidth\":0,\"ticks\":\"\"}},\"type\":\"scatterpolar\"}],\"scatter\":[{\"fillpattern\":{\"fillmode\":\"overlay\",\"size\":10,\"solidity\":0.2},\"type\":\"scatter\"}],\"scatterternary\":[{\"marker\":{\"colorbar\":{\"outlinewidth\":0,\"ticks\":\"\"}},\"type\":\"scatterternary\"}],\"surface\":[{\"colorbar\":{\"outlinewidth\":0,\"ticks\":\"\"},\"colorscale\":[[0.0,\"#0d0887\"],[0.1111111111111111,\"#46039f\"],[0.2222222222222222,\"#7201a8\"],[0.3333333333333333,\"#9c179e\"],[0.4444444444444444,\"#bd3786\"],[0.5555555555555556,\"#d8576b\"],[0.6666666666666666,\"#ed7953\"],[0.7777777777777778,\"#fb9f3a\"],[0.8888888888888888,\"#fdca26\"],[1.0,\"#f0f921\"]],\"type\":\"surface\"}],\"table\":[{\"cells\":{\"fill\":{\"color\":\"#EBF0F8\"},\"line\":{\"color\":\"white\"}},\"header\":{\"fill\":{\"color\":\"#C8D4E3\"},\"line\":{\"color\":\"white\"}},\"type\":\"table\"}]},\"layout\":{\"annotationdefaults\":{\"arrowcolor\":\"#2a3f5f\",\"arrowhead\":0,\"arrowwidth\":1},\"autotypenumbers\":\"strict\",\"coloraxis\":{\"colorbar\":{\"outlinewidth\":0,\"ticks\":\"\"}},\"colorscale\":{\"diverging\":[[0,\"#8e0152\"],[0.1,\"#c51b7d\"],[0.2,\"#de77ae\"],[0.3,\"#f1b6da\"],[0.4,\"#fde0ef\"],[0.5,\"#f7f7f7\"],[0.6,\"#e6f5d0\"],[0.7,\"#b8e186\"],[0.8,\"#7fbc41\"],[0.9,\"#4d9221\"],[1,\"#276419\"]],\"sequential\":[[0.0,\"#0d0887\"],[0.1111111111111111,\"#46039f\"],[0.2222222222222222,\"#7201a8\"],[0.3333333333333333,\"#9c179e\"],[0.4444444444444444,\"#bd3786\"],[0.5555555555555556,\"#d8576b\"],[0.6666666666666666,\"#ed7953\"],[0.7777777777777778,\"#fb9f3a\"],[0.8888888888888888,\"#fdca26\"],[1.0,\"#f0f921\"]],\"sequentialminus\":[[0.0,\"#0d0887\"],[0.1111111111111111,\"#46039f\"],[0.2222222222222222,\"#7201a8\"],[0.3333333333333333,\"#9c179e\"],[0.4444444444444444,\"#bd3786\"],[0.5555555555555556,\"#d8576b\"],[0.6666666666666666,\"#ed7953\"],[0.7777777777777778,\"#fb9f3a\"],[0.8888888888888888,\"#fdca26\"],[1.0,\"#f0f921\"]]},\"colorway\":[\"#636efa\",\"#EF553B\",\"#00cc96\",\"#ab63fa\",\"#FFA15A\",\"#19d3f3\",\"#FF6692\",\"#B6E880\",\"#FF97FF\",\"#FECB52\"],\"font\":{\"color\":\"#2a3f5f\"},\"geo\":{\"bgcolor\":\"white\",\"lakecolor\":\"white\",\"landcolor\":\"#E5ECF6\",\"showlakes\":true,\"showland\":true,\"subunitcolor\":\"white\"},\"hoverlabel\":{\"align\":\"left\"},\"hovermode\":\"closest\",\"mapbox\":{\"style\":\"light\"},\"paper_bgcolor\":\"white\",\"plot_bgcolor\":\"#E5ECF6\",\"polar\":{\"angularaxis\":{\"gridcolor\":\"white\",\"linecolor\":\"white\",\"ticks\":\"\"},\"bgcolor\":\"#E5ECF6\",\"radialaxis\":{\"gridcolor\":\"white\",\"linecolor\":\"white\",\"ticks\":\"\"}},\"scene\":{\"xaxis\":{\"backgroundcolor\":\"#E5ECF6\",\"gridcolor\":\"white\",\"gridwidth\":2,\"linecolor\":\"white\",\"showbackground\":true,\"ticks\":\"\",\"zerolinecolor\":\"white\"},\"yaxis\":{\"backgroundcolor\":\"#E5ECF6\",\"gridcolor\":\"white\",\"gridwidth\":2,\"linecolor\":\"white\",\"showbackground\":true,\"ticks\":\"\",\"zerolinecolor\":\"white\"},\"zaxis\":{\"backgroundcolor\":\"#E5ECF6\",\"gridcolor\":\"white\",\"gridwidth\":2,\"linecolor\":\"white\",\"showbackground\":true,\"ticks\":\"\",\"zerolinecolor\":\"white\"}},\"shapedefaults\":{\"line\":{\"color\":\"#2a3f5f\"}},\"ternary\":{\"aaxis\":{\"gridcolor\":\"white\",\"linecolor\":\"white\",\"ticks\":\"\"},\"baxis\":{\"gridcolor\":\"white\",\"linecolor\":\"white\",\"ticks\":\"\"},\"bgcolor\":\"#E5ECF6\",\"caxis\":{\"gridcolor\":\"white\",\"linecolor\":\"white\",\"ticks\":\"\"}},\"title\":{\"x\":0.05},\"xaxis\":{\"automargin\":true,\"gridcolor\":\"white\",\"linecolor\":\"white\",\"ticks\":\"\",\"title\":{\"standoff\":15},\"zerolinecolor\":\"white\",\"zerolinewidth\":2},\"yaxis\":{\"automargin\":true,\"gridcolor\":\"white\",\"linecolor\":\"white\",\"ticks\":\"\",\"title\":{\"standoff\":15},\"zerolinecolor\":\"white\",\"zerolinewidth\":2}}},\"title\":{\"text\":\"2D Visualization of Word Vectors\"},\"xaxis\":{\"range\":[-50,50],\"title\":{\"text\":\"PC1\"}},\"yaxis\":{\"range\":[-50,50],\"title\":{\"text\":\"PC2\"}}},                        {\"responsive\": true}                    ).then(function(){\n                            \nvar gd = document.getElementById('6d5bc172-b4ce-48ce-b1af-bbdc5589f653');\nvar x = new MutationObserver(function (mutations, observer) {{\n        var display = window.getComputedStyle(gd).display;\n        if (!display || display === 'none') {{\n            console.log([gd, 'removed!']);\n            Plotly.purge(gd);\n            observer.disconnect();\n        }}\n}});\n\n// Listen for the removal of the full notebook cells\nvar notebookContainer = gd.closest('#notebook-container');\nif (notebookContainer) {{\n    x.observe(notebookContainer, {childList: true});\n}}\n\n// Listen for the clearing of the current output cell\nvar outputEl = gd.closest('.output');\nif (outputEl) {{\n    x.observe(outputEl, {childList: true});\n}}\n\n                        })                };                });            </script>        </div>"
     },
     "metadata": {},
     "output_type": "display_data"
    }
   ],
   "source": [
    "test_words_pelosi = [\"attack\", \"democrats\", \"invasion\"]\n",
    "selected_months_pelosi = [10, 11, 12]\n",
    "plot_word_vectors_tppmi(tppmi_model.get_2d_representation(test_words_pelosi + [target_word_pelosi], use_tsne=False, selected_months = selected_months_pelosi))"
   ]
  },
  {
   "cell_type": "code",
   "execution_count": 88,
   "metadata": {},
   "outputs": [
    {
     "name": "stdout",
     "output_type": "stream",
     "text": [
      "dict_keys([])\n"
     ]
    },
    {
     "ename": "KeyError",
     "evalue": "'10'",
     "output_type": "error",
     "traceback": [
      "\u001B[0;31m---------------------------------------------------------------------------\u001B[0m",
      "\u001B[0;31mKeyError\u001B[0m                                  Traceback (most recent call last)",
      "Cell \u001B[0;32mIn[88], line 1\u001B[0m\n\u001B[0;32m----> 1\u001B[0m \u001B[43mplot_cosine_similarity_tppmi\u001B[49m\u001B[43m(\u001B[49m\u001B[43mtarget_word_pelosi\u001B[49m\u001B[43m,\u001B[49m\u001B[43m \u001B[49m\u001B[43mtest_words_pelosi\u001B[49m\u001B[43m,\u001B[49m\u001B[43m \u001B[49m\u001B[43mtppmi_model\u001B[49m\u001B[43m,\u001B[49m\u001B[43m \u001B[49m\u001B[43mselected_months\u001B[49m\u001B[43m \u001B[49m\u001B[38;5;241;43m=\u001B[39;49m\u001B[43m \u001B[49m\u001B[43mselected_months_pelosi\u001B[49m\u001B[43m)\u001B[49m\n",
      "File \u001B[0;32m~/DataspellProjects/temporal-word-embeddings/embedding_visualization.py:38\u001B[0m, in \u001B[0;36mplot_cosine_similarity_tppmi\u001B[0;34m(target_word, test_words, tppmi_model, selected_months, event, event_name)\u001B[0m\n\u001B[1;32m     34\u001B[0m     \u001B[38;5;28;01mreturn\u001B[39;00m\n\u001B[1;32m     36\u001B[0m \u001B[38;5;28mprint\u001B[39m(cosine_similarities\u001B[38;5;241m.\u001B[39mkeys())\n\u001B[0;32m---> 38\u001B[0m similarity_values \u001B[38;5;241m=\u001B[39m {word: [cosine_similarities[\u001B[38;5;28mstr\u001B[39m(t)][word] \u001B[38;5;28;01mfor\u001B[39;00m t \u001B[38;5;129;01min\u001B[39;00m selected_months] \u001B[38;5;28;01mfor\u001B[39;00m word \u001B[38;5;129;01min\u001B[39;00m words}\n\u001B[1;32m     40\u001B[0m \u001B[38;5;28mprint\u001B[39m(\u001B[38;5;124m\"\u001B[39m\u001B[38;5;124mSimilarity Value\u001B[39m\u001B[38;5;124m\"\u001B[39m)\n\u001B[1;32m     41\u001B[0m \u001B[38;5;28mprint\u001B[39m(similarity_values)\n",
      "File \u001B[0;32m~/DataspellProjects/temporal-word-embeddings/embedding_visualization.py:38\u001B[0m, in \u001B[0;36m<dictcomp>\u001B[0;34m(.0)\u001B[0m\n\u001B[1;32m     34\u001B[0m     \u001B[38;5;28;01mreturn\u001B[39;00m\n\u001B[1;32m     36\u001B[0m \u001B[38;5;28mprint\u001B[39m(cosine_similarities\u001B[38;5;241m.\u001B[39mkeys())\n\u001B[0;32m---> 38\u001B[0m similarity_values \u001B[38;5;241m=\u001B[39m {word: [cosine_similarities[\u001B[38;5;28mstr\u001B[39m(t)][word] \u001B[38;5;28;01mfor\u001B[39;00m t \u001B[38;5;129;01min\u001B[39;00m selected_months] \u001B[38;5;28;01mfor\u001B[39;00m word \u001B[38;5;129;01min\u001B[39;00m words}\n\u001B[1;32m     40\u001B[0m \u001B[38;5;28mprint\u001B[39m(\u001B[38;5;124m\"\u001B[39m\u001B[38;5;124mSimilarity Value\u001B[39m\u001B[38;5;124m\"\u001B[39m)\n\u001B[1;32m     41\u001B[0m \u001B[38;5;28mprint\u001B[39m(similarity_values)\n",
      "File \u001B[0;32m~/DataspellProjects/temporal-word-embeddings/embedding_visualization.py:38\u001B[0m, in \u001B[0;36m<listcomp>\u001B[0;34m(.0)\u001B[0m\n\u001B[1;32m     34\u001B[0m     \u001B[38;5;28;01mreturn\u001B[39;00m\n\u001B[1;32m     36\u001B[0m \u001B[38;5;28mprint\u001B[39m(cosine_similarities\u001B[38;5;241m.\u001B[39mkeys())\n\u001B[0;32m---> 38\u001B[0m similarity_values \u001B[38;5;241m=\u001B[39m {word: [\u001B[43mcosine_similarities\u001B[49m\u001B[43m[\u001B[49m\u001B[38;5;28;43mstr\u001B[39;49m\u001B[43m(\u001B[49m\u001B[43mt\u001B[49m\u001B[43m)\u001B[49m\u001B[43m]\u001B[49m[word] \u001B[38;5;28;01mfor\u001B[39;00m t \u001B[38;5;129;01min\u001B[39;00m selected_months] \u001B[38;5;28;01mfor\u001B[39;00m word \u001B[38;5;129;01min\u001B[39;00m words}\n\u001B[1;32m     40\u001B[0m \u001B[38;5;28mprint\u001B[39m(\u001B[38;5;124m\"\u001B[39m\u001B[38;5;124mSimilarity Value\u001B[39m\u001B[38;5;124m\"\u001B[39m)\n\u001B[1;32m     41\u001B[0m \u001B[38;5;28mprint\u001B[39m(similarity_values)\n",
      "\u001B[0;31mKeyError\u001B[0m: '10'"
     ]
    }
   ],
   "source": [
    "plot_cosine_similarity_tppmi(target_word_pelosi, test_words_pelosi, tppmi_model, selected_months = selected_months_pelosi)"
   ]
  },
  {
   "cell_type": "markdown",
   "metadata": {},
   "source": [
    "## Colorado Springs shooting at LGBTQ nightclub"
   ]
  },
  {
   "cell_type": "markdown",
   "metadata": {},
   "source": [
    "### Overview"
   ]
  },
  {
   "cell_type": "markdown",
   "metadata": {},
   "source": [
    "On November 19–20, 2022, an anti-LGBT-motivated mass shooting occurred at Club Q, a gay bar in Colorado Springs, Colorado, United States. Five people were murdered, and 25 others were injured, 19 of them by gunfire. The shooter, 22-year-old Anderson Lee Aldrich, was also injured while being restrained, and was taken to a local hospital\n",
    "\n",
    "source: [wikipedia article](https://en.wikipedia.org/wiki/Colorado_Springs_nightclub_shooting)"
   ]
  },
  {
   "cell_type": "code",
   "execution_count": null,
   "metadata": {},
   "outputs": [],
   "source": [
    "target_word_colorado_springs = \"nightclub\""
   ]
  },
  {
   "cell_type": "code",
   "execution_count": null,
   "metadata": {},
   "outputs": [],
   "source": [
    "selected_months_colorado_springs = [\"oct\", \"nov\", \"dec\", \"jan\"]\n",
    "selected_models_monthly_colorado_springs = {f\"model_{month}\": models_monthly[f\"model_{month}\"] for month in selected_months_colorado_springs}"
   ]
  },
  {
   "cell_type": "code",
   "execution_count": null,
   "metadata": {},
   "outputs": [],
   "source": [
    "title_colorado_springs = f\"Evolution of the word {target_word_colorado_springs} over time\"\n",
    "subtitle_colorado_springs = f\"Period: {' - '.join([month.capitalize() for month in selected_months_colorado_springs])}\""
   ]
  },
  {
   "cell_type": "code",
   "execution_count": null,
   "metadata": {},
   "outputs": [],
   "source": [
    "print_most_similar_cade(selected_models_monthly_colorado_springs, target_word_colorado_springs)"
   ]
  },
  {
   "cell_type": "markdown",
   "metadata": {},
   "source": [
    "### Temporarily changing embeddings"
   ]
  },
  {
   "cell_type": "code",
   "execution_count": null,
   "metadata": {},
   "outputs": [],
   "source": [
    "plot_temporal_changing_embedding(target_word_colorado_springs, selected_models_monthly_colorado_springs,\n",
    "                                 top_n=4, title=title_colorado_springs, subtitle=subtitle_colorado_springs, use_tsne=True)"
   ]
  },
  {
   "cell_type": "markdown",
   "metadata": {},
   "source": [
    "### Cosine similarities"
   ]
  },
  {
   "cell_type": "code",
   "execution_count": null,
   "metadata": {},
   "outputs": [],
   "source": [
    "test_words_colorado_springs = [\"music\", \"gunman\", \"massacre\"]"
   ]
  },
  {
   "cell_type": "code",
   "execution_count": null,
   "metadata": {},
   "outputs": [],
   "source": [
    "plot_cosine_similarity(target_word_colorado_springs, test_words_colorado_springs, selected_models_monthly_colorado_springs, event=\"dec\", event_name=\"Colorado Springs nightclub shooting\")"
   ]
  },
  {
   "cell_type": "markdown",
   "metadata": {},
   "source": [
    "### TPPMI"
   ]
  },
  {
   "cell_type": "code",
   "execution_count": null,
   "metadata": {},
   "outputs": [],
   "source": [
    "tppmi_colorado_springs = tppmi_model.get_tppmi(test_words_colorado_springs + [target_word_colorado_springs])"
   ]
  },
  {
   "cell_type": "code",
   "execution_count": null,
   "metadata": {},
   "outputs": [],
   "source": [
    "target_word_colorado_springs = \"colorado\"\n",
    "selected_months_colorado_springs = [9, 10, 11, 12]"
   ]
  },
  {
   "cell_type": "code",
   "execution_count": null,
   "metadata": {},
   "outputs": [],
   "source": [
    "test_words_colorado_springs = [\"massacre\", \"kansas\"]\n",
    "plot_word_vectors_tppmi(tppmi_model.get_2d_representation(test_words_colorado_springs + [target_word_colorado_springs], use_tsne=False, selected_months = selected_months_colorado_springs))"
   ]
  },
  {
   "cell_type": "markdown",
   "source": [
    "## Testing Ground"
   ],
   "metadata": {
    "collapsed": false
   }
  },
  {
   "cell_type": "code",
   "execution_count": null,
   "outputs": [],
   "source": [
    "target_word = \"shooting\""
   ],
   "metadata": {
    "collapsed": false
   }
  },
  {
   "cell_type": "code",
   "execution_count": null,
   "outputs": [],
   "source": [
    "'''selected_models = {f\"model_{month}\": m[f\"model_{month}\"] for month in month_codes.keys() if f\"model_{month}\" in models_quarterly.keys()}'''"
   ],
   "metadata": {
    "collapsed": false
   }
  },
  {
   "cell_type": "code",
   "execution_count": null,
   "outputs": [],
   "source": [
    "title= f\"Evolution of the word {target_word} over time\""
   ],
   "metadata": {
    "collapsed": false
   }
  },
  {
   "cell_type": "code",
   "execution_count": null,
   "outputs": [],
   "source": [
    "#print_most_similar_cade(selected_models, target_word, top_n=5)"
   ],
   "metadata": {
    "collapsed": false
   }
  },
  {
   "cell_type": "markdown",
   "source": [
    "### Temporarily changing embeddings"
   ],
   "metadata": {
    "collapsed": false
   }
  },
  {
   "cell_type": "code",
   "execution_count": null,
   "outputs": [],
   "source": [
    "'''plot_temporal_changing_embedding(target_word, selected_models,\n",
    "                                 top_n=4, title=title, use_tsne=True)'''"
   ],
   "metadata": {
    "collapsed": false
   }
  },
  {
   "cell_type": "markdown",
   "source": [
    "### Cosine similarities"
   ],
   "metadata": {
    "collapsed": false
   }
  },
  {
   "cell_type": "code",
   "execution_count": null,
   "outputs": [],
   "source": [
    "test_words = [\"colorado\", \"uvalde\"]"
   ],
   "metadata": {
    "collapsed": false
   }
  },
  {
   "cell_type": "code",
   "execution_count": null,
   "outputs": [],
   "source": [
    "plot_cosine_similarity(target_word, test_words, selected_models, event=\"dec\", event_name=\"Colorado Springs nightclub shooting\")"
   ],
   "metadata": {
    "collapsed": false
   }
  },
  {
   "cell_type": "markdown",
   "source": [
    "### TPPMI"
   ],
   "metadata": {
    "collapsed": false
   }
  },
  {
   "cell_type": "code",
   "execution_count": null,
   "outputs": [],
   "source": [
    "tppmi = tppmi_model.get_tppmi(test_words + [target_word])"
   ],
   "metadata": {
    "collapsed": false
   }
  },
  {
   "cell_type": "code",
   "execution_count": null,
   "outputs": [],
   "source": [
    "test_words_colorado_springs = [\"massacre\", \"kansas\", \"uvalde\"]\n",
    "plot_word_vectors_tppmi(tppmi_model_quarterly.get_2d_representation(test_words + [target_word], use_tsne=False))"
   ],
   "metadata": {
    "collapsed": false
   }
  },
  {
   "cell_type": "code",
   "execution_count": null,
   "outputs": [],
   "source": [],
   "metadata": {
    "collapsed": false
   }
  }
 ],
 "metadata": {
  "kernelspec": {
   "display_name": "Python 3 (ipykernel)",
   "language": "python",
   "name": "python3"
  },
  "language_info": {
   "codemirror_mode": {
    "name": "ipython",
    "version": 3
   },
   "file_extension": ".py",
   "mimetype": "text/x-python",
   "name": "python",
   "nbconvert_exporter": "python",
   "pygments_lexer": "ipython3",
   "version": "3.11.4"
  }
 },
 "nbformat": 4,
 "nbformat_minor": 1
}
