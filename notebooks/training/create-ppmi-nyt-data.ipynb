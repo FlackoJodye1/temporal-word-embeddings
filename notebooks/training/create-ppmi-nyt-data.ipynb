{
 "cells": [
  {
   "cell_type": "markdown",
   "source": [
    "# Creation of Sparse PPMI Embeddings for the NYT Dataset"
   ],
   "metadata": {
    "collapsed": false
   }
  },
  {
   "cell_type": "code",
   "execution_count": 17,
   "outputs": [
    {
     "name": "stdout",
     "output_type": "stream",
     "text": [
      "The autoreload extension is already loaded. To reload it, use:\n",
      "  %reload_ext autoreload\n"
     ]
    }
   ],
   "source": [
    "%load_ext autoreload"
   ],
   "metadata": {
    "collapsed": false
   }
  },
  {
   "cell_type": "code",
   "execution_count": 18,
   "outputs": [],
   "source": [
    "import glob\n",
    "import pickle\n",
    "import pandas as pd\n",
    "from pathlib import Path\n",
    "from pprint import pprint\n",
    "from tqdm.notebook import tqdm\n",
    "\n",
    "import sys\n",
    "sys.path.append('../../')\n",
    "\n",
    "from src.packages.TPPMI.ppmi_model import PPMIModel\n",
    "from src.packages.TPPMI.tppmi_model import TPPMIModel\n",
    "import src.packages.TPPMI.util as tppmi_util\n",
    "\n",
    "import nltk\n",
    "# nltk.download('punkt');"
   ],
   "metadata": {
    "collapsed": false
   }
  },
  {
   "cell_type": "markdown",
   "source": [
    "## Setup"
   ],
   "metadata": {
    "collapsed": false
   }
  },
  {
   "cell_type": "code",
   "execution_count": 19,
   "outputs": [],
   "source": [
    "DATA_DIR = Path(\"../../data\")\n",
    "input_dir =  DATA_DIR / \"processed\" / \"nyt-data\"\n",
    "min_freq = 5 # infrequent words have been removed in preprocessing\n",
    "window_size = 5 # default word2vec window-size\n",
    "number_of_context_words = 500"
   ],
   "metadata": {
    "collapsed": false
   }
  },
  {
   "cell_type": "markdown",
   "source": [
    "## Sample Context Words"
   ],
   "metadata": {
    "collapsed": false
   }
  },
  {
   "cell_type": "code",
   "execution_count": 20,
   "outputs": [],
   "source": [
    "df = pd.read_csv(input_dir / \"corpus_all.csv\")\n",
    "df = df[[\"text\"]]"
   ],
   "metadata": {
    "collapsed": false
   }
  },
  {
   "cell_type": "code",
   "execution_count": 21,
   "outputs": [],
   "source": [
    "df = df.dropna()"
   ],
   "metadata": {
    "collapsed": false
   }
  },
  {
   "cell_type": "code",
   "execution_count": 22,
   "outputs": [],
   "source": [
    "corpus = ' '.join(df[\"text\"])"
   ],
   "metadata": {
    "collapsed": false
   }
  },
  {
   "cell_type": "code",
   "execution_count": 23,
   "outputs": [],
   "source": [
    "top_n = max(2 * number_of_context_words, 2000)\n",
    "context_words = tppmi_util.sample_from_most_common_words(corpus, top_n=top_n,\n",
    "                                                         sample_size=number_of_context_words, remove_stopwords=False)"
   ],
   "metadata": {
    "collapsed": false
   }
  },
  {
   "cell_type": "code",
   "execution_count": 24,
   "outputs": [
    {
     "name": "stdout",
     "output_type": "stream",
     "text": [
      "['writer', 'access', 'perhaps', 'resources', 'increased', 'drawing', 'clients', 'huge', 'missed',\n",
      " 'high', 'revenue', 'need', '1995', 'job', 'songs', 'refused', 'provides', 'side', 'see', 'views',\n",
      " 'equipment', 'calif', 'strong', 'wait', 'took', 'attempt', 'standard', 'said', 'william',\n",
      " 'education', 'sometimes', 'meanwhile', 'lets', 'girl', 'became', 'sweet', 'ends', 'review',\n",
      " 'international', 'rock', 'agent', 'owner', 'japanese', 'secret', 'lead', 'loss', 'proved', 'path',\n",
      " 'products', 'senior', 'read', 'research', 'zone', 'allowed', 'reality', 'christian', 'letters',\n",
      " 'march', 'funds', 'medicine', 'continues', 'june', 'drugs', 'land', 'live', 'joe', 'women', 'lack',\n",
      " 'candidates', 'add', 'act', 'levels', 'seats', 'better', 'produced', 'jazz', 'members', 'novel',\n",
      " 'born', 'hardly', 'chance', 'majority', '1997', 'require', 'process', 'effort', 'doesnt', 'edge',\n",
      " 'area', 'bill', 'drama', 'step', 'steps', '1991', 'speech', 'grow', 'dead', 'simply', 'adding',\n",
      " 'judge', 'wonder', '80', 'biggest', 'host', 'characters', 'kind', 'north', 'attacks', 'aid',\n",
      " 'airport', 'role', 'year', 'office', 'faith', 'intelligence', 'dec', 'must', '20', 'wild', 'form',\n",
      " 'china', 'tradition', 'including', 'turned', 'follow', 'town', 'continue', 'extra', 'garden',\n",
      " 'network', 'foundation', 'williams', 'training', 'division', 'israeli', 'left', 'brantley',\n",
      " 'foreign', 'second', 'right', 'note', 'save', 'runs', 'leaves', 'agreement', 'soon', 'concern',\n",
      " 'thats', 'word', 'atlanta', 'coach', 'happened', 'close', 'efforts', 'legislation', 'pop',\n",
      " 'rising', 'appear', 'seriously', 'capital', 'status', 'grew', 'todays', 'bring', 'august',\n",
      " 'rarely', 'surprise', 'details', 'approach', 'catch', 'pass', 'mexico', 'tomorrow', 'goal',\n",
      " 'ordered', '1992', 'customers', 'men', 'opportunity', 'find', 'sign', 'search', 'ball', 'sites',\n",
      " 'teacher', 'tony', 'committed', 'spoke', 'paintings', 'michael', 'added', 'sitting', 'account',\n",
      " 'seven', 'century', 'chicken', 'dollars', 'first', 'saying', 'news', 'looks', 'weeks', 'disease',\n",
      " 'roughly', 'probably', 'size', 'reputation', 'prepared', 'africa', 'site', 'centers', 'necessary',\n",
      " '12', 'sat', '8', 'inning', 'chris', 'train', 'commission', 'told', 'rare', 'football',\n",
      " 'referring', 'accused', 'threat', 'night', 'deputy', 'february', 'houses', 'spring', 'shop',\n",
      " '2003', 'respect', 'fear', 'widely', 'operation', 'percent', 'theyre', 'price', 'relatively',\n",
      " 'waiting', 'terrorist', 'happy', 'youve', '13', 'says', 'sea', 'deal', 'asking', 'hear', 'billion',\n",
      " 'clean', 'players', 'suggests', 'r', 'wine', 'would', 'eat', 'shots', 'numbers', 'knows',\n",
      " 'congress', 'river', 'friend', 'facing', 'south', 'begins', 'homes', 'bigger', 'give', 'radio',\n",
      " 'talent', 'made', 'davis', 'arent', 'smith', 'insurance', 'legal', 'crime', 'strategy', 'killed',\n",
      " 'moving', 'response', 'management', 'conference', 'tournament', 'approved', 'patients', 'argued',\n",
      " 'built', 'injury', 'return', 'chairman', 'hold', 'advantage', 'single', 'effect', 'however',\n",
      " 'events', 'fans', 'places', 'line', 'leaving', 'soviet', 'felt', 'championship', 'van', 'brown',\n",
      " 'jim', 'rangers', 'beat', 'material', 'spread', 'led', 'nobody', 'building', 'song', 'sit',\n",
      " 'aware', 'sales', 'talks', '2000', 'safe', 'couldnt', 'loans', 'explain', 'store', 'placed',\n",
      " 'responsibility', 'americans', '60', 'stadium', 'concerns', 'production', 'mostly', 'kill',\n",
      " 'construction', 'apart', 'pulled', 'stood', 'miss', 'offense', 'risk', 'tv', 'nice', 'domestic',\n",
      " 'argument', 'sure', 'telephone', 'record', 'around', 'finally', 'behind', 'real', 'pictures',\n",
      " 'state', 'good', 'holding', 'calling', 'institute', '90', '212', 'walked', 'ran', 'weapons',\n",
      " 'involved', 'reform', 'retired', 'teachers', 'hits', 'natural', 'director', 'magazine', 'along',\n",
      " 'firm', 'offered', 'attention', 'louis', 'staff', 'white', 'hours', 'includes', 'call', 'unlike',\n",
      " 'color', 'many', 'met', 'quickly', 'situation', 'needed', 'seat', 'announced', 'medical',\n",
      " 'elsewhere', 'cases', 'responsible', 'actors', 'guard', 'run', 'actually', 'bad', 'dream', 'got',\n",
      " 'banks', 'drop', 'answer', '27', 'victory', 'group', 'organization', 'increasingly', 'otherwise',\n",
      " 'newspaper', 'finish', 'nations', 'finance', '2007', 'everyone', 'water', 'baby', 'safety',\n",
      " 'black', 'family', 'figures', 'corporate', 'bus', 'texas', 'turns', 'editor', 'issues', 'released',\n",
      " 'afternoon', 'corporation', 'hot', 'running', 'power', 'comment', 'talk', 'space', 'imagine',\n",
      " 'modern', 'ground', 'choose', 'managed', 'include', 'box', 'thinking', 'cuts', 'paris', 'ideas',\n",
      " 'another', 'projects', 'families', 'winner', 'environmental', 'center', 'debate', 'political',\n",
      " 'animals', 'grown', 'lots', 'walls', 'anyone', 'menu', 'board', 'drive', 'entertainment',\n",
      " 'project', 'subject', 'festival', 'addition', 'example', 'stephen', 'chief', 'security', 'city',\n",
      " 'photographs', 'easy', 'experts', 'boy', 'starting', 'clinton', 'quick', 'sister', '45', '1990',\n",
      " 'hearing', 'lower', 'commercial', 'daily', 'urban', 'southern', '31', 'island', 'cup', 'super',\n",
      " 'use', 'team', 'markets', 'guy']\n"
     ]
    }
   ],
   "source": [
    "pprint(context_words, compact=True, width=100)"
   ],
   "metadata": {
    "collapsed": false
   }
  },
  {
   "cell_type": "markdown",
   "source": [
    "## Build Model"
   ],
   "metadata": {
    "collapsed": false
   }
  },
  {
   "cell_type": "code",
   "execution_count": 25,
   "outputs": [],
   "source": [
    "csv_files = glob.glob(str(input_dir /  \"*data.csv\"))\n",
    "\n",
    "# use dict to be able to identify the dfs later on\n",
    "splits = {}"
   ],
   "metadata": {
    "collapsed": false
   }
  },
  {
   "cell_type": "code",
   "execution_count": 26,
   "outputs": [],
   "source": [
    "for filename in csv_files:\n",
    "    df = pd.read_csv(filename)\n",
    "    splits[filename.split(\"_data\")[0][-4:]] = df"
   ],
   "metadata": {
    "collapsed": false
   }
  },
  {
   "cell_type": "code",
   "execution_count": 27,
   "outputs": [
    {
     "data": {
      "text/plain": "  0%|          | 0/27 [00:00<?, ?it/s]",
      "application/vnd.jupyter.widget-view+json": {
       "version_major": 2,
       "version_minor": 0,
       "model_id": "69b5dd581a464549a57ea9766fbd4841"
      },
      "application/json": {
       "n": 0,
       "total": 27,
       "elapsed": 0.002752065658569336,
       "ncols": null,
       "nrows": null,
       "prefix": "",
       "ascii": false,
       "unit": "it",
       "unit_scale": false,
       "rate": null,
       "bar_format": null,
       "postfix": null,
       "unit_divisor": 1000,
       "initial": 0,
       "colour": null
      }
     },
     "metadata": {},
     "output_type": "display_data"
    }
   ],
   "source": [
    "ppmi_models = {key: PPMIModel.construct_from_texts(value, context_words=context_words, min_freq=min_freq) for key, value in tqdm(splits.items())}"
   ],
   "metadata": {
    "collapsed": false
   }
  },
  {
   "cell_type": "markdown",
   "source": [
    "## Control"
   ],
   "metadata": {
    "collapsed": false
   }
  },
  {
   "cell_type": "code",
   "execution_count": 28,
   "outputs": [
    {
     "data": {
      "text/plain": "dict_keys(['2000', '2001', '1997', '1996', '2016', '1990', '1991', '2010', '2011', '2007', '2006', '1994', '1995', '2014', '2015', '2009', '2008', '2003', '2002', '2004', '2005', '1999', '1998', '1993', '1992', '2013', '2012'])"
     },
     "execution_count": 28,
     "metadata": {},
     "output_type": "execute_result"
    }
   ],
   "source": [
    "ppmi_models.keys()"
   ],
   "metadata": {
    "collapsed": false
   }
  },
  {
   "cell_type": "markdown",
   "source": [
    "## Vocabulary"
   ],
   "metadata": {
    "collapsed": false
   }
  },
  {
   "cell_type": "code",
   "execution_count": 29,
   "outputs": [
    {
     "name": "stdout",
     "output_type": "stream",
     "text": [
      "Vocabulary size of timestep 2000: 20680\n",
      "Vocabulary size of timestep 2001: 20547\n",
      "Vocabulary size of timestep 1997: 17841\n",
      "Vocabulary size of timestep 1996: 19706\n",
      "Vocabulary size of timestep 2016: 17469\n",
      "Vocabulary size of timestep 1990: 18567\n",
      "Vocabulary size of timestep 1991: 19057\n",
      "Vocabulary size of timestep 2010: 20049\n",
      "Vocabulary size of timestep 2011: 20557\n",
      "Vocabulary size of timestep 2007: 21273\n",
      "Vocabulary size of timestep 2006: 11661\n",
      "Vocabulary size of timestep 1994: 19225\n",
      "Vocabulary size of timestep 1995: 19358\n",
      "Vocabulary size of timestep 2014: 20996\n",
      "Vocabulary size of timestep 2015: 20951\n",
      "Vocabulary size of timestep 2009: 20266\n",
      "Vocabulary size of timestep 2008: 21099\n",
      "Vocabulary size of timestep 2003: 20680\n",
      "Vocabulary size of timestep 2002: 20684\n",
      "Vocabulary size of timestep 2004: 21296\n",
      "Vocabulary size of timestep 2005: 21307\n",
      "Vocabulary size of timestep 1999: 20306\n",
      "Vocabulary size of timestep 1998: 20269\n",
      "Vocabulary size of timestep 1993: 19114\n",
      "Vocabulary size of timestep 1992: 19152\n",
      "Vocabulary size of timestep 2013: 20923\n",
      "Vocabulary size of timestep 2012: 20982\n"
     ]
    }
   ],
   "source": [
    "for key, ppmi_model in ppmi_models.items():\n",
    "    print(f\"Vocabulary size of timestep {key}: {ppmi_model.get_vocabulary_size()}\")"
   ],
   "metadata": {
    "collapsed": false
   }
  },
  {
   "cell_type": "markdown",
   "source": [
    "## Calulate & Save"
   ],
   "metadata": {
    "collapsed": false
   }
  },
  {
   "cell_type": "code",
   "execution_count": 30,
   "outputs": [],
   "source": [
    "tppmi_model = TPPMIModel(ppmi_models, dates=\"years\")"
   ],
   "metadata": {
    "collapsed": false
   }
  },
  {
   "cell_type": "code",
   "execution_count": 31,
   "outputs": [
    {
     "data": {
      "text/plain": "  0%|          | 0/27 [00:00<?, ?it/s]",
      "application/vnd.jupyter.widget-view+json": {
       "version_major": 2,
       "version_minor": 0,
       "model_id": "4d3fc540ccb74b41b25ce6cc2b48f5a6"
      },
      "application/json": {
       "n": 0,
       "total": 27,
       "elapsed": 0.0021119117736816406,
       "ncols": null,
       "nrows": null,
       "prefix": "",
       "ascii": false,
       "unit": "it",
       "unit_scale": false,
       "rate": null,
       "bar_format": null,
       "postfix": null,
       "unit_divisor": 1000,
       "initial": 0,
       "colour": null
      }
     },
     "metadata": {},
     "output_type": "display_data"
    },
    {
     "name": "stdout",
     "output_type": "stream",
     "text": [
      "PPMI data for 2000 saved successfully.\n",
      "Vocabulary Size: 20680\n",
      "----------------------\n",
      "PPMI data for 2001 saved successfully.\n",
      "Vocabulary Size: 20547\n",
      "----------------------\n",
      "PPMI data for 1997 saved successfully.\n",
      "Vocabulary Size: 17841\n",
      "----------------------\n",
      "PPMI data for 1996 saved successfully.\n",
      "Vocabulary Size: 19706\n",
      "----------------------\n",
      "PPMI data for 2016 saved successfully.\n",
      "Vocabulary Size: 17469\n",
      "----------------------\n",
      "PPMI data for 1990 saved successfully.\n",
      "Vocabulary Size: 18567\n",
      "----------------------\n",
      "PPMI data for 1991 saved successfully.\n",
      "Vocabulary Size: 19057\n",
      "----------------------\n",
      "PPMI data for 2010 saved successfully.\n",
      "Vocabulary Size: 20049\n",
      "----------------------\n",
      "PPMI data for 2011 saved successfully.\n",
      "Vocabulary Size: 20557\n",
      "----------------------\n",
      "PPMI data for 2007 saved successfully.\n",
      "Vocabulary Size: 21273\n",
      "----------------------\n",
      "PPMI data for 2006 saved successfully.\n",
      "Vocabulary Size: 11661\n",
      "----------------------\n",
      "PPMI data for 1994 saved successfully.\n",
      "Vocabulary Size: 19225\n",
      "----------------------\n",
      "PPMI data for 1995 saved successfully.\n",
      "Vocabulary Size: 19358\n",
      "----------------------\n",
      "PPMI data for 2014 saved successfully.\n",
      "Vocabulary Size: 20996\n",
      "----------------------\n",
      "PPMI data for 2015 saved successfully.\n",
      "Vocabulary Size: 20951\n",
      "----------------------\n",
      "PPMI data for 2009 saved successfully.\n",
      "Vocabulary Size: 20266\n",
      "----------------------\n",
      "PPMI data for 2008 saved successfully.\n",
      "Vocabulary Size: 21099\n",
      "----------------------\n",
      "PPMI data for 2003 saved successfully.\n",
      "Vocabulary Size: 20680\n",
      "----------------------\n",
      "PPMI data for 2002 saved successfully.\n",
      "Vocabulary Size: 20684\n",
      "----------------------\n",
      "PPMI data for 2004 saved successfully.\n",
      "Vocabulary Size: 21296\n",
      "----------------------\n",
      "PPMI data for 2005 saved successfully.\n",
      "Vocabulary Size: 21307\n",
      "----------------------\n",
      "PPMI data for 1999 saved successfully.\n",
      "Vocabulary Size: 20306\n",
      "----------------------\n",
      "PPMI data for 1998 saved successfully.\n",
      "Vocabulary Size: 20269\n",
      "----------------------\n",
      "PPMI data for 1993 saved successfully.\n",
      "Vocabulary Size: 19114\n",
      "----------------------\n",
      "PPMI data for 1992 saved successfully.\n",
      "Vocabulary Size: 19152\n",
      "----------------------\n",
      "PPMI data for 2013 saved successfully.\n",
      "Vocabulary Size: 20923\n",
      "----------------------\n",
      "PPMI data for 2012 saved successfully.\n",
      "Vocabulary Size: 20982\n",
      "----------------------\n",
      "--------------- done ---------------\n",
      "PPMI-Data stored to: ../../data/ppmi-matrices/nyt-data/500\n",
      "Number of context-words: 500\n"
     ]
    }
   ],
   "source": [
    "output_dir = DATA_DIR / \"ppmi-matrices\" / \"nyt-data\" / str(number_of_context_words)\n",
    "output_dir.mkdir(parents=True, exist_ok=True)\n",
    "\n",
    "# save common context-words\n",
    "with open(output_dir / f\"context-words.pkl\", \"wb\") as f:\n",
    "    pickle.dump(context_words, f)\n",
    "\n",
    "# save vocab and ppmi-matrices\n",
    "for key, ppmi_model in tqdm(tppmi_model.ppmi_models.items()):\n",
    "    ppmi_model.compute_ppmi_matrix(window_size=window_size, normalize=True)\n",
    "    ppmi_model.save(key, output_dir)\n",
    "    print(\"----------------------\")\n",
    "\n",
    "print(\"--------------- done ---------------\")\n",
    "print(f\"PPMI-Data stored to: {str(output_dir)}\")\n",
    "print(f\"Number of context-words: {len(context_words)}\")"
   ],
   "metadata": {
    "collapsed": false
   }
  },
  {
   "cell_type": "code",
   "execution_count": 31,
   "outputs": [],
   "source": [],
   "metadata": {
    "collapsed": false
   }
  }
 ],
 "metadata": {
  "kernelspec": {
   "display_name": "Python 3",
   "language": "python",
   "name": "python3"
  },
  "language_info": {
   "codemirror_mode": {
    "name": "ipython",
    "version": 2
   },
   "file_extension": ".py",
   "mimetype": "text/x-python",
   "name": "python",
   "nbconvert_exporter": "python",
   "pygments_lexer": "ipython2",
   "version": "2.7.6"
  }
 },
 "nbformat": 4,
 "nbformat_minor": 0
}
