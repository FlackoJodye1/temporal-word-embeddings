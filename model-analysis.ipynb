{
 "cells": [
  {
   "cell_type": "markdown",
   "source": [
    "# Model Analysis"
   ],
   "metadata": {
    "collapsed": false
   }
  },
  {
   "cell_type": "code",
   "execution_count": 1,
   "outputs": [],
   "source": [
    "import pandas as pd\n",
    "from glob import glob\n",
    "from pathlib import Path\n",
    "import scipy.sparse as sp\n",
    "from tqdm.notebook import tqdm\n",
    "from gensim.models.word2vec import Word2Vec\n",
    "from packages.TPPMI.ppmi_model import PPMIModel\n",
    "from packages.TPPMI.tppmi_model import TPPMIModel\n",
    "\n",
    "from embedding_visualization import plot_temporal_changing_embedding, \\\n",
    "    plot_cosine_similarity, plot_word_vectors_tppmi, plot_cosine_similarity_tppmi"
   ],
   "metadata": {
    "collapsed": false
   }
  },
  {
   "cell_type": "code",
   "execution_count": 2,
   "outputs": [],
   "source": [
    "model_path = Path(\"model/\")\n",
    "ppmi_size = \"medium\"\n",
    "ppmi_path = Path(f\"data/ppmi-matrices/{ppmi_size}\")"
   ],
   "metadata": {
    "collapsed": false
   }
  },
  {
   "cell_type": "code",
   "execution_count": 3,
   "outputs": [],
   "source": [
    "model_static = Word2Vec.load(str(model_path / \"word2vec.model\"))"
   ],
   "metadata": {
    "collapsed": false
   }
  },
  {
   "cell_type": "code",
   "execution_count": 4,
   "outputs": [],
   "source": [
    "def print_most_similar_cade(models, target_word, top_n=3):\n",
    "    print(f\"Word: {target_word}\")\n",
    "    for key, value in models.items():\n",
    "        print(f\"Month: {key.split('_')[1].capitalize()}\")\n",
    "        try:\n",
    "            print(value.wv.most_similar(target_word, topn=top_n))\n",
    "        except KeyError:\n",
    "            print(f\"{target_word} not in vocab\")\n",
    "        print(\"--------------------------------\")"
   ],
   "metadata": {
    "collapsed": false
   }
  },
  {
   "cell_type": "markdown",
   "source": [
    "## Load models for months"
   ],
   "metadata": {
    "collapsed": false
   }
  },
  {
   "cell_type": "markdown",
   "source": [
    "### Cade"
   ],
   "metadata": {
    "collapsed": false
   }
  },
  {
   "cell_type": "code",
   "execution_count": 5,
   "outputs": [],
   "source": [
    "model_path_monthly = model_path / \"monthly\"\n",
    "model_filenames = glob(str(model_path_monthly / \"*.model\"))"
   ],
   "metadata": {
    "collapsed": false
   }
  },
  {
   "cell_type": "code",
   "execution_count": 6,
   "outputs": [
    {
     "data": {
      "text/plain": "  0%|          | 0/11 [00:00<?, ?it/s]",
      "application/vnd.jupyter.widget-view+json": {
       "version_major": 2,
       "version_minor": 0,
       "model_id": "7da8e96bd57e4d129b6c30a80bcf6c17"
      }
     },
     "metadata": {},
     "output_type": "display_data"
    }
   ],
   "source": [
    "models_monthly = {f\"model_{model_file.split('_')[1][0:3].lower()}\":Word2Vec.load(model_file) for model_file in tqdm(model_filenames)}"
   ],
   "metadata": {
    "collapsed": false
   }
  },
  {
   "cell_type": "code",
   "execution_count": 7,
   "outputs": [
    {
     "data": {
      "text/plain": "dict_keys(['model_sep', 'model_jan', 'model_dec', 'model_jul', 'model_oct', 'model_jun', 'model_aug', 'model_mar', 'model_nov', 'model_feb', 'model_apr'])"
     },
     "execution_count": 7,
     "metadata": {},
     "output_type": "execute_result"
    }
   ],
   "source": [
    "models_monthly.keys()"
   ],
   "metadata": {
    "collapsed": false
   }
  },
  {
   "cell_type": "markdown",
   "source": [
    "Order the models"
   ],
   "metadata": {
    "collapsed": false
   }
  },
  {
   "cell_type": "code",
   "execution_count": 8,
   "outputs": [],
   "source": [
    "order = ['jun', 'jul', 'aug', 'sep', 'oct', 'nov', 'dec', 'jan', 'feb', 'mar', 'apr']\n",
    "month_codes = {\"jun\": 6, \"jul\": 7, \"aug\": 8, \"sep\": 9, \"oct\": 10, \"nov\": 11, \"dec\": 12, \"jan\": 1, \"feb\": 2, \"mar\": 3, \"apr\": 4}\n",
    "\n",
    "# Sort the keys based on the desired month order\n",
    "sorted_keys = sorted(models_monthly.keys(), key=lambda x: order.index(x.split('_')[1]))\n",
    "\n",
    "# Create a sorted dictionary using a dictionary comprehension\n",
    "models_monthly = {key: models_monthly[key] for key in sorted_keys}"
   ],
   "metadata": {
    "collapsed": false
   }
  },
  {
   "cell_type": "markdown",
   "source": [
    "### TPPMI"
   ],
   "metadata": {
    "collapsed": false
   }
  },
  {
   "cell_type": "code",
   "execution_count": 9,
   "outputs": [],
   "source": [
    "# Get names of the files\n",
    "ppmi_data_filenames = sorted(glob(str(ppmi_path / \"*.npz\"))) # contains ppmi data\n",
    "ppmi_vocab_filenames = sorted(glob(str(ppmi_path / \"*.pkl\"))) # contains vocab (column- and rownames)"
   ],
   "metadata": {
    "collapsed": false
   }
  },
  {
   "cell_type": "code",
   "execution_count": 10,
   "outputs": [],
   "source": [
    "import pickle\n",
    "\n",
    "ppmi_dfs = {}\n",
    "\n",
    "for filenames in zip(ppmi_vocab_filenames, ppmi_data_filenames):\n",
    "    ppmi_matrix = sp.load_npz(filenames[1]).toarray()\n",
    "    with open(filenames[0], \"rb\") as f:\n",
    "        vocab = pickle.load(f)\n",
    "    key = filenames[0].split(\"ppmi-\")[2][0:2]\n",
    "    ppmi_dfs[key] = pd.DataFrame(ppmi_matrix, columns=vocab, index=vocab)"
   ],
   "metadata": {
    "collapsed": false
   }
  },
  {
   "cell_type": "code",
   "execution_count": 11,
   "outputs": [
    {
     "data": {
      "text/plain": "dict_keys(['01', '02', '03', '04', '06', '07', '08', '09', '10', '11', '12'])"
     },
     "execution_count": 11,
     "metadata": {},
     "output_type": "execute_result"
    }
   ],
   "source": [
    "ppmi_dfs.keys()"
   ],
   "metadata": {
    "collapsed": false
   }
  },
  {
   "cell_type": "markdown",
   "source": [
    "Create ppmi_model objects"
   ],
   "metadata": {
    "collapsed": false
   }
  },
  {
   "cell_type": "code",
   "execution_count": 12,
   "outputs": [],
   "source": [
    "ppmi_models = {key: PPMIModel.construct_from_data(ppmi_df) for key, ppmi_df in ppmi_dfs.items()}"
   ],
   "metadata": {
    "collapsed": false
   }
  },
  {
   "cell_type": "code",
   "execution_count": 13,
   "outputs": [],
   "source": [
    "tppmi_model = TPPMIModel(ppmi_models)"
   ],
   "metadata": {
    "collapsed": false
   }
  },
  {
   "cell_type": "code",
   "execution_count": 14,
   "outputs": [
    {
     "name": "stdout",
     "output_type": "stream",
     "text": [
      "Size of the vocabulary: 26301\n"
     ]
    }
   ],
   "source": [
    "print(f\"Size of the vocabulary: {tppmi_model.get_vocabulary_size()}\")"
   ],
   "metadata": {
    "collapsed": false
   }
  },
  {
   "cell_type": "markdown",
   "source": [
    "## Release of Brittney Griner"
   ],
   "metadata": {
    "collapsed": false
   }
  },
  {
   "cell_type": "markdown",
   "source": [
    "### Overview"
   ],
   "metadata": {
    "collapsed": false
   }
  },
  {
   "cell_type": "markdown",
   "source": [
    "On December 8, 2022, Russia and the United States conducted a prisoner exchange, trading Brittney Griner, an American basketball player, for Viktor Bout, a Russian arms dealer. Griner, a WNBA champion star and Team USA Olympic athlete, had been convicted of smuggling and possession of cannabis in Russia earlier in 2022 and sentenced to nine years in prison.\n",
    "\n",
    "Source: [Wikipedia article](https://en.wikipedia.org/wiki/Viktor_Bout%E2%80%93Brittney_Griner_prisoner_exchange)"
   ],
   "metadata": {
    "collapsed": false
   }
  },
  {
   "cell_type": "code",
   "execution_count": 15,
   "outputs": [],
   "source": [
    "target_word_griner = \"brittney\""
   ],
   "metadata": {
    "collapsed": false
   }
  },
  {
   "cell_type": "code",
   "execution_count": 16,
   "outputs": [],
   "source": [
    "selected_months_griner = [\"sep\", \"oct\", \"nov\", \"dec\", \"jan\"]\n",
    "selected_models_monthly_griner = {f\"model_{month}\": models_monthly[f\"model_{month}\"] for month in selected_months_griner}"
   ],
   "metadata": {
    "collapsed": false
   }
  },
  {
   "cell_type": "code",
   "execution_count": 17,
   "outputs": [],
   "source": [
    "title_griner = f\"Evolution of the word {target_word_griner} over time\"\n",
    "subtitle_griner = f\"Period: {' - '.join([month.capitalize() for month in selected_months_griner])}\""
   ],
   "metadata": {
    "collapsed": false
   }
  },
  {
   "cell_type": "code",
   "execution_count": 18,
   "outputs": [
    {
     "name": "stdout",
     "output_type": "stream",
     "text": [
      "Word: brittney\n",
      "Month: Sep\n",
      "[('jaclyn', 0.9803666472434998), ('arnett', 0.9777289628982544), ('chennai', 0.9769172668457031)]\n",
      "--------------------------------\n",
      "Month: Oct\n",
      "[('bostonstudentsliam', 0.9941439628601074), ('singlecylinder', 0.9926655292510986), ('gelokkig', 0.9920217990875244)]\n",
      "--------------------------------\n",
      "Month: Nov\n",
      "[('griner', 0.9780523777008057), ('tuy', 0.9757772088050842), ('devere', 0.9645636081695557)]\n",
      "--------------------------------\n",
      "Month: Dec\n",
      "[('zac', 0.9810552597045898), ('bennett', 0.9806931614875793), ('incorrigible', 0.9793301820755005)]\n",
      "--------------------------------\n",
      "Month: Jan\n",
      "[('harvards', 0.984215259552002), ('manguel', 0.9824919104576111), ('baldwin', 0.976431667804718)]\n",
      "--------------------------------\n"
     ]
    }
   ],
   "source": [
    "print_most_similar_cade(selected_models_monthly_griner, target_word_griner, top_n=3)"
   ],
   "metadata": {
    "collapsed": false
   }
  },
  {
   "cell_type": "markdown",
   "source": [
    "#### CADE"
   ],
   "metadata": {
    "collapsed": false
   }
  },
  {
   "cell_type": "markdown",
   "source": [
    "### Temporally changing embeddings"
   ],
   "metadata": {
    "collapsed": false
   }
  },
  {
   "cell_type": "code",
   "execution_count": 19,
   "outputs": [
    {
     "data": {
      "text/html": "        <script type=\"text/javascript\">\n        window.PlotlyConfig = {MathJaxConfig: 'local'};\n        if (window.MathJax && window.MathJax.Hub && window.MathJax.Hub.Config) {window.MathJax.Hub.Config({SVG: {font: \"STIX-Web\"}});}\n        if (typeof require !== 'undefined') {\n        require.undef(\"plotly\");\n        requirejs.config({\n            paths: {\n                'plotly': ['https://cdn.plot.ly/plotly-2.25.2.min']\n            }\n        });\n        require(['plotly'], function(Plotly) {\n            window._Plotly = Plotly;\n        });\n        }\n        </script>\n        "
     },
     "metadata": {},
     "output_type": "display_data"
    },
    {
     "data": {
      "application/vnd.plotly.v1+json": {
       "data": [
        {
         "marker": {
          "color": "black"
         },
         "mode": "markers+text",
         "text": [
          "jaclyn"
         ],
         "textfont": {
          "color": "black"
         },
         "textposition": "top center",
         "x": [
          -0.09283213317394257
         ],
         "y": [
          -0.05129652097821236
         ],
         "type": "scatter"
        },
        {
         "marker": {
          "color": "black"
         },
         "mode": "markers+text",
         "text": [
          "arnett"
         ],
         "textfont": {
          "color": "black"
         },
         "textposition": "top center",
         "x": [
          0.18593217432498932
         ],
         "y": [
          -0.0435628704726696
         ],
         "type": "scatter"
        },
        {
         "marker": {
          "color": "black"
         },
         "mode": "markers+text",
         "text": [
          "chennai"
         ],
         "textfont": {
          "color": "black"
         },
         "textposition": "top center",
         "x": [
          0.03693264350295067
         ],
         "y": [
          0.09386738389730453
         ],
         "type": "scatter"
        },
        {
         "marker": {
          "color": "red"
         },
         "mode": "markers+text",
         "text": [
          "brittney_sep"
         ],
         "textfont": {
          "color": "red"
         },
         "textposition": "top center",
         "x": [
          -0.13003264367580414
         ],
         "y": [
          9.920465527102351E-4
         ],
         "type": "scatter"
        },
        {
         "marker": {
          "color": "black"
         },
         "mode": "markers+text",
         "text": [
          "bostonstudentsliam"
         ],
         "textfont": {
          "color": "black"
         },
         "textposition": "top center",
         "x": [
          -0.07594247162342072
         ],
         "y": [
          0.05026555061340332
         ],
         "type": "scatter"
        },
        {
         "marker": {
          "color": "black"
         },
         "mode": "markers+text",
         "text": [
          "singlecylinder"
         ],
         "textfont": {
          "color": "black"
         },
         "textposition": "top center",
         "x": [
          -0.15442609786987305
         ],
         "y": [
          -0.04041159525513649
         ],
         "type": "scatter"
        },
        {
         "marker": {
          "color": "black"
         },
         "mode": "markers+text",
         "text": [
          "gelokkig"
         ],
         "textfont": {
          "color": "black"
         },
         "textposition": "top center",
         "x": [
          0.16493256390094757
         ],
         "y": [
          -0.01787511259317398
         ],
         "type": "scatter"
        },
        {
         "marker": {
          "color": "red"
         },
         "mode": "markers+text",
         "text": [
          "brittney_oct"
         ],
         "textfont": {
          "color": "red"
         },
         "textposition": "top center",
         "x": [
          0.06543605774641037
         ],
         "y": [
          0.008021188899874687
         ],
         "type": "scatter"
        },
        {
         "marker": {
          "color": "black"
         },
         "mode": "markers+text",
         "text": [
          "griner"
         ],
         "textfont": {
          "color": "black"
         },
         "textposition": "top center",
         "x": [
          0.16677148640155792
         ],
         "y": [
          0.11753369867801666
         ],
         "type": "scatter"
        },
        {
         "marker": {
          "color": "black"
         },
         "mode": "markers+text",
         "text": [
          "tuy"
         ],
         "textfont": {
          "color": "black"
         },
         "textposition": "top center",
         "x": [
          -0.17549040913581848
         ],
         "y": [
          -0.041481051594018936
         ],
         "type": "scatter"
        },
        {
         "marker": {
          "color": "black"
         },
         "mode": "markers+text",
         "text": [
          "devere"
         ],
         "textfont": {
          "color": "black"
         },
         "textposition": "top center",
         "x": [
          -0.28326907753944397
         ],
         "y": [
          0.00812563393265009
         ],
         "type": "scatter"
        },
        {
         "marker": {
          "color": "red"
         },
         "mode": "markers+text",
         "text": [
          "brittney_nov"
         ],
         "textfont": {
          "color": "red"
         },
         "textposition": "top center",
         "x": [
          0.29198795557022095
         ],
         "y": [
          -0.08417830616235733
         ],
         "type": "scatter"
        },
        {
         "marker": {
          "color": "black"
         },
         "mode": "markers+text",
         "text": [
          "zac"
         ],
         "textfont": {
          "color": "black"
         },
         "textposition": "top center",
         "x": [
          -0.20682114362716675
         ],
         "y": [
          0.019817259162664413
         ],
         "type": "scatter"
        },
        {
         "marker": {
          "color": "black"
         },
         "mode": "markers+text",
         "text": [
          "bennett"
         ],
         "textfont": {
          "color": "black"
         },
         "textposition": "top center",
         "x": [
          0.22503463923931122
         ],
         "y": [
          -0.09624944627285004
         ],
         "type": "scatter"
        },
        {
         "marker": {
          "color": "black"
         },
         "mode": "markers+text",
         "text": [
          "incorrigible"
         ],
         "textfont": {
          "color": "black"
         },
         "textposition": "top center",
         "x": [
          -0.20411495864391327
         ],
         "y": [
          -0.029612191021442413
         ],
         "type": "scatter"
        },
        {
         "marker": {
          "color": "red"
         },
         "mode": "markers+text",
         "text": [
          "brittney_dec"
         ],
         "textfont": {
          "color": "red"
         },
         "textposition": "top center",
         "x": [
          0.18590141832828522
         ],
         "y": [
          0.10604435950517654
         ],
         "type": "scatter"
        },
        {
         "marker": {
          "color": "black"
         },
         "mode": "markers+text",
         "text": [
          "harvards"
         ],
         "textfont": {
          "color": "black"
         },
         "textposition": "top center",
         "x": [
          -0.2724393904209137
         ],
         "y": [
          -0.09128320962190628
         ],
         "type": "scatter"
        },
        {
         "marker": {
          "color": "black"
         },
         "mode": "markers+text",
         "text": [
          "manguel"
         ],
         "textfont": {
          "color": "black"
         },
         "textposition": "top center",
         "x": [
          -0.12965114414691925
         ],
         "y": [
          0.04801270365715027
         ],
         "type": "scatter"
        },
        {
         "marker": {
          "color": "black"
         },
         "mode": "markers+text",
         "text": [
          "baldwin"
         ],
         "textfont": {
          "color": "black"
         },
         "textposition": "top center",
         "x": [
          0.3775027394294739
         ],
         "y": [
          -0.055843986570835114
         ],
         "type": "scatter"
        },
        {
         "marker": {
          "color": "red"
         },
         "mode": "markers+text",
         "text": [
          "brittney_jan"
         ],
         "textfont": {
          "color": "red"
         },
         "textposition": "top center",
         "x": [
          0.02458786778151989
         ],
         "y": [
          0.09911444038152695
         ],
         "type": "scatter"
        },
        {
         "marker": {
          "color": "red",
          "size": 10,
          "symbol": "diamond"
         },
         "mode": "markers",
         "x": [
          -0.13003264367580414
         ],
         "y": [
          9.920465527102351E-4
         ],
         "type": "scatter"
        },
        {
         "line": {
          "color": "red"
         },
         "mode": "lines",
         "x": [
          -0.13003264367580414,
          0.06543605774641037
         ],
         "y": [
          9.920465527102351E-4,
          0.008021188899874687
         ],
         "type": "scatter"
        },
        {
         "line": {
          "color": "red"
         },
         "mode": "lines",
         "x": [
          0.06543605774641037,
          0.29198795557022095
         ],
         "y": [
          0.008021188899874687,
          -0.08417830616235733
         ],
         "type": "scatter"
        },
        {
         "line": {
          "color": "red"
         },
         "mode": "lines",
         "x": [
          0.29198795557022095,
          0.18590141832828522
         ],
         "y": [
          -0.08417830616235733,
          0.10604435950517654
         ],
         "type": "scatter"
        },
        {
         "line": {
          "color": "red"
         },
         "mode": "lines",
         "x": [
          0.18590141832828522,
          0.02458786778151989
         ],
         "y": [
          0.10604435950517654,
          0.09911444038152695
         ],
         "type": "scatter"
        }
       ],
       "layout": {
        "annotations": [
         {
          "showarrow": false,
          "text": "Period: Sep - Oct - Nov - Dec - Jan",
          "x": 0.5,
          "xref": "paper",
          "y": 1.08,
          "yref": "paper"
         }
        ],
        "showlegend": false,
        "template": {
         "data": {
          "barpolar": [
           {
            "marker": {
             "line": {
              "color": "#E5ECF6",
              "width": 0.5
             },
             "pattern": {
              "fillmode": "overlay",
              "size": 10,
              "solidity": 0.2
             }
            },
            "type": "barpolar"
           }
          ],
          "bar": [
           {
            "error_x": {
             "color": "#2a3f5f"
            },
            "error_y": {
             "color": "#2a3f5f"
            },
            "marker": {
             "line": {
              "color": "#E5ECF6",
              "width": 0.5
             },
             "pattern": {
              "fillmode": "overlay",
              "size": 10,
              "solidity": 0.2
             }
            },
            "type": "bar"
           }
          ],
          "carpet": [
           {
            "aaxis": {
             "endlinecolor": "#2a3f5f",
             "gridcolor": "white",
             "linecolor": "white",
             "minorgridcolor": "white",
             "startlinecolor": "#2a3f5f"
            },
            "baxis": {
             "endlinecolor": "#2a3f5f",
             "gridcolor": "white",
             "linecolor": "white",
             "minorgridcolor": "white",
             "startlinecolor": "#2a3f5f"
            },
            "type": "carpet"
           }
          ],
          "choropleth": [
           {
            "colorbar": {
             "outlinewidth": 0,
             "ticks": ""
            },
            "type": "choropleth"
           }
          ],
          "contourcarpet": [
           {
            "colorbar": {
             "outlinewidth": 0,
             "ticks": ""
            },
            "type": "contourcarpet"
           }
          ],
          "contour": [
           {
            "colorbar": {
             "outlinewidth": 0,
             "ticks": ""
            },
            "colorscale": [
             [
              0.0,
              "#0d0887"
             ],
             [
              0.1111111111111111,
              "#46039f"
             ],
             [
              0.2222222222222222,
              "#7201a8"
             ],
             [
              0.3333333333333333,
              "#9c179e"
             ],
             [
              0.4444444444444444,
              "#bd3786"
             ],
             [
              0.5555555555555556,
              "#d8576b"
             ],
             [
              0.6666666666666666,
              "#ed7953"
             ],
             [
              0.7777777777777778,
              "#fb9f3a"
             ],
             [
              0.8888888888888888,
              "#fdca26"
             ],
             [
              1.0,
              "#f0f921"
             ]
            ],
            "type": "contour"
           }
          ],
          "heatmapgl": [
           {
            "colorbar": {
             "outlinewidth": 0,
             "ticks": ""
            },
            "colorscale": [
             [
              0.0,
              "#0d0887"
             ],
             [
              0.1111111111111111,
              "#46039f"
             ],
             [
              0.2222222222222222,
              "#7201a8"
             ],
             [
              0.3333333333333333,
              "#9c179e"
             ],
             [
              0.4444444444444444,
              "#bd3786"
             ],
             [
              0.5555555555555556,
              "#d8576b"
             ],
             [
              0.6666666666666666,
              "#ed7953"
             ],
             [
              0.7777777777777778,
              "#fb9f3a"
             ],
             [
              0.8888888888888888,
              "#fdca26"
             ],
             [
              1.0,
              "#f0f921"
             ]
            ],
            "type": "heatmapgl"
           }
          ],
          "heatmap": [
           {
            "colorbar": {
             "outlinewidth": 0,
             "ticks": ""
            },
            "colorscale": [
             [
              0.0,
              "#0d0887"
             ],
             [
              0.1111111111111111,
              "#46039f"
             ],
             [
              0.2222222222222222,
              "#7201a8"
             ],
             [
              0.3333333333333333,
              "#9c179e"
             ],
             [
              0.4444444444444444,
              "#bd3786"
             ],
             [
              0.5555555555555556,
              "#d8576b"
             ],
             [
              0.6666666666666666,
              "#ed7953"
             ],
             [
              0.7777777777777778,
              "#fb9f3a"
             ],
             [
              0.8888888888888888,
              "#fdca26"
             ],
             [
              1.0,
              "#f0f921"
             ]
            ],
            "type": "heatmap"
           }
          ],
          "histogram2dcontour": [
           {
            "colorbar": {
             "outlinewidth": 0,
             "ticks": ""
            },
            "colorscale": [
             [
              0.0,
              "#0d0887"
             ],
             [
              0.1111111111111111,
              "#46039f"
             ],
             [
              0.2222222222222222,
              "#7201a8"
             ],
             [
              0.3333333333333333,
              "#9c179e"
             ],
             [
              0.4444444444444444,
              "#bd3786"
             ],
             [
              0.5555555555555556,
              "#d8576b"
             ],
             [
              0.6666666666666666,
              "#ed7953"
             ],
             [
              0.7777777777777778,
              "#fb9f3a"
             ],
             [
              0.8888888888888888,
              "#fdca26"
             ],
             [
              1.0,
              "#f0f921"
             ]
            ],
            "type": "histogram2dcontour"
           }
          ],
          "histogram2d": [
           {
            "colorbar": {
             "outlinewidth": 0,
             "ticks": ""
            },
            "colorscale": [
             [
              0.0,
              "#0d0887"
             ],
             [
              0.1111111111111111,
              "#46039f"
             ],
             [
              0.2222222222222222,
              "#7201a8"
             ],
             [
              0.3333333333333333,
              "#9c179e"
             ],
             [
              0.4444444444444444,
              "#bd3786"
             ],
             [
              0.5555555555555556,
              "#d8576b"
             ],
             [
              0.6666666666666666,
              "#ed7953"
             ],
             [
              0.7777777777777778,
              "#fb9f3a"
             ],
             [
              0.8888888888888888,
              "#fdca26"
             ],
             [
              1.0,
              "#f0f921"
             ]
            ],
            "type": "histogram2d"
           }
          ],
          "histogram": [
           {
            "marker": {
             "pattern": {
              "fillmode": "overlay",
              "size": 10,
              "solidity": 0.2
             }
            },
            "type": "histogram"
           }
          ],
          "mesh3d": [
           {
            "colorbar": {
             "outlinewidth": 0,
             "ticks": ""
            },
            "type": "mesh3d"
           }
          ],
          "parcoords": [
           {
            "line": {
             "colorbar": {
              "outlinewidth": 0,
              "ticks": ""
             }
            },
            "type": "parcoords"
           }
          ],
          "pie": [
           {
            "automargin": true,
            "type": "pie"
           }
          ],
          "scatter3d": [
           {
            "line": {
             "colorbar": {
              "outlinewidth": 0,
              "ticks": ""
             }
            },
            "marker": {
             "colorbar": {
              "outlinewidth": 0,
              "ticks": ""
             }
            },
            "type": "scatter3d"
           }
          ],
          "scattercarpet": [
           {
            "marker": {
             "colorbar": {
              "outlinewidth": 0,
              "ticks": ""
             }
            },
            "type": "scattercarpet"
           }
          ],
          "scattergeo": [
           {
            "marker": {
             "colorbar": {
              "outlinewidth": 0,
              "ticks": ""
             }
            },
            "type": "scattergeo"
           }
          ],
          "scattergl": [
           {
            "marker": {
             "colorbar": {
              "outlinewidth": 0,
              "ticks": ""
             }
            },
            "type": "scattergl"
           }
          ],
          "scattermapbox": [
           {
            "marker": {
             "colorbar": {
              "outlinewidth": 0,
              "ticks": ""
             }
            },
            "type": "scattermapbox"
           }
          ],
          "scatterpolargl": [
           {
            "marker": {
             "colorbar": {
              "outlinewidth": 0,
              "ticks": ""
             }
            },
            "type": "scatterpolargl"
           }
          ],
          "scatterpolar": [
           {
            "marker": {
             "colorbar": {
              "outlinewidth": 0,
              "ticks": ""
             }
            },
            "type": "scatterpolar"
           }
          ],
          "scatter": [
           {
            "fillpattern": {
             "fillmode": "overlay",
             "size": 10,
             "solidity": 0.2
            },
            "type": "scatter"
           }
          ],
          "scatterternary": [
           {
            "marker": {
             "colorbar": {
              "outlinewidth": 0,
              "ticks": ""
             }
            },
            "type": "scatterternary"
           }
          ],
          "surface": [
           {
            "colorbar": {
             "outlinewidth": 0,
             "ticks": ""
            },
            "colorscale": [
             [
              0.0,
              "#0d0887"
             ],
             [
              0.1111111111111111,
              "#46039f"
             ],
             [
              0.2222222222222222,
              "#7201a8"
             ],
             [
              0.3333333333333333,
              "#9c179e"
             ],
             [
              0.4444444444444444,
              "#bd3786"
             ],
             [
              0.5555555555555556,
              "#d8576b"
             ],
             [
              0.6666666666666666,
              "#ed7953"
             ],
             [
              0.7777777777777778,
              "#fb9f3a"
             ],
             [
              0.8888888888888888,
              "#fdca26"
             ],
             [
              1.0,
              "#f0f921"
             ]
            ],
            "type": "surface"
           }
          ],
          "table": [
           {
            "cells": {
             "fill": {
              "color": "#EBF0F8"
             },
             "line": {
              "color": "white"
             }
            },
            "header": {
             "fill": {
              "color": "#C8D4E3"
             },
             "line": {
              "color": "white"
             }
            },
            "type": "table"
           }
          ]
         },
         "layout": {
          "annotationdefaults": {
           "arrowcolor": "#2a3f5f",
           "arrowhead": 0,
           "arrowwidth": 1
          },
          "autotypenumbers": "strict",
          "coloraxis": {
           "colorbar": {
            "outlinewidth": 0,
            "ticks": ""
           }
          },
          "colorscale": {
           "diverging": [
            [
             0,
             "#8e0152"
            ],
            [
             0.1,
             "#c51b7d"
            ],
            [
             0.2,
             "#de77ae"
            ],
            [
             0.3,
             "#f1b6da"
            ],
            [
             0.4,
             "#fde0ef"
            ],
            [
             0.5,
             "#f7f7f7"
            ],
            [
             0.6,
             "#e6f5d0"
            ],
            [
             0.7,
             "#b8e186"
            ],
            [
             0.8,
             "#7fbc41"
            ],
            [
             0.9,
             "#4d9221"
            ],
            [
             1,
             "#276419"
            ]
           ],
           "sequential": [
            [
             0.0,
             "#0d0887"
            ],
            [
             0.1111111111111111,
             "#46039f"
            ],
            [
             0.2222222222222222,
             "#7201a8"
            ],
            [
             0.3333333333333333,
             "#9c179e"
            ],
            [
             0.4444444444444444,
             "#bd3786"
            ],
            [
             0.5555555555555556,
             "#d8576b"
            ],
            [
             0.6666666666666666,
             "#ed7953"
            ],
            [
             0.7777777777777778,
             "#fb9f3a"
            ],
            [
             0.8888888888888888,
             "#fdca26"
            ],
            [
             1.0,
             "#f0f921"
            ]
           ],
           "sequentialminus": [
            [
             0.0,
             "#0d0887"
            ],
            [
             0.1111111111111111,
             "#46039f"
            ],
            [
             0.2222222222222222,
             "#7201a8"
            ],
            [
             0.3333333333333333,
             "#9c179e"
            ],
            [
             0.4444444444444444,
             "#bd3786"
            ],
            [
             0.5555555555555556,
             "#d8576b"
            ],
            [
             0.6666666666666666,
             "#ed7953"
            ],
            [
             0.7777777777777778,
             "#fb9f3a"
            ],
            [
             0.8888888888888888,
             "#fdca26"
            ],
            [
             1.0,
             "#f0f921"
            ]
           ]
          },
          "colorway": [
           "#636efa",
           "#EF553B",
           "#00cc96",
           "#ab63fa",
           "#FFA15A",
           "#19d3f3",
           "#FF6692",
           "#B6E880",
           "#FF97FF",
           "#FECB52"
          ],
          "font": {
           "color": "#2a3f5f"
          },
          "geo": {
           "bgcolor": "white",
           "lakecolor": "white",
           "landcolor": "#E5ECF6",
           "showlakes": true,
           "showland": true,
           "subunitcolor": "white"
          },
          "hoverlabel": {
           "align": "left"
          },
          "hovermode": "closest",
          "mapbox": {
           "style": "light"
          },
          "paper_bgcolor": "white",
          "plot_bgcolor": "#E5ECF6",
          "polar": {
           "angularaxis": {
            "gridcolor": "white",
            "linecolor": "white",
            "ticks": ""
           },
           "bgcolor": "#E5ECF6",
           "radialaxis": {
            "gridcolor": "white",
            "linecolor": "white",
            "ticks": ""
           }
          },
          "scene": {
           "xaxis": {
            "backgroundcolor": "#E5ECF6",
            "gridcolor": "white",
            "gridwidth": 2,
            "linecolor": "white",
            "showbackground": true,
            "ticks": "",
            "zerolinecolor": "white"
           },
           "yaxis": {
            "backgroundcolor": "#E5ECF6",
            "gridcolor": "white",
            "gridwidth": 2,
            "linecolor": "white",
            "showbackground": true,
            "ticks": "",
            "zerolinecolor": "white"
           },
           "zaxis": {
            "backgroundcolor": "#E5ECF6",
            "gridcolor": "white",
            "gridwidth": 2,
            "linecolor": "white",
            "showbackground": true,
            "ticks": "",
            "zerolinecolor": "white"
           }
          },
          "shapedefaults": {
           "line": {
            "color": "#2a3f5f"
           }
          },
          "ternary": {
           "aaxis": {
            "gridcolor": "white",
            "linecolor": "white",
            "ticks": ""
           },
           "baxis": {
            "gridcolor": "white",
            "linecolor": "white",
            "ticks": ""
           },
           "bgcolor": "#E5ECF6",
           "caxis": {
            "gridcolor": "white",
            "linecolor": "white",
            "ticks": ""
           }
          },
          "title": {
           "x": 0.05
          },
          "xaxis": {
           "automargin": true,
           "gridcolor": "white",
           "linecolor": "white",
           "ticks": "",
           "title": {
            "standoff": 15
           },
           "zerolinecolor": "white",
           "zerolinewidth": 2
          },
          "yaxis": {
           "automargin": true,
           "gridcolor": "white",
           "linecolor": "white",
           "ticks": "",
           "title": {
            "standoff": 15
           },
           "zerolinecolor": "white",
           "zerolinewidth": 2
          }
         }
        },
        "title": {
         "font": {
          "size": 22
         },
         "text": "Evolution of the word brittney over time",
         "x": 0.5
        },
        "xaxis": {
         "title": {
          "text": "X"
         }
        },
        "yaxis": {
         "title": {
          "text": "Y"
         }
        }
       },
       "config": {
        "showLink": false,
        "linkText": "Export to plot.ly",
        "plotlyServerURL": "https://plot.ly"
       }
      },
      "text/html": "<div>                            <div id=\"60b2791c-77a6-4ab8-a5dc-9323ef24a498\" class=\"plotly-graph-div\" style=\"height:525px; width:100%;\"></div>            <script type=\"text/javascript\">                require([\"plotly\"], function(Plotly) {                    window.PLOTLYENV=window.PLOTLYENV || {};                                    if (document.getElementById(\"60b2791c-77a6-4ab8-a5dc-9323ef24a498\")) {                    Plotly.newPlot(                        \"60b2791c-77a6-4ab8-a5dc-9323ef24a498\",                        [{\"marker\":{\"color\":\"black\"},\"mode\":\"markers+text\",\"text\":[\"jaclyn\"],\"textfont\":{\"color\":\"black\"},\"textposition\":\"top center\",\"x\":[-0.09283213317394257],\"y\":[-0.05129652097821236],\"type\":\"scatter\"},{\"marker\":{\"color\":\"black\"},\"mode\":\"markers+text\",\"text\":[\"arnett\"],\"textfont\":{\"color\":\"black\"},\"textposition\":\"top center\",\"x\":[0.18593217432498932],\"y\":[-0.0435628704726696],\"type\":\"scatter\"},{\"marker\":{\"color\":\"black\"},\"mode\":\"markers+text\",\"text\":[\"chennai\"],\"textfont\":{\"color\":\"black\"},\"textposition\":\"top center\",\"x\":[0.03693264350295067],\"y\":[0.09386738389730453],\"type\":\"scatter\"},{\"marker\":{\"color\":\"red\"},\"mode\":\"markers+text\",\"text\":[\"brittney_sep\"],\"textfont\":{\"color\":\"red\"},\"textposition\":\"top center\",\"x\":[-0.13003264367580414],\"y\":[0.0009920465527102351],\"type\":\"scatter\"},{\"marker\":{\"color\":\"black\"},\"mode\":\"markers+text\",\"text\":[\"bostonstudentsliam\"],\"textfont\":{\"color\":\"black\"},\"textposition\":\"top center\",\"x\":[-0.07594247162342072],\"y\":[0.05026555061340332],\"type\":\"scatter\"},{\"marker\":{\"color\":\"black\"},\"mode\":\"markers+text\",\"text\":[\"singlecylinder\"],\"textfont\":{\"color\":\"black\"},\"textposition\":\"top center\",\"x\":[-0.15442609786987305],\"y\":[-0.04041159525513649],\"type\":\"scatter\"},{\"marker\":{\"color\":\"black\"},\"mode\":\"markers+text\",\"text\":[\"gelokkig\"],\"textfont\":{\"color\":\"black\"},\"textposition\":\"top center\",\"x\":[0.16493256390094757],\"y\":[-0.01787511259317398],\"type\":\"scatter\"},{\"marker\":{\"color\":\"red\"},\"mode\":\"markers+text\",\"text\":[\"brittney_oct\"],\"textfont\":{\"color\":\"red\"},\"textposition\":\"top center\",\"x\":[0.06543605774641037],\"y\":[0.008021188899874687],\"type\":\"scatter\"},{\"marker\":{\"color\":\"black\"},\"mode\":\"markers+text\",\"text\":[\"griner\"],\"textfont\":{\"color\":\"black\"},\"textposition\":\"top center\",\"x\":[0.16677148640155792],\"y\":[0.11753369867801666],\"type\":\"scatter\"},{\"marker\":{\"color\":\"black\"},\"mode\":\"markers+text\",\"text\":[\"tuy\"],\"textfont\":{\"color\":\"black\"},\"textposition\":\"top center\",\"x\":[-0.17549040913581848],\"y\":[-0.041481051594018936],\"type\":\"scatter\"},{\"marker\":{\"color\":\"black\"},\"mode\":\"markers+text\",\"text\":[\"devere\"],\"textfont\":{\"color\":\"black\"},\"textposition\":\"top center\",\"x\":[-0.28326907753944397],\"y\":[0.00812563393265009],\"type\":\"scatter\"},{\"marker\":{\"color\":\"red\"},\"mode\":\"markers+text\",\"text\":[\"brittney_nov\"],\"textfont\":{\"color\":\"red\"},\"textposition\":\"top center\",\"x\":[0.29198795557022095],\"y\":[-0.08417830616235733],\"type\":\"scatter\"},{\"marker\":{\"color\":\"black\"},\"mode\":\"markers+text\",\"text\":[\"zac\"],\"textfont\":{\"color\":\"black\"},\"textposition\":\"top center\",\"x\":[-0.20682114362716675],\"y\":[0.019817259162664413],\"type\":\"scatter\"},{\"marker\":{\"color\":\"black\"},\"mode\":\"markers+text\",\"text\":[\"bennett\"],\"textfont\":{\"color\":\"black\"},\"textposition\":\"top center\",\"x\":[0.22503463923931122],\"y\":[-0.09624944627285004],\"type\":\"scatter\"},{\"marker\":{\"color\":\"black\"},\"mode\":\"markers+text\",\"text\":[\"incorrigible\"],\"textfont\":{\"color\":\"black\"},\"textposition\":\"top center\",\"x\":[-0.20411495864391327],\"y\":[-0.029612191021442413],\"type\":\"scatter\"},{\"marker\":{\"color\":\"red\"},\"mode\":\"markers+text\",\"text\":[\"brittney_dec\"],\"textfont\":{\"color\":\"red\"},\"textposition\":\"top center\",\"x\":[0.18590141832828522],\"y\":[0.10604435950517654],\"type\":\"scatter\"},{\"marker\":{\"color\":\"black\"},\"mode\":\"markers+text\",\"text\":[\"harvards\"],\"textfont\":{\"color\":\"black\"},\"textposition\":\"top center\",\"x\":[-0.2724393904209137],\"y\":[-0.09128320962190628],\"type\":\"scatter\"},{\"marker\":{\"color\":\"black\"},\"mode\":\"markers+text\",\"text\":[\"manguel\"],\"textfont\":{\"color\":\"black\"},\"textposition\":\"top center\",\"x\":[-0.12965114414691925],\"y\":[0.04801270365715027],\"type\":\"scatter\"},{\"marker\":{\"color\":\"black\"},\"mode\":\"markers+text\",\"text\":[\"baldwin\"],\"textfont\":{\"color\":\"black\"},\"textposition\":\"top center\",\"x\":[0.3775027394294739],\"y\":[-0.055843986570835114],\"type\":\"scatter\"},{\"marker\":{\"color\":\"red\"},\"mode\":\"markers+text\",\"text\":[\"brittney_jan\"],\"textfont\":{\"color\":\"red\"},\"textposition\":\"top center\",\"x\":[0.02458786778151989],\"y\":[0.09911444038152695],\"type\":\"scatter\"},{\"marker\":{\"color\":\"red\",\"size\":10,\"symbol\":\"diamond\"},\"mode\":\"markers\",\"x\":[-0.13003264367580414],\"y\":[0.0009920465527102351],\"type\":\"scatter\"},{\"line\":{\"color\":\"red\"},\"mode\":\"lines\",\"x\":[-0.13003264367580414,0.06543605774641037],\"y\":[0.0009920465527102351,0.008021188899874687],\"type\":\"scatter\"},{\"line\":{\"color\":\"red\"},\"mode\":\"lines\",\"x\":[0.06543605774641037,0.29198795557022095],\"y\":[0.008021188899874687,-0.08417830616235733],\"type\":\"scatter\"},{\"line\":{\"color\":\"red\"},\"mode\":\"lines\",\"x\":[0.29198795557022095,0.18590141832828522],\"y\":[-0.08417830616235733,0.10604435950517654],\"type\":\"scatter\"},{\"line\":{\"color\":\"red\"},\"mode\":\"lines\",\"x\":[0.18590141832828522,0.02458786778151989],\"y\":[0.10604435950517654,0.09911444038152695],\"type\":\"scatter\"}],                        {\"annotations\":[{\"showarrow\":false,\"text\":\"Period: Sep - Oct - Nov - Dec - Jan\",\"x\":0.5,\"xref\":\"paper\",\"y\":1.08,\"yref\":\"paper\"}],\"showlegend\":false,\"template\":{\"data\":{\"barpolar\":[{\"marker\":{\"line\":{\"color\":\"#E5ECF6\",\"width\":0.5},\"pattern\":{\"fillmode\":\"overlay\",\"size\":10,\"solidity\":0.2}},\"type\":\"barpolar\"}],\"bar\":[{\"error_x\":{\"color\":\"#2a3f5f\"},\"error_y\":{\"color\":\"#2a3f5f\"},\"marker\":{\"line\":{\"color\":\"#E5ECF6\",\"width\":0.5},\"pattern\":{\"fillmode\":\"overlay\",\"size\":10,\"solidity\":0.2}},\"type\":\"bar\"}],\"carpet\":[{\"aaxis\":{\"endlinecolor\":\"#2a3f5f\",\"gridcolor\":\"white\",\"linecolor\":\"white\",\"minorgridcolor\":\"white\",\"startlinecolor\":\"#2a3f5f\"},\"baxis\":{\"endlinecolor\":\"#2a3f5f\",\"gridcolor\":\"white\",\"linecolor\":\"white\",\"minorgridcolor\":\"white\",\"startlinecolor\":\"#2a3f5f\"},\"type\":\"carpet\"}],\"choropleth\":[{\"colorbar\":{\"outlinewidth\":0,\"ticks\":\"\"},\"type\":\"choropleth\"}],\"contourcarpet\":[{\"colorbar\":{\"outlinewidth\":0,\"ticks\":\"\"},\"type\":\"contourcarpet\"}],\"contour\":[{\"colorbar\":{\"outlinewidth\":0,\"ticks\":\"\"},\"colorscale\":[[0.0,\"#0d0887\"],[0.1111111111111111,\"#46039f\"],[0.2222222222222222,\"#7201a8\"],[0.3333333333333333,\"#9c179e\"],[0.4444444444444444,\"#bd3786\"],[0.5555555555555556,\"#d8576b\"],[0.6666666666666666,\"#ed7953\"],[0.7777777777777778,\"#fb9f3a\"],[0.8888888888888888,\"#fdca26\"],[1.0,\"#f0f921\"]],\"type\":\"contour\"}],\"heatmapgl\":[{\"colorbar\":{\"outlinewidth\":0,\"ticks\":\"\"},\"colorscale\":[[0.0,\"#0d0887\"],[0.1111111111111111,\"#46039f\"],[0.2222222222222222,\"#7201a8\"],[0.3333333333333333,\"#9c179e\"],[0.4444444444444444,\"#bd3786\"],[0.5555555555555556,\"#d8576b\"],[0.6666666666666666,\"#ed7953\"],[0.7777777777777778,\"#fb9f3a\"],[0.8888888888888888,\"#fdca26\"],[1.0,\"#f0f921\"]],\"type\":\"heatmapgl\"}],\"heatmap\":[{\"colorbar\":{\"outlinewidth\":0,\"ticks\":\"\"},\"colorscale\":[[0.0,\"#0d0887\"],[0.1111111111111111,\"#46039f\"],[0.2222222222222222,\"#7201a8\"],[0.3333333333333333,\"#9c179e\"],[0.4444444444444444,\"#bd3786\"],[0.5555555555555556,\"#d8576b\"],[0.6666666666666666,\"#ed7953\"],[0.7777777777777778,\"#fb9f3a\"],[0.8888888888888888,\"#fdca26\"],[1.0,\"#f0f921\"]],\"type\":\"heatmap\"}],\"histogram2dcontour\":[{\"colorbar\":{\"outlinewidth\":0,\"ticks\":\"\"},\"colorscale\":[[0.0,\"#0d0887\"],[0.1111111111111111,\"#46039f\"],[0.2222222222222222,\"#7201a8\"],[0.3333333333333333,\"#9c179e\"],[0.4444444444444444,\"#bd3786\"],[0.5555555555555556,\"#d8576b\"],[0.6666666666666666,\"#ed7953\"],[0.7777777777777778,\"#fb9f3a\"],[0.8888888888888888,\"#fdca26\"],[1.0,\"#f0f921\"]],\"type\":\"histogram2dcontour\"}],\"histogram2d\":[{\"colorbar\":{\"outlinewidth\":0,\"ticks\":\"\"},\"colorscale\":[[0.0,\"#0d0887\"],[0.1111111111111111,\"#46039f\"],[0.2222222222222222,\"#7201a8\"],[0.3333333333333333,\"#9c179e\"],[0.4444444444444444,\"#bd3786\"],[0.5555555555555556,\"#d8576b\"],[0.6666666666666666,\"#ed7953\"],[0.7777777777777778,\"#fb9f3a\"],[0.8888888888888888,\"#fdca26\"],[1.0,\"#f0f921\"]],\"type\":\"histogram2d\"}],\"histogram\":[{\"marker\":{\"pattern\":{\"fillmode\":\"overlay\",\"size\":10,\"solidity\":0.2}},\"type\":\"histogram\"}],\"mesh3d\":[{\"colorbar\":{\"outlinewidth\":0,\"ticks\":\"\"},\"type\":\"mesh3d\"}],\"parcoords\":[{\"line\":{\"colorbar\":{\"outlinewidth\":0,\"ticks\":\"\"}},\"type\":\"parcoords\"}],\"pie\":[{\"automargin\":true,\"type\":\"pie\"}],\"scatter3d\":[{\"line\":{\"colorbar\":{\"outlinewidth\":0,\"ticks\":\"\"}},\"marker\":{\"colorbar\":{\"outlinewidth\":0,\"ticks\":\"\"}},\"type\":\"scatter3d\"}],\"scattercarpet\":[{\"marker\":{\"colorbar\":{\"outlinewidth\":0,\"ticks\":\"\"}},\"type\":\"scattercarpet\"}],\"scattergeo\":[{\"marker\":{\"colorbar\":{\"outlinewidth\":0,\"ticks\":\"\"}},\"type\":\"scattergeo\"}],\"scattergl\":[{\"marker\":{\"colorbar\":{\"outlinewidth\":0,\"ticks\":\"\"}},\"type\":\"scattergl\"}],\"scattermapbox\":[{\"marker\":{\"colorbar\":{\"outlinewidth\":0,\"ticks\":\"\"}},\"type\":\"scattermapbox\"}],\"scatterpolargl\":[{\"marker\":{\"colorbar\":{\"outlinewidth\":0,\"ticks\":\"\"}},\"type\":\"scatterpolargl\"}],\"scatterpolar\":[{\"marker\":{\"colorbar\":{\"outlinewidth\":0,\"ticks\":\"\"}},\"type\":\"scatterpolar\"}],\"scatter\":[{\"fillpattern\":{\"fillmode\":\"overlay\",\"size\":10,\"solidity\":0.2},\"type\":\"scatter\"}],\"scatterternary\":[{\"marker\":{\"colorbar\":{\"outlinewidth\":0,\"ticks\":\"\"}},\"type\":\"scatterternary\"}],\"surface\":[{\"colorbar\":{\"outlinewidth\":0,\"ticks\":\"\"},\"colorscale\":[[0.0,\"#0d0887\"],[0.1111111111111111,\"#46039f\"],[0.2222222222222222,\"#7201a8\"],[0.3333333333333333,\"#9c179e\"],[0.4444444444444444,\"#bd3786\"],[0.5555555555555556,\"#d8576b\"],[0.6666666666666666,\"#ed7953\"],[0.7777777777777778,\"#fb9f3a\"],[0.8888888888888888,\"#fdca26\"],[1.0,\"#f0f921\"]],\"type\":\"surface\"}],\"table\":[{\"cells\":{\"fill\":{\"color\":\"#EBF0F8\"},\"line\":{\"color\":\"white\"}},\"header\":{\"fill\":{\"color\":\"#C8D4E3\"},\"line\":{\"color\":\"white\"}},\"type\":\"table\"}]},\"layout\":{\"annotationdefaults\":{\"arrowcolor\":\"#2a3f5f\",\"arrowhead\":0,\"arrowwidth\":1},\"autotypenumbers\":\"strict\",\"coloraxis\":{\"colorbar\":{\"outlinewidth\":0,\"ticks\":\"\"}},\"colorscale\":{\"diverging\":[[0,\"#8e0152\"],[0.1,\"#c51b7d\"],[0.2,\"#de77ae\"],[0.3,\"#f1b6da\"],[0.4,\"#fde0ef\"],[0.5,\"#f7f7f7\"],[0.6,\"#e6f5d0\"],[0.7,\"#b8e186\"],[0.8,\"#7fbc41\"],[0.9,\"#4d9221\"],[1,\"#276419\"]],\"sequential\":[[0.0,\"#0d0887\"],[0.1111111111111111,\"#46039f\"],[0.2222222222222222,\"#7201a8\"],[0.3333333333333333,\"#9c179e\"],[0.4444444444444444,\"#bd3786\"],[0.5555555555555556,\"#d8576b\"],[0.6666666666666666,\"#ed7953\"],[0.7777777777777778,\"#fb9f3a\"],[0.8888888888888888,\"#fdca26\"],[1.0,\"#f0f921\"]],\"sequentialminus\":[[0.0,\"#0d0887\"],[0.1111111111111111,\"#46039f\"],[0.2222222222222222,\"#7201a8\"],[0.3333333333333333,\"#9c179e\"],[0.4444444444444444,\"#bd3786\"],[0.5555555555555556,\"#d8576b\"],[0.6666666666666666,\"#ed7953\"],[0.7777777777777778,\"#fb9f3a\"],[0.8888888888888888,\"#fdca26\"],[1.0,\"#f0f921\"]]},\"colorway\":[\"#636efa\",\"#EF553B\",\"#00cc96\",\"#ab63fa\",\"#FFA15A\",\"#19d3f3\",\"#FF6692\",\"#B6E880\",\"#FF97FF\",\"#FECB52\"],\"font\":{\"color\":\"#2a3f5f\"},\"geo\":{\"bgcolor\":\"white\",\"lakecolor\":\"white\",\"landcolor\":\"#E5ECF6\",\"showlakes\":true,\"showland\":true,\"subunitcolor\":\"white\"},\"hoverlabel\":{\"align\":\"left\"},\"hovermode\":\"closest\",\"mapbox\":{\"style\":\"light\"},\"paper_bgcolor\":\"white\",\"plot_bgcolor\":\"#E5ECF6\",\"polar\":{\"angularaxis\":{\"gridcolor\":\"white\",\"linecolor\":\"white\",\"ticks\":\"\"},\"bgcolor\":\"#E5ECF6\",\"radialaxis\":{\"gridcolor\":\"white\",\"linecolor\":\"white\",\"ticks\":\"\"}},\"scene\":{\"xaxis\":{\"backgroundcolor\":\"#E5ECF6\",\"gridcolor\":\"white\",\"gridwidth\":2,\"linecolor\":\"white\",\"showbackground\":true,\"ticks\":\"\",\"zerolinecolor\":\"white\"},\"yaxis\":{\"backgroundcolor\":\"#E5ECF6\",\"gridcolor\":\"white\",\"gridwidth\":2,\"linecolor\":\"white\",\"showbackground\":true,\"ticks\":\"\",\"zerolinecolor\":\"white\"},\"zaxis\":{\"backgroundcolor\":\"#E5ECF6\",\"gridcolor\":\"white\",\"gridwidth\":2,\"linecolor\":\"white\",\"showbackground\":true,\"ticks\":\"\",\"zerolinecolor\":\"white\"}},\"shapedefaults\":{\"line\":{\"color\":\"#2a3f5f\"}},\"ternary\":{\"aaxis\":{\"gridcolor\":\"white\",\"linecolor\":\"white\",\"ticks\":\"\"},\"baxis\":{\"gridcolor\":\"white\",\"linecolor\":\"white\",\"ticks\":\"\"},\"bgcolor\":\"#E5ECF6\",\"caxis\":{\"gridcolor\":\"white\",\"linecolor\":\"white\",\"ticks\":\"\"}},\"title\":{\"x\":0.05},\"xaxis\":{\"automargin\":true,\"gridcolor\":\"white\",\"linecolor\":\"white\",\"ticks\":\"\",\"title\":{\"standoff\":15},\"zerolinecolor\":\"white\",\"zerolinewidth\":2},\"yaxis\":{\"automargin\":true,\"gridcolor\":\"white\",\"linecolor\":\"white\",\"ticks\":\"\",\"title\":{\"standoff\":15},\"zerolinecolor\":\"white\",\"zerolinewidth\":2}}},\"title\":{\"font\":{\"size\":22},\"text\":\"Evolution of the word brittney over time\",\"x\":0.5},\"xaxis\":{\"title\":{\"text\":\"X\"}},\"yaxis\":{\"title\":{\"text\":\"Y\"}}},                        {\"responsive\": true}                    ).then(function(){\n                            \nvar gd = document.getElementById('60b2791c-77a6-4ab8-a5dc-9323ef24a498');\nvar x = new MutationObserver(function (mutations, observer) {{\n        var display = window.getComputedStyle(gd).display;\n        if (!display || display === 'none') {{\n            console.log([gd, 'removed!']);\n            Plotly.purge(gd);\n            observer.disconnect();\n        }}\n}});\n\n// Listen for the removal of the full notebook cells\nvar notebookContainer = gd.closest('#notebook-container');\nif (notebookContainer) {{\n    x.observe(notebookContainer, {childList: true});\n}}\n\n// Listen for the clearing of the current output cell\nvar outputEl = gd.closest('.output');\nif (outputEl) {{\n    x.observe(outputEl, {childList: true});\n}}\n\n                        })                };                });            </script>        </div>"
     },
     "metadata": {},
     "output_type": "display_data"
    }
   ],
   "source": [
    "plot_temporal_changing_embedding(target_word_griner, selected_models_monthly_griner, top_n=3, title=title_griner, subtitle=subtitle_griner, use_tsne=False)"
   ],
   "metadata": {
    "collapsed": false
   }
  },
  {
   "cell_type": "markdown",
   "source": [
    "### Cosine similarities"
   ],
   "metadata": {
    "collapsed": false
   }
  },
  {
   "cell_type": "code",
   "execution_count": 20,
   "outputs": [],
   "source": [
    "test_words_griner = [\"russia\", \"karen\", \"putin\"]"
   ],
   "metadata": {
    "collapsed": false
   }
  },
  {
   "cell_type": "code",
   "execution_count": 21,
   "outputs": [
    {
     "data": {
      "text/plain": "<Figure size 1000x600 with 1 Axes>",
      "image/png": "[encoded data removed]"
     },
     "metadata": {},
     "output_type": "display_data"
    }
   ],
   "source": [
    "plot_cosine_similarity(target_word_griner, test_words_griner, selected_models_monthly_griner, event=\"dec\", event_name=\"Brittney Griner is released from prison\")"
   ],
   "metadata": {
    "collapsed": false
   }
  },
  {
   "cell_type": "markdown",
   "source": [
    "### TPPMI"
   ],
   "metadata": {
    "collapsed": false
   }
  },
  {
   "cell_type": "code",
   "execution_count": 22,
   "outputs": [
    {
     "name": "stdout",
     "output_type": "stream",
     "text": [
      "All words are contained in the vocabulary\n",
      "putin - not in vocab of timestep: 07\n",
      "brittney - not in vocab of timestep: 06\n",
      "brittney - not in vocab of timestep: 07\n",
      "brittney - not in vocab of timestep: 08\n"
     ]
    }
   ],
   "source": [
    "target_word_griner = \"brittney\"\n",
    "selected_months = [6, 7, 8]\n",
    "tppmi_griner = tppmi_model.get_tppmi(test_words_griner + [target_word_griner], selected_months=selected_months)"
   ],
   "metadata": {
    "collapsed": false
   }
  },
  {
   "cell_type": "code",
   "execution_count": 23,
   "outputs": [
    {
     "name": "stdout",
     "output_type": "stream",
     "text": [
      "All words are contained in the vocabulary\n",
      "brittney - not in vocab of timestep: 06\n",
      "brittney - not in vocab of timestep: 07\n",
      "brittney - not in vocab of timestep: 08\n",
      "putin - not in vocab of timestep: 07\n",
      "victor - not in vocab of timestep: 06\n",
      "victor - not in vocab of timestep: 08\n"
     ]
    },
    {
     "data": {
      "text/html": "        <script type=\"text/javascript\">\n        window.PlotlyConfig = {MathJaxConfig: 'local'};\n        if (window.MathJax && window.MathJax.Hub && window.MathJax.Hub.Config) {window.MathJax.Hub.Config({SVG: {font: \"STIX-Web\"}});}\n        if (typeof require !== 'undefined') {\n        require.undef(\"plotly\");\n        requirejs.config({\n            paths: {\n                'plotly': ['https://cdn.plot.ly/plotly-2.25.2.min']\n            }\n        });\n        require(['plotly'], function(Plotly) {\n            window._Plotly = Plotly;\n        });\n        }\n        </script>\n        "
     },
     "metadata": {},
     "output_type": "display_data"
    },
    {
     "data": {
      "application/vnd.plotly.v1+json": {
       "data": [
        {
         "marker": {
          "color": "#EF553B"
         },
         "mode": "markers+text",
         "name": "brittney",
         "showlegend": false,
         "text": [
          "brittney"
         ],
         "textposition": "top center",
         "x": [
          1.847151416830563
         ],
         "y": [
          -0.29354081477264565
         ],
         "type": "scatter"
        },
        {
         "marker": {
          "color": "#EF553B",
          "size": 10,
          "symbol": "diamond"
         },
         "mode": "markers",
         "showlegend": false,
         "x": [
          1.847151416830563
         ],
         "y": [
          -0.29354081477264565
         ],
         "type": "scatter"
        },
        {
         "marker": {
          "color": "#EF553B"
         },
         "mode": "markers+text",
         "name": "brittney",
         "showlegend": false,
         "text": [
          "brittney"
         ],
         "textposition": "top center",
         "x": [
          1.8471514168305654
         ],
         "y": [
          -0.29354081477264443
         ],
         "type": "scatter"
        },
        {
         "line": {
          "color": "#EF553B",
          "width": 1
         },
         "mode": "lines",
         "showlegend": false,
         "x": [
          1.847151416830563,
          1.8471514168305654
         ],
         "y": [
          -0.29354081477264565,
          -0.29354081477264443
         ],
         "type": "scatter"
        },
        {
         "marker": {
          "color": "#EF553B"
         },
         "mode": "markers+text",
         "name": "brittney",
         "showlegend": false,
         "text": [
          "brittney"
         ],
         "textposition": "top center",
         "x": [
          1.8471514168305594
         ],
         "y": [
          -0.2935408147726469
         ],
         "type": "scatter"
        },
        {
         "line": {
          "color": "#EF553B",
          "width": 1
         },
         "mode": "lines",
         "showlegend": false,
         "x": [
          1.8471514168305654,
          1.8471514168305594
         ],
         "y": [
          -0.29354081477264443,
          -0.2935408147726469
         ],
         "type": "scatter"
        },
        {
         "marker": {
          "color": "#00CC96"
         },
         "mode": "markers+text",
         "name": "putin",
         "showlegend": false,
         "text": [
          "putin"
         ],
         "textposition": "top center",
         "x": [
          -14.820220202400657
         ],
         "y": [
          22.24835684361253
         ],
         "type": "scatter"
        },
        {
         "marker": {
          "color": "#00CC96",
          "size": 10,
          "symbol": "diamond"
         },
         "mode": "markers",
         "showlegend": false,
         "x": [
          -14.820220202400657
         ],
         "y": [
          22.24835684361253
         ],
         "type": "scatter"
        },
        {
         "marker": {
          "color": "#00CC96"
         },
         "mode": "markers+text",
         "name": "putin",
         "showlegend": false,
         "text": [
          "putin"
         ],
         "textposition": "top center",
         "x": [
          1.847151416830563
         ],
         "y": [
          -0.2935408147726455
         ],
         "type": "scatter"
        },
        {
         "line": {
          "color": "#00CC96",
          "width": 1
         },
         "mode": "lines",
         "showlegend": false,
         "x": [
          -14.820220202400657,
          1.847151416830563
         ],
         "y": [
          22.24835684361253,
          -0.2935408147726455
         ],
         "type": "scatter"
        },
        {
         "marker": {
          "color": "#00CC96"
         },
         "mode": "markers+text",
         "name": "putin",
         "showlegend": false,
         "text": [
          "putin"
         ],
         "textposition": "top center",
         "x": [
          -16.71396694300382
         ],
         "y": [
          -20.233055288095958
         ],
         "type": "scatter"
        },
        {
         "line": {
          "color": "#00CC96",
          "width": 1
         },
         "mode": "lines",
         "showlegend": false,
         "x": [
          1.847151416830563,
          -16.71396694300382
         ],
         "y": [
          -0.2935408147726455,
          -20.233055288095958
         ],
         "type": "scatter"
        },
        {
         "marker": {
          "color": "#636EFA"
         },
         "mode": "markers+text",
         "name": "victor",
         "showlegend": false,
         "text": [
          "victor"
         ],
         "textposition": "top center",
         "x": [
          1.847151416830563
         ],
         "y": [
          -0.2935408147726455
         ],
         "type": "scatter"
        },
        {
         "marker": {
          "color": "#636EFA",
          "size": 10,
          "symbol": "diamond"
         },
         "mode": "markers",
         "showlegend": false,
         "x": [
          1.847151416830563
         ],
         "y": [
          -0.2935408147726455
         ],
         "type": "scatter"
        },
        {
         "marker": {
          "color": "#636EFA"
         },
         "mode": "markers+text",
         "name": "victor",
         "showlegend": false,
         "text": [
          "victor"
         ],
         "textposition": "top center",
         "x": [
          20.45127864442109
         ],
         "y": [
          -0.254056666880691
         ],
         "type": "scatter"
        },
        {
         "line": {
          "color": "#636EFA",
          "width": 1
         },
         "mode": "lines",
         "showlegend": false,
         "x": [
          1.847151416830563,
          20.45127864442109
         ],
         "y": [
          -0.2935408147726455,
          -0.254056666880691
         ],
         "type": "scatter"
        },
        {
         "marker": {
          "color": "#636EFA"
         },
         "mode": "markers+text",
         "name": "victor",
         "showlegend": false,
         "text": [
          "victor"
         ],
         "textposition": "top center",
         "x": [
          1.847151416830563
         ],
         "y": [
          -0.2935408147726455
         ],
         "type": "scatter"
        },
        {
         "line": {
          "color": "#636EFA",
          "width": 1
         },
         "mode": "lines",
         "showlegend": false,
         "x": [
          20.45127864442109,
          1.847151416830563
         ],
         "y": [
          -0.254056666880691,
          -0.2935408147726455
         ],
         "type": "scatter"
        }
       ],
       "layout": {
        "legend": {
         "x": 1.02,
         "y": 1.0
        },
        "template": {
         "data": {
          "barpolar": [
           {
            "marker": {
             "line": {
              "color": "#E5ECF6",
              "width": 0.5
             },
             "pattern": {
              "fillmode": "overlay",
              "size": 10,
              "solidity": 0.2
             }
            },
            "type": "barpolar"
           }
          ],
          "bar": [
           {
            "error_x": {
             "color": "#2a3f5f"
            },
            "error_y": {
             "color": "#2a3f5f"
            },
            "marker": {
             "line": {
              "color": "#E5ECF6",
              "width": 0.5
             },
             "pattern": {
              "fillmode": "overlay",
              "size": 10,
              "solidity": 0.2
             }
            },
            "type": "bar"
           }
          ],
          "carpet": [
           {
            "aaxis": {
             "endlinecolor": "#2a3f5f",
             "gridcolor": "white",
             "linecolor": "white",
             "minorgridcolor": "white",
             "startlinecolor": "#2a3f5f"
            },
            "baxis": {
             "endlinecolor": "#2a3f5f",
             "gridcolor": "white",
             "linecolor": "white",
             "minorgridcolor": "white",
             "startlinecolor": "#2a3f5f"
            },
            "type": "carpet"
           }
          ],
          "choropleth": [
           {
            "colorbar": {
             "outlinewidth": 0,
             "ticks": ""
            },
            "type": "choropleth"
           }
          ],
          "contourcarpet": [
           {
            "colorbar": {
             "outlinewidth": 0,
             "ticks": ""
            },
            "type": "contourcarpet"
           }
          ],
          "contour": [
           {
            "colorbar": {
             "outlinewidth": 0,
             "ticks": ""
            },
            "colorscale": [
             [
              0.0,
              "#0d0887"
             ],
             [
              0.1111111111111111,
              "#46039f"
             ],
             [
              0.2222222222222222,
              "#7201a8"
             ],
             [
              0.3333333333333333,
              "#9c179e"
             ],
             [
              0.4444444444444444,
              "#bd3786"
             ],
             [
              0.5555555555555556,
              "#d8576b"
             ],
             [
              0.6666666666666666,
              "#ed7953"
             ],
             [
              0.7777777777777778,
              "#fb9f3a"
             ],
             [
              0.8888888888888888,
              "#fdca26"
             ],
             [
              1.0,
              "#f0f921"
             ]
            ],
            "type": "contour"
           }
          ],
          "heatmapgl": [
           {
            "colorbar": {
             "outlinewidth": 0,
             "ticks": ""
            },
            "colorscale": [
             [
              0.0,
              "#0d0887"
             ],
             [
              0.1111111111111111,
              "#46039f"
             ],
             [
              0.2222222222222222,
              "#7201a8"
             ],
             [
              0.3333333333333333,
              "#9c179e"
             ],
             [
              0.4444444444444444,
              "#bd3786"
             ],
             [
              0.5555555555555556,
              "#d8576b"
             ],
             [
              0.6666666666666666,
              "#ed7953"
             ],
             [
              0.7777777777777778,
              "#fb9f3a"
             ],
             [
              0.8888888888888888,
              "#fdca26"
             ],
             [
              1.0,
              "#f0f921"
             ]
            ],
            "type": "heatmapgl"
           }
          ],
          "heatmap": [
           {
            "colorbar": {
             "outlinewidth": 0,
             "ticks": ""
            },
            "colorscale": [
             [
              0.0,
              "#0d0887"
             ],
             [
              0.1111111111111111,
              "#46039f"
             ],
             [
              0.2222222222222222,
              "#7201a8"
             ],
             [
              0.3333333333333333,
              "#9c179e"
             ],
             [
              0.4444444444444444,
              "#bd3786"
             ],
             [
              0.5555555555555556,
              "#d8576b"
             ],
             [
              0.6666666666666666,
              "#ed7953"
             ],
             [
              0.7777777777777778,
              "#fb9f3a"
             ],
             [
              0.8888888888888888,
              "#fdca26"
             ],
             [
              1.0,
              "#f0f921"
             ]
            ],
            "type": "heatmap"
           }
          ],
          "histogram2dcontour": [
           {
            "colorbar": {
             "outlinewidth": 0,
             "ticks": ""
            },
            "colorscale": [
             [
              0.0,
              "#0d0887"
             ],
             [
              0.1111111111111111,
              "#46039f"
             ],
             [
              0.2222222222222222,
              "#7201a8"
             ],
             [
              0.3333333333333333,
              "#9c179e"
             ],
             [
              0.4444444444444444,
              "#bd3786"
             ],
             [
              0.5555555555555556,
              "#d8576b"
             ],
             [
              0.6666666666666666,
              "#ed7953"
             ],
             [
              0.7777777777777778,
              "#fb9f3a"
             ],
             [
              0.8888888888888888,
              "#fdca26"
             ],
             [
              1.0,
              "#f0f921"
             ]
            ],
            "type": "histogram2dcontour"
           }
          ],
          "histogram2d": [
           {
            "colorbar": {
             "outlinewidth": 0,
             "ticks": ""
            },
            "colorscale": [
             [
              0.0,
              "#0d0887"
             ],
             [
              0.1111111111111111,
              "#46039f"
             ],
             [
              0.2222222222222222,
              "#7201a8"
             ],
             [
              0.3333333333333333,
              "#9c179e"
             ],
             [
              0.4444444444444444,
              "#bd3786"
             ],
             [
              0.5555555555555556,
              "#d8576b"
             ],
             [
              0.6666666666666666,
              "#ed7953"
             ],
             [
              0.7777777777777778,
              "#fb9f3a"
             ],
             [
              0.8888888888888888,
              "#fdca26"
             ],
             [
              1.0,
              "#f0f921"
             ]
            ],
            "type": "histogram2d"
           }
          ],
          "histogram": [
           {
            "marker": {
             "pattern": {
              "fillmode": "overlay",
              "size": 10,
              "solidity": 0.2
             }
            },
            "type": "histogram"
           }
          ],
          "mesh3d": [
           {
            "colorbar": {
             "outlinewidth": 0,
             "ticks": ""
            },
            "type": "mesh3d"
           }
          ],
          "parcoords": [
           {
            "line": {
             "colorbar": {
              "outlinewidth": 0,
              "ticks": ""
             }
            },
            "type": "parcoords"
           }
          ],
          "pie": [
           {
            "automargin": true,
            "type": "pie"
           }
          ],
          "scatter3d": [
           {
            "line": {
             "colorbar": {
              "outlinewidth": 0,
              "ticks": ""
             }
            },
            "marker": {
             "colorbar": {
              "outlinewidth": 0,
              "ticks": ""
             }
            },
            "type": "scatter3d"
           }
          ],
          "scattercarpet": [
           {
            "marker": {
             "colorbar": {
              "outlinewidth": 0,
              "ticks": ""
             }
            },
            "type": "scattercarpet"
           }
          ],
          "scattergeo": [
           {
            "marker": {
             "colorbar": {
              "outlinewidth": 0,
              "ticks": ""
             }
            },
            "type": "scattergeo"
           }
          ],
          "scattergl": [
           {
            "marker": {
             "colorbar": {
              "outlinewidth": 0,
              "ticks": ""
             }
            },
            "type": "scattergl"
           }
          ],
          "scattermapbox": [
           {
            "marker": {
             "colorbar": {
              "outlinewidth": 0,
              "ticks": ""
             }
            },
            "type": "scattermapbox"
           }
          ],
          "scatterpolargl": [
           {
            "marker": {
             "colorbar": {
              "outlinewidth": 0,
              "ticks": ""
             }
            },
            "type": "scatterpolargl"
           }
          ],
          "scatterpolar": [
           {
            "marker": {
             "colorbar": {
              "outlinewidth": 0,
              "ticks": ""
             }
            },
            "type": "scatterpolar"
           }
          ],
          "scatter": [
           {
            "fillpattern": {
             "fillmode": "overlay",
             "size": 10,
             "solidity": 0.2
            },
            "type": "scatter"
           }
          ],
          "scatterternary": [
           {
            "marker": {
             "colorbar": {
              "outlinewidth": 0,
              "ticks": ""
             }
            },
            "type": "scatterternary"
           }
          ],
          "surface": [
           {
            "colorbar": {
             "outlinewidth": 0,
             "ticks": ""
            },
            "colorscale": [
             [
              0.0,
              "#0d0887"
             ],
             [
              0.1111111111111111,
              "#46039f"
             ],
             [
              0.2222222222222222,
              "#7201a8"
             ],
             [
              0.3333333333333333,
              "#9c179e"
             ],
             [
              0.4444444444444444,
              "#bd3786"
             ],
             [
              0.5555555555555556,
              "#d8576b"
             ],
             [
              0.6666666666666666,
              "#ed7953"
             ],
             [
              0.7777777777777778,
              "#fb9f3a"
             ],
             [
              0.8888888888888888,
              "#fdca26"
             ],
             [
              1.0,
              "#f0f921"
             ]
            ],
            "type": "surface"
           }
          ],
          "table": [
           {
            "cells": {
             "fill": {
              "color": "#EBF0F8"
             },
             "line": {
              "color": "white"
             }
            },
            "header": {
             "fill": {
              "color": "#C8D4E3"
             },
             "line": {
              "color": "white"
             }
            },
            "type": "table"
           }
          ]
         },
         "layout": {
          "annotationdefaults": {
           "arrowcolor": "#2a3f5f",
           "arrowhead": 0,
           "arrowwidth": 1
          },
          "autotypenumbers": "strict",
          "coloraxis": {
           "colorbar": {
            "outlinewidth": 0,
            "ticks": ""
           }
          },
          "colorscale": {
           "diverging": [
            [
             0,
             "#8e0152"
            ],
            [
             0.1,
             "#c51b7d"
            ],
            [
             0.2,
             "#de77ae"
            ],
            [
             0.3,
             "#f1b6da"
            ],
            [
             0.4,
             "#fde0ef"
            ],
            [
             0.5,
             "#f7f7f7"
            ],
            [
             0.6,
             "#e6f5d0"
            ],
            [
             0.7,
             "#b8e186"
            ],
            [
             0.8,
             "#7fbc41"
            ],
            [
             0.9,
             "#4d9221"
            ],
            [
             1,
             "#276419"
            ]
           ],
           "sequential": [
            [
             0.0,
             "#0d0887"
            ],
            [
             0.1111111111111111,
             "#46039f"
            ],
            [
             0.2222222222222222,
             "#7201a8"
            ],
            [
             0.3333333333333333,
             "#9c179e"
            ],
            [
             0.4444444444444444,
             "#bd3786"
            ],
            [
             0.5555555555555556,
             "#d8576b"
            ],
            [
             0.6666666666666666,
             "#ed7953"
            ],
            [
             0.7777777777777778,
             "#fb9f3a"
            ],
            [
             0.8888888888888888,
             "#fdca26"
            ],
            [
             1.0,
             "#f0f921"
            ]
           ],
           "sequentialminus": [
            [
             0.0,
             "#0d0887"
            ],
            [
             0.1111111111111111,
             "#46039f"
            ],
            [
             0.2222222222222222,
             "#7201a8"
            ],
            [
             0.3333333333333333,
             "#9c179e"
            ],
            [
             0.4444444444444444,
             "#bd3786"
            ],
            [
             0.5555555555555556,
             "#d8576b"
            ],
            [
             0.6666666666666666,
             "#ed7953"
            ],
            [
             0.7777777777777778,
             "#fb9f3a"
            ],
            [
             0.8888888888888888,
             "#fdca26"
            ],
            [
             1.0,
             "#f0f921"
            ]
           ]
          },
          "colorway": [
           "#636efa",
           "#EF553B",
           "#00cc96",
           "#ab63fa",
           "#FFA15A",
           "#19d3f3",
           "#FF6692",
           "#B6E880",
           "#FF97FF",
           "#FECB52"
          ],
          "font": {
           "color": "#2a3f5f"
          },
          "geo": {
           "bgcolor": "white",
           "lakecolor": "white",
           "landcolor": "#E5ECF6",
           "showlakes": true,
           "showland": true,
           "subunitcolor": "white"
          },
          "hoverlabel": {
           "align": "left"
          },
          "hovermode": "closest",
          "mapbox": {
           "style": "light"
          },
          "paper_bgcolor": "white",
          "plot_bgcolor": "#E5ECF6",
          "polar": {
           "angularaxis": {
            "gridcolor": "white",
            "linecolor": "white",
            "ticks": ""
           },
           "bgcolor": "#E5ECF6",
           "radialaxis": {
            "gridcolor": "white",
            "linecolor": "white",
            "ticks": ""
           }
          },
          "scene": {
           "xaxis": {
            "backgroundcolor": "#E5ECF6",
            "gridcolor": "white",
            "gridwidth": 2,
            "linecolor": "white",
            "showbackground": true,
            "ticks": "",
            "zerolinecolor": "white"
           },
           "yaxis": {
            "backgroundcolor": "#E5ECF6",
            "gridcolor": "white",
            "gridwidth": 2,
            "linecolor": "white",
            "showbackground": true,
            "ticks": "",
            "zerolinecolor": "white"
           },
           "zaxis": {
            "backgroundcolor": "#E5ECF6",
            "gridcolor": "white",
            "gridwidth": 2,
            "linecolor": "white",
            "showbackground": true,
            "ticks": "",
            "zerolinecolor": "white"
           }
          },
          "shapedefaults": {
           "line": {
            "color": "#2a3f5f"
           }
          },
          "ternary": {
           "aaxis": {
            "gridcolor": "white",
            "linecolor": "white",
            "ticks": ""
           },
           "baxis": {
            "gridcolor": "white",
            "linecolor": "white",
            "ticks": ""
           },
           "bgcolor": "#E5ECF6",
           "caxis": {
            "gridcolor": "white",
            "linecolor": "white",
            "ticks": ""
           }
          },
          "title": {
           "x": 0.05
          },
          "xaxis": {
           "automargin": true,
           "gridcolor": "white",
           "linecolor": "white",
           "ticks": "",
           "title": {
            "standoff": 15
           },
           "zerolinecolor": "white",
           "zerolinewidth": 2
          },
          "yaxis": {
           "automargin": true,
           "gridcolor": "white",
           "linecolor": "white",
           "ticks": "",
           "title": {
            "standoff": 15
           },
           "zerolinecolor": "white",
           "zerolinewidth": 2
          }
         }
        },
        "title": {
         "text": "2D Visualization of Word Vectors"
        },
        "xaxis": {
         "range": [
          -50,
          50
         ],
         "title": {
          "text": "PC1"
         }
        },
        "yaxis": {
         "range": [
          -50,
          50
         ],
         "title": {
          "text": "PC2"
         }
        }
       },
       "config": {
        "showLink": false,
        "linkText": "Export to plot.ly",
        "plotlyServerURL": "https://plot.ly"
       }
      },
      "text/html": "<div>                            <div id=\"2376d3bb-5bba-4599-9491-538c5dba862d\" class=\"plotly-graph-div\" style=\"height:525px; width:100%;\"></div>            <script type=\"text/javascript\">                require([\"plotly\"], function(Plotly) {                    window.PLOTLYENV=window.PLOTLYENV || {};                                    if (document.getElementById(\"2376d3bb-5bba-4599-9491-538c5dba862d\")) {                    Plotly.newPlot(                        \"2376d3bb-5bba-4599-9491-538c5dba862d\",                        [{\"marker\":{\"color\":\"#EF553B\"},\"mode\":\"markers+text\",\"name\":\"brittney\",\"showlegend\":false,\"text\":[\"brittney\"],\"textposition\":\"top center\",\"x\":[1.847151416830563],\"y\":[-0.29354081477264565],\"type\":\"scatter\"},{\"marker\":{\"color\":\"#EF553B\",\"size\":10,\"symbol\":\"diamond\"},\"mode\":\"markers\",\"showlegend\":false,\"x\":[1.847151416830563],\"y\":[-0.29354081477264565],\"type\":\"scatter\"},{\"marker\":{\"color\":\"#EF553B\"},\"mode\":\"markers+text\",\"name\":\"brittney\",\"showlegend\":false,\"text\":[\"brittney\"],\"textposition\":\"top center\",\"x\":[1.8471514168305654],\"y\":[-0.29354081477264443],\"type\":\"scatter\"},{\"line\":{\"color\":\"#EF553B\",\"width\":1},\"mode\":\"lines\",\"showlegend\":false,\"x\":[1.847151416830563,1.8471514168305654],\"y\":[-0.29354081477264565,-0.29354081477264443],\"type\":\"scatter\"},{\"marker\":{\"color\":\"#EF553B\"},\"mode\":\"markers+text\",\"name\":\"brittney\",\"showlegend\":false,\"text\":[\"brittney\"],\"textposition\":\"top center\",\"x\":[1.8471514168305594],\"y\":[-0.2935408147726469],\"type\":\"scatter\"},{\"line\":{\"color\":\"#EF553B\",\"width\":1},\"mode\":\"lines\",\"showlegend\":false,\"x\":[1.8471514168305654,1.8471514168305594],\"y\":[-0.29354081477264443,-0.2935408147726469],\"type\":\"scatter\"},{\"marker\":{\"color\":\"#00CC96\"},\"mode\":\"markers+text\",\"name\":\"putin\",\"showlegend\":false,\"text\":[\"putin\"],\"textposition\":\"top center\",\"x\":[-14.820220202400657],\"y\":[22.24835684361253],\"type\":\"scatter\"},{\"marker\":{\"color\":\"#00CC96\",\"size\":10,\"symbol\":\"diamond\"},\"mode\":\"markers\",\"showlegend\":false,\"x\":[-14.820220202400657],\"y\":[22.24835684361253],\"type\":\"scatter\"},{\"marker\":{\"color\":\"#00CC96\"},\"mode\":\"markers+text\",\"name\":\"putin\",\"showlegend\":false,\"text\":[\"putin\"],\"textposition\":\"top center\",\"x\":[1.847151416830563],\"y\":[-0.2935408147726455],\"type\":\"scatter\"},{\"line\":{\"color\":\"#00CC96\",\"width\":1},\"mode\":\"lines\",\"showlegend\":false,\"x\":[-14.820220202400657,1.847151416830563],\"y\":[22.24835684361253,-0.2935408147726455],\"type\":\"scatter\"},{\"marker\":{\"color\":\"#00CC96\"},\"mode\":\"markers+text\",\"name\":\"putin\",\"showlegend\":false,\"text\":[\"putin\"],\"textposition\":\"top center\",\"x\":[-16.71396694300382],\"y\":[-20.233055288095958],\"type\":\"scatter\"},{\"line\":{\"color\":\"#00CC96\",\"width\":1},\"mode\":\"lines\",\"showlegend\":false,\"x\":[1.847151416830563,-16.71396694300382],\"y\":[-0.2935408147726455,-20.233055288095958],\"type\":\"scatter\"},{\"marker\":{\"color\":\"#636EFA\"},\"mode\":\"markers+text\",\"name\":\"victor\",\"showlegend\":false,\"text\":[\"victor\"],\"textposition\":\"top center\",\"x\":[1.847151416830563],\"y\":[-0.2935408147726455],\"type\":\"scatter\"},{\"marker\":{\"color\":\"#636EFA\",\"size\":10,\"symbol\":\"diamond\"},\"mode\":\"markers\",\"showlegend\":false,\"x\":[1.847151416830563],\"y\":[-0.2935408147726455],\"type\":\"scatter\"},{\"marker\":{\"color\":\"#636EFA\"},\"mode\":\"markers+text\",\"name\":\"victor\",\"showlegend\":false,\"text\":[\"victor\"],\"textposition\":\"top center\",\"x\":[20.45127864442109],\"y\":[-0.254056666880691],\"type\":\"scatter\"},{\"line\":{\"color\":\"#636EFA\",\"width\":1},\"mode\":\"lines\",\"showlegend\":false,\"x\":[1.847151416830563,20.45127864442109],\"y\":[-0.2935408147726455,-0.254056666880691],\"type\":\"scatter\"},{\"marker\":{\"color\":\"#636EFA\"},\"mode\":\"markers+text\",\"name\":\"victor\",\"showlegend\":false,\"text\":[\"victor\"],\"textposition\":\"top center\",\"x\":[1.847151416830563],\"y\":[-0.2935408147726455],\"type\":\"scatter\"},{\"line\":{\"color\":\"#636EFA\",\"width\":1},\"mode\":\"lines\",\"showlegend\":false,\"x\":[20.45127864442109,1.847151416830563],\"y\":[-0.254056666880691,-0.2935408147726455],\"type\":\"scatter\"}],                        {\"legend\":{\"x\":1.02,\"y\":1.0},\"template\":{\"data\":{\"barpolar\":[{\"marker\":{\"line\":{\"color\":\"#E5ECF6\",\"width\":0.5},\"pattern\":{\"fillmode\":\"overlay\",\"size\":10,\"solidity\":0.2}},\"type\":\"barpolar\"}],\"bar\":[{\"error_x\":{\"color\":\"#2a3f5f\"},\"error_y\":{\"color\":\"#2a3f5f\"},\"marker\":{\"line\":{\"color\":\"#E5ECF6\",\"width\":0.5},\"pattern\":{\"fillmode\":\"overlay\",\"size\":10,\"solidity\":0.2}},\"type\":\"bar\"}],\"carpet\":[{\"aaxis\":{\"endlinecolor\":\"#2a3f5f\",\"gridcolor\":\"white\",\"linecolor\":\"white\",\"minorgridcolor\":\"white\",\"startlinecolor\":\"#2a3f5f\"},\"baxis\":{\"endlinecolor\":\"#2a3f5f\",\"gridcolor\":\"white\",\"linecolor\":\"white\",\"minorgridcolor\":\"white\",\"startlinecolor\":\"#2a3f5f\"},\"type\":\"carpet\"}],\"choropleth\":[{\"colorbar\":{\"outlinewidth\":0,\"ticks\":\"\"},\"type\":\"choropleth\"}],\"contourcarpet\":[{\"colorbar\":{\"outlinewidth\":0,\"ticks\":\"\"},\"type\":\"contourcarpet\"}],\"contour\":[{\"colorbar\":{\"outlinewidth\":0,\"ticks\":\"\"},\"colorscale\":[[0.0,\"#0d0887\"],[0.1111111111111111,\"#46039f\"],[0.2222222222222222,\"#7201a8\"],[0.3333333333333333,\"#9c179e\"],[0.4444444444444444,\"#bd3786\"],[0.5555555555555556,\"#d8576b\"],[0.6666666666666666,\"#ed7953\"],[0.7777777777777778,\"#fb9f3a\"],[0.8888888888888888,\"#fdca26\"],[1.0,\"#f0f921\"]],\"type\":\"contour\"}],\"heatmapgl\":[{\"colorbar\":{\"outlinewidth\":0,\"ticks\":\"\"},\"colorscale\":[[0.0,\"#0d0887\"],[0.1111111111111111,\"#46039f\"],[0.2222222222222222,\"#7201a8\"],[0.3333333333333333,\"#9c179e\"],[0.4444444444444444,\"#bd3786\"],[0.5555555555555556,\"#d8576b\"],[0.6666666666666666,\"#ed7953\"],[0.7777777777777778,\"#fb9f3a\"],[0.8888888888888888,\"#fdca26\"],[1.0,\"#f0f921\"]],\"type\":\"heatmapgl\"}],\"heatmap\":[{\"colorbar\":{\"outlinewidth\":0,\"ticks\":\"\"},\"colorscale\":[[0.0,\"#0d0887\"],[0.1111111111111111,\"#46039f\"],[0.2222222222222222,\"#7201a8\"],[0.3333333333333333,\"#9c179e\"],[0.4444444444444444,\"#bd3786\"],[0.5555555555555556,\"#d8576b\"],[0.6666666666666666,\"#ed7953\"],[0.7777777777777778,\"#fb9f3a\"],[0.8888888888888888,\"#fdca26\"],[1.0,\"#f0f921\"]],\"type\":\"heatmap\"}],\"histogram2dcontour\":[{\"colorbar\":{\"outlinewidth\":0,\"ticks\":\"\"},\"colorscale\":[[0.0,\"#0d0887\"],[0.1111111111111111,\"#46039f\"],[0.2222222222222222,\"#7201a8\"],[0.3333333333333333,\"#9c179e\"],[0.4444444444444444,\"#bd3786\"],[0.5555555555555556,\"#d8576b\"],[0.6666666666666666,\"#ed7953\"],[0.7777777777777778,\"#fb9f3a\"],[0.8888888888888888,\"#fdca26\"],[1.0,\"#f0f921\"]],\"type\":\"histogram2dcontour\"}],\"histogram2d\":[{\"colorbar\":{\"outlinewidth\":0,\"ticks\":\"\"},\"colorscale\":[[0.0,\"#0d0887\"],[0.1111111111111111,\"#46039f\"],[0.2222222222222222,\"#7201a8\"],[0.3333333333333333,\"#9c179e\"],[0.4444444444444444,\"#bd3786\"],[0.5555555555555556,\"#d8576b\"],[0.6666666666666666,\"#ed7953\"],[0.7777777777777778,\"#fb9f3a\"],[0.8888888888888888,\"#fdca26\"],[1.0,\"#f0f921\"]],\"type\":\"histogram2d\"}],\"histogram\":[{\"marker\":{\"pattern\":{\"fillmode\":\"overlay\",\"size\":10,\"solidity\":0.2}},\"type\":\"histogram\"}],\"mesh3d\":[{\"colorbar\":{\"outlinewidth\":0,\"ticks\":\"\"},\"type\":\"mesh3d\"}],\"parcoords\":[{\"line\":{\"colorbar\":{\"outlinewidth\":0,\"ticks\":\"\"}},\"type\":\"parcoords\"}],\"pie\":[{\"automargin\":true,\"type\":\"pie\"}],\"scatter3d\":[{\"line\":{\"colorbar\":{\"outlinewidth\":0,\"ticks\":\"\"}},\"marker\":{\"colorbar\":{\"outlinewidth\":0,\"ticks\":\"\"}},\"type\":\"scatter3d\"}],\"scattercarpet\":[{\"marker\":{\"colorbar\":{\"outlinewidth\":0,\"ticks\":\"\"}},\"type\":\"scattercarpet\"}],\"scattergeo\":[{\"marker\":{\"colorbar\":{\"outlinewidth\":0,\"ticks\":\"\"}},\"type\":\"scattergeo\"}],\"scattergl\":[{\"marker\":{\"colorbar\":{\"outlinewidth\":0,\"ticks\":\"\"}},\"type\":\"scattergl\"}],\"scattermapbox\":[{\"marker\":{\"colorbar\":{\"outlinewidth\":0,\"ticks\":\"\"}},\"type\":\"scattermapbox\"}],\"scatterpolargl\":[{\"marker\":{\"colorbar\":{\"outlinewidth\":0,\"ticks\":\"\"}},\"type\":\"scatterpolargl\"}],\"scatterpolar\":[{\"marker\":{\"colorbar\":{\"outlinewidth\":0,\"ticks\":\"\"}},\"type\":\"scatterpolar\"}],\"scatter\":[{\"fillpattern\":{\"fillmode\":\"overlay\",\"size\":10,\"solidity\":0.2},\"type\":\"scatter\"}],\"scatterternary\":[{\"marker\":{\"colorbar\":{\"outlinewidth\":0,\"ticks\":\"\"}},\"type\":\"scatterternary\"}],\"surface\":[{\"colorbar\":{\"outlinewidth\":0,\"ticks\":\"\"},\"colorscale\":[[0.0,\"#0d0887\"],[0.1111111111111111,\"#46039f\"],[0.2222222222222222,\"#7201a8\"],[0.3333333333333333,\"#9c179e\"],[0.4444444444444444,\"#bd3786\"],[0.5555555555555556,\"#d8576b\"],[0.6666666666666666,\"#ed7953\"],[0.7777777777777778,\"#fb9f3a\"],[0.8888888888888888,\"#fdca26\"],[1.0,\"#f0f921\"]],\"type\":\"surface\"}],\"table\":[{\"cells\":{\"fill\":{\"color\":\"#EBF0F8\"},\"line\":{\"color\":\"white\"}},\"header\":{\"fill\":{\"color\":\"#C8D4E3\"},\"line\":{\"color\":\"white\"}},\"type\":\"table\"}]},\"layout\":{\"annotationdefaults\":{\"arrowcolor\":\"#2a3f5f\",\"arrowhead\":0,\"arrowwidth\":1},\"autotypenumbers\":\"strict\",\"coloraxis\":{\"colorbar\":{\"outlinewidth\":0,\"ticks\":\"\"}},\"colorscale\":{\"diverging\":[[0,\"#8e0152\"],[0.1,\"#c51b7d\"],[0.2,\"#de77ae\"],[0.3,\"#f1b6da\"],[0.4,\"#fde0ef\"],[0.5,\"#f7f7f7\"],[0.6,\"#e6f5d0\"],[0.7,\"#b8e186\"],[0.8,\"#7fbc41\"],[0.9,\"#4d9221\"],[1,\"#276419\"]],\"sequential\":[[0.0,\"#0d0887\"],[0.1111111111111111,\"#46039f\"],[0.2222222222222222,\"#7201a8\"],[0.3333333333333333,\"#9c179e\"],[0.4444444444444444,\"#bd3786\"],[0.5555555555555556,\"#d8576b\"],[0.6666666666666666,\"#ed7953\"],[0.7777777777777778,\"#fb9f3a\"],[0.8888888888888888,\"#fdca26\"],[1.0,\"#f0f921\"]],\"sequentialminus\":[[0.0,\"#0d0887\"],[0.1111111111111111,\"#46039f\"],[0.2222222222222222,\"#7201a8\"],[0.3333333333333333,\"#9c179e\"],[0.4444444444444444,\"#bd3786\"],[0.5555555555555556,\"#d8576b\"],[0.6666666666666666,\"#ed7953\"],[0.7777777777777778,\"#fb9f3a\"],[0.8888888888888888,\"#fdca26\"],[1.0,\"#f0f921\"]]},\"colorway\":[\"#636efa\",\"#EF553B\",\"#00cc96\",\"#ab63fa\",\"#FFA15A\",\"#19d3f3\",\"#FF6692\",\"#B6E880\",\"#FF97FF\",\"#FECB52\"],\"font\":{\"color\":\"#2a3f5f\"},\"geo\":{\"bgcolor\":\"white\",\"lakecolor\":\"white\",\"landcolor\":\"#E5ECF6\",\"showlakes\":true,\"showland\":true,\"subunitcolor\":\"white\"},\"hoverlabel\":{\"align\":\"left\"},\"hovermode\":\"closest\",\"mapbox\":{\"style\":\"light\"},\"paper_bgcolor\":\"white\",\"plot_bgcolor\":\"#E5ECF6\",\"polar\":{\"angularaxis\":{\"gridcolor\":\"white\",\"linecolor\":\"white\",\"ticks\":\"\"},\"bgcolor\":\"#E5ECF6\",\"radialaxis\":{\"gridcolor\":\"white\",\"linecolor\":\"white\",\"ticks\":\"\"}},\"scene\":{\"xaxis\":{\"backgroundcolor\":\"#E5ECF6\",\"gridcolor\":\"white\",\"gridwidth\":2,\"linecolor\":\"white\",\"showbackground\":true,\"ticks\":\"\",\"zerolinecolor\":\"white\"},\"yaxis\":{\"backgroundcolor\":\"#E5ECF6\",\"gridcolor\":\"white\",\"gridwidth\":2,\"linecolor\":\"white\",\"showbackground\":true,\"ticks\":\"\",\"zerolinecolor\":\"white\"},\"zaxis\":{\"backgroundcolor\":\"#E5ECF6\",\"gridcolor\":\"white\",\"gridwidth\":2,\"linecolor\":\"white\",\"showbackground\":true,\"ticks\":\"\",\"zerolinecolor\":\"white\"}},\"shapedefaults\":{\"line\":{\"color\":\"#2a3f5f\"}},\"ternary\":{\"aaxis\":{\"gridcolor\":\"white\",\"linecolor\":\"white\",\"ticks\":\"\"},\"baxis\":{\"gridcolor\":\"white\",\"linecolor\":\"white\",\"ticks\":\"\"},\"bgcolor\":\"#E5ECF6\",\"caxis\":{\"gridcolor\":\"white\",\"linecolor\":\"white\",\"ticks\":\"\"}},\"title\":{\"x\":0.05},\"xaxis\":{\"automargin\":true,\"gridcolor\":\"white\",\"linecolor\":\"white\",\"ticks\":\"\",\"title\":{\"standoff\":15},\"zerolinecolor\":\"white\",\"zerolinewidth\":2},\"yaxis\":{\"automargin\":true,\"gridcolor\":\"white\",\"linecolor\":\"white\",\"ticks\":\"\",\"title\":{\"standoff\":15},\"zerolinecolor\":\"white\",\"zerolinewidth\":2}}},\"title\":{\"text\":\"2D Visualization of Word Vectors\"},\"xaxis\":{\"range\":[-50,50],\"title\":{\"text\":\"PC1\"}},\"yaxis\":{\"range\":[-50,50],\"title\":{\"text\":\"PC2\"}}},                        {\"responsive\": true}                    ).then(function(){\n                            \nvar gd = document.getElementById('2376d3bb-5bba-4599-9491-538c5dba862d');\nvar x = new MutationObserver(function (mutations, observer) {{\n        var display = window.getComputedStyle(gd).display;\n        if (!display || display === 'none') {{\n            console.log([gd, 'removed!']);\n            Plotly.purge(gd);\n            observer.disconnect();\n        }}\n}});\n\n// Listen for the removal of the full notebook cells\nvar notebookContainer = gd.closest('#notebook-container');\nif (notebookContainer) {{\n    x.observe(notebookContainer, {childList: true});\n}}\n\n// Listen for the clearing of the current output cell\nvar outputEl = gd.closest('.output');\nif (outputEl) {{\n    x.observe(outputEl, {childList: true});\n}}\n\n                        })                };                });            </script>        </div>"
     },
     "metadata": {},
     "output_type": "display_data"
    }
   ],
   "source": [
    "test_words_griner = [\"putin\", \"victor\"]\n",
    "plot_word_vectors_tppmi(tppmi_model.get_2d_representation([target_word_griner] + test_words_griner, selected_months=selected_months, use_tsne=False))"
   ],
   "metadata": {
    "collapsed": false
   }
  },
  {
   "cell_type": "code",
   "execution_count": 24,
   "outputs": [],
   "source": [
    "#plot_cosine_similarity_tppmi(target_word_griner, test_words_griner, tppmi_model, selected_months)"
   ],
   "metadata": {
    "collapsed": false
   }
  },
  {
   "cell_type": "markdown",
   "source": [
    "## Elon Musk Twitter takeover"
   ],
   "metadata": {
    "collapsed": false
   }
  },
  {
   "cell_type": "markdown",
   "source": [
    "### Overview"
   ],
   "metadata": {
    "collapsed": false
   }
  },
  {
   "cell_type": "markdown",
   "source": [
    "Business magnate Elon Musk initiated an acquisition of American social media company Twitter, Inc. on April 14, 2022, and concluded it on October 27, 2022. Musk had begun buying shares of the company in January 2022, becoming its largest shareholder by April with a 9.1 percent ownership stake\n",
    "\n",
    "source: [Wikipedia article](https://en.wikipedia.org/wiki/Acquisition_of_Twitter_by_Elon_Musk#:~:text=Business%20magnate%20Elon%20Musk%20initiated,a%209.1%20percent%20ownership%20stake.)"
   ],
   "metadata": {
    "collapsed": false
   }
  },
  {
   "cell_type": "code",
   "execution_count": 25,
   "outputs": [],
   "source": [
    "target_word_twitter = \"twitter\""
   ],
   "metadata": {
    "collapsed": false
   }
  },
  {
   "cell_type": "code",
   "execution_count": 26,
   "outputs": [],
   "source": [
    "selected_months_twitter = [\"sep\", \"oct\", \"nov\", \"dec\"]\n",
    "selected_models_monthly_twitter = {f\"model_{month}\": models_monthly[f\"model_{month}\"] for month in selected_months_twitter}"
   ],
   "metadata": {
    "collapsed": false
   }
  },
  {
   "cell_type": "code",
   "execution_count": 27,
   "outputs": [],
   "source": [
    "title_twitter = f\"Evolution of the word {target_word_twitter} over time\"\n",
    "subtitle_twitter = f\"Period: {' - '.join([month.capitalize() for month in selected_months_twitter])}\""
   ],
   "metadata": {
    "collapsed": false
   }
  },
  {
   "cell_type": "code",
   "execution_count": 28,
   "outputs": [
    {
     "name": "stdout",
     "output_type": "stream",
     "text": [
      "Word: twitter\n",
      "Month: Sep\n",
      "[('facebook', 0.9325878024101257), ('tweet', 0.8852959871292114), ('page', 0.8597615957260132)]\n",
      "--------------------------------\n",
      "Month: Oct\n",
      "[('facebook', 0.9247101545333862), ('instagram', 0.806344747543335), ('sms', 0.7980491518974304)]\n",
      "--------------------------------\n",
      "Month: Nov\n",
      "[('facebook', 0.8923001289367676), ('page', 0.7984558939933777), ('text', 0.7902756333351135)]\n",
      "--------------------------------\n",
      "Month: Dec\n",
      "[('facebook', 0.8520953059196472), ('musk', 0.8208754658699036), ('tweet', 0.7895939350128174)]\n",
      "--------------------------------\n"
     ]
    }
   ],
   "source": [
    "print_most_similar_cade(selected_models_monthly_twitter, target_word_twitter)"
   ],
   "metadata": {
    "collapsed": false
   }
  },
  {
   "cell_type": "markdown",
   "source": [
    "### Temporaly changing embeddings"
   ],
   "metadata": {
    "collapsed": false
   }
  },
  {
   "cell_type": "code",
   "execution_count": 29,
   "outputs": [
    {
     "data": {
      "text/html": "        <script type=\"text/javascript\">\n        window.PlotlyConfig = {MathJaxConfig: 'local'};\n        if (window.MathJax && window.MathJax.Hub && window.MathJax.Hub.Config) {window.MathJax.Hub.Config({SVG: {font: \"STIX-Web\"}});}\n        if (typeof require !== 'undefined') {\n        require.undef(\"plotly\");\n        requirejs.config({\n            paths: {\n                'plotly': ['https://cdn.plot.ly/plotly-2.25.2.min']\n            }\n        });\n        require(['plotly'], function(Plotly) {\n            window._Plotly = Plotly;\n        });\n        }\n        </script>\n        "
     },
     "metadata": {},
     "output_type": "display_data"
    },
    {
     "data": {
      "application/vnd.plotly.v1+json": {
       "data": [
        {
         "marker": {
          "color": "black"
         },
         "mode": "markers+text",
         "text": [
          "facebook"
         ],
         "textfont": {
          "color": "black"
         },
         "textposition": "top center",
         "x": [
          0.22244156897068024
         ],
         "y": [
          1.395979404449463
         ],
         "type": "scatter"
        },
        {
         "marker": {
          "color": "black"
         },
         "mode": "markers+text",
         "text": [
          "tweet"
         ],
         "textfont": {
          "color": "black"
         },
         "textposition": "top center",
         "x": [
          1.0982789993286133
         ],
         "y": [
          -0.8940282464027405
         ],
         "type": "scatter"
        },
        {
         "marker": {
          "color": "red"
         },
         "mode": "markers+text",
         "text": [
          "twitter_sep"
         ],
         "textfont": {
          "color": "red"
         },
         "textposition": "top center",
         "x": [
          -1.3207205533981323
         ],
         "y": [
          -0.5019510984420776
         ],
         "type": "scatter"
        },
        {
         "marker": {
          "color": "black"
         },
         "mode": "markers+text",
         "text": [
          "facebook"
         ],
         "textfont": {
          "color": "black"
         },
         "textposition": "top center",
         "x": [
          1.2081375122070312
         ],
         "y": [
          -0.7339012026786804
         ],
         "type": "scatter"
        },
        {
         "marker": {
          "color": "black"
         },
         "mode": "markers+text",
         "text": [
          "instagram"
         ],
         "textfont": {
          "color": "black"
         },
         "textposition": "top center",
         "x": [
          -1.240702748298645
         ],
         "y": [
          -0.6799695491790771
         ],
         "type": "scatter"
        },
        {
         "marker": {
          "color": "red"
         },
         "mode": "markers+text",
         "text": [
          "twitter_oct"
         ],
         "textfont": {
          "color": "red"
         },
         "textposition": "top center",
         "x": [
          0.03256522864103317
         ],
         "y": [
          1.4138706922531128
         ],
         "type": "scatter"
        },
        {
         "marker": {
          "color": "black"
         },
         "mode": "markers+text",
         "text": [
          "facebook"
         ],
         "textfont": {
          "color": "black"
         },
         "textposition": "top center",
         "x": [
          0.08766288310289383
         ],
         "y": [
          -1.4111933708190918
         ],
         "type": "scatter"
        },
        {
         "marker": {
          "color": "black"
         },
         "mode": "markers+text",
         "text": [
          "page"
         ],
         "textfont": {
          "color": "black"
         },
         "textposition": "top center",
         "x": [
          1.1785582304000854
         ],
         "y": [
          0.7855953574180603
         ],
         "type": "scatter"
        },
        {
         "marker": {
          "color": "red"
         },
         "mode": "markers+text",
         "text": [
          "twitter_nov"
         ],
         "textfont": {
          "color": "red"
         },
         "textposition": "top center",
         "x": [
          -1.2662211656570435
         ],
         "y": [
          0.6255980730056763
         ],
         "type": "scatter"
        },
        {
         "marker": {
          "color": "black"
         },
         "mode": "markers+text",
         "text": [
          "facebook"
         ],
         "textfont": {
          "color": "black"
         },
         "textposition": "top center",
         "x": [
          0.015575729310512543
         ],
         "y": [
          -1.4140830039978027
         ],
         "type": "scatter"
        },
        {
         "marker": {
          "color": "black"
         },
         "mode": "markers+text",
         "text": [
          "musk"
         ],
         "textfont": {
          "color": "black"
         },
         "textposition": "top center",
         "x": [
          -1.232458472251892
         ],
         "y": [
          0.6904001235961914
         ],
         "type": "scatter"
        },
        {
         "marker": {
          "color": "red"
         },
         "mode": "markers+text",
         "text": [
          "twitter_dec"
         ],
         "textfont": {
          "color": "red"
         },
         "textposition": "top center",
         "x": [
          1.2168827056884766
         ],
         "y": [
          0.7236828804016113
         ],
         "type": "scatter"
        },
        {
         "marker": {
          "color": "red",
          "size": 10,
          "symbol": "diamond"
         },
         "mode": "markers",
         "x": [
          -1.3207205533981323
         ],
         "y": [
          -0.5019510984420776
         ],
         "type": "scatter"
        },
        {
         "line": {
          "color": "red"
         },
         "mode": "lines",
         "x": [
          -1.3207205533981323,
          0.03256522864103317
         ],
         "y": [
          -0.5019510984420776,
          1.4138706922531128
         ],
         "type": "scatter"
        },
        {
         "line": {
          "color": "red"
         },
         "mode": "lines",
         "x": [
          0.03256522864103317,
          -1.2662211656570435
         ],
         "y": [
          1.4138706922531128,
          0.6255980730056763
         ],
         "type": "scatter"
        },
        {
         "line": {
          "color": "red"
         },
         "mode": "lines",
         "x": [
          -1.2662211656570435,
          1.2168827056884766
         ],
         "y": [
          0.6255980730056763,
          0.7236828804016113
         ],
         "type": "scatter"
        }
       ],
       "layout": {
        "annotations": [
         {
          "showarrow": false,
          "text": "Period: Sep - Oct - Nov - Dec",
          "x": 0.5,
          "xref": "paper",
          "y": 1.08,
          "yref": "paper"
         }
        ],
        "showlegend": false,
        "template": {
         "data": {
          "barpolar": [
           {
            "marker": {
             "line": {
              "color": "#E5ECF6",
              "width": 0.5
             },
             "pattern": {
              "fillmode": "overlay",
              "size": 10,
              "solidity": 0.2
             }
            },
            "type": "barpolar"
           }
          ],
          "bar": [
           {
            "error_x": {
             "color": "#2a3f5f"
            },
            "error_y": {
             "color": "#2a3f5f"
            },
            "marker": {
             "line": {
              "color": "#E5ECF6",
              "width": 0.5
             },
             "pattern": {
              "fillmode": "overlay",
              "size": 10,
              "solidity": 0.2
             }
            },
            "type": "bar"
           }
          ],
          "carpet": [
           {
            "aaxis": {
             "endlinecolor": "#2a3f5f",
             "gridcolor": "white",
             "linecolor": "white",
             "minorgridcolor": "white",
             "startlinecolor": "#2a3f5f"
            },
            "baxis": {
             "endlinecolor": "#2a3f5f",
             "gridcolor": "white",
             "linecolor": "white",
             "minorgridcolor": "white",
             "startlinecolor": "#2a3f5f"
            },
            "type": "carpet"
           }
          ],
          "choropleth": [
           {
            "colorbar": {
             "outlinewidth": 0,
             "ticks": ""
            },
            "type": "choropleth"
           }
          ],
          "contourcarpet": [
           {
            "colorbar": {
             "outlinewidth": 0,
             "ticks": ""
            },
            "type": "contourcarpet"
           }
          ],
          "contour": [
           {
            "colorbar": {
             "outlinewidth": 0,
             "ticks": ""
            },
            "colorscale": [
             [
              0.0,
              "#0d0887"
             ],
             [
              0.1111111111111111,
              "#46039f"
             ],
             [
              0.2222222222222222,
              "#7201a8"
             ],
             [
              0.3333333333333333,
              "#9c179e"
             ],
             [
              0.4444444444444444,
              "#bd3786"
             ],
             [
              0.5555555555555556,
              "#d8576b"
             ],
             [
              0.6666666666666666,
              "#ed7953"
             ],
             [
              0.7777777777777778,
              "#fb9f3a"
             ],
             [
              0.8888888888888888,
              "#fdca26"
             ],
             [
              1.0,
              "#f0f921"
             ]
            ],
            "type": "contour"
           }
          ],
          "heatmapgl": [
           {
            "colorbar": {
             "outlinewidth": 0,
             "ticks": ""
            },
            "colorscale": [
             [
              0.0,
              "#0d0887"
             ],
             [
              0.1111111111111111,
              "#46039f"
             ],
             [
              0.2222222222222222,
              "#7201a8"
             ],
             [
              0.3333333333333333,
              "#9c179e"
             ],
             [
              0.4444444444444444,
              "#bd3786"
             ],
             [
              0.5555555555555556,
              "#d8576b"
             ],
             [
              0.6666666666666666,
              "#ed7953"
             ],
             [
              0.7777777777777778,
              "#fb9f3a"
             ],
             [
              0.8888888888888888,
              "#fdca26"
             ],
             [
              1.0,
              "#f0f921"
             ]
            ],
            "type": "heatmapgl"
           }
          ],
          "heatmap": [
           {
            "colorbar": {
             "outlinewidth": 0,
             "ticks": ""
            },
            "colorscale": [
             [
              0.0,
              "#0d0887"
             ],
             [
              0.1111111111111111,
              "#46039f"
             ],
             [
              0.2222222222222222,
              "#7201a8"
             ],
             [
              0.3333333333333333,
              "#9c179e"
             ],
             [
              0.4444444444444444,
              "#bd3786"
             ],
             [
              0.5555555555555556,
              "#d8576b"
             ],
             [
              0.6666666666666666,
              "#ed7953"
             ],
             [
              0.7777777777777778,
              "#fb9f3a"
             ],
             [
              0.8888888888888888,
              "#fdca26"
             ],
             [
              1.0,
              "#f0f921"
             ]
            ],
            "type": "heatmap"
           }
          ],
          "histogram2dcontour": [
           {
            "colorbar": {
             "outlinewidth": 0,
             "ticks": ""
            },
            "colorscale": [
             [
              0.0,
              "#0d0887"
             ],
             [
              0.1111111111111111,
              "#46039f"
             ],
             [
              0.2222222222222222,
              "#7201a8"
             ],
             [
              0.3333333333333333,
              "#9c179e"
             ],
             [
              0.4444444444444444,
              "#bd3786"
             ],
             [
              0.5555555555555556,
              "#d8576b"
             ],
             [
              0.6666666666666666,
              "#ed7953"
             ],
             [
              0.7777777777777778,
              "#fb9f3a"
             ],
             [
              0.8888888888888888,
              "#fdca26"
             ],
             [
              1.0,
              "#f0f921"
             ]
            ],
            "type": "histogram2dcontour"
           }
          ],
          "histogram2d": [
           {
            "colorbar": {
             "outlinewidth": 0,
             "ticks": ""
            },
            "colorscale": [
             [
              0.0,
              "#0d0887"
             ],
             [
              0.1111111111111111,
              "#46039f"
             ],
             [
              0.2222222222222222,
              "#7201a8"
             ],
             [
              0.3333333333333333,
              "#9c179e"
             ],
             [
              0.4444444444444444,
              "#bd3786"
             ],
             [
              0.5555555555555556,
              "#d8576b"
             ],
             [
              0.6666666666666666,
              "#ed7953"
             ],
             [
              0.7777777777777778,
              "#fb9f3a"
             ],
             [
              0.8888888888888888,
              "#fdca26"
             ],
             [
              1.0,
              "#f0f921"
             ]
            ],
            "type": "histogram2d"
           }
          ],
          "histogram": [
           {
            "marker": {
             "pattern": {
              "fillmode": "overlay",
              "size": 10,
              "solidity": 0.2
             }
            },
            "type": "histogram"
           }
          ],
          "mesh3d": [
           {
            "colorbar": {
             "outlinewidth": 0,
             "ticks": ""
            },
            "type": "mesh3d"
           }
          ],
          "parcoords": [
           {
            "line": {
             "colorbar": {
              "outlinewidth": 0,
              "ticks": ""
             }
            },
            "type": "parcoords"
           }
          ],
          "pie": [
           {
            "automargin": true,
            "type": "pie"
           }
          ],
          "scatter3d": [
           {
            "line": {
             "colorbar": {
              "outlinewidth": 0,
              "ticks": ""
             }
            },
            "marker": {
             "colorbar": {
              "outlinewidth": 0,
              "ticks": ""
             }
            },
            "type": "scatter3d"
           }
          ],
          "scattercarpet": [
           {
            "marker": {
             "colorbar": {
              "outlinewidth": 0,
              "ticks": ""
             }
            },
            "type": "scattercarpet"
           }
          ],
          "scattergeo": [
           {
            "marker": {
             "colorbar": {
              "outlinewidth": 0,
              "ticks": ""
             }
            },
            "type": "scattergeo"
           }
          ],
          "scattergl": [
           {
            "marker": {
             "colorbar": {
              "outlinewidth": 0,
              "ticks": ""
             }
            },
            "type": "scattergl"
           }
          ],
          "scattermapbox": [
           {
            "marker": {
             "colorbar": {
              "outlinewidth": 0,
              "ticks": ""
             }
            },
            "type": "scattermapbox"
           }
          ],
          "scatterpolargl": [
           {
            "marker": {
             "colorbar": {
              "outlinewidth": 0,
              "ticks": ""
             }
            },
            "type": "scatterpolargl"
           }
          ],
          "scatterpolar": [
           {
            "marker": {
             "colorbar": {
              "outlinewidth": 0,
              "ticks": ""
             }
            },
            "type": "scatterpolar"
           }
          ],
          "scatter": [
           {
            "fillpattern": {
             "fillmode": "overlay",
             "size": 10,
             "solidity": 0.2
            },
            "type": "scatter"
           }
          ],
          "scatterternary": [
           {
            "marker": {
             "colorbar": {
              "outlinewidth": 0,
              "ticks": ""
             }
            },
            "type": "scatterternary"
           }
          ],
          "surface": [
           {
            "colorbar": {
             "outlinewidth": 0,
             "ticks": ""
            },
            "colorscale": [
             [
              0.0,
              "#0d0887"
             ],
             [
              0.1111111111111111,
              "#46039f"
             ],
             [
              0.2222222222222222,
              "#7201a8"
             ],
             [
              0.3333333333333333,
              "#9c179e"
             ],
             [
              0.4444444444444444,
              "#bd3786"
             ],
             [
              0.5555555555555556,
              "#d8576b"
             ],
             [
              0.6666666666666666,
              "#ed7953"
             ],
             [
              0.7777777777777778,
              "#fb9f3a"
             ],
             [
              0.8888888888888888,
              "#fdca26"
             ],
             [
              1.0,
              "#f0f921"
             ]
            ],
            "type": "surface"
           }
          ],
          "table": [
           {
            "cells": {
             "fill": {
              "color": "#EBF0F8"
             },
             "line": {
              "color": "white"
             }
            },
            "header": {
             "fill": {
              "color": "#C8D4E3"
             },
             "line": {
              "color": "white"
             }
            },
            "type": "table"
           }
          ]
         },
         "layout": {
          "annotationdefaults": {
           "arrowcolor": "#2a3f5f",
           "arrowhead": 0,
           "arrowwidth": 1
          },
          "autotypenumbers": "strict",
          "coloraxis": {
           "colorbar": {
            "outlinewidth": 0,
            "ticks": ""
           }
          },
          "colorscale": {
           "diverging": [
            [
             0,
             "#8e0152"
            ],
            [
             0.1,
             "#c51b7d"
            ],
            [
             0.2,
             "#de77ae"
            ],
            [
             0.3,
             "#f1b6da"
            ],
            [
             0.4,
             "#fde0ef"
            ],
            [
             0.5,
             "#f7f7f7"
            ],
            [
             0.6,
             "#e6f5d0"
            ],
            [
             0.7,
             "#b8e186"
            ],
            [
             0.8,
             "#7fbc41"
            ],
            [
             0.9,
             "#4d9221"
            ],
            [
             1,
             "#276419"
            ]
           ],
           "sequential": [
            [
             0.0,
             "#0d0887"
            ],
            [
             0.1111111111111111,
             "#46039f"
            ],
            [
             0.2222222222222222,
             "#7201a8"
            ],
            [
             0.3333333333333333,
             "#9c179e"
            ],
            [
             0.4444444444444444,
             "#bd3786"
            ],
            [
             0.5555555555555556,
             "#d8576b"
            ],
            [
             0.6666666666666666,
             "#ed7953"
            ],
            [
             0.7777777777777778,
             "#fb9f3a"
            ],
            [
             0.8888888888888888,
             "#fdca26"
            ],
            [
             1.0,
             "#f0f921"
            ]
           ],
           "sequentialminus": [
            [
             0.0,
             "#0d0887"
            ],
            [
             0.1111111111111111,
             "#46039f"
            ],
            [
             0.2222222222222222,
             "#7201a8"
            ],
            [
             0.3333333333333333,
             "#9c179e"
            ],
            [
             0.4444444444444444,
             "#bd3786"
            ],
            [
             0.5555555555555556,
             "#d8576b"
            ],
            [
             0.6666666666666666,
             "#ed7953"
            ],
            [
             0.7777777777777778,
             "#fb9f3a"
            ],
            [
             0.8888888888888888,
             "#fdca26"
            ],
            [
             1.0,
             "#f0f921"
            ]
           ]
          },
          "colorway": [
           "#636efa",
           "#EF553B",
           "#00cc96",
           "#ab63fa",
           "#FFA15A",
           "#19d3f3",
           "#FF6692",
           "#B6E880",
           "#FF97FF",
           "#FECB52"
          ],
          "font": {
           "color": "#2a3f5f"
          },
          "geo": {
           "bgcolor": "white",
           "lakecolor": "white",
           "landcolor": "#E5ECF6",
           "showlakes": true,
           "showland": true,
           "subunitcolor": "white"
          },
          "hoverlabel": {
           "align": "left"
          },
          "hovermode": "closest",
          "mapbox": {
           "style": "light"
          },
          "paper_bgcolor": "white",
          "plot_bgcolor": "#E5ECF6",
          "polar": {
           "angularaxis": {
            "gridcolor": "white",
            "linecolor": "white",
            "ticks": ""
           },
           "bgcolor": "#E5ECF6",
           "radialaxis": {
            "gridcolor": "white",
            "linecolor": "white",
            "ticks": ""
           }
          },
          "scene": {
           "xaxis": {
            "backgroundcolor": "#E5ECF6",
            "gridcolor": "white",
            "gridwidth": 2,
            "linecolor": "white",
            "showbackground": true,
            "ticks": "",
            "zerolinecolor": "white"
           },
           "yaxis": {
            "backgroundcolor": "#E5ECF6",
            "gridcolor": "white",
            "gridwidth": 2,
            "linecolor": "white",
            "showbackground": true,
            "ticks": "",
            "zerolinecolor": "white"
           },
           "zaxis": {
            "backgroundcolor": "#E5ECF6",
            "gridcolor": "white",
            "gridwidth": 2,
            "linecolor": "white",
            "showbackground": true,
            "ticks": "",
            "zerolinecolor": "white"
           }
          },
          "shapedefaults": {
           "line": {
            "color": "#2a3f5f"
           }
          },
          "ternary": {
           "aaxis": {
            "gridcolor": "white",
            "linecolor": "white",
            "ticks": ""
           },
           "baxis": {
            "gridcolor": "white",
            "linecolor": "white",
            "ticks": ""
           },
           "bgcolor": "#E5ECF6",
           "caxis": {
            "gridcolor": "white",
            "linecolor": "white",
            "ticks": ""
           }
          },
          "title": {
           "x": 0.05
          },
          "xaxis": {
           "automargin": true,
           "gridcolor": "white",
           "linecolor": "white",
           "ticks": "",
           "title": {
            "standoff": 15
           },
           "zerolinecolor": "white",
           "zerolinewidth": 2
          },
          "yaxis": {
           "automargin": true,
           "gridcolor": "white",
           "linecolor": "white",
           "ticks": "",
           "title": {
            "standoff": 15
           },
           "zerolinecolor": "white",
           "zerolinewidth": 2
          }
         }
        },
        "title": {
         "font": {
          "size": 22
         },
         "text": "Evolution of the word twitter over time",
         "x": 0.5
        },
        "xaxis": {
         "title": {
          "text": "X"
         }
        },
        "yaxis": {
         "title": {
          "text": "Y"
         }
        }
       },
       "config": {
        "showLink": false,
        "linkText": "Export to plot.ly",
        "plotlyServerURL": "https://plot.ly"
       }
      },
      "text/html": "<div>                            <div id=\"4662e0fe-26e8-4aee-9a67-0db93a01a614\" class=\"plotly-graph-div\" style=\"height:525px; width:100%;\"></div>            <script type=\"text/javascript\">                require([\"plotly\"], function(Plotly) {                    window.PLOTLYENV=window.PLOTLYENV || {};                                    if (document.getElementById(\"4662e0fe-26e8-4aee-9a67-0db93a01a614\")) {                    Plotly.newPlot(                        \"4662e0fe-26e8-4aee-9a67-0db93a01a614\",                        [{\"marker\":{\"color\":\"black\"},\"mode\":\"markers+text\",\"text\":[\"facebook\"],\"textfont\":{\"color\":\"black\"},\"textposition\":\"top center\",\"x\":[0.22244156897068024],\"y\":[1.395979404449463],\"type\":\"scatter\"},{\"marker\":{\"color\":\"black\"},\"mode\":\"markers+text\",\"text\":[\"tweet\"],\"textfont\":{\"color\":\"black\"},\"textposition\":\"top center\",\"x\":[1.0982789993286133],\"y\":[-0.8940282464027405],\"type\":\"scatter\"},{\"marker\":{\"color\":\"red\"},\"mode\":\"markers+text\",\"text\":[\"twitter_sep\"],\"textfont\":{\"color\":\"red\"},\"textposition\":\"top center\",\"x\":[-1.3207205533981323],\"y\":[-0.5019510984420776],\"type\":\"scatter\"},{\"marker\":{\"color\":\"black\"},\"mode\":\"markers+text\",\"text\":[\"facebook\"],\"textfont\":{\"color\":\"black\"},\"textposition\":\"top center\",\"x\":[1.2081375122070312],\"y\":[-0.7339012026786804],\"type\":\"scatter\"},{\"marker\":{\"color\":\"black\"},\"mode\":\"markers+text\",\"text\":[\"instagram\"],\"textfont\":{\"color\":\"black\"},\"textposition\":\"top center\",\"x\":[-1.240702748298645],\"y\":[-0.6799695491790771],\"type\":\"scatter\"},{\"marker\":{\"color\":\"red\"},\"mode\":\"markers+text\",\"text\":[\"twitter_oct\"],\"textfont\":{\"color\":\"red\"},\"textposition\":\"top center\",\"x\":[0.03256522864103317],\"y\":[1.4138706922531128],\"type\":\"scatter\"},{\"marker\":{\"color\":\"black\"},\"mode\":\"markers+text\",\"text\":[\"facebook\"],\"textfont\":{\"color\":\"black\"},\"textposition\":\"top center\",\"x\":[0.08766288310289383],\"y\":[-1.4111933708190918],\"type\":\"scatter\"},{\"marker\":{\"color\":\"black\"},\"mode\":\"markers+text\",\"text\":[\"page\"],\"textfont\":{\"color\":\"black\"},\"textposition\":\"top center\",\"x\":[1.1785582304000854],\"y\":[0.7855953574180603],\"type\":\"scatter\"},{\"marker\":{\"color\":\"red\"},\"mode\":\"markers+text\",\"text\":[\"twitter_nov\"],\"textfont\":{\"color\":\"red\"},\"textposition\":\"top center\",\"x\":[-1.2662211656570435],\"y\":[0.6255980730056763],\"type\":\"scatter\"},{\"marker\":{\"color\":\"black\"},\"mode\":\"markers+text\",\"text\":[\"facebook\"],\"textfont\":{\"color\":\"black\"},\"textposition\":\"top center\",\"x\":[0.015575729310512543],\"y\":[-1.4140830039978027],\"type\":\"scatter\"},{\"marker\":{\"color\":\"black\"},\"mode\":\"markers+text\",\"text\":[\"musk\"],\"textfont\":{\"color\":\"black\"},\"textposition\":\"top center\",\"x\":[-1.232458472251892],\"y\":[0.6904001235961914],\"type\":\"scatter\"},{\"marker\":{\"color\":\"red\"},\"mode\":\"markers+text\",\"text\":[\"twitter_dec\"],\"textfont\":{\"color\":\"red\"},\"textposition\":\"top center\",\"x\":[1.2168827056884766],\"y\":[0.7236828804016113],\"type\":\"scatter\"},{\"marker\":{\"color\":\"red\",\"size\":10,\"symbol\":\"diamond\"},\"mode\":\"markers\",\"x\":[-1.3207205533981323],\"y\":[-0.5019510984420776],\"type\":\"scatter\"},{\"line\":{\"color\":\"red\"},\"mode\":\"lines\",\"x\":[-1.3207205533981323,0.03256522864103317],\"y\":[-0.5019510984420776,1.4138706922531128],\"type\":\"scatter\"},{\"line\":{\"color\":\"red\"},\"mode\":\"lines\",\"x\":[0.03256522864103317,-1.2662211656570435],\"y\":[1.4138706922531128,0.6255980730056763],\"type\":\"scatter\"},{\"line\":{\"color\":\"red\"},\"mode\":\"lines\",\"x\":[-1.2662211656570435,1.2168827056884766],\"y\":[0.6255980730056763,0.7236828804016113],\"type\":\"scatter\"}],                        {\"annotations\":[{\"showarrow\":false,\"text\":\"Period: Sep - Oct - Nov - Dec\",\"x\":0.5,\"xref\":\"paper\",\"y\":1.08,\"yref\":\"paper\"}],\"showlegend\":false,\"template\":{\"data\":{\"barpolar\":[{\"marker\":{\"line\":{\"color\":\"#E5ECF6\",\"width\":0.5},\"pattern\":{\"fillmode\":\"overlay\",\"size\":10,\"solidity\":0.2}},\"type\":\"barpolar\"}],\"bar\":[{\"error_x\":{\"color\":\"#2a3f5f\"},\"error_y\":{\"color\":\"#2a3f5f\"},\"marker\":{\"line\":{\"color\":\"#E5ECF6\",\"width\":0.5},\"pattern\":{\"fillmode\":\"overlay\",\"size\":10,\"solidity\":0.2}},\"type\":\"bar\"}],\"carpet\":[{\"aaxis\":{\"endlinecolor\":\"#2a3f5f\",\"gridcolor\":\"white\",\"linecolor\":\"white\",\"minorgridcolor\":\"white\",\"startlinecolor\":\"#2a3f5f\"},\"baxis\":{\"endlinecolor\":\"#2a3f5f\",\"gridcolor\":\"white\",\"linecolor\":\"white\",\"minorgridcolor\":\"white\",\"startlinecolor\":\"#2a3f5f\"},\"type\":\"carpet\"}],\"choropleth\":[{\"colorbar\":{\"outlinewidth\":0,\"ticks\":\"\"},\"type\":\"choropleth\"}],\"contourcarpet\":[{\"colorbar\":{\"outlinewidth\":0,\"ticks\":\"\"},\"type\":\"contourcarpet\"}],\"contour\":[{\"colorbar\":{\"outlinewidth\":0,\"ticks\":\"\"},\"colorscale\":[[0.0,\"#0d0887\"],[0.1111111111111111,\"#46039f\"],[0.2222222222222222,\"#7201a8\"],[0.3333333333333333,\"#9c179e\"],[0.4444444444444444,\"#bd3786\"],[0.5555555555555556,\"#d8576b\"],[0.6666666666666666,\"#ed7953\"],[0.7777777777777778,\"#fb9f3a\"],[0.8888888888888888,\"#fdca26\"],[1.0,\"#f0f921\"]],\"type\":\"contour\"}],\"heatmapgl\":[{\"colorbar\":{\"outlinewidth\":0,\"ticks\":\"\"},\"colorscale\":[[0.0,\"#0d0887\"],[0.1111111111111111,\"#46039f\"],[0.2222222222222222,\"#7201a8\"],[0.3333333333333333,\"#9c179e\"],[0.4444444444444444,\"#bd3786\"],[0.5555555555555556,\"#d8576b\"],[0.6666666666666666,\"#ed7953\"],[0.7777777777777778,\"#fb9f3a\"],[0.8888888888888888,\"#fdca26\"],[1.0,\"#f0f921\"]],\"type\":\"heatmapgl\"}],\"heatmap\":[{\"colorbar\":{\"outlinewidth\":0,\"ticks\":\"\"},\"colorscale\":[[0.0,\"#0d0887\"],[0.1111111111111111,\"#46039f\"],[0.2222222222222222,\"#7201a8\"],[0.3333333333333333,\"#9c179e\"],[0.4444444444444444,\"#bd3786\"],[0.5555555555555556,\"#d8576b\"],[0.6666666666666666,\"#ed7953\"],[0.7777777777777778,\"#fb9f3a\"],[0.8888888888888888,\"#fdca26\"],[1.0,\"#f0f921\"]],\"type\":\"heatmap\"}],\"histogram2dcontour\":[{\"colorbar\":{\"outlinewidth\":0,\"ticks\":\"\"},\"colorscale\":[[0.0,\"#0d0887\"],[0.1111111111111111,\"#46039f\"],[0.2222222222222222,\"#7201a8\"],[0.3333333333333333,\"#9c179e\"],[0.4444444444444444,\"#bd3786\"],[0.5555555555555556,\"#d8576b\"],[0.6666666666666666,\"#ed7953\"],[0.7777777777777778,\"#fb9f3a\"],[0.8888888888888888,\"#fdca26\"],[1.0,\"#f0f921\"]],\"type\":\"histogram2dcontour\"}],\"histogram2d\":[{\"colorbar\":{\"outlinewidth\":0,\"ticks\":\"\"},\"colorscale\":[[0.0,\"#0d0887\"],[0.1111111111111111,\"#46039f\"],[0.2222222222222222,\"#7201a8\"],[0.3333333333333333,\"#9c179e\"],[0.4444444444444444,\"#bd3786\"],[0.5555555555555556,\"#d8576b\"],[0.6666666666666666,\"#ed7953\"],[0.7777777777777778,\"#fb9f3a\"],[0.8888888888888888,\"#fdca26\"],[1.0,\"#f0f921\"]],\"type\":\"histogram2d\"}],\"histogram\":[{\"marker\":{\"pattern\":{\"fillmode\":\"overlay\",\"size\":10,\"solidity\":0.2}},\"type\":\"histogram\"}],\"mesh3d\":[{\"colorbar\":{\"outlinewidth\":0,\"ticks\":\"\"},\"type\":\"mesh3d\"}],\"parcoords\":[{\"line\":{\"colorbar\":{\"outlinewidth\":0,\"ticks\":\"\"}},\"type\":\"parcoords\"}],\"pie\":[{\"automargin\":true,\"type\":\"pie\"}],\"scatter3d\":[{\"line\":{\"colorbar\":{\"outlinewidth\":0,\"ticks\":\"\"}},\"marker\":{\"colorbar\":{\"outlinewidth\":0,\"ticks\":\"\"}},\"type\":\"scatter3d\"}],\"scattercarpet\":[{\"marker\":{\"colorbar\":{\"outlinewidth\":0,\"ticks\":\"\"}},\"type\":\"scattercarpet\"}],\"scattergeo\":[{\"marker\":{\"colorbar\":{\"outlinewidth\":0,\"ticks\":\"\"}},\"type\":\"scattergeo\"}],\"scattergl\":[{\"marker\":{\"colorbar\":{\"outlinewidth\":0,\"ticks\":\"\"}},\"type\":\"scattergl\"}],\"scattermapbox\":[{\"marker\":{\"colorbar\":{\"outlinewidth\":0,\"ticks\":\"\"}},\"type\":\"scattermapbox\"}],\"scatterpolargl\":[{\"marker\":{\"colorbar\":{\"outlinewidth\":0,\"ticks\":\"\"}},\"type\":\"scatterpolargl\"}],\"scatterpolar\":[{\"marker\":{\"colorbar\":{\"outlinewidth\":0,\"ticks\":\"\"}},\"type\":\"scatterpolar\"}],\"scatter\":[{\"fillpattern\":{\"fillmode\":\"overlay\",\"size\":10,\"solidity\":0.2},\"type\":\"scatter\"}],\"scatterternary\":[{\"marker\":{\"colorbar\":{\"outlinewidth\":0,\"ticks\":\"\"}},\"type\":\"scatterternary\"}],\"surface\":[{\"colorbar\":{\"outlinewidth\":0,\"ticks\":\"\"},\"colorscale\":[[0.0,\"#0d0887\"],[0.1111111111111111,\"#46039f\"],[0.2222222222222222,\"#7201a8\"],[0.3333333333333333,\"#9c179e\"],[0.4444444444444444,\"#bd3786\"],[0.5555555555555556,\"#d8576b\"],[0.6666666666666666,\"#ed7953\"],[0.7777777777777778,\"#fb9f3a\"],[0.8888888888888888,\"#fdca26\"],[1.0,\"#f0f921\"]],\"type\":\"surface\"}],\"table\":[{\"cells\":{\"fill\":{\"color\":\"#EBF0F8\"},\"line\":{\"color\":\"white\"}},\"header\":{\"fill\":{\"color\":\"#C8D4E3\"},\"line\":{\"color\":\"white\"}},\"type\":\"table\"}]},\"layout\":{\"annotationdefaults\":{\"arrowcolor\":\"#2a3f5f\",\"arrowhead\":0,\"arrowwidth\":1},\"autotypenumbers\":\"strict\",\"coloraxis\":{\"colorbar\":{\"outlinewidth\":0,\"ticks\":\"\"}},\"colorscale\":{\"diverging\":[[0,\"#8e0152\"],[0.1,\"#c51b7d\"],[0.2,\"#de77ae\"],[0.3,\"#f1b6da\"],[0.4,\"#fde0ef\"],[0.5,\"#f7f7f7\"],[0.6,\"#e6f5d0\"],[0.7,\"#b8e186\"],[0.8,\"#7fbc41\"],[0.9,\"#4d9221\"],[1,\"#276419\"]],\"sequential\":[[0.0,\"#0d0887\"],[0.1111111111111111,\"#46039f\"],[0.2222222222222222,\"#7201a8\"],[0.3333333333333333,\"#9c179e\"],[0.4444444444444444,\"#bd3786\"],[0.5555555555555556,\"#d8576b\"],[0.6666666666666666,\"#ed7953\"],[0.7777777777777778,\"#fb9f3a\"],[0.8888888888888888,\"#fdca26\"],[1.0,\"#f0f921\"]],\"sequentialminus\":[[0.0,\"#0d0887\"],[0.1111111111111111,\"#46039f\"],[0.2222222222222222,\"#7201a8\"],[0.3333333333333333,\"#9c179e\"],[0.4444444444444444,\"#bd3786\"],[0.5555555555555556,\"#d8576b\"],[0.6666666666666666,\"#ed7953\"],[0.7777777777777778,\"#fb9f3a\"],[0.8888888888888888,\"#fdca26\"],[1.0,\"#f0f921\"]]},\"colorway\":[\"#636efa\",\"#EF553B\",\"#00cc96\",\"#ab63fa\",\"#FFA15A\",\"#19d3f3\",\"#FF6692\",\"#B6E880\",\"#FF97FF\",\"#FECB52\"],\"font\":{\"color\":\"#2a3f5f\"},\"geo\":{\"bgcolor\":\"white\",\"lakecolor\":\"white\",\"landcolor\":\"#E5ECF6\",\"showlakes\":true,\"showland\":true,\"subunitcolor\":\"white\"},\"hoverlabel\":{\"align\":\"left\"},\"hovermode\":\"closest\",\"mapbox\":{\"style\":\"light\"},\"paper_bgcolor\":\"white\",\"plot_bgcolor\":\"#E5ECF6\",\"polar\":{\"angularaxis\":{\"gridcolor\":\"white\",\"linecolor\":\"white\",\"ticks\":\"\"},\"bgcolor\":\"#E5ECF6\",\"radialaxis\":{\"gridcolor\":\"white\",\"linecolor\":\"white\",\"ticks\":\"\"}},\"scene\":{\"xaxis\":{\"backgroundcolor\":\"#E5ECF6\",\"gridcolor\":\"white\",\"gridwidth\":2,\"linecolor\":\"white\",\"showbackground\":true,\"ticks\":\"\",\"zerolinecolor\":\"white\"},\"yaxis\":{\"backgroundcolor\":\"#E5ECF6\",\"gridcolor\":\"white\",\"gridwidth\":2,\"linecolor\":\"white\",\"showbackground\":true,\"ticks\":\"\",\"zerolinecolor\":\"white\"},\"zaxis\":{\"backgroundcolor\":\"#E5ECF6\",\"gridcolor\":\"white\",\"gridwidth\":2,\"linecolor\":\"white\",\"showbackground\":true,\"ticks\":\"\",\"zerolinecolor\":\"white\"}},\"shapedefaults\":{\"line\":{\"color\":\"#2a3f5f\"}},\"ternary\":{\"aaxis\":{\"gridcolor\":\"white\",\"linecolor\":\"white\",\"ticks\":\"\"},\"baxis\":{\"gridcolor\":\"white\",\"linecolor\":\"white\",\"ticks\":\"\"},\"bgcolor\":\"#E5ECF6\",\"caxis\":{\"gridcolor\":\"white\",\"linecolor\":\"white\",\"ticks\":\"\"}},\"title\":{\"x\":0.05},\"xaxis\":{\"automargin\":true,\"gridcolor\":\"white\",\"linecolor\":\"white\",\"ticks\":\"\",\"title\":{\"standoff\":15},\"zerolinecolor\":\"white\",\"zerolinewidth\":2},\"yaxis\":{\"automargin\":true,\"gridcolor\":\"white\",\"linecolor\":\"white\",\"ticks\":\"\",\"title\":{\"standoff\":15},\"zerolinecolor\":\"white\",\"zerolinewidth\":2}}},\"title\":{\"font\":{\"size\":22},\"text\":\"Evolution of the word twitter over time\",\"x\":0.5},\"xaxis\":{\"title\":{\"text\":\"X\"}},\"yaxis\":{\"title\":{\"text\":\"Y\"}}},                        {\"responsive\": true}                    ).then(function(){\n                            \nvar gd = document.getElementById('4662e0fe-26e8-4aee-9a67-0db93a01a614');\nvar x = new MutationObserver(function (mutations, observer) {{\n        var display = window.getComputedStyle(gd).display;\n        if (!display || display === 'none') {{\n            console.log([gd, 'removed!']);\n            Plotly.purge(gd);\n            observer.disconnect();\n        }}\n}});\n\n// Listen for the removal of the full notebook cells\nvar notebookContainer = gd.closest('#notebook-container');\nif (notebookContainer) {{\n    x.observe(notebookContainer, {childList: true});\n}}\n\n// Listen for the clearing of the current output cell\nvar outputEl = gd.closest('.output');\nif (outputEl) {{\n    x.observe(outputEl, {childList: true});\n}}\n\n                        })                };                });            </script>        </div>"
     },
     "metadata": {},
     "output_type": "display_data"
    }
   ],
   "source": [
    "plot_temporal_changing_embedding(target_word_twitter, selected_models_monthly_twitter, top_n=2, title=title_twitter, subtitle=subtitle_twitter, use_tsne=True)"
   ],
   "metadata": {
    "collapsed": false
   }
  },
  {
   "cell_type": "markdown",
   "source": [
    "### Cosine similarities"
   ],
   "metadata": {
    "collapsed": false
   }
  },
  {
   "cell_type": "code",
   "execution_count": 30,
   "outputs": [],
   "source": [
    "test_words_twitter = [\"facebook\",  \"elon\", \"blue\", \"liberal\"]"
   ],
   "metadata": {
    "collapsed": false
   }
  },
  {
   "cell_type": "code",
   "execution_count": 31,
   "outputs": [
    {
     "data": {
      "text/plain": "<Figure size 1000x600 with 1 Axes>",
      "image/png": "[encoded data removed]"
     },
     "metadata": {},
     "output_type": "display_data"
    }
   ],
   "source": [
    "plot_cosine_similarity(target_word_twitter, test_words_twitter, models_monthly, \"nov\", \"Elon Musk takes over Twitter\")"
   ],
   "metadata": {
    "collapsed": false
   }
  },
  {
   "cell_type": "markdown",
   "source": [
    "### TPPMI"
   ],
   "metadata": {
    "collapsed": false
   }
  },
  {
   "cell_type": "code",
   "execution_count": 32,
   "outputs": [
    {
     "name": "stdout",
     "output_type": "stream",
     "text": [
      "All words are contained in the vocabulary\n",
      "elon - not in vocab of timestep: 06\n",
      "elon - not in vocab of timestep: 08\n",
      "elon - not in vocab of timestep: 09\n"
     ]
    }
   ],
   "source": [
    "tppmi_twitter = tppmi_model.get_tppmi(test_words_twitter + [target_word_twitter])"
   ],
   "metadata": {
    "collapsed": false
   }
  },
  {
   "cell_type": "code",
   "execution_count": 33,
   "outputs": [
    {
     "name": "stdout",
     "output_type": "stream",
     "text": [
      "All words are contained in the vocabulary\n",
      "elon - not in vocab of timestep: 06\n",
      "elon - not in vocab of timestep: 08\n",
      "elon - not in vocab of timestep: 09\n"
     ]
    },
    {
     "data": {
      "text/html": "        <script type=\"text/javascript\">\n        window.PlotlyConfig = {MathJaxConfig: 'local'};\n        if (window.MathJax && window.MathJax.Hub && window.MathJax.Hub.Config) {window.MathJax.Hub.Config({SVG: {font: \"STIX-Web\"}});}\n        if (typeof require !== 'undefined') {\n        require.undef(\"plotly\");\n        requirejs.config({\n            paths: {\n                'plotly': ['https://cdn.plot.ly/plotly-2.25.2.min']\n            }\n        });\n        require(['plotly'], function(Plotly) {\n            window._Plotly = Plotly;\n        });\n        }\n        </script>\n        "
     },
     "metadata": {},
     "output_type": "display_data"
    },
    {
     "data": {
      "application/vnd.plotly.v1+json": {
       "data": [
        {
         "marker": {
          "color": "#00CC96"
         },
         "mode": "markers+text",
         "name": "facebook",
         "showlegend": false,
         "text": [
          "facebook"
         ],
         "textposition": "top center",
         "x": [
          10.852317602843492
         ],
         "y": [
          -1.371123855083744
         ],
         "type": "scatter"
        },
        {
         "marker": {
          "color": "#00CC96",
          "size": 10,
          "symbol": "diamond"
         },
         "mode": "markers",
         "showlegend": false,
         "x": [
          10.852317602843492
         ],
         "y": [
          -1.371123855083744
         ],
         "type": "scatter"
        },
        {
         "marker": {
          "color": "#00CC96"
         },
         "mode": "markers+text",
         "name": "facebook",
         "showlegend": false,
         "text": [
          "facebook"
         ],
         "textposition": "top center",
         "x": [
          6.145618131298233
         ],
         "y": [
          -1.6093203729230836
         ],
         "type": "scatter"
        },
        {
         "line": {
          "color": "#00CC96",
          "width": 1
         },
         "mode": "lines",
         "showlegend": false,
         "x": [
          10.852317602843492,
          6.145618131298233
         ],
         "y": [
          -1.371123855083744,
          -1.6093203729230836
         ],
         "type": "scatter"
        },
        {
         "marker": {
          "color": "#00CC96"
         },
         "mode": "markers+text",
         "name": "facebook",
         "showlegend": false,
         "text": [
          "facebook"
         ],
         "textposition": "top center",
         "x": [
          12.856716249039941
         ],
         "y": [
          -0.894355956935926
         ],
         "type": "scatter"
        },
        {
         "line": {
          "color": "#00CC96",
          "width": 1
         },
         "mode": "lines",
         "showlegend": false,
         "x": [
          6.145618131298233,
          12.856716249039941
         ],
         "y": [
          -1.6093203729230836,
          -0.894355956935926
         ],
         "type": "scatter"
        },
        {
         "marker": {
          "color": "#00CC96"
         },
         "mode": "markers+text",
         "name": "facebook",
         "showlegend": false,
         "text": [
          "facebook"
         ],
         "textposition": "top center",
         "x": [
          9.020082190281375
         ],
         "y": [
          -3.048122679046068
         ],
         "type": "scatter"
        },
        {
         "line": {
          "color": "#00CC96",
          "width": 1
         },
         "mode": "lines",
         "showlegend": false,
         "x": [
          12.856716249039941,
          9.020082190281375
         ],
         "y": [
          -0.894355956935926,
          -3.048122679046068
         ],
         "type": "scatter"
        },
        {
         "marker": {
          "color": "#00CC96"
         },
         "mode": "markers+text",
         "name": "facebook",
         "showlegend": false,
         "text": [
          "facebook"
         ],
         "textposition": "top center",
         "x": [
          21.11577006393872
         ],
         "y": [
          -1.4089029310892662
         ],
         "type": "scatter"
        },
        {
         "line": {
          "color": "#00CC96",
          "width": 1
         },
         "mode": "lines",
         "showlegend": false,
         "x": [
          9.020082190281375,
          21.11577006393872
         ],
         "y": [
          -3.048122679046068,
          -1.4089029310892662
         ],
         "type": "scatter"
        },
        {
         "marker": {
          "color": "#00CC96"
         },
         "mode": "markers+text",
         "name": "facebook",
         "showlegend": false,
         "text": [
          "facebook"
         ],
         "textposition": "top center",
         "x": [
          16.843347451706535
         ],
         "y": [
          -0.5590878217842723
         ],
         "type": "scatter"
        },
        {
         "line": {
          "color": "#00CC96",
          "width": 1
         },
         "mode": "lines",
         "showlegend": false,
         "x": [
          21.11577006393872,
          16.843347451706535
         ],
         "y": [
          -1.4089029310892662,
          -0.5590878217842723
         ],
         "type": "scatter"
        },
        {
         "marker": {
          "color": "#00CC96"
         },
         "mode": "markers+text",
         "name": "facebook",
         "showlegend": false,
         "text": [
          "facebook"
         ],
         "textposition": "top center",
         "x": [
          14.854793643048366
         ],
         "y": [
          -0.667285834380734
         ],
         "type": "scatter"
        },
        {
         "line": {
          "color": "#00CC96",
          "width": 1
         },
         "mode": "lines",
         "showlegend": false,
         "x": [
          16.843347451706535,
          14.854793643048366
         ],
         "y": [
          -0.5590878217842723,
          -0.667285834380734
         ],
         "type": "scatter"
        },
        {
         "marker": {
          "color": "#00CC96"
         },
         "mode": "markers+text",
         "name": "facebook",
         "showlegend": false,
         "text": [
          "facebook"
         ],
         "textposition": "top center",
         "x": [
          11.291019182683034
         ],
         "y": [
          -1.3302278574520106
         ],
         "type": "scatter"
        },
        {
         "line": {
          "color": "#00CC96",
          "width": 1
         },
         "mode": "lines",
         "showlegend": false,
         "x": [
          14.854793643048366,
          11.291019182683034
         ],
         "y": [
          -0.667285834380734,
          -1.3302278574520106
         ],
         "type": "scatter"
        },
        {
         "marker": {
          "color": "#00CC96"
         },
         "mode": "markers+text",
         "name": "facebook",
         "showlegend": false,
         "text": [
          "facebook"
         ],
         "textposition": "top center",
         "x": [
          11.70822506571416
         ],
         "y": [
          -1.2646154746042022
         ],
         "type": "scatter"
        },
        {
         "line": {
          "color": "#00CC96",
          "width": 1
         },
         "mode": "lines",
         "showlegend": false,
         "x": [
          11.291019182683034,
          11.70822506571416
         ],
         "y": [
          -1.3302278574520106,
          -1.2646154746042022
         ],
         "type": "scatter"
        },
        {
         "marker": {
          "color": "#00CC96"
         },
         "mode": "markers+text",
         "name": "facebook",
         "showlegend": false,
         "text": [
          "facebook"
         ],
         "textposition": "top center",
         "x": [
          14.969972966449266
         ],
         "y": [
          -0.9973574274209226
         ],
         "type": "scatter"
        },
        {
         "line": {
          "color": "#00CC96",
          "width": 1
         },
         "mode": "lines",
         "showlegend": false,
         "x": [
          11.70822506571416,
          14.969972966449266
         ],
         "y": [
          -1.2646154746042022,
          -0.9973574274209226
         ],
         "type": "scatter"
        },
        {
         "marker": {
          "color": "#00CC96"
         },
         "mode": "markers+text",
         "name": "facebook",
         "showlegend": false,
         "text": [
          "facebook"
         ],
         "textposition": "top center",
         "x": [
          16.203185336646584
         ],
         "y": [
          -1.7148951873507599
         ],
         "type": "scatter"
        },
        {
         "line": {
          "color": "#00CC96",
          "width": 1
         },
         "mode": "lines",
         "showlegend": false,
         "x": [
          14.969972966449266,
          16.203185336646584
         ],
         "y": [
          -0.9973574274209226,
          -1.7148951873507599
         ],
         "type": "scatter"
        },
        {
         "marker": {
          "color": "#AB63FA"
         },
         "mode": "markers+text",
         "name": "elon",
         "showlegend": false,
         "text": [
          "elon"
         ],
         "textposition": "top center",
         "x": [
          -4.763212495149274
         ],
         "y": [
          -2.2523207438031774
         ],
         "type": "scatter"
        },
        {
         "marker": {
          "color": "#AB63FA",
          "size": 10,
          "symbol": "diamond"
         },
         "mode": "markers",
         "showlegend": false,
         "x": [
          -4.763212495149274
         ],
         "y": [
          -2.2523207438031774
         ],
         "type": "scatter"
        },
        {
         "marker": {
          "color": "#AB63FA"
         },
         "mode": "markers+text",
         "name": "elon",
         "showlegend": false,
         "text": [
          "elon"
         ],
         "textposition": "top center",
         "x": [
          -2.3608077534672356
         ],
         "y": [
          -3.18843969144673
         ],
         "type": "scatter"
        },
        {
         "line": {
          "color": "#AB63FA",
          "width": 1
         },
         "mode": "lines",
         "showlegend": false,
         "x": [
          -4.763212495149274,
          -2.3608077534672356
         ],
         "y": [
          -2.2523207438031774,
          -3.18843969144673
         ],
         "type": "scatter"
        },
        {
         "marker": {
          "color": "#AB63FA"
         },
         "mode": "markers+text",
         "name": "elon",
         "showlegend": false,
         "text": [
          "elon"
         ],
         "textposition": "top center",
         "x": [
          -4.763212495149274
         ],
         "y": [
          -2.2523207438031774
         ],
         "type": "scatter"
        },
        {
         "line": {
          "color": "#AB63FA",
          "width": 1
         },
         "mode": "lines",
         "showlegend": false,
         "x": [
          -2.3608077534672356,
          -4.763212495149274
         ],
         "y": [
          -3.18843969144673,
          -2.2523207438031774
         ],
         "type": "scatter"
        },
        {
         "marker": {
          "color": "#AB63FA"
         },
         "mode": "markers+text",
         "name": "elon",
         "showlegend": false,
         "text": [
          "elon"
         ],
         "textposition": "top center",
         "x": [
          -4.763212495149274
         ],
         "y": [
          -2.2523207438031774
         ],
         "type": "scatter"
        },
        {
         "line": {
          "color": "#AB63FA",
          "width": 1
         },
         "mode": "lines",
         "showlegend": false,
         "x": [
          -4.763212495149274,
          -4.763212495149274
         ],
         "y": [
          -2.2523207438031774,
          -2.2523207438031774
         ],
         "type": "scatter"
        },
        {
         "marker": {
          "color": "#AB63FA"
         },
         "mode": "markers+text",
         "name": "elon",
         "showlegend": false,
         "text": [
          "elon"
         ],
         "textposition": "top center",
         "x": [
          -3.9098869867784463
         ],
         "y": [
          -3.2071365600829274
         ],
         "type": "scatter"
        },
        {
         "line": {
          "color": "#AB63FA",
          "width": 1
         },
         "mode": "lines",
         "showlegend": false,
         "x": [
          -4.763212495149274,
          -3.9098869867784463
         ],
         "y": [
          -2.2523207438031774,
          -3.2071365600829274
         ],
         "type": "scatter"
        },
        {
         "marker": {
          "color": "#AB63FA"
         },
         "mode": "markers+text",
         "name": "elon",
         "showlegend": false,
         "text": [
          "elon"
         ],
         "textposition": "top center",
         "x": [
          -3.861604194966026
         ],
         "y": [
          -3.053244185479108
         ],
         "type": "scatter"
        },
        {
         "line": {
          "color": "#AB63FA",
          "width": 1
         },
         "mode": "lines",
         "showlegend": false,
         "x": [
          -3.9098869867784463,
          -3.861604194966026
         ],
         "y": [
          -3.2071365600829274,
          -3.053244185479108
         ],
         "type": "scatter"
        },
        {
         "marker": {
          "color": "#AB63FA"
         },
         "mode": "markers+text",
         "name": "elon",
         "showlegend": false,
         "text": [
          "elon"
         ],
         "textposition": "top center",
         "x": [
          -1.75126626761268
         ],
         "y": [
          -1.623371870052079
         ],
         "type": "scatter"
        },
        {
         "line": {
          "color": "#AB63FA",
          "width": 1
         },
         "mode": "lines",
         "showlegend": false,
         "x": [
          -3.861604194966026,
          -1.75126626761268
         ],
         "y": [
          -3.053244185479108,
          -1.623371870052079
         ],
         "type": "scatter"
        },
        {
         "marker": {
          "color": "#AB63FA"
         },
         "mode": "markers+text",
         "name": "elon",
         "showlegend": false,
         "text": [
          "elon"
         ],
         "textposition": "top center",
         "x": [
          -3.545649026816284
         ],
         "y": [
          -1.9013884367672425
         ],
         "type": "scatter"
        },
        {
         "line": {
          "color": "#AB63FA",
          "width": 1
         },
         "mode": "lines",
         "showlegend": false,
         "x": [
          -1.75126626761268,
          -3.545649026816284
         ],
         "y": [
          -1.623371870052079,
          -1.9013884367672425
         ],
         "type": "scatter"
        },
        {
         "marker": {
          "color": "#AB63FA"
         },
         "mode": "markers+text",
         "name": "elon",
         "showlegend": false,
         "text": [
          "elon"
         ],
         "textposition": "top center",
         "x": [
          -4.304218493489876
         ],
         "y": [
          -3.2922082947972227
         ],
         "type": "scatter"
        },
        {
         "line": {
          "color": "#AB63FA",
          "width": 1
         },
         "mode": "lines",
         "showlegend": false,
         "x": [
          -3.545649026816284,
          -4.304218493489876
         ],
         "y": [
          -1.9013884367672425,
          -3.2922082947972227
         ],
         "type": "scatter"
        },
        {
         "marker": {
          "color": "#AB63FA"
         },
         "mode": "markers+text",
         "name": "elon",
         "showlegend": false,
         "text": [
          "elon"
         ],
         "textposition": "top center",
         "x": [
          -2.7416477089048503
         ],
         "y": [
          -3.319409347787121
         ],
         "type": "scatter"
        },
        {
         "line": {
          "color": "#AB63FA",
          "width": 1
         },
         "mode": "lines",
         "showlegend": false,
         "x": [
          -4.304218493489876,
          -2.7416477089048503
         ],
         "y": [
          -3.2922082947972227,
          -3.319409347787121
         ],
         "type": "scatter"
        },
        {
         "marker": {
          "color": "#AB63FA"
         },
         "mode": "markers+text",
         "name": "elon",
         "showlegend": false,
         "text": [
          "elon"
         ],
         "textposition": "top center",
         "x": [
          -3.477986731554708
         ],
         "y": [
          -2.225687732720551
         ],
         "type": "scatter"
        },
        {
         "line": {
          "color": "#AB63FA",
          "width": 1
         },
         "mode": "lines",
         "showlegend": false,
         "x": [
          -2.7416477089048503,
          -3.477986731554708
         ],
         "y": [
          -3.319409347787121,
          -2.225687732720551
         ],
         "type": "scatter"
        },
        {
         "marker": {
          "color": "#EF553B"
         },
         "mode": "markers+text",
         "name": "blue",
         "showlegend": false,
         "text": [
          "blue"
         ],
         "textposition": "top center",
         "x": [
          -10.783401098643646
         ],
         "y": [
          -11.50426333743932
         ],
         "type": "scatter"
        },
        {
         "marker": {
          "color": "#EF553B",
          "size": 10,
          "symbol": "diamond"
         },
         "mode": "markers",
         "showlegend": false,
         "x": [
          -10.783401098643646
         ],
         "y": [
          -11.50426333743932
         ],
         "type": "scatter"
        },
        {
         "marker": {
          "color": "#EF553B"
         },
         "mode": "markers+text",
         "name": "blue",
         "showlegend": false,
         "text": [
          "blue"
         ],
         "textposition": "top center",
         "x": [
          -9.836100198550284
         ],
         "y": [
          -9.69626648714902
         ],
         "type": "scatter"
        },
        {
         "line": {
          "color": "#EF553B",
          "width": 1
         },
         "mode": "lines",
         "showlegend": false,
         "x": [
          -10.783401098643646,
          -9.836100198550284
         ],
         "y": [
          -11.50426333743932,
          -9.69626648714902
         ],
         "type": "scatter"
        },
        {
         "marker": {
          "color": "#EF553B"
         },
         "mode": "markers+text",
         "name": "blue",
         "showlegend": false,
         "text": [
          "blue"
         ],
         "textposition": "top center",
         "x": [
          -13.360160784565679
         ],
         "y": [
          -14.976530343590296
         ],
         "type": "scatter"
        },
        {
         "line": {
          "color": "#EF553B",
          "width": 1
         },
         "mode": "lines",
         "showlegend": false,
         "x": [
          -9.836100198550284,
          -13.360160784565679
         ],
         "y": [
          -9.69626648714902,
          -14.976530343590296
         ],
         "type": "scatter"
        },
        {
         "marker": {
          "color": "#EF553B"
         },
         "mode": "markers+text",
         "name": "blue",
         "showlegend": false,
         "text": [
          "blue"
         ],
         "textposition": "top center",
         "x": [
          -9.294135231075556
         ],
         "y": [
          -7.928989743107838
         ],
         "type": "scatter"
        },
        {
         "line": {
          "color": "#EF553B",
          "width": 1
         },
         "mode": "lines",
         "showlegend": false,
         "x": [
          -13.360160784565679,
          -9.294135231075556
         ],
         "y": [
          -14.976530343590296,
          -7.928989743107838
         ],
         "type": "scatter"
        },
        {
         "marker": {
          "color": "#EF553B"
         },
         "mode": "markers+text",
         "name": "blue",
         "showlegend": false,
         "text": [
          "blue"
         ],
         "textposition": "top center",
         "x": [
          -14.136206645483155
         ],
         "y": [
          -13.619290878767622
         ],
         "type": "scatter"
        },
        {
         "line": {
          "color": "#EF553B",
          "width": 1
         },
         "mode": "lines",
         "showlegend": false,
         "x": [
          -9.294135231075556,
          -14.136206645483155
         ],
         "y": [
          -7.928989743107838,
          -13.619290878767622
         ],
         "type": "scatter"
        },
        {
         "marker": {
          "color": "#EF553B"
         },
         "mode": "markers+text",
         "name": "blue",
         "showlegend": false,
         "text": [
          "blue"
         ],
         "textposition": "top center",
         "x": [
          -14.361131765927098
         ],
         "y": [
          -19.198336911333694
         ],
         "type": "scatter"
        },
        {
         "line": {
          "color": "#EF553B",
          "width": 1
         },
         "mode": "lines",
         "showlegend": false,
         "x": [
          -14.136206645483155,
          -14.361131765927098
         ],
         "y": [
          -13.619290878767622,
          -19.198336911333694
         ],
         "type": "scatter"
        },
        {
         "marker": {
          "color": "#EF553B"
         },
         "mode": "markers+text",
         "name": "blue",
         "showlegend": false,
         "text": [
          "blue"
         ],
         "textposition": "top center",
         "x": [
          -9.871166264790888
         ],
         "y": [
          -12.03166094112589
         ],
         "type": "scatter"
        },
        {
         "line": {
          "color": "#EF553B",
          "width": 1
         },
         "mode": "lines",
         "showlegend": false,
         "x": [
          -14.361131765927098,
          -9.871166264790888
         ],
         "y": [
          -19.198336911333694,
          -12.03166094112589
         ],
         "type": "scatter"
        },
        {
         "marker": {
          "color": "#EF553B"
         },
         "mode": "markers+text",
         "name": "blue",
         "showlegend": false,
         "text": [
          "blue"
         ],
         "textposition": "top center",
         "x": [
          -12.703356100124315
         ],
         "y": [
          -15.38251867680971
         ],
         "type": "scatter"
        },
        {
         "line": {
          "color": "#EF553B",
          "width": 1
         },
         "mode": "lines",
         "showlegend": false,
         "x": [
          -9.871166264790888,
          -12.703356100124315
         ],
         "y": [
          -12.03166094112589,
          -15.38251867680971
         ],
         "type": "scatter"
        },
        {
         "marker": {
          "color": "#EF553B"
         },
         "mode": "markers+text",
         "name": "blue",
         "showlegend": false,
         "text": [
          "blue"
         ],
         "textposition": "top center",
         "x": [
          -12.171893342201647
         ],
         "y": [
          -14.588767998197373
         ],
         "type": "scatter"
        },
        {
         "line": {
          "color": "#EF553B",
          "width": 1
         },
         "mode": "lines",
         "showlegend": false,
         "x": [
          -12.703356100124315,
          -12.171893342201647
         ],
         "y": [
          -15.38251867680971,
          -14.588767998197373
         ],
         "type": "scatter"
        },
        {
         "marker": {
          "color": "#EF553B"
         },
         "mode": "markers+text",
         "name": "blue",
         "showlegend": false,
         "text": [
          "blue"
         ],
         "textposition": "top center",
         "x": [
          -10.43029172973984
         ],
         "y": [
          -13.684856750004542
         ],
         "type": "scatter"
        },
        {
         "line": {
          "color": "#EF553B",
          "width": 1
         },
         "mode": "lines",
         "showlegend": false,
         "x": [
          -12.171893342201647,
          -10.43029172973984
         ],
         "y": [
          -14.588767998197373,
          -13.684856750004542
         ],
         "type": "scatter"
        },
        {
         "marker": {
          "color": "#EF553B"
         },
         "mode": "markers+text",
         "name": "blue",
         "showlegend": false,
         "text": [
          "blue"
         ],
         "textposition": "top center",
         "x": [
          -8.468434038723126
         ],
         "y": [
          -14.890299107543209
         ],
         "type": "scatter"
        },
        {
         "line": {
          "color": "#EF553B",
          "width": 1
         },
         "mode": "lines",
         "showlegend": false,
         "x": [
          -10.43029172973984,
          -8.468434038723126
         ],
         "y": [
          -13.684856750004542,
          -14.890299107543209
         ],
         "type": "scatter"
        },
        {
         "marker": {
          "color": "#FFA15A"
         },
         "mode": "markers+text",
         "name": "liberal",
         "showlegend": false,
         "text": [
          "liberal"
         ],
         "textposition": "top center",
         "x": [
          -13.175935110935468
         ],
         "y": [
          11.665592045322365
         ],
         "type": "scatter"
        },
        {
         "marker": {
          "color": "#FFA15A",
          "size": 10,
          "symbol": "diamond"
         },
         "mode": "markers",
         "showlegend": false,
         "x": [
          -13.175935110935468
         ],
         "y": [
          11.665592045322365
         ],
         "type": "scatter"
        },
        {
         "marker": {
          "color": "#FFA15A"
         },
         "mode": "markers+text",
         "name": "liberal",
         "showlegend": false,
         "text": [
          "liberal"
         ],
         "textposition": "top center",
         "x": [
          -14.097184359819567
         ],
         "y": [
          19.132682860218488
         ],
         "type": "scatter"
        },
        {
         "line": {
          "color": "#FFA15A",
          "width": 1
         },
         "mode": "lines",
         "showlegend": false,
         "x": [
          -13.175935110935468,
          -14.097184359819567
         ],
         "y": [
          11.665592045322365,
          19.132682860218488
         ],
         "type": "scatter"
        },
        {
         "marker": {
          "color": "#FFA15A"
         },
         "mode": "markers+text",
         "name": "liberal",
         "showlegend": false,
         "text": [
          "liberal"
         ],
         "textposition": "top center",
         "x": [
          -13.023964391363931
         ],
         "y": [
          13.680054084022872
         ],
         "type": "scatter"
        },
        {
         "line": {
          "color": "#FFA15A",
          "width": 1
         },
         "mode": "lines",
         "showlegend": false,
         "x": [
          -14.097184359819567,
          -13.023964391363931
         ],
         "y": [
          19.132682860218488,
          13.680054084022872
         ],
         "type": "scatter"
        },
        {
         "marker": {
          "color": "#FFA15A"
         },
         "mode": "markers+text",
         "name": "liberal",
         "showlegend": false,
         "text": [
          "liberal"
         ],
         "textposition": "top center",
         "x": [
          -12.210035936867781
         ],
         "y": [
          13.152901048692254
         ],
         "type": "scatter"
        },
        {
         "line": {
          "color": "#FFA15A",
          "width": 1
         },
         "mode": "lines",
         "showlegend": false,
         "x": [
          -13.023964391363931,
          -12.210035936867781
         ],
         "y": [
          13.680054084022872,
          13.152901048692254
         ],
         "type": "scatter"
        },
        {
         "marker": {
          "color": "#FFA15A"
         },
         "mode": "markers+text",
         "name": "liberal",
         "showlegend": false,
         "text": [
          "liberal"
         ],
         "textposition": "top center",
         "x": [
          -14.370548906574111
         ],
         "y": [
          14.96244676438954
         ],
         "type": "scatter"
        },
        {
         "line": {
          "color": "#FFA15A",
          "width": 1
         },
         "mode": "lines",
         "showlegend": false,
         "x": [
          -12.210035936867781,
          -14.370548906574111
         ],
         "y": [
          13.152901048692254,
          14.96244676438954
         ],
         "type": "scatter"
        },
        {
         "marker": {
          "color": "#FFA15A"
         },
         "mode": "markers+text",
         "name": "liberal",
         "showlegend": false,
         "text": [
          "liberal"
         ],
         "textposition": "top center",
         "x": [
          -14.92197548274104
         ],
         "y": [
          23.284431643039397
         ],
         "type": "scatter"
        },
        {
         "line": {
          "color": "#FFA15A",
          "width": 1
         },
         "mode": "lines",
         "showlegend": false,
         "x": [
          -14.370548906574111,
          -14.92197548274104
         ],
         "y": [
          14.96244676438954,
          23.284431643039397
         ],
         "type": "scatter"
        },
        {
         "marker": {
          "color": "#FFA15A"
         },
         "mode": "markers+text",
         "name": "liberal",
         "showlegend": false,
         "text": [
          "liberal"
         ],
         "textposition": "top center",
         "x": [
          -10.38917048169455
         ],
         "y": [
          8.375624036546316
         ],
         "type": "scatter"
        },
        {
         "line": {
          "color": "#FFA15A",
          "width": 1
         },
         "mode": "lines",
         "showlegend": false,
         "x": [
          -14.92197548274104,
          -10.38917048169455
         ],
         "y": [
          23.284431643039397,
          8.375624036546316
         ],
         "type": "scatter"
        },
        {
         "marker": {
          "color": "#FFA15A"
         },
         "mode": "markers+text",
         "name": "liberal",
         "showlegend": false,
         "text": [
          "liberal"
         ],
         "textposition": "top center",
         "x": [
          -13.082911088332072
         ],
         "y": [
          17.99586686653616
         ],
         "type": "scatter"
        },
        {
         "line": {
          "color": "#FFA15A",
          "width": 1
         },
         "mode": "lines",
         "showlegend": false,
         "x": [
          -10.38917048169455,
          -13.082911088332072
         ],
         "y": [
          8.375624036546316,
          17.99586686653616
         ],
         "type": "scatter"
        },
        {
         "marker": {
          "color": "#FFA15A"
         },
         "mode": "markers+text",
         "name": "liberal",
         "showlegend": false,
         "text": [
          "liberal"
         ],
         "textposition": "top center",
         "x": [
          -12.461299254065322
         ],
         "y": [
          10.522126043640768
         ],
         "type": "scatter"
        },
        {
         "line": {
          "color": "#FFA15A",
          "width": 1
         },
         "mode": "lines",
         "showlegend": false,
         "x": [
          -13.082911088332072,
          -12.461299254065322
         ],
         "y": [
          17.99586686653616,
          10.522126043640768
         ],
         "type": "scatter"
        },
        {
         "marker": {
          "color": "#FFA15A"
         },
         "mode": "markers+text",
         "name": "liberal",
         "showlegend": false,
         "text": [
          "liberal"
         ],
         "textposition": "top center",
         "x": [
          -14.316902523115832
         ],
         "y": [
          21.31174317943289
         ],
         "type": "scatter"
        },
        {
         "line": {
          "color": "#FFA15A",
          "width": 1
         },
         "mode": "lines",
         "showlegend": false,
         "x": [
          -12.461299254065322,
          -14.316902523115832
         ],
         "y": [
          10.522126043640768,
          21.31174317943289
         ],
         "type": "scatter"
        },
        {
         "marker": {
          "color": "#FFA15A"
         },
         "mode": "markers+text",
         "name": "liberal",
         "showlegend": false,
         "text": [
          "liberal"
         ],
         "textposition": "top center",
         "x": [
          -10.297213542228382
         ],
         "y": [
          7.647162665824755
         ],
         "type": "scatter"
        },
        {
         "line": {
          "color": "#FFA15A",
          "width": 1
         },
         "mode": "lines",
         "showlegend": false,
         "x": [
          -14.316902523115832,
          -10.297213542228382
         ],
         "y": [
          21.31174317943289,
          7.647162665824755
         ],
         "type": "scatter"
        },
        {
         "marker": {
          "color": "#636EFA"
         },
         "mode": "markers+text",
         "name": "twitter",
         "showlegend": false,
         "text": [
          "twitter"
         ],
         "textposition": "top center",
         "x": [
          10.965606202989395
         ],
         "y": [
          0.048489023151954545
         ],
         "type": "scatter"
        },
        {
         "marker": {
          "color": "#636EFA",
          "size": 10,
          "symbol": "diamond"
         },
         "mode": "markers",
         "showlegend": false,
         "x": [
          10.965606202989395
         ],
         "y": [
          0.048489023151954545
         ],
         "type": "scatter"
        },
        {
         "marker": {
          "color": "#636EFA"
         },
         "mode": "markers+text",
         "name": "twitter",
         "showlegend": false,
         "text": [
          "twitter"
         ],
         "textposition": "top center",
         "x": [
          11.929654284526025
         ],
         "y": [
          -1.9989036493333392
         ],
         "type": "scatter"
        },
        {
         "line": {
          "color": "#636EFA",
          "width": 1
         },
         "mode": "lines",
         "showlegend": false,
         "x": [
          10.965606202989395,
          11.929654284526025
         ],
         "y": [
          0.048489023151954545,
          -1.9989036493333392
         ],
         "type": "scatter"
        },
        {
         "marker": {
          "color": "#636EFA"
         },
         "mode": "markers+text",
         "name": "twitter",
         "showlegend": false,
         "text": [
          "twitter"
         ],
         "textposition": "top center",
         "x": [
          9.106795887717512
         ],
         "y": [
          0.9286904835686568
         ],
         "type": "scatter"
        },
        {
         "line": {
          "color": "#636EFA",
          "width": 1
         },
         "mode": "lines",
         "showlegend": false,
         "x": [
          11.929654284526025,
          9.106795887717512
         ],
         "y": [
          -1.9989036493333392,
          0.9286904835686568
         ],
         "type": "scatter"
        },
        {
         "marker": {
          "color": "#636EFA"
         },
         "mode": "markers+text",
         "name": "twitter",
         "showlegend": false,
         "text": [
          "twitter"
         ],
         "textposition": "top center",
         "x": [
          11.399004715556154
         ],
         "y": [
          -0.8209610904850054
         ],
         "type": "scatter"
        },
        {
         "line": {
          "color": "#636EFA",
          "width": 1
         },
         "mode": "lines",
         "showlegend": false,
         "x": [
          9.106795887717512,
          11.399004715556154
         ],
         "y": [
          0.9286904835686568,
          -0.8209610904850054
         ],
         "type": "scatter"
        },
        {
         "marker": {
          "color": "#636EFA"
         },
         "mode": "markers+text",
         "name": "twitter",
         "showlegend": false,
         "text": [
          "twitter"
         ],
         "textposition": "top center",
         "x": [
          20.51634949445377
         ],
         "y": [
          4.575942396472762
         ],
         "type": "scatter"
        },
        {
         "line": {
          "color": "#636EFA",
          "width": 1
         },
         "mode": "lines",
         "showlegend": false,
         "x": [
          11.399004715556154,
          20.51634949445377
         ],
         "y": [
          -0.8209610904850054,
          4.575942396472762
         ],
         "type": "scatter"
        },
        {
         "marker": {
          "color": "#636EFA"
         },
         "mode": "markers+text",
         "name": "twitter",
         "showlegend": false,
         "text": [
          "twitter"
         ],
         "textposition": "top center",
         "x": [
          16.606247338451777
         ],
         "y": [
          3.17045419125797
         ],
         "type": "scatter"
        },
        {
         "line": {
          "color": "#636EFA",
          "width": 1
         },
         "mode": "lines",
         "showlegend": false,
         "x": [
          20.51634949445377,
          16.606247338451777
         ],
         "y": [
          4.575942396472762,
          3.17045419125797
         ],
         "type": "scatter"
        },
        {
         "marker": {
          "color": "#636EFA"
         },
         "mode": "markers+text",
         "name": "twitter",
         "showlegend": false,
         "text": [
          "twitter"
         ],
         "textposition": "top center",
         "x": [
          17.547760401630416
         ],
         "y": [
          8.560336555211984
         ],
         "type": "scatter"
        },
        {
         "line": {
          "color": "#636EFA",
          "width": 1
         },
         "mode": "lines",
         "showlegend": false,
         "x": [
          16.606247338451777,
          17.547760401630416
         ],
         "y": [
          3.17045419125797,
          8.560336555211984
         ],
         "type": "scatter"
        },
        {
         "marker": {
          "color": "#636EFA"
         },
         "mode": "markers+text",
         "name": "twitter",
         "showlegend": false,
         "text": [
          "twitter"
         ],
         "textposition": "top center",
         "x": [
          16.522731910893935
         ],
         "y": [
          4.600749821657801
         ],
         "type": "scatter"
        },
        {
         "line": {
          "color": "#636EFA",
          "width": 1
         },
         "mode": "lines",
         "showlegend": false,
         "x": [
          17.547760401630416,
          16.522731910893935
         ],
         "y": [
          8.560336555211984,
          4.600749821657801
         ],
         "type": "scatter"
        },
        {
         "marker": {
          "color": "#636EFA"
         },
         "mode": "markers+text",
         "name": "twitter",
         "showlegend": false,
         "text": [
          "twitter"
         ],
         "textposition": "top center",
         "x": [
          11.875878927527012
         ],
         "y": [
          3.6446470563369076
         ],
         "type": "scatter"
        },
        {
         "line": {
          "color": "#636EFA",
          "width": 1
         },
         "mode": "lines",
         "showlegend": false,
         "x": [
          16.522731910893935,
          11.875878927527012
         ],
         "y": [
          4.600749821657801,
          3.6446470563369076
         ],
         "type": "scatter"
        },
        {
         "marker": {
          "color": "#636EFA"
         },
         "mode": "markers+text",
         "name": "twitter",
         "showlegend": false,
         "text": [
          "twitter"
         ],
         "textposition": "top center",
         "x": [
          19.832617717060845
         ],
         "y": [
          6.537324544747243
         ],
         "type": "scatter"
        },
        {
         "line": {
          "color": "#636EFA",
          "width": 1
         },
         "mode": "lines",
         "showlegend": false,
         "x": [
          11.875878927527012,
          19.832617717060845
         ],
         "y": [
          3.6446470563369076,
          6.537324544747243
         ],
         "type": "scatter"
        },
        {
         "marker": {
          "color": "#636EFA"
         },
         "mode": "markers+text",
         "name": "twitter",
         "showlegend": false,
         "text": [
          "twitter"
         ],
         "textposition": "top center",
         "x": [
          15.842428162144666
         ],
         "y": [
          -0.04247564657071959
         ],
         "type": "scatter"
        },
        {
         "line": {
          "color": "#636EFA",
          "width": 1
         },
         "mode": "lines",
         "showlegend": false,
         "x": [
          19.832617717060845,
          15.842428162144666
         ],
         "y": [
          6.537324544747243,
          -0.04247564657071959
         ],
         "type": "scatter"
        }
       ],
       "layout": {
        "legend": {
         "x": 1.02,
         "y": 1.0
        },
        "template": {
         "data": {
          "barpolar": [
           {
            "marker": {
             "line": {
              "color": "#E5ECF6",
              "width": 0.5
             },
             "pattern": {
              "fillmode": "overlay",
              "size": 10,
              "solidity": 0.2
             }
            },
            "type": "barpolar"
           }
          ],
          "bar": [
           {
            "error_x": {
             "color": "#2a3f5f"
            },
            "error_y": {
             "color": "#2a3f5f"
            },
            "marker": {
             "line": {
              "color": "#E5ECF6",
              "width": 0.5
             },
             "pattern": {
              "fillmode": "overlay",
              "size": 10,
              "solidity": 0.2
             }
            },
            "type": "bar"
           }
          ],
          "carpet": [
           {
            "aaxis": {
             "endlinecolor": "#2a3f5f",
             "gridcolor": "white",
             "linecolor": "white",
             "minorgridcolor": "white",
             "startlinecolor": "#2a3f5f"
            },
            "baxis": {
             "endlinecolor": "#2a3f5f",
             "gridcolor": "white",
             "linecolor": "white",
             "minorgridcolor": "white",
             "startlinecolor": "#2a3f5f"
            },
            "type": "carpet"
           }
          ],
          "choropleth": [
           {
            "colorbar": {
             "outlinewidth": 0,
             "ticks": ""
            },
            "type": "choropleth"
           }
          ],
          "contourcarpet": [
           {
            "colorbar": {
             "outlinewidth": 0,
             "ticks": ""
            },
            "type": "contourcarpet"
           }
          ],
          "contour": [
           {
            "colorbar": {
             "outlinewidth": 0,
             "ticks": ""
            },
            "colorscale": [
             [
              0.0,
              "#0d0887"
             ],
             [
              0.1111111111111111,
              "#46039f"
             ],
             [
              0.2222222222222222,
              "#7201a8"
             ],
             [
              0.3333333333333333,
              "#9c179e"
             ],
             [
              0.4444444444444444,
              "#bd3786"
             ],
             [
              0.5555555555555556,
              "#d8576b"
             ],
             [
              0.6666666666666666,
              "#ed7953"
             ],
             [
              0.7777777777777778,
              "#fb9f3a"
             ],
             [
              0.8888888888888888,
              "#fdca26"
             ],
             [
              1.0,
              "#f0f921"
             ]
            ],
            "type": "contour"
           }
          ],
          "heatmapgl": [
           {
            "colorbar": {
             "outlinewidth": 0,
             "ticks": ""
            },
            "colorscale": [
             [
              0.0,
              "#0d0887"
             ],
             [
              0.1111111111111111,
              "#46039f"
             ],
             [
              0.2222222222222222,
              "#7201a8"
             ],
             [
              0.3333333333333333,
              "#9c179e"
             ],
             [
              0.4444444444444444,
              "#bd3786"
             ],
             [
              0.5555555555555556,
              "#d8576b"
             ],
             [
              0.6666666666666666,
              "#ed7953"
             ],
             [
              0.7777777777777778,
              "#fb9f3a"
             ],
             [
              0.8888888888888888,
              "#fdca26"
             ],
             [
              1.0,
              "#f0f921"
             ]
            ],
            "type": "heatmapgl"
           }
          ],
          "heatmap": [
           {
            "colorbar": {
             "outlinewidth": 0,
             "ticks": ""
            },
            "colorscale": [
             [
              0.0,
              "#0d0887"
             ],
             [
              0.1111111111111111,
              "#46039f"
             ],
             [
              0.2222222222222222,
              "#7201a8"
             ],
             [
              0.3333333333333333,
              "#9c179e"
             ],
             [
              0.4444444444444444,
              "#bd3786"
             ],
             [
              0.5555555555555556,
              "#d8576b"
             ],
             [
              0.6666666666666666,
              "#ed7953"
             ],
             [
              0.7777777777777778,
              "#fb9f3a"
             ],
             [
              0.8888888888888888,
              "#fdca26"
             ],
             [
              1.0,
              "#f0f921"
             ]
            ],
            "type": "heatmap"
           }
          ],
          "histogram2dcontour": [
           {
            "colorbar": {
             "outlinewidth": 0,
             "ticks": ""
            },
            "colorscale": [
             [
              0.0,
              "#0d0887"
             ],
             [
              0.1111111111111111,
              "#46039f"
             ],
             [
              0.2222222222222222,
              "#7201a8"
             ],
             [
              0.3333333333333333,
              "#9c179e"
             ],
             [
              0.4444444444444444,
              "#bd3786"
             ],
             [
              0.5555555555555556,
              "#d8576b"
             ],
             [
              0.6666666666666666,
              "#ed7953"
             ],
             [
              0.7777777777777778,
              "#fb9f3a"
             ],
             [
              0.8888888888888888,
              "#fdca26"
             ],
             [
              1.0,
              "#f0f921"
             ]
            ],
            "type": "histogram2dcontour"
           }
          ],
          "histogram2d": [
           {
            "colorbar": {
             "outlinewidth": 0,
             "ticks": ""
            },
            "colorscale": [
             [
              0.0,
              "#0d0887"
             ],
             [
              0.1111111111111111,
              "#46039f"
             ],
             [
              0.2222222222222222,
              "#7201a8"
             ],
             [
              0.3333333333333333,
              "#9c179e"
             ],
             [
              0.4444444444444444,
              "#bd3786"
             ],
             [
              0.5555555555555556,
              "#d8576b"
             ],
             [
              0.6666666666666666,
              "#ed7953"
             ],
             [
              0.7777777777777778,
              "#fb9f3a"
             ],
             [
              0.8888888888888888,
              "#fdca26"
             ],
             [
              1.0,
              "#f0f921"
             ]
            ],
            "type": "histogram2d"
           }
          ],
          "histogram": [
           {
            "marker": {
             "pattern": {
              "fillmode": "overlay",
              "size": 10,
              "solidity": 0.2
             }
            },
            "type": "histogram"
           }
          ],
          "mesh3d": [
           {
            "colorbar": {
             "outlinewidth": 0,
             "ticks": ""
            },
            "type": "mesh3d"
           }
          ],
          "parcoords": [
           {
            "line": {
             "colorbar": {
              "outlinewidth": 0,
              "ticks": ""
             }
            },
            "type": "parcoords"
           }
          ],
          "pie": [
           {
            "automargin": true,
            "type": "pie"
           }
          ],
          "scatter3d": [
           {
            "line": {
             "colorbar": {
              "outlinewidth": 0,
              "ticks": ""
             }
            },
            "marker": {
             "colorbar": {
              "outlinewidth": 0,
              "ticks": ""
             }
            },
            "type": "scatter3d"
           }
          ],
          "scattercarpet": [
           {
            "marker": {
             "colorbar": {
              "outlinewidth": 0,
              "ticks": ""
             }
            },
            "type": "scattercarpet"
           }
          ],
          "scattergeo": [
           {
            "marker": {
             "colorbar": {
              "outlinewidth": 0,
              "ticks": ""
             }
            },
            "type": "scattergeo"
           }
          ],
          "scattergl": [
           {
            "marker": {
             "colorbar": {
              "outlinewidth": 0,
              "ticks": ""
             }
            },
            "type": "scattergl"
           }
          ],
          "scattermapbox": [
           {
            "marker": {
             "colorbar": {
              "outlinewidth": 0,
              "ticks": ""
             }
            },
            "type": "scattermapbox"
           }
          ],
          "scatterpolargl": [
           {
            "marker": {
             "colorbar": {
              "outlinewidth": 0,
              "ticks": ""
             }
            },
            "type": "scatterpolargl"
           }
          ],
          "scatterpolar": [
           {
            "marker": {
             "colorbar": {
              "outlinewidth": 0,
              "ticks": ""
             }
            },
            "type": "scatterpolar"
           }
          ],
          "scatter": [
           {
            "fillpattern": {
             "fillmode": "overlay",
             "size": 10,
             "solidity": 0.2
            },
            "type": "scatter"
           }
          ],
          "scatterternary": [
           {
            "marker": {
             "colorbar": {
              "outlinewidth": 0,
              "ticks": ""
             }
            },
            "type": "scatterternary"
           }
          ],
          "surface": [
           {
            "colorbar": {
             "outlinewidth": 0,
             "ticks": ""
            },
            "colorscale": [
             [
              0.0,
              "#0d0887"
             ],
             [
              0.1111111111111111,
              "#46039f"
             ],
             [
              0.2222222222222222,
              "#7201a8"
             ],
             [
              0.3333333333333333,
              "#9c179e"
             ],
             [
              0.4444444444444444,
              "#bd3786"
             ],
             [
              0.5555555555555556,
              "#d8576b"
             ],
             [
              0.6666666666666666,
              "#ed7953"
             ],
             [
              0.7777777777777778,
              "#fb9f3a"
             ],
             [
              0.8888888888888888,
              "#fdca26"
             ],
             [
              1.0,
              "#f0f921"
             ]
            ],
            "type": "surface"
           }
          ],
          "table": [
           {
            "cells": {
             "fill": {
              "color": "#EBF0F8"
             },
             "line": {
              "color": "white"
             }
            },
            "header": {
             "fill": {
              "color": "#C8D4E3"
             },
             "line": {
              "color": "white"
             }
            },
            "type": "table"
           }
          ]
         },
         "layout": {
          "annotationdefaults": {
           "arrowcolor": "#2a3f5f",
           "arrowhead": 0,
           "arrowwidth": 1
          },
          "autotypenumbers": "strict",
          "coloraxis": {
           "colorbar": {
            "outlinewidth": 0,
            "ticks": ""
           }
          },
          "colorscale": {
           "diverging": [
            [
             0,
             "#8e0152"
            ],
            [
             0.1,
             "#c51b7d"
            ],
            [
             0.2,
             "#de77ae"
            ],
            [
             0.3,
             "#f1b6da"
            ],
            [
             0.4,
             "#fde0ef"
            ],
            [
             0.5,
             "#f7f7f7"
            ],
            [
             0.6,
             "#e6f5d0"
            ],
            [
             0.7,
             "#b8e186"
            ],
            [
             0.8,
             "#7fbc41"
            ],
            [
             0.9,
             "#4d9221"
            ],
            [
             1,
             "#276419"
            ]
           ],
           "sequential": [
            [
             0.0,
             "#0d0887"
            ],
            [
             0.1111111111111111,
             "#46039f"
            ],
            [
             0.2222222222222222,
             "#7201a8"
            ],
            [
             0.3333333333333333,
             "#9c179e"
            ],
            [
             0.4444444444444444,
             "#bd3786"
            ],
            [
             0.5555555555555556,
             "#d8576b"
            ],
            [
             0.6666666666666666,
             "#ed7953"
            ],
            [
             0.7777777777777778,
             "#fb9f3a"
            ],
            [
             0.8888888888888888,
             "#fdca26"
            ],
            [
             1.0,
             "#f0f921"
            ]
           ],
           "sequentialminus": [
            [
             0.0,
             "#0d0887"
            ],
            [
             0.1111111111111111,
             "#46039f"
            ],
            [
             0.2222222222222222,
             "#7201a8"
            ],
            [
             0.3333333333333333,
             "#9c179e"
            ],
            [
             0.4444444444444444,
             "#bd3786"
            ],
            [
             0.5555555555555556,
             "#d8576b"
            ],
            [
             0.6666666666666666,
             "#ed7953"
            ],
            [
             0.7777777777777778,
             "#fb9f3a"
            ],
            [
             0.8888888888888888,
             "#fdca26"
            ],
            [
             1.0,
             "#f0f921"
            ]
           ]
          },
          "colorway": [
           "#636efa",
           "#EF553B",
           "#00cc96",
           "#ab63fa",
           "#FFA15A",
           "#19d3f3",
           "#FF6692",
           "#B6E880",
           "#FF97FF",
           "#FECB52"
          ],
          "font": {
           "color": "#2a3f5f"
          },
          "geo": {
           "bgcolor": "white",
           "lakecolor": "white",
           "landcolor": "#E5ECF6",
           "showlakes": true,
           "showland": true,
           "subunitcolor": "white"
          },
          "hoverlabel": {
           "align": "left"
          },
          "hovermode": "closest",
          "mapbox": {
           "style": "light"
          },
          "paper_bgcolor": "white",
          "plot_bgcolor": "#E5ECF6",
          "polar": {
           "angularaxis": {
            "gridcolor": "white",
            "linecolor": "white",
            "ticks": ""
           },
           "bgcolor": "#E5ECF6",
           "radialaxis": {
            "gridcolor": "white",
            "linecolor": "white",
            "ticks": ""
           }
          },
          "scene": {
           "xaxis": {
            "backgroundcolor": "#E5ECF6",
            "gridcolor": "white",
            "gridwidth": 2,
            "linecolor": "white",
            "showbackground": true,
            "ticks": "",
            "zerolinecolor": "white"
           },
           "yaxis": {
            "backgroundcolor": "#E5ECF6",
            "gridcolor": "white",
            "gridwidth": 2,
            "linecolor": "white",
            "showbackground": true,
            "ticks": "",
            "zerolinecolor": "white"
           },
           "zaxis": {
            "backgroundcolor": "#E5ECF6",
            "gridcolor": "white",
            "gridwidth": 2,
            "linecolor": "white",
            "showbackground": true,
            "ticks": "",
            "zerolinecolor": "white"
           }
          },
          "shapedefaults": {
           "line": {
            "color": "#2a3f5f"
           }
          },
          "ternary": {
           "aaxis": {
            "gridcolor": "white",
            "linecolor": "white",
            "ticks": ""
           },
           "baxis": {
            "gridcolor": "white",
            "linecolor": "white",
            "ticks": ""
           },
           "bgcolor": "#E5ECF6",
           "caxis": {
            "gridcolor": "white",
            "linecolor": "white",
            "ticks": ""
           }
          },
          "title": {
           "x": 0.05
          },
          "xaxis": {
           "automargin": true,
           "gridcolor": "white",
           "linecolor": "white",
           "ticks": "",
           "title": {
            "standoff": 15
           },
           "zerolinecolor": "white",
           "zerolinewidth": 2
          },
          "yaxis": {
           "automargin": true,
           "gridcolor": "white",
           "linecolor": "white",
           "ticks": "",
           "title": {
            "standoff": 15
           },
           "zerolinecolor": "white",
           "zerolinewidth": 2
          }
         }
        },
        "title": {
         "text": "2D Visualization of Word Vectors"
        },
        "xaxis": {
         "range": [
          -50,
          50
         ],
         "title": {
          "text": "PC1"
         }
        },
        "yaxis": {
         "range": [
          -50,
          50
         ],
         "title": {
          "text": "PC2"
         }
        }
       },
       "config": {
        "showLink": false,
        "linkText": "Export to plot.ly",
        "plotlyServerURL": "https://plot.ly"
       }
      },
      "text/html": "<div>                            <div id=\"5fe3d3fd-c970-4a65-a08c-1174dbecce93\" class=\"plotly-graph-div\" style=\"height:525px; width:100%;\"></div>            <script type=\"text/javascript\">                require([\"plotly\"], function(Plotly) {                    window.PLOTLYENV=window.PLOTLYENV || {};                                    if (document.getElementById(\"5fe3d3fd-c970-4a65-a08c-1174dbecce93\")) {                    Plotly.newPlot(                        \"5fe3d3fd-c970-4a65-a08c-1174dbecce93\",                        [{\"marker\":{\"color\":\"#00CC96\"},\"mode\":\"markers+text\",\"name\":\"facebook\",\"showlegend\":false,\"text\":[\"facebook\"],\"textposition\":\"top center\",\"x\":[10.852317602843492],\"y\":[-1.371123855083744],\"type\":\"scatter\"},{\"marker\":{\"color\":\"#00CC96\",\"size\":10,\"symbol\":\"diamond\"},\"mode\":\"markers\",\"showlegend\":false,\"x\":[10.852317602843492],\"y\":[-1.371123855083744],\"type\":\"scatter\"},{\"marker\":{\"color\":\"#00CC96\"},\"mode\":\"markers+text\",\"name\":\"facebook\",\"showlegend\":false,\"text\":[\"facebook\"],\"textposition\":\"top center\",\"x\":[6.145618131298233],\"y\":[-1.6093203729230836],\"type\":\"scatter\"},{\"line\":{\"color\":\"#00CC96\",\"width\":1},\"mode\":\"lines\",\"showlegend\":false,\"x\":[10.852317602843492,6.145618131298233],\"y\":[-1.371123855083744,-1.6093203729230836],\"type\":\"scatter\"},{\"marker\":{\"color\":\"#00CC96\"},\"mode\":\"markers+text\",\"name\":\"facebook\",\"showlegend\":false,\"text\":[\"facebook\"],\"textposition\":\"top center\",\"x\":[12.856716249039941],\"y\":[-0.894355956935926],\"type\":\"scatter\"},{\"line\":{\"color\":\"#00CC96\",\"width\":1},\"mode\":\"lines\",\"showlegend\":false,\"x\":[6.145618131298233,12.856716249039941],\"y\":[-1.6093203729230836,-0.894355956935926],\"type\":\"scatter\"},{\"marker\":{\"color\":\"#00CC96\"},\"mode\":\"markers+text\",\"name\":\"facebook\",\"showlegend\":false,\"text\":[\"facebook\"],\"textposition\":\"top center\",\"x\":[9.020082190281375],\"y\":[-3.048122679046068],\"type\":\"scatter\"},{\"line\":{\"color\":\"#00CC96\",\"width\":1},\"mode\":\"lines\",\"showlegend\":false,\"x\":[12.856716249039941,9.020082190281375],\"y\":[-0.894355956935926,-3.048122679046068],\"type\":\"scatter\"},{\"marker\":{\"color\":\"#00CC96\"},\"mode\":\"markers+text\",\"name\":\"facebook\",\"showlegend\":false,\"text\":[\"facebook\"],\"textposition\":\"top center\",\"x\":[21.11577006393872],\"y\":[-1.4089029310892662],\"type\":\"scatter\"},{\"line\":{\"color\":\"#00CC96\",\"width\":1},\"mode\":\"lines\",\"showlegend\":false,\"x\":[9.020082190281375,21.11577006393872],\"y\":[-3.048122679046068,-1.4089029310892662],\"type\":\"scatter\"},{\"marker\":{\"color\":\"#00CC96\"},\"mode\":\"markers+text\",\"name\":\"facebook\",\"showlegend\":false,\"text\":[\"facebook\"],\"textposition\":\"top center\",\"x\":[16.843347451706535],\"y\":[-0.5590878217842723],\"type\":\"scatter\"},{\"line\":{\"color\":\"#00CC96\",\"width\":1},\"mode\":\"lines\",\"showlegend\":false,\"x\":[21.11577006393872,16.843347451706535],\"y\":[-1.4089029310892662,-0.5590878217842723],\"type\":\"scatter\"},{\"marker\":{\"color\":\"#00CC96\"},\"mode\":\"markers+text\",\"name\":\"facebook\",\"showlegend\":false,\"text\":[\"facebook\"],\"textposition\":\"top center\",\"x\":[14.854793643048366],\"y\":[-0.667285834380734],\"type\":\"scatter\"},{\"line\":{\"color\":\"#00CC96\",\"width\":1},\"mode\":\"lines\",\"showlegend\":false,\"x\":[16.843347451706535,14.854793643048366],\"y\":[-0.5590878217842723,-0.667285834380734],\"type\":\"scatter\"},{\"marker\":{\"color\":\"#00CC96\"},\"mode\":\"markers+text\",\"name\":\"facebook\",\"showlegend\":false,\"text\":[\"facebook\"],\"textposition\":\"top center\",\"x\":[11.291019182683034],\"y\":[-1.3302278574520106],\"type\":\"scatter\"},{\"line\":{\"color\":\"#00CC96\",\"width\":1},\"mode\":\"lines\",\"showlegend\":false,\"x\":[14.854793643048366,11.291019182683034],\"y\":[-0.667285834380734,-1.3302278574520106],\"type\":\"scatter\"},{\"marker\":{\"color\":\"#00CC96\"},\"mode\":\"markers+text\",\"name\":\"facebook\",\"showlegend\":false,\"text\":[\"facebook\"],\"textposition\":\"top center\",\"x\":[11.70822506571416],\"y\":[-1.2646154746042022],\"type\":\"scatter\"},{\"line\":{\"color\":\"#00CC96\",\"width\":1},\"mode\":\"lines\",\"showlegend\":false,\"x\":[11.291019182683034,11.70822506571416],\"y\":[-1.3302278574520106,-1.2646154746042022],\"type\":\"scatter\"},{\"marker\":{\"color\":\"#00CC96\"},\"mode\":\"markers+text\",\"name\":\"facebook\",\"showlegend\":false,\"text\":[\"facebook\"],\"textposition\":\"top center\",\"x\":[14.969972966449266],\"y\":[-0.9973574274209226],\"type\":\"scatter\"},{\"line\":{\"color\":\"#00CC96\",\"width\":1},\"mode\":\"lines\",\"showlegend\":false,\"x\":[11.70822506571416,14.969972966449266],\"y\":[-1.2646154746042022,-0.9973574274209226],\"type\":\"scatter\"},{\"marker\":{\"color\":\"#00CC96\"},\"mode\":\"markers+text\",\"name\":\"facebook\",\"showlegend\":false,\"text\":[\"facebook\"],\"textposition\":\"top center\",\"x\":[16.203185336646584],\"y\":[-1.7148951873507599],\"type\":\"scatter\"},{\"line\":{\"color\":\"#00CC96\",\"width\":1},\"mode\":\"lines\",\"showlegend\":false,\"x\":[14.969972966449266,16.203185336646584],\"y\":[-0.9973574274209226,-1.7148951873507599],\"type\":\"scatter\"},{\"marker\":{\"color\":\"#AB63FA\"},\"mode\":\"markers+text\",\"name\":\"elon\",\"showlegend\":false,\"text\":[\"elon\"],\"textposition\":\"top center\",\"x\":[-4.763212495149274],\"y\":[-2.2523207438031774],\"type\":\"scatter\"},{\"marker\":{\"color\":\"#AB63FA\",\"size\":10,\"symbol\":\"diamond\"},\"mode\":\"markers\",\"showlegend\":false,\"x\":[-4.763212495149274],\"y\":[-2.2523207438031774],\"type\":\"scatter\"},{\"marker\":{\"color\":\"#AB63FA\"},\"mode\":\"markers+text\",\"name\":\"elon\",\"showlegend\":false,\"text\":[\"elon\"],\"textposition\":\"top center\",\"x\":[-2.3608077534672356],\"y\":[-3.18843969144673],\"type\":\"scatter\"},{\"line\":{\"color\":\"#AB63FA\",\"width\":1},\"mode\":\"lines\",\"showlegend\":false,\"x\":[-4.763212495149274,-2.3608077534672356],\"y\":[-2.2523207438031774,-3.18843969144673],\"type\":\"scatter\"},{\"marker\":{\"color\":\"#AB63FA\"},\"mode\":\"markers+text\",\"name\":\"elon\",\"showlegend\":false,\"text\":[\"elon\"],\"textposition\":\"top center\",\"x\":[-4.763212495149274],\"y\":[-2.2523207438031774],\"type\":\"scatter\"},{\"line\":{\"color\":\"#AB63FA\",\"width\":1},\"mode\":\"lines\",\"showlegend\":false,\"x\":[-2.3608077534672356,-4.763212495149274],\"y\":[-3.18843969144673,-2.2523207438031774],\"type\":\"scatter\"},{\"marker\":{\"color\":\"#AB63FA\"},\"mode\":\"markers+text\",\"name\":\"elon\",\"showlegend\":false,\"text\":[\"elon\"],\"textposition\":\"top center\",\"x\":[-4.763212495149274],\"y\":[-2.2523207438031774],\"type\":\"scatter\"},{\"line\":{\"color\":\"#AB63FA\",\"width\":1},\"mode\":\"lines\",\"showlegend\":false,\"x\":[-4.763212495149274,-4.763212495149274],\"y\":[-2.2523207438031774,-2.2523207438031774],\"type\":\"scatter\"},{\"marker\":{\"color\":\"#AB63FA\"},\"mode\":\"markers+text\",\"name\":\"elon\",\"showlegend\":false,\"text\":[\"elon\"],\"textposition\":\"top center\",\"x\":[-3.9098869867784463],\"y\":[-3.2071365600829274],\"type\":\"scatter\"},{\"line\":{\"color\":\"#AB63FA\",\"width\":1},\"mode\":\"lines\",\"showlegend\":false,\"x\":[-4.763212495149274,-3.9098869867784463],\"y\":[-2.2523207438031774,-3.2071365600829274],\"type\":\"scatter\"},{\"marker\":{\"color\":\"#AB63FA\"},\"mode\":\"markers+text\",\"name\":\"elon\",\"showlegend\":false,\"text\":[\"elon\"],\"textposition\":\"top center\",\"x\":[-3.861604194966026],\"y\":[-3.053244185479108],\"type\":\"scatter\"},{\"line\":{\"color\":\"#AB63FA\",\"width\":1},\"mode\":\"lines\",\"showlegend\":false,\"x\":[-3.9098869867784463,-3.861604194966026],\"y\":[-3.2071365600829274,-3.053244185479108],\"type\":\"scatter\"},{\"marker\":{\"color\":\"#AB63FA\"},\"mode\":\"markers+text\",\"name\":\"elon\",\"showlegend\":false,\"text\":[\"elon\"],\"textposition\":\"top center\",\"x\":[-1.75126626761268],\"y\":[-1.623371870052079],\"type\":\"scatter\"},{\"line\":{\"color\":\"#AB63FA\",\"width\":1},\"mode\":\"lines\",\"showlegend\":false,\"x\":[-3.861604194966026,-1.75126626761268],\"y\":[-3.053244185479108,-1.623371870052079],\"type\":\"scatter\"},{\"marker\":{\"color\":\"#AB63FA\"},\"mode\":\"markers+text\",\"name\":\"elon\",\"showlegend\":false,\"text\":[\"elon\"],\"textposition\":\"top center\",\"x\":[-3.545649026816284],\"y\":[-1.9013884367672425],\"type\":\"scatter\"},{\"line\":{\"color\":\"#AB63FA\",\"width\":1},\"mode\":\"lines\",\"showlegend\":false,\"x\":[-1.75126626761268,-3.545649026816284],\"y\":[-1.623371870052079,-1.9013884367672425],\"type\":\"scatter\"},{\"marker\":{\"color\":\"#AB63FA\"},\"mode\":\"markers+text\",\"name\":\"elon\",\"showlegend\":false,\"text\":[\"elon\"],\"textposition\":\"top center\",\"x\":[-4.304218493489876],\"y\":[-3.2922082947972227],\"type\":\"scatter\"},{\"line\":{\"color\":\"#AB63FA\",\"width\":1},\"mode\":\"lines\",\"showlegend\":false,\"x\":[-3.545649026816284,-4.304218493489876],\"y\":[-1.9013884367672425,-3.2922082947972227],\"type\":\"scatter\"},{\"marker\":{\"color\":\"#AB63FA\"},\"mode\":\"markers+text\",\"name\":\"elon\",\"showlegend\":false,\"text\":[\"elon\"],\"textposition\":\"top center\",\"x\":[-2.7416477089048503],\"y\":[-3.319409347787121],\"type\":\"scatter\"},{\"line\":{\"color\":\"#AB63FA\",\"width\":1},\"mode\":\"lines\",\"showlegend\":false,\"x\":[-4.304218493489876,-2.7416477089048503],\"y\":[-3.2922082947972227,-3.319409347787121],\"type\":\"scatter\"},{\"marker\":{\"color\":\"#AB63FA\"},\"mode\":\"markers+text\",\"name\":\"elon\",\"showlegend\":false,\"text\":[\"elon\"],\"textposition\":\"top center\",\"x\":[-3.477986731554708],\"y\":[-2.225687732720551],\"type\":\"scatter\"},{\"line\":{\"color\":\"#AB63FA\",\"width\":1},\"mode\":\"lines\",\"showlegend\":false,\"x\":[-2.7416477089048503,-3.477986731554708],\"y\":[-3.319409347787121,-2.225687732720551],\"type\":\"scatter\"},{\"marker\":{\"color\":\"#EF553B\"},\"mode\":\"markers+text\",\"name\":\"blue\",\"showlegend\":false,\"text\":[\"blue\"],\"textposition\":\"top center\",\"x\":[-10.783401098643646],\"y\":[-11.50426333743932],\"type\":\"scatter\"},{\"marker\":{\"color\":\"#EF553B\",\"size\":10,\"symbol\":\"diamond\"},\"mode\":\"markers\",\"showlegend\":false,\"x\":[-10.783401098643646],\"y\":[-11.50426333743932],\"type\":\"scatter\"},{\"marker\":{\"color\":\"#EF553B\"},\"mode\":\"markers+text\",\"name\":\"blue\",\"showlegend\":false,\"text\":[\"blue\"],\"textposition\":\"top center\",\"x\":[-9.836100198550284],\"y\":[-9.69626648714902],\"type\":\"scatter\"},{\"line\":{\"color\":\"#EF553B\",\"width\":1},\"mode\":\"lines\",\"showlegend\":false,\"x\":[-10.783401098643646,-9.836100198550284],\"y\":[-11.50426333743932,-9.69626648714902],\"type\":\"scatter\"},{\"marker\":{\"color\":\"#EF553B\"},\"mode\":\"markers+text\",\"name\":\"blue\",\"showlegend\":false,\"text\":[\"blue\"],\"textposition\":\"top center\",\"x\":[-13.360160784565679],\"y\":[-14.976530343590296],\"type\":\"scatter\"},{\"line\":{\"color\":\"#EF553B\",\"width\":1},\"mode\":\"lines\",\"showlegend\":false,\"x\":[-9.836100198550284,-13.360160784565679],\"y\":[-9.69626648714902,-14.976530343590296],\"type\":\"scatter\"},{\"marker\":{\"color\":\"#EF553B\"},\"mode\":\"markers+text\",\"name\":\"blue\",\"showlegend\":false,\"text\":[\"blue\"],\"textposition\":\"top center\",\"x\":[-9.294135231075556],\"y\":[-7.928989743107838],\"type\":\"scatter\"},{\"line\":{\"color\":\"#EF553B\",\"width\":1},\"mode\":\"lines\",\"showlegend\":false,\"x\":[-13.360160784565679,-9.294135231075556],\"y\":[-14.976530343590296,-7.928989743107838],\"type\":\"scatter\"},{\"marker\":{\"color\":\"#EF553B\"},\"mode\":\"markers+text\",\"name\":\"blue\",\"showlegend\":false,\"text\":[\"blue\"],\"textposition\":\"top center\",\"x\":[-14.136206645483155],\"y\":[-13.619290878767622],\"type\":\"scatter\"},{\"line\":{\"color\":\"#EF553B\",\"width\":1},\"mode\":\"lines\",\"showlegend\":false,\"x\":[-9.294135231075556,-14.136206645483155],\"y\":[-7.928989743107838,-13.619290878767622],\"type\":\"scatter\"},{\"marker\":{\"color\":\"#EF553B\"},\"mode\":\"markers+text\",\"name\":\"blue\",\"showlegend\":false,\"text\":[\"blue\"],\"textposition\":\"top center\",\"x\":[-14.361131765927098],\"y\":[-19.198336911333694],\"type\":\"scatter\"},{\"line\":{\"color\":\"#EF553B\",\"width\":1},\"mode\":\"lines\",\"showlegend\":false,\"x\":[-14.136206645483155,-14.361131765927098],\"y\":[-13.619290878767622,-19.198336911333694],\"type\":\"scatter\"},{\"marker\":{\"color\":\"#EF553B\"},\"mode\":\"markers+text\",\"name\":\"blue\",\"showlegend\":false,\"text\":[\"blue\"],\"textposition\":\"top center\",\"x\":[-9.871166264790888],\"y\":[-12.03166094112589],\"type\":\"scatter\"},{\"line\":{\"color\":\"#EF553B\",\"width\":1},\"mode\":\"lines\",\"showlegend\":false,\"x\":[-14.361131765927098,-9.871166264790888],\"y\":[-19.198336911333694,-12.03166094112589],\"type\":\"scatter\"},{\"marker\":{\"color\":\"#EF553B\"},\"mode\":\"markers+text\",\"name\":\"blue\",\"showlegend\":false,\"text\":[\"blue\"],\"textposition\":\"top center\",\"x\":[-12.703356100124315],\"y\":[-15.38251867680971],\"type\":\"scatter\"},{\"line\":{\"color\":\"#EF553B\",\"width\":1},\"mode\":\"lines\",\"showlegend\":false,\"x\":[-9.871166264790888,-12.703356100124315],\"y\":[-12.03166094112589,-15.38251867680971],\"type\":\"scatter\"},{\"marker\":{\"color\":\"#EF553B\"},\"mode\":\"markers+text\",\"name\":\"blue\",\"showlegend\":false,\"text\":[\"blue\"],\"textposition\":\"top center\",\"x\":[-12.171893342201647],\"y\":[-14.588767998197373],\"type\":\"scatter\"},{\"line\":{\"color\":\"#EF553B\",\"width\":1},\"mode\":\"lines\",\"showlegend\":false,\"x\":[-12.703356100124315,-12.171893342201647],\"y\":[-15.38251867680971,-14.588767998197373],\"type\":\"scatter\"},{\"marker\":{\"color\":\"#EF553B\"},\"mode\":\"markers+text\",\"name\":\"blue\",\"showlegend\":false,\"text\":[\"blue\"],\"textposition\":\"top center\",\"x\":[-10.43029172973984],\"y\":[-13.684856750004542],\"type\":\"scatter\"},{\"line\":{\"color\":\"#EF553B\",\"width\":1},\"mode\":\"lines\",\"showlegend\":false,\"x\":[-12.171893342201647,-10.43029172973984],\"y\":[-14.588767998197373,-13.684856750004542],\"type\":\"scatter\"},{\"marker\":{\"color\":\"#EF553B\"},\"mode\":\"markers+text\",\"name\":\"blue\",\"showlegend\":false,\"text\":[\"blue\"],\"textposition\":\"top center\",\"x\":[-8.468434038723126],\"y\":[-14.890299107543209],\"type\":\"scatter\"},{\"line\":{\"color\":\"#EF553B\",\"width\":1},\"mode\":\"lines\",\"showlegend\":false,\"x\":[-10.43029172973984,-8.468434038723126],\"y\":[-13.684856750004542,-14.890299107543209],\"type\":\"scatter\"},{\"marker\":{\"color\":\"#FFA15A\"},\"mode\":\"markers+text\",\"name\":\"liberal\",\"showlegend\":false,\"text\":[\"liberal\"],\"textposition\":\"top center\",\"x\":[-13.175935110935468],\"y\":[11.665592045322365],\"type\":\"scatter\"},{\"marker\":{\"color\":\"#FFA15A\",\"size\":10,\"symbol\":\"diamond\"},\"mode\":\"markers\",\"showlegend\":false,\"x\":[-13.175935110935468],\"y\":[11.665592045322365],\"type\":\"scatter\"},{\"marker\":{\"color\":\"#FFA15A\"},\"mode\":\"markers+text\",\"name\":\"liberal\",\"showlegend\":false,\"text\":[\"liberal\"],\"textposition\":\"top center\",\"x\":[-14.097184359819567],\"y\":[19.132682860218488],\"type\":\"scatter\"},{\"line\":{\"color\":\"#FFA15A\",\"width\":1},\"mode\":\"lines\",\"showlegend\":false,\"x\":[-13.175935110935468,-14.097184359819567],\"y\":[11.665592045322365,19.132682860218488],\"type\":\"scatter\"},{\"marker\":{\"color\":\"#FFA15A\"},\"mode\":\"markers+text\",\"name\":\"liberal\",\"showlegend\":false,\"text\":[\"liberal\"],\"textposition\":\"top center\",\"x\":[-13.023964391363931],\"y\":[13.680054084022872],\"type\":\"scatter\"},{\"line\":{\"color\":\"#FFA15A\",\"width\":1},\"mode\":\"lines\",\"showlegend\":false,\"x\":[-14.097184359819567,-13.023964391363931],\"y\":[19.132682860218488,13.680054084022872],\"type\":\"scatter\"},{\"marker\":{\"color\":\"#FFA15A\"},\"mode\":\"markers+text\",\"name\":\"liberal\",\"showlegend\":false,\"text\":[\"liberal\"],\"textposition\":\"top center\",\"x\":[-12.210035936867781],\"y\":[13.152901048692254],\"type\":\"scatter\"},{\"line\":{\"color\":\"#FFA15A\",\"width\":1},\"mode\":\"lines\",\"showlegend\":false,\"x\":[-13.023964391363931,-12.210035936867781],\"y\":[13.680054084022872,13.152901048692254],\"type\":\"scatter\"},{\"marker\":{\"color\":\"#FFA15A\"},\"mode\":\"markers+text\",\"name\":\"liberal\",\"showlegend\":false,\"text\":[\"liberal\"],\"textposition\":\"top center\",\"x\":[-14.370548906574111],\"y\":[14.96244676438954],\"type\":\"scatter\"},{\"line\":{\"color\":\"#FFA15A\",\"width\":1},\"mode\":\"lines\",\"showlegend\":false,\"x\":[-12.210035936867781,-14.370548906574111],\"y\":[13.152901048692254,14.96244676438954],\"type\":\"scatter\"},{\"marker\":{\"color\":\"#FFA15A\"},\"mode\":\"markers+text\",\"name\":\"liberal\",\"showlegend\":false,\"text\":[\"liberal\"],\"textposition\":\"top center\",\"x\":[-14.92197548274104],\"y\":[23.284431643039397],\"type\":\"scatter\"},{\"line\":{\"color\":\"#FFA15A\",\"width\":1},\"mode\":\"lines\",\"showlegend\":false,\"x\":[-14.370548906574111,-14.92197548274104],\"y\":[14.96244676438954,23.284431643039397],\"type\":\"scatter\"},{\"marker\":{\"color\":\"#FFA15A\"},\"mode\":\"markers+text\",\"name\":\"liberal\",\"showlegend\":false,\"text\":[\"liberal\"],\"textposition\":\"top center\",\"x\":[-10.38917048169455],\"y\":[8.375624036546316],\"type\":\"scatter\"},{\"line\":{\"color\":\"#FFA15A\",\"width\":1},\"mode\":\"lines\",\"showlegend\":false,\"x\":[-14.92197548274104,-10.38917048169455],\"y\":[23.284431643039397,8.375624036546316],\"type\":\"scatter\"},{\"marker\":{\"color\":\"#FFA15A\"},\"mode\":\"markers+text\",\"name\":\"liberal\",\"showlegend\":false,\"text\":[\"liberal\"],\"textposition\":\"top center\",\"x\":[-13.082911088332072],\"y\":[17.99586686653616],\"type\":\"scatter\"},{\"line\":{\"color\":\"#FFA15A\",\"width\":1},\"mode\":\"lines\",\"showlegend\":false,\"x\":[-10.38917048169455,-13.082911088332072],\"y\":[8.375624036546316,17.99586686653616],\"type\":\"scatter\"},{\"marker\":{\"color\":\"#FFA15A\"},\"mode\":\"markers+text\",\"name\":\"liberal\",\"showlegend\":false,\"text\":[\"liberal\"],\"textposition\":\"top center\",\"x\":[-12.461299254065322],\"y\":[10.522126043640768],\"type\":\"scatter\"},{\"line\":{\"color\":\"#FFA15A\",\"width\":1},\"mode\":\"lines\",\"showlegend\":false,\"x\":[-13.082911088332072,-12.461299254065322],\"y\":[17.99586686653616,10.522126043640768],\"type\":\"scatter\"},{\"marker\":{\"color\":\"#FFA15A\"},\"mode\":\"markers+text\",\"name\":\"liberal\",\"showlegend\":false,\"text\":[\"liberal\"],\"textposition\":\"top center\",\"x\":[-14.316902523115832],\"y\":[21.31174317943289],\"type\":\"scatter\"},{\"line\":{\"color\":\"#FFA15A\",\"width\":1},\"mode\":\"lines\",\"showlegend\":false,\"x\":[-12.461299254065322,-14.316902523115832],\"y\":[10.522126043640768,21.31174317943289],\"type\":\"scatter\"},{\"marker\":{\"color\":\"#FFA15A\"},\"mode\":\"markers+text\",\"name\":\"liberal\",\"showlegend\":false,\"text\":[\"liberal\"],\"textposition\":\"top center\",\"x\":[-10.297213542228382],\"y\":[7.647162665824755],\"type\":\"scatter\"},{\"line\":{\"color\":\"#FFA15A\",\"width\":1},\"mode\":\"lines\",\"showlegend\":false,\"x\":[-14.316902523115832,-10.297213542228382],\"y\":[21.31174317943289,7.647162665824755],\"type\":\"scatter\"},{\"marker\":{\"color\":\"#636EFA\"},\"mode\":\"markers+text\",\"name\":\"twitter\",\"showlegend\":false,\"text\":[\"twitter\"],\"textposition\":\"top center\",\"x\":[10.965606202989395],\"y\":[0.048489023151954545],\"type\":\"scatter\"},{\"marker\":{\"color\":\"#636EFA\",\"size\":10,\"symbol\":\"diamond\"},\"mode\":\"markers\",\"showlegend\":false,\"x\":[10.965606202989395],\"y\":[0.048489023151954545],\"type\":\"scatter\"},{\"marker\":{\"color\":\"#636EFA\"},\"mode\":\"markers+text\",\"name\":\"twitter\",\"showlegend\":false,\"text\":[\"twitter\"],\"textposition\":\"top center\",\"x\":[11.929654284526025],\"y\":[-1.9989036493333392],\"type\":\"scatter\"},{\"line\":{\"color\":\"#636EFA\",\"width\":1},\"mode\":\"lines\",\"showlegend\":false,\"x\":[10.965606202989395,11.929654284526025],\"y\":[0.048489023151954545,-1.9989036493333392],\"type\":\"scatter\"},{\"marker\":{\"color\":\"#636EFA\"},\"mode\":\"markers+text\",\"name\":\"twitter\",\"showlegend\":false,\"text\":[\"twitter\"],\"textposition\":\"top center\",\"x\":[9.106795887717512],\"y\":[0.9286904835686568],\"type\":\"scatter\"},{\"line\":{\"color\":\"#636EFA\",\"width\":1},\"mode\":\"lines\",\"showlegend\":false,\"x\":[11.929654284526025,9.106795887717512],\"y\":[-1.9989036493333392,0.9286904835686568],\"type\":\"scatter\"},{\"marker\":{\"color\":\"#636EFA\"},\"mode\":\"markers+text\",\"name\":\"twitter\",\"showlegend\":false,\"text\":[\"twitter\"],\"textposition\":\"top center\",\"x\":[11.399004715556154],\"y\":[-0.8209610904850054],\"type\":\"scatter\"},{\"line\":{\"color\":\"#636EFA\",\"width\":1},\"mode\":\"lines\",\"showlegend\":false,\"x\":[9.106795887717512,11.399004715556154],\"y\":[0.9286904835686568,-0.8209610904850054],\"type\":\"scatter\"},{\"marker\":{\"color\":\"#636EFA\"},\"mode\":\"markers+text\",\"name\":\"twitter\",\"showlegend\":false,\"text\":[\"twitter\"],\"textposition\":\"top center\",\"x\":[20.51634949445377],\"y\":[4.575942396472762],\"type\":\"scatter\"},{\"line\":{\"color\":\"#636EFA\",\"width\":1},\"mode\":\"lines\",\"showlegend\":false,\"x\":[11.399004715556154,20.51634949445377],\"y\":[-0.8209610904850054,4.575942396472762],\"type\":\"scatter\"},{\"marker\":{\"color\":\"#636EFA\"},\"mode\":\"markers+text\",\"name\":\"twitter\",\"showlegend\":false,\"text\":[\"twitter\"],\"textposition\":\"top center\",\"x\":[16.606247338451777],\"y\":[3.17045419125797],\"type\":\"scatter\"},{\"line\":{\"color\":\"#636EFA\",\"width\":1},\"mode\":\"lines\",\"showlegend\":false,\"x\":[20.51634949445377,16.606247338451777],\"y\":[4.575942396472762,3.17045419125797],\"type\":\"scatter\"},{\"marker\":{\"color\":\"#636EFA\"},\"mode\":\"markers+text\",\"name\":\"twitter\",\"showlegend\":false,\"text\":[\"twitter\"],\"textposition\":\"top center\",\"x\":[17.547760401630416],\"y\":[8.560336555211984],\"type\":\"scatter\"},{\"line\":{\"color\":\"#636EFA\",\"width\":1},\"mode\":\"lines\",\"showlegend\":false,\"x\":[16.606247338451777,17.547760401630416],\"y\":[3.17045419125797,8.560336555211984],\"type\":\"scatter\"},{\"marker\":{\"color\":\"#636EFA\"},\"mode\":\"markers+text\",\"name\":\"twitter\",\"showlegend\":false,\"text\":[\"twitter\"],\"textposition\":\"top center\",\"x\":[16.522731910893935],\"y\":[4.600749821657801],\"type\":\"scatter\"},{\"line\":{\"color\":\"#636EFA\",\"width\":1},\"mode\":\"lines\",\"showlegend\":false,\"x\":[17.547760401630416,16.522731910893935],\"y\":[8.560336555211984,4.600749821657801],\"type\":\"scatter\"},{\"marker\":{\"color\":\"#636EFA\"},\"mode\":\"markers+text\",\"name\":\"twitter\",\"showlegend\":false,\"text\":[\"twitter\"],\"textposition\":\"top center\",\"x\":[11.875878927527012],\"y\":[3.6446470563369076],\"type\":\"scatter\"},{\"line\":{\"color\":\"#636EFA\",\"width\":1},\"mode\":\"lines\",\"showlegend\":false,\"x\":[16.522731910893935,11.875878927527012],\"y\":[4.600749821657801,3.6446470563369076],\"type\":\"scatter\"},{\"marker\":{\"color\":\"#636EFA\"},\"mode\":\"markers+text\",\"name\":\"twitter\",\"showlegend\":false,\"text\":[\"twitter\"],\"textposition\":\"top center\",\"x\":[19.832617717060845],\"y\":[6.537324544747243],\"type\":\"scatter\"},{\"line\":{\"color\":\"#636EFA\",\"width\":1},\"mode\":\"lines\",\"showlegend\":false,\"x\":[11.875878927527012,19.832617717060845],\"y\":[3.6446470563369076,6.537324544747243],\"type\":\"scatter\"},{\"marker\":{\"color\":\"#636EFA\"},\"mode\":\"markers+text\",\"name\":\"twitter\",\"showlegend\":false,\"text\":[\"twitter\"],\"textposition\":\"top center\",\"x\":[15.842428162144666],\"y\":[-0.04247564657071959],\"type\":\"scatter\"},{\"line\":{\"color\":\"#636EFA\",\"width\":1},\"mode\":\"lines\",\"showlegend\":false,\"x\":[19.832617717060845,15.842428162144666],\"y\":[6.537324544747243,-0.04247564657071959],\"type\":\"scatter\"}],                        {\"legend\":{\"x\":1.02,\"y\":1.0},\"template\":{\"data\":{\"barpolar\":[{\"marker\":{\"line\":{\"color\":\"#E5ECF6\",\"width\":0.5},\"pattern\":{\"fillmode\":\"overlay\",\"size\":10,\"solidity\":0.2}},\"type\":\"barpolar\"}],\"bar\":[{\"error_x\":{\"color\":\"#2a3f5f\"},\"error_y\":{\"color\":\"#2a3f5f\"},\"marker\":{\"line\":{\"color\":\"#E5ECF6\",\"width\":0.5},\"pattern\":{\"fillmode\":\"overlay\",\"size\":10,\"solidity\":0.2}},\"type\":\"bar\"}],\"carpet\":[{\"aaxis\":{\"endlinecolor\":\"#2a3f5f\",\"gridcolor\":\"white\",\"linecolor\":\"white\",\"minorgridcolor\":\"white\",\"startlinecolor\":\"#2a3f5f\"},\"baxis\":{\"endlinecolor\":\"#2a3f5f\",\"gridcolor\":\"white\",\"linecolor\":\"white\",\"minorgridcolor\":\"white\",\"startlinecolor\":\"#2a3f5f\"},\"type\":\"carpet\"}],\"choropleth\":[{\"colorbar\":{\"outlinewidth\":0,\"ticks\":\"\"},\"type\":\"choropleth\"}],\"contourcarpet\":[{\"colorbar\":{\"outlinewidth\":0,\"ticks\":\"\"},\"type\":\"contourcarpet\"}],\"contour\":[{\"colorbar\":{\"outlinewidth\":0,\"ticks\":\"\"},\"colorscale\":[[0.0,\"#0d0887\"],[0.1111111111111111,\"#46039f\"],[0.2222222222222222,\"#7201a8\"],[0.3333333333333333,\"#9c179e\"],[0.4444444444444444,\"#bd3786\"],[0.5555555555555556,\"#d8576b\"],[0.6666666666666666,\"#ed7953\"],[0.7777777777777778,\"#fb9f3a\"],[0.8888888888888888,\"#fdca26\"],[1.0,\"#f0f921\"]],\"type\":\"contour\"}],\"heatmapgl\":[{\"colorbar\":{\"outlinewidth\":0,\"ticks\":\"\"},\"colorscale\":[[0.0,\"#0d0887\"],[0.1111111111111111,\"#46039f\"],[0.2222222222222222,\"#7201a8\"],[0.3333333333333333,\"#9c179e\"],[0.4444444444444444,\"#bd3786\"],[0.5555555555555556,\"#d8576b\"],[0.6666666666666666,\"#ed7953\"],[0.7777777777777778,\"#fb9f3a\"],[0.8888888888888888,\"#fdca26\"],[1.0,\"#f0f921\"]],\"type\":\"heatmapgl\"}],\"heatmap\":[{\"colorbar\":{\"outlinewidth\":0,\"ticks\":\"\"},\"colorscale\":[[0.0,\"#0d0887\"],[0.1111111111111111,\"#46039f\"],[0.2222222222222222,\"#7201a8\"],[0.3333333333333333,\"#9c179e\"],[0.4444444444444444,\"#bd3786\"],[0.5555555555555556,\"#d8576b\"],[0.6666666666666666,\"#ed7953\"],[0.7777777777777778,\"#fb9f3a\"],[0.8888888888888888,\"#fdca26\"],[1.0,\"#f0f921\"]],\"type\":\"heatmap\"}],\"histogram2dcontour\":[{\"colorbar\":{\"outlinewidth\":0,\"ticks\":\"\"},\"colorscale\":[[0.0,\"#0d0887\"],[0.1111111111111111,\"#46039f\"],[0.2222222222222222,\"#7201a8\"],[0.3333333333333333,\"#9c179e\"],[0.4444444444444444,\"#bd3786\"],[0.5555555555555556,\"#d8576b\"],[0.6666666666666666,\"#ed7953\"],[0.7777777777777778,\"#fb9f3a\"],[0.8888888888888888,\"#fdca26\"],[1.0,\"#f0f921\"]],\"type\":\"histogram2dcontour\"}],\"histogram2d\":[{\"colorbar\":{\"outlinewidth\":0,\"ticks\":\"\"},\"colorscale\":[[0.0,\"#0d0887\"],[0.1111111111111111,\"#46039f\"],[0.2222222222222222,\"#7201a8\"],[0.3333333333333333,\"#9c179e\"],[0.4444444444444444,\"#bd3786\"],[0.5555555555555556,\"#d8576b\"],[0.6666666666666666,\"#ed7953\"],[0.7777777777777778,\"#fb9f3a\"],[0.8888888888888888,\"#fdca26\"],[1.0,\"#f0f921\"]],\"type\":\"histogram2d\"}],\"histogram\":[{\"marker\":{\"pattern\":{\"fillmode\":\"overlay\",\"size\":10,\"solidity\":0.2}},\"type\":\"histogram\"}],\"mesh3d\":[{\"colorbar\":{\"outlinewidth\":0,\"ticks\":\"\"},\"type\":\"mesh3d\"}],\"parcoords\":[{\"line\":{\"colorbar\":{\"outlinewidth\":0,\"ticks\":\"\"}},\"type\":\"parcoords\"}],\"pie\":[{\"automargin\":true,\"type\":\"pie\"}],\"scatter3d\":[{\"line\":{\"colorbar\":{\"outlinewidth\":0,\"ticks\":\"\"}},\"marker\":{\"colorbar\":{\"outlinewidth\":0,\"ticks\":\"\"}},\"type\":\"scatter3d\"}],\"scattercarpet\":[{\"marker\":{\"colorbar\":{\"outlinewidth\":0,\"ticks\":\"\"}},\"type\":\"scattercarpet\"}],\"scattergeo\":[{\"marker\":{\"colorbar\":{\"outlinewidth\":0,\"ticks\":\"\"}},\"type\":\"scattergeo\"}],\"scattergl\":[{\"marker\":{\"colorbar\":{\"outlinewidth\":0,\"ticks\":\"\"}},\"type\":\"scattergl\"}],\"scattermapbox\":[{\"marker\":{\"colorbar\":{\"outlinewidth\":0,\"ticks\":\"\"}},\"type\":\"scattermapbox\"}],\"scatterpolargl\":[{\"marker\":{\"colorbar\":{\"outlinewidth\":0,\"ticks\":\"\"}},\"type\":\"scatterpolargl\"}],\"scatterpolar\":[{\"marker\":{\"colorbar\":{\"outlinewidth\":0,\"ticks\":\"\"}},\"type\":\"scatterpolar\"}],\"scatter\":[{\"fillpattern\":{\"fillmode\":\"overlay\",\"size\":10,\"solidity\":0.2},\"type\":\"scatter\"}],\"scatterternary\":[{\"marker\":{\"colorbar\":{\"outlinewidth\":0,\"ticks\":\"\"}},\"type\":\"scatterternary\"}],\"surface\":[{\"colorbar\":{\"outlinewidth\":0,\"ticks\":\"\"},\"colorscale\":[[0.0,\"#0d0887\"],[0.1111111111111111,\"#46039f\"],[0.2222222222222222,\"#7201a8\"],[0.3333333333333333,\"#9c179e\"],[0.4444444444444444,\"#bd3786\"],[0.5555555555555556,\"#d8576b\"],[0.6666666666666666,\"#ed7953\"],[0.7777777777777778,\"#fb9f3a\"],[0.8888888888888888,\"#fdca26\"],[1.0,\"#f0f921\"]],\"type\":\"surface\"}],\"table\":[{\"cells\":{\"fill\":{\"color\":\"#EBF0F8\"},\"line\":{\"color\":\"white\"}},\"header\":{\"fill\":{\"color\":\"#C8D4E3\"},\"line\":{\"color\":\"white\"}},\"type\":\"table\"}]},\"layout\":{\"annotationdefaults\":{\"arrowcolor\":\"#2a3f5f\",\"arrowhead\":0,\"arrowwidth\":1},\"autotypenumbers\":\"strict\",\"coloraxis\":{\"colorbar\":{\"outlinewidth\":0,\"ticks\":\"\"}},\"colorscale\":{\"diverging\":[[0,\"#8e0152\"],[0.1,\"#c51b7d\"],[0.2,\"#de77ae\"],[0.3,\"#f1b6da\"],[0.4,\"#fde0ef\"],[0.5,\"#f7f7f7\"],[0.6,\"#e6f5d0\"],[0.7,\"#b8e186\"],[0.8,\"#7fbc41\"],[0.9,\"#4d9221\"],[1,\"#276419\"]],\"sequential\":[[0.0,\"#0d0887\"],[0.1111111111111111,\"#46039f\"],[0.2222222222222222,\"#7201a8\"],[0.3333333333333333,\"#9c179e\"],[0.4444444444444444,\"#bd3786\"],[0.5555555555555556,\"#d8576b\"],[0.6666666666666666,\"#ed7953\"],[0.7777777777777778,\"#fb9f3a\"],[0.8888888888888888,\"#fdca26\"],[1.0,\"#f0f921\"]],\"sequentialminus\":[[0.0,\"#0d0887\"],[0.1111111111111111,\"#46039f\"],[0.2222222222222222,\"#7201a8\"],[0.3333333333333333,\"#9c179e\"],[0.4444444444444444,\"#bd3786\"],[0.5555555555555556,\"#d8576b\"],[0.6666666666666666,\"#ed7953\"],[0.7777777777777778,\"#fb9f3a\"],[0.8888888888888888,\"#fdca26\"],[1.0,\"#f0f921\"]]},\"colorway\":[\"#636efa\",\"#EF553B\",\"#00cc96\",\"#ab63fa\",\"#FFA15A\",\"#19d3f3\",\"#FF6692\",\"#B6E880\",\"#FF97FF\",\"#FECB52\"],\"font\":{\"color\":\"#2a3f5f\"},\"geo\":{\"bgcolor\":\"white\",\"lakecolor\":\"white\",\"landcolor\":\"#E5ECF6\",\"showlakes\":true,\"showland\":true,\"subunitcolor\":\"white\"},\"hoverlabel\":{\"align\":\"left\"},\"hovermode\":\"closest\",\"mapbox\":{\"style\":\"light\"},\"paper_bgcolor\":\"white\",\"plot_bgcolor\":\"#E5ECF6\",\"polar\":{\"angularaxis\":{\"gridcolor\":\"white\",\"linecolor\":\"white\",\"ticks\":\"\"},\"bgcolor\":\"#E5ECF6\",\"radialaxis\":{\"gridcolor\":\"white\",\"linecolor\":\"white\",\"ticks\":\"\"}},\"scene\":{\"xaxis\":{\"backgroundcolor\":\"#E5ECF6\",\"gridcolor\":\"white\",\"gridwidth\":2,\"linecolor\":\"white\",\"showbackground\":true,\"ticks\":\"\",\"zerolinecolor\":\"white\"},\"yaxis\":{\"backgroundcolor\":\"#E5ECF6\",\"gridcolor\":\"white\",\"gridwidth\":2,\"linecolor\":\"white\",\"showbackground\":true,\"ticks\":\"\",\"zerolinecolor\":\"white\"},\"zaxis\":{\"backgroundcolor\":\"#E5ECF6\",\"gridcolor\":\"white\",\"gridwidth\":2,\"linecolor\":\"white\",\"showbackground\":true,\"ticks\":\"\",\"zerolinecolor\":\"white\"}},\"shapedefaults\":{\"line\":{\"color\":\"#2a3f5f\"}},\"ternary\":{\"aaxis\":{\"gridcolor\":\"white\",\"linecolor\":\"white\",\"ticks\":\"\"},\"baxis\":{\"gridcolor\":\"white\",\"linecolor\":\"white\",\"ticks\":\"\"},\"bgcolor\":\"#E5ECF6\",\"caxis\":{\"gridcolor\":\"white\",\"linecolor\":\"white\",\"ticks\":\"\"}},\"title\":{\"x\":0.05},\"xaxis\":{\"automargin\":true,\"gridcolor\":\"white\",\"linecolor\":\"white\",\"ticks\":\"\",\"title\":{\"standoff\":15},\"zerolinecolor\":\"white\",\"zerolinewidth\":2},\"yaxis\":{\"automargin\":true,\"gridcolor\":\"white\",\"linecolor\":\"white\",\"ticks\":\"\",\"title\":{\"standoff\":15},\"zerolinecolor\":\"white\",\"zerolinewidth\":2}}},\"title\":{\"text\":\"2D Visualization of Word Vectors\"},\"xaxis\":{\"range\":[-50,50],\"title\":{\"text\":\"PC1\"}},\"yaxis\":{\"range\":[-50,50],\"title\":{\"text\":\"PC2\"}}},                        {\"responsive\": true}                    ).then(function(){\n                            \nvar gd = document.getElementById('5fe3d3fd-c970-4a65-a08c-1174dbecce93');\nvar x = new MutationObserver(function (mutations, observer) {{\n        var display = window.getComputedStyle(gd).display;\n        if (!display || display === 'none') {{\n            console.log([gd, 'removed!']);\n            Plotly.purge(gd);\n            observer.disconnect();\n        }}\n}});\n\n// Listen for the removal of the full notebook cells\nvar notebookContainer = gd.closest('#notebook-container');\nif (notebookContainer) {{\n    x.observe(notebookContainer, {childList: true});\n}}\n\n// Listen for the clearing of the current output cell\nvar outputEl = gd.closest('.output');\nif (outputEl) {{\n    x.observe(outputEl, {childList: true});\n}}\n\n                        })                };                });            </script>        </div>"
     },
     "metadata": {},
     "output_type": "display_data"
    }
   ],
   "source": [
    "selected_months = [9, 10, 11, 12]\n",
    "plot_word_vectors_tppmi(tppmi_model.get_2d_representation(test_words_twitter + [target_word_twitter], selected_months=None, use_tsne=False))"
   ],
   "metadata": {
    "collapsed": false
   }
  },
  {
   "cell_type": "code",
   "execution_count": 34,
   "outputs": [
    {
     "data": {
      "text/plain": "<Figure size 1000x600 with 1 Axes>",
      "image/png": "[encoded data removed]"
     },
     "metadata": {},
     "output_type": "display_data"
    }
   ],
   "source": [
    "plot_cosine_similarity_tppmi(\"twitter\", [\"facebook\", \"elon\", \"musk\"], tppmi_model, selected_months = [10, 11, 12])"
   ],
   "metadata": {
    "collapsed": false
   }
  },
  {
   "cell_type": "markdown",
   "source": [
    "## Attack on Paul Pelosi"
   ],
   "metadata": {
    "collapsed": false
   }
  },
  {
   "cell_type": "markdown",
   "source": [
    "### Overview"
   ],
   "metadata": {
    "collapsed": false
   }
  },
  {
   "cell_type": "markdown",
   "source": [
    "On October 28, 2022, an intruder attacked Paul Pelosi, the 82-year-old husband of Nancy Pelosi, then the Speaker of the United States House of Representatives. The assailant beat Paul Pelosi with a hammer during a home invasion burglary of the couple's residence in Pacific Heights, San Francisco. He was seriously injured and underwent surgery for his fractured skull.\n",
    "\n",
    "source: [Wikipedia article](https://en.wikipedia.org/wiki/Attack_on_Paul_Pelosi)"
   ],
   "metadata": {
    "collapsed": false
   }
  },
  {
   "cell_type": "code",
   "execution_count": 35,
   "outputs": [],
   "source": [
    "target_word_pelosi = \"paul\""
   ],
   "metadata": {
    "collapsed": false
   }
  },
  {
   "cell_type": "code",
   "execution_count": 36,
   "outputs": [],
   "source": [
    "selected_months_pelosi = [\"oct\", \"nov\", \"dec\", \"jan\"]\n",
    "selected_models_monthly_pelosi = {f\"model_{month}\": models_monthly[f\"model_{month}\"] for month in selected_months_pelosi}"
   ],
   "metadata": {
    "collapsed": false
   }
  },
  {
   "cell_type": "code",
   "execution_count": 37,
   "outputs": [],
   "source": [
    "title_pelosi = f\"Evolution of the word {target_word_pelosi} over time\"\n",
    "subtitle_pelosi = f\"Period: {' - '.join([month.capitalize() for month in selected_months_pelosi])}\""
   ],
   "metadata": {
    "collapsed": false
   }
  },
  {
   "cell_type": "code",
   "execution_count": 38,
   "outputs": [
    {
     "name": "stdout",
     "output_type": "stream",
     "text": [
      "Word: paul\n",
      "Month: Oct\n",
      "[('floyd', 0.8686625957489014), ('andrew', 0.8619871735572815), ('alex', 0.8612565398216248), ('chris', 0.8558765053749084)]\n",
      "--------------------------------\n",
      "Month: Nov\n",
      "[('james', 0.8534097075462341), ('pelosi', 0.8324013352394104), ('john', 0.8100072741508484), ('nancy', 0.8045629858970642)]\n",
      "--------------------------------\n",
      "Month: Dec\n",
      "[('james', 0.893463671207428), ('elizabeth', 0.8768035769462585), ('john', 0.8661428689956665), ('david', 0.8639923930168152)]\n",
      "--------------------------------\n",
      "Month: Jan\n",
      "[('james', 0.9043502807617188), ('rookierae', 0.9002606272697449), ('pastor', 0.8961585164070129), ('robert', 0.8953263759613037)]\n",
      "--------------------------------\n"
     ]
    }
   ],
   "source": [
    "print_most_similar_cade(selected_models_monthly_pelosi, target_word_pelosi, top_n = 4)"
   ],
   "metadata": {
    "collapsed": false
   }
  },
  {
   "cell_type": "markdown",
   "source": [
    "### Temporally changing embeddings"
   ],
   "metadata": {
    "collapsed": false
   }
  },
  {
   "cell_type": "code",
   "execution_count": 39,
   "outputs": [
    {
     "data": {
      "text/html": "        <script type=\"text/javascript\">\n        window.PlotlyConfig = {MathJaxConfig: 'local'};\n        if (window.MathJax && window.MathJax.Hub && window.MathJax.Hub.Config) {window.MathJax.Hub.Config({SVG: {font: \"STIX-Web\"}});}\n        if (typeof require !== 'undefined') {\n        require.undef(\"plotly\");\n        requirejs.config({\n            paths: {\n                'plotly': ['https://cdn.plot.ly/plotly-2.25.2.min']\n            }\n        });\n        require(['plotly'], function(Plotly) {\n            window._Plotly = Plotly;\n        });\n        }\n        </script>\n        "
     },
     "metadata": {},
     "output_type": "display_data"
    },
    {
     "data": {
      "application/vnd.plotly.v1+json": {
       "data": [
        {
         "marker": {
          "color": "black"
         },
         "mode": "markers+text",
         "text": [
          "floyd"
         ],
         "textfont": {
          "color": "black"
         },
         "textposition": "top center",
         "x": [
          -1.2152271270751953
         ],
         "y": [
          0.45055750012397766
         ],
         "type": "scatter"
        },
        {
         "marker": {
          "color": "black"
         },
         "mode": "markers+text",
         "text": [
          "andrew"
         ],
         "textfont": {
          "color": "black"
         },
         "textposition": "top center",
         "x": [
          1.420475721359253
         ],
         "y": [
          -0.8614160418510437
         ],
         "type": "scatter"
        },
        {
         "marker": {
          "color": "black"
         },
         "mode": "markers+text",
         "text": [
          "alex"
         ],
         "textfont": {
          "color": "black"
         },
         "textposition": "top center",
         "x": [
          0.3895180821418762
         ],
         "y": [
          -1.0132908821105957
         ],
         "type": "scatter"
        },
        {
         "marker": {
          "color": "red"
         },
         "mode": "markers+text",
         "text": [
          "paul_oct"
         ],
         "textfont": {
          "color": "red"
         },
         "textposition": "top center",
         "x": [
          -0.5947667360305786
         ],
         "y": [
          1.424149513244629
         ],
         "type": "scatter"
        },
        {
         "marker": {
          "color": "black"
         },
         "mode": "markers+text",
         "text": [
          "james"
         ],
         "textfont": {
          "color": "black"
         },
         "textposition": "top center",
         "x": [
          -0.019288377836346626
         ],
         "y": [
          0.47715020179748535
         ],
         "type": "scatter"
        },
        {
         "marker": {
          "color": "black"
         },
         "mode": "markers+text",
         "text": [
          "pelosi"
         ],
         "textfont": {
          "color": "black"
         },
         "textposition": "top center",
         "x": [
          1.3940871953964233
         ],
         "y": [
          -0.6184794902801514
         ],
         "type": "scatter"
        },
        {
         "marker": {
          "color": "black"
         },
         "mode": "markers+text",
         "text": [
          "john"
         ],
         "textfont": {
          "color": "black"
         },
         "textposition": "top center",
         "x": [
          -1.432755947113037
         ],
         "y": [
          1.3706308603286743
         ],
         "type": "scatter"
        },
        {
         "marker": {
          "color": "red"
         },
         "mode": "markers+text",
         "text": [
          "paul_nov"
         ],
         "textfont": {
          "color": "red"
         },
         "textposition": "top center",
         "x": [
          0.05795713886618614
         ],
         "y": [
          -1.2293014526367188
         ],
         "type": "scatter"
        },
        {
         "marker": {
          "color": "black"
         },
         "mode": "markers+text",
         "text": [
          "james"
         ],
         "textfont": {
          "color": "black"
         },
         "textposition": "top center",
         "x": [
          0.3080805540084839
         ],
         "y": [
          -0.03137505054473877
         ],
         "type": "scatter"
        },
        {
         "marker": {
          "color": "black"
         },
         "mode": "markers+text",
         "text": [
          "elizabeth"
         ],
         "textfont": {
          "color": "black"
         },
         "textposition": "top center",
         "x": [
          -0.5582999587059021
         ],
         "y": [
          -1.4046036005020142
         ],
         "type": "scatter"
        },
        {
         "marker": {
          "color": "black"
         },
         "mode": "markers+text",
         "text": [
          "john"
         ],
         "textfont": {
          "color": "black"
         },
         "textposition": "top center",
         "x": [
          1.4596662521362305
         ],
         "y": [
          1.4233571290969849
         ],
         "type": "scatter"
        },
        {
         "marker": {
          "color": "red"
         },
         "mode": "markers+text",
         "text": [
          "paul_dec"
         ],
         "textfont": {
          "color": "red"
         },
         "textposition": "top center",
         "x": [
          -1.209446907043457
         ],
         "y": [
          0.012621491216123104
         ],
         "type": "scatter"
        },
        {
         "marker": {
          "color": "black"
         },
         "mode": "markers+text",
         "text": [
          "james"
         ],
         "textfont": {
          "color": "black"
         },
         "textposition": "top center",
         "x": [
          1.6304082870483398
         ],
         "y": [
          -1.0559200048446655
         ],
         "type": "scatter"
        },
        {
         "marker": {
          "color": "black"
         },
         "mode": "markers+text",
         "text": [
          "rookierae"
         ],
         "textfont": {
          "color": "black"
         },
         "textposition": "top center",
         "x": [
          -1.0578057765960693
         ],
         "y": [
          1.3470489978790283
         ],
         "type": "scatter"
        },
        {
         "marker": {
          "color": "black"
         },
         "mode": "markers+text",
         "text": [
          "pastor"
         ],
         "textfont": {
          "color": "black"
         },
         "textposition": "top center",
         "x": [
          -0.45788049697875977
         ],
         "y": [
          0.5714130997657776
         ],
         "type": "scatter"
        },
        {
         "marker": {
          "color": "red"
         },
         "mode": "markers+text",
         "text": [
          "paul_jan"
         ],
         "textfont": {
          "color": "red"
         },
         "textposition": "top center",
         "x": [
          -0.11472194641828537
         ],
         "y": [
          -0.8625421524047852
         ],
         "type": "scatter"
        },
        {
         "marker": {
          "color": "red",
          "size": 10,
          "symbol": "diamond"
         },
         "mode": "markers",
         "x": [
          -0.5947667360305786
         ],
         "y": [
          1.424149513244629
         ],
         "type": "scatter"
        },
        {
         "line": {
          "color": "red"
         },
         "mode": "lines",
         "x": [
          -0.5947667360305786,
          0.05795713886618614
         ],
         "y": [
          1.424149513244629,
          -1.2293014526367188
         ],
         "type": "scatter"
        },
        {
         "line": {
          "color": "red"
         },
         "mode": "lines",
         "x": [
          0.05795713886618614,
          -1.209446907043457
         ],
         "y": [
          -1.2293014526367188,
          0.012621491216123104
         ],
         "type": "scatter"
        },
        {
         "line": {
          "color": "red"
         },
         "mode": "lines",
         "x": [
          -1.209446907043457,
          -0.11472194641828537
         ],
         "y": [
          0.012621491216123104,
          -0.8625421524047852
         ],
         "type": "scatter"
        }
       ],
       "layout": {
        "annotations": [
         {
          "showarrow": false,
          "text": "Period: Oct - Nov - Dec - Jan",
          "x": 0.5,
          "xref": "paper",
          "y": 1.08,
          "yref": "paper"
         }
        ],
        "showlegend": false,
        "template": {
         "data": {
          "barpolar": [
           {
            "marker": {
             "line": {
              "color": "#E5ECF6",
              "width": 0.5
             },
             "pattern": {
              "fillmode": "overlay",
              "size": 10,
              "solidity": 0.2
             }
            },
            "type": "barpolar"
           }
          ],
          "bar": [
           {
            "error_x": {
             "color": "#2a3f5f"
            },
            "error_y": {
             "color": "#2a3f5f"
            },
            "marker": {
             "line": {
              "color": "#E5ECF6",
              "width": 0.5
             },
             "pattern": {
              "fillmode": "overlay",
              "size": 10,
              "solidity": 0.2
             }
            },
            "type": "bar"
           }
          ],
          "carpet": [
           {
            "aaxis": {
             "endlinecolor": "#2a3f5f",
             "gridcolor": "white",
             "linecolor": "white",
             "minorgridcolor": "white",
             "startlinecolor": "#2a3f5f"
            },
            "baxis": {
             "endlinecolor": "#2a3f5f",
             "gridcolor": "white",
             "linecolor": "white",
             "minorgridcolor": "white",
             "startlinecolor": "#2a3f5f"
            },
            "type": "carpet"
           }
          ],
          "choropleth": [
           {
            "colorbar": {
             "outlinewidth": 0,
             "ticks": ""
            },
            "type": "choropleth"
           }
          ],
          "contourcarpet": [
           {
            "colorbar": {
             "outlinewidth": 0,
             "ticks": ""
            },
            "type": "contourcarpet"
           }
          ],
          "contour": [
           {
            "colorbar": {
             "outlinewidth": 0,
             "ticks": ""
            },
            "colorscale": [
             [
              0.0,
              "#0d0887"
             ],
             [
              0.1111111111111111,
              "#46039f"
             ],
             [
              0.2222222222222222,
              "#7201a8"
             ],
             [
              0.3333333333333333,
              "#9c179e"
             ],
             [
              0.4444444444444444,
              "#bd3786"
             ],
             [
              0.5555555555555556,
              "#d8576b"
             ],
             [
              0.6666666666666666,
              "#ed7953"
             ],
             [
              0.7777777777777778,
              "#fb9f3a"
             ],
             [
              0.8888888888888888,
              "#fdca26"
             ],
             [
              1.0,
              "#f0f921"
             ]
            ],
            "type": "contour"
           }
          ],
          "heatmapgl": [
           {
            "colorbar": {
             "outlinewidth": 0,
             "ticks": ""
            },
            "colorscale": [
             [
              0.0,
              "#0d0887"
             ],
             [
              0.1111111111111111,
              "#46039f"
             ],
             [
              0.2222222222222222,
              "#7201a8"
             ],
             [
              0.3333333333333333,
              "#9c179e"
             ],
             [
              0.4444444444444444,
              "#bd3786"
             ],
             [
              0.5555555555555556,
              "#d8576b"
             ],
             [
              0.6666666666666666,
              "#ed7953"
             ],
             [
              0.7777777777777778,
              "#fb9f3a"
             ],
             [
              0.8888888888888888,
              "#fdca26"
             ],
             [
              1.0,
              "#f0f921"
             ]
            ],
            "type": "heatmapgl"
           }
          ],
          "heatmap": [
           {
            "colorbar": {
             "outlinewidth": 0,
             "ticks": ""
            },
            "colorscale": [
             [
              0.0,
              "#0d0887"
             ],
             [
              0.1111111111111111,
              "#46039f"
             ],
             [
              0.2222222222222222,
              "#7201a8"
             ],
             [
              0.3333333333333333,
              "#9c179e"
             ],
             [
              0.4444444444444444,
              "#bd3786"
             ],
             [
              0.5555555555555556,
              "#d8576b"
             ],
             [
              0.6666666666666666,
              "#ed7953"
             ],
             [
              0.7777777777777778,
              "#fb9f3a"
             ],
             [
              0.8888888888888888,
              "#fdca26"
             ],
             [
              1.0,
              "#f0f921"
             ]
            ],
            "type": "heatmap"
           }
          ],
          "histogram2dcontour": [
           {
            "colorbar": {
             "outlinewidth": 0,
             "ticks": ""
            },
            "colorscale": [
             [
              0.0,
              "#0d0887"
             ],
             [
              0.1111111111111111,
              "#46039f"
             ],
             [
              0.2222222222222222,
              "#7201a8"
             ],
             [
              0.3333333333333333,
              "#9c179e"
             ],
             [
              0.4444444444444444,
              "#bd3786"
             ],
             [
              0.5555555555555556,
              "#d8576b"
             ],
             [
              0.6666666666666666,
              "#ed7953"
             ],
             [
              0.7777777777777778,
              "#fb9f3a"
             ],
             [
              0.8888888888888888,
              "#fdca26"
             ],
             [
              1.0,
              "#f0f921"
             ]
            ],
            "type": "histogram2dcontour"
           }
          ],
          "histogram2d": [
           {
            "colorbar": {
             "outlinewidth": 0,
             "ticks": ""
            },
            "colorscale": [
             [
              0.0,
              "#0d0887"
             ],
             [
              0.1111111111111111,
              "#46039f"
             ],
             [
              0.2222222222222222,
              "#7201a8"
             ],
             [
              0.3333333333333333,
              "#9c179e"
             ],
             [
              0.4444444444444444,
              "#bd3786"
             ],
             [
              0.5555555555555556,
              "#d8576b"
             ],
             [
              0.6666666666666666,
              "#ed7953"
             ],
             [
              0.7777777777777778,
              "#fb9f3a"
             ],
             [
              0.8888888888888888,
              "#fdca26"
             ],
             [
              1.0,
              "#f0f921"
             ]
            ],
            "type": "histogram2d"
           }
          ],
          "histogram": [
           {
            "marker": {
             "pattern": {
              "fillmode": "overlay",
              "size": 10,
              "solidity": 0.2
             }
            },
            "type": "histogram"
           }
          ],
          "mesh3d": [
           {
            "colorbar": {
             "outlinewidth": 0,
             "ticks": ""
            },
            "type": "mesh3d"
           }
          ],
          "parcoords": [
           {
            "line": {
             "colorbar": {
              "outlinewidth": 0,
              "ticks": ""
             }
            },
            "type": "parcoords"
           }
          ],
          "pie": [
           {
            "automargin": true,
            "type": "pie"
           }
          ],
          "scatter3d": [
           {
            "line": {
             "colorbar": {
              "outlinewidth": 0,
              "ticks": ""
             }
            },
            "marker": {
             "colorbar": {
              "outlinewidth": 0,
              "ticks": ""
             }
            },
            "type": "scatter3d"
           }
          ],
          "scattercarpet": [
           {
            "marker": {
             "colorbar": {
              "outlinewidth": 0,
              "ticks": ""
             }
            },
            "type": "scattercarpet"
           }
          ],
          "scattergeo": [
           {
            "marker": {
             "colorbar": {
              "outlinewidth": 0,
              "ticks": ""
             }
            },
            "type": "scattergeo"
           }
          ],
          "scattergl": [
           {
            "marker": {
             "colorbar": {
              "outlinewidth": 0,
              "ticks": ""
             }
            },
            "type": "scattergl"
           }
          ],
          "scattermapbox": [
           {
            "marker": {
             "colorbar": {
              "outlinewidth": 0,
              "ticks": ""
             }
            },
            "type": "scattermapbox"
           }
          ],
          "scatterpolargl": [
           {
            "marker": {
             "colorbar": {
              "outlinewidth": 0,
              "ticks": ""
             }
            },
            "type": "scatterpolargl"
           }
          ],
          "scatterpolar": [
           {
            "marker": {
             "colorbar": {
              "outlinewidth": 0,
              "ticks": ""
             }
            },
            "type": "scatterpolar"
           }
          ],
          "scatter": [
           {
            "fillpattern": {
             "fillmode": "overlay",
             "size": 10,
             "solidity": 0.2
            },
            "type": "scatter"
           }
          ],
          "scatterternary": [
           {
            "marker": {
             "colorbar": {
              "outlinewidth": 0,
              "ticks": ""
             }
            },
            "type": "scatterternary"
           }
          ],
          "surface": [
           {
            "colorbar": {
             "outlinewidth": 0,
             "ticks": ""
            },
            "colorscale": [
             [
              0.0,
              "#0d0887"
             ],
             [
              0.1111111111111111,
              "#46039f"
             ],
             [
              0.2222222222222222,
              "#7201a8"
             ],
             [
              0.3333333333333333,
              "#9c179e"
             ],
             [
              0.4444444444444444,
              "#bd3786"
             ],
             [
              0.5555555555555556,
              "#d8576b"
             ],
             [
              0.6666666666666666,
              "#ed7953"
             ],
             [
              0.7777777777777778,
              "#fb9f3a"
             ],
             [
              0.8888888888888888,
              "#fdca26"
             ],
             [
              1.0,
              "#f0f921"
             ]
            ],
            "type": "surface"
           }
          ],
          "table": [
           {
            "cells": {
             "fill": {
              "color": "#EBF0F8"
             },
             "line": {
              "color": "white"
             }
            },
            "header": {
             "fill": {
              "color": "#C8D4E3"
             },
             "line": {
              "color": "white"
             }
            },
            "type": "table"
           }
          ]
         },
         "layout": {
          "annotationdefaults": {
           "arrowcolor": "#2a3f5f",
           "arrowhead": 0,
           "arrowwidth": 1
          },
          "autotypenumbers": "strict",
          "coloraxis": {
           "colorbar": {
            "outlinewidth": 0,
            "ticks": ""
           }
          },
          "colorscale": {
           "diverging": [
            [
             0,
             "#8e0152"
            ],
            [
             0.1,
             "#c51b7d"
            ],
            [
             0.2,
             "#de77ae"
            ],
            [
             0.3,
             "#f1b6da"
            ],
            [
             0.4,
             "#fde0ef"
            ],
            [
             0.5,
             "#f7f7f7"
            ],
            [
             0.6,
             "#e6f5d0"
            ],
            [
             0.7,
             "#b8e186"
            ],
            [
             0.8,
             "#7fbc41"
            ],
            [
             0.9,
             "#4d9221"
            ],
            [
             1,
             "#276419"
            ]
           ],
           "sequential": [
            [
             0.0,
             "#0d0887"
            ],
            [
             0.1111111111111111,
             "#46039f"
            ],
            [
             0.2222222222222222,
             "#7201a8"
            ],
            [
             0.3333333333333333,
             "#9c179e"
            ],
            [
             0.4444444444444444,
             "#bd3786"
            ],
            [
             0.5555555555555556,
             "#d8576b"
            ],
            [
             0.6666666666666666,
             "#ed7953"
            ],
            [
             0.7777777777777778,
             "#fb9f3a"
            ],
            [
             0.8888888888888888,
             "#fdca26"
            ],
            [
             1.0,
             "#f0f921"
            ]
           ],
           "sequentialminus": [
            [
             0.0,
             "#0d0887"
            ],
            [
             0.1111111111111111,
             "#46039f"
            ],
            [
             0.2222222222222222,
             "#7201a8"
            ],
            [
             0.3333333333333333,
             "#9c179e"
            ],
            [
             0.4444444444444444,
             "#bd3786"
            ],
            [
             0.5555555555555556,
             "#d8576b"
            ],
            [
             0.6666666666666666,
             "#ed7953"
            ],
            [
             0.7777777777777778,
             "#fb9f3a"
            ],
            [
             0.8888888888888888,
             "#fdca26"
            ],
            [
             1.0,
             "#f0f921"
            ]
           ]
          },
          "colorway": [
           "#636efa",
           "#EF553B",
           "#00cc96",
           "#ab63fa",
           "#FFA15A",
           "#19d3f3",
           "#FF6692",
           "#B6E880",
           "#FF97FF",
           "#FECB52"
          ],
          "font": {
           "color": "#2a3f5f"
          },
          "geo": {
           "bgcolor": "white",
           "lakecolor": "white",
           "landcolor": "#E5ECF6",
           "showlakes": true,
           "showland": true,
           "subunitcolor": "white"
          },
          "hoverlabel": {
           "align": "left"
          },
          "hovermode": "closest",
          "mapbox": {
           "style": "light"
          },
          "paper_bgcolor": "white",
          "plot_bgcolor": "#E5ECF6",
          "polar": {
           "angularaxis": {
            "gridcolor": "white",
            "linecolor": "white",
            "ticks": ""
           },
           "bgcolor": "#E5ECF6",
           "radialaxis": {
            "gridcolor": "white",
            "linecolor": "white",
            "ticks": ""
           }
          },
          "scene": {
           "xaxis": {
            "backgroundcolor": "#E5ECF6",
            "gridcolor": "white",
            "gridwidth": 2,
            "linecolor": "white",
            "showbackground": true,
            "ticks": "",
            "zerolinecolor": "white"
           },
           "yaxis": {
            "backgroundcolor": "#E5ECF6",
            "gridcolor": "white",
            "gridwidth": 2,
            "linecolor": "white",
            "showbackground": true,
            "ticks": "",
            "zerolinecolor": "white"
           },
           "zaxis": {
            "backgroundcolor": "#E5ECF6",
            "gridcolor": "white",
            "gridwidth": 2,
            "linecolor": "white",
            "showbackground": true,
            "ticks": "",
            "zerolinecolor": "white"
           }
          },
          "shapedefaults": {
           "line": {
            "color": "#2a3f5f"
           }
          },
          "ternary": {
           "aaxis": {
            "gridcolor": "white",
            "linecolor": "white",
            "ticks": ""
           },
           "baxis": {
            "gridcolor": "white",
            "linecolor": "white",
            "ticks": ""
           },
           "bgcolor": "#E5ECF6",
           "caxis": {
            "gridcolor": "white",
            "linecolor": "white",
            "ticks": ""
           }
          },
          "title": {
           "x": 0.05
          },
          "xaxis": {
           "automargin": true,
           "gridcolor": "white",
           "linecolor": "white",
           "ticks": "",
           "title": {
            "standoff": 15
           },
           "zerolinecolor": "white",
           "zerolinewidth": 2
          },
          "yaxis": {
           "automargin": true,
           "gridcolor": "white",
           "linecolor": "white",
           "ticks": "",
           "title": {
            "standoff": 15
           },
           "zerolinecolor": "white",
           "zerolinewidth": 2
          }
         }
        },
        "title": {
         "font": {
          "size": 22
         },
         "text": "Evolution of the word paul over time",
         "x": 0.5
        },
        "xaxis": {
         "title": {
          "text": "X"
         }
        },
        "yaxis": {
         "title": {
          "text": "Y"
         }
        }
       },
       "config": {
        "showLink": false,
        "linkText": "Export to plot.ly",
        "plotlyServerURL": "https://plot.ly"
       }
      },
      "text/html": "<div>                            <div id=\"148e2707-04a6-4aa7-93ee-129ab488a9d6\" class=\"plotly-graph-div\" style=\"height:525px; width:100%;\"></div>            <script type=\"text/javascript\">                require([\"plotly\"], function(Plotly) {                    window.PLOTLYENV=window.PLOTLYENV || {};                                    if (document.getElementById(\"148e2707-04a6-4aa7-93ee-129ab488a9d6\")) {                    Plotly.newPlot(                        \"148e2707-04a6-4aa7-93ee-129ab488a9d6\",                        [{\"marker\":{\"color\":\"black\"},\"mode\":\"markers+text\",\"text\":[\"floyd\"],\"textfont\":{\"color\":\"black\"},\"textposition\":\"top center\",\"x\":[-1.2152271270751953],\"y\":[0.45055750012397766],\"type\":\"scatter\"},{\"marker\":{\"color\":\"black\"},\"mode\":\"markers+text\",\"text\":[\"andrew\"],\"textfont\":{\"color\":\"black\"},\"textposition\":\"top center\",\"x\":[1.420475721359253],\"y\":[-0.8614160418510437],\"type\":\"scatter\"},{\"marker\":{\"color\":\"black\"},\"mode\":\"markers+text\",\"text\":[\"alex\"],\"textfont\":{\"color\":\"black\"},\"textposition\":\"top center\",\"x\":[0.3895180821418762],\"y\":[-1.0132908821105957],\"type\":\"scatter\"},{\"marker\":{\"color\":\"red\"},\"mode\":\"markers+text\",\"text\":[\"paul_oct\"],\"textfont\":{\"color\":\"red\"},\"textposition\":\"top center\",\"x\":[-0.5947667360305786],\"y\":[1.424149513244629],\"type\":\"scatter\"},{\"marker\":{\"color\":\"black\"},\"mode\":\"markers+text\",\"text\":[\"james\"],\"textfont\":{\"color\":\"black\"},\"textposition\":\"top center\",\"x\":[-0.019288377836346626],\"y\":[0.47715020179748535],\"type\":\"scatter\"},{\"marker\":{\"color\":\"black\"},\"mode\":\"markers+text\",\"text\":[\"pelosi\"],\"textfont\":{\"color\":\"black\"},\"textposition\":\"top center\",\"x\":[1.3940871953964233],\"y\":[-0.6184794902801514],\"type\":\"scatter\"},{\"marker\":{\"color\":\"black\"},\"mode\":\"markers+text\",\"text\":[\"john\"],\"textfont\":{\"color\":\"black\"},\"textposition\":\"top center\",\"x\":[-1.432755947113037],\"y\":[1.3706308603286743],\"type\":\"scatter\"},{\"marker\":{\"color\":\"red\"},\"mode\":\"markers+text\",\"text\":[\"paul_nov\"],\"textfont\":{\"color\":\"red\"},\"textposition\":\"top center\",\"x\":[0.05795713886618614],\"y\":[-1.2293014526367188],\"type\":\"scatter\"},{\"marker\":{\"color\":\"black\"},\"mode\":\"markers+text\",\"text\":[\"james\"],\"textfont\":{\"color\":\"black\"},\"textposition\":\"top center\",\"x\":[0.3080805540084839],\"y\":[-0.03137505054473877],\"type\":\"scatter\"},{\"marker\":{\"color\":\"black\"},\"mode\":\"markers+text\",\"text\":[\"elizabeth\"],\"textfont\":{\"color\":\"black\"},\"textposition\":\"top center\",\"x\":[-0.5582999587059021],\"y\":[-1.4046036005020142],\"type\":\"scatter\"},{\"marker\":{\"color\":\"black\"},\"mode\":\"markers+text\",\"text\":[\"john\"],\"textfont\":{\"color\":\"black\"},\"textposition\":\"top center\",\"x\":[1.4596662521362305],\"y\":[1.4233571290969849],\"type\":\"scatter\"},{\"marker\":{\"color\":\"red\"},\"mode\":\"markers+text\",\"text\":[\"paul_dec\"],\"textfont\":{\"color\":\"red\"},\"textposition\":\"top center\",\"x\":[-1.209446907043457],\"y\":[0.012621491216123104],\"type\":\"scatter\"},{\"marker\":{\"color\":\"black\"},\"mode\":\"markers+text\",\"text\":[\"james\"],\"textfont\":{\"color\":\"black\"},\"textposition\":\"top center\",\"x\":[1.6304082870483398],\"y\":[-1.0559200048446655],\"type\":\"scatter\"},{\"marker\":{\"color\":\"black\"},\"mode\":\"markers+text\",\"text\":[\"rookierae\"],\"textfont\":{\"color\":\"black\"},\"textposition\":\"top center\",\"x\":[-1.0578057765960693],\"y\":[1.3470489978790283],\"type\":\"scatter\"},{\"marker\":{\"color\":\"black\"},\"mode\":\"markers+text\",\"text\":[\"pastor\"],\"textfont\":{\"color\":\"black\"},\"textposition\":\"top center\",\"x\":[-0.45788049697875977],\"y\":[0.5714130997657776],\"type\":\"scatter\"},{\"marker\":{\"color\":\"red\"},\"mode\":\"markers+text\",\"text\":[\"paul_jan\"],\"textfont\":{\"color\":\"red\"},\"textposition\":\"top center\",\"x\":[-0.11472194641828537],\"y\":[-0.8625421524047852],\"type\":\"scatter\"},{\"marker\":{\"color\":\"red\",\"size\":10,\"symbol\":\"diamond\"},\"mode\":\"markers\",\"x\":[-0.5947667360305786],\"y\":[1.424149513244629],\"type\":\"scatter\"},{\"line\":{\"color\":\"red\"},\"mode\":\"lines\",\"x\":[-0.5947667360305786,0.05795713886618614],\"y\":[1.424149513244629,-1.2293014526367188],\"type\":\"scatter\"},{\"line\":{\"color\":\"red\"},\"mode\":\"lines\",\"x\":[0.05795713886618614,-1.209446907043457],\"y\":[-1.2293014526367188,0.012621491216123104],\"type\":\"scatter\"},{\"line\":{\"color\":\"red\"},\"mode\":\"lines\",\"x\":[-1.209446907043457,-0.11472194641828537],\"y\":[0.012621491216123104,-0.8625421524047852],\"type\":\"scatter\"}],                        {\"annotations\":[{\"showarrow\":false,\"text\":\"Period: Oct - Nov - Dec - Jan\",\"x\":0.5,\"xref\":\"paper\",\"y\":1.08,\"yref\":\"paper\"}],\"showlegend\":false,\"template\":{\"data\":{\"barpolar\":[{\"marker\":{\"line\":{\"color\":\"#E5ECF6\",\"width\":0.5},\"pattern\":{\"fillmode\":\"overlay\",\"size\":10,\"solidity\":0.2}},\"type\":\"barpolar\"}],\"bar\":[{\"error_x\":{\"color\":\"#2a3f5f\"},\"error_y\":{\"color\":\"#2a3f5f\"},\"marker\":{\"line\":{\"color\":\"#E5ECF6\",\"width\":0.5},\"pattern\":{\"fillmode\":\"overlay\",\"size\":10,\"solidity\":0.2}},\"type\":\"bar\"}],\"carpet\":[{\"aaxis\":{\"endlinecolor\":\"#2a3f5f\",\"gridcolor\":\"white\",\"linecolor\":\"white\",\"minorgridcolor\":\"white\",\"startlinecolor\":\"#2a3f5f\"},\"baxis\":{\"endlinecolor\":\"#2a3f5f\",\"gridcolor\":\"white\",\"linecolor\":\"white\",\"minorgridcolor\":\"white\",\"startlinecolor\":\"#2a3f5f\"},\"type\":\"carpet\"}],\"choropleth\":[{\"colorbar\":{\"outlinewidth\":0,\"ticks\":\"\"},\"type\":\"choropleth\"}],\"contourcarpet\":[{\"colorbar\":{\"outlinewidth\":0,\"ticks\":\"\"},\"type\":\"contourcarpet\"}],\"contour\":[{\"colorbar\":{\"outlinewidth\":0,\"ticks\":\"\"},\"colorscale\":[[0.0,\"#0d0887\"],[0.1111111111111111,\"#46039f\"],[0.2222222222222222,\"#7201a8\"],[0.3333333333333333,\"#9c179e\"],[0.4444444444444444,\"#bd3786\"],[0.5555555555555556,\"#d8576b\"],[0.6666666666666666,\"#ed7953\"],[0.7777777777777778,\"#fb9f3a\"],[0.8888888888888888,\"#fdca26\"],[1.0,\"#f0f921\"]],\"type\":\"contour\"}],\"heatmapgl\":[{\"colorbar\":{\"outlinewidth\":0,\"ticks\":\"\"},\"colorscale\":[[0.0,\"#0d0887\"],[0.1111111111111111,\"#46039f\"],[0.2222222222222222,\"#7201a8\"],[0.3333333333333333,\"#9c179e\"],[0.4444444444444444,\"#bd3786\"],[0.5555555555555556,\"#d8576b\"],[0.6666666666666666,\"#ed7953\"],[0.7777777777777778,\"#fb9f3a\"],[0.8888888888888888,\"#fdca26\"],[1.0,\"#f0f921\"]],\"type\":\"heatmapgl\"}],\"heatmap\":[{\"colorbar\":{\"outlinewidth\":0,\"ticks\":\"\"},\"colorscale\":[[0.0,\"#0d0887\"],[0.1111111111111111,\"#46039f\"],[0.2222222222222222,\"#7201a8\"],[0.3333333333333333,\"#9c179e\"],[0.4444444444444444,\"#bd3786\"],[0.5555555555555556,\"#d8576b\"],[0.6666666666666666,\"#ed7953\"],[0.7777777777777778,\"#fb9f3a\"],[0.8888888888888888,\"#fdca26\"],[1.0,\"#f0f921\"]],\"type\":\"heatmap\"}],\"histogram2dcontour\":[{\"colorbar\":{\"outlinewidth\":0,\"ticks\":\"\"},\"colorscale\":[[0.0,\"#0d0887\"],[0.1111111111111111,\"#46039f\"],[0.2222222222222222,\"#7201a8\"],[0.3333333333333333,\"#9c179e\"],[0.4444444444444444,\"#bd3786\"],[0.5555555555555556,\"#d8576b\"],[0.6666666666666666,\"#ed7953\"],[0.7777777777777778,\"#fb9f3a\"],[0.8888888888888888,\"#fdca26\"],[1.0,\"#f0f921\"]],\"type\":\"histogram2dcontour\"}],\"histogram2d\":[{\"colorbar\":{\"outlinewidth\":0,\"ticks\":\"\"},\"colorscale\":[[0.0,\"#0d0887\"],[0.1111111111111111,\"#46039f\"],[0.2222222222222222,\"#7201a8\"],[0.3333333333333333,\"#9c179e\"],[0.4444444444444444,\"#bd3786\"],[0.5555555555555556,\"#d8576b\"],[0.6666666666666666,\"#ed7953\"],[0.7777777777777778,\"#fb9f3a\"],[0.8888888888888888,\"#fdca26\"],[1.0,\"#f0f921\"]],\"type\":\"histogram2d\"}],\"histogram\":[{\"marker\":{\"pattern\":{\"fillmode\":\"overlay\",\"size\":10,\"solidity\":0.2}},\"type\":\"histogram\"}],\"mesh3d\":[{\"colorbar\":{\"outlinewidth\":0,\"ticks\":\"\"},\"type\":\"mesh3d\"}],\"parcoords\":[{\"line\":{\"colorbar\":{\"outlinewidth\":0,\"ticks\":\"\"}},\"type\":\"parcoords\"}],\"pie\":[{\"automargin\":true,\"type\":\"pie\"}],\"scatter3d\":[{\"line\":{\"colorbar\":{\"outlinewidth\":0,\"ticks\":\"\"}},\"marker\":{\"colorbar\":{\"outlinewidth\":0,\"ticks\":\"\"}},\"type\":\"scatter3d\"}],\"scattercarpet\":[{\"marker\":{\"colorbar\":{\"outlinewidth\":0,\"ticks\":\"\"}},\"type\":\"scattercarpet\"}],\"scattergeo\":[{\"marker\":{\"colorbar\":{\"outlinewidth\":0,\"ticks\":\"\"}},\"type\":\"scattergeo\"}],\"scattergl\":[{\"marker\":{\"colorbar\":{\"outlinewidth\":0,\"ticks\":\"\"}},\"type\":\"scattergl\"}],\"scattermapbox\":[{\"marker\":{\"colorbar\":{\"outlinewidth\":0,\"ticks\":\"\"}},\"type\":\"scattermapbox\"}],\"scatterpolargl\":[{\"marker\":{\"colorbar\":{\"outlinewidth\":0,\"ticks\":\"\"}},\"type\":\"scatterpolargl\"}],\"scatterpolar\":[{\"marker\":{\"colorbar\":{\"outlinewidth\":0,\"ticks\":\"\"}},\"type\":\"scatterpolar\"}],\"scatter\":[{\"fillpattern\":{\"fillmode\":\"overlay\",\"size\":10,\"solidity\":0.2},\"type\":\"scatter\"}],\"scatterternary\":[{\"marker\":{\"colorbar\":{\"outlinewidth\":0,\"ticks\":\"\"}},\"type\":\"scatterternary\"}],\"surface\":[{\"colorbar\":{\"outlinewidth\":0,\"ticks\":\"\"},\"colorscale\":[[0.0,\"#0d0887\"],[0.1111111111111111,\"#46039f\"],[0.2222222222222222,\"#7201a8\"],[0.3333333333333333,\"#9c179e\"],[0.4444444444444444,\"#bd3786\"],[0.5555555555555556,\"#d8576b\"],[0.6666666666666666,\"#ed7953\"],[0.7777777777777778,\"#fb9f3a\"],[0.8888888888888888,\"#fdca26\"],[1.0,\"#f0f921\"]],\"type\":\"surface\"}],\"table\":[{\"cells\":{\"fill\":{\"color\":\"#EBF0F8\"},\"line\":{\"color\":\"white\"}},\"header\":{\"fill\":{\"color\":\"#C8D4E3\"},\"line\":{\"color\":\"white\"}},\"type\":\"table\"}]},\"layout\":{\"annotationdefaults\":{\"arrowcolor\":\"#2a3f5f\",\"arrowhead\":0,\"arrowwidth\":1},\"autotypenumbers\":\"strict\",\"coloraxis\":{\"colorbar\":{\"outlinewidth\":0,\"ticks\":\"\"}},\"colorscale\":{\"diverging\":[[0,\"#8e0152\"],[0.1,\"#c51b7d\"],[0.2,\"#de77ae\"],[0.3,\"#f1b6da\"],[0.4,\"#fde0ef\"],[0.5,\"#f7f7f7\"],[0.6,\"#e6f5d0\"],[0.7,\"#b8e186\"],[0.8,\"#7fbc41\"],[0.9,\"#4d9221\"],[1,\"#276419\"]],\"sequential\":[[0.0,\"#0d0887\"],[0.1111111111111111,\"#46039f\"],[0.2222222222222222,\"#7201a8\"],[0.3333333333333333,\"#9c179e\"],[0.4444444444444444,\"#bd3786\"],[0.5555555555555556,\"#d8576b\"],[0.6666666666666666,\"#ed7953\"],[0.7777777777777778,\"#fb9f3a\"],[0.8888888888888888,\"#fdca26\"],[1.0,\"#f0f921\"]],\"sequentialminus\":[[0.0,\"#0d0887\"],[0.1111111111111111,\"#46039f\"],[0.2222222222222222,\"#7201a8\"],[0.3333333333333333,\"#9c179e\"],[0.4444444444444444,\"#bd3786\"],[0.5555555555555556,\"#d8576b\"],[0.6666666666666666,\"#ed7953\"],[0.7777777777777778,\"#fb9f3a\"],[0.8888888888888888,\"#fdca26\"],[1.0,\"#f0f921\"]]},\"colorway\":[\"#636efa\",\"#EF553B\",\"#00cc96\",\"#ab63fa\",\"#FFA15A\",\"#19d3f3\",\"#FF6692\",\"#B6E880\",\"#FF97FF\",\"#FECB52\"],\"font\":{\"color\":\"#2a3f5f\"},\"geo\":{\"bgcolor\":\"white\",\"lakecolor\":\"white\",\"landcolor\":\"#E5ECF6\",\"showlakes\":true,\"showland\":true,\"subunitcolor\":\"white\"},\"hoverlabel\":{\"align\":\"left\"},\"hovermode\":\"closest\",\"mapbox\":{\"style\":\"light\"},\"paper_bgcolor\":\"white\",\"plot_bgcolor\":\"#E5ECF6\",\"polar\":{\"angularaxis\":{\"gridcolor\":\"white\",\"linecolor\":\"white\",\"ticks\":\"\"},\"bgcolor\":\"#E5ECF6\",\"radialaxis\":{\"gridcolor\":\"white\",\"linecolor\":\"white\",\"ticks\":\"\"}},\"scene\":{\"xaxis\":{\"backgroundcolor\":\"#E5ECF6\",\"gridcolor\":\"white\",\"gridwidth\":2,\"linecolor\":\"white\",\"showbackground\":true,\"ticks\":\"\",\"zerolinecolor\":\"white\"},\"yaxis\":{\"backgroundcolor\":\"#E5ECF6\",\"gridcolor\":\"white\",\"gridwidth\":2,\"linecolor\":\"white\",\"showbackground\":true,\"ticks\":\"\",\"zerolinecolor\":\"white\"},\"zaxis\":{\"backgroundcolor\":\"#E5ECF6\",\"gridcolor\":\"white\",\"gridwidth\":2,\"linecolor\":\"white\",\"showbackground\":true,\"ticks\":\"\",\"zerolinecolor\":\"white\"}},\"shapedefaults\":{\"line\":{\"color\":\"#2a3f5f\"}},\"ternary\":{\"aaxis\":{\"gridcolor\":\"white\",\"linecolor\":\"white\",\"ticks\":\"\"},\"baxis\":{\"gridcolor\":\"white\",\"linecolor\":\"white\",\"ticks\":\"\"},\"bgcolor\":\"#E5ECF6\",\"caxis\":{\"gridcolor\":\"white\",\"linecolor\":\"white\",\"ticks\":\"\"}},\"title\":{\"x\":0.05},\"xaxis\":{\"automargin\":true,\"gridcolor\":\"white\",\"linecolor\":\"white\",\"ticks\":\"\",\"title\":{\"standoff\":15},\"zerolinecolor\":\"white\",\"zerolinewidth\":2},\"yaxis\":{\"automargin\":true,\"gridcolor\":\"white\",\"linecolor\":\"white\",\"ticks\":\"\",\"title\":{\"standoff\":15},\"zerolinecolor\":\"white\",\"zerolinewidth\":2}}},\"title\":{\"font\":{\"size\":22},\"text\":\"Evolution of the word paul over time\",\"x\":0.5},\"xaxis\":{\"title\":{\"text\":\"X\"}},\"yaxis\":{\"title\":{\"text\":\"Y\"}}},                        {\"responsive\": true}                    ).then(function(){\n                            \nvar gd = document.getElementById('148e2707-04a6-4aa7-93ee-129ab488a9d6');\nvar x = new MutationObserver(function (mutations, observer) {{\n        var display = window.getComputedStyle(gd).display;\n        if (!display || display === 'none') {{\n            console.log([gd, 'removed!']);\n            Plotly.purge(gd);\n            observer.disconnect();\n        }}\n}});\n\n// Listen for the removal of the full notebook cells\nvar notebookContainer = gd.closest('#notebook-container');\nif (notebookContainer) {{\n    x.observe(notebookContainer, {childList: true});\n}}\n\n// Listen for the clearing of the current output cell\nvar outputEl = gd.closest('.output');\nif (outputEl) {{\n    x.observe(outputEl, {childList: true});\n}}\n\n                        })                };                });            </script>        </div>"
     },
     "metadata": {},
     "output_type": "display_data"
    }
   ],
   "source": [
    "plot_temporal_changing_embedding(target_word_pelosi, selected_models_monthly_pelosi, top_n=3, title=title_pelosi, subtitle=subtitle_pelosi, use_tsne=True)"
   ],
   "metadata": {
    "collapsed": false
   }
  },
  {
   "cell_type": "markdown",
   "source": [
    "### Cosine similarities"
   ],
   "metadata": {
    "collapsed": false
   }
  },
  {
   "cell_type": "code",
   "execution_count": 40,
   "outputs": [
    {
     "name": "stdout",
     "output_type": "stream",
     "text": [
      "Word: paul\n",
      "Month: Jun\n",
      "[('william', 0.9556577205657959), ('mary', 0.9527800679206848), ('lee', 0.9302202463150024)]\n",
      "--------------------------------\n",
      "Month: Jul\n",
      "[('kelly', 0.9683905839920044), ('kim', 0.9651561379432678), ('vachon', 0.9639987945556641)]\n",
      "--------------------------------\n",
      "Month: Aug\n",
      "[('j', 0.9704556465148926), ('charles', 0.9595333337783813), ('robert', 0.9591724872589111)]\n",
      "--------------------------------\n",
      "Month: Sep\n",
      "[('scott', 0.9557153582572937), ('williams', 0.9533270597457886), ('andrew', 0.9512733817100525)]\n",
      "--------------------------------\n",
      "Month: Oct\n",
      "[('floyd', 0.8686625957489014), ('andrew', 0.8619871735572815), ('alex', 0.8612565398216248)]\n",
      "--------------------------------\n",
      "Month: Nov\n",
      "[('james', 0.8534097075462341), ('pelosi', 0.8324013352394104), ('john', 0.8100072741508484)]\n",
      "--------------------------------\n",
      "Month: Dec\n",
      "[('james', 0.893463671207428), ('elizabeth', 0.8768035769462585), ('john', 0.8661428689956665)]\n",
      "--------------------------------\n",
      "Month: Jan\n",
      "[('james', 0.9043502807617188), ('rookierae', 0.9002606272697449), ('pastor', 0.8961585164070129)]\n",
      "--------------------------------\n",
      "Month: Feb\n",
      "[('johnson', 0.8312909007072449), ('michael', 0.8280732035636902), ('smith', 0.8275179862976074)]\n",
      "--------------------------------\n",
      "Month: Mar\n",
      "[('vallas', 0.9184425473213196), ('ceo', 0.8947893381118774), ('brandon', 0.8866525888442993)]\n",
      "--------------------------------\n",
      "Month: Apr\n",
      "[('vallas', 0.9545528888702393), ('ceo', 0.9196469783782959), ('moderate', 0.911320149898529)]\n",
      "--------------------------------\n"
     ]
    }
   ],
   "source": [
    "print_most_similar_cade(models_monthly, target_word_pelosi)"
   ],
   "metadata": {
    "collapsed": false
   }
  },
  {
   "cell_type": "code",
   "execution_count": 41,
   "outputs": [],
   "source": [
    "test_words_pelosi = [\"attack\", \"democrats\", \"invasion\", \"hammer\", \"intruder\"]"
   ],
   "metadata": {
    "collapsed": false
   }
  },
  {
   "cell_type": "code",
   "execution_count": 42,
   "outputs": [
    {
     "data": {
      "text/plain": "<Figure size 1000x600 with 1 Axes>",
      "image/png": "[encoded data removed]"
     },
     "metadata": {},
     "output_type": "display_data"
    }
   ],
   "source": [
    "plot_cosine_similarity(target_word_pelosi, test_words_pelosi, models_monthly, event=\"nov\", event_name=\"Attack on Paul Pelosi\")"
   ],
   "metadata": {
    "collapsed": false
   }
  },
  {
   "cell_type": "markdown",
   "source": [
    "### TPPMI"
   ],
   "metadata": {
    "collapsed": false
   }
  },
  {
   "cell_type": "code",
   "execution_count": 43,
   "outputs": [
    {
     "name": "stdout",
     "output_type": "stream",
     "text": [
      "All words are contained in the vocabulary\n",
      "hammer - not in vocab of timestep: 06\n",
      "hammer - not in vocab of timestep: 07\n",
      "hammer - not in vocab of timestep: 12\n",
      "hammer - not in vocab of timestep: 03\n",
      "hammer - not in vocab of timestep: 04\n",
      "intruder - not in vocab of timestep: 06\n",
      "intruder - not in vocab of timestep: 07\n",
      "intruder - not in vocab of timestep: 08\n",
      "intruder - not in vocab of timestep: 10\n",
      "intruder - not in vocab of timestep: 02\n",
      "intruder - not in vocab of timestep: 03\n",
      "intruder - not in vocab of timestep: 04\n"
     ]
    }
   ],
   "source": [
    "tppmi_pelosi = tppmi_model.get_tppmi(test_words_pelosi + [target_word_pelosi])"
   ],
   "metadata": {
    "collapsed": false
   }
  },
  {
   "cell_type": "code",
   "execution_count": 44,
   "outputs": [
    {
     "name": "stdout",
     "output_type": "stream",
     "text": [
      "All words are contained in the vocabulary\n"
     ]
    },
    {
     "data": {
      "text/html": "        <script type=\"text/javascript\">\n        window.PlotlyConfig = {MathJaxConfig: 'local'};\n        if (window.MathJax && window.MathJax.Hub && window.MathJax.Hub.Config) {window.MathJax.Hub.Config({SVG: {font: \"STIX-Web\"}});}\n        if (typeof require !== 'undefined') {\n        require.undef(\"plotly\");\n        requirejs.config({\n            paths: {\n                'plotly': ['https://cdn.plot.ly/plotly-2.25.2.min']\n            }\n        });\n        require(['plotly'], function(Plotly) {\n            window._Plotly = Plotly;\n        });\n        }\n        </script>\n        "
     },
     "metadata": {},
     "output_type": "display_data"
    },
    {
     "data": {
      "application/vnd.plotly.v1+json": {
       "data": [
        {
         "marker": {
          "color": "#00CC96"
         },
         "mode": "markers+text",
         "name": "attack",
         "showlegend": false,
         "text": [
          "attack"
         ],
         "textposition": "top center",
         "x": [
          -1.6649431149486822
         ],
         "y": [
          32.62470979797949
         ],
         "type": "scatter"
        },
        {
         "marker": {
          "color": "#00CC96",
          "size": 10,
          "symbol": "diamond"
         },
         "mode": "markers",
         "showlegend": false,
         "x": [
          -1.6649431149486822
         ],
         "y": [
          32.62470979797949
         ],
         "type": "scatter"
        },
        {
         "marker": {
          "color": "#00CC96"
         },
         "mode": "markers+text",
         "name": "attack",
         "showlegend": false,
         "text": [
          "attack"
         ],
         "textposition": "top center",
         "x": [
          -2.752570380654482
         ],
         "y": [
          20.349046740838773
         ],
         "type": "scatter"
        },
        {
         "line": {
          "color": "#00CC96",
          "width": 1
         },
         "mode": "lines",
         "showlegend": false,
         "x": [
          -1.6649431149486822,
          -2.752570380654482
         ],
         "y": [
          32.62470979797949,
          20.349046740838773
         ],
         "type": "scatter"
        },
        {
         "marker": {
          "color": "#00CC96"
         },
         "mode": "markers+text",
         "name": "attack",
         "showlegend": false,
         "text": [
          "attack"
         ],
         "textposition": "top center",
         "x": [
          -0.922445477663057
         ],
         "y": [
          24.599678623948176
         ],
         "type": "scatter"
        },
        {
         "line": {
          "color": "#00CC96",
          "width": 1
         },
         "mode": "lines",
         "showlegend": false,
         "x": [
          -2.752570380654482,
          -0.922445477663057
         ],
         "y": [
          20.349046740838773,
          24.599678623948176
         ],
         "type": "scatter"
        },
        {
         "marker": {
          "color": "#AB63FA"
         },
         "mode": "markers+text",
         "name": "democrats",
         "showlegend": false,
         "text": [
          "democrats"
         ],
         "textposition": "top center",
         "x": [
          34.42854528113117
         ],
         "y": [
          -17.865088811966984
         ],
         "type": "scatter"
        },
        {
         "marker": {
          "color": "#AB63FA",
          "size": 10,
          "symbol": "diamond"
         },
         "mode": "markers",
         "showlegend": false,
         "x": [
          34.42854528113117
         ],
         "y": [
          -17.865088811966984
         ],
         "type": "scatter"
        },
        {
         "marker": {
          "color": "#AB63FA"
         },
         "mode": "markers+text",
         "name": "democrats",
         "showlegend": false,
         "text": [
          "democrats"
         ],
         "textposition": "top center",
         "x": [
          31.33534309307751
         ],
         "y": [
          -17.610973840393072
         ],
         "type": "scatter"
        },
        {
         "line": {
          "color": "#AB63FA",
          "width": 1
         },
         "mode": "lines",
         "showlegend": false,
         "x": [
          34.42854528113117,
          31.33534309307751
         ],
         "y": [
          -17.865088811966984,
          -17.610973840393072
         ],
         "type": "scatter"
        },
        {
         "marker": {
          "color": "#AB63FA"
         },
         "mode": "markers+text",
         "name": "democrats",
         "showlegend": false,
         "text": [
          "democrats"
         ],
         "textposition": "top center",
         "x": [
          11.913880294653127
         ],
         "y": [
          -4.091189600617926
         ],
         "type": "scatter"
        },
        {
         "line": {
          "color": "#AB63FA",
          "width": 1
         },
         "mode": "lines",
         "showlegend": false,
         "x": [
          31.33534309307751,
          11.913880294653127
         ],
         "y": [
          -17.610973840393072,
          -4.091189600617926
         ],
         "type": "scatter"
        },
        {
         "marker": {
          "color": "#636EFA"
         },
         "mode": "markers+text",
         "name": "invasion",
         "showlegend": false,
         "text": [
          "invasion"
         ],
         "textposition": "top center",
         "x": [
          0.4549592574725401
         ],
         "y": [
          4.841324893355927
         ],
         "type": "scatter"
        },
        {
         "marker": {
          "color": "#636EFA",
          "size": 10,
          "symbol": "diamond"
         },
         "mode": "markers",
         "showlegend": false,
         "x": [
          0.4549592574725401
         ],
         "y": [
          4.841324893355927
         ],
         "type": "scatter"
        },
        {
         "marker": {
          "color": "#636EFA"
         },
         "mode": "markers+text",
         "name": "invasion",
         "showlegend": false,
         "text": [
          "invasion"
         ],
         "textposition": "top center",
         "x": [
          1.3552882584604975
         ],
         "y": [
          4.129744599112183
         ],
         "type": "scatter"
        },
        {
         "line": {
          "color": "#636EFA",
          "width": 1
         },
         "mode": "lines",
         "showlegend": false,
         "x": [
          0.4549592574725401,
          1.3552882584604975
         ],
         "y": [
          4.841324893355927,
          4.129744599112183
         ],
         "type": "scatter"
        },
        {
         "marker": {
          "color": "#636EFA"
         },
         "mode": "markers+text",
         "name": "invasion",
         "showlegend": false,
         "text": [
          "invasion"
         ],
         "textposition": "top center",
         "x": [
          0.6203558015677695
         ],
         "y": [
          3.452841876610269
         ],
         "type": "scatter"
        },
        {
         "line": {
          "color": "#636EFA",
          "width": 1
         },
         "mode": "lines",
         "showlegend": false,
         "x": [
          1.3552882584604975,
          0.6203558015677695
         ],
         "y": [
          4.129744599112183,
          3.452841876610269
         ],
         "type": "scatter"
        },
        {
         "marker": {
          "color": "#EF553B"
         },
         "mode": "markers+text",
         "name": "paul",
         "showlegend": false,
         "text": [
          "paul"
         ],
         "textposition": "top center",
         "x": [
          -28.47292107167394
         ],
         "y": [
          -12.12774685606507
         ],
         "type": "scatter"
        },
        {
         "marker": {
          "color": "#EF553B",
          "size": 10,
          "symbol": "diamond"
         },
         "mode": "markers",
         "showlegend": false,
         "x": [
          -28.47292107167394
         ],
         "y": [
          -12.12774685606507
         ],
         "type": "scatter"
        },
        {
         "marker": {
          "color": "#EF553B"
         },
         "mode": "markers+text",
         "name": "paul",
         "showlegend": false,
         "text": [
          "paul"
         ],
         "textposition": "top center",
         "x": [
          -29.936991184198256
         ],
         "y": [
          -27.01745489068217
         ],
         "type": "scatter"
        },
        {
         "line": {
          "color": "#EF553B",
          "width": 1
         },
         "mode": "lines",
         "showlegend": false,
         "x": [
          -28.47292107167394,
          -29.936991184198256
         ],
         "y": [
          -12.12774685606507,
          -27.01745489068217
         ],
         "type": "scatter"
        },
        {
         "marker": {
          "color": "#EF553B"
         },
         "mode": "markers+text",
         "name": "paul",
         "showlegend": false,
         "text": [
          "paul"
         ],
         "textposition": "top center",
         "x": [
          -16.358500757224157
         ],
         "y": [
          -11.284892532119596
         ],
         "type": "scatter"
        },
        {
         "line": {
          "color": "#EF553B",
          "width": 1
         },
         "mode": "lines",
         "showlegend": false,
         "x": [
          -29.936991184198256,
          -16.358500757224157
         ],
         "y": [
          -27.01745489068217,
          -11.284892532119596
         ],
         "type": "scatter"
        }
       ],
       "layout": {
        "legend": {
         "x": 1.02,
         "y": 1.0
        },
        "template": {
         "data": {
          "barpolar": [
           {
            "marker": {
             "line": {
              "color": "#E5ECF6",
              "width": 0.5
             },
             "pattern": {
              "fillmode": "overlay",
              "size": 10,
              "solidity": 0.2
             }
            },
            "type": "barpolar"
           }
          ],
          "bar": [
           {
            "error_x": {
             "color": "#2a3f5f"
            },
            "error_y": {
             "color": "#2a3f5f"
            },
            "marker": {
             "line": {
              "color": "#E5ECF6",
              "width": 0.5
             },
             "pattern": {
              "fillmode": "overlay",
              "size": 10,
              "solidity": 0.2
             }
            },
            "type": "bar"
           }
          ],
          "carpet": [
           {
            "aaxis": {
             "endlinecolor": "#2a3f5f",
             "gridcolor": "white",
             "linecolor": "white",
             "minorgridcolor": "white",
             "startlinecolor": "#2a3f5f"
            },
            "baxis": {
             "endlinecolor": "#2a3f5f",
             "gridcolor": "white",
             "linecolor": "white",
             "minorgridcolor": "white",
             "startlinecolor": "#2a3f5f"
            },
            "type": "carpet"
           }
          ],
          "choropleth": [
           {
            "colorbar": {
             "outlinewidth": 0,
             "ticks": ""
            },
            "type": "choropleth"
           }
          ],
          "contourcarpet": [
           {
            "colorbar": {
             "outlinewidth": 0,
             "ticks": ""
            },
            "type": "contourcarpet"
           }
          ],
          "contour": [
           {
            "colorbar": {
             "outlinewidth": 0,
             "ticks": ""
            },
            "colorscale": [
             [
              0.0,
              "#0d0887"
             ],
             [
              0.1111111111111111,
              "#46039f"
             ],
             [
              0.2222222222222222,
              "#7201a8"
             ],
             [
              0.3333333333333333,
              "#9c179e"
             ],
             [
              0.4444444444444444,
              "#bd3786"
             ],
             [
              0.5555555555555556,
              "#d8576b"
             ],
             [
              0.6666666666666666,
              "#ed7953"
             ],
             [
              0.7777777777777778,
              "#fb9f3a"
             ],
             [
              0.8888888888888888,
              "#fdca26"
             ],
             [
              1.0,
              "#f0f921"
             ]
            ],
            "type": "contour"
           }
          ],
          "heatmapgl": [
           {
            "colorbar": {
             "outlinewidth": 0,
             "ticks": ""
            },
            "colorscale": [
             [
              0.0,
              "#0d0887"
             ],
             [
              0.1111111111111111,
              "#46039f"
             ],
             [
              0.2222222222222222,
              "#7201a8"
             ],
             [
              0.3333333333333333,
              "#9c179e"
             ],
             [
              0.4444444444444444,
              "#bd3786"
             ],
             [
              0.5555555555555556,
              "#d8576b"
             ],
             [
              0.6666666666666666,
              "#ed7953"
             ],
             [
              0.7777777777777778,
              "#fb9f3a"
             ],
             [
              0.8888888888888888,
              "#fdca26"
             ],
             [
              1.0,
              "#f0f921"
             ]
            ],
            "type": "heatmapgl"
           }
          ],
          "heatmap": [
           {
            "colorbar": {
             "outlinewidth": 0,
             "ticks": ""
            },
            "colorscale": [
             [
              0.0,
              "#0d0887"
             ],
             [
              0.1111111111111111,
              "#46039f"
             ],
             [
              0.2222222222222222,
              "#7201a8"
             ],
             [
              0.3333333333333333,
              "#9c179e"
             ],
             [
              0.4444444444444444,
              "#bd3786"
             ],
             [
              0.5555555555555556,
              "#d8576b"
             ],
             [
              0.6666666666666666,
              "#ed7953"
             ],
             [
              0.7777777777777778,
              "#fb9f3a"
             ],
             [
              0.8888888888888888,
              "#fdca26"
             ],
             [
              1.0,
              "#f0f921"
             ]
            ],
            "type": "heatmap"
           }
          ],
          "histogram2dcontour": [
           {
            "colorbar": {
             "outlinewidth": 0,
             "ticks": ""
            },
            "colorscale": [
             [
              0.0,
              "#0d0887"
             ],
             [
              0.1111111111111111,
              "#46039f"
             ],
             [
              0.2222222222222222,
              "#7201a8"
             ],
             [
              0.3333333333333333,
              "#9c179e"
             ],
             [
              0.4444444444444444,
              "#bd3786"
             ],
             [
              0.5555555555555556,
              "#d8576b"
             ],
             [
              0.6666666666666666,
              "#ed7953"
             ],
             [
              0.7777777777777778,
              "#fb9f3a"
             ],
             [
              0.8888888888888888,
              "#fdca26"
             ],
             [
              1.0,
              "#f0f921"
             ]
            ],
            "type": "histogram2dcontour"
           }
          ],
          "histogram2d": [
           {
            "colorbar": {
             "outlinewidth": 0,
             "ticks": ""
            },
            "colorscale": [
             [
              0.0,
              "#0d0887"
             ],
             [
              0.1111111111111111,
              "#46039f"
             ],
             [
              0.2222222222222222,
              "#7201a8"
             ],
             [
              0.3333333333333333,
              "#9c179e"
             ],
             [
              0.4444444444444444,
              "#bd3786"
             ],
             [
              0.5555555555555556,
              "#d8576b"
             ],
             [
              0.6666666666666666,
              "#ed7953"
             ],
             [
              0.7777777777777778,
              "#fb9f3a"
             ],
             [
              0.8888888888888888,
              "#fdca26"
             ],
             [
              1.0,
              "#f0f921"
             ]
            ],
            "type": "histogram2d"
           }
          ],
          "histogram": [
           {
            "marker": {
             "pattern": {
              "fillmode": "overlay",
              "size": 10,
              "solidity": 0.2
             }
            },
            "type": "histogram"
           }
          ],
          "mesh3d": [
           {
            "colorbar": {
             "outlinewidth": 0,
             "ticks": ""
            },
            "type": "mesh3d"
           }
          ],
          "parcoords": [
           {
            "line": {
             "colorbar": {
              "outlinewidth": 0,
              "ticks": ""
             }
            },
            "type": "parcoords"
           }
          ],
          "pie": [
           {
            "automargin": true,
            "type": "pie"
           }
          ],
          "scatter3d": [
           {
            "line": {
             "colorbar": {
              "outlinewidth": 0,
              "ticks": ""
             }
            },
            "marker": {
             "colorbar": {
              "outlinewidth": 0,
              "ticks": ""
             }
            },
            "type": "scatter3d"
           }
          ],
          "scattercarpet": [
           {
            "marker": {
             "colorbar": {
              "outlinewidth": 0,
              "ticks": ""
             }
            },
            "type": "scattercarpet"
           }
          ],
          "scattergeo": [
           {
            "marker": {
             "colorbar": {
              "outlinewidth": 0,
              "ticks": ""
             }
            },
            "type": "scattergeo"
           }
          ],
          "scattergl": [
           {
            "marker": {
             "colorbar": {
              "outlinewidth": 0,
              "ticks": ""
             }
            },
            "type": "scattergl"
           }
          ],
          "scattermapbox": [
           {
            "marker": {
             "colorbar": {
              "outlinewidth": 0,
              "ticks": ""
             }
            },
            "type": "scattermapbox"
           }
          ],
          "scatterpolargl": [
           {
            "marker": {
             "colorbar": {
              "outlinewidth": 0,
              "ticks": ""
             }
            },
            "type": "scatterpolargl"
           }
          ],
          "scatterpolar": [
           {
            "marker": {
             "colorbar": {
              "outlinewidth": 0,
              "ticks": ""
             }
            },
            "type": "scatterpolar"
           }
          ],
          "scatter": [
           {
            "fillpattern": {
             "fillmode": "overlay",
             "size": 10,
             "solidity": 0.2
            },
            "type": "scatter"
           }
          ],
          "scatterternary": [
           {
            "marker": {
             "colorbar": {
              "outlinewidth": 0,
              "ticks": ""
             }
            },
            "type": "scatterternary"
           }
          ],
          "surface": [
           {
            "colorbar": {
             "outlinewidth": 0,
             "ticks": ""
            },
            "colorscale": [
             [
              0.0,
              "#0d0887"
             ],
             [
              0.1111111111111111,
              "#46039f"
             ],
             [
              0.2222222222222222,
              "#7201a8"
             ],
             [
              0.3333333333333333,
              "#9c179e"
             ],
             [
              0.4444444444444444,
              "#bd3786"
             ],
             [
              0.5555555555555556,
              "#d8576b"
             ],
             [
              0.6666666666666666,
              "#ed7953"
             ],
             [
              0.7777777777777778,
              "#fb9f3a"
             ],
             [
              0.8888888888888888,
              "#fdca26"
             ],
             [
              1.0,
              "#f0f921"
             ]
            ],
            "type": "surface"
           }
          ],
          "table": [
           {
            "cells": {
             "fill": {
              "color": "#EBF0F8"
             },
             "line": {
              "color": "white"
             }
            },
            "header": {
             "fill": {
              "color": "#C8D4E3"
             },
             "line": {
              "color": "white"
             }
            },
            "type": "table"
           }
          ]
         },
         "layout": {
          "annotationdefaults": {
           "arrowcolor": "#2a3f5f",
           "arrowhead": 0,
           "arrowwidth": 1
          },
          "autotypenumbers": "strict",
          "coloraxis": {
           "colorbar": {
            "outlinewidth": 0,
            "ticks": ""
           }
          },
          "colorscale": {
           "diverging": [
            [
             0,
             "#8e0152"
            ],
            [
             0.1,
             "#c51b7d"
            ],
            [
             0.2,
             "#de77ae"
            ],
            [
             0.3,
             "#f1b6da"
            ],
            [
             0.4,
             "#fde0ef"
            ],
            [
             0.5,
             "#f7f7f7"
            ],
            [
             0.6,
             "#e6f5d0"
            ],
            [
             0.7,
             "#b8e186"
            ],
            [
             0.8,
             "#7fbc41"
            ],
            [
             0.9,
             "#4d9221"
            ],
            [
             1,
             "#276419"
            ]
           ],
           "sequential": [
            [
             0.0,
             "#0d0887"
            ],
            [
             0.1111111111111111,
             "#46039f"
            ],
            [
             0.2222222222222222,
             "#7201a8"
            ],
            [
             0.3333333333333333,
             "#9c179e"
            ],
            [
             0.4444444444444444,
             "#bd3786"
            ],
            [
             0.5555555555555556,
             "#d8576b"
            ],
            [
             0.6666666666666666,
             "#ed7953"
            ],
            [
             0.7777777777777778,
             "#fb9f3a"
            ],
            [
             0.8888888888888888,
             "#fdca26"
            ],
            [
             1.0,
             "#f0f921"
            ]
           ],
           "sequentialminus": [
            [
             0.0,
             "#0d0887"
            ],
            [
             0.1111111111111111,
             "#46039f"
            ],
            [
             0.2222222222222222,
             "#7201a8"
            ],
            [
             0.3333333333333333,
             "#9c179e"
            ],
            [
             0.4444444444444444,
             "#bd3786"
            ],
            [
             0.5555555555555556,
             "#d8576b"
            ],
            [
             0.6666666666666666,
             "#ed7953"
            ],
            [
             0.7777777777777778,
             "#fb9f3a"
            ],
            [
             0.8888888888888888,
             "#fdca26"
            ],
            [
             1.0,
             "#f0f921"
            ]
           ]
          },
          "colorway": [
           "#636efa",
           "#EF553B",
           "#00cc96",
           "#ab63fa",
           "#FFA15A",
           "#19d3f3",
           "#FF6692",
           "#B6E880",
           "#FF97FF",
           "#FECB52"
          ],
          "font": {
           "color": "#2a3f5f"
          },
          "geo": {
           "bgcolor": "white",
           "lakecolor": "white",
           "landcolor": "#E5ECF6",
           "showlakes": true,
           "showland": true,
           "subunitcolor": "white"
          },
          "hoverlabel": {
           "align": "left"
          },
          "hovermode": "closest",
          "mapbox": {
           "style": "light"
          },
          "paper_bgcolor": "white",
          "plot_bgcolor": "#E5ECF6",
          "polar": {
           "angularaxis": {
            "gridcolor": "white",
            "linecolor": "white",
            "ticks": ""
           },
           "bgcolor": "#E5ECF6",
           "radialaxis": {
            "gridcolor": "white",
            "linecolor": "white",
            "ticks": ""
           }
          },
          "scene": {
           "xaxis": {
            "backgroundcolor": "#E5ECF6",
            "gridcolor": "white",
            "gridwidth": 2,
            "linecolor": "white",
            "showbackground": true,
            "ticks": "",
            "zerolinecolor": "white"
           },
           "yaxis": {
            "backgroundcolor": "#E5ECF6",
            "gridcolor": "white",
            "gridwidth": 2,
            "linecolor": "white",
            "showbackground": true,
            "ticks": "",
            "zerolinecolor": "white"
           },
           "zaxis": {
            "backgroundcolor": "#E5ECF6",
            "gridcolor": "white",
            "gridwidth": 2,
            "linecolor": "white",
            "showbackground": true,
            "ticks": "",
            "zerolinecolor": "white"
           }
          },
          "shapedefaults": {
           "line": {
            "color": "#2a3f5f"
           }
          },
          "ternary": {
           "aaxis": {
            "gridcolor": "white",
            "linecolor": "white",
            "ticks": ""
           },
           "baxis": {
            "gridcolor": "white",
            "linecolor": "white",
            "ticks": ""
           },
           "bgcolor": "#E5ECF6",
           "caxis": {
            "gridcolor": "white",
            "linecolor": "white",
            "ticks": ""
           }
          },
          "title": {
           "x": 0.05
          },
          "xaxis": {
           "automargin": true,
           "gridcolor": "white",
           "linecolor": "white",
           "ticks": "",
           "title": {
            "standoff": 15
           },
           "zerolinecolor": "white",
           "zerolinewidth": 2
          },
          "yaxis": {
           "automargin": true,
           "gridcolor": "white",
           "linecolor": "white",
           "ticks": "",
           "title": {
            "standoff": 15
           },
           "zerolinecolor": "white",
           "zerolinewidth": 2
          }
         }
        },
        "title": {
         "text": "2D Visualization of Word Vectors"
        },
        "xaxis": {
         "range": [
          -50,
          50
         ],
         "title": {
          "text": "PC1"
         }
        },
        "yaxis": {
         "range": [
          -50,
          50
         ],
         "title": {
          "text": "PC2"
         }
        }
       },
       "config": {
        "showLink": false,
        "linkText": "Export to plot.ly",
        "plotlyServerURL": "https://plot.ly"
       }
      },
      "text/html": "<div>                            <div id=\"f9dd5699-5eaf-414c-b294-f101b919a22b\" class=\"plotly-graph-div\" style=\"height:525px; width:100%;\"></div>            <script type=\"text/javascript\">                require([\"plotly\"], function(Plotly) {                    window.PLOTLYENV=window.PLOTLYENV || {};                                    if (document.getElementById(\"f9dd5699-5eaf-414c-b294-f101b919a22b\")) {                    Plotly.newPlot(                        \"f9dd5699-5eaf-414c-b294-f101b919a22b\",                        [{\"marker\":{\"color\":\"#00CC96\"},\"mode\":\"markers+text\",\"name\":\"attack\",\"showlegend\":false,\"text\":[\"attack\"],\"textposition\":\"top center\",\"x\":[-1.6649431149486822],\"y\":[32.62470979797949],\"type\":\"scatter\"},{\"marker\":{\"color\":\"#00CC96\",\"size\":10,\"symbol\":\"diamond\"},\"mode\":\"markers\",\"showlegend\":false,\"x\":[-1.6649431149486822],\"y\":[32.62470979797949],\"type\":\"scatter\"},{\"marker\":{\"color\":\"#00CC96\"},\"mode\":\"markers+text\",\"name\":\"attack\",\"showlegend\":false,\"text\":[\"attack\"],\"textposition\":\"top center\",\"x\":[-2.752570380654482],\"y\":[20.349046740838773],\"type\":\"scatter\"},{\"line\":{\"color\":\"#00CC96\",\"width\":1},\"mode\":\"lines\",\"showlegend\":false,\"x\":[-1.6649431149486822,-2.752570380654482],\"y\":[32.62470979797949,20.349046740838773],\"type\":\"scatter\"},{\"marker\":{\"color\":\"#00CC96\"},\"mode\":\"markers+text\",\"name\":\"attack\",\"showlegend\":false,\"text\":[\"attack\"],\"textposition\":\"top center\",\"x\":[-0.922445477663057],\"y\":[24.599678623948176],\"type\":\"scatter\"},{\"line\":{\"color\":\"#00CC96\",\"width\":1},\"mode\":\"lines\",\"showlegend\":false,\"x\":[-2.752570380654482,-0.922445477663057],\"y\":[20.349046740838773,24.599678623948176],\"type\":\"scatter\"},{\"marker\":{\"color\":\"#AB63FA\"},\"mode\":\"markers+text\",\"name\":\"democrats\",\"showlegend\":false,\"text\":[\"democrats\"],\"textposition\":\"top center\",\"x\":[34.42854528113117],\"y\":[-17.865088811966984],\"type\":\"scatter\"},{\"marker\":{\"color\":\"#AB63FA\",\"size\":10,\"symbol\":\"diamond\"},\"mode\":\"markers\",\"showlegend\":false,\"x\":[34.42854528113117],\"y\":[-17.865088811966984],\"type\":\"scatter\"},{\"marker\":{\"color\":\"#AB63FA\"},\"mode\":\"markers+text\",\"name\":\"democrats\",\"showlegend\":false,\"text\":[\"democrats\"],\"textposition\":\"top center\",\"x\":[31.33534309307751],\"y\":[-17.610973840393072],\"type\":\"scatter\"},{\"line\":{\"color\":\"#AB63FA\",\"width\":1},\"mode\":\"lines\",\"showlegend\":false,\"x\":[34.42854528113117,31.33534309307751],\"y\":[-17.865088811966984,-17.610973840393072],\"type\":\"scatter\"},{\"marker\":{\"color\":\"#AB63FA\"},\"mode\":\"markers+text\",\"name\":\"democrats\",\"showlegend\":false,\"text\":[\"democrats\"],\"textposition\":\"top center\",\"x\":[11.913880294653127],\"y\":[-4.091189600617926],\"type\":\"scatter\"},{\"line\":{\"color\":\"#AB63FA\",\"width\":1},\"mode\":\"lines\",\"showlegend\":false,\"x\":[31.33534309307751,11.913880294653127],\"y\":[-17.610973840393072,-4.091189600617926],\"type\":\"scatter\"},{\"marker\":{\"color\":\"#636EFA\"},\"mode\":\"markers+text\",\"name\":\"invasion\",\"showlegend\":false,\"text\":[\"invasion\"],\"textposition\":\"top center\",\"x\":[0.4549592574725401],\"y\":[4.841324893355927],\"type\":\"scatter\"},{\"marker\":{\"color\":\"#636EFA\",\"size\":10,\"symbol\":\"diamond\"},\"mode\":\"markers\",\"showlegend\":false,\"x\":[0.4549592574725401],\"y\":[4.841324893355927],\"type\":\"scatter\"},{\"marker\":{\"color\":\"#636EFA\"},\"mode\":\"markers+text\",\"name\":\"invasion\",\"showlegend\":false,\"text\":[\"invasion\"],\"textposition\":\"top center\",\"x\":[1.3552882584604975],\"y\":[4.129744599112183],\"type\":\"scatter\"},{\"line\":{\"color\":\"#636EFA\",\"width\":1},\"mode\":\"lines\",\"showlegend\":false,\"x\":[0.4549592574725401,1.3552882584604975],\"y\":[4.841324893355927,4.129744599112183],\"type\":\"scatter\"},{\"marker\":{\"color\":\"#636EFA\"},\"mode\":\"markers+text\",\"name\":\"invasion\",\"showlegend\":false,\"text\":[\"invasion\"],\"textposition\":\"top center\",\"x\":[0.6203558015677695],\"y\":[3.452841876610269],\"type\":\"scatter\"},{\"line\":{\"color\":\"#636EFA\",\"width\":1},\"mode\":\"lines\",\"showlegend\":false,\"x\":[1.3552882584604975,0.6203558015677695],\"y\":[4.129744599112183,3.452841876610269],\"type\":\"scatter\"},{\"marker\":{\"color\":\"#EF553B\"},\"mode\":\"markers+text\",\"name\":\"paul\",\"showlegend\":false,\"text\":[\"paul\"],\"textposition\":\"top center\",\"x\":[-28.47292107167394],\"y\":[-12.12774685606507],\"type\":\"scatter\"},{\"marker\":{\"color\":\"#EF553B\",\"size\":10,\"symbol\":\"diamond\"},\"mode\":\"markers\",\"showlegend\":false,\"x\":[-28.47292107167394],\"y\":[-12.12774685606507],\"type\":\"scatter\"},{\"marker\":{\"color\":\"#EF553B\"},\"mode\":\"markers+text\",\"name\":\"paul\",\"showlegend\":false,\"text\":[\"paul\"],\"textposition\":\"top center\",\"x\":[-29.936991184198256],\"y\":[-27.01745489068217],\"type\":\"scatter\"},{\"line\":{\"color\":\"#EF553B\",\"width\":1},\"mode\":\"lines\",\"showlegend\":false,\"x\":[-28.47292107167394,-29.936991184198256],\"y\":[-12.12774685606507,-27.01745489068217],\"type\":\"scatter\"},{\"marker\":{\"color\":\"#EF553B\"},\"mode\":\"markers+text\",\"name\":\"paul\",\"showlegend\":false,\"text\":[\"paul\"],\"textposition\":\"top center\",\"x\":[-16.358500757224157],\"y\":[-11.284892532119596],\"type\":\"scatter\"},{\"line\":{\"color\":\"#EF553B\",\"width\":1},\"mode\":\"lines\",\"showlegend\":false,\"x\":[-29.936991184198256,-16.358500757224157],\"y\":[-27.01745489068217,-11.284892532119596],\"type\":\"scatter\"}],                        {\"legend\":{\"x\":1.02,\"y\":1.0},\"template\":{\"data\":{\"barpolar\":[{\"marker\":{\"line\":{\"color\":\"#E5ECF6\",\"width\":0.5},\"pattern\":{\"fillmode\":\"overlay\",\"size\":10,\"solidity\":0.2}},\"type\":\"barpolar\"}],\"bar\":[{\"error_x\":{\"color\":\"#2a3f5f\"},\"error_y\":{\"color\":\"#2a3f5f\"},\"marker\":{\"line\":{\"color\":\"#E5ECF6\",\"width\":0.5},\"pattern\":{\"fillmode\":\"overlay\",\"size\":10,\"solidity\":0.2}},\"type\":\"bar\"}],\"carpet\":[{\"aaxis\":{\"endlinecolor\":\"#2a3f5f\",\"gridcolor\":\"white\",\"linecolor\":\"white\",\"minorgridcolor\":\"white\",\"startlinecolor\":\"#2a3f5f\"},\"baxis\":{\"endlinecolor\":\"#2a3f5f\",\"gridcolor\":\"white\",\"linecolor\":\"white\",\"minorgridcolor\":\"white\",\"startlinecolor\":\"#2a3f5f\"},\"type\":\"carpet\"}],\"choropleth\":[{\"colorbar\":{\"outlinewidth\":0,\"ticks\":\"\"},\"type\":\"choropleth\"}],\"contourcarpet\":[{\"colorbar\":{\"outlinewidth\":0,\"ticks\":\"\"},\"type\":\"contourcarpet\"}],\"contour\":[{\"colorbar\":{\"outlinewidth\":0,\"ticks\":\"\"},\"colorscale\":[[0.0,\"#0d0887\"],[0.1111111111111111,\"#46039f\"],[0.2222222222222222,\"#7201a8\"],[0.3333333333333333,\"#9c179e\"],[0.4444444444444444,\"#bd3786\"],[0.5555555555555556,\"#d8576b\"],[0.6666666666666666,\"#ed7953\"],[0.7777777777777778,\"#fb9f3a\"],[0.8888888888888888,\"#fdca26\"],[1.0,\"#f0f921\"]],\"type\":\"contour\"}],\"heatmapgl\":[{\"colorbar\":{\"outlinewidth\":0,\"ticks\":\"\"},\"colorscale\":[[0.0,\"#0d0887\"],[0.1111111111111111,\"#46039f\"],[0.2222222222222222,\"#7201a8\"],[0.3333333333333333,\"#9c179e\"],[0.4444444444444444,\"#bd3786\"],[0.5555555555555556,\"#d8576b\"],[0.6666666666666666,\"#ed7953\"],[0.7777777777777778,\"#fb9f3a\"],[0.8888888888888888,\"#fdca26\"],[1.0,\"#f0f921\"]],\"type\":\"heatmapgl\"}],\"heatmap\":[{\"colorbar\":{\"outlinewidth\":0,\"ticks\":\"\"},\"colorscale\":[[0.0,\"#0d0887\"],[0.1111111111111111,\"#46039f\"],[0.2222222222222222,\"#7201a8\"],[0.3333333333333333,\"#9c179e\"],[0.4444444444444444,\"#bd3786\"],[0.5555555555555556,\"#d8576b\"],[0.6666666666666666,\"#ed7953\"],[0.7777777777777778,\"#fb9f3a\"],[0.8888888888888888,\"#fdca26\"],[1.0,\"#f0f921\"]],\"type\":\"heatmap\"}],\"histogram2dcontour\":[{\"colorbar\":{\"outlinewidth\":0,\"ticks\":\"\"},\"colorscale\":[[0.0,\"#0d0887\"],[0.1111111111111111,\"#46039f\"],[0.2222222222222222,\"#7201a8\"],[0.3333333333333333,\"#9c179e\"],[0.4444444444444444,\"#bd3786\"],[0.5555555555555556,\"#d8576b\"],[0.6666666666666666,\"#ed7953\"],[0.7777777777777778,\"#fb9f3a\"],[0.8888888888888888,\"#fdca26\"],[1.0,\"#f0f921\"]],\"type\":\"histogram2dcontour\"}],\"histogram2d\":[{\"colorbar\":{\"outlinewidth\":0,\"ticks\":\"\"},\"colorscale\":[[0.0,\"#0d0887\"],[0.1111111111111111,\"#46039f\"],[0.2222222222222222,\"#7201a8\"],[0.3333333333333333,\"#9c179e\"],[0.4444444444444444,\"#bd3786\"],[0.5555555555555556,\"#d8576b\"],[0.6666666666666666,\"#ed7953\"],[0.7777777777777778,\"#fb9f3a\"],[0.8888888888888888,\"#fdca26\"],[1.0,\"#f0f921\"]],\"type\":\"histogram2d\"}],\"histogram\":[{\"marker\":{\"pattern\":{\"fillmode\":\"overlay\",\"size\":10,\"solidity\":0.2}},\"type\":\"histogram\"}],\"mesh3d\":[{\"colorbar\":{\"outlinewidth\":0,\"ticks\":\"\"},\"type\":\"mesh3d\"}],\"parcoords\":[{\"line\":{\"colorbar\":{\"outlinewidth\":0,\"ticks\":\"\"}},\"type\":\"parcoords\"}],\"pie\":[{\"automargin\":true,\"type\":\"pie\"}],\"scatter3d\":[{\"line\":{\"colorbar\":{\"outlinewidth\":0,\"ticks\":\"\"}},\"marker\":{\"colorbar\":{\"outlinewidth\":0,\"ticks\":\"\"}},\"type\":\"scatter3d\"}],\"scattercarpet\":[{\"marker\":{\"colorbar\":{\"outlinewidth\":0,\"ticks\":\"\"}},\"type\":\"scattercarpet\"}],\"scattergeo\":[{\"marker\":{\"colorbar\":{\"outlinewidth\":0,\"ticks\":\"\"}},\"type\":\"scattergeo\"}],\"scattergl\":[{\"marker\":{\"colorbar\":{\"outlinewidth\":0,\"ticks\":\"\"}},\"type\":\"scattergl\"}],\"scattermapbox\":[{\"marker\":{\"colorbar\":{\"outlinewidth\":0,\"ticks\":\"\"}},\"type\":\"scattermapbox\"}],\"scatterpolargl\":[{\"marker\":{\"colorbar\":{\"outlinewidth\":0,\"ticks\":\"\"}},\"type\":\"scatterpolargl\"}],\"scatterpolar\":[{\"marker\":{\"colorbar\":{\"outlinewidth\":0,\"ticks\":\"\"}},\"type\":\"scatterpolar\"}],\"scatter\":[{\"fillpattern\":{\"fillmode\":\"overlay\",\"size\":10,\"solidity\":0.2},\"type\":\"scatter\"}],\"scatterternary\":[{\"marker\":{\"colorbar\":{\"outlinewidth\":0,\"ticks\":\"\"}},\"type\":\"scatterternary\"}],\"surface\":[{\"colorbar\":{\"outlinewidth\":0,\"ticks\":\"\"},\"colorscale\":[[0.0,\"#0d0887\"],[0.1111111111111111,\"#46039f\"],[0.2222222222222222,\"#7201a8\"],[0.3333333333333333,\"#9c179e\"],[0.4444444444444444,\"#bd3786\"],[0.5555555555555556,\"#d8576b\"],[0.6666666666666666,\"#ed7953\"],[0.7777777777777778,\"#fb9f3a\"],[0.8888888888888888,\"#fdca26\"],[1.0,\"#f0f921\"]],\"type\":\"surface\"}],\"table\":[{\"cells\":{\"fill\":{\"color\":\"#EBF0F8\"},\"line\":{\"color\":\"white\"}},\"header\":{\"fill\":{\"color\":\"#C8D4E3\"},\"line\":{\"color\":\"white\"}},\"type\":\"table\"}]},\"layout\":{\"annotationdefaults\":{\"arrowcolor\":\"#2a3f5f\",\"arrowhead\":0,\"arrowwidth\":1},\"autotypenumbers\":\"strict\",\"coloraxis\":{\"colorbar\":{\"outlinewidth\":0,\"ticks\":\"\"}},\"colorscale\":{\"diverging\":[[0,\"#8e0152\"],[0.1,\"#c51b7d\"],[0.2,\"#de77ae\"],[0.3,\"#f1b6da\"],[0.4,\"#fde0ef\"],[0.5,\"#f7f7f7\"],[0.6,\"#e6f5d0\"],[0.7,\"#b8e186\"],[0.8,\"#7fbc41\"],[0.9,\"#4d9221\"],[1,\"#276419\"]],\"sequential\":[[0.0,\"#0d0887\"],[0.1111111111111111,\"#46039f\"],[0.2222222222222222,\"#7201a8\"],[0.3333333333333333,\"#9c179e\"],[0.4444444444444444,\"#bd3786\"],[0.5555555555555556,\"#d8576b\"],[0.6666666666666666,\"#ed7953\"],[0.7777777777777778,\"#fb9f3a\"],[0.8888888888888888,\"#fdca26\"],[1.0,\"#f0f921\"]],\"sequentialminus\":[[0.0,\"#0d0887\"],[0.1111111111111111,\"#46039f\"],[0.2222222222222222,\"#7201a8\"],[0.3333333333333333,\"#9c179e\"],[0.4444444444444444,\"#bd3786\"],[0.5555555555555556,\"#d8576b\"],[0.6666666666666666,\"#ed7953\"],[0.7777777777777778,\"#fb9f3a\"],[0.8888888888888888,\"#fdca26\"],[1.0,\"#f0f921\"]]},\"colorway\":[\"#636efa\",\"#EF553B\",\"#00cc96\",\"#ab63fa\",\"#FFA15A\",\"#19d3f3\",\"#FF6692\",\"#B6E880\",\"#FF97FF\",\"#FECB52\"],\"font\":{\"color\":\"#2a3f5f\"},\"geo\":{\"bgcolor\":\"white\",\"lakecolor\":\"white\",\"landcolor\":\"#E5ECF6\",\"showlakes\":true,\"showland\":true,\"subunitcolor\":\"white\"},\"hoverlabel\":{\"align\":\"left\"},\"hovermode\":\"closest\",\"mapbox\":{\"style\":\"light\"},\"paper_bgcolor\":\"white\",\"plot_bgcolor\":\"#E5ECF6\",\"polar\":{\"angularaxis\":{\"gridcolor\":\"white\",\"linecolor\":\"white\",\"ticks\":\"\"},\"bgcolor\":\"#E5ECF6\",\"radialaxis\":{\"gridcolor\":\"white\",\"linecolor\":\"white\",\"ticks\":\"\"}},\"scene\":{\"xaxis\":{\"backgroundcolor\":\"#E5ECF6\",\"gridcolor\":\"white\",\"gridwidth\":2,\"linecolor\":\"white\",\"showbackground\":true,\"ticks\":\"\",\"zerolinecolor\":\"white\"},\"yaxis\":{\"backgroundcolor\":\"#E5ECF6\",\"gridcolor\":\"white\",\"gridwidth\":2,\"linecolor\":\"white\",\"showbackground\":true,\"ticks\":\"\",\"zerolinecolor\":\"white\"},\"zaxis\":{\"backgroundcolor\":\"#E5ECF6\",\"gridcolor\":\"white\",\"gridwidth\":2,\"linecolor\":\"white\",\"showbackground\":true,\"ticks\":\"\",\"zerolinecolor\":\"white\"}},\"shapedefaults\":{\"line\":{\"color\":\"#2a3f5f\"}},\"ternary\":{\"aaxis\":{\"gridcolor\":\"white\",\"linecolor\":\"white\",\"ticks\":\"\"},\"baxis\":{\"gridcolor\":\"white\",\"linecolor\":\"white\",\"ticks\":\"\"},\"bgcolor\":\"#E5ECF6\",\"caxis\":{\"gridcolor\":\"white\",\"linecolor\":\"white\",\"ticks\":\"\"}},\"title\":{\"x\":0.05},\"xaxis\":{\"automargin\":true,\"gridcolor\":\"white\",\"linecolor\":\"white\",\"ticks\":\"\",\"title\":{\"standoff\":15},\"zerolinecolor\":\"white\",\"zerolinewidth\":2},\"yaxis\":{\"automargin\":true,\"gridcolor\":\"white\",\"linecolor\":\"white\",\"ticks\":\"\",\"title\":{\"standoff\":15},\"zerolinecolor\":\"white\",\"zerolinewidth\":2}}},\"title\":{\"text\":\"2D Visualization of Word Vectors\"},\"xaxis\":{\"range\":[-50,50],\"title\":{\"text\":\"PC1\"}},\"yaxis\":{\"range\":[-50,50],\"title\":{\"text\":\"PC2\"}}},                        {\"responsive\": true}                    ).then(function(){\n                            \nvar gd = document.getElementById('f9dd5699-5eaf-414c-b294-f101b919a22b');\nvar x = new MutationObserver(function (mutations, observer) {{\n        var display = window.getComputedStyle(gd).display;\n        if (!display || display === 'none') {{\n            console.log([gd, 'removed!']);\n            Plotly.purge(gd);\n            observer.disconnect();\n        }}\n}});\n\n// Listen for the removal of the full notebook cells\nvar notebookContainer = gd.closest('#notebook-container');\nif (notebookContainer) {{\n    x.observe(notebookContainer, {childList: true});\n}}\n\n// Listen for the clearing of the current output cell\nvar outputEl = gd.closest('.output');\nif (outputEl) {{\n    x.observe(outputEl, {childList: true});\n}}\n\n                        })                };                });            </script>        </div>"
     },
     "metadata": {},
     "output_type": "display_data"
    }
   ],
   "source": [
    "test_words_pelosi = [\"attack\", \"democrats\", \"invasion\"]\n",
    "selected_months_pelosi = [10, 11, 12]\n",
    "plot_word_vectors_tppmi(tppmi_model.get_2d_representation(test_words_pelosi + [target_word_pelosi], use_tsne=False, selected_months = selected_months_pelosi))"
   ],
   "metadata": {
    "collapsed": false
   }
  },
  {
   "cell_type": "code",
   "execution_count": 45,
   "outputs": [
    {
     "data": {
      "text/plain": "<Figure size 1000x600 with 1 Axes>",
      "image/png": "[encoded data removed]"
     },
     "metadata": {},
     "output_type": "display_data"
    }
   ],
   "source": [
    "plot_cosine_similarity_tppmi(target_word_pelosi, test_words_pelosi, tppmi_model, selected_months = selected_months_pelosi)"
   ],
   "metadata": {
    "collapsed": false
   }
  },
  {
   "cell_type": "markdown",
   "source": [
    "## Colorado Springs shooting at LGBTQ nightclub"
   ],
   "metadata": {
    "collapsed": false
   }
  },
  {
   "cell_type": "markdown",
   "source": [
    "### Overview"
   ],
   "metadata": {
    "collapsed": false
   }
  },
  {
   "cell_type": "markdown",
   "source": [
    "On November 19–20, 2022, an anti-LGBT-motivated mass shooting occurred at Club Q, a gay bar in Colorado Springs, Colorado, United States. Five people were murdered, and 25 others were injured, 19 of them by gunfire. The shooter, 22-year-old Anderson Lee Aldrich, was also injured while being restrained, and was taken to a local hospital\n",
    "\n",
    "source: [wikipedia article](https://en.wikipedia.org/wiki/Colorado_Springs_nightclub_shooting)"
   ],
   "metadata": {
    "collapsed": false
   }
  },
  {
   "cell_type": "code",
   "execution_count": 46,
   "outputs": [],
   "source": [
    "target_word_colorado_springs = \"nightclub\""
   ],
   "metadata": {
    "collapsed": false
   }
  },
  {
   "cell_type": "code",
   "execution_count": 47,
   "outputs": [],
   "source": [
    "selected_months_colorado_springs = [\"oct\", \"nov\", \"dec\", \"jan\"]\n",
    "selected_models_monthly_colorado_springs = {f\"model_{month}\": models_monthly[f\"model_{month}\"] for month in selected_months_colorado_springs}"
   ],
   "metadata": {
    "collapsed": false
   }
  },
  {
   "cell_type": "code",
   "execution_count": 48,
   "outputs": [],
   "source": [
    "title_colorado_springs = f\"Evolution of the word {target_word_colorado_springs} over time\"\n",
    "subtitle_colorado_springs = f\"Period: {' - '.join([month.capitalize() for month in selected_months_colorado_springs])}\""
   ],
   "metadata": {
    "collapsed": false
   }
  },
  {
   "cell_type": "code",
   "execution_count": 49,
   "outputs": [
    {
     "name": "stdout",
     "output_type": "stream",
     "text": [
      "Word: nightclub\n",
      "Month: Oct\n",
      "[('bashes', 0.957445502281189), ('fairytale', 0.9563846588134766), ('jimtober', 0.9555116295814514)]\n",
      "--------------------------------\n",
      "Month: Nov\n",
      "[('seconddeadliest', 0.9088382124900818), ('merritt', 0.900574266910553), ('fiery', 0.8947505354881287)]\n",
      "--------------------------------\n",
      "Month: Dec\n",
      "[('tiananmen', 0.946467936038971), ('massacre', 0.9389366507530212), ('parkland', 0.938822865486145)]\n",
      "--------------------------------\n",
      "Month: Jan\n",
      "[('oval', 0.9814086556434631), ('aft', 0.9799526333808899), ('somers', 0.9796745181083679)]\n",
      "--------------------------------\n"
     ]
    }
   ],
   "source": [
    "print_most_similar_cade(selected_models_monthly_colorado_springs, target_word_colorado_springs)"
   ],
   "metadata": {
    "collapsed": false
   }
  },
  {
   "cell_type": "markdown",
   "source": [
    "### Temporarily changing embeddings"
   ],
   "metadata": {
    "collapsed": false
   }
  },
  {
   "cell_type": "code",
   "execution_count": 50,
   "outputs": [
    {
     "data": {
      "text/html": "        <script type=\"text/javascript\">\n        window.PlotlyConfig = {MathJaxConfig: 'local'};\n        if (window.MathJax && window.MathJax.Hub && window.MathJax.Hub.Config) {window.MathJax.Hub.Config({SVG: {font: \"STIX-Web\"}});}\n        if (typeof require !== 'undefined') {\n        require.undef(\"plotly\");\n        requirejs.config({\n            paths: {\n                'plotly': ['https://cdn.plot.ly/plotly-2.25.2.min']\n            }\n        });\n        require(['plotly'], function(Plotly) {\n            window._Plotly = Plotly;\n        });\n        }\n        </script>\n        "
     },
     "metadata": {},
     "output_type": "display_data"
    },
    {
     "data": {
      "application/vnd.plotly.v1+json": {
       "data": [
        {
         "marker": {
          "color": "black"
         },
         "mode": "markers+text",
         "text": [
          "bashes"
         ],
         "textfont": {
          "color": "black"
         },
         "textposition": "top center",
         "x": [
          0.7866080403327942
         ],
         "y": [
          1.1521878242492676
         ],
         "type": "scatter"
        },
        {
         "marker": {
          "color": "black"
         },
         "mode": "markers+text",
         "text": [
          "fairytale"
         ],
         "textfont": {
          "color": "black"
         },
         "textposition": "top center",
         "x": [
          -1.4089962244033813
         ],
         "y": [
          -1.0226882696151733
         ],
         "type": "scatter"
        },
        {
         "marker": {
          "color": "black"
         },
         "mode": "markers+text",
         "text": [
          "jimtober"
         ],
         "textfont": {
          "color": "black"
         },
         "textposition": "top center",
         "x": [
          0.3180953562259674
         ],
         "y": [
          0.6641839742660522
         ],
         "type": "scatter"
        },
        {
         "marker": {
          "color": "black"
         },
         "mode": "markers+text",
         "text": [
          "boot"
         ],
         "textfont": {
          "color": "black"
         },
         "textposition": "top center",
         "x": [
          -0.9081591367721558
         ],
         "y": [
          -1.3639159202575684
         ],
         "type": "scatter"
        },
        {
         "marker": {
          "color": "red"
         },
         "mode": "markers+text",
         "text": [
          "nightclub_oct"
         ],
         "textfont": {
          "color": "red"
         },
         "textposition": "top center",
         "x": [
          1.2124519348144531
         ],
         "y": [
          0.5702323913574219
         ],
         "type": "scatter"
        },
        {
         "marker": {
          "color": "black"
         },
         "mode": "markers+text",
         "text": [
          "seconddeadliest"
         ],
         "textfont": {
          "color": "black"
         },
         "textposition": "top center",
         "x": [
          -0.42983895540237427
         ],
         "y": [
          -1.8072196245193481
         ],
         "type": "scatter"
        },
        {
         "marker": {
          "color": "black"
         },
         "mode": "markers+text",
         "text": [
          "merritt"
         ],
         "textfont": {
          "color": "black"
         },
         "textposition": "top center",
         "x": [
          -0.5944386124610901
         ],
         "y": [
          -0.17460310459136963
         ],
         "type": "scatter"
        },
        {
         "marker": {
          "color": "black"
         },
         "mode": "markers+text",
         "text": [
          "fiery"
         ],
         "textfont": {
          "color": "black"
         },
         "textposition": "top center",
         "x": [
          -1.167822003364563
         ],
         "y": [
          0.7883699536323547
         ],
         "type": "scatter"
        },
        {
         "marker": {
          "color": "black"
         },
         "mode": "markers+text",
         "text": [
          "cincinnati"
         ],
         "textfont": {
          "color": "black"
         },
         "textposition": "top center",
         "x": [
          1.6857202053070068
         ],
         "y": [
          1.0267140865325928
         ],
         "type": "scatter"
        },
        {
         "marker": {
          "color": "red"
         },
         "mode": "markers+text",
         "text": [
          "nightclub_nov"
         ],
         "textfont": {
          "color": "red"
         },
         "textposition": "top center",
         "x": [
          0.5063793659210205
         ],
         "y": [
          0.1667386144399643
         ],
         "type": "scatter"
        },
        {
         "marker": {
          "color": "black"
         },
         "mode": "markers+text",
         "text": [
          "tiananmen"
         ],
         "textfont": {
          "color": "black"
         },
         "textposition": "top center",
         "x": [
          -0.7135440111160278
         ],
         "y": [
          0.5480428338050842
         ],
         "type": "scatter"
        },
        {
         "marker": {
          "color": "black"
         },
         "mode": "markers+text",
         "text": [
          "massacre"
         ],
         "textfont": {
          "color": "black"
         },
         "textposition": "top center",
         "x": [
          -1.4581965208053589
         ],
         "y": [
          1.5339040756225586
         ],
         "type": "scatter"
        },
        {
         "marker": {
          "color": "black"
         },
         "mode": "markers+text",
         "text": [
          "parkland"
         ],
         "textfont": {
          "color": "black"
         },
         "textposition": "top center",
         "x": [
          0.9831962585449219
         ],
         "y": [
          -0.13703757524490356
         ],
         "type": "scatter"
        },
        {
         "marker": {
          "color": "black"
         },
         "mode": "markers+text",
         "text": [
          "shouted"
         ],
         "textfont": {
          "color": "black"
         },
         "textposition": "top center",
         "x": [
          1.182287573814392
         ],
         "y": [
          -1.4397190809249878
         ],
         "type": "scatter"
        },
        {
         "marker": {
          "color": "red"
         },
         "mode": "markers+text",
         "text": [
          "nightclub_dec"
         ],
         "textfont": {
          "color": "red"
         },
         "textposition": "top center",
         "x": [
          0.006256680469959974
         ],
         "y": [
          -0.5051903128623962
         ],
         "type": "scatter"
        },
        {
         "marker": {
          "color": "black"
         },
         "mode": "markers+text",
         "text": [
          "oval"
         ],
         "textfont": {
          "color": "black"
         },
         "textposition": "top center",
         "x": [
          0.5942697525024414
         ],
         "y": [
          -0.7201218008995056
         ],
         "type": "scatter"
        },
        {
         "marker": {
          "color": "black"
         },
         "mode": "markers+text",
         "text": [
          "aft"
         ],
         "textfont": {
          "color": "black"
         },
         "textposition": "top center",
         "x": [
          -0.02660120464861393
         ],
         "y": [
          1.0837898254394531
         ],
         "type": "scatter"
        },
        {
         "marker": {
          "color": "black"
         },
         "mode": "markers+text",
         "text": [
          "somers"
         ],
         "textfont": {
          "color": "black"
         },
         "textposition": "top center",
         "x": [
          -1.8493947982788086
         ],
         "y": [
          1.1747462749481201
         ],
         "type": "scatter"
        },
        {
         "marker": {
          "color": "black"
         },
         "mode": "markers+text",
         "text": [
          "queensborough"
         ],
         "textfont": {
          "color": "black"
         },
         "textposition": "top center",
         "x": [
          1.0905650854110718
         ],
         "y": [
          -1.3788939714431763
         ],
         "type": "scatter"
        },
        {
         "marker": {
          "color": "red"
         },
         "mode": "markers+text",
         "text": [
          "nightclub_jan"
         ],
         "textfont": {
          "color": "red"
         },
         "textposition": "top center",
         "x": [
          0.1911611258983612
         ],
         "y": [
          -0.1595204472541809
         ],
         "type": "scatter"
        },
        {
         "marker": {
          "color": "red",
          "size": 10,
          "symbol": "diamond"
         },
         "mode": "markers",
         "x": [
          1.2124519348144531
         ],
         "y": [
          0.5702323913574219
         ],
         "type": "scatter"
        },
        {
         "line": {
          "color": "red"
         },
         "mode": "lines",
         "x": [
          1.2124519348144531,
          0.5063793659210205
         ],
         "y": [
          0.5702323913574219,
          0.1667386144399643
         ],
         "type": "scatter"
        },
        {
         "line": {
          "color": "red"
         },
         "mode": "lines",
         "x": [
          0.5063793659210205,
          0.006256680469959974
         ],
         "y": [
          0.1667386144399643,
          -0.5051903128623962
         ],
         "type": "scatter"
        },
        {
         "line": {
          "color": "red"
         },
         "mode": "lines",
         "x": [
          0.006256680469959974,
          0.1911611258983612
         ],
         "y": [
          -0.5051903128623962,
          -0.1595204472541809
         ],
         "type": "scatter"
        }
       ],
       "layout": {
        "annotations": [
         {
          "showarrow": false,
          "text": "Period: Oct - Nov - Dec - Jan",
          "x": 0.5,
          "xref": "paper",
          "y": 1.08,
          "yref": "paper"
         }
        ],
        "showlegend": false,
        "template": {
         "data": {
          "barpolar": [
           {
            "marker": {
             "line": {
              "color": "#E5ECF6",
              "width": 0.5
             },
             "pattern": {
              "fillmode": "overlay",
              "size": 10,
              "solidity": 0.2
             }
            },
            "type": "barpolar"
           }
          ],
          "bar": [
           {
            "error_x": {
             "color": "#2a3f5f"
            },
            "error_y": {
             "color": "#2a3f5f"
            },
            "marker": {
             "line": {
              "color": "#E5ECF6",
              "width": 0.5
             },
             "pattern": {
              "fillmode": "overlay",
              "size": 10,
              "solidity": 0.2
             }
            },
            "type": "bar"
           }
          ],
          "carpet": [
           {
            "aaxis": {
             "endlinecolor": "#2a3f5f",
             "gridcolor": "white",
             "linecolor": "white",
             "minorgridcolor": "white",
             "startlinecolor": "#2a3f5f"
            },
            "baxis": {
             "endlinecolor": "#2a3f5f",
             "gridcolor": "white",
             "linecolor": "white",
             "minorgridcolor": "white",
             "startlinecolor": "#2a3f5f"
            },
            "type": "carpet"
           }
          ],
          "choropleth": [
           {
            "colorbar": {
             "outlinewidth": 0,
             "ticks": ""
            },
            "type": "choropleth"
           }
          ],
          "contourcarpet": [
           {
            "colorbar": {
             "outlinewidth": 0,
             "ticks": ""
            },
            "type": "contourcarpet"
           }
          ],
          "contour": [
           {
            "colorbar": {
             "outlinewidth": 0,
             "ticks": ""
            },
            "colorscale": [
             [
              0.0,
              "#0d0887"
             ],
             [
              0.1111111111111111,
              "#46039f"
             ],
             [
              0.2222222222222222,
              "#7201a8"
             ],
             [
              0.3333333333333333,
              "#9c179e"
             ],
             [
              0.4444444444444444,
              "#bd3786"
             ],
             [
              0.5555555555555556,
              "#d8576b"
             ],
             [
              0.6666666666666666,
              "#ed7953"
             ],
             [
              0.7777777777777778,
              "#fb9f3a"
             ],
             [
              0.8888888888888888,
              "#fdca26"
             ],
             [
              1.0,
              "#f0f921"
             ]
            ],
            "type": "contour"
           }
          ],
          "heatmapgl": [
           {
            "colorbar": {
             "outlinewidth": 0,
             "ticks": ""
            },
            "colorscale": [
             [
              0.0,
              "#0d0887"
             ],
             [
              0.1111111111111111,
              "#46039f"
             ],
             [
              0.2222222222222222,
              "#7201a8"
             ],
             [
              0.3333333333333333,
              "#9c179e"
             ],
             [
              0.4444444444444444,
              "#bd3786"
             ],
             [
              0.5555555555555556,
              "#d8576b"
             ],
             [
              0.6666666666666666,
              "#ed7953"
             ],
             [
              0.7777777777777778,
              "#fb9f3a"
             ],
             [
              0.8888888888888888,
              "#fdca26"
             ],
             [
              1.0,
              "#f0f921"
             ]
            ],
            "type": "heatmapgl"
           }
          ],
          "heatmap": [
           {
            "colorbar": {
             "outlinewidth": 0,
             "ticks": ""
            },
            "colorscale": [
             [
              0.0,
              "#0d0887"
             ],
             [
              0.1111111111111111,
              "#46039f"
             ],
             [
              0.2222222222222222,
              "#7201a8"
             ],
             [
              0.3333333333333333,
              "#9c179e"
             ],
             [
              0.4444444444444444,
              "#bd3786"
             ],
             [
              0.5555555555555556,
              "#d8576b"
             ],
             [
              0.6666666666666666,
              "#ed7953"
             ],
             [
              0.7777777777777778,
              "#fb9f3a"
             ],
             [
              0.8888888888888888,
              "#fdca26"
             ],
             [
              1.0,
              "#f0f921"
             ]
            ],
            "type": "heatmap"
           }
          ],
          "histogram2dcontour": [
           {
            "colorbar": {
             "outlinewidth": 0,
             "ticks": ""
            },
            "colorscale": [
             [
              0.0,
              "#0d0887"
             ],
             [
              0.1111111111111111,
              "#46039f"
             ],
             [
              0.2222222222222222,
              "#7201a8"
             ],
             [
              0.3333333333333333,
              "#9c179e"
             ],
             [
              0.4444444444444444,
              "#bd3786"
             ],
             [
              0.5555555555555556,
              "#d8576b"
             ],
             [
              0.6666666666666666,
              "#ed7953"
             ],
             [
              0.7777777777777778,
              "#fb9f3a"
             ],
             [
              0.8888888888888888,
              "#fdca26"
             ],
             [
              1.0,
              "#f0f921"
             ]
            ],
            "type": "histogram2dcontour"
           }
          ],
          "histogram2d": [
           {
            "colorbar": {
             "outlinewidth": 0,
             "ticks": ""
            },
            "colorscale": [
             [
              0.0,
              "#0d0887"
             ],
             [
              0.1111111111111111,
              "#46039f"
             ],
             [
              0.2222222222222222,
              "#7201a8"
             ],
             [
              0.3333333333333333,
              "#9c179e"
             ],
             [
              0.4444444444444444,
              "#bd3786"
             ],
             [
              0.5555555555555556,
              "#d8576b"
             ],
             [
              0.6666666666666666,
              "#ed7953"
             ],
             [
              0.7777777777777778,
              "#fb9f3a"
             ],
             [
              0.8888888888888888,
              "#fdca26"
             ],
             [
              1.0,
              "#f0f921"
             ]
            ],
            "type": "histogram2d"
           }
          ],
          "histogram": [
           {
            "marker": {
             "pattern": {
              "fillmode": "overlay",
              "size": 10,
              "solidity": 0.2
             }
            },
            "type": "histogram"
           }
          ],
          "mesh3d": [
           {
            "colorbar": {
             "outlinewidth": 0,
             "ticks": ""
            },
            "type": "mesh3d"
           }
          ],
          "parcoords": [
           {
            "line": {
             "colorbar": {
              "outlinewidth": 0,
              "ticks": ""
             }
            },
            "type": "parcoords"
           }
          ],
          "pie": [
           {
            "automargin": true,
            "type": "pie"
           }
          ],
          "scatter3d": [
           {
            "line": {
             "colorbar": {
              "outlinewidth": 0,
              "ticks": ""
             }
            },
            "marker": {
             "colorbar": {
              "outlinewidth": 0,
              "ticks": ""
             }
            },
            "type": "scatter3d"
           }
          ],
          "scattercarpet": [
           {
            "marker": {
             "colorbar": {
              "outlinewidth": 0,
              "ticks": ""
             }
            },
            "type": "scattercarpet"
           }
          ],
          "scattergeo": [
           {
            "marker": {
             "colorbar": {
              "outlinewidth": 0,
              "ticks": ""
             }
            },
            "type": "scattergeo"
           }
          ],
          "scattergl": [
           {
            "marker": {
             "colorbar": {
              "outlinewidth": 0,
              "ticks": ""
             }
            },
            "type": "scattergl"
           }
          ],
          "scattermapbox": [
           {
            "marker": {
             "colorbar": {
              "outlinewidth": 0,
              "ticks": ""
             }
            },
            "type": "scattermapbox"
           }
          ],
          "scatterpolargl": [
           {
            "marker": {
             "colorbar": {
              "outlinewidth": 0,
              "ticks": ""
             }
            },
            "type": "scatterpolargl"
           }
          ],
          "scatterpolar": [
           {
            "marker": {
             "colorbar": {
              "outlinewidth": 0,
              "ticks": ""
             }
            },
            "type": "scatterpolar"
           }
          ],
          "scatter": [
           {
            "fillpattern": {
             "fillmode": "overlay",
             "size": 10,
             "solidity": 0.2
            },
            "type": "scatter"
           }
          ],
          "scatterternary": [
           {
            "marker": {
             "colorbar": {
              "outlinewidth": 0,
              "ticks": ""
             }
            },
            "type": "scatterternary"
           }
          ],
          "surface": [
           {
            "colorbar": {
             "outlinewidth": 0,
             "ticks": ""
            },
            "colorscale": [
             [
              0.0,
              "#0d0887"
             ],
             [
              0.1111111111111111,
              "#46039f"
             ],
             [
              0.2222222222222222,
              "#7201a8"
             ],
             [
              0.3333333333333333,
              "#9c179e"
             ],
             [
              0.4444444444444444,
              "#bd3786"
             ],
             [
              0.5555555555555556,
              "#d8576b"
             ],
             [
              0.6666666666666666,
              "#ed7953"
             ],
             [
              0.7777777777777778,
              "#fb9f3a"
             ],
             [
              0.8888888888888888,
              "#fdca26"
             ],
             [
              1.0,
              "#f0f921"
             ]
            ],
            "type": "surface"
           }
          ],
          "table": [
           {
            "cells": {
             "fill": {
              "color": "#EBF0F8"
             },
             "line": {
              "color": "white"
             }
            },
            "header": {
             "fill": {
              "color": "#C8D4E3"
             },
             "line": {
              "color": "white"
             }
            },
            "type": "table"
           }
          ]
         },
         "layout": {
          "annotationdefaults": {
           "arrowcolor": "#2a3f5f",
           "arrowhead": 0,
           "arrowwidth": 1
          },
          "autotypenumbers": "strict",
          "coloraxis": {
           "colorbar": {
            "outlinewidth": 0,
            "ticks": ""
           }
          },
          "colorscale": {
           "diverging": [
            [
             0,
             "#8e0152"
            ],
            [
             0.1,
             "#c51b7d"
            ],
            [
             0.2,
             "#de77ae"
            ],
            [
             0.3,
             "#f1b6da"
            ],
            [
             0.4,
             "#fde0ef"
            ],
            [
             0.5,
             "#f7f7f7"
            ],
            [
             0.6,
             "#e6f5d0"
            ],
            [
             0.7,
             "#b8e186"
            ],
            [
             0.8,
             "#7fbc41"
            ],
            [
             0.9,
             "#4d9221"
            ],
            [
             1,
             "#276419"
            ]
           ],
           "sequential": [
            [
             0.0,
             "#0d0887"
            ],
            [
             0.1111111111111111,
             "#46039f"
            ],
            [
             0.2222222222222222,
             "#7201a8"
            ],
            [
             0.3333333333333333,
             "#9c179e"
            ],
            [
             0.4444444444444444,
             "#bd3786"
            ],
            [
             0.5555555555555556,
             "#d8576b"
            ],
            [
             0.6666666666666666,
             "#ed7953"
            ],
            [
             0.7777777777777778,
             "#fb9f3a"
            ],
            [
             0.8888888888888888,
             "#fdca26"
            ],
            [
             1.0,
             "#f0f921"
            ]
           ],
           "sequentialminus": [
            [
             0.0,
             "#0d0887"
            ],
            [
             0.1111111111111111,
             "#46039f"
            ],
            [
             0.2222222222222222,
             "#7201a8"
            ],
            [
             0.3333333333333333,
             "#9c179e"
            ],
            [
             0.4444444444444444,
             "#bd3786"
            ],
            [
             0.5555555555555556,
             "#d8576b"
            ],
            [
             0.6666666666666666,
             "#ed7953"
            ],
            [
             0.7777777777777778,
             "#fb9f3a"
            ],
            [
             0.8888888888888888,
             "#fdca26"
            ],
            [
             1.0,
             "#f0f921"
            ]
           ]
          },
          "colorway": [
           "#636efa",
           "#EF553B",
           "#00cc96",
           "#ab63fa",
           "#FFA15A",
           "#19d3f3",
           "#FF6692",
           "#B6E880",
           "#FF97FF",
           "#FECB52"
          ],
          "font": {
           "color": "#2a3f5f"
          },
          "geo": {
           "bgcolor": "white",
           "lakecolor": "white",
           "landcolor": "#E5ECF6",
           "showlakes": true,
           "showland": true,
           "subunitcolor": "white"
          },
          "hoverlabel": {
           "align": "left"
          },
          "hovermode": "closest",
          "mapbox": {
           "style": "light"
          },
          "paper_bgcolor": "white",
          "plot_bgcolor": "#E5ECF6",
          "polar": {
           "angularaxis": {
            "gridcolor": "white",
            "linecolor": "white",
            "ticks": ""
           },
           "bgcolor": "#E5ECF6",
           "radialaxis": {
            "gridcolor": "white",
            "linecolor": "white",
            "ticks": ""
           }
          },
          "scene": {
           "xaxis": {
            "backgroundcolor": "#E5ECF6",
            "gridcolor": "white",
            "gridwidth": 2,
            "linecolor": "white",
            "showbackground": true,
            "ticks": "",
            "zerolinecolor": "white"
           },
           "yaxis": {
            "backgroundcolor": "#E5ECF6",
            "gridcolor": "white",
            "gridwidth": 2,
            "linecolor": "white",
            "showbackground": true,
            "ticks": "",
            "zerolinecolor": "white"
           },
           "zaxis": {
            "backgroundcolor": "#E5ECF6",
            "gridcolor": "white",
            "gridwidth": 2,
            "linecolor": "white",
            "showbackground": true,
            "ticks": "",
            "zerolinecolor": "white"
           }
          },
          "shapedefaults": {
           "line": {
            "color": "#2a3f5f"
           }
          },
          "ternary": {
           "aaxis": {
            "gridcolor": "white",
            "linecolor": "white",
            "ticks": ""
           },
           "baxis": {
            "gridcolor": "white",
            "linecolor": "white",
            "ticks": ""
           },
           "bgcolor": "#E5ECF6",
           "caxis": {
            "gridcolor": "white",
            "linecolor": "white",
            "ticks": ""
           }
          },
          "title": {
           "x": 0.05
          },
          "xaxis": {
           "automargin": true,
           "gridcolor": "white",
           "linecolor": "white",
           "ticks": "",
           "title": {
            "standoff": 15
           },
           "zerolinecolor": "white",
           "zerolinewidth": 2
          },
          "yaxis": {
           "automargin": true,
           "gridcolor": "white",
           "linecolor": "white",
           "ticks": "",
           "title": {
            "standoff": 15
           },
           "zerolinecolor": "white",
           "zerolinewidth": 2
          }
         }
        },
        "title": {
         "font": {
          "size": 22
         },
         "text": "Evolution of the word nightclub over time",
         "x": 0.5
        },
        "xaxis": {
         "title": {
          "text": "X"
         }
        },
        "yaxis": {
         "title": {
          "text": "Y"
         }
        }
       },
       "config": {
        "showLink": false,
        "linkText": "Export to plot.ly",
        "plotlyServerURL": "https://plot.ly"
       }
      },
      "text/html": "<div>                            <div id=\"5127c1d0-3526-4381-ab2d-7f0db94e6a8c\" class=\"plotly-graph-div\" style=\"height:525px; width:100%;\"></div>            <script type=\"text/javascript\">                require([\"plotly\"], function(Plotly) {                    window.PLOTLYENV=window.PLOTLYENV || {};                                    if (document.getElementById(\"5127c1d0-3526-4381-ab2d-7f0db94e6a8c\")) {                    Plotly.newPlot(                        \"5127c1d0-3526-4381-ab2d-7f0db94e6a8c\",                        [{\"marker\":{\"color\":\"black\"},\"mode\":\"markers+text\",\"text\":[\"bashes\"],\"textfont\":{\"color\":\"black\"},\"textposition\":\"top center\",\"x\":[0.7866080403327942],\"y\":[1.1521878242492676],\"type\":\"scatter\"},{\"marker\":{\"color\":\"black\"},\"mode\":\"markers+text\",\"text\":[\"fairytale\"],\"textfont\":{\"color\":\"black\"},\"textposition\":\"top center\",\"x\":[-1.4089962244033813],\"y\":[-1.0226882696151733],\"type\":\"scatter\"},{\"marker\":{\"color\":\"black\"},\"mode\":\"markers+text\",\"text\":[\"jimtober\"],\"textfont\":{\"color\":\"black\"},\"textposition\":\"top center\",\"x\":[0.3180953562259674],\"y\":[0.6641839742660522],\"type\":\"scatter\"},{\"marker\":{\"color\":\"black\"},\"mode\":\"markers+text\",\"text\":[\"boot\"],\"textfont\":{\"color\":\"black\"},\"textposition\":\"top center\",\"x\":[-0.9081591367721558],\"y\":[-1.3639159202575684],\"type\":\"scatter\"},{\"marker\":{\"color\":\"red\"},\"mode\":\"markers+text\",\"text\":[\"nightclub_oct\"],\"textfont\":{\"color\":\"red\"},\"textposition\":\"top center\",\"x\":[1.2124519348144531],\"y\":[0.5702323913574219],\"type\":\"scatter\"},{\"marker\":{\"color\":\"black\"},\"mode\":\"markers+text\",\"text\":[\"seconddeadliest\"],\"textfont\":{\"color\":\"black\"},\"textposition\":\"top center\",\"x\":[-0.42983895540237427],\"y\":[-1.8072196245193481],\"type\":\"scatter\"},{\"marker\":{\"color\":\"black\"},\"mode\":\"markers+text\",\"text\":[\"merritt\"],\"textfont\":{\"color\":\"black\"},\"textposition\":\"top center\",\"x\":[-0.5944386124610901],\"y\":[-0.17460310459136963],\"type\":\"scatter\"},{\"marker\":{\"color\":\"black\"},\"mode\":\"markers+text\",\"text\":[\"fiery\"],\"textfont\":{\"color\":\"black\"},\"textposition\":\"top center\",\"x\":[-1.167822003364563],\"y\":[0.7883699536323547],\"type\":\"scatter\"},{\"marker\":{\"color\":\"black\"},\"mode\":\"markers+text\",\"text\":[\"cincinnati\"],\"textfont\":{\"color\":\"black\"},\"textposition\":\"top center\",\"x\":[1.6857202053070068],\"y\":[1.0267140865325928],\"type\":\"scatter\"},{\"marker\":{\"color\":\"red\"},\"mode\":\"markers+text\",\"text\":[\"nightclub_nov\"],\"textfont\":{\"color\":\"red\"},\"textposition\":\"top center\",\"x\":[0.5063793659210205],\"y\":[0.1667386144399643],\"type\":\"scatter\"},{\"marker\":{\"color\":\"black\"},\"mode\":\"markers+text\",\"text\":[\"tiananmen\"],\"textfont\":{\"color\":\"black\"},\"textposition\":\"top center\",\"x\":[-0.7135440111160278],\"y\":[0.5480428338050842],\"type\":\"scatter\"},{\"marker\":{\"color\":\"black\"},\"mode\":\"markers+text\",\"text\":[\"massacre\"],\"textfont\":{\"color\":\"black\"},\"textposition\":\"top center\",\"x\":[-1.4581965208053589],\"y\":[1.5339040756225586],\"type\":\"scatter\"},{\"marker\":{\"color\":\"black\"},\"mode\":\"markers+text\",\"text\":[\"parkland\"],\"textfont\":{\"color\":\"black\"},\"textposition\":\"top center\",\"x\":[0.9831962585449219],\"y\":[-0.13703757524490356],\"type\":\"scatter\"},{\"marker\":{\"color\":\"black\"},\"mode\":\"markers+text\",\"text\":[\"shouted\"],\"textfont\":{\"color\":\"black\"},\"textposition\":\"top center\",\"x\":[1.182287573814392],\"y\":[-1.4397190809249878],\"type\":\"scatter\"},{\"marker\":{\"color\":\"red\"},\"mode\":\"markers+text\",\"text\":[\"nightclub_dec\"],\"textfont\":{\"color\":\"red\"},\"textposition\":\"top center\",\"x\":[0.006256680469959974],\"y\":[-0.5051903128623962],\"type\":\"scatter\"},{\"marker\":{\"color\":\"black\"},\"mode\":\"markers+text\",\"text\":[\"oval\"],\"textfont\":{\"color\":\"black\"},\"textposition\":\"top center\",\"x\":[0.5942697525024414],\"y\":[-0.7201218008995056],\"type\":\"scatter\"},{\"marker\":{\"color\":\"black\"},\"mode\":\"markers+text\",\"text\":[\"aft\"],\"textfont\":{\"color\":\"black\"},\"textposition\":\"top center\",\"x\":[-0.02660120464861393],\"y\":[1.0837898254394531],\"type\":\"scatter\"},{\"marker\":{\"color\":\"black\"},\"mode\":\"markers+text\",\"text\":[\"somers\"],\"textfont\":{\"color\":\"black\"},\"textposition\":\"top center\",\"x\":[-1.8493947982788086],\"y\":[1.1747462749481201],\"type\":\"scatter\"},{\"marker\":{\"color\":\"black\"},\"mode\":\"markers+text\",\"text\":[\"queensborough\"],\"textfont\":{\"color\":\"black\"},\"textposition\":\"top center\",\"x\":[1.0905650854110718],\"y\":[-1.3788939714431763],\"type\":\"scatter\"},{\"marker\":{\"color\":\"red\"},\"mode\":\"markers+text\",\"text\":[\"nightclub_jan\"],\"textfont\":{\"color\":\"red\"},\"textposition\":\"top center\",\"x\":[0.1911611258983612],\"y\":[-0.1595204472541809],\"type\":\"scatter\"},{\"marker\":{\"color\":\"red\",\"size\":10,\"symbol\":\"diamond\"},\"mode\":\"markers\",\"x\":[1.2124519348144531],\"y\":[0.5702323913574219],\"type\":\"scatter\"},{\"line\":{\"color\":\"red\"},\"mode\":\"lines\",\"x\":[1.2124519348144531,0.5063793659210205],\"y\":[0.5702323913574219,0.1667386144399643],\"type\":\"scatter\"},{\"line\":{\"color\":\"red\"},\"mode\":\"lines\",\"x\":[0.5063793659210205,0.006256680469959974],\"y\":[0.1667386144399643,-0.5051903128623962],\"type\":\"scatter\"},{\"line\":{\"color\":\"red\"},\"mode\":\"lines\",\"x\":[0.006256680469959974,0.1911611258983612],\"y\":[-0.5051903128623962,-0.1595204472541809],\"type\":\"scatter\"}],                        {\"annotations\":[{\"showarrow\":false,\"text\":\"Period: Oct - Nov - Dec - Jan\",\"x\":0.5,\"xref\":\"paper\",\"y\":1.08,\"yref\":\"paper\"}],\"showlegend\":false,\"template\":{\"data\":{\"barpolar\":[{\"marker\":{\"line\":{\"color\":\"#E5ECF6\",\"width\":0.5},\"pattern\":{\"fillmode\":\"overlay\",\"size\":10,\"solidity\":0.2}},\"type\":\"barpolar\"}],\"bar\":[{\"error_x\":{\"color\":\"#2a3f5f\"},\"error_y\":{\"color\":\"#2a3f5f\"},\"marker\":{\"line\":{\"color\":\"#E5ECF6\",\"width\":0.5},\"pattern\":{\"fillmode\":\"overlay\",\"size\":10,\"solidity\":0.2}},\"type\":\"bar\"}],\"carpet\":[{\"aaxis\":{\"endlinecolor\":\"#2a3f5f\",\"gridcolor\":\"white\",\"linecolor\":\"white\",\"minorgridcolor\":\"white\",\"startlinecolor\":\"#2a3f5f\"},\"baxis\":{\"endlinecolor\":\"#2a3f5f\",\"gridcolor\":\"white\",\"linecolor\":\"white\",\"minorgridcolor\":\"white\",\"startlinecolor\":\"#2a3f5f\"},\"type\":\"carpet\"}],\"choropleth\":[{\"colorbar\":{\"outlinewidth\":0,\"ticks\":\"\"},\"type\":\"choropleth\"}],\"contourcarpet\":[{\"colorbar\":{\"outlinewidth\":0,\"ticks\":\"\"},\"type\":\"contourcarpet\"}],\"contour\":[{\"colorbar\":{\"outlinewidth\":0,\"ticks\":\"\"},\"colorscale\":[[0.0,\"#0d0887\"],[0.1111111111111111,\"#46039f\"],[0.2222222222222222,\"#7201a8\"],[0.3333333333333333,\"#9c179e\"],[0.4444444444444444,\"#bd3786\"],[0.5555555555555556,\"#d8576b\"],[0.6666666666666666,\"#ed7953\"],[0.7777777777777778,\"#fb9f3a\"],[0.8888888888888888,\"#fdca26\"],[1.0,\"#f0f921\"]],\"type\":\"contour\"}],\"heatmapgl\":[{\"colorbar\":{\"outlinewidth\":0,\"ticks\":\"\"},\"colorscale\":[[0.0,\"#0d0887\"],[0.1111111111111111,\"#46039f\"],[0.2222222222222222,\"#7201a8\"],[0.3333333333333333,\"#9c179e\"],[0.4444444444444444,\"#bd3786\"],[0.5555555555555556,\"#d8576b\"],[0.6666666666666666,\"#ed7953\"],[0.7777777777777778,\"#fb9f3a\"],[0.8888888888888888,\"#fdca26\"],[1.0,\"#f0f921\"]],\"type\":\"heatmapgl\"}],\"heatmap\":[{\"colorbar\":{\"outlinewidth\":0,\"ticks\":\"\"},\"colorscale\":[[0.0,\"#0d0887\"],[0.1111111111111111,\"#46039f\"],[0.2222222222222222,\"#7201a8\"],[0.3333333333333333,\"#9c179e\"],[0.4444444444444444,\"#bd3786\"],[0.5555555555555556,\"#d8576b\"],[0.6666666666666666,\"#ed7953\"],[0.7777777777777778,\"#fb9f3a\"],[0.8888888888888888,\"#fdca26\"],[1.0,\"#f0f921\"]],\"type\":\"heatmap\"}],\"histogram2dcontour\":[{\"colorbar\":{\"outlinewidth\":0,\"ticks\":\"\"},\"colorscale\":[[0.0,\"#0d0887\"],[0.1111111111111111,\"#46039f\"],[0.2222222222222222,\"#7201a8\"],[0.3333333333333333,\"#9c179e\"],[0.4444444444444444,\"#bd3786\"],[0.5555555555555556,\"#d8576b\"],[0.6666666666666666,\"#ed7953\"],[0.7777777777777778,\"#fb9f3a\"],[0.8888888888888888,\"#fdca26\"],[1.0,\"#f0f921\"]],\"type\":\"histogram2dcontour\"}],\"histogram2d\":[{\"colorbar\":{\"outlinewidth\":0,\"ticks\":\"\"},\"colorscale\":[[0.0,\"#0d0887\"],[0.1111111111111111,\"#46039f\"],[0.2222222222222222,\"#7201a8\"],[0.3333333333333333,\"#9c179e\"],[0.4444444444444444,\"#bd3786\"],[0.5555555555555556,\"#d8576b\"],[0.6666666666666666,\"#ed7953\"],[0.7777777777777778,\"#fb9f3a\"],[0.8888888888888888,\"#fdca26\"],[1.0,\"#f0f921\"]],\"type\":\"histogram2d\"}],\"histogram\":[{\"marker\":{\"pattern\":{\"fillmode\":\"overlay\",\"size\":10,\"solidity\":0.2}},\"type\":\"histogram\"}],\"mesh3d\":[{\"colorbar\":{\"outlinewidth\":0,\"ticks\":\"\"},\"type\":\"mesh3d\"}],\"parcoords\":[{\"line\":{\"colorbar\":{\"outlinewidth\":0,\"ticks\":\"\"}},\"type\":\"parcoords\"}],\"pie\":[{\"automargin\":true,\"type\":\"pie\"}],\"scatter3d\":[{\"line\":{\"colorbar\":{\"outlinewidth\":0,\"ticks\":\"\"}},\"marker\":{\"colorbar\":{\"outlinewidth\":0,\"ticks\":\"\"}},\"type\":\"scatter3d\"}],\"scattercarpet\":[{\"marker\":{\"colorbar\":{\"outlinewidth\":0,\"ticks\":\"\"}},\"type\":\"scattercarpet\"}],\"scattergeo\":[{\"marker\":{\"colorbar\":{\"outlinewidth\":0,\"ticks\":\"\"}},\"type\":\"scattergeo\"}],\"scattergl\":[{\"marker\":{\"colorbar\":{\"outlinewidth\":0,\"ticks\":\"\"}},\"type\":\"scattergl\"}],\"scattermapbox\":[{\"marker\":{\"colorbar\":{\"outlinewidth\":0,\"ticks\":\"\"}},\"type\":\"scattermapbox\"}],\"scatterpolargl\":[{\"marker\":{\"colorbar\":{\"outlinewidth\":0,\"ticks\":\"\"}},\"type\":\"scatterpolargl\"}],\"scatterpolar\":[{\"marker\":{\"colorbar\":{\"outlinewidth\":0,\"ticks\":\"\"}},\"type\":\"scatterpolar\"}],\"scatter\":[{\"fillpattern\":{\"fillmode\":\"overlay\",\"size\":10,\"solidity\":0.2},\"type\":\"scatter\"}],\"scatterternary\":[{\"marker\":{\"colorbar\":{\"outlinewidth\":0,\"ticks\":\"\"}},\"type\":\"scatterternary\"}],\"surface\":[{\"colorbar\":{\"outlinewidth\":0,\"ticks\":\"\"},\"colorscale\":[[0.0,\"#0d0887\"],[0.1111111111111111,\"#46039f\"],[0.2222222222222222,\"#7201a8\"],[0.3333333333333333,\"#9c179e\"],[0.4444444444444444,\"#bd3786\"],[0.5555555555555556,\"#d8576b\"],[0.6666666666666666,\"#ed7953\"],[0.7777777777777778,\"#fb9f3a\"],[0.8888888888888888,\"#fdca26\"],[1.0,\"#f0f921\"]],\"type\":\"surface\"}],\"table\":[{\"cells\":{\"fill\":{\"color\":\"#EBF0F8\"},\"line\":{\"color\":\"white\"}},\"header\":{\"fill\":{\"color\":\"#C8D4E3\"},\"line\":{\"color\":\"white\"}},\"type\":\"table\"}]},\"layout\":{\"annotationdefaults\":{\"arrowcolor\":\"#2a3f5f\",\"arrowhead\":0,\"arrowwidth\":1},\"autotypenumbers\":\"strict\",\"coloraxis\":{\"colorbar\":{\"outlinewidth\":0,\"ticks\":\"\"}},\"colorscale\":{\"diverging\":[[0,\"#8e0152\"],[0.1,\"#c51b7d\"],[0.2,\"#de77ae\"],[0.3,\"#f1b6da\"],[0.4,\"#fde0ef\"],[0.5,\"#f7f7f7\"],[0.6,\"#e6f5d0\"],[0.7,\"#b8e186\"],[0.8,\"#7fbc41\"],[0.9,\"#4d9221\"],[1,\"#276419\"]],\"sequential\":[[0.0,\"#0d0887\"],[0.1111111111111111,\"#46039f\"],[0.2222222222222222,\"#7201a8\"],[0.3333333333333333,\"#9c179e\"],[0.4444444444444444,\"#bd3786\"],[0.5555555555555556,\"#d8576b\"],[0.6666666666666666,\"#ed7953\"],[0.7777777777777778,\"#fb9f3a\"],[0.8888888888888888,\"#fdca26\"],[1.0,\"#f0f921\"]],\"sequentialminus\":[[0.0,\"#0d0887\"],[0.1111111111111111,\"#46039f\"],[0.2222222222222222,\"#7201a8\"],[0.3333333333333333,\"#9c179e\"],[0.4444444444444444,\"#bd3786\"],[0.5555555555555556,\"#d8576b\"],[0.6666666666666666,\"#ed7953\"],[0.7777777777777778,\"#fb9f3a\"],[0.8888888888888888,\"#fdca26\"],[1.0,\"#f0f921\"]]},\"colorway\":[\"#636efa\",\"#EF553B\",\"#00cc96\",\"#ab63fa\",\"#FFA15A\",\"#19d3f3\",\"#FF6692\",\"#B6E880\",\"#FF97FF\",\"#FECB52\"],\"font\":{\"color\":\"#2a3f5f\"},\"geo\":{\"bgcolor\":\"white\",\"lakecolor\":\"white\",\"landcolor\":\"#E5ECF6\",\"showlakes\":true,\"showland\":true,\"subunitcolor\":\"white\"},\"hoverlabel\":{\"align\":\"left\"},\"hovermode\":\"closest\",\"mapbox\":{\"style\":\"light\"},\"paper_bgcolor\":\"white\",\"plot_bgcolor\":\"#E5ECF6\",\"polar\":{\"angularaxis\":{\"gridcolor\":\"white\",\"linecolor\":\"white\",\"ticks\":\"\"},\"bgcolor\":\"#E5ECF6\",\"radialaxis\":{\"gridcolor\":\"white\",\"linecolor\":\"white\",\"ticks\":\"\"}},\"scene\":{\"xaxis\":{\"backgroundcolor\":\"#E5ECF6\",\"gridcolor\":\"white\",\"gridwidth\":2,\"linecolor\":\"white\",\"showbackground\":true,\"ticks\":\"\",\"zerolinecolor\":\"white\"},\"yaxis\":{\"backgroundcolor\":\"#E5ECF6\",\"gridcolor\":\"white\",\"gridwidth\":2,\"linecolor\":\"white\",\"showbackground\":true,\"ticks\":\"\",\"zerolinecolor\":\"white\"},\"zaxis\":{\"backgroundcolor\":\"#E5ECF6\",\"gridcolor\":\"white\",\"gridwidth\":2,\"linecolor\":\"white\",\"showbackground\":true,\"ticks\":\"\",\"zerolinecolor\":\"white\"}},\"shapedefaults\":{\"line\":{\"color\":\"#2a3f5f\"}},\"ternary\":{\"aaxis\":{\"gridcolor\":\"white\",\"linecolor\":\"white\",\"ticks\":\"\"},\"baxis\":{\"gridcolor\":\"white\",\"linecolor\":\"white\",\"ticks\":\"\"},\"bgcolor\":\"#E5ECF6\",\"caxis\":{\"gridcolor\":\"white\",\"linecolor\":\"white\",\"ticks\":\"\"}},\"title\":{\"x\":0.05},\"xaxis\":{\"automargin\":true,\"gridcolor\":\"white\",\"linecolor\":\"white\",\"ticks\":\"\",\"title\":{\"standoff\":15},\"zerolinecolor\":\"white\",\"zerolinewidth\":2},\"yaxis\":{\"automargin\":true,\"gridcolor\":\"white\",\"linecolor\":\"white\",\"ticks\":\"\",\"title\":{\"standoff\":15},\"zerolinecolor\":\"white\",\"zerolinewidth\":2}}},\"title\":{\"font\":{\"size\":22},\"text\":\"Evolution of the word nightclub over time\",\"x\":0.5},\"xaxis\":{\"title\":{\"text\":\"X\"}},\"yaxis\":{\"title\":{\"text\":\"Y\"}}},                        {\"responsive\": true}                    ).then(function(){\n                            \nvar gd = document.getElementById('5127c1d0-3526-4381-ab2d-7f0db94e6a8c');\nvar x = new MutationObserver(function (mutations, observer) {{\n        var display = window.getComputedStyle(gd).display;\n        if (!display || display === 'none') {{\n            console.log([gd, 'removed!']);\n            Plotly.purge(gd);\n            observer.disconnect();\n        }}\n}});\n\n// Listen for the removal of the full notebook cells\nvar notebookContainer = gd.closest('#notebook-container');\nif (notebookContainer) {{\n    x.observe(notebookContainer, {childList: true});\n}}\n\n// Listen for the clearing of the current output cell\nvar outputEl = gd.closest('.output');\nif (outputEl) {{\n    x.observe(outputEl, {childList: true});\n}}\n\n                        })                };                });            </script>        </div>"
     },
     "metadata": {},
     "output_type": "display_data"
    }
   ],
   "source": [
    "plot_temporal_changing_embedding(target_word_colorado_springs, selected_models_monthly_colorado_springs,\n",
    "                                 top_n=4, title=title_colorado_springs, subtitle=subtitle_colorado_springs, use_tsne=True)"
   ],
   "metadata": {
    "collapsed": false
   }
  },
  {
   "cell_type": "markdown",
   "source": [
    "### Cosine similarities"
   ],
   "metadata": {
    "collapsed": false
   }
  },
  {
   "cell_type": "code",
   "execution_count": 51,
   "outputs": [],
   "source": [
    "test_words_colorado_springs = [\"music\", \"gunman\", \"massacre\"]"
   ],
   "metadata": {
    "collapsed": false
   }
  },
  {
   "cell_type": "code",
   "execution_count": 52,
   "outputs": [
    {
     "data": {
      "text/plain": "<Figure size 1000x600 with 1 Axes>",
      "image/png": "[encoded data removed]"
     },
     "metadata": {},
     "output_type": "display_data"
    }
   ],
   "source": [
    "plot_cosine_similarity(target_word_colorado_springs, test_words_colorado_springs, selected_models_monthly_colorado_springs, event=\"dec\", event_name=\"Colorado Springs nightclub shooting\")"
   ],
   "metadata": {
    "collapsed": false
   }
  },
  {
   "cell_type": "markdown",
   "source": [
    "### TPPMI"
   ],
   "metadata": {
    "collapsed": false
   }
  },
  {
   "cell_type": "code",
   "execution_count": 53,
   "outputs": [
    {
     "name": "stdout",
     "output_type": "stream",
     "text": [
      "All words are contained in the vocabulary\n",
      "gunman - not in vocab of timestep: 03\n",
      "nightclub - not in vocab of timestep: 07\n",
      "nightclub - not in vocab of timestep: 08\n",
      "nightclub - not in vocab of timestep: 09\n",
      "nightclub - not in vocab of timestep: 10\n",
      "nightclub - not in vocab of timestep: 12\n",
      "nightclub - not in vocab of timestep: 01\n",
      "nightclub - not in vocab of timestep: 02\n",
      "nightclub - not in vocab of timestep: 03\n"
     ]
    }
   ],
   "source": [
    "tppmi_colorado_springs = tppmi_model.get_tppmi(test_words_colorado_springs + [target_word_colorado_springs])"
   ],
   "metadata": {
    "collapsed": false
   }
  },
  {
   "cell_type": "code",
   "execution_count": 54,
   "outputs": [
    {
     "ename": "KeyboardInterrupt",
     "evalue": "",
     "output_type": "error",
     "traceback": [
      "\u001B[0;31m---------------------------------------------------------------------------\u001B[0m",
      "\u001B[0;31mKeyboardInterrupt\u001B[0m                         Traceback (most recent call last)",
      "Cell \u001B[0;32mIn[54], line 3\u001B[0m\n\u001B[1;32m      1\u001B[0m target_word_colorado_springs \u001B[38;5;241m=\u001B[39m \u001B[38;5;124m\"\u001B[39m\u001B[38;5;124mcolorado\u001B[39m\u001B[38;5;124m\"\u001B[39m\n\u001B[1;32m      2\u001B[0m selected_months_colorado_springs \u001B[38;5;241m=\u001B[39m [\u001B[38;5;241m9\u001B[39m, \u001B[38;5;241m10\u001B[39m, \u001B[38;5;241m11\u001B[39m, \u001B[38;5;241m12\u001B[39m]\n\u001B[0;32m----> 3\u001B[0m tppmi_model\u001B[38;5;241m.\u001B[39mprint_most_similar_words(target_word_colorado_springs, top_n \u001B[38;5;241m=\u001B[39m \u001B[38;5;241m2\u001B[39m)\n",
      "File \u001B[0;32m~/DataspellProjects/temporal-word-embeddings/packages/TPPMI/tppmi_model.py:205\u001B[0m, in \u001B[0;36mTPPMIModel.print_most_similar_words\u001B[0;34m(self, target_word, top_n)\u001B[0m\n\u001B[1;32m    193\u001B[0m \u001B[38;5;28;01mdef\u001B[39;00m \u001B[38;5;21mprint_most_similar_words\u001B[39m(\u001B[38;5;28mself\u001B[39m, target_word: \u001B[38;5;28mstr\u001B[39m, top_n\u001B[38;5;241m=\u001B[39m\u001B[38;5;241m5\u001B[39m):\n\u001B[1;32m    194\u001B[0m     \u001B[38;5;124;03m\"\"\"\u001B[39;00m\n\u001B[1;32m    195\u001B[0m \u001B[38;5;124;03m   Print the most similar words to a target word over different time intervals based on precomputed PPMI models.\u001B[39;00m\n\u001B[1;32m    196\u001B[0m \n\u001B[0;32m   (...)\u001B[0m\n\u001B[1;32m    203\u001B[0m \u001B[38;5;124;03m   most similar words for each time interval.\u001B[39;00m\n\u001B[1;32m    204\u001B[0m \u001B[38;5;124;03m   \"\"\"\u001B[39;00m\n\u001B[0;32m--> 205\u001B[0m     words \u001B[38;5;241m=\u001B[39m \u001B[38;5;28mself\u001B[39m\u001B[38;5;241m.\u001B[39mmost_similar_words(target_word, top_n\u001B[38;5;241m=\u001B[39mtop_n)\n\u001B[1;32m    206\u001B[0m     \u001B[38;5;28;01mfor\u001B[39;00m key, values \u001B[38;5;129;01min\u001B[39;00m words\u001B[38;5;241m.\u001B[39mitems():\n\u001B[1;32m    207\u001B[0m         \u001B[38;5;28mprint\u001B[39m(\u001B[38;5;124mf\u001B[39m\u001B[38;5;124m\"\u001B[39m\u001B[38;5;124mWord: \u001B[39m\u001B[38;5;132;01m{\u001B[39;00mkey\u001B[38;5;241m.\u001B[39msplit(\u001B[38;5;124m'\u001B[39m\u001B[38;5;124m_\u001B[39m\u001B[38;5;124m'\u001B[39m)[\u001B[38;5;241m0\u001B[39m]\u001B[38;5;132;01m}\u001B[39;00m\u001B[38;5;124m - Month: \u001B[39m\u001B[38;5;132;01m{\u001B[39;00mkey\u001B[38;5;241m.\u001B[39msplit(\u001B[38;5;124m'\u001B[39m\u001B[38;5;124m_\u001B[39m\u001B[38;5;124m'\u001B[39m)[\u001B[38;5;241m1\u001B[39m]\u001B[38;5;241m.\u001B[39mcapitalize()\u001B[38;5;132;01m}\u001B[39;00m\u001B[38;5;124m\"\u001B[39m)\n",
      "File \u001B[0;32m~/DataspellProjects/temporal-word-embeddings/packages/TPPMI/tppmi_model.py:189\u001B[0m, in \u001B[0;36mTPPMIModel.most_similar_words\u001B[0;34m(self, target_word, top_n)\u001B[0m\n\u001B[1;32m    187\u001B[0m \u001B[38;5;28;01mfor\u001B[39;00m date, model \u001B[38;5;129;01min\u001B[39;00m \u001B[38;5;28mself\u001B[39m\u001B[38;5;241m.\u001B[39mppmi_models\u001B[38;5;241m.\u001B[39mitems():\n\u001B[1;32m    188\u001B[0m     \u001B[38;5;28;01mif\u001B[39;00m model\u001B[38;5;241m.\u001B[39mcontains_in_vocab(target_word):\n\u001B[0;32m--> 189\u001B[0m         similar_words[\u001B[38;5;124mf\u001B[39m\u001B[38;5;124m\"\u001B[39m\u001B[38;5;132;01m{\u001B[39;00mtarget_word\u001B[38;5;132;01m}\u001B[39;00m\u001B[38;5;124m_\u001B[39m\u001B[38;5;132;01m{\u001B[39;00mdate\u001B[38;5;132;01m}\u001B[39;00m\u001B[38;5;124m\"\u001B[39m] \u001B[38;5;241m=\u001B[39m model\u001B[38;5;241m.\u001B[39mmost_similar_words(target_word, top_n)\n\u001B[1;32m    191\u001B[0m \u001B[38;5;28;01mreturn\u001B[39;00m similar_words\n",
      "File \u001B[0;32m~/DataspellProjects/temporal-word-embeddings/packages/TPPMI/ppmi_model.py:185\u001B[0m, in \u001B[0;36mPPMIModel.most_similar_words\u001B[0;34m(self, target_word, top_n)\u001B[0m\n\u001B[1;32m    183\u001B[0m \u001B[38;5;28;01mfor\u001B[39;00m vocab_word \u001B[38;5;129;01min\u001B[39;00m \u001B[38;5;28mself\u001B[39m\u001B[38;5;241m.\u001B[39mvocab:\n\u001B[1;32m    184\u001B[0m     \u001B[38;5;28;01mif\u001B[39;00m vocab_word \u001B[38;5;241m!=\u001B[39m target_word:\n\u001B[0;32m--> 185\u001B[0m         similarity \u001B[38;5;241m=\u001B[39m \u001B[38;5;28mself\u001B[39m\u001B[38;5;241m.\u001B[39mcosine_similarity(target_word, vocab_word)\n\u001B[1;32m    186\u001B[0m         similar_words\u001B[38;5;241m.\u001B[39mappend((vocab_word, similarity))\n\u001B[1;32m    188\u001B[0m similar_words \u001B[38;5;241m=\u001B[39m nlargest(top_n, similar_words, key\u001B[38;5;241m=\u001B[39m\u001B[38;5;28;01mlambda\u001B[39;00m x: x[\u001B[38;5;241m1\u001B[39m])\n",
      "File \u001B[0;32m~/DataspellProjects/temporal-word-embeddings/packages/TPPMI/ppmi_model.py:209\u001B[0m, in \u001B[0;36mPPMIModel.cosine_similarity\u001B[0;34m(self, word1, word2)\u001B[0m\n\u001B[1;32m    206\u001B[0m     \u001B[38;5;28;01mraise\u001B[39;00m \u001B[38;5;167;01mValueError\u001B[39;00m(\u001B[38;5;124mf\u001B[39m\u001B[38;5;124m\"\u001B[39m\u001B[38;5;124m'\u001B[39m\u001B[38;5;132;01m{\u001B[39;00mword2\u001B[38;5;132;01m}\u001B[39;00m\u001B[38;5;124m'\u001B[39m\u001B[38;5;124m is not in the vocabulary.\u001B[39m\u001B[38;5;124m\"\u001B[39m)\n\u001B[1;32m    208\u001B[0m vector1 \u001B[38;5;241m=\u001B[39m \u001B[38;5;28mself\u001B[39m\u001B[38;5;241m.\u001B[39mget_word_vector(word1)\n\u001B[0;32m--> 209\u001B[0m vector2 \u001B[38;5;241m=\u001B[39m \u001B[38;5;28mself\u001B[39m\u001B[38;5;241m.\u001B[39mget_word_vector(word2)\n\u001B[1;32m    211\u001B[0m norm1 \u001B[38;5;241m=\u001B[39m np\u001B[38;5;241m.\u001B[39mlinalg\u001B[38;5;241m.\u001B[39mnorm(vector1)\n\u001B[1;32m    212\u001B[0m norm2 \u001B[38;5;241m=\u001B[39m np\u001B[38;5;241m.\u001B[39mlinalg\u001B[38;5;241m.\u001B[39mnorm(vector2)\n",
      "File \u001B[0;32m~/DataspellProjects/temporal-word-embeddings/packages/TPPMI/ppmi_model.py:196\u001B[0m, in \u001B[0;36mPPMIModel.get_word_vector\u001B[0;34m(self, word)\u001B[0m\n\u001B[1;32m    194\u001B[0m     word_index \u001B[38;5;241m=\u001B[39m \u001B[38;5;28mself\u001B[39m\u001B[38;5;241m.\u001B[39m_word2ind[word]\n\u001B[1;32m    195\u001B[0m     word_vector \u001B[38;5;241m=\u001B[39m \u001B[38;5;28mself\u001B[39m\u001B[38;5;241m.\u001B[39mppmi_matrix[word_index]\n\u001B[0;32m--> 196\u001B[0m     \u001B[38;5;28;01mreturn\u001B[39;00m pd\u001B[38;5;241m.\u001B[39mSeries(word_vector, index\u001B[38;5;241m=\u001B[39m\u001B[38;5;28mself\u001B[39m\u001B[38;5;241m.\u001B[39mvocab)\n\u001B[1;32m    197\u001B[0m \u001B[38;5;28;01melse\u001B[39;00m:\n\u001B[1;32m    198\u001B[0m     \u001B[38;5;28;01mraise\u001B[39;00m \u001B[38;5;167;01mValueError\u001B[39;00m(\u001B[38;5;124mf\u001B[39m\u001B[38;5;124m\"\u001B[39m\u001B[38;5;124m'\u001B[39m\u001B[38;5;132;01m{\u001B[39;00mword\u001B[38;5;132;01m}\u001B[39;00m\u001B[38;5;124m'\u001B[39m\u001B[38;5;124m is not in the vocabulary.\u001B[39m\u001B[38;5;124m\"\u001B[39m)\n",
      "File \u001B[0;32m~/miniforge3/envs/cs224n/lib/python3.11/site-packages/pandas/core/series.py:342\u001B[0m, in \u001B[0;36mSeries.__init__\u001B[0;34m(self, data, index, dtype, name, copy, fastpath)\u001B[0m\n\u001B[1;32m    337\u001B[0m rdiv: Callable[[Series, Any], Series]\n\u001B[1;32m    339\u001B[0m \u001B[38;5;66;03m# ----------------------------------------------------------------------\u001B[39;00m\n\u001B[1;32m    340\u001B[0m \u001B[38;5;66;03m# Constructors\u001B[39;00m\n\u001B[0;32m--> 342\u001B[0m \u001B[38;5;28;01mdef\u001B[39;00m \u001B[38;5;21m__init__\u001B[39m(\n\u001B[1;32m    343\u001B[0m     \u001B[38;5;28mself\u001B[39m,\n\u001B[1;32m    344\u001B[0m     data\u001B[38;5;241m=\u001B[39m\u001B[38;5;28;01mNone\u001B[39;00m,\n\u001B[1;32m    345\u001B[0m     index\u001B[38;5;241m=\u001B[39m\u001B[38;5;28;01mNone\u001B[39;00m,\n\u001B[1;32m    346\u001B[0m     dtype: Dtype \u001B[38;5;241m|\u001B[39m \u001B[38;5;28;01mNone\u001B[39;00m \u001B[38;5;241m=\u001B[39m \u001B[38;5;28;01mNone\u001B[39;00m,\n\u001B[1;32m    347\u001B[0m     name\u001B[38;5;241m=\u001B[39m\u001B[38;5;28;01mNone\u001B[39;00m,\n\u001B[1;32m    348\u001B[0m     copy: \u001B[38;5;28mbool\u001B[39m \u001B[38;5;241m=\u001B[39m \u001B[38;5;28;01mFalse\u001B[39;00m,\n\u001B[1;32m    349\u001B[0m     fastpath: \u001B[38;5;28mbool\u001B[39m \u001B[38;5;241m=\u001B[39m \u001B[38;5;28;01mFalse\u001B[39;00m,\n\u001B[1;32m    350\u001B[0m ) \u001B[38;5;241m-\u001B[39m\u001B[38;5;241m>\u001B[39m \u001B[38;5;28;01mNone\u001B[39;00m:\n\u001B[1;32m    352\u001B[0m     \u001B[38;5;28;01mif\u001B[39;00m (\n\u001B[1;32m    353\u001B[0m         \u001B[38;5;28misinstance\u001B[39m(data, (SingleBlockManager, SingleArrayManager))\n\u001B[1;32m    354\u001B[0m         \u001B[38;5;129;01mand\u001B[39;00m index \u001B[38;5;129;01mis\u001B[39;00m \u001B[38;5;28;01mNone\u001B[39;00m\n\u001B[0;32m   (...)\u001B[0m\n\u001B[1;32m    357\u001B[0m     ):\n\u001B[1;32m    358\u001B[0m         \u001B[38;5;66;03m# GH#33357 called with just the SingleBlockManager\u001B[39;00m\n\u001B[1;32m    359\u001B[0m         NDFrame\u001B[38;5;241m.\u001B[39m\u001B[38;5;21m__init__\u001B[39m(\u001B[38;5;28mself\u001B[39m, data)\n",
      "\u001B[0;31mKeyboardInterrupt\u001B[0m: "
     ]
    }
   ],
   "source": [
    "target_word_colorado_springs = \"colorado\"\n",
    "selected_months_colorado_springs = [9, 10, 11, 12]"
   ],
   "metadata": {
    "collapsed": false
   }
  },
  {
   "cell_type": "code",
   "execution_count": null,
   "outputs": [],
   "source": [
    "test_words_colorado_springs = [\"massacre\", \"kansas\"]\n",
    "plot_word_vectors_tppmi(tppmi_model.get_2d_representation(test_words_colorado_springs + [target_word_colorado_springs], use_tsne=False, selected_months = selected_months_colorado_springs))"
   ],
   "metadata": {
    "collapsed": false
   }
  }
 ],
 "metadata": {
  "kernelspec": {
   "display_name": "Python 3",
   "language": "python",
   "name": "python3"
  },
  "language_info": {
   "codemirror_mode": {
    "name": "ipython",
    "version": 2
   },
   "file_extension": ".py",
   "mimetype": "text/x-python",
   "name": "python",
   "nbconvert_exporter": "python",
   "pygments_lexer": "ipython2",
   "version": "2.7.6"
  }
 },
 "nbformat": 4,
 "nbformat_minor": 0
}
