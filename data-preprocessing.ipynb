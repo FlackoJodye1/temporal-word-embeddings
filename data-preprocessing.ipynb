{
 "cells": [
  {
   "cell_type": "markdown",
   "source": [
    "# Data Preprocessing"
   ],
   "metadata": {
    "collapsed": false
   }
  },
  {
   "cell_type": "code",
   "execution_count": 37,
   "outputs": [],
   "source": [
    "import numpy as np\n",
    "import pandas as pd\n",
    "from pathlib import Path\n",
    "import warnings"
   ],
   "metadata": {
    "collapsed": false
   }
  },
  {
   "cell_type": "markdown",
   "source": [
    "## Setup"
   ],
   "metadata": {
    "collapsed": false
   }
  },
  {
   "cell_type": "code",
   "execution_count": 38,
   "outputs": [],
   "source": [
    "# Set random seed\n",
    "np.random.seed(1040)"
   ],
   "metadata": {
    "collapsed": false
   }
  },
  {
   "cell_type": "code",
   "execution_count": 39,
   "outputs": [],
   "source": [
    "DIR = Path(\"data\")\n",
    "input_dir = DIR / \"input\"\n",
    "stream_1_path = input_dir / \"Stream1.xlsx\"\n",
    "stream_2_path = input_dir / \"Stream2.xlsx\"\n",
    "stream_3_path = input_dir / \"Stream3.xlsx\""
   ],
   "metadata": {
    "collapsed": false
   }
  },
  {
   "cell_type": "code",
   "execution_count": 40,
   "outputs": [],
   "source": [
    "# this is ok and will not cause problems\n",
    "warnings.filterwarnings(\"ignore\", message=\"Workbook contains no default style, apply openpyxl's default\")\n",
    "\n",
    "stream_1_data = pd.read_excel(stream_2_path, engine=\"openpyxl\") # stream 1 contains the chronologically second part\n",
    "stream_2_data = pd.read_excel(stream_1_path, engine=\"openpyxl\") # stream 2 contains the chronologically first part\n",
    "stream_3_data = pd.read_excel(stream_3_path, engine=\"openpyxl\")\n",
    "\n",
    "data = pd.concat([stream_1_data, stream_2_data, stream_3_data], ignore_index=True);"
   ],
   "metadata": {
    "collapsed": false
   }
  },
  {
   "cell_type": "markdown",
   "source": [
    "## First Look"
   ],
   "metadata": {
    "collapsed": false
   }
  },
  {
   "cell_type": "markdown",
   "source": [
    "The data contains a great number of different attributes for each observation.\n",
    "therefore we start by looking at the attributes to get an idea of what to keep and what to get rid of."
   ],
   "metadata": {
    "collapsed": false
   }
  },
  {
   "cell_type": "markdown",
   "source": [
    "First we convert all attribute-names to lowercase and replace white-spaces to underscores to make things simpler"
   ],
   "metadata": {
    "collapsed": false
   }
  },
  {
   "cell_type": "code",
   "execution_count": 41,
   "outputs": [],
   "source": [
    "data.columns = [c.replace(' ', '_').lower() for c in stream_1_data.columns]"
   ],
   "metadata": {
    "collapsed": false
   }
  },
  {
   "cell_type": "code",
   "execution_count": 42,
   "outputs": [
    {
     "name": "stdout",
     "output_type": "stream",
     "text": [
      "<class 'pandas.core.frame.DataFrame'>\n",
      "RangeIndex: 150024 entries, 0 to 150023\n",
      "Data columns (total 63 columns):\n",
      " #   Column                                       Non-Null Count   Dtype  \n",
      "---  ------                                       --------------   -----  \n",
      " 0   post_id                                      143071 non-null  object \n",
      " 1   sound_bite_text                              150015 non-null  object \n",
      " 2   ratings_and_scores                           0 non-null       float64\n",
      " 3   title                                        71124 non-null   object \n",
      " 4   source_type                                  143053 non-null  object \n",
      " 5   post_type                                    85476 non-null   object \n",
      " 6   is_paid                                      150000 non-null  object \n",
      " 7   media_type                                   143053 non-null  object \n",
      " 8   url                                          143053 non-null  object \n",
      " 9   media_link                                   17428 non-null   object \n",
      " 10  domain                                       143053 non-null  object \n",
      " 11  sentiment                                    143053 non-null  object \n",
      " 12  published_date_(gmt+01:00)_london            150000 non-null  object \n",
      " 13  author_gender                                143053 non-null  object \n",
      " 14  author_url                                   60474 non-null   object \n",
      " 15  author_name                                  95676 non-null   object \n",
      " 16  author_handle                                41075 non-null   object \n",
      " 17  author_id                                    42424 non-null   object \n",
      " 18  author_location_-_country_1                  93711 non-null   object \n",
      " 19  author_location_-_state/province_1           14407 non-null   object \n",
      " 20  author_location_-_city_1                     10102 non-null   object \n",
      " 21  author_location_-_country_2                  126 non-null     object \n",
      " 22  author_location_-_state/province_2           114 non-null     object \n",
      " 23  author_location_-_city_2                     90 non-null      object \n",
      " 24  author_location_-_other                      13 non-null      object \n",
      " 25  author_reddit_karma                          143053 non-null  object \n",
      " 26  followers/daily_unique_visitors/subscribers  52386 non-null   float64\n",
      " 27  professions                                  4349 non-null    object \n",
      " 28  interests                                    8941 non-null    object \n",
      " 29  positive_objects                             27434 non-null   object \n",
      " 30  negative_objects                             32045 non-null   object \n",
      " 31  richness                                     143053 non-null  float64\n",
      " 32  tags                                         0 non-null       float64\n",
      " 33  quoted_post                                  558 non-null     object \n",
      " 34  quoted_author_name                           558 non-null     object \n",
      " 35  quoted_author_handle                         558 non-null     object \n",
      " 36  total_engagements                            15897 non-null   float64\n",
      " 37  post_comments                                5549 non-null    float64\n",
      " 38  post_likes                                   14281 non-null   float64\n",
      " 39  post_shares                                  1017 non-null    float64\n",
      " 40  post_views                                   0 non-null       float64\n",
      " 41  post_dislikes                                0 non-null       float64\n",
      " 42  reddit_score                                 143053 non-null  object \n",
      " 43  product_name                                 0 non-null       float64\n",
      " 44  product_hierarchy                            0 non-null       float64\n",
      " 45  rating                                       65 non-null      float64\n",
      " 46  @mention_media_tags                          0 non-null       float64\n",
      " 47  source_name                                  13715 non-null   object \n",
      " 48  lexisnexis_source_publisher                  0 non-null       float64\n",
      " 49  lexisnexis_source_category                   0 non-null       float64\n",
      " 50  lexisnexis_source_genre                      0 non-null       float64\n",
      " 51  lexisnexis_source_quality                    0 non-null       float64\n",
      " 52  lexisnexis_company_-_high                    0 non-null       float64\n",
      " 53  lexisnexis_company_-_any                     0 non-null       float64\n",
      " 54  lexisnexis_person_-_high                     0 non-null       float64\n",
      " 55  lexisnexis_person_-_any                      0 non-null       float64\n",
      " 56  lexisnexis_institution_-_high                0 non-null       float64\n",
      " 57  lexisnexis_institution_-_any                 0 non-null       float64\n",
      " 58  lexisnexis_subject_group_1                   0 non-null       float64\n",
      " 59  lexisnexis_subject_1                         0 non-null       float64\n",
      " 60  lexisnexis_subject_group_2                   0 non-null       float64\n",
      " 61  lexisnexis_subject_2                         0 non-null       float64\n",
      " 62  lexisnexis_other_subjects                    0 non-null       float64\n",
      "dtypes: float64(29), object(34)\n",
      "memory usage: 72.1+ MB\n"
     ]
    }
   ],
   "source": [
    "data.info()"
   ],
   "metadata": {
    "collapsed": false
   }
  },
  {
   "cell_type": "markdown",
   "source": [
    "Important:\n",
    "\n",
    "- post_id (ID)\n",
    "- Sound Bite Text (main text corpus)\n",
    "- Published Date (GMT+01:00) London (used to create dynamic embeddings)\n",
    "- Sentiment (used for extrinsic evaluation)\n",
    "\n",
    "In the following I focus first on these attributes to keep things clear and simple"
   ],
   "metadata": {
    "collapsed": false
   }
  },
  {
   "cell_type": "code",
   "execution_count": 43,
   "outputs": [],
   "source": [
    "important_attributes = [\"post_id\", \"sound_bite_text\", \"published_date_(gmt+01:00)_london\", \"sentiment\"]\n",
    "\n",
    "data = pd.DataFrame(data, columns=important_attributes)"
   ],
   "metadata": {
    "collapsed": false
   }
  },
  {
   "cell_type": "markdown",
   "source": [
    "For simplicity's sake I chose to rename the attributes to a more readable and manageable form"
   ],
   "metadata": {
    "collapsed": false
   }
  },
  {
   "cell_type": "code",
   "execution_count": 44,
   "outputs": [],
   "source": [
    "data.rename(columns={\"source_type\": \"source\", \"sound_bite_text\":\"raw_text\", \"published_date_(gmt+01:00)_london\": \"date\", \"post_id\":\"id\"}, inplace=True)"
   ],
   "metadata": {
    "collapsed": false
   }
  },
  {
   "cell_type": "markdown",
   "source": [
    "Lets look at how many values are actually there for the selected attributes"
   ],
   "metadata": {
    "collapsed": false
   }
  },
  {
   "cell_type": "code",
   "execution_count": 45,
   "outputs": [
    {
     "data": {
      "text/plain": "sentiment    0.046466\nid           0.046346\ndate         0.000160\nraw_text     0.000060\ndtype: float64"
     },
     "execution_count": 45,
     "metadata": {},
     "output_type": "execute_result"
    }
   ],
   "source": [
    "# number of observations\n",
    "n = len(data)\n",
    "\n",
    "# Display relative counts of missing values\n",
    "data.isnull().sum().divide(n).sort_values(ascending=False)"
   ],
   "metadata": {
    "collapsed": false
   }
  },
  {
   "cell_type": "markdown",
   "source": [
    "Both the date and the text have almost no missing values, which is the main thing.\n",
    "The attribute sentiment will only be used for a part of the evaluation of the embeddings and is therefore not as important.\n",
    "I therefore decide to go for the following strategy:\n",
    "\n",
    "Remove observations:\n",
    "\n",
    "- with missing date\n",
    "- with missing text\n",
    "\n",
    "Keep observations:\n",
    "- with missing sentiment"
   ],
   "metadata": {
    "collapsed": false
   }
  },
  {
   "cell_type": "code",
   "execution_count": 46,
   "outputs": [
    {
     "data": {
      "text/plain": "id           object\nraw_text     object\ndate         object\nsentiment    object\ndtype: object"
     },
     "execution_count": 46,
     "metadata": {},
     "output_type": "execute_result"
    }
   ],
   "source": [
    "data.dtypes"
   ],
   "metadata": {
    "collapsed": false
   }
  },
  {
   "cell_type": "markdown",
   "source": [
    "Let us now describe the key characteristics of our (remaining) data"
   ],
   "metadata": {
    "collapsed": false
   }
  },
  {
   "cell_type": "code",
   "execution_count": 47,
   "outputs": [
    {
     "data": {
      "text/plain": "                                                 id  \\\n0   101043269988443_685479222937141_641761047285352   \n1  102479025168087_499693558822805_1195202924611670   \n2     10643211755_10161745802786756_627308188838071   \n3    10643211755_10161748775911756_1235289853921186   \n4  101043269988443_687503842734679_3330045383891840   \n\n                                            raw_text                     date  \\\n0  Check this guy out at a school board meeting. ...  Sep 16, 2022 6:29:09 AM   \n1  Trump's one race theory like that of Hitler is...  Jul 31, 2022 1:10:33 AM   \n2  Jon C Treleaven Seems right! I believe in pare...  Sep 26, 2022 5:17:42 PM   \n3  This happening in my town. We’re having school...  Sep 27, 2022 4:23:12 AM   \n4  The blame for all these perverted lifestyles b...   Sep 5, 2022 6:10:30 PM   \n\n   sentiment  \n0   Neutrals  \n1   Neutrals  \n2   Neutrals  \n3  Positives  \n4   Neutrals  ",
      "text/html": "<div>\n<style scoped>\n    .dataframe tbody tr th:only-of-type {\n        vertical-align: middle;\n    }\n\n    .dataframe tbody tr th {\n        vertical-align: top;\n    }\n\n    .dataframe thead th {\n        text-align: right;\n    }\n</style>\n<table border=\"1\" class=\"dataframe\">\n  <thead>\n    <tr style=\"text-align: right;\">\n      <th></th>\n      <th>id</th>\n      <th>raw_text</th>\n      <th>date</th>\n      <th>sentiment</th>\n    </tr>\n  </thead>\n  <tbody>\n    <tr>\n      <th>0</th>\n      <td>101043269988443_685479222937141_641761047285352</td>\n      <td>Check this guy out at a school board meeting. ...</td>\n      <td>Sep 16, 2022 6:29:09 AM</td>\n      <td>Neutrals</td>\n    </tr>\n    <tr>\n      <th>1</th>\n      <td>102479025168087_499693558822805_1195202924611670</td>\n      <td>Trump's one race theory like that of Hitler is...</td>\n      <td>Jul 31, 2022 1:10:33 AM</td>\n      <td>Neutrals</td>\n    </tr>\n    <tr>\n      <th>2</th>\n      <td>10643211755_10161745802786756_627308188838071</td>\n      <td>Jon C Treleaven Seems right! I believe in pare...</td>\n      <td>Sep 26, 2022 5:17:42 PM</td>\n      <td>Neutrals</td>\n    </tr>\n    <tr>\n      <th>3</th>\n      <td>10643211755_10161748775911756_1235289853921186</td>\n      <td>This happening in my town. We’re having school...</td>\n      <td>Sep 27, 2022 4:23:12 AM</td>\n      <td>Positives</td>\n    </tr>\n    <tr>\n      <th>4</th>\n      <td>101043269988443_687503842734679_3330045383891840</td>\n      <td>The blame for all these perverted lifestyles b...</td>\n      <td>Sep 5, 2022 6:10:30 PM</td>\n      <td>Neutrals</td>\n    </tr>\n  </tbody>\n</table>\n</div>"
     },
     "execution_count": 47,
     "metadata": {},
     "output_type": "execute_result"
    }
   ],
   "source": [
    "data.head()"
   ],
   "metadata": {
    "collapsed": false
   }
  },
  {
   "cell_type": "code",
   "execution_count": 48,
   "outputs": [
    {
     "data": {
      "text/plain": "(150024, 4)"
     },
     "execution_count": 48,
     "metadata": {},
     "output_type": "execute_result"
    }
   ],
   "source": [
    "data.shape"
   ],
   "metadata": {
    "collapsed": false
   }
  },
  {
   "cell_type": "code",
   "execution_count": 49,
   "outputs": [
    {
     "data": {
      "text/plain": "id           object\nraw_text     object\ndate         object\nsentiment    object\ndtype: object"
     },
     "execution_count": 49,
     "metadata": {},
     "output_type": "execute_result"
    }
   ],
   "source": [
    "data.dtypes"
   ],
   "metadata": {
    "collapsed": false
   }
  },
  {
   "cell_type": "markdown",
   "source": [
    "The datatypes are mostly as we would like.\n",
    "We only convert the date attribute from object to date, since we are working with a time series."
   ],
   "metadata": {
    "collapsed": false
   }
  },
  {
   "cell_type": "code",
   "execution_count": 50,
   "outputs": [
    {
     "data": {
      "text/plain": "24"
     },
     "execution_count": 50,
     "metadata": {},
     "output_type": "execute_result"
    }
   ],
   "source": [
    "data['date'].isnull().sum()"
   ],
   "metadata": {
    "collapsed": false
   }
  },
  {
   "cell_type": "markdown",
   "source": [
    "Given that temporal word embeddings heavily rely on dates, we consider the date to be crucial. However, out of the 24 tweets available, some lack a date, so I opt to eliminate those observations from the dataset."
   ],
   "metadata": {
    "collapsed": false
   }
  },
  {
   "cell_type": "code",
   "execution_count": 51,
   "outputs": [],
   "source": [
    "data.dropna(subset=['date'], inplace=True)"
   ],
   "metadata": {
    "collapsed": false
   }
  },
  {
   "cell_type": "code",
   "execution_count": 52,
   "outputs": [],
   "source": [
    "data['date'] =  pd.to_datetime(data['date'])"
   ],
   "metadata": {
    "collapsed": false
   }
  },
  {
   "cell_type": "markdown",
   "source": [
    "Since I focus on the temporal change of words, I chose to sort the observations by date because that makes a manual inspection later on more convenient"
   ],
   "metadata": {
    "collapsed": false
   }
  },
  {
   "cell_type": "code",
   "execution_count": 53,
   "outputs": [],
   "source": [
    "data.sort_values('date', inplace=True);"
   ],
   "metadata": {
    "collapsed": false
   }
  },
  {
   "cell_type": "markdown",
   "source": [
    "The text of the tweets is the main source of information, lets look how many missing values we encounter here"
   ],
   "metadata": {
    "collapsed": false
   }
  },
  {
   "cell_type": "code",
   "execution_count": 54,
   "outputs": [
    {
     "name": "stdout",
     "output_type": "stream",
     "text": [
      "Obsersations with no text: 0\n",
      "Obsersations with empty text: 0\n"
     ]
    }
   ],
   "source": [
    "null_texts = data['raw_text'].isnull().sum()\n",
    "empty_texts = data[data['raw_text'].str.len() < 2].count().iloc[0]\n",
    "print(f\"Obsersations with no text: {null_texts}\")\n",
    "print(f\"Obsersations with empty text: {empty_texts}\")"
   ],
   "metadata": {
    "collapsed": false
   }
  },
  {
   "cell_type": "markdown",
   "source": [
    "Since it is only one observation we can safely remove it to prevent it from causing errors later on."
   ],
   "metadata": {
    "collapsed": false
   }
  },
  {
   "cell_type": "code",
   "execution_count": 55,
   "outputs": [],
   "source": [
    "data.dropna(subset=['raw_text'], inplace=True)"
   ],
   "metadata": {
    "collapsed": false
   }
  },
  {
   "cell_type": "markdown",
   "source": [
    "Now lets take a look at the different attributes. Since the task at hand is a sentiment analysis, we focus on this attribute first"
   ],
   "metadata": {
    "collapsed": false
   }
  },
  {
   "cell_type": "code",
   "execution_count": 56,
   "outputs": [
    {
     "data": {
      "text/plain": "array(['Positives', 'Neutrals', nan, 'Negatives', 'Mixed'], dtype=object)"
     },
     "execution_count": 56,
     "metadata": {},
     "output_type": "execute_result"
    }
   ],
   "source": [
    "data[\"sentiment\"].unique()"
   ],
   "metadata": {
    "collapsed": false
   }
  },
  {
   "cell_type": "markdown",
   "source": [
    "So our target is to predict the sentiment from the text (sound_bite_text).\n",
    "The sentiment is either:\n",
    "\n",
    "- Positive\n",
    "- Negative\n",
    "- Neutral\n",
    "- Mixed"
   ],
   "metadata": {
    "collapsed": false
   }
  },
  {
   "cell_type": "code",
   "execution_count": 57,
   "outputs": [
    {
     "name": "stdout",
     "output_type": "stream",
     "text": [
      "Period of time: ('2022-06-01', '2023-04-28')\n"
     ]
    }
   ],
   "source": [
    "# Get the range of dates\n",
    "period = (data['date'].min(), data['date'].max())\n",
    "\n",
    "# Format the output\n",
    "formatted_range = tuple(date.strftime(\"%Y-%m-%d\") for date in period)\n",
    "print(\"Period of time:\", formatted_range)"
   ],
   "metadata": {
    "collapsed": false
   }
  },
  {
   "cell_type": "markdown",
   "source": [
    "## Text"
   ],
   "metadata": {
    "collapsed": false
   }
  },
  {
   "cell_type": "markdown",
   "source": [
    "### 1. Convert to lowercase"
   ],
   "metadata": {
    "collapsed": false
   }
  },
  {
   "cell_type": "code",
   "execution_count": 58,
   "outputs": [],
   "source": [
    "data[\"text\"] = data[\"raw_text\"].str.lower()\n",
    "\n",
    "# rearrange columns\n",
    "data = data[['id', 'text', \"raw_text\", 'date', 'sentiment']]"
   ],
   "metadata": {
    "collapsed": false
   }
  },
  {
   "cell_type": "markdown",
   "source": [
    "### 2. Remove Unicode Characters"
   ],
   "metadata": {
    "collapsed": false
   }
  },
  {
   "cell_type": "markdown",
   "source": [
    "Eliminate the punctuation, URL, and @"
   ],
   "metadata": {
    "collapsed": false
   }
  },
  {
   "cell_type": "code",
   "execution_count": 59,
   "outputs": [],
   "source": [
    "import re\n",
    "\n",
    "def clean_text(text):\n",
    "\n",
    "    # Removes all of them\n",
    "    text = re.sub(r\"(@\\[A-Za-z0-9]+)|([^0-9A-Za-z \\t])|(\\w+:\\/\\/\\S+)|^rt|http.+?\", \"\", text)\n",
    "\n",
    "    return text"
   ],
   "metadata": {
    "collapsed": false
   }
  },
  {
   "cell_type": "code",
   "execution_count": 60,
   "outputs": [],
   "source": [
    "data[\"text\"] = data[\"text\"].apply(clean_text)"
   ],
   "metadata": {
    "collapsed": false
   }
  },
  {
   "cell_type": "markdown",
   "source": [
    "### 3. Remove Stopwords"
   ],
   "metadata": {
    "collapsed": false
   }
  },
  {
   "cell_type": "code",
   "execution_count": 61,
   "outputs": [
    {
     "name": "stderr",
     "output_type": "stream",
     "text": [
      "[nltk_data] Downloading package punkt to\n",
      "[nltk_data]     /Users/paulschmitt/nltk_data...\n",
      "[nltk_data]   Package punkt is already up-to-date!\n"
     ]
    }
   ],
   "source": [
    "import nltk\n",
    "nltk.download('punkt')\n",
    "\n",
    "def remove_stopwords(text):\n",
    "    from nltk.corpus import stopwords\n",
    "    from nltk.tokenize import word_tokenize\n",
    "\n",
    "    stop_words = set(stopwords.words(\"english\"))\n",
    "    word_tokens = word_tokenize(text)\n",
    "    filtered_text = [word for word in word_tokens if word not in stop_words]\n",
    "    return \" \".join(filtered_text)"
   ],
   "metadata": {
    "collapsed": false
   }
  },
  {
   "cell_type": "code",
   "execution_count": 62,
   "outputs": [],
   "source": [
    "data[\"text\"] = data[\"text\"].apply(remove_stopwords)"
   ],
   "metadata": {
    "collapsed": false
   }
  },
  {
   "cell_type": "markdown",
   "source": [
    "### 4. Stemming"
   ],
   "metadata": {
    "collapsed": false
   }
  },
  {
   "cell_type": "code",
   "execution_count": 63,
   "outputs": [],
   "source": [
    "from nltk.stem import SnowballStemmer\n",
    "from nltk.tokenize import word_tokenize\n",
    "\n",
    "def perform_stemming(text):\n",
    "    stemmer = SnowballStemmer(language = \"english\")\n",
    "    word_tokens = word_tokenize(text)\n",
    "    stemmed_text = [stemmer.stem(word) for word in word_tokens]\n",
    "    return \" \".join(stemmed_text)"
   ],
   "metadata": {
    "collapsed": false
   }
  },
  {
   "cell_type": "code",
   "execution_count": 64,
   "outputs": [],
   "source": [
    "data[\"text\"] = data[\"text\"].apply(perform_stemming)"
   ],
   "metadata": {
    "collapsed": false
   }
  },
  {
   "cell_type": "code",
   "execution_count": 65,
   "outputs": [
    {
     "data": {
      "text/plain": "                                                      id  \\\n9343   https://educationactiontoronto.com/articles/sc...   \n47887  1115616568456201_7946683995349390_112899859794...   \n19611  https://www.natchitochestimes.com/2022/06/01/s...   \n42718                                 BRDRDT2-t1_iau9al6   \n42677                                 BRDRDT2-t1_iau9rdh   \n37354  1115616568456201_7948036835214106_131162148936...   \n18884                                                NaN   \n37309  1115616568456201_7948036835214106_567073701495104   \n41030                                 BRDRDT2-t1_iauajjr   \n31734       95475020353_545516537034360_1350369588773474   \n\n                                                    text  \\\n9343   ford govern lack data back claim school spread...   \n47887  teach hs 1516 get first job everywher hire get...   \n19611  grassroot effort lsba invalu entir state could...   \n42718  yes sever parent right us absolv financi oblig...   \n42677                      let teach crt sex ed gunpoint   \n37354  million thing right never say word god forbid ...   \n18884                                  post delet author   \n37309                                                      \n41030  think want go florida desanti ban crt school w...   \n31734  lisa mari sure guess attack school age childre...   \n\n                                                raw_text                date  \\\n9343   The Ford Government lacked data to back its cl... 2022-06-01 23:00:00   \n47887  I teach HS. They are all 15/16 getting their f... 2022-06-01 23:04:54   \n19611  The grass-roots efforts of the LSBA are invalu... 2022-06-01 23:05:00   \n42718  Yes, you can sever your parental rights in the... 2022-06-01 23:05:35   \n42677        Let's teach CRT and Sex Ed at gunpoint now. 2022-06-01 23:09:11   \n37354  You can do a million things right and they nev... 2022-06-01 23:09:53   \n18884                        Post deleted by the author. 2022-06-01 23:12:20   \n37309                                          This!  ?? 2022-06-01 23:13:54   \n41030  I think they want to go to Florida because DeS... 2022-06-01 23:15:11   \n31734  Lisa Marie not sure but I guess attacking scho... 2022-06-01 23:16:28   \n\n       sentiment  \n9343   Positives  \n47887   Neutrals  \n19611   Neutrals  \n42718   Neutrals  \n42677   Neutrals  \n37354   Neutrals  \n18884        NaN  \n37309   Neutrals  \n41030  Negatives  \n31734   Neutrals  ",
      "text/html": "<div>\n<style scoped>\n    .dataframe tbody tr th:only-of-type {\n        vertical-align: middle;\n    }\n\n    .dataframe tbody tr th {\n        vertical-align: top;\n    }\n\n    .dataframe thead th {\n        text-align: right;\n    }\n</style>\n<table border=\"1\" class=\"dataframe\">\n  <thead>\n    <tr style=\"text-align: right;\">\n      <th></th>\n      <th>id</th>\n      <th>text</th>\n      <th>raw_text</th>\n      <th>date</th>\n      <th>sentiment</th>\n    </tr>\n  </thead>\n  <tbody>\n    <tr>\n      <th>9343</th>\n      <td>https://educationactiontoronto.com/articles/sc...</td>\n      <td>ford govern lack data back claim school spread...</td>\n      <td>The Ford Government lacked data to back its cl...</td>\n      <td>2022-06-01 23:00:00</td>\n      <td>Positives</td>\n    </tr>\n    <tr>\n      <th>47887</th>\n      <td>1115616568456201_7946683995349390_112899859794...</td>\n      <td>teach hs 1516 get first job everywher hire get...</td>\n      <td>I teach HS. They are all 15/16 getting their f...</td>\n      <td>2022-06-01 23:04:54</td>\n      <td>Neutrals</td>\n    </tr>\n    <tr>\n      <th>19611</th>\n      <td>https://www.natchitochestimes.com/2022/06/01/s...</td>\n      <td>grassroot effort lsba invalu entir state could...</td>\n      <td>The grass-roots efforts of the LSBA are invalu...</td>\n      <td>2022-06-01 23:05:00</td>\n      <td>Neutrals</td>\n    </tr>\n    <tr>\n      <th>42718</th>\n      <td>BRDRDT2-t1_iau9al6</td>\n      <td>yes sever parent right us absolv financi oblig...</td>\n      <td>Yes, you can sever your parental rights in the...</td>\n      <td>2022-06-01 23:05:35</td>\n      <td>Neutrals</td>\n    </tr>\n    <tr>\n      <th>42677</th>\n      <td>BRDRDT2-t1_iau9rdh</td>\n      <td>let teach crt sex ed gunpoint</td>\n      <td>Let's teach CRT and Sex Ed at gunpoint now.</td>\n      <td>2022-06-01 23:09:11</td>\n      <td>Neutrals</td>\n    </tr>\n    <tr>\n      <th>37354</th>\n      <td>1115616568456201_7948036835214106_131162148936...</td>\n      <td>million thing right never say word god forbid ...</td>\n      <td>You can do a million things right and they nev...</td>\n      <td>2022-06-01 23:09:53</td>\n      <td>Neutrals</td>\n    </tr>\n    <tr>\n      <th>18884</th>\n      <td>NaN</td>\n      <td>post delet author</td>\n      <td>Post deleted by the author.</td>\n      <td>2022-06-01 23:12:20</td>\n      <td>NaN</td>\n    </tr>\n    <tr>\n      <th>37309</th>\n      <td>1115616568456201_7948036835214106_567073701495104</td>\n      <td></td>\n      <td>This!  ??</td>\n      <td>2022-06-01 23:13:54</td>\n      <td>Neutrals</td>\n    </tr>\n    <tr>\n      <th>41030</th>\n      <td>BRDRDT2-t1_iauajjr</td>\n      <td>think want go florida desanti ban crt school w...</td>\n      <td>I think they want to go to Florida because DeS...</td>\n      <td>2022-06-01 23:15:11</td>\n      <td>Negatives</td>\n    </tr>\n    <tr>\n      <th>31734</th>\n      <td>95475020353_545516537034360_1350369588773474</td>\n      <td>lisa mari sure guess attack school age childre...</td>\n      <td>Lisa Marie not sure but I guess attacking scho...</td>\n      <td>2022-06-01 23:16:28</td>\n      <td>Neutrals</td>\n    </tr>\n  </tbody>\n</table>\n</div>"
     },
     "execution_count": 65,
     "metadata": {},
     "output_type": "execute_result"
    }
   ],
   "source": [
    "data.head(10)"
   ],
   "metadata": {
    "collapsed": false
   }
  },
  {
   "cell_type": "code",
   "execution_count": 66,
   "outputs": [
    {
     "data": {
      "text/plain": "id                   object\ntext                 object\nraw_text             object\ndate         datetime64[ns]\nsentiment            object\ndtype: object"
     },
     "execution_count": 66,
     "metadata": {},
     "output_type": "execute_result"
    }
   ],
   "source": [
    "data.dtypes"
   ],
   "metadata": {
    "collapsed": false
   }
  },
  {
   "cell_type": "markdown",
   "source": [
    "Check if we inadvertently created some Na, Null Values in our (processed) text column"
   ],
   "metadata": {
    "collapsed": false
   }
  },
  {
   "cell_type": "code",
   "execution_count": 67,
   "outputs": [
    {
     "data": {
      "text/plain": "0"
     },
     "execution_count": 67,
     "metadata": {},
     "output_type": "execute_result"
    }
   ],
   "source": [
    "data[\"text\"].isna().sum()"
   ],
   "metadata": {
    "collapsed": false
   }
  },
  {
   "cell_type": "code",
   "execution_count": 68,
   "outputs": [
    {
     "data": {
      "text/plain": "0"
     },
     "execution_count": 68,
     "metadata": {},
     "output_type": "execute_result"
    }
   ],
   "source": [
    "data[\"text\"].isnull().sum()"
   ],
   "metadata": {
    "collapsed": false
   }
  },
  {
   "cell_type": "code",
   "execution_count": 69,
   "outputs": [],
   "source": [
    "def save_to_csv(data, splits: list, sub_dir: str):\n",
    "\n",
    "    output_dir = Path(\"data/split/\") / sub_dir\n",
    "    # Create output directory if it doesn't exist\n",
    "    output_dir.mkdir(parents=True, exist_ok=True)\n",
    "    # range of the observations\n",
    "    lower = data[\"date\"].min()\n",
    "    upper = data[\"date\"].max()\n",
    "\n",
    "    for split in splits:\n",
    "        split_df = data[(lower <= data['date']) & (data['date'] < split)]\n",
    "        split_filename = output_dir / f\"{lower.strftime('%d_%b')}_to_{split.strftime('%d_%b')}.csv\"\n",
    "        # Save the filtered data to csv, overwrite if exists\n",
    "        split_df.to_csv(split_filename, index=False, mode='w')\n",
    "        # Update the lower date for the next iteration\n",
    "        lower = split\n",
    "\n",
    "    # take care of second half of the last split\n",
    "    split_df = data[(lower <= data['date']) & (data['date'] <= upper)]\n",
    "    split_filename = output_dir / f\"{lower.strftime('%d_%b')}_to_{upper.strftime('%d_%b')}.csv\"\n",
    "    split_df.to_csv(split_filename, index=False, mode='w')"
   ],
   "metadata": {
    "collapsed": false
   }
  },
  {
   "cell_type": "code",
   "execution_count": 70,
   "outputs": [],
   "source": [
    "# List of notable events\n",
    "griner_release = pd.Timestamp('2022-10-07')\n",
    "musk_twitter_takeover = pd.Timestamp('2022-10-01')\n",
    "pelosi_attacked = pd.Timestamp(\"2022-10-26\")\n",
    "colorado_springs_shooting = pd.Timestamp(\"2022-11-18\")\n",
    "\n",
    "# did not work\n",
    "word_cup = pd.Timestamp('2022-11-01')\n",
    "seoul_halloween = pd.Timestamp('2022-10-28')"
   ],
   "metadata": {
    "collapsed": false
   }
  },
  {
   "cell_type": "code",
   "execution_count": 71,
   "outputs": [],
   "source": [
    "# ------------------------------------------------------------------ #\n",
    "# ------------------------------------------------------------------ #\n",
    "# ------------------------------------------------------------------ #"
   ],
   "metadata": {
    "collapsed": false
   }
  },
  {
   "cell_type": "code",
   "execution_count": 72,
   "outputs": [],
   "source": [
    "# PARAMS TO MODIFY MANUALLY\n",
    "sub_dir = \"colorado_springs\"\n",
    "splits = [colorado_springs_shooting]\n",
    "\n",
    "save_to_csv(data, splits, sub_dir)"
   ],
   "metadata": {
    "collapsed": false
   }
  },
  {
   "cell_type": "code",
   "execution_count": 72,
   "outputs": [],
   "source": [],
   "metadata": {
    "collapsed": false
   }
  }
 ],
 "metadata": {
  "kernelspec": {
   "display_name": "Python 3",
   "language": "python",
   "name": "python3"
  },
  "language_info": {
   "codemirror_mode": {
    "name": "ipython",
    "version": 2
   },
   "file_extension": ".py",
   "mimetype": "text/x-python",
   "name": "python",
   "nbconvert_exporter": "python",
   "pygments_lexer": "ipython2",
   "version": "2.7.6"
  }
 },
 "nbformat": 4,
 "nbformat_minor": 0
}
