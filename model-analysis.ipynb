{
 "cells": [
  {
   "cell_type": "markdown",
   "metadata": {},
   "source": [
    "# Model Analysis"
   ]
  },
  {
   "cell_type": "code",
   "execution_count": 113,
   "metadata": {},
   "outputs": [],
   "source": [
    "from glob import glob\n",
    "from pathlib import Path\n",
    "import scipy.sparse as sp\n",
    "from tqdm.notebook import tqdm\n",
    "from gensim.models.word2vec import Word2Vec\n",
    "from packages.TPPMI.ppmi_model import PPMIModel\n",
    "from packages.TPPMI.tppmi_model import TPPMIModel\n",
    "\n",
    "from embedding_visualization import plot_temporal_changing_embedding, \\\n",
    "    plot_cosine_similarity, plot_word_vectors_tppmi, plot_cosine_similarity_tppmi"
   ]
  },
  {
   "cell_type": "markdown",
   "metadata": {},
   "source": [
    "## Cade"
   ]
  },
  {
   "cell_type": "code",
   "execution_count": 114,
   "metadata": {},
   "outputs": [],
   "source": [
    "model_path = Path(\"model/\")\n",
    "ppmi_path = Path(f\"data/ppmi-matrices\")"
   ]
  },
  {
   "cell_type": "code",
   "execution_count": 115,
   "metadata": {},
   "outputs": [],
   "source": [
    "model_static = Word2Vec.load(str(model_path / \"static/word2vec.model\"))"
   ]
  },
  {
   "cell_type": "code",
   "execution_count": 116,
   "metadata": {},
   "outputs": [],
   "source": [
    "def print_most_similar_cade(models, target_word, top_n=3):\n",
    "    print(f\"Word: {target_word}\")\n",
    "    for key, value in models.items():\n",
    "        print(f\"Month: {key.split('_')[1].capitalize()}\")\n",
    "        try:\n",
    "            print(value.wv.most_similar(target_word, topn=top_n))\n",
    "        except KeyError:\n",
    "            print(f\"{target_word} not in vocab\")\n",
    "        print(\"--------------------------------\")"
   ]
  },
  {
   "cell_type": "markdown",
   "metadata": {},
   "source": [
    "## Load models for months"
   ]
  },
  {
   "cell_type": "markdown",
   "metadata": {},
   "source": [
    "### Cade"
   ]
  },
  {
   "cell_type": "code",
   "execution_count": 117,
   "metadata": {},
   "outputs": [],
   "source": [
    "model_path_monthly = model_path / \"monthly\"\n",
    "model_filenames = glob(str(model_path_monthly / \"*.model\"))"
   ]
  },
  {
   "cell_type": "code",
   "execution_count": 118,
   "metadata": {},
   "outputs": [
    {
     "data": {
      "text/plain": "  0%|          | 0/11 [00:00<?, ?it/s]",
      "application/vnd.jupyter.widget-view+json": {
       "version_major": 2,
       "version_minor": 0,
       "model_id": "c1a42ba4bd104cf591a48471a1d4001e"
      }
     },
     "metadata": {},
     "output_type": "display_data"
    }
   ],
   "source": [
    "models_monthly = {f\"model_{model_file.split('_')[1][0:3].lower()}\":Word2Vec.load(model_file) for model_file in tqdm(model_filenames)}"
   ]
  },
  {
   "cell_type": "code",
   "execution_count": 119,
   "metadata": {},
   "outputs": [
    {
     "data": {
      "text/plain": "dict_keys(['model_sep', 'model_jan', 'model_dec', 'model_jul', 'model_oct', 'model_jun', 'model_aug', 'model_mar', 'model_nov', 'model_feb', 'model_apr'])"
     },
     "execution_count": 119,
     "metadata": {},
     "output_type": "execute_result"
    }
   ],
   "source": [
    "models_monthly.keys()"
   ]
  },
  {
   "cell_type": "markdown",
   "metadata": {},
   "source": [
    "Order the models"
   ]
  },
  {
   "cell_type": "code",
   "execution_count": 120,
   "metadata": {},
   "outputs": [],
   "source": [
    "order = ['jun', 'jul', 'aug', 'sep', 'oct', 'nov', 'dec', 'jan', 'feb', 'mar', 'apr']\n",
    "month_codes = {\"jun\": 6, \"jul\": 7, \"aug\": 8, \"sep\": 9, \"oct\": 10, \"nov\": 11, \"dec\": 12, \"jan\": 1, \"feb\": 2, \"mar\": 3, \"apr\": 4}\n",
    "\n",
    "# Sort the keys based on the desired month order\n",
    "sorted_keys = sorted(models_monthly.keys(), key=lambda x: order.index(x.split('_')[1]))\n",
    "\n",
    "# Create a sorted dictionary using a dictionary comprehension\n",
    "models_monthly = {key: models_monthly[key] for key in sorted_keys}"
   ]
  },
  {
   "cell_type": "markdown",
   "metadata": {},
   "source": [
    "### TPPMI"
   ]
  },
  {
   "cell_type": "code",
   "execution_count": 121,
   "metadata": {},
   "outputs": [],
   "source": [
    "# Get names of the files\n",
    "ppmi_data_filenames = sorted(glob(str(ppmi_path / \"*.npz\"))) # contains ppmi data\n",
    "ppmi_vocab_filenames = sorted(glob(str(ppmi_path / \"*.pkl\"))) # contains vocab (column- and rownames)"
   ]
  },
  {
   "cell_type": "code",
   "execution_count": 122,
   "metadata": {},
   "outputs": [],
   "source": [
    "import pickle\n",
    "\n",
    "ppmi_matrices = {}\n",
    "\n",
    "for filenames in zip(ppmi_vocab_filenames, ppmi_data_filenames):\n",
    "    ppmi_matrix = sp.load_npz(filenames[1])\n",
    "    with open(filenames[0], \"rb\") as f:\n",
    "        vocab = pickle.load(f)\n",
    "    key = filenames[0].split(\"ppmi-\")[2][0:2]\n",
    "    ppmi_matrices[key] = {\"ppmi_matrix\" : ppmi_matrix, \"vocab\": vocab}"
   ]
  },
  {
   "cell_type": "code",
   "execution_count": 89,
   "metadata": {},
   "outputs": [
    {
     "data": {
      "text/plain": "dict_keys(['01', '02', '03', '04', '06', '07', '08', '09', '10', '11', '12'])"
     },
     "execution_count": 89,
     "metadata": {},
     "output_type": "execute_result"
    }
   ],
   "source": [
    "ppmi_matrices.keys()"
   ]
  },
  {
   "cell_type": "markdown",
   "metadata": {},
   "source": [
    "Create ppmi_model objects"
   ]
  },
  {
   "cell_type": "code",
   "execution_count": 90,
   "metadata": {},
   "outputs": [],
   "source": [
    "ppmi_models = {key: PPMIModel.construct_from_data(ppmi_data[\"ppmi_matrix\"], ppmi_data[\"vocab\"]) for key, ppmi_data in ppmi_matrices.items()}"
   ]
  },
  {
   "cell_type": "code",
   "execution_count": 91,
   "metadata": {},
   "outputs": [],
   "source": [
    "tppmi_model = TPPMIModel(ppmi_models)"
   ]
  },
  {
   "cell_type": "code",
   "execution_count": 92,
   "metadata": {},
   "outputs": [
    {
     "name": "stdout",
     "output_type": "stream",
     "text": [
      "Size of the vocabulary: 26301\n"
     ]
    }
   ],
   "source": [
    "print(f\"Size of the vocabulary: {tppmi_model.get_vocabulary_size()}\")"
   ]
  },
  {
   "cell_type": "markdown",
   "metadata": {},
   "source": [
    "## Release of Brittney Griner"
   ]
  },
  {
   "cell_type": "markdown",
   "metadata": {},
   "source": [
    "### Overview"
   ]
  },
  {
   "cell_type": "markdown",
   "metadata": {},
   "source": [
    "On December 8, 2022, Russia and the United States conducted a prisoner exchange, trading Brittney Griner, an American basketball player, for Viktor Bout, a Russian arms dealer. Griner, a WNBA champion star and Team USA Olympic athlete, had been convicted of smuggling and possession of cannabis in Russia earlier in 2022 and sentenced to nine years in prison.\n",
    "\n",
    "Source: [Wikipedia article](https://en.wikipedia.org/wiki/Viktor_Bout%E2%80%93Brittney_Griner_prisoner_exchange)"
   ]
  },
  {
   "cell_type": "code",
   "execution_count": 93,
   "metadata": {},
   "outputs": [],
   "source": [
    "target_word_griner = \"brittney\""
   ]
  },
  {
   "cell_type": "code",
   "execution_count": 94,
   "metadata": {},
   "outputs": [],
   "source": [
    "selected_months_griner = [\"sep\", \"oct\", \"nov\", \"dec\", \"jan\"]\n",
    "selected_models_monthly_griner = {f\"model_{month}\": models_monthly[f\"model_{month}\"] for month in selected_months_griner}"
   ]
  },
  {
   "cell_type": "code",
   "execution_count": 95,
   "metadata": {},
   "outputs": [],
   "source": [
    "title_griner = f\"Evolution of the word {target_word_griner} over time\"\n",
    "subtitle_griner = f\"Period: {' - '.join([month.capitalize() for month in selected_months_griner])}\""
   ]
  },
  {
   "cell_type": "code",
   "execution_count": 96,
   "metadata": {},
   "outputs": [
    {
     "name": "stdout",
     "output_type": "stream",
     "text": [
      "Word: brittney\n",
      "Month: Sep\n",
      "[('jaclyn', 0.9803666472434998), ('arnett', 0.9777289628982544), ('chennai', 0.9769172668457031)]\n",
      "--------------------------------\n",
      "Month: Oct\n",
      "[('bostonstudentsliam', 0.9941439628601074), ('singlecylinder', 0.9926655292510986), ('gelokkig', 0.9920217990875244)]\n",
      "--------------------------------\n",
      "Month: Nov\n",
      "[('griner', 0.9780523777008057), ('tuy', 0.9757772088050842), ('devere', 0.9645636081695557)]\n",
      "--------------------------------\n",
      "Month: Dec\n",
      "[('zac', 0.9810552597045898), ('bennett', 0.9806931614875793), ('incorrigible', 0.9793301820755005)]\n",
      "--------------------------------\n",
      "Month: Jan\n",
      "[('harvards', 0.984215259552002), ('manguel', 0.9824919104576111), ('baldwin', 0.976431667804718)]\n",
      "--------------------------------\n"
     ]
    }
   ],
   "source": [
    "print_most_similar_cade(selected_models_monthly_griner, target_word_griner, top_n=3)"
   ]
  },
  {
   "cell_type": "markdown",
   "metadata": {},
   "source": [
    "#### CADE"
   ]
  },
  {
   "cell_type": "markdown",
   "metadata": {},
   "source": [
    "### Temporally changing embeddings"
   ]
  },
  {
   "cell_type": "code",
   "execution_count": 97,
   "metadata": {},
   "outputs": [
    {
     "data": {
      "text/html": "        <script type=\"text/javascript\">\n        window.PlotlyConfig = {MathJaxConfig: 'local'};\n        if (window.MathJax && window.MathJax.Hub && window.MathJax.Hub.Config) {window.MathJax.Hub.Config({SVG: {font: \"STIX-Web\"}});}\n        if (typeof require !== 'undefined') {\n        require.undef(\"plotly\");\n        requirejs.config({\n            paths: {\n                'plotly': ['https://cdn.plot.ly/plotly-2.25.2.min']\n            }\n        });\n        require(['plotly'], function(Plotly) {\n            window._Plotly = Plotly;\n        });\n        }\n        </script>\n        "
     },
     "metadata": {},
     "output_type": "display_data"
    },
    {
     "data": {
      "application/vnd.plotly.v1+json": {
       "data": [
        {
         "marker": {
          "color": "black"
         },
         "mode": "markers+text",
         "text": [
          "jaclyn"
         ],
         "textfont": {
          "color": "black"
         },
         "textposition": "top center",
         "x": [
          -0.09283213317394257
         ],
         "y": [
          -0.05129652097821236
         ],
         "type": "scatter"
        },
        {
         "marker": {
          "color": "black"
         },
         "mode": "markers+text",
         "text": [
          "arnett"
         ],
         "textfont": {
          "color": "black"
         },
         "textposition": "top center",
         "x": [
          0.18593217432498932
         ],
         "y": [
          -0.0435628704726696
         ],
         "type": "scatter"
        },
        {
         "marker": {
          "color": "black"
         },
         "mode": "markers+text",
         "text": [
          "chennai"
         ],
         "textfont": {
          "color": "black"
         },
         "textposition": "top center",
         "x": [
          0.03693264350295067
         ],
         "y": [
          0.09386738389730453
         ],
         "type": "scatter"
        },
        {
         "marker": {
          "color": "red"
         },
         "mode": "markers+text",
         "text": [
          "brittney_sep"
         ],
         "textfont": {
          "color": "red"
         },
         "textposition": "top center",
         "x": [
          -0.13003264367580414
         ],
         "y": [
          9.920465527102351E-4
         ],
         "type": "scatter"
        },
        {
         "marker": {
          "color": "black"
         },
         "mode": "markers+text",
         "text": [
          "bostonstudentsliam"
         ],
         "textfont": {
          "color": "black"
         },
         "textposition": "top center",
         "x": [
          -0.07594247162342072
         ],
         "y": [
          0.05026555061340332
         ],
         "type": "scatter"
        },
        {
         "marker": {
          "color": "black"
         },
         "mode": "markers+text",
         "text": [
          "singlecylinder"
         ],
         "textfont": {
          "color": "black"
         },
         "textposition": "top center",
         "x": [
          -0.15442609786987305
         ],
         "y": [
          -0.04041159525513649
         ],
         "type": "scatter"
        },
        {
         "marker": {
          "color": "black"
         },
         "mode": "markers+text",
         "text": [
          "gelokkig"
         ],
         "textfont": {
          "color": "black"
         },
         "textposition": "top center",
         "x": [
          0.16493256390094757
         ],
         "y": [
          -0.01787511259317398
         ],
         "type": "scatter"
        },
        {
         "marker": {
          "color": "red"
         },
         "mode": "markers+text",
         "text": [
          "brittney_oct"
         ],
         "textfont": {
          "color": "red"
         },
         "textposition": "top center",
         "x": [
          0.06543605774641037
         ],
         "y": [
          0.008021188899874687
         ],
         "type": "scatter"
        },
        {
         "marker": {
          "color": "black"
         },
         "mode": "markers+text",
         "text": [
          "griner"
         ],
         "textfont": {
          "color": "black"
         },
         "textposition": "top center",
         "x": [
          0.16677148640155792
         ],
         "y": [
          0.11753369867801666
         ],
         "type": "scatter"
        },
        {
         "marker": {
          "color": "black"
         },
         "mode": "markers+text",
         "text": [
          "tuy"
         ],
         "textfont": {
          "color": "black"
         },
         "textposition": "top center",
         "x": [
          -0.17549040913581848
         ],
         "y": [
          -0.041481051594018936
         ],
         "type": "scatter"
        },
        {
         "marker": {
          "color": "black"
         },
         "mode": "markers+text",
         "text": [
          "devere"
         ],
         "textfont": {
          "color": "black"
         },
         "textposition": "top center",
         "x": [
          -0.28326907753944397
         ],
         "y": [
          0.00812563393265009
         ],
         "type": "scatter"
        },
        {
         "marker": {
          "color": "red"
         },
         "mode": "markers+text",
         "text": [
          "brittney_nov"
         ],
         "textfont": {
          "color": "red"
         },
         "textposition": "top center",
         "x": [
          0.29198795557022095
         ],
         "y": [
          -0.08417830616235733
         ],
         "type": "scatter"
        },
        {
         "marker": {
          "color": "black"
         },
         "mode": "markers+text",
         "text": [
          "zac"
         ],
         "textfont": {
          "color": "black"
         },
         "textposition": "top center",
         "x": [
          -0.20682114362716675
         ],
         "y": [
          0.019817259162664413
         ],
         "type": "scatter"
        },
        {
         "marker": {
          "color": "black"
         },
         "mode": "markers+text",
         "text": [
          "bennett"
         ],
         "textfont": {
          "color": "black"
         },
         "textposition": "top center",
         "x": [
          0.22503463923931122
         ],
         "y": [
          -0.09624944627285004
         ],
         "type": "scatter"
        },
        {
         "marker": {
          "color": "black"
         },
         "mode": "markers+text",
         "text": [
          "incorrigible"
         ],
         "textfont": {
          "color": "black"
         },
         "textposition": "top center",
         "x": [
          -0.20411495864391327
         ],
         "y": [
          -0.029612191021442413
         ],
         "type": "scatter"
        },
        {
         "marker": {
          "color": "red"
         },
         "mode": "markers+text",
         "text": [
          "brittney_dec"
         ],
         "textfont": {
          "color": "red"
         },
         "textposition": "top center",
         "x": [
          0.18590141832828522
         ],
         "y": [
          0.10604435950517654
         ],
         "type": "scatter"
        },
        {
         "marker": {
          "color": "black"
         },
         "mode": "markers+text",
         "text": [
          "harvards"
         ],
         "textfont": {
          "color": "black"
         },
         "textposition": "top center",
         "x": [
          -0.2724393904209137
         ],
         "y": [
          -0.09128320962190628
         ],
         "type": "scatter"
        },
        {
         "marker": {
          "color": "black"
         },
         "mode": "markers+text",
         "text": [
          "manguel"
         ],
         "textfont": {
          "color": "black"
         },
         "textposition": "top center",
         "x": [
          -0.12965114414691925
         ],
         "y": [
          0.04801270365715027
         ],
         "type": "scatter"
        },
        {
         "marker": {
          "color": "black"
         },
         "mode": "markers+text",
         "text": [
          "baldwin"
         ],
         "textfont": {
          "color": "black"
         },
         "textposition": "top center",
         "x": [
          0.3775027394294739
         ],
         "y": [
          -0.055843986570835114
         ],
         "type": "scatter"
        },
        {
         "marker": {
          "color": "red"
         },
         "mode": "markers+text",
         "text": [
          "brittney_jan"
         ],
         "textfont": {
          "color": "red"
         },
         "textposition": "top center",
         "x": [
          0.02458786778151989
         ],
         "y": [
          0.09911444038152695
         ],
         "type": "scatter"
        },
        {
         "marker": {
          "color": "red",
          "size": 10,
          "symbol": "diamond"
         },
         "mode": "markers",
         "x": [
          -0.13003264367580414
         ],
         "y": [
          9.920465527102351E-4
         ],
         "type": "scatter"
        },
        {
         "line": {
          "color": "red"
         },
         "mode": "lines",
         "x": [
          -0.13003264367580414,
          0.06543605774641037
         ],
         "y": [
          9.920465527102351E-4,
          0.008021188899874687
         ],
         "type": "scatter"
        },
        {
         "line": {
          "color": "red"
         },
         "mode": "lines",
         "x": [
          0.06543605774641037,
          0.29198795557022095
         ],
         "y": [
          0.008021188899874687,
          -0.08417830616235733
         ],
         "type": "scatter"
        },
        {
         "line": {
          "color": "red"
         },
         "mode": "lines",
         "x": [
          0.29198795557022095,
          0.18590141832828522
         ],
         "y": [
          -0.08417830616235733,
          0.10604435950517654
         ],
         "type": "scatter"
        },
        {
         "line": {
          "color": "red"
         },
         "mode": "lines",
         "x": [
          0.18590141832828522,
          0.02458786778151989
         ],
         "y": [
          0.10604435950517654,
          0.09911444038152695
         ],
         "type": "scatter"
        }
       ],
       "layout": {
        "annotations": [
         {
          "showarrow": false,
          "text": "Period: Sep - Oct - Nov - Dec - Jan",
          "x": 0.5,
          "xref": "paper",
          "y": 1.08,
          "yref": "paper"
         }
        ],
        "showlegend": false,
        "template": {
         "data": {
          "barpolar": [
           {
            "marker": {
             "line": {
              "color": "#E5ECF6",
              "width": 0.5
             },
             "pattern": {
              "fillmode": "overlay",
              "size": 10,
              "solidity": 0.2
             }
            },
            "type": "barpolar"
           }
          ],
          "bar": [
           {
            "error_x": {
             "color": "#2a3f5f"
            },
            "error_y": {
             "color": "#2a3f5f"
            },
            "marker": {
             "line": {
              "color": "#E5ECF6",
              "width": 0.5
             },
             "pattern": {
              "fillmode": "overlay",
              "size": 10,
              "solidity": 0.2
             }
            },
            "type": "bar"
           }
          ],
          "carpet": [
           {
            "aaxis": {
             "endlinecolor": "#2a3f5f",
             "gridcolor": "white",
             "linecolor": "white",
             "minorgridcolor": "white",
             "startlinecolor": "#2a3f5f"
            },
            "baxis": {
             "endlinecolor": "#2a3f5f",
             "gridcolor": "white",
             "linecolor": "white",
             "minorgridcolor": "white",
             "startlinecolor": "#2a3f5f"
            },
            "type": "carpet"
           }
          ],
          "choropleth": [
           {
            "colorbar": {
             "outlinewidth": 0,
             "ticks": ""
            },
            "type": "choropleth"
           }
          ],
          "contourcarpet": [
           {
            "colorbar": {
             "outlinewidth": 0,
             "ticks": ""
            },
            "type": "contourcarpet"
           }
          ],
          "contour": [
           {
            "colorbar": {
             "outlinewidth": 0,
             "ticks": ""
            },
            "colorscale": [
             [
              0.0,
              "#0d0887"
             ],
             [
              0.1111111111111111,
              "#46039f"
             ],
             [
              0.2222222222222222,
              "#7201a8"
             ],
             [
              0.3333333333333333,
              "#9c179e"
             ],
             [
              0.4444444444444444,
              "#bd3786"
             ],
             [
              0.5555555555555556,
              "#d8576b"
             ],
             [
              0.6666666666666666,
              "#ed7953"
             ],
             [
              0.7777777777777778,
              "#fb9f3a"
             ],
             [
              0.8888888888888888,
              "#fdca26"
             ],
             [
              1.0,
              "#f0f921"
             ]
            ],
            "type": "contour"
           }
          ],
          "heatmapgl": [
           {
            "colorbar": {
             "outlinewidth": 0,
             "ticks": ""
            },
            "colorscale": [
             [
              0.0,
              "#0d0887"
             ],
             [
              0.1111111111111111,
              "#46039f"
             ],
             [
              0.2222222222222222,
              "#7201a8"
             ],
             [
              0.3333333333333333,
              "#9c179e"
             ],
             [
              0.4444444444444444,
              "#bd3786"
             ],
             [
              0.5555555555555556,
              "#d8576b"
             ],
             [
              0.6666666666666666,
              "#ed7953"
             ],
             [
              0.7777777777777778,
              "#fb9f3a"
             ],
             [
              0.8888888888888888,
              "#fdca26"
             ],
             [
              1.0,
              "#f0f921"
             ]
            ],
            "type": "heatmapgl"
           }
          ],
          "heatmap": [
           {
            "colorbar": {
             "outlinewidth": 0,
             "ticks": ""
            },
            "colorscale": [
             [
              0.0,
              "#0d0887"
             ],
             [
              0.1111111111111111,
              "#46039f"
             ],
             [
              0.2222222222222222,
              "#7201a8"
             ],
             [
              0.3333333333333333,
              "#9c179e"
             ],
             [
              0.4444444444444444,
              "#bd3786"
             ],
             [
              0.5555555555555556,
              "#d8576b"
             ],
             [
              0.6666666666666666,
              "#ed7953"
             ],
             [
              0.7777777777777778,
              "#fb9f3a"
             ],
             [
              0.8888888888888888,
              "#fdca26"
             ],
             [
              1.0,
              "#f0f921"
             ]
            ],
            "type": "heatmap"
           }
          ],
          "histogram2dcontour": [
           {
            "colorbar": {
             "outlinewidth": 0,
             "ticks": ""
            },
            "colorscale": [
             [
              0.0,
              "#0d0887"
             ],
             [
              0.1111111111111111,
              "#46039f"
             ],
             [
              0.2222222222222222,
              "#7201a8"
             ],
             [
              0.3333333333333333,
              "#9c179e"
             ],
             [
              0.4444444444444444,
              "#bd3786"
             ],
             [
              0.5555555555555556,
              "#d8576b"
             ],
             [
              0.6666666666666666,
              "#ed7953"
             ],
             [
              0.7777777777777778,
              "#fb9f3a"
             ],
             [
              0.8888888888888888,
              "#fdca26"
             ],
             [
              1.0,
              "#f0f921"
             ]
            ],
            "type": "histogram2dcontour"
           }
          ],
          "histogram2d": [
           {
            "colorbar": {
             "outlinewidth": 0,
             "ticks": ""
            },
            "colorscale": [
             [
              0.0,
              "#0d0887"
             ],
             [
              0.1111111111111111,
              "#46039f"
             ],
             [
              0.2222222222222222,
              "#7201a8"
             ],
             [
              0.3333333333333333,
              "#9c179e"
             ],
             [
              0.4444444444444444,
              "#bd3786"
             ],
             [
              0.5555555555555556,
              "#d8576b"
             ],
             [
              0.6666666666666666,
              "#ed7953"
             ],
             [
              0.7777777777777778,
              "#fb9f3a"
             ],
             [
              0.8888888888888888,
              "#fdca26"
             ],
             [
              1.0,
              "#f0f921"
             ]
            ],
            "type": "histogram2d"
           }
          ],
          "histogram": [
           {
            "marker": {
             "pattern": {
              "fillmode": "overlay",
              "size": 10,
              "solidity": 0.2
             }
            },
            "type": "histogram"
           }
          ],
          "mesh3d": [
           {
            "colorbar": {
             "outlinewidth": 0,
             "ticks": ""
            },
            "type": "mesh3d"
           }
          ],
          "parcoords": [
           {
            "line": {
             "colorbar": {
              "outlinewidth": 0,
              "ticks": ""
             }
            },
            "type": "parcoords"
           }
          ],
          "pie": [
           {
            "automargin": true,
            "type": "pie"
           }
          ],
          "scatter3d": [
           {
            "line": {
             "colorbar": {
              "outlinewidth": 0,
              "ticks": ""
             }
            },
            "marker": {
             "colorbar": {
              "outlinewidth": 0,
              "ticks": ""
             }
            },
            "type": "scatter3d"
           }
          ],
          "scattercarpet": [
           {
            "marker": {
             "colorbar": {
              "outlinewidth": 0,
              "ticks": ""
             }
            },
            "type": "scattercarpet"
           }
          ],
          "scattergeo": [
           {
            "marker": {
             "colorbar": {
              "outlinewidth": 0,
              "ticks": ""
             }
            },
            "type": "scattergeo"
           }
          ],
          "scattergl": [
           {
            "marker": {
             "colorbar": {
              "outlinewidth": 0,
              "ticks": ""
             }
            },
            "type": "scattergl"
           }
          ],
          "scattermapbox": [
           {
            "marker": {
             "colorbar": {
              "outlinewidth": 0,
              "ticks": ""
             }
            },
            "type": "scattermapbox"
           }
          ],
          "scatterpolargl": [
           {
            "marker": {
             "colorbar": {
              "outlinewidth": 0,
              "ticks": ""
             }
            },
            "type": "scatterpolargl"
           }
          ],
          "scatterpolar": [
           {
            "marker": {
             "colorbar": {
              "outlinewidth": 0,
              "ticks": ""
             }
            },
            "type": "scatterpolar"
           }
          ],
          "scatter": [
           {
            "fillpattern": {
             "fillmode": "overlay",
             "size": 10,
             "solidity": 0.2
            },
            "type": "scatter"
           }
          ],
          "scatterternary": [
           {
            "marker": {
             "colorbar": {
              "outlinewidth": 0,
              "ticks": ""
             }
            },
            "type": "scatterternary"
           }
          ],
          "surface": [
           {
            "colorbar": {
             "outlinewidth": 0,
             "ticks": ""
            },
            "colorscale": [
             [
              0.0,
              "#0d0887"
             ],
             [
              0.1111111111111111,
              "#46039f"
             ],
             [
              0.2222222222222222,
              "#7201a8"
             ],
             [
              0.3333333333333333,
              "#9c179e"
             ],
             [
              0.4444444444444444,
              "#bd3786"
             ],
             [
              0.5555555555555556,
              "#d8576b"
             ],
             [
              0.6666666666666666,
              "#ed7953"
             ],
             [
              0.7777777777777778,
              "#fb9f3a"
             ],
             [
              0.8888888888888888,
              "#fdca26"
             ],
             [
              1.0,
              "#f0f921"
             ]
            ],
            "type": "surface"
           }
          ],
          "table": [
           {
            "cells": {
             "fill": {
              "color": "#EBF0F8"
             },
             "line": {
              "color": "white"
             }
            },
            "header": {
             "fill": {
              "color": "#C8D4E3"
             },
             "line": {
              "color": "white"
             }
            },
            "type": "table"
           }
          ]
         },
         "layout": {
          "annotationdefaults": {
           "arrowcolor": "#2a3f5f",
           "arrowhead": 0,
           "arrowwidth": 1
          },
          "autotypenumbers": "strict",
          "coloraxis": {
           "colorbar": {
            "outlinewidth": 0,
            "ticks": ""
           }
          },
          "colorscale": {
           "diverging": [
            [
             0,
             "#8e0152"
            ],
            [
             0.1,
             "#c51b7d"
            ],
            [
             0.2,
             "#de77ae"
            ],
            [
             0.3,
             "#f1b6da"
            ],
            [
             0.4,
             "#fde0ef"
            ],
            [
             0.5,
             "#f7f7f7"
            ],
            [
             0.6,
             "#e6f5d0"
            ],
            [
             0.7,
             "#b8e186"
            ],
            [
             0.8,
             "#7fbc41"
            ],
            [
             0.9,
             "#4d9221"
            ],
            [
             1,
             "#276419"
            ]
           ],
           "sequential": [
            [
             0.0,
             "#0d0887"
            ],
            [
             0.1111111111111111,
             "#46039f"
            ],
            [
             0.2222222222222222,
             "#7201a8"
            ],
            [
             0.3333333333333333,
             "#9c179e"
            ],
            [
             0.4444444444444444,
             "#bd3786"
            ],
            [
             0.5555555555555556,
             "#d8576b"
            ],
            [
             0.6666666666666666,
             "#ed7953"
            ],
            [
             0.7777777777777778,
             "#fb9f3a"
            ],
            [
             0.8888888888888888,
             "#fdca26"
            ],
            [
             1.0,
             "#f0f921"
            ]
           ],
           "sequentialminus": [
            [
             0.0,
             "#0d0887"
            ],
            [
             0.1111111111111111,
             "#46039f"
            ],
            [
             0.2222222222222222,
             "#7201a8"
            ],
            [
             0.3333333333333333,
             "#9c179e"
            ],
            [
             0.4444444444444444,
             "#bd3786"
            ],
            [
             0.5555555555555556,
             "#d8576b"
            ],
            [
             0.6666666666666666,
             "#ed7953"
            ],
            [
             0.7777777777777778,
             "#fb9f3a"
            ],
            [
             0.8888888888888888,
             "#fdca26"
            ],
            [
             1.0,
             "#f0f921"
            ]
           ]
          },
          "colorway": [
           "#636efa",
           "#EF553B",
           "#00cc96",
           "#ab63fa",
           "#FFA15A",
           "#19d3f3",
           "#FF6692",
           "#B6E880",
           "#FF97FF",
           "#FECB52"
          ],
          "font": {
           "color": "#2a3f5f"
          },
          "geo": {
           "bgcolor": "white",
           "lakecolor": "white",
           "landcolor": "#E5ECF6",
           "showlakes": true,
           "showland": true,
           "subunitcolor": "white"
          },
          "hoverlabel": {
           "align": "left"
          },
          "hovermode": "closest",
          "mapbox": {
           "style": "light"
          },
          "paper_bgcolor": "white",
          "plot_bgcolor": "#E5ECF6",
          "polar": {
           "angularaxis": {
            "gridcolor": "white",
            "linecolor": "white",
            "ticks": ""
           },
           "bgcolor": "#E5ECF6",
           "radialaxis": {
            "gridcolor": "white",
            "linecolor": "white",
            "ticks": ""
           }
          },
          "scene": {
           "xaxis": {
            "backgroundcolor": "#E5ECF6",
            "gridcolor": "white",
            "gridwidth": 2,
            "linecolor": "white",
            "showbackground": true,
            "ticks": "",
            "zerolinecolor": "white"
           },
           "yaxis": {
            "backgroundcolor": "#E5ECF6",
            "gridcolor": "white",
            "gridwidth": 2,
            "linecolor": "white",
            "showbackground": true,
            "ticks": "",
            "zerolinecolor": "white"
           },
           "zaxis": {
            "backgroundcolor": "#E5ECF6",
            "gridcolor": "white",
            "gridwidth": 2,
            "linecolor": "white",
            "showbackground": true,
            "ticks": "",
            "zerolinecolor": "white"
           }
          },
          "shapedefaults": {
           "line": {
            "color": "#2a3f5f"
           }
          },
          "ternary": {
           "aaxis": {
            "gridcolor": "white",
            "linecolor": "white",
            "ticks": ""
           },
           "baxis": {
            "gridcolor": "white",
            "linecolor": "white",
            "ticks": ""
           },
           "bgcolor": "#E5ECF6",
           "caxis": {
            "gridcolor": "white",
            "linecolor": "white",
            "ticks": ""
           }
          },
          "title": {
           "x": 0.05
          },
          "xaxis": {
           "automargin": true,
           "gridcolor": "white",
           "linecolor": "white",
           "ticks": "",
           "title": {
            "standoff": 15
           },
           "zerolinecolor": "white",
           "zerolinewidth": 2
          },
          "yaxis": {
           "automargin": true,
           "gridcolor": "white",
           "linecolor": "white",
           "ticks": "",
           "title": {
            "standoff": 15
           },
           "zerolinecolor": "white",
           "zerolinewidth": 2
          }
         }
        },
        "title": {
         "font": {
          "size": 22
         },
         "text": "Evolution of the word brittney over time",
         "x": 0.5
        },
        "xaxis": {
         "title": {
          "text": "X"
         }
        },
        "yaxis": {
         "title": {
          "text": "Y"
         }
        }
       },
       "config": {
        "showLink": false,
        "linkText": "Export to plot.ly",
        "plotlyServerURL": "https://plot.ly"
       }
      },
      "text/html": "<div>                            <div id=\"b4a8ee1b-380c-4a60-8ebc-f02f55a24b4b\" class=\"plotly-graph-div\" style=\"height:525px; width:100%;\"></div>            <script type=\"text/javascript\">                require([\"plotly\"], function(Plotly) {                    window.PLOTLYENV=window.PLOTLYENV || {};                                    if (document.getElementById(\"b4a8ee1b-380c-4a60-8ebc-f02f55a24b4b\")) {                    Plotly.newPlot(                        \"b4a8ee1b-380c-4a60-8ebc-f02f55a24b4b\",                        [{\"marker\":{\"color\":\"black\"},\"mode\":\"markers+text\",\"text\":[\"jaclyn\"],\"textfont\":{\"color\":\"black\"},\"textposition\":\"top center\",\"x\":[-0.09283213317394257],\"y\":[-0.05129652097821236],\"type\":\"scatter\"},{\"marker\":{\"color\":\"black\"},\"mode\":\"markers+text\",\"text\":[\"arnett\"],\"textfont\":{\"color\":\"black\"},\"textposition\":\"top center\",\"x\":[0.18593217432498932],\"y\":[-0.0435628704726696],\"type\":\"scatter\"},{\"marker\":{\"color\":\"black\"},\"mode\":\"markers+text\",\"text\":[\"chennai\"],\"textfont\":{\"color\":\"black\"},\"textposition\":\"top center\",\"x\":[0.03693264350295067],\"y\":[0.09386738389730453],\"type\":\"scatter\"},{\"marker\":{\"color\":\"red\"},\"mode\":\"markers+text\",\"text\":[\"brittney_sep\"],\"textfont\":{\"color\":\"red\"},\"textposition\":\"top center\",\"x\":[-0.13003264367580414],\"y\":[0.0009920465527102351],\"type\":\"scatter\"},{\"marker\":{\"color\":\"black\"},\"mode\":\"markers+text\",\"text\":[\"bostonstudentsliam\"],\"textfont\":{\"color\":\"black\"},\"textposition\":\"top center\",\"x\":[-0.07594247162342072],\"y\":[0.05026555061340332],\"type\":\"scatter\"},{\"marker\":{\"color\":\"black\"},\"mode\":\"markers+text\",\"text\":[\"singlecylinder\"],\"textfont\":{\"color\":\"black\"},\"textposition\":\"top center\",\"x\":[-0.15442609786987305],\"y\":[-0.04041159525513649],\"type\":\"scatter\"},{\"marker\":{\"color\":\"black\"},\"mode\":\"markers+text\",\"text\":[\"gelokkig\"],\"textfont\":{\"color\":\"black\"},\"textposition\":\"top center\",\"x\":[0.16493256390094757],\"y\":[-0.01787511259317398],\"type\":\"scatter\"},{\"marker\":{\"color\":\"red\"},\"mode\":\"markers+text\",\"text\":[\"brittney_oct\"],\"textfont\":{\"color\":\"red\"},\"textposition\":\"top center\",\"x\":[0.06543605774641037],\"y\":[0.008021188899874687],\"type\":\"scatter\"},{\"marker\":{\"color\":\"black\"},\"mode\":\"markers+text\",\"text\":[\"griner\"],\"textfont\":{\"color\":\"black\"},\"textposition\":\"top center\",\"x\":[0.16677148640155792],\"y\":[0.11753369867801666],\"type\":\"scatter\"},{\"marker\":{\"color\":\"black\"},\"mode\":\"markers+text\",\"text\":[\"tuy\"],\"textfont\":{\"color\":\"black\"},\"textposition\":\"top center\",\"x\":[-0.17549040913581848],\"y\":[-0.041481051594018936],\"type\":\"scatter\"},{\"marker\":{\"color\":\"black\"},\"mode\":\"markers+text\",\"text\":[\"devere\"],\"textfont\":{\"color\":\"black\"},\"textposition\":\"top center\",\"x\":[-0.28326907753944397],\"y\":[0.00812563393265009],\"type\":\"scatter\"},{\"marker\":{\"color\":\"red\"},\"mode\":\"markers+text\",\"text\":[\"brittney_nov\"],\"textfont\":{\"color\":\"red\"},\"textposition\":\"top center\",\"x\":[0.29198795557022095],\"y\":[-0.08417830616235733],\"type\":\"scatter\"},{\"marker\":{\"color\":\"black\"},\"mode\":\"markers+text\",\"text\":[\"zac\"],\"textfont\":{\"color\":\"black\"},\"textposition\":\"top center\",\"x\":[-0.20682114362716675],\"y\":[0.019817259162664413],\"type\":\"scatter\"},{\"marker\":{\"color\":\"black\"},\"mode\":\"markers+text\",\"text\":[\"bennett\"],\"textfont\":{\"color\":\"black\"},\"textposition\":\"top center\",\"x\":[0.22503463923931122],\"y\":[-0.09624944627285004],\"type\":\"scatter\"},{\"marker\":{\"color\":\"black\"},\"mode\":\"markers+text\",\"text\":[\"incorrigible\"],\"textfont\":{\"color\":\"black\"},\"textposition\":\"top center\",\"x\":[-0.20411495864391327],\"y\":[-0.029612191021442413],\"type\":\"scatter\"},{\"marker\":{\"color\":\"red\"},\"mode\":\"markers+text\",\"text\":[\"brittney_dec\"],\"textfont\":{\"color\":\"red\"},\"textposition\":\"top center\",\"x\":[0.18590141832828522],\"y\":[0.10604435950517654],\"type\":\"scatter\"},{\"marker\":{\"color\":\"black\"},\"mode\":\"markers+text\",\"text\":[\"harvards\"],\"textfont\":{\"color\":\"black\"},\"textposition\":\"top center\",\"x\":[-0.2724393904209137],\"y\":[-0.09128320962190628],\"type\":\"scatter\"},{\"marker\":{\"color\":\"black\"},\"mode\":\"markers+text\",\"text\":[\"manguel\"],\"textfont\":{\"color\":\"black\"},\"textposition\":\"top center\",\"x\":[-0.12965114414691925],\"y\":[0.04801270365715027],\"type\":\"scatter\"},{\"marker\":{\"color\":\"black\"},\"mode\":\"markers+text\",\"text\":[\"baldwin\"],\"textfont\":{\"color\":\"black\"},\"textposition\":\"top center\",\"x\":[0.3775027394294739],\"y\":[-0.055843986570835114],\"type\":\"scatter\"},{\"marker\":{\"color\":\"red\"},\"mode\":\"markers+text\",\"text\":[\"brittney_jan\"],\"textfont\":{\"color\":\"red\"},\"textposition\":\"top center\",\"x\":[0.02458786778151989],\"y\":[0.09911444038152695],\"type\":\"scatter\"},{\"marker\":{\"color\":\"red\",\"size\":10,\"symbol\":\"diamond\"},\"mode\":\"markers\",\"x\":[-0.13003264367580414],\"y\":[0.0009920465527102351],\"type\":\"scatter\"},{\"line\":{\"color\":\"red\"},\"mode\":\"lines\",\"x\":[-0.13003264367580414,0.06543605774641037],\"y\":[0.0009920465527102351,0.008021188899874687],\"type\":\"scatter\"},{\"line\":{\"color\":\"red\"},\"mode\":\"lines\",\"x\":[0.06543605774641037,0.29198795557022095],\"y\":[0.008021188899874687,-0.08417830616235733],\"type\":\"scatter\"},{\"line\":{\"color\":\"red\"},\"mode\":\"lines\",\"x\":[0.29198795557022095,0.18590141832828522],\"y\":[-0.08417830616235733,0.10604435950517654],\"type\":\"scatter\"},{\"line\":{\"color\":\"red\"},\"mode\":\"lines\",\"x\":[0.18590141832828522,0.02458786778151989],\"y\":[0.10604435950517654,0.09911444038152695],\"type\":\"scatter\"}],                        {\"annotations\":[{\"showarrow\":false,\"text\":\"Period: Sep - Oct - Nov - Dec - Jan\",\"x\":0.5,\"xref\":\"paper\",\"y\":1.08,\"yref\":\"paper\"}],\"showlegend\":false,\"template\":{\"data\":{\"barpolar\":[{\"marker\":{\"line\":{\"color\":\"#E5ECF6\",\"width\":0.5},\"pattern\":{\"fillmode\":\"overlay\",\"size\":10,\"solidity\":0.2}},\"type\":\"barpolar\"}],\"bar\":[{\"error_x\":{\"color\":\"#2a3f5f\"},\"error_y\":{\"color\":\"#2a3f5f\"},\"marker\":{\"line\":{\"color\":\"#E5ECF6\",\"width\":0.5},\"pattern\":{\"fillmode\":\"overlay\",\"size\":10,\"solidity\":0.2}},\"type\":\"bar\"}],\"carpet\":[{\"aaxis\":{\"endlinecolor\":\"#2a3f5f\",\"gridcolor\":\"white\",\"linecolor\":\"white\",\"minorgridcolor\":\"white\",\"startlinecolor\":\"#2a3f5f\"},\"baxis\":{\"endlinecolor\":\"#2a3f5f\",\"gridcolor\":\"white\",\"linecolor\":\"white\",\"minorgridcolor\":\"white\",\"startlinecolor\":\"#2a3f5f\"},\"type\":\"carpet\"}],\"choropleth\":[{\"colorbar\":{\"outlinewidth\":0,\"ticks\":\"\"},\"type\":\"choropleth\"}],\"contourcarpet\":[{\"colorbar\":{\"outlinewidth\":0,\"ticks\":\"\"},\"type\":\"contourcarpet\"}],\"contour\":[{\"colorbar\":{\"outlinewidth\":0,\"ticks\":\"\"},\"colorscale\":[[0.0,\"#0d0887\"],[0.1111111111111111,\"#46039f\"],[0.2222222222222222,\"#7201a8\"],[0.3333333333333333,\"#9c179e\"],[0.4444444444444444,\"#bd3786\"],[0.5555555555555556,\"#d8576b\"],[0.6666666666666666,\"#ed7953\"],[0.7777777777777778,\"#fb9f3a\"],[0.8888888888888888,\"#fdca26\"],[1.0,\"#f0f921\"]],\"type\":\"contour\"}],\"heatmapgl\":[{\"colorbar\":{\"outlinewidth\":0,\"ticks\":\"\"},\"colorscale\":[[0.0,\"#0d0887\"],[0.1111111111111111,\"#46039f\"],[0.2222222222222222,\"#7201a8\"],[0.3333333333333333,\"#9c179e\"],[0.4444444444444444,\"#bd3786\"],[0.5555555555555556,\"#d8576b\"],[0.6666666666666666,\"#ed7953\"],[0.7777777777777778,\"#fb9f3a\"],[0.8888888888888888,\"#fdca26\"],[1.0,\"#f0f921\"]],\"type\":\"heatmapgl\"}],\"heatmap\":[{\"colorbar\":{\"outlinewidth\":0,\"ticks\":\"\"},\"colorscale\":[[0.0,\"#0d0887\"],[0.1111111111111111,\"#46039f\"],[0.2222222222222222,\"#7201a8\"],[0.3333333333333333,\"#9c179e\"],[0.4444444444444444,\"#bd3786\"],[0.5555555555555556,\"#d8576b\"],[0.6666666666666666,\"#ed7953\"],[0.7777777777777778,\"#fb9f3a\"],[0.8888888888888888,\"#fdca26\"],[1.0,\"#f0f921\"]],\"type\":\"heatmap\"}],\"histogram2dcontour\":[{\"colorbar\":{\"outlinewidth\":0,\"ticks\":\"\"},\"colorscale\":[[0.0,\"#0d0887\"],[0.1111111111111111,\"#46039f\"],[0.2222222222222222,\"#7201a8\"],[0.3333333333333333,\"#9c179e\"],[0.4444444444444444,\"#bd3786\"],[0.5555555555555556,\"#d8576b\"],[0.6666666666666666,\"#ed7953\"],[0.7777777777777778,\"#fb9f3a\"],[0.8888888888888888,\"#fdca26\"],[1.0,\"#f0f921\"]],\"type\":\"histogram2dcontour\"}],\"histogram2d\":[{\"colorbar\":{\"outlinewidth\":0,\"ticks\":\"\"},\"colorscale\":[[0.0,\"#0d0887\"],[0.1111111111111111,\"#46039f\"],[0.2222222222222222,\"#7201a8\"],[0.3333333333333333,\"#9c179e\"],[0.4444444444444444,\"#bd3786\"],[0.5555555555555556,\"#d8576b\"],[0.6666666666666666,\"#ed7953\"],[0.7777777777777778,\"#fb9f3a\"],[0.8888888888888888,\"#fdca26\"],[1.0,\"#f0f921\"]],\"type\":\"histogram2d\"}],\"histogram\":[{\"marker\":{\"pattern\":{\"fillmode\":\"overlay\",\"size\":10,\"solidity\":0.2}},\"type\":\"histogram\"}],\"mesh3d\":[{\"colorbar\":{\"outlinewidth\":0,\"ticks\":\"\"},\"type\":\"mesh3d\"}],\"parcoords\":[{\"line\":{\"colorbar\":{\"outlinewidth\":0,\"ticks\":\"\"}},\"type\":\"parcoords\"}],\"pie\":[{\"automargin\":true,\"type\":\"pie\"}],\"scatter3d\":[{\"line\":{\"colorbar\":{\"outlinewidth\":0,\"ticks\":\"\"}},\"marker\":{\"colorbar\":{\"outlinewidth\":0,\"ticks\":\"\"}},\"type\":\"scatter3d\"}],\"scattercarpet\":[{\"marker\":{\"colorbar\":{\"outlinewidth\":0,\"ticks\":\"\"}},\"type\":\"scattercarpet\"}],\"scattergeo\":[{\"marker\":{\"colorbar\":{\"outlinewidth\":0,\"ticks\":\"\"}},\"type\":\"scattergeo\"}],\"scattergl\":[{\"marker\":{\"colorbar\":{\"outlinewidth\":0,\"ticks\":\"\"}},\"type\":\"scattergl\"}],\"scattermapbox\":[{\"marker\":{\"colorbar\":{\"outlinewidth\":0,\"ticks\":\"\"}},\"type\":\"scattermapbox\"}],\"scatterpolargl\":[{\"marker\":{\"colorbar\":{\"outlinewidth\":0,\"ticks\":\"\"}},\"type\":\"scatterpolargl\"}],\"scatterpolar\":[{\"marker\":{\"colorbar\":{\"outlinewidth\":0,\"ticks\":\"\"}},\"type\":\"scatterpolar\"}],\"scatter\":[{\"fillpattern\":{\"fillmode\":\"overlay\",\"size\":10,\"solidity\":0.2},\"type\":\"scatter\"}],\"scatterternary\":[{\"marker\":{\"colorbar\":{\"outlinewidth\":0,\"ticks\":\"\"}},\"type\":\"scatterternary\"}],\"surface\":[{\"colorbar\":{\"outlinewidth\":0,\"ticks\":\"\"},\"colorscale\":[[0.0,\"#0d0887\"],[0.1111111111111111,\"#46039f\"],[0.2222222222222222,\"#7201a8\"],[0.3333333333333333,\"#9c179e\"],[0.4444444444444444,\"#bd3786\"],[0.5555555555555556,\"#d8576b\"],[0.6666666666666666,\"#ed7953\"],[0.7777777777777778,\"#fb9f3a\"],[0.8888888888888888,\"#fdca26\"],[1.0,\"#f0f921\"]],\"type\":\"surface\"}],\"table\":[{\"cells\":{\"fill\":{\"color\":\"#EBF0F8\"},\"line\":{\"color\":\"white\"}},\"header\":{\"fill\":{\"color\":\"#C8D4E3\"},\"line\":{\"color\":\"white\"}},\"type\":\"table\"}]},\"layout\":{\"annotationdefaults\":{\"arrowcolor\":\"#2a3f5f\",\"arrowhead\":0,\"arrowwidth\":1},\"autotypenumbers\":\"strict\",\"coloraxis\":{\"colorbar\":{\"outlinewidth\":0,\"ticks\":\"\"}},\"colorscale\":{\"diverging\":[[0,\"#8e0152\"],[0.1,\"#c51b7d\"],[0.2,\"#de77ae\"],[0.3,\"#f1b6da\"],[0.4,\"#fde0ef\"],[0.5,\"#f7f7f7\"],[0.6,\"#e6f5d0\"],[0.7,\"#b8e186\"],[0.8,\"#7fbc41\"],[0.9,\"#4d9221\"],[1,\"#276419\"]],\"sequential\":[[0.0,\"#0d0887\"],[0.1111111111111111,\"#46039f\"],[0.2222222222222222,\"#7201a8\"],[0.3333333333333333,\"#9c179e\"],[0.4444444444444444,\"#bd3786\"],[0.5555555555555556,\"#d8576b\"],[0.6666666666666666,\"#ed7953\"],[0.7777777777777778,\"#fb9f3a\"],[0.8888888888888888,\"#fdca26\"],[1.0,\"#f0f921\"]],\"sequentialminus\":[[0.0,\"#0d0887\"],[0.1111111111111111,\"#46039f\"],[0.2222222222222222,\"#7201a8\"],[0.3333333333333333,\"#9c179e\"],[0.4444444444444444,\"#bd3786\"],[0.5555555555555556,\"#d8576b\"],[0.6666666666666666,\"#ed7953\"],[0.7777777777777778,\"#fb9f3a\"],[0.8888888888888888,\"#fdca26\"],[1.0,\"#f0f921\"]]},\"colorway\":[\"#636efa\",\"#EF553B\",\"#00cc96\",\"#ab63fa\",\"#FFA15A\",\"#19d3f3\",\"#FF6692\",\"#B6E880\",\"#FF97FF\",\"#FECB52\"],\"font\":{\"color\":\"#2a3f5f\"},\"geo\":{\"bgcolor\":\"white\",\"lakecolor\":\"white\",\"landcolor\":\"#E5ECF6\",\"showlakes\":true,\"showland\":true,\"subunitcolor\":\"white\"},\"hoverlabel\":{\"align\":\"left\"},\"hovermode\":\"closest\",\"mapbox\":{\"style\":\"light\"},\"paper_bgcolor\":\"white\",\"plot_bgcolor\":\"#E5ECF6\",\"polar\":{\"angularaxis\":{\"gridcolor\":\"white\",\"linecolor\":\"white\",\"ticks\":\"\"},\"bgcolor\":\"#E5ECF6\",\"radialaxis\":{\"gridcolor\":\"white\",\"linecolor\":\"white\",\"ticks\":\"\"}},\"scene\":{\"xaxis\":{\"backgroundcolor\":\"#E5ECF6\",\"gridcolor\":\"white\",\"gridwidth\":2,\"linecolor\":\"white\",\"showbackground\":true,\"ticks\":\"\",\"zerolinecolor\":\"white\"},\"yaxis\":{\"backgroundcolor\":\"#E5ECF6\",\"gridcolor\":\"white\",\"gridwidth\":2,\"linecolor\":\"white\",\"showbackground\":true,\"ticks\":\"\",\"zerolinecolor\":\"white\"},\"zaxis\":{\"backgroundcolor\":\"#E5ECF6\",\"gridcolor\":\"white\",\"gridwidth\":2,\"linecolor\":\"white\",\"showbackground\":true,\"ticks\":\"\",\"zerolinecolor\":\"white\"}},\"shapedefaults\":{\"line\":{\"color\":\"#2a3f5f\"}},\"ternary\":{\"aaxis\":{\"gridcolor\":\"white\",\"linecolor\":\"white\",\"ticks\":\"\"},\"baxis\":{\"gridcolor\":\"white\",\"linecolor\":\"white\",\"ticks\":\"\"},\"bgcolor\":\"#E5ECF6\",\"caxis\":{\"gridcolor\":\"white\",\"linecolor\":\"white\",\"ticks\":\"\"}},\"title\":{\"x\":0.05},\"xaxis\":{\"automargin\":true,\"gridcolor\":\"white\",\"linecolor\":\"white\",\"ticks\":\"\",\"title\":{\"standoff\":15},\"zerolinecolor\":\"white\",\"zerolinewidth\":2},\"yaxis\":{\"automargin\":true,\"gridcolor\":\"white\",\"linecolor\":\"white\",\"ticks\":\"\",\"title\":{\"standoff\":15},\"zerolinecolor\":\"white\",\"zerolinewidth\":2}}},\"title\":{\"font\":{\"size\":22},\"text\":\"Evolution of the word brittney over time\",\"x\":0.5},\"xaxis\":{\"title\":{\"text\":\"X\"}},\"yaxis\":{\"title\":{\"text\":\"Y\"}}},                        {\"responsive\": true}                    ).then(function(){\n                            \nvar gd = document.getElementById('b4a8ee1b-380c-4a60-8ebc-f02f55a24b4b');\nvar x = new MutationObserver(function (mutations, observer) {{\n        var display = window.getComputedStyle(gd).display;\n        if (!display || display === 'none') {{\n            console.log([gd, 'removed!']);\n            Plotly.purge(gd);\n            observer.disconnect();\n        }}\n}});\n\n// Listen for the removal of the full notebook cells\nvar notebookContainer = gd.closest('#notebook-container');\nif (notebookContainer) {{\n    x.observe(notebookContainer, {childList: true});\n}}\n\n// Listen for the clearing of the current output cell\nvar outputEl = gd.closest('.output');\nif (outputEl) {{\n    x.observe(outputEl, {childList: true});\n}}\n\n                        })                };                });            </script>        </div>"
     },
     "metadata": {},
     "output_type": "display_data"
    }
   ],
   "source": [
    "plot_temporal_changing_embedding(target_word_griner, selected_models_monthly_griner, top_n=3, title=title_griner, subtitle=subtitle_griner, use_tsne=False)"
   ]
  },
  {
   "cell_type": "markdown",
   "metadata": {},
   "source": [
    "### Cosine similarities"
   ]
  },
  {
   "cell_type": "code",
   "execution_count": 98,
   "metadata": {},
   "outputs": [],
   "source": [
    "test_words_griner = [\"russia\", \"karen\", \"putin\"]"
   ]
  },
  {
   "cell_type": "code",
   "execution_count": 99,
   "metadata": {},
   "outputs": [
    {
     "data": {
      "text/plain": "<Figure size 1000x600 with 1 Axes>",
      "image/png": "[encoded data removed]"
     },
     "metadata": {},
     "output_type": "display_data"
    }
   ],
   "source": [
    "plot_cosine_similarity(target_word_griner, test_words_griner, selected_models_monthly_griner, event=\"dec\", event_name=\"Brittney Griner is released from prison\")"
   ]
  },
  {
   "cell_type": "markdown",
   "metadata": {},
   "source": [
    "### TPPMI"
   ]
  },
  {
   "cell_type": "code",
   "execution_count": 100,
   "metadata": {},
   "outputs": [
    {
     "name": "stdout",
     "output_type": "stream",
     "text": [
      "All words are contained in the vocabulary\n",
      "putin - not in vocab of timestep: 07\n",
      "brittney - not in vocab of timestep: 06\n",
      "brittney - not in vocab of timestep: 07\n",
      "brittney - not in vocab of timestep: 08\n"
     ]
    }
   ],
   "source": [
    "target_word_griner = \"brittney\"\n",
    "selected_months = [6, 7, 8]\n",
    "tppmi_griner = tppmi_model.get_tppmi(test_words_griner + [target_word_griner], selected_months=selected_months)"
   ]
  },
  {
   "cell_type": "code",
   "execution_count": 101,
   "metadata": {},
   "outputs": [
    {
     "name": "stdout",
     "output_type": "stream",
     "text": [
      "All words are contained in the vocabulary\n",
      "brittney - not in vocab of timestep: 06\n",
      "brittney - not in vocab of timestep: 07\n",
      "brittney - not in vocab of timestep: 08\n",
      "putin - not in vocab of timestep: 07\n",
      "victor - not in vocab of timestep: 06\n",
      "victor - not in vocab of timestep: 08\n"
     ]
    },
    {
     "data": {
      "text/html": "        <script type=\"text/javascript\">\n        window.PlotlyConfig = {MathJaxConfig: 'local'};\n        if (window.MathJax && window.MathJax.Hub && window.MathJax.Hub.Config) {window.MathJax.Hub.Config({SVG: {font: \"STIX-Web\"}});}\n        if (typeof require !== 'undefined') {\n        require.undef(\"plotly\");\n        requirejs.config({\n            paths: {\n                'plotly': ['https://cdn.plot.ly/plotly-2.25.2.min']\n            }\n        });\n        require(['plotly'], function(Plotly) {\n            window._Plotly = Plotly;\n        });\n        }\n        </script>\n        "
     },
     "metadata": {},
     "output_type": "display_data"
    },
    {
     "data": {
      "application/vnd.plotly.v1+json": {
       "data": [
        {
         "marker": {
          "color": "#00CC96"
         },
         "mode": "markers+text",
         "name": "brittney",
         "showlegend": false,
         "text": [
          "brittney"
         ],
         "textposition": "top center",
         "x": [
          1.8471514168305632
         ],
         "y": [
          -0.29354081477262883
         ],
         "type": "scatter"
        },
        {
         "marker": {
          "color": "#00CC96",
          "size": 10,
          "symbol": "diamond"
         },
         "mode": "markers",
         "showlegend": false,
         "x": [
          1.8471514168305632
         ],
         "y": [
          -0.29354081477262883
         ],
         "type": "scatter"
        },
        {
         "marker": {
          "color": "#00CC96"
         },
         "mode": "markers+text",
         "name": "brittney",
         "showlegend": false,
         "text": [
          "brittney"
         ],
         "textposition": "top center",
         "x": [
          1.8471514168305623
         ],
         "y": [
          -0.2935408147726261
         ],
         "type": "scatter"
        },
        {
         "line": {
          "color": "#00CC96",
          "width": 1
         },
         "mode": "lines",
         "showlegend": false,
         "x": [
          1.8471514168305632,
          1.8471514168305623
         ],
         "y": [
          -0.29354081477262883,
          -0.2935408147726261
         ],
         "type": "scatter"
        },
        {
         "marker": {
          "color": "#00CC96"
         },
         "mode": "markers+text",
         "name": "brittney",
         "showlegend": false,
         "text": [
          "brittney"
         ],
         "textposition": "top center",
         "x": [
          1.8471514168305623
         ],
         "y": [
          -0.293540814772629
         ],
         "type": "scatter"
        },
        {
         "line": {
          "color": "#00CC96",
          "width": 1
         },
         "mode": "lines",
         "showlegend": false,
         "x": [
          1.8471514168305623,
          1.8471514168305623
         ],
         "y": [
          -0.2935408147726261,
          -0.293540814772629
         ],
         "type": "scatter"
        },
        {
         "marker": {
          "color": "#636EFA"
         },
         "mode": "markers+text",
         "name": "putin",
         "showlegend": false,
         "text": [
          "putin"
         ],
         "textposition": "top center",
         "x": [
          -14.820220202400881
         ],
         "y": [
          22.248356843612374
         ],
         "type": "scatter"
        },
        {
         "marker": {
          "color": "#636EFA",
          "size": 10,
          "symbol": "diamond"
         },
         "mode": "markers",
         "showlegend": false,
         "x": [
          -14.820220202400881
         ],
         "y": [
          22.248356843612374
         ],
         "type": "scatter"
        },
        {
         "marker": {
          "color": "#636EFA"
         },
         "mode": "markers+text",
         "name": "putin",
         "showlegend": false,
         "text": [
          "putin"
         ],
         "textposition": "top center",
         "x": [
          1.8471514168305607
         ],
         "y": [
          -0.29354081477262833
         ],
         "type": "scatter"
        },
        {
         "line": {
          "color": "#636EFA",
          "width": 1
         },
         "mode": "lines",
         "showlegend": false,
         "x": [
          -14.820220202400881,
          1.8471514168305607
         ],
         "y": [
          22.248356843612374,
          -0.29354081477262833
         ],
         "type": "scatter"
        },
        {
         "marker": {
          "color": "#636EFA"
         },
         "mode": "markers+text",
         "name": "putin",
         "showlegend": false,
         "text": [
          "putin"
         ],
         "textposition": "top center",
         "x": [
          -16.713966943003573
         ],
         "y": [
          -20.233055288096132
         ],
         "type": "scatter"
        },
        {
         "line": {
          "color": "#636EFA",
          "width": 1
         },
         "mode": "lines",
         "showlegend": false,
         "x": [
          1.8471514168305607,
          -16.713966943003573
         ],
         "y": [
          -0.29354081477262833,
          -20.233055288096132
         ],
         "type": "scatter"
        },
        {
         "marker": {
          "color": "#EF553B"
         },
         "mode": "markers+text",
         "name": "victor",
         "showlegend": false,
         "text": [
          "victor"
         ],
         "textposition": "top center",
         "x": [
          1.8471514168305607
         ],
         "y": [
          -0.29354081477262833
         ],
         "type": "scatter"
        },
        {
         "marker": {
          "color": "#EF553B",
          "size": 10,
          "symbol": "diamond"
         },
         "mode": "markers",
         "showlegend": false,
         "x": [
          1.8471514168305607
         ],
         "y": [
          -0.29354081477262833
         ],
         "type": "scatter"
        },
        {
         "marker": {
          "color": "#EF553B"
         },
         "mode": "markers+text",
         "name": "victor",
         "showlegend": false,
         "text": [
          "victor"
         ],
         "textposition": "top center",
         "x": [
          20.451278644421098
         ],
         "y": [
          -0.25405666688046685
         ],
         "type": "scatter"
        },
        {
         "line": {
          "color": "#EF553B",
          "width": 1
         },
         "mode": "lines",
         "showlegend": false,
         "x": [
          1.8471514168305607,
          20.451278644421098
         ],
         "y": [
          -0.29354081477262833,
          -0.25405666688046685
         ],
         "type": "scatter"
        },
        {
         "marker": {
          "color": "#EF553B"
         },
         "mode": "markers+text",
         "name": "victor",
         "showlegend": false,
         "text": [
          "victor"
         ],
         "textposition": "top center",
         "x": [
          1.8471514168305607
         ],
         "y": [
          -0.29354081477262833
         ],
         "type": "scatter"
        },
        {
         "line": {
          "color": "#EF553B",
          "width": 1
         },
         "mode": "lines",
         "showlegend": false,
         "x": [
          20.451278644421098,
          1.8471514168305607
         ],
         "y": [
          -0.25405666688046685,
          -0.29354081477262833
         ],
         "type": "scatter"
        }
       ],
       "layout": {
        "legend": {
         "x": 1.02,
         "y": 1.0
        },
        "template": {
         "data": {
          "barpolar": [
           {
            "marker": {
             "line": {
              "color": "#E5ECF6",
              "width": 0.5
             },
             "pattern": {
              "fillmode": "overlay",
              "size": 10,
              "solidity": 0.2
             }
            },
            "type": "barpolar"
           }
          ],
          "bar": [
           {
            "error_x": {
             "color": "#2a3f5f"
            },
            "error_y": {
             "color": "#2a3f5f"
            },
            "marker": {
             "line": {
              "color": "#E5ECF6",
              "width": 0.5
             },
             "pattern": {
              "fillmode": "overlay",
              "size": 10,
              "solidity": 0.2
             }
            },
            "type": "bar"
           }
          ],
          "carpet": [
           {
            "aaxis": {
             "endlinecolor": "#2a3f5f",
             "gridcolor": "white",
             "linecolor": "white",
             "minorgridcolor": "white",
             "startlinecolor": "#2a3f5f"
            },
            "baxis": {
             "endlinecolor": "#2a3f5f",
             "gridcolor": "white",
             "linecolor": "white",
             "minorgridcolor": "white",
             "startlinecolor": "#2a3f5f"
            },
            "type": "carpet"
           }
          ],
          "choropleth": [
           {
            "colorbar": {
             "outlinewidth": 0,
             "ticks": ""
            },
            "type": "choropleth"
           }
          ],
          "contourcarpet": [
           {
            "colorbar": {
             "outlinewidth": 0,
             "ticks": ""
            },
            "type": "contourcarpet"
           }
          ],
          "contour": [
           {
            "colorbar": {
             "outlinewidth": 0,
             "ticks": ""
            },
            "colorscale": [
             [
              0.0,
              "#0d0887"
             ],
             [
              0.1111111111111111,
              "#46039f"
             ],
             [
              0.2222222222222222,
              "#7201a8"
             ],
             [
              0.3333333333333333,
              "#9c179e"
             ],
             [
              0.4444444444444444,
              "#bd3786"
             ],
             [
              0.5555555555555556,
              "#d8576b"
             ],
             [
              0.6666666666666666,
              "#ed7953"
             ],
             [
              0.7777777777777778,
              "#fb9f3a"
             ],
             [
              0.8888888888888888,
              "#fdca26"
             ],
             [
              1.0,
              "#f0f921"
             ]
            ],
            "type": "contour"
           }
          ],
          "heatmapgl": [
           {
            "colorbar": {
             "outlinewidth": 0,
             "ticks": ""
            },
            "colorscale": [
             [
              0.0,
              "#0d0887"
             ],
             [
              0.1111111111111111,
              "#46039f"
             ],
             [
              0.2222222222222222,
              "#7201a8"
             ],
             [
              0.3333333333333333,
              "#9c179e"
             ],
             [
              0.4444444444444444,
              "#bd3786"
             ],
             [
              0.5555555555555556,
              "#d8576b"
             ],
             [
              0.6666666666666666,
              "#ed7953"
             ],
             [
              0.7777777777777778,
              "#fb9f3a"
             ],
             [
              0.8888888888888888,
              "#fdca26"
             ],
             [
              1.0,
              "#f0f921"
             ]
            ],
            "type": "heatmapgl"
           }
          ],
          "heatmap": [
           {
            "colorbar": {
             "outlinewidth": 0,
             "ticks": ""
            },
            "colorscale": [
             [
              0.0,
              "#0d0887"
             ],
             [
              0.1111111111111111,
              "#46039f"
             ],
             [
              0.2222222222222222,
              "#7201a8"
             ],
             [
              0.3333333333333333,
              "#9c179e"
             ],
             [
              0.4444444444444444,
              "#bd3786"
             ],
             [
              0.5555555555555556,
              "#d8576b"
             ],
             [
              0.6666666666666666,
              "#ed7953"
             ],
             [
              0.7777777777777778,
              "#fb9f3a"
             ],
             [
              0.8888888888888888,
              "#fdca26"
             ],
             [
              1.0,
              "#f0f921"
             ]
            ],
            "type": "heatmap"
           }
          ],
          "histogram2dcontour": [
           {
            "colorbar": {
             "outlinewidth": 0,
             "ticks": ""
            },
            "colorscale": [
             [
              0.0,
              "#0d0887"
             ],
             [
              0.1111111111111111,
              "#46039f"
             ],
             [
              0.2222222222222222,
              "#7201a8"
             ],
             [
              0.3333333333333333,
              "#9c179e"
             ],
             [
              0.4444444444444444,
              "#bd3786"
             ],
             [
              0.5555555555555556,
              "#d8576b"
             ],
             [
              0.6666666666666666,
              "#ed7953"
             ],
             [
              0.7777777777777778,
              "#fb9f3a"
             ],
             [
              0.8888888888888888,
              "#fdca26"
             ],
             [
              1.0,
              "#f0f921"
             ]
            ],
            "type": "histogram2dcontour"
           }
          ],
          "histogram2d": [
           {
            "colorbar": {
             "outlinewidth": 0,
             "ticks": ""
            },
            "colorscale": [
             [
              0.0,
              "#0d0887"
             ],
             [
              0.1111111111111111,
              "#46039f"
             ],
             [
              0.2222222222222222,
              "#7201a8"
             ],
             [
              0.3333333333333333,
              "#9c179e"
             ],
             [
              0.4444444444444444,
              "#bd3786"
             ],
             [
              0.5555555555555556,
              "#d8576b"
             ],
             [
              0.6666666666666666,
              "#ed7953"
             ],
             [
              0.7777777777777778,
              "#fb9f3a"
             ],
             [
              0.8888888888888888,
              "#fdca26"
             ],
             [
              1.0,
              "#f0f921"
             ]
            ],
            "type": "histogram2d"
           }
          ],
          "histogram": [
           {
            "marker": {
             "pattern": {
              "fillmode": "overlay",
              "size": 10,
              "solidity": 0.2
             }
            },
            "type": "histogram"
           }
          ],
          "mesh3d": [
           {
            "colorbar": {
             "outlinewidth": 0,
             "ticks": ""
            },
            "type": "mesh3d"
           }
          ],
          "parcoords": [
           {
            "line": {
             "colorbar": {
              "outlinewidth": 0,
              "ticks": ""
             }
            },
            "type": "parcoords"
           }
          ],
          "pie": [
           {
            "automargin": true,
            "type": "pie"
           }
          ],
          "scatter3d": [
           {
            "line": {
             "colorbar": {
              "outlinewidth": 0,
              "ticks": ""
             }
            },
            "marker": {
             "colorbar": {
              "outlinewidth": 0,
              "ticks": ""
             }
            },
            "type": "scatter3d"
           }
          ],
          "scattercarpet": [
           {
            "marker": {
             "colorbar": {
              "outlinewidth": 0,
              "ticks": ""
             }
            },
            "type": "scattercarpet"
           }
          ],
          "scattergeo": [
           {
            "marker": {
             "colorbar": {
              "outlinewidth": 0,
              "ticks": ""
             }
            },
            "type": "scattergeo"
           }
          ],
          "scattergl": [
           {
            "marker": {
             "colorbar": {
              "outlinewidth": 0,
              "ticks": ""
             }
            },
            "type": "scattergl"
           }
          ],
          "scattermapbox": [
           {
            "marker": {
             "colorbar": {
              "outlinewidth": 0,
              "ticks": ""
             }
            },
            "type": "scattermapbox"
           }
          ],
          "scatterpolargl": [
           {
            "marker": {
             "colorbar": {
              "outlinewidth": 0,
              "ticks": ""
             }
            },
            "type": "scatterpolargl"
           }
          ],
          "scatterpolar": [
           {
            "marker": {
             "colorbar": {
              "outlinewidth": 0,
              "ticks": ""
             }
            },
            "type": "scatterpolar"
           }
          ],
          "scatter": [
           {
            "fillpattern": {
             "fillmode": "overlay",
             "size": 10,
             "solidity": 0.2
            },
            "type": "scatter"
           }
          ],
          "scatterternary": [
           {
            "marker": {
             "colorbar": {
              "outlinewidth": 0,
              "ticks": ""
             }
            },
            "type": "scatterternary"
           }
          ],
          "surface": [
           {
            "colorbar": {
             "outlinewidth": 0,
             "ticks": ""
            },
            "colorscale": [
             [
              0.0,
              "#0d0887"
             ],
             [
              0.1111111111111111,
              "#46039f"
             ],
             [
              0.2222222222222222,
              "#7201a8"
             ],
             [
              0.3333333333333333,
              "#9c179e"
             ],
             [
              0.4444444444444444,
              "#bd3786"
             ],
             [
              0.5555555555555556,
              "#d8576b"
             ],
             [
              0.6666666666666666,
              "#ed7953"
             ],
             [
              0.7777777777777778,
              "#fb9f3a"
             ],
             [
              0.8888888888888888,
              "#fdca26"
             ],
             [
              1.0,
              "#f0f921"
             ]
            ],
            "type": "surface"
           }
          ],
          "table": [
           {
            "cells": {
             "fill": {
              "color": "#EBF0F8"
             },
             "line": {
              "color": "white"
             }
            },
            "header": {
             "fill": {
              "color": "#C8D4E3"
             },
             "line": {
              "color": "white"
             }
            },
            "type": "table"
           }
          ]
         },
         "layout": {
          "annotationdefaults": {
           "arrowcolor": "#2a3f5f",
           "arrowhead": 0,
           "arrowwidth": 1
          },
          "autotypenumbers": "strict",
          "coloraxis": {
           "colorbar": {
            "outlinewidth": 0,
            "ticks": ""
           }
          },
          "colorscale": {
           "diverging": [
            [
             0,
             "#8e0152"
            ],
            [
             0.1,
             "#c51b7d"
            ],
            [
             0.2,
             "#de77ae"
            ],
            [
             0.3,
             "#f1b6da"
            ],
            [
             0.4,
             "#fde0ef"
            ],
            [
             0.5,
             "#f7f7f7"
            ],
            [
             0.6,
             "#e6f5d0"
            ],
            [
             0.7,
             "#b8e186"
            ],
            [
             0.8,
             "#7fbc41"
            ],
            [
             0.9,
             "#4d9221"
            ],
            [
             1,
             "#276419"
            ]
           ],
           "sequential": [
            [
             0.0,
             "#0d0887"
            ],
            [
             0.1111111111111111,
             "#46039f"
            ],
            [
             0.2222222222222222,
             "#7201a8"
            ],
            [
             0.3333333333333333,
             "#9c179e"
            ],
            [
             0.4444444444444444,
             "#bd3786"
            ],
            [
             0.5555555555555556,
             "#d8576b"
            ],
            [
             0.6666666666666666,
             "#ed7953"
            ],
            [
             0.7777777777777778,
             "#fb9f3a"
            ],
            [
             0.8888888888888888,
             "#fdca26"
            ],
            [
             1.0,
             "#f0f921"
            ]
           ],
           "sequentialminus": [
            [
             0.0,
             "#0d0887"
            ],
            [
             0.1111111111111111,
             "#46039f"
            ],
            [
             0.2222222222222222,
             "#7201a8"
            ],
            [
             0.3333333333333333,
             "#9c179e"
            ],
            [
             0.4444444444444444,
             "#bd3786"
            ],
            [
             0.5555555555555556,
             "#d8576b"
            ],
            [
             0.6666666666666666,
             "#ed7953"
            ],
            [
             0.7777777777777778,
             "#fb9f3a"
            ],
            [
             0.8888888888888888,
             "#fdca26"
            ],
            [
             1.0,
             "#f0f921"
            ]
           ]
          },
          "colorway": [
           "#636efa",
           "#EF553B",
           "#00cc96",
           "#ab63fa",
           "#FFA15A",
           "#19d3f3",
           "#FF6692",
           "#B6E880",
           "#FF97FF",
           "#FECB52"
          ],
          "font": {
           "color": "#2a3f5f"
          },
          "geo": {
           "bgcolor": "white",
           "lakecolor": "white",
           "landcolor": "#E5ECF6",
           "showlakes": true,
           "showland": true,
           "subunitcolor": "white"
          },
          "hoverlabel": {
           "align": "left"
          },
          "hovermode": "closest",
          "mapbox": {
           "style": "light"
          },
          "paper_bgcolor": "white",
          "plot_bgcolor": "#E5ECF6",
          "polar": {
           "angularaxis": {
            "gridcolor": "white",
            "linecolor": "white",
            "ticks": ""
           },
           "bgcolor": "#E5ECF6",
           "radialaxis": {
            "gridcolor": "white",
            "linecolor": "white",
            "ticks": ""
           }
          },
          "scene": {
           "xaxis": {
            "backgroundcolor": "#E5ECF6",
            "gridcolor": "white",
            "gridwidth": 2,
            "linecolor": "white",
            "showbackground": true,
            "ticks": "",
            "zerolinecolor": "white"
           },
           "yaxis": {
            "backgroundcolor": "#E5ECF6",
            "gridcolor": "white",
            "gridwidth": 2,
            "linecolor": "white",
            "showbackground": true,
            "ticks": "",
            "zerolinecolor": "white"
           },
           "zaxis": {
            "backgroundcolor": "#E5ECF6",
            "gridcolor": "white",
            "gridwidth": 2,
            "linecolor": "white",
            "showbackground": true,
            "ticks": "",
            "zerolinecolor": "white"
           }
          },
          "shapedefaults": {
           "line": {
            "color": "#2a3f5f"
           }
          },
          "ternary": {
           "aaxis": {
            "gridcolor": "white",
            "linecolor": "white",
            "ticks": ""
           },
           "baxis": {
            "gridcolor": "white",
            "linecolor": "white",
            "ticks": ""
           },
           "bgcolor": "#E5ECF6",
           "caxis": {
            "gridcolor": "white",
            "linecolor": "white",
            "ticks": ""
           }
          },
          "title": {
           "x": 0.05
          },
          "xaxis": {
           "automargin": true,
           "gridcolor": "white",
           "linecolor": "white",
           "ticks": "",
           "title": {
            "standoff": 15
           },
           "zerolinecolor": "white",
           "zerolinewidth": 2
          },
          "yaxis": {
           "automargin": true,
           "gridcolor": "white",
           "linecolor": "white",
           "ticks": "",
           "title": {
            "standoff": 15
           },
           "zerolinecolor": "white",
           "zerolinewidth": 2
          }
         }
        },
        "title": {
         "text": "2D Visualization of Word Vectors"
        },
        "xaxis": {
         "range": [
          -50,
          50
         ],
         "title": {
          "text": "PC1"
         }
        },
        "yaxis": {
         "range": [
          -50,
          50
         ],
         "title": {
          "text": "PC2"
         }
        }
       },
       "config": {
        "showLink": false,
        "linkText": "Export to plot.ly",
        "plotlyServerURL": "https://plot.ly"
       }
      },
      "text/html": "<div>                            <div id=\"5de3bef7-e87b-4ff2-8a9d-75277805861e\" class=\"plotly-graph-div\" style=\"height:525px; width:100%;\"></div>            <script type=\"text/javascript\">                require([\"plotly\"], function(Plotly) {                    window.PLOTLYENV=window.PLOTLYENV || {};                                    if (document.getElementById(\"5de3bef7-e87b-4ff2-8a9d-75277805861e\")) {                    Plotly.newPlot(                        \"5de3bef7-e87b-4ff2-8a9d-75277805861e\",                        [{\"marker\":{\"color\":\"#00CC96\"},\"mode\":\"markers+text\",\"name\":\"brittney\",\"showlegend\":false,\"text\":[\"brittney\"],\"textposition\":\"top center\",\"x\":[1.8471514168305632],\"y\":[-0.29354081477262883],\"type\":\"scatter\"},{\"marker\":{\"color\":\"#00CC96\",\"size\":10,\"symbol\":\"diamond\"},\"mode\":\"markers\",\"showlegend\":false,\"x\":[1.8471514168305632],\"y\":[-0.29354081477262883],\"type\":\"scatter\"},{\"marker\":{\"color\":\"#00CC96\"},\"mode\":\"markers+text\",\"name\":\"brittney\",\"showlegend\":false,\"text\":[\"brittney\"],\"textposition\":\"top center\",\"x\":[1.8471514168305623],\"y\":[-0.2935408147726261],\"type\":\"scatter\"},{\"line\":{\"color\":\"#00CC96\",\"width\":1},\"mode\":\"lines\",\"showlegend\":false,\"x\":[1.8471514168305632,1.8471514168305623],\"y\":[-0.29354081477262883,-0.2935408147726261],\"type\":\"scatter\"},{\"marker\":{\"color\":\"#00CC96\"},\"mode\":\"markers+text\",\"name\":\"brittney\",\"showlegend\":false,\"text\":[\"brittney\"],\"textposition\":\"top center\",\"x\":[1.8471514168305623],\"y\":[-0.293540814772629],\"type\":\"scatter\"},{\"line\":{\"color\":\"#00CC96\",\"width\":1},\"mode\":\"lines\",\"showlegend\":false,\"x\":[1.8471514168305623,1.8471514168305623],\"y\":[-0.2935408147726261,-0.293540814772629],\"type\":\"scatter\"},{\"marker\":{\"color\":\"#636EFA\"},\"mode\":\"markers+text\",\"name\":\"putin\",\"showlegend\":false,\"text\":[\"putin\"],\"textposition\":\"top center\",\"x\":[-14.820220202400881],\"y\":[22.248356843612374],\"type\":\"scatter\"},{\"marker\":{\"color\":\"#636EFA\",\"size\":10,\"symbol\":\"diamond\"},\"mode\":\"markers\",\"showlegend\":false,\"x\":[-14.820220202400881],\"y\":[22.248356843612374],\"type\":\"scatter\"},{\"marker\":{\"color\":\"#636EFA\"},\"mode\":\"markers+text\",\"name\":\"putin\",\"showlegend\":false,\"text\":[\"putin\"],\"textposition\":\"top center\",\"x\":[1.8471514168305607],\"y\":[-0.29354081477262833],\"type\":\"scatter\"},{\"line\":{\"color\":\"#636EFA\",\"width\":1},\"mode\":\"lines\",\"showlegend\":false,\"x\":[-14.820220202400881,1.8471514168305607],\"y\":[22.248356843612374,-0.29354081477262833],\"type\":\"scatter\"},{\"marker\":{\"color\":\"#636EFA\"},\"mode\":\"markers+text\",\"name\":\"putin\",\"showlegend\":false,\"text\":[\"putin\"],\"textposition\":\"top center\",\"x\":[-16.713966943003573],\"y\":[-20.233055288096132],\"type\":\"scatter\"},{\"line\":{\"color\":\"#636EFA\",\"width\":1},\"mode\":\"lines\",\"showlegend\":false,\"x\":[1.8471514168305607,-16.713966943003573],\"y\":[-0.29354081477262833,-20.233055288096132],\"type\":\"scatter\"},{\"marker\":{\"color\":\"#EF553B\"},\"mode\":\"markers+text\",\"name\":\"victor\",\"showlegend\":false,\"text\":[\"victor\"],\"textposition\":\"top center\",\"x\":[1.8471514168305607],\"y\":[-0.29354081477262833],\"type\":\"scatter\"},{\"marker\":{\"color\":\"#EF553B\",\"size\":10,\"symbol\":\"diamond\"},\"mode\":\"markers\",\"showlegend\":false,\"x\":[1.8471514168305607],\"y\":[-0.29354081477262833],\"type\":\"scatter\"},{\"marker\":{\"color\":\"#EF553B\"},\"mode\":\"markers+text\",\"name\":\"victor\",\"showlegend\":false,\"text\":[\"victor\"],\"textposition\":\"top center\",\"x\":[20.451278644421098],\"y\":[-0.25405666688046685],\"type\":\"scatter\"},{\"line\":{\"color\":\"#EF553B\",\"width\":1},\"mode\":\"lines\",\"showlegend\":false,\"x\":[1.8471514168305607,20.451278644421098],\"y\":[-0.29354081477262833,-0.25405666688046685],\"type\":\"scatter\"},{\"marker\":{\"color\":\"#EF553B\"},\"mode\":\"markers+text\",\"name\":\"victor\",\"showlegend\":false,\"text\":[\"victor\"],\"textposition\":\"top center\",\"x\":[1.8471514168305607],\"y\":[-0.29354081477262833],\"type\":\"scatter\"},{\"line\":{\"color\":\"#EF553B\",\"width\":1},\"mode\":\"lines\",\"showlegend\":false,\"x\":[20.451278644421098,1.8471514168305607],\"y\":[-0.25405666688046685,-0.29354081477262833],\"type\":\"scatter\"}],                        {\"legend\":{\"x\":1.02,\"y\":1.0},\"template\":{\"data\":{\"barpolar\":[{\"marker\":{\"line\":{\"color\":\"#E5ECF6\",\"width\":0.5},\"pattern\":{\"fillmode\":\"overlay\",\"size\":10,\"solidity\":0.2}},\"type\":\"barpolar\"}],\"bar\":[{\"error_x\":{\"color\":\"#2a3f5f\"},\"error_y\":{\"color\":\"#2a3f5f\"},\"marker\":{\"line\":{\"color\":\"#E5ECF6\",\"width\":0.5},\"pattern\":{\"fillmode\":\"overlay\",\"size\":10,\"solidity\":0.2}},\"type\":\"bar\"}],\"carpet\":[{\"aaxis\":{\"endlinecolor\":\"#2a3f5f\",\"gridcolor\":\"white\",\"linecolor\":\"white\",\"minorgridcolor\":\"white\",\"startlinecolor\":\"#2a3f5f\"},\"baxis\":{\"endlinecolor\":\"#2a3f5f\",\"gridcolor\":\"white\",\"linecolor\":\"white\",\"minorgridcolor\":\"white\",\"startlinecolor\":\"#2a3f5f\"},\"type\":\"carpet\"}],\"choropleth\":[{\"colorbar\":{\"outlinewidth\":0,\"ticks\":\"\"},\"type\":\"choropleth\"}],\"contourcarpet\":[{\"colorbar\":{\"outlinewidth\":0,\"ticks\":\"\"},\"type\":\"contourcarpet\"}],\"contour\":[{\"colorbar\":{\"outlinewidth\":0,\"ticks\":\"\"},\"colorscale\":[[0.0,\"#0d0887\"],[0.1111111111111111,\"#46039f\"],[0.2222222222222222,\"#7201a8\"],[0.3333333333333333,\"#9c179e\"],[0.4444444444444444,\"#bd3786\"],[0.5555555555555556,\"#d8576b\"],[0.6666666666666666,\"#ed7953\"],[0.7777777777777778,\"#fb9f3a\"],[0.8888888888888888,\"#fdca26\"],[1.0,\"#f0f921\"]],\"type\":\"contour\"}],\"heatmapgl\":[{\"colorbar\":{\"outlinewidth\":0,\"ticks\":\"\"},\"colorscale\":[[0.0,\"#0d0887\"],[0.1111111111111111,\"#46039f\"],[0.2222222222222222,\"#7201a8\"],[0.3333333333333333,\"#9c179e\"],[0.4444444444444444,\"#bd3786\"],[0.5555555555555556,\"#d8576b\"],[0.6666666666666666,\"#ed7953\"],[0.7777777777777778,\"#fb9f3a\"],[0.8888888888888888,\"#fdca26\"],[1.0,\"#f0f921\"]],\"type\":\"heatmapgl\"}],\"heatmap\":[{\"colorbar\":{\"outlinewidth\":0,\"ticks\":\"\"},\"colorscale\":[[0.0,\"#0d0887\"],[0.1111111111111111,\"#46039f\"],[0.2222222222222222,\"#7201a8\"],[0.3333333333333333,\"#9c179e\"],[0.4444444444444444,\"#bd3786\"],[0.5555555555555556,\"#d8576b\"],[0.6666666666666666,\"#ed7953\"],[0.7777777777777778,\"#fb9f3a\"],[0.8888888888888888,\"#fdca26\"],[1.0,\"#f0f921\"]],\"type\":\"heatmap\"}],\"histogram2dcontour\":[{\"colorbar\":{\"outlinewidth\":0,\"ticks\":\"\"},\"colorscale\":[[0.0,\"#0d0887\"],[0.1111111111111111,\"#46039f\"],[0.2222222222222222,\"#7201a8\"],[0.3333333333333333,\"#9c179e\"],[0.4444444444444444,\"#bd3786\"],[0.5555555555555556,\"#d8576b\"],[0.6666666666666666,\"#ed7953\"],[0.7777777777777778,\"#fb9f3a\"],[0.8888888888888888,\"#fdca26\"],[1.0,\"#f0f921\"]],\"type\":\"histogram2dcontour\"}],\"histogram2d\":[{\"colorbar\":{\"outlinewidth\":0,\"ticks\":\"\"},\"colorscale\":[[0.0,\"#0d0887\"],[0.1111111111111111,\"#46039f\"],[0.2222222222222222,\"#7201a8\"],[0.3333333333333333,\"#9c179e\"],[0.4444444444444444,\"#bd3786\"],[0.5555555555555556,\"#d8576b\"],[0.6666666666666666,\"#ed7953\"],[0.7777777777777778,\"#fb9f3a\"],[0.8888888888888888,\"#fdca26\"],[1.0,\"#f0f921\"]],\"type\":\"histogram2d\"}],\"histogram\":[{\"marker\":{\"pattern\":{\"fillmode\":\"overlay\",\"size\":10,\"solidity\":0.2}},\"type\":\"histogram\"}],\"mesh3d\":[{\"colorbar\":{\"outlinewidth\":0,\"ticks\":\"\"},\"type\":\"mesh3d\"}],\"parcoords\":[{\"line\":{\"colorbar\":{\"outlinewidth\":0,\"ticks\":\"\"}},\"type\":\"parcoords\"}],\"pie\":[{\"automargin\":true,\"type\":\"pie\"}],\"scatter3d\":[{\"line\":{\"colorbar\":{\"outlinewidth\":0,\"ticks\":\"\"}},\"marker\":{\"colorbar\":{\"outlinewidth\":0,\"ticks\":\"\"}},\"type\":\"scatter3d\"}],\"scattercarpet\":[{\"marker\":{\"colorbar\":{\"outlinewidth\":0,\"ticks\":\"\"}},\"type\":\"scattercarpet\"}],\"scattergeo\":[{\"marker\":{\"colorbar\":{\"outlinewidth\":0,\"ticks\":\"\"}},\"type\":\"scattergeo\"}],\"scattergl\":[{\"marker\":{\"colorbar\":{\"outlinewidth\":0,\"ticks\":\"\"}},\"type\":\"scattergl\"}],\"scattermapbox\":[{\"marker\":{\"colorbar\":{\"outlinewidth\":0,\"ticks\":\"\"}},\"type\":\"scattermapbox\"}],\"scatterpolargl\":[{\"marker\":{\"colorbar\":{\"outlinewidth\":0,\"ticks\":\"\"}},\"type\":\"scatterpolargl\"}],\"scatterpolar\":[{\"marker\":{\"colorbar\":{\"outlinewidth\":0,\"ticks\":\"\"}},\"type\":\"scatterpolar\"}],\"scatter\":[{\"fillpattern\":{\"fillmode\":\"overlay\",\"size\":10,\"solidity\":0.2},\"type\":\"scatter\"}],\"scatterternary\":[{\"marker\":{\"colorbar\":{\"outlinewidth\":0,\"ticks\":\"\"}},\"type\":\"scatterternary\"}],\"surface\":[{\"colorbar\":{\"outlinewidth\":0,\"ticks\":\"\"},\"colorscale\":[[0.0,\"#0d0887\"],[0.1111111111111111,\"#46039f\"],[0.2222222222222222,\"#7201a8\"],[0.3333333333333333,\"#9c179e\"],[0.4444444444444444,\"#bd3786\"],[0.5555555555555556,\"#d8576b\"],[0.6666666666666666,\"#ed7953\"],[0.7777777777777778,\"#fb9f3a\"],[0.8888888888888888,\"#fdca26\"],[1.0,\"#f0f921\"]],\"type\":\"surface\"}],\"table\":[{\"cells\":{\"fill\":{\"color\":\"#EBF0F8\"},\"line\":{\"color\":\"white\"}},\"header\":{\"fill\":{\"color\":\"#C8D4E3\"},\"line\":{\"color\":\"white\"}},\"type\":\"table\"}]},\"layout\":{\"annotationdefaults\":{\"arrowcolor\":\"#2a3f5f\",\"arrowhead\":0,\"arrowwidth\":1},\"autotypenumbers\":\"strict\",\"coloraxis\":{\"colorbar\":{\"outlinewidth\":0,\"ticks\":\"\"}},\"colorscale\":{\"diverging\":[[0,\"#8e0152\"],[0.1,\"#c51b7d\"],[0.2,\"#de77ae\"],[0.3,\"#f1b6da\"],[0.4,\"#fde0ef\"],[0.5,\"#f7f7f7\"],[0.6,\"#e6f5d0\"],[0.7,\"#b8e186\"],[0.8,\"#7fbc41\"],[0.9,\"#4d9221\"],[1,\"#276419\"]],\"sequential\":[[0.0,\"#0d0887\"],[0.1111111111111111,\"#46039f\"],[0.2222222222222222,\"#7201a8\"],[0.3333333333333333,\"#9c179e\"],[0.4444444444444444,\"#bd3786\"],[0.5555555555555556,\"#d8576b\"],[0.6666666666666666,\"#ed7953\"],[0.7777777777777778,\"#fb9f3a\"],[0.8888888888888888,\"#fdca26\"],[1.0,\"#f0f921\"]],\"sequentialminus\":[[0.0,\"#0d0887\"],[0.1111111111111111,\"#46039f\"],[0.2222222222222222,\"#7201a8\"],[0.3333333333333333,\"#9c179e\"],[0.4444444444444444,\"#bd3786\"],[0.5555555555555556,\"#d8576b\"],[0.6666666666666666,\"#ed7953\"],[0.7777777777777778,\"#fb9f3a\"],[0.8888888888888888,\"#fdca26\"],[1.0,\"#f0f921\"]]},\"colorway\":[\"#636efa\",\"#EF553B\",\"#00cc96\",\"#ab63fa\",\"#FFA15A\",\"#19d3f3\",\"#FF6692\",\"#B6E880\",\"#FF97FF\",\"#FECB52\"],\"font\":{\"color\":\"#2a3f5f\"},\"geo\":{\"bgcolor\":\"white\",\"lakecolor\":\"white\",\"landcolor\":\"#E5ECF6\",\"showlakes\":true,\"showland\":true,\"subunitcolor\":\"white\"},\"hoverlabel\":{\"align\":\"left\"},\"hovermode\":\"closest\",\"mapbox\":{\"style\":\"light\"},\"paper_bgcolor\":\"white\",\"plot_bgcolor\":\"#E5ECF6\",\"polar\":{\"angularaxis\":{\"gridcolor\":\"white\",\"linecolor\":\"white\",\"ticks\":\"\"},\"bgcolor\":\"#E5ECF6\",\"radialaxis\":{\"gridcolor\":\"white\",\"linecolor\":\"white\",\"ticks\":\"\"}},\"scene\":{\"xaxis\":{\"backgroundcolor\":\"#E5ECF6\",\"gridcolor\":\"white\",\"gridwidth\":2,\"linecolor\":\"white\",\"showbackground\":true,\"ticks\":\"\",\"zerolinecolor\":\"white\"},\"yaxis\":{\"backgroundcolor\":\"#E5ECF6\",\"gridcolor\":\"white\",\"gridwidth\":2,\"linecolor\":\"white\",\"showbackground\":true,\"ticks\":\"\",\"zerolinecolor\":\"white\"},\"zaxis\":{\"backgroundcolor\":\"#E5ECF6\",\"gridcolor\":\"white\",\"gridwidth\":2,\"linecolor\":\"white\",\"showbackground\":true,\"ticks\":\"\",\"zerolinecolor\":\"white\"}},\"shapedefaults\":{\"line\":{\"color\":\"#2a3f5f\"}},\"ternary\":{\"aaxis\":{\"gridcolor\":\"white\",\"linecolor\":\"white\",\"ticks\":\"\"},\"baxis\":{\"gridcolor\":\"white\",\"linecolor\":\"white\",\"ticks\":\"\"},\"bgcolor\":\"#E5ECF6\",\"caxis\":{\"gridcolor\":\"white\",\"linecolor\":\"white\",\"ticks\":\"\"}},\"title\":{\"x\":0.05},\"xaxis\":{\"automargin\":true,\"gridcolor\":\"white\",\"linecolor\":\"white\",\"ticks\":\"\",\"title\":{\"standoff\":15},\"zerolinecolor\":\"white\",\"zerolinewidth\":2},\"yaxis\":{\"automargin\":true,\"gridcolor\":\"white\",\"linecolor\":\"white\",\"ticks\":\"\",\"title\":{\"standoff\":15},\"zerolinecolor\":\"white\",\"zerolinewidth\":2}}},\"title\":{\"text\":\"2D Visualization of Word Vectors\"},\"xaxis\":{\"range\":[-50,50],\"title\":{\"text\":\"PC1\"}},\"yaxis\":{\"range\":[-50,50],\"title\":{\"text\":\"PC2\"}}},                        {\"responsive\": true}                    ).then(function(){\n                            \nvar gd = document.getElementById('5de3bef7-e87b-4ff2-8a9d-75277805861e');\nvar x = new MutationObserver(function (mutations, observer) {{\n        var display = window.getComputedStyle(gd).display;\n        if (!display || display === 'none') {{\n            console.log([gd, 'removed!']);\n            Plotly.purge(gd);\n            observer.disconnect();\n        }}\n}});\n\n// Listen for the removal of the full notebook cells\nvar notebookContainer = gd.closest('#notebook-container');\nif (notebookContainer) {{\n    x.observe(notebookContainer, {childList: true});\n}}\n\n// Listen for the clearing of the current output cell\nvar outputEl = gd.closest('.output');\nif (outputEl) {{\n    x.observe(outputEl, {childList: true});\n}}\n\n                        })                };                });            </script>        </div>"
     },
     "metadata": {},
     "output_type": "display_data"
    }
   ],
   "source": [
    "test_words_griner = [\"putin\", \"victor\"]\n",
    "plot_word_vectors_tppmi(tppmi_model.get_2d_representation([target_word_griner] + test_words_griner, selected_months=selected_months, use_tsne=False))"
   ]
  },
  {
   "cell_type": "code",
   "execution_count": 102,
   "metadata": {},
   "outputs": [],
   "source": [
    "#plot_cosine_similarity_tppmi(target_word_griner, test_words_griner, tppmi_model, selected_months)"
   ]
  },
  {
   "cell_type": "markdown",
   "metadata": {},
   "source": [
    "## Elon Musk Twitter takeover"
   ]
  },
  {
   "cell_type": "markdown",
   "metadata": {},
   "source": [
    "### Overview"
   ]
  },
  {
   "cell_type": "markdown",
   "metadata": {},
   "source": [
    "Business magnate Elon Musk initiated an acquisition of American social media company Twitter, Inc. on April 14, 2022, and concluded it on October 27, 2022. Musk had begun buying shares of the company in January 2022, becoming its largest shareholder by April with a 9.1 percent ownership stake\n",
    "\n",
    "source: [Wikipedia article](https://en.wikipedia.org/wiki/Acquisition_of_Twitter_by_Elon_Musk#:~:text=Business%20magnate%20Elon%20Musk%20initiated,a%209.1%20percent%20ownership%20stake.)"
   ]
  },
  {
   "cell_type": "code",
   "execution_count": 103,
   "metadata": {},
   "outputs": [],
   "source": [
    "target_word_twitter = \"twitter\""
   ]
  },
  {
   "cell_type": "code",
   "execution_count": 104,
   "metadata": {},
   "outputs": [],
   "source": [
    "selected_months_twitter = [\"sep\", \"oct\", \"nov\", \"dec\"]\n",
    "selected_models_monthly_twitter = {f\"model_{month}\": models_monthly[f\"model_{month}\"] for month in selected_months_twitter}"
   ]
  },
  {
   "cell_type": "code",
   "execution_count": 105,
   "metadata": {},
   "outputs": [],
   "source": [
    "title_twitter = f\"Evolution of the word {target_word_twitter} over time\"\n",
    "subtitle_twitter = f\"Period: {' - '.join([month.capitalize() for month in selected_months_twitter])}\""
   ]
  },
  {
   "cell_type": "code",
   "execution_count": 106,
   "metadata": {},
   "outputs": [
    {
     "name": "stdout",
     "output_type": "stream",
     "text": [
      "Word: twitter\n",
      "Month: Sep\n",
      "[('facebook', 0.9325878024101257), ('tweet', 0.8852959871292114), ('page', 0.8597615957260132)]\n",
      "--------------------------------\n",
      "Month: Oct\n",
      "[('facebook', 0.9247101545333862), ('instagram', 0.806344747543335), ('sms', 0.7980491518974304)]\n",
      "--------------------------------\n",
      "Month: Nov\n",
      "[('facebook', 0.8923001289367676), ('page', 0.7984558939933777), ('text', 0.7902756333351135)]\n",
      "--------------------------------\n",
      "Month: Dec\n",
      "[('facebook', 0.8520953059196472), ('musk', 0.8208754658699036), ('tweet', 0.7895939350128174)]\n",
      "--------------------------------\n"
     ]
    }
   ],
   "source": [
    "print_most_similar_cade(selected_models_monthly_twitter, target_word_twitter)"
   ]
  },
  {
   "cell_type": "markdown",
   "metadata": {},
   "source": [
    "### Temporaly changing embeddings"
   ]
  },
  {
   "cell_type": "code",
   "execution_count": 107,
   "metadata": {},
   "outputs": [
    {
     "data": {
      "text/html": "        <script type=\"text/javascript\">\n        window.PlotlyConfig = {MathJaxConfig: 'local'};\n        if (window.MathJax && window.MathJax.Hub && window.MathJax.Hub.Config) {window.MathJax.Hub.Config({SVG: {font: \"STIX-Web\"}});}\n        if (typeof require !== 'undefined') {\n        require.undef(\"plotly\");\n        requirejs.config({\n            paths: {\n                'plotly': ['https://cdn.plot.ly/plotly-2.25.2.min']\n            }\n        });\n        require(['plotly'], function(Plotly) {\n            window._Plotly = Plotly;\n        });\n        }\n        </script>\n        "
     },
     "metadata": {},
     "output_type": "display_data"
    },
    {
     "data": {
      "application/vnd.plotly.v1+json": {
       "data": [
        {
         "marker": {
          "color": "black"
         },
         "mode": "markers+text",
         "text": [
          "facebook"
         ],
         "textfont": {
          "color": "black"
         },
         "textposition": "top center",
         "x": [
          0.22244156897068024
         ],
         "y": [
          1.395979404449463
         ],
         "type": "scatter"
        },
        {
         "marker": {
          "color": "black"
         },
         "mode": "markers+text",
         "text": [
          "tweet"
         ],
         "textfont": {
          "color": "black"
         },
         "textposition": "top center",
         "x": [
          1.0982789993286133
         ],
         "y": [
          -0.8940282464027405
         ],
         "type": "scatter"
        },
        {
         "marker": {
          "color": "red"
         },
         "mode": "markers+text",
         "text": [
          "twitter_sep"
         ],
         "textfont": {
          "color": "red"
         },
         "textposition": "top center",
         "x": [
          -1.3207205533981323
         ],
         "y": [
          -0.5019510984420776
         ],
         "type": "scatter"
        },
        {
         "marker": {
          "color": "black"
         },
         "mode": "markers+text",
         "text": [
          "facebook"
         ],
         "textfont": {
          "color": "black"
         },
         "textposition": "top center",
         "x": [
          1.2081375122070312
         ],
         "y": [
          -0.7339012026786804
         ],
         "type": "scatter"
        },
        {
         "marker": {
          "color": "black"
         },
         "mode": "markers+text",
         "text": [
          "instagram"
         ],
         "textfont": {
          "color": "black"
         },
         "textposition": "top center",
         "x": [
          -1.240702748298645
         ],
         "y": [
          -0.6799695491790771
         ],
         "type": "scatter"
        },
        {
         "marker": {
          "color": "red"
         },
         "mode": "markers+text",
         "text": [
          "twitter_oct"
         ],
         "textfont": {
          "color": "red"
         },
         "textposition": "top center",
         "x": [
          0.03256522864103317
         ],
         "y": [
          1.4138706922531128
         ],
         "type": "scatter"
        },
        {
         "marker": {
          "color": "black"
         },
         "mode": "markers+text",
         "text": [
          "facebook"
         ],
         "textfont": {
          "color": "black"
         },
         "textposition": "top center",
         "x": [
          0.08766288310289383
         ],
         "y": [
          -1.4111933708190918
         ],
         "type": "scatter"
        },
        {
         "marker": {
          "color": "black"
         },
         "mode": "markers+text",
         "text": [
          "page"
         ],
         "textfont": {
          "color": "black"
         },
         "textposition": "top center",
         "x": [
          1.1785582304000854
         ],
         "y": [
          0.7855953574180603
         ],
         "type": "scatter"
        },
        {
         "marker": {
          "color": "red"
         },
         "mode": "markers+text",
         "text": [
          "twitter_nov"
         ],
         "textfont": {
          "color": "red"
         },
         "textposition": "top center",
         "x": [
          -1.2662211656570435
         ],
         "y": [
          0.6255980730056763
         ],
         "type": "scatter"
        },
        {
         "marker": {
          "color": "black"
         },
         "mode": "markers+text",
         "text": [
          "facebook"
         ],
         "textfont": {
          "color": "black"
         },
         "textposition": "top center",
         "x": [
          0.015575729310512543
         ],
         "y": [
          -1.4140830039978027
         ],
         "type": "scatter"
        },
        {
         "marker": {
          "color": "black"
         },
         "mode": "markers+text",
         "text": [
          "musk"
         ],
         "textfont": {
          "color": "black"
         },
         "textposition": "top center",
         "x": [
          -1.232458472251892
         ],
         "y": [
          0.6904001235961914
         ],
         "type": "scatter"
        },
        {
         "marker": {
          "color": "red"
         },
         "mode": "markers+text",
         "text": [
          "twitter_dec"
         ],
         "textfont": {
          "color": "red"
         },
         "textposition": "top center",
         "x": [
          1.2168827056884766
         ],
         "y": [
          0.7236828804016113
         ],
         "type": "scatter"
        },
        {
         "marker": {
          "color": "red",
          "size": 10,
          "symbol": "diamond"
         },
         "mode": "markers",
         "x": [
          -1.3207205533981323
         ],
         "y": [
          -0.5019510984420776
         ],
         "type": "scatter"
        },
        {
         "line": {
          "color": "red"
         },
         "mode": "lines",
         "x": [
          -1.3207205533981323,
          0.03256522864103317
         ],
         "y": [
          -0.5019510984420776,
          1.4138706922531128
         ],
         "type": "scatter"
        },
        {
         "line": {
          "color": "red"
         },
         "mode": "lines",
         "x": [
          0.03256522864103317,
          -1.2662211656570435
         ],
         "y": [
          1.4138706922531128,
          0.6255980730056763
         ],
         "type": "scatter"
        },
        {
         "line": {
          "color": "red"
         },
         "mode": "lines",
         "x": [
          -1.2662211656570435,
          1.2168827056884766
         ],
         "y": [
          0.6255980730056763,
          0.7236828804016113
         ],
         "type": "scatter"
        }
       ],
       "layout": {
        "annotations": [
         {
          "showarrow": false,
          "text": "Period: Sep - Oct - Nov - Dec",
          "x": 0.5,
          "xref": "paper",
          "y": 1.08,
          "yref": "paper"
         }
        ],
        "showlegend": false,
        "template": {
         "data": {
          "barpolar": [
           {
            "marker": {
             "line": {
              "color": "#E5ECF6",
              "width": 0.5
             },
             "pattern": {
              "fillmode": "overlay",
              "size": 10,
              "solidity": 0.2
             }
            },
            "type": "barpolar"
           }
          ],
          "bar": [
           {
            "error_x": {
             "color": "#2a3f5f"
            },
            "error_y": {
             "color": "#2a3f5f"
            },
            "marker": {
             "line": {
              "color": "#E5ECF6",
              "width": 0.5
             },
             "pattern": {
              "fillmode": "overlay",
              "size": 10,
              "solidity": 0.2
             }
            },
            "type": "bar"
           }
          ],
          "carpet": [
           {
            "aaxis": {
             "endlinecolor": "#2a3f5f",
             "gridcolor": "white",
             "linecolor": "white",
             "minorgridcolor": "white",
             "startlinecolor": "#2a3f5f"
            },
            "baxis": {
             "endlinecolor": "#2a3f5f",
             "gridcolor": "white",
             "linecolor": "white",
             "minorgridcolor": "white",
             "startlinecolor": "#2a3f5f"
            },
            "type": "carpet"
           }
          ],
          "choropleth": [
           {
            "colorbar": {
             "outlinewidth": 0,
             "ticks": ""
            },
            "type": "choropleth"
           }
          ],
          "contourcarpet": [
           {
            "colorbar": {
             "outlinewidth": 0,
             "ticks": ""
            },
            "type": "contourcarpet"
           }
          ],
          "contour": [
           {
            "colorbar": {
             "outlinewidth": 0,
             "ticks": ""
            },
            "colorscale": [
             [
              0.0,
              "#0d0887"
             ],
             [
              0.1111111111111111,
              "#46039f"
             ],
             [
              0.2222222222222222,
              "#7201a8"
             ],
             [
              0.3333333333333333,
              "#9c179e"
             ],
             [
              0.4444444444444444,
              "#bd3786"
             ],
             [
              0.5555555555555556,
              "#d8576b"
             ],
             [
              0.6666666666666666,
              "#ed7953"
             ],
             [
              0.7777777777777778,
              "#fb9f3a"
             ],
             [
              0.8888888888888888,
              "#fdca26"
             ],
             [
              1.0,
              "#f0f921"
             ]
            ],
            "type": "contour"
           }
          ],
          "heatmapgl": [
           {
            "colorbar": {
             "outlinewidth": 0,
             "ticks": ""
            },
            "colorscale": [
             [
              0.0,
              "#0d0887"
             ],
             [
              0.1111111111111111,
              "#46039f"
             ],
             [
              0.2222222222222222,
              "#7201a8"
             ],
             [
              0.3333333333333333,
              "#9c179e"
             ],
             [
              0.4444444444444444,
              "#bd3786"
             ],
             [
              0.5555555555555556,
              "#d8576b"
             ],
             [
              0.6666666666666666,
              "#ed7953"
             ],
             [
              0.7777777777777778,
              "#fb9f3a"
             ],
             [
              0.8888888888888888,
              "#fdca26"
             ],
             [
              1.0,
              "#f0f921"
             ]
            ],
            "type": "heatmapgl"
           }
          ],
          "heatmap": [
           {
            "colorbar": {
             "outlinewidth": 0,
             "ticks": ""
            },
            "colorscale": [
             [
              0.0,
              "#0d0887"
             ],
             [
              0.1111111111111111,
              "#46039f"
             ],
             [
              0.2222222222222222,
              "#7201a8"
             ],
             [
              0.3333333333333333,
              "#9c179e"
             ],
             [
              0.4444444444444444,
              "#bd3786"
             ],
             [
              0.5555555555555556,
              "#d8576b"
             ],
             [
              0.6666666666666666,
              "#ed7953"
             ],
             [
              0.7777777777777778,
              "#fb9f3a"
             ],
             [
              0.8888888888888888,
              "#fdca26"
             ],
             [
              1.0,
              "#f0f921"
             ]
            ],
            "type": "heatmap"
           }
          ],
          "histogram2dcontour": [
           {
            "colorbar": {
             "outlinewidth": 0,
             "ticks": ""
            },
            "colorscale": [
             [
              0.0,
              "#0d0887"
             ],
             [
              0.1111111111111111,
              "#46039f"
             ],
             [
              0.2222222222222222,
              "#7201a8"
             ],
             [
              0.3333333333333333,
              "#9c179e"
             ],
             [
              0.4444444444444444,
              "#bd3786"
             ],
             [
              0.5555555555555556,
              "#d8576b"
             ],
             [
              0.6666666666666666,
              "#ed7953"
             ],
             [
              0.7777777777777778,
              "#fb9f3a"
             ],
             [
              0.8888888888888888,
              "#fdca26"
             ],
             [
              1.0,
              "#f0f921"
             ]
            ],
            "type": "histogram2dcontour"
           }
          ],
          "histogram2d": [
           {
            "colorbar": {
             "outlinewidth": 0,
             "ticks": ""
            },
            "colorscale": [
             [
              0.0,
              "#0d0887"
             ],
             [
              0.1111111111111111,
              "#46039f"
             ],
             [
              0.2222222222222222,
              "#7201a8"
             ],
             [
              0.3333333333333333,
              "#9c179e"
             ],
             [
              0.4444444444444444,
              "#bd3786"
             ],
             [
              0.5555555555555556,
              "#d8576b"
             ],
             [
              0.6666666666666666,
              "#ed7953"
             ],
             [
              0.7777777777777778,
              "#fb9f3a"
             ],
             [
              0.8888888888888888,
              "#fdca26"
             ],
             [
              1.0,
              "#f0f921"
             ]
            ],
            "type": "histogram2d"
           }
          ],
          "histogram": [
           {
            "marker": {
             "pattern": {
              "fillmode": "overlay",
              "size": 10,
              "solidity": 0.2
             }
            },
            "type": "histogram"
           }
          ],
          "mesh3d": [
           {
            "colorbar": {
             "outlinewidth": 0,
             "ticks": ""
            },
            "type": "mesh3d"
           }
          ],
          "parcoords": [
           {
            "line": {
             "colorbar": {
              "outlinewidth": 0,
              "ticks": ""
             }
            },
            "type": "parcoords"
           }
          ],
          "pie": [
           {
            "automargin": true,
            "type": "pie"
           }
          ],
          "scatter3d": [
           {
            "line": {
             "colorbar": {
              "outlinewidth": 0,
              "ticks": ""
             }
            },
            "marker": {
             "colorbar": {
              "outlinewidth": 0,
              "ticks": ""
             }
            },
            "type": "scatter3d"
           }
          ],
          "scattercarpet": [
           {
            "marker": {
             "colorbar": {
              "outlinewidth": 0,
              "ticks": ""
             }
            },
            "type": "scattercarpet"
           }
          ],
          "scattergeo": [
           {
            "marker": {
             "colorbar": {
              "outlinewidth": 0,
              "ticks": ""
             }
            },
            "type": "scattergeo"
           }
          ],
          "scattergl": [
           {
            "marker": {
             "colorbar": {
              "outlinewidth": 0,
              "ticks": ""
             }
            },
            "type": "scattergl"
           }
          ],
          "scattermapbox": [
           {
            "marker": {
             "colorbar": {
              "outlinewidth": 0,
              "ticks": ""
             }
            },
            "type": "scattermapbox"
           }
          ],
          "scatterpolargl": [
           {
            "marker": {
             "colorbar": {
              "outlinewidth": 0,
              "ticks": ""
             }
            },
            "type": "scatterpolargl"
           }
          ],
          "scatterpolar": [
           {
            "marker": {
             "colorbar": {
              "outlinewidth": 0,
              "ticks": ""
             }
            },
            "type": "scatterpolar"
           }
          ],
          "scatter": [
           {
            "fillpattern": {
             "fillmode": "overlay",
             "size": 10,
             "solidity": 0.2
            },
            "type": "scatter"
           }
          ],
          "scatterternary": [
           {
            "marker": {
             "colorbar": {
              "outlinewidth": 0,
              "ticks": ""
             }
            },
            "type": "scatterternary"
           }
          ],
          "surface": [
           {
            "colorbar": {
             "outlinewidth": 0,
             "ticks": ""
            },
            "colorscale": [
             [
              0.0,
              "#0d0887"
             ],
             [
              0.1111111111111111,
              "#46039f"
             ],
             [
              0.2222222222222222,
              "#7201a8"
             ],
             [
              0.3333333333333333,
              "#9c179e"
             ],
             [
              0.4444444444444444,
              "#bd3786"
             ],
             [
              0.5555555555555556,
              "#d8576b"
             ],
             [
              0.6666666666666666,
              "#ed7953"
             ],
             [
              0.7777777777777778,
              "#fb9f3a"
             ],
             [
              0.8888888888888888,
              "#fdca26"
             ],
             [
              1.0,
              "#f0f921"
             ]
            ],
            "type": "surface"
           }
          ],
          "table": [
           {
            "cells": {
             "fill": {
              "color": "#EBF0F8"
             },
             "line": {
              "color": "white"
             }
            },
            "header": {
             "fill": {
              "color": "#C8D4E3"
             },
             "line": {
              "color": "white"
             }
            },
            "type": "table"
           }
          ]
         },
         "layout": {
          "annotationdefaults": {
           "arrowcolor": "#2a3f5f",
           "arrowhead": 0,
           "arrowwidth": 1
          },
          "autotypenumbers": "strict",
          "coloraxis": {
           "colorbar": {
            "outlinewidth": 0,
            "ticks": ""
           }
          },
          "colorscale": {
           "diverging": [
            [
             0,
             "#8e0152"
            ],
            [
             0.1,
             "#c51b7d"
            ],
            [
             0.2,
             "#de77ae"
            ],
            [
             0.3,
             "#f1b6da"
            ],
            [
             0.4,
             "#fde0ef"
            ],
            [
             0.5,
             "#f7f7f7"
            ],
            [
             0.6,
             "#e6f5d0"
            ],
            [
             0.7,
             "#b8e186"
            ],
            [
             0.8,
             "#7fbc41"
            ],
            [
             0.9,
             "#4d9221"
            ],
            [
             1,
             "#276419"
            ]
           ],
           "sequential": [
            [
             0.0,
             "#0d0887"
            ],
            [
             0.1111111111111111,
             "#46039f"
            ],
            [
             0.2222222222222222,
             "#7201a8"
            ],
            [
             0.3333333333333333,
             "#9c179e"
            ],
            [
             0.4444444444444444,
             "#bd3786"
            ],
            [
             0.5555555555555556,
             "#d8576b"
            ],
            [
             0.6666666666666666,
             "#ed7953"
            ],
            [
             0.7777777777777778,
             "#fb9f3a"
            ],
            [
             0.8888888888888888,
             "#fdca26"
            ],
            [
             1.0,
             "#f0f921"
            ]
           ],
           "sequentialminus": [
            [
             0.0,
             "#0d0887"
            ],
            [
             0.1111111111111111,
             "#46039f"
            ],
            [
             0.2222222222222222,
             "#7201a8"
            ],
            [
             0.3333333333333333,
             "#9c179e"
            ],
            [
             0.4444444444444444,
             "#bd3786"
            ],
            [
             0.5555555555555556,
             "#d8576b"
            ],
            [
             0.6666666666666666,
             "#ed7953"
            ],
            [
             0.7777777777777778,
             "#fb9f3a"
            ],
            [
             0.8888888888888888,
             "#fdca26"
            ],
            [
             1.0,
             "#f0f921"
            ]
           ]
          },
          "colorway": [
           "#636efa",
           "#EF553B",
           "#00cc96",
           "#ab63fa",
           "#FFA15A",
           "#19d3f3",
           "#FF6692",
           "#B6E880",
           "#FF97FF",
           "#FECB52"
          ],
          "font": {
           "color": "#2a3f5f"
          },
          "geo": {
           "bgcolor": "white",
           "lakecolor": "white",
           "landcolor": "#E5ECF6",
           "showlakes": true,
           "showland": true,
           "subunitcolor": "white"
          },
          "hoverlabel": {
           "align": "left"
          },
          "hovermode": "closest",
          "mapbox": {
           "style": "light"
          },
          "paper_bgcolor": "white",
          "plot_bgcolor": "#E5ECF6",
          "polar": {
           "angularaxis": {
            "gridcolor": "white",
            "linecolor": "white",
            "ticks": ""
           },
           "bgcolor": "#E5ECF6",
           "radialaxis": {
            "gridcolor": "white",
            "linecolor": "white",
            "ticks": ""
           }
          },
          "scene": {
           "xaxis": {
            "backgroundcolor": "#E5ECF6",
            "gridcolor": "white",
            "gridwidth": 2,
            "linecolor": "white",
            "showbackground": true,
            "ticks": "",
            "zerolinecolor": "white"
           },
           "yaxis": {
            "backgroundcolor": "#E5ECF6",
            "gridcolor": "white",
            "gridwidth": 2,
            "linecolor": "white",
            "showbackground": true,
            "ticks": "",
            "zerolinecolor": "white"
           },
           "zaxis": {
            "backgroundcolor": "#E5ECF6",
            "gridcolor": "white",
            "gridwidth": 2,
            "linecolor": "white",
            "showbackground": true,
            "ticks": "",
            "zerolinecolor": "white"
           }
          },
          "shapedefaults": {
           "line": {
            "color": "#2a3f5f"
           }
          },
          "ternary": {
           "aaxis": {
            "gridcolor": "white",
            "linecolor": "white",
            "ticks": ""
           },
           "baxis": {
            "gridcolor": "white",
            "linecolor": "white",
            "ticks": ""
           },
           "bgcolor": "#E5ECF6",
           "caxis": {
            "gridcolor": "white",
            "linecolor": "white",
            "ticks": ""
           }
          },
          "title": {
           "x": 0.05
          },
          "xaxis": {
           "automargin": true,
           "gridcolor": "white",
           "linecolor": "white",
           "ticks": "",
           "title": {
            "standoff": 15
           },
           "zerolinecolor": "white",
           "zerolinewidth": 2
          },
          "yaxis": {
           "automargin": true,
           "gridcolor": "white",
           "linecolor": "white",
           "ticks": "",
           "title": {
            "standoff": 15
           },
           "zerolinecolor": "white",
           "zerolinewidth": 2
          }
         }
        },
        "title": {
         "font": {
          "size": 22
         },
         "text": "Evolution of the word twitter over time",
         "x": 0.5
        },
        "xaxis": {
         "title": {
          "text": "X"
         }
        },
        "yaxis": {
         "title": {
          "text": "Y"
         }
        }
       },
       "config": {
        "showLink": false,
        "linkText": "Export to plot.ly",
        "plotlyServerURL": "https://plot.ly"
       }
      },
      "text/html": "<div>                            <div id=\"90ea8103-69ec-4eb2-9b74-62e9cd47ace8\" class=\"plotly-graph-div\" style=\"height:525px; width:100%;\"></div>            <script type=\"text/javascript\">                require([\"plotly\"], function(Plotly) {                    window.PLOTLYENV=window.PLOTLYENV || {};                                    if (document.getElementById(\"90ea8103-69ec-4eb2-9b74-62e9cd47ace8\")) {                    Plotly.newPlot(                        \"90ea8103-69ec-4eb2-9b74-62e9cd47ace8\",                        [{\"marker\":{\"color\":\"black\"},\"mode\":\"markers+text\",\"text\":[\"facebook\"],\"textfont\":{\"color\":\"black\"},\"textposition\":\"top center\",\"x\":[0.22244156897068024],\"y\":[1.395979404449463],\"type\":\"scatter\"},{\"marker\":{\"color\":\"black\"},\"mode\":\"markers+text\",\"text\":[\"tweet\"],\"textfont\":{\"color\":\"black\"},\"textposition\":\"top center\",\"x\":[1.0982789993286133],\"y\":[-0.8940282464027405],\"type\":\"scatter\"},{\"marker\":{\"color\":\"red\"},\"mode\":\"markers+text\",\"text\":[\"twitter_sep\"],\"textfont\":{\"color\":\"red\"},\"textposition\":\"top center\",\"x\":[-1.3207205533981323],\"y\":[-0.5019510984420776],\"type\":\"scatter\"},{\"marker\":{\"color\":\"black\"},\"mode\":\"markers+text\",\"text\":[\"facebook\"],\"textfont\":{\"color\":\"black\"},\"textposition\":\"top center\",\"x\":[1.2081375122070312],\"y\":[-0.7339012026786804],\"type\":\"scatter\"},{\"marker\":{\"color\":\"black\"},\"mode\":\"markers+text\",\"text\":[\"instagram\"],\"textfont\":{\"color\":\"black\"},\"textposition\":\"top center\",\"x\":[-1.240702748298645],\"y\":[-0.6799695491790771],\"type\":\"scatter\"},{\"marker\":{\"color\":\"red\"},\"mode\":\"markers+text\",\"text\":[\"twitter_oct\"],\"textfont\":{\"color\":\"red\"},\"textposition\":\"top center\",\"x\":[0.03256522864103317],\"y\":[1.4138706922531128],\"type\":\"scatter\"},{\"marker\":{\"color\":\"black\"},\"mode\":\"markers+text\",\"text\":[\"facebook\"],\"textfont\":{\"color\":\"black\"},\"textposition\":\"top center\",\"x\":[0.08766288310289383],\"y\":[-1.4111933708190918],\"type\":\"scatter\"},{\"marker\":{\"color\":\"black\"},\"mode\":\"markers+text\",\"text\":[\"page\"],\"textfont\":{\"color\":\"black\"},\"textposition\":\"top center\",\"x\":[1.1785582304000854],\"y\":[0.7855953574180603],\"type\":\"scatter\"},{\"marker\":{\"color\":\"red\"},\"mode\":\"markers+text\",\"text\":[\"twitter_nov\"],\"textfont\":{\"color\":\"red\"},\"textposition\":\"top center\",\"x\":[-1.2662211656570435],\"y\":[0.6255980730056763],\"type\":\"scatter\"},{\"marker\":{\"color\":\"black\"},\"mode\":\"markers+text\",\"text\":[\"facebook\"],\"textfont\":{\"color\":\"black\"},\"textposition\":\"top center\",\"x\":[0.015575729310512543],\"y\":[-1.4140830039978027],\"type\":\"scatter\"},{\"marker\":{\"color\":\"black\"},\"mode\":\"markers+text\",\"text\":[\"musk\"],\"textfont\":{\"color\":\"black\"},\"textposition\":\"top center\",\"x\":[-1.232458472251892],\"y\":[0.6904001235961914],\"type\":\"scatter\"},{\"marker\":{\"color\":\"red\"},\"mode\":\"markers+text\",\"text\":[\"twitter_dec\"],\"textfont\":{\"color\":\"red\"},\"textposition\":\"top center\",\"x\":[1.2168827056884766],\"y\":[0.7236828804016113],\"type\":\"scatter\"},{\"marker\":{\"color\":\"red\",\"size\":10,\"symbol\":\"diamond\"},\"mode\":\"markers\",\"x\":[-1.3207205533981323],\"y\":[-0.5019510984420776],\"type\":\"scatter\"},{\"line\":{\"color\":\"red\"},\"mode\":\"lines\",\"x\":[-1.3207205533981323,0.03256522864103317],\"y\":[-0.5019510984420776,1.4138706922531128],\"type\":\"scatter\"},{\"line\":{\"color\":\"red\"},\"mode\":\"lines\",\"x\":[0.03256522864103317,-1.2662211656570435],\"y\":[1.4138706922531128,0.6255980730056763],\"type\":\"scatter\"},{\"line\":{\"color\":\"red\"},\"mode\":\"lines\",\"x\":[-1.2662211656570435,1.2168827056884766],\"y\":[0.6255980730056763,0.7236828804016113],\"type\":\"scatter\"}],                        {\"annotations\":[{\"showarrow\":false,\"text\":\"Period: Sep - Oct - Nov - Dec\",\"x\":0.5,\"xref\":\"paper\",\"y\":1.08,\"yref\":\"paper\"}],\"showlegend\":false,\"template\":{\"data\":{\"barpolar\":[{\"marker\":{\"line\":{\"color\":\"#E5ECF6\",\"width\":0.5},\"pattern\":{\"fillmode\":\"overlay\",\"size\":10,\"solidity\":0.2}},\"type\":\"barpolar\"}],\"bar\":[{\"error_x\":{\"color\":\"#2a3f5f\"},\"error_y\":{\"color\":\"#2a3f5f\"},\"marker\":{\"line\":{\"color\":\"#E5ECF6\",\"width\":0.5},\"pattern\":{\"fillmode\":\"overlay\",\"size\":10,\"solidity\":0.2}},\"type\":\"bar\"}],\"carpet\":[{\"aaxis\":{\"endlinecolor\":\"#2a3f5f\",\"gridcolor\":\"white\",\"linecolor\":\"white\",\"minorgridcolor\":\"white\",\"startlinecolor\":\"#2a3f5f\"},\"baxis\":{\"endlinecolor\":\"#2a3f5f\",\"gridcolor\":\"white\",\"linecolor\":\"white\",\"minorgridcolor\":\"white\",\"startlinecolor\":\"#2a3f5f\"},\"type\":\"carpet\"}],\"choropleth\":[{\"colorbar\":{\"outlinewidth\":0,\"ticks\":\"\"},\"type\":\"choropleth\"}],\"contourcarpet\":[{\"colorbar\":{\"outlinewidth\":0,\"ticks\":\"\"},\"type\":\"contourcarpet\"}],\"contour\":[{\"colorbar\":{\"outlinewidth\":0,\"ticks\":\"\"},\"colorscale\":[[0.0,\"#0d0887\"],[0.1111111111111111,\"#46039f\"],[0.2222222222222222,\"#7201a8\"],[0.3333333333333333,\"#9c179e\"],[0.4444444444444444,\"#bd3786\"],[0.5555555555555556,\"#d8576b\"],[0.6666666666666666,\"#ed7953\"],[0.7777777777777778,\"#fb9f3a\"],[0.8888888888888888,\"#fdca26\"],[1.0,\"#f0f921\"]],\"type\":\"contour\"}],\"heatmapgl\":[{\"colorbar\":{\"outlinewidth\":0,\"ticks\":\"\"},\"colorscale\":[[0.0,\"#0d0887\"],[0.1111111111111111,\"#46039f\"],[0.2222222222222222,\"#7201a8\"],[0.3333333333333333,\"#9c179e\"],[0.4444444444444444,\"#bd3786\"],[0.5555555555555556,\"#d8576b\"],[0.6666666666666666,\"#ed7953\"],[0.7777777777777778,\"#fb9f3a\"],[0.8888888888888888,\"#fdca26\"],[1.0,\"#f0f921\"]],\"type\":\"heatmapgl\"}],\"heatmap\":[{\"colorbar\":{\"outlinewidth\":0,\"ticks\":\"\"},\"colorscale\":[[0.0,\"#0d0887\"],[0.1111111111111111,\"#46039f\"],[0.2222222222222222,\"#7201a8\"],[0.3333333333333333,\"#9c179e\"],[0.4444444444444444,\"#bd3786\"],[0.5555555555555556,\"#d8576b\"],[0.6666666666666666,\"#ed7953\"],[0.7777777777777778,\"#fb9f3a\"],[0.8888888888888888,\"#fdca26\"],[1.0,\"#f0f921\"]],\"type\":\"heatmap\"}],\"histogram2dcontour\":[{\"colorbar\":{\"outlinewidth\":0,\"ticks\":\"\"},\"colorscale\":[[0.0,\"#0d0887\"],[0.1111111111111111,\"#46039f\"],[0.2222222222222222,\"#7201a8\"],[0.3333333333333333,\"#9c179e\"],[0.4444444444444444,\"#bd3786\"],[0.5555555555555556,\"#d8576b\"],[0.6666666666666666,\"#ed7953\"],[0.7777777777777778,\"#fb9f3a\"],[0.8888888888888888,\"#fdca26\"],[1.0,\"#f0f921\"]],\"type\":\"histogram2dcontour\"}],\"histogram2d\":[{\"colorbar\":{\"outlinewidth\":0,\"ticks\":\"\"},\"colorscale\":[[0.0,\"#0d0887\"],[0.1111111111111111,\"#46039f\"],[0.2222222222222222,\"#7201a8\"],[0.3333333333333333,\"#9c179e\"],[0.4444444444444444,\"#bd3786\"],[0.5555555555555556,\"#d8576b\"],[0.6666666666666666,\"#ed7953\"],[0.7777777777777778,\"#fb9f3a\"],[0.8888888888888888,\"#fdca26\"],[1.0,\"#f0f921\"]],\"type\":\"histogram2d\"}],\"histogram\":[{\"marker\":{\"pattern\":{\"fillmode\":\"overlay\",\"size\":10,\"solidity\":0.2}},\"type\":\"histogram\"}],\"mesh3d\":[{\"colorbar\":{\"outlinewidth\":0,\"ticks\":\"\"},\"type\":\"mesh3d\"}],\"parcoords\":[{\"line\":{\"colorbar\":{\"outlinewidth\":0,\"ticks\":\"\"}},\"type\":\"parcoords\"}],\"pie\":[{\"automargin\":true,\"type\":\"pie\"}],\"scatter3d\":[{\"line\":{\"colorbar\":{\"outlinewidth\":0,\"ticks\":\"\"}},\"marker\":{\"colorbar\":{\"outlinewidth\":0,\"ticks\":\"\"}},\"type\":\"scatter3d\"}],\"scattercarpet\":[{\"marker\":{\"colorbar\":{\"outlinewidth\":0,\"ticks\":\"\"}},\"type\":\"scattercarpet\"}],\"scattergeo\":[{\"marker\":{\"colorbar\":{\"outlinewidth\":0,\"ticks\":\"\"}},\"type\":\"scattergeo\"}],\"scattergl\":[{\"marker\":{\"colorbar\":{\"outlinewidth\":0,\"ticks\":\"\"}},\"type\":\"scattergl\"}],\"scattermapbox\":[{\"marker\":{\"colorbar\":{\"outlinewidth\":0,\"ticks\":\"\"}},\"type\":\"scattermapbox\"}],\"scatterpolargl\":[{\"marker\":{\"colorbar\":{\"outlinewidth\":0,\"ticks\":\"\"}},\"type\":\"scatterpolargl\"}],\"scatterpolar\":[{\"marker\":{\"colorbar\":{\"outlinewidth\":0,\"ticks\":\"\"}},\"type\":\"scatterpolar\"}],\"scatter\":[{\"fillpattern\":{\"fillmode\":\"overlay\",\"size\":10,\"solidity\":0.2},\"type\":\"scatter\"}],\"scatterternary\":[{\"marker\":{\"colorbar\":{\"outlinewidth\":0,\"ticks\":\"\"}},\"type\":\"scatterternary\"}],\"surface\":[{\"colorbar\":{\"outlinewidth\":0,\"ticks\":\"\"},\"colorscale\":[[0.0,\"#0d0887\"],[0.1111111111111111,\"#46039f\"],[0.2222222222222222,\"#7201a8\"],[0.3333333333333333,\"#9c179e\"],[0.4444444444444444,\"#bd3786\"],[0.5555555555555556,\"#d8576b\"],[0.6666666666666666,\"#ed7953\"],[0.7777777777777778,\"#fb9f3a\"],[0.8888888888888888,\"#fdca26\"],[1.0,\"#f0f921\"]],\"type\":\"surface\"}],\"table\":[{\"cells\":{\"fill\":{\"color\":\"#EBF0F8\"},\"line\":{\"color\":\"white\"}},\"header\":{\"fill\":{\"color\":\"#C8D4E3\"},\"line\":{\"color\":\"white\"}},\"type\":\"table\"}]},\"layout\":{\"annotationdefaults\":{\"arrowcolor\":\"#2a3f5f\",\"arrowhead\":0,\"arrowwidth\":1},\"autotypenumbers\":\"strict\",\"coloraxis\":{\"colorbar\":{\"outlinewidth\":0,\"ticks\":\"\"}},\"colorscale\":{\"diverging\":[[0,\"#8e0152\"],[0.1,\"#c51b7d\"],[0.2,\"#de77ae\"],[0.3,\"#f1b6da\"],[0.4,\"#fde0ef\"],[0.5,\"#f7f7f7\"],[0.6,\"#e6f5d0\"],[0.7,\"#b8e186\"],[0.8,\"#7fbc41\"],[0.9,\"#4d9221\"],[1,\"#276419\"]],\"sequential\":[[0.0,\"#0d0887\"],[0.1111111111111111,\"#46039f\"],[0.2222222222222222,\"#7201a8\"],[0.3333333333333333,\"#9c179e\"],[0.4444444444444444,\"#bd3786\"],[0.5555555555555556,\"#d8576b\"],[0.6666666666666666,\"#ed7953\"],[0.7777777777777778,\"#fb9f3a\"],[0.8888888888888888,\"#fdca26\"],[1.0,\"#f0f921\"]],\"sequentialminus\":[[0.0,\"#0d0887\"],[0.1111111111111111,\"#46039f\"],[0.2222222222222222,\"#7201a8\"],[0.3333333333333333,\"#9c179e\"],[0.4444444444444444,\"#bd3786\"],[0.5555555555555556,\"#d8576b\"],[0.6666666666666666,\"#ed7953\"],[0.7777777777777778,\"#fb9f3a\"],[0.8888888888888888,\"#fdca26\"],[1.0,\"#f0f921\"]]},\"colorway\":[\"#636efa\",\"#EF553B\",\"#00cc96\",\"#ab63fa\",\"#FFA15A\",\"#19d3f3\",\"#FF6692\",\"#B6E880\",\"#FF97FF\",\"#FECB52\"],\"font\":{\"color\":\"#2a3f5f\"},\"geo\":{\"bgcolor\":\"white\",\"lakecolor\":\"white\",\"landcolor\":\"#E5ECF6\",\"showlakes\":true,\"showland\":true,\"subunitcolor\":\"white\"},\"hoverlabel\":{\"align\":\"left\"},\"hovermode\":\"closest\",\"mapbox\":{\"style\":\"light\"},\"paper_bgcolor\":\"white\",\"plot_bgcolor\":\"#E5ECF6\",\"polar\":{\"angularaxis\":{\"gridcolor\":\"white\",\"linecolor\":\"white\",\"ticks\":\"\"},\"bgcolor\":\"#E5ECF6\",\"radialaxis\":{\"gridcolor\":\"white\",\"linecolor\":\"white\",\"ticks\":\"\"}},\"scene\":{\"xaxis\":{\"backgroundcolor\":\"#E5ECF6\",\"gridcolor\":\"white\",\"gridwidth\":2,\"linecolor\":\"white\",\"showbackground\":true,\"ticks\":\"\",\"zerolinecolor\":\"white\"},\"yaxis\":{\"backgroundcolor\":\"#E5ECF6\",\"gridcolor\":\"white\",\"gridwidth\":2,\"linecolor\":\"white\",\"showbackground\":true,\"ticks\":\"\",\"zerolinecolor\":\"white\"},\"zaxis\":{\"backgroundcolor\":\"#E5ECF6\",\"gridcolor\":\"white\",\"gridwidth\":2,\"linecolor\":\"white\",\"showbackground\":true,\"ticks\":\"\",\"zerolinecolor\":\"white\"}},\"shapedefaults\":{\"line\":{\"color\":\"#2a3f5f\"}},\"ternary\":{\"aaxis\":{\"gridcolor\":\"white\",\"linecolor\":\"white\",\"ticks\":\"\"},\"baxis\":{\"gridcolor\":\"white\",\"linecolor\":\"white\",\"ticks\":\"\"},\"bgcolor\":\"#E5ECF6\",\"caxis\":{\"gridcolor\":\"white\",\"linecolor\":\"white\",\"ticks\":\"\"}},\"title\":{\"x\":0.05},\"xaxis\":{\"automargin\":true,\"gridcolor\":\"white\",\"linecolor\":\"white\",\"ticks\":\"\",\"title\":{\"standoff\":15},\"zerolinecolor\":\"white\",\"zerolinewidth\":2},\"yaxis\":{\"automargin\":true,\"gridcolor\":\"white\",\"linecolor\":\"white\",\"ticks\":\"\",\"title\":{\"standoff\":15},\"zerolinecolor\":\"white\",\"zerolinewidth\":2}}},\"title\":{\"font\":{\"size\":22},\"text\":\"Evolution of the word twitter over time\",\"x\":0.5},\"xaxis\":{\"title\":{\"text\":\"X\"}},\"yaxis\":{\"title\":{\"text\":\"Y\"}}},                        {\"responsive\": true}                    ).then(function(){\n                            \nvar gd = document.getElementById('90ea8103-69ec-4eb2-9b74-62e9cd47ace8');\nvar x = new MutationObserver(function (mutations, observer) {{\n        var display = window.getComputedStyle(gd).display;\n        if (!display || display === 'none') {{\n            console.log([gd, 'removed!']);\n            Plotly.purge(gd);\n            observer.disconnect();\n        }}\n}});\n\n// Listen for the removal of the full notebook cells\nvar notebookContainer = gd.closest('#notebook-container');\nif (notebookContainer) {{\n    x.observe(notebookContainer, {childList: true});\n}}\n\n// Listen for the clearing of the current output cell\nvar outputEl = gd.closest('.output');\nif (outputEl) {{\n    x.observe(outputEl, {childList: true});\n}}\n\n                        })                };                });            </script>        </div>"
     },
     "metadata": {},
     "output_type": "display_data"
    }
   ],
   "source": [
    "plot_temporal_changing_embedding(target_word_twitter, selected_models_monthly_twitter, top_n=2, title=title_twitter, subtitle=subtitle_twitter, use_tsne=True)"
   ]
  },
  {
   "cell_type": "markdown",
   "metadata": {},
   "source": [
    "### Cosine similarities"
   ]
  },
  {
   "cell_type": "code",
   "execution_count": 108,
   "metadata": {},
   "outputs": [],
   "source": [
    "test_words_twitter = [\"facebook\",  \"elon\", \"blue\", \"liberal\"]"
   ]
  },
  {
   "cell_type": "code",
   "execution_count": 109,
   "metadata": {},
   "outputs": [
    {
     "data": {
      "text/plain": "<Figure size 1000x600 with 1 Axes>",
      "image/png": "[encoded data removed]"
     },
     "metadata": {},
     "output_type": "display_data"
    }
   ],
   "source": [
    "plot_cosine_similarity(target_word_twitter, test_words_twitter, models_monthly, \"nov\", \"Elon Musk takes over Twitter\")"
   ]
  },
  {
   "cell_type": "markdown",
   "metadata": {},
   "source": [
    "### TPPMI"
   ]
  },
  {
   "cell_type": "code",
   "execution_count": 110,
   "metadata": {},
   "outputs": [
    {
     "name": "stdout",
     "output_type": "stream",
     "text": [
      "All words are contained in the vocabulary\n",
      "elon - not in vocab of timestep: 06\n",
      "elon - not in vocab of timestep: 08\n",
      "elon - not in vocab of timestep: 09\n"
     ]
    }
   ],
   "source": [
    "tppmi_twitter = tppmi_model.get_tppmi(test_words_twitter + [target_word_twitter])"
   ]
  },
  {
   "cell_type": "code",
   "execution_count": 111,
   "metadata": {},
   "outputs": [
    {
     "name": "stdout",
     "output_type": "stream",
     "text": [
      "All words are contained in the vocabulary\n",
      "elon - not in vocab of timestep: 06\n",
      "elon - not in vocab of timestep: 08\n",
      "elon - not in vocab of timestep: 09\n"
     ]
    },
    {
     "data": {
      "text/html": "        <script type=\"text/javascript\">\n        window.PlotlyConfig = {MathJaxConfig: 'local'};\n        if (window.MathJax && window.MathJax.Hub && window.MathJax.Hub.Config) {window.MathJax.Hub.Config({SVG: {font: \"STIX-Web\"}});}\n        if (typeof require !== 'undefined') {\n        require.undef(\"plotly\");\n        requirejs.config({\n            paths: {\n                'plotly': ['https://cdn.plot.ly/plotly-2.25.2.min']\n            }\n        });\n        require(['plotly'], function(Plotly) {\n            window._Plotly = Plotly;\n        });\n        }\n        </script>\n        "
     },
     "metadata": {},
     "output_type": "display_data"
    },
    {
     "data": {
      "application/vnd.plotly.v1+json": {
       "data": [
        {
         "marker": {
          "color": "#636EFA"
         },
         "mode": "markers+text",
         "name": "facebook",
         "showlegend": false,
         "text": [
          "facebook"
         ],
         "textposition": "top center",
         "x": [
          10.842233349695702
         ],
         "y": [
          -1.1545678292917125
         ],
         "type": "scatter"
        },
        {
         "marker": {
          "color": "#636EFA",
          "size": 10,
          "symbol": "diamond"
         },
         "mode": "markers",
         "showlegend": false,
         "x": [
          10.842233349695702
         ],
         "y": [
          -1.1545678292917125
         ],
         "type": "scatter"
        },
        {
         "marker": {
          "color": "#636EFA"
         },
         "mode": "markers+text",
         "name": "facebook",
         "showlegend": false,
         "text": [
          "facebook"
         ],
         "textposition": "top center",
         "x": [
          6.141407834896248
         ],
         "y": [
          -1.3492175547278842
         ],
         "type": "scatter"
        },
        {
         "line": {
          "color": "#636EFA",
          "width": 1
         },
         "mode": "lines",
         "showlegend": false,
         "x": [
          10.842233349695702,
          6.141407834896248
         ],
         "y": [
          -1.1545678292917125,
          -1.3492175547278842
         ],
         "type": "scatter"
        },
        {
         "marker": {
          "color": "#636EFA"
         },
         "mode": "markers+text",
         "name": "facebook",
         "showlegend": false,
         "text": [
          "facebook"
         ],
         "textposition": "top center",
         "x": [
          12.87061490336593
         ],
         "y": [
          -1.0020921125623572
         ],
         "type": "scatter"
        },
        {
         "line": {
          "color": "#636EFA",
          "width": 1
         },
         "mode": "lines",
         "showlegend": false,
         "x": [
          6.141407834896248,
          12.87061490336593
         ],
         "y": [
          -1.3492175547278842,
          -1.0020921125623572
         ],
         "type": "scatter"
        },
        {
         "marker": {
          "color": "#636EFA"
         },
         "mode": "markers+text",
         "name": "facebook",
         "showlegend": false,
         "text": [
          "facebook"
         ],
         "textposition": "top center",
         "x": [
          9.019528245621707
         ],
         "y": [
          -2.940626559154613
         ],
         "type": "scatter"
        },
        {
         "line": {
          "color": "#636EFA",
          "width": 1
         },
         "mode": "lines",
         "showlegend": false,
         "x": [
          12.87061490336593,
          9.019528245621707
         ],
         "y": [
          -1.0020921125623572,
          -2.940626559154613
         ],
         "type": "scatter"
        },
        {
         "marker": {
          "color": "#636EFA"
         },
         "mode": "markers+text",
         "name": "facebook",
         "showlegend": false,
         "text": [
          "facebook"
         ],
         "textposition": "top center",
         "x": [
          21.126847667687375
         ],
         "y": [
          -1.3491458759926556
         ],
         "type": "scatter"
        },
        {
         "line": {
          "color": "#636EFA",
          "width": 1
         },
         "mode": "lines",
         "showlegend": false,
         "x": [
          9.019528245621707,
          21.126847667687375
         ],
         "y": [
          -2.940626559154613,
          -1.3491458759926556
         ],
         "type": "scatter"
        },
        {
         "marker": {
          "color": "#636EFA"
         },
         "mode": "markers+text",
         "name": "facebook",
         "showlegend": false,
         "text": [
          "facebook"
         ],
         "textposition": "top center",
         "x": [
          16.85154967339105
         ],
         "y": [
          -0.880955050321958
         ],
         "type": "scatter"
        },
        {
         "line": {
          "color": "#636EFA",
          "width": 1
         },
         "mode": "lines",
         "showlegend": false,
         "x": [
          21.126847667687375,
          16.85154967339105
         ],
         "y": [
          -1.3491458759926556,
          -0.880955050321958
         ],
         "type": "scatter"
        },
        {
         "marker": {
          "color": "#636EFA"
         },
         "mode": "markers+text",
         "name": "facebook",
         "showlegend": false,
         "text": [
          "facebook"
         ],
         "textposition": "top center",
         "x": [
          14.853281410555182
         ],
         "y": [
          -0.4006778610522998
         ],
         "type": "scatter"
        },
        {
         "line": {
          "color": "#636EFA",
          "width": 1
         },
         "mode": "lines",
         "showlegend": false,
         "x": [
          16.85154967339105,
          14.853281410555182
         ],
         "y": [
          -0.880955050321958,
          -0.4006778610522998
         ],
         "type": "scatter"
        },
        {
         "marker": {
          "color": "#636EFA"
         },
         "mode": "markers+text",
         "name": "facebook",
         "showlegend": false,
         "text": [
          "facebook"
         ],
         "textposition": "top center",
         "x": [
          11.294923304547721
         ],
         "y": [
          -2.0617467825744704
         ],
         "type": "scatter"
        },
        {
         "line": {
          "color": "#636EFA",
          "width": 1
         },
         "mode": "lines",
         "showlegend": false,
         "x": [
          14.853281410555182,
          11.294923304547721
         ],
         "y": [
          -0.4006778610522998,
          -2.0617467825744704
         ],
         "type": "scatter"
        },
        {
         "marker": {
          "color": "#636EFA"
         },
         "mode": "markers+text",
         "name": "facebook",
         "showlegend": false,
         "text": [
          "facebook"
         ],
         "textposition": "top center",
         "x": [
          11.709726618751262
         ],
         "y": [
          -1.4381165431354597
         ],
         "type": "scatter"
        },
        {
         "line": {
          "color": "#636EFA",
          "width": 1
         },
         "mode": "lines",
         "showlegend": false,
         "x": [
          11.294923304547721,
          11.709726618751262
         ],
         "y": [
          -2.0617467825744704,
          -1.4381165431354597
         ],
         "type": "scatter"
        },
        {
         "marker": {
          "color": "#636EFA"
         },
         "mode": "markers+text",
         "name": "facebook",
         "showlegend": false,
         "text": [
          "facebook"
         ],
         "textposition": "top center",
         "x": [
          14.952634903418145
         ],
         "y": [
          -0.3879116682400868
         ],
         "type": "scatter"
        },
        {
         "line": {
          "color": "#636EFA",
          "width": 1
         },
         "mode": "lines",
         "showlegend": false,
         "x": [
          11.709726618751262,
          14.952634903418145
         ],
         "y": [
          -1.4381165431354597,
          -0.3879116682400868
         ],
         "type": "scatter"
        },
        {
         "marker": {
          "color": "#636EFA"
         },
         "mode": "markers+text",
         "name": "facebook",
         "showlegend": false,
         "text": [
          "facebook"
         ],
         "textposition": "top center",
         "x": [
          16.20845654471756
         ],
         "y": [
          -1.7109889506660458
         ],
         "type": "scatter"
        },
        {
         "line": {
          "color": "#636EFA",
          "width": 1
         },
         "mode": "lines",
         "showlegend": false,
         "x": [
          14.952634903418145,
          16.20845654471756
         ],
         "y": [
          -0.3879116682400868,
          -1.7109889506660458
         ],
         "type": "scatter"
        },
        {
         "marker": {
          "color": "#AB63FA"
         },
         "mode": "markers+text",
         "name": "elon",
         "showlegend": false,
         "text": [
          "elon"
         ],
         "textposition": "top center",
         "x": [
          -4.763242950993752
         ],
         "y": [
          -2.213026801145992
         ],
         "type": "scatter"
        },
        {
         "marker": {
          "color": "#AB63FA",
          "size": 10,
          "symbol": "diamond"
         },
         "mode": "markers",
         "showlegend": false,
         "x": [
          -4.763242950993752
         ],
         "y": [
          -2.213026801145992
         ],
         "type": "scatter"
        },
        {
         "marker": {
          "color": "#AB63FA"
         },
         "mode": "markers+text",
         "name": "elon",
         "showlegend": false,
         "text": [
          "elon"
         ],
         "textposition": "top center",
         "x": [
          -2.361227419011045
         ],
         "y": [
          -3.083576062583488
         ],
         "type": "scatter"
        },
        {
         "line": {
          "color": "#AB63FA",
          "width": 1
         },
         "mode": "lines",
         "showlegend": false,
         "x": [
          -4.763242950993752,
          -2.361227419011045
         ],
         "y": [
          -2.213026801145992,
          -3.083576062583488
         ],
         "type": "scatter"
        },
        {
         "marker": {
          "color": "#AB63FA"
         },
         "mode": "markers+text",
         "name": "elon",
         "showlegend": false,
         "text": [
          "elon"
         ],
         "textposition": "top center",
         "x": [
          -4.763242950993752
         ],
         "y": [
          -2.213026801145992
         ],
         "type": "scatter"
        },
        {
         "line": {
          "color": "#AB63FA",
          "width": 1
         },
         "mode": "lines",
         "showlegend": false,
         "x": [
          -2.361227419011045,
          -4.763242950993752
         ],
         "y": [
          -3.083576062583488,
          -2.213026801145992
         ],
         "type": "scatter"
        },
        {
         "marker": {
          "color": "#AB63FA"
         },
         "mode": "markers+text",
         "name": "elon",
         "showlegend": false,
         "text": [
          "elon"
         ],
         "textposition": "top center",
         "x": [
          -4.763242950993752
         ],
         "y": [
          -2.213026801145992
         ],
         "type": "scatter"
        },
        {
         "line": {
          "color": "#AB63FA",
          "width": 1
         },
         "mode": "lines",
         "showlegend": false,
         "x": [
          -4.763242950993752,
          -4.763242950993752
         ],
         "y": [
          -2.213026801145992,
          -2.213026801145992
         ],
         "type": "scatter"
        },
        {
         "marker": {
          "color": "#AB63FA"
         },
         "mode": "markers+text",
         "name": "elon",
         "showlegend": false,
         "text": [
          "elon"
         ],
         "textposition": "top center",
         "x": [
          -3.909819717682448
         ],
         "y": [
          -3.073289177843024
         ],
         "type": "scatter"
        },
        {
         "line": {
          "color": "#AB63FA",
          "width": 1
         },
         "mode": "lines",
         "showlegend": false,
         "x": [
          -4.763242950993752,
          -3.909819717682448
         ],
         "y": [
          -2.213026801145992,
          -3.073289177843024
         ],
         "type": "scatter"
        },
        {
         "marker": {
          "color": "#AB63FA"
         },
         "mode": "markers+text",
         "name": "elon",
         "showlegend": false,
         "text": [
          "elon"
         ],
         "textposition": "top center",
         "x": [
          -3.8609399604251475
         ],
         "y": [
          -3.059160466847577
         ],
         "type": "scatter"
        },
        {
         "line": {
          "color": "#AB63FA",
          "width": 1
         },
         "mode": "lines",
         "showlegend": false,
         "x": [
          -3.909819717682448,
          -3.8609399604251475
         ],
         "y": [
          -3.073289177843024,
          -3.059160466847577
         ],
         "type": "scatter"
        },
        {
         "marker": {
          "color": "#AB63FA"
         },
         "mode": "markers+text",
         "name": "elon",
         "showlegend": false,
         "text": [
          "elon"
         ],
         "textposition": "top center",
         "x": [
          -1.7438642704247014
         ],
         "y": [
          -1.6148962343315623
         ],
         "type": "scatter"
        },
        {
         "line": {
          "color": "#AB63FA",
          "width": 1
         },
         "mode": "lines",
         "showlegend": false,
         "x": [
          -3.8609399604251475,
          -1.7438642704247014
         ],
         "y": [
          -3.059160466847577,
          -1.6148962343315623
         ],
         "type": "scatter"
        },
        {
         "marker": {
          "color": "#AB63FA"
         },
         "mode": "markers+text",
         "name": "elon",
         "showlegend": false,
         "text": [
          "elon"
         ],
         "textposition": "top center",
         "x": [
          -3.5440853816548743
         ],
         "y": [
          -1.9168956928806353
         ],
         "type": "scatter"
        },
        {
         "line": {
          "color": "#AB63FA",
          "width": 1
         },
         "mode": "lines",
         "showlegend": false,
         "x": [
          -1.7438642704247014,
          -3.5440853816548743
         ],
         "y": [
          -1.6148962343315623,
          -1.9168956928806353
         ],
         "type": "scatter"
        },
        {
         "marker": {
          "color": "#AB63FA"
         },
         "mode": "markers+text",
         "name": "elon",
         "showlegend": false,
         "text": [
          "elon"
         ],
         "textposition": "top center",
         "x": [
          -4.30428259426075
         ],
         "y": [
          -3.2291640342932815
         ],
         "type": "scatter"
        },
        {
         "line": {
          "color": "#AB63FA",
          "width": 1
         },
         "mode": "lines",
         "showlegend": false,
         "x": [
          -3.5440853816548743,
          -4.30428259426075
         ],
         "y": [
          -1.9168956928806353,
          -3.2291640342932815
         ],
         "type": "scatter"
        },
        {
         "marker": {
          "color": "#AB63FA"
         },
         "mode": "markers+text",
         "name": "elon",
         "showlegend": false,
         "text": [
          "elon"
         ],
         "textposition": "top center",
         "x": [
          -2.7421557450110714
         ],
         "y": [
          -3.178527197120685
         ],
         "type": "scatter"
        },
        {
         "line": {
          "color": "#AB63FA",
          "width": 1
         },
         "mode": "lines",
         "showlegend": false,
         "x": [
          -4.30428259426075,
          -2.7421557450110714
         ],
         "y": [
          -3.2291640342932815,
          -3.178527197120685
         ],
         "type": "scatter"
        },
        {
         "marker": {
          "color": "#AB63FA"
         },
         "mode": "markers+text",
         "name": "elon",
         "showlegend": false,
         "text": [
          "elon"
         ],
         "textposition": "top center",
         "x": [
          -3.4770120398279367
         ],
         "y": [
          -2.1723581079049334
         ],
         "type": "scatter"
        },
        {
         "line": {
          "color": "#AB63FA",
          "width": 1
         },
         "mode": "lines",
         "showlegend": false,
         "x": [
          -2.7421557450110714,
          -3.4770120398279367
         ],
         "y": [
          -3.178527197120685,
          -2.1723581079049334
         ],
         "type": "scatter"
        },
        {
         "marker": {
          "color": "#00CC96"
         },
         "mode": "markers+text",
         "name": "blue",
         "showlegend": false,
         "text": [
          "blue"
         ],
         "textposition": "top center",
         "x": [
          -10.776164574033695
         ],
         "y": [
          -11.50019688597678
         ],
         "type": "scatter"
        },
        {
         "marker": {
          "color": "#00CC96",
          "size": 10,
          "symbol": "diamond"
         },
         "mode": "markers",
         "showlegend": false,
         "x": [
          -10.776164574033695
         ],
         "y": [
          -11.50019688597678
         ],
         "type": "scatter"
        },
        {
         "marker": {
          "color": "#00CC96"
         },
         "mode": "markers+text",
         "name": "blue",
         "showlegend": false,
         "text": [
          "blue"
         ],
         "textposition": "top center",
         "x": [
          -9.824759784989126
         ],
         "y": [
          -9.719899417168813
         ],
         "type": "scatter"
        },
        {
         "line": {
          "color": "#00CC96",
          "width": 1
         },
         "mode": "lines",
         "showlegend": false,
         "x": [
          -10.776164574033695,
          -9.824759784989126
         ],
         "y": [
          -11.50019688597678,
          -9.719899417168813
         ],
         "type": "scatter"
        },
        {
         "marker": {
          "color": "#00CC96"
         },
         "mode": "markers+text",
         "name": "blue",
         "showlegend": false,
         "text": [
          "blue"
         ],
         "textposition": "top center",
         "x": [
          -13.35989437751868
         ],
         "y": [
          -14.82075864649836
         ],
         "type": "scatter"
        },
        {
         "line": {
          "color": "#00CC96",
          "width": 1
         },
         "mode": "lines",
         "showlegend": false,
         "x": [
          -9.824759784989126,
          -13.35989437751868
         ],
         "y": [
          -9.719899417168813,
          -14.82075864649836
         ],
         "type": "scatter"
        },
        {
         "marker": {
          "color": "#00CC96"
         },
         "mode": "markers+text",
         "name": "blue",
         "showlegend": false,
         "text": [
          "blue"
         ],
         "textposition": "top center",
         "x": [
          -9.304036080811194
         ],
         "y": [
          -7.648932663168629
         ],
         "type": "scatter"
        },
        {
         "line": {
          "color": "#00CC96",
          "width": 1
         },
         "mode": "lines",
         "showlegend": false,
         "x": [
          -13.35989437751868,
          -9.304036080811194
         ],
         "y": [
          -14.82075864649836,
          -7.648932663168629
         ],
         "type": "scatter"
        },
        {
         "marker": {
          "color": "#00CC96"
         },
         "mode": "markers+text",
         "name": "blue",
         "showlegend": false,
         "text": [
          "blue"
         ],
         "textposition": "top center",
         "x": [
          -14.142683307231657
         ],
         "y": [
          -13.934969634043117
         ],
         "type": "scatter"
        },
        {
         "line": {
          "color": "#00CC96",
          "width": 1
         },
         "mode": "lines",
         "showlegend": false,
         "x": [
          -9.304036080811194,
          -14.142683307231657
         ],
         "y": [
          -7.648932663168629,
          -13.934969634043117
         ],
         "type": "scatter"
        },
        {
         "marker": {
          "color": "#00CC96"
         },
         "mode": "markers+text",
         "name": "blue",
         "showlegend": false,
         "text": [
          "blue"
         ],
         "textposition": "top center",
         "x": [
          -14.349510803374354
         ],
         "y": [
          -19.330055608764958
         ],
         "type": "scatter"
        },
        {
         "line": {
          "color": "#00CC96",
          "width": 1
         },
         "mode": "lines",
         "showlegend": false,
         "x": [
          -14.142683307231657,
          -14.349510803374354
         ],
         "y": [
          -13.934969634043117,
          -19.330055608764958
         ],
         "type": "scatter"
        },
        {
         "marker": {
          "color": "#00CC96"
         },
         "mode": "markers+text",
         "name": "blue",
         "showlegend": false,
         "text": [
          "blue"
         ],
         "textposition": "top center",
         "x": [
          -9.877433064042966
         ],
         "y": [
          -12.355729425456627
         ],
         "type": "scatter"
        },
        {
         "line": {
          "color": "#00CC96",
          "width": 1
         },
         "mode": "lines",
         "showlegend": false,
         "x": [
          -14.349510803374354,
          -9.877433064042966
         ],
         "y": [
          -19.330055608764958,
          -12.355729425456627
         ],
         "type": "scatter"
        },
        {
         "marker": {
          "color": "#00CC96"
         },
         "mode": "markers+text",
         "name": "blue",
         "showlegend": false,
         "text": [
          "blue"
         ],
         "textposition": "top center",
         "x": [
          -12.68345630638267
         ],
         "y": [
          -15.851867268163133
         ],
         "type": "scatter"
        },
        {
         "line": {
          "color": "#00CC96",
          "width": 1
         },
         "mode": "lines",
         "showlegend": false,
         "x": [
          -9.877433064042966,
          -12.68345630638267
         ],
         "y": [
          -12.355729425456627,
          -15.851867268163133
         ],
         "type": "scatter"
        },
        {
         "marker": {
          "color": "#00CC96"
         },
         "mode": "markers+text",
         "name": "blue",
         "showlegend": false,
         "text": [
          "blue"
         ],
         "textposition": "top center",
         "x": [
          -12.174459495456112
         ],
         "y": [
          -14.415925685348556
         ],
         "type": "scatter"
        },
        {
         "line": {
          "color": "#00CC96",
          "width": 1
         },
         "mode": "lines",
         "showlegend": false,
         "x": [
          -12.68345630638267,
          -12.174459495456112
         ],
         "y": [
          -15.851867268163133,
          -14.415925685348556
         ],
         "type": "scatter"
        },
        {
         "marker": {
          "color": "#00CC96"
         },
         "mode": "markers+text",
         "name": "blue",
         "showlegend": false,
         "text": [
          "blue"
         ],
         "textposition": "top center",
         "x": [
          -10.428093840405635
         ],
         "y": [
          -13.745288425724462
         ],
         "type": "scatter"
        },
        {
         "line": {
          "color": "#00CC96",
          "width": 1
         },
         "mode": "lines",
         "showlegend": false,
         "x": [
          -12.174459495456112,
          -10.428093840405635
         ],
         "y": [
          -14.415925685348556,
          -13.745288425724462
         ],
         "type": "scatter"
        },
        {
         "marker": {
          "color": "#00CC96"
         },
         "mode": "markers+text",
         "name": "blue",
         "showlegend": false,
         "text": [
          "blue"
         ],
         "textposition": "top center",
         "x": [
          -8.479342984253513
         ],
         "y": [
          -14.460688646557086
         ],
         "type": "scatter"
        },
        {
         "line": {
          "color": "#00CC96",
          "width": 1
         },
         "mode": "lines",
         "showlegend": false,
         "x": [
          -10.428093840405635,
          -8.479342984253513
         ],
         "y": [
          -13.745288425724462,
          -14.460688646557086
         ],
         "type": "scatter"
        },
        {
         "marker": {
          "color": "#FFA15A"
         },
         "mode": "markers+text",
         "name": "liberal",
         "showlegend": false,
         "text": [
          "liberal"
         ],
         "textposition": "top center",
         "x": [
          -13.177333649015987
         ],
         "y": [
          11.78792588345235
         ],
         "type": "scatter"
        },
        {
         "marker": {
          "color": "#FFA15A",
          "size": 10,
          "symbol": "diamond"
         },
         "mode": "markers",
         "showlegend": false,
         "x": [
          -13.177333649015987
         ],
         "y": [
          11.78792588345235
         ],
         "type": "scatter"
        },
        {
         "marker": {
          "color": "#FFA15A"
         },
         "mode": "markers+text",
         "name": "liberal",
         "showlegend": false,
         "text": [
          "liberal"
         ],
         "textposition": "top center",
         "x": [
          -14.09378242323416
         ],
         "y": [
          19.45718027116263
         ],
         "type": "scatter"
        },
        {
         "line": {
          "color": "#FFA15A",
          "width": 1
         },
         "mode": "lines",
         "showlegend": false,
         "x": [
          -13.177333649015987,
          -14.09378242323416
         ],
         "y": [
          11.78792588345235,
          19.45718027116263
         ],
         "type": "scatter"
        },
        {
         "marker": {
          "color": "#FFA15A"
         },
         "mode": "markers+text",
         "name": "liberal",
         "showlegend": false,
         "text": [
          "liberal"
         ],
         "textposition": "top center",
         "x": [
          -13.043367082758458
         ],
         "y": [
          13.988541791121904
         ],
         "type": "scatter"
        },
        {
         "line": {
          "color": "#FFA15A",
          "width": 1
         },
         "mode": "lines",
         "showlegend": false,
         "x": [
          -14.09378242323416,
          -13.043367082758458
         ],
         "y": [
          19.45718027116263,
          13.988541791121904
         ],
         "type": "scatter"
        },
        {
         "marker": {
          "color": "#FFA15A"
         },
         "mode": "markers+text",
         "name": "liberal",
         "showlegend": false,
         "text": [
          "liberal"
         ],
         "textposition": "top center",
         "x": [
          -12.21588571784032
         ],
         "y": [
          13.340643351864019
         ],
         "type": "scatter"
        },
        {
         "line": {
          "color": "#FFA15A",
          "width": 1
         },
         "mode": "lines",
         "showlegend": false,
         "x": [
          -13.043367082758458,
          -12.21588571784032
         ],
         "y": [
          13.988541791121904,
          13.340643351864019
         ],
         "type": "scatter"
        },
        {
         "marker": {
          "color": "#FFA15A"
         },
         "mode": "markers+text",
         "name": "liberal",
         "showlegend": false,
         "text": [
          "liberal"
         ],
         "textposition": "top center",
         "x": [
          -14.393314271082508
         ],
         "y": [
          15.563052706545992
         ],
         "type": "scatter"
        },
        {
         "line": {
          "color": "#FFA15A",
          "width": 1
         },
         "mode": "lines",
         "showlegend": false,
         "x": [
          -12.21588571784032,
          -14.393314271082508
         ],
         "y": [
          13.340643351864019,
          15.563052706545992
         ],
         "type": "scatter"
        },
        {
         "marker": {
          "color": "#FFA15A"
         },
         "mode": "markers+text",
         "name": "liberal",
         "showlegend": false,
         "text": [
          "liberal"
         ],
         "textposition": "top center",
         "x": [
          -14.92899505527544
         ],
         "y": [
          24.378606968624712
         ],
         "type": "scatter"
        },
        {
         "line": {
          "color": "#FFA15A",
          "width": 1
         },
         "mode": "lines",
         "showlegend": false,
         "x": [
          -14.393314271082508,
          -14.92899505527544
         ],
         "y": [
          15.563052706545992,
          24.378606968624712
         ],
         "type": "scatter"
        },
        {
         "marker": {
          "color": "#FFA15A"
         },
         "mode": "markers+text",
         "name": "liberal",
         "showlegend": false,
         "text": [
          "liberal"
         ],
         "textposition": "top center",
         "x": [
          -10.393267779492918
         ],
         "y": [
          8.06729168029449
         ],
         "type": "scatter"
        },
        {
         "line": {
          "color": "#FFA15A",
          "width": 1
         },
         "mode": "lines",
         "showlegend": false,
         "x": [
          -14.92899505527544,
          -10.393267779492918
         ],
         "y": [
          24.378606968624712,
          8.06729168029449
         ],
         "type": "scatter"
        },
        {
         "marker": {
          "color": "#FFA15A"
         },
         "mode": "markers+text",
         "name": "liberal",
         "showlegend": false,
         "text": [
          "liberal"
         ],
         "textposition": "top center",
         "x": [
          -13.056820410153156
         ],
         "y": [
          16.718012120118612
         ],
         "type": "scatter"
        },
        {
         "line": {
          "color": "#FFA15A",
          "width": 1
         },
         "mode": "lines",
         "showlegend": false,
         "x": [
          -10.393267779492918,
          -13.056820410153156
         ],
         "y": [
          8.06729168029449,
          16.718012120118612
         ],
         "type": "scatter"
        },
        {
         "marker": {
          "color": "#FFA15A"
         },
         "mode": "markers+text",
         "name": "liberal",
         "showlegend": false,
         "text": [
          "liberal"
         ],
         "textposition": "top center",
         "x": [
          -12.45461446033533
         ],
         "y": [
          10.054963851840542
         ],
         "type": "scatter"
        },
        {
         "line": {
          "color": "#FFA15A",
          "width": 1
         },
         "mode": "lines",
         "showlegend": false,
         "x": [
          -13.056820410153156,
          -12.45461446033533
         ],
         "y": [
          16.718012120118612,
          10.054963851840542
         ],
         "type": "scatter"
        },
        {
         "marker": {
          "color": "#FFA15A"
         },
         "mode": "markers+text",
         "name": "liberal",
         "showlegend": false,
         "text": [
          "liberal"
         ],
         "textposition": "top center",
         "x": [
          -14.309747660889954
         ],
         "y": [
          20.506164277776456
         ],
         "type": "scatter"
        },
        {
         "line": {
          "color": "#FFA15A",
          "width": 1
         },
         "mode": "lines",
         "showlegend": false,
         "x": [
          -12.45461446033533,
          -14.309747660889954
         ],
         "y": [
          10.054963851840542,
          20.506164277776456
         ],
         "type": "scatter"
        },
        {
         "marker": {
          "color": "#FFA15A"
         },
         "mode": "markers+text",
         "name": "liberal",
         "showlegend": false,
         "text": [
          "liberal"
         ],
         "textposition": "top center",
         "x": [
          -10.29668904759945
         ],
         "y": [
          7.717751947036797
         ],
         "type": "scatter"
        },
        {
         "line": {
          "color": "#FFA15A",
          "width": 1
         },
         "mode": "lines",
         "showlegend": false,
         "x": [
          -14.309747660889954,
          -10.29668904759945
         ],
         "y": [
          20.506164277776456,
          7.717751947036797
         ],
         "type": "scatter"
        },
        {
         "marker": {
          "color": "#EF553B"
         },
         "mode": "markers+text",
         "name": "twitter",
         "showlegend": false,
         "text": [
          "twitter"
         ],
         "textposition": "top center",
         "x": [
          10.953048360762942
         ],
         "y": [
          0.40749354991070513
         ],
         "type": "scatter"
        },
        {
         "marker": {
          "color": "#EF553B",
          "size": 10,
          "symbol": "diamond"
         },
         "mode": "markers",
         "showlegend": false,
         "x": [
          10.953048360762942
         ],
         "y": [
          0.40749354991070513
         ],
         "type": "scatter"
        },
        {
         "marker": {
          "color": "#EF553B"
         },
         "mode": "markers+text",
         "name": "twitter",
         "showlegend": false,
         "text": [
          "twitter"
         ],
         "textposition": "top center",
         "x": [
          11.902090219256031
         ],
         "y": [
          -0.9466453163574559
         ],
         "type": "scatter"
        },
        {
         "line": {
          "color": "#EF553B",
          "width": 1
         },
         "mode": "lines",
         "showlegend": false,
         "x": [
          10.953048360762942,
          11.902090219256031
         ],
         "y": [
          0.40749354991070513,
          -0.9466453163574559
         ],
         "type": "scatter"
        },
        {
         "marker": {
          "color": "#EF553B"
         },
         "mode": "markers+text",
         "name": "twitter",
         "showlegend": false,
         "text": [
          "twitter"
         ],
         "textposition": "top center",
         "x": [
          9.105135437766267
         ],
         "y": [
          1.1524044820800234
         ],
         "type": "scatter"
        },
        {
         "line": {
          "color": "#EF553B",
          "width": 1
         },
         "mode": "lines",
         "showlegend": false,
         "x": [
          11.902090219256031,
          9.105135437766267
         ],
         "y": [
          -0.9466453163574559,
          1.1524044820800234
         ],
         "type": "scatter"
        },
        {
         "marker": {
          "color": "#EF553B"
         },
         "mode": "markers+text",
         "name": "twitter",
         "showlegend": false,
         "text": [
          "twitter"
         ],
         "textposition": "top center",
         "x": [
          11.38792760886908
         ],
         "y": [
          -0.35290800091711694
         ],
         "type": "scatter"
        },
        {
         "line": {
          "color": "#EF553B",
          "width": 1
         },
         "mode": "lines",
         "showlegend": false,
         "x": [
          9.105135437766267,
          11.38792760886908
         ],
         "y": [
          1.1524044820800234,
          -0.35290800091711694
         ],
         "type": "scatter"
        },
        {
         "marker": {
          "color": "#EF553B"
         },
         "mode": "markers+text",
         "name": "twitter",
         "showlegend": false,
         "text": [
          "twitter"
         ],
         "textposition": "top center",
         "x": [
          20.523877375422348
         ],
         "y": [
          4.629043737030855
         ],
         "type": "scatter"
        },
        {
         "line": {
          "color": "#EF553B",
          "width": 1
         },
         "mode": "lines",
         "showlegend": false,
         "x": [
          11.38792760886908,
          20.523877375422348
         ],
         "y": [
          -0.35290800091711694,
          4.629043737030855
         ],
         "type": "scatter"
        },
        {
         "marker": {
          "color": "#EF553B"
         },
         "mode": "markers+text",
         "name": "twitter",
         "showlegend": false,
         "text": [
          "twitter"
         ],
         "textposition": "top center",
         "x": [
          16.615792215980246
         ],
         "y": [
          1.8537951818557692
         ],
         "type": "scatter"
        },
        {
         "line": {
          "color": "#EF553B",
          "width": 1
         },
         "mode": "lines",
         "showlegend": false,
         "x": [
          20.523877375422348,
          16.615792215980246
         ],
         "y": [
          4.629043737030855,
          1.8537951818557692
         ],
         "type": "scatter"
        },
        {
         "marker": {
          "color": "#EF553B"
         },
         "mode": "markers+text",
         "name": "twitter",
         "showlegend": false,
         "text": [
          "twitter"
         ],
         "textposition": "top center",
         "x": [
          17.56827923906899
         ],
         "y": [
          8.273341091454867
         ],
         "type": "scatter"
        },
        {
         "line": {
          "color": "#EF553B",
          "width": 1
         },
         "mode": "lines",
         "showlegend": false,
         "x": [
          16.615792215980246,
          17.56827923906899
         ],
         "y": [
          1.8537951818557692,
          8.273341091454867
         ],
         "type": "scatter"
        },
        {
         "marker": {
          "color": "#EF553B"
         },
         "mode": "markers+text",
         "name": "twitter",
         "showlegend": false,
         "text": [
          "twitter"
         ],
         "textposition": "top center",
         "x": [
          16.524321538526515
         ],
         "y": [
          3.8786677601916724
         ],
         "type": "scatter"
        },
        {
         "line": {
          "color": "#EF553B",
          "width": 1
         },
         "mode": "lines",
         "showlegend": false,
         "x": [
          17.56827923906899,
          16.524321538526515
         ],
         "y": [
          8.273341091454867,
          3.8786677601916724
         ],
         "type": "scatter"
        },
        {
         "marker": {
          "color": "#EF553B"
         },
         "mode": "markers+text",
         "name": "twitter",
         "showlegend": false,
         "text": [
          "twitter"
         ],
         "textposition": "top center",
         "x": [
          11.897887522805814
         ],
         "y": [
          1.9677770375574863
         ],
         "type": "scatter"
        },
        {
         "line": {
          "color": "#EF553B",
          "width": 1
         },
         "mode": "lines",
         "showlegend": false,
         "x": [
          16.524321538526515,
          11.897887522805814
         ],
         "y": [
          3.8786677601916724,
          1.9677770375574863
         ],
         "type": "scatter"
        },
        {
         "marker": {
          "color": "#EF553B"
         },
         "mode": "markers+text",
         "name": "twitter",
         "showlegend": false,
         "text": [
          "twitter"
         ],
         "textposition": "top center",
         "x": [
          19.79835681792243
         ],
         "y": [
          7.949528060623645
         ],
         "type": "scatter"
        },
        {
         "line": {
          "color": "#EF553B",
          "width": 1
         },
         "mode": "lines",
         "showlegend": false,
         "x": [
          11.897887522805814,
          19.79835681792243
         ],
         "y": [
          1.9677770375574863,
          7.949528060623645
         ],
         "type": "scatter"
        },
        {
         "marker": {
          "color": "#EF553B"
         },
         "mode": "markers+text",
         "name": "twitter",
         "showlegend": false,
         "text": [
          "twitter"
         ],
         "textposition": "top center",
         "x": [
          15.848847364427986
         ],
         "y": [
          0.03467403856430636
         ],
         "type": "scatter"
        },
        {
         "line": {
          "color": "#EF553B",
          "width": 1
         },
         "mode": "lines",
         "showlegend": false,
         "x": [
          19.79835681792243,
          15.848847364427986
         ],
         "y": [
          7.949528060623645,
          0.03467403856430636
         ],
         "type": "scatter"
        }
       ],
       "layout": {
        "legend": {
         "x": 1.02,
         "y": 1.0
        },
        "template": {
         "data": {
          "barpolar": [
           {
            "marker": {
             "line": {
              "color": "#E5ECF6",
              "width": 0.5
             },
             "pattern": {
              "fillmode": "overlay",
              "size": 10,
              "solidity": 0.2
             }
            },
            "type": "barpolar"
           }
          ],
          "bar": [
           {
            "error_x": {
             "color": "#2a3f5f"
            },
            "error_y": {
             "color": "#2a3f5f"
            },
            "marker": {
             "line": {
              "color": "#E5ECF6",
              "width": 0.5
             },
             "pattern": {
              "fillmode": "overlay",
              "size": 10,
              "solidity": 0.2
             }
            },
            "type": "bar"
           }
          ],
          "carpet": [
           {
            "aaxis": {
             "endlinecolor": "#2a3f5f",
             "gridcolor": "white",
             "linecolor": "white",
             "minorgridcolor": "white",
             "startlinecolor": "#2a3f5f"
            },
            "baxis": {
             "endlinecolor": "#2a3f5f",
             "gridcolor": "white",
             "linecolor": "white",
             "minorgridcolor": "white",
             "startlinecolor": "#2a3f5f"
            },
            "type": "carpet"
           }
          ],
          "choropleth": [
           {
            "colorbar": {
             "outlinewidth": 0,
             "ticks": ""
            },
            "type": "choropleth"
           }
          ],
          "contourcarpet": [
           {
            "colorbar": {
             "outlinewidth": 0,
             "ticks": ""
            },
            "type": "contourcarpet"
           }
          ],
          "contour": [
           {
            "colorbar": {
             "outlinewidth": 0,
             "ticks": ""
            },
            "colorscale": [
             [
              0.0,
              "#0d0887"
             ],
             [
              0.1111111111111111,
              "#46039f"
             ],
             [
              0.2222222222222222,
              "#7201a8"
             ],
             [
              0.3333333333333333,
              "#9c179e"
             ],
             [
              0.4444444444444444,
              "#bd3786"
             ],
             [
              0.5555555555555556,
              "#d8576b"
             ],
             [
              0.6666666666666666,
              "#ed7953"
             ],
             [
              0.7777777777777778,
              "#fb9f3a"
             ],
             [
              0.8888888888888888,
              "#fdca26"
             ],
             [
              1.0,
              "#f0f921"
             ]
            ],
            "type": "contour"
           }
          ],
          "heatmapgl": [
           {
            "colorbar": {
             "outlinewidth": 0,
             "ticks": ""
            },
            "colorscale": [
             [
              0.0,
              "#0d0887"
             ],
             [
              0.1111111111111111,
              "#46039f"
             ],
             [
              0.2222222222222222,
              "#7201a8"
             ],
             [
              0.3333333333333333,
              "#9c179e"
             ],
             [
              0.4444444444444444,
              "#bd3786"
             ],
             [
              0.5555555555555556,
              "#d8576b"
             ],
             [
              0.6666666666666666,
              "#ed7953"
             ],
             [
              0.7777777777777778,
              "#fb9f3a"
             ],
             [
              0.8888888888888888,
              "#fdca26"
             ],
             [
              1.0,
              "#f0f921"
             ]
            ],
            "type": "heatmapgl"
           }
          ],
          "heatmap": [
           {
            "colorbar": {
             "outlinewidth": 0,
             "ticks": ""
            },
            "colorscale": [
             [
              0.0,
              "#0d0887"
             ],
             [
              0.1111111111111111,
              "#46039f"
             ],
             [
              0.2222222222222222,
              "#7201a8"
             ],
             [
              0.3333333333333333,
              "#9c179e"
             ],
             [
              0.4444444444444444,
              "#bd3786"
             ],
             [
              0.5555555555555556,
              "#d8576b"
             ],
             [
              0.6666666666666666,
              "#ed7953"
             ],
             [
              0.7777777777777778,
              "#fb9f3a"
             ],
             [
              0.8888888888888888,
              "#fdca26"
             ],
             [
              1.0,
              "#f0f921"
             ]
            ],
            "type": "heatmap"
           }
          ],
          "histogram2dcontour": [
           {
            "colorbar": {
             "outlinewidth": 0,
             "ticks": ""
            },
            "colorscale": [
             [
              0.0,
              "#0d0887"
             ],
             [
              0.1111111111111111,
              "#46039f"
             ],
             [
              0.2222222222222222,
              "#7201a8"
             ],
             [
              0.3333333333333333,
              "#9c179e"
             ],
             [
              0.4444444444444444,
              "#bd3786"
             ],
             [
              0.5555555555555556,
              "#d8576b"
             ],
             [
              0.6666666666666666,
              "#ed7953"
             ],
             [
              0.7777777777777778,
              "#fb9f3a"
             ],
             [
              0.8888888888888888,
              "#fdca26"
             ],
             [
              1.0,
              "#f0f921"
             ]
            ],
            "type": "histogram2dcontour"
           }
          ],
          "histogram2d": [
           {
            "colorbar": {
             "outlinewidth": 0,
             "ticks": ""
            },
            "colorscale": [
             [
              0.0,
              "#0d0887"
             ],
             [
              0.1111111111111111,
              "#46039f"
             ],
             [
              0.2222222222222222,
              "#7201a8"
             ],
             [
              0.3333333333333333,
              "#9c179e"
             ],
             [
              0.4444444444444444,
              "#bd3786"
             ],
             [
              0.5555555555555556,
              "#d8576b"
             ],
             [
              0.6666666666666666,
              "#ed7953"
             ],
             [
              0.7777777777777778,
              "#fb9f3a"
             ],
             [
              0.8888888888888888,
              "#fdca26"
             ],
             [
              1.0,
              "#f0f921"
             ]
            ],
            "type": "histogram2d"
           }
          ],
          "histogram": [
           {
            "marker": {
             "pattern": {
              "fillmode": "overlay",
              "size": 10,
              "solidity": 0.2
             }
            },
            "type": "histogram"
           }
          ],
          "mesh3d": [
           {
            "colorbar": {
             "outlinewidth": 0,
             "ticks": ""
            },
            "type": "mesh3d"
           }
          ],
          "parcoords": [
           {
            "line": {
             "colorbar": {
              "outlinewidth": 0,
              "ticks": ""
             }
            },
            "type": "parcoords"
           }
          ],
          "pie": [
           {
            "automargin": true,
            "type": "pie"
           }
          ],
          "scatter3d": [
           {
            "line": {
             "colorbar": {
              "outlinewidth": 0,
              "ticks": ""
             }
            },
            "marker": {
             "colorbar": {
              "outlinewidth": 0,
              "ticks": ""
             }
            },
            "type": "scatter3d"
           }
          ],
          "scattercarpet": [
           {
            "marker": {
             "colorbar": {
              "outlinewidth": 0,
              "ticks": ""
             }
            },
            "type": "scattercarpet"
           }
          ],
          "scattergeo": [
           {
            "marker": {
             "colorbar": {
              "outlinewidth": 0,
              "ticks": ""
             }
            },
            "type": "scattergeo"
           }
          ],
          "scattergl": [
           {
            "marker": {
             "colorbar": {
              "outlinewidth": 0,
              "ticks": ""
             }
            },
            "type": "scattergl"
           }
          ],
          "scattermapbox": [
           {
            "marker": {
             "colorbar": {
              "outlinewidth": 0,
              "ticks": ""
             }
            },
            "type": "scattermapbox"
           }
          ],
          "scatterpolargl": [
           {
            "marker": {
             "colorbar": {
              "outlinewidth": 0,
              "ticks": ""
             }
            },
            "type": "scatterpolargl"
           }
          ],
          "scatterpolar": [
           {
            "marker": {
             "colorbar": {
              "outlinewidth": 0,
              "ticks": ""
             }
            },
            "type": "scatterpolar"
           }
          ],
          "scatter": [
           {
            "fillpattern": {
             "fillmode": "overlay",
             "size": 10,
             "solidity": 0.2
            },
            "type": "scatter"
           }
          ],
          "scatterternary": [
           {
            "marker": {
             "colorbar": {
              "outlinewidth": 0,
              "ticks": ""
             }
            },
            "type": "scatterternary"
           }
          ],
          "surface": [
           {
            "colorbar": {
             "outlinewidth": 0,
             "ticks": ""
            },
            "colorscale": [
             [
              0.0,
              "#0d0887"
             ],
             [
              0.1111111111111111,
              "#46039f"
             ],
             [
              0.2222222222222222,
              "#7201a8"
             ],
             [
              0.3333333333333333,
              "#9c179e"
             ],
             [
              0.4444444444444444,
              "#bd3786"
             ],
             [
              0.5555555555555556,
              "#d8576b"
             ],
             [
              0.6666666666666666,
              "#ed7953"
             ],
             [
              0.7777777777777778,
              "#fb9f3a"
             ],
             [
              0.8888888888888888,
              "#fdca26"
             ],
             [
              1.0,
              "#f0f921"
             ]
            ],
            "type": "surface"
           }
          ],
          "table": [
           {
            "cells": {
             "fill": {
              "color": "#EBF0F8"
             },
             "line": {
              "color": "white"
             }
            },
            "header": {
             "fill": {
              "color": "#C8D4E3"
             },
             "line": {
              "color": "white"
             }
            },
            "type": "table"
           }
          ]
         },
         "layout": {
          "annotationdefaults": {
           "arrowcolor": "#2a3f5f",
           "arrowhead": 0,
           "arrowwidth": 1
          },
          "autotypenumbers": "strict",
          "coloraxis": {
           "colorbar": {
            "outlinewidth": 0,
            "ticks": ""
           }
          },
          "colorscale": {
           "diverging": [
            [
             0,
             "#8e0152"
            ],
            [
             0.1,
             "#c51b7d"
            ],
            [
             0.2,
             "#de77ae"
            ],
            [
             0.3,
             "#f1b6da"
            ],
            [
             0.4,
             "#fde0ef"
            ],
            [
             0.5,
             "#f7f7f7"
            ],
            [
             0.6,
             "#e6f5d0"
            ],
            [
             0.7,
             "#b8e186"
            ],
            [
             0.8,
             "#7fbc41"
            ],
            [
             0.9,
             "#4d9221"
            ],
            [
             1,
             "#276419"
            ]
           ],
           "sequential": [
            [
             0.0,
             "#0d0887"
            ],
            [
             0.1111111111111111,
             "#46039f"
            ],
            [
             0.2222222222222222,
             "#7201a8"
            ],
            [
             0.3333333333333333,
             "#9c179e"
            ],
            [
             0.4444444444444444,
             "#bd3786"
            ],
            [
             0.5555555555555556,
             "#d8576b"
            ],
            [
             0.6666666666666666,
             "#ed7953"
            ],
            [
             0.7777777777777778,
             "#fb9f3a"
            ],
            [
             0.8888888888888888,
             "#fdca26"
            ],
            [
             1.0,
             "#f0f921"
            ]
           ],
           "sequentialminus": [
            [
             0.0,
             "#0d0887"
            ],
            [
             0.1111111111111111,
             "#46039f"
            ],
            [
             0.2222222222222222,
             "#7201a8"
            ],
            [
             0.3333333333333333,
             "#9c179e"
            ],
            [
             0.4444444444444444,
             "#bd3786"
            ],
            [
             0.5555555555555556,
             "#d8576b"
            ],
            [
             0.6666666666666666,
             "#ed7953"
            ],
            [
             0.7777777777777778,
             "#fb9f3a"
            ],
            [
             0.8888888888888888,
             "#fdca26"
            ],
            [
             1.0,
             "#f0f921"
            ]
           ]
          },
          "colorway": [
           "#636efa",
           "#EF553B",
           "#00cc96",
           "#ab63fa",
           "#FFA15A",
           "#19d3f3",
           "#FF6692",
           "#B6E880",
           "#FF97FF",
           "#FECB52"
          ],
          "font": {
           "color": "#2a3f5f"
          },
          "geo": {
           "bgcolor": "white",
           "lakecolor": "white",
           "landcolor": "#E5ECF6",
           "showlakes": true,
           "showland": true,
           "subunitcolor": "white"
          },
          "hoverlabel": {
           "align": "left"
          },
          "hovermode": "closest",
          "mapbox": {
           "style": "light"
          },
          "paper_bgcolor": "white",
          "plot_bgcolor": "#E5ECF6",
          "polar": {
           "angularaxis": {
            "gridcolor": "white",
            "linecolor": "white",
            "ticks": ""
           },
           "bgcolor": "#E5ECF6",
           "radialaxis": {
            "gridcolor": "white",
            "linecolor": "white",
            "ticks": ""
           }
          },
          "scene": {
           "xaxis": {
            "backgroundcolor": "#E5ECF6",
            "gridcolor": "white",
            "gridwidth": 2,
            "linecolor": "white",
            "showbackground": true,
            "ticks": "",
            "zerolinecolor": "white"
           },
           "yaxis": {
            "backgroundcolor": "#E5ECF6",
            "gridcolor": "white",
            "gridwidth": 2,
            "linecolor": "white",
            "showbackground": true,
            "ticks": "",
            "zerolinecolor": "white"
           },
           "zaxis": {
            "backgroundcolor": "#E5ECF6",
            "gridcolor": "white",
            "gridwidth": 2,
            "linecolor": "white",
            "showbackground": true,
            "ticks": "",
            "zerolinecolor": "white"
           }
          },
          "shapedefaults": {
           "line": {
            "color": "#2a3f5f"
           }
          },
          "ternary": {
           "aaxis": {
            "gridcolor": "white",
            "linecolor": "white",
            "ticks": ""
           },
           "baxis": {
            "gridcolor": "white",
            "linecolor": "white",
            "ticks": ""
           },
           "bgcolor": "#E5ECF6",
           "caxis": {
            "gridcolor": "white",
            "linecolor": "white",
            "ticks": ""
           }
          },
          "title": {
           "x": 0.05
          },
          "xaxis": {
           "automargin": true,
           "gridcolor": "white",
           "linecolor": "white",
           "ticks": "",
           "title": {
            "standoff": 15
           },
           "zerolinecolor": "white",
           "zerolinewidth": 2
          },
          "yaxis": {
           "automargin": true,
           "gridcolor": "white",
           "linecolor": "white",
           "ticks": "",
           "title": {
            "standoff": 15
           },
           "zerolinecolor": "white",
           "zerolinewidth": 2
          }
         }
        },
        "title": {
         "text": "2D Visualization of Word Vectors"
        },
        "xaxis": {
         "range": [
          -50,
          50
         ],
         "title": {
          "text": "PC1"
         }
        },
        "yaxis": {
         "range": [
          -50,
          50
         ],
         "title": {
          "text": "PC2"
         }
        }
       },
       "config": {
        "showLink": false,
        "linkText": "Export to plot.ly",
        "plotlyServerURL": "https://plot.ly"
       }
      },
      "text/html": "<div>                            <div id=\"548c2ac8-1bee-464d-b402-c7e909f267eb\" class=\"plotly-graph-div\" style=\"height:525px; width:100%;\"></div>            <script type=\"text/javascript\">                require([\"plotly\"], function(Plotly) {                    window.PLOTLYENV=window.PLOTLYENV || {};                                    if (document.getElementById(\"548c2ac8-1bee-464d-b402-c7e909f267eb\")) {                    Plotly.newPlot(                        \"548c2ac8-1bee-464d-b402-c7e909f267eb\",                        [{\"marker\":{\"color\":\"#636EFA\"},\"mode\":\"markers+text\",\"name\":\"facebook\",\"showlegend\":false,\"text\":[\"facebook\"],\"textposition\":\"top center\",\"x\":[10.842233349695702],\"y\":[-1.1545678292917125],\"type\":\"scatter\"},{\"marker\":{\"color\":\"#636EFA\",\"size\":10,\"symbol\":\"diamond\"},\"mode\":\"markers\",\"showlegend\":false,\"x\":[10.842233349695702],\"y\":[-1.1545678292917125],\"type\":\"scatter\"},{\"marker\":{\"color\":\"#636EFA\"},\"mode\":\"markers+text\",\"name\":\"facebook\",\"showlegend\":false,\"text\":[\"facebook\"],\"textposition\":\"top center\",\"x\":[6.141407834896248],\"y\":[-1.3492175547278842],\"type\":\"scatter\"},{\"line\":{\"color\":\"#636EFA\",\"width\":1},\"mode\":\"lines\",\"showlegend\":false,\"x\":[10.842233349695702,6.141407834896248],\"y\":[-1.1545678292917125,-1.3492175547278842],\"type\":\"scatter\"},{\"marker\":{\"color\":\"#636EFA\"},\"mode\":\"markers+text\",\"name\":\"facebook\",\"showlegend\":false,\"text\":[\"facebook\"],\"textposition\":\"top center\",\"x\":[12.87061490336593],\"y\":[-1.0020921125623572],\"type\":\"scatter\"},{\"line\":{\"color\":\"#636EFA\",\"width\":1},\"mode\":\"lines\",\"showlegend\":false,\"x\":[6.141407834896248,12.87061490336593],\"y\":[-1.3492175547278842,-1.0020921125623572],\"type\":\"scatter\"},{\"marker\":{\"color\":\"#636EFA\"},\"mode\":\"markers+text\",\"name\":\"facebook\",\"showlegend\":false,\"text\":[\"facebook\"],\"textposition\":\"top center\",\"x\":[9.019528245621707],\"y\":[-2.940626559154613],\"type\":\"scatter\"},{\"line\":{\"color\":\"#636EFA\",\"width\":1},\"mode\":\"lines\",\"showlegend\":false,\"x\":[12.87061490336593,9.019528245621707],\"y\":[-1.0020921125623572,-2.940626559154613],\"type\":\"scatter\"},{\"marker\":{\"color\":\"#636EFA\"},\"mode\":\"markers+text\",\"name\":\"facebook\",\"showlegend\":false,\"text\":[\"facebook\"],\"textposition\":\"top center\",\"x\":[21.126847667687375],\"y\":[-1.3491458759926556],\"type\":\"scatter\"},{\"line\":{\"color\":\"#636EFA\",\"width\":1},\"mode\":\"lines\",\"showlegend\":false,\"x\":[9.019528245621707,21.126847667687375],\"y\":[-2.940626559154613,-1.3491458759926556],\"type\":\"scatter\"},{\"marker\":{\"color\":\"#636EFA\"},\"mode\":\"markers+text\",\"name\":\"facebook\",\"showlegend\":false,\"text\":[\"facebook\"],\"textposition\":\"top center\",\"x\":[16.85154967339105],\"y\":[-0.880955050321958],\"type\":\"scatter\"},{\"line\":{\"color\":\"#636EFA\",\"width\":1},\"mode\":\"lines\",\"showlegend\":false,\"x\":[21.126847667687375,16.85154967339105],\"y\":[-1.3491458759926556,-0.880955050321958],\"type\":\"scatter\"},{\"marker\":{\"color\":\"#636EFA\"},\"mode\":\"markers+text\",\"name\":\"facebook\",\"showlegend\":false,\"text\":[\"facebook\"],\"textposition\":\"top center\",\"x\":[14.853281410555182],\"y\":[-0.4006778610522998],\"type\":\"scatter\"},{\"line\":{\"color\":\"#636EFA\",\"width\":1},\"mode\":\"lines\",\"showlegend\":false,\"x\":[16.85154967339105,14.853281410555182],\"y\":[-0.880955050321958,-0.4006778610522998],\"type\":\"scatter\"},{\"marker\":{\"color\":\"#636EFA\"},\"mode\":\"markers+text\",\"name\":\"facebook\",\"showlegend\":false,\"text\":[\"facebook\"],\"textposition\":\"top center\",\"x\":[11.294923304547721],\"y\":[-2.0617467825744704],\"type\":\"scatter\"},{\"line\":{\"color\":\"#636EFA\",\"width\":1},\"mode\":\"lines\",\"showlegend\":false,\"x\":[14.853281410555182,11.294923304547721],\"y\":[-0.4006778610522998,-2.0617467825744704],\"type\":\"scatter\"},{\"marker\":{\"color\":\"#636EFA\"},\"mode\":\"markers+text\",\"name\":\"facebook\",\"showlegend\":false,\"text\":[\"facebook\"],\"textposition\":\"top center\",\"x\":[11.709726618751262],\"y\":[-1.4381165431354597],\"type\":\"scatter\"},{\"line\":{\"color\":\"#636EFA\",\"width\":1},\"mode\":\"lines\",\"showlegend\":false,\"x\":[11.294923304547721,11.709726618751262],\"y\":[-2.0617467825744704,-1.4381165431354597],\"type\":\"scatter\"},{\"marker\":{\"color\":\"#636EFA\"},\"mode\":\"markers+text\",\"name\":\"facebook\",\"showlegend\":false,\"text\":[\"facebook\"],\"textposition\":\"top center\",\"x\":[14.952634903418145],\"y\":[-0.3879116682400868],\"type\":\"scatter\"},{\"line\":{\"color\":\"#636EFA\",\"width\":1},\"mode\":\"lines\",\"showlegend\":false,\"x\":[11.709726618751262,14.952634903418145],\"y\":[-1.4381165431354597,-0.3879116682400868],\"type\":\"scatter\"},{\"marker\":{\"color\":\"#636EFA\"},\"mode\":\"markers+text\",\"name\":\"facebook\",\"showlegend\":false,\"text\":[\"facebook\"],\"textposition\":\"top center\",\"x\":[16.20845654471756],\"y\":[-1.7109889506660458],\"type\":\"scatter\"},{\"line\":{\"color\":\"#636EFA\",\"width\":1},\"mode\":\"lines\",\"showlegend\":false,\"x\":[14.952634903418145,16.20845654471756],\"y\":[-0.3879116682400868,-1.7109889506660458],\"type\":\"scatter\"},{\"marker\":{\"color\":\"#AB63FA\"},\"mode\":\"markers+text\",\"name\":\"elon\",\"showlegend\":false,\"text\":[\"elon\"],\"textposition\":\"top center\",\"x\":[-4.763242950993752],\"y\":[-2.213026801145992],\"type\":\"scatter\"},{\"marker\":{\"color\":\"#AB63FA\",\"size\":10,\"symbol\":\"diamond\"},\"mode\":\"markers\",\"showlegend\":false,\"x\":[-4.763242950993752],\"y\":[-2.213026801145992],\"type\":\"scatter\"},{\"marker\":{\"color\":\"#AB63FA\"},\"mode\":\"markers+text\",\"name\":\"elon\",\"showlegend\":false,\"text\":[\"elon\"],\"textposition\":\"top center\",\"x\":[-2.361227419011045],\"y\":[-3.083576062583488],\"type\":\"scatter\"},{\"line\":{\"color\":\"#AB63FA\",\"width\":1},\"mode\":\"lines\",\"showlegend\":false,\"x\":[-4.763242950993752,-2.361227419011045],\"y\":[-2.213026801145992,-3.083576062583488],\"type\":\"scatter\"},{\"marker\":{\"color\":\"#AB63FA\"},\"mode\":\"markers+text\",\"name\":\"elon\",\"showlegend\":false,\"text\":[\"elon\"],\"textposition\":\"top center\",\"x\":[-4.763242950993752],\"y\":[-2.213026801145992],\"type\":\"scatter\"},{\"line\":{\"color\":\"#AB63FA\",\"width\":1},\"mode\":\"lines\",\"showlegend\":false,\"x\":[-2.361227419011045,-4.763242950993752],\"y\":[-3.083576062583488,-2.213026801145992],\"type\":\"scatter\"},{\"marker\":{\"color\":\"#AB63FA\"},\"mode\":\"markers+text\",\"name\":\"elon\",\"showlegend\":false,\"text\":[\"elon\"],\"textposition\":\"top center\",\"x\":[-4.763242950993752],\"y\":[-2.213026801145992],\"type\":\"scatter\"},{\"line\":{\"color\":\"#AB63FA\",\"width\":1},\"mode\":\"lines\",\"showlegend\":false,\"x\":[-4.763242950993752,-4.763242950993752],\"y\":[-2.213026801145992,-2.213026801145992],\"type\":\"scatter\"},{\"marker\":{\"color\":\"#AB63FA\"},\"mode\":\"markers+text\",\"name\":\"elon\",\"showlegend\":false,\"text\":[\"elon\"],\"textposition\":\"top center\",\"x\":[-3.909819717682448],\"y\":[-3.073289177843024],\"type\":\"scatter\"},{\"line\":{\"color\":\"#AB63FA\",\"width\":1},\"mode\":\"lines\",\"showlegend\":false,\"x\":[-4.763242950993752,-3.909819717682448],\"y\":[-2.213026801145992,-3.073289177843024],\"type\":\"scatter\"},{\"marker\":{\"color\":\"#AB63FA\"},\"mode\":\"markers+text\",\"name\":\"elon\",\"showlegend\":false,\"text\":[\"elon\"],\"textposition\":\"top center\",\"x\":[-3.8609399604251475],\"y\":[-3.059160466847577],\"type\":\"scatter\"},{\"line\":{\"color\":\"#AB63FA\",\"width\":1},\"mode\":\"lines\",\"showlegend\":false,\"x\":[-3.909819717682448,-3.8609399604251475],\"y\":[-3.073289177843024,-3.059160466847577],\"type\":\"scatter\"},{\"marker\":{\"color\":\"#AB63FA\"},\"mode\":\"markers+text\",\"name\":\"elon\",\"showlegend\":false,\"text\":[\"elon\"],\"textposition\":\"top center\",\"x\":[-1.7438642704247014],\"y\":[-1.6148962343315623],\"type\":\"scatter\"},{\"line\":{\"color\":\"#AB63FA\",\"width\":1},\"mode\":\"lines\",\"showlegend\":false,\"x\":[-3.8609399604251475,-1.7438642704247014],\"y\":[-3.059160466847577,-1.6148962343315623],\"type\":\"scatter\"},{\"marker\":{\"color\":\"#AB63FA\"},\"mode\":\"markers+text\",\"name\":\"elon\",\"showlegend\":false,\"text\":[\"elon\"],\"textposition\":\"top center\",\"x\":[-3.5440853816548743],\"y\":[-1.9168956928806353],\"type\":\"scatter\"},{\"line\":{\"color\":\"#AB63FA\",\"width\":1},\"mode\":\"lines\",\"showlegend\":false,\"x\":[-1.7438642704247014,-3.5440853816548743],\"y\":[-1.6148962343315623,-1.9168956928806353],\"type\":\"scatter\"},{\"marker\":{\"color\":\"#AB63FA\"},\"mode\":\"markers+text\",\"name\":\"elon\",\"showlegend\":false,\"text\":[\"elon\"],\"textposition\":\"top center\",\"x\":[-4.30428259426075],\"y\":[-3.2291640342932815],\"type\":\"scatter\"},{\"line\":{\"color\":\"#AB63FA\",\"width\":1},\"mode\":\"lines\",\"showlegend\":false,\"x\":[-3.5440853816548743,-4.30428259426075],\"y\":[-1.9168956928806353,-3.2291640342932815],\"type\":\"scatter\"},{\"marker\":{\"color\":\"#AB63FA\"},\"mode\":\"markers+text\",\"name\":\"elon\",\"showlegend\":false,\"text\":[\"elon\"],\"textposition\":\"top center\",\"x\":[-2.7421557450110714],\"y\":[-3.178527197120685],\"type\":\"scatter\"},{\"line\":{\"color\":\"#AB63FA\",\"width\":1},\"mode\":\"lines\",\"showlegend\":false,\"x\":[-4.30428259426075,-2.7421557450110714],\"y\":[-3.2291640342932815,-3.178527197120685],\"type\":\"scatter\"},{\"marker\":{\"color\":\"#AB63FA\"},\"mode\":\"markers+text\",\"name\":\"elon\",\"showlegend\":false,\"text\":[\"elon\"],\"textposition\":\"top center\",\"x\":[-3.4770120398279367],\"y\":[-2.1723581079049334],\"type\":\"scatter\"},{\"line\":{\"color\":\"#AB63FA\",\"width\":1},\"mode\":\"lines\",\"showlegend\":false,\"x\":[-2.7421557450110714,-3.4770120398279367],\"y\":[-3.178527197120685,-2.1723581079049334],\"type\":\"scatter\"},{\"marker\":{\"color\":\"#00CC96\"},\"mode\":\"markers+text\",\"name\":\"blue\",\"showlegend\":false,\"text\":[\"blue\"],\"textposition\":\"top center\",\"x\":[-10.776164574033695],\"y\":[-11.50019688597678],\"type\":\"scatter\"},{\"marker\":{\"color\":\"#00CC96\",\"size\":10,\"symbol\":\"diamond\"},\"mode\":\"markers\",\"showlegend\":false,\"x\":[-10.776164574033695],\"y\":[-11.50019688597678],\"type\":\"scatter\"},{\"marker\":{\"color\":\"#00CC96\"},\"mode\":\"markers+text\",\"name\":\"blue\",\"showlegend\":false,\"text\":[\"blue\"],\"textposition\":\"top center\",\"x\":[-9.824759784989126],\"y\":[-9.719899417168813],\"type\":\"scatter\"},{\"line\":{\"color\":\"#00CC96\",\"width\":1},\"mode\":\"lines\",\"showlegend\":false,\"x\":[-10.776164574033695,-9.824759784989126],\"y\":[-11.50019688597678,-9.719899417168813],\"type\":\"scatter\"},{\"marker\":{\"color\":\"#00CC96\"},\"mode\":\"markers+text\",\"name\":\"blue\",\"showlegend\":false,\"text\":[\"blue\"],\"textposition\":\"top center\",\"x\":[-13.35989437751868],\"y\":[-14.82075864649836],\"type\":\"scatter\"},{\"line\":{\"color\":\"#00CC96\",\"width\":1},\"mode\":\"lines\",\"showlegend\":false,\"x\":[-9.824759784989126,-13.35989437751868],\"y\":[-9.719899417168813,-14.82075864649836],\"type\":\"scatter\"},{\"marker\":{\"color\":\"#00CC96\"},\"mode\":\"markers+text\",\"name\":\"blue\",\"showlegend\":false,\"text\":[\"blue\"],\"textposition\":\"top center\",\"x\":[-9.304036080811194],\"y\":[-7.648932663168629],\"type\":\"scatter\"},{\"line\":{\"color\":\"#00CC96\",\"width\":1},\"mode\":\"lines\",\"showlegend\":false,\"x\":[-13.35989437751868,-9.304036080811194],\"y\":[-14.82075864649836,-7.648932663168629],\"type\":\"scatter\"},{\"marker\":{\"color\":\"#00CC96\"},\"mode\":\"markers+text\",\"name\":\"blue\",\"showlegend\":false,\"text\":[\"blue\"],\"textposition\":\"top center\",\"x\":[-14.142683307231657],\"y\":[-13.934969634043117],\"type\":\"scatter\"},{\"line\":{\"color\":\"#00CC96\",\"width\":1},\"mode\":\"lines\",\"showlegend\":false,\"x\":[-9.304036080811194,-14.142683307231657],\"y\":[-7.648932663168629,-13.934969634043117],\"type\":\"scatter\"},{\"marker\":{\"color\":\"#00CC96\"},\"mode\":\"markers+text\",\"name\":\"blue\",\"showlegend\":false,\"text\":[\"blue\"],\"textposition\":\"top center\",\"x\":[-14.349510803374354],\"y\":[-19.330055608764958],\"type\":\"scatter\"},{\"line\":{\"color\":\"#00CC96\",\"width\":1},\"mode\":\"lines\",\"showlegend\":false,\"x\":[-14.142683307231657,-14.349510803374354],\"y\":[-13.934969634043117,-19.330055608764958],\"type\":\"scatter\"},{\"marker\":{\"color\":\"#00CC96\"},\"mode\":\"markers+text\",\"name\":\"blue\",\"showlegend\":false,\"text\":[\"blue\"],\"textposition\":\"top center\",\"x\":[-9.877433064042966],\"y\":[-12.355729425456627],\"type\":\"scatter\"},{\"line\":{\"color\":\"#00CC96\",\"width\":1},\"mode\":\"lines\",\"showlegend\":false,\"x\":[-14.349510803374354,-9.877433064042966],\"y\":[-19.330055608764958,-12.355729425456627],\"type\":\"scatter\"},{\"marker\":{\"color\":\"#00CC96\"},\"mode\":\"markers+text\",\"name\":\"blue\",\"showlegend\":false,\"text\":[\"blue\"],\"textposition\":\"top center\",\"x\":[-12.68345630638267],\"y\":[-15.851867268163133],\"type\":\"scatter\"},{\"line\":{\"color\":\"#00CC96\",\"width\":1},\"mode\":\"lines\",\"showlegend\":false,\"x\":[-9.877433064042966,-12.68345630638267],\"y\":[-12.355729425456627,-15.851867268163133],\"type\":\"scatter\"},{\"marker\":{\"color\":\"#00CC96\"},\"mode\":\"markers+text\",\"name\":\"blue\",\"showlegend\":false,\"text\":[\"blue\"],\"textposition\":\"top center\",\"x\":[-12.174459495456112],\"y\":[-14.415925685348556],\"type\":\"scatter\"},{\"line\":{\"color\":\"#00CC96\",\"width\":1},\"mode\":\"lines\",\"showlegend\":false,\"x\":[-12.68345630638267,-12.174459495456112],\"y\":[-15.851867268163133,-14.415925685348556],\"type\":\"scatter\"},{\"marker\":{\"color\":\"#00CC96\"},\"mode\":\"markers+text\",\"name\":\"blue\",\"showlegend\":false,\"text\":[\"blue\"],\"textposition\":\"top center\",\"x\":[-10.428093840405635],\"y\":[-13.745288425724462],\"type\":\"scatter\"},{\"line\":{\"color\":\"#00CC96\",\"width\":1},\"mode\":\"lines\",\"showlegend\":false,\"x\":[-12.174459495456112,-10.428093840405635],\"y\":[-14.415925685348556,-13.745288425724462],\"type\":\"scatter\"},{\"marker\":{\"color\":\"#00CC96\"},\"mode\":\"markers+text\",\"name\":\"blue\",\"showlegend\":false,\"text\":[\"blue\"],\"textposition\":\"top center\",\"x\":[-8.479342984253513],\"y\":[-14.460688646557086],\"type\":\"scatter\"},{\"line\":{\"color\":\"#00CC96\",\"width\":1},\"mode\":\"lines\",\"showlegend\":false,\"x\":[-10.428093840405635,-8.479342984253513],\"y\":[-13.745288425724462,-14.460688646557086],\"type\":\"scatter\"},{\"marker\":{\"color\":\"#FFA15A\"},\"mode\":\"markers+text\",\"name\":\"liberal\",\"showlegend\":false,\"text\":[\"liberal\"],\"textposition\":\"top center\",\"x\":[-13.177333649015987],\"y\":[11.78792588345235],\"type\":\"scatter\"},{\"marker\":{\"color\":\"#FFA15A\",\"size\":10,\"symbol\":\"diamond\"},\"mode\":\"markers\",\"showlegend\":false,\"x\":[-13.177333649015987],\"y\":[11.78792588345235],\"type\":\"scatter\"},{\"marker\":{\"color\":\"#FFA15A\"},\"mode\":\"markers+text\",\"name\":\"liberal\",\"showlegend\":false,\"text\":[\"liberal\"],\"textposition\":\"top center\",\"x\":[-14.09378242323416],\"y\":[19.45718027116263],\"type\":\"scatter\"},{\"line\":{\"color\":\"#FFA15A\",\"width\":1},\"mode\":\"lines\",\"showlegend\":false,\"x\":[-13.177333649015987,-14.09378242323416],\"y\":[11.78792588345235,19.45718027116263],\"type\":\"scatter\"},{\"marker\":{\"color\":\"#FFA15A\"},\"mode\":\"markers+text\",\"name\":\"liberal\",\"showlegend\":false,\"text\":[\"liberal\"],\"textposition\":\"top center\",\"x\":[-13.043367082758458],\"y\":[13.988541791121904],\"type\":\"scatter\"},{\"line\":{\"color\":\"#FFA15A\",\"width\":1},\"mode\":\"lines\",\"showlegend\":false,\"x\":[-14.09378242323416,-13.043367082758458],\"y\":[19.45718027116263,13.988541791121904],\"type\":\"scatter\"},{\"marker\":{\"color\":\"#FFA15A\"},\"mode\":\"markers+text\",\"name\":\"liberal\",\"showlegend\":false,\"text\":[\"liberal\"],\"textposition\":\"top center\",\"x\":[-12.21588571784032],\"y\":[13.340643351864019],\"type\":\"scatter\"},{\"line\":{\"color\":\"#FFA15A\",\"width\":1},\"mode\":\"lines\",\"showlegend\":false,\"x\":[-13.043367082758458,-12.21588571784032],\"y\":[13.988541791121904,13.340643351864019],\"type\":\"scatter\"},{\"marker\":{\"color\":\"#FFA15A\"},\"mode\":\"markers+text\",\"name\":\"liberal\",\"showlegend\":false,\"text\":[\"liberal\"],\"textposition\":\"top center\",\"x\":[-14.393314271082508],\"y\":[15.563052706545992],\"type\":\"scatter\"},{\"line\":{\"color\":\"#FFA15A\",\"width\":1},\"mode\":\"lines\",\"showlegend\":false,\"x\":[-12.21588571784032,-14.393314271082508],\"y\":[13.340643351864019,15.563052706545992],\"type\":\"scatter\"},{\"marker\":{\"color\":\"#FFA15A\"},\"mode\":\"markers+text\",\"name\":\"liberal\",\"showlegend\":false,\"text\":[\"liberal\"],\"textposition\":\"top center\",\"x\":[-14.92899505527544],\"y\":[24.378606968624712],\"type\":\"scatter\"},{\"line\":{\"color\":\"#FFA15A\",\"width\":1},\"mode\":\"lines\",\"showlegend\":false,\"x\":[-14.393314271082508,-14.92899505527544],\"y\":[15.563052706545992,24.378606968624712],\"type\":\"scatter\"},{\"marker\":{\"color\":\"#FFA15A\"},\"mode\":\"markers+text\",\"name\":\"liberal\",\"showlegend\":false,\"text\":[\"liberal\"],\"textposition\":\"top center\",\"x\":[-10.393267779492918],\"y\":[8.06729168029449],\"type\":\"scatter\"},{\"line\":{\"color\":\"#FFA15A\",\"width\":1},\"mode\":\"lines\",\"showlegend\":false,\"x\":[-14.92899505527544,-10.393267779492918],\"y\":[24.378606968624712,8.06729168029449],\"type\":\"scatter\"},{\"marker\":{\"color\":\"#FFA15A\"},\"mode\":\"markers+text\",\"name\":\"liberal\",\"showlegend\":false,\"text\":[\"liberal\"],\"textposition\":\"top center\",\"x\":[-13.056820410153156],\"y\":[16.718012120118612],\"type\":\"scatter\"},{\"line\":{\"color\":\"#FFA15A\",\"width\":1},\"mode\":\"lines\",\"showlegend\":false,\"x\":[-10.393267779492918,-13.056820410153156],\"y\":[8.06729168029449,16.718012120118612],\"type\":\"scatter\"},{\"marker\":{\"color\":\"#FFA15A\"},\"mode\":\"markers+text\",\"name\":\"liberal\",\"showlegend\":false,\"text\":[\"liberal\"],\"textposition\":\"top center\",\"x\":[-12.45461446033533],\"y\":[10.054963851840542],\"type\":\"scatter\"},{\"line\":{\"color\":\"#FFA15A\",\"width\":1},\"mode\":\"lines\",\"showlegend\":false,\"x\":[-13.056820410153156,-12.45461446033533],\"y\":[16.718012120118612,10.054963851840542],\"type\":\"scatter\"},{\"marker\":{\"color\":\"#FFA15A\"},\"mode\":\"markers+text\",\"name\":\"liberal\",\"showlegend\":false,\"text\":[\"liberal\"],\"textposition\":\"top center\",\"x\":[-14.309747660889954],\"y\":[20.506164277776456],\"type\":\"scatter\"},{\"line\":{\"color\":\"#FFA15A\",\"width\":1},\"mode\":\"lines\",\"showlegend\":false,\"x\":[-12.45461446033533,-14.309747660889954],\"y\":[10.054963851840542,20.506164277776456],\"type\":\"scatter\"},{\"marker\":{\"color\":\"#FFA15A\"},\"mode\":\"markers+text\",\"name\":\"liberal\",\"showlegend\":false,\"text\":[\"liberal\"],\"textposition\":\"top center\",\"x\":[-10.29668904759945],\"y\":[7.717751947036797],\"type\":\"scatter\"},{\"line\":{\"color\":\"#FFA15A\",\"width\":1},\"mode\":\"lines\",\"showlegend\":false,\"x\":[-14.309747660889954,-10.29668904759945],\"y\":[20.506164277776456,7.717751947036797],\"type\":\"scatter\"},{\"marker\":{\"color\":\"#EF553B\"},\"mode\":\"markers+text\",\"name\":\"twitter\",\"showlegend\":false,\"text\":[\"twitter\"],\"textposition\":\"top center\",\"x\":[10.953048360762942],\"y\":[0.40749354991070513],\"type\":\"scatter\"},{\"marker\":{\"color\":\"#EF553B\",\"size\":10,\"symbol\":\"diamond\"},\"mode\":\"markers\",\"showlegend\":false,\"x\":[10.953048360762942],\"y\":[0.40749354991070513],\"type\":\"scatter\"},{\"marker\":{\"color\":\"#EF553B\"},\"mode\":\"markers+text\",\"name\":\"twitter\",\"showlegend\":false,\"text\":[\"twitter\"],\"textposition\":\"top center\",\"x\":[11.902090219256031],\"y\":[-0.9466453163574559],\"type\":\"scatter\"},{\"line\":{\"color\":\"#EF553B\",\"width\":1},\"mode\":\"lines\",\"showlegend\":false,\"x\":[10.953048360762942,11.902090219256031],\"y\":[0.40749354991070513,-0.9466453163574559],\"type\":\"scatter\"},{\"marker\":{\"color\":\"#EF553B\"},\"mode\":\"markers+text\",\"name\":\"twitter\",\"showlegend\":false,\"text\":[\"twitter\"],\"textposition\":\"top center\",\"x\":[9.105135437766267],\"y\":[1.1524044820800234],\"type\":\"scatter\"},{\"line\":{\"color\":\"#EF553B\",\"width\":1},\"mode\":\"lines\",\"showlegend\":false,\"x\":[11.902090219256031,9.105135437766267],\"y\":[-0.9466453163574559,1.1524044820800234],\"type\":\"scatter\"},{\"marker\":{\"color\":\"#EF553B\"},\"mode\":\"markers+text\",\"name\":\"twitter\",\"showlegend\":false,\"text\":[\"twitter\"],\"textposition\":\"top center\",\"x\":[11.38792760886908],\"y\":[-0.35290800091711694],\"type\":\"scatter\"},{\"line\":{\"color\":\"#EF553B\",\"width\":1},\"mode\":\"lines\",\"showlegend\":false,\"x\":[9.105135437766267,11.38792760886908],\"y\":[1.1524044820800234,-0.35290800091711694],\"type\":\"scatter\"},{\"marker\":{\"color\":\"#EF553B\"},\"mode\":\"markers+text\",\"name\":\"twitter\",\"showlegend\":false,\"text\":[\"twitter\"],\"textposition\":\"top center\",\"x\":[20.523877375422348],\"y\":[4.629043737030855],\"type\":\"scatter\"},{\"line\":{\"color\":\"#EF553B\",\"width\":1},\"mode\":\"lines\",\"showlegend\":false,\"x\":[11.38792760886908,20.523877375422348],\"y\":[-0.35290800091711694,4.629043737030855],\"type\":\"scatter\"},{\"marker\":{\"color\":\"#EF553B\"},\"mode\":\"markers+text\",\"name\":\"twitter\",\"showlegend\":false,\"text\":[\"twitter\"],\"textposition\":\"top center\",\"x\":[16.615792215980246],\"y\":[1.8537951818557692],\"type\":\"scatter\"},{\"line\":{\"color\":\"#EF553B\",\"width\":1},\"mode\":\"lines\",\"showlegend\":false,\"x\":[20.523877375422348,16.615792215980246],\"y\":[4.629043737030855,1.8537951818557692],\"type\":\"scatter\"},{\"marker\":{\"color\":\"#EF553B\"},\"mode\":\"markers+text\",\"name\":\"twitter\",\"showlegend\":false,\"text\":[\"twitter\"],\"textposition\":\"top center\",\"x\":[17.56827923906899],\"y\":[8.273341091454867],\"type\":\"scatter\"},{\"line\":{\"color\":\"#EF553B\",\"width\":1},\"mode\":\"lines\",\"showlegend\":false,\"x\":[16.615792215980246,17.56827923906899],\"y\":[1.8537951818557692,8.273341091454867],\"type\":\"scatter\"},{\"marker\":{\"color\":\"#EF553B\"},\"mode\":\"markers+text\",\"name\":\"twitter\",\"showlegend\":false,\"text\":[\"twitter\"],\"textposition\":\"top center\",\"x\":[16.524321538526515],\"y\":[3.8786677601916724],\"type\":\"scatter\"},{\"line\":{\"color\":\"#EF553B\",\"width\":1},\"mode\":\"lines\",\"showlegend\":false,\"x\":[17.56827923906899,16.524321538526515],\"y\":[8.273341091454867,3.8786677601916724],\"type\":\"scatter\"},{\"marker\":{\"color\":\"#EF553B\"},\"mode\":\"markers+text\",\"name\":\"twitter\",\"showlegend\":false,\"text\":[\"twitter\"],\"textposition\":\"top center\",\"x\":[11.897887522805814],\"y\":[1.9677770375574863],\"type\":\"scatter\"},{\"line\":{\"color\":\"#EF553B\",\"width\":1},\"mode\":\"lines\",\"showlegend\":false,\"x\":[16.524321538526515,11.897887522805814],\"y\":[3.8786677601916724,1.9677770375574863],\"type\":\"scatter\"},{\"marker\":{\"color\":\"#EF553B\"},\"mode\":\"markers+text\",\"name\":\"twitter\",\"showlegend\":false,\"text\":[\"twitter\"],\"textposition\":\"top center\",\"x\":[19.79835681792243],\"y\":[7.949528060623645],\"type\":\"scatter\"},{\"line\":{\"color\":\"#EF553B\",\"width\":1},\"mode\":\"lines\",\"showlegend\":false,\"x\":[11.897887522805814,19.79835681792243],\"y\":[1.9677770375574863,7.949528060623645],\"type\":\"scatter\"},{\"marker\":{\"color\":\"#EF553B\"},\"mode\":\"markers+text\",\"name\":\"twitter\",\"showlegend\":false,\"text\":[\"twitter\"],\"textposition\":\"top center\",\"x\":[15.848847364427986],\"y\":[0.03467403856430636],\"type\":\"scatter\"},{\"line\":{\"color\":\"#EF553B\",\"width\":1},\"mode\":\"lines\",\"showlegend\":false,\"x\":[19.79835681792243,15.848847364427986],\"y\":[7.949528060623645,0.03467403856430636],\"type\":\"scatter\"}],                        {\"legend\":{\"x\":1.02,\"y\":1.0},\"template\":{\"data\":{\"barpolar\":[{\"marker\":{\"line\":{\"color\":\"#E5ECF6\",\"width\":0.5},\"pattern\":{\"fillmode\":\"overlay\",\"size\":10,\"solidity\":0.2}},\"type\":\"barpolar\"}],\"bar\":[{\"error_x\":{\"color\":\"#2a3f5f\"},\"error_y\":{\"color\":\"#2a3f5f\"},\"marker\":{\"line\":{\"color\":\"#E5ECF6\",\"width\":0.5},\"pattern\":{\"fillmode\":\"overlay\",\"size\":10,\"solidity\":0.2}},\"type\":\"bar\"}],\"carpet\":[{\"aaxis\":{\"endlinecolor\":\"#2a3f5f\",\"gridcolor\":\"white\",\"linecolor\":\"white\",\"minorgridcolor\":\"white\",\"startlinecolor\":\"#2a3f5f\"},\"baxis\":{\"endlinecolor\":\"#2a3f5f\",\"gridcolor\":\"white\",\"linecolor\":\"white\",\"minorgridcolor\":\"white\",\"startlinecolor\":\"#2a3f5f\"},\"type\":\"carpet\"}],\"choropleth\":[{\"colorbar\":{\"outlinewidth\":0,\"ticks\":\"\"},\"type\":\"choropleth\"}],\"contourcarpet\":[{\"colorbar\":{\"outlinewidth\":0,\"ticks\":\"\"},\"type\":\"contourcarpet\"}],\"contour\":[{\"colorbar\":{\"outlinewidth\":0,\"ticks\":\"\"},\"colorscale\":[[0.0,\"#0d0887\"],[0.1111111111111111,\"#46039f\"],[0.2222222222222222,\"#7201a8\"],[0.3333333333333333,\"#9c179e\"],[0.4444444444444444,\"#bd3786\"],[0.5555555555555556,\"#d8576b\"],[0.6666666666666666,\"#ed7953\"],[0.7777777777777778,\"#fb9f3a\"],[0.8888888888888888,\"#fdca26\"],[1.0,\"#f0f921\"]],\"type\":\"contour\"}],\"heatmapgl\":[{\"colorbar\":{\"outlinewidth\":0,\"ticks\":\"\"},\"colorscale\":[[0.0,\"#0d0887\"],[0.1111111111111111,\"#46039f\"],[0.2222222222222222,\"#7201a8\"],[0.3333333333333333,\"#9c179e\"],[0.4444444444444444,\"#bd3786\"],[0.5555555555555556,\"#d8576b\"],[0.6666666666666666,\"#ed7953\"],[0.7777777777777778,\"#fb9f3a\"],[0.8888888888888888,\"#fdca26\"],[1.0,\"#f0f921\"]],\"type\":\"heatmapgl\"}],\"heatmap\":[{\"colorbar\":{\"outlinewidth\":0,\"ticks\":\"\"},\"colorscale\":[[0.0,\"#0d0887\"],[0.1111111111111111,\"#46039f\"],[0.2222222222222222,\"#7201a8\"],[0.3333333333333333,\"#9c179e\"],[0.4444444444444444,\"#bd3786\"],[0.5555555555555556,\"#d8576b\"],[0.6666666666666666,\"#ed7953\"],[0.7777777777777778,\"#fb9f3a\"],[0.8888888888888888,\"#fdca26\"],[1.0,\"#f0f921\"]],\"type\":\"heatmap\"}],\"histogram2dcontour\":[{\"colorbar\":{\"outlinewidth\":0,\"ticks\":\"\"},\"colorscale\":[[0.0,\"#0d0887\"],[0.1111111111111111,\"#46039f\"],[0.2222222222222222,\"#7201a8\"],[0.3333333333333333,\"#9c179e\"],[0.4444444444444444,\"#bd3786\"],[0.5555555555555556,\"#d8576b\"],[0.6666666666666666,\"#ed7953\"],[0.7777777777777778,\"#fb9f3a\"],[0.8888888888888888,\"#fdca26\"],[1.0,\"#f0f921\"]],\"type\":\"histogram2dcontour\"}],\"histogram2d\":[{\"colorbar\":{\"outlinewidth\":0,\"ticks\":\"\"},\"colorscale\":[[0.0,\"#0d0887\"],[0.1111111111111111,\"#46039f\"],[0.2222222222222222,\"#7201a8\"],[0.3333333333333333,\"#9c179e\"],[0.4444444444444444,\"#bd3786\"],[0.5555555555555556,\"#d8576b\"],[0.6666666666666666,\"#ed7953\"],[0.7777777777777778,\"#fb9f3a\"],[0.8888888888888888,\"#fdca26\"],[1.0,\"#f0f921\"]],\"type\":\"histogram2d\"}],\"histogram\":[{\"marker\":{\"pattern\":{\"fillmode\":\"overlay\",\"size\":10,\"solidity\":0.2}},\"type\":\"histogram\"}],\"mesh3d\":[{\"colorbar\":{\"outlinewidth\":0,\"ticks\":\"\"},\"type\":\"mesh3d\"}],\"parcoords\":[{\"line\":{\"colorbar\":{\"outlinewidth\":0,\"ticks\":\"\"}},\"type\":\"parcoords\"}],\"pie\":[{\"automargin\":true,\"type\":\"pie\"}],\"scatter3d\":[{\"line\":{\"colorbar\":{\"outlinewidth\":0,\"ticks\":\"\"}},\"marker\":{\"colorbar\":{\"outlinewidth\":0,\"ticks\":\"\"}},\"type\":\"scatter3d\"}],\"scattercarpet\":[{\"marker\":{\"colorbar\":{\"outlinewidth\":0,\"ticks\":\"\"}},\"type\":\"scattercarpet\"}],\"scattergeo\":[{\"marker\":{\"colorbar\":{\"outlinewidth\":0,\"ticks\":\"\"}},\"type\":\"scattergeo\"}],\"scattergl\":[{\"marker\":{\"colorbar\":{\"outlinewidth\":0,\"ticks\":\"\"}},\"type\":\"scattergl\"}],\"scattermapbox\":[{\"marker\":{\"colorbar\":{\"outlinewidth\":0,\"ticks\":\"\"}},\"type\":\"scattermapbox\"}],\"scatterpolargl\":[{\"marker\":{\"colorbar\":{\"outlinewidth\":0,\"ticks\":\"\"}},\"type\":\"scatterpolargl\"}],\"scatterpolar\":[{\"marker\":{\"colorbar\":{\"outlinewidth\":0,\"ticks\":\"\"}},\"type\":\"scatterpolar\"}],\"scatter\":[{\"fillpattern\":{\"fillmode\":\"overlay\",\"size\":10,\"solidity\":0.2},\"type\":\"scatter\"}],\"scatterternary\":[{\"marker\":{\"colorbar\":{\"outlinewidth\":0,\"ticks\":\"\"}},\"type\":\"scatterternary\"}],\"surface\":[{\"colorbar\":{\"outlinewidth\":0,\"ticks\":\"\"},\"colorscale\":[[0.0,\"#0d0887\"],[0.1111111111111111,\"#46039f\"],[0.2222222222222222,\"#7201a8\"],[0.3333333333333333,\"#9c179e\"],[0.4444444444444444,\"#bd3786\"],[0.5555555555555556,\"#d8576b\"],[0.6666666666666666,\"#ed7953\"],[0.7777777777777778,\"#fb9f3a\"],[0.8888888888888888,\"#fdca26\"],[1.0,\"#f0f921\"]],\"type\":\"surface\"}],\"table\":[{\"cells\":{\"fill\":{\"color\":\"#EBF0F8\"},\"line\":{\"color\":\"white\"}},\"header\":{\"fill\":{\"color\":\"#C8D4E3\"},\"line\":{\"color\":\"white\"}},\"type\":\"table\"}]},\"layout\":{\"annotationdefaults\":{\"arrowcolor\":\"#2a3f5f\",\"arrowhead\":0,\"arrowwidth\":1},\"autotypenumbers\":\"strict\",\"coloraxis\":{\"colorbar\":{\"outlinewidth\":0,\"ticks\":\"\"}},\"colorscale\":{\"diverging\":[[0,\"#8e0152\"],[0.1,\"#c51b7d\"],[0.2,\"#de77ae\"],[0.3,\"#f1b6da\"],[0.4,\"#fde0ef\"],[0.5,\"#f7f7f7\"],[0.6,\"#e6f5d0\"],[0.7,\"#b8e186\"],[0.8,\"#7fbc41\"],[0.9,\"#4d9221\"],[1,\"#276419\"]],\"sequential\":[[0.0,\"#0d0887\"],[0.1111111111111111,\"#46039f\"],[0.2222222222222222,\"#7201a8\"],[0.3333333333333333,\"#9c179e\"],[0.4444444444444444,\"#bd3786\"],[0.5555555555555556,\"#d8576b\"],[0.6666666666666666,\"#ed7953\"],[0.7777777777777778,\"#fb9f3a\"],[0.8888888888888888,\"#fdca26\"],[1.0,\"#f0f921\"]],\"sequentialminus\":[[0.0,\"#0d0887\"],[0.1111111111111111,\"#46039f\"],[0.2222222222222222,\"#7201a8\"],[0.3333333333333333,\"#9c179e\"],[0.4444444444444444,\"#bd3786\"],[0.5555555555555556,\"#d8576b\"],[0.6666666666666666,\"#ed7953\"],[0.7777777777777778,\"#fb9f3a\"],[0.8888888888888888,\"#fdca26\"],[1.0,\"#f0f921\"]]},\"colorway\":[\"#636efa\",\"#EF553B\",\"#00cc96\",\"#ab63fa\",\"#FFA15A\",\"#19d3f3\",\"#FF6692\",\"#B6E880\",\"#FF97FF\",\"#FECB52\"],\"font\":{\"color\":\"#2a3f5f\"},\"geo\":{\"bgcolor\":\"white\",\"lakecolor\":\"white\",\"landcolor\":\"#E5ECF6\",\"showlakes\":true,\"showland\":true,\"subunitcolor\":\"white\"},\"hoverlabel\":{\"align\":\"left\"},\"hovermode\":\"closest\",\"mapbox\":{\"style\":\"light\"},\"paper_bgcolor\":\"white\",\"plot_bgcolor\":\"#E5ECF6\",\"polar\":{\"angularaxis\":{\"gridcolor\":\"white\",\"linecolor\":\"white\",\"ticks\":\"\"},\"bgcolor\":\"#E5ECF6\",\"radialaxis\":{\"gridcolor\":\"white\",\"linecolor\":\"white\",\"ticks\":\"\"}},\"scene\":{\"xaxis\":{\"backgroundcolor\":\"#E5ECF6\",\"gridcolor\":\"white\",\"gridwidth\":2,\"linecolor\":\"white\",\"showbackground\":true,\"ticks\":\"\",\"zerolinecolor\":\"white\"},\"yaxis\":{\"backgroundcolor\":\"#E5ECF6\",\"gridcolor\":\"white\",\"gridwidth\":2,\"linecolor\":\"white\",\"showbackground\":true,\"ticks\":\"\",\"zerolinecolor\":\"white\"},\"zaxis\":{\"backgroundcolor\":\"#E5ECF6\",\"gridcolor\":\"white\",\"gridwidth\":2,\"linecolor\":\"white\",\"showbackground\":true,\"ticks\":\"\",\"zerolinecolor\":\"white\"}},\"shapedefaults\":{\"line\":{\"color\":\"#2a3f5f\"}},\"ternary\":{\"aaxis\":{\"gridcolor\":\"white\",\"linecolor\":\"white\",\"ticks\":\"\"},\"baxis\":{\"gridcolor\":\"white\",\"linecolor\":\"white\",\"ticks\":\"\"},\"bgcolor\":\"#E5ECF6\",\"caxis\":{\"gridcolor\":\"white\",\"linecolor\":\"white\",\"ticks\":\"\"}},\"title\":{\"x\":0.05},\"xaxis\":{\"automargin\":true,\"gridcolor\":\"white\",\"linecolor\":\"white\",\"ticks\":\"\",\"title\":{\"standoff\":15},\"zerolinecolor\":\"white\",\"zerolinewidth\":2},\"yaxis\":{\"automargin\":true,\"gridcolor\":\"white\",\"linecolor\":\"white\",\"ticks\":\"\",\"title\":{\"standoff\":15},\"zerolinecolor\":\"white\",\"zerolinewidth\":2}}},\"title\":{\"text\":\"2D Visualization of Word Vectors\"},\"xaxis\":{\"range\":[-50,50],\"title\":{\"text\":\"PC1\"}},\"yaxis\":{\"range\":[-50,50],\"title\":{\"text\":\"PC2\"}}},                        {\"responsive\": true}                    ).then(function(){\n                            \nvar gd = document.getElementById('548c2ac8-1bee-464d-b402-c7e909f267eb');\nvar x = new MutationObserver(function (mutations, observer) {{\n        var display = window.getComputedStyle(gd).display;\n        if (!display || display === 'none') {{\n            console.log([gd, 'removed!']);\n            Plotly.purge(gd);\n            observer.disconnect();\n        }}\n}});\n\n// Listen for the removal of the full notebook cells\nvar notebookContainer = gd.closest('#notebook-container');\nif (notebookContainer) {{\n    x.observe(notebookContainer, {childList: true});\n}}\n\n// Listen for the clearing of the current output cell\nvar outputEl = gd.closest('.output');\nif (outputEl) {{\n    x.observe(outputEl, {childList: true});\n}}\n\n                        })                };                });            </script>        </div>"
     },
     "metadata": {},
     "output_type": "display_data"
    }
   ],
   "source": [
    "selected_months = [9, 10, 11, 12]\n",
    "plot_word_vectors_tppmi(tppmi_model.get_2d_representation(test_words_twitter + [target_word_twitter], selected_months=None, use_tsne=False))"
   ]
  },
  {
   "cell_type": "code",
   "execution_count": 112,
   "metadata": {},
   "outputs": [
    {
     "data": {
      "text/plain": "<Figure size 1000x600 with 1 Axes>",
      "image/png": "[encoded data removed]"
     },
     "metadata": {},
     "output_type": "display_data"
    }
   ],
   "source": [
    "plot_cosine_similarity_tppmi(\"twitter\", [\"facebook\", \"elon\", \"musk\"], tppmi_model, selected_months = [10, 11, 12])"
   ]
  },
  {
   "cell_type": "markdown",
   "metadata": {},
   "source": [
    "## Attack on Paul Pelosi"
   ]
  },
  {
   "cell_type": "markdown",
   "metadata": {},
   "source": [
    "### Overview"
   ]
  },
  {
   "cell_type": "markdown",
   "metadata": {},
   "source": [
    "On October 28, 2022, an intruder attacked Paul Pelosi, the 82-year-old husband of Nancy Pelosi, then the Speaker of the United States House of Representatives. The assailant beat Paul Pelosi with a hammer during a home invasion burglary of the couple's residence in Pacific Heights, San Francisco. He was seriously injured and underwent surgery for his fractured skull.\n",
    "\n",
    "source: [Wikipedia article](https://en.wikipedia.org/wiki/Attack_on_Paul_Pelosi)"
   ]
  },
  {
   "cell_type": "code",
   "execution_count": null,
   "metadata": {},
   "outputs": [],
   "source": [
    "target_word_pelosi = \"paul\""
   ]
  },
  {
   "cell_type": "code",
   "execution_count": null,
   "metadata": {},
   "outputs": [],
   "source": [
    "selected_months_pelosi = [\"oct\", \"nov\", \"dec\", \"jan\"]\n",
    "selected_models_monthly_pelosi = {f\"model_{month}\": models_monthly[f\"model_{month}\"] for month in selected_months_pelosi}"
   ]
  },
  {
   "cell_type": "code",
   "execution_count": null,
   "metadata": {},
   "outputs": [],
   "source": [
    "title_pelosi = f\"Evolution of the word {target_word_pelosi} over time\"\n",
    "subtitle_pelosi = f\"Period: {' - '.join([month.capitalize() for month in selected_months_pelosi])}\""
   ]
  },
  {
   "cell_type": "code",
   "execution_count": null,
   "metadata": {},
   "outputs": [],
   "source": [
    "print_most_similar_cade(selected_models_monthly_pelosi, target_word_pelosi, top_n = 4)"
   ]
  },
  {
   "cell_type": "markdown",
   "metadata": {},
   "source": [
    "### Temporally changing embeddings"
   ]
  },
  {
   "cell_type": "code",
   "execution_count": null,
   "metadata": {},
   "outputs": [],
   "source": [
    "plot_temporal_changing_embedding(target_word_pelosi, selected_models_monthly_pelosi, top_n=3, title=title_pelosi, subtitle=subtitle_pelosi, use_tsne=True)"
   ]
  },
  {
   "cell_type": "markdown",
   "metadata": {},
   "source": [
    "### Cosine similarities"
   ]
  },
  {
   "cell_type": "code",
   "execution_count": null,
   "metadata": {},
   "outputs": [],
   "source": [
    "print_most_similar_cade(models_monthly, target_word_pelosi)"
   ]
  },
  {
   "cell_type": "code",
   "execution_count": null,
   "metadata": {},
   "outputs": [],
   "source": [
    "test_words_pelosi = [\"attack\", \"democrats\", \"invasion\", \"hammer\", \"intruder\"]"
   ]
  },
  {
   "cell_type": "code",
   "execution_count": null,
   "metadata": {},
   "outputs": [],
   "source": [
    "plot_cosine_similarity(target_word_pelosi, test_words_pelosi, models_monthly, event=\"nov\", event_name=\"Attack on Paul Pelosi\")"
   ]
  },
  {
   "cell_type": "markdown",
   "metadata": {},
   "source": [
    "### TPPMI"
   ]
  },
  {
   "cell_type": "code",
   "execution_count": null,
   "metadata": {},
   "outputs": [],
   "source": [
    "tppmi_pelosi = tppmi_model.get_tppmi(test_words_pelosi + [target_word_pelosi])"
   ]
  },
  {
   "cell_type": "code",
   "execution_count": null,
   "metadata": {},
   "outputs": [],
   "source": [
    "test_words_pelosi = [\"attack\", \"democrats\", \"invasion\"]\n",
    "selected_months_pelosi = [10, 11, 12]\n",
    "plot_word_vectors_tppmi(tppmi_model.get_2d_representation(test_words_pelosi + [target_word_pelosi], use_tsne=False, selected_months = selected_months_pelosi))"
   ]
  },
  {
   "cell_type": "code",
   "execution_count": null,
   "metadata": {},
   "outputs": [],
   "source": [
    "plot_cosine_similarity_tppmi(target_word_pelosi, test_words_pelosi, tppmi_model, selected_months = selected_months_pelosi)"
   ]
  },
  {
   "cell_type": "markdown",
   "metadata": {},
   "source": [
    "## Colorado Springs shooting at LGBTQ nightclub"
   ]
  },
  {
   "cell_type": "markdown",
   "metadata": {},
   "source": [
    "### Overview"
   ]
  },
  {
   "cell_type": "markdown",
   "metadata": {},
   "source": [
    "On November 19–20, 2022, an anti-LGBT-motivated mass shooting occurred at Club Q, a gay bar in Colorado Springs, Colorado, United States. Five people were murdered, and 25 others were injured, 19 of them by gunfire. The shooter, 22-year-old Anderson Lee Aldrich, was also injured while being restrained, and was taken to a local hospital\n",
    "\n",
    "source: [wikipedia article](https://en.wikipedia.org/wiki/Colorado_Springs_nightclub_shooting)"
   ]
  },
  {
   "cell_type": "code",
   "execution_count": null,
   "metadata": {},
   "outputs": [],
   "source": [
    "target_word_colorado_springs = \"nightclub\""
   ]
  },
  {
   "cell_type": "code",
   "execution_count": null,
   "metadata": {},
   "outputs": [],
   "source": [
    "selected_months_colorado_springs = [\"oct\", \"nov\", \"dec\", \"jan\"]\n",
    "selected_models_monthly_colorado_springs = {f\"model_{month}\": models_monthly[f\"model_{month}\"] for month in selected_months_colorado_springs}"
   ]
  },
  {
   "cell_type": "code",
   "execution_count": null,
   "metadata": {},
   "outputs": [],
   "source": [
    "title_colorado_springs = f\"Evolution of the word {target_word_colorado_springs} over time\"\n",
    "subtitle_colorado_springs = f\"Period: {' - '.join([month.capitalize() for month in selected_months_colorado_springs])}\""
   ]
  },
  {
   "cell_type": "code",
   "execution_count": null,
   "metadata": {},
   "outputs": [],
   "source": [
    "print_most_similar_cade(selected_models_monthly_colorado_springs, target_word_colorado_springs)"
   ]
  },
  {
   "cell_type": "markdown",
   "metadata": {},
   "source": [
    "### Temporarily changing embeddings"
   ]
  },
  {
   "cell_type": "code",
   "execution_count": null,
   "metadata": {},
   "outputs": [],
   "source": [
    "plot_temporal_changing_embedding(target_word_colorado_springs, selected_models_monthly_colorado_springs,\n",
    "                                 top_n=4, title=title_colorado_springs, subtitle=subtitle_colorado_springs, use_tsne=True)"
   ]
  },
  {
   "cell_type": "markdown",
   "metadata": {},
   "source": [
    "### Cosine similarities"
   ]
  },
  {
   "cell_type": "code",
   "execution_count": null,
   "metadata": {},
   "outputs": [],
   "source": [
    "test_words_colorado_springs = [\"music\", \"gunman\", \"massacre\"]"
   ]
  },
  {
   "cell_type": "code",
   "execution_count": null,
   "metadata": {},
   "outputs": [],
   "source": [
    "plot_cosine_similarity(target_word_colorado_springs, test_words_colorado_springs, selected_models_monthly_colorado_springs, event=\"dec\", event_name=\"Colorado Springs nightclub shooting\")"
   ]
  },
  {
   "cell_type": "markdown",
   "metadata": {},
   "source": [
    "### TPPMI"
   ]
  },
  {
   "cell_type": "code",
   "execution_count": null,
   "metadata": {},
   "outputs": [],
   "source": [
    "tppmi_colorado_springs = tppmi_model.get_tppmi(test_words_colorado_springs + [target_word_colorado_springs])"
   ]
  },
  {
   "cell_type": "code",
   "execution_count": null,
   "metadata": {},
   "outputs": [],
   "source": [
    "target_word_colorado_springs = \"colorado\"\n",
    "selected_months_colorado_springs = [9, 10, 11, 12]"
   ]
  },
  {
   "cell_type": "code",
   "execution_count": null,
   "metadata": {},
   "outputs": [],
   "source": [
    "test_words_colorado_springs = [\"massacre\", \"kansas\"]\n",
    "plot_word_vectors_tppmi(tppmi_model.get_2d_representation(test_words_colorado_springs + [target_word_colorado_springs], use_tsne=False, selected_months = selected_months_colorado_springs))"
   ]
  }
 ],
 "metadata": {
  "kernelspec": {
   "display_name": "Python 3 (ipykernel)",
   "language": "python",
   "name": "python3"
  },
  "language_info": {
   "codemirror_mode": {
    "name": "ipython",
    "version": 3
   },
   "file_extension": ".py",
   "mimetype": "text/x-python",
   "name": "python",
   "nbconvert_exporter": "python",
   "pygments_lexer": "ipython3",
   "version": "3.11.4"
  }
 },
 "nbformat": 4,
 "nbformat_minor": 1
}
