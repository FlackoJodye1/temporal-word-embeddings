{
 "cells": [
  {
   "cell_type": "markdown",
   "source": [
    "# Model Analysis"
   ],
   "metadata": {
    "collapsed": false
   }
  },
  {
   "cell_type": "code",
   "execution_count": 1,
   "outputs": [],
   "source": [
    "import pickle\n",
    "from glob import glob\n",
    "from pathlib import Path\n",
    "import scipy.sparse as sp\n",
    "from tqdm.notebook import tqdm\n",
    "from gensim.models.word2vec import Word2Vec\n",
    "\n",
    "import sys\n",
    "sys.path.append('../../')\n",
    "\n",
    "from src.packages.TPPMI.ppmi_model import PPMIModel\n",
    "from src.packages.TPPMI.tppmi_model import TPPMIModel\n",
    "\n",
    "from src.visualization.embedding_visualization import  \\\n",
    "    plot_word_vectors_cade,  plot_word_vectors_tppmi, print_most_similar_cade"
   ],
   "metadata": {
    "collapsed": false
   }
  },
  {
   "cell_type": "markdown",
   "source": [
    "## Setup"
   ],
   "metadata": {
    "collapsed": false
   }
  },
  {
   "cell_type": "markdown",
   "source": [
    "### Paths"
   ],
   "metadata": {
    "collapsed": false
   }
  },
  {
   "cell_type": "code",
   "execution_count": 2,
   "outputs": [],
   "source": [
    "number_of_context_words = \"500\"\n",
    "input_dir = Path(\"../../model\") / \"social-media-data\" / \"quarter\"\n",
    "ppmi_path = Path(\"../../data\") / \"ppmi-matrices\" / \"social-media-data\" / \"quarter\" / number_of_context_words"
   ],
   "metadata": {
    "collapsed": false
   }
  },
  {
   "cell_type": "markdown",
   "source": [
    "### Load Models"
   ],
   "metadata": {
    "collapsed": false
   }
  },
  {
   "cell_type": "code",
   "execution_count": 3,
   "outputs": [],
   "source": [
    "cade_model_filenames = glob(str(input_dir / \"*.model\"))"
   ],
   "metadata": {
    "collapsed": false
   }
  },
  {
   "cell_type": "code",
   "execution_count": 4,
   "outputs": [
    {
     "data": {
      "text/plain": "  0%|          | 0/4 [00:00<?, ?it/s]",
      "application/vnd.jupyter.widget-view+json": {
       "version_major": 2,
       "version_minor": 0,
       "model_id": "66c621d95b2144e8957074c46d771ec0"
      },
      "application/json": {
       "n": 0,
       "total": 4,
       "elapsed": 0.00422978401184082,
       "ncols": null,
       "nrows": null,
       "prefix": "",
       "ascii": false,
       "unit": "it",
       "unit_scale": false,
       "rate": null,
       "bar_format": null,
       "postfix": null,
       "unit_divisor": 1000,
       "initial": 0,
       "colour": null
      }
     },
     "metadata": {},
     "output_type": "display_data"
    }
   ],
   "source": [
    "# load models\n",
    "cade_models_quarterly = {f\"model_{model_file.split('_')[1][0:3].lower()}\":Word2Vec.load(model_file) for model_file in tqdm(cade_model_filenames)}"
   ],
   "metadata": {
    "collapsed": false
   }
  },
  {
   "cell_type": "markdown",
   "source": [
    "Put them in the right chronological order"
   ],
   "metadata": {
    "collapsed": false
   }
  },
  {
   "cell_type": "code",
   "execution_count": 5,
   "outputs": [],
   "source": [
    "order = ['jun', 'sep', 'dec', 'mar', 'apr']\n",
    "month_codes = {\"jun\": 6, \"sep\": 9, \"dec\": 12, \"mar\": 3}\n",
    "\n",
    "# Sort the keys based on the desired month order\n",
    "sorted_keys = sorted(cade_models_quarterly.keys(), key=lambda x: order.index(x.split('_')[1]))\n",
    "\n",
    "# Create a sorted dictionaries\n",
    "cade_models_quarterly = {key: cade_models_quarterly[key] for key in sorted_keys}"
   ],
   "metadata": {
    "collapsed": false
   }
  },
  {
   "cell_type": "code",
   "execution_count": 6,
   "outputs": [
    {
     "data": {
      "text/plain": "dict_keys(['model_jun', 'model_sep', 'model_dec', 'model_mar'])"
     },
     "execution_count": 6,
     "metadata": {},
     "output_type": "execute_result"
    }
   ],
   "source": [
    "cade_models_quarterly.keys()"
   ],
   "metadata": {
    "collapsed": false
   }
  },
  {
   "cell_type": "markdown",
   "source": [
    "### TPPMI"
   ],
   "metadata": {
    "collapsed": false
   }
  },
  {
   "cell_type": "code",
   "execution_count": 7,
   "outputs": [],
   "source": [
    "ppmi_data_files = sorted(glob(str(ppmi_path  / \"*.npz\")))\n",
    "words_files = sorted(glob(str(ppmi_path  / \"*.pkl\")))"
   ],
   "metadata": {
    "collapsed": false
   }
  },
  {
   "cell_type": "markdown",
   "source": [
    "Split context-words from timestamped-vocabularies"
   ],
   "metadata": {
    "collapsed": false
   }
  },
  {
   "cell_type": "code",
   "execution_count": 8,
   "outputs": [],
   "source": [
    "context_words_file = [path for path in words_files if \"context-words\" in path]\n",
    "ppmi_vocab_files = [path for path in words_files if \"context-words\" not in path]"
   ],
   "metadata": {
    "collapsed": false
   }
  },
  {
   "cell_type": "code",
   "execution_count": 9,
   "outputs": [],
   "source": [
    "# Get ppmi-matrices and vocab\n",
    "ppmi_matrices = {}\n",
    "\n",
    "for filenames in zip(ppmi_vocab_files, ppmi_data_files):\n",
    "    ppmi_matrix = sp.load_npz(filenames[1])\n",
    "    with open(filenames[0], \"rb\") as f:\n",
    "        vocab = pickle.load(f)\n",
    "    key = filenames[0].split(\"ppmi-\")[2][0:2]\n",
    "    ppmi_matrices[key] = {\"ppmi_matrix\" : ppmi_matrix, \"vocab\": vocab}\n",
    "\n",
    "# Get common context-words\n",
    "with open(context_words_file[0], \"rb\") as f:\n",
    "    context_words = pickle.load(f)"
   ],
   "metadata": {
    "collapsed": false
   }
  },
  {
   "cell_type": "code",
   "execution_count": 10,
   "outputs": [
    {
     "data": {
      "text/plain": "dict_keys(['03', '06', '09', '12'])"
     },
     "execution_count": 10,
     "metadata": {},
     "output_type": "execute_result"
    }
   ],
   "source": [
    "ppmi_matrices.keys()"
   ],
   "metadata": {
    "collapsed": false
   }
  },
  {
   "cell_type": "markdown",
   "source": [
    "Create ppmi_model objects"
   ],
   "metadata": {
    "collapsed": false
   }
  },
  {
   "cell_type": "code",
   "execution_count": 11,
   "outputs": [],
   "source": [
    "ppmi_models = {key: PPMIModel.construct_from_data(ppmi_data[\"ppmi_matrix\"], ppmi_data[\"vocab\"], context_words) for key, ppmi_data in ppmi_matrices.items()}"
   ],
   "metadata": {
    "collapsed": false
   }
  },
  {
   "cell_type": "code",
   "execution_count": 12,
   "outputs": [],
   "source": [
    "tppmi_model = TPPMIModel(ppmi_models)"
   ],
   "metadata": {
    "collapsed": false
   }
  },
  {
   "cell_type": "markdown",
   "source": [
    "## Mass Shootings"
   ],
   "metadata": {
    "collapsed": false
   }
  },
  {
   "cell_type": "markdown",
   "source": [
    "### Overview"
   ],
   "metadata": {
    "collapsed": false
   }
  },
  {
   "cell_type": "markdown",
   "source": [
    "- **May:** Uvalde Robb Elementary School shooting (May 24, 2022)\n",
    "- **November:** Colorado Springs nightclub shooting (November 19, 2022)\n",
    "- **March:** Nashville school shooting (March 27, 2023)"
   ],
   "metadata": {
    "collapsed": false
   }
  },
  {
   "cell_type": "code",
   "execution_count": 13,
   "outputs": [],
   "source": [
    "target_word_shootings = \"shooting\"\n",
    "test_words_shootings = [\"uvalde\", \"colorado\", \"nashville\"]"
   ],
   "metadata": {
    "collapsed": false
   }
  },
  {
   "cell_type": "code",
   "execution_count": 14,
   "outputs": [],
   "source": [
    "title_shootings = f\"Evolution of the word {target_word_shootings} over time\""
   ],
   "metadata": {
    "collapsed": false
   }
  },
  {
   "cell_type": "markdown",
   "source": [
    "### Visualizations"
   ],
   "metadata": {
    "collapsed": false
   }
  },
  {
   "cell_type": "markdown",
   "source": [
    "#### Cade"
   ],
   "metadata": {
    "collapsed": false
   }
  },
  {
   "cell_type": "code",
   "execution_count": 15,
   "outputs": [
    {
     "data": {
      "text/html": "        <script type=\"text/javascript\">\n        window.PlotlyConfig = {MathJaxConfig: 'local'};\n        if (window.MathJax && window.MathJax.Hub && window.MathJax.Hub.Config) {window.MathJax.Hub.Config({SVG: {font: \"STIX-Web\"}});}\n        if (typeof require !== 'undefined') {\n        require.undef(\"plotly\");\n        requirejs.config({\n            paths: {\n                'plotly': ['https://cdn.plot.ly/plotly-2.25.2.min']\n            }\n        });\n        require(['plotly'], function(Plotly) {\n            window._Plotly = Plotly;\n        });\n        }\n        </script>\n        "
     },
     "metadata": {},
     "output_type": "display_data"
    },
    {
     "data": {
      "application/vnd.plotly.v1+json": {
       "data": [
        {
         "marker": {
          "color": "#00CC96"
         },
         "mode": "markers+text",
         "name": "uvalde",
         "showlegend": false,
         "text": [
          "uvalde"
         ],
         "textposition": "top center",
         "x": [
          3.1166110038757324
         ],
         "y": [
          -3.092104196548462
         ],
         "type": "scatter"
        },
        {
         "marker": {
          "color": "#00CC96",
          "size": 10,
          "symbol": "diamond"
         },
         "mode": "markers",
         "showlegend": false,
         "x": [
          3.1166110038757324
         ],
         "y": [
          -3.092104196548462
         ],
         "type": "scatter"
        },
        {
         "marker": {
          "color": "#636EFA"
         },
         "mode": "markers+text",
         "name": "colorado",
         "showlegend": false,
         "text": [
          "colorado"
         ],
         "textposition": "top center",
         "x": [
          -5.263399600982666
         ],
         "y": [
          0.5904055237770081
         ],
         "type": "scatter"
        },
        {
         "marker": {
          "color": "#636EFA",
          "size": 10,
          "symbol": "diamond"
         },
         "mode": "markers",
         "showlegend": false,
         "x": [
          -5.263399600982666
         ],
         "y": [
          0.5904055237770081
         ],
         "type": "scatter"
        },
        {
         "marker": {
          "color": "#EF553B"
         },
         "mode": "markers+text",
         "name": "nashville",
         "showlegend": false,
         "text": [
          "nashville"
         ],
         "textposition": "top center",
         "x": [
          -5.206281661987305
         ],
         "y": [
          -0.29361531138420105
         ],
         "type": "scatter"
        },
        {
         "marker": {
          "color": "#EF553B",
          "size": 10,
          "symbol": "diamond"
         },
         "mode": "markers",
         "showlegend": false,
         "x": [
          -5.206281661987305
         ],
         "y": [
          -0.29361531138420105
         ],
         "type": "scatter"
        },
        {
         "marker": {
          "color": "#AB63FA"
         },
         "mode": "markers+text",
         "name": "shooting",
         "showlegend": false,
         "text": [
          "shooting"
         ],
         "textposition": "top center",
         "x": [
          7.77597713470459
         ],
         "y": [
          -3.2394540309906006
         ],
         "type": "scatter"
        },
        {
         "marker": {
          "color": "#AB63FA",
          "size": 10,
          "symbol": "diamond"
         },
         "mode": "markers",
         "showlegend": false,
         "x": [
          7.77597713470459
         ],
         "y": [
          -3.2394540309906006
         ],
         "type": "scatter"
        },
        {
         "marker": {
          "color": "#00CC96"
         },
         "mode": "markers+text",
         "name": "uvalde",
         "showlegend": false,
         "text": [
          "uvalde"
         ],
         "textposition": "top center",
         "x": [
          -0.06725500524044037
         ],
         "y": [
          -2.5841147899627686
         ],
         "type": "scatter"
        },
        {
         "line": {
          "color": "#00CC96",
          "width": 1
         },
         "mode": "lines",
         "showlegend": false,
         "x": [
          3.1166110038757324,
          -0.06725500524044037
         ],
         "y": [
          -3.092104196548462,
          -2.5841147899627686
         ],
         "type": "scatter"
        },
        {
         "marker": {
          "color": "#636EFA"
         },
         "mode": "markers+text",
         "name": "colorado",
         "showlegend": false,
         "text": [
          "colorado"
         ],
         "textposition": "top center",
         "x": [
          -3.2400522232055664
         ],
         "y": [
          1.8045122623443604
         ],
         "type": "scatter"
        },
        {
         "line": {
          "color": "#636EFA",
          "width": 1
         },
         "mode": "lines",
         "showlegend": false,
         "x": [
          -5.263399600982666,
          -3.2400522232055664
         ],
         "y": [
          0.5904055237770081,
          1.8045122623443604
         ],
         "type": "scatter"
        },
        {
         "marker": {
          "color": "#EF553B"
         },
         "mode": "markers+text",
         "name": "nashville",
         "showlegend": false,
         "text": [
          "nashville"
         ],
         "textposition": "top center",
         "x": [
          -4.469833850860596
         ],
         "y": [
          -0.37789487838745117
         ],
         "type": "scatter"
        },
        {
         "line": {
          "color": "#EF553B",
          "width": 1
         },
         "mode": "lines",
         "showlegend": false,
         "x": [
          -5.206281661987305,
          -4.469833850860596
         ],
         "y": [
          -0.29361531138420105,
          -0.37789487838745117
         ],
         "type": "scatter"
        },
        {
         "marker": {
          "color": "#AB63FA"
         },
         "mode": "markers+text",
         "name": "shooting",
         "showlegend": false,
         "text": [
          "shooting"
         ],
         "textposition": "top center",
         "x": [
          5.537895679473877
         ],
         "y": [
          -0.0865960419178009
         ],
         "type": "scatter"
        },
        {
         "line": {
          "color": "#AB63FA",
          "width": 1
         },
         "mode": "lines",
         "showlegend": false,
         "x": [
          7.77597713470459,
          5.537895679473877
         ],
         "y": [
          -3.2394540309906006,
          -0.0865960419178009
         ],
         "type": "scatter"
        },
        {
         "marker": {
          "color": "#00CC96"
         },
         "mode": "markers+text",
         "name": "uvalde",
         "showlegend": false,
         "text": [
          "uvalde"
         ],
         "textposition": "top center",
         "x": [
          -2.537928581237793
         ],
         "y": [
          -1.0142829418182373
         ],
         "type": "scatter"
        },
        {
         "line": {
          "color": "#00CC96",
          "width": 1
         },
         "mode": "lines",
         "showlegend": false,
         "x": [
          -0.06725500524044037,
          -2.537928581237793
         ],
         "y": [
          -2.5841147899627686,
          -1.0142829418182373
         ],
         "type": "scatter"
        },
        {
         "marker": {
          "color": "#636EFA"
         },
         "mode": "markers+text",
         "name": "colorado",
         "showlegend": false,
         "text": [
          "colorado"
         ],
         "textposition": "top center",
         "x": [
          -3.3594813346862793
         ],
         "y": [
          0.29057109355926514
         ],
         "type": "scatter"
        },
        {
         "line": {
          "color": "#636EFA",
          "width": 1
         },
         "mode": "lines",
         "showlegend": false,
         "x": [
          -3.2400522232055664,
          -3.3594813346862793
         ],
         "y": [
          1.8045122623443604,
          0.29057109355926514
         ],
         "type": "scatter"
        },
        {
         "marker": {
          "color": "#EF553B"
         },
         "mode": "markers+text",
         "name": "nashville",
         "showlegend": false,
         "text": [
          "nashville"
         ],
         "textposition": "top center",
         "x": [
          -5.1121931076049805
         ],
         "y": [
          -0.2667801082134247
         ],
         "type": "scatter"
        },
        {
         "line": {
          "color": "#EF553B",
          "width": 1
         },
         "mode": "lines",
         "showlegend": false,
         "x": [
          -4.469833850860596,
          -5.1121931076049805
         ],
         "y": [
          -0.37789487838745117,
          -0.2667801082134247
         ],
         "type": "scatter"
        },
        {
         "marker": {
          "color": "#AB63FA"
         },
         "mode": "markers+text",
         "name": "shooting",
         "showlegend": false,
         "text": [
          "shooting"
         ],
         "textposition": "top center",
         "x": [
          5.850129127502441
         ],
         "y": [
          -1.3579275608062744
         ],
         "type": "scatter"
        },
        {
         "line": {
          "color": "#AB63FA",
          "width": 1
         },
         "mode": "lines",
         "showlegend": false,
         "x": [
          5.537895679473877,
          5.850129127502441
         ],
         "y": [
          -0.0865960419178009,
          -1.3579275608062744
         ],
         "type": "scatter"
        },
        {
         "marker": {
          "color": "#00CC96"
         },
         "mode": "markers+text",
         "name": "uvalde",
         "showlegend": false,
         "text": [
          "uvalde"
         ],
         "textposition": "top center",
         "x": [
          -4.322836875915527
         ],
         "y": [
          -0.050893984735012054
         ],
         "type": "scatter"
        },
        {
         "line": {
          "color": "#00CC96",
          "width": 1
         },
         "mode": "lines",
         "showlegend": false,
         "x": [
          -2.537928581237793,
          -4.322836875915527
         ],
         "y": [
          -1.0142829418182373,
          -0.050893984735012054
         ],
         "type": "scatter"
        },
        {
         "marker": {
          "color": "#636EFA"
         },
         "mode": "markers+text",
         "name": "colorado",
         "showlegend": false,
         "text": [
          "colorado"
         ],
         "textposition": "top center",
         "x": [
          -0.47569021582603455
         ],
         "y": [
          1.405189037322998
         ],
         "type": "scatter"
        },
        {
         "line": {
          "color": "#636EFA",
          "width": 1
         },
         "mode": "lines",
         "showlegend": false,
         "x": [
          -3.3594813346862793,
          -0.47569021582603455
         ],
         "y": [
          0.29057109355926514,
          1.405189037322998
         ],
         "type": "scatter"
        },
        {
         "marker": {
          "color": "#EF553B"
         },
         "mode": "markers+text",
         "name": "nashville",
         "showlegend": false,
         "text": [
          "nashville"
         ],
         "textposition": "top center",
         "x": [
          4.248372554779053
         ],
         "y": [
          4.870195388793945
         ],
         "type": "scatter"
        },
        {
         "line": {
          "color": "#EF553B",
          "width": 1
         },
         "mode": "lines",
         "showlegend": false,
         "x": [
          -5.1121931076049805,
          4.248372554779053
         ],
         "y": [
          -0.2667801082134247,
          4.870195388793945
         ],
         "type": "scatter"
        },
        {
         "marker": {
          "color": "#AB63FA"
         },
         "mode": "markers+text",
         "name": "shooting",
         "showlegend": false,
         "text": [
          "shooting"
         ],
         "textposition": "top center",
         "x": [
          7.525961399078369
         ],
         "y": [
          3.40279221534729
         ],
         "type": "scatter"
        },
        {
         "line": {
          "color": "#AB63FA",
          "width": 1
         },
         "mode": "lines",
         "showlegend": false,
         "x": [
          5.850129127502441,
          7.525961399078369
         ],
         "y": [
          -1.3579275608062744,
          3.40279221534729
         ],
         "type": "scatter"
        }
       ],
       "layout": {
        "legend": {
         "x": 1.02,
         "y": 1.0
        },
        "template": {
         "data": {
          "barpolar": [
           {
            "marker": {
             "line": {
              "color": "#E5ECF6",
              "width": 0.5
             },
             "pattern": {
              "fillmode": "overlay",
              "size": 10,
              "solidity": 0.2
             }
            },
            "type": "barpolar"
           }
          ],
          "bar": [
           {
            "error_x": {
             "color": "#2a3f5f"
            },
            "error_y": {
             "color": "#2a3f5f"
            },
            "marker": {
             "line": {
              "color": "#E5ECF6",
              "width": 0.5
             },
             "pattern": {
              "fillmode": "overlay",
              "size": 10,
              "solidity": 0.2
             }
            },
            "type": "bar"
           }
          ],
          "carpet": [
           {
            "aaxis": {
             "endlinecolor": "#2a3f5f",
             "gridcolor": "white",
             "linecolor": "white",
             "minorgridcolor": "white",
             "startlinecolor": "#2a3f5f"
            },
            "baxis": {
             "endlinecolor": "#2a3f5f",
             "gridcolor": "white",
             "linecolor": "white",
             "minorgridcolor": "white",
             "startlinecolor": "#2a3f5f"
            },
            "type": "carpet"
           }
          ],
          "choropleth": [
           {
            "colorbar": {
             "outlinewidth": 0,
             "ticks": ""
            },
            "type": "choropleth"
           }
          ],
          "contourcarpet": [
           {
            "colorbar": {
             "outlinewidth": 0,
             "ticks": ""
            },
            "type": "contourcarpet"
           }
          ],
          "contour": [
           {
            "colorbar": {
             "outlinewidth": 0,
             "ticks": ""
            },
            "colorscale": [
             [
              0.0,
              "#0d0887"
             ],
             [
              0.1111111111111111,
              "#46039f"
             ],
             [
              0.2222222222222222,
              "#7201a8"
             ],
             [
              0.3333333333333333,
              "#9c179e"
             ],
             [
              0.4444444444444444,
              "#bd3786"
             ],
             [
              0.5555555555555556,
              "#d8576b"
             ],
             [
              0.6666666666666666,
              "#ed7953"
             ],
             [
              0.7777777777777778,
              "#fb9f3a"
             ],
             [
              0.8888888888888888,
              "#fdca26"
             ],
             [
              1.0,
              "#f0f921"
             ]
            ],
            "type": "contour"
           }
          ],
          "heatmapgl": [
           {
            "colorbar": {
             "outlinewidth": 0,
             "ticks": ""
            },
            "colorscale": [
             [
              0.0,
              "#0d0887"
             ],
             [
              0.1111111111111111,
              "#46039f"
             ],
             [
              0.2222222222222222,
              "#7201a8"
             ],
             [
              0.3333333333333333,
              "#9c179e"
             ],
             [
              0.4444444444444444,
              "#bd3786"
             ],
             [
              0.5555555555555556,
              "#d8576b"
             ],
             [
              0.6666666666666666,
              "#ed7953"
             ],
             [
              0.7777777777777778,
              "#fb9f3a"
             ],
             [
              0.8888888888888888,
              "#fdca26"
             ],
             [
              1.0,
              "#f0f921"
             ]
            ],
            "type": "heatmapgl"
           }
          ],
          "heatmap": [
           {
            "colorbar": {
             "outlinewidth": 0,
             "ticks": ""
            },
            "colorscale": [
             [
              0.0,
              "#0d0887"
             ],
             [
              0.1111111111111111,
              "#46039f"
             ],
             [
              0.2222222222222222,
              "#7201a8"
             ],
             [
              0.3333333333333333,
              "#9c179e"
             ],
             [
              0.4444444444444444,
              "#bd3786"
             ],
             [
              0.5555555555555556,
              "#d8576b"
             ],
             [
              0.6666666666666666,
              "#ed7953"
             ],
             [
              0.7777777777777778,
              "#fb9f3a"
             ],
             [
              0.8888888888888888,
              "#fdca26"
             ],
             [
              1.0,
              "#f0f921"
             ]
            ],
            "type": "heatmap"
           }
          ],
          "histogram2dcontour": [
           {
            "colorbar": {
             "outlinewidth": 0,
             "ticks": ""
            },
            "colorscale": [
             [
              0.0,
              "#0d0887"
             ],
             [
              0.1111111111111111,
              "#46039f"
             ],
             [
              0.2222222222222222,
              "#7201a8"
             ],
             [
              0.3333333333333333,
              "#9c179e"
             ],
             [
              0.4444444444444444,
              "#bd3786"
             ],
             [
              0.5555555555555556,
              "#d8576b"
             ],
             [
              0.6666666666666666,
              "#ed7953"
             ],
             [
              0.7777777777777778,
              "#fb9f3a"
             ],
             [
              0.8888888888888888,
              "#fdca26"
             ],
             [
              1.0,
              "#f0f921"
             ]
            ],
            "type": "histogram2dcontour"
           }
          ],
          "histogram2d": [
           {
            "colorbar": {
             "outlinewidth": 0,
             "ticks": ""
            },
            "colorscale": [
             [
              0.0,
              "#0d0887"
             ],
             [
              0.1111111111111111,
              "#46039f"
             ],
             [
              0.2222222222222222,
              "#7201a8"
             ],
             [
              0.3333333333333333,
              "#9c179e"
             ],
             [
              0.4444444444444444,
              "#bd3786"
             ],
             [
              0.5555555555555556,
              "#d8576b"
             ],
             [
              0.6666666666666666,
              "#ed7953"
             ],
             [
              0.7777777777777778,
              "#fb9f3a"
             ],
             [
              0.8888888888888888,
              "#fdca26"
             ],
             [
              1.0,
              "#f0f921"
             ]
            ],
            "type": "histogram2d"
           }
          ],
          "histogram": [
           {
            "marker": {
             "pattern": {
              "fillmode": "overlay",
              "size": 10,
              "solidity": 0.2
             }
            },
            "type": "histogram"
           }
          ],
          "mesh3d": [
           {
            "colorbar": {
             "outlinewidth": 0,
             "ticks": ""
            },
            "type": "mesh3d"
           }
          ],
          "parcoords": [
           {
            "line": {
             "colorbar": {
              "outlinewidth": 0,
              "ticks": ""
             }
            },
            "type": "parcoords"
           }
          ],
          "pie": [
           {
            "automargin": true,
            "type": "pie"
           }
          ],
          "scatter3d": [
           {
            "line": {
             "colorbar": {
              "outlinewidth": 0,
              "ticks": ""
             }
            },
            "marker": {
             "colorbar": {
              "outlinewidth": 0,
              "ticks": ""
             }
            },
            "type": "scatter3d"
           }
          ],
          "scattercarpet": [
           {
            "marker": {
             "colorbar": {
              "outlinewidth": 0,
              "ticks": ""
             }
            },
            "type": "scattercarpet"
           }
          ],
          "scattergeo": [
           {
            "marker": {
             "colorbar": {
              "outlinewidth": 0,
              "ticks": ""
             }
            },
            "type": "scattergeo"
           }
          ],
          "scattergl": [
           {
            "marker": {
             "colorbar": {
              "outlinewidth": 0,
              "ticks": ""
             }
            },
            "type": "scattergl"
           }
          ],
          "scattermapbox": [
           {
            "marker": {
             "colorbar": {
              "outlinewidth": 0,
              "ticks": ""
             }
            },
            "type": "scattermapbox"
           }
          ],
          "scatterpolargl": [
           {
            "marker": {
             "colorbar": {
              "outlinewidth": 0,
              "ticks": ""
             }
            },
            "type": "scatterpolargl"
           }
          ],
          "scatterpolar": [
           {
            "marker": {
             "colorbar": {
              "outlinewidth": 0,
              "ticks": ""
             }
            },
            "type": "scatterpolar"
           }
          ],
          "scatter": [
           {
            "fillpattern": {
             "fillmode": "overlay",
             "size": 10,
             "solidity": 0.2
            },
            "type": "scatter"
           }
          ],
          "scatterternary": [
           {
            "marker": {
             "colorbar": {
              "outlinewidth": 0,
              "ticks": ""
             }
            },
            "type": "scatterternary"
           }
          ],
          "surface": [
           {
            "colorbar": {
             "outlinewidth": 0,
             "ticks": ""
            },
            "colorscale": [
             [
              0.0,
              "#0d0887"
             ],
             [
              0.1111111111111111,
              "#46039f"
             ],
             [
              0.2222222222222222,
              "#7201a8"
             ],
             [
              0.3333333333333333,
              "#9c179e"
             ],
             [
              0.4444444444444444,
              "#bd3786"
             ],
             [
              0.5555555555555556,
              "#d8576b"
             ],
             [
              0.6666666666666666,
              "#ed7953"
             ],
             [
              0.7777777777777778,
              "#fb9f3a"
             ],
             [
              0.8888888888888888,
              "#fdca26"
             ],
             [
              1.0,
              "#f0f921"
             ]
            ],
            "type": "surface"
           }
          ],
          "table": [
           {
            "cells": {
             "fill": {
              "color": "#EBF0F8"
             },
             "line": {
              "color": "white"
             }
            },
            "header": {
             "fill": {
              "color": "#C8D4E3"
             },
             "line": {
              "color": "white"
             }
            },
            "type": "table"
           }
          ]
         },
         "layout": {
          "annotationdefaults": {
           "arrowcolor": "#2a3f5f",
           "arrowhead": 0,
           "arrowwidth": 1
          },
          "autotypenumbers": "strict",
          "coloraxis": {
           "colorbar": {
            "outlinewidth": 0,
            "ticks": ""
           }
          },
          "colorscale": {
           "diverging": [
            [
             0,
             "#8e0152"
            ],
            [
             0.1,
             "#c51b7d"
            ],
            [
             0.2,
             "#de77ae"
            ],
            [
             0.3,
             "#f1b6da"
            ],
            [
             0.4,
             "#fde0ef"
            ],
            [
             0.5,
             "#f7f7f7"
            ],
            [
             0.6,
             "#e6f5d0"
            ],
            [
             0.7,
             "#b8e186"
            ],
            [
             0.8,
             "#7fbc41"
            ],
            [
             0.9,
             "#4d9221"
            ],
            [
             1,
             "#276419"
            ]
           ],
           "sequential": [
            [
             0.0,
             "#0d0887"
            ],
            [
             0.1111111111111111,
             "#46039f"
            ],
            [
             0.2222222222222222,
             "#7201a8"
            ],
            [
             0.3333333333333333,
             "#9c179e"
            ],
            [
             0.4444444444444444,
             "#bd3786"
            ],
            [
             0.5555555555555556,
             "#d8576b"
            ],
            [
             0.6666666666666666,
             "#ed7953"
            ],
            [
             0.7777777777777778,
             "#fb9f3a"
            ],
            [
             0.8888888888888888,
             "#fdca26"
            ],
            [
             1.0,
             "#f0f921"
            ]
           ],
           "sequentialminus": [
            [
             0.0,
             "#0d0887"
            ],
            [
             0.1111111111111111,
             "#46039f"
            ],
            [
             0.2222222222222222,
             "#7201a8"
            ],
            [
             0.3333333333333333,
             "#9c179e"
            ],
            [
             0.4444444444444444,
             "#bd3786"
            ],
            [
             0.5555555555555556,
             "#d8576b"
            ],
            [
             0.6666666666666666,
             "#ed7953"
            ],
            [
             0.7777777777777778,
             "#fb9f3a"
            ],
            [
             0.8888888888888888,
             "#fdca26"
            ],
            [
             1.0,
             "#f0f921"
            ]
           ]
          },
          "colorway": [
           "#636efa",
           "#EF553B",
           "#00cc96",
           "#ab63fa",
           "#FFA15A",
           "#19d3f3",
           "#FF6692",
           "#B6E880",
           "#FF97FF",
           "#FECB52"
          ],
          "font": {
           "color": "#2a3f5f"
          },
          "geo": {
           "bgcolor": "white",
           "lakecolor": "white",
           "landcolor": "#E5ECF6",
           "showlakes": true,
           "showland": true,
           "subunitcolor": "white"
          },
          "hoverlabel": {
           "align": "left"
          },
          "hovermode": "closest",
          "mapbox": {
           "style": "light"
          },
          "paper_bgcolor": "white",
          "plot_bgcolor": "#E5ECF6",
          "polar": {
           "angularaxis": {
            "gridcolor": "white",
            "linecolor": "white",
            "ticks": ""
           },
           "bgcolor": "#E5ECF6",
           "radialaxis": {
            "gridcolor": "white",
            "linecolor": "white",
            "ticks": ""
           }
          },
          "scene": {
           "xaxis": {
            "backgroundcolor": "#E5ECF6",
            "gridcolor": "white",
            "gridwidth": 2,
            "linecolor": "white",
            "showbackground": true,
            "ticks": "",
            "zerolinecolor": "white"
           },
           "yaxis": {
            "backgroundcolor": "#E5ECF6",
            "gridcolor": "white",
            "gridwidth": 2,
            "linecolor": "white",
            "showbackground": true,
            "ticks": "",
            "zerolinecolor": "white"
           },
           "zaxis": {
            "backgroundcolor": "#E5ECF6",
            "gridcolor": "white",
            "gridwidth": 2,
            "linecolor": "white",
            "showbackground": true,
            "ticks": "",
            "zerolinecolor": "white"
           }
          },
          "shapedefaults": {
           "line": {
            "color": "#2a3f5f"
           }
          },
          "ternary": {
           "aaxis": {
            "gridcolor": "white",
            "linecolor": "white",
            "ticks": ""
           },
           "baxis": {
            "gridcolor": "white",
            "linecolor": "white",
            "ticks": ""
           },
           "bgcolor": "#E5ECF6",
           "caxis": {
            "gridcolor": "white",
            "linecolor": "white",
            "ticks": ""
           }
          },
          "title": {
           "x": 0.05
          },
          "xaxis": {
           "automargin": true,
           "gridcolor": "white",
           "linecolor": "white",
           "ticks": "",
           "title": {
            "standoff": 15
           },
           "zerolinecolor": "white",
           "zerolinewidth": 2
          },
          "yaxis": {
           "automargin": true,
           "gridcolor": "white",
           "linecolor": "white",
           "ticks": "",
           "title": {
            "standoff": 15
           },
           "zerolinecolor": "white",
           "zerolinewidth": 2
          }
         }
        },
        "title": {
         "text": "2D Visualization of Word Vectors"
        },
        "xaxis": {
         "range": [
          -2,
          2
         ],
         "title": {
          "text": "PC1"
         }
        },
        "yaxis": {
         "range": [
          -2,
          2
         ],
         "title": {
          "text": "PC2"
         }
        }
       },
       "config": {
        "showLink": false,
        "linkText": "Export to plot.ly",
        "plotlyServerURL": "https://plot.ly"
       }
      },
      "text/html": "<div>                            <div id=\"c1f965bc-15ee-4905-9d45-3317e8fb786b\" class=\"plotly-graph-div\" style=\"height:525px; width:100%;\"></div>            <script type=\"text/javascript\">                require([\"plotly\"], function(Plotly) {                    window.PLOTLYENV=window.PLOTLYENV || {};                                    if (document.getElementById(\"c1f965bc-15ee-4905-9d45-3317e8fb786b\")) {                    Plotly.newPlot(                        \"c1f965bc-15ee-4905-9d45-3317e8fb786b\",                        [{\"marker\":{\"color\":\"#00CC96\"},\"mode\":\"markers+text\",\"name\":\"uvalde\",\"showlegend\":false,\"text\":[\"uvalde\"],\"textposition\":\"top center\",\"x\":[3.1166110038757324],\"y\":[-3.092104196548462],\"type\":\"scatter\"},{\"marker\":{\"color\":\"#00CC96\",\"size\":10,\"symbol\":\"diamond\"},\"mode\":\"markers\",\"showlegend\":false,\"x\":[3.1166110038757324],\"y\":[-3.092104196548462],\"type\":\"scatter\"},{\"marker\":{\"color\":\"#636EFA\"},\"mode\":\"markers+text\",\"name\":\"colorado\",\"showlegend\":false,\"text\":[\"colorado\"],\"textposition\":\"top center\",\"x\":[-5.263399600982666],\"y\":[0.5904055237770081],\"type\":\"scatter\"},{\"marker\":{\"color\":\"#636EFA\",\"size\":10,\"symbol\":\"diamond\"},\"mode\":\"markers\",\"showlegend\":false,\"x\":[-5.263399600982666],\"y\":[0.5904055237770081],\"type\":\"scatter\"},{\"marker\":{\"color\":\"#EF553B\"},\"mode\":\"markers+text\",\"name\":\"nashville\",\"showlegend\":false,\"text\":[\"nashville\"],\"textposition\":\"top center\",\"x\":[-5.206281661987305],\"y\":[-0.29361531138420105],\"type\":\"scatter\"},{\"marker\":{\"color\":\"#EF553B\",\"size\":10,\"symbol\":\"diamond\"},\"mode\":\"markers\",\"showlegend\":false,\"x\":[-5.206281661987305],\"y\":[-0.29361531138420105],\"type\":\"scatter\"},{\"marker\":{\"color\":\"#AB63FA\"},\"mode\":\"markers+text\",\"name\":\"shooting\",\"showlegend\":false,\"text\":[\"shooting\"],\"textposition\":\"top center\",\"x\":[7.77597713470459],\"y\":[-3.2394540309906006],\"type\":\"scatter\"},{\"marker\":{\"color\":\"#AB63FA\",\"size\":10,\"symbol\":\"diamond\"},\"mode\":\"markers\",\"showlegend\":false,\"x\":[7.77597713470459],\"y\":[-3.2394540309906006],\"type\":\"scatter\"},{\"marker\":{\"color\":\"#00CC96\"},\"mode\":\"markers+text\",\"name\":\"uvalde\",\"showlegend\":false,\"text\":[\"uvalde\"],\"textposition\":\"top center\",\"x\":[-0.06725500524044037],\"y\":[-2.5841147899627686],\"type\":\"scatter\"},{\"line\":{\"color\":\"#00CC96\",\"width\":1},\"mode\":\"lines\",\"showlegend\":false,\"x\":[3.1166110038757324,-0.06725500524044037],\"y\":[-3.092104196548462,-2.5841147899627686],\"type\":\"scatter\"},{\"marker\":{\"color\":\"#636EFA\"},\"mode\":\"markers+text\",\"name\":\"colorado\",\"showlegend\":false,\"text\":[\"colorado\"],\"textposition\":\"top center\",\"x\":[-3.2400522232055664],\"y\":[1.8045122623443604],\"type\":\"scatter\"},{\"line\":{\"color\":\"#636EFA\",\"width\":1},\"mode\":\"lines\",\"showlegend\":false,\"x\":[-5.263399600982666,-3.2400522232055664],\"y\":[0.5904055237770081,1.8045122623443604],\"type\":\"scatter\"},{\"marker\":{\"color\":\"#EF553B\"},\"mode\":\"markers+text\",\"name\":\"nashville\",\"showlegend\":false,\"text\":[\"nashville\"],\"textposition\":\"top center\",\"x\":[-4.469833850860596],\"y\":[-0.37789487838745117],\"type\":\"scatter\"},{\"line\":{\"color\":\"#EF553B\",\"width\":1},\"mode\":\"lines\",\"showlegend\":false,\"x\":[-5.206281661987305,-4.469833850860596],\"y\":[-0.29361531138420105,-0.37789487838745117],\"type\":\"scatter\"},{\"marker\":{\"color\":\"#AB63FA\"},\"mode\":\"markers+text\",\"name\":\"shooting\",\"showlegend\":false,\"text\":[\"shooting\"],\"textposition\":\"top center\",\"x\":[5.537895679473877],\"y\":[-0.0865960419178009],\"type\":\"scatter\"},{\"line\":{\"color\":\"#AB63FA\",\"width\":1},\"mode\":\"lines\",\"showlegend\":false,\"x\":[7.77597713470459,5.537895679473877],\"y\":[-3.2394540309906006,-0.0865960419178009],\"type\":\"scatter\"},{\"marker\":{\"color\":\"#00CC96\"},\"mode\":\"markers+text\",\"name\":\"uvalde\",\"showlegend\":false,\"text\":[\"uvalde\"],\"textposition\":\"top center\",\"x\":[-2.537928581237793],\"y\":[-1.0142829418182373],\"type\":\"scatter\"},{\"line\":{\"color\":\"#00CC96\",\"width\":1},\"mode\":\"lines\",\"showlegend\":false,\"x\":[-0.06725500524044037,-2.537928581237793],\"y\":[-2.5841147899627686,-1.0142829418182373],\"type\":\"scatter\"},{\"marker\":{\"color\":\"#636EFA\"},\"mode\":\"markers+text\",\"name\":\"colorado\",\"showlegend\":false,\"text\":[\"colorado\"],\"textposition\":\"top center\",\"x\":[-3.3594813346862793],\"y\":[0.29057109355926514],\"type\":\"scatter\"},{\"line\":{\"color\":\"#636EFA\",\"width\":1},\"mode\":\"lines\",\"showlegend\":false,\"x\":[-3.2400522232055664,-3.3594813346862793],\"y\":[1.8045122623443604,0.29057109355926514],\"type\":\"scatter\"},{\"marker\":{\"color\":\"#EF553B\"},\"mode\":\"markers+text\",\"name\":\"nashville\",\"showlegend\":false,\"text\":[\"nashville\"],\"textposition\":\"top center\",\"x\":[-5.1121931076049805],\"y\":[-0.2667801082134247],\"type\":\"scatter\"},{\"line\":{\"color\":\"#EF553B\",\"width\":1},\"mode\":\"lines\",\"showlegend\":false,\"x\":[-4.469833850860596,-5.1121931076049805],\"y\":[-0.37789487838745117,-0.2667801082134247],\"type\":\"scatter\"},{\"marker\":{\"color\":\"#AB63FA\"},\"mode\":\"markers+text\",\"name\":\"shooting\",\"showlegend\":false,\"text\":[\"shooting\"],\"textposition\":\"top center\",\"x\":[5.850129127502441],\"y\":[-1.3579275608062744],\"type\":\"scatter\"},{\"line\":{\"color\":\"#AB63FA\",\"width\":1},\"mode\":\"lines\",\"showlegend\":false,\"x\":[5.537895679473877,5.850129127502441],\"y\":[-0.0865960419178009,-1.3579275608062744],\"type\":\"scatter\"},{\"marker\":{\"color\":\"#00CC96\"},\"mode\":\"markers+text\",\"name\":\"uvalde\",\"showlegend\":false,\"text\":[\"uvalde\"],\"textposition\":\"top center\",\"x\":[-4.322836875915527],\"y\":[-0.050893984735012054],\"type\":\"scatter\"},{\"line\":{\"color\":\"#00CC96\",\"width\":1},\"mode\":\"lines\",\"showlegend\":false,\"x\":[-2.537928581237793,-4.322836875915527],\"y\":[-1.0142829418182373,-0.050893984735012054],\"type\":\"scatter\"},{\"marker\":{\"color\":\"#636EFA\"},\"mode\":\"markers+text\",\"name\":\"colorado\",\"showlegend\":false,\"text\":[\"colorado\"],\"textposition\":\"top center\",\"x\":[-0.47569021582603455],\"y\":[1.405189037322998],\"type\":\"scatter\"},{\"line\":{\"color\":\"#636EFA\",\"width\":1},\"mode\":\"lines\",\"showlegend\":false,\"x\":[-3.3594813346862793,-0.47569021582603455],\"y\":[0.29057109355926514,1.405189037322998],\"type\":\"scatter\"},{\"marker\":{\"color\":\"#EF553B\"},\"mode\":\"markers+text\",\"name\":\"nashville\",\"showlegend\":false,\"text\":[\"nashville\"],\"textposition\":\"top center\",\"x\":[4.248372554779053],\"y\":[4.870195388793945],\"type\":\"scatter\"},{\"line\":{\"color\":\"#EF553B\",\"width\":1},\"mode\":\"lines\",\"showlegend\":false,\"x\":[-5.1121931076049805,4.248372554779053],\"y\":[-0.2667801082134247,4.870195388793945],\"type\":\"scatter\"},{\"marker\":{\"color\":\"#AB63FA\"},\"mode\":\"markers+text\",\"name\":\"shooting\",\"showlegend\":false,\"text\":[\"shooting\"],\"textposition\":\"top center\",\"x\":[7.525961399078369],\"y\":[3.40279221534729],\"type\":\"scatter\"},{\"line\":{\"color\":\"#AB63FA\",\"width\":1},\"mode\":\"lines\",\"showlegend\":false,\"x\":[5.850129127502441,7.525961399078369],\"y\":[-1.3579275608062744,3.40279221534729],\"type\":\"scatter\"}],                        {\"legend\":{\"x\":1.02,\"y\":1.0},\"template\":{\"data\":{\"barpolar\":[{\"marker\":{\"line\":{\"color\":\"#E5ECF6\",\"width\":0.5},\"pattern\":{\"fillmode\":\"overlay\",\"size\":10,\"solidity\":0.2}},\"type\":\"barpolar\"}],\"bar\":[{\"error_x\":{\"color\":\"#2a3f5f\"},\"error_y\":{\"color\":\"#2a3f5f\"},\"marker\":{\"line\":{\"color\":\"#E5ECF6\",\"width\":0.5},\"pattern\":{\"fillmode\":\"overlay\",\"size\":10,\"solidity\":0.2}},\"type\":\"bar\"}],\"carpet\":[{\"aaxis\":{\"endlinecolor\":\"#2a3f5f\",\"gridcolor\":\"white\",\"linecolor\":\"white\",\"minorgridcolor\":\"white\",\"startlinecolor\":\"#2a3f5f\"},\"baxis\":{\"endlinecolor\":\"#2a3f5f\",\"gridcolor\":\"white\",\"linecolor\":\"white\",\"minorgridcolor\":\"white\",\"startlinecolor\":\"#2a3f5f\"},\"type\":\"carpet\"}],\"choropleth\":[{\"colorbar\":{\"outlinewidth\":0,\"ticks\":\"\"},\"type\":\"choropleth\"}],\"contourcarpet\":[{\"colorbar\":{\"outlinewidth\":0,\"ticks\":\"\"},\"type\":\"contourcarpet\"}],\"contour\":[{\"colorbar\":{\"outlinewidth\":0,\"ticks\":\"\"},\"colorscale\":[[0.0,\"#0d0887\"],[0.1111111111111111,\"#46039f\"],[0.2222222222222222,\"#7201a8\"],[0.3333333333333333,\"#9c179e\"],[0.4444444444444444,\"#bd3786\"],[0.5555555555555556,\"#d8576b\"],[0.6666666666666666,\"#ed7953\"],[0.7777777777777778,\"#fb9f3a\"],[0.8888888888888888,\"#fdca26\"],[1.0,\"#f0f921\"]],\"type\":\"contour\"}],\"heatmapgl\":[{\"colorbar\":{\"outlinewidth\":0,\"ticks\":\"\"},\"colorscale\":[[0.0,\"#0d0887\"],[0.1111111111111111,\"#46039f\"],[0.2222222222222222,\"#7201a8\"],[0.3333333333333333,\"#9c179e\"],[0.4444444444444444,\"#bd3786\"],[0.5555555555555556,\"#d8576b\"],[0.6666666666666666,\"#ed7953\"],[0.7777777777777778,\"#fb9f3a\"],[0.8888888888888888,\"#fdca26\"],[1.0,\"#f0f921\"]],\"type\":\"heatmapgl\"}],\"heatmap\":[{\"colorbar\":{\"outlinewidth\":0,\"ticks\":\"\"},\"colorscale\":[[0.0,\"#0d0887\"],[0.1111111111111111,\"#46039f\"],[0.2222222222222222,\"#7201a8\"],[0.3333333333333333,\"#9c179e\"],[0.4444444444444444,\"#bd3786\"],[0.5555555555555556,\"#d8576b\"],[0.6666666666666666,\"#ed7953\"],[0.7777777777777778,\"#fb9f3a\"],[0.8888888888888888,\"#fdca26\"],[1.0,\"#f0f921\"]],\"type\":\"heatmap\"}],\"histogram2dcontour\":[{\"colorbar\":{\"outlinewidth\":0,\"ticks\":\"\"},\"colorscale\":[[0.0,\"#0d0887\"],[0.1111111111111111,\"#46039f\"],[0.2222222222222222,\"#7201a8\"],[0.3333333333333333,\"#9c179e\"],[0.4444444444444444,\"#bd3786\"],[0.5555555555555556,\"#d8576b\"],[0.6666666666666666,\"#ed7953\"],[0.7777777777777778,\"#fb9f3a\"],[0.8888888888888888,\"#fdca26\"],[1.0,\"#f0f921\"]],\"type\":\"histogram2dcontour\"}],\"histogram2d\":[{\"colorbar\":{\"outlinewidth\":0,\"ticks\":\"\"},\"colorscale\":[[0.0,\"#0d0887\"],[0.1111111111111111,\"#46039f\"],[0.2222222222222222,\"#7201a8\"],[0.3333333333333333,\"#9c179e\"],[0.4444444444444444,\"#bd3786\"],[0.5555555555555556,\"#d8576b\"],[0.6666666666666666,\"#ed7953\"],[0.7777777777777778,\"#fb9f3a\"],[0.8888888888888888,\"#fdca26\"],[1.0,\"#f0f921\"]],\"type\":\"histogram2d\"}],\"histogram\":[{\"marker\":{\"pattern\":{\"fillmode\":\"overlay\",\"size\":10,\"solidity\":0.2}},\"type\":\"histogram\"}],\"mesh3d\":[{\"colorbar\":{\"outlinewidth\":0,\"ticks\":\"\"},\"type\":\"mesh3d\"}],\"parcoords\":[{\"line\":{\"colorbar\":{\"outlinewidth\":0,\"ticks\":\"\"}},\"type\":\"parcoords\"}],\"pie\":[{\"automargin\":true,\"type\":\"pie\"}],\"scatter3d\":[{\"line\":{\"colorbar\":{\"outlinewidth\":0,\"ticks\":\"\"}},\"marker\":{\"colorbar\":{\"outlinewidth\":0,\"ticks\":\"\"}},\"type\":\"scatter3d\"}],\"scattercarpet\":[{\"marker\":{\"colorbar\":{\"outlinewidth\":0,\"ticks\":\"\"}},\"type\":\"scattercarpet\"}],\"scattergeo\":[{\"marker\":{\"colorbar\":{\"outlinewidth\":0,\"ticks\":\"\"}},\"type\":\"scattergeo\"}],\"scattergl\":[{\"marker\":{\"colorbar\":{\"outlinewidth\":0,\"ticks\":\"\"}},\"type\":\"scattergl\"}],\"scattermapbox\":[{\"marker\":{\"colorbar\":{\"outlinewidth\":0,\"ticks\":\"\"}},\"type\":\"scattermapbox\"}],\"scatterpolargl\":[{\"marker\":{\"colorbar\":{\"outlinewidth\":0,\"ticks\":\"\"}},\"type\":\"scatterpolargl\"}],\"scatterpolar\":[{\"marker\":{\"colorbar\":{\"outlinewidth\":0,\"ticks\":\"\"}},\"type\":\"scatterpolar\"}],\"scatter\":[{\"fillpattern\":{\"fillmode\":\"overlay\",\"size\":10,\"solidity\":0.2},\"type\":\"scatter\"}],\"scatterternary\":[{\"marker\":{\"colorbar\":{\"outlinewidth\":0,\"ticks\":\"\"}},\"type\":\"scatterternary\"}],\"surface\":[{\"colorbar\":{\"outlinewidth\":0,\"ticks\":\"\"},\"colorscale\":[[0.0,\"#0d0887\"],[0.1111111111111111,\"#46039f\"],[0.2222222222222222,\"#7201a8\"],[0.3333333333333333,\"#9c179e\"],[0.4444444444444444,\"#bd3786\"],[0.5555555555555556,\"#d8576b\"],[0.6666666666666666,\"#ed7953\"],[0.7777777777777778,\"#fb9f3a\"],[0.8888888888888888,\"#fdca26\"],[1.0,\"#f0f921\"]],\"type\":\"surface\"}],\"table\":[{\"cells\":{\"fill\":{\"color\":\"#EBF0F8\"},\"line\":{\"color\":\"white\"}},\"header\":{\"fill\":{\"color\":\"#C8D4E3\"},\"line\":{\"color\":\"white\"}},\"type\":\"table\"}]},\"layout\":{\"annotationdefaults\":{\"arrowcolor\":\"#2a3f5f\",\"arrowhead\":0,\"arrowwidth\":1},\"autotypenumbers\":\"strict\",\"coloraxis\":{\"colorbar\":{\"outlinewidth\":0,\"ticks\":\"\"}},\"colorscale\":{\"diverging\":[[0,\"#8e0152\"],[0.1,\"#c51b7d\"],[0.2,\"#de77ae\"],[0.3,\"#f1b6da\"],[0.4,\"#fde0ef\"],[0.5,\"#f7f7f7\"],[0.6,\"#e6f5d0\"],[0.7,\"#b8e186\"],[0.8,\"#7fbc41\"],[0.9,\"#4d9221\"],[1,\"#276419\"]],\"sequential\":[[0.0,\"#0d0887\"],[0.1111111111111111,\"#46039f\"],[0.2222222222222222,\"#7201a8\"],[0.3333333333333333,\"#9c179e\"],[0.4444444444444444,\"#bd3786\"],[0.5555555555555556,\"#d8576b\"],[0.6666666666666666,\"#ed7953\"],[0.7777777777777778,\"#fb9f3a\"],[0.8888888888888888,\"#fdca26\"],[1.0,\"#f0f921\"]],\"sequentialminus\":[[0.0,\"#0d0887\"],[0.1111111111111111,\"#46039f\"],[0.2222222222222222,\"#7201a8\"],[0.3333333333333333,\"#9c179e\"],[0.4444444444444444,\"#bd3786\"],[0.5555555555555556,\"#d8576b\"],[0.6666666666666666,\"#ed7953\"],[0.7777777777777778,\"#fb9f3a\"],[0.8888888888888888,\"#fdca26\"],[1.0,\"#f0f921\"]]},\"colorway\":[\"#636efa\",\"#EF553B\",\"#00cc96\",\"#ab63fa\",\"#FFA15A\",\"#19d3f3\",\"#FF6692\",\"#B6E880\",\"#FF97FF\",\"#FECB52\"],\"font\":{\"color\":\"#2a3f5f\"},\"geo\":{\"bgcolor\":\"white\",\"lakecolor\":\"white\",\"landcolor\":\"#E5ECF6\",\"showlakes\":true,\"showland\":true,\"subunitcolor\":\"white\"},\"hoverlabel\":{\"align\":\"left\"},\"hovermode\":\"closest\",\"mapbox\":{\"style\":\"light\"},\"paper_bgcolor\":\"white\",\"plot_bgcolor\":\"#E5ECF6\",\"polar\":{\"angularaxis\":{\"gridcolor\":\"white\",\"linecolor\":\"white\",\"ticks\":\"\"},\"bgcolor\":\"#E5ECF6\",\"radialaxis\":{\"gridcolor\":\"white\",\"linecolor\":\"white\",\"ticks\":\"\"}},\"scene\":{\"xaxis\":{\"backgroundcolor\":\"#E5ECF6\",\"gridcolor\":\"white\",\"gridwidth\":2,\"linecolor\":\"white\",\"showbackground\":true,\"ticks\":\"\",\"zerolinecolor\":\"white\"},\"yaxis\":{\"backgroundcolor\":\"#E5ECF6\",\"gridcolor\":\"white\",\"gridwidth\":2,\"linecolor\":\"white\",\"showbackground\":true,\"ticks\":\"\",\"zerolinecolor\":\"white\"},\"zaxis\":{\"backgroundcolor\":\"#E5ECF6\",\"gridcolor\":\"white\",\"gridwidth\":2,\"linecolor\":\"white\",\"showbackground\":true,\"ticks\":\"\",\"zerolinecolor\":\"white\"}},\"shapedefaults\":{\"line\":{\"color\":\"#2a3f5f\"}},\"ternary\":{\"aaxis\":{\"gridcolor\":\"white\",\"linecolor\":\"white\",\"ticks\":\"\"},\"baxis\":{\"gridcolor\":\"white\",\"linecolor\":\"white\",\"ticks\":\"\"},\"bgcolor\":\"#E5ECF6\",\"caxis\":{\"gridcolor\":\"white\",\"linecolor\":\"white\",\"ticks\":\"\"}},\"title\":{\"x\":0.05},\"xaxis\":{\"automargin\":true,\"gridcolor\":\"white\",\"linecolor\":\"white\",\"ticks\":\"\",\"title\":{\"standoff\":15},\"zerolinecolor\":\"white\",\"zerolinewidth\":2},\"yaxis\":{\"automargin\":true,\"gridcolor\":\"white\",\"linecolor\":\"white\",\"ticks\":\"\",\"title\":{\"standoff\":15},\"zerolinecolor\":\"white\",\"zerolinewidth\":2}}},\"title\":{\"text\":\"2D Visualization of Word Vectors\"},\"xaxis\":{\"range\":[-2,2],\"title\":{\"text\":\"PC1\"}},\"yaxis\":{\"range\":[-2,2],\"title\":{\"text\":\"PC2\"}}},                        {\"responsive\": true}                    ).then(function(){\n                            \nvar gd = document.getElementById('c1f965bc-15ee-4905-9d45-3317e8fb786b');\nvar x = new MutationObserver(function (mutations, observer) {{\n        var display = window.getComputedStyle(gd).display;\n        if (!display || display === 'none') {{\n            console.log([gd, 'removed!']);\n            Plotly.purge(gd);\n            observer.disconnect();\n        }}\n}});\n\n// Listen for the removal of the full notebook cells\nvar notebookContainer = gd.closest('#notebook-container');\nif (notebookContainer) {{\n    x.observe(notebookContainer, {childList: true});\n}}\n\n// Listen for the clearing of the current output cell\nvar outputEl = gd.closest('.output');\nif (outputEl) {{\n    x.observe(outputEl, {childList: true});\n}}\n\n                        })                };                });            </script>        </div>"
     },
     "metadata": {},
     "output_type": "display_data"
    }
   ],
   "source": [
    "plot_word_vectors_cade(cade_models_quarterly, test_words_shootings + [target_word_shootings], range=[-2, 2], use_tsne=False, perplexity=3)"
   ],
   "metadata": {
    "collapsed": false
   }
  },
  {
   "cell_type": "markdown",
   "source": [
    "#### TPPMI"
   ],
   "metadata": {
    "collapsed": false
   }
  },
  {
   "cell_type": "code",
   "execution_count": 16,
   "outputs": [
    {
     "name": "stdout",
     "output_type": "stream",
     "text": [
      "All words are contained in the vocabulary\n"
     ]
    }
   ],
   "source": [
    "tppmi_shootings = tppmi_model.get_tppmi(test_words_shootings + [target_word_shootings], smooth=True)"
   ],
   "metadata": {
    "collapsed": false
   }
  },
  {
   "cell_type": "code",
   "execution_count": 17,
   "outputs": [
    {
     "name": "stdout",
     "output_type": "stream",
     "text": [
      "All words are contained in the vocabulary\n"
     ]
    },
    {
     "data": {
      "text/html": "        <script type=\"text/javascript\">\n        window.PlotlyConfig = {MathJaxConfig: 'local'};\n        if (window.MathJax && window.MathJax.Hub && window.MathJax.Hub.Config) {window.MathJax.Hub.Config({SVG: {font: \"STIX-Web\"}});}\n        if (typeof require !== 'undefined') {\n        require.undef(\"plotly\");\n        requirejs.config({\n            paths: {\n                'plotly': ['https://cdn.plot.ly/plotly-2.25.2.min']\n            }\n        });\n        require(['plotly'], function(Plotly) {\n            window._Plotly = Plotly;\n        });\n        }\n        </script>\n        "
     },
     "metadata": {},
     "output_type": "display_data"
    },
    {
     "data": {
      "application/vnd.plotly.v1+json": {
       "data": [
        {
         "marker": {
          "color": "#00CC96"
         },
         "mode": "markers+text",
         "name": "uvalde",
         "showlegend": false,
         "text": [
          "uvalde"
         ],
         "textposition": "top center",
         "x": [
          -4.223014472865683
         ],
         "y": [
          -1.9234101523256393
         ],
         "type": "scatter"
        },
        {
         "marker": {
          "color": "#00CC96",
          "size": 10,
          "symbol": "diamond"
         },
         "mode": "markers",
         "showlegend": false,
         "x": [
          -4.223014472865683
         ],
         "y": [
          -1.9234101523256393
         ],
         "type": "scatter"
        },
        {
         "marker": {
          "color": "#00CC96"
         },
         "mode": "markers+text",
         "name": "uvalde",
         "showlegend": false,
         "text": [
          "uvalde"
         ],
         "textposition": "top center",
         "x": [
          -3.0939712802941473
         ],
         "y": [
          -1.2585510964139286
         ],
         "type": "scatter"
        },
        {
         "line": {
          "color": "#00CC96",
          "width": 1
         },
         "mode": "lines",
         "showlegend": false,
         "x": [
          -4.223014472865683,
          -3.0939712802941473
         ],
         "y": [
          -1.9234101523256393,
          -1.2585510964139286
         ],
         "type": "scatter"
        },
        {
         "marker": {
          "color": "#00CC96"
         },
         "mode": "markers+text",
         "name": "uvalde",
         "showlegend": false,
         "text": [
          "uvalde"
         ],
         "textposition": "top center",
         "x": [
          -7.26664544358794
         ],
         "y": [
          -2.0212923992446905
         ],
         "type": "scatter"
        },
        {
         "line": {
          "color": "#00CC96",
          "width": 1
         },
         "mode": "lines",
         "showlegend": false,
         "x": [
          -3.0939712802941473,
          -7.26664544358794
         ],
         "y": [
          -1.2585510964139286,
          -2.0212923992446905
         ],
         "type": "scatter"
        },
        {
         "marker": {
          "color": "#00CC96"
         },
         "mode": "markers+text",
         "name": "uvalde",
         "showlegend": false,
         "text": [
          "uvalde"
         ],
         "textposition": "top center",
         "x": [
          3.7896477049866637
         ],
         "y": [
          -5.186894098205893
         ],
         "type": "scatter"
        },
        {
         "line": {
          "color": "#00CC96",
          "width": 1
         },
         "mode": "lines",
         "showlegend": false,
         "x": [
          -7.26664544358794,
          3.7896477049866637
         ],
         "y": [
          -2.0212923992446905,
          -5.186894098205893
         ],
         "type": "scatter"
        },
        {
         "marker": {
          "color": "#636EFA"
         },
         "mode": "markers+text",
         "name": "colorado",
         "showlegend": false,
         "text": [
          "colorado"
         ],
         "textposition": "top center",
         "x": [
          9.124048140589936
         ],
         "y": [
          -0.31340793553530766
         ],
         "type": "scatter"
        },
        {
         "marker": {
          "color": "#636EFA",
          "size": 10,
          "symbol": "diamond"
         },
         "mode": "markers",
         "showlegend": false,
         "x": [
          9.124048140589936
         ],
         "y": [
          -0.31340793553530766
         ],
         "type": "scatter"
        },
        {
         "marker": {
          "color": "#636EFA"
         },
         "mode": "markers+text",
         "name": "colorado",
         "showlegend": false,
         "text": [
          "colorado"
         ],
         "textposition": "top center",
         "x": [
          1.0552158217274346
         ],
         "y": [
          5.849815839206131
         ],
         "type": "scatter"
        },
        {
         "line": {
          "color": "#636EFA",
          "width": 1
         },
         "mode": "lines",
         "showlegend": false,
         "x": [
          9.124048140589936,
          1.0552158217274346
         ],
         "y": [
          -0.31340793553530766,
          5.849815839206131
         ],
         "type": "scatter"
        },
        {
         "marker": {
          "color": "#636EFA"
         },
         "mode": "markers+text",
         "name": "colorado",
         "showlegend": false,
         "text": [
          "colorado"
         ],
         "textposition": "top center",
         "x": [
          1.974464571600133
         ],
         "y": [
          10.403791602867807
         ],
         "type": "scatter"
        },
        {
         "line": {
          "color": "#636EFA",
          "width": 1
         },
         "mode": "lines",
         "showlegend": false,
         "x": [
          1.0552158217274346,
          1.974464571600133
         ],
         "y": [
          5.849815839206131,
          10.403791602867807
         ],
         "type": "scatter"
        },
        {
         "marker": {
          "color": "#636EFA"
         },
         "mode": "markers+text",
         "name": "colorado",
         "showlegend": false,
         "text": [
          "colorado"
         ],
         "textposition": "top center",
         "x": [
          -1.3964201270411436
         ],
         "y": [
          5.421385361467514
         ],
         "type": "scatter"
        },
        {
         "line": {
          "color": "#636EFA",
          "width": 1
         },
         "mode": "lines",
         "showlegend": false,
         "x": [
          1.974464571600133,
          -1.3964201270411436
         ],
         "y": [
          10.403791602867807,
          5.421385361467514
         ],
         "type": "scatter"
        },
        {
         "marker": {
          "color": "#EF553B"
         },
         "mode": "markers+text",
         "name": "nashville",
         "showlegend": false,
         "text": [
          "nashville"
         ],
         "textposition": "top center",
         "x": [
          6.495590926385422
         ],
         "y": [
          -2.1159615021104665
         ],
         "type": "scatter"
        },
        {
         "marker": {
          "color": "#EF553B",
          "size": 10,
          "symbol": "diamond"
         },
         "mode": "markers",
         "showlegend": false,
         "x": [
          6.495590926385422
         ],
         "y": [
          -2.1159615021104665
         ],
         "type": "scatter"
        },
        {
         "marker": {
          "color": "#EF553B"
         },
         "mode": "markers+text",
         "name": "nashville",
         "showlegend": false,
         "text": [
          "nashville"
         ],
         "textposition": "top center",
         "x": [
          3.2184788072113375
         ],
         "y": [
          -4.264533328112228
         ],
         "type": "scatter"
        },
        {
         "line": {
          "color": "#EF553B",
          "width": 1
         },
         "mode": "lines",
         "showlegend": false,
         "x": [
          6.495590926385422,
          3.2184788072113375
         ],
         "y": [
          -2.1159615021104665,
          -4.264533328112228
         ],
         "type": "scatter"
        },
        {
         "marker": {
          "color": "#EF553B"
         },
         "mode": "markers+text",
         "name": "nashville",
         "showlegend": false,
         "text": [
          "nashville"
         ],
         "textposition": "top center",
         "x": [
          2.5596305430132933
         ],
         "y": [
          -0.9859575715642397
         ],
         "type": "scatter"
        },
        {
         "line": {
          "color": "#EF553B",
          "width": 1
         },
         "mode": "lines",
         "showlegend": false,
         "x": [
          3.2184788072113375,
          2.5596305430132933
         ],
         "y": [
          -4.264533328112228,
          -0.9859575715642397
         ],
         "type": "scatter"
        },
        {
         "marker": {
          "color": "#EF553B"
         },
         "mode": "markers+text",
         "name": "nashville",
         "showlegend": false,
         "text": [
          "nashville"
         ],
         "textposition": "top center",
         "x": [
          -0.9791627165392643
         ],
         "y": [
          -0.40908154353017034
         ],
         "type": "scatter"
        },
        {
         "line": {
          "color": "#EF553B",
          "width": 1
         },
         "mode": "lines",
         "showlegend": false,
         "x": [
          2.5596305430132933,
          -0.9791627165392643
         ],
         "y": [
          -0.9859575715642397,
          -0.40908154353017034
         ],
         "type": "scatter"
        },
        {
         "marker": {
          "color": "#AB63FA"
         },
         "mode": "markers+text",
         "name": "shooting",
         "showlegend": false,
         "text": [
          "shooting"
         ],
         "textposition": "top center",
         "x": [
          -3.6483076594308557
         ],
         "y": [
          -1.2481141035345757
         ],
         "type": "scatter"
        },
        {
         "marker": {
          "color": "#AB63FA",
          "size": 10,
          "symbol": "diamond"
         },
         "mode": "markers",
         "showlegend": false,
         "x": [
          -3.6483076594308557
         ],
         "y": [
          -1.2481141035345757
         ],
         "type": "scatter"
        },
        {
         "marker": {
          "color": "#AB63FA"
         },
         "mode": "markers+text",
         "name": "shooting",
         "showlegend": false,
         "text": [
          "shooting"
         ],
         "textposition": "top center",
         "x": [
          -5.098920003437049
         ],
         "y": [
          0.7951453101312528
         ],
         "type": "scatter"
        },
        {
         "line": {
          "color": "#AB63FA",
          "width": 1
         },
         "mode": "lines",
         "showlegend": false,
         "x": [
          -3.6483076594308557,
          -5.098920003437049
         ],
         "y": [
          -1.2481141035345757,
          0.7951453101312528
         ],
         "type": "scatter"
        },
        {
         "marker": {
          "color": "#AB63FA"
         },
         "mode": "markers+text",
         "name": "shooting",
         "showlegend": false,
         "text": [
          "shooting"
         ],
         "textposition": "top center",
         "x": [
          -2.488040793926561
         ],
         "y": [
          -2.3115831359087418
         ],
         "type": "scatter"
        },
        {
         "line": {
          "color": "#AB63FA",
          "width": 1
         },
         "mode": "lines",
         "showlegend": false,
         "x": [
          -5.098920003437049,
          -2.488040793926561
         ],
         "y": [
          0.7951453101312528,
          -2.3115831359087418
         ],
         "type": "scatter"
        },
        {
         "marker": {
          "color": "#AB63FA"
         },
         "mode": "markers+text",
         "name": "shooting",
         "showlegend": false,
         "text": [
          "shooting"
         ],
         "textposition": "top center",
         "x": [
          -0.022594018391581688
         ],
         "y": [
          -0.4313512471868147
         ],
         "type": "scatter"
        },
        {
         "line": {
          "color": "#AB63FA",
          "width": 1
         },
         "mode": "lines",
         "showlegend": false,
         "x": [
          -2.488040793926561,
          -0.022594018391581688
         ],
         "y": [
          -2.3115831359087418,
          -0.4313512471868147
         ],
         "type": "scatter"
        }
       ],
       "layout": {
        "legend": {
         "x": 1.02,
         "y": 1.0
        },
        "template": {
         "data": {
          "barpolar": [
           {
            "marker": {
             "line": {
              "color": "#E5ECF6",
              "width": 0.5
             },
             "pattern": {
              "fillmode": "overlay",
              "size": 10,
              "solidity": 0.2
             }
            },
            "type": "barpolar"
           }
          ],
          "bar": [
           {
            "error_x": {
             "color": "#2a3f5f"
            },
            "error_y": {
             "color": "#2a3f5f"
            },
            "marker": {
             "line": {
              "color": "#E5ECF6",
              "width": 0.5
             },
             "pattern": {
              "fillmode": "overlay",
              "size": 10,
              "solidity": 0.2
             }
            },
            "type": "bar"
           }
          ],
          "carpet": [
           {
            "aaxis": {
             "endlinecolor": "#2a3f5f",
             "gridcolor": "white",
             "linecolor": "white",
             "minorgridcolor": "white",
             "startlinecolor": "#2a3f5f"
            },
            "baxis": {
             "endlinecolor": "#2a3f5f",
             "gridcolor": "white",
             "linecolor": "white",
             "minorgridcolor": "white",
             "startlinecolor": "#2a3f5f"
            },
            "type": "carpet"
           }
          ],
          "choropleth": [
           {
            "colorbar": {
             "outlinewidth": 0,
             "ticks": ""
            },
            "type": "choropleth"
           }
          ],
          "contourcarpet": [
           {
            "colorbar": {
             "outlinewidth": 0,
             "ticks": ""
            },
            "type": "contourcarpet"
           }
          ],
          "contour": [
           {
            "colorbar": {
             "outlinewidth": 0,
             "ticks": ""
            },
            "colorscale": [
             [
              0.0,
              "#0d0887"
             ],
             [
              0.1111111111111111,
              "#46039f"
             ],
             [
              0.2222222222222222,
              "#7201a8"
             ],
             [
              0.3333333333333333,
              "#9c179e"
             ],
             [
              0.4444444444444444,
              "#bd3786"
             ],
             [
              0.5555555555555556,
              "#d8576b"
             ],
             [
              0.6666666666666666,
              "#ed7953"
             ],
             [
              0.7777777777777778,
              "#fb9f3a"
             ],
             [
              0.8888888888888888,
              "#fdca26"
             ],
             [
              1.0,
              "#f0f921"
             ]
            ],
            "type": "contour"
           }
          ],
          "heatmapgl": [
           {
            "colorbar": {
             "outlinewidth": 0,
             "ticks": ""
            },
            "colorscale": [
             [
              0.0,
              "#0d0887"
             ],
             [
              0.1111111111111111,
              "#46039f"
             ],
             [
              0.2222222222222222,
              "#7201a8"
             ],
             [
              0.3333333333333333,
              "#9c179e"
             ],
             [
              0.4444444444444444,
              "#bd3786"
             ],
             [
              0.5555555555555556,
              "#d8576b"
             ],
             [
              0.6666666666666666,
              "#ed7953"
             ],
             [
              0.7777777777777778,
              "#fb9f3a"
             ],
             [
              0.8888888888888888,
              "#fdca26"
             ],
             [
              1.0,
              "#f0f921"
             ]
            ],
            "type": "heatmapgl"
           }
          ],
          "heatmap": [
           {
            "colorbar": {
             "outlinewidth": 0,
             "ticks": ""
            },
            "colorscale": [
             [
              0.0,
              "#0d0887"
             ],
             [
              0.1111111111111111,
              "#46039f"
             ],
             [
              0.2222222222222222,
              "#7201a8"
             ],
             [
              0.3333333333333333,
              "#9c179e"
             ],
             [
              0.4444444444444444,
              "#bd3786"
             ],
             [
              0.5555555555555556,
              "#d8576b"
             ],
             [
              0.6666666666666666,
              "#ed7953"
             ],
             [
              0.7777777777777778,
              "#fb9f3a"
             ],
             [
              0.8888888888888888,
              "#fdca26"
             ],
             [
              1.0,
              "#f0f921"
             ]
            ],
            "type": "heatmap"
           }
          ],
          "histogram2dcontour": [
           {
            "colorbar": {
             "outlinewidth": 0,
             "ticks": ""
            },
            "colorscale": [
             [
              0.0,
              "#0d0887"
             ],
             [
              0.1111111111111111,
              "#46039f"
             ],
             [
              0.2222222222222222,
              "#7201a8"
             ],
             [
              0.3333333333333333,
              "#9c179e"
             ],
             [
              0.4444444444444444,
              "#bd3786"
             ],
             [
              0.5555555555555556,
              "#d8576b"
             ],
             [
              0.6666666666666666,
              "#ed7953"
             ],
             [
              0.7777777777777778,
              "#fb9f3a"
             ],
             [
              0.8888888888888888,
              "#fdca26"
             ],
             [
              1.0,
              "#f0f921"
             ]
            ],
            "type": "histogram2dcontour"
           }
          ],
          "histogram2d": [
           {
            "colorbar": {
             "outlinewidth": 0,
             "ticks": ""
            },
            "colorscale": [
             [
              0.0,
              "#0d0887"
             ],
             [
              0.1111111111111111,
              "#46039f"
             ],
             [
              0.2222222222222222,
              "#7201a8"
             ],
             [
              0.3333333333333333,
              "#9c179e"
             ],
             [
              0.4444444444444444,
              "#bd3786"
             ],
             [
              0.5555555555555556,
              "#d8576b"
             ],
             [
              0.6666666666666666,
              "#ed7953"
             ],
             [
              0.7777777777777778,
              "#fb9f3a"
             ],
             [
              0.8888888888888888,
              "#fdca26"
             ],
             [
              1.0,
              "#f0f921"
             ]
            ],
            "type": "histogram2d"
           }
          ],
          "histogram": [
           {
            "marker": {
             "pattern": {
              "fillmode": "overlay",
              "size": 10,
              "solidity": 0.2
             }
            },
            "type": "histogram"
           }
          ],
          "mesh3d": [
           {
            "colorbar": {
             "outlinewidth": 0,
             "ticks": ""
            },
            "type": "mesh3d"
           }
          ],
          "parcoords": [
           {
            "line": {
             "colorbar": {
              "outlinewidth": 0,
              "ticks": ""
             }
            },
            "type": "parcoords"
           }
          ],
          "pie": [
           {
            "automargin": true,
            "type": "pie"
           }
          ],
          "scatter3d": [
           {
            "line": {
             "colorbar": {
              "outlinewidth": 0,
              "ticks": ""
             }
            },
            "marker": {
             "colorbar": {
              "outlinewidth": 0,
              "ticks": ""
             }
            },
            "type": "scatter3d"
           }
          ],
          "scattercarpet": [
           {
            "marker": {
             "colorbar": {
              "outlinewidth": 0,
              "ticks": ""
             }
            },
            "type": "scattercarpet"
           }
          ],
          "scattergeo": [
           {
            "marker": {
             "colorbar": {
              "outlinewidth": 0,
              "ticks": ""
             }
            },
            "type": "scattergeo"
           }
          ],
          "scattergl": [
           {
            "marker": {
             "colorbar": {
              "outlinewidth": 0,
              "ticks": ""
             }
            },
            "type": "scattergl"
           }
          ],
          "scattermapbox": [
           {
            "marker": {
             "colorbar": {
              "outlinewidth": 0,
              "ticks": ""
             }
            },
            "type": "scattermapbox"
           }
          ],
          "scatterpolargl": [
           {
            "marker": {
             "colorbar": {
              "outlinewidth": 0,
              "ticks": ""
             }
            },
            "type": "scatterpolargl"
           }
          ],
          "scatterpolar": [
           {
            "marker": {
             "colorbar": {
              "outlinewidth": 0,
              "ticks": ""
             }
            },
            "type": "scatterpolar"
           }
          ],
          "scatter": [
           {
            "fillpattern": {
             "fillmode": "overlay",
             "size": 10,
             "solidity": 0.2
            },
            "type": "scatter"
           }
          ],
          "scatterternary": [
           {
            "marker": {
             "colorbar": {
              "outlinewidth": 0,
              "ticks": ""
             }
            },
            "type": "scatterternary"
           }
          ],
          "surface": [
           {
            "colorbar": {
             "outlinewidth": 0,
             "ticks": ""
            },
            "colorscale": [
             [
              0.0,
              "#0d0887"
             ],
             [
              0.1111111111111111,
              "#46039f"
             ],
             [
              0.2222222222222222,
              "#7201a8"
             ],
             [
              0.3333333333333333,
              "#9c179e"
             ],
             [
              0.4444444444444444,
              "#bd3786"
             ],
             [
              0.5555555555555556,
              "#d8576b"
             ],
             [
              0.6666666666666666,
              "#ed7953"
             ],
             [
              0.7777777777777778,
              "#fb9f3a"
             ],
             [
              0.8888888888888888,
              "#fdca26"
             ],
             [
              1.0,
              "#f0f921"
             ]
            ],
            "type": "surface"
           }
          ],
          "table": [
           {
            "cells": {
             "fill": {
              "color": "#EBF0F8"
             },
             "line": {
              "color": "white"
             }
            },
            "header": {
             "fill": {
              "color": "#C8D4E3"
             },
             "line": {
              "color": "white"
             }
            },
            "type": "table"
           }
          ]
         },
         "layout": {
          "annotationdefaults": {
           "arrowcolor": "#2a3f5f",
           "arrowhead": 0,
           "arrowwidth": 1
          },
          "autotypenumbers": "strict",
          "coloraxis": {
           "colorbar": {
            "outlinewidth": 0,
            "ticks": ""
           }
          },
          "colorscale": {
           "diverging": [
            [
             0,
             "#8e0152"
            ],
            [
             0.1,
             "#c51b7d"
            ],
            [
             0.2,
             "#de77ae"
            ],
            [
             0.3,
             "#f1b6da"
            ],
            [
             0.4,
             "#fde0ef"
            ],
            [
             0.5,
             "#f7f7f7"
            ],
            [
             0.6,
             "#e6f5d0"
            ],
            [
             0.7,
             "#b8e186"
            ],
            [
             0.8,
             "#7fbc41"
            ],
            [
             0.9,
             "#4d9221"
            ],
            [
             1,
             "#276419"
            ]
           ],
           "sequential": [
            [
             0.0,
             "#0d0887"
            ],
            [
             0.1111111111111111,
             "#46039f"
            ],
            [
             0.2222222222222222,
             "#7201a8"
            ],
            [
             0.3333333333333333,
             "#9c179e"
            ],
            [
             0.4444444444444444,
             "#bd3786"
            ],
            [
             0.5555555555555556,
             "#d8576b"
            ],
            [
             0.6666666666666666,
             "#ed7953"
            ],
            [
             0.7777777777777778,
             "#fb9f3a"
            ],
            [
             0.8888888888888888,
             "#fdca26"
            ],
            [
             1.0,
             "#f0f921"
            ]
           ],
           "sequentialminus": [
            [
             0.0,
             "#0d0887"
            ],
            [
             0.1111111111111111,
             "#46039f"
            ],
            [
             0.2222222222222222,
             "#7201a8"
            ],
            [
             0.3333333333333333,
             "#9c179e"
            ],
            [
             0.4444444444444444,
             "#bd3786"
            ],
            [
             0.5555555555555556,
             "#d8576b"
            ],
            [
             0.6666666666666666,
             "#ed7953"
            ],
            [
             0.7777777777777778,
             "#fb9f3a"
            ],
            [
             0.8888888888888888,
             "#fdca26"
            ],
            [
             1.0,
             "#f0f921"
            ]
           ]
          },
          "colorway": [
           "#636efa",
           "#EF553B",
           "#00cc96",
           "#ab63fa",
           "#FFA15A",
           "#19d3f3",
           "#FF6692",
           "#B6E880",
           "#FF97FF",
           "#FECB52"
          ],
          "font": {
           "color": "#2a3f5f"
          },
          "geo": {
           "bgcolor": "white",
           "lakecolor": "white",
           "landcolor": "#E5ECF6",
           "showlakes": true,
           "showland": true,
           "subunitcolor": "white"
          },
          "hoverlabel": {
           "align": "left"
          },
          "hovermode": "closest",
          "mapbox": {
           "style": "light"
          },
          "paper_bgcolor": "white",
          "plot_bgcolor": "#E5ECF6",
          "polar": {
           "angularaxis": {
            "gridcolor": "white",
            "linecolor": "white",
            "ticks": ""
           },
           "bgcolor": "#E5ECF6",
           "radialaxis": {
            "gridcolor": "white",
            "linecolor": "white",
            "ticks": ""
           }
          },
          "scene": {
           "xaxis": {
            "backgroundcolor": "#E5ECF6",
            "gridcolor": "white",
            "gridwidth": 2,
            "linecolor": "white",
            "showbackground": true,
            "ticks": "",
            "zerolinecolor": "white"
           },
           "yaxis": {
            "backgroundcolor": "#E5ECF6",
            "gridcolor": "white",
            "gridwidth": 2,
            "linecolor": "white",
            "showbackground": true,
            "ticks": "",
            "zerolinecolor": "white"
           },
           "zaxis": {
            "backgroundcolor": "#E5ECF6",
            "gridcolor": "white",
            "gridwidth": 2,
            "linecolor": "white",
            "showbackground": true,
            "ticks": "",
            "zerolinecolor": "white"
           }
          },
          "shapedefaults": {
           "line": {
            "color": "#2a3f5f"
           }
          },
          "ternary": {
           "aaxis": {
            "gridcolor": "white",
            "linecolor": "white",
            "ticks": ""
           },
           "baxis": {
            "gridcolor": "white",
            "linecolor": "white",
            "ticks": ""
           },
           "bgcolor": "#E5ECF6",
           "caxis": {
            "gridcolor": "white",
            "linecolor": "white",
            "ticks": ""
           }
          },
          "title": {
           "x": 0.05
          },
          "xaxis": {
           "automargin": true,
           "gridcolor": "white",
           "linecolor": "white",
           "ticks": "",
           "title": {
            "standoff": 15
           },
           "zerolinecolor": "white",
           "zerolinewidth": 2
          },
          "yaxis": {
           "automargin": true,
           "gridcolor": "white",
           "linecolor": "white",
           "ticks": "",
           "title": {
            "standoff": 15
           },
           "zerolinecolor": "white",
           "zerolinewidth": 2
          }
         }
        },
        "title": {
         "text": "2D Visualization of Word Vectors"
        },
        "xaxis": {
         "range": [
          -10,
          15
         ],
         "title": {
          "text": "PC1"
         }
        },
        "yaxis": {
         "range": [
          -10,
          15
         ],
         "title": {
          "text": "PC2"
         }
        }
       },
       "config": {
        "showLink": false,
        "linkText": "Export to plot.ly",
        "plotlyServerURL": "https://plot.ly"
       }
      },
      "text/html": "<div>                            <div id=\"b7bcbb13-ac4f-4608-894d-903acf807174\" class=\"plotly-graph-div\" style=\"height:525px; width:100%;\"></div>            <script type=\"text/javascript\">                require([\"plotly\"], function(Plotly) {                    window.PLOTLYENV=window.PLOTLYENV || {};                                    if (document.getElementById(\"b7bcbb13-ac4f-4608-894d-903acf807174\")) {                    Plotly.newPlot(                        \"b7bcbb13-ac4f-4608-894d-903acf807174\",                        [{\"marker\":{\"color\":\"#00CC96\"},\"mode\":\"markers+text\",\"name\":\"uvalde\",\"showlegend\":false,\"text\":[\"uvalde\"],\"textposition\":\"top center\",\"x\":[-4.223014472865683],\"y\":[-1.9234101523256393],\"type\":\"scatter\"},{\"marker\":{\"color\":\"#00CC96\",\"size\":10,\"symbol\":\"diamond\"},\"mode\":\"markers\",\"showlegend\":false,\"x\":[-4.223014472865683],\"y\":[-1.9234101523256393],\"type\":\"scatter\"},{\"marker\":{\"color\":\"#00CC96\"},\"mode\":\"markers+text\",\"name\":\"uvalde\",\"showlegend\":false,\"text\":[\"uvalde\"],\"textposition\":\"top center\",\"x\":[-3.0939712802941473],\"y\":[-1.2585510964139286],\"type\":\"scatter\"},{\"line\":{\"color\":\"#00CC96\",\"width\":1},\"mode\":\"lines\",\"showlegend\":false,\"x\":[-4.223014472865683,-3.0939712802941473],\"y\":[-1.9234101523256393,-1.2585510964139286],\"type\":\"scatter\"},{\"marker\":{\"color\":\"#00CC96\"},\"mode\":\"markers+text\",\"name\":\"uvalde\",\"showlegend\":false,\"text\":[\"uvalde\"],\"textposition\":\"top center\",\"x\":[-7.26664544358794],\"y\":[-2.0212923992446905],\"type\":\"scatter\"},{\"line\":{\"color\":\"#00CC96\",\"width\":1},\"mode\":\"lines\",\"showlegend\":false,\"x\":[-3.0939712802941473,-7.26664544358794],\"y\":[-1.2585510964139286,-2.0212923992446905],\"type\":\"scatter\"},{\"marker\":{\"color\":\"#00CC96\"},\"mode\":\"markers+text\",\"name\":\"uvalde\",\"showlegend\":false,\"text\":[\"uvalde\"],\"textposition\":\"top center\",\"x\":[3.7896477049866637],\"y\":[-5.186894098205893],\"type\":\"scatter\"},{\"line\":{\"color\":\"#00CC96\",\"width\":1},\"mode\":\"lines\",\"showlegend\":false,\"x\":[-7.26664544358794,3.7896477049866637],\"y\":[-2.0212923992446905,-5.186894098205893],\"type\":\"scatter\"},{\"marker\":{\"color\":\"#636EFA\"},\"mode\":\"markers+text\",\"name\":\"colorado\",\"showlegend\":false,\"text\":[\"colorado\"],\"textposition\":\"top center\",\"x\":[9.124048140589936],\"y\":[-0.31340793553530766],\"type\":\"scatter\"},{\"marker\":{\"color\":\"#636EFA\",\"size\":10,\"symbol\":\"diamond\"},\"mode\":\"markers\",\"showlegend\":false,\"x\":[9.124048140589936],\"y\":[-0.31340793553530766],\"type\":\"scatter\"},{\"marker\":{\"color\":\"#636EFA\"},\"mode\":\"markers+text\",\"name\":\"colorado\",\"showlegend\":false,\"text\":[\"colorado\"],\"textposition\":\"top center\",\"x\":[1.0552158217274346],\"y\":[5.849815839206131],\"type\":\"scatter\"},{\"line\":{\"color\":\"#636EFA\",\"width\":1},\"mode\":\"lines\",\"showlegend\":false,\"x\":[9.124048140589936,1.0552158217274346],\"y\":[-0.31340793553530766,5.849815839206131],\"type\":\"scatter\"},{\"marker\":{\"color\":\"#636EFA\"},\"mode\":\"markers+text\",\"name\":\"colorado\",\"showlegend\":false,\"text\":[\"colorado\"],\"textposition\":\"top center\",\"x\":[1.974464571600133],\"y\":[10.403791602867807],\"type\":\"scatter\"},{\"line\":{\"color\":\"#636EFA\",\"width\":1},\"mode\":\"lines\",\"showlegend\":false,\"x\":[1.0552158217274346,1.974464571600133],\"y\":[5.849815839206131,10.403791602867807],\"type\":\"scatter\"},{\"marker\":{\"color\":\"#636EFA\"},\"mode\":\"markers+text\",\"name\":\"colorado\",\"showlegend\":false,\"text\":[\"colorado\"],\"textposition\":\"top center\",\"x\":[-1.3964201270411436],\"y\":[5.421385361467514],\"type\":\"scatter\"},{\"line\":{\"color\":\"#636EFA\",\"width\":1},\"mode\":\"lines\",\"showlegend\":false,\"x\":[1.974464571600133,-1.3964201270411436],\"y\":[10.403791602867807,5.421385361467514],\"type\":\"scatter\"},{\"marker\":{\"color\":\"#EF553B\"},\"mode\":\"markers+text\",\"name\":\"nashville\",\"showlegend\":false,\"text\":[\"nashville\"],\"textposition\":\"top center\",\"x\":[6.495590926385422],\"y\":[-2.1159615021104665],\"type\":\"scatter\"},{\"marker\":{\"color\":\"#EF553B\",\"size\":10,\"symbol\":\"diamond\"},\"mode\":\"markers\",\"showlegend\":false,\"x\":[6.495590926385422],\"y\":[-2.1159615021104665],\"type\":\"scatter\"},{\"marker\":{\"color\":\"#EF553B\"},\"mode\":\"markers+text\",\"name\":\"nashville\",\"showlegend\":false,\"text\":[\"nashville\"],\"textposition\":\"top center\",\"x\":[3.2184788072113375],\"y\":[-4.264533328112228],\"type\":\"scatter\"},{\"line\":{\"color\":\"#EF553B\",\"width\":1},\"mode\":\"lines\",\"showlegend\":false,\"x\":[6.495590926385422,3.2184788072113375],\"y\":[-2.1159615021104665,-4.264533328112228],\"type\":\"scatter\"},{\"marker\":{\"color\":\"#EF553B\"},\"mode\":\"markers+text\",\"name\":\"nashville\",\"showlegend\":false,\"text\":[\"nashville\"],\"textposition\":\"top center\",\"x\":[2.5596305430132933],\"y\":[-0.9859575715642397],\"type\":\"scatter\"},{\"line\":{\"color\":\"#EF553B\",\"width\":1},\"mode\":\"lines\",\"showlegend\":false,\"x\":[3.2184788072113375,2.5596305430132933],\"y\":[-4.264533328112228,-0.9859575715642397],\"type\":\"scatter\"},{\"marker\":{\"color\":\"#EF553B\"},\"mode\":\"markers+text\",\"name\":\"nashville\",\"showlegend\":false,\"text\":[\"nashville\"],\"textposition\":\"top center\",\"x\":[-0.9791627165392643],\"y\":[-0.40908154353017034],\"type\":\"scatter\"},{\"line\":{\"color\":\"#EF553B\",\"width\":1},\"mode\":\"lines\",\"showlegend\":false,\"x\":[2.5596305430132933,-0.9791627165392643],\"y\":[-0.9859575715642397,-0.40908154353017034],\"type\":\"scatter\"},{\"marker\":{\"color\":\"#AB63FA\"},\"mode\":\"markers+text\",\"name\":\"shooting\",\"showlegend\":false,\"text\":[\"shooting\"],\"textposition\":\"top center\",\"x\":[-3.6483076594308557],\"y\":[-1.2481141035345757],\"type\":\"scatter\"},{\"marker\":{\"color\":\"#AB63FA\",\"size\":10,\"symbol\":\"diamond\"},\"mode\":\"markers\",\"showlegend\":false,\"x\":[-3.6483076594308557],\"y\":[-1.2481141035345757],\"type\":\"scatter\"},{\"marker\":{\"color\":\"#AB63FA\"},\"mode\":\"markers+text\",\"name\":\"shooting\",\"showlegend\":false,\"text\":[\"shooting\"],\"textposition\":\"top center\",\"x\":[-5.098920003437049],\"y\":[0.7951453101312528],\"type\":\"scatter\"},{\"line\":{\"color\":\"#AB63FA\",\"width\":1},\"mode\":\"lines\",\"showlegend\":false,\"x\":[-3.6483076594308557,-5.098920003437049],\"y\":[-1.2481141035345757,0.7951453101312528],\"type\":\"scatter\"},{\"marker\":{\"color\":\"#AB63FA\"},\"mode\":\"markers+text\",\"name\":\"shooting\",\"showlegend\":false,\"text\":[\"shooting\"],\"textposition\":\"top center\",\"x\":[-2.488040793926561],\"y\":[-2.3115831359087418],\"type\":\"scatter\"},{\"line\":{\"color\":\"#AB63FA\",\"width\":1},\"mode\":\"lines\",\"showlegend\":false,\"x\":[-5.098920003437049,-2.488040793926561],\"y\":[0.7951453101312528,-2.3115831359087418],\"type\":\"scatter\"},{\"marker\":{\"color\":\"#AB63FA\"},\"mode\":\"markers+text\",\"name\":\"shooting\",\"showlegend\":false,\"text\":[\"shooting\"],\"textposition\":\"top center\",\"x\":[-0.022594018391581688],\"y\":[-0.4313512471868147],\"type\":\"scatter\"},{\"line\":{\"color\":\"#AB63FA\",\"width\":1},\"mode\":\"lines\",\"showlegend\":false,\"x\":[-2.488040793926561,-0.022594018391581688],\"y\":[-2.3115831359087418,-0.4313512471868147],\"type\":\"scatter\"}],                        {\"legend\":{\"x\":1.02,\"y\":1.0},\"template\":{\"data\":{\"barpolar\":[{\"marker\":{\"line\":{\"color\":\"#E5ECF6\",\"width\":0.5},\"pattern\":{\"fillmode\":\"overlay\",\"size\":10,\"solidity\":0.2}},\"type\":\"barpolar\"}],\"bar\":[{\"error_x\":{\"color\":\"#2a3f5f\"},\"error_y\":{\"color\":\"#2a3f5f\"},\"marker\":{\"line\":{\"color\":\"#E5ECF6\",\"width\":0.5},\"pattern\":{\"fillmode\":\"overlay\",\"size\":10,\"solidity\":0.2}},\"type\":\"bar\"}],\"carpet\":[{\"aaxis\":{\"endlinecolor\":\"#2a3f5f\",\"gridcolor\":\"white\",\"linecolor\":\"white\",\"minorgridcolor\":\"white\",\"startlinecolor\":\"#2a3f5f\"},\"baxis\":{\"endlinecolor\":\"#2a3f5f\",\"gridcolor\":\"white\",\"linecolor\":\"white\",\"minorgridcolor\":\"white\",\"startlinecolor\":\"#2a3f5f\"},\"type\":\"carpet\"}],\"choropleth\":[{\"colorbar\":{\"outlinewidth\":0,\"ticks\":\"\"},\"type\":\"choropleth\"}],\"contourcarpet\":[{\"colorbar\":{\"outlinewidth\":0,\"ticks\":\"\"},\"type\":\"contourcarpet\"}],\"contour\":[{\"colorbar\":{\"outlinewidth\":0,\"ticks\":\"\"},\"colorscale\":[[0.0,\"#0d0887\"],[0.1111111111111111,\"#46039f\"],[0.2222222222222222,\"#7201a8\"],[0.3333333333333333,\"#9c179e\"],[0.4444444444444444,\"#bd3786\"],[0.5555555555555556,\"#d8576b\"],[0.6666666666666666,\"#ed7953\"],[0.7777777777777778,\"#fb9f3a\"],[0.8888888888888888,\"#fdca26\"],[1.0,\"#f0f921\"]],\"type\":\"contour\"}],\"heatmapgl\":[{\"colorbar\":{\"outlinewidth\":0,\"ticks\":\"\"},\"colorscale\":[[0.0,\"#0d0887\"],[0.1111111111111111,\"#46039f\"],[0.2222222222222222,\"#7201a8\"],[0.3333333333333333,\"#9c179e\"],[0.4444444444444444,\"#bd3786\"],[0.5555555555555556,\"#d8576b\"],[0.6666666666666666,\"#ed7953\"],[0.7777777777777778,\"#fb9f3a\"],[0.8888888888888888,\"#fdca26\"],[1.0,\"#f0f921\"]],\"type\":\"heatmapgl\"}],\"heatmap\":[{\"colorbar\":{\"outlinewidth\":0,\"ticks\":\"\"},\"colorscale\":[[0.0,\"#0d0887\"],[0.1111111111111111,\"#46039f\"],[0.2222222222222222,\"#7201a8\"],[0.3333333333333333,\"#9c179e\"],[0.4444444444444444,\"#bd3786\"],[0.5555555555555556,\"#d8576b\"],[0.6666666666666666,\"#ed7953\"],[0.7777777777777778,\"#fb9f3a\"],[0.8888888888888888,\"#fdca26\"],[1.0,\"#f0f921\"]],\"type\":\"heatmap\"}],\"histogram2dcontour\":[{\"colorbar\":{\"outlinewidth\":0,\"ticks\":\"\"},\"colorscale\":[[0.0,\"#0d0887\"],[0.1111111111111111,\"#46039f\"],[0.2222222222222222,\"#7201a8\"],[0.3333333333333333,\"#9c179e\"],[0.4444444444444444,\"#bd3786\"],[0.5555555555555556,\"#d8576b\"],[0.6666666666666666,\"#ed7953\"],[0.7777777777777778,\"#fb9f3a\"],[0.8888888888888888,\"#fdca26\"],[1.0,\"#f0f921\"]],\"type\":\"histogram2dcontour\"}],\"histogram2d\":[{\"colorbar\":{\"outlinewidth\":0,\"ticks\":\"\"},\"colorscale\":[[0.0,\"#0d0887\"],[0.1111111111111111,\"#46039f\"],[0.2222222222222222,\"#7201a8\"],[0.3333333333333333,\"#9c179e\"],[0.4444444444444444,\"#bd3786\"],[0.5555555555555556,\"#d8576b\"],[0.6666666666666666,\"#ed7953\"],[0.7777777777777778,\"#fb9f3a\"],[0.8888888888888888,\"#fdca26\"],[1.0,\"#f0f921\"]],\"type\":\"histogram2d\"}],\"histogram\":[{\"marker\":{\"pattern\":{\"fillmode\":\"overlay\",\"size\":10,\"solidity\":0.2}},\"type\":\"histogram\"}],\"mesh3d\":[{\"colorbar\":{\"outlinewidth\":0,\"ticks\":\"\"},\"type\":\"mesh3d\"}],\"parcoords\":[{\"line\":{\"colorbar\":{\"outlinewidth\":0,\"ticks\":\"\"}},\"type\":\"parcoords\"}],\"pie\":[{\"automargin\":true,\"type\":\"pie\"}],\"scatter3d\":[{\"line\":{\"colorbar\":{\"outlinewidth\":0,\"ticks\":\"\"}},\"marker\":{\"colorbar\":{\"outlinewidth\":0,\"ticks\":\"\"}},\"type\":\"scatter3d\"}],\"scattercarpet\":[{\"marker\":{\"colorbar\":{\"outlinewidth\":0,\"ticks\":\"\"}},\"type\":\"scattercarpet\"}],\"scattergeo\":[{\"marker\":{\"colorbar\":{\"outlinewidth\":0,\"ticks\":\"\"}},\"type\":\"scattergeo\"}],\"scattergl\":[{\"marker\":{\"colorbar\":{\"outlinewidth\":0,\"ticks\":\"\"}},\"type\":\"scattergl\"}],\"scattermapbox\":[{\"marker\":{\"colorbar\":{\"outlinewidth\":0,\"ticks\":\"\"}},\"type\":\"scattermapbox\"}],\"scatterpolargl\":[{\"marker\":{\"colorbar\":{\"outlinewidth\":0,\"ticks\":\"\"}},\"type\":\"scatterpolargl\"}],\"scatterpolar\":[{\"marker\":{\"colorbar\":{\"outlinewidth\":0,\"ticks\":\"\"}},\"type\":\"scatterpolar\"}],\"scatter\":[{\"fillpattern\":{\"fillmode\":\"overlay\",\"size\":10,\"solidity\":0.2},\"type\":\"scatter\"}],\"scatterternary\":[{\"marker\":{\"colorbar\":{\"outlinewidth\":0,\"ticks\":\"\"}},\"type\":\"scatterternary\"}],\"surface\":[{\"colorbar\":{\"outlinewidth\":0,\"ticks\":\"\"},\"colorscale\":[[0.0,\"#0d0887\"],[0.1111111111111111,\"#46039f\"],[0.2222222222222222,\"#7201a8\"],[0.3333333333333333,\"#9c179e\"],[0.4444444444444444,\"#bd3786\"],[0.5555555555555556,\"#d8576b\"],[0.6666666666666666,\"#ed7953\"],[0.7777777777777778,\"#fb9f3a\"],[0.8888888888888888,\"#fdca26\"],[1.0,\"#f0f921\"]],\"type\":\"surface\"}],\"table\":[{\"cells\":{\"fill\":{\"color\":\"#EBF0F8\"},\"line\":{\"color\":\"white\"}},\"header\":{\"fill\":{\"color\":\"#C8D4E3\"},\"line\":{\"color\":\"white\"}},\"type\":\"table\"}]},\"layout\":{\"annotationdefaults\":{\"arrowcolor\":\"#2a3f5f\",\"arrowhead\":0,\"arrowwidth\":1},\"autotypenumbers\":\"strict\",\"coloraxis\":{\"colorbar\":{\"outlinewidth\":0,\"ticks\":\"\"}},\"colorscale\":{\"diverging\":[[0,\"#8e0152\"],[0.1,\"#c51b7d\"],[0.2,\"#de77ae\"],[0.3,\"#f1b6da\"],[0.4,\"#fde0ef\"],[0.5,\"#f7f7f7\"],[0.6,\"#e6f5d0\"],[0.7,\"#b8e186\"],[0.8,\"#7fbc41\"],[0.9,\"#4d9221\"],[1,\"#276419\"]],\"sequential\":[[0.0,\"#0d0887\"],[0.1111111111111111,\"#46039f\"],[0.2222222222222222,\"#7201a8\"],[0.3333333333333333,\"#9c179e\"],[0.4444444444444444,\"#bd3786\"],[0.5555555555555556,\"#d8576b\"],[0.6666666666666666,\"#ed7953\"],[0.7777777777777778,\"#fb9f3a\"],[0.8888888888888888,\"#fdca26\"],[1.0,\"#f0f921\"]],\"sequentialminus\":[[0.0,\"#0d0887\"],[0.1111111111111111,\"#46039f\"],[0.2222222222222222,\"#7201a8\"],[0.3333333333333333,\"#9c179e\"],[0.4444444444444444,\"#bd3786\"],[0.5555555555555556,\"#d8576b\"],[0.6666666666666666,\"#ed7953\"],[0.7777777777777778,\"#fb9f3a\"],[0.8888888888888888,\"#fdca26\"],[1.0,\"#f0f921\"]]},\"colorway\":[\"#636efa\",\"#EF553B\",\"#00cc96\",\"#ab63fa\",\"#FFA15A\",\"#19d3f3\",\"#FF6692\",\"#B6E880\",\"#FF97FF\",\"#FECB52\"],\"font\":{\"color\":\"#2a3f5f\"},\"geo\":{\"bgcolor\":\"white\",\"lakecolor\":\"white\",\"landcolor\":\"#E5ECF6\",\"showlakes\":true,\"showland\":true,\"subunitcolor\":\"white\"},\"hoverlabel\":{\"align\":\"left\"},\"hovermode\":\"closest\",\"mapbox\":{\"style\":\"light\"},\"paper_bgcolor\":\"white\",\"plot_bgcolor\":\"#E5ECF6\",\"polar\":{\"angularaxis\":{\"gridcolor\":\"white\",\"linecolor\":\"white\",\"ticks\":\"\"},\"bgcolor\":\"#E5ECF6\",\"radialaxis\":{\"gridcolor\":\"white\",\"linecolor\":\"white\",\"ticks\":\"\"}},\"scene\":{\"xaxis\":{\"backgroundcolor\":\"#E5ECF6\",\"gridcolor\":\"white\",\"gridwidth\":2,\"linecolor\":\"white\",\"showbackground\":true,\"ticks\":\"\",\"zerolinecolor\":\"white\"},\"yaxis\":{\"backgroundcolor\":\"#E5ECF6\",\"gridcolor\":\"white\",\"gridwidth\":2,\"linecolor\":\"white\",\"showbackground\":true,\"ticks\":\"\",\"zerolinecolor\":\"white\"},\"zaxis\":{\"backgroundcolor\":\"#E5ECF6\",\"gridcolor\":\"white\",\"gridwidth\":2,\"linecolor\":\"white\",\"showbackground\":true,\"ticks\":\"\",\"zerolinecolor\":\"white\"}},\"shapedefaults\":{\"line\":{\"color\":\"#2a3f5f\"}},\"ternary\":{\"aaxis\":{\"gridcolor\":\"white\",\"linecolor\":\"white\",\"ticks\":\"\"},\"baxis\":{\"gridcolor\":\"white\",\"linecolor\":\"white\",\"ticks\":\"\"},\"bgcolor\":\"#E5ECF6\",\"caxis\":{\"gridcolor\":\"white\",\"linecolor\":\"white\",\"ticks\":\"\"}},\"title\":{\"x\":0.05},\"xaxis\":{\"automargin\":true,\"gridcolor\":\"white\",\"linecolor\":\"white\",\"ticks\":\"\",\"title\":{\"standoff\":15},\"zerolinecolor\":\"white\",\"zerolinewidth\":2},\"yaxis\":{\"automargin\":true,\"gridcolor\":\"white\",\"linecolor\":\"white\",\"ticks\":\"\",\"title\":{\"standoff\":15},\"zerolinecolor\":\"white\",\"zerolinewidth\":2}}},\"title\":{\"text\":\"2D Visualization of Word Vectors\"},\"xaxis\":{\"range\":[-10,15],\"title\":{\"text\":\"PC1\"}},\"yaxis\":{\"range\":[-10,15],\"title\":{\"text\":\"PC2\"}}},                        {\"responsive\": true}                    ).then(function(){\n                            \nvar gd = document.getElementById('b7bcbb13-ac4f-4608-894d-903acf807174');\nvar x = new MutationObserver(function (mutations, observer) {{\n        var display = window.getComputedStyle(gd).display;\n        if (!display || display === 'none') {{\n            console.log([gd, 'removed!']);\n            Plotly.purge(gd);\n            observer.disconnect();\n        }}\n}});\n\n// Listen for the removal of the full notebook cells\nvar notebookContainer = gd.closest('#notebook-container');\nif (notebookContainer) {{\n    x.observe(notebookContainer, {childList: true});\n}}\n\n// Listen for the clearing of the current output cell\nvar outputEl = gd.closest('.output');\nif (outputEl) {{\n    x.observe(outputEl, {childList: true});\n}}\n\n                        })                };                });            </script>        </div>"
     },
     "metadata": {},
     "output_type": "display_data"
    }
   ],
   "source": [
    "plot_word_vectors_tppmi(tppmi_model, test_words_shootings + [target_word_shootings],\n",
    "                        use_tsne=False, range=[-10, 15])"
   ],
   "metadata": {
    "collapsed": false
   }
  },
  {
   "cell_type": "code",
   "execution_count": 18,
   "outputs": [
    {
     "name": "stdout",
     "output_type": "stream",
     "text": [
      "All words are contained in the vocabulary\n"
     ]
    }
   ],
   "source": [
    "tppmi_shootings = tppmi_model.get_tppmi(test_words_shootings + [target_word_shootings])"
   ],
   "metadata": {
    "collapsed": false
   }
  },
  {
   "cell_type": "markdown",
   "source": [
    "## Elon Musk Twitter takeover"
   ],
   "metadata": {
    "collapsed": false
   }
  },
  {
   "cell_type": "markdown",
   "source": [
    "### Overview"
   ],
   "metadata": {
    "collapsed": false
   }
  },
  {
   "cell_type": "markdown",
   "source": [
    "Business magnate Elon Musk initiated an acquisition of American social media company Twitter, Inc. on April 14, 2022, and concluded it on October 27, 2022. Musk had begun buying shares of the company in January 2022, becoming its largest shareholder by April with a 9.1 percent ownership stake\n",
    "\n",
    "source: [Wikipedia article](https://en.wikipedia.org/wiki/Acquisition_of_Twitter_by_Elon_Musk#:~:text=Business%20magnate%20Elon%20Musk%20initiated,a%209.1%20percent%20ownership%20stake.)"
   ],
   "metadata": {
    "collapsed": false
   }
  },
  {
   "cell_type": "code",
   "execution_count": 19,
   "outputs": [],
   "source": [
    "target_word_twitter = \"twitter\"\n",
    "test_words_twitter = [\"facebook\",  \"elon\", \"instagram\"]"
   ],
   "metadata": {
    "collapsed": false
   }
  },
  {
   "cell_type": "code",
   "execution_count": 20,
   "outputs": [],
   "source": [
    "title_twitter = f\"Evolution of the word {target_word_twitter} over time\""
   ],
   "metadata": {
    "collapsed": false
   }
  },
  {
   "cell_type": "markdown",
   "source": [
    "### Visualizations"
   ],
   "metadata": {
    "collapsed": false
   }
  },
  {
   "cell_type": "code",
   "execution_count": 21,
   "outputs": [
    {
     "data": {
      "text/html": "        <script type=\"text/javascript\">\n        window.PlotlyConfig = {MathJaxConfig: 'local'};\n        if (window.MathJax && window.MathJax.Hub && window.MathJax.Hub.Config) {window.MathJax.Hub.Config({SVG: {font: \"STIX-Web\"}});}\n        if (typeof require !== 'undefined') {\n        require.undef(\"plotly\");\n        requirejs.config({\n            paths: {\n                'plotly': ['https://cdn.plot.ly/plotly-2.25.2.min']\n            }\n        });\n        require(['plotly'], function(Plotly) {\n            window._Plotly = Plotly;\n        });\n        }\n        </script>\n        "
     },
     "metadata": {},
     "output_type": "display_data"
    },
    {
     "data": {
      "application/vnd.plotly.v1+json": {
       "data": [
        {
         "marker": {
          "color": "#AB63FA"
         },
         "mode": "markers+text",
         "name": "facebook",
         "showlegend": false,
         "text": [
          "facebook"
         ],
         "textposition": "top center",
         "x": [
          -1.599210500717163
         ],
         "y": [
          -2.2607522010803223
         ],
         "type": "scatter"
        },
        {
         "marker": {
          "color": "#AB63FA",
          "size": 10,
          "symbol": "diamond"
         },
         "mode": "markers",
         "showlegend": false,
         "x": [
          -1.599210500717163
         ],
         "y": [
          -2.2607522010803223
         ],
         "type": "scatter"
        },
        {
         "marker": {
          "color": "#636EFA"
         },
         "mode": "markers+text",
         "name": "elon",
         "showlegend": false,
         "text": [
          "elon"
         ],
         "textposition": "top center",
         "x": [
          5.390510082244873
         ],
         "y": [
          0.7062152028083801
         ],
         "type": "scatter"
        },
        {
         "marker": {
          "color": "#636EFA",
          "size": 10,
          "symbol": "diamond"
         },
         "mode": "markers",
         "showlegend": false,
         "x": [
          5.390510082244873
         ],
         "y": [
          0.7062152028083801
         ],
         "type": "scatter"
        },
        {
         "marker": {
          "color": "#00CC96"
         },
         "mode": "markers+text",
         "name": "instagram",
         "showlegend": false,
         "text": [
          "instagram"
         ],
         "textposition": "top center",
         "x": [
          2.7530465126037598
         ],
         "y": [
          -0.5041781067848206
         ],
         "type": "scatter"
        },
        {
         "marker": {
          "color": "#00CC96",
          "size": 10,
          "symbol": "diamond"
         },
         "mode": "markers",
         "showlegend": false,
         "x": [
          2.7530465126037598
         ],
         "y": [
          -0.5041781067848206
         ],
         "type": "scatter"
        },
        {
         "marker": {
          "color": "#EF553B"
         },
         "mode": "markers+text",
         "name": "twitter",
         "showlegend": false,
         "text": [
          "twitter"
         ],
         "textposition": "top center",
         "x": [
          -4.921722412109375
         ],
         "y": [
          0.8351337313652039
         ],
         "type": "scatter"
        },
        {
         "marker": {
          "color": "#EF553B",
          "size": 10,
          "symbol": "diamond"
         },
         "mode": "markers",
         "showlegend": false,
         "x": [
          -4.921722412109375
         ],
         "y": [
          0.8351337313652039
         ],
         "type": "scatter"
        },
        {
         "marker": {
          "color": "#AB63FA"
         },
         "mode": "markers+text",
         "name": "facebook",
         "showlegend": false,
         "text": [
          "facebook"
         ],
         "textposition": "top center",
         "x": [
          -3.700291395187378
         ],
         "y": [
          -2.775137424468994
         ],
         "type": "scatter"
        },
        {
         "line": {
          "color": "#AB63FA",
          "width": 1
         },
         "mode": "lines",
         "showlegend": false,
         "x": [
          -1.599210500717163,
          -3.700291395187378
         ],
         "y": [
          -2.2607522010803223,
          -2.775137424468994
         ],
         "type": "scatter"
        },
        {
         "marker": {
          "color": "#636EFA"
         },
         "mode": "markers+text",
         "name": "elon",
         "showlegend": false,
         "text": [
          "elon"
         ],
         "textposition": "top center",
         "x": [
          4.648174285888672
         ],
         "y": [
          1.2562888860702515
         ],
         "type": "scatter"
        },
        {
         "line": {
          "color": "#636EFA",
          "width": 1
         },
         "mode": "lines",
         "showlegend": false,
         "x": [
          5.390510082244873,
          4.648174285888672
         ],
         "y": [
          0.7062152028083801,
          1.2562888860702515
         ],
         "type": "scatter"
        },
        {
         "marker": {
          "color": "#00CC96"
         },
         "mode": "markers+text",
         "name": "instagram",
         "showlegend": false,
         "text": [
          "instagram"
         ],
         "textposition": "top center",
         "x": [
          1.913591980934143
         ],
         "y": [
          -1.2509032487869263
         ],
         "type": "scatter"
        },
        {
         "line": {
          "color": "#00CC96",
          "width": 1
         },
         "mode": "lines",
         "showlegend": false,
         "x": [
          2.7530465126037598,
          1.913591980934143
         ],
         "y": [
          -0.5041781067848206,
          -1.2509032487869263
         ],
         "type": "scatter"
        },
        {
         "marker": {
          "color": "#EF553B"
         },
         "mode": "markers+text",
         "name": "twitter",
         "showlegend": false,
         "text": [
          "twitter"
         ],
         "textposition": "top center",
         "x": [
          -3.3303301334381104
         ],
         "y": [
          1.232944130897522
         ],
         "type": "scatter"
        },
        {
         "line": {
          "color": "#EF553B",
          "width": 1
         },
         "mode": "lines",
         "showlegend": false,
         "x": [
          -4.921722412109375,
          -3.3303301334381104
         ],
         "y": [
          0.8351337313652039,
          1.232944130897522
         ],
         "type": "scatter"
        },
        {
         "marker": {
          "color": "#AB63FA"
         },
         "mode": "markers+text",
         "name": "facebook",
         "showlegend": false,
         "text": [
          "facebook"
         ],
         "textposition": "top center",
         "x": [
          -2.706298828125
         ],
         "y": [
          -2.414163112640381
         ],
         "type": "scatter"
        },
        {
         "line": {
          "color": "#AB63FA",
          "width": 1
         },
         "mode": "lines",
         "showlegend": false,
         "x": [
          -3.700291395187378,
          -2.706298828125
         ],
         "y": [
          -2.775137424468994,
          -2.414163112640381
         ],
         "type": "scatter"
        },
        {
         "marker": {
          "color": "#636EFA"
         },
         "mode": "markers+text",
         "name": "elon",
         "showlegend": false,
         "text": [
          "elon"
         ],
         "textposition": "top center",
         "x": [
          1.3278496265411377
         ],
         "y": [
          3.226074457168579
         ],
         "type": "scatter"
        },
        {
         "line": {
          "color": "#636EFA",
          "width": 1
         },
         "mode": "lines",
         "showlegend": false,
         "x": [
          4.648174285888672,
          1.3278496265411377
         ],
         "y": [
          1.2562888860702515,
          3.226074457168579
         ],
         "type": "scatter"
        },
        {
         "marker": {
          "color": "#00CC96"
         },
         "mode": "markers+text",
         "name": "instagram",
         "showlegend": false,
         "text": [
          "instagram"
         ],
         "textposition": "top center",
         "x": [
          3.9044787883758545
         ],
         "y": [
          -0.8605618476867676
         ],
         "type": "scatter"
        },
        {
         "line": {
          "color": "#00CC96",
          "width": 1
         },
         "mode": "lines",
         "showlegend": false,
         "x": [
          1.913591980934143,
          3.9044787883758545
         ],
         "y": [
          -1.2509032487869263,
          -0.8605618476867676
         ],
         "type": "scatter"
        },
        {
         "marker": {
          "color": "#EF553B"
         },
         "mode": "markers+text",
         "name": "twitter",
         "showlegend": false,
         "text": [
          "twitter"
         ],
         "textposition": "top center",
         "x": [
          -4.8561482429504395
         ],
         "y": [
          3.8729283809661865
         ],
         "type": "scatter"
        },
        {
         "line": {
          "color": "#EF553B",
          "width": 1
         },
         "mode": "lines",
         "showlegend": false,
         "x": [
          -3.3303301334381104,
          -4.8561482429504395
         ],
         "y": [
          1.232944130897522,
          3.8729283809661865
         ],
         "type": "scatter"
        },
        {
         "marker": {
          "color": "#AB63FA"
         },
         "mode": "markers+text",
         "name": "facebook",
         "showlegend": false,
         "text": [
          "facebook"
         ],
         "textposition": "top center",
         "x": [
          -2.3372409343719482
         ],
         "y": [
          -3.551328420639038
         ],
         "type": "scatter"
        },
        {
         "line": {
          "color": "#AB63FA",
          "width": 1
         },
         "mode": "lines",
         "showlegend": false,
         "x": [
          -2.706298828125,
          -2.3372409343719482
         ],
         "y": [
          -2.414163112640381,
          -3.551328420639038
         ],
         "type": "scatter"
        },
        {
         "marker": {
          "color": "#636EFA"
         },
         "mode": "markers+text",
         "name": "elon",
         "showlegend": false,
         "text": [
          "elon"
         ],
         "textposition": "top center",
         "x": [
          4.402961254119873
         ],
         "y": [
          1.0025233030319214
         ],
         "type": "scatter"
        },
        {
         "line": {
          "color": "#636EFA",
          "width": 1
         },
         "mode": "lines",
         "showlegend": false,
         "x": [
          1.3278496265411377,
          4.402961254119873
         ],
         "y": [
          3.226074457168579,
          1.0025233030319214
         ],
         "type": "scatter"
        },
        {
         "marker": {
          "color": "#00CC96"
         },
         "mode": "markers+text",
         "name": "instagram",
         "showlegend": false,
         "text": [
          "instagram"
         ],
         "textposition": "top center",
         "x": [
          3.360734462738037
         ],
         "y": [
          -0.8652584552764893
         ],
         "type": "scatter"
        },
        {
         "line": {
          "color": "#00CC96",
          "width": 1
         },
         "mode": "lines",
         "showlegend": false,
         "x": [
          3.9044787883758545,
          3.360734462738037
         ],
         "y": [
          -0.8605618476867676,
          -0.8652584552764893
         ],
         "type": "scatter"
        },
        {
         "marker": {
          "color": "#EF553B"
         },
         "mode": "markers+text",
         "name": "twitter",
         "showlegend": false,
         "text": [
          "twitter"
         ],
         "textposition": "top center",
         "x": [
          -4.2500996589660645
         ],
         "y": [
          2.3501789569854736
         ],
         "type": "scatter"
        },
        {
         "line": {
          "color": "#EF553B",
          "width": 1
         },
         "mode": "lines",
         "showlegend": false,
         "x": [
          -4.8561482429504395,
          -4.2500996589660645
         ],
         "y": [
          3.8729283809661865,
          2.3501789569854736
         ],
         "type": "scatter"
        }
       ],
       "layout": {
        "legend": {
         "x": 1.02,
         "y": 1.0
        },
        "template": {
         "data": {
          "barpolar": [
           {
            "marker": {
             "line": {
              "color": "#E5ECF6",
              "width": 0.5
             },
             "pattern": {
              "fillmode": "overlay",
              "size": 10,
              "solidity": 0.2
             }
            },
            "type": "barpolar"
           }
          ],
          "bar": [
           {
            "error_x": {
             "color": "#2a3f5f"
            },
            "error_y": {
             "color": "#2a3f5f"
            },
            "marker": {
             "line": {
              "color": "#E5ECF6",
              "width": 0.5
             },
             "pattern": {
              "fillmode": "overlay",
              "size": 10,
              "solidity": 0.2
             }
            },
            "type": "bar"
           }
          ],
          "carpet": [
           {
            "aaxis": {
             "endlinecolor": "#2a3f5f",
             "gridcolor": "white",
             "linecolor": "white",
             "minorgridcolor": "white",
             "startlinecolor": "#2a3f5f"
            },
            "baxis": {
             "endlinecolor": "#2a3f5f",
             "gridcolor": "white",
             "linecolor": "white",
             "minorgridcolor": "white",
             "startlinecolor": "#2a3f5f"
            },
            "type": "carpet"
           }
          ],
          "choropleth": [
           {
            "colorbar": {
             "outlinewidth": 0,
             "ticks": ""
            },
            "type": "choropleth"
           }
          ],
          "contourcarpet": [
           {
            "colorbar": {
             "outlinewidth": 0,
             "ticks": ""
            },
            "type": "contourcarpet"
           }
          ],
          "contour": [
           {
            "colorbar": {
             "outlinewidth": 0,
             "ticks": ""
            },
            "colorscale": [
             [
              0.0,
              "#0d0887"
             ],
             [
              0.1111111111111111,
              "#46039f"
             ],
             [
              0.2222222222222222,
              "#7201a8"
             ],
             [
              0.3333333333333333,
              "#9c179e"
             ],
             [
              0.4444444444444444,
              "#bd3786"
             ],
             [
              0.5555555555555556,
              "#d8576b"
             ],
             [
              0.6666666666666666,
              "#ed7953"
             ],
             [
              0.7777777777777778,
              "#fb9f3a"
             ],
             [
              0.8888888888888888,
              "#fdca26"
             ],
             [
              1.0,
              "#f0f921"
             ]
            ],
            "type": "contour"
           }
          ],
          "heatmapgl": [
           {
            "colorbar": {
             "outlinewidth": 0,
             "ticks": ""
            },
            "colorscale": [
             [
              0.0,
              "#0d0887"
             ],
             [
              0.1111111111111111,
              "#46039f"
             ],
             [
              0.2222222222222222,
              "#7201a8"
             ],
             [
              0.3333333333333333,
              "#9c179e"
             ],
             [
              0.4444444444444444,
              "#bd3786"
             ],
             [
              0.5555555555555556,
              "#d8576b"
             ],
             [
              0.6666666666666666,
              "#ed7953"
             ],
             [
              0.7777777777777778,
              "#fb9f3a"
             ],
             [
              0.8888888888888888,
              "#fdca26"
             ],
             [
              1.0,
              "#f0f921"
             ]
            ],
            "type": "heatmapgl"
           }
          ],
          "heatmap": [
           {
            "colorbar": {
             "outlinewidth": 0,
             "ticks": ""
            },
            "colorscale": [
             [
              0.0,
              "#0d0887"
             ],
             [
              0.1111111111111111,
              "#46039f"
             ],
             [
              0.2222222222222222,
              "#7201a8"
             ],
             [
              0.3333333333333333,
              "#9c179e"
             ],
             [
              0.4444444444444444,
              "#bd3786"
             ],
             [
              0.5555555555555556,
              "#d8576b"
             ],
             [
              0.6666666666666666,
              "#ed7953"
             ],
             [
              0.7777777777777778,
              "#fb9f3a"
             ],
             [
              0.8888888888888888,
              "#fdca26"
             ],
             [
              1.0,
              "#f0f921"
             ]
            ],
            "type": "heatmap"
           }
          ],
          "histogram2dcontour": [
           {
            "colorbar": {
             "outlinewidth": 0,
             "ticks": ""
            },
            "colorscale": [
             [
              0.0,
              "#0d0887"
             ],
             [
              0.1111111111111111,
              "#46039f"
             ],
             [
              0.2222222222222222,
              "#7201a8"
             ],
             [
              0.3333333333333333,
              "#9c179e"
             ],
             [
              0.4444444444444444,
              "#bd3786"
             ],
             [
              0.5555555555555556,
              "#d8576b"
             ],
             [
              0.6666666666666666,
              "#ed7953"
             ],
             [
              0.7777777777777778,
              "#fb9f3a"
             ],
             [
              0.8888888888888888,
              "#fdca26"
             ],
             [
              1.0,
              "#f0f921"
             ]
            ],
            "type": "histogram2dcontour"
           }
          ],
          "histogram2d": [
           {
            "colorbar": {
             "outlinewidth": 0,
             "ticks": ""
            },
            "colorscale": [
             [
              0.0,
              "#0d0887"
             ],
             [
              0.1111111111111111,
              "#46039f"
             ],
             [
              0.2222222222222222,
              "#7201a8"
             ],
             [
              0.3333333333333333,
              "#9c179e"
             ],
             [
              0.4444444444444444,
              "#bd3786"
             ],
             [
              0.5555555555555556,
              "#d8576b"
             ],
             [
              0.6666666666666666,
              "#ed7953"
             ],
             [
              0.7777777777777778,
              "#fb9f3a"
             ],
             [
              0.8888888888888888,
              "#fdca26"
             ],
             [
              1.0,
              "#f0f921"
             ]
            ],
            "type": "histogram2d"
           }
          ],
          "histogram": [
           {
            "marker": {
             "pattern": {
              "fillmode": "overlay",
              "size": 10,
              "solidity": 0.2
             }
            },
            "type": "histogram"
           }
          ],
          "mesh3d": [
           {
            "colorbar": {
             "outlinewidth": 0,
             "ticks": ""
            },
            "type": "mesh3d"
           }
          ],
          "parcoords": [
           {
            "line": {
             "colorbar": {
              "outlinewidth": 0,
              "ticks": ""
             }
            },
            "type": "parcoords"
           }
          ],
          "pie": [
           {
            "automargin": true,
            "type": "pie"
           }
          ],
          "scatter3d": [
           {
            "line": {
             "colorbar": {
              "outlinewidth": 0,
              "ticks": ""
             }
            },
            "marker": {
             "colorbar": {
              "outlinewidth": 0,
              "ticks": ""
             }
            },
            "type": "scatter3d"
           }
          ],
          "scattercarpet": [
           {
            "marker": {
             "colorbar": {
              "outlinewidth": 0,
              "ticks": ""
             }
            },
            "type": "scattercarpet"
           }
          ],
          "scattergeo": [
           {
            "marker": {
             "colorbar": {
              "outlinewidth": 0,
              "ticks": ""
             }
            },
            "type": "scattergeo"
           }
          ],
          "scattergl": [
           {
            "marker": {
             "colorbar": {
              "outlinewidth": 0,
              "ticks": ""
             }
            },
            "type": "scattergl"
           }
          ],
          "scattermapbox": [
           {
            "marker": {
             "colorbar": {
              "outlinewidth": 0,
              "ticks": ""
             }
            },
            "type": "scattermapbox"
           }
          ],
          "scatterpolargl": [
           {
            "marker": {
             "colorbar": {
              "outlinewidth": 0,
              "ticks": ""
             }
            },
            "type": "scatterpolargl"
           }
          ],
          "scatterpolar": [
           {
            "marker": {
             "colorbar": {
              "outlinewidth": 0,
              "ticks": ""
             }
            },
            "type": "scatterpolar"
           }
          ],
          "scatter": [
           {
            "fillpattern": {
             "fillmode": "overlay",
             "size": 10,
             "solidity": 0.2
            },
            "type": "scatter"
           }
          ],
          "scatterternary": [
           {
            "marker": {
             "colorbar": {
              "outlinewidth": 0,
              "ticks": ""
             }
            },
            "type": "scatterternary"
           }
          ],
          "surface": [
           {
            "colorbar": {
             "outlinewidth": 0,
             "ticks": ""
            },
            "colorscale": [
             [
              0.0,
              "#0d0887"
             ],
             [
              0.1111111111111111,
              "#46039f"
             ],
             [
              0.2222222222222222,
              "#7201a8"
             ],
             [
              0.3333333333333333,
              "#9c179e"
             ],
             [
              0.4444444444444444,
              "#bd3786"
             ],
             [
              0.5555555555555556,
              "#d8576b"
             ],
             [
              0.6666666666666666,
              "#ed7953"
             ],
             [
              0.7777777777777778,
              "#fb9f3a"
             ],
             [
              0.8888888888888888,
              "#fdca26"
             ],
             [
              1.0,
              "#f0f921"
             ]
            ],
            "type": "surface"
           }
          ],
          "table": [
           {
            "cells": {
             "fill": {
              "color": "#EBF0F8"
             },
             "line": {
              "color": "white"
             }
            },
            "header": {
             "fill": {
              "color": "#C8D4E3"
             },
             "line": {
              "color": "white"
             }
            },
            "type": "table"
           }
          ]
         },
         "layout": {
          "annotationdefaults": {
           "arrowcolor": "#2a3f5f",
           "arrowhead": 0,
           "arrowwidth": 1
          },
          "autotypenumbers": "strict",
          "coloraxis": {
           "colorbar": {
            "outlinewidth": 0,
            "ticks": ""
           }
          },
          "colorscale": {
           "diverging": [
            [
             0,
             "#8e0152"
            ],
            [
             0.1,
             "#c51b7d"
            ],
            [
             0.2,
             "#de77ae"
            ],
            [
             0.3,
             "#f1b6da"
            ],
            [
             0.4,
             "#fde0ef"
            ],
            [
             0.5,
             "#f7f7f7"
            ],
            [
             0.6,
             "#e6f5d0"
            ],
            [
             0.7,
             "#b8e186"
            ],
            [
             0.8,
             "#7fbc41"
            ],
            [
             0.9,
             "#4d9221"
            ],
            [
             1,
             "#276419"
            ]
           ],
           "sequential": [
            [
             0.0,
             "#0d0887"
            ],
            [
             0.1111111111111111,
             "#46039f"
            ],
            [
             0.2222222222222222,
             "#7201a8"
            ],
            [
             0.3333333333333333,
             "#9c179e"
            ],
            [
             0.4444444444444444,
             "#bd3786"
            ],
            [
             0.5555555555555556,
             "#d8576b"
            ],
            [
             0.6666666666666666,
             "#ed7953"
            ],
            [
             0.7777777777777778,
             "#fb9f3a"
            ],
            [
             0.8888888888888888,
             "#fdca26"
            ],
            [
             1.0,
             "#f0f921"
            ]
           ],
           "sequentialminus": [
            [
             0.0,
             "#0d0887"
            ],
            [
             0.1111111111111111,
             "#46039f"
            ],
            [
             0.2222222222222222,
             "#7201a8"
            ],
            [
             0.3333333333333333,
             "#9c179e"
            ],
            [
             0.4444444444444444,
             "#bd3786"
            ],
            [
             0.5555555555555556,
             "#d8576b"
            ],
            [
             0.6666666666666666,
             "#ed7953"
            ],
            [
             0.7777777777777778,
             "#fb9f3a"
            ],
            [
             0.8888888888888888,
             "#fdca26"
            ],
            [
             1.0,
             "#f0f921"
            ]
           ]
          },
          "colorway": [
           "#636efa",
           "#EF553B",
           "#00cc96",
           "#ab63fa",
           "#FFA15A",
           "#19d3f3",
           "#FF6692",
           "#B6E880",
           "#FF97FF",
           "#FECB52"
          ],
          "font": {
           "color": "#2a3f5f"
          },
          "geo": {
           "bgcolor": "white",
           "lakecolor": "white",
           "landcolor": "#E5ECF6",
           "showlakes": true,
           "showland": true,
           "subunitcolor": "white"
          },
          "hoverlabel": {
           "align": "left"
          },
          "hovermode": "closest",
          "mapbox": {
           "style": "light"
          },
          "paper_bgcolor": "white",
          "plot_bgcolor": "#E5ECF6",
          "polar": {
           "angularaxis": {
            "gridcolor": "white",
            "linecolor": "white",
            "ticks": ""
           },
           "bgcolor": "#E5ECF6",
           "radialaxis": {
            "gridcolor": "white",
            "linecolor": "white",
            "ticks": ""
           }
          },
          "scene": {
           "xaxis": {
            "backgroundcolor": "#E5ECF6",
            "gridcolor": "white",
            "gridwidth": 2,
            "linecolor": "white",
            "showbackground": true,
            "ticks": "",
            "zerolinecolor": "white"
           },
           "yaxis": {
            "backgroundcolor": "#E5ECF6",
            "gridcolor": "white",
            "gridwidth": 2,
            "linecolor": "white",
            "showbackground": true,
            "ticks": "",
            "zerolinecolor": "white"
           },
           "zaxis": {
            "backgroundcolor": "#E5ECF6",
            "gridcolor": "white",
            "gridwidth": 2,
            "linecolor": "white",
            "showbackground": true,
            "ticks": "",
            "zerolinecolor": "white"
           }
          },
          "shapedefaults": {
           "line": {
            "color": "#2a3f5f"
           }
          },
          "ternary": {
           "aaxis": {
            "gridcolor": "white",
            "linecolor": "white",
            "ticks": ""
           },
           "baxis": {
            "gridcolor": "white",
            "linecolor": "white",
            "ticks": ""
           },
           "bgcolor": "#E5ECF6",
           "caxis": {
            "gridcolor": "white",
            "linecolor": "white",
            "ticks": ""
           }
          },
          "title": {
           "x": 0.05
          },
          "xaxis": {
           "automargin": true,
           "gridcolor": "white",
           "linecolor": "white",
           "ticks": "",
           "title": {
            "standoff": 15
           },
           "zerolinecolor": "white",
           "zerolinewidth": 2
          },
          "yaxis": {
           "automargin": true,
           "gridcolor": "white",
           "linecolor": "white",
           "ticks": "",
           "title": {
            "standoff": 15
           },
           "zerolinecolor": "white",
           "zerolinewidth": 2
          }
         }
        },
        "title": {
         "text": "2D Visualization of Word Vectors"
        },
        "xaxis": {
         "range": [
          -8,
          8
         ],
         "title": {
          "text": "PC1"
         }
        },
        "yaxis": {
         "range": [
          -8,
          8
         ],
         "title": {
          "text": "PC2"
         }
        }
       },
       "config": {
        "showLink": false,
        "linkText": "Export to plot.ly",
        "plotlyServerURL": "https://plot.ly"
       }
      },
      "text/html": "<div>                            <div id=\"dc3020c3-8437-40dd-8af2-365bcc29f6be\" class=\"plotly-graph-div\" style=\"height:525px; width:100%;\"></div>            <script type=\"text/javascript\">                require([\"plotly\"], function(Plotly) {                    window.PLOTLYENV=window.PLOTLYENV || {};                                    if (document.getElementById(\"dc3020c3-8437-40dd-8af2-365bcc29f6be\")) {                    Plotly.newPlot(                        \"dc3020c3-8437-40dd-8af2-365bcc29f6be\",                        [{\"marker\":{\"color\":\"#AB63FA\"},\"mode\":\"markers+text\",\"name\":\"facebook\",\"showlegend\":false,\"text\":[\"facebook\"],\"textposition\":\"top center\",\"x\":[-1.599210500717163],\"y\":[-2.2607522010803223],\"type\":\"scatter\"},{\"marker\":{\"color\":\"#AB63FA\",\"size\":10,\"symbol\":\"diamond\"},\"mode\":\"markers\",\"showlegend\":false,\"x\":[-1.599210500717163],\"y\":[-2.2607522010803223],\"type\":\"scatter\"},{\"marker\":{\"color\":\"#636EFA\"},\"mode\":\"markers+text\",\"name\":\"elon\",\"showlegend\":false,\"text\":[\"elon\"],\"textposition\":\"top center\",\"x\":[5.390510082244873],\"y\":[0.7062152028083801],\"type\":\"scatter\"},{\"marker\":{\"color\":\"#636EFA\",\"size\":10,\"symbol\":\"diamond\"},\"mode\":\"markers\",\"showlegend\":false,\"x\":[5.390510082244873],\"y\":[0.7062152028083801],\"type\":\"scatter\"},{\"marker\":{\"color\":\"#00CC96\"},\"mode\":\"markers+text\",\"name\":\"instagram\",\"showlegend\":false,\"text\":[\"instagram\"],\"textposition\":\"top center\",\"x\":[2.7530465126037598],\"y\":[-0.5041781067848206],\"type\":\"scatter\"},{\"marker\":{\"color\":\"#00CC96\",\"size\":10,\"symbol\":\"diamond\"},\"mode\":\"markers\",\"showlegend\":false,\"x\":[2.7530465126037598],\"y\":[-0.5041781067848206],\"type\":\"scatter\"},{\"marker\":{\"color\":\"#EF553B\"},\"mode\":\"markers+text\",\"name\":\"twitter\",\"showlegend\":false,\"text\":[\"twitter\"],\"textposition\":\"top center\",\"x\":[-4.921722412109375],\"y\":[0.8351337313652039],\"type\":\"scatter\"},{\"marker\":{\"color\":\"#EF553B\",\"size\":10,\"symbol\":\"diamond\"},\"mode\":\"markers\",\"showlegend\":false,\"x\":[-4.921722412109375],\"y\":[0.8351337313652039],\"type\":\"scatter\"},{\"marker\":{\"color\":\"#AB63FA\"},\"mode\":\"markers+text\",\"name\":\"facebook\",\"showlegend\":false,\"text\":[\"facebook\"],\"textposition\":\"top center\",\"x\":[-3.700291395187378],\"y\":[-2.775137424468994],\"type\":\"scatter\"},{\"line\":{\"color\":\"#AB63FA\",\"width\":1},\"mode\":\"lines\",\"showlegend\":false,\"x\":[-1.599210500717163,-3.700291395187378],\"y\":[-2.2607522010803223,-2.775137424468994],\"type\":\"scatter\"},{\"marker\":{\"color\":\"#636EFA\"},\"mode\":\"markers+text\",\"name\":\"elon\",\"showlegend\":false,\"text\":[\"elon\"],\"textposition\":\"top center\",\"x\":[4.648174285888672],\"y\":[1.2562888860702515],\"type\":\"scatter\"},{\"line\":{\"color\":\"#636EFA\",\"width\":1},\"mode\":\"lines\",\"showlegend\":false,\"x\":[5.390510082244873,4.648174285888672],\"y\":[0.7062152028083801,1.2562888860702515],\"type\":\"scatter\"},{\"marker\":{\"color\":\"#00CC96\"},\"mode\":\"markers+text\",\"name\":\"instagram\",\"showlegend\":false,\"text\":[\"instagram\"],\"textposition\":\"top center\",\"x\":[1.913591980934143],\"y\":[-1.2509032487869263],\"type\":\"scatter\"},{\"line\":{\"color\":\"#00CC96\",\"width\":1},\"mode\":\"lines\",\"showlegend\":false,\"x\":[2.7530465126037598,1.913591980934143],\"y\":[-0.5041781067848206,-1.2509032487869263],\"type\":\"scatter\"},{\"marker\":{\"color\":\"#EF553B\"},\"mode\":\"markers+text\",\"name\":\"twitter\",\"showlegend\":false,\"text\":[\"twitter\"],\"textposition\":\"top center\",\"x\":[-3.3303301334381104],\"y\":[1.232944130897522],\"type\":\"scatter\"},{\"line\":{\"color\":\"#EF553B\",\"width\":1},\"mode\":\"lines\",\"showlegend\":false,\"x\":[-4.921722412109375,-3.3303301334381104],\"y\":[0.8351337313652039,1.232944130897522],\"type\":\"scatter\"},{\"marker\":{\"color\":\"#AB63FA\"},\"mode\":\"markers+text\",\"name\":\"facebook\",\"showlegend\":false,\"text\":[\"facebook\"],\"textposition\":\"top center\",\"x\":[-2.706298828125],\"y\":[-2.414163112640381],\"type\":\"scatter\"},{\"line\":{\"color\":\"#AB63FA\",\"width\":1},\"mode\":\"lines\",\"showlegend\":false,\"x\":[-3.700291395187378,-2.706298828125],\"y\":[-2.775137424468994,-2.414163112640381],\"type\":\"scatter\"},{\"marker\":{\"color\":\"#636EFA\"},\"mode\":\"markers+text\",\"name\":\"elon\",\"showlegend\":false,\"text\":[\"elon\"],\"textposition\":\"top center\",\"x\":[1.3278496265411377],\"y\":[3.226074457168579],\"type\":\"scatter\"},{\"line\":{\"color\":\"#636EFA\",\"width\":1},\"mode\":\"lines\",\"showlegend\":false,\"x\":[4.648174285888672,1.3278496265411377],\"y\":[1.2562888860702515,3.226074457168579],\"type\":\"scatter\"},{\"marker\":{\"color\":\"#00CC96\"},\"mode\":\"markers+text\",\"name\":\"instagram\",\"showlegend\":false,\"text\":[\"instagram\"],\"textposition\":\"top center\",\"x\":[3.9044787883758545],\"y\":[-0.8605618476867676],\"type\":\"scatter\"},{\"line\":{\"color\":\"#00CC96\",\"width\":1},\"mode\":\"lines\",\"showlegend\":false,\"x\":[1.913591980934143,3.9044787883758545],\"y\":[-1.2509032487869263,-0.8605618476867676],\"type\":\"scatter\"},{\"marker\":{\"color\":\"#EF553B\"},\"mode\":\"markers+text\",\"name\":\"twitter\",\"showlegend\":false,\"text\":[\"twitter\"],\"textposition\":\"top center\",\"x\":[-4.8561482429504395],\"y\":[3.8729283809661865],\"type\":\"scatter\"},{\"line\":{\"color\":\"#EF553B\",\"width\":1},\"mode\":\"lines\",\"showlegend\":false,\"x\":[-3.3303301334381104,-4.8561482429504395],\"y\":[1.232944130897522,3.8729283809661865],\"type\":\"scatter\"},{\"marker\":{\"color\":\"#AB63FA\"},\"mode\":\"markers+text\",\"name\":\"facebook\",\"showlegend\":false,\"text\":[\"facebook\"],\"textposition\":\"top center\",\"x\":[-2.3372409343719482],\"y\":[-3.551328420639038],\"type\":\"scatter\"},{\"line\":{\"color\":\"#AB63FA\",\"width\":1},\"mode\":\"lines\",\"showlegend\":false,\"x\":[-2.706298828125,-2.3372409343719482],\"y\":[-2.414163112640381,-3.551328420639038],\"type\":\"scatter\"},{\"marker\":{\"color\":\"#636EFA\"},\"mode\":\"markers+text\",\"name\":\"elon\",\"showlegend\":false,\"text\":[\"elon\"],\"textposition\":\"top center\",\"x\":[4.402961254119873],\"y\":[1.0025233030319214],\"type\":\"scatter\"},{\"line\":{\"color\":\"#636EFA\",\"width\":1},\"mode\":\"lines\",\"showlegend\":false,\"x\":[1.3278496265411377,4.402961254119873],\"y\":[3.226074457168579,1.0025233030319214],\"type\":\"scatter\"},{\"marker\":{\"color\":\"#00CC96\"},\"mode\":\"markers+text\",\"name\":\"instagram\",\"showlegend\":false,\"text\":[\"instagram\"],\"textposition\":\"top center\",\"x\":[3.360734462738037],\"y\":[-0.8652584552764893],\"type\":\"scatter\"},{\"line\":{\"color\":\"#00CC96\",\"width\":1},\"mode\":\"lines\",\"showlegend\":false,\"x\":[3.9044787883758545,3.360734462738037],\"y\":[-0.8605618476867676,-0.8652584552764893],\"type\":\"scatter\"},{\"marker\":{\"color\":\"#EF553B\"},\"mode\":\"markers+text\",\"name\":\"twitter\",\"showlegend\":false,\"text\":[\"twitter\"],\"textposition\":\"top center\",\"x\":[-4.2500996589660645],\"y\":[2.3501789569854736],\"type\":\"scatter\"},{\"line\":{\"color\":\"#EF553B\",\"width\":1},\"mode\":\"lines\",\"showlegend\":false,\"x\":[-4.8561482429504395,-4.2500996589660645],\"y\":[3.8729283809661865,2.3501789569854736],\"type\":\"scatter\"}],                        {\"legend\":{\"x\":1.02,\"y\":1.0},\"template\":{\"data\":{\"barpolar\":[{\"marker\":{\"line\":{\"color\":\"#E5ECF6\",\"width\":0.5},\"pattern\":{\"fillmode\":\"overlay\",\"size\":10,\"solidity\":0.2}},\"type\":\"barpolar\"}],\"bar\":[{\"error_x\":{\"color\":\"#2a3f5f\"},\"error_y\":{\"color\":\"#2a3f5f\"},\"marker\":{\"line\":{\"color\":\"#E5ECF6\",\"width\":0.5},\"pattern\":{\"fillmode\":\"overlay\",\"size\":10,\"solidity\":0.2}},\"type\":\"bar\"}],\"carpet\":[{\"aaxis\":{\"endlinecolor\":\"#2a3f5f\",\"gridcolor\":\"white\",\"linecolor\":\"white\",\"minorgridcolor\":\"white\",\"startlinecolor\":\"#2a3f5f\"},\"baxis\":{\"endlinecolor\":\"#2a3f5f\",\"gridcolor\":\"white\",\"linecolor\":\"white\",\"minorgridcolor\":\"white\",\"startlinecolor\":\"#2a3f5f\"},\"type\":\"carpet\"}],\"choropleth\":[{\"colorbar\":{\"outlinewidth\":0,\"ticks\":\"\"},\"type\":\"choropleth\"}],\"contourcarpet\":[{\"colorbar\":{\"outlinewidth\":0,\"ticks\":\"\"},\"type\":\"contourcarpet\"}],\"contour\":[{\"colorbar\":{\"outlinewidth\":0,\"ticks\":\"\"},\"colorscale\":[[0.0,\"#0d0887\"],[0.1111111111111111,\"#46039f\"],[0.2222222222222222,\"#7201a8\"],[0.3333333333333333,\"#9c179e\"],[0.4444444444444444,\"#bd3786\"],[0.5555555555555556,\"#d8576b\"],[0.6666666666666666,\"#ed7953\"],[0.7777777777777778,\"#fb9f3a\"],[0.8888888888888888,\"#fdca26\"],[1.0,\"#f0f921\"]],\"type\":\"contour\"}],\"heatmapgl\":[{\"colorbar\":{\"outlinewidth\":0,\"ticks\":\"\"},\"colorscale\":[[0.0,\"#0d0887\"],[0.1111111111111111,\"#46039f\"],[0.2222222222222222,\"#7201a8\"],[0.3333333333333333,\"#9c179e\"],[0.4444444444444444,\"#bd3786\"],[0.5555555555555556,\"#d8576b\"],[0.6666666666666666,\"#ed7953\"],[0.7777777777777778,\"#fb9f3a\"],[0.8888888888888888,\"#fdca26\"],[1.0,\"#f0f921\"]],\"type\":\"heatmapgl\"}],\"heatmap\":[{\"colorbar\":{\"outlinewidth\":0,\"ticks\":\"\"},\"colorscale\":[[0.0,\"#0d0887\"],[0.1111111111111111,\"#46039f\"],[0.2222222222222222,\"#7201a8\"],[0.3333333333333333,\"#9c179e\"],[0.4444444444444444,\"#bd3786\"],[0.5555555555555556,\"#d8576b\"],[0.6666666666666666,\"#ed7953\"],[0.7777777777777778,\"#fb9f3a\"],[0.8888888888888888,\"#fdca26\"],[1.0,\"#f0f921\"]],\"type\":\"heatmap\"}],\"histogram2dcontour\":[{\"colorbar\":{\"outlinewidth\":0,\"ticks\":\"\"},\"colorscale\":[[0.0,\"#0d0887\"],[0.1111111111111111,\"#46039f\"],[0.2222222222222222,\"#7201a8\"],[0.3333333333333333,\"#9c179e\"],[0.4444444444444444,\"#bd3786\"],[0.5555555555555556,\"#d8576b\"],[0.6666666666666666,\"#ed7953\"],[0.7777777777777778,\"#fb9f3a\"],[0.8888888888888888,\"#fdca26\"],[1.0,\"#f0f921\"]],\"type\":\"histogram2dcontour\"}],\"histogram2d\":[{\"colorbar\":{\"outlinewidth\":0,\"ticks\":\"\"},\"colorscale\":[[0.0,\"#0d0887\"],[0.1111111111111111,\"#46039f\"],[0.2222222222222222,\"#7201a8\"],[0.3333333333333333,\"#9c179e\"],[0.4444444444444444,\"#bd3786\"],[0.5555555555555556,\"#d8576b\"],[0.6666666666666666,\"#ed7953\"],[0.7777777777777778,\"#fb9f3a\"],[0.8888888888888888,\"#fdca26\"],[1.0,\"#f0f921\"]],\"type\":\"histogram2d\"}],\"histogram\":[{\"marker\":{\"pattern\":{\"fillmode\":\"overlay\",\"size\":10,\"solidity\":0.2}},\"type\":\"histogram\"}],\"mesh3d\":[{\"colorbar\":{\"outlinewidth\":0,\"ticks\":\"\"},\"type\":\"mesh3d\"}],\"parcoords\":[{\"line\":{\"colorbar\":{\"outlinewidth\":0,\"ticks\":\"\"}},\"type\":\"parcoords\"}],\"pie\":[{\"automargin\":true,\"type\":\"pie\"}],\"scatter3d\":[{\"line\":{\"colorbar\":{\"outlinewidth\":0,\"ticks\":\"\"}},\"marker\":{\"colorbar\":{\"outlinewidth\":0,\"ticks\":\"\"}},\"type\":\"scatter3d\"}],\"scattercarpet\":[{\"marker\":{\"colorbar\":{\"outlinewidth\":0,\"ticks\":\"\"}},\"type\":\"scattercarpet\"}],\"scattergeo\":[{\"marker\":{\"colorbar\":{\"outlinewidth\":0,\"ticks\":\"\"}},\"type\":\"scattergeo\"}],\"scattergl\":[{\"marker\":{\"colorbar\":{\"outlinewidth\":0,\"ticks\":\"\"}},\"type\":\"scattergl\"}],\"scattermapbox\":[{\"marker\":{\"colorbar\":{\"outlinewidth\":0,\"ticks\":\"\"}},\"type\":\"scattermapbox\"}],\"scatterpolargl\":[{\"marker\":{\"colorbar\":{\"outlinewidth\":0,\"ticks\":\"\"}},\"type\":\"scatterpolargl\"}],\"scatterpolar\":[{\"marker\":{\"colorbar\":{\"outlinewidth\":0,\"ticks\":\"\"}},\"type\":\"scatterpolar\"}],\"scatter\":[{\"fillpattern\":{\"fillmode\":\"overlay\",\"size\":10,\"solidity\":0.2},\"type\":\"scatter\"}],\"scatterternary\":[{\"marker\":{\"colorbar\":{\"outlinewidth\":0,\"ticks\":\"\"}},\"type\":\"scatterternary\"}],\"surface\":[{\"colorbar\":{\"outlinewidth\":0,\"ticks\":\"\"},\"colorscale\":[[0.0,\"#0d0887\"],[0.1111111111111111,\"#46039f\"],[0.2222222222222222,\"#7201a8\"],[0.3333333333333333,\"#9c179e\"],[0.4444444444444444,\"#bd3786\"],[0.5555555555555556,\"#d8576b\"],[0.6666666666666666,\"#ed7953\"],[0.7777777777777778,\"#fb9f3a\"],[0.8888888888888888,\"#fdca26\"],[1.0,\"#f0f921\"]],\"type\":\"surface\"}],\"table\":[{\"cells\":{\"fill\":{\"color\":\"#EBF0F8\"},\"line\":{\"color\":\"white\"}},\"header\":{\"fill\":{\"color\":\"#C8D4E3\"},\"line\":{\"color\":\"white\"}},\"type\":\"table\"}]},\"layout\":{\"annotationdefaults\":{\"arrowcolor\":\"#2a3f5f\",\"arrowhead\":0,\"arrowwidth\":1},\"autotypenumbers\":\"strict\",\"coloraxis\":{\"colorbar\":{\"outlinewidth\":0,\"ticks\":\"\"}},\"colorscale\":{\"diverging\":[[0,\"#8e0152\"],[0.1,\"#c51b7d\"],[0.2,\"#de77ae\"],[0.3,\"#f1b6da\"],[0.4,\"#fde0ef\"],[0.5,\"#f7f7f7\"],[0.6,\"#e6f5d0\"],[0.7,\"#b8e186\"],[0.8,\"#7fbc41\"],[0.9,\"#4d9221\"],[1,\"#276419\"]],\"sequential\":[[0.0,\"#0d0887\"],[0.1111111111111111,\"#46039f\"],[0.2222222222222222,\"#7201a8\"],[0.3333333333333333,\"#9c179e\"],[0.4444444444444444,\"#bd3786\"],[0.5555555555555556,\"#d8576b\"],[0.6666666666666666,\"#ed7953\"],[0.7777777777777778,\"#fb9f3a\"],[0.8888888888888888,\"#fdca26\"],[1.0,\"#f0f921\"]],\"sequentialminus\":[[0.0,\"#0d0887\"],[0.1111111111111111,\"#46039f\"],[0.2222222222222222,\"#7201a8\"],[0.3333333333333333,\"#9c179e\"],[0.4444444444444444,\"#bd3786\"],[0.5555555555555556,\"#d8576b\"],[0.6666666666666666,\"#ed7953\"],[0.7777777777777778,\"#fb9f3a\"],[0.8888888888888888,\"#fdca26\"],[1.0,\"#f0f921\"]]},\"colorway\":[\"#636efa\",\"#EF553B\",\"#00cc96\",\"#ab63fa\",\"#FFA15A\",\"#19d3f3\",\"#FF6692\",\"#B6E880\",\"#FF97FF\",\"#FECB52\"],\"font\":{\"color\":\"#2a3f5f\"},\"geo\":{\"bgcolor\":\"white\",\"lakecolor\":\"white\",\"landcolor\":\"#E5ECF6\",\"showlakes\":true,\"showland\":true,\"subunitcolor\":\"white\"},\"hoverlabel\":{\"align\":\"left\"},\"hovermode\":\"closest\",\"mapbox\":{\"style\":\"light\"},\"paper_bgcolor\":\"white\",\"plot_bgcolor\":\"#E5ECF6\",\"polar\":{\"angularaxis\":{\"gridcolor\":\"white\",\"linecolor\":\"white\",\"ticks\":\"\"},\"bgcolor\":\"#E5ECF6\",\"radialaxis\":{\"gridcolor\":\"white\",\"linecolor\":\"white\",\"ticks\":\"\"}},\"scene\":{\"xaxis\":{\"backgroundcolor\":\"#E5ECF6\",\"gridcolor\":\"white\",\"gridwidth\":2,\"linecolor\":\"white\",\"showbackground\":true,\"ticks\":\"\",\"zerolinecolor\":\"white\"},\"yaxis\":{\"backgroundcolor\":\"#E5ECF6\",\"gridcolor\":\"white\",\"gridwidth\":2,\"linecolor\":\"white\",\"showbackground\":true,\"ticks\":\"\",\"zerolinecolor\":\"white\"},\"zaxis\":{\"backgroundcolor\":\"#E5ECF6\",\"gridcolor\":\"white\",\"gridwidth\":2,\"linecolor\":\"white\",\"showbackground\":true,\"ticks\":\"\",\"zerolinecolor\":\"white\"}},\"shapedefaults\":{\"line\":{\"color\":\"#2a3f5f\"}},\"ternary\":{\"aaxis\":{\"gridcolor\":\"white\",\"linecolor\":\"white\",\"ticks\":\"\"},\"baxis\":{\"gridcolor\":\"white\",\"linecolor\":\"white\",\"ticks\":\"\"},\"bgcolor\":\"#E5ECF6\",\"caxis\":{\"gridcolor\":\"white\",\"linecolor\":\"white\",\"ticks\":\"\"}},\"title\":{\"x\":0.05},\"xaxis\":{\"automargin\":true,\"gridcolor\":\"white\",\"linecolor\":\"white\",\"ticks\":\"\",\"title\":{\"standoff\":15},\"zerolinecolor\":\"white\",\"zerolinewidth\":2},\"yaxis\":{\"automargin\":true,\"gridcolor\":\"white\",\"linecolor\":\"white\",\"ticks\":\"\",\"title\":{\"standoff\":15},\"zerolinecolor\":\"white\",\"zerolinewidth\":2}}},\"title\":{\"text\":\"2D Visualization of Word Vectors\"},\"xaxis\":{\"range\":[-8,8],\"title\":{\"text\":\"PC1\"}},\"yaxis\":{\"range\":[-8,8],\"title\":{\"text\":\"PC2\"}}},                        {\"responsive\": true}                    ).then(function(){\n                            \nvar gd = document.getElementById('dc3020c3-8437-40dd-8af2-365bcc29f6be');\nvar x = new MutationObserver(function (mutations, observer) {{\n        var display = window.getComputedStyle(gd).display;\n        if (!display || display === 'none') {{\n            console.log([gd, 'removed!']);\n            Plotly.purge(gd);\n            observer.disconnect();\n        }}\n}});\n\n// Listen for the removal of the full notebook cells\nvar notebookContainer = gd.closest('#notebook-container');\nif (notebookContainer) {{\n    x.observe(notebookContainer, {childList: true});\n}}\n\n// Listen for the clearing of the current output cell\nvar outputEl = gd.closest('.output');\nif (outputEl) {{\n    x.observe(outputEl, {childList: true});\n}}\n\n                        })                };                });            </script>        </div>"
     },
     "metadata": {},
     "output_type": "display_data"
    }
   ],
   "source": [
    "plot_word_vectors_cade(cade_models_quarterly, test_words_twitter + [target_word_twitter], range=[-8, 8])"
   ],
   "metadata": {
    "collapsed": false
   }
  },
  {
   "cell_type": "code",
   "execution_count": 22,
   "outputs": [
    {
     "name": "stdout",
     "output_type": "stream",
     "text": [
      "All words are contained in the vocabulary\n"
     ]
    }
   ],
   "source": [
    "tppmi_twitter = tppmi_model.get_tppmi(test_words_twitter + [target_word_twitter])"
   ],
   "metadata": {
    "collapsed": false
   }
  },
  {
   "cell_type": "code",
   "execution_count": 23,
   "outputs": [
    {
     "name": "stdout",
     "output_type": "stream",
     "text": [
      "All words are contained in the vocabulary\n"
     ]
    },
    {
     "data": {
      "text/html": "        <script type=\"text/javascript\">\n        window.PlotlyConfig = {MathJaxConfig: 'local'};\n        if (window.MathJax && window.MathJax.Hub && window.MathJax.Hub.Config) {window.MathJax.Hub.Config({SVG: {font: \"STIX-Web\"}});}\n        if (typeof require !== 'undefined') {\n        require.undef(\"plotly\");\n        requirejs.config({\n            paths: {\n                'plotly': ['https://cdn.plot.ly/plotly-2.25.2.min']\n            }\n        });\n        require(['plotly'], function(Plotly) {\n            window._Plotly = Plotly;\n        });\n        }\n        </script>\n        "
     },
     "metadata": {},
     "output_type": "display_data"
    },
    {
     "data": {
      "application/vnd.plotly.v1+json": {
       "data": [
        {
         "marker": {
          "color": "#AB63FA"
         },
         "mode": "markers+text",
         "name": "facebook",
         "showlegend": false,
         "text": [
          "facebook"
         ],
         "textposition": "top center",
         "x": [
          -4.437159674172087
         ],
         "y": [
          -4.75160511966152
         ],
         "type": "scatter"
        },
        {
         "marker": {
          "color": "#AB63FA",
          "size": 10,
          "symbol": "diamond"
         },
         "mode": "markers",
         "showlegend": false,
         "x": [
          -4.437159674172087
         ],
         "y": [
          -4.75160511966152
         ],
         "type": "scatter"
        },
        {
         "marker": {
          "color": "#AB63FA"
         },
         "mode": "markers+text",
         "name": "facebook",
         "showlegend": false,
         "text": [
          "facebook"
         ],
         "textposition": "top center",
         "x": [
          -5.335096799573801
         ],
         "y": [
          -1.9750283770684594
         ],
         "type": "scatter"
        },
        {
         "line": {
          "color": "#AB63FA",
          "width": 1
         },
         "mode": "lines",
         "showlegend": false,
         "x": [
          -4.437159674172087,
          -5.335096799573801
         ],
         "y": [
          -4.75160511966152,
          -1.9750283770684594
         ],
         "type": "scatter"
        },
        {
         "marker": {
          "color": "#AB63FA"
         },
         "mode": "markers+text",
         "name": "facebook",
         "showlegend": false,
         "text": [
          "facebook"
         ],
         "textposition": "top center",
         "x": [
          -4.171638621957383
         ],
         "y": [
          -4.377191223204624
         ],
         "type": "scatter"
        },
        {
         "line": {
          "color": "#AB63FA",
          "width": 1
         },
         "mode": "lines",
         "showlegend": false,
         "x": [
          -5.335096799573801,
          -4.171638621957383
         ],
         "y": [
          -1.9750283770684594,
          -4.377191223204624
         ],
         "type": "scatter"
        },
        {
         "marker": {
          "color": "#AB63FA"
         },
         "mode": "markers+text",
         "name": "facebook",
         "showlegend": false,
         "text": [
          "facebook"
         ],
         "textposition": "top center",
         "x": [
          -4.599444215637428
         ],
         "y": [
          -5.419741869105979
         ],
         "type": "scatter"
        },
        {
         "line": {
          "color": "#AB63FA",
          "width": 1
         },
         "mode": "lines",
         "showlegend": false,
         "x": [
          -4.171638621957383,
          -4.599444215637428
         ],
         "y": [
          -4.377191223204624,
          -5.419741869105979
         ],
         "type": "scatter"
        },
        {
         "marker": {
          "color": "#636EFA"
         },
         "mode": "markers+text",
         "name": "elon",
         "showlegend": false,
         "text": [
          "elon"
         ],
         "textposition": "top center",
         "x": [
          5.28173820281621
         ],
         "y": [
          0.8498771562411355
         ],
         "type": "scatter"
        },
        {
         "marker": {
          "color": "#636EFA",
          "size": 10,
          "symbol": "diamond"
         },
         "mode": "markers",
         "showlegend": false,
         "x": [
          5.28173820281621
         ],
         "y": [
          0.8498771562411355
         ],
         "type": "scatter"
        },
        {
         "marker": {
          "color": "#636EFA"
         },
         "mode": "markers+text",
         "name": "elon",
         "showlegend": false,
         "text": [
          "elon"
         ],
         "textposition": "top center",
         "x": [
          8.936994371397397
         ],
         "y": [
          0.8776311686447423
         ],
         "type": "scatter"
        },
        {
         "line": {
          "color": "#636EFA",
          "width": 1
         },
         "mode": "lines",
         "showlegend": false,
         "x": [
          5.28173820281621,
          8.936994371397397
         ],
         "y": [
          0.8498771562411355,
          0.8776311686447423
         ],
         "type": "scatter"
        },
        {
         "marker": {
          "color": "#636EFA"
         },
         "mode": "markers+text",
         "name": "elon",
         "showlegend": false,
         "text": [
          "elon"
         ],
         "textposition": "top center",
         "x": [
          6.4126307603079065
         ],
         "y": [
          -2.467574278923765
         ],
         "type": "scatter"
        },
        {
         "line": {
          "color": "#636EFA",
          "width": 1
         },
         "mode": "lines",
         "showlegend": false,
         "x": [
          8.936994371397397,
          6.4126307603079065
         ],
         "y": [
          0.8776311686447423,
          -2.467574278923765
         ],
         "type": "scatter"
        },
        {
         "marker": {
          "color": "#636EFA"
         },
         "mode": "markers+text",
         "name": "elon",
         "showlegend": false,
         "text": [
          "elon"
         ],
         "textposition": "top center",
         "x": [
          10.200767514173595
         ],
         "y": [
          -2.94559994374958
         ],
         "type": "scatter"
        },
        {
         "line": {
          "color": "#636EFA",
          "width": 1
         },
         "mode": "lines",
         "showlegend": false,
         "x": [
          6.4126307603079065,
          10.200767514173595
         ],
         "y": [
          -2.467574278923765,
          -2.94559994374958
         ],
         "type": "scatter"
        },
        {
         "marker": {
          "color": "#00CC96"
         },
         "mode": "markers+text",
         "name": "instagram",
         "showlegend": false,
         "text": [
          "instagram"
         ],
         "textposition": "top center",
         "x": [
          -2.1571685314619367
         ],
         "y": [
          4.506391770538091
         ],
         "type": "scatter"
        },
        {
         "marker": {
          "color": "#00CC96",
          "size": 10,
          "symbol": "diamond"
         },
         "mode": "markers",
         "showlegend": false,
         "x": [
          -2.1571685314619367
         ],
         "y": [
          4.506391770538091
         ],
         "type": "scatter"
        },
        {
         "marker": {
          "color": "#00CC96"
         },
         "mode": "markers+text",
         "name": "instagram",
         "showlegend": false,
         "text": [
          "instagram"
         ],
         "textposition": "top center",
         "x": [
          -1.9456658542886187
         ],
         "y": [
          6.471164410666765
         ],
         "type": "scatter"
        },
        {
         "line": {
          "color": "#00CC96",
          "width": 1
         },
         "mode": "lines",
         "showlegend": false,
         "x": [
          -2.1571685314619367,
          -1.9456658542886187
         ],
         "y": [
          4.506391770538091,
          6.471164410666765
         ],
         "type": "scatter"
        },
        {
         "marker": {
          "color": "#00CC96"
         },
         "mode": "markers+text",
         "name": "instagram",
         "showlegend": false,
         "text": [
          "instagram"
         ],
         "textposition": "top center",
         "x": [
          -1.9692425148157333
         ],
         "y": [
          7.951749735096374
         ],
         "type": "scatter"
        },
        {
         "line": {
          "color": "#00CC96",
          "width": 1
         },
         "mode": "lines",
         "showlegend": false,
         "x": [
          -1.9456658542886187,
          -1.9692425148157333
         ],
         "y": [
          6.471164410666765,
          7.951749735096374
         ],
         "type": "scatter"
        },
        {
         "marker": {
          "color": "#00CC96"
         },
         "mode": "markers+text",
         "name": "instagram",
         "showlegend": false,
         "text": [
          "instagram"
         ],
         "textposition": "top center",
         "x": [
          -0.9282819729178525
         ],
         "y": [
          5.8750536555320965
         ],
         "type": "scatter"
        },
        {
         "line": {
          "color": "#00CC96",
          "width": 1
         },
         "mode": "lines",
         "showlegend": false,
         "x": [
          -1.9692425148157333,
          -0.9282819729178525
         ],
         "y": [
          7.951749735096374,
          5.8750536555320965
         ],
         "type": "scatter"
        },
        {
         "marker": {
          "color": "#EF553B"
         },
         "mode": "markers+text",
         "name": "twitter",
         "showlegend": false,
         "text": [
          "twitter"
         ],
         "textposition": "top center",
         "x": [
          -1.4906774525332263
         ],
         "y": [
          -1.6181363440125833
         ],
         "type": "scatter"
        },
        {
         "marker": {
          "color": "#EF553B",
          "size": 10,
          "symbol": "diamond"
         },
         "mode": "markers",
         "showlegend": false,
         "x": [
          -1.4906774525332263
         ],
         "y": [
          -1.6181363440125833
         ],
         "type": "scatter"
        },
        {
         "marker": {
          "color": "#EF553B"
         },
         "mode": "markers+text",
         "name": "twitter",
         "showlegend": false,
         "text": [
          "twitter"
         ],
         "textposition": "top center",
         "x": [
          -2.6610986387055573
         ],
         "y": [
          0.39267139555509323
         ],
         "type": "scatter"
        },
        {
         "line": {
          "color": "#EF553B",
          "width": 1
         },
         "mode": "lines",
         "showlegend": false,
         "x": [
          -1.4906774525332263,
          -2.6610986387055573
         ],
         "y": [
          -1.6181363440125833,
          0.39267139555509323
         ],
         "type": "scatter"
        },
        {
         "marker": {
          "color": "#EF553B"
         },
         "mode": "markers+text",
         "name": "twitter",
         "showlegend": false,
         "text": [
          "twitter"
         ],
         "textposition": "top center",
         "x": [
          -1.3369532832364595
         ],
         "y": [
          -0.9513750692853027
         ],
         "type": "scatter"
        },
        {
         "line": {
          "color": "#EF553B",
          "width": 1
         },
         "mode": "lines",
         "showlegend": false,
         "x": [
          -2.6610986387055573,
          -1.3369532832364595
         ],
         "y": [
          0.39267139555509323,
          -0.9513750692853027
         ],
         "type": "scatter"
        },
        {
         "marker": {
          "color": "#EF553B"
         },
         "mode": "markers+text",
         "name": "twitter",
         "showlegend": false,
         "text": [
          "twitter"
         ],
         "textposition": "top center",
         "x": [
          0.2002967106049842
         ],
         "y": [
          -2.4182870672624874
         ],
         "type": "scatter"
        },
        {
         "line": {
          "color": "#EF553B",
          "width": 1
         },
         "mode": "lines",
         "showlegend": false,
         "x": [
          -1.3369532832364595,
          0.2002967106049842
         ],
         "y": [
          -0.9513750692853027,
          -2.4182870672624874
         ],
         "type": "scatter"
        }
       ],
       "layout": {
        "legend": {
         "x": 1.02,
         "y": 1.0
        },
        "template": {
         "data": {
          "barpolar": [
           {
            "marker": {
             "line": {
              "color": "#E5ECF6",
              "width": 0.5
             },
             "pattern": {
              "fillmode": "overlay",
              "size": 10,
              "solidity": 0.2
             }
            },
            "type": "barpolar"
           }
          ],
          "bar": [
           {
            "error_x": {
             "color": "#2a3f5f"
            },
            "error_y": {
             "color": "#2a3f5f"
            },
            "marker": {
             "line": {
              "color": "#E5ECF6",
              "width": 0.5
             },
             "pattern": {
              "fillmode": "overlay",
              "size": 10,
              "solidity": 0.2
             }
            },
            "type": "bar"
           }
          ],
          "carpet": [
           {
            "aaxis": {
             "endlinecolor": "#2a3f5f",
             "gridcolor": "white",
             "linecolor": "white",
             "minorgridcolor": "white",
             "startlinecolor": "#2a3f5f"
            },
            "baxis": {
             "endlinecolor": "#2a3f5f",
             "gridcolor": "white",
             "linecolor": "white",
             "minorgridcolor": "white",
             "startlinecolor": "#2a3f5f"
            },
            "type": "carpet"
           }
          ],
          "choropleth": [
           {
            "colorbar": {
             "outlinewidth": 0,
             "ticks": ""
            },
            "type": "choropleth"
           }
          ],
          "contourcarpet": [
           {
            "colorbar": {
             "outlinewidth": 0,
             "ticks": ""
            },
            "type": "contourcarpet"
           }
          ],
          "contour": [
           {
            "colorbar": {
             "outlinewidth": 0,
             "ticks": ""
            },
            "colorscale": [
             [
              0.0,
              "#0d0887"
             ],
             [
              0.1111111111111111,
              "#46039f"
             ],
             [
              0.2222222222222222,
              "#7201a8"
             ],
             [
              0.3333333333333333,
              "#9c179e"
             ],
             [
              0.4444444444444444,
              "#bd3786"
             ],
             [
              0.5555555555555556,
              "#d8576b"
             ],
             [
              0.6666666666666666,
              "#ed7953"
             ],
             [
              0.7777777777777778,
              "#fb9f3a"
             ],
             [
              0.8888888888888888,
              "#fdca26"
             ],
             [
              1.0,
              "#f0f921"
             ]
            ],
            "type": "contour"
           }
          ],
          "heatmapgl": [
           {
            "colorbar": {
             "outlinewidth": 0,
             "ticks": ""
            },
            "colorscale": [
             [
              0.0,
              "#0d0887"
             ],
             [
              0.1111111111111111,
              "#46039f"
             ],
             [
              0.2222222222222222,
              "#7201a8"
             ],
             [
              0.3333333333333333,
              "#9c179e"
             ],
             [
              0.4444444444444444,
              "#bd3786"
             ],
             [
              0.5555555555555556,
              "#d8576b"
             ],
             [
              0.6666666666666666,
              "#ed7953"
             ],
             [
              0.7777777777777778,
              "#fb9f3a"
             ],
             [
              0.8888888888888888,
              "#fdca26"
             ],
             [
              1.0,
              "#f0f921"
             ]
            ],
            "type": "heatmapgl"
           }
          ],
          "heatmap": [
           {
            "colorbar": {
             "outlinewidth": 0,
             "ticks": ""
            },
            "colorscale": [
             [
              0.0,
              "#0d0887"
             ],
             [
              0.1111111111111111,
              "#46039f"
             ],
             [
              0.2222222222222222,
              "#7201a8"
             ],
             [
              0.3333333333333333,
              "#9c179e"
             ],
             [
              0.4444444444444444,
              "#bd3786"
             ],
             [
              0.5555555555555556,
              "#d8576b"
             ],
             [
              0.6666666666666666,
              "#ed7953"
             ],
             [
              0.7777777777777778,
              "#fb9f3a"
             ],
             [
              0.8888888888888888,
              "#fdca26"
             ],
             [
              1.0,
              "#f0f921"
             ]
            ],
            "type": "heatmap"
           }
          ],
          "histogram2dcontour": [
           {
            "colorbar": {
             "outlinewidth": 0,
             "ticks": ""
            },
            "colorscale": [
             [
              0.0,
              "#0d0887"
             ],
             [
              0.1111111111111111,
              "#46039f"
             ],
             [
              0.2222222222222222,
              "#7201a8"
             ],
             [
              0.3333333333333333,
              "#9c179e"
             ],
             [
              0.4444444444444444,
              "#bd3786"
             ],
             [
              0.5555555555555556,
              "#d8576b"
             ],
             [
              0.6666666666666666,
              "#ed7953"
             ],
             [
              0.7777777777777778,
              "#fb9f3a"
             ],
             [
              0.8888888888888888,
              "#fdca26"
             ],
             [
              1.0,
              "#f0f921"
             ]
            ],
            "type": "histogram2dcontour"
           }
          ],
          "histogram2d": [
           {
            "colorbar": {
             "outlinewidth": 0,
             "ticks": ""
            },
            "colorscale": [
             [
              0.0,
              "#0d0887"
             ],
             [
              0.1111111111111111,
              "#46039f"
             ],
             [
              0.2222222222222222,
              "#7201a8"
             ],
             [
              0.3333333333333333,
              "#9c179e"
             ],
             [
              0.4444444444444444,
              "#bd3786"
             ],
             [
              0.5555555555555556,
              "#d8576b"
             ],
             [
              0.6666666666666666,
              "#ed7953"
             ],
             [
              0.7777777777777778,
              "#fb9f3a"
             ],
             [
              0.8888888888888888,
              "#fdca26"
             ],
             [
              1.0,
              "#f0f921"
             ]
            ],
            "type": "histogram2d"
           }
          ],
          "histogram": [
           {
            "marker": {
             "pattern": {
              "fillmode": "overlay",
              "size": 10,
              "solidity": 0.2
             }
            },
            "type": "histogram"
           }
          ],
          "mesh3d": [
           {
            "colorbar": {
             "outlinewidth": 0,
             "ticks": ""
            },
            "type": "mesh3d"
           }
          ],
          "parcoords": [
           {
            "line": {
             "colorbar": {
              "outlinewidth": 0,
              "ticks": ""
             }
            },
            "type": "parcoords"
           }
          ],
          "pie": [
           {
            "automargin": true,
            "type": "pie"
           }
          ],
          "scatter3d": [
           {
            "line": {
             "colorbar": {
              "outlinewidth": 0,
              "ticks": ""
             }
            },
            "marker": {
             "colorbar": {
              "outlinewidth": 0,
              "ticks": ""
             }
            },
            "type": "scatter3d"
           }
          ],
          "scattercarpet": [
           {
            "marker": {
             "colorbar": {
              "outlinewidth": 0,
              "ticks": ""
             }
            },
            "type": "scattercarpet"
           }
          ],
          "scattergeo": [
           {
            "marker": {
             "colorbar": {
              "outlinewidth": 0,
              "ticks": ""
             }
            },
            "type": "scattergeo"
           }
          ],
          "scattergl": [
           {
            "marker": {
             "colorbar": {
              "outlinewidth": 0,
              "ticks": ""
             }
            },
            "type": "scattergl"
           }
          ],
          "scattermapbox": [
           {
            "marker": {
             "colorbar": {
              "outlinewidth": 0,
              "ticks": ""
             }
            },
            "type": "scattermapbox"
           }
          ],
          "scatterpolargl": [
           {
            "marker": {
             "colorbar": {
              "outlinewidth": 0,
              "ticks": ""
             }
            },
            "type": "scatterpolargl"
           }
          ],
          "scatterpolar": [
           {
            "marker": {
             "colorbar": {
              "outlinewidth": 0,
              "ticks": ""
             }
            },
            "type": "scatterpolar"
           }
          ],
          "scatter": [
           {
            "fillpattern": {
             "fillmode": "overlay",
             "size": 10,
             "solidity": 0.2
            },
            "type": "scatter"
           }
          ],
          "scatterternary": [
           {
            "marker": {
             "colorbar": {
              "outlinewidth": 0,
              "ticks": ""
             }
            },
            "type": "scatterternary"
           }
          ],
          "surface": [
           {
            "colorbar": {
             "outlinewidth": 0,
             "ticks": ""
            },
            "colorscale": [
             [
              0.0,
              "#0d0887"
             ],
             [
              0.1111111111111111,
              "#46039f"
             ],
             [
              0.2222222222222222,
              "#7201a8"
             ],
             [
              0.3333333333333333,
              "#9c179e"
             ],
             [
              0.4444444444444444,
              "#bd3786"
             ],
             [
              0.5555555555555556,
              "#d8576b"
             ],
             [
              0.6666666666666666,
              "#ed7953"
             ],
             [
              0.7777777777777778,
              "#fb9f3a"
             ],
             [
              0.8888888888888888,
              "#fdca26"
             ],
             [
              1.0,
              "#f0f921"
             ]
            ],
            "type": "surface"
           }
          ],
          "table": [
           {
            "cells": {
             "fill": {
              "color": "#EBF0F8"
             },
             "line": {
              "color": "white"
             }
            },
            "header": {
             "fill": {
              "color": "#C8D4E3"
             },
             "line": {
              "color": "white"
             }
            },
            "type": "table"
           }
          ]
         },
         "layout": {
          "annotationdefaults": {
           "arrowcolor": "#2a3f5f",
           "arrowhead": 0,
           "arrowwidth": 1
          },
          "autotypenumbers": "strict",
          "coloraxis": {
           "colorbar": {
            "outlinewidth": 0,
            "ticks": ""
           }
          },
          "colorscale": {
           "diverging": [
            [
             0,
             "#8e0152"
            ],
            [
             0.1,
             "#c51b7d"
            ],
            [
             0.2,
             "#de77ae"
            ],
            [
             0.3,
             "#f1b6da"
            ],
            [
             0.4,
             "#fde0ef"
            ],
            [
             0.5,
             "#f7f7f7"
            ],
            [
             0.6,
             "#e6f5d0"
            ],
            [
             0.7,
             "#b8e186"
            ],
            [
             0.8,
             "#7fbc41"
            ],
            [
             0.9,
             "#4d9221"
            ],
            [
             1,
             "#276419"
            ]
           ],
           "sequential": [
            [
             0.0,
             "#0d0887"
            ],
            [
             0.1111111111111111,
             "#46039f"
            ],
            [
             0.2222222222222222,
             "#7201a8"
            ],
            [
             0.3333333333333333,
             "#9c179e"
            ],
            [
             0.4444444444444444,
             "#bd3786"
            ],
            [
             0.5555555555555556,
             "#d8576b"
            ],
            [
             0.6666666666666666,
             "#ed7953"
            ],
            [
             0.7777777777777778,
             "#fb9f3a"
            ],
            [
             0.8888888888888888,
             "#fdca26"
            ],
            [
             1.0,
             "#f0f921"
            ]
           ],
           "sequentialminus": [
            [
             0.0,
             "#0d0887"
            ],
            [
             0.1111111111111111,
             "#46039f"
            ],
            [
             0.2222222222222222,
             "#7201a8"
            ],
            [
             0.3333333333333333,
             "#9c179e"
            ],
            [
             0.4444444444444444,
             "#bd3786"
            ],
            [
             0.5555555555555556,
             "#d8576b"
            ],
            [
             0.6666666666666666,
             "#ed7953"
            ],
            [
             0.7777777777777778,
             "#fb9f3a"
            ],
            [
             0.8888888888888888,
             "#fdca26"
            ],
            [
             1.0,
             "#f0f921"
            ]
           ]
          },
          "colorway": [
           "#636efa",
           "#EF553B",
           "#00cc96",
           "#ab63fa",
           "#FFA15A",
           "#19d3f3",
           "#FF6692",
           "#B6E880",
           "#FF97FF",
           "#FECB52"
          ],
          "font": {
           "color": "#2a3f5f"
          },
          "geo": {
           "bgcolor": "white",
           "lakecolor": "white",
           "landcolor": "#E5ECF6",
           "showlakes": true,
           "showland": true,
           "subunitcolor": "white"
          },
          "hoverlabel": {
           "align": "left"
          },
          "hovermode": "closest",
          "mapbox": {
           "style": "light"
          },
          "paper_bgcolor": "white",
          "plot_bgcolor": "#E5ECF6",
          "polar": {
           "angularaxis": {
            "gridcolor": "white",
            "linecolor": "white",
            "ticks": ""
           },
           "bgcolor": "#E5ECF6",
           "radialaxis": {
            "gridcolor": "white",
            "linecolor": "white",
            "ticks": ""
           }
          },
          "scene": {
           "xaxis": {
            "backgroundcolor": "#E5ECF6",
            "gridcolor": "white",
            "gridwidth": 2,
            "linecolor": "white",
            "showbackground": true,
            "ticks": "",
            "zerolinecolor": "white"
           },
           "yaxis": {
            "backgroundcolor": "#E5ECF6",
            "gridcolor": "white",
            "gridwidth": 2,
            "linecolor": "white",
            "showbackground": true,
            "ticks": "",
            "zerolinecolor": "white"
           },
           "zaxis": {
            "backgroundcolor": "#E5ECF6",
            "gridcolor": "white",
            "gridwidth": 2,
            "linecolor": "white",
            "showbackground": true,
            "ticks": "",
            "zerolinecolor": "white"
           }
          },
          "shapedefaults": {
           "line": {
            "color": "#2a3f5f"
           }
          },
          "ternary": {
           "aaxis": {
            "gridcolor": "white",
            "linecolor": "white",
            "ticks": ""
           },
           "baxis": {
            "gridcolor": "white",
            "linecolor": "white",
            "ticks": ""
           },
           "bgcolor": "#E5ECF6",
           "caxis": {
            "gridcolor": "white",
            "linecolor": "white",
            "ticks": ""
           }
          },
          "title": {
           "x": 0.05
          },
          "xaxis": {
           "automargin": true,
           "gridcolor": "white",
           "linecolor": "white",
           "ticks": "",
           "title": {
            "standoff": 15
           },
           "zerolinecolor": "white",
           "zerolinewidth": 2
          },
          "yaxis": {
           "automargin": true,
           "gridcolor": "white",
           "linecolor": "white",
           "ticks": "",
           "title": {
            "standoff": 15
           },
           "zerolinecolor": "white",
           "zerolinewidth": 2
          }
         }
        },
        "title": {
         "text": "2D Visualization of Word Vectors"
        },
        "xaxis": {
         "range": [
          -10,
          15
         ],
         "title": {
          "text": "PC1"
         }
        },
        "yaxis": {
         "range": [
          -10,
          15
         ],
         "title": {
          "text": "PC2"
         }
        }
       },
       "config": {
        "showLink": false,
        "linkText": "Export to plot.ly",
        "plotlyServerURL": "https://plot.ly"
       }
      },
      "text/html": "<div>                            <div id=\"ddd7108a-38ef-4aa7-89da-1f97b73c902d\" class=\"plotly-graph-div\" style=\"height:525px; width:100%;\"></div>            <script type=\"text/javascript\">                require([\"plotly\"], function(Plotly) {                    window.PLOTLYENV=window.PLOTLYENV || {};                                    if (document.getElementById(\"ddd7108a-38ef-4aa7-89da-1f97b73c902d\")) {                    Plotly.newPlot(                        \"ddd7108a-38ef-4aa7-89da-1f97b73c902d\",                        [{\"marker\":{\"color\":\"#AB63FA\"},\"mode\":\"markers+text\",\"name\":\"facebook\",\"showlegend\":false,\"text\":[\"facebook\"],\"textposition\":\"top center\",\"x\":[-4.437159674172087],\"y\":[-4.75160511966152],\"type\":\"scatter\"},{\"marker\":{\"color\":\"#AB63FA\",\"size\":10,\"symbol\":\"diamond\"},\"mode\":\"markers\",\"showlegend\":false,\"x\":[-4.437159674172087],\"y\":[-4.75160511966152],\"type\":\"scatter\"},{\"marker\":{\"color\":\"#AB63FA\"},\"mode\":\"markers+text\",\"name\":\"facebook\",\"showlegend\":false,\"text\":[\"facebook\"],\"textposition\":\"top center\",\"x\":[-5.335096799573801],\"y\":[-1.9750283770684594],\"type\":\"scatter\"},{\"line\":{\"color\":\"#AB63FA\",\"width\":1},\"mode\":\"lines\",\"showlegend\":false,\"x\":[-4.437159674172087,-5.335096799573801],\"y\":[-4.75160511966152,-1.9750283770684594],\"type\":\"scatter\"},{\"marker\":{\"color\":\"#AB63FA\"},\"mode\":\"markers+text\",\"name\":\"facebook\",\"showlegend\":false,\"text\":[\"facebook\"],\"textposition\":\"top center\",\"x\":[-4.171638621957383],\"y\":[-4.377191223204624],\"type\":\"scatter\"},{\"line\":{\"color\":\"#AB63FA\",\"width\":1},\"mode\":\"lines\",\"showlegend\":false,\"x\":[-5.335096799573801,-4.171638621957383],\"y\":[-1.9750283770684594,-4.377191223204624],\"type\":\"scatter\"},{\"marker\":{\"color\":\"#AB63FA\"},\"mode\":\"markers+text\",\"name\":\"facebook\",\"showlegend\":false,\"text\":[\"facebook\"],\"textposition\":\"top center\",\"x\":[-4.599444215637428],\"y\":[-5.419741869105979],\"type\":\"scatter\"},{\"line\":{\"color\":\"#AB63FA\",\"width\":1},\"mode\":\"lines\",\"showlegend\":false,\"x\":[-4.171638621957383,-4.599444215637428],\"y\":[-4.377191223204624,-5.419741869105979],\"type\":\"scatter\"},{\"marker\":{\"color\":\"#636EFA\"},\"mode\":\"markers+text\",\"name\":\"elon\",\"showlegend\":false,\"text\":[\"elon\"],\"textposition\":\"top center\",\"x\":[5.28173820281621],\"y\":[0.8498771562411355],\"type\":\"scatter\"},{\"marker\":{\"color\":\"#636EFA\",\"size\":10,\"symbol\":\"diamond\"},\"mode\":\"markers\",\"showlegend\":false,\"x\":[5.28173820281621],\"y\":[0.8498771562411355],\"type\":\"scatter\"},{\"marker\":{\"color\":\"#636EFA\"},\"mode\":\"markers+text\",\"name\":\"elon\",\"showlegend\":false,\"text\":[\"elon\"],\"textposition\":\"top center\",\"x\":[8.936994371397397],\"y\":[0.8776311686447423],\"type\":\"scatter\"},{\"line\":{\"color\":\"#636EFA\",\"width\":1},\"mode\":\"lines\",\"showlegend\":false,\"x\":[5.28173820281621,8.936994371397397],\"y\":[0.8498771562411355,0.8776311686447423],\"type\":\"scatter\"},{\"marker\":{\"color\":\"#636EFA\"},\"mode\":\"markers+text\",\"name\":\"elon\",\"showlegend\":false,\"text\":[\"elon\"],\"textposition\":\"top center\",\"x\":[6.4126307603079065],\"y\":[-2.467574278923765],\"type\":\"scatter\"},{\"line\":{\"color\":\"#636EFA\",\"width\":1},\"mode\":\"lines\",\"showlegend\":false,\"x\":[8.936994371397397,6.4126307603079065],\"y\":[0.8776311686447423,-2.467574278923765],\"type\":\"scatter\"},{\"marker\":{\"color\":\"#636EFA\"},\"mode\":\"markers+text\",\"name\":\"elon\",\"showlegend\":false,\"text\":[\"elon\"],\"textposition\":\"top center\",\"x\":[10.200767514173595],\"y\":[-2.94559994374958],\"type\":\"scatter\"},{\"line\":{\"color\":\"#636EFA\",\"width\":1},\"mode\":\"lines\",\"showlegend\":false,\"x\":[6.4126307603079065,10.200767514173595],\"y\":[-2.467574278923765,-2.94559994374958],\"type\":\"scatter\"},{\"marker\":{\"color\":\"#00CC96\"},\"mode\":\"markers+text\",\"name\":\"instagram\",\"showlegend\":false,\"text\":[\"instagram\"],\"textposition\":\"top center\",\"x\":[-2.1571685314619367],\"y\":[4.506391770538091],\"type\":\"scatter\"},{\"marker\":{\"color\":\"#00CC96\",\"size\":10,\"symbol\":\"diamond\"},\"mode\":\"markers\",\"showlegend\":false,\"x\":[-2.1571685314619367],\"y\":[4.506391770538091],\"type\":\"scatter\"},{\"marker\":{\"color\":\"#00CC96\"},\"mode\":\"markers+text\",\"name\":\"instagram\",\"showlegend\":false,\"text\":[\"instagram\"],\"textposition\":\"top center\",\"x\":[-1.9456658542886187],\"y\":[6.471164410666765],\"type\":\"scatter\"},{\"line\":{\"color\":\"#00CC96\",\"width\":1},\"mode\":\"lines\",\"showlegend\":false,\"x\":[-2.1571685314619367,-1.9456658542886187],\"y\":[4.506391770538091,6.471164410666765],\"type\":\"scatter\"},{\"marker\":{\"color\":\"#00CC96\"},\"mode\":\"markers+text\",\"name\":\"instagram\",\"showlegend\":false,\"text\":[\"instagram\"],\"textposition\":\"top center\",\"x\":[-1.9692425148157333],\"y\":[7.951749735096374],\"type\":\"scatter\"},{\"line\":{\"color\":\"#00CC96\",\"width\":1},\"mode\":\"lines\",\"showlegend\":false,\"x\":[-1.9456658542886187,-1.9692425148157333],\"y\":[6.471164410666765,7.951749735096374],\"type\":\"scatter\"},{\"marker\":{\"color\":\"#00CC96\"},\"mode\":\"markers+text\",\"name\":\"instagram\",\"showlegend\":false,\"text\":[\"instagram\"],\"textposition\":\"top center\",\"x\":[-0.9282819729178525],\"y\":[5.8750536555320965],\"type\":\"scatter\"},{\"line\":{\"color\":\"#00CC96\",\"width\":1},\"mode\":\"lines\",\"showlegend\":false,\"x\":[-1.9692425148157333,-0.9282819729178525],\"y\":[7.951749735096374,5.8750536555320965],\"type\":\"scatter\"},{\"marker\":{\"color\":\"#EF553B\"},\"mode\":\"markers+text\",\"name\":\"twitter\",\"showlegend\":false,\"text\":[\"twitter\"],\"textposition\":\"top center\",\"x\":[-1.4906774525332263],\"y\":[-1.6181363440125833],\"type\":\"scatter\"},{\"marker\":{\"color\":\"#EF553B\",\"size\":10,\"symbol\":\"diamond\"},\"mode\":\"markers\",\"showlegend\":false,\"x\":[-1.4906774525332263],\"y\":[-1.6181363440125833],\"type\":\"scatter\"},{\"marker\":{\"color\":\"#EF553B\"},\"mode\":\"markers+text\",\"name\":\"twitter\",\"showlegend\":false,\"text\":[\"twitter\"],\"textposition\":\"top center\",\"x\":[-2.6610986387055573],\"y\":[0.39267139555509323],\"type\":\"scatter\"},{\"line\":{\"color\":\"#EF553B\",\"width\":1},\"mode\":\"lines\",\"showlegend\":false,\"x\":[-1.4906774525332263,-2.6610986387055573],\"y\":[-1.6181363440125833,0.39267139555509323],\"type\":\"scatter\"},{\"marker\":{\"color\":\"#EF553B\"},\"mode\":\"markers+text\",\"name\":\"twitter\",\"showlegend\":false,\"text\":[\"twitter\"],\"textposition\":\"top center\",\"x\":[-1.3369532832364595],\"y\":[-0.9513750692853027],\"type\":\"scatter\"},{\"line\":{\"color\":\"#EF553B\",\"width\":1},\"mode\":\"lines\",\"showlegend\":false,\"x\":[-2.6610986387055573,-1.3369532832364595],\"y\":[0.39267139555509323,-0.9513750692853027],\"type\":\"scatter\"},{\"marker\":{\"color\":\"#EF553B\"},\"mode\":\"markers+text\",\"name\":\"twitter\",\"showlegend\":false,\"text\":[\"twitter\"],\"textposition\":\"top center\",\"x\":[0.2002967106049842],\"y\":[-2.4182870672624874],\"type\":\"scatter\"},{\"line\":{\"color\":\"#EF553B\",\"width\":1},\"mode\":\"lines\",\"showlegend\":false,\"x\":[-1.3369532832364595,0.2002967106049842],\"y\":[-0.9513750692853027,-2.4182870672624874],\"type\":\"scatter\"}],                        {\"legend\":{\"x\":1.02,\"y\":1.0},\"template\":{\"data\":{\"barpolar\":[{\"marker\":{\"line\":{\"color\":\"#E5ECF6\",\"width\":0.5},\"pattern\":{\"fillmode\":\"overlay\",\"size\":10,\"solidity\":0.2}},\"type\":\"barpolar\"}],\"bar\":[{\"error_x\":{\"color\":\"#2a3f5f\"},\"error_y\":{\"color\":\"#2a3f5f\"},\"marker\":{\"line\":{\"color\":\"#E5ECF6\",\"width\":0.5},\"pattern\":{\"fillmode\":\"overlay\",\"size\":10,\"solidity\":0.2}},\"type\":\"bar\"}],\"carpet\":[{\"aaxis\":{\"endlinecolor\":\"#2a3f5f\",\"gridcolor\":\"white\",\"linecolor\":\"white\",\"minorgridcolor\":\"white\",\"startlinecolor\":\"#2a3f5f\"},\"baxis\":{\"endlinecolor\":\"#2a3f5f\",\"gridcolor\":\"white\",\"linecolor\":\"white\",\"minorgridcolor\":\"white\",\"startlinecolor\":\"#2a3f5f\"},\"type\":\"carpet\"}],\"choropleth\":[{\"colorbar\":{\"outlinewidth\":0,\"ticks\":\"\"},\"type\":\"choropleth\"}],\"contourcarpet\":[{\"colorbar\":{\"outlinewidth\":0,\"ticks\":\"\"},\"type\":\"contourcarpet\"}],\"contour\":[{\"colorbar\":{\"outlinewidth\":0,\"ticks\":\"\"},\"colorscale\":[[0.0,\"#0d0887\"],[0.1111111111111111,\"#46039f\"],[0.2222222222222222,\"#7201a8\"],[0.3333333333333333,\"#9c179e\"],[0.4444444444444444,\"#bd3786\"],[0.5555555555555556,\"#d8576b\"],[0.6666666666666666,\"#ed7953\"],[0.7777777777777778,\"#fb9f3a\"],[0.8888888888888888,\"#fdca26\"],[1.0,\"#f0f921\"]],\"type\":\"contour\"}],\"heatmapgl\":[{\"colorbar\":{\"outlinewidth\":0,\"ticks\":\"\"},\"colorscale\":[[0.0,\"#0d0887\"],[0.1111111111111111,\"#46039f\"],[0.2222222222222222,\"#7201a8\"],[0.3333333333333333,\"#9c179e\"],[0.4444444444444444,\"#bd3786\"],[0.5555555555555556,\"#d8576b\"],[0.6666666666666666,\"#ed7953\"],[0.7777777777777778,\"#fb9f3a\"],[0.8888888888888888,\"#fdca26\"],[1.0,\"#f0f921\"]],\"type\":\"heatmapgl\"}],\"heatmap\":[{\"colorbar\":{\"outlinewidth\":0,\"ticks\":\"\"},\"colorscale\":[[0.0,\"#0d0887\"],[0.1111111111111111,\"#46039f\"],[0.2222222222222222,\"#7201a8\"],[0.3333333333333333,\"#9c179e\"],[0.4444444444444444,\"#bd3786\"],[0.5555555555555556,\"#d8576b\"],[0.6666666666666666,\"#ed7953\"],[0.7777777777777778,\"#fb9f3a\"],[0.8888888888888888,\"#fdca26\"],[1.0,\"#f0f921\"]],\"type\":\"heatmap\"}],\"histogram2dcontour\":[{\"colorbar\":{\"outlinewidth\":0,\"ticks\":\"\"},\"colorscale\":[[0.0,\"#0d0887\"],[0.1111111111111111,\"#46039f\"],[0.2222222222222222,\"#7201a8\"],[0.3333333333333333,\"#9c179e\"],[0.4444444444444444,\"#bd3786\"],[0.5555555555555556,\"#d8576b\"],[0.6666666666666666,\"#ed7953\"],[0.7777777777777778,\"#fb9f3a\"],[0.8888888888888888,\"#fdca26\"],[1.0,\"#f0f921\"]],\"type\":\"histogram2dcontour\"}],\"histogram2d\":[{\"colorbar\":{\"outlinewidth\":0,\"ticks\":\"\"},\"colorscale\":[[0.0,\"#0d0887\"],[0.1111111111111111,\"#46039f\"],[0.2222222222222222,\"#7201a8\"],[0.3333333333333333,\"#9c179e\"],[0.4444444444444444,\"#bd3786\"],[0.5555555555555556,\"#d8576b\"],[0.6666666666666666,\"#ed7953\"],[0.7777777777777778,\"#fb9f3a\"],[0.8888888888888888,\"#fdca26\"],[1.0,\"#f0f921\"]],\"type\":\"histogram2d\"}],\"histogram\":[{\"marker\":{\"pattern\":{\"fillmode\":\"overlay\",\"size\":10,\"solidity\":0.2}},\"type\":\"histogram\"}],\"mesh3d\":[{\"colorbar\":{\"outlinewidth\":0,\"ticks\":\"\"},\"type\":\"mesh3d\"}],\"parcoords\":[{\"line\":{\"colorbar\":{\"outlinewidth\":0,\"ticks\":\"\"}},\"type\":\"parcoords\"}],\"pie\":[{\"automargin\":true,\"type\":\"pie\"}],\"scatter3d\":[{\"line\":{\"colorbar\":{\"outlinewidth\":0,\"ticks\":\"\"}},\"marker\":{\"colorbar\":{\"outlinewidth\":0,\"ticks\":\"\"}},\"type\":\"scatter3d\"}],\"scattercarpet\":[{\"marker\":{\"colorbar\":{\"outlinewidth\":0,\"ticks\":\"\"}},\"type\":\"scattercarpet\"}],\"scattergeo\":[{\"marker\":{\"colorbar\":{\"outlinewidth\":0,\"ticks\":\"\"}},\"type\":\"scattergeo\"}],\"scattergl\":[{\"marker\":{\"colorbar\":{\"outlinewidth\":0,\"ticks\":\"\"}},\"type\":\"scattergl\"}],\"scattermapbox\":[{\"marker\":{\"colorbar\":{\"outlinewidth\":0,\"ticks\":\"\"}},\"type\":\"scattermapbox\"}],\"scatterpolargl\":[{\"marker\":{\"colorbar\":{\"outlinewidth\":0,\"ticks\":\"\"}},\"type\":\"scatterpolargl\"}],\"scatterpolar\":[{\"marker\":{\"colorbar\":{\"outlinewidth\":0,\"ticks\":\"\"}},\"type\":\"scatterpolar\"}],\"scatter\":[{\"fillpattern\":{\"fillmode\":\"overlay\",\"size\":10,\"solidity\":0.2},\"type\":\"scatter\"}],\"scatterternary\":[{\"marker\":{\"colorbar\":{\"outlinewidth\":0,\"ticks\":\"\"}},\"type\":\"scatterternary\"}],\"surface\":[{\"colorbar\":{\"outlinewidth\":0,\"ticks\":\"\"},\"colorscale\":[[0.0,\"#0d0887\"],[0.1111111111111111,\"#46039f\"],[0.2222222222222222,\"#7201a8\"],[0.3333333333333333,\"#9c179e\"],[0.4444444444444444,\"#bd3786\"],[0.5555555555555556,\"#d8576b\"],[0.6666666666666666,\"#ed7953\"],[0.7777777777777778,\"#fb9f3a\"],[0.8888888888888888,\"#fdca26\"],[1.0,\"#f0f921\"]],\"type\":\"surface\"}],\"table\":[{\"cells\":{\"fill\":{\"color\":\"#EBF0F8\"},\"line\":{\"color\":\"white\"}},\"header\":{\"fill\":{\"color\":\"#C8D4E3\"},\"line\":{\"color\":\"white\"}},\"type\":\"table\"}]},\"layout\":{\"annotationdefaults\":{\"arrowcolor\":\"#2a3f5f\",\"arrowhead\":0,\"arrowwidth\":1},\"autotypenumbers\":\"strict\",\"coloraxis\":{\"colorbar\":{\"outlinewidth\":0,\"ticks\":\"\"}},\"colorscale\":{\"diverging\":[[0,\"#8e0152\"],[0.1,\"#c51b7d\"],[0.2,\"#de77ae\"],[0.3,\"#f1b6da\"],[0.4,\"#fde0ef\"],[0.5,\"#f7f7f7\"],[0.6,\"#e6f5d0\"],[0.7,\"#b8e186\"],[0.8,\"#7fbc41\"],[0.9,\"#4d9221\"],[1,\"#276419\"]],\"sequential\":[[0.0,\"#0d0887\"],[0.1111111111111111,\"#46039f\"],[0.2222222222222222,\"#7201a8\"],[0.3333333333333333,\"#9c179e\"],[0.4444444444444444,\"#bd3786\"],[0.5555555555555556,\"#d8576b\"],[0.6666666666666666,\"#ed7953\"],[0.7777777777777778,\"#fb9f3a\"],[0.8888888888888888,\"#fdca26\"],[1.0,\"#f0f921\"]],\"sequentialminus\":[[0.0,\"#0d0887\"],[0.1111111111111111,\"#46039f\"],[0.2222222222222222,\"#7201a8\"],[0.3333333333333333,\"#9c179e\"],[0.4444444444444444,\"#bd3786\"],[0.5555555555555556,\"#d8576b\"],[0.6666666666666666,\"#ed7953\"],[0.7777777777777778,\"#fb9f3a\"],[0.8888888888888888,\"#fdca26\"],[1.0,\"#f0f921\"]]},\"colorway\":[\"#636efa\",\"#EF553B\",\"#00cc96\",\"#ab63fa\",\"#FFA15A\",\"#19d3f3\",\"#FF6692\",\"#B6E880\",\"#FF97FF\",\"#FECB52\"],\"font\":{\"color\":\"#2a3f5f\"},\"geo\":{\"bgcolor\":\"white\",\"lakecolor\":\"white\",\"landcolor\":\"#E5ECF6\",\"showlakes\":true,\"showland\":true,\"subunitcolor\":\"white\"},\"hoverlabel\":{\"align\":\"left\"},\"hovermode\":\"closest\",\"mapbox\":{\"style\":\"light\"},\"paper_bgcolor\":\"white\",\"plot_bgcolor\":\"#E5ECF6\",\"polar\":{\"angularaxis\":{\"gridcolor\":\"white\",\"linecolor\":\"white\",\"ticks\":\"\"},\"bgcolor\":\"#E5ECF6\",\"radialaxis\":{\"gridcolor\":\"white\",\"linecolor\":\"white\",\"ticks\":\"\"}},\"scene\":{\"xaxis\":{\"backgroundcolor\":\"#E5ECF6\",\"gridcolor\":\"white\",\"gridwidth\":2,\"linecolor\":\"white\",\"showbackground\":true,\"ticks\":\"\",\"zerolinecolor\":\"white\"},\"yaxis\":{\"backgroundcolor\":\"#E5ECF6\",\"gridcolor\":\"white\",\"gridwidth\":2,\"linecolor\":\"white\",\"showbackground\":true,\"ticks\":\"\",\"zerolinecolor\":\"white\"},\"zaxis\":{\"backgroundcolor\":\"#E5ECF6\",\"gridcolor\":\"white\",\"gridwidth\":2,\"linecolor\":\"white\",\"showbackground\":true,\"ticks\":\"\",\"zerolinecolor\":\"white\"}},\"shapedefaults\":{\"line\":{\"color\":\"#2a3f5f\"}},\"ternary\":{\"aaxis\":{\"gridcolor\":\"white\",\"linecolor\":\"white\",\"ticks\":\"\"},\"baxis\":{\"gridcolor\":\"white\",\"linecolor\":\"white\",\"ticks\":\"\"},\"bgcolor\":\"#E5ECF6\",\"caxis\":{\"gridcolor\":\"white\",\"linecolor\":\"white\",\"ticks\":\"\"}},\"title\":{\"x\":0.05},\"xaxis\":{\"automargin\":true,\"gridcolor\":\"white\",\"linecolor\":\"white\",\"ticks\":\"\",\"title\":{\"standoff\":15},\"zerolinecolor\":\"white\",\"zerolinewidth\":2},\"yaxis\":{\"automargin\":true,\"gridcolor\":\"white\",\"linecolor\":\"white\",\"ticks\":\"\",\"title\":{\"standoff\":15},\"zerolinecolor\":\"white\",\"zerolinewidth\":2}}},\"title\":{\"text\":\"2D Visualization of Word Vectors\"},\"xaxis\":{\"range\":[-10,15],\"title\":{\"text\":\"PC1\"}},\"yaxis\":{\"range\":[-10,15],\"title\":{\"text\":\"PC2\"}}},                        {\"responsive\": true}                    ).then(function(){\n                            \nvar gd = document.getElementById('ddd7108a-38ef-4aa7-89da-1f97b73c902d');\nvar x = new MutationObserver(function (mutations, observer) {{\n        var display = window.getComputedStyle(gd).display;\n        if (!display || display === 'none') {{\n            console.log([gd, 'removed!']);\n            Plotly.purge(gd);\n            observer.disconnect();\n        }}\n}});\n\n// Listen for the removal of the full notebook cells\nvar notebookContainer = gd.closest('#notebook-container');\nif (notebookContainer) {{\n    x.observe(notebookContainer, {childList: true});\n}}\n\n// Listen for the clearing of the current output cell\nvar outputEl = gd.closest('.output');\nif (outputEl) {{\n    x.observe(outputEl, {childList: true});\n}}\n\n                        })                };                });            </script>        </div>"
     },
     "metadata": {},
     "output_type": "display_data"
    }
   ],
   "source": [
    "plot_word_vectors_tppmi(tppmi_model, test_words_twitter + [target_word_twitter], range=[-10, 15])"
   ],
   "metadata": {
    "collapsed": false
   }
  },
  {
   "cell_type": "markdown",
   "source": [
    "## President"
   ],
   "metadata": {
    "collapsed": false
   }
  },
  {
   "cell_type": "markdown",
   "source": [
    "### Overview"
   ],
   "metadata": {
    "collapsed": false
   }
  },
  {
   "cell_type": "markdown",
   "source": [
    "June:\n",
    "- Boris Johnson: vote of no confidence June 6, 2022\n",
    "- Lyndon B Johnson: Talks leading up to the civil rights act July 2, (1964)\n",
    "- Janet Godwin: The Iowa City-based education testing company ACT will be laying off 106 employees by July 1.\n",
    "\n",
    "September:\n",
    "- Scott Hagel: Vice president of marketing\n",
    "\n",
    "January:\n",
    "- Richard Cordoray: Considered as vice chairman of the federal reserve for banking supervision\n",
    "\n",
    "March/April:\n",
    "- Donald Trump: Trump charged with 34 felony counts in hush money scheme"
   ],
   "metadata": {
    "collapsed": false
   }
  },
  {
   "cell_type": "code",
   "execution_count": 24,
   "outputs": [],
   "source": [
    "target_word_president = \"president\"\n",
    "test_words_president = [\"johnson\", \"trump\", \"biden\", \"former\", \"obama\", \"minister\"]"
   ],
   "metadata": {
    "collapsed": false
   }
  },
  {
   "cell_type": "markdown",
   "source": [
    "### Visualizations"
   ],
   "metadata": {
    "collapsed": false
   }
  },
  {
   "cell_type": "code",
   "execution_count": 25,
   "outputs": [
    {
     "data": {
      "text/html": "        <script type=\"text/javascript\">\n        window.PlotlyConfig = {MathJaxConfig: 'local'};\n        if (window.MathJax && window.MathJax.Hub && window.MathJax.Hub.Config) {window.MathJax.Hub.Config({SVG: {font: \"STIX-Web\"}});}\n        if (typeof require !== 'undefined') {\n        require.undef(\"plotly\");\n        requirejs.config({\n            paths: {\n                'plotly': ['https://cdn.plot.ly/plotly-2.25.2.min']\n            }\n        });\n        require(['plotly'], function(Plotly) {\n            window._Plotly = Plotly;\n        });\n        }\n        </script>\n        "
     },
     "metadata": {},
     "output_type": "display_data"
    },
    {
     "data": {
      "application/vnd.plotly.v1+json": {
       "data": [
        {
         "marker": {
          "color": "#00CC96"
         },
         "mode": "markers+text",
         "name": "johnson",
         "showlegend": false,
         "text": [
          "johnson"
         ],
         "textposition": "top center",
         "x": [
          -1.9934476613998413
         ],
         "y": [
          -2.171903371810913
         ],
         "type": "scatter"
        },
        {
         "marker": {
          "color": "#00CC96",
          "size": 10,
          "symbol": "diamond"
         },
         "mode": "markers",
         "showlegend": false,
         "x": [
          -1.9934476613998413
         ],
         "y": [
          -2.171903371810913
         ],
         "type": "scatter"
        },
        {
         "marker": {
          "color": "#19D3F3"
         },
         "mode": "markers+text",
         "name": "trump",
         "showlegend": false,
         "text": [
          "trump"
         ],
         "textposition": "top center",
         "x": [
          6.267228603363037
         ],
         "y": [
          -0.030259650200605392
         ],
         "type": "scatter"
        },
        {
         "marker": {
          "color": "#19D3F3",
          "size": 10,
          "symbol": "diamond"
         },
         "mode": "markers",
         "showlegend": false,
         "x": [
          6.267228603363037
         ],
         "y": [
          -0.030259650200605392
         ],
         "type": "scatter"
        },
        {
         "marker": {
          "color": "#EF553B"
         },
         "mode": "markers+text",
         "name": "biden",
         "showlegend": false,
         "text": [
          "biden"
         ],
         "textposition": "top center",
         "x": [
          6.8528900146484375
         ],
         "y": [
          1.2449569702148438
         ],
         "type": "scatter"
        },
        {
         "marker": {
          "color": "#EF553B",
          "size": 10,
          "symbol": "diamond"
         },
         "mode": "markers",
         "showlegend": false,
         "x": [
          6.8528900146484375
         ],
         "y": [
          1.2449569702148438
         ],
         "type": "scatter"
        },
        {
         "marker": {
          "color": "#AB63FA"
         },
         "mode": "markers+text",
         "name": "former",
         "showlegend": false,
         "text": [
          "former"
         ],
         "textposition": "top center",
         "x": [
          -6.815581321716309
         ],
         "y": [
          2.727578639984131
         ],
         "type": "scatter"
        },
        {
         "marker": {
          "color": "#AB63FA",
          "size": 10,
          "symbol": "diamond"
         },
         "mode": "markers",
         "showlegend": false,
         "x": [
          -6.815581321716309
         ],
         "y": [
          2.727578639984131
         ],
         "type": "scatter"
        },
        {
         "marker": {
          "color": "#636EFA"
         },
         "mode": "markers+text",
         "name": "obama",
         "showlegend": false,
         "text": [
          "obama"
         ],
         "textposition": "top center",
         "x": [
          -0.24973109364509583
         ],
         "y": [
          -2.0354340076446533
         ],
         "type": "scatter"
        },
        {
         "marker": {
          "color": "#636EFA",
          "size": 10,
          "symbol": "diamond"
         },
         "mode": "markers",
         "showlegend": false,
         "x": [
          -0.24973109364509583
         ],
         "y": [
          -2.0354340076446533
         ],
         "type": "scatter"
        },
        {
         "marker": {
          "color": "#FF6692"
         },
         "mode": "markers+text",
         "name": "minister",
         "showlegend": false,
         "text": [
          "minister"
         ],
         "textposition": "top center",
         "x": [
          -2.5309414863586426
         ],
         "y": [
          -5.005277156829834
         ],
         "type": "scatter"
        },
        {
         "marker": {
          "color": "#FF6692",
          "size": 10,
          "symbol": "diamond"
         },
         "mode": "markers",
         "showlegend": false,
         "x": [
          -2.5309414863586426
         ],
         "y": [
          -5.005277156829834
         ],
         "type": "scatter"
        },
        {
         "marker": {
          "color": "#FFA15A"
         },
         "mode": "markers+text",
         "name": "president",
         "showlegend": false,
         "text": [
          "president"
         ],
         "textposition": "top center",
         "x": [
          -2.7606518268585205
         ],
         "y": [
          4.2131853103637695
         ],
         "type": "scatter"
        },
        {
         "marker": {
          "color": "#FFA15A",
          "size": 10,
          "symbol": "diamond"
         },
         "mode": "markers",
         "showlegend": false,
         "x": [
          -2.7606518268585205
         ],
         "y": [
          4.2131853103637695
         ],
         "type": "scatter"
        },
        {
         "marker": {
          "color": "#00CC96"
         },
         "mode": "markers+text",
         "name": "johnson",
         "showlegend": false,
         "text": [
          "johnson"
         ],
         "textposition": "top center",
         "x": [
          -1.151972770690918
         ],
         "y": [
          -1.8528510332107544
         ],
         "type": "scatter"
        },
        {
         "line": {
          "color": "#00CC96",
          "width": 1
         },
         "mode": "lines",
         "showlegend": false,
         "x": [
          -1.9934476613998413,
          -1.151972770690918
         ],
         "y": [
          -2.171903371810913,
          -1.8528510332107544
         ],
         "type": "scatter"
        },
        {
         "marker": {
          "color": "#19D3F3"
         },
         "mode": "markers+text",
         "name": "trump",
         "showlegend": false,
         "text": [
          "trump"
         ],
         "textposition": "top center",
         "x": [
          6.9348626136779785
         ],
         "y": [
          0.6216555237770081
         ],
         "type": "scatter"
        },
        {
         "line": {
          "color": "#19D3F3",
          "width": 1
         },
         "mode": "lines",
         "showlegend": false,
         "x": [
          6.267228603363037,
          6.9348626136779785
         ],
         "y": [
          -0.030259650200605392,
          0.6216555237770081
         ],
         "type": "scatter"
        },
        {
         "marker": {
          "color": "#EF553B"
         },
         "mode": "markers+text",
         "name": "biden",
         "showlegend": false,
         "text": [
          "biden"
         ],
         "textposition": "top center",
         "x": [
          7.835705280303955
         ],
         "y": [
          1.4072661399841309
         ],
         "type": "scatter"
        },
        {
         "line": {
          "color": "#EF553B",
          "width": 1
         },
         "mode": "lines",
         "showlegend": false,
         "x": [
          6.8528900146484375,
          7.835705280303955
         ],
         "y": [
          1.2449569702148438,
          1.4072661399841309
         ],
         "type": "scatter"
        },
        {
         "marker": {
          "color": "#AB63FA"
         },
         "mode": "markers+text",
         "name": "former",
         "showlegend": false,
         "text": [
          "former"
         ],
         "textposition": "top center",
         "x": [
          -5.99746561050415
         ],
         "y": [
          2.3283579349517822
         ],
         "type": "scatter"
        },
        {
         "line": {
          "color": "#AB63FA",
          "width": 1
         },
         "mode": "lines",
         "showlegend": false,
         "x": [
          -6.815581321716309,
          -5.99746561050415
         ],
         "y": [
          2.727578639984131,
          2.3283579349517822
         ],
         "type": "scatter"
        },
        {
         "marker": {
          "color": "#636EFA"
         },
         "mode": "markers+text",
         "name": "obama",
         "showlegend": false,
         "text": [
          "obama"
         ],
         "textposition": "top center",
         "x": [
          0.47786322236061096
         ],
         "y": [
          -1.8366608619689941
         ],
         "type": "scatter"
        },
        {
         "line": {
          "color": "#636EFA",
          "width": 1
         },
         "mode": "lines",
         "showlegend": false,
         "x": [
          -0.24973109364509583,
          0.47786322236061096
         ],
         "y": [
          -2.0354340076446533,
          -1.8366608619689941
         ],
         "type": "scatter"
        },
        {
         "marker": {
          "color": "#FF6692"
         },
         "mode": "markers+text",
         "name": "minister",
         "showlegend": false,
         "text": [
          "minister"
         ],
         "textposition": "top center",
         "x": [
          -2.746457099914551
         ],
         "y": [
          -5.198503494262695
         ],
         "type": "scatter"
        },
        {
         "line": {
          "color": "#FF6692",
          "width": 1
         },
         "mode": "lines",
         "showlegend": false,
         "x": [
          -2.5309414863586426,
          -2.746457099914551
         ],
         "y": [
          -5.005277156829834,
          -5.198503494262695
         ],
         "type": "scatter"
        },
        {
         "marker": {
          "color": "#FFA15A"
         },
         "mode": "markers+text",
         "name": "president",
         "showlegend": false,
         "text": [
          "president"
         ],
         "textposition": "top center",
         "x": [
          -3.8060340881347656
         ],
         "y": [
          5.546041011810303
         ],
         "type": "scatter"
        },
        {
         "line": {
          "color": "#FFA15A",
          "width": 1
         },
         "mode": "lines",
         "showlegend": false,
         "x": [
          -2.7606518268585205,
          -3.8060340881347656
         ],
         "y": [
          4.2131853103637695,
          5.546041011810303
         ],
         "type": "scatter"
        },
        {
         "marker": {
          "color": "#00CC96"
         },
         "mode": "markers+text",
         "name": "johnson",
         "showlegend": false,
         "text": [
          "johnson"
         ],
         "textposition": "top center",
         "x": [
          -2.4489505290985107
         ],
         "y": [
          -3.155409097671509
         ],
         "type": "scatter"
        },
        {
         "line": {
          "color": "#00CC96",
          "width": 1
         },
         "mode": "lines",
         "showlegend": false,
         "x": [
          -1.151972770690918,
          -2.4489505290985107
         ],
         "y": [
          -1.8528510332107544,
          -3.155409097671509
         ],
         "type": "scatter"
        },
        {
         "marker": {
          "color": "#19D3F3"
         },
         "mode": "markers+text",
         "name": "trump",
         "showlegend": false,
         "text": [
          "trump"
         ],
         "textposition": "top center",
         "x": [
          6.549135208129883
         ],
         "y": [
          -0.39085811376571655
         ],
         "type": "scatter"
        },
        {
         "line": {
          "color": "#19D3F3",
          "width": 1
         },
         "mode": "lines",
         "showlegend": false,
         "x": [
          6.9348626136779785,
          6.549135208129883
         ],
         "y": [
          0.6216555237770081,
          -0.39085811376571655
         ],
         "type": "scatter"
        },
        {
         "marker": {
          "color": "#EF553B"
         },
         "mode": "markers+text",
         "name": "biden",
         "showlegend": false,
         "text": [
          "biden"
         ],
         "textposition": "top center",
         "x": [
          7.780879974365234
         ],
         "y": [
          1.8251065015792847
         ],
         "type": "scatter"
        },
        {
         "line": {
          "color": "#EF553B",
          "width": 1
         },
         "mode": "lines",
         "showlegend": false,
         "x": [
          7.835705280303955,
          7.780879974365234
         ],
         "y": [
          1.4072661399841309,
          1.8251065015792847
         ],
         "type": "scatter"
        },
        {
         "marker": {
          "color": "#AB63FA"
         },
         "mode": "markers+text",
         "name": "former",
         "showlegend": false,
         "text": [
          "former"
         ],
         "textposition": "top center",
         "x": [
          -5.948976993560791
         ],
         "y": [
          2.6933319568634033
         ],
         "type": "scatter"
        },
        {
         "line": {
          "color": "#AB63FA",
          "width": 1
         },
         "mode": "lines",
         "showlegend": false,
         "x": [
          -5.99746561050415,
          -5.948976993560791
         ],
         "y": [
          2.3283579349517822,
          2.6933319568634033
         ],
         "type": "scatter"
        },
        {
         "marker": {
          "color": "#636EFA"
         },
         "mode": "markers+text",
         "name": "obama",
         "showlegend": false,
         "text": [
          "obama"
         ],
         "textposition": "top center",
         "x": [
          -0.3682536482810974
         ],
         "y": [
          -2.7883896827697754
         ],
         "type": "scatter"
        },
        {
         "line": {
          "color": "#636EFA",
          "width": 1
         },
         "mode": "lines",
         "showlegend": false,
         "x": [
          0.47786322236061096,
          -0.3682536482810974
         ],
         "y": [
          -1.8366608619689941,
          -2.7883896827697754
         ],
         "type": "scatter"
        },
        {
         "marker": {
          "color": "#FF6692"
         },
         "mode": "markers+text",
         "name": "minister",
         "showlegend": false,
         "text": [
          "minister"
         ],
         "textposition": "top center",
         "x": [
          -2.315176486968994
         ],
         "y": [
          -4.90997314453125
         ],
         "type": "scatter"
        },
        {
         "line": {
          "color": "#FF6692",
          "width": 1
         },
         "mode": "lines",
         "showlegend": false,
         "x": [
          -2.746457099914551,
          -2.315176486968994
         ],
         "y": [
          -5.198503494262695,
          -4.90997314453125
         ],
         "type": "scatter"
        },
        {
         "marker": {
          "color": "#FFA15A"
         },
         "mode": "markers+text",
         "name": "president",
         "showlegend": false,
         "text": [
          "president"
         ],
         "textposition": "top center",
         "x": [
          -2.3654544353485107
         ],
         "y": [
          6.586870193481445
         ],
         "type": "scatter"
        },
        {
         "line": {
          "color": "#FFA15A",
          "width": 1
         },
         "mode": "lines",
         "showlegend": false,
         "x": [
          -3.8060340881347656,
          -2.3654544353485107
         ],
         "y": [
          5.546041011810303,
          6.586870193481445
         ],
         "type": "scatter"
        },
        {
         "marker": {
          "color": "#00CC96"
         },
         "mode": "markers+text",
         "name": "johnson",
         "showlegend": false,
         "text": [
          "johnson"
         ],
         "textposition": "top center",
         "x": [
          -2.5418403148651123
         ],
         "y": [
          -1.4897992610931396
         ],
         "type": "scatter"
        },
        {
         "line": {
          "color": "#00CC96",
          "width": 1
         },
         "mode": "lines",
         "showlegend": false,
         "x": [
          -2.4489505290985107,
          -2.5418403148651123
         ],
         "y": [
          -3.155409097671509,
          -1.4897992610931396
         ],
         "type": "scatter"
        },
        {
         "marker": {
          "color": "#19D3F3"
         },
         "mode": "markers+text",
         "name": "trump",
         "showlegend": false,
         "text": [
          "trump"
         ],
         "textposition": "top center",
         "x": [
          5.674492835998535
         ],
         "y": [
          -0.44787123799324036
         ],
         "type": "scatter"
        },
        {
         "line": {
          "color": "#19D3F3",
          "width": 1
         },
         "mode": "lines",
         "showlegend": false,
         "x": [
          6.549135208129883,
          5.674492835998535
         ],
         "y": [
          -0.39085811376571655,
          -0.44787123799324036
         ],
         "type": "scatter"
        },
        {
         "marker": {
          "color": "#EF553B"
         },
         "mode": "markers+text",
         "name": "biden",
         "showlegend": false,
         "text": [
          "biden"
         ],
         "textposition": "top center",
         "x": [
          6.712732315063477
         ],
         "y": [
          3.0951056480407715
         ],
         "type": "scatter"
        },
        {
         "line": {
          "color": "#EF553B",
          "width": 1
         },
         "mode": "lines",
         "showlegend": false,
         "x": [
          7.780879974365234,
          6.712732315063477
         ],
         "y": [
          1.8251065015792847,
          3.0951056480407715
         ],
         "type": "scatter"
        },
        {
         "marker": {
          "color": "#AB63FA"
         },
         "mode": "markers+text",
         "name": "former",
         "showlegend": false,
         "text": [
          "former"
         ],
         "textposition": "top center",
         "x": [
          -6.257990837097168
         ],
         "y": [
          2.3706183433532715
         ],
         "type": "scatter"
        },
        {
         "line": {
          "color": "#AB63FA",
          "width": 1
         },
         "mode": "lines",
         "showlegend": false,
         "x": [
          -5.948976993560791,
          -6.257990837097168
         ],
         "y": [
          2.6933319568634033,
          2.3706183433532715
         ],
         "type": "scatter"
        },
        {
         "marker": {
          "color": "#636EFA"
         },
         "mode": "markers+text",
         "name": "obama",
         "showlegend": false,
         "text": [
          "obama"
         ],
         "textposition": "top center",
         "x": [
          0.009290044195950031
         ],
         "y": [
          -3.3812601566314697
         ],
         "type": "scatter"
        },
        {
         "line": {
          "color": "#636EFA",
          "width": 1
         },
         "mode": "lines",
         "showlegend": false,
         "x": [
          -0.3682536482810974,
          0.009290044195950031
         ],
         "y": [
          -2.7883896827697754,
          -3.3812601566314697
         ],
         "type": "scatter"
        },
        {
         "marker": {
          "color": "#FF6692"
         },
         "mode": "markers+text",
         "name": "minister",
         "showlegend": false,
         "text": [
          "minister"
         ],
         "textposition": "top center",
         "x": [
          -2.540571928024292
         ],
         "y": [
          -4.690183162689209
         ],
         "type": "scatter"
        },
        {
         "line": {
          "color": "#FF6692",
          "width": 1
         },
         "mode": "lines",
         "showlegend": false,
         "x": [
          -2.315176486968994,
          -2.540571928024292
         ],
         "y": [
          -4.90997314453125,
          -4.690183162689209
         ],
         "type": "scatter"
        },
        {
         "marker": {
          "color": "#FFA15A"
         },
         "mode": "markers+text",
         "name": "president",
         "showlegend": false,
         "text": [
          "president"
         ],
         "textposition": "top center",
         "x": [
          -2.255587100982666
         ],
         "y": [
          4.724574089050293
         ],
         "type": "scatter"
        },
        {
         "line": {
          "color": "#FFA15A",
          "width": 1
         },
         "mode": "lines",
         "showlegend": false,
         "x": [
          -2.3654544353485107,
          -2.255587100982666
         ],
         "y": [
          6.586870193481445,
          4.724574089050293
         ],
         "type": "scatter"
        }
       ],
       "layout": {
        "legend": {
         "x": 1.02,
         "y": 1.0
        },
        "template": {
         "data": {
          "barpolar": [
           {
            "marker": {
             "line": {
              "color": "#E5ECF6",
              "width": 0.5
             },
             "pattern": {
              "fillmode": "overlay",
              "size": 10,
              "solidity": 0.2
             }
            },
            "type": "barpolar"
           }
          ],
          "bar": [
           {
            "error_x": {
             "color": "#2a3f5f"
            },
            "error_y": {
             "color": "#2a3f5f"
            },
            "marker": {
             "line": {
              "color": "#E5ECF6",
              "width": 0.5
             },
             "pattern": {
              "fillmode": "overlay",
              "size": 10,
              "solidity": 0.2
             }
            },
            "type": "bar"
           }
          ],
          "carpet": [
           {
            "aaxis": {
             "endlinecolor": "#2a3f5f",
             "gridcolor": "white",
             "linecolor": "white",
             "minorgridcolor": "white",
             "startlinecolor": "#2a3f5f"
            },
            "baxis": {
             "endlinecolor": "#2a3f5f",
             "gridcolor": "white",
             "linecolor": "white",
             "minorgridcolor": "white",
             "startlinecolor": "#2a3f5f"
            },
            "type": "carpet"
           }
          ],
          "choropleth": [
           {
            "colorbar": {
             "outlinewidth": 0,
             "ticks": ""
            },
            "type": "choropleth"
           }
          ],
          "contourcarpet": [
           {
            "colorbar": {
             "outlinewidth": 0,
             "ticks": ""
            },
            "type": "contourcarpet"
           }
          ],
          "contour": [
           {
            "colorbar": {
             "outlinewidth": 0,
             "ticks": ""
            },
            "colorscale": [
             [
              0.0,
              "#0d0887"
             ],
             [
              0.1111111111111111,
              "#46039f"
             ],
             [
              0.2222222222222222,
              "#7201a8"
             ],
             [
              0.3333333333333333,
              "#9c179e"
             ],
             [
              0.4444444444444444,
              "#bd3786"
             ],
             [
              0.5555555555555556,
              "#d8576b"
             ],
             [
              0.6666666666666666,
              "#ed7953"
             ],
             [
              0.7777777777777778,
              "#fb9f3a"
             ],
             [
              0.8888888888888888,
              "#fdca26"
             ],
             [
              1.0,
              "#f0f921"
             ]
            ],
            "type": "contour"
           }
          ],
          "heatmapgl": [
           {
            "colorbar": {
             "outlinewidth": 0,
             "ticks": ""
            },
            "colorscale": [
             [
              0.0,
              "#0d0887"
             ],
             [
              0.1111111111111111,
              "#46039f"
             ],
             [
              0.2222222222222222,
              "#7201a8"
             ],
             [
              0.3333333333333333,
              "#9c179e"
             ],
             [
              0.4444444444444444,
              "#bd3786"
             ],
             [
              0.5555555555555556,
              "#d8576b"
             ],
             [
              0.6666666666666666,
              "#ed7953"
             ],
             [
              0.7777777777777778,
              "#fb9f3a"
             ],
             [
              0.8888888888888888,
              "#fdca26"
             ],
             [
              1.0,
              "#f0f921"
             ]
            ],
            "type": "heatmapgl"
           }
          ],
          "heatmap": [
           {
            "colorbar": {
             "outlinewidth": 0,
             "ticks": ""
            },
            "colorscale": [
             [
              0.0,
              "#0d0887"
             ],
             [
              0.1111111111111111,
              "#46039f"
             ],
             [
              0.2222222222222222,
              "#7201a8"
             ],
             [
              0.3333333333333333,
              "#9c179e"
             ],
             [
              0.4444444444444444,
              "#bd3786"
             ],
             [
              0.5555555555555556,
              "#d8576b"
             ],
             [
              0.6666666666666666,
              "#ed7953"
             ],
             [
              0.7777777777777778,
              "#fb9f3a"
             ],
             [
              0.8888888888888888,
              "#fdca26"
             ],
             [
              1.0,
              "#f0f921"
             ]
            ],
            "type": "heatmap"
           }
          ],
          "histogram2dcontour": [
           {
            "colorbar": {
             "outlinewidth": 0,
             "ticks": ""
            },
            "colorscale": [
             [
              0.0,
              "#0d0887"
             ],
             [
              0.1111111111111111,
              "#46039f"
             ],
             [
              0.2222222222222222,
              "#7201a8"
             ],
             [
              0.3333333333333333,
              "#9c179e"
             ],
             [
              0.4444444444444444,
              "#bd3786"
             ],
             [
              0.5555555555555556,
              "#d8576b"
             ],
             [
              0.6666666666666666,
              "#ed7953"
             ],
             [
              0.7777777777777778,
              "#fb9f3a"
             ],
             [
              0.8888888888888888,
              "#fdca26"
             ],
             [
              1.0,
              "#f0f921"
             ]
            ],
            "type": "histogram2dcontour"
           }
          ],
          "histogram2d": [
           {
            "colorbar": {
             "outlinewidth": 0,
             "ticks": ""
            },
            "colorscale": [
             [
              0.0,
              "#0d0887"
             ],
             [
              0.1111111111111111,
              "#46039f"
             ],
             [
              0.2222222222222222,
              "#7201a8"
             ],
             [
              0.3333333333333333,
              "#9c179e"
             ],
             [
              0.4444444444444444,
              "#bd3786"
             ],
             [
              0.5555555555555556,
              "#d8576b"
             ],
             [
              0.6666666666666666,
              "#ed7953"
             ],
             [
              0.7777777777777778,
              "#fb9f3a"
             ],
             [
              0.8888888888888888,
              "#fdca26"
             ],
             [
              1.0,
              "#f0f921"
             ]
            ],
            "type": "histogram2d"
           }
          ],
          "histogram": [
           {
            "marker": {
             "pattern": {
              "fillmode": "overlay",
              "size": 10,
              "solidity": 0.2
             }
            },
            "type": "histogram"
           }
          ],
          "mesh3d": [
           {
            "colorbar": {
             "outlinewidth": 0,
             "ticks": ""
            },
            "type": "mesh3d"
           }
          ],
          "parcoords": [
           {
            "line": {
             "colorbar": {
              "outlinewidth": 0,
              "ticks": ""
             }
            },
            "type": "parcoords"
           }
          ],
          "pie": [
           {
            "automargin": true,
            "type": "pie"
           }
          ],
          "scatter3d": [
           {
            "line": {
             "colorbar": {
              "outlinewidth": 0,
              "ticks": ""
             }
            },
            "marker": {
             "colorbar": {
              "outlinewidth": 0,
              "ticks": ""
             }
            },
            "type": "scatter3d"
           }
          ],
          "scattercarpet": [
           {
            "marker": {
             "colorbar": {
              "outlinewidth": 0,
              "ticks": ""
             }
            },
            "type": "scattercarpet"
           }
          ],
          "scattergeo": [
           {
            "marker": {
             "colorbar": {
              "outlinewidth": 0,
              "ticks": ""
             }
            },
            "type": "scattergeo"
           }
          ],
          "scattergl": [
           {
            "marker": {
             "colorbar": {
              "outlinewidth": 0,
              "ticks": ""
             }
            },
            "type": "scattergl"
           }
          ],
          "scattermapbox": [
           {
            "marker": {
             "colorbar": {
              "outlinewidth": 0,
              "ticks": ""
             }
            },
            "type": "scattermapbox"
           }
          ],
          "scatterpolargl": [
           {
            "marker": {
             "colorbar": {
              "outlinewidth": 0,
              "ticks": ""
             }
            },
            "type": "scatterpolargl"
           }
          ],
          "scatterpolar": [
           {
            "marker": {
             "colorbar": {
              "outlinewidth": 0,
              "ticks": ""
             }
            },
            "type": "scatterpolar"
           }
          ],
          "scatter": [
           {
            "fillpattern": {
             "fillmode": "overlay",
             "size": 10,
             "solidity": 0.2
            },
            "type": "scatter"
           }
          ],
          "scatterternary": [
           {
            "marker": {
             "colorbar": {
              "outlinewidth": 0,
              "ticks": ""
             }
            },
            "type": "scatterternary"
           }
          ],
          "surface": [
           {
            "colorbar": {
             "outlinewidth": 0,
             "ticks": ""
            },
            "colorscale": [
             [
              0.0,
              "#0d0887"
             ],
             [
              0.1111111111111111,
              "#46039f"
             ],
             [
              0.2222222222222222,
              "#7201a8"
             ],
             [
              0.3333333333333333,
              "#9c179e"
             ],
             [
              0.4444444444444444,
              "#bd3786"
             ],
             [
              0.5555555555555556,
              "#d8576b"
             ],
             [
              0.6666666666666666,
              "#ed7953"
             ],
             [
              0.7777777777777778,
              "#fb9f3a"
             ],
             [
              0.8888888888888888,
              "#fdca26"
             ],
             [
              1.0,
              "#f0f921"
             ]
            ],
            "type": "surface"
           }
          ],
          "table": [
           {
            "cells": {
             "fill": {
              "color": "#EBF0F8"
             },
             "line": {
              "color": "white"
             }
            },
            "header": {
             "fill": {
              "color": "#C8D4E3"
             },
             "line": {
              "color": "white"
             }
            },
            "type": "table"
           }
          ]
         },
         "layout": {
          "annotationdefaults": {
           "arrowcolor": "#2a3f5f",
           "arrowhead": 0,
           "arrowwidth": 1
          },
          "autotypenumbers": "strict",
          "coloraxis": {
           "colorbar": {
            "outlinewidth": 0,
            "ticks": ""
           }
          },
          "colorscale": {
           "diverging": [
            [
             0,
             "#8e0152"
            ],
            [
             0.1,
             "#c51b7d"
            ],
            [
             0.2,
             "#de77ae"
            ],
            [
             0.3,
             "#f1b6da"
            ],
            [
             0.4,
             "#fde0ef"
            ],
            [
             0.5,
             "#f7f7f7"
            ],
            [
             0.6,
             "#e6f5d0"
            ],
            [
             0.7,
             "#b8e186"
            ],
            [
             0.8,
             "#7fbc41"
            ],
            [
             0.9,
             "#4d9221"
            ],
            [
             1,
             "#276419"
            ]
           ],
           "sequential": [
            [
             0.0,
             "#0d0887"
            ],
            [
             0.1111111111111111,
             "#46039f"
            ],
            [
             0.2222222222222222,
             "#7201a8"
            ],
            [
             0.3333333333333333,
             "#9c179e"
            ],
            [
             0.4444444444444444,
             "#bd3786"
            ],
            [
             0.5555555555555556,
             "#d8576b"
            ],
            [
             0.6666666666666666,
             "#ed7953"
            ],
            [
             0.7777777777777778,
             "#fb9f3a"
            ],
            [
             0.8888888888888888,
             "#fdca26"
            ],
            [
             1.0,
             "#f0f921"
            ]
           ],
           "sequentialminus": [
            [
             0.0,
             "#0d0887"
            ],
            [
             0.1111111111111111,
             "#46039f"
            ],
            [
             0.2222222222222222,
             "#7201a8"
            ],
            [
             0.3333333333333333,
             "#9c179e"
            ],
            [
             0.4444444444444444,
             "#bd3786"
            ],
            [
             0.5555555555555556,
             "#d8576b"
            ],
            [
             0.6666666666666666,
             "#ed7953"
            ],
            [
             0.7777777777777778,
             "#fb9f3a"
            ],
            [
             0.8888888888888888,
             "#fdca26"
            ],
            [
             1.0,
             "#f0f921"
            ]
           ]
          },
          "colorway": [
           "#636efa",
           "#EF553B",
           "#00cc96",
           "#ab63fa",
           "#FFA15A",
           "#19d3f3",
           "#FF6692",
           "#B6E880",
           "#FF97FF",
           "#FECB52"
          ],
          "font": {
           "color": "#2a3f5f"
          },
          "geo": {
           "bgcolor": "white",
           "lakecolor": "white",
           "landcolor": "#E5ECF6",
           "showlakes": true,
           "showland": true,
           "subunitcolor": "white"
          },
          "hoverlabel": {
           "align": "left"
          },
          "hovermode": "closest",
          "mapbox": {
           "style": "light"
          },
          "paper_bgcolor": "white",
          "plot_bgcolor": "#E5ECF6",
          "polar": {
           "angularaxis": {
            "gridcolor": "white",
            "linecolor": "white",
            "ticks": ""
           },
           "bgcolor": "#E5ECF6",
           "radialaxis": {
            "gridcolor": "white",
            "linecolor": "white",
            "ticks": ""
           }
          },
          "scene": {
           "xaxis": {
            "backgroundcolor": "#E5ECF6",
            "gridcolor": "white",
            "gridwidth": 2,
            "linecolor": "white",
            "showbackground": true,
            "ticks": "",
            "zerolinecolor": "white"
           },
           "yaxis": {
            "backgroundcolor": "#E5ECF6",
            "gridcolor": "white",
            "gridwidth": 2,
            "linecolor": "white",
            "showbackground": true,
            "ticks": "",
            "zerolinecolor": "white"
           },
           "zaxis": {
            "backgroundcolor": "#E5ECF6",
            "gridcolor": "white",
            "gridwidth": 2,
            "linecolor": "white",
            "showbackground": true,
            "ticks": "",
            "zerolinecolor": "white"
           }
          },
          "shapedefaults": {
           "line": {
            "color": "#2a3f5f"
           }
          },
          "ternary": {
           "aaxis": {
            "gridcolor": "white",
            "linecolor": "white",
            "ticks": ""
           },
           "baxis": {
            "gridcolor": "white",
            "linecolor": "white",
            "ticks": ""
           },
           "bgcolor": "#E5ECF6",
           "caxis": {
            "gridcolor": "white",
            "linecolor": "white",
            "ticks": ""
           }
          },
          "title": {
           "x": 0.05
          },
          "xaxis": {
           "automargin": true,
           "gridcolor": "white",
           "linecolor": "white",
           "ticks": "",
           "title": {
            "standoff": 15
           },
           "zerolinecolor": "white",
           "zerolinewidth": 2
          },
          "yaxis": {
           "automargin": true,
           "gridcolor": "white",
           "linecolor": "white",
           "ticks": "",
           "title": {
            "standoff": 15
           },
           "zerolinecolor": "white",
           "zerolinewidth": 2
          }
         }
        },
        "title": {
         "text": "2D Visualization of Word Vectors"
        },
        "xaxis": {
         "range": [
          -10,
          10
         ],
         "title": {
          "text": "PC1"
         }
        },
        "yaxis": {
         "range": [
          -10,
          10
         ],
         "title": {
          "text": "PC2"
         }
        }
       },
       "config": {
        "showLink": false,
        "linkText": "Export to plot.ly",
        "plotlyServerURL": "https://plot.ly"
       }
      },
      "text/html": "<div>                            <div id=\"5195db0e-033e-4a95-ac79-65b0b23b9261\" class=\"plotly-graph-div\" style=\"height:525px; width:100%;\"></div>            <script type=\"text/javascript\">                require([\"plotly\"], function(Plotly) {                    window.PLOTLYENV=window.PLOTLYENV || {};                                    if (document.getElementById(\"5195db0e-033e-4a95-ac79-65b0b23b9261\")) {                    Plotly.newPlot(                        \"5195db0e-033e-4a95-ac79-65b0b23b9261\",                        [{\"marker\":{\"color\":\"#00CC96\"},\"mode\":\"markers+text\",\"name\":\"johnson\",\"showlegend\":false,\"text\":[\"johnson\"],\"textposition\":\"top center\",\"x\":[-1.9934476613998413],\"y\":[-2.171903371810913],\"type\":\"scatter\"},{\"marker\":{\"color\":\"#00CC96\",\"size\":10,\"symbol\":\"diamond\"},\"mode\":\"markers\",\"showlegend\":false,\"x\":[-1.9934476613998413],\"y\":[-2.171903371810913],\"type\":\"scatter\"},{\"marker\":{\"color\":\"#19D3F3\"},\"mode\":\"markers+text\",\"name\":\"trump\",\"showlegend\":false,\"text\":[\"trump\"],\"textposition\":\"top center\",\"x\":[6.267228603363037],\"y\":[-0.030259650200605392],\"type\":\"scatter\"},{\"marker\":{\"color\":\"#19D3F3\",\"size\":10,\"symbol\":\"diamond\"},\"mode\":\"markers\",\"showlegend\":false,\"x\":[6.267228603363037],\"y\":[-0.030259650200605392],\"type\":\"scatter\"},{\"marker\":{\"color\":\"#EF553B\"},\"mode\":\"markers+text\",\"name\":\"biden\",\"showlegend\":false,\"text\":[\"biden\"],\"textposition\":\"top center\",\"x\":[6.8528900146484375],\"y\":[1.2449569702148438],\"type\":\"scatter\"},{\"marker\":{\"color\":\"#EF553B\",\"size\":10,\"symbol\":\"diamond\"},\"mode\":\"markers\",\"showlegend\":false,\"x\":[6.8528900146484375],\"y\":[1.2449569702148438],\"type\":\"scatter\"},{\"marker\":{\"color\":\"#AB63FA\"},\"mode\":\"markers+text\",\"name\":\"former\",\"showlegend\":false,\"text\":[\"former\"],\"textposition\":\"top center\",\"x\":[-6.815581321716309],\"y\":[2.727578639984131],\"type\":\"scatter\"},{\"marker\":{\"color\":\"#AB63FA\",\"size\":10,\"symbol\":\"diamond\"},\"mode\":\"markers\",\"showlegend\":false,\"x\":[-6.815581321716309],\"y\":[2.727578639984131],\"type\":\"scatter\"},{\"marker\":{\"color\":\"#636EFA\"},\"mode\":\"markers+text\",\"name\":\"obama\",\"showlegend\":false,\"text\":[\"obama\"],\"textposition\":\"top center\",\"x\":[-0.24973109364509583],\"y\":[-2.0354340076446533],\"type\":\"scatter\"},{\"marker\":{\"color\":\"#636EFA\",\"size\":10,\"symbol\":\"diamond\"},\"mode\":\"markers\",\"showlegend\":false,\"x\":[-0.24973109364509583],\"y\":[-2.0354340076446533],\"type\":\"scatter\"},{\"marker\":{\"color\":\"#FF6692\"},\"mode\":\"markers+text\",\"name\":\"minister\",\"showlegend\":false,\"text\":[\"minister\"],\"textposition\":\"top center\",\"x\":[-2.5309414863586426],\"y\":[-5.005277156829834],\"type\":\"scatter\"},{\"marker\":{\"color\":\"#FF6692\",\"size\":10,\"symbol\":\"diamond\"},\"mode\":\"markers\",\"showlegend\":false,\"x\":[-2.5309414863586426],\"y\":[-5.005277156829834],\"type\":\"scatter\"},{\"marker\":{\"color\":\"#FFA15A\"},\"mode\":\"markers+text\",\"name\":\"president\",\"showlegend\":false,\"text\":[\"president\"],\"textposition\":\"top center\",\"x\":[-2.7606518268585205],\"y\":[4.2131853103637695],\"type\":\"scatter\"},{\"marker\":{\"color\":\"#FFA15A\",\"size\":10,\"symbol\":\"diamond\"},\"mode\":\"markers\",\"showlegend\":false,\"x\":[-2.7606518268585205],\"y\":[4.2131853103637695],\"type\":\"scatter\"},{\"marker\":{\"color\":\"#00CC96\"},\"mode\":\"markers+text\",\"name\":\"johnson\",\"showlegend\":false,\"text\":[\"johnson\"],\"textposition\":\"top center\",\"x\":[-1.151972770690918],\"y\":[-1.8528510332107544],\"type\":\"scatter\"},{\"line\":{\"color\":\"#00CC96\",\"width\":1},\"mode\":\"lines\",\"showlegend\":false,\"x\":[-1.9934476613998413,-1.151972770690918],\"y\":[-2.171903371810913,-1.8528510332107544],\"type\":\"scatter\"},{\"marker\":{\"color\":\"#19D3F3\"},\"mode\":\"markers+text\",\"name\":\"trump\",\"showlegend\":false,\"text\":[\"trump\"],\"textposition\":\"top center\",\"x\":[6.9348626136779785],\"y\":[0.6216555237770081],\"type\":\"scatter\"},{\"line\":{\"color\":\"#19D3F3\",\"width\":1},\"mode\":\"lines\",\"showlegend\":false,\"x\":[6.267228603363037,6.9348626136779785],\"y\":[-0.030259650200605392,0.6216555237770081],\"type\":\"scatter\"},{\"marker\":{\"color\":\"#EF553B\"},\"mode\":\"markers+text\",\"name\":\"biden\",\"showlegend\":false,\"text\":[\"biden\"],\"textposition\":\"top center\",\"x\":[7.835705280303955],\"y\":[1.4072661399841309],\"type\":\"scatter\"},{\"line\":{\"color\":\"#EF553B\",\"width\":1},\"mode\":\"lines\",\"showlegend\":false,\"x\":[6.8528900146484375,7.835705280303955],\"y\":[1.2449569702148438,1.4072661399841309],\"type\":\"scatter\"},{\"marker\":{\"color\":\"#AB63FA\"},\"mode\":\"markers+text\",\"name\":\"former\",\"showlegend\":false,\"text\":[\"former\"],\"textposition\":\"top center\",\"x\":[-5.99746561050415],\"y\":[2.3283579349517822],\"type\":\"scatter\"},{\"line\":{\"color\":\"#AB63FA\",\"width\":1},\"mode\":\"lines\",\"showlegend\":false,\"x\":[-6.815581321716309,-5.99746561050415],\"y\":[2.727578639984131,2.3283579349517822],\"type\":\"scatter\"},{\"marker\":{\"color\":\"#636EFA\"},\"mode\":\"markers+text\",\"name\":\"obama\",\"showlegend\":false,\"text\":[\"obama\"],\"textposition\":\"top center\",\"x\":[0.47786322236061096],\"y\":[-1.8366608619689941],\"type\":\"scatter\"},{\"line\":{\"color\":\"#636EFA\",\"width\":1},\"mode\":\"lines\",\"showlegend\":false,\"x\":[-0.24973109364509583,0.47786322236061096],\"y\":[-2.0354340076446533,-1.8366608619689941],\"type\":\"scatter\"},{\"marker\":{\"color\":\"#FF6692\"},\"mode\":\"markers+text\",\"name\":\"minister\",\"showlegend\":false,\"text\":[\"minister\"],\"textposition\":\"top center\",\"x\":[-2.746457099914551],\"y\":[-5.198503494262695],\"type\":\"scatter\"},{\"line\":{\"color\":\"#FF6692\",\"width\":1},\"mode\":\"lines\",\"showlegend\":false,\"x\":[-2.5309414863586426,-2.746457099914551],\"y\":[-5.005277156829834,-5.198503494262695],\"type\":\"scatter\"},{\"marker\":{\"color\":\"#FFA15A\"},\"mode\":\"markers+text\",\"name\":\"president\",\"showlegend\":false,\"text\":[\"president\"],\"textposition\":\"top center\",\"x\":[-3.8060340881347656],\"y\":[5.546041011810303],\"type\":\"scatter\"},{\"line\":{\"color\":\"#FFA15A\",\"width\":1},\"mode\":\"lines\",\"showlegend\":false,\"x\":[-2.7606518268585205,-3.8060340881347656],\"y\":[4.2131853103637695,5.546041011810303],\"type\":\"scatter\"},{\"marker\":{\"color\":\"#00CC96\"},\"mode\":\"markers+text\",\"name\":\"johnson\",\"showlegend\":false,\"text\":[\"johnson\"],\"textposition\":\"top center\",\"x\":[-2.4489505290985107],\"y\":[-3.155409097671509],\"type\":\"scatter\"},{\"line\":{\"color\":\"#00CC96\",\"width\":1},\"mode\":\"lines\",\"showlegend\":false,\"x\":[-1.151972770690918,-2.4489505290985107],\"y\":[-1.8528510332107544,-3.155409097671509],\"type\":\"scatter\"},{\"marker\":{\"color\":\"#19D3F3\"},\"mode\":\"markers+text\",\"name\":\"trump\",\"showlegend\":false,\"text\":[\"trump\"],\"textposition\":\"top center\",\"x\":[6.549135208129883],\"y\":[-0.39085811376571655],\"type\":\"scatter\"},{\"line\":{\"color\":\"#19D3F3\",\"width\":1},\"mode\":\"lines\",\"showlegend\":false,\"x\":[6.9348626136779785,6.549135208129883],\"y\":[0.6216555237770081,-0.39085811376571655],\"type\":\"scatter\"},{\"marker\":{\"color\":\"#EF553B\"},\"mode\":\"markers+text\",\"name\":\"biden\",\"showlegend\":false,\"text\":[\"biden\"],\"textposition\":\"top center\",\"x\":[7.780879974365234],\"y\":[1.8251065015792847],\"type\":\"scatter\"},{\"line\":{\"color\":\"#EF553B\",\"width\":1},\"mode\":\"lines\",\"showlegend\":false,\"x\":[7.835705280303955,7.780879974365234],\"y\":[1.4072661399841309,1.8251065015792847],\"type\":\"scatter\"},{\"marker\":{\"color\":\"#AB63FA\"},\"mode\":\"markers+text\",\"name\":\"former\",\"showlegend\":false,\"text\":[\"former\"],\"textposition\":\"top center\",\"x\":[-5.948976993560791],\"y\":[2.6933319568634033],\"type\":\"scatter\"},{\"line\":{\"color\":\"#AB63FA\",\"width\":1},\"mode\":\"lines\",\"showlegend\":false,\"x\":[-5.99746561050415,-5.948976993560791],\"y\":[2.3283579349517822,2.6933319568634033],\"type\":\"scatter\"},{\"marker\":{\"color\":\"#636EFA\"},\"mode\":\"markers+text\",\"name\":\"obama\",\"showlegend\":false,\"text\":[\"obama\"],\"textposition\":\"top center\",\"x\":[-0.3682536482810974],\"y\":[-2.7883896827697754],\"type\":\"scatter\"},{\"line\":{\"color\":\"#636EFA\",\"width\":1},\"mode\":\"lines\",\"showlegend\":false,\"x\":[0.47786322236061096,-0.3682536482810974],\"y\":[-1.8366608619689941,-2.7883896827697754],\"type\":\"scatter\"},{\"marker\":{\"color\":\"#FF6692\"},\"mode\":\"markers+text\",\"name\":\"minister\",\"showlegend\":false,\"text\":[\"minister\"],\"textposition\":\"top center\",\"x\":[-2.315176486968994],\"y\":[-4.90997314453125],\"type\":\"scatter\"},{\"line\":{\"color\":\"#FF6692\",\"width\":1},\"mode\":\"lines\",\"showlegend\":false,\"x\":[-2.746457099914551,-2.315176486968994],\"y\":[-5.198503494262695,-4.90997314453125],\"type\":\"scatter\"},{\"marker\":{\"color\":\"#FFA15A\"},\"mode\":\"markers+text\",\"name\":\"president\",\"showlegend\":false,\"text\":[\"president\"],\"textposition\":\"top center\",\"x\":[-2.3654544353485107],\"y\":[6.586870193481445],\"type\":\"scatter\"},{\"line\":{\"color\":\"#FFA15A\",\"width\":1},\"mode\":\"lines\",\"showlegend\":false,\"x\":[-3.8060340881347656,-2.3654544353485107],\"y\":[5.546041011810303,6.586870193481445],\"type\":\"scatter\"},{\"marker\":{\"color\":\"#00CC96\"},\"mode\":\"markers+text\",\"name\":\"johnson\",\"showlegend\":false,\"text\":[\"johnson\"],\"textposition\":\"top center\",\"x\":[-2.5418403148651123],\"y\":[-1.4897992610931396],\"type\":\"scatter\"},{\"line\":{\"color\":\"#00CC96\",\"width\":1},\"mode\":\"lines\",\"showlegend\":false,\"x\":[-2.4489505290985107,-2.5418403148651123],\"y\":[-3.155409097671509,-1.4897992610931396],\"type\":\"scatter\"},{\"marker\":{\"color\":\"#19D3F3\"},\"mode\":\"markers+text\",\"name\":\"trump\",\"showlegend\":false,\"text\":[\"trump\"],\"textposition\":\"top center\",\"x\":[5.674492835998535],\"y\":[-0.44787123799324036],\"type\":\"scatter\"},{\"line\":{\"color\":\"#19D3F3\",\"width\":1},\"mode\":\"lines\",\"showlegend\":false,\"x\":[6.549135208129883,5.674492835998535],\"y\":[-0.39085811376571655,-0.44787123799324036],\"type\":\"scatter\"},{\"marker\":{\"color\":\"#EF553B\"},\"mode\":\"markers+text\",\"name\":\"biden\",\"showlegend\":false,\"text\":[\"biden\"],\"textposition\":\"top center\",\"x\":[6.712732315063477],\"y\":[3.0951056480407715],\"type\":\"scatter\"},{\"line\":{\"color\":\"#EF553B\",\"width\":1},\"mode\":\"lines\",\"showlegend\":false,\"x\":[7.780879974365234,6.712732315063477],\"y\":[1.8251065015792847,3.0951056480407715],\"type\":\"scatter\"},{\"marker\":{\"color\":\"#AB63FA\"},\"mode\":\"markers+text\",\"name\":\"former\",\"showlegend\":false,\"text\":[\"former\"],\"textposition\":\"top center\",\"x\":[-6.257990837097168],\"y\":[2.3706183433532715],\"type\":\"scatter\"},{\"line\":{\"color\":\"#AB63FA\",\"width\":1},\"mode\":\"lines\",\"showlegend\":false,\"x\":[-5.948976993560791,-6.257990837097168],\"y\":[2.6933319568634033,2.3706183433532715],\"type\":\"scatter\"},{\"marker\":{\"color\":\"#636EFA\"},\"mode\":\"markers+text\",\"name\":\"obama\",\"showlegend\":false,\"text\":[\"obama\"],\"textposition\":\"top center\",\"x\":[0.009290044195950031],\"y\":[-3.3812601566314697],\"type\":\"scatter\"},{\"line\":{\"color\":\"#636EFA\",\"width\":1},\"mode\":\"lines\",\"showlegend\":false,\"x\":[-0.3682536482810974,0.009290044195950031],\"y\":[-2.7883896827697754,-3.3812601566314697],\"type\":\"scatter\"},{\"marker\":{\"color\":\"#FF6692\"},\"mode\":\"markers+text\",\"name\":\"minister\",\"showlegend\":false,\"text\":[\"minister\"],\"textposition\":\"top center\",\"x\":[-2.540571928024292],\"y\":[-4.690183162689209],\"type\":\"scatter\"},{\"line\":{\"color\":\"#FF6692\",\"width\":1},\"mode\":\"lines\",\"showlegend\":false,\"x\":[-2.315176486968994,-2.540571928024292],\"y\":[-4.90997314453125,-4.690183162689209],\"type\":\"scatter\"},{\"marker\":{\"color\":\"#FFA15A\"},\"mode\":\"markers+text\",\"name\":\"president\",\"showlegend\":false,\"text\":[\"president\"],\"textposition\":\"top center\",\"x\":[-2.255587100982666],\"y\":[4.724574089050293],\"type\":\"scatter\"},{\"line\":{\"color\":\"#FFA15A\",\"width\":1},\"mode\":\"lines\",\"showlegend\":false,\"x\":[-2.3654544353485107,-2.255587100982666],\"y\":[6.586870193481445,4.724574089050293],\"type\":\"scatter\"}],                        {\"legend\":{\"x\":1.02,\"y\":1.0},\"template\":{\"data\":{\"barpolar\":[{\"marker\":{\"line\":{\"color\":\"#E5ECF6\",\"width\":0.5},\"pattern\":{\"fillmode\":\"overlay\",\"size\":10,\"solidity\":0.2}},\"type\":\"barpolar\"}],\"bar\":[{\"error_x\":{\"color\":\"#2a3f5f\"},\"error_y\":{\"color\":\"#2a3f5f\"},\"marker\":{\"line\":{\"color\":\"#E5ECF6\",\"width\":0.5},\"pattern\":{\"fillmode\":\"overlay\",\"size\":10,\"solidity\":0.2}},\"type\":\"bar\"}],\"carpet\":[{\"aaxis\":{\"endlinecolor\":\"#2a3f5f\",\"gridcolor\":\"white\",\"linecolor\":\"white\",\"minorgridcolor\":\"white\",\"startlinecolor\":\"#2a3f5f\"},\"baxis\":{\"endlinecolor\":\"#2a3f5f\",\"gridcolor\":\"white\",\"linecolor\":\"white\",\"minorgridcolor\":\"white\",\"startlinecolor\":\"#2a3f5f\"},\"type\":\"carpet\"}],\"choropleth\":[{\"colorbar\":{\"outlinewidth\":0,\"ticks\":\"\"},\"type\":\"choropleth\"}],\"contourcarpet\":[{\"colorbar\":{\"outlinewidth\":0,\"ticks\":\"\"},\"type\":\"contourcarpet\"}],\"contour\":[{\"colorbar\":{\"outlinewidth\":0,\"ticks\":\"\"},\"colorscale\":[[0.0,\"#0d0887\"],[0.1111111111111111,\"#46039f\"],[0.2222222222222222,\"#7201a8\"],[0.3333333333333333,\"#9c179e\"],[0.4444444444444444,\"#bd3786\"],[0.5555555555555556,\"#d8576b\"],[0.6666666666666666,\"#ed7953\"],[0.7777777777777778,\"#fb9f3a\"],[0.8888888888888888,\"#fdca26\"],[1.0,\"#f0f921\"]],\"type\":\"contour\"}],\"heatmapgl\":[{\"colorbar\":{\"outlinewidth\":0,\"ticks\":\"\"},\"colorscale\":[[0.0,\"#0d0887\"],[0.1111111111111111,\"#46039f\"],[0.2222222222222222,\"#7201a8\"],[0.3333333333333333,\"#9c179e\"],[0.4444444444444444,\"#bd3786\"],[0.5555555555555556,\"#d8576b\"],[0.6666666666666666,\"#ed7953\"],[0.7777777777777778,\"#fb9f3a\"],[0.8888888888888888,\"#fdca26\"],[1.0,\"#f0f921\"]],\"type\":\"heatmapgl\"}],\"heatmap\":[{\"colorbar\":{\"outlinewidth\":0,\"ticks\":\"\"},\"colorscale\":[[0.0,\"#0d0887\"],[0.1111111111111111,\"#46039f\"],[0.2222222222222222,\"#7201a8\"],[0.3333333333333333,\"#9c179e\"],[0.4444444444444444,\"#bd3786\"],[0.5555555555555556,\"#d8576b\"],[0.6666666666666666,\"#ed7953\"],[0.7777777777777778,\"#fb9f3a\"],[0.8888888888888888,\"#fdca26\"],[1.0,\"#f0f921\"]],\"type\":\"heatmap\"}],\"histogram2dcontour\":[{\"colorbar\":{\"outlinewidth\":0,\"ticks\":\"\"},\"colorscale\":[[0.0,\"#0d0887\"],[0.1111111111111111,\"#46039f\"],[0.2222222222222222,\"#7201a8\"],[0.3333333333333333,\"#9c179e\"],[0.4444444444444444,\"#bd3786\"],[0.5555555555555556,\"#d8576b\"],[0.6666666666666666,\"#ed7953\"],[0.7777777777777778,\"#fb9f3a\"],[0.8888888888888888,\"#fdca26\"],[1.0,\"#f0f921\"]],\"type\":\"histogram2dcontour\"}],\"histogram2d\":[{\"colorbar\":{\"outlinewidth\":0,\"ticks\":\"\"},\"colorscale\":[[0.0,\"#0d0887\"],[0.1111111111111111,\"#46039f\"],[0.2222222222222222,\"#7201a8\"],[0.3333333333333333,\"#9c179e\"],[0.4444444444444444,\"#bd3786\"],[0.5555555555555556,\"#d8576b\"],[0.6666666666666666,\"#ed7953\"],[0.7777777777777778,\"#fb9f3a\"],[0.8888888888888888,\"#fdca26\"],[1.0,\"#f0f921\"]],\"type\":\"histogram2d\"}],\"histogram\":[{\"marker\":{\"pattern\":{\"fillmode\":\"overlay\",\"size\":10,\"solidity\":0.2}},\"type\":\"histogram\"}],\"mesh3d\":[{\"colorbar\":{\"outlinewidth\":0,\"ticks\":\"\"},\"type\":\"mesh3d\"}],\"parcoords\":[{\"line\":{\"colorbar\":{\"outlinewidth\":0,\"ticks\":\"\"}},\"type\":\"parcoords\"}],\"pie\":[{\"automargin\":true,\"type\":\"pie\"}],\"scatter3d\":[{\"line\":{\"colorbar\":{\"outlinewidth\":0,\"ticks\":\"\"}},\"marker\":{\"colorbar\":{\"outlinewidth\":0,\"ticks\":\"\"}},\"type\":\"scatter3d\"}],\"scattercarpet\":[{\"marker\":{\"colorbar\":{\"outlinewidth\":0,\"ticks\":\"\"}},\"type\":\"scattercarpet\"}],\"scattergeo\":[{\"marker\":{\"colorbar\":{\"outlinewidth\":0,\"ticks\":\"\"}},\"type\":\"scattergeo\"}],\"scattergl\":[{\"marker\":{\"colorbar\":{\"outlinewidth\":0,\"ticks\":\"\"}},\"type\":\"scattergl\"}],\"scattermapbox\":[{\"marker\":{\"colorbar\":{\"outlinewidth\":0,\"ticks\":\"\"}},\"type\":\"scattermapbox\"}],\"scatterpolargl\":[{\"marker\":{\"colorbar\":{\"outlinewidth\":0,\"ticks\":\"\"}},\"type\":\"scatterpolargl\"}],\"scatterpolar\":[{\"marker\":{\"colorbar\":{\"outlinewidth\":0,\"ticks\":\"\"}},\"type\":\"scatterpolar\"}],\"scatter\":[{\"fillpattern\":{\"fillmode\":\"overlay\",\"size\":10,\"solidity\":0.2},\"type\":\"scatter\"}],\"scatterternary\":[{\"marker\":{\"colorbar\":{\"outlinewidth\":0,\"ticks\":\"\"}},\"type\":\"scatterternary\"}],\"surface\":[{\"colorbar\":{\"outlinewidth\":0,\"ticks\":\"\"},\"colorscale\":[[0.0,\"#0d0887\"],[0.1111111111111111,\"#46039f\"],[0.2222222222222222,\"#7201a8\"],[0.3333333333333333,\"#9c179e\"],[0.4444444444444444,\"#bd3786\"],[0.5555555555555556,\"#d8576b\"],[0.6666666666666666,\"#ed7953\"],[0.7777777777777778,\"#fb9f3a\"],[0.8888888888888888,\"#fdca26\"],[1.0,\"#f0f921\"]],\"type\":\"surface\"}],\"table\":[{\"cells\":{\"fill\":{\"color\":\"#EBF0F8\"},\"line\":{\"color\":\"white\"}},\"header\":{\"fill\":{\"color\":\"#C8D4E3\"},\"line\":{\"color\":\"white\"}},\"type\":\"table\"}]},\"layout\":{\"annotationdefaults\":{\"arrowcolor\":\"#2a3f5f\",\"arrowhead\":0,\"arrowwidth\":1},\"autotypenumbers\":\"strict\",\"coloraxis\":{\"colorbar\":{\"outlinewidth\":0,\"ticks\":\"\"}},\"colorscale\":{\"diverging\":[[0,\"#8e0152\"],[0.1,\"#c51b7d\"],[0.2,\"#de77ae\"],[0.3,\"#f1b6da\"],[0.4,\"#fde0ef\"],[0.5,\"#f7f7f7\"],[0.6,\"#e6f5d0\"],[0.7,\"#b8e186\"],[0.8,\"#7fbc41\"],[0.9,\"#4d9221\"],[1,\"#276419\"]],\"sequential\":[[0.0,\"#0d0887\"],[0.1111111111111111,\"#46039f\"],[0.2222222222222222,\"#7201a8\"],[0.3333333333333333,\"#9c179e\"],[0.4444444444444444,\"#bd3786\"],[0.5555555555555556,\"#d8576b\"],[0.6666666666666666,\"#ed7953\"],[0.7777777777777778,\"#fb9f3a\"],[0.8888888888888888,\"#fdca26\"],[1.0,\"#f0f921\"]],\"sequentialminus\":[[0.0,\"#0d0887\"],[0.1111111111111111,\"#46039f\"],[0.2222222222222222,\"#7201a8\"],[0.3333333333333333,\"#9c179e\"],[0.4444444444444444,\"#bd3786\"],[0.5555555555555556,\"#d8576b\"],[0.6666666666666666,\"#ed7953\"],[0.7777777777777778,\"#fb9f3a\"],[0.8888888888888888,\"#fdca26\"],[1.0,\"#f0f921\"]]},\"colorway\":[\"#636efa\",\"#EF553B\",\"#00cc96\",\"#ab63fa\",\"#FFA15A\",\"#19d3f3\",\"#FF6692\",\"#B6E880\",\"#FF97FF\",\"#FECB52\"],\"font\":{\"color\":\"#2a3f5f\"},\"geo\":{\"bgcolor\":\"white\",\"lakecolor\":\"white\",\"landcolor\":\"#E5ECF6\",\"showlakes\":true,\"showland\":true,\"subunitcolor\":\"white\"},\"hoverlabel\":{\"align\":\"left\"},\"hovermode\":\"closest\",\"mapbox\":{\"style\":\"light\"},\"paper_bgcolor\":\"white\",\"plot_bgcolor\":\"#E5ECF6\",\"polar\":{\"angularaxis\":{\"gridcolor\":\"white\",\"linecolor\":\"white\",\"ticks\":\"\"},\"bgcolor\":\"#E5ECF6\",\"radialaxis\":{\"gridcolor\":\"white\",\"linecolor\":\"white\",\"ticks\":\"\"}},\"scene\":{\"xaxis\":{\"backgroundcolor\":\"#E5ECF6\",\"gridcolor\":\"white\",\"gridwidth\":2,\"linecolor\":\"white\",\"showbackground\":true,\"ticks\":\"\",\"zerolinecolor\":\"white\"},\"yaxis\":{\"backgroundcolor\":\"#E5ECF6\",\"gridcolor\":\"white\",\"gridwidth\":2,\"linecolor\":\"white\",\"showbackground\":true,\"ticks\":\"\",\"zerolinecolor\":\"white\"},\"zaxis\":{\"backgroundcolor\":\"#E5ECF6\",\"gridcolor\":\"white\",\"gridwidth\":2,\"linecolor\":\"white\",\"showbackground\":true,\"ticks\":\"\",\"zerolinecolor\":\"white\"}},\"shapedefaults\":{\"line\":{\"color\":\"#2a3f5f\"}},\"ternary\":{\"aaxis\":{\"gridcolor\":\"white\",\"linecolor\":\"white\",\"ticks\":\"\"},\"baxis\":{\"gridcolor\":\"white\",\"linecolor\":\"white\",\"ticks\":\"\"},\"bgcolor\":\"#E5ECF6\",\"caxis\":{\"gridcolor\":\"white\",\"linecolor\":\"white\",\"ticks\":\"\"}},\"title\":{\"x\":0.05},\"xaxis\":{\"automargin\":true,\"gridcolor\":\"white\",\"linecolor\":\"white\",\"ticks\":\"\",\"title\":{\"standoff\":15},\"zerolinecolor\":\"white\",\"zerolinewidth\":2},\"yaxis\":{\"automargin\":true,\"gridcolor\":\"white\",\"linecolor\":\"white\",\"ticks\":\"\",\"title\":{\"standoff\":15},\"zerolinecolor\":\"white\",\"zerolinewidth\":2}}},\"title\":{\"text\":\"2D Visualization of Word Vectors\"},\"xaxis\":{\"range\":[-10,10],\"title\":{\"text\":\"PC1\"}},\"yaxis\":{\"range\":[-10,10],\"title\":{\"text\":\"PC2\"}}},                        {\"responsive\": true}                    ).then(function(){\n                            \nvar gd = document.getElementById('5195db0e-033e-4a95-ac79-65b0b23b9261');\nvar x = new MutationObserver(function (mutations, observer) {{\n        var display = window.getComputedStyle(gd).display;\n        if (!display || display === 'none') {{\n            console.log([gd, 'removed!']);\n            Plotly.purge(gd);\n            observer.disconnect();\n        }}\n}});\n\n// Listen for the removal of the full notebook cells\nvar notebookContainer = gd.closest('#notebook-container');\nif (notebookContainer) {{\n    x.observe(notebookContainer, {childList: true});\n}}\n\n// Listen for the clearing of the current output cell\nvar outputEl = gd.closest('.output');\nif (outputEl) {{\n    x.observe(outputEl, {childList: true});\n}}\n\n                        })                };                });            </script>        </div>"
     },
     "metadata": {},
     "output_type": "display_data"
    }
   ],
   "source": [
    "plot_word_vectors_cade(cade_models_quarterly, test_words_president + [target_word_president], range=[-10, 10])"
   ],
   "metadata": {
    "collapsed": false
   }
  },
  {
   "cell_type": "code",
   "execution_count": 26,
   "outputs": [
    {
     "name": "stdout",
     "output_type": "stream",
     "text": [
      "All words are contained in the vocabulary\n"
     ]
    }
   ],
   "source": [
    "tppmi_president = tppmi_model.get_tppmi(test_words_president + [target_word_president])"
   ],
   "metadata": {
    "collapsed": false
   }
  },
  {
   "cell_type": "code",
   "execution_count": 28,
   "outputs": [
    {
     "name": "stdout",
     "output_type": "stream",
     "text": [
      "All words are contained in the vocabulary\n"
     ]
    },
    {
     "data": {
      "text/html": "        <script type=\"text/javascript\">\n        window.PlotlyConfig = {MathJaxConfig: 'local'};\n        if (window.MathJax && window.MathJax.Hub && window.MathJax.Hub.Config) {window.MathJax.Hub.Config({SVG: {font: \"STIX-Web\"}});}\n        if (typeof require !== 'undefined') {\n        require.undef(\"plotly\");\n        requirejs.config({\n            paths: {\n                'plotly': ['https://cdn.plot.ly/plotly-2.25.2.min']\n            }\n        });\n        require(['plotly'], function(Plotly) {\n            window._Plotly = Plotly;\n        });\n        }\n        </script>\n        "
     },
     "metadata": {},
     "output_type": "display_data"
    },
    {
     "data": {
      "application/vnd.plotly.v1+json": {
       "data": [
        {
         "marker": {
          "color": "#00CC96"
         },
         "mode": "markers+text",
         "name": "johnson",
         "showlegend": false,
         "text": [
          "johnson"
         ],
         "textposition": "top center",
         "x": [
          5.221300359541761
         ],
         "y": [
          -2.5708178739927705
         ],
         "type": "scatter"
        },
        {
         "marker": {
          "color": "#00CC96",
          "size": 10,
          "symbol": "diamond"
         },
         "mode": "markers",
         "showlegend": false,
         "x": [
          5.221300359541761
         ],
         "y": [
          -2.5708178739927705
         ],
         "type": "scatter"
        },
        {
         "marker": {
          "color": "#00CC96"
         },
         "mode": "markers+text",
         "name": "johnson",
         "showlegend": false,
         "text": [
          "johnson"
         ],
         "textposition": "top center",
         "x": [
          4.365130250168885
         ],
         "y": [
          -3.7107296817106667
         ],
         "type": "scatter"
        },
        {
         "line": {
          "color": "#00CC96",
          "width": 1
         },
         "mode": "lines",
         "showlegend": false,
         "x": [
          5.221300359541761,
          4.365130250168885
         ],
         "y": [
          -2.5708178739927705,
          -3.7107296817106667
         ],
         "type": "scatter"
        },
        {
         "marker": {
          "color": "#00CC96"
         },
         "mode": "markers+text",
         "name": "johnson",
         "showlegend": false,
         "text": [
          "johnson"
         ],
         "textposition": "top center",
         "x": [
          6.707538301412197
         ],
         "y": [
          -1.5330718802612648
         ],
         "type": "scatter"
        },
        {
         "line": {
          "color": "#00CC96",
          "width": 1
         },
         "mode": "lines",
         "showlegend": false,
         "x": [
          4.365130250168885,
          6.707538301412197
         ],
         "y": [
          -3.7107296817106667,
          -1.5330718802612648
         ],
         "type": "scatter"
        },
        {
         "marker": {
          "color": "#00CC96"
         },
         "mode": "markers+text",
         "name": "johnson",
         "showlegend": false,
         "text": [
          "johnson"
         ],
         "textposition": "top center",
         "x": [
          3.6289676361109175
         ],
         "y": [
          -1.015835096153729
         ],
         "type": "scatter"
        },
        {
         "line": {
          "color": "#00CC96",
          "width": 1
         },
         "mode": "lines",
         "showlegend": false,
         "x": [
          6.707538301412197,
          3.6289676361109175
         ],
         "y": [
          -1.5330718802612648,
          -1.015835096153729
         ],
         "type": "scatter"
        },
        {
         "marker": {
          "color": "#19D3F3"
         },
         "mode": "markers+text",
         "name": "trump",
         "showlegend": false,
         "text": [
          "trump"
         ],
         "textposition": "top center",
         "x": [
          -3.116949052455846
         ],
         "y": [
          -1.653216567333632
         ],
         "type": "scatter"
        },
        {
         "marker": {
          "color": "#19D3F3",
          "size": 10,
          "symbol": "diamond"
         },
         "mode": "markers",
         "showlegend": false,
         "x": [
          -3.116949052455846
         ],
         "y": [
          -1.653216567333632
         ],
         "type": "scatter"
        },
        {
         "marker": {
          "color": "#19D3F3"
         },
         "mode": "markers+text",
         "name": "trump",
         "showlegend": false,
         "text": [
          "trump"
         ],
         "textposition": "top center",
         "x": [
          -2.4641770940567547
         ],
         "y": [
          -2.4093461031802557
         ],
         "type": "scatter"
        },
        {
         "line": {
          "color": "#19D3F3",
          "width": 1
         },
         "mode": "lines",
         "showlegend": false,
         "x": [
          -3.116949052455846,
          -2.4641770940567547
         ],
         "y": [
          -1.653216567333632,
          -2.4093461031802557
         ],
         "type": "scatter"
        },
        {
         "marker": {
          "color": "#19D3F3"
         },
         "mode": "markers+text",
         "name": "trump",
         "showlegend": false,
         "text": [
          "trump"
         ],
         "textposition": "top center",
         "x": [
          -2.7249410052484206
         ],
         "y": [
          -1.9961639175726367
         ],
         "type": "scatter"
        },
        {
         "line": {
          "color": "#19D3F3",
          "width": 1
         },
         "mode": "lines",
         "showlegend": false,
         "x": [
          -2.4641770940567547,
          -2.7249410052484206
         ],
         "y": [
          -2.4093461031802557,
          -1.9961639175726367
         ],
         "type": "scatter"
        },
        {
         "marker": {
          "color": "#19D3F3"
         },
         "mode": "markers+text",
         "name": "trump",
         "showlegend": false,
         "text": [
          "trump"
         ],
         "textposition": "top center",
         "x": [
          -2.9969600647097603
         ],
         "y": [
          -1.1415103754895934
         ],
         "type": "scatter"
        },
        {
         "line": {
          "color": "#19D3F3",
          "width": 1
         },
         "mode": "lines",
         "showlegend": false,
         "x": [
          -2.7249410052484206,
          -2.9969600647097603
         ],
         "y": [
          -1.9961639175726367,
          -1.1415103754895934
         ],
         "type": "scatter"
        },
        {
         "marker": {
          "color": "#EF553B"
         },
         "mode": "markers+text",
         "name": "biden",
         "showlegend": false,
         "text": [
          "biden"
         ],
         "textposition": "top center",
         "x": [
          -4.323900841514081
         ],
         "y": [
          0.8928765693714475
         ],
         "type": "scatter"
        },
        {
         "marker": {
          "color": "#EF553B",
          "size": 10,
          "symbol": "diamond"
         },
         "mode": "markers",
         "showlegend": false,
         "x": [
          -4.323900841514081
         ],
         "y": [
          0.8928765693714475
         ],
         "type": "scatter"
        },
        {
         "marker": {
          "color": "#EF553B"
         },
         "mode": "markers+text",
         "name": "biden",
         "showlegend": false,
         "text": [
          "biden"
         ],
         "textposition": "top center",
         "x": [
          -3.9807872492175123
         ],
         "y": [
          0.4281254979335448
         ],
         "type": "scatter"
        },
        {
         "line": {
          "color": "#EF553B",
          "width": 1
         },
         "mode": "lines",
         "showlegend": false,
         "x": [
          -4.323900841514081,
          -3.9807872492175123
         ],
         "y": [
          0.8928765693714475,
          0.4281254979335448
         ],
         "type": "scatter"
        },
        {
         "marker": {
          "color": "#EF553B"
         },
         "mode": "markers+text",
         "name": "biden",
         "showlegend": false,
         "text": [
          "biden"
         ],
         "textposition": "top center",
         "x": [
          -3.6355277710378693
         ],
         "y": [
          -0.28794572384302036
         ],
         "type": "scatter"
        },
        {
         "line": {
          "color": "#EF553B",
          "width": 1
         },
         "mode": "lines",
         "showlegend": false,
         "x": [
          -3.9807872492175123,
          -3.6355277710378693
         ],
         "y": [
          0.4281254979335448,
          -0.28794572384302036
         ],
         "type": "scatter"
        },
        {
         "marker": {
          "color": "#EF553B"
         },
         "mode": "markers+text",
         "name": "biden",
         "showlegend": false,
         "text": [
          "biden"
         ],
         "textposition": "top center",
         "x": [
          -3.54488013685429
         ],
         "y": [
          0.7699905374480877
         ],
         "type": "scatter"
        },
        {
         "line": {
          "color": "#EF553B",
          "width": 1
         },
         "mode": "lines",
         "showlegend": false,
         "x": [
          -3.6355277710378693,
          -3.54488013685429
         ],
         "y": [
          -0.28794572384302036,
          0.7699905374480877
         ],
         "type": "scatter"
        },
        {
         "marker": {
          "color": "#AB63FA"
         },
         "mode": "markers+text",
         "name": "former",
         "showlegend": false,
         "text": [
          "former"
         ],
         "textposition": "top center",
         "x": [
          4.264978799023178
         ],
         "y": [
          -4.1311596730732925
         ],
         "type": "scatter"
        },
        {
         "marker": {
          "color": "#AB63FA",
          "size": 10,
          "symbol": "diamond"
         },
         "mode": "markers",
         "showlegend": false,
         "x": [
          4.264978799023178
         ],
         "y": [
          -4.1311596730732925
         ],
         "type": "scatter"
        },
        {
         "marker": {
          "color": "#AB63FA"
         },
         "mode": "markers+text",
         "name": "former",
         "showlegend": false,
         "text": [
          "former"
         ],
         "textposition": "top center",
         "x": [
          2.191470276698692
         ],
         "y": [
          -2.1037859787029998
         ],
         "type": "scatter"
        },
        {
         "line": {
          "color": "#AB63FA",
          "width": 1
         },
         "mode": "lines",
         "showlegend": false,
         "x": [
          4.264978799023178,
          2.191470276698692
         ],
         "y": [
          -4.1311596730732925,
          -2.1037859787029998
         ],
         "type": "scatter"
        },
        {
         "marker": {
          "color": "#AB63FA"
         },
         "mode": "markers+text",
         "name": "former",
         "showlegend": false,
         "text": [
          "former"
         ],
         "textposition": "top center",
         "x": [
          3.9637308311716763
         ],
         "y": [
          -3.2451266895226296
         ],
         "type": "scatter"
        },
        {
         "line": {
          "color": "#AB63FA",
          "width": 1
         },
         "mode": "lines",
         "showlegend": false,
         "x": [
          2.191470276698692,
          3.9637308311716763
         ],
         "y": [
          -2.1037859787029998,
          -3.2451266895226296
         ],
         "type": "scatter"
        },
        {
         "marker": {
          "color": "#AB63FA"
         },
         "mode": "markers+text",
         "name": "former",
         "showlegend": false,
         "text": [
          "former"
         ],
         "textposition": "top center",
         "x": [
          2.9994914287769783
         ],
         "y": [
          -2.45809027525311
         ],
         "type": "scatter"
        },
        {
         "line": {
          "color": "#AB63FA",
          "width": 1
         },
         "mode": "lines",
         "showlegend": false,
         "x": [
          3.9637308311716763,
          2.9994914287769783
         ],
         "y": [
          -3.2451266895226296,
          -2.45809027525311
         ],
         "type": "scatter"
        },
        {
         "marker": {
          "color": "#636EFA"
         },
         "mode": "markers+text",
         "name": "obama",
         "showlegend": false,
         "text": [
          "obama"
         ],
         "textposition": "top center",
         "x": [
          -2.7730165470273445
         ],
         "y": [
          -0.7048416502809075
         ],
         "type": "scatter"
        },
        {
         "marker": {
          "color": "#636EFA",
          "size": 10,
          "symbol": "diamond"
         },
         "mode": "markers",
         "showlegend": false,
         "x": [
          -2.7730165470273445
         ],
         "y": [
          -0.7048416502809075
         ],
         "type": "scatter"
        },
        {
         "marker": {
          "color": "#636EFA"
         },
         "mode": "markers+text",
         "name": "obama",
         "showlegend": false,
         "text": [
          "obama"
         ],
         "textposition": "top center",
         "x": [
          -3.9133812905217678
         ],
         "y": [
          -0.5436219371748368
         ],
         "type": "scatter"
        },
        {
         "line": {
          "color": "#636EFA",
          "width": 1
         },
         "mode": "lines",
         "showlegend": false,
         "x": [
          -2.7730165470273445,
          -3.9133812905217678
         ],
         "y": [
          -0.7048416502809075,
          -0.5436219371748368
         ],
         "type": "scatter"
        },
        {
         "marker": {
          "color": "#636EFA"
         },
         "mode": "markers+text",
         "name": "obama",
         "showlegend": false,
         "text": [
          "obama"
         ],
         "textposition": "top center",
         "x": [
          -5.277979096154897
         ],
         "y": [
          2.2809225883946067
         ],
         "type": "scatter"
        },
        {
         "line": {
          "color": "#636EFA",
          "width": 1
         },
         "mode": "lines",
         "showlegend": false,
         "x": [
          -3.9133812905217678,
          -5.277979096154897
         ],
         "y": [
          -0.5436219371748368,
          2.2809225883946067
         ],
         "type": "scatter"
        },
        {
         "marker": {
          "color": "#636EFA"
         },
         "mode": "markers+text",
         "name": "obama",
         "showlegend": false,
         "text": [
          "obama"
         ],
         "textposition": "top center",
         "x": [
          -3.772250703402041
         ],
         "y": [
          1.6113624379471552
         ],
         "type": "scatter"
        },
        {
         "line": {
          "color": "#636EFA",
          "width": 1
         },
         "mode": "lines",
         "showlegend": false,
         "x": [
          -5.277979096154897,
          -3.772250703402041
         ],
         "y": [
          2.2809225883946067,
          1.6113624379471552
         ],
         "type": "scatter"
        },
        {
         "marker": {
          "color": "#FF6692"
         },
         "mode": "markers+text",
         "name": "minister",
         "showlegend": false,
         "text": [
          "minister"
         ],
         "textposition": "top center",
         "x": [
          2.8609477310016307
         ],
         "y": [
          7.062720990802209
         ],
         "type": "scatter"
        },
        {
         "marker": {
          "color": "#FF6692",
          "size": 10,
          "symbol": "diamond"
         },
         "mode": "markers",
         "showlegend": false,
         "x": [
          2.8609477310016307
         ],
         "y": [
          7.062720990802209
         ],
         "type": "scatter"
        },
        {
         "marker": {
          "color": "#FF6692"
         },
         "mode": "markers+text",
         "name": "minister",
         "showlegend": false,
         "text": [
          "minister"
         ],
         "textposition": "top center",
         "x": [
          3.6753379264072445
         ],
         "y": [
          4.987175678207066
         ],
         "type": "scatter"
        },
        {
         "line": {
          "color": "#FF6692",
          "width": 1
         },
         "mode": "lines",
         "showlegend": false,
         "x": [
          2.8609477310016307,
          3.6753379264072445
         ],
         "y": [
          7.062720990802209,
          4.987175678207066
         ],
         "type": "scatter"
        },
        {
         "marker": {
          "color": "#FF6692"
         },
         "mode": "markers+text",
         "name": "minister",
         "showlegend": false,
         "text": [
          "minister"
         ],
         "textposition": "top center",
         "x": [
          2.994698079214163
         ],
         "y": [
          5.025445244482349
         ],
         "type": "scatter"
        },
        {
         "line": {
          "color": "#FF6692",
          "width": 1
         },
         "mode": "lines",
         "showlegend": false,
         "x": [
          3.6753379264072445,
          2.994698079214163
         ],
         "y": [
          4.987175678207066,
          5.025445244482349
         ],
         "type": "scatter"
        },
        {
         "marker": {
          "color": "#FF6692"
         },
         "mode": "markers+text",
         "name": "minister",
         "showlegend": false,
         "text": [
          "minister"
         ],
         "textposition": "top center",
         "x": [
          3.3767624521907393
         ],
         "y": [
          9.25687486697275
         ],
         "type": "scatter"
        },
        {
         "line": {
          "color": "#FF6692",
          "width": 1
         },
         "mode": "lines",
         "showlegend": false,
         "x": [
          2.994698079214163,
          3.3767624521907393
         ],
         "y": [
          5.025445244482349,
          9.25687486697275
         ],
         "type": "scatter"
        },
        {
         "marker": {
          "color": "#FFA15A"
         },
         "mode": "markers+text",
         "name": "president",
         "showlegend": false,
         "text": [
          "president"
         ],
         "textposition": "top center",
         "x": [
          -0.5884280834278606
         ],
         "y": [
          -0.39396608527071464
         ],
         "type": "scatter"
        },
        {
         "marker": {
          "color": "#FFA15A",
          "size": 10,
          "symbol": "diamond"
         },
         "mode": "markers",
         "showlegend": false,
         "x": [
          -0.5884280834278606
         ],
         "y": [
          -0.39396608527071464
         ],
         "type": "scatter"
        },
        {
         "marker": {
          "color": "#FFA15A"
         },
         "mode": "markers+text",
         "name": "president",
         "showlegend": false,
         "text": [
          "president"
         ],
         "textposition": "top center",
         "x": [
          -0.5238484536023821
         ],
         "y": [
          -1.0163808445310427
         ],
         "type": "scatter"
        },
        {
         "line": {
          "color": "#FFA15A",
          "width": 1
         },
         "mode": "lines",
         "showlegend": false,
         "x": [
          -0.5884280834278606,
          -0.5238484536023821
         ],
         "y": [
          -0.39396608527071464,
          -1.0163808445310427
         ],
         "type": "scatter"
        },
        {
         "marker": {
          "color": "#FFA15A"
         },
         "mode": "markers+text",
         "name": "president",
         "showlegend": false,
         "text": [
          "president"
         ],
         "textposition": "top center",
         "x": [
          -1.131461437161641
         ],
         "y": [
          -0.8391178208527458
         ],
         "type": "scatter"
        },
        {
         "line": {
          "color": "#FFA15A",
          "width": 1
         },
         "mode": "lines",
         "showlegend": false,
         "x": [
          -0.5238484536023821,
          -1.131461437161641
         ],
         "y": [
          -1.0163808445310427,
          -0.8391178208527458
         ],
         "type": "scatter"
        },
        {
         "marker": {
          "color": "#FFA15A"
         },
         "mode": "markers+text",
         "name": "president",
         "showlegend": false,
         "text": [
          "president"
         ],
         "textposition": "top center",
         "x": [
          -1.481865245325587
         ],
         "y": [
          -0.5607662373593791
         ],
         "type": "scatter"
        },
        {
         "line": {
          "color": "#FFA15A",
          "width": 1
         },
         "mode": "lines",
         "showlegend": false,
         "x": [
          -1.131461437161641,
          -1.481865245325587
         ],
         "y": [
          -0.8391178208527458,
          -0.5607662373593791
         ],
         "type": "scatter"
        }
       ],
       "layout": {
        "legend": {
         "x": 1.02,
         "y": 1.0
        },
        "template": {
         "data": {
          "barpolar": [
           {
            "marker": {
             "line": {
              "color": "#E5ECF6",
              "width": 0.5
             },
             "pattern": {
              "fillmode": "overlay",
              "size": 10,
              "solidity": 0.2
             }
            },
            "type": "barpolar"
           }
          ],
          "bar": [
           {
            "error_x": {
             "color": "#2a3f5f"
            },
            "error_y": {
             "color": "#2a3f5f"
            },
            "marker": {
             "line": {
              "color": "#E5ECF6",
              "width": 0.5
             },
             "pattern": {
              "fillmode": "overlay",
              "size": 10,
              "solidity": 0.2
             }
            },
            "type": "bar"
           }
          ],
          "carpet": [
           {
            "aaxis": {
             "endlinecolor": "#2a3f5f",
             "gridcolor": "white",
             "linecolor": "white",
             "minorgridcolor": "white",
             "startlinecolor": "#2a3f5f"
            },
            "baxis": {
             "endlinecolor": "#2a3f5f",
             "gridcolor": "white",
             "linecolor": "white",
             "minorgridcolor": "white",
             "startlinecolor": "#2a3f5f"
            },
            "type": "carpet"
           }
          ],
          "choropleth": [
           {
            "colorbar": {
             "outlinewidth": 0,
             "ticks": ""
            },
            "type": "choropleth"
           }
          ],
          "contourcarpet": [
           {
            "colorbar": {
             "outlinewidth": 0,
             "ticks": ""
            },
            "type": "contourcarpet"
           }
          ],
          "contour": [
           {
            "colorbar": {
             "outlinewidth": 0,
             "ticks": ""
            },
            "colorscale": [
             [
              0.0,
              "#0d0887"
             ],
             [
              0.1111111111111111,
              "#46039f"
             ],
             [
              0.2222222222222222,
              "#7201a8"
             ],
             [
              0.3333333333333333,
              "#9c179e"
             ],
             [
              0.4444444444444444,
              "#bd3786"
             ],
             [
              0.5555555555555556,
              "#d8576b"
             ],
             [
              0.6666666666666666,
              "#ed7953"
             ],
             [
              0.7777777777777778,
              "#fb9f3a"
             ],
             [
              0.8888888888888888,
              "#fdca26"
             ],
             [
              1.0,
              "#f0f921"
             ]
            ],
            "type": "contour"
           }
          ],
          "heatmapgl": [
           {
            "colorbar": {
             "outlinewidth": 0,
             "ticks": ""
            },
            "colorscale": [
             [
              0.0,
              "#0d0887"
             ],
             [
              0.1111111111111111,
              "#46039f"
             ],
             [
              0.2222222222222222,
              "#7201a8"
             ],
             [
              0.3333333333333333,
              "#9c179e"
             ],
             [
              0.4444444444444444,
              "#bd3786"
             ],
             [
              0.5555555555555556,
              "#d8576b"
             ],
             [
              0.6666666666666666,
              "#ed7953"
             ],
             [
              0.7777777777777778,
              "#fb9f3a"
             ],
             [
              0.8888888888888888,
              "#fdca26"
             ],
             [
              1.0,
              "#f0f921"
             ]
            ],
            "type": "heatmapgl"
           }
          ],
          "heatmap": [
           {
            "colorbar": {
             "outlinewidth": 0,
             "ticks": ""
            },
            "colorscale": [
             [
              0.0,
              "#0d0887"
             ],
             [
              0.1111111111111111,
              "#46039f"
             ],
             [
              0.2222222222222222,
              "#7201a8"
             ],
             [
              0.3333333333333333,
              "#9c179e"
             ],
             [
              0.4444444444444444,
              "#bd3786"
             ],
             [
              0.5555555555555556,
              "#d8576b"
             ],
             [
              0.6666666666666666,
              "#ed7953"
             ],
             [
              0.7777777777777778,
              "#fb9f3a"
             ],
             [
              0.8888888888888888,
              "#fdca26"
             ],
             [
              1.0,
              "#f0f921"
             ]
            ],
            "type": "heatmap"
           }
          ],
          "histogram2dcontour": [
           {
            "colorbar": {
             "outlinewidth": 0,
             "ticks": ""
            },
            "colorscale": [
             [
              0.0,
              "#0d0887"
             ],
             [
              0.1111111111111111,
              "#46039f"
             ],
             [
              0.2222222222222222,
              "#7201a8"
             ],
             [
              0.3333333333333333,
              "#9c179e"
             ],
             [
              0.4444444444444444,
              "#bd3786"
             ],
             [
              0.5555555555555556,
              "#d8576b"
             ],
             [
              0.6666666666666666,
              "#ed7953"
             ],
             [
              0.7777777777777778,
              "#fb9f3a"
             ],
             [
              0.8888888888888888,
              "#fdca26"
             ],
             [
              1.0,
              "#f0f921"
             ]
            ],
            "type": "histogram2dcontour"
           }
          ],
          "histogram2d": [
           {
            "colorbar": {
             "outlinewidth": 0,
             "ticks": ""
            },
            "colorscale": [
             [
              0.0,
              "#0d0887"
             ],
             [
              0.1111111111111111,
              "#46039f"
             ],
             [
              0.2222222222222222,
              "#7201a8"
             ],
             [
              0.3333333333333333,
              "#9c179e"
             ],
             [
              0.4444444444444444,
              "#bd3786"
             ],
             [
              0.5555555555555556,
              "#d8576b"
             ],
             [
              0.6666666666666666,
              "#ed7953"
             ],
             [
              0.7777777777777778,
              "#fb9f3a"
             ],
             [
              0.8888888888888888,
              "#fdca26"
             ],
             [
              1.0,
              "#f0f921"
             ]
            ],
            "type": "histogram2d"
           }
          ],
          "histogram": [
           {
            "marker": {
             "pattern": {
              "fillmode": "overlay",
              "size": 10,
              "solidity": 0.2
             }
            },
            "type": "histogram"
           }
          ],
          "mesh3d": [
           {
            "colorbar": {
             "outlinewidth": 0,
             "ticks": ""
            },
            "type": "mesh3d"
           }
          ],
          "parcoords": [
           {
            "line": {
             "colorbar": {
              "outlinewidth": 0,
              "ticks": ""
             }
            },
            "type": "parcoords"
           }
          ],
          "pie": [
           {
            "automargin": true,
            "type": "pie"
           }
          ],
          "scatter3d": [
           {
            "line": {
             "colorbar": {
              "outlinewidth": 0,
              "ticks": ""
             }
            },
            "marker": {
             "colorbar": {
              "outlinewidth": 0,
              "ticks": ""
             }
            },
            "type": "scatter3d"
           }
          ],
          "scattercarpet": [
           {
            "marker": {
             "colorbar": {
              "outlinewidth": 0,
              "ticks": ""
             }
            },
            "type": "scattercarpet"
           }
          ],
          "scattergeo": [
           {
            "marker": {
             "colorbar": {
              "outlinewidth": 0,
              "ticks": ""
             }
            },
            "type": "scattergeo"
           }
          ],
          "scattergl": [
           {
            "marker": {
             "colorbar": {
              "outlinewidth": 0,
              "ticks": ""
             }
            },
            "type": "scattergl"
           }
          ],
          "scattermapbox": [
           {
            "marker": {
             "colorbar": {
              "outlinewidth": 0,
              "ticks": ""
             }
            },
            "type": "scattermapbox"
           }
          ],
          "scatterpolargl": [
           {
            "marker": {
             "colorbar": {
              "outlinewidth": 0,
              "ticks": ""
             }
            },
            "type": "scatterpolargl"
           }
          ],
          "scatterpolar": [
           {
            "marker": {
             "colorbar": {
              "outlinewidth": 0,
              "ticks": ""
             }
            },
            "type": "scatterpolar"
           }
          ],
          "scatter": [
           {
            "fillpattern": {
             "fillmode": "overlay",
             "size": 10,
             "solidity": 0.2
            },
            "type": "scatter"
           }
          ],
          "scatterternary": [
           {
            "marker": {
             "colorbar": {
              "outlinewidth": 0,
              "ticks": ""
             }
            },
            "type": "scatterternary"
           }
          ],
          "surface": [
           {
            "colorbar": {
             "outlinewidth": 0,
             "ticks": ""
            },
            "colorscale": [
             [
              0.0,
              "#0d0887"
             ],
             [
              0.1111111111111111,
              "#46039f"
             ],
             [
              0.2222222222222222,
              "#7201a8"
             ],
             [
              0.3333333333333333,
              "#9c179e"
             ],
             [
              0.4444444444444444,
              "#bd3786"
             ],
             [
              0.5555555555555556,
              "#d8576b"
             ],
             [
              0.6666666666666666,
              "#ed7953"
             ],
             [
              0.7777777777777778,
              "#fb9f3a"
             ],
             [
              0.8888888888888888,
              "#fdca26"
             ],
             [
              1.0,
              "#f0f921"
             ]
            ],
            "type": "surface"
           }
          ],
          "table": [
           {
            "cells": {
             "fill": {
              "color": "#EBF0F8"
             },
             "line": {
              "color": "white"
             }
            },
            "header": {
             "fill": {
              "color": "#C8D4E3"
             },
             "line": {
              "color": "white"
             }
            },
            "type": "table"
           }
          ]
         },
         "layout": {
          "annotationdefaults": {
           "arrowcolor": "#2a3f5f",
           "arrowhead": 0,
           "arrowwidth": 1
          },
          "autotypenumbers": "strict",
          "coloraxis": {
           "colorbar": {
            "outlinewidth": 0,
            "ticks": ""
           }
          },
          "colorscale": {
           "diverging": [
            [
             0,
             "#8e0152"
            ],
            [
             0.1,
             "#c51b7d"
            ],
            [
             0.2,
             "#de77ae"
            ],
            [
             0.3,
             "#f1b6da"
            ],
            [
             0.4,
             "#fde0ef"
            ],
            [
             0.5,
             "#f7f7f7"
            ],
            [
             0.6,
             "#e6f5d0"
            ],
            [
             0.7,
             "#b8e186"
            ],
            [
             0.8,
             "#7fbc41"
            ],
            [
             0.9,
             "#4d9221"
            ],
            [
             1,
             "#276419"
            ]
           ],
           "sequential": [
            [
             0.0,
             "#0d0887"
            ],
            [
             0.1111111111111111,
             "#46039f"
            ],
            [
             0.2222222222222222,
             "#7201a8"
            ],
            [
             0.3333333333333333,
             "#9c179e"
            ],
            [
             0.4444444444444444,
             "#bd3786"
            ],
            [
             0.5555555555555556,
             "#d8576b"
            ],
            [
             0.6666666666666666,
             "#ed7953"
            ],
            [
             0.7777777777777778,
             "#fb9f3a"
            ],
            [
             0.8888888888888888,
             "#fdca26"
            ],
            [
             1.0,
             "#f0f921"
            ]
           ],
           "sequentialminus": [
            [
             0.0,
             "#0d0887"
            ],
            [
             0.1111111111111111,
             "#46039f"
            ],
            [
             0.2222222222222222,
             "#7201a8"
            ],
            [
             0.3333333333333333,
             "#9c179e"
            ],
            [
             0.4444444444444444,
             "#bd3786"
            ],
            [
             0.5555555555555556,
             "#d8576b"
            ],
            [
             0.6666666666666666,
             "#ed7953"
            ],
            [
             0.7777777777777778,
             "#fb9f3a"
            ],
            [
             0.8888888888888888,
             "#fdca26"
            ],
            [
             1.0,
             "#f0f921"
            ]
           ]
          },
          "colorway": [
           "#636efa",
           "#EF553B",
           "#00cc96",
           "#ab63fa",
           "#FFA15A",
           "#19d3f3",
           "#FF6692",
           "#B6E880",
           "#FF97FF",
           "#FECB52"
          ],
          "font": {
           "color": "#2a3f5f"
          },
          "geo": {
           "bgcolor": "white",
           "lakecolor": "white",
           "landcolor": "#E5ECF6",
           "showlakes": true,
           "showland": true,
           "subunitcolor": "white"
          },
          "hoverlabel": {
           "align": "left"
          },
          "hovermode": "closest",
          "mapbox": {
           "style": "light"
          },
          "paper_bgcolor": "white",
          "plot_bgcolor": "#E5ECF6",
          "polar": {
           "angularaxis": {
            "gridcolor": "white",
            "linecolor": "white",
            "ticks": ""
           },
           "bgcolor": "#E5ECF6",
           "radialaxis": {
            "gridcolor": "white",
            "linecolor": "white",
            "ticks": ""
           }
          },
          "scene": {
           "xaxis": {
            "backgroundcolor": "#E5ECF6",
            "gridcolor": "white",
            "gridwidth": 2,
            "linecolor": "white",
            "showbackground": true,
            "ticks": "",
            "zerolinecolor": "white"
           },
           "yaxis": {
            "backgroundcolor": "#E5ECF6",
            "gridcolor": "white",
            "gridwidth": 2,
            "linecolor": "white",
            "showbackground": true,
            "ticks": "",
            "zerolinecolor": "white"
           },
           "zaxis": {
            "backgroundcolor": "#E5ECF6",
            "gridcolor": "white",
            "gridwidth": 2,
            "linecolor": "white",
            "showbackground": true,
            "ticks": "",
            "zerolinecolor": "white"
           }
          },
          "shapedefaults": {
           "line": {
            "color": "#2a3f5f"
           }
          },
          "ternary": {
           "aaxis": {
            "gridcolor": "white",
            "linecolor": "white",
            "ticks": ""
           },
           "baxis": {
            "gridcolor": "white",
            "linecolor": "white",
            "ticks": ""
           },
           "bgcolor": "#E5ECF6",
           "caxis": {
            "gridcolor": "white",
            "linecolor": "white",
            "ticks": ""
           }
          },
          "title": {
           "x": 0.05
          },
          "xaxis": {
           "automargin": true,
           "gridcolor": "white",
           "linecolor": "white",
           "ticks": "",
           "title": {
            "standoff": 15
           },
           "zerolinecolor": "white",
           "zerolinewidth": 2
          },
          "yaxis": {
           "automargin": true,
           "gridcolor": "white",
           "linecolor": "white",
           "ticks": "",
           "title": {
            "standoff": 15
           },
           "zerolinecolor": "white",
           "zerolinewidth": 2
          }
         }
        },
        "title": {
         "text": "2D Visualization of Word Vectors"
        },
        "xaxis": {
         "range": [
          -10,
          15
         ],
         "title": {
          "text": "PC1"
         }
        },
        "yaxis": {
         "range": [
          -10,
          15
         ],
         "title": {
          "text": "PC2"
         }
        }
       },
       "config": {
        "showLink": false,
        "linkText": "Export to plot.ly",
        "plotlyServerURL": "https://plot.ly"
       }
      },
      "text/html": "<div>                            <div id=\"7b48a472-f04a-4b7f-8c87-788c05fa30e8\" class=\"plotly-graph-div\" style=\"height:525px; width:100%;\"></div>            <script type=\"text/javascript\">                require([\"plotly\"], function(Plotly) {                    window.PLOTLYENV=window.PLOTLYENV || {};                                    if (document.getElementById(\"7b48a472-f04a-4b7f-8c87-788c05fa30e8\")) {                    Plotly.newPlot(                        \"7b48a472-f04a-4b7f-8c87-788c05fa30e8\",                        [{\"marker\":{\"color\":\"#00CC96\"},\"mode\":\"markers+text\",\"name\":\"johnson\",\"showlegend\":false,\"text\":[\"johnson\"],\"textposition\":\"top center\",\"x\":[5.221300359541761],\"y\":[-2.5708178739927705],\"type\":\"scatter\"},{\"marker\":{\"color\":\"#00CC96\",\"size\":10,\"symbol\":\"diamond\"},\"mode\":\"markers\",\"showlegend\":false,\"x\":[5.221300359541761],\"y\":[-2.5708178739927705],\"type\":\"scatter\"},{\"marker\":{\"color\":\"#00CC96\"},\"mode\":\"markers+text\",\"name\":\"johnson\",\"showlegend\":false,\"text\":[\"johnson\"],\"textposition\":\"top center\",\"x\":[4.365130250168885],\"y\":[-3.7107296817106667],\"type\":\"scatter\"},{\"line\":{\"color\":\"#00CC96\",\"width\":1},\"mode\":\"lines\",\"showlegend\":false,\"x\":[5.221300359541761,4.365130250168885],\"y\":[-2.5708178739927705,-3.7107296817106667],\"type\":\"scatter\"},{\"marker\":{\"color\":\"#00CC96\"},\"mode\":\"markers+text\",\"name\":\"johnson\",\"showlegend\":false,\"text\":[\"johnson\"],\"textposition\":\"top center\",\"x\":[6.707538301412197],\"y\":[-1.5330718802612648],\"type\":\"scatter\"},{\"line\":{\"color\":\"#00CC96\",\"width\":1},\"mode\":\"lines\",\"showlegend\":false,\"x\":[4.365130250168885,6.707538301412197],\"y\":[-3.7107296817106667,-1.5330718802612648],\"type\":\"scatter\"},{\"marker\":{\"color\":\"#00CC96\"},\"mode\":\"markers+text\",\"name\":\"johnson\",\"showlegend\":false,\"text\":[\"johnson\"],\"textposition\":\"top center\",\"x\":[3.6289676361109175],\"y\":[-1.015835096153729],\"type\":\"scatter\"},{\"line\":{\"color\":\"#00CC96\",\"width\":1},\"mode\":\"lines\",\"showlegend\":false,\"x\":[6.707538301412197,3.6289676361109175],\"y\":[-1.5330718802612648,-1.015835096153729],\"type\":\"scatter\"},{\"marker\":{\"color\":\"#19D3F3\"},\"mode\":\"markers+text\",\"name\":\"trump\",\"showlegend\":false,\"text\":[\"trump\"],\"textposition\":\"top center\",\"x\":[-3.116949052455846],\"y\":[-1.653216567333632],\"type\":\"scatter\"},{\"marker\":{\"color\":\"#19D3F3\",\"size\":10,\"symbol\":\"diamond\"},\"mode\":\"markers\",\"showlegend\":false,\"x\":[-3.116949052455846],\"y\":[-1.653216567333632],\"type\":\"scatter\"},{\"marker\":{\"color\":\"#19D3F3\"},\"mode\":\"markers+text\",\"name\":\"trump\",\"showlegend\":false,\"text\":[\"trump\"],\"textposition\":\"top center\",\"x\":[-2.4641770940567547],\"y\":[-2.4093461031802557],\"type\":\"scatter\"},{\"line\":{\"color\":\"#19D3F3\",\"width\":1},\"mode\":\"lines\",\"showlegend\":false,\"x\":[-3.116949052455846,-2.4641770940567547],\"y\":[-1.653216567333632,-2.4093461031802557],\"type\":\"scatter\"},{\"marker\":{\"color\":\"#19D3F3\"},\"mode\":\"markers+text\",\"name\":\"trump\",\"showlegend\":false,\"text\":[\"trump\"],\"textposition\":\"top center\",\"x\":[-2.7249410052484206],\"y\":[-1.9961639175726367],\"type\":\"scatter\"},{\"line\":{\"color\":\"#19D3F3\",\"width\":1},\"mode\":\"lines\",\"showlegend\":false,\"x\":[-2.4641770940567547,-2.7249410052484206],\"y\":[-2.4093461031802557,-1.9961639175726367],\"type\":\"scatter\"},{\"marker\":{\"color\":\"#19D3F3\"},\"mode\":\"markers+text\",\"name\":\"trump\",\"showlegend\":false,\"text\":[\"trump\"],\"textposition\":\"top center\",\"x\":[-2.9969600647097603],\"y\":[-1.1415103754895934],\"type\":\"scatter\"},{\"line\":{\"color\":\"#19D3F3\",\"width\":1},\"mode\":\"lines\",\"showlegend\":false,\"x\":[-2.7249410052484206,-2.9969600647097603],\"y\":[-1.9961639175726367,-1.1415103754895934],\"type\":\"scatter\"},{\"marker\":{\"color\":\"#EF553B\"},\"mode\":\"markers+text\",\"name\":\"biden\",\"showlegend\":false,\"text\":[\"biden\"],\"textposition\":\"top center\",\"x\":[-4.323900841514081],\"y\":[0.8928765693714475],\"type\":\"scatter\"},{\"marker\":{\"color\":\"#EF553B\",\"size\":10,\"symbol\":\"diamond\"},\"mode\":\"markers\",\"showlegend\":false,\"x\":[-4.323900841514081],\"y\":[0.8928765693714475],\"type\":\"scatter\"},{\"marker\":{\"color\":\"#EF553B\"},\"mode\":\"markers+text\",\"name\":\"biden\",\"showlegend\":false,\"text\":[\"biden\"],\"textposition\":\"top center\",\"x\":[-3.9807872492175123],\"y\":[0.4281254979335448],\"type\":\"scatter\"},{\"line\":{\"color\":\"#EF553B\",\"width\":1},\"mode\":\"lines\",\"showlegend\":false,\"x\":[-4.323900841514081,-3.9807872492175123],\"y\":[0.8928765693714475,0.4281254979335448],\"type\":\"scatter\"},{\"marker\":{\"color\":\"#EF553B\"},\"mode\":\"markers+text\",\"name\":\"biden\",\"showlegend\":false,\"text\":[\"biden\"],\"textposition\":\"top center\",\"x\":[-3.6355277710378693],\"y\":[-0.28794572384302036],\"type\":\"scatter\"},{\"line\":{\"color\":\"#EF553B\",\"width\":1},\"mode\":\"lines\",\"showlegend\":false,\"x\":[-3.9807872492175123,-3.6355277710378693],\"y\":[0.4281254979335448,-0.28794572384302036],\"type\":\"scatter\"},{\"marker\":{\"color\":\"#EF553B\"},\"mode\":\"markers+text\",\"name\":\"biden\",\"showlegend\":false,\"text\":[\"biden\"],\"textposition\":\"top center\",\"x\":[-3.54488013685429],\"y\":[0.7699905374480877],\"type\":\"scatter\"},{\"line\":{\"color\":\"#EF553B\",\"width\":1},\"mode\":\"lines\",\"showlegend\":false,\"x\":[-3.6355277710378693,-3.54488013685429],\"y\":[-0.28794572384302036,0.7699905374480877],\"type\":\"scatter\"},{\"marker\":{\"color\":\"#AB63FA\"},\"mode\":\"markers+text\",\"name\":\"former\",\"showlegend\":false,\"text\":[\"former\"],\"textposition\":\"top center\",\"x\":[4.264978799023178],\"y\":[-4.1311596730732925],\"type\":\"scatter\"},{\"marker\":{\"color\":\"#AB63FA\",\"size\":10,\"symbol\":\"diamond\"},\"mode\":\"markers\",\"showlegend\":false,\"x\":[4.264978799023178],\"y\":[-4.1311596730732925],\"type\":\"scatter\"},{\"marker\":{\"color\":\"#AB63FA\"},\"mode\":\"markers+text\",\"name\":\"former\",\"showlegend\":false,\"text\":[\"former\"],\"textposition\":\"top center\",\"x\":[2.191470276698692],\"y\":[-2.1037859787029998],\"type\":\"scatter\"},{\"line\":{\"color\":\"#AB63FA\",\"width\":1},\"mode\":\"lines\",\"showlegend\":false,\"x\":[4.264978799023178,2.191470276698692],\"y\":[-4.1311596730732925,-2.1037859787029998],\"type\":\"scatter\"},{\"marker\":{\"color\":\"#AB63FA\"},\"mode\":\"markers+text\",\"name\":\"former\",\"showlegend\":false,\"text\":[\"former\"],\"textposition\":\"top center\",\"x\":[3.9637308311716763],\"y\":[-3.2451266895226296],\"type\":\"scatter\"},{\"line\":{\"color\":\"#AB63FA\",\"width\":1},\"mode\":\"lines\",\"showlegend\":false,\"x\":[2.191470276698692,3.9637308311716763],\"y\":[-2.1037859787029998,-3.2451266895226296],\"type\":\"scatter\"},{\"marker\":{\"color\":\"#AB63FA\"},\"mode\":\"markers+text\",\"name\":\"former\",\"showlegend\":false,\"text\":[\"former\"],\"textposition\":\"top center\",\"x\":[2.9994914287769783],\"y\":[-2.45809027525311],\"type\":\"scatter\"},{\"line\":{\"color\":\"#AB63FA\",\"width\":1},\"mode\":\"lines\",\"showlegend\":false,\"x\":[3.9637308311716763,2.9994914287769783],\"y\":[-3.2451266895226296,-2.45809027525311],\"type\":\"scatter\"},{\"marker\":{\"color\":\"#636EFA\"},\"mode\":\"markers+text\",\"name\":\"obama\",\"showlegend\":false,\"text\":[\"obama\"],\"textposition\":\"top center\",\"x\":[-2.7730165470273445],\"y\":[-0.7048416502809075],\"type\":\"scatter\"},{\"marker\":{\"color\":\"#636EFA\",\"size\":10,\"symbol\":\"diamond\"},\"mode\":\"markers\",\"showlegend\":false,\"x\":[-2.7730165470273445],\"y\":[-0.7048416502809075],\"type\":\"scatter\"},{\"marker\":{\"color\":\"#636EFA\"},\"mode\":\"markers+text\",\"name\":\"obama\",\"showlegend\":false,\"text\":[\"obama\"],\"textposition\":\"top center\",\"x\":[-3.9133812905217678],\"y\":[-0.5436219371748368],\"type\":\"scatter\"},{\"line\":{\"color\":\"#636EFA\",\"width\":1},\"mode\":\"lines\",\"showlegend\":false,\"x\":[-2.7730165470273445,-3.9133812905217678],\"y\":[-0.7048416502809075,-0.5436219371748368],\"type\":\"scatter\"},{\"marker\":{\"color\":\"#636EFA\"},\"mode\":\"markers+text\",\"name\":\"obama\",\"showlegend\":false,\"text\":[\"obama\"],\"textposition\":\"top center\",\"x\":[-5.277979096154897],\"y\":[2.2809225883946067],\"type\":\"scatter\"},{\"line\":{\"color\":\"#636EFA\",\"width\":1},\"mode\":\"lines\",\"showlegend\":false,\"x\":[-3.9133812905217678,-5.277979096154897],\"y\":[-0.5436219371748368,2.2809225883946067],\"type\":\"scatter\"},{\"marker\":{\"color\":\"#636EFA\"},\"mode\":\"markers+text\",\"name\":\"obama\",\"showlegend\":false,\"text\":[\"obama\"],\"textposition\":\"top center\",\"x\":[-3.772250703402041],\"y\":[1.6113624379471552],\"type\":\"scatter\"},{\"line\":{\"color\":\"#636EFA\",\"width\":1},\"mode\":\"lines\",\"showlegend\":false,\"x\":[-5.277979096154897,-3.772250703402041],\"y\":[2.2809225883946067,1.6113624379471552],\"type\":\"scatter\"},{\"marker\":{\"color\":\"#FF6692\"},\"mode\":\"markers+text\",\"name\":\"minister\",\"showlegend\":false,\"text\":[\"minister\"],\"textposition\":\"top center\",\"x\":[2.8609477310016307],\"y\":[7.062720990802209],\"type\":\"scatter\"},{\"marker\":{\"color\":\"#FF6692\",\"size\":10,\"symbol\":\"diamond\"},\"mode\":\"markers\",\"showlegend\":false,\"x\":[2.8609477310016307],\"y\":[7.062720990802209],\"type\":\"scatter\"},{\"marker\":{\"color\":\"#FF6692\"},\"mode\":\"markers+text\",\"name\":\"minister\",\"showlegend\":false,\"text\":[\"minister\"],\"textposition\":\"top center\",\"x\":[3.6753379264072445],\"y\":[4.987175678207066],\"type\":\"scatter\"},{\"line\":{\"color\":\"#FF6692\",\"width\":1},\"mode\":\"lines\",\"showlegend\":false,\"x\":[2.8609477310016307,3.6753379264072445],\"y\":[7.062720990802209,4.987175678207066],\"type\":\"scatter\"},{\"marker\":{\"color\":\"#FF6692\"},\"mode\":\"markers+text\",\"name\":\"minister\",\"showlegend\":false,\"text\":[\"minister\"],\"textposition\":\"top center\",\"x\":[2.994698079214163],\"y\":[5.025445244482349],\"type\":\"scatter\"},{\"line\":{\"color\":\"#FF6692\",\"width\":1},\"mode\":\"lines\",\"showlegend\":false,\"x\":[3.6753379264072445,2.994698079214163],\"y\":[4.987175678207066,5.025445244482349],\"type\":\"scatter\"},{\"marker\":{\"color\":\"#FF6692\"},\"mode\":\"markers+text\",\"name\":\"minister\",\"showlegend\":false,\"text\":[\"minister\"],\"textposition\":\"top center\",\"x\":[3.3767624521907393],\"y\":[9.25687486697275],\"type\":\"scatter\"},{\"line\":{\"color\":\"#FF6692\",\"width\":1},\"mode\":\"lines\",\"showlegend\":false,\"x\":[2.994698079214163,3.3767624521907393],\"y\":[5.025445244482349,9.25687486697275],\"type\":\"scatter\"},{\"marker\":{\"color\":\"#FFA15A\"},\"mode\":\"markers+text\",\"name\":\"president\",\"showlegend\":false,\"text\":[\"president\"],\"textposition\":\"top center\",\"x\":[-0.5884280834278606],\"y\":[-0.39396608527071464],\"type\":\"scatter\"},{\"marker\":{\"color\":\"#FFA15A\",\"size\":10,\"symbol\":\"diamond\"},\"mode\":\"markers\",\"showlegend\":false,\"x\":[-0.5884280834278606],\"y\":[-0.39396608527071464],\"type\":\"scatter\"},{\"marker\":{\"color\":\"#FFA15A\"},\"mode\":\"markers+text\",\"name\":\"president\",\"showlegend\":false,\"text\":[\"president\"],\"textposition\":\"top center\",\"x\":[-0.5238484536023821],\"y\":[-1.0163808445310427],\"type\":\"scatter\"},{\"line\":{\"color\":\"#FFA15A\",\"width\":1},\"mode\":\"lines\",\"showlegend\":false,\"x\":[-0.5884280834278606,-0.5238484536023821],\"y\":[-0.39396608527071464,-1.0163808445310427],\"type\":\"scatter\"},{\"marker\":{\"color\":\"#FFA15A\"},\"mode\":\"markers+text\",\"name\":\"president\",\"showlegend\":false,\"text\":[\"president\"],\"textposition\":\"top center\",\"x\":[-1.131461437161641],\"y\":[-0.8391178208527458],\"type\":\"scatter\"},{\"line\":{\"color\":\"#FFA15A\",\"width\":1},\"mode\":\"lines\",\"showlegend\":false,\"x\":[-0.5238484536023821,-1.131461437161641],\"y\":[-1.0163808445310427,-0.8391178208527458],\"type\":\"scatter\"},{\"marker\":{\"color\":\"#FFA15A\"},\"mode\":\"markers+text\",\"name\":\"president\",\"showlegend\":false,\"text\":[\"president\"],\"textposition\":\"top center\",\"x\":[-1.481865245325587],\"y\":[-0.5607662373593791],\"type\":\"scatter\"},{\"line\":{\"color\":\"#FFA15A\",\"width\":1},\"mode\":\"lines\",\"showlegend\":false,\"x\":[-1.131461437161641,-1.481865245325587],\"y\":[-0.8391178208527458,-0.5607662373593791],\"type\":\"scatter\"}],                        {\"legend\":{\"x\":1.02,\"y\":1.0},\"template\":{\"data\":{\"barpolar\":[{\"marker\":{\"line\":{\"color\":\"#E5ECF6\",\"width\":0.5},\"pattern\":{\"fillmode\":\"overlay\",\"size\":10,\"solidity\":0.2}},\"type\":\"barpolar\"}],\"bar\":[{\"error_x\":{\"color\":\"#2a3f5f\"},\"error_y\":{\"color\":\"#2a3f5f\"},\"marker\":{\"line\":{\"color\":\"#E5ECF6\",\"width\":0.5},\"pattern\":{\"fillmode\":\"overlay\",\"size\":10,\"solidity\":0.2}},\"type\":\"bar\"}],\"carpet\":[{\"aaxis\":{\"endlinecolor\":\"#2a3f5f\",\"gridcolor\":\"white\",\"linecolor\":\"white\",\"minorgridcolor\":\"white\",\"startlinecolor\":\"#2a3f5f\"},\"baxis\":{\"endlinecolor\":\"#2a3f5f\",\"gridcolor\":\"white\",\"linecolor\":\"white\",\"minorgridcolor\":\"white\",\"startlinecolor\":\"#2a3f5f\"},\"type\":\"carpet\"}],\"choropleth\":[{\"colorbar\":{\"outlinewidth\":0,\"ticks\":\"\"},\"type\":\"choropleth\"}],\"contourcarpet\":[{\"colorbar\":{\"outlinewidth\":0,\"ticks\":\"\"},\"type\":\"contourcarpet\"}],\"contour\":[{\"colorbar\":{\"outlinewidth\":0,\"ticks\":\"\"},\"colorscale\":[[0.0,\"#0d0887\"],[0.1111111111111111,\"#46039f\"],[0.2222222222222222,\"#7201a8\"],[0.3333333333333333,\"#9c179e\"],[0.4444444444444444,\"#bd3786\"],[0.5555555555555556,\"#d8576b\"],[0.6666666666666666,\"#ed7953\"],[0.7777777777777778,\"#fb9f3a\"],[0.8888888888888888,\"#fdca26\"],[1.0,\"#f0f921\"]],\"type\":\"contour\"}],\"heatmapgl\":[{\"colorbar\":{\"outlinewidth\":0,\"ticks\":\"\"},\"colorscale\":[[0.0,\"#0d0887\"],[0.1111111111111111,\"#46039f\"],[0.2222222222222222,\"#7201a8\"],[0.3333333333333333,\"#9c179e\"],[0.4444444444444444,\"#bd3786\"],[0.5555555555555556,\"#d8576b\"],[0.6666666666666666,\"#ed7953\"],[0.7777777777777778,\"#fb9f3a\"],[0.8888888888888888,\"#fdca26\"],[1.0,\"#f0f921\"]],\"type\":\"heatmapgl\"}],\"heatmap\":[{\"colorbar\":{\"outlinewidth\":0,\"ticks\":\"\"},\"colorscale\":[[0.0,\"#0d0887\"],[0.1111111111111111,\"#46039f\"],[0.2222222222222222,\"#7201a8\"],[0.3333333333333333,\"#9c179e\"],[0.4444444444444444,\"#bd3786\"],[0.5555555555555556,\"#d8576b\"],[0.6666666666666666,\"#ed7953\"],[0.7777777777777778,\"#fb9f3a\"],[0.8888888888888888,\"#fdca26\"],[1.0,\"#f0f921\"]],\"type\":\"heatmap\"}],\"histogram2dcontour\":[{\"colorbar\":{\"outlinewidth\":0,\"ticks\":\"\"},\"colorscale\":[[0.0,\"#0d0887\"],[0.1111111111111111,\"#46039f\"],[0.2222222222222222,\"#7201a8\"],[0.3333333333333333,\"#9c179e\"],[0.4444444444444444,\"#bd3786\"],[0.5555555555555556,\"#d8576b\"],[0.6666666666666666,\"#ed7953\"],[0.7777777777777778,\"#fb9f3a\"],[0.8888888888888888,\"#fdca26\"],[1.0,\"#f0f921\"]],\"type\":\"histogram2dcontour\"}],\"histogram2d\":[{\"colorbar\":{\"outlinewidth\":0,\"ticks\":\"\"},\"colorscale\":[[0.0,\"#0d0887\"],[0.1111111111111111,\"#46039f\"],[0.2222222222222222,\"#7201a8\"],[0.3333333333333333,\"#9c179e\"],[0.4444444444444444,\"#bd3786\"],[0.5555555555555556,\"#d8576b\"],[0.6666666666666666,\"#ed7953\"],[0.7777777777777778,\"#fb9f3a\"],[0.8888888888888888,\"#fdca26\"],[1.0,\"#f0f921\"]],\"type\":\"histogram2d\"}],\"histogram\":[{\"marker\":{\"pattern\":{\"fillmode\":\"overlay\",\"size\":10,\"solidity\":0.2}},\"type\":\"histogram\"}],\"mesh3d\":[{\"colorbar\":{\"outlinewidth\":0,\"ticks\":\"\"},\"type\":\"mesh3d\"}],\"parcoords\":[{\"line\":{\"colorbar\":{\"outlinewidth\":0,\"ticks\":\"\"}},\"type\":\"parcoords\"}],\"pie\":[{\"automargin\":true,\"type\":\"pie\"}],\"scatter3d\":[{\"line\":{\"colorbar\":{\"outlinewidth\":0,\"ticks\":\"\"}},\"marker\":{\"colorbar\":{\"outlinewidth\":0,\"ticks\":\"\"}},\"type\":\"scatter3d\"}],\"scattercarpet\":[{\"marker\":{\"colorbar\":{\"outlinewidth\":0,\"ticks\":\"\"}},\"type\":\"scattercarpet\"}],\"scattergeo\":[{\"marker\":{\"colorbar\":{\"outlinewidth\":0,\"ticks\":\"\"}},\"type\":\"scattergeo\"}],\"scattergl\":[{\"marker\":{\"colorbar\":{\"outlinewidth\":0,\"ticks\":\"\"}},\"type\":\"scattergl\"}],\"scattermapbox\":[{\"marker\":{\"colorbar\":{\"outlinewidth\":0,\"ticks\":\"\"}},\"type\":\"scattermapbox\"}],\"scatterpolargl\":[{\"marker\":{\"colorbar\":{\"outlinewidth\":0,\"ticks\":\"\"}},\"type\":\"scatterpolargl\"}],\"scatterpolar\":[{\"marker\":{\"colorbar\":{\"outlinewidth\":0,\"ticks\":\"\"}},\"type\":\"scatterpolar\"}],\"scatter\":[{\"fillpattern\":{\"fillmode\":\"overlay\",\"size\":10,\"solidity\":0.2},\"type\":\"scatter\"}],\"scatterternary\":[{\"marker\":{\"colorbar\":{\"outlinewidth\":0,\"ticks\":\"\"}},\"type\":\"scatterternary\"}],\"surface\":[{\"colorbar\":{\"outlinewidth\":0,\"ticks\":\"\"},\"colorscale\":[[0.0,\"#0d0887\"],[0.1111111111111111,\"#46039f\"],[0.2222222222222222,\"#7201a8\"],[0.3333333333333333,\"#9c179e\"],[0.4444444444444444,\"#bd3786\"],[0.5555555555555556,\"#d8576b\"],[0.6666666666666666,\"#ed7953\"],[0.7777777777777778,\"#fb9f3a\"],[0.8888888888888888,\"#fdca26\"],[1.0,\"#f0f921\"]],\"type\":\"surface\"}],\"table\":[{\"cells\":{\"fill\":{\"color\":\"#EBF0F8\"},\"line\":{\"color\":\"white\"}},\"header\":{\"fill\":{\"color\":\"#C8D4E3\"},\"line\":{\"color\":\"white\"}},\"type\":\"table\"}]},\"layout\":{\"annotationdefaults\":{\"arrowcolor\":\"#2a3f5f\",\"arrowhead\":0,\"arrowwidth\":1},\"autotypenumbers\":\"strict\",\"coloraxis\":{\"colorbar\":{\"outlinewidth\":0,\"ticks\":\"\"}},\"colorscale\":{\"diverging\":[[0,\"#8e0152\"],[0.1,\"#c51b7d\"],[0.2,\"#de77ae\"],[0.3,\"#f1b6da\"],[0.4,\"#fde0ef\"],[0.5,\"#f7f7f7\"],[0.6,\"#e6f5d0\"],[0.7,\"#b8e186\"],[0.8,\"#7fbc41\"],[0.9,\"#4d9221\"],[1,\"#276419\"]],\"sequential\":[[0.0,\"#0d0887\"],[0.1111111111111111,\"#46039f\"],[0.2222222222222222,\"#7201a8\"],[0.3333333333333333,\"#9c179e\"],[0.4444444444444444,\"#bd3786\"],[0.5555555555555556,\"#d8576b\"],[0.6666666666666666,\"#ed7953\"],[0.7777777777777778,\"#fb9f3a\"],[0.8888888888888888,\"#fdca26\"],[1.0,\"#f0f921\"]],\"sequentialminus\":[[0.0,\"#0d0887\"],[0.1111111111111111,\"#46039f\"],[0.2222222222222222,\"#7201a8\"],[0.3333333333333333,\"#9c179e\"],[0.4444444444444444,\"#bd3786\"],[0.5555555555555556,\"#d8576b\"],[0.6666666666666666,\"#ed7953\"],[0.7777777777777778,\"#fb9f3a\"],[0.8888888888888888,\"#fdca26\"],[1.0,\"#f0f921\"]]},\"colorway\":[\"#636efa\",\"#EF553B\",\"#00cc96\",\"#ab63fa\",\"#FFA15A\",\"#19d3f3\",\"#FF6692\",\"#B6E880\",\"#FF97FF\",\"#FECB52\"],\"font\":{\"color\":\"#2a3f5f\"},\"geo\":{\"bgcolor\":\"white\",\"lakecolor\":\"white\",\"landcolor\":\"#E5ECF6\",\"showlakes\":true,\"showland\":true,\"subunitcolor\":\"white\"},\"hoverlabel\":{\"align\":\"left\"},\"hovermode\":\"closest\",\"mapbox\":{\"style\":\"light\"},\"paper_bgcolor\":\"white\",\"plot_bgcolor\":\"#E5ECF6\",\"polar\":{\"angularaxis\":{\"gridcolor\":\"white\",\"linecolor\":\"white\",\"ticks\":\"\"},\"bgcolor\":\"#E5ECF6\",\"radialaxis\":{\"gridcolor\":\"white\",\"linecolor\":\"white\",\"ticks\":\"\"}},\"scene\":{\"xaxis\":{\"backgroundcolor\":\"#E5ECF6\",\"gridcolor\":\"white\",\"gridwidth\":2,\"linecolor\":\"white\",\"showbackground\":true,\"ticks\":\"\",\"zerolinecolor\":\"white\"},\"yaxis\":{\"backgroundcolor\":\"#E5ECF6\",\"gridcolor\":\"white\",\"gridwidth\":2,\"linecolor\":\"white\",\"showbackground\":true,\"ticks\":\"\",\"zerolinecolor\":\"white\"},\"zaxis\":{\"backgroundcolor\":\"#E5ECF6\",\"gridcolor\":\"white\",\"gridwidth\":2,\"linecolor\":\"white\",\"showbackground\":true,\"ticks\":\"\",\"zerolinecolor\":\"white\"}},\"shapedefaults\":{\"line\":{\"color\":\"#2a3f5f\"}},\"ternary\":{\"aaxis\":{\"gridcolor\":\"white\",\"linecolor\":\"white\",\"ticks\":\"\"},\"baxis\":{\"gridcolor\":\"white\",\"linecolor\":\"white\",\"ticks\":\"\"},\"bgcolor\":\"#E5ECF6\",\"caxis\":{\"gridcolor\":\"white\",\"linecolor\":\"white\",\"ticks\":\"\"}},\"title\":{\"x\":0.05},\"xaxis\":{\"automargin\":true,\"gridcolor\":\"white\",\"linecolor\":\"white\",\"ticks\":\"\",\"title\":{\"standoff\":15},\"zerolinecolor\":\"white\",\"zerolinewidth\":2},\"yaxis\":{\"automargin\":true,\"gridcolor\":\"white\",\"linecolor\":\"white\",\"ticks\":\"\",\"title\":{\"standoff\":15},\"zerolinecolor\":\"white\",\"zerolinewidth\":2}}},\"title\":{\"text\":\"2D Visualization of Word Vectors\"},\"xaxis\":{\"range\":[-10,15],\"title\":{\"text\":\"PC1\"}},\"yaxis\":{\"range\":[-10,15],\"title\":{\"text\":\"PC2\"}}},                        {\"responsive\": true}                    ).then(function(){\n                            \nvar gd = document.getElementById('7b48a472-f04a-4b7f-8c87-788c05fa30e8');\nvar x = new MutationObserver(function (mutations, observer) {{\n        var display = window.getComputedStyle(gd).display;\n        if (!display || display === 'none') {{\n            console.log([gd, 'removed!']);\n            Plotly.purge(gd);\n            observer.disconnect();\n        }}\n}});\n\n// Listen for the removal of the full notebook cells\nvar notebookContainer = gd.closest('#notebook-container');\nif (notebookContainer) {{\n    x.observe(notebookContainer, {childList: true});\n}}\n\n// Listen for the clearing of the current output cell\nvar outputEl = gd.closest('.output');\nif (outputEl) {{\n    x.observe(outputEl, {childList: true});\n}}\n\n                        })                };                });            </script>        </div>"
     },
     "metadata": {},
     "output_type": "display_data"
    }
   ],
   "source": [
    "plot_word_vectors_tppmi(tppmi_model, test_words_president + [target_word_president], range=[-10, 15])"
   ],
   "metadata": {
    "collapsed": false
   }
  },
  {
   "cell_type": "code",
   "execution_count": null,
   "outputs": [],
   "source": [],
   "metadata": {
    "collapsed": false
   }
  }
 ],
 "metadata": {
  "kernelspec": {
   "display_name": "Python 3",
   "language": "python",
   "name": "python3"
  },
  "language_info": {
   "codemirror_mode": {
    "name": "ipython",
    "version": 2
   },
   "file_extension": ".py",
   "mimetype": "text/x-python",
   "name": "python",
   "nbconvert_exporter": "python",
   "pygments_lexer": "ipython2",
   "version": "2.7.6"
  }
 },
 "nbformat": 4,
 "nbformat_minor": 0
}
