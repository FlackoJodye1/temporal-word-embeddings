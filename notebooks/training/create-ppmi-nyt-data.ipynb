{
 "cells": [
  {
   "cell_type": "markdown",
   "source": [
    "# Creation of Sparse PPMI Embeddings for the NYT Dataset"
   ],
   "metadata": {
    "collapsed": false
   }
  },
  {
   "cell_type": "code",
   "execution_count": 1,
   "outputs": [],
   "source": [
    "%load_ext autoreload"
   ],
   "metadata": {
    "collapsed": false
   }
  },
  {
   "cell_type": "code",
   "execution_count": 2,
   "outputs": [],
   "source": [
    "import glob\n",
    "import pickle\n",
    "import pandas as pd\n",
    "from pathlib import Path\n",
    "from pprint import pprint\n",
    "from tqdm.notebook import tqdm\n",
    "\n",
    "import sys\n",
    "sys.path.append('../../')\n",
    "\n",
    "from src.packages.TPPMI.ppmi_model import PPMIModel\n",
    "from src.packages.TPPMI.tppmi_model import TPPMIModel\n",
    "import src.packages.TPPMI.util as tppmi_util\n",
    "\n",
    "import nltk\n",
    "# nltk.download('punkt');"
   ],
   "metadata": {
    "collapsed": false
   }
  },
  {
   "cell_type": "markdown",
   "source": [
    "## Setup"
   ],
   "metadata": {
    "collapsed": false
   }
  },
  {
   "cell_type": "code",
   "execution_count": 3,
   "outputs": [],
   "source": [
    "DATA_DIR = Path(\"../../data\")\n",
    "input_dir =  DATA_DIR / \"processed\" / \"nyt-data\"\n",
    "min_freq = 0 # infrequent words have been removed in preprocessing\n",
    "window_size = 5 # default word2vec window-size\n",
    "number_of_context_words = 500"
   ],
   "metadata": {
    "collapsed": false
   }
  },
  {
   "cell_type": "markdown",
   "source": [
    "## Sample Context Words"
   ],
   "metadata": {
    "collapsed": false
   }
  },
  {
   "cell_type": "code",
   "execution_count": 4,
   "outputs": [],
   "source": [
    "df = pd.read_csv(input_dir / \"corpus_all.csv\")\n",
    "df = df[[\"text\"]]"
   ],
   "metadata": {
    "collapsed": false
   }
  },
  {
   "cell_type": "code",
   "execution_count": 5,
   "outputs": [],
   "source": [
    "df = df.dropna()"
   ],
   "metadata": {
    "collapsed": false
   }
  },
  {
   "cell_type": "code",
   "execution_count": 6,
   "outputs": [],
   "source": [
    "corpus = ' '.join(df[\"text\"])"
   ],
   "metadata": {
    "collapsed": false
   }
  },
  {
   "cell_type": "code",
   "execution_count": 7,
   "outputs": [],
   "source": [
    "top_n = max(2 * number_of_context_words, 2000)\n",
    "context_words = tppmi_util.sample_from_most_common_words(corpus, top_n=top_n,\n",
    "                                                         sample_size=number_of_context_words, remove_stopwords=False)"
   ],
   "metadata": {
    "collapsed": false
   }
  },
  {
   "cell_type": "code",
   "execution_count": 8,
   "outputs": [
    {
     "name": "stdout",
     "output_type": "stream",
     "text": [
      "['salad', 'jr', 'score', 'jersey', 'goal', 'tickets', '1997', 'cars', 'focused', 'mike', 'sell',\n",
      " 'international', 'treatment', 'declined', 'weeks', 'spot', 'nations', 'little', 'worried',\n",
      " 'traffic', 'decide', 'model', 'questions', 'nice', 'imagine', 'married', 'spending', 'statement',\n",
      " 'fall', 'known', 'article', 'streets', 'hes', 'agency', 'recently', 'fewer', 'scott', 'changes',\n",
      " 'came', 'test', 'prove', 'interesting', 'term', 'feet', 'dining', 'primary', 'scene', 'votes',\n",
      " 'red', 'institute', 'girls', 'elections', 'issued', 'struggle', 'senate', 'talent', 'opening',\n",
      " 'day', 'nothing', 'meet', 'unusual', 'sides', 'reason', 'community', 'proved', 'letters',\n",
      " 'quality', 'prosecutors', 'block', 'starts', 'car', 'century', 'four', 'animals', 'unlikely',\n",
      " 'faced', 'earned', 'followed', 'various', 'something', '70', 'night', 'feb', 'drew', 'ready',\n",
      " 'bills', 'issue', 'camp', 'planning', 'think', 'generally', 'fear', 'republicans', 'knicks', '18',\n",
      " 'friends', 'cause', 'rare', '15', 'matter', 'couldnt', 'yes', 'relatively', 'ahead', '14', 'mets',\n",
      " 'easily', 'sept', 'best', 'thats', 'rest', 'terms', 'tony', 'collection', 'calling', 'personal',\n",
      " 'send', 'miss', 'met', 'husband', 'television', 'queens', 'vast', 'although', 'becomes', 'fair',\n",
      " 'worlds', 'percent', 'tradition', 'wearing', 'rights', 'intended', 'brother', 'eight', 'library',\n",
      " 'audience', 'live', 'language', '23', 'needed', 'bob', 'thought', 'choose', 'middle', 'weekend',\n",
      " 'black', 'fifth', 'presented', 'club', 'begins', 'network', 'thinking', 'discuss', 'everyone',\n",
      " 'popular', 'street', 'gone', 'green', 'leaving', 'broad', 'easy', 'rule', 'united',\n",
      " 'entertainment', 'north', 'goes', 'notes', 'month', 'dead', 'evidence', '27', 'travel', 'respect',\n",
      " 'always', 'simply', 'means', 'difficult', 'received', 'dollars', 'powerful', 'seeing', 'mr',\n",
      " 'meat', 'labor', 'putting', 'meanwhile', 'commission', 'apartment', 'action', 'wine', 'clean',\n",
      " 'area', 'chicago', 'peace', 'iraqi', 'cant', 'larger', 'appeal', 'driving', 'operating', 'wife',\n",
      " 'form', 'show', 'ii', 'policy', 'elsewhere', 'illegal', 'criminal', 'things', 'cultural', 'comedy',\n",
      " 'river', 'tax', 'domestic', 'reasons', 'main', 'adding', 'jones', 'strategy', 'journal', 'victims',\n",
      " 'isnt', 'study', 'afternoon', 'studies', 'either', 'champion', 'seasons', 'tend', 'magazine',\n",
      " 'saturday', 'road', 'younger', 'challenge', 'steve', 'seats', 'however', 'board', 'funny', 'usual',\n",
      " 'necessary', 'know', 'restaurants', 'hands', 'create', 'top', 'increase', 'square', 'limited',\n",
      " 'theyre', 'opinion', 'church', 'october', 'republican', 'speed', 'begin', 'centers', 'americans',\n",
      " 'fell', 'clearly', 'risk', 'buying', 'certain', 'writers', 'figures', 'coach', 'italian',\n",
      " 'neither', 'door', 'worst', 'college', 'older', 'started', 'power', 'account', 'fighting', 'faith',\n",
      " 'probably', 'question', 'agencies', 'dishes', 'writer', 'instance', 'common', 'designed', 'global',\n",
      " 'directed', 'european', 'bring', 'named', 'opens', 'went', 'women', '20', 'huge', 'explain', 'air',\n",
      " 'hear', 'already', 'opposition', 'defense', 'floor', 'provided', 'military', 'completed', 'vote',\n",
      " 'playing', 'consider', 'place', 'stadium', 'editor', 'kids', 'cities', 'evening', 'largest',\n",
      " 'served', 'ago', 'wind', '10', 'offers', 'studio', 'seconds', 'moving', 'plants', 'arts', 'home',\n",
      " 'financial', 'quarterback', 'heavy', 'shop', 'fire', 'turning', 'trump', 'army', 'matters',\n",
      " 'grown', 'died', 'banks', 'none', 'normal', 'holding', 'dec', 'owner', 'groups', '1', 'lot',\n",
      " 'firm', 'entirely', 'environmental', 'generation', 'medicine', 'raise', 'visitors', 'sitting',\n",
      " 'average', 'sport', 'deep', 'sales', 'chris', 'world', 'debt', 'walking', 'offense', 'member',\n",
      " 'sat', 'worse', 'level', 'declared', 'mrs', 'nights', 'businesses', 'draw', 'separate', 'nation',\n",
      " 'buildings', 'wasnt', 'hired', 'presidential', 'serve', 'picked', 'phone', 'much', 'hurt',\n",
      " 'friend', '2003', 'onto', 'exactly', 'drug', 'africa', 'creating', 'democrats', '1999', 'prices',\n",
      " 'drive', 'killing', 'b', 'shot', 'course', 'relief', 'positive', 'trying', 'june', 'feel',\n",
      " 'equipment', 'head', 'million', 'kept', 'find', 'determined', 'lee', 'problems', 'restaurant',\n",
      " 'aug', 'center', 'classic', 'third', 'sure', 'judge', 'experience', 'african', 'accounts',\n",
      " 'lincoln', 'sweet', 'interviews', 'opponents', 'panel', 'suggests', 'signs', 'victory', 'shots',\n",
      " 'protect', 'stars', 'competition', 'says', 'china', 'characters', 'growth', 'bed', 'trip',\n",
      " 'trouble', 'politics', 'safe', 'schools', 'village', 'end', 'horse', 'baby', 'spring', 'sex',\n",
      " 'year', 'laws', 'piece', 'food', 'gold', 'confidence', 'id', 'otherwise', 'across', '2010',\n",
      " 'hours', 'must', 'credit', 'late', 'perhaps', 'officers', 'rather', 'boys', 'additional', 'called',\n",
      " 'stories', 'beautiful', 'contrast', 'senator', 'trade', 'london', 'carry', 'waiting', 'throw',\n",
      " 'leaders', 'begun', 'government', 'history', 'records', 'maybe', 'thomas', 'pictures', 'giants',\n",
      " 'comes', 'jets', 'images', 'work', 'quiet', 'francisco', 'complete', 'greatest', 'pain', 'jobs',\n",
      " 'site', 'track', 'turned']\n"
     ]
    }
   ],
   "source": [
    "pprint(context_words, compact=True, width=100)"
   ],
   "metadata": {
    "collapsed": false
   }
  },
  {
   "cell_type": "markdown",
   "source": [
    "## Build Model"
   ],
   "metadata": {
    "collapsed": false
   }
  },
  {
   "cell_type": "code",
   "execution_count": 9,
   "outputs": [],
   "source": [
    "csv_files = glob.glob(str(input_dir /  \"*data.csv\"))\n",
    "\n",
    "# use dict to be able to identify the dfs later on\n",
    "splits = {}"
   ],
   "metadata": {
    "collapsed": false
   }
  },
  {
   "cell_type": "code",
   "execution_count": 10,
   "outputs": [],
   "source": [
    "for filename in csv_files:\n",
    "    df = pd.read_csv(filename)\n",
    "    splits[filename.split(\"_data\")[0][-4:]] = df"
   ],
   "metadata": {
    "collapsed": false
   }
  },
  {
   "cell_type": "code",
   "execution_count": 11,
   "outputs": [
    {
     "data": {
      "text/plain": "  0%|          | 0/27 [00:00<?, ?it/s]",
      "application/vnd.jupyter.widget-view+json": {
       "version_major": 2,
       "version_minor": 0,
       "model_id": "46a2588bca1346fe89f712abf41542ba"
      },
      "application/json": {
       "n": 0,
       "total": 27,
       "elapsed": 0.0048351287841796875,
       "ncols": null,
       "nrows": null,
       "prefix": "",
       "ascii": false,
       "unit": "it",
       "unit_scale": false,
       "rate": null,
       "bar_format": null,
       "postfix": null,
       "unit_divisor": 1000,
       "initial": 0,
       "colour": null
      }
     },
     "metadata": {},
     "output_type": "display_data"
    }
   ],
   "source": [
    "ppmi_models = {key: PPMIModel.construct_from_texts(value, context_words=context_words, min_freq=min_freq) for key, value in tqdm(splits.items())}"
   ],
   "metadata": {
    "collapsed": false
   }
  },
  {
   "cell_type": "markdown",
   "source": [
    "## Control"
   ],
   "metadata": {
    "collapsed": false
   }
  },
  {
   "cell_type": "code",
   "execution_count": 12,
   "outputs": [
    {
     "data": {
      "text/plain": "dict_keys(['2000', '2001', '1997', '1996', '2016', '1990', '1991', '2010', '2011', '2007', '2006', '1994', '1995', '2014', '2015', '2009', '2008', '2003', '2002', '2004', '2005', '1999', '1998', '1993', '1992', '2013', '2012'])"
     },
     "execution_count": 12,
     "metadata": {},
     "output_type": "execute_result"
    }
   ],
   "source": [
    "ppmi_models.keys()"
   ],
   "metadata": {
    "collapsed": false
   }
  },
  {
   "cell_type": "code",
   "execution_count": 13,
   "outputs": [],
   "source": [
    "ppmi_model = ppmi_models[next(iter(ppmi_models))]"
   ],
   "metadata": {
    "collapsed": false
   }
  },
  {
   "cell_type": "code",
   "execution_count": 14,
   "outputs": [
    {
     "data": {
      "text/plain": "(21756, 500)"
     },
     "execution_count": 14,
     "metadata": {},
     "output_type": "execute_result"
    }
   ],
   "source": [
    "ppmi_model.ppmi_matrix.shape"
   ],
   "metadata": {
    "collapsed": false
   }
  },
  {
   "cell_type": "markdown",
   "source": [
    "## Vocabulary"
   ],
   "metadata": {
    "collapsed": false
   }
  },
  {
   "cell_type": "code",
   "execution_count": 15,
   "outputs": [
    {
     "name": "stdout",
     "output_type": "stream",
     "text": [
      "Vocabulary size of timestep 2000: 21756\n",
      "Vocabulary size of timestep 2001: 21780\n",
      "Vocabulary size of timestep 1997: 21357\n",
      "Vocabulary size of timestep 1996: 21602\n",
      "Vocabulary size of timestep 2016: 21334\n",
      "Vocabulary size of timestep 1990: 21238\n",
      "Vocabulary size of timestep 1991: 21387\n",
      "Vocabulary size of timestep 2010: 21798\n",
      "Vocabulary size of timestep 2011: 21820\n",
      "Vocabulary size of timestep 2007: 21931\n",
      "Vocabulary size of timestep 2006: 19104\n",
      "Vocabulary size of timestep 1994: 21503\n",
      "Vocabulary size of timestep 1995: 21520\n",
      "Vocabulary size of timestep 2014: 21856\n",
      "Vocabulary size of timestep 2015: 21853\n",
      "Vocabulary size of timestep 2009: 21810\n",
      "Vocabulary size of timestep 2008: 21935\n",
      "Vocabulary size of timestep 2003: 21836\n",
      "Vocabulary size of timestep 2002: 21822\n",
      "Vocabulary size of timestep 2004: 21906\n",
      "Vocabulary size of timestep 2005: 21906\n",
      "Vocabulary size of timestep 1999: 21709\n",
      "Vocabulary size of timestep 1998: 21699\n",
      "Vocabulary size of timestep 1993: 21439\n",
      "Vocabulary size of timestep 1992: 21437\n",
      "Vocabulary size of timestep 2013: 21870\n",
      "Vocabulary size of timestep 2012: 21902\n"
     ]
    }
   ],
   "source": [
    "for key, ppmi_model in ppmi_models.items():\n",
    "    print(f\"Vocabulary size of timestep {key}: {ppmi_model.get_vocabulary_size()}\")"
   ],
   "metadata": {
    "collapsed": false
   }
  },
  {
   "cell_type": "markdown",
   "source": [
    "## Normalize (optional)"
   ],
   "metadata": {
    "collapsed": false
   }
  },
  {
   "cell_type": "code",
   "execution_count": 18,
   "outputs": [],
   "source": [
    "tppmi_model = TPPMIModel(ppmi_models, dates=\"years\")"
   ],
   "metadata": {
    "collapsed": false
   }
  },
  {
   "cell_type": "code",
   "execution_count": 19,
   "outputs": [
    {
     "data": {
      "text/plain": "  0%|          | 0/27 [00:00<?, ?it/s]",
      "application/vnd.jupyter.widget-view+json": {
       "version_major": 2,
       "version_minor": 0,
       "model_id": "0bd73ae5261c462bab1f1dc1e33a4dba"
      },
      "application/json": {
       "n": 0,
       "total": 27,
       "elapsed": 0.0021491050720214844,
       "ncols": null,
       "nrows": null,
       "prefix": "",
       "ascii": false,
       "unit": "it",
       "unit_scale": false,
       "rate": null,
       "bar_format": null,
       "postfix": null,
       "unit_divisor": 1000,
       "initial": 0,
       "colour": null
      }
     },
     "metadata": {},
     "output_type": "display_data"
    },
    {
     "data": {
      "text/plain": "  0%|          | 0/27 [00:01<?, ?it/s]",
      "application/vnd.jupyter.widget-view+json": {
       "version_major": 2,
       "version_minor": 0,
       "model_id": "173c0cd1e29f4f0a95d88a820e3a235c"
      },
      "application/json": {
       "n": 0,
       "total": 27,
       "elapsed": 1.6629271507263184,
       "ncols": null,
       "nrows": null,
       "prefix": "",
       "ascii": false,
       "unit": "it",
       "unit_scale": false,
       "rate": null,
       "bar_format": null,
       "postfix": null,
       "unit_divisor": 1000,
       "initial": 0,
       "colour": null
      }
     },
     "metadata": {},
     "output_type": "display_data"
    }
   ],
   "source": [
    "tppmi_model.normalize_tppmi_scores()"
   ],
   "metadata": {
    "collapsed": false
   }
  },
  {
   "cell_type": "markdown",
   "source": [
    "## Calulate & Save"
   ],
   "metadata": {
    "collapsed": false
   }
  },
  {
   "cell_type": "code",
   "execution_count": 22,
   "outputs": [
    {
     "data": {
      "text/plain": "  0%|          | 0/27 [00:00<?, ?it/s]",
      "application/vnd.jupyter.widget-view+json": {
       "version_major": 2,
       "version_minor": 0,
       "model_id": "62fcec6eeaea4b83b243b5f6a3557fc4"
      },
      "application/json": {
       "n": 0,
       "total": 27,
       "elapsed": 0.00356292724609375,
       "ncols": null,
       "nrows": null,
       "prefix": "",
       "ascii": false,
       "unit": "it",
       "unit_scale": false,
       "rate": null,
       "bar_format": null,
       "postfix": null,
       "unit_divisor": 1000,
       "initial": 0,
       "colour": null
      }
     },
     "metadata": {},
     "output_type": "display_data"
    },
    {
     "name": "stdout",
     "output_type": "stream",
     "text": [
      "PPMI data for 2000 saved successfully.\n",
      "Vocabulary Size: 21756\n",
      "PPMI data for 2001 saved successfully.\n",
      "Vocabulary Size: 21780\n",
      "PPMI data for 1997 saved successfully.\n",
      "Vocabulary Size: 21357\n",
      "PPMI data for 1996 saved successfully.\n",
      "Vocabulary Size: 21602\n",
      "PPMI data for 2016 saved successfully.\n",
      "Vocabulary Size: 21334\n",
      "PPMI data for 1990 saved successfully.\n",
      "Vocabulary Size: 21238\n",
      "PPMI data for 1991 saved successfully.\n",
      "Vocabulary Size: 21387\n",
      "PPMI data for 2010 saved successfully.\n",
      "Vocabulary Size: 21798\n",
      "PPMI data for 2011 saved successfully.\n",
      "Vocabulary Size: 21820\n",
      "PPMI data for 2007 saved successfully.\n",
      "Vocabulary Size: 21931\n",
      "PPMI data for 2006 saved successfully.\n",
      "Vocabulary Size: 19104\n",
      "PPMI data for 1994 saved successfully.\n",
      "Vocabulary Size: 21503\n",
      "PPMI data for 1995 saved successfully.\n",
      "Vocabulary Size: 21520\n",
      "PPMI data for 2014 saved successfully.\n",
      "Vocabulary Size: 21856\n",
      "PPMI data for 2015 saved successfully.\n",
      "Vocabulary Size: 21853\n",
      "PPMI data for 2009 saved successfully.\n",
      "Vocabulary Size: 21810\n",
      "PPMI data for 2008 saved successfully.\n",
      "Vocabulary Size: 21935\n",
      "PPMI data for 2003 saved successfully.\n",
      "Vocabulary Size: 21836\n",
      "PPMI data for 2002 saved successfully.\n",
      "Vocabulary Size: 21822\n",
      "PPMI data for 2004 saved successfully.\n",
      "Vocabulary Size: 21906\n",
      "PPMI data for 2005 saved successfully.\n",
      "Vocabulary Size: 21906\n",
      "PPMI data for 1999 saved successfully.\n",
      "Vocabulary Size: 21709\n",
      "PPMI data for 1998 saved successfully.\n",
      "Vocabulary Size: 21699\n",
      "PPMI data for 1993 saved successfully.\n",
      "Vocabulary Size: 21439\n",
      "PPMI data for 1992 saved successfully.\n",
      "Vocabulary Size: 21437\n",
      "PPMI data for 2013 saved successfully.\n",
      "Vocabulary Size: 21870\n",
      "PPMI data for 2012 saved successfully.\n",
      "Vocabulary Size: 21902\n",
      "--------------- done ---------------\n",
      "PPMI-Data stored to: ../../data/ppmi-matrices/nyt-data\n",
      "Number of context-words: 500\n"
     ]
    }
   ],
   "source": [
    "output_dir = DATA_DIR / \"ppmi-matrices\" / \"nyt-data\"\n",
    "output_dir.mkdir(parents=True, exist_ok=True)\n",
    "\n",
    "# save common context-words\n",
    "\n",
    "with open(output_dir / f\"context-words.pkl\", \"wb\") as f:\n",
    "    pickle.dump(context_words, f)\n",
    "\n",
    "# save vocab and ppmi-matrices\n",
    "for key, ppmi_model in tqdm(tppmi_model.ppmi_models.items()):\n",
    "    ppmi_model.compute_ppmi_matrix(window_size=window_size)\n",
    "    ppmi_model.save(key, output_dir)\n",
    "\n",
    "print(\"--------------- done ---------------\")\n",
    "print(f\"PPMI-Data stored to: {str(output_dir)}\")\n",
    "print(f\"Number of context-words: {len(context_words)}\")"
   ],
   "metadata": {
    "collapsed": false
   }
  }
 ],
 "metadata": {
  "kernelspec": {
   "display_name": "Python 3",
   "language": "python",
   "name": "python3"
  },
  "language_info": {
   "codemirror_mode": {
    "name": "ipython",
    "version": 2
   },
   "file_extension": ".py",
   "mimetype": "text/x-python",
   "name": "python",
   "nbconvert_exporter": "python",
   "pygments_lexer": "ipython2",
   "version": "2.7.6"
  }
 },
 "nbformat": 4,
 "nbformat_minor": 0
}
