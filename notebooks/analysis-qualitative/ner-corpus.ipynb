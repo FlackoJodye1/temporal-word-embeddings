{
 "cells": [
  {
   "cell_type": "code",
   "execution_count": 1,
   "metadata": {
    "collapsed": true
   },
   "outputs": [],
   "source": [
    "import pandas as pd\n",
    "from pathlib import Path\n",
    "from pprint import pprint"
   ]
  },
  {
   "cell_type": "markdown",
   "source": [
    "# Setup"
   ],
   "metadata": {
    "collapsed": false
   }
  },
  {
   "cell_type": "code",
   "execution_count": 2,
   "outputs": [],
   "source": [
    "path_to_entity_data = Path(\"../../data/raw/entities/\")\n",
    "path_to_processed_data = Path(\"../../data/processed/entities\")\n",
    "path_to_test_data = Path(\"../../data\") / \"test\"\n",
    "path_to_output_data = Path(\"../../data/processed/\")"
   ],
   "metadata": {
    "collapsed": false
   }
  },
  {
   "cell_type": "code",
   "execution_count": 3,
   "outputs": [
    {
     "name": "stdout",
     "output_type": "stream",
     "text": [
      "010 I-MISC\n",
      "is O\n",
      "the O\n",
      "tenth O\n",
      "album O\n"
     ]
    }
   ],
   "source": [
    "# Example to print the first few lines of the file\n",
    "file_path = path_to_entity_data / 'wikigold.conll.txt'\n",
    "with open(file_path, 'r') as file:\n",
    "    for _ in range(5):\n",
    "        print(file.readline().strip())"
   ],
   "metadata": {
    "collapsed": false
   }
  },
  {
   "cell_type": "code",
   "execution_count": 27,
   "outputs": [],
   "source": [
    "entities = pd.read_csv(path_to_entity_data / 'wikigold.conll.txt', sep=\" \", names=['Token', 'Tag'], header=None, skip_blank_lines=False)\n"
   ],
   "metadata": {
    "collapsed": false
   }
  },
  {
   "cell_type": "code",
   "execution_count": 28,
   "outputs": [],
   "source": [
    "entities.columns = entities.columns.str.lower()\n",
    "entities.token = entities.token.str.lower()"
   ],
   "metadata": {
    "collapsed": false
   }
  },
  {
   "cell_type": "code",
   "execution_count": 29,
   "outputs": [
    {
     "data": {
      "text/plain": "Empty DataFrame\nColumns: [token, tag]\nIndex: []",
      "text/html": "<div>\n<style scoped>\n    .dataframe tbody tr th:only-of-type {\n        vertical-align: middle;\n    }\n\n    .dataframe tbody tr th {\n        vertical-align: top;\n    }\n\n    .dataframe thead th {\n        text-align: right;\n    }\n</style>\n<table border=\"1\" class=\"dataframe\">\n  <thead>\n    <tr style=\"text-align: right;\">\n      <th></th>\n      <th>token</th>\n      <th>tag</th>\n    </tr>\n  </thead>\n  <tbody>\n  </tbody>\n</table>\n</div>"
     },
     "execution_count": 29,
     "metadata": {},
     "output_type": "execute_result"
    }
   ],
   "source": [
    "# Using case=False to make the search case-insensitive\n",
    "entities[entities['token'].fillna('').str.contains(\"merkel\", case=False)]"
   ],
   "metadata": {
    "collapsed": false
   }
  },
  {
   "cell_type": "markdown",
   "source": [
    "# Entity Data"
   ],
   "metadata": {
    "collapsed": false
   }
  },
  {
   "cell_type": "code",
   "execution_count": 4,
   "outputs": [],
   "source": [
    "entity_data = pd.read_csv(path_to_entity_data / \"ner_dataset.csv\", delimiter=\",\", encoding=\"latin1\")"
   ],
   "metadata": {
    "collapsed": false
   }
  },
  {
   "cell_type": "code",
   "execution_count": 5,
   "outputs": [
    {
     "data": {
      "text/plain": "Index(['Sentence #', 'Word', 'POS', 'Tag'], dtype='object')"
     },
     "execution_count": 5,
     "metadata": {},
     "output_type": "execute_result"
    }
   ],
   "source": [
    "entity_data.columns"
   ],
   "metadata": {
    "collapsed": false
   }
  },
  {
   "cell_type": "code",
   "execution_count": 6,
   "outputs": [],
   "source": [
    "entity_data.columns = entity_data.columns.str.lower()"
   ],
   "metadata": {
    "collapsed": false
   }
  },
  {
   "cell_type": "code",
   "execution_count": 7,
   "outputs": [],
   "source": [
    "# we only need the words and the tags\n",
    "entity_data = entity_data.drop(columns=[\"sentence #\", \"pos\"])"
   ],
   "metadata": {
    "collapsed": false
   }
  },
  {
   "cell_type": "code",
   "execution_count": 8,
   "outputs": [
    {
     "data": {
      "text/plain": "            word tag\n0      Thousands   O\n1             of   O\n2  demonstrators   O\n3           have   O\n4        marched   O",
      "text/html": "<div>\n<style scoped>\n    .dataframe tbody tr th:only-of-type {\n        vertical-align: middle;\n    }\n\n    .dataframe tbody tr th {\n        vertical-align: top;\n    }\n\n    .dataframe thead th {\n        text-align: right;\n    }\n</style>\n<table border=\"1\" class=\"dataframe\">\n  <thead>\n    <tr style=\"text-align: right;\">\n      <th></th>\n      <th>word</th>\n      <th>tag</th>\n    </tr>\n  </thead>\n  <tbody>\n    <tr>\n      <th>0</th>\n      <td>Thousands</td>\n      <td>O</td>\n    </tr>\n    <tr>\n      <th>1</th>\n      <td>of</td>\n      <td>O</td>\n    </tr>\n    <tr>\n      <th>2</th>\n      <td>demonstrators</td>\n      <td>O</td>\n    </tr>\n    <tr>\n      <th>3</th>\n      <td>have</td>\n      <td>O</td>\n    </tr>\n    <tr>\n      <th>4</th>\n      <td>marched</td>\n      <td>O</td>\n    </tr>\n  </tbody>\n</table>\n</div>"
     },
     "execution_count": 8,
     "metadata": {},
     "output_type": "execute_result"
    }
   ],
   "source": [
    "entity_data.head()"
   ],
   "metadata": {
    "collapsed": false
   }
  },
  {
   "cell_type": "code",
   "execution_count": 9,
   "outputs": [
    {
     "data": {
      "text/plain": "1048575"
     },
     "execution_count": 9,
     "metadata": {},
     "output_type": "execute_result"
    }
   ],
   "source": [
    "len(entity_data)"
   ],
   "metadata": {
    "collapsed": false
   }
  },
  {
   "cell_type": "code",
   "execution_count": 10,
   "outputs": [
    {
     "name": "stdout",
     "output_type": "stream",
     "text": [
      "['O', 'B-geo', 'B-gpe', 'B-per', 'I-geo', 'B-org', 'I-org', 'B-tim', 'B-art',\n",
      " 'I-art', 'I-per', 'I-gpe', 'I-tim', 'B-nat', 'B-eve', 'I-eve', 'I-nat']\n"
     ]
    }
   ],
   "source": [
    "pprint(entity_data.tag.unique().tolist(), compact=True)"
   ],
   "metadata": {
    "collapsed": false
   }
  },
  {
   "cell_type": "code",
   "execution_count": 11,
   "outputs": [],
   "source": [
    "# we only need people\n",
    "relevant_tags = [\"B-per\", \"I-per\"]"
   ],
   "metadata": {
    "collapsed": false
   }
  },
  {
   "cell_type": "code",
   "execution_count": 12,
   "outputs": [],
   "source": [
    "entity_data = entity_data[entity_data['tag'].isin(relevant_tags)]"
   ],
   "metadata": {
    "collapsed": false
   }
  },
  {
   "cell_type": "code",
   "execution_count": 13,
   "outputs": [
    {
     "data": {
      "text/plain": "34241"
     },
     "execution_count": 13,
     "metadata": {},
     "output_type": "execute_result"
    }
   ],
   "source": [
    "len(entity_data)"
   ],
   "metadata": {
    "collapsed": false
   }
  },
  {
   "cell_type": "code",
   "execution_count": 14,
   "outputs": [],
   "source": [
    "entity_data.loc[:, 'word'] = entity_data['word'].str.lower()"
   ],
   "metadata": {
    "collapsed": false
   }
  },
  {
   "cell_type": "code",
   "execution_count": 15,
   "outputs": [
    {
     "data": {
      "text/plain": "            word    tag\n42          bush  B-per\n270    president  B-per\n271      mahmoud  I-per\n272  ahmadinejad  I-per\n331       thomas  B-per",
      "text/html": "<div>\n<style scoped>\n    .dataframe tbody tr th:only-of-type {\n        vertical-align: middle;\n    }\n\n    .dataframe tbody tr th {\n        vertical-align: top;\n    }\n\n    .dataframe thead th {\n        text-align: right;\n    }\n</style>\n<table border=\"1\" class=\"dataframe\">\n  <thead>\n    <tr style=\"text-align: right;\">\n      <th></th>\n      <th>word</th>\n      <th>tag</th>\n    </tr>\n  </thead>\n  <tbody>\n    <tr>\n      <th>42</th>\n      <td>bush</td>\n      <td>B-per</td>\n    </tr>\n    <tr>\n      <th>270</th>\n      <td>president</td>\n      <td>B-per</td>\n    </tr>\n    <tr>\n      <th>271</th>\n      <td>mahmoud</td>\n      <td>I-per</td>\n    </tr>\n    <tr>\n      <th>272</th>\n      <td>ahmadinejad</td>\n      <td>I-per</td>\n    </tr>\n    <tr>\n      <th>331</th>\n      <td>thomas</td>\n      <td>B-per</td>\n    </tr>\n  </tbody>\n</table>\n</div>"
     },
     "execution_count": 15,
     "metadata": {},
     "output_type": "execute_result"
    }
   ],
   "source": [
    "entity_data.head()"
   ],
   "metadata": {
    "collapsed": false
   }
  },
  {
   "cell_type": "code",
   "execution_count": 16,
   "outputs": [],
   "source": [
    "entity_data.to_csv(path_to_output_data / \"entity-list.csv\", index=False)"
   ],
   "metadata": {
    "collapsed": false
   }
  },
  {
   "cell_type": "markdown",
   "source": [
    "# Test-Data"
   ],
   "metadata": {
    "collapsed": false
   }
  },
  {
   "cell_type": "code",
   "execution_count": 4,
   "outputs": [],
   "source": [
    "test_data = pd.read_csv(path_to_test_data / \"testset_1.csv\")"
   ],
   "metadata": {
    "collapsed": false
   }
  },
  {
   "cell_type": "code",
   "execution_count": 5,
   "outputs": [
    {
     "data": {
      "text/plain": "11027"
     },
     "execution_count": 5,
     "metadata": {},
     "output_type": "execute_result"
    }
   ],
   "source": [
    "len(test_data)"
   ],
   "metadata": {
    "collapsed": false
   }
  },
  {
   "cell_type": "code",
   "execution_count": 18,
   "outputs": [
    {
     "name": "stdout",
     "output_type": "stream",
     "text": [
      "Testset\n",
      "Testcases (all): 11027\n",
      "Testcases (unique): 499\n"
     ]
    }
   ],
   "source": [
    "test_data.columns = ['truth', 'equivalent']\n",
    "test_data = test_data.sort_values(by='truth', ascending=True)\n",
    "test_cases = test_data['truth'].unique()\n",
    "print(\"Testset\")\n",
    "print(f\"Testcases (all): {len(test_data)}\")\n",
    "print(f\"Testcases (unique): {len(test_cases)}\")"
   ],
   "metadata": {
    "collapsed": false
   }
  },
  {
   "cell_type": "code",
   "execution_count": 19,
   "outputs": [
    {
     "data": {
      "text/plain": "           truth     equivalent\n8370  49ers-1990  patriots-2015\n8351  49ers-1990   cowboys-1993\n8352  49ers-1990   cowboys-1994\n8353  49ers-1990     49ers-1995\n8354  49ers-1990   cowboys-1996\n...          ...            ...\n9632   zika-2016     ebola-2015\n9630   zika-2016      sars-2003\n9629   zika-2016    plague-1994\n9628   zika-2016   cholera-1990\n9631   zika-2016   malaria-2006\n\n[11027 rows x 2 columns]",
      "text/html": "<div>\n<style scoped>\n    .dataframe tbody tr th:only-of-type {\n        vertical-align: middle;\n    }\n\n    .dataframe tbody tr th {\n        vertical-align: top;\n    }\n\n    .dataframe thead th {\n        text-align: right;\n    }\n</style>\n<table border=\"1\" class=\"dataframe\">\n  <thead>\n    <tr style=\"text-align: right;\">\n      <th></th>\n      <th>truth</th>\n      <th>equivalent</th>\n    </tr>\n  </thead>\n  <tbody>\n    <tr>\n      <th>8370</th>\n      <td>49ers-1990</td>\n      <td>patriots-2015</td>\n    </tr>\n    <tr>\n      <th>8351</th>\n      <td>49ers-1990</td>\n      <td>cowboys-1993</td>\n    </tr>\n    <tr>\n      <th>8352</th>\n      <td>49ers-1990</td>\n      <td>cowboys-1994</td>\n    </tr>\n    <tr>\n      <th>8353</th>\n      <td>49ers-1990</td>\n      <td>49ers-1995</td>\n    </tr>\n    <tr>\n      <th>8354</th>\n      <td>49ers-1990</td>\n      <td>cowboys-1996</td>\n    </tr>\n    <tr>\n      <th>...</th>\n      <td>...</td>\n      <td>...</td>\n    </tr>\n    <tr>\n      <th>9632</th>\n      <td>zika-2016</td>\n      <td>ebola-2015</td>\n    </tr>\n    <tr>\n      <th>9630</th>\n      <td>zika-2016</td>\n      <td>sars-2003</td>\n    </tr>\n    <tr>\n      <th>9629</th>\n      <td>zika-2016</td>\n      <td>plague-1994</td>\n    </tr>\n    <tr>\n      <th>9628</th>\n      <td>zika-2016</td>\n      <td>cholera-1990</td>\n    </tr>\n    <tr>\n      <th>9631</th>\n      <td>zika-2016</td>\n      <td>malaria-2006</td>\n    </tr>\n  </tbody>\n</table>\n<p>11027 rows × 2 columns</p>\n</div>"
     },
     "execution_count": 19,
     "metadata": {},
     "output_type": "execute_result"
    }
   ],
   "source": [
    "test_data"
   ],
   "metadata": {
    "collapsed": false
   }
  },
  {
   "cell_type": "code",
   "execution_count": 20,
   "outputs": [],
   "source": [
    "test_data['word'] = test_data['truth'].apply(lambda x: x.split('-')[0])"
   ],
   "metadata": {
    "collapsed": false
   }
  },
  {
   "cell_type": "code",
   "execution_count": 21,
   "outputs": [
    {
     "data": {
      "text/plain": "           truth     equivalent   word\n8370  49ers-1990  patriots-2015  49ers\n8351  49ers-1990   cowboys-1993  49ers\n8352  49ers-1990   cowboys-1994  49ers\n8353  49ers-1990     49ers-1995  49ers\n8354  49ers-1990   cowboys-1996  49ers\n...          ...            ...    ...\n9632   zika-2016     ebola-2015   zika\n9630   zika-2016      sars-2003   zika\n9629   zika-2016    plague-1994   zika\n9628   zika-2016   cholera-1990   zika\n9631   zika-2016   malaria-2006   zika\n\n[11027 rows x 3 columns]",
      "text/html": "<div>\n<style scoped>\n    .dataframe tbody tr th:only-of-type {\n        vertical-align: middle;\n    }\n\n    .dataframe tbody tr th {\n        vertical-align: top;\n    }\n\n    .dataframe thead th {\n        text-align: right;\n    }\n</style>\n<table border=\"1\" class=\"dataframe\">\n  <thead>\n    <tr style=\"text-align: right;\">\n      <th></th>\n      <th>truth</th>\n      <th>equivalent</th>\n      <th>word</th>\n    </tr>\n  </thead>\n  <tbody>\n    <tr>\n      <th>8370</th>\n      <td>49ers-1990</td>\n      <td>patriots-2015</td>\n      <td>49ers</td>\n    </tr>\n    <tr>\n      <th>8351</th>\n      <td>49ers-1990</td>\n      <td>cowboys-1993</td>\n      <td>49ers</td>\n    </tr>\n    <tr>\n      <th>8352</th>\n      <td>49ers-1990</td>\n      <td>cowboys-1994</td>\n      <td>49ers</td>\n    </tr>\n    <tr>\n      <th>8353</th>\n      <td>49ers-1990</td>\n      <td>49ers-1995</td>\n      <td>49ers</td>\n    </tr>\n    <tr>\n      <th>8354</th>\n      <td>49ers-1990</td>\n      <td>cowboys-1996</td>\n      <td>49ers</td>\n    </tr>\n    <tr>\n      <th>...</th>\n      <td>...</td>\n      <td>...</td>\n      <td>...</td>\n    </tr>\n    <tr>\n      <th>9632</th>\n      <td>zika-2016</td>\n      <td>ebola-2015</td>\n      <td>zika</td>\n    </tr>\n    <tr>\n      <th>9630</th>\n      <td>zika-2016</td>\n      <td>sars-2003</td>\n      <td>zika</td>\n    </tr>\n    <tr>\n      <th>9629</th>\n      <td>zika-2016</td>\n      <td>plague-1994</td>\n      <td>zika</td>\n    </tr>\n    <tr>\n      <th>9628</th>\n      <td>zika-2016</td>\n      <td>cholera-1990</td>\n      <td>zika</td>\n    </tr>\n    <tr>\n      <th>9631</th>\n      <td>zika-2016</td>\n      <td>malaria-2006</td>\n      <td>zika</td>\n    </tr>\n  </tbody>\n</table>\n<p>11027 rows × 3 columns</p>\n</div>"
     },
     "execution_count": 21,
     "metadata": {},
     "output_type": "execute_result"
    }
   ],
   "source": [
    "test_data"
   ],
   "metadata": {
    "collapsed": false
   }
  },
  {
   "cell_type": "code",
   "execution_count": 22,
   "outputs": [],
   "source": [
    "merged_data = pd.merge(test_data, entity_data, how='left')"
   ],
   "metadata": {
    "collapsed": false
   }
  },
  {
   "cell_type": "code",
   "execution_count": 23,
   "outputs": [
    {
     "data": {
      "text/plain": "             truth     equivalent   word  tag\n0       49ers-1990  patriots-2015  49ers  NaN\n1       49ers-1990   cowboys-1993  49ers  NaN\n2       49ers-1990   cowboys-1994  49ers  NaN\n3       49ers-1990     49ers-1995  49ers  NaN\n4       49ers-1990   cowboys-1996  49ers  NaN\n...            ...            ...    ...  ...\n557940   zika-2016     ebola-2015   zika  NaN\n557941   zika-2016      sars-2003   zika  NaN\n557942   zika-2016    plague-1994   zika  NaN\n557943   zika-2016   cholera-1990   zika  NaN\n557944   zika-2016   malaria-2006   zika  NaN\n\n[557945 rows x 4 columns]",
      "text/html": "<div>\n<style scoped>\n    .dataframe tbody tr th:only-of-type {\n        vertical-align: middle;\n    }\n\n    .dataframe tbody tr th {\n        vertical-align: top;\n    }\n\n    .dataframe thead th {\n        text-align: right;\n    }\n</style>\n<table border=\"1\" class=\"dataframe\">\n  <thead>\n    <tr style=\"text-align: right;\">\n      <th></th>\n      <th>truth</th>\n      <th>equivalent</th>\n      <th>word</th>\n      <th>tag</th>\n    </tr>\n  </thead>\n  <tbody>\n    <tr>\n      <th>0</th>\n      <td>49ers-1990</td>\n      <td>patriots-2015</td>\n      <td>49ers</td>\n      <td>NaN</td>\n    </tr>\n    <tr>\n      <th>1</th>\n      <td>49ers-1990</td>\n      <td>cowboys-1993</td>\n      <td>49ers</td>\n      <td>NaN</td>\n    </tr>\n    <tr>\n      <th>2</th>\n      <td>49ers-1990</td>\n      <td>cowboys-1994</td>\n      <td>49ers</td>\n      <td>NaN</td>\n    </tr>\n    <tr>\n      <th>3</th>\n      <td>49ers-1990</td>\n      <td>49ers-1995</td>\n      <td>49ers</td>\n      <td>NaN</td>\n    </tr>\n    <tr>\n      <th>4</th>\n      <td>49ers-1990</td>\n      <td>cowboys-1996</td>\n      <td>49ers</td>\n      <td>NaN</td>\n    </tr>\n    <tr>\n      <th>...</th>\n      <td>...</td>\n      <td>...</td>\n      <td>...</td>\n      <td>...</td>\n    </tr>\n    <tr>\n      <th>557940</th>\n      <td>zika-2016</td>\n      <td>ebola-2015</td>\n      <td>zika</td>\n      <td>NaN</td>\n    </tr>\n    <tr>\n      <th>557941</th>\n      <td>zika-2016</td>\n      <td>sars-2003</td>\n      <td>zika</td>\n      <td>NaN</td>\n    </tr>\n    <tr>\n      <th>557942</th>\n      <td>zika-2016</td>\n      <td>plague-1994</td>\n      <td>zika</td>\n      <td>NaN</td>\n    </tr>\n    <tr>\n      <th>557943</th>\n      <td>zika-2016</td>\n      <td>cholera-1990</td>\n      <td>zika</td>\n      <td>NaN</td>\n    </tr>\n    <tr>\n      <th>557944</th>\n      <td>zika-2016</td>\n      <td>malaria-2006</td>\n      <td>zika</td>\n      <td>NaN</td>\n    </tr>\n  </tbody>\n</table>\n<p>557945 rows × 4 columns</p>\n</div>"
     },
     "execution_count": 23,
     "metadata": {},
     "output_type": "execute_result"
    }
   ],
   "source": [
    "merged_data"
   ],
   "metadata": {
    "collapsed": false
   }
  },
  {
   "cell_type": "code",
   "execution_count": 24,
   "outputs": [],
   "source": [
    "null_tag_rows = merged_data[merged_data['tag'].isna()]"
   ],
   "metadata": {
    "collapsed": false
   }
  },
  {
   "cell_type": "code",
   "execution_count": 25,
   "outputs": [
    {
     "data": {
      "text/plain": "array(['49ers', 'athens', 'atlanta', 'barcelona', 'bates', 'beijing',\n       'berry', 'blasio', 'brennan', 'bridges', 'brody', 'broncos',\n       'bulls', 'cage', 'cavaliers', 'celtics', 'cholera', 'colts',\n       'courier', 'cowboys', 'crowe', 'dempsey', 'dicaprio', 'dinkins',\n       'ebola', 'edberg', 'euro', 'freeh', 'giants', 'hanks', 'heat',\n       'hollande', 'hopkins', 'katrina', 'kidman', 'knicks', 'lakers',\n       'lange', 'larson', 'malaria', 'mavericks', 'mitterrand', 'modi',\n       'nicholson', 'pacino', 'patriots', 'pistons', 'plague', 'quayle',\n       'rams', 'ravens', 'redskins', 'rockets', 'sampras', 'sars',\n       'seahawks', 'sessions', 'shelton', 'spacey', 'spurs', 'steelers',\n       'streep', 'warrior', 'webster', 'whitaker', 'yeltsin', 'zika'],\n      dtype=object)"
     },
     "execution_count": 25,
     "metadata": {},
     "output_type": "execute_result"
    }
   ],
   "source": [
    "null_tag_rows[\"word\"].unique()"
   ],
   "metadata": {
    "collapsed": false
   }
  },
  {
   "cell_type": "code",
   "execution_count": 26,
   "outputs": [],
   "source": [
    "merged_data['tag'] = merged_data['tag'].apply(lambda x: \"unknown\" if pd.isna(x) else x)"
   ],
   "metadata": {
    "collapsed": false
   }
  },
  {
   "cell_type": "code",
   "execution_count": 27,
   "outputs": [],
   "source": [
    "merged_data.to_csv(path_to_test_data / \"testset_1_enriched.csv\", index=False)"
   ],
   "metadata": {
    "collapsed": false
   }
  },
  {
   "cell_type": "code",
   "execution_count": 28,
   "outputs": [
    {
     "data": {
      "text/plain": "             truth     equivalent   word      tag\n0       49ers-1990  patriots-2015  49ers  unknown\n1       49ers-1990   cowboys-1993  49ers  unknown\n2       49ers-1990   cowboys-1994  49ers  unknown\n3       49ers-1990     49ers-1995  49ers  unknown\n4       49ers-1990   cowboys-1996  49ers  unknown\n...            ...            ...    ...      ...\n557940   zika-2016     ebola-2015   zika  unknown\n557941   zika-2016      sars-2003   zika  unknown\n557942   zika-2016    plague-1994   zika  unknown\n557943   zika-2016   cholera-1990   zika  unknown\n557944   zika-2016   malaria-2006   zika  unknown\n\n[557945 rows x 4 columns]",
      "text/html": "<div>\n<style scoped>\n    .dataframe tbody tr th:only-of-type {\n        vertical-align: middle;\n    }\n\n    .dataframe tbody tr th {\n        vertical-align: top;\n    }\n\n    .dataframe thead th {\n        text-align: right;\n    }\n</style>\n<table border=\"1\" class=\"dataframe\">\n  <thead>\n    <tr style=\"text-align: right;\">\n      <th></th>\n      <th>truth</th>\n      <th>equivalent</th>\n      <th>word</th>\n      <th>tag</th>\n    </tr>\n  </thead>\n  <tbody>\n    <tr>\n      <th>0</th>\n      <td>49ers-1990</td>\n      <td>patriots-2015</td>\n      <td>49ers</td>\n      <td>unknown</td>\n    </tr>\n    <tr>\n      <th>1</th>\n      <td>49ers-1990</td>\n      <td>cowboys-1993</td>\n      <td>49ers</td>\n      <td>unknown</td>\n    </tr>\n    <tr>\n      <th>2</th>\n      <td>49ers-1990</td>\n      <td>cowboys-1994</td>\n      <td>49ers</td>\n      <td>unknown</td>\n    </tr>\n    <tr>\n      <th>3</th>\n      <td>49ers-1990</td>\n      <td>49ers-1995</td>\n      <td>49ers</td>\n      <td>unknown</td>\n    </tr>\n    <tr>\n      <th>4</th>\n      <td>49ers-1990</td>\n      <td>cowboys-1996</td>\n      <td>49ers</td>\n      <td>unknown</td>\n    </tr>\n    <tr>\n      <th>...</th>\n      <td>...</td>\n      <td>...</td>\n      <td>...</td>\n      <td>...</td>\n    </tr>\n    <tr>\n      <th>557940</th>\n      <td>zika-2016</td>\n      <td>ebola-2015</td>\n      <td>zika</td>\n      <td>unknown</td>\n    </tr>\n    <tr>\n      <th>557941</th>\n      <td>zika-2016</td>\n      <td>sars-2003</td>\n      <td>zika</td>\n      <td>unknown</td>\n    </tr>\n    <tr>\n      <th>557942</th>\n      <td>zika-2016</td>\n      <td>plague-1994</td>\n      <td>zika</td>\n      <td>unknown</td>\n    </tr>\n    <tr>\n      <th>557943</th>\n      <td>zika-2016</td>\n      <td>cholera-1990</td>\n      <td>zika</td>\n      <td>unknown</td>\n    </tr>\n    <tr>\n      <th>557944</th>\n      <td>zika-2016</td>\n      <td>malaria-2006</td>\n      <td>zika</td>\n      <td>unknown</td>\n    </tr>\n  </tbody>\n</table>\n<p>557945 rows × 4 columns</p>\n</div>"
     },
     "execution_count": 28,
     "metadata": {},
     "output_type": "execute_result"
    }
   ],
   "source": [
    "merged_data"
   ],
   "metadata": {
    "collapsed": false
   }
  },
  {
   "cell_type": "code",
   "execution_count": 28,
   "outputs": [],
   "source": [],
   "metadata": {
    "collapsed": false
   }
  }
 ],
 "metadata": {
  "kernelspec": {
   "display_name": "Python 3",
   "language": "python",
   "name": "python3"
  },
  "language_info": {
   "codemirror_mode": {
    "name": "ipython",
    "version": 2
   },
   "file_extension": ".py",
   "mimetype": "text/x-python",
   "name": "python",
   "nbconvert_exporter": "python",
   "pygments_lexer": "ipython2",
   "version": "2.7.6"
  }
 },
 "nbformat": 4,
 "nbformat_minor": 0
}
