{
 "cells": [
  {
   "cell_type": "markdown",
   "source": [
    " # Import & Setup"
   ],
   "metadata": {
    "collapsed": false
   }
  },
  {
   "cell_type": "code",
   "execution_count": 1,
   "outputs": [],
   "source": [
    "import numpy as np\n",
    "import pandas as pd\n",
    "from glob import glob\n",
    "from pathlib import Path\n",
    "from pprint import pprint\n",
    "from warnings import warn\n",
    "from datetime import datetime\n",
    "from ppmi_model import PPMIModel\n",
    "from tppmi_model import TPPMIModel\n",
    "from sklearn.decomposition import PCA\n",
    "from sklearn.manifold import TSNE\n",
    "\n",
    "# --- currently unused --- #\n",
    "import os\n",
    "import tppmi_functions\n",
    "import matplotlib.pyplot as plt"
   ],
   "metadata": {
    "collapsed": false
   }
  },
  {
   "cell_type": "code",
   "execution_count": 2,
   "outputs": [],
   "source": [
    "# Define directory and target words\n",
    "DIR = Path(\"../../data\")\n",
    "ppmi_path = DIR / \"ppmi-matrices\""
   ],
   "metadata": {
    "collapsed": false
   }
  },
  {
   "cell_type": "code",
   "execution_count": 3,
   "outputs": [],
   "source": [
    "target_words = [\"twitter\", \"elon\", \"musk\"]"
   ],
   "metadata": {
    "collapsed": false
   }
  },
  {
   "cell_type": "markdown",
   "source": [
    "Load the data into a dictionary with keys identifying the months"
   ],
   "metadata": {
    "collapsed": false
   }
  },
  {
   "cell_type": "code",
   "execution_count": 4,
   "outputs": [],
   "source": [
    "filenames = glob(str(ppmi_path / \"*.txt\"))\n",
    "ppmi_dfs = {filename.split(\"2022-\")[1][0:2]: pd.read_csv(ppmi_path / filename, sep=\" \") for filename in filenames}"
   ],
   "metadata": {
    "collapsed": false
   }
  },
  {
   "cell_type": "markdown",
   "source": [
    "Set the vocab to be the index (instead of being the first attribute)"
   ],
   "metadata": {
    "collapsed": false
   }
  },
  {
   "cell_type": "code",
   "execution_count": 5,
   "outputs": [],
   "source": [
    "ppmi_dfs = {key:ppmi_df.set_index(ppmi_df.columns[0]) for key, ppmi_df in ppmi_dfs.items()}"
   ],
   "metadata": {
    "collapsed": false
   }
  },
  {
   "cell_type": "markdown",
   "source": [
    "Create ppmi_model objects"
   ],
   "metadata": {
    "collapsed": false
   }
  },
  {
   "cell_type": "code",
   "execution_count": 6,
   "outputs": [],
   "source": [
    "ppmi_models = {key: PPMIModel.construct_from_data(ppmi_df) for key, ppmi_df in ppmi_dfs.items()}"
   ],
   "metadata": {
    "collapsed": false
   }
  },
  {
   "cell_type": "markdown",
   "source": [
    "# Create TPPMI Models"
   ],
   "metadata": {
    "collapsed": false
   }
  },
  {
   "cell_type": "code",
   "execution_count": 7,
   "outputs": [
    {
     "data": {
      "text/plain": "dict_keys(['09', '11', '08', '10', '12'])"
     },
     "execution_count": 7,
     "metadata": {},
     "output_type": "execute_result"
    }
   ],
   "source": [
    "ppmi_models.keys()"
   ],
   "metadata": {
    "collapsed": false
   }
  },
  {
   "cell_type": "code",
   "execution_count": 8,
   "outputs": [
    {
     "name": "stdout",
     "output_type": "stream",
     "text": [
      "init\n",
      "All words are contained in the vocabulary\n",
      "elon - not in vocab of timestep: 09\n",
      "elon - not in vocab of timestep: 08\n",
      "musk - not in vocab of timestep: 09\n",
      "musk - not in vocab of timestep: 08\n"
     ]
    }
   ],
   "source": [
    "tppmi_model = TPPMIModel(ppmi_models, target_words)"
   ],
   "metadata": {
    "collapsed": false
   }
  },
  {
   "cell_type": "code",
   "execution_count": 9,
   "outputs": [
    {
     "name": "stdout",
     "output_type": "stream",
     "text": [
      "['appleton', 'ankeny', 'hinshaws', 'implement', 'probe', 'iuic', 'height', 'hpv', 'studio',\n",
      " 'question', 'encountered', 'smoke', 'fumbling', 'tries', 'armed', 'demeaning', 'stronger', 'mama',\n",
      " 'oversees', 'lies', 'discovering', 'files', 'fordham', 'jamesmelville', 'abpoli', 'beds',\n",
      " 'rightwing', 'estate', 'wolfs', 'from', 'sordid', 'new', 'chemotherapy', 'clovis', 'untrue',\n",
      " 'stadium', '51', 'meghan', 'councillors', 'recovered', 'brandnew', '69', 'truthful', 'divisive',\n",
      " 'genocide', 'liberties', 'nomination', 'output', 'wash', 'lifestyles', 'immunisation', '250000',\n",
      " 'reading', 'therickydavila', 'campuses', 'gordner', '2022', 'funny', 'implications', 'fold',\n",
      " 'hike', 'stakes', 'pending', 'engagement', 'delete', 'free', 'alert', 'nsw', 'removedto',\n",
      " 'household', 'lee', 'smk', 'holy', 'once', 'biggest', 'creator', 'spreads', 'pelosi', 'rapidly',\n",
      " 'manchester', 'terrible', 'educating', 'newest', 'robin', 'aps', 'boulder', 'guilty', 'andrew',\n",
      " 'yep', 'genitals', 'besides', 'sensory', 'engine', 'track', 'stance', 'almas', 'supervisors',\n",
      " 'twtsmh', 'john', 'ties']\n"
     ]
    }
   ],
   "source": [
    "pprint(tppmi_model.get_vocabulary()[:100], width=100, compact=True)"
   ],
   "metadata": {
    "collapsed": false
   }
  },
  {
   "cell_type": "code",
   "execution_count": 18,
   "outputs": [
    {
     "name": "stdout",
     "output_type": "stream",
     "text": [
      "Size of the vocabulary: 11624\n"
     ]
    }
   ],
   "source": [
    "print(f\"Size of the vocabulary: {tppmi_model.get_vocabulary_size()}\")"
   ],
   "metadata": {
    "collapsed": false
   }
  },
  {
   "cell_type": "code",
   "execution_count": 19,
   "outputs": [],
   "source": [
    "vectors = tppmi_model.get_2d_representation(use_tsne=False)"
   ],
   "metadata": {
    "collapsed": false
   }
  },
  {
   "cell_type": "code",
   "execution_count": 20,
   "outputs": [
    {
     "data": {
      "text/plain": "{'twitter_09': array([  7.95903118, -11.61064671]),\n 'twitter_11': array([25.90919645, -6.03353092]),\n 'twitter_08': array([  6.29481126, -10.85692105]),\n 'twitter_10': array([ 19.36825537, -21.26298013]),\n 'twitter_12': array([32.37357664, 30.46065707]),\n 'elon_09': array([-7.17823458, -2.0063212 ]),\n 'elon_11': array([-10.42748052,  -3.27662236]),\n 'elon_08': array([-7.17823458, -2.0063212 ]),\n 'elon_10': array([-10.16725011,  -3.36896984]),\n 'elon_12': array([-12.63605096,  19.81113809]),\n 'musk_09': array([-7.17823458, -2.0063212 ]),\n 'musk_11': array([-8.20744323, -2.57253341]),\n 'musk_08': array([-7.17823458, -2.0063212 ]),\n 'musk_10': array([-12.08766203,  -3.19756666]),\n 'musk_12': array([-9.66604572, 19.93326071])}"
     },
     "execution_count": 20,
     "metadata": {},
     "output_type": "execute_result"
    }
   ],
   "source": [
    "vectors"
   ],
   "metadata": {
    "collapsed": false
   }
  },
  {
   "cell_type": "markdown",
   "source": [
    "Create a relative time scales stored in list"
   ],
   "metadata": {
    "collapsed": false
   }
  },
  {
   "cell_type": "code",
   "execution_count": 13,
   "outputs": [],
   "source": [
    "dates = [filename.split(\"s/ppmi-\")[1].split(\".\")[0] for filename in filenames]\n",
    "date_objects = [datetime.strptime(date, '%Y-%m-%d') for date in dates]\n",
    "numdates = [(date - min(date_objects)).days for date in date_objects]\n",
    "numdates_list = []"
   ],
   "metadata": {
    "collapsed": false
   }
  },
  {
   "cell_type": "code",
   "execution_count": 14,
   "outputs": [],
   "source": [
    "if any(date is None for date in numdates):\n",
    "    raise ValueError(\"NA-s or invalid dates detected!\")"
   ],
   "metadata": {
    "collapsed": false
   }
  },
  {
   "cell_type": "markdown",
   "source": [
    "# Reduce Dimensionality"
   ],
   "metadata": {
    "collapsed": false
   }
  },
  {
   "cell_type": "code",
   "execution_count": 15,
   "outputs": [],
   "source": [
    "def plot_word_vectors_2d(word_vectors_dict):\n",
    "    plt.figure(figsize=(10, 8))\n",
    "\n",
    "    unique_words = set([word.split(\"_\")[0] for word in word_vectors_dict.keys()])\n",
    "    color_map = plt.cm.rainbow(np.linspace(0, 1, len(unique_words)))\n",
    "    word_color_dict = dict(zip(unique_words, color_map))\n",
    "\n",
    "    legend_words = []  # Keep track of words added to the legend\n",
    "\n",
    "    for word, vectors_dict in word_vectors_dict.items():\n",
    "        pc1_values = vectors_dict[0]\n",
    "        pc2_values = vectors_dict[1]\n",
    "        color = word_color_dict[word.split(\"_\")[0]]\n",
    "\n",
    "        # Only add the word to the legend if it hasn't been added before\n",
    "        if word.split(\"_\")[0] not in legend_words:\n",
    "            plt.scatter(pc1_values, pc2_values, label=word.split(\"_\")[0], color=color)\n",
    "            legend_words.append(word.split(\"_\")[0])\n",
    "        else:\n",
    "            plt.scatter(pc1_values, pc2_values, color=color)\n",
    "\n",
    "    plt.xlabel(\"PC1\")\n",
    "    plt.ylabel(\"PC2\")\n",
    "    plt.title(\"2D Visualization of Word Vectors\")\n",
    "    plt.legend()\n",
    "    plt.grid(True)\n",
    "    plt.show()"
   ],
   "metadata": {
    "collapsed": false
   }
  },
  {
   "cell_type": "code",
   "execution_count": 16,
   "outputs": [],
   "source": [
    "import plotly.io as pio\n",
    "import plotly.express as px\n",
    "import plotly.graph_objs as go\n",
    "from plotly.offline import init_notebook_mode, iplot\n",
    "\n",
    "pio.templates.default = \"plotly\"\n",
    "\n",
    "def plot_word_vectors_2d_plotly(word_vectors_dict):\n",
    "    unique_words = set([word.split(\"_\")[0] for word in word_vectors_dict.keys()])\n",
    "    color_map = px.colors.qualitative.Plotly  # Get a set of plotly colors\n",
    "    word_color_dict = dict(zip(unique_words, color_map))\n",
    "\n",
    "    data = []  # List to store scatter plot and line plot data\n",
    "    prev_coords = {}  # Dictionary to store previous point's coordinates for each color\n",
    "\n",
    "    for word, vectors_dict in word_vectors_dict.items():\n",
    "        word_key = word.split(\"_\")[0]\n",
    "        pc1_values = vectors_dict[0]\n",
    "        pc2_values = vectors_dict[1]\n",
    "        color = word_color_dict[word_key]\n",
    "\n",
    "        # Create scatter plot data for the point\n",
    "        marker_trace = go.Scatter(\n",
    "            x=[pc1_values],\n",
    "            y=[pc2_values],\n",
    "            mode='markers+text',  # Include text labels with markers\n",
    "            name=word_key,\n",
    "            showlegend=False,\n",
    "            marker=dict(color=color),\n",
    "            text=[word_key],  # Set the text label for the point\n",
    "            textposition=\"top center\"  # Position of the text label\n",
    "        )\n",
    "        data.append(marker_trace)\n",
    "\n",
    "        # Check if there's a previous point for the same color\n",
    "        if color in prev_coords:\n",
    "            prev_pc1, prev_pc2 = prev_coords[color]\n",
    "            # Create line plot data connecting the previous point and the current point\n",
    "            line_trace = go.Scatter(\n",
    "                x=[prev_pc1, pc1_values],\n",
    "                y=[prev_pc2, pc2_values],\n",
    "                mode='lines',\n",
    "                showlegend=False,\n",
    "                line=dict(color=color, width=1)\n",
    "            )\n",
    "            data.append(line_trace)\n",
    "        else:\n",
    "            # Create a specific symbol marker for the first point of each line\n",
    "            start_marker_trace = go.Scatter(\n",
    "                x=[pc1_values],\n",
    "                y=[pc2_values],\n",
    "                mode='markers',\n",
    "                showlegend=False,\n",
    "                marker=dict(symbol=\"diamond\", size=10, color=color),\n",
    "            )\n",
    "            data.append(start_marker_trace)\n",
    "\n",
    "        # Store the current point's coordinates as the previous coordinates for the color\n",
    "        prev_coords[color] = (pc1_values, pc2_values)\n",
    "\n",
    "    layout = dict(\n",
    "        title=\"2D Visualization of Word Vectors\",\n",
    "        xaxis=dict(title=\"PC1\", range=[-50, 50]),\n",
    "        yaxis=dict(title=\"PC2\", range=[-50, 50]),\n",
    "        legend=dict(x=1.02, y=1.0)\n",
    "    )\n",
    "\n",
    "    # Create a Figure object with the data and layout\n",
    "    fig = go.Figure(data=data, layout=layout)\n",
    "    # Display the plot in a notebook or save to an HTML file\n",
    "\n",
    "    init_notebook_mode(connected=True)\n",
    "    iplot(fig, filename='word-embedding-plot')"
   ],
   "metadata": {
    "collapsed": false
   }
  },
  {
   "cell_type": "code",
   "execution_count": 17,
   "outputs": [
    {
     "data": {
      "text/html": "        <script type=\"text/javascript\">\n        window.PlotlyConfig = {MathJaxConfig: 'local'};\n        if (window.MathJax && window.MathJax.Hub && window.MathJax.Hub.Config) {window.MathJax.Hub.Config({SVG: {font: \"STIX-Web\"}});}\n        if (typeof require !== 'undefined') {\n        require.undef(\"plotly\");\n        requirejs.config({\n            paths: {\n                'plotly': ['https://cdn.plot.ly/plotly-2.25.2.min']\n            }\n        });\n        require(['plotly'], function(Plotly) {\n            window._Plotly = Plotly;\n        });\n        }\n        </script>\n        "
     },
     "metadata": {},
     "output_type": "display_data"
    },
    {
     "data": {
      "application/vnd.plotly.v1+json": {
       "data": [
        {
         "marker": {
          "color": "#00CC96"
         },
         "mode": "markers+text",
         "name": "twitter",
         "showlegend": false,
         "text": [
          "twitter"
         ],
         "textposition": "top center",
         "x": [
          7.959031180202769
         ],
         "y": [
          -11.610646711782334
         ],
         "type": "scatter"
        },
        {
         "marker": {
          "color": "#00CC96",
          "size": 10,
          "symbol": "diamond"
         },
         "mode": "markers",
         "showlegend": false,
         "x": [
          7.959031180202769
         ],
         "y": [
          -11.610646711782334
         ],
         "type": "scatter"
        },
        {
         "marker": {
          "color": "#00CC96"
         },
         "mode": "markers+text",
         "name": "twitter",
         "showlegend": false,
         "text": [
          "twitter"
         ],
         "textposition": "top center",
         "x": [
          25.909196445836617
         ],
         "y": [
          -6.033530917662784
         ],
         "type": "scatter"
        },
        {
         "line": {
          "color": "#00CC96",
          "width": 1
         },
         "mode": "lines",
         "showlegend": false,
         "x": [
          7.959031180202769,
          25.909196445836617
         ],
         "y": [
          -11.610646711782334,
          -6.033530917662784
         ],
         "type": "scatter"
        },
        {
         "marker": {
          "color": "#00CC96"
         },
         "mode": "markers+text",
         "name": "twitter",
         "showlegend": false,
         "text": [
          "twitter"
         ],
         "textposition": "top center",
         "x": [
          6.2948112631643705
         ],
         "y": [
          -10.856921048969213
         ],
         "type": "scatter"
        },
        {
         "line": {
          "color": "#00CC96",
          "width": 1
         },
         "mode": "lines",
         "showlegend": false,
         "x": [
          25.909196445836617,
          6.2948112631643705
         ],
         "y": [
          -6.033530917662784,
          -10.856921048969213
         ],
         "type": "scatter"
        },
        {
         "marker": {
          "color": "#00CC96"
         },
         "mode": "markers+text",
         "name": "twitter",
         "showlegend": false,
         "text": [
          "twitter"
         ],
         "textposition": "top center",
         "x": [
          19.368255370155936
         ],
         "y": [
          -21.26298012551713
         ],
         "type": "scatter"
        },
        {
         "line": {
          "color": "#00CC96",
          "width": 1
         },
         "mode": "lines",
         "showlegend": false,
         "x": [
          6.2948112631643705,
          19.368255370155936
         ],
         "y": [
          -10.856921048969213,
          -21.26298012551713
         ],
         "type": "scatter"
        },
        {
         "marker": {
          "color": "#00CC96"
         },
         "mode": "markers+text",
         "name": "twitter",
         "showlegend": false,
         "text": [
          "twitter"
         ],
         "textposition": "top center",
         "x": [
          32.373576639105025
         ],
         "y": [
          30.460657068873015
         ],
         "type": "scatter"
        },
        {
         "line": {
          "color": "#00CC96",
          "width": 1
         },
         "mode": "lines",
         "showlegend": false,
         "x": [
          19.368255370155936,
          32.373576639105025
         ],
         "y": [
          -21.26298012551713,
          30.460657068873015
         ],
         "type": "scatter"
        },
        {
         "marker": {
          "color": "#636EFA"
         },
         "mode": "markers+text",
         "name": "elon",
         "showlegend": false,
         "text": [
          "elon"
         ],
         "textposition": "top center",
         "x": [
          -7.1782345810379535
         ],
         "y": [
          -2.0063212000326702
         ],
         "type": "scatter"
        },
        {
         "marker": {
          "color": "#636EFA",
          "size": 10,
          "symbol": "diamond"
         },
         "mode": "markers",
         "showlegend": false,
         "x": [
          -7.1782345810379535
         ],
         "y": [
          -2.0063212000326702
         ],
         "type": "scatter"
        },
        {
         "marker": {
          "color": "#636EFA"
         },
         "mode": "markers+text",
         "name": "elon",
         "showlegend": false,
         "text": [
          "elon"
         ],
         "textposition": "top center",
         "x": [
          -10.427480522950544
         ],
         "y": [
          -3.2766223608952716
         ],
         "type": "scatter"
        },
        {
         "line": {
          "color": "#636EFA",
          "width": 1
         },
         "mode": "lines",
         "showlegend": false,
         "x": [
          -7.1782345810379535,
          -10.427480522950544
         ],
         "y": [
          -2.0063212000326702,
          -3.2766223608952716
         ],
         "type": "scatter"
        },
        {
         "marker": {
          "color": "#636EFA"
         },
         "mode": "markers+text",
         "name": "elon",
         "showlegend": false,
         "text": [
          "elon"
         ],
         "textposition": "top center",
         "x": [
          -7.178234581037952
         ],
         "y": [
          -2.0063212000326707
         ],
         "type": "scatter"
        },
        {
         "line": {
          "color": "#636EFA",
          "width": 1
         },
         "mode": "lines",
         "showlegend": false,
         "x": [
          -10.427480522950544,
          -7.178234581037952
         ],
         "y": [
          -3.2766223608952716,
          -2.0063212000326707
         ],
         "type": "scatter"
        },
        {
         "marker": {
          "color": "#636EFA"
         },
         "mode": "markers+text",
         "name": "elon",
         "showlegend": false,
         "text": [
          "elon"
         ],
         "textposition": "top center",
         "x": [
          -10.167250108908428
         ],
         "y": [
          -3.3689698379357136
         ],
         "type": "scatter"
        },
        {
         "line": {
          "color": "#636EFA",
          "width": 1
         },
         "mode": "lines",
         "showlegend": false,
         "x": [
          -7.178234581037952,
          -10.167250108908428
         ],
         "y": [
          -2.0063212000326707,
          -3.3689698379357136
         ],
         "type": "scatter"
        },
        {
         "marker": {
          "color": "#636EFA"
         },
         "mode": "markers+text",
         "name": "elon",
         "showlegend": false,
         "text": [
          "elon"
         ],
         "textposition": "top center",
         "x": [
          -12.636050958100391
         ],
         "y": [
          19.811138086402334
         ],
         "type": "scatter"
        },
        {
         "line": {
          "color": "#636EFA",
          "width": 1
         },
         "mode": "lines",
         "showlegend": false,
         "x": [
          -10.167250108908428,
          -12.636050958100391
         ],
         "y": [
          -3.3689698379357136,
          19.811138086402334
         ],
         "type": "scatter"
        },
        {
         "marker": {
          "color": "#EF553B"
         },
         "mode": "markers+text",
         "name": "musk",
         "showlegend": false,
         "text": [
          "musk"
         ],
         "textposition": "top center",
         "x": [
          -7.178234581037952
         ],
         "y": [
          -2.0063212000326707
         ],
         "type": "scatter"
        },
        {
         "marker": {
          "color": "#EF553B",
          "size": 10,
          "symbol": "diamond"
         },
         "mode": "markers",
         "showlegend": false,
         "x": [
          -7.178234581037952
         ],
         "y": [
          -2.0063212000326707
         ],
         "type": "scatter"
        },
        {
         "marker": {
          "color": "#EF553B"
         },
         "mode": "markers+text",
         "name": "musk",
         "showlegend": false,
         "text": [
          "musk"
         ],
         "textposition": "top center",
         "x": [
          -8.207443230105387
         ],
         "y": [
          -2.5725334106286626
         ],
         "type": "scatter"
        },
        {
         "line": {
          "color": "#EF553B",
          "width": 1
         },
         "mode": "lines",
         "showlegend": false,
         "x": [
          -7.178234581037952,
          -8.207443230105387
         ],
         "y": [
          -2.0063212000326707,
          -2.5725334106286626
         ],
         "type": "scatter"
        },
        {
         "marker": {
          "color": "#EF553B"
         },
         "mode": "markers+text",
         "name": "musk",
         "showlegend": false,
         "text": [
          "musk"
         ],
         "textposition": "top center",
         "x": [
          -7.178234581037952
         ],
         "y": [
          -2.0063212000326707
         ],
         "type": "scatter"
        },
        {
         "line": {
          "color": "#EF553B",
          "width": 1
         },
         "mode": "lines",
         "showlegend": false,
         "x": [
          -8.207443230105387,
          -7.178234581037952
         ],
         "y": [
          -2.5725334106286626,
          -2.0063212000326707
         ],
         "type": "scatter"
        },
        {
         "marker": {
          "color": "#EF553B"
         },
         "mode": "markers+text",
         "name": "musk",
         "showlegend": false,
         "text": [
          "musk"
         ],
         "textposition": "top center",
         "x": [
          -12.087662032335395
         ],
         "y": [
          -3.197566656016276
         ],
         "type": "scatter"
        },
        {
         "line": {
          "color": "#EF553B",
          "width": 1
         },
         "mode": "lines",
         "showlegend": false,
         "x": [
          -7.178234581037952,
          -12.087662032335395
         ],
         "y": [
          -2.0063212000326707,
          -3.197566656016276
         ],
         "type": "scatter"
        },
        {
         "marker": {
          "color": "#EF553B"
         },
         "mode": "markers+text",
         "name": "musk",
         "showlegend": false,
         "text": [
          "musk"
         ],
         "textposition": "top center",
         "x": [
          -9.666045721912793
         ],
         "y": [
          19.93326071426274
         ],
         "type": "scatter"
        },
        {
         "line": {
          "color": "#EF553B",
          "width": 1
         },
         "mode": "lines",
         "showlegend": false,
         "x": [
          -12.087662032335395,
          -9.666045721912793
         ],
         "y": [
          -3.197566656016276,
          19.93326071426274
         ],
         "type": "scatter"
        }
       ],
       "layout": {
        "legend": {
         "x": 1.02,
         "y": 1.0
        },
        "template": {
         "data": {
          "barpolar": [
           {
            "marker": {
             "line": {
              "color": "#E5ECF6",
              "width": 0.5
             },
             "pattern": {
              "fillmode": "overlay",
              "size": 10,
              "solidity": 0.2
             }
            },
            "type": "barpolar"
           }
          ],
          "bar": [
           {
            "error_x": {
             "color": "#2a3f5f"
            },
            "error_y": {
             "color": "#2a3f5f"
            },
            "marker": {
             "line": {
              "color": "#E5ECF6",
              "width": 0.5
             },
             "pattern": {
              "fillmode": "overlay",
              "size": 10,
              "solidity": 0.2
             }
            },
            "type": "bar"
           }
          ],
          "carpet": [
           {
            "aaxis": {
             "endlinecolor": "#2a3f5f",
             "gridcolor": "white",
             "linecolor": "white",
             "minorgridcolor": "white",
             "startlinecolor": "#2a3f5f"
            },
            "baxis": {
             "endlinecolor": "#2a3f5f",
             "gridcolor": "white",
             "linecolor": "white",
             "minorgridcolor": "white",
             "startlinecolor": "#2a3f5f"
            },
            "type": "carpet"
           }
          ],
          "choropleth": [
           {
            "colorbar": {
             "outlinewidth": 0,
             "ticks": ""
            },
            "type": "choropleth"
           }
          ],
          "contourcarpet": [
           {
            "colorbar": {
             "outlinewidth": 0,
             "ticks": ""
            },
            "type": "contourcarpet"
           }
          ],
          "contour": [
           {
            "colorbar": {
             "outlinewidth": 0,
             "ticks": ""
            },
            "colorscale": [
             [
              0.0,
              "#0d0887"
             ],
             [
              0.1111111111111111,
              "#46039f"
             ],
             [
              0.2222222222222222,
              "#7201a8"
             ],
             [
              0.3333333333333333,
              "#9c179e"
             ],
             [
              0.4444444444444444,
              "#bd3786"
             ],
             [
              0.5555555555555556,
              "#d8576b"
             ],
             [
              0.6666666666666666,
              "#ed7953"
             ],
             [
              0.7777777777777778,
              "#fb9f3a"
             ],
             [
              0.8888888888888888,
              "#fdca26"
             ],
             [
              1.0,
              "#f0f921"
             ]
            ],
            "type": "contour"
           }
          ],
          "heatmapgl": [
           {
            "colorbar": {
             "outlinewidth": 0,
             "ticks": ""
            },
            "colorscale": [
             [
              0.0,
              "#0d0887"
             ],
             [
              0.1111111111111111,
              "#46039f"
             ],
             [
              0.2222222222222222,
              "#7201a8"
             ],
             [
              0.3333333333333333,
              "#9c179e"
             ],
             [
              0.4444444444444444,
              "#bd3786"
             ],
             [
              0.5555555555555556,
              "#d8576b"
             ],
             [
              0.6666666666666666,
              "#ed7953"
             ],
             [
              0.7777777777777778,
              "#fb9f3a"
             ],
             [
              0.8888888888888888,
              "#fdca26"
             ],
             [
              1.0,
              "#f0f921"
             ]
            ],
            "type": "heatmapgl"
           }
          ],
          "heatmap": [
           {
            "colorbar": {
             "outlinewidth": 0,
             "ticks": ""
            },
            "colorscale": [
             [
              0.0,
              "#0d0887"
             ],
             [
              0.1111111111111111,
              "#46039f"
             ],
             [
              0.2222222222222222,
              "#7201a8"
             ],
             [
              0.3333333333333333,
              "#9c179e"
             ],
             [
              0.4444444444444444,
              "#bd3786"
             ],
             [
              0.5555555555555556,
              "#d8576b"
             ],
             [
              0.6666666666666666,
              "#ed7953"
             ],
             [
              0.7777777777777778,
              "#fb9f3a"
             ],
             [
              0.8888888888888888,
              "#fdca26"
             ],
             [
              1.0,
              "#f0f921"
             ]
            ],
            "type": "heatmap"
           }
          ],
          "histogram2dcontour": [
           {
            "colorbar": {
             "outlinewidth": 0,
             "ticks": ""
            },
            "colorscale": [
             [
              0.0,
              "#0d0887"
             ],
             [
              0.1111111111111111,
              "#46039f"
             ],
             [
              0.2222222222222222,
              "#7201a8"
             ],
             [
              0.3333333333333333,
              "#9c179e"
             ],
             [
              0.4444444444444444,
              "#bd3786"
             ],
             [
              0.5555555555555556,
              "#d8576b"
             ],
             [
              0.6666666666666666,
              "#ed7953"
             ],
             [
              0.7777777777777778,
              "#fb9f3a"
             ],
             [
              0.8888888888888888,
              "#fdca26"
             ],
             [
              1.0,
              "#f0f921"
             ]
            ],
            "type": "histogram2dcontour"
           }
          ],
          "histogram2d": [
           {
            "colorbar": {
             "outlinewidth": 0,
             "ticks": ""
            },
            "colorscale": [
             [
              0.0,
              "#0d0887"
             ],
             [
              0.1111111111111111,
              "#46039f"
             ],
             [
              0.2222222222222222,
              "#7201a8"
             ],
             [
              0.3333333333333333,
              "#9c179e"
             ],
             [
              0.4444444444444444,
              "#bd3786"
             ],
             [
              0.5555555555555556,
              "#d8576b"
             ],
             [
              0.6666666666666666,
              "#ed7953"
             ],
             [
              0.7777777777777778,
              "#fb9f3a"
             ],
             [
              0.8888888888888888,
              "#fdca26"
             ],
             [
              1.0,
              "#f0f921"
             ]
            ],
            "type": "histogram2d"
           }
          ],
          "histogram": [
           {
            "marker": {
             "pattern": {
              "fillmode": "overlay",
              "size": 10,
              "solidity": 0.2
             }
            },
            "type": "histogram"
           }
          ],
          "mesh3d": [
           {
            "colorbar": {
             "outlinewidth": 0,
             "ticks": ""
            },
            "type": "mesh3d"
           }
          ],
          "parcoords": [
           {
            "line": {
             "colorbar": {
              "outlinewidth": 0,
              "ticks": ""
             }
            },
            "type": "parcoords"
           }
          ],
          "pie": [
           {
            "automargin": true,
            "type": "pie"
           }
          ],
          "scatter3d": [
           {
            "line": {
             "colorbar": {
              "outlinewidth": 0,
              "ticks": ""
             }
            },
            "marker": {
             "colorbar": {
              "outlinewidth": 0,
              "ticks": ""
             }
            },
            "type": "scatter3d"
           }
          ],
          "scattercarpet": [
           {
            "marker": {
             "colorbar": {
              "outlinewidth": 0,
              "ticks": ""
             }
            },
            "type": "scattercarpet"
           }
          ],
          "scattergeo": [
           {
            "marker": {
             "colorbar": {
              "outlinewidth": 0,
              "ticks": ""
             }
            },
            "type": "scattergeo"
           }
          ],
          "scattergl": [
           {
            "marker": {
             "colorbar": {
              "outlinewidth": 0,
              "ticks": ""
             }
            },
            "type": "scattergl"
           }
          ],
          "scattermapbox": [
           {
            "marker": {
             "colorbar": {
              "outlinewidth": 0,
              "ticks": ""
             }
            },
            "type": "scattermapbox"
           }
          ],
          "scatterpolargl": [
           {
            "marker": {
             "colorbar": {
              "outlinewidth": 0,
              "ticks": ""
             }
            },
            "type": "scatterpolargl"
           }
          ],
          "scatterpolar": [
           {
            "marker": {
             "colorbar": {
              "outlinewidth": 0,
              "ticks": ""
             }
            },
            "type": "scatterpolar"
           }
          ],
          "scatter": [
           {
            "fillpattern": {
             "fillmode": "overlay",
             "size": 10,
             "solidity": 0.2
            },
            "type": "scatter"
           }
          ],
          "scatterternary": [
           {
            "marker": {
             "colorbar": {
              "outlinewidth": 0,
              "ticks": ""
             }
            },
            "type": "scatterternary"
           }
          ],
          "surface": [
           {
            "colorbar": {
             "outlinewidth": 0,
             "ticks": ""
            },
            "colorscale": [
             [
              0.0,
              "#0d0887"
             ],
             [
              0.1111111111111111,
              "#46039f"
             ],
             [
              0.2222222222222222,
              "#7201a8"
             ],
             [
              0.3333333333333333,
              "#9c179e"
             ],
             [
              0.4444444444444444,
              "#bd3786"
             ],
             [
              0.5555555555555556,
              "#d8576b"
             ],
             [
              0.6666666666666666,
              "#ed7953"
             ],
             [
              0.7777777777777778,
              "#fb9f3a"
             ],
             [
              0.8888888888888888,
              "#fdca26"
             ],
             [
              1.0,
              "#f0f921"
             ]
            ],
            "type": "surface"
           }
          ],
          "table": [
           {
            "cells": {
             "fill": {
              "color": "#EBF0F8"
             },
             "line": {
              "color": "white"
             }
            },
            "header": {
             "fill": {
              "color": "#C8D4E3"
             },
             "line": {
              "color": "white"
             }
            },
            "type": "table"
           }
          ]
         },
         "layout": {
          "annotationdefaults": {
           "arrowcolor": "#2a3f5f",
           "arrowhead": 0,
           "arrowwidth": 1
          },
          "autotypenumbers": "strict",
          "coloraxis": {
           "colorbar": {
            "outlinewidth": 0,
            "ticks": ""
           }
          },
          "colorscale": {
           "diverging": [
            [
             0,
             "#8e0152"
            ],
            [
             0.1,
             "#c51b7d"
            ],
            [
             0.2,
             "#de77ae"
            ],
            [
             0.3,
             "#f1b6da"
            ],
            [
             0.4,
             "#fde0ef"
            ],
            [
             0.5,
             "#f7f7f7"
            ],
            [
             0.6,
             "#e6f5d0"
            ],
            [
             0.7,
             "#b8e186"
            ],
            [
             0.8,
             "#7fbc41"
            ],
            [
             0.9,
             "#4d9221"
            ],
            [
             1,
             "#276419"
            ]
           ],
           "sequential": [
            [
             0.0,
             "#0d0887"
            ],
            [
             0.1111111111111111,
             "#46039f"
            ],
            [
             0.2222222222222222,
             "#7201a8"
            ],
            [
             0.3333333333333333,
             "#9c179e"
            ],
            [
             0.4444444444444444,
             "#bd3786"
            ],
            [
             0.5555555555555556,
             "#d8576b"
            ],
            [
             0.6666666666666666,
             "#ed7953"
            ],
            [
             0.7777777777777778,
             "#fb9f3a"
            ],
            [
             0.8888888888888888,
             "#fdca26"
            ],
            [
             1.0,
             "#f0f921"
            ]
           ],
           "sequentialminus": [
            [
             0.0,
             "#0d0887"
            ],
            [
             0.1111111111111111,
             "#46039f"
            ],
            [
             0.2222222222222222,
             "#7201a8"
            ],
            [
             0.3333333333333333,
             "#9c179e"
            ],
            [
             0.4444444444444444,
             "#bd3786"
            ],
            [
             0.5555555555555556,
             "#d8576b"
            ],
            [
             0.6666666666666666,
             "#ed7953"
            ],
            [
             0.7777777777777778,
             "#fb9f3a"
            ],
            [
             0.8888888888888888,
             "#fdca26"
            ],
            [
             1.0,
             "#f0f921"
            ]
           ]
          },
          "colorway": [
           "#636efa",
           "#EF553B",
           "#00cc96",
           "#ab63fa",
           "#FFA15A",
           "#19d3f3",
           "#FF6692",
           "#B6E880",
           "#FF97FF",
           "#FECB52"
          ],
          "font": {
           "color": "#2a3f5f"
          },
          "geo": {
           "bgcolor": "white",
           "lakecolor": "white",
           "landcolor": "#E5ECF6",
           "showlakes": true,
           "showland": true,
           "subunitcolor": "white"
          },
          "hoverlabel": {
           "align": "left"
          },
          "hovermode": "closest",
          "mapbox": {
           "style": "light"
          },
          "paper_bgcolor": "white",
          "plot_bgcolor": "#E5ECF6",
          "polar": {
           "angularaxis": {
            "gridcolor": "white",
            "linecolor": "white",
            "ticks": ""
           },
           "bgcolor": "#E5ECF6",
           "radialaxis": {
            "gridcolor": "white",
            "linecolor": "white",
            "ticks": ""
           }
          },
          "scene": {
           "xaxis": {
            "backgroundcolor": "#E5ECF6",
            "gridcolor": "white",
            "gridwidth": 2,
            "linecolor": "white",
            "showbackground": true,
            "ticks": "",
            "zerolinecolor": "white"
           },
           "yaxis": {
            "backgroundcolor": "#E5ECF6",
            "gridcolor": "white",
            "gridwidth": 2,
            "linecolor": "white",
            "showbackground": true,
            "ticks": "",
            "zerolinecolor": "white"
           },
           "zaxis": {
            "backgroundcolor": "#E5ECF6",
            "gridcolor": "white",
            "gridwidth": 2,
            "linecolor": "white",
            "showbackground": true,
            "ticks": "",
            "zerolinecolor": "white"
           }
          },
          "shapedefaults": {
           "line": {
            "color": "#2a3f5f"
           }
          },
          "ternary": {
           "aaxis": {
            "gridcolor": "white",
            "linecolor": "white",
            "ticks": ""
           },
           "baxis": {
            "gridcolor": "white",
            "linecolor": "white",
            "ticks": ""
           },
           "bgcolor": "#E5ECF6",
           "caxis": {
            "gridcolor": "white",
            "linecolor": "white",
            "ticks": ""
           }
          },
          "title": {
           "x": 0.05
          },
          "xaxis": {
           "automargin": true,
           "gridcolor": "white",
           "linecolor": "white",
           "ticks": "",
           "title": {
            "standoff": 15
           },
           "zerolinecolor": "white",
           "zerolinewidth": 2
          },
          "yaxis": {
           "automargin": true,
           "gridcolor": "white",
           "linecolor": "white",
           "ticks": "",
           "title": {
            "standoff": 15
           },
           "zerolinecolor": "white",
           "zerolinewidth": 2
          }
         }
        },
        "title": {
         "text": "2D Visualization of Word Vectors"
        },
        "xaxis": {
         "range": [
          -50,
          50
         ],
         "title": {
          "text": "PC1"
         }
        },
        "yaxis": {
         "range": [
          -50,
          50
         ],
         "title": {
          "text": "PC2"
         }
        }
       },
       "config": {
        "showLink": false,
        "linkText": "Export to plot.ly",
        "plotlyServerURL": "https://plot.ly"
       }
      },
      "text/html": "<div>                            <div id=\"b609ceed-7ef0-41a9-892a-cbaef8029f79\" class=\"plotly-graph-div\" style=\"height:525px; width:100%;\"></div>            <script type=\"text/javascript\">                require([\"plotly\"], function(Plotly) {                    window.PLOTLYENV=window.PLOTLYENV || {};                                    if (document.getElementById(\"b609ceed-7ef0-41a9-892a-cbaef8029f79\")) {                    Plotly.newPlot(                        \"b609ceed-7ef0-41a9-892a-cbaef8029f79\",                        [{\"marker\":{\"color\":\"#00CC96\"},\"mode\":\"markers+text\",\"name\":\"twitter\",\"showlegend\":false,\"text\":[\"twitter\"],\"textposition\":\"top center\",\"x\":[7.959031180202769],\"y\":[-11.610646711782334],\"type\":\"scatter\"},{\"marker\":{\"color\":\"#00CC96\",\"size\":10,\"symbol\":\"diamond\"},\"mode\":\"markers\",\"showlegend\":false,\"x\":[7.959031180202769],\"y\":[-11.610646711782334],\"type\":\"scatter\"},{\"marker\":{\"color\":\"#00CC96\"},\"mode\":\"markers+text\",\"name\":\"twitter\",\"showlegend\":false,\"text\":[\"twitter\"],\"textposition\":\"top center\",\"x\":[25.909196445836617],\"y\":[-6.033530917662784],\"type\":\"scatter\"},{\"line\":{\"color\":\"#00CC96\",\"width\":1},\"mode\":\"lines\",\"showlegend\":false,\"x\":[7.959031180202769,25.909196445836617],\"y\":[-11.610646711782334,-6.033530917662784],\"type\":\"scatter\"},{\"marker\":{\"color\":\"#00CC96\"},\"mode\":\"markers+text\",\"name\":\"twitter\",\"showlegend\":false,\"text\":[\"twitter\"],\"textposition\":\"top center\",\"x\":[6.2948112631643705],\"y\":[-10.856921048969213],\"type\":\"scatter\"},{\"line\":{\"color\":\"#00CC96\",\"width\":1},\"mode\":\"lines\",\"showlegend\":false,\"x\":[25.909196445836617,6.2948112631643705],\"y\":[-6.033530917662784,-10.856921048969213],\"type\":\"scatter\"},{\"marker\":{\"color\":\"#00CC96\"},\"mode\":\"markers+text\",\"name\":\"twitter\",\"showlegend\":false,\"text\":[\"twitter\"],\"textposition\":\"top center\",\"x\":[19.368255370155936],\"y\":[-21.26298012551713],\"type\":\"scatter\"},{\"line\":{\"color\":\"#00CC96\",\"width\":1},\"mode\":\"lines\",\"showlegend\":false,\"x\":[6.2948112631643705,19.368255370155936],\"y\":[-10.856921048969213,-21.26298012551713],\"type\":\"scatter\"},{\"marker\":{\"color\":\"#00CC96\"},\"mode\":\"markers+text\",\"name\":\"twitter\",\"showlegend\":false,\"text\":[\"twitter\"],\"textposition\":\"top center\",\"x\":[32.373576639105025],\"y\":[30.460657068873015],\"type\":\"scatter\"},{\"line\":{\"color\":\"#00CC96\",\"width\":1},\"mode\":\"lines\",\"showlegend\":false,\"x\":[19.368255370155936,32.373576639105025],\"y\":[-21.26298012551713,30.460657068873015],\"type\":\"scatter\"},{\"marker\":{\"color\":\"#636EFA\"},\"mode\":\"markers+text\",\"name\":\"elon\",\"showlegend\":false,\"text\":[\"elon\"],\"textposition\":\"top center\",\"x\":[-7.1782345810379535],\"y\":[-2.0063212000326702],\"type\":\"scatter\"},{\"marker\":{\"color\":\"#636EFA\",\"size\":10,\"symbol\":\"diamond\"},\"mode\":\"markers\",\"showlegend\":false,\"x\":[-7.1782345810379535],\"y\":[-2.0063212000326702],\"type\":\"scatter\"},{\"marker\":{\"color\":\"#636EFA\"},\"mode\":\"markers+text\",\"name\":\"elon\",\"showlegend\":false,\"text\":[\"elon\"],\"textposition\":\"top center\",\"x\":[-10.427480522950544],\"y\":[-3.2766223608952716],\"type\":\"scatter\"},{\"line\":{\"color\":\"#636EFA\",\"width\":1},\"mode\":\"lines\",\"showlegend\":false,\"x\":[-7.1782345810379535,-10.427480522950544],\"y\":[-2.0063212000326702,-3.2766223608952716],\"type\":\"scatter\"},{\"marker\":{\"color\":\"#636EFA\"},\"mode\":\"markers+text\",\"name\":\"elon\",\"showlegend\":false,\"text\":[\"elon\"],\"textposition\":\"top center\",\"x\":[-7.178234581037952],\"y\":[-2.0063212000326707],\"type\":\"scatter\"},{\"line\":{\"color\":\"#636EFA\",\"width\":1},\"mode\":\"lines\",\"showlegend\":false,\"x\":[-10.427480522950544,-7.178234581037952],\"y\":[-3.2766223608952716,-2.0063212000326707],\"type\":\"scatter\"},{\"marker\":{\"color\":\"#636EFA\"},\"mode\":\"markers+text\",\"name\":\"elon\",\"showlegend\":false,\"text\":[\"elon\"],\"textposition\":\"top center\",\"x\":[-10.167250108908428],\"y\":[-3.3689698379357136],\"type\":\"scatter\"},{\"line\":{\"color\":\"#636EFA\",\"width\":1},\"mode\":\"lines\",\"showlegend\":false,\"x\":[-7.178234581037952,-10.167250108908428],\"y\":[-2.0063212000326707,-3.3689698379357136],\"type\":\"scatter\"},{\"marker\":{\"color\":\"#636EFA\"},\"mode\":\"markers+text\",\"name\":\"elon\",\"showlegend\":false,\"text\":[\"elon\"],\"textposition\":\"top center\",\"x\":[-12.636050958100391],\"y\":[19.811138086402334],\"type\":\"scatter\"},{\"line\":{\"color\":\"#636EFA\",\"width\":1},\"mode\":\"lines\",\"showlegend\":false,\"x\":[-10.167250108908428,-12.636050958100391],\"y\":[-3.3689698379357136,19.811138086402334],\"type\":\"scatter\"},{\"marker\":{\"color\":\"#EF553B\"},\"mode\":\"markers+text\",\"name\":\"musk\",\"showlegend\":false,\"text\":[\"musk\"],\"textposition\":\"top center\",\"x\":[-7.178234581037952],\"y\":[-2.0063212000326707],\"type\":\"scatter\"},{\"marker\":{\"color\":\"#EF553B\",\"size\":10,\"symbol\":\"diamond\"},\"mode\":\"markers\",\"showlegend\":false,\"x\":[-7.178234581037952],\"y\":[-2.0063212000326707],\"type\":\"scatter\"},{\"marker\":{\"color\":\"#EF553B\"},\"mode\":\"markers+text\",\"name\":\"musk\",\"showlegend\":false,\"text\":[\"musk\"],\"textposition\":\"top center\",\"x\":[-8.207443230105387],\"y\":[-2.5725334106286626],\"type\":\"scatter\"},{\"line\":{\"color\":\"#EF553B\",\"width\":1},\"mode\":\"lines\",\"showlegend\":false,\"x\":[-7.178234581037952,-8.207443230105387],\"y\":[-2.0063212000326707,-2.5725334106286626],\"type\":\"scatter\"},{\"marker\":{\"color\":\"#EF553B\"},\"mode\":\"markers+text\",\"name\":\"musk\",\"showlegend\":false,\"text\":[\"musk\"],\"textposition\":\"top center\",\"x\":[-7.178234581037952],\"y\":[-2.0063212000326707],\"type\":\"scatter\"},{\"line\":{\"color\":\"#EF553B\",\"width\":1},\"mode\":\"lines\",\"showlegend\":false,\"x\":[-8.207443230105387,-7.178234581037952],\"y\":[-2.5725334106286626,-2.0063212000326707],\"type\":\"scatter\"},{\"marker\":{\"color\":\"#EF553B\"},\"mode\":\"markers+text\",\"name\":\"musk\",\"showlegend\":false,\"text\":[\"musk\"],\"textposition\":\"top center\",\"x\":[-12.087662032335395],\"y\":[-3.197566656016276],\"type\":\"scatter\"},{\"line\":{\"color\":\"#EF553B\",\"width\":1},\"mode\":\"lines\",\"showlegend\":false,\"x\":[-7.178234581037952,-12.087662032335395],\"y\":[-2.0063212000326707,-3.197566656016276],\"type\":\"scatter\"},{\"marker\":{\"color\":\"#EF553B\"},\"mode\":\"markers+text\",\"name\":\"musk\",\"showlegend\":false,\"text\":[\"musk\"],\"textposition\":\"top center\",\"x\":[-9.666045721912793],\"y\":[19.93326071426274],\"type\":\"scatter\"},{\"line\":{\"color\":\"#EF553B\",\"width\":1},\"mode\":\"lines\",\"showlegend\":false,\"x\":[-12.087662032335395,-9.666045721912793],\"y\":[-3.197566656016276,19.93326071426274],\"type\":\"scatter\"}],                        {\"legend\":{\"x\":1.02,\"y\":1.0},\"template\":{\"data\":{\"barpolar\":[{\"marker\":{\"line\":{\"color\":\"#E5ECF6\",\"width\":0.5},\"pattern\":{\"fillmode\":\"overlay\",\"size\":10,\"solidity\":0.2}},\"type\":\"barpolar\"}],\"bar\":[{\"error_x\":{\"color\":\"#2a3f5f\"},\"error_y\":{\"color\":\"#2a3f5f\"},\"marker\":{\"line\":{\"color\":\"#E5ECF6\",\"width\":0.5},\"pattern\":{\"fillmode\":\"overlay\",\"size\":10,\"solidity\":0.2}},\"type\":\"bar\"}],\"carpet\":[{\"aaxis\":{\"endlinecolor\":\"#2a3f5f\",\"gridcolor\":\"white\",\"linecolor\":\"white\",\"minorgridcolor\":\"white\",\"startlinecolor\":\"#2a3f5f\"},\"baxis\":{\"endlinecolor\":\"#2a3f5f\",\"gridcolor\":\"white\",\"linecolor\":\"white\",\"minorgridcolor\":\"white\",\"startlinecolor\":\"#2a3f5f\"},\"type\":\"carpet\"}],\"choropleth\":[{\"colorbar\":{\"outlinewidth\":0,\"ticks\":\"\"},\"type\":\"choropleth\"}],\"contourcarpet\":[{\"colorbar\":{\"outlinewidth\":0,\"ticks\":\"\"},\"type\":\"contourcarpet\"}],\"contour\":[{\"colorbar\":{\"outlinewidth\":0,\"ticks\":\"\"},\"colorscale\":[[0.0,\"#0d0887\"],[0.1111111111111111,\"#46039f\"],[0.2222222222222222,\"#7201a8\"],[0.3333333333333333,\"#9c179e\"],[0.4444444444444444,\"#bd3786\"],[0.5555555555555556,\"#d8576b\"],[0.6666666666666666,\"#ed7953\"],[0.7777777777777778,\"#fb9f3a\"],[0.8888888888888888,\"#fdca26\"],[1.0,\"#f0f921\"]],\"type\":\"contour\"}],\"heatmapgl\":[{\"colorbar\":{\"outlinewidth\":0,\"ticks\":\"\"},\"colorscale\":[[0.0,\"#0d0887\"],[0.1111111111111111,\"#46039f\"],[0.2222222222222222,\"#7201a8\"],[0.3333333333333333,\"#9c179e\"],[0.4444444444444444,\"#bd3786\"],[0.5555555555555556,\"#d8576b\"],[0.6666666666666666,\"#ed7953\"],[0.7777777777777778,\"#fb9f3a\"],[0.8888888888888888,\"#fdca26\"],[1.0,\"#f0f921\"]],\"type\":\"heatmapgl\"}],\"heatmap\":[{\"colorbar\":{\"outlinewidth\":0,\"ticks\":\"\"},\"colorscale\":[[0.0,\"#0d0887\"],[0.1111111111111111,\"#46039f\"],[0.2222222222222222,\"#7201a8\"],[0.3333333333333333,\"#9c179e\"],[0.4444444444444444,\"#bd3786\"],[0.5555555555555556,\"#d8576b\"],[0.6666666666666666,\"#ed7953\"],[0.7777777777777778,\"#fb9f3a\"],[0.8888888888888888,\"#fdca26\"],[1.0,\"#f0f921\"]],\"type\":\"heatmap\"}],\"histogram2dcontour\":[{\"colorbar\":{\"outlinewidth\":0,\"ticks\":\"\"},\"colorscale\":[[0.0,\"#0d0887\"],[0.1111111111111111,\"#46039f\"],[0.2222222222222222,\"#7201a8\"],[0.3333333333333333,\"#9c179e\"],[0.4444444444444444,\"#bd3786\"],[0.5555555555555556,\"#d8576b\"],[0.6666666666666666,\"#ed7953\"],[0.7777777777777778,\"#fb9f3a\"],[0.8888888888888888,\"#fdca26\"],[1.0,\"#f0f921\"]],\"type\":\"histogram2dcontour\"}],\"histogram2d\":[{\"colorbar\":{\"outlinewidth\":0,\"ticks\":\"\"},\"colorscale\":[[0.0,\"#0d0887\"],[0.1111111111111111,\"#46039f\"],[0.2222222222222222,\"#7201a8\"],[0.3333333333333333,\"#9c179e\"],[0.4444444444444444,\"#bd3786\"],[0.5555555555555556,\"#d8576b\"],[0.6666666666666666,\"#ed7953\"],[0.7777777777777778,\"#fb9f3a\"],[0.8888888888888888,\"#fdca26\"],[1.0,\"#f0f921\"]],\"type\":\"histogram2d\"}],\"histogram\":[{\"marker\":{\"pattern\":{\"fillmode\":\"overlay\",\"size\":10,\"solidity\":0.2}},\"type\":\"histogram\"}],\"mesh3d\":[{\"colorbar\":{\"outlinewidth\":0,\"ticks\":\"\"},\"type\":\"mesh3d\"}],\"parcoords\":[{\"line\":{\"colorbar\":{\"outlinewidth\":0,\"ticks\":\"\"}},\"type\":\"parcoords\"}],\"pie\":[{\"automargin\":true,\"type\":\"pie\"}],\"scatter3d\":[{\"line\":{\"colorbar\":{\"outlinewidth\":0,\"ticks\":\"\"}},\"marker\":{\"colorbar\":{\"outlinewidth\":0,\"ticks\":\"\"}},\"type\":\"scatter3d\"}],\"scattercarpet\":[{\"marker\":{\"colorbar\":{\"outlinewidth\":0,\"ticks\":\"\"}},\"type\":\"scattercarpet\"}],\"scattergeo\":[{\"marker\":{\"colorbar\":{\"outlinewidth\":0,\"ticks\":\"\"}},\"type\":\"scattergeo\"}],\"scattergl\":[{\"marker\":{\"colorbar\":{\"outlinewidth\":0,\"ticks\":\"\"}},\"type\":\"scattergl\"}],\"scattermapbox\":[{\"marker\":{\"colorbar\":{\"outlinewidth\":0,\"ticks\":\"\"}},\"type\":\"scattermapbox\"}],\"scatterpolargl\":[{\"marker\":{\"colorbar\":{\"outlinewidth\":0,\"ticks\":\"\"}},\"type\":\"scatterpolargl\"}],\"scatterpolar\":[{\"marker\":{\"colorbar\":{\"outlinewidth\":0,\"ticks\":\"\"}},\"type\":\"scatterpolar\"}],\"scatter\":[{\"fillpattern\":{\"fillmode\":\"overlay\",\"size\":10,\"solidity\":0.2},\"type\":\"scatter\"}],\"scatterternary\":[{\"marker\":{\"colorbar\":{\"outlinewidth\":0,\"ticks\":\"\"}},\"type\":\"scatterternary\"}],\"surface\":[{\"colorbar\":{\"outlinewidth\":0,\"ticks\":\"\"},\"colorscale\":[[0.0,\"#0d0887\"],[0.1111111111111111,\"#46039f\"],[0.2222222222222222,\"#7201a8\"],[0.3333333333333333,\"#9c179e\"],[0.4444444444444444,\"#bd3786\"],[0.5555555555555556,\"#d8576b\"],[0.6666666666666666,\"#ed7953\"],[0.7777777777777778,\"#fb9f3a\"],[0.8888888888888888,\"#fdca26\"],[1.0,\"#f0f921\"]],\"type\":\"surface\"}],\"table\":[{\"cells\":{\"fill\":{\"color\":\"#EBF0F8\"},\"line\":{\"color\":\"white\"}},\"header\":{\"fill\":{\"color\":\"#C8D4E3\"},\"line\":{\"color\":\"white\"}},\"type\":\"table\"}]},\"layout\":{\"annotationdefaults\":{\"arrowcolor\":\"#2a3f5f\",\"arrowhead\":0,\"arrowwidth\":1},\"autotypenumbers\":\"strict\",\"coloraxis\":{\"colorbar\":{\"outlinewidth\":0,\"ticks\":\"\"}},\"colorscale\":{\"diverging\":[[0,\"#8e0152\"],[0.1,\"#c51b7d\"],[0.2,\"#de77ae\"],[0.3,\"#f1b6da\"],[0.4,\"#fde0ef\"],[0.5,\"#f7f7f7\"],[0.6,\"#e6f5d0\"],[0.7,\"#b8e186\"],[0.8,\"#7fbc41\"],[0.9,\"#4d9221\"],[1,\"#276419\"]],\"sequential\":[[0.0,\"#0d0887\"],[0.1111111111111111,\"#46039f\"],[0.2222222222222222,\"#7201a8\"],[0.3333333333333333,\"#9c179e\"],[0.4444444444444444,\"#bd3786\"],[0.5555555555555556,\"#d8576b\"],[0.6666666666666666,\"#ed7953\"],[0.7777777777777778,\"#fb9f3a\"],[0.8888888888888888,\"#fdca26\"],[1.0,\"#f0f921\"]],\"sequentialminus\":[[0.0,\"#0d0887\"],[0.1111111111111111,\"#46039f\"],[0.2222222222222222,\"#7201a8\"],[0.3333333333333333,\"#9c179e\"],[0.4444444444444444,\"#bd3786\"],[0.5555555555555556,\"#d8576b\"],[0.6666666666666666,\"#ed7953\"],[0.7777777777777778,\"#fb9f3a\"],[0.8888888888888888,\"#fdca26\"],[1.0,\"#f0f921\"]]},\"colorway\":[\"#636efa\",\"#EF553B\",\"#00cc96\",\"#ab63fa\",\"#FFA15A\",\"#19d3f3\",\"#FF6692\",\"#B6E880\",\"#FF97FF\",\"#FECB52\"],\"font\":{\"color\":\"#2a3f5f\"},\"geo\":{\"bgcolor\":\"white\",\"lakecolor\":\"white\",\"landcolor\":\"#E5ECF6\",\"showlakes\":true,\"showland\":true,\"subunitcolor\":\"white\"},\"hoverlabel\":{\"align\":\"left\"},\"hovermode\":\"closest\",\"mapbox\":{\"style\":\"light\"},\"paper_bgcolor\":\"white\",\"plot_bgcolor\":\"#E5ECF6\",\"polar\":{\"angularaxis\":{\"gridcolor\":\"white\",\"linecolor\":\"white\",\"ticks\":\"\"},\"bgcolor\":\"#E5ECF6\",\"radialaxis\":{\"gridcolor\":\"white\",\"linecolor\":\"white\",\"ticks\":\"\"}},\"scene\":{\"xaxis\":{\"backgroundcolor\":\"#E5ECF6\",\"gridcolor\":\"white\",\"gridwidth\":2,\"linecolor\":\"white\",\"showbackground\":true,\"ticks\":\"\",\"zerolinecolor\":\"white\"},\"yaxis\":{\"backgroundcolor\":\"#E5ECF6\",\"gridcolor\":\"white\",\"gridwidth\":2,\"linecolor\":\"white\",\"showbackground\":true,\"ticks\":\"\",\"zerolinecolor\":\"white\"},\"zaxis\":{\"backgroundcolor\":\"#E5ECF6\",\"gridcolor\":\"white\",\"gridwidth\":2,\"linecolor\":\"white\",\"showbackground\":true,\"ticks\":\"\",\"zerolinecolor\":\"white\"}},\"shapedefaults\":{\"line\":{\"color\":\"#2a3f5f\"}},\"ternary\":{\"aaxis\":{\"gridcolor\":\"white\",\"linecolor\":\"white\",\"ticks\":\"\"},\"baxis\":{\"gridcolor\":\"white\",\"linecolor\":\"white\",\"ticks\":\"\"},\"bgcolor\":\"#E5ECF6\",\"caxis\":{\"gridcolor\":\"white\",\"linecolor\":\"white\",\"ticks\":\"\"}},\"title\":{\"x\":0.05},\"xaxis\":{\"automargin\":true,\"gridcolor\":\"white\",\"linecolor\":\"white\",\"ticks\":\"\",\"title\":{\"standoff\":15},\"zerolinecolor\":\"white\",\"zerolinewidth\":2},\"yaxis\":{\"automargin\":true,\"gridcolor\":\"white\",\"linecolor\":\"white\",\"ticks\":\"\",\"title\":{\"standoff\":15},\"zerolinecolor\":\"white\",\"zerolinewidth\":2}}},\"title\":{\"text\":\"2D Visualization of Word Vectors\"},\"xaxis\":{\"range\":[-50,50],\"title\":{\"text\":\"PC1\"}},\"yaxis\":{\"range\":[-50,50],\"title\":{\"text\":\"PC2\"}}},                        {\"responsive\": true}                    ).then(function(){\n                            \nvar gd = document.getElementById('b609ceed-7ef0-41a9-892a-cbaef8029f79');\nvar x = new MutationObserver(function (mutations, observer) {{\n        var display = window.getComputedStyle(gd).display;\n        if (!display || display === 'none') {{\n            console.log([gd, 'removed!']);\n            Plotly.purge(gd);\n            observer.disconnect();\n        }}\n}});\n\n// Listen for the removal of the full notebook cells\nvar notebookContainer = gd.closest('#notebook-container');\nif (notebookContainer) {{\n    x.observe(notebookContainer, {childList: true});\n}}\n\n// Listen for the clearing of the current output cell\nvar outputEl = gd.closest('.output');\nif (outputEl) {{\n    x.observe(outputEl, {childList: true});\n}}\n\n                        })                };                });            </script>        </div>"
     },
     "metadata": {},
     "output_type": "display_data"
    }
   ],
   "source": [
    "plot_word_vectors_2d_plotly(vectors)"
   ],
   "metadata": {
    "collapsed": false
   }
  }
 ],
 "metadata": {
  "kernelspec": {
   "display_name": "Python 3",
   "language": "python",
   "name": "python3"
  },
  "language_info": {
   "codemirror_mode": {
    "name": "ipython",
    "version": 2
   },
   "file_extension": ".py",
   "mimetype": "text/x-python",
   "name": "python",
   "nbconvert_exporter": "python",
   "pygments_lexer": "ipython2",
   "version": "2.7.6"
  }
 },
 "nbformat": 4,
 "nbformat_minor": 0
}
