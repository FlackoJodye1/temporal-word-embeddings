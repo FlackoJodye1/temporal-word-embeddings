{
 "cells": [
  {
   "cell_type": "code",
   "execution_count": 2,
   "metadata": {
    "collapsed": true
   },
   "outputs": [],
   "source": [
    "import pandas as pd\n",
    "from pathlib import Path"
   ]
  },
  {
   "cell_type": "code",
   "execution_count": 68,
   "outputs": [],
   "source": [
    "path_to_input_data = Path(\"/Users/paulschmitt/Downloads/pantheon.tsv\")\n",
    "path_to_output_data = Path(\"../../data/processed/entities\")"
   ],
   "metadata": {
    "collapsed": false
   }
  },
  {
   "cell_type": "code",
   "execution_count": 47,
   "outputs": [],
   "source": [
    "data = pd.read_csv(path_to_input_data, delimiter=\"\\t\")"
   ],
   "metadata": {
    "collapsed": false
   }
  },
  {
   "cell_type": "markdown",
   "source": [
    "Filter for relevant attributes"
   ],
   "metadata": {
    "collapsed": false
   }
  },
  {
   "cell_type": "code",
   "execution_count": 48,
   "outputs": [],
   "source": [
    "data = data[[\"name\", \"domain\"]]"
   ],
   "metadata": {
    "collapsed": false
   }
  },
  {
   "cell_type": "markdown",
   "source": [
    "Convert all names to lowercase"
   ],
   "metadata": {
    "collapsed": false
   }
  },
  {
   "cell_type": "code",
   "execution_count": 49,
   "outputs": [],
   "source": [
    "data['name'] = data['name'].str.lower()"
   ],
   "metadata": {
    "collapsed": false
   }
  },
  {
   "cell_type": "markdown",
   "source": [
    "Split the names so that we get first-, middle- and lastname separately"
   ],
   "metadata": {
    "collapsed": false
   }
  },
  {
   "cell_type": "code",
   "execution_count": 50,
   "outputs": [],
   "source": [
    "data['name'] = data['name'].str.split()"
   ],
   "metadata": {
    "collapsed": false
   }
  },
  {
   "cell_type": "code",
   "execution_count": 51,
   "outputs": [],
   "source": [
    "exploded_df = data.explode('name')"
   ],
   "metadata": {
    "collapsed": false
   }
  },
  {
   "cell_type": "markdown",
   "source": [
    "Filter out all names that have 3 or less characters in them, since these are mostly titles like \"Dr\" or titles of nobility"
   ],
   "metadata": {
    "collapsed": false
   }
  },
  {
   "cell_type": "code",
   "execution_count": 52,
   "outputs": [],
   "source": [
    "exploded_df = exploded_df[exploded_df['name'].apply(len) > 3]"
   ],
   "metadata": {
    "collapsed": false
   }
  },
  {
   "cell_type": "code",
   "execution_count": 53,
   "outputs": [
    {
     "data": {
      "text/plain": "                name        domain\n0            abraham  INSTITUTIONS\n0            lincoln  INSTITUTIONS\n1          aristotle    HUMANITIES\n2               rand    HUMANITIES\n3              andre        SPORTS\n...              ...           ...\n11338      lithuania  INSTITUTIONS\n11339           eric    HUMANITIES\n11339       hobsbawm    HUMANITIES\n11340        nikolai    HUMANITIES\n11340  chernyshevsky    HUMANITIES\n\n[22477 rows x 2 columns]",
      "text/html": "<div>\n<style scoped>\n    .dataframe tbody tr th:only-of-type {\n        vertical-align: middle;\n    }\n\n    .dataframe tbody tr th {\n        vertical-align: top;\n    }\n\n    .dataframe thead th {\n        text-align: right;\n    }\n</style>\n<table border=\"1\" class=\"dataframe\">\n  <thead>\n    <tr style=\"text-align: right;\">\n      <th></th>\n      <th>name</th>\n      <th>domain</th>\n    </tr>\n  </thead>\n  <tbody>\n    <tr>\n      <th>0</th>\n      <td>abraham</td>\n      <td>INSTITUTIONS</td>\n    </tr>\n    <tr>\n      <th>0</th>\n      <td>lincoln</td>\n      <td>INSTITUTIONS</td>\n    </tr>\n    <tr>\n      <th>1</th>\n      <td>aristotle</td>\n      <td>HUMANITIES</td>\n    </tr>\n    <tr>\n      <th>2</th>\n      <td>rand</td>\n      <td>HUMANITIES</td>\n    </tr>\n    <tr>\n      <th>3</th>\n      <td>andre</td>\n      <td>SPORTS</td>\n    </tr>\n    <tr>\n      <th>...</th>\n      <td>...</td>\n      <td>...</td>\n    </tr>\n    <tr>\n      <th>11338</th>\n      <td>lithuania</td>\n      <td>INSTITUTIONS</td>\n    </tr>\n    <tr>\n      <th>11339</th>\n      <td>eric</td>\n      <td>HUMANITIES</td>\n    </tr>\n    <tr>\n      <th>11339</th>\n      <td>hobsbawm</td>\n      <td>HUMANITIES</td>\n    </tr>\n    <tr>\n      <th>11340</th>\n      <td>nikolai</td>\n      <td>HUMANITIES</td>\n    </tr>\n    <tr>\n      <th>11340</th>\n      <td>chernyshevsky</td>\n      <td>HUMANITIES</td>\n    </tr>\n  </tbody>\n</table>\n<p>22477 rows × 2 columns</p>\n</div>"
     },
     "execution_count": 53,
     "metadata": {},
     "output_type": "execute_result"
    }
   ],
   "source": [
    "exploded_df"
   ],
   "metadata": {
    "collapsed": false
   }
  },
  {
   "cell_type": "code",
   "execution_count": 56,
   "outputs": [],
   "source": [
    "entity_counts = exploded_df.groupby('name')['domain'].value_counts().unstack(fill_value=0)"
   ],
   "metadata": {
    "collapsed": false
   }
  },
  {
   "cell_type": "code",
   "execution_count": 57,
   "outputs": [],
   "source": [
    "entity_counts['domain'] = entity_counts.idxmax(axis=1)"
   ],
   "metadata": {
    "collapsed": false
   }
  },
  {
   "cell_type": "code",
   "execution_count": 59,
   "outputs": [
    {
     "data": {
      "text/plain": "Index(['ARTS', 'BUSINESS & LAW', 'EXPLORATION', 'HUMANITIES', 'INSTITUTIONS',\n       'PUBLIC FIGURE', 'SCIENCE & TECHNOLOGY', 'SPORTS', 'domain'],\n      dtype='object', name='domain')"
     },
     "execution_count": 59,
     "metadata": {},
     "output_type": "execute_result"
    }
   ],
   "source": [
    "entity_counts.columns"
   ],
   "metadata": {
    "collapsed": false
   }
  },
  {
   "cell_type": "code",
   "execution_count": 60,
   "outputs": [],
   "source": [
    "entity_counts = entity_counts[\"domain\"]"
   ],
   "metadata": {
    "collapsed": false
   }
  },
  {
   "cell_type": "code",
   "execution_count": 62,
   "outputs": [],
   "source": [
    "entity_counts = entity_counts.reset_index()"
   ],
   "metadata": {
    "collapsed": false
   }
  },
  {
   "cell_type": "code",
   "execution_count": 66,
   "outputs": [
    {
     "data": {
      "text/plain": "                   name        domain\n0              \"noynoy\"  INSTITUTIONS\n1            'ulukalala  INSTITUTIONS\n2                  13th  INSTITUTIONS\n3                  14th  INSTITUTIONS\n4                `abbas  INSTITUTIONS\n...                 ...           ...\n12118          ọbasanjọ  INSTITUTIONS\n12119     ‘abdu’l-hamid  INSTITUTIONS\n12120  ‘abdu’l-muttalib  INSTITUTIONS\n12121              シルショ          ARTS\n12122              水木一郞          ARTS\n\n[12123 rows x 2 columns]",
      "text/html": "<div>\n<style scoped>\n    .dataframe tbody tr th:only-of-type {\n        vertical-align: middle;\n    }\n\n    .dataframe tbody tr th {\n        vertical-align: top;\n    }\n\n    .dataframe thead th {\n        text-align: right;\n    }\n</style>\n<table border=\"1\" class=\"dataframe\">\n  <thead>\n    <tr style=\"text-align: right;\">\n      <th></th>\n      <th>name</th>\n      <th>domain</th>\n    </tr>\n  </thead>\n  <tbody>\n    <tr>\n      <th>0</th>\n      <td>\"noynoy\"</td>\n      <td>INSTITUTIONS</td>\n    </tr>\n    <tr>\n      <th>1</th>\n      <td>'ulukalala</td>\n      <td>INSTITUTIONS</td>\n    </tr>\n    <tr>\n      <th>2</th>\n      <td>13th</td>\n      <td>INSTITUTIONS</td>\n    </tr>\n    <tr>\n      <th>3</th>\n      <td>14th</td>\n      <td>INSTITUTIONS</td>\n    </tr>\n    <tr>\n      <th>4</th>\n      <td>`abbas</td>\n      <td>INSTITUTIONS</td>\n    </tr>\n    <tr>\n      <th>...</th>\n      <td>...</td>\n      <td>...</td>\n    </tr>\n    <tr>\n      <th>12118</th>\n      <td>ọbasanjọ</td>\n      <td>INSTITUTIONS</td>\n    </tr>\n    <tr>\n      <th>12119</th>\n      <td>‘abdu’l-hamid</td>\n      <td>INSTITUTIONS</td>\n    </tr>\n    <tr>\n      <th>12120</th>\n      <td>‘abdu’l-muttalib</td>\n      <td>INSTITUTIONS</td>\n    </tr>\n    <tr>\n      <th>12121</th>\n      <td>シルショ</td>\n      <td>ARTS</td>\n    </tr>\n    <tr>\n      <th>12122</th>\n      <td>水木一郞</td>\n      <td>ARTS</td>\n    </tr>\n  </tbody>\n</table>\n<p>12123 rows × 2 columns</p>\n</div>"
     },
     "execution_count": 66,
     "metadata": {},
     "output_type": "execute_result"
    }
   ],
   "source": [
    "entity_counts"
   ],
   "metadata": {
    "collapsed": false
   }
  },
  {
   "cell_type": "code",
   "execution_count": 70,
   "outputs": [],
   "source": [
    "entity_counts.to_csv(path_to_output_data / 'persons_pantheon_data.csv', index = False)"
   ],
   "metadata": {
    "collapsed": false
   }
  },
  {
   "cell_type": "code",
   "execution_count": null,
   "outputs": [],
   "source": [],
   "metadata": {
    "collapsed": false
   }
  }
 ],
 "metadata": {
  "kernelspec": {
   "display_name": "Python 3",
   "language": "python",
   "name": "python3"
  },
  "language_info": {
   "codemirror_mode": {
    "name": "ipython",
    "version": 2
   },
   "file_extension": ".py",
   "mimetype": "text/x-python",
   "name": "python",
   "nbconvert_exporter": "python",
   "pygments_lexer": "ipython2",
   "version": "2.7.6"
  }
 },
 "nbformat": 4,
 "nbformat_minor": 0
}
