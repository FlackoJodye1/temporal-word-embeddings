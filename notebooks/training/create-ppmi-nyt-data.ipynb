{
 "cells": [
  {
   "cell_type": "markdown",
   "source": [
    "# Creation of Sparse PPMI Embeddings for the NYT Dataset"
   ],
   "metadata": {
    "collapsed": false
   }
  },
  {
   "cell_type": "code",
   "execution_count": 2,
   "outputs": [],
   "source": [
    "%load_ext autoreload"
   ],
   "metadata": {
    "collapsed": false
   }
  },
  {
   "cell_type": "code",
   "execution_count": 3,
   "outputs": [],
   "source": [
    "import glob\n",
    "import pickle\n",
    "import pandas as pd\n",
    "from pathlib import Path\n",
    "from pprint import pprint\n",
    "from tqdm.notebook import tqdm\n",
    "\n",
    "import sys\n",
    "sys.path.append('../../')\n",
    "\n",
    "from src.packages.TPPMI.ppmi_model import PPMIModel\n",
    "from src.packages.TPPMI.tppmi_model import TPPMIModel\n",
    "import src.packages.TPPMI.util as tppmi_util\n",
    "\n",
    "import nltk\n",
    "# nltk.download('punkt');"
   ],
   "metadata": {
    "collapsed": false
   }
  },
  {
   "cell_type": "markdown",
   "source": [
    "## Setup"
   ],
   "metadata": {
    "collapsed": false
   }
  },
  {
   "cell_type": "code",
   "execution_count": 13,
   "outputs": [],
   "source": [
    "DATA_DIR = Path(\"../../data\")\n",
    "input_dir =  DATA_DIR / \"processed\" / \"nyt-data\"\n",
    "min_freq = 5 # infrequent words have been removed in preprocessing\n",
    "window_size = 5 # default word2vec window-size\n",
    "number_of_context_words = 500"
   ],
   "metadata": {
    "collapsed": false
   }
  },
  {
   "cell_type": "markdown",
   "source": [
    "## Sample Context Words"
   ],
   "metadata": {
    "collapsed": false
   }
  },
  {
   "cell_type": "code",
   "execution_count": 14,
   "outputs": [],
   "source": [
    "df = pd.read_csv(input_dir / \"corpus_all.csv\")\n",
    "df = df[[\"text\"]]"
   ],
   "metadata": {
    "collapsed": false
   }
  },
  {
   "cell_type": "code",
   "execution_count": 15,
   "outputs": [],
   "source": [
    "df = df.dropna()"
   ],
   "metadata": {
    "collapsed": false
   }
  },
  {
   "cell_type": "code",
   "execution_count": 16,
   "outputs": [],
   "source": [
    "corpus = ' '.join(df[\"text\"])"
   ],
   "metadata": {
    "collapsed": false
   }
  },
  {
   "cell_type": "code",
   "execution_count": 17,
   "outputs": [],
   "source": [
    "top_n = max(2 * number_of_context_words, 2000)\n",
    "context_words = tppmi_util.sample_from_most_common_words(corpus, top_n=top_n,\n",
    "                                                         sample_size=number_of_context_words, remove_stopwords=False)"
   ],
   "metadata": {
    "collapsed": false
   }
  },
  {
   "cell_type": "code",
   "execution_count": 18,
   "outputs": [
    {
     "name": "stdout",
     "output_type": "stream",
     "text": [
      "['supposed', 'ended', 'edge', 'great', 'businesses', 'june', 'hit', 'yet', 'fell', 'records',\n",
      " 'says', '6', 'information', 'continued', 'stock', 'arts', 'restaurants', 'takes', 'weeks',\n",
      " 'wanted', 'rice', 'scott', 'reviews', 'highest', 'arms', 'street', 'meant', 'death', 'executive',\n",
      " 'earth', 'market', 'car', 'give', 'consumer', 'described', 'ways', 'working', 'movies', 'panel',\n",
      " 'cars', 'face', 'covered', 'kill', 'agreed', 'village', 'taken', 'larger', 'grow', 'operating',\n",
      " 'asked', 'thursday', 'seemed', 'understand', 'growing', 'coverage', 'republican', 'pay', 'dream',\n",
      " 'pulled', 'hour', 'post', 'looking', 'open', 'appear', 'color', 'expect', 'mayor', 'williams',\n",
      " 'favor', 'telling', 'tell', 'normal', 'path', 'jersey', 'worst', 'pm', 'actually', 'quickly',\n",
      " 'faces', 'davis', 'april', 'vote', 'relationship', 'hardly', 'said', 'victory', 'broken', 'attack',\n",
      " 'college', 'cut', 'film', 'labor', 'nearby', 'area', 'town', 'father', 'researchers', 'memory',\n",
      " 'ny', 'perhaps', 'services', 'indian', 'prosecutors', 'months', 'address', 'aids', 'story', '10',\n",
      " 'l', 'whether', 'photographs', 'stopped', 'bob', 'kind', 'faith', 'progress', 'station',\n",
      " 'emergency', 'unlike', 'academy', 'recent', 'companys', 'party', 'bought', 'contemporary', 'oil',\n",
      " 'smaller', 'ive', 'areas', '3', 'easily', 'novel', 'parties', 'younger', 'damage', 'managers',\n",
      " 'politics', 'house', 'lincoln', 'increasingly', 'additional', 'ability', 'marketing', 'stephen',\n",
      " 'dinner', 'baby', 'visit', 'competition', 'statement', 'protection', 'high', 'starts', 'onto',\n",
      " 'career', 'documents', 'offered', 'seeking', 'largest', 'banks', 'claim', 'excellent', 'employees',\n",
      " 'pages', 'air', 'fun', 'studies', 'biggest', 'championship', 'republicans', 'presidential',\n",
      " 'particular', 'performed', 'sport', 'minimum', 'count', 'east', 'right', 'sexual', 'downtown',\n",
      " '80', 'offering', 'eight', 'sites', 'matter', 'close', 'test', 'greatest', 'company', 'picked',\n",
      " 'weapons', 'forced', 'neither', 'control', 'ask', 'mike', 'higher', 'avoid', 'mary', 'dropped',\n",
      " 'magazine', 'required', 'telephone', 'friends', 'added', 'table', 'pain', 'lets', 'palestinian',\n",
      " 'moment', 'city', 'corner', 'division', 'players', 'reaction', 'speech', 'sure', 'european',\n",
      " 'male', 'mothers', 'together', 'joseph', 'charges', 'five', 'refused', 'cards', 'series',\n",
      " 'conversation', 'able', 'jewish', 'tiny', 'material', 'morning', 'army', 'local', 'independent',\n",
      " 'situation', 'ordered', 'put', '20', 'relations', '9', '1992', 'painting', 'plenty', 'illegal',\n",
      " 'according', 'wonder', 'web', 'run', 'wednesday', 'special', 'touch', 'fighting', 'war',\n",
      " 'condition', 'shop', 'wouldnt', 'october', 'paid', 'rule', '4', 'begin', 'nobody', 'argued',\n",
      " 'finish', 'feet', 'beat', 'age', 'knowledge', 'hotel', 'editor', 'fit', 'brothers', 'weekend',\n",
      " 'including', 'wrote', 'health', 'aid', 'part', 'hollywood', 'happens', 'comments', 'houston',\n",
      " 'british', 'offer', 'event', 'federal', 'none', 'new', '2', 'sale', '23', 'benefit', '50', 'guys',\n",
      " 'letter', 'throughout', 'past', 'israel', 'left', 'walls', 'thomas', 'association', 'strike',\n",
      " 'isnt', 'guard', 'seats', 'congressional', 'ill', 'student', 'mets', 'presence', 'r', 'trip',\n",
      " 'watch', 'pointed', '11', '2009', 'among', 'ii', 'go', 'old', 'program', 'deeply', 'readers', 'j',\n",
      " 'going', 'owned', 'spring', 'potential', 'song', 'photo', 'families', 'whole', 'officer', 'park',\n",
      " 'total', 'willing', 'referring', 'south', 'critical', 'investigation', 'focus', 'easier', 'moving',\n",
      " 'tax', 'talked', 'teachers', 'fully', 'follow', 'word', 'broad', 'save', 'rest', 'form',\n",
      " 'environmental', 'somewhat', 'subject', 'seriously', 'goal', 'standards', 'bill', 'exactly',\n",
      " 'hear', 'interests', 'places', 'hands', 'cause', 'california', 'measure', '13', 'surprise',\n",
      " 'works', 'project', 'match', 'throw', 'jets', 'source', 'soviet', 'several', 'london', 'plans',\n",
      " 'stood', 'raised', '2004', 'police', 'real', 'shots', 'holding', 'july', 'seeing', 'heart', 'fall',\n",
      " 'effects', 'facing', 'museum', 'must', 'balance', 'hope', 'washington', 'sound', 'security',\n",
      " 'discovered', 'military', 'governor', 'names', 'year', 'wines', 'ratings', '28', 'senior', 'worth',\n",
      " 'started', 'officials', 'nothing', 'entirely', 'ends', 'movie', 'action', 'unusual', 'problem',\n",
      " 'culture', 'beach', 'agency', 'taste', 'justice', 'ball', 'modern', 'points', 'case', 'leaders',\n",
      " 'rich', 'talks', 'dining', 'major', 'sept', '500', 'firms', 'britain', 'al', 'insurance', 'jim',\n",
      " 'stay', 'seek', 'kids', '1990', 'received', 'carolina', 'feb', 'trade', 'members', 'happen',\n",
      " 'person', 'earlier', 'staff', 'killing', 'buy', 'called', 'lose', 'features', 'customers', 'sea',\n",
      " 'voters', 'giants', 'moments', 'opened', 'garden', 'brantley', '2003', 'learned', 'role', 'use',\n",
      " 'brown', 'keep', 'dollars', 'social', 'van', 'list', 'theres', 'compared', 'signs', 'everything',\n",
      " 'committed', '1', 'polls', '212', 'women', 'bronx', 'production', 'comedy', 'cost', 'middle',\n",
      " 'buildings', 'plane', 'economy', 'parents', 'scientists', 'begins', 'died', 'johnson']\n"
     ]
    }
   ],
   "source": [
    "pprint(context_words, compact=True, width=100)"
   ],
   "metadata": {
    "collapsed": false
   }
  },
  {
   "cell_type": "markdown",
   "source": [
    "## Build Model"
   ],
   "metadata": {
    "collapsed": false
   }
  },
  {
   "cell_type": "code",
   "execution_count": 19,
   "outputs": [],
   "source": [
    "csv_files = glob.glob(str(input_dir /  \"*data.csv\"))\n",
    "\n",
    "# use dict to be able to identify the dfs later on\n",
    "splits = {}"
   ],
   "metadata": {
    "collapsed": false
   }
  },
  {
   "cell_type": "code",
   "execution_count": 20,
   "outputs": [],
   "source": [
    "for filename in csv_files:\n",
    "    df = pd.read_csv(filename)\n",
    "    splits[filename.split(\"_data\")[0][-4:]] = df"
   ],
   "metadata": {
    "collapsed": false
   }
  },
  {
   "cell_type": "code",
   "execution_count": 21,
   "outputs": [
    {
     "data": {
      "text/plain": "  0%|          | 0/27 [00:00<?, ?it/s]",
      "application/vnd.jupyter.widget-view+json": {
       "version_major": 2,
       "version_minor": 0,
       "model_id": "981d2467fa944c6e88dfb1d057b3540f"
      },
      "application/json": {
       "n": 0,
       "total": 27,
       "elapsed": 0.006059169769287109,
       "ncols": null,
       "nrows": null,
       "prefix": "",
       "ascii": false,
       "unit": "it",
       "unit_scale": false,
       "rate": null,
       "bar_format": null,
       "postfix": null,
       "unit_divisor": 1000,
       "initial": 0,
       "colour": null
      }
     },
     "metadata": {},
     "output_type": "display_data"
    }
   ],
   "source": [
    "ppmi_models = {key: PPMIModel.construct_from_texts(value, context_words=context_words, min_freq=min_freq) for key, value in tqdm(splits.items())}"
   ],
   "metadata": {
    "collapsed": false
   }
  },
  {
   "cell_type": "markdown",
   "source": [
    "## Control"
   ],
   "metadata": {
    "collapsed": false
   }
  },
  {
   "cell_type": "code",
   "execution_count": 22,
   "outputs": [
    {
     "data": {
      "text/plain": "dict_keys(['2000', '2001', '1997', '1996', '2016', '1990', '1991', '2010', '2011', '2007', '2006', '1994', '1995', '2014', '2015', '2009', '2008', '2003', '2002', '2004', '2005', '1999', '1998', '1993', '1992', '2013', '2012'])"
     },
     "execution_count": 22,
     "metadata": {},
     "output_type": "execute_result"
    }
   ],
   "source": [
    "ppmi_models.keys()"
   ],
   "metadata": {
    "collapsed": false
   }
  },
  {
   "cell_type": "code",
   "execution_count": 30,
   "outputs": [
    {
     "data": {
      "text/plain": "array([[0.        , 0.        , 0.        , ..., 0.10130641, 0.08115552,\n        0.03853088],\n       [0.        , 0.        , 0.        , ..., 0.        , 0.2714976 ,\n        0.        ],\n       [0.        , 0.        , 0.        , ..., 0.        , 0.        ,\n        0.        ],\n       ...,\n       [0.        , 0.        , 0.        , ..., 0.        , 0.        ,\n        0.        ],\n       [0.        , 0.        , 0.        , ..., 0.        , 0.        ,\n        0.        ],\n       [0.        , 0.        , 0.        , ..., 0.        , 0.        ,\n        0.        ]])"
     },
     "execution_count": 30,
     "metadata": {},
     "output_type": "execute_result"
    }
   ],
   "source": [
    "ppmi_model_2000 = ppmi_models[\"2000\"]\n",
    "ppmi_model_2000.compute_ppmi_matrix(window_size=window_size, normalize=True)"
   ],
   "metadata": {
    "collapsed": false
   }
  },
  {
   "cell_type": "code",
   "execution_count": 31,
   "outputs": [
    {
     "data": {
      "text/plain": "array([[0.        , 0.        , 0.        , ..., 0.        , 0.        ,\n        0.        ],\n       [0.        , 0.        , 0.        , ..., 0.        , 0.        ,\n        0.        ],\n       [0.        , 0.        , 0.        , ..., 0.        , 0.        ,\n        0.        ],\n       ...,\n       [0.        , 0.        , 0.        , ..., 0.        , 0.        ,\n        0.        ],\n       [0.        , 0.        , 0.        , ..., 0.        , 0.12466418,\n        0.        ],\n       [0.        , 0.        , 0.        , ..., 0.        , 0.        ,\n        0.        ]])"
     },
     "execution_count": 31,
     "metadata": {},
     "output_type": "execute_result"
    }
   ],
   "source": [
    "ppmi_model_2006 = ppmi_models[\"2006\"]\n",
    "ppmi_model_2006.compute_ppmi_matrix(window_size=window_size, normalize=True)"
   ],
   "metadata": {
    "collapsed": false
   }
  },
  {
   "cell_type": "code",
   "execution_count": 32,
   "outputs": [
    {
     "data": {
      "text/plain": "supposed      0.063795\nended         0.098751\nedge          0.000000\ngreat         0.000000\nbusinesses    0.000000\n                ...   \nparents       0.036076\nscientists    0.000000\nbegins        0.000000\ndied          0.000000\njohnson       0.000000\nName: bush, Length: 500, dtype: float64"
     },
     "execution_count": 32,
     "metadata": {},
     "output_type": "execute_result"
    }
   ],
   "source": [
    "ppmi_model_2000.get_as_df().loc[\"bush\"]"
   ],
   "metadata": {
    "collapsed": false
   }
  },
  {
   "cell_type": "code",
   "execution_count": 33,
   "outputs": [
    {
     "data": {
      "text/plain": "supposed      0.000000\nended         0.063651\nedge          0.000000\ngreat         0.000000\nbusinesses    0.000000\n                ...   \nparents       0.000000\nscientists    0.000000\nbegins        0.000000\ndied          0.076239\njohnson       0.000000\nName: bush, Length: 500, dtype: float64"
     },
     "execution_count": 33,
     "metadata": {},
     "output_type": "execute_result"
    }
   ],
   "source": [
    "ppmi_model_2006.get_as_df().loc[\"bush\"]"
   ],
   "metadata": {
    "collapsed": false
   }
  },
  {
   "cell_type": "markdown",
   "source": [
    "## Vocabulary"
   ],
   "metadata": {
    "collapsed": false
   }
  },
  {
   "cell_type": "code",
   "execution_count": 34,
   "outputs": [
    {
     "name": "stdout",
     "output_type": "stream",
     "text": [
      "Vocabulary size of timestep 2000: 20680\n",
      "Vocabulary size of timestep 2001: 20547\n",
      "Vocabulary size of timestep 1997: 17841\n",
      "Vocabulary size of timestep 1996: 19706\n",
      "Vocabulary size of timestep 2016: 17469\n",
      "Vocabulary size of timestep 1990: 18567\n",
      "Vocabulary size of timestep 1991: 19057\n",
      "Vocabulary size of timestep 2010: 20049\n",
      "Vocabulary size of timestep 2011: 20557\n",
      "Vocabulary size of timestep 2007: 21273\n",
      "Vocabulary size of timestep 2006: 11661\n",
      "Vocabulary size of timestep 1994: 19225\n",
      "Vocabulary size of timestep 1995: 19358\n",
      "Vocabulary size of timestep 2014: 20996\n",
      "Vocabulary size of timestep 2015: 20951\n",
      "Vocabulary size of timestep 2009: 20266\n",
      "Vocabulary size of timestep 2008: 21099\n",
      "Vocabulary size of timestep 2003: 20680\n",
      "Vocabulary size of timestep 2002: 20684\n",
      "Vocabulary size of timestep 2004: 21296\n",
      "Vocabulary size of timestep 2005: 21307\n",
      "Vocabulary size of timestep 1999: 20306\n",
      "Vocabulary size of timestep 1998: 20269\n",
      "Vocabulary size of timestep 1993: 19114\n",
      "Vocabulary size of timestep 1992: 19152\n",
      "Vocabulary size of timestep 2013: 20923\n",
      "Vocabulary size of timestep 2012: 20982\n"
     ]
    }
   ],
   "source": [
    "for key, ppmi_model in ppmi_models.items():\n",
    "    print(f\"Vocabulary size of timestep {key}: {ppmi_model.get_vocabulary_size()}\")"
   ],
   "metadata": {
    "collapsed": false
   }
  },
  {
   "cell_type": "code",
   "execution_count": 36,
   "outputs": [],
   "source": [
    "tppmi_model = TPPMIModel(ppmi_models, dates=\"years\")"
   ],
   "metadata": {
    "collapsed": false
   }
  },
  {
   "cell_type": "markdown",
   "source": [
    "## Normalize (currently normalized otherwise)"
   ],
   "metadata": {
    "collapsed": false
   }
  },
  {
   "cell_type": "code",
   "execution_count": 37,
   "outputs": [],
   "source": [
    "# tppmi_model.normalize_tppmi_scores()"
   ],
   "metadata": {
    "collapsed": false
   }
  },
  {
   "cell_type": "markdown",
   "source": [
    "## Calulate & Save"
   ],
   "metadata": {
    "collapsed": false
   }
  },
  {
   "cell_type": "code",
   "execution_count": 40,
   "outputs": [
    {
     "data": {
      "text/plain": "  0%|          | 0/27 [00:00<?, ?it/s]",
      "application/vnd.jupyter.widget-view+json": {
       "version_major": 2,
       "version_minor": 0,
       "model_id": "37b115d540ec4435942e467e4f46e120"
      },
      "application/json": {
       "n": 0,
       "total": 27,
       "elapsed": 0.004209041595458984,
       "ncols": null,
       "nrows": null,
       "prefix": "",
       "ascii": false,
       "unit": "it",
       "unit_scale": false,
       "rate": null,
       "bar_format": null,
       "postfix": null,
       "unit_divisor": 1000,
       "initial": 0,
       "colour": null
      }
     },
     "metadata": {},
     "output_type": "display_data"
    },
    {
     "name": "stdout",
     "output_type": "stream",
     "text": [
      "PPMI data for 2000 saved successfully.\n",
      "Vocabulary Size: 20680\n",
      "---------------------\n",
      "PPMI data for 2001 saved successfully.\n",
      "Vocabulary Size: 20547\n",
      "---------------------\n",
      "PPMI data for 1997 saved successfully.\n",
      "Vocabulary Size: 17841\n",
      "---------------------\n",
      "PPMI data for 1996 saved successfully.\n",
      "Vocabulary Size: 19706\n",
      "---------------------\n",
      "PPMI data for 2016 saved successfully.\n",
      "Vocabulary Size: 17469\n",
      "---------------------\n",
      "PPMI data for 1990 saved successfully.\n",
      "Vocabulary Size: 18567\n",
      "---------------------\n",
      "PPMI data for 1991 saved successfully.\n",
      "Vocabulary Size: 19057\n",
      "---------------------\n",
      "PPMI data for 2010 saved successfully.\n",
      "Vocabulary Size: 20049\n",
      "---------------------\n",
      "PPMI data for 2011 saved successfully.\n",
      "Vocabulary Size: 20557\n",
      "---------------------\n",
      "PPMI data for 2007 saved successfully.\n",
      "Vocabulary Size: 21273\n",
      "---------------------\n",
      "PPMI data for 2006 saved successfully.\n",
      "Vocabulary Size: 11661\n",
      "---------------------\n",
      "PPMI data for 1994 saved successfully.\n",
      "Vocabulary Size: 19225\n",
      "---------------------\n",
      "PPMI data for 1995 saved successfully.\n",
      "Vocabulary Size: 19358\n",
      "---------------------\n",
      "PPMI data for 2014 saved successfully.\n",
      "Vocabulary Size: 20996\n",
      "---------------------\n",
      "PPMI data for 2015 saved successfully.\n",
      "Vocabulary Size: 20951\n",
      "---------------------\n",
      "PPMI data for 2009 saved successfully.\n",
      "Vocabulary Size: 20266\n",
      "---------------------\n",
      "PPMI data for 2008 saved successfully.\n",
      "Vocabulary Size: 21099\n",
      "---------------------\n",
      "PPMI data for 2003 saved successfully.\n",
      "Vocabulary Size: 20680\n",
      "---------------------\n",
      "PPMI data for 2002 saved successfully.\n",
      "Vocabulary Size: 20684\n",
      "---------------------\n",
      "PPMI data for 2004 saved successfully.\n",
      "Vocabulary Size: 21296\n",
      "---------------------\n",
      "PPMI data for 2005 saved successfully.\n",
      "Vocabulary Size: 21307\n",
      "---------------------\n",
      "PPMI data for 1999 saved successfully.\n",
      "Vocabulary Size: 20306\n",
      "---------------------\n",
      "PPMI data for 1998 saved successfully.\n",
      "Vocabulary Size: 20269\n",
      "---------------------\n",
      "PPMI data for 1993 saved successfully.\n",
      "Vocabulary Size: 19114\n",
      "---------------------\n",
      "PPMI data for 1992 saved successfully.\n",
      "Vocabulary Size: 19152\n",
      "---------------------\n",
      "PPMI data for 2013 saved successfully.\n",
      "Vocabulary Size: 20923\n",
      "---------------------\n",
      "PPMI data for 2012 saved successfully.\n",
      "Vocabulary Size: 20982\n",
      "---------------------\n",
      "--------------- done ---------------\n",
      "PPMI-Data stored to: ../../data/ppmi-matrices/nyt-data\n",
      "Number of context-words: 500\n"
     ]
    }
   ],
   "source": [
    "output_dir = DATA_DIR / \"ppmi-matrices\" / \"nyt-data\"\n",
    "output_dir.mkdir(parents=True, exist_ok=True)\n",
    "\n",
    "# save common context-words\n",
    "\n",
    "with open(output_dir / f\"context-words.pkl\", \"wb\") as f:\n",
    "    pickle.dump(context_words, f)\n",
    "\n",
    "# save vocab and ppmi-matrices\n",
    "for key, ppmi_model in tqdm(tppmi_model.ppmi_models.items()):\n",
    "    ppmi_model.compute_ppmi_matrix(window_size=window_size, normalize=True)\n",
    "    ppmi_model.save(key, output_dir)\n",
    "    print(\"---------------------\")\n",
    "\n",
    "print(\"--------------- done ---------------\")\n",
    "print(f\"PPMI-Data stored to: {str(output_dir)}\")\n",
    "print(f\"Number of context-words: {len(context_words)}\")"
   ],
   "metadata": {
    "collapsed": false
   }
  },
  {
   "cell_type": "code",
   "execution_count": null,
   "outputs": [],
   "source": [],
   "metadata": {
    "collapsed": false
   }
  }
 ],
 "metadata": {
  "kernelspec": {
   "display_name": "Python 3",
   "language": "python",
   "name": "python3"
  },
  "language_info": {
   "codemirror_mode": {
    "name": "ipython",
    "version": 2
   },
   "file_extension": ".py",
   "mimetype": "text/x-python",
   "name": "python",
   "nbconvert_exporter": "python",
   "pygments_lexer": "ipython2",
   "version": "2.7.6"
  }
 },
 "nbformat": 4,
 "nbformat_minor": 0
}
