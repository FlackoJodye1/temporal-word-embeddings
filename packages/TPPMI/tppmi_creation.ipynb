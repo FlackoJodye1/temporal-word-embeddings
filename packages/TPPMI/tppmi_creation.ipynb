{
 "cells": [
  {
   "cell_type": "markdown",
   "source": [
    "# Creation of Sparse PPMI Embeddings"
   ],
   "metadata": {
    "collapsed": false
   }
  },
  {
   "cell_type": "code",
   "execution_count": 1,
   "outputs": [
    {
     "name": "stderr",
     "output_type": "stream",
     "text": [
      "[nltk_data] Downloading package punkt to\n",
      "[nltk_data]     /Users/paulschmitt/nltk_data...\n",
      "[nltk_data]   Package punkt is already up-to-date!\n"
     ]
    }
   ],
   "source": [
    "import glob\n",
    "import pickle\n",
    "import pandas as pd\n",
    "from pathlib import Path\n",
    "from pprint import pprint\n",
    "from tqdm.notebook import tqdm\n",
    "from ppmi_model import PPMIModel\n",
    "import util as tppmi_util\n",
    "\n",
    "import nltk\n",
    "nltk.download('punkt');"
   ],
   "metadata": {
    "collapsed": false
   }
  },
  {
   "cell_type": "markdown",
   "source": [
    "## Setup"
   ],
   "metadata": {
    "collapsed": false
   }
  },
  {
   "cell_type": "code",
   "execution_count": 66,
   "outputs": [],
   "source": [
    "DIR = Path(\"../../data\")\n",
    "split_type = \"monthly\"\n",
    "min_freq = 5\n",
    "window_size = 5 # default word2vec window-size\n",
    "number_of_context_words = 5000\n",
    "months = [\"Jun\", \"Jul\", \"Aug\", \"Sep\", \"Oct\", \"Nov\", \"Dec\", \"Jan\", \"Feb\", \"Mar\", \"Apr\"]\n",
    "month_codes = {\"Jun\": \"06\", \"Jul\": \"07\", \"Aug\": \"08\", \"Sep\": \"09\", \"Oct\": \"10\", \"Nov\": \"11\", \"Dec\": \"12\", \"Jan\": \"01\", \"Feb\": \"02\", \"Mar\": \"03\", \"Apr\": \"04\"}"
   ],
   "metadata": {
    "collapsed": false
   }
  },
  {
   "cell_type": "markdown",
   "source": [
    "## Build Corpus"
   ],
   "metadata": {
    "collapsed": false
   }
  },
  {
   "cell_type": "markdown",
   "source": [
    " /1. Texts of the entire dataset split into sentences"
   ],
   "metadata": {
    "collapsed": false
   }
  },
  {
   "cell_type": "code",
   "execution_count": 67,
   "outputs": [],
   "source": [
    "df = pd.read_csv(DIR / \"processed_data.csv\")\n",
    "df = df[[\"text\"]]"
   ],
   "metadata": {
    "collapsed": false
   }
  },
  {
   "cell_type": "code",
   "execution_count": 68,
   "outputs": [],
   "source": [
    "df = df.dropna()"
   ],
   "metadata": {
    "collapsed": false
   }
  },
  {
   "cell_type": "code",
   "execution_count": 69,
   "outputs": [],
   "source": [
    "corpus = ' '.join(df[\"text\"])"
   ],
   "metadata": {
    "collapsed": false
   }
  },
  {
   "cell_type": "code",
   "execution_count": 70,
   "outputs": [],
   "source": [
    "top_n = max(2 * number_of_context_words, 2000)\n",
    "context_words = tppmi_util.sample_from_most_common_words(corpus, top_n=top_n,\n",
    "                                                         sample_size=number_of_context_words, remove_stopwords=False)"
   ],
   "metadata": {
    "collapsed": false
   }
  },
  {
   "cell_type": "code",
   "execution_count": 71,
   "outputs": [
    {
     "name": "stdout",
     "output_type": "stream",
     "text": [
      "['persistent', 'charities', 'shameful', 'apr', 'flash', 'womens', 'misdemeanor', 'university',\n",
      " 'questioning', 'ceremonies', 'doctoral', 'demanded', 'anywhere', 'paycheck', 'edit', 'attributed',\n",
      " 'disclosure', 'momlife', 'creates', 'transgenderism', 'bills', 'treating', 'bradley',\n",
      " 'exceptional', 'fraud', 'ellis', 'errors', 'trading', 'lcps', 'business', 'reconciliation',\n",
      " 'severe', 'restrictive', 'minors', 'bullshit', 'bathroom', 'coal', 'blind', 'as', '101',\n",
      " 'kitchener', 'la', 'asserted', 'litter', 'isd', 'beacon', 'merit', 'industrial', 'distress',\n",
      " 'destroys', 'rosa', 'robbed', 'expecting', 'contributing', 'tho', 'choices', 'lawful', 'playbook',\n",
      " 'followers', 'prisons', 'sufficient', 'indianapolis', 'fundraising', 'watched', 'remedy',\n",
      " 'apparent', 'communicating', 'webster', 'suppression', 'pfizers', 'celebrations', 'done', 'boring',\n",
      " 'very', 'swiftly', 'purposes', 'confirms', 'beto', 'entertainment', 'whistleblower', 'debunked',\n",
      " 'suzanne', 'candy', 'recall', 'measure', '24', 'mean', 'significantly', 'fever', 'ethnocentric',\n",
      " '250000', 'ix', 'hepa', 'disadvantaged', 'francisco', 'average', '5000', 'reflect', 'church',\n",
      " 'not', 'geography', 'inadequate', '2a', 'renewed', 'department', 'signals', 'contrary', 'familys',\n",
      " 'sides', 'olympics', 'efficacy', 'spain', 'swept', 'rallied', 'controls', 'jenkins', 'antiblack',\n",
      " 'universitys', 'maybe', 'injuries', 'terrifying', 'inc', 'distraction', 'kills', 'cam',\n",
      " 'michigans', 'slur', 'arm', 'transactions', 'portion', 'premise', 'screens', 'types', 'express',\n",
      " 'texas', 'proposed', 'invisible', 'capacity', 'suicides', 'completion', 'chase', 'perspectives',\n",
      " 'clinic', 'mentor', 'taxes', 'owned', 'principle', 'discussions', 'theory', 'pandemicrelated',\n",
      " 'humor', 'ng', 'telegraph', 'oral', 'pedagogy', 'lawn', 'trees', 'inevitable', 'tool', 'reserved',\n",
      " 'windows', 'aaron', 'sperm', 'dominant', 'lab', 'behavioral', 'filmed', 'groomers', 'nd', 'manny',\n",
      " 'admission', 'jumped', 'mac', 'european', 'statue', 'maryland', 'requested', 'bi', 'usb', 'lunch',\n",
      " 'combat', 'uncommon', 'southeast', 'supermajority', 'off', 'gates', 'praised', 'tulsa', 'risks',\n",
      " 'trapped', 'robux', 'appoint', 'regina', 'decrease', 'involvement', '20192020', '2002', 'deserved',\n",
      " '02', 'identity', '2016', 'behaviour', 'platform', 'normalcy', 'incoming', 'regarded',\n",
      " 'gubernatorial', 'radically', 'utilized', 'drivers', 'dance', 'iowa', 'continues', 'zoom',\n",
      " 'stakeholders', 'overwhelming', '1997', 'ranking', 'jump', 'instead', 'protests', 'literacy',\n",
      " 'alleges', 'compensate', 'lesser', 'disinformation', 'bilingual', 'reality', 'removing', 'corp',\n",
      " 'excessive', 'drove', 'on', 'fuck', 'th', 'enter', 'nail', 'boy', 'here', 'int', 'athletic',\n",
      " 'hosting', 'urgency', 'historical', 'versus', 'accessible', 'wokeness', 'cheek', 'rep',\n",
      " 'criticism', 'experiencing', 'instruments', 'vet', 'alltime', 'psychology', 'step', 'choice',\n",
      " 'arabia', 'biologically', 'cartoon', 'stores', 'improvements', 'nonprofits', 'bottle',\n",
      " 'encouraging', 'charity', 'phone', 'shooting', 'jonathan', 'virtue', 'leftleaning', 'boundary',\n",
      " 'nra', 'sports', 'creator', 'son', 'expert', 'nursery', 'ups', 'parties', 'haven', 'entry', 'elon',\n",
      " 'occurring', 'due', 'oversees', 'fun', 'skeptical', 'jacket', 'sandra', 'immoral', 'volunteered',\n",
      " 'navigate', 'supporter', 'chemistry', 'cardona', 'northwestern', 'financial', 'misinformation',\n",
      " 'ever', 'photo', 'concluded', 'song', 'rescue', 'computers', 'balancing', 'requires', 'lawyer',\n",
      " 'bear', 'progressive', 'fairness', 'hepatitis', 'wow', 'mandela', 'ones', 'transitioning',\n",
      " 'journalism', 'musks', 'forum', 'milder', 'kids', 'scared', 'arrest', 'endemic', 'work', '33',\n",
      " 'messed', 'breath', 'somebody', 'antiracism', 'too', 'tracing', 'childhood', 'accessed', 'ignore',\n",
      " 'confirming', 'outcry', 'tennis', 'maria', 'pros', 'republicancontrolled', 'esposa', 'miami',\n",
      " 'figure', 'alike', 'kinky', 'yrs', 'sustainable', 'danny', 'button', 'noted', 'ruby',\n",
      " 'instructing', 'arcade', 'transmission', 'music', 'ride', 'arizonas', 'muscle', 'change',\n",
      " 'medications', 'risen', 'surges', 'sided', 'pickup', 'tale', 'rate', 'zoo', 'guides', 'busty',\n",
      " 'lens', 'scrapped', 'devil', 'portions', 'possible', 'biology', 'version', 'pmcculloughmd',\n",
      " 'admitting', '18yearold', 'disgraceful', 'wellbeing', 'acknowledged', 'literary', '130', 'why',\n",
      " 'weigh', 'cap', '100', 'ineffective', 'use', 'mirror', 'volunteering', 'charging', 'prepares',\n",
      " 'bigot', 'shah', 'response', 'usda', 'ironic', 'custody', 'grace', 'honey', 'needs', '14th',\n",
      " 'quoted', 'provisions', 'fort', 'classes', 'mercy', 'foundations', 'experts', 'perfectly',\n",
      " 'tested', 'ladies', 'worker', 'brunette', 'morrison', 'winds', 'happen', 'persecution', 'mr',\n",
      " 'senator', 'nilikm', 'babes', 'urges', 'timely', 'repmtg', 'harms', 'gate', 'guidance', 'affirmed',\n",
      " 'manhattan', 'stabbing', 'raise', '1st', 'courageous', 'proof', 'criticalracetheory', 'approves',\n",
      " 'cox', 'trump', 'education', 'manitoba', 'boebert', 'increased', 'boarding', 'necessity',\n",
      " 'confidential', 'reaching', 'we', 'unpaid', 'acquire', 'childcare', 'solidarity', 'ideologies',\n",
      " 'animation', 'asking', 'contentious', 'tampa', 'reduced', 'hostile', 'bridges', 'cast', 'proposes',\n",
      " 'halloween', 'adviser', 'regents', 'caste', 'my', 'bush', 'shopping', 'pursue', 'supported',\n",
      " 'duty', 'banking', 'en', 'parish', 'rutgers', 'many', 'cd', 'shit', 'contracted', 'registry',\n",
      " 'vaxx', 'expand', 'loans', '2024', 'hit', 'regrets', 'fixed', 'sciences', 'strongest', 'parade',\n",
      " 'delivery', 'stranger', 'pa', 'shelters', 'enthusiasm', 'heated', 'secretly', 'films', 'tweet',\n",
      " 'whatsapp', 'teach', 'driver', 'selection', 'quo', 'rushed', 'powell', '37', 'bridge', 'consists',\n",
      " 'indian', 'flooding', 'chronicle', 'boogeyman', 'min', 'sunshine', 'destroy', 'desantiss',\n",
      " 'chairs', 'plant', 'procedures', 'order', 'oklahoma', 'useless', 'c', 'kathy', 'moon', 'servants',\n",
      " 'jerry', 'antonio', 'johnny', 'unopposed', 'drag', 'sick', 'marriages', 'purchases', 'sadly',\n",
      " 'pet', 'says', 'o', 'accusations', 'specify', 'limited', 'transitioned', 'operating', 'hurting',\n",
      " 'handled', 'cunt', 'partisan', 'spends', 'allowing', 'rise', 'strikes', '47', 'stemming', 'revoke',\n",
      " 'disagreement', 'clay', 'ave', 'hometown', 'centre', 'default', 'yearly', 'reporters', 'outbreaks',\n",
      " 'leaders', 'alumni', 'threeyear', 'linked', 'charliekirk11', 'entirely', 'applicants',\n",
      " 'screenings', 'regularly', 'nights', 'kayla', 'opposite', 'less', 'immigrants', 'utah',\n",
      " 'representation', 'framework', 'gays', '4k', 'sentenced', 'crypto', 'educational', 'phase', 'whos',\n",
      " 'lsat', 'limiting', 'cancer', 'morris', 'lean', 'relationship', 'instructor', 'overturning',\n",
      " 'assuming', 'assignments', 'bare', 'cycle', 'oppression', 'recorded', 'relatives', 'mild', 'viral',\n",
      " 'leg', 'audit', 'activity', 'technical', 'frames', 'priority', 'english', 'bike', 'hair',\n",
      " 'questionnaire', 'crow', 'unfortunate', 'controversies', '01', 'advisory', 'screenshot', 'other',\n",
      " 'rally', 'imminent', 'ski', 'partys', 'pharmacies', 'leap', 'replies', 'priorities', 'energy',\n",
      " 'descriptions', 'discovered', 'couldve', 'fear', 'educated', 'punish', 'fucked', 'durham',\n",
      " 'onethird', 'dude', 'declaration', 'romance', 'pastor', 'tory', 'sectors', 'settle', 'practice',\n",
      " 'connecting', 'clip', 'conference', 'allege', 'background', 'followup', 'tutor', 'memory', 'warns',\n",
      " 'offset', 'bbc', 'reasons', 'fail', 'farright', 'defence', 'ross', 'evaluating', 'unacceptable',\n",
      " '2', 'hand', 'known', 'subscription', 'producer', 'warn', 'evaluated', 'paperwork', 'promptly',\n",
      " 'perceived', 'vehicles', 'ct', 'turn', 'kill', 'nyc', 'truth', 'esg', 'deborah', 'roles', 'henry',\n",
      " 'began', 'machines', 'picture', 'happily', 'limits', 'administrations', 'ace', 'publishers',\n",
      " 'word', 'para', 'proudly', 'universities', 'protesters', 'reaction', 'quiz', 'divides', 'picking',\n",
      " 'mid', 'community', 'mega', 'rumors', 'tribune', 'pal', 'exceptions', 'tv', 'desk', 'glass',\n",
      " 'misconduct', 'partnership', 'preliminary', 'cantinaroyale', 'total', 'hispanics', 'twin',\n",
      " 'proven', 'superintendents', 'centers', 'withdrew', 'furniture', 'meghan', 'heterosexual',\n",
      " 'collins', 'highlighted', '16th', 'database', 'reversal', 'canadas', 'amy', 'sticking',\n",
      " 'gaslighting', 'weekly', 'fastest', 'during', 'awesome', 'obtained', 'over', 'influenced',\n",
      " 'deceiving', 'wilson', 'medicines', 'violating', 'arguing', 'campaign', 'cable', 'reporting',\n",
      " 'ellen', 'waivers', 'surrounding', 'mess', 'realize', '13th', 'bee', 'cutie', 'spots',\n",
      " 'statehouse', 'obvious', 'goodness', 'mechanical', 'cars', 'wants', 'libs', 'w', 'suicide',\n",
      " 'contacted', 'recalls', 'require', 'vacancies', 'eyes', 'yang', 'wearing', 'where', 'noticed',\n",
      " 'suspects', 'chair', 'appointed', 'kinds', 'declare', 'happening', 'lightfoot', 'equal',\n",
      " 'garnered', 'echo', 'gather', 'shannonrwatts', '93', 'launches', 'thread', 'masking', 'asylum',\n",
      " 'ive', 'avoid', 'unusual', 'repeated', 'mumbai', 'escape', 'wording', 'counties', 'c19', 'purity',\n",
      " 'comprehensive', 'wars', 'nonpartisan', 'licking', 'fridays', '50', 'facebook', 'daily', 'queer',\n",
      " 'rural', 'peoples', 'brexit', 'loving', 'annually', 'requesting', 'itself', 'fee', 'west',\n",
      " 'raging', 'smear', 'le', 'grant', 'apologize', 'pakistan', 'stuck', 'having', 'royal', 'direction',\n",
      " 'rest', 'elaine', 'bids', 'scientists', 'warnings', '19', 'disaster', '51', 'sincerely', 'acid',\n",
      " 'administrator', 'stripping', 'extent', 'horny', 'name', 'finish', 'hungry', 'teeth', 'crackdown',\n",
      " 'port', 'tetanus', 'relaxed', 'pixels', 'alexandria', 'pending', 'subscribe', 'alleviate',\n",
      " 'attempts', 'korean', 'volumes', 'customers', 'concealed', 'friends', 'selected', 'failed',\n",
      " 'holocaust', 'august', 'strategist', 'efficient', 'same', 'garlands', 'behind', 'safeguard',\n",
      " 'recommendations', 'worse', 'display', 'bound', 'end', 'deals', 'socially', 'sort', 'furthermore',\n",
      " 'examinations', 'african', 'meant', 'antimask', 'program', 'managed', 'confronted', 'improvement',\n",
      " 'endorsing', 'intelligence', 'nba', 'meter', 'pieces', 'strongly', 'drastic', 'mama', 'midterms',\n",
      " 'jill', 'mood', 'tied', 'besides', 'highlighting', 'assessing', 'daytoday', 'february',\n",
      " 'comparison', 'promising', 'jurisdiction', 'adds', 'world', 'clinics', 'painting', 'featured',\n",
      " 'thankfully', 'continued', '2000s', 'myth', 'behalf', 'putting', 'structure', 'assess', 'explain',\n",
      " 'candidates', 'legislators', 'bngsh2', 'curious', 'tales', 'portrayed', 'from', 'shuttered', 'med',\n",
      " 'montreal', 'examines', 'swing', 'pj', '1950s', 'autumn', 'foia', 'eventually', 'cautious',\n",
      " 'recommend', 'begun', 'supreme', 'philosophy', 'hell', 'abortion', 'proves', 'students', 'vibrant',\n",
      " 'programs', 'indefinitely', 'teachersthoughts', 'racialized', 'struggles', 'presence', 'segment',\n",
      " 'adopted', 'existence', 'benefits', 'pressured', 'upper', 'spaces', 'reporter', 'dumps', 'expose',\n",
      " '2000', 'domestic', 'finds', 'afterschool', 'ruin', 'rant', 'mothers', 'yell', 'organizers',\n",
      " 'edward', 'learn', 'allocated', 'tight', 'yr', 'broadly', 'laboratory', 'justify', 'lucas',\n",
      " 'maintenance', 'mobile', 'turner', 'jurisdictions', 'charged', 'rape', 'source', 'relate', 'ward',\n",
      " 'trudeau', 'bullying', 'ferguson', 'shader', 'knox', 'info', 'commitments', 'affirmative', 'true',\n",
      " 'organized', 'geographic', 'weekend', 'engaging', 'graves', 'posing', 'playports', 'feet',\n",
      " 'personnel', 'flags', 'dick', 'migrant', 'diversity', 'lining', 'uncertain', 'kenya', 'baker',\n",
      " '84', 'integrated', 'xxx', 'variety', 'eased', 'ba5', 'gay', 'springfield', 'quebec', 'adults',\n",
      " 'distrust', 'settings', '1990', 'parliament', 'noble', 'vaccinating', 'carry', 'christ', 'ncaa',\n",
      " 'inspiration', 'prosthetic', 'defunding', 'food', 'levels', 'officially', 'sued', 'anyway', 'wish',\n",
      " 'ours', 'classics', 'covidrelated', 'indecent', 'librarians', 'andrew', '4000', 'agreed', 'outlaw',\n",
      " 'naval', 'expelled', 'destroying', 'remains', 'necessary', 'corporal', 'questioned', '2015', 'm4l',\n",
      " 'alicia', 'her', 'wales', 'internet', 'hal', 'im', 'achieve', '10th', 'percentage', 'analytics',\n",
      " 'liberties', 'emphasize', 'tim', 'force', 'frustrating', 'miguel', 'curb', 'sounding', 'misgender',\n",
      " 'upheld', 'garden', 'suspend', 'sullivan', 'common', 'jon', 'england', 'volunteers', 'revisions',\n",
      " 'instructional', 'marshall', 'layoffs', 'street', 'artist', 'masters', '62', 'contents', 'up',\n",
      " 'subjects', '81', 'explains', 'reasonable', '98', 'neck', 'outline', 'itll', 'kwong', 'neglected',\n",
      " '2006', 'authors', 'laugh', 'parker', 'fines', 'strategies', 'airborne', 'slow', 'promise',\n",
      " 'crowded', 'suitable', 'dubai', 'numbers', 'hormones', 'outlets', 'enhancing', 'behavior',\n",
      " 'governmental', 'enthusiasts', 'badly', 'turning', 'graduated', 'epic', 'hat', 'hospitalization',\n",
      " 'whom', 'parts', 'five', 'trades', 'custom', 'nature', 'esser', 'corps', 'figuring', 'inviting',\n",
      " 'contained', 'counting', 'existed', 'beaten', 'incorporating', 'restrict', 'dec', 'wears',\n",
      " 'workload', 'lowincome', 'municipalities', 'hijacked', 'encourages', 'caps', 'religions', '2018',\n",
      " '59', 'faith', 'operate', 'obstacles', 'atlanta', 'leslie', 'regulated', 'portland', 'introducing',\n",
      " 'chose', 'aoc', 'barney', 'experiment', 'respecting', 'affairs', 'heal', 'filling', 'success',\n",
      " 'producing', 'drills', 'server', 'remain', 'councillor', 'perpetuate', 'lindsay', 'released',\n",
      " 'nfl', 'accepting', 'border', 'spectrum', 'ancestors', 'worship', 'effectively', 'god', 'cnn',\n",
      " 'drug', 'san', 'oled', 'barring', 'conscious', 'dragged', 'brunswick', 'star', 'certain',\n",
      " 'shifted', 'soil', 'achievements', 'rolling', 'respiratory', 'toddlers', 'cancelled',\n",
      " 'outstanding', 'apples', 'schedule', 'representatives', 'belief', 'arif1q', 'captured', 'economic',\n",
      " 'ecosystem', 'throat', 'policy', 'alternate', 'van', 'wear', 'closing', 'tribal', 'ties', 'pro',\n",
      " 'deceived', 'power', 'feels', 'wii', 'houston', 'quantity', 'shut', 'presenting', 'flagged',\n",
      " 'knowledgeable', 'realities', 'varner', 'label', 'excluding', 'weeks', 'democrats', 'census',\n",
      " 'band', 'nova', 'checklist', '6th', 'kind', 'kindergarteners', 'stands', 'charlotte',\n",
      " 'demonstrate', 'constitutional', 'difference', 'opportunities', 'topics', 'initiative', 'kate',\n",
      " 'minneapolis', 'sustainability', 'trinitron', 'interracial', 'globally', 'attire', 'summers',\n",
      " 'ultimately', 'ignorant', 'organs', 'wayne', 'kindergarten', 'united', 'station', 'harmed',\n",
      " 'structures', 'disciplinary', 'disappeared', 'intentionally', 'examiner', 'prompted',\n",
      " 'theoretical', 'suspensions', 'chancellor', 'committing', 'carol', 'coach', 'congress', 'perkins',\n",
      " 'beloved', 'ian', 'kidding', 'visual', 'traction', '100000', 'investigating', 'indoctrination',\n",
      " 'homophobic', 'cant', 'pedophilia', 'nj', 'brainwashed', 'pic', 'pitch', 'claire', 'frank',\n",
      " 'packed', 'weapon', 'introduce', 'crises', 'interior', 'discriminatory', 'hardship', 'hostility',\n",
      " 'involves', 'height', '58', 'begin', 'yourself', 'thenboyfriends', 'historic', 'wellknown',\n",
      " 'grievance', 'captain', 'disastrous', 'strep', 'issuing', 'transfer', 'assured', 'walsh', 'owner',\n",
      " 'hired', 'celebrities', 'motor', 'chen', 'john', '40000', 'trumps', 'homosexual', 'excel',\n",
      " 'genders', 'strain', 'craft', 'shop', 'objection', 'f', 'cupes', 'federation', 'observations',\n",
      " 'wildly', 'farm', 'manufacturers', 'pressure', 'together', 'legend', 'german', 'attendance', 'rob',\n",
      " 'stepped', 'idk', 'cu', 'removes', 'endure', 'intimidate', 'mentioned', 'mostly', 'middle', 'irs',\n",
      " 'entities', 'billions', 'candidacy', 'gospel', 'ron', 'africa', 'developed', 'emily', 'cover',\n",
      " 'connecticut', 'skills', 'principal', 'attacked', 'arguments', 'this', 'daring', '41', 'reveal',\n",
      " 'posting', 'prairie', 'claytravis', 'disparity', '1980s', 'spin', 'certificate', 'payments',\n",
      " 'woke', 'heroes', 'decisions', 'reduce', 'occurred', 'breathe', 'meets', 'chloe', 'preserve', '89',\n",
      " 'future', 'arms', 'establishing', 'adsbygoogle', 'variant', 'raid', 'delta', 'battery',\n",
      " 'manufactured', 'scenes', 'jenny', 'benefit', 'hot', 'trouble', 'breaking', 'sacramento', 'answer',\n",
      " 'relevant', 'co2', 'performance', 'fortune', 'threat', 'weekends', 'commitment', 'jury', 'nes',\n",
      " 'december', 'jr', 'intimidation', 'opens', 'lottery', 'elizabeth', 'hawaii', 'nurse', 'blog',\n",
      " 'engaged', 'oxford', 'operations', 'severity', 'reopen', 'tactic', 'excess', 'often', 'billion',\n",
      " 'exclusion', 'bucket', '3rd', 'undermining', 'u', 'disappointment', 'accident', '48', 'spite',\n",
      " 'compete', 'vague', 'lingering', 'addiction', 'laws', 'edge', 'organize', 'marketplace', 'jean',\n",
      " 'nutrition', 'firearms', 'drawing', 'wind', 'brooklyn', 'healing', 'lacks', 'ed', '83', '78',\n",
      " 'struck', 'indication', 'shootings', 'marijuana', 'struggled', 'civics', 'antibodies', 'fall',\n",
      " 'ronald', 'jacob', 'va', 'when', 'viewpoints', 'data', 'explanation', 'dyslexia', 'guarantee',\n",
      " 'union', '99', 'vanderbilt', 'enrolling', 'recreation', 'partially', 'albuquerque', 'affected',\n",
      " 'skirt', 'mo', 'victories', 'lower', 'coleman', 'irish', 'oppressive', 'runoff', 'more', 'request',\n",
      " 'genuine', '830', 'noise', 'overseas', 'camp', 'ensuring', 'devastating', 'loudoun', 'ben',\n",
      " 'blasted', 'evidence', 'degree', 'cook', 'thru', 'square', 'grandfather', 'cisgender',\n",
      " 'nationwide', 'monthly', 'cheat', 'xi', 'memoir', 'cosplay', 'month', 'capable', 'sales', 'stood',\n",
      " 'jun', 'kindly', 'threshold', 'unable', 'classic', 'emerging', 'baptist', 'defendants', 'abandon',\n",
      " 'insulting', 'losses', 'onto', 'hockey', 'wallace', 'admire', 'registered', 'bruce',\n",
      " 'unconstitutional', 'frequency', 'path', 'plus', 'exclude', '1000', 'date', 'annoying', 'toilets',\n",
      " 'families', 'arriving', 'native', 'cheryl', 'theres', 'wisconsin', 'textbooks', 'corporations',\n",
      " 'cousin', '42', 'whether', 'raw', 'profile', 'weak', 'species', 'opinions', 'revision',\n",
      " 'abolishing', 'invites', 'created', 'shemale', 'set', 'gave', 'anxious', 'twitter', 'touted',\n",
      " 'building', 'devoted', 'hitting', 'poverty', 'govern', 'violence', 'qatar', 'search', 'made',\n",
      " 'surrogate', 'pp', 'worst', 'vice', 'ocean', 'cases', 'australias', 'hutchinson', 'tried',\n",
      " 'vehicle', 'intended', 'luis', 'professionally', '17', 'suicidal', 'brings', 'abide', 'links',\n",
      " 'climate', '1776', 'discussed', '19th', 'analog', 'audiences', 'probation', 'torres', 'suggested',\n",
      " 'regulatory', 'accreditation', 'draws', 'moving', 'engage', 'interdisciplinary', 'design',\n",
      " 'deployed', 'disrupted', 'unofficial', 'told', 'studied', 'elites', '2nd', 'feared', 'traffic',\n",
      " 'instances', 'actor', 'comparing', 'fearmongering', 'physician', 'cope', 'transphobic', 'repair',\n",
      " 'suspends', 'intentions', 'physical', 'policymakers', 'then', 'wife', 'ages', 'laughed', 'nysar7',\n",
      " 'verbal', 'hoffman', 'entirety', 'helped', '61', 'corruption', 'buy', 'wordpress', 'id',\n",
      " 'searched', 'calls', 'patriotism', 'manage', 'specialized', 'violation', 'measles', '2013', 'glad',\n",
      " 'sexually', 'overturned', 'thoroughly', 'basement', 'sheriff', 'santos', 'eliminating', 'enrolled',\n",
      " 'consider', 'first', 'rt', 'heights', 'atheist', 'oak', 'wise', 'facility', 'town', 'novinha',\n",
      " 'crap', 'arose', 'sending', 'pelosi', 'suny', 'injustice', 'harvard', '300', 'doubled',\n",
      " 'shutdowns', 'upgrades', 'guard', 'unwanted', 'passion', 'deliberately', 'peach', 'ab', 'artwork',\n",
      " '1', 'lemieux', 'activist', 'interpretation', 'sydney', 'them', 'tactics', 'displaying',\n",
      " 'pathetic', 'main', 'values', 'herd', 'unfair', 'there', 'chuckcallesto', 'objected',\n",
      " 'downloading', 'equality', 'because', 'sins', 'roots', 'tomorrow', 'authorities', 'instant',\n",
      " 'roberts', 'help', 'touched', 'expenditures', 'turnover', 'discovering', 'traveling', 'flashpoint',\n",
      " 'alpha', 'caregiver', 'thriving', 'exposed', 'citizen', 'trade', 'bothered', 'conservation',\n",
      " 'perform', 'biden', 'fit', 'sworn', 'borough', 'limitations', 'midst', '16', 'ought', 'exists',\n",
      " 'control', 'declares', 'runner', 'sounds', 'obscene', 'jacobs', 'refers', 'genital', 'revised',\n",
      " 'organ', 'extraordinary', 'incorrect', 'ultimate', 'out', 'seeking', 'reckless', 'violate',\n",
      " 'sport', 'alex', 'banks', 'writer', 'bench', 'expression', 'words', 'pays', 'everyday', 'sisters',\n",
      " 'admit', 'pursued', 'entries', 'defender', 'confused', 'nsw', 'announce', 'employment',\n",
      " 'countries', 'waters', 'enemy', 'folks', 'abusive', 'nmk61', '57', 'legally', 'listen',\n",
      " 'disclosed', 'articles', 'wasting', 'publics', 'accommodate', 'burlington', 'dumb', 'diana',\n",
      " 'shall', '53', 'societal', 'survival', 'satan', 'strong', 'punishment', 'riots', 'photographer',\n",
      " 'critically', 'required', 'afghanistan', 'organisation', 'opted', 'movement', 'meme', 'donated',\n",
      " 'abigail', 'minute', 'sessions', 'admins', 'traditional', 'humanitarian', 'millions', 'transport',\n",
      " 'character', 'see', 'golf', 'inch', 'ht', 'chicagos', 'visa', 'tackle', 'regard', 'understand',\n",
      " 'desks', 'trailer', 'present', 'remove', 'counterterrorism', 'designation', 'k', 'usa', 'targeted',\n",
      " 'classical', 'fierce', '54', 'garage', 'chosen', 'e', 'topic', 'vaping', 'divine', 'arrangement',\n",
      " 'external', 'abomination', 'governor', 'amendment', 'prohibition', 'naked', '20th', 'sensitivity',\n",
      " 'puberty', 'establishment', 'nh', 'shorts', 'garrett', 'references', 'revealed', '5g', 'medicare',\n",
      " 'shared', 'unit', 'anal', 'kiddos', 'distribute', 'provinces', 'jazz', 'bps', 'rn', 'accepts',\n",
      " 'lockdowns', 'ok', 'salary', 'host', 'satisfied', 'represent', 'supplies', 'vegas', 'pc', 'fewer',\n",
      " 'dorms', 'different', '21st', 'selfregulation', 'reconsider', 'involving', 'athletics', 'moral',\n",
      " 'highschool', 'apple', 'affects', 'doses', 'departure', 'frustrated', 'resolutions', 'frc',\n",
      " 'graduate', 'fouryear', 'sexist', 'appalled', 'europe', 'real', 'worries', 'troubles', 'firm',\n",
      " 'unveiled', 'harrell', 'companies', 'beautiful', 'heels', 'calgary', 'passed', '3', 'peterson',\n",
      " 'harmful', 'kings', 'arkansas', 'authorize', 'pure', 'generic', 'joke', 'demonstrated', 'boulder',\n",
      " 'wi', 'advances', 'crt2', 'assistants', 'inperson', 'desktop', 'encouragement', 'svideo',\n",
      " 'clarity', 'terms', 'northeast', 'reliable', 'momentum', 'proved', 'liar', 'playing', 'relief',\n",
      " 'nations', 'sin', 'artists', 'reviewing', 'dedication', 'alberta', 'resume', 'crew', 'outcomes',\n",
      " 'termination', 'inappropriate', 'duval', 'route', 'interests', 'rochelle', 'proposals', 'concert',\n",
      " 'adjustments', 'family', 'fill', 'airport', 'kim', 'constant', 'highlights', 'fine',\n",
      " 'firefighters', 'tank', 'null', 'nationalists', 'unlimited', 'psychologist', 'ctv', 'pets',\n",
      " 'saving', 'toddler', 'jan', 'disappointing', 'master', 'discriminated', 'verbally', 'infectious',\n",
      " 'witnessed', 'of', 'grounds', 'latin', 'voucher', 'dps', 'sony', 'frame', 'scratch', 'charlie',\n",
      " 'foxnews', 'accorded', 'pr', 'incident', 'recruit', 'properties', 'shares', 'progressives', 'era',\n",
      " 'ruining', 'italian', 'hochul', 'hammer', 'intellectual', 'viewpoint', 'aside', 'aged', 'reagan',\n",
      " 'waged', 'pci', 'carter', 'publishing', 'jd', 'suggesting', 'nailed', 'surge', 'accomplishments',\n",
      " 'diane', 'shade', 'holy', '72', 'developments', 'zoomer', 'inflation', 'mistake', 'edtech',\n",
      " 'inequality', 'spare', 'pair', 'received', 'goal', 'elective', 'sr', 'challenge', 'introduction',\n",
      " 'activities', 'ballot', 'upbringing', 'stigma', 'globe', 'ripped', 'index', 'disproportionate',\n",
      " 'outing', 'animal', 'spelling', 'roman', 'attention', 'clerk', 'advise', 'serve', '2023', 'means',\n",
      " 'surveyed', 'declined', 'backgrounds', 'sexuality', 'carries', 'ways', 'institutes', 'certified',\n",
      " 'jared', 'highrisk', 'but', 'invested', 'discriminating', 'debbie', 'handling', 'developers',\n",
      " 'husband', 'actually', 'statutes', 'shout', 'bowser', 'schoolhouse', 'provider', 'gut', 'beast',\n",
      " 'legislature', 'staffed', 'trend', 'likely', 'league', '26', 'expanded', 'fallen', 'cbs', 'emerge',\n",
      " 'heavily', 'timothy', 'spot', 'sustain', 'employer', 'clause', 'dismissed', 'nationalist',\n",
      " 'conducting', 'accelerated', 'uproar', 'slip', 'chris', 'provided', 'happy', 'fathers', 'male',\n",
      " 'scam', 'gained', 'enroll', 'injury', 'wards', 'masturbation', 'norman', 'kentucky', 'impacts',\n",
      " 'interactive', 'face', 'toys', 'tits', 'fans', 'cop', 'underground', 'mitigations', 'save',\n",
      " 'framed', 'slew', 'objectively', 'judges', 'remembered', 'educate', 'surprise', 'evaluations',\n",
      " 'jimjordan', 'caring', 'instructed', 'invite', 'dates', 'bars', '65', 'supposedly', 'preventable',\n",
      " 'hart', 'savings', 'happened', 'import', 'although', 'anytime', 'houses', '2d', 'basically',\n",
      " 'eager', 'range', 'troubling', 'drelidavid', 'latter', 'moms4liberty', 'readily', 'stretched',\n",
      " 'returns', 'saudi', 'fentanyl', 'baseline', 'day', 'target', 'appear', 'regarding', 'aide',\n",
      " 'additional', 'intensive', 'kid', 'studentvisa', 'shapiro', 'uni', 'altogether', 'wuhan', 'guilt',\n",
      " 'ethnic', 'nelson', 'watson', 'accessibility', 'prolonged', 'dropping', 'raised', 'hearts',\n",
      " 'collaboration', 'worldwide', 'charters', 'throw', 'graders', 'statewide', 'basketball',\n",
      " 'consultation', 'misuse', 'useful', 'don', 'agreement', 'nyu', 'track', 'peaceful', 'expect',\n",
      " 'continue', 'lessons', 'parents', 'happens', 'extremists', 'nhs', 'imo', 'ignores', 'frederick',\n",
      " '1mahi0', 'pearson', 'taxpayers', 'jackie', 'govrondesantis', 'editors', 'illegally', 'sir',\n",
      " 'ideals', 'merrick', 'eight', 'scotia', 'nervous', 'novels', 'cringe', 'purchasing', 'displayed',\n",
      " 'stretching', 'screen', 'george', 'extracurricular', 'minorities', 'z', 'challenged', 'campuses',\n",
      " 'sweet', 'guiding', 'thursdays', 'along', 'certificates', 'clark', 'heading', 'june', 'theater',\n",
      " 'dispute', 'immense', 'champion', 'users', 'disciplined', 'bags', 'supervisor', 'na', 'crying',\n",
      " 'perversion', 'fire', 'firearm', 'the', 'loaded', '25', 'suggest', 'withholding', 'inspired',\n",
      " 'characters', 'pilot', 'constantly', 'act', 'noting', 'images', 'nearby', '2021', 'federal',\n",
      " 'highly', 'pictured', 'absurd', 'loss', 'surgeries', 'longstanding', 'factual', 'yoga',\n",
      " 'grassroots', 'emphasized', 'likes', 'pervasive', 'l', 'passes', 'epidemiologist', 'arabic',\n",
      " 'firstgrade', 'sign', 'france', 'adjusting', 'incumbent', '85', 'interrupted', 'protein',\n",
      " 'spotlight', 'wire', 'tenure', 'windowadsbygoogle', 'flip', 'producers', 'airports', 'enacted',\n",
      " 'maine', 'chronic', 'homelessness', 'mba', 'wrdsb', 'appeals', 'accompanying', 'party', '430',\n",
      " 'broward', 'newsletter', 'stimulus', 'medal', 'among', 'app', 'davis', 'simpson', 'locations',\n",
      " 'forbids', 'boat', 'should', 'lifted', 'remarks', 'powered', 'ashley', 'machine', 'plain',\n",
      " 'constitution', 'contribute', 'grandkids', 'walls', 'transforming', 'increases', 'survive', 'i',\n",
      " 'programme', 'edmonton', 'rev', 'shes', 'hook', 'bass', 'legacy', 'constitute', 'hits', 'oneyear',\n",
      " 'ended', 'figured', 'streets', 'earned', 'monetary', 'founder', 'ban', 'camps', 'daycares',\n",
      " 'symptoms', 'charleston', 'offices', 'far', 'johnson', 'communism', 'improves', 'island', 'bring',\n",
      " 'coercion', 'responsibility', 'doesnt', 'rage', 'tran', 'shelves', 'extreme', 'part',\n",
      " 'grandchildren', 'badge', 'restore', 'enthusiastic', 'door', 'pen', 'demanding', 'retake',\n",
      " 'tapped', 'corresponding', 'fool', 'dramatic', 'key', 'hosted', 'have', 'allegedly', 'dem',\n",
      " 'wells', 'signatures', 'evers', 'responsiveparenting', 'input', 'illegals', 'leverage', 'kemp',\n",
      " 'immigrationlawyer', 'bishop', 'session', 'traditions', 'prank', 'jodi', 'drjbhattacharya',\n",
      " 'albert', 'yale', 'refresh', '6', 'ford', 'hills', 'entity', '20222023', 'do', 'proposal', 'norms',\n",
      " 'knives', 'adopt', 'fight', 'trillion', 'recommends', 'soldiers', 'rises', 'earth', 'nose',\n",
      " 'guide', 'diary', 'strict', 'applications', 'portfolio', 'raceconscious', 'dropout', 'hardworking',\n",
      " 'indias', 'convincing', 'honesty', 'restaurant', 'legitimate', 'fights', 'specialist', 'ppl',\n",
      " 'lived', 'asleep', 'glasses', 'crystal', 'bull', 'voluntarily', 'developer', 'align', 'involved',\n",
      " 'proximity', 'since', 'evans', 'collections', 'long', 'covering', 'councils', 'tonight', 'trusts',\n",
      " 'trying', 'myers', 'foundational', 'exposing', 'episode', 'pledges', 'withhold', 'marine',\n",
      " 'consult', 'anticipated', 'minds', 'robust', 'become', 'passionate', 'controller', 'kendi',\n",
      " 'brothers', 'checks', 'sprites', 'pick', 'random', 'dennis', 'weather', 'something', 'asap',\n",
      " 'damn', 'draw', 'mills', 'defend', 'applause', 'consciousness', 'skill', 'encounter', 'cohen',\n",
      " 'pharma', 'armed', 'prevented', 'box', 'shift', 'google', '70s', 'secular', 'engine',\n",
      " 'surveillance', 'group', 'metro', 'silenced', 'softball', 'performers', 'evangelical', 'member',\n",
      " 'threaten', 'resource', 'tragedy', 'telling', 'pe', 'disruption', 'parenting', 'fascist',\n",
      " 'enemies', 'languages', 'deadly', 'begins', 'stops', 'theories', 'essay', 'particular', 'novel',\n",
      " 'technically', 'bitter', 'select', 'white', '74', 'gone', 'pedophiles', 'intend', 'columbus',\n",
      " 'frightening', 'production', 'structured', 'women', 'treatment', 'approving', 'adult', 'insists',\n",
      " 'allowed', 'hatred', 'asymptomatic', 'dominance', 'singapore', 'medium', 'bow', 'backed',\n",
      " 'insisted', 'tired', 'intention', 'front', 'organizer', 'wade', 'said', 'powder', 'bigger',\n",
      " 'royalty', 'lowell', 'allegations', 'paper', 'sweeping', 'composite', 'rose', 'encountered',\n",
      " 'workplace', 'scripture', 'alerts', 'prices', 'texts', 'salem', 'still', 'denounced', 'edition',\n",
      " 'september', 'brains', 'levy', 'barber', 'weaponizing', 'arranged', 'fulltime', 'practicing',\n",
      " 'containing', 'temperatures', 'entering', 'hands', 'layer', 'talks', 'deficits', 'tests', 'weve',\n",
      " 'whose', 'fetus', 'varied', 'forth', 'santiagomayer', 'commented', 'sing', 'overall', 'richard',\n",
      " 'vaccinated', 'dc', 'trustees', 'extremism', '91', 'massachusetts', 'rico', 'shore', 'rebuke',\n",
      " 'justice', 'litigation', 'h', 'task', 'relying', 'crist', 'pardon', 'slightly', 'lighting', 'tell',\n",
      " 'wanted', 'strengthening', 'walkout', 'wisdom', 'latest', 'note', 'exit', 'ali', 'anna',\n",
      " 'administrators', 'encouraged', 'impression', 'falling', 'experiments', 'review', 'fan',\n",
      " 'richneck', 'brenda', 'start', 'devices', 'unpopular', 'roof', 'cycling', 'da', 'speculation',\n",
      " 'jesse', 'rodriguez', 'searching', 'projects', 'neighborhoods', 'oldest', 'supervisors', 'myself',\n",
      " 'fellowship', 'essence', 'statemandated', 'bend', 'credit', 'cdcgov', 'compassion', 'paths',\n",
      " 'longer', 'gavin', 'homeschooling', 'blows', 'requirements', 'usage', 'exploitation', 'tens',\n",
      " 'mall', 'sake', 'arthur', 'secondary', 'russia', 'lacked', 'lt', '67', 'exodus', 'lawyers',\n",
      " 'tennessee', 'hazard', 'alot', 'regulations', 'or', '23', 'tape', 'contend', 'mill', 'unified',\n",
      " 'legit', 'coping', 'notre', 'others', '10k', 'cognitive', 'economically', 'statutory', 'mass',\n",
      " 'title', 'invasive', 'rapids', 'ranging', 'gatherings', '27', 'counsel', 'shaping', 'finalists',\n",
      " 'manners', 'click', 'accredited', 'securing', 'ignored', 'head', 'avoiding', 'acquired', 'occurs',\n",
      " 'array', 'mouth', 'accept', 'acquisition', 'intersectionality', 'headquarters', 'unequivocally',\n",
      " 'mocking', 'similarly', 'bounce', 'central', 'assessed', 'reflective', 'remarkable', 'shutdown',\n",
      " 'loading', 'statement', 'floyd', 'worlds', 'year', 'supply', 'trigger', 'underlying', 'citing',\n",
      " 'inaugural', 'mainly', 'fbi', 'plastic', 'flu', 'tier', 'recalled', 'teenage', 'occasional',\n",
      " 'episodes', 'lansing', 'accurately', 'infections', 'muslim', 'homeless', 'advice', 'gear',\n",
      " 'disasters', 'oh', 'documents', 'schoolaged', 'clock', 'meantime', 'according', 'equity',\n",
      " 'vermont', 'donor', 'reasonably', 'absence', 'suffered', 'centres', 'experience', 'privileged',\n",
      " 'established', 'yea', 'louder', 'zones', 'virus', 'immigration', 'ago', 'impose', 'finalized',\n",
      " 'hence', 'specified', 'love', 'bought', 'threesome', 'wokeism', 'thinking', 'diamond', 'later',\n",
      " 'walks', 'series', 'mouse', 'prevents', 'benjamin', 'videos', 'pizza', 'newspaper', 'bag', 'hats',\n",
      " 'responsible', 'carlson', 'vacant', 'accuses', 'whatever', 'bloomberg', 'fate', 'drive', 'a1',\n",
      " 'trainers', 'latinos', 'typical', 'rights', 'which', 'rash', '12th', 'halt', 'stephen',\n",
      " 'specialists', 'answers', 'threw', 'another', 'biblical', 'remember', 'dual', 'escorted', 'affect',\n",
      " 'ken', 'stances', 'insisting', 'prevalence', 'attached', 'j', 'orange', 'embassy', 'tokyo',\n",
      " 'really', 'parking', 'riders', 'sb', '2200', 'century', 'chapel', 'improved', 'kyle', 'aid',\n",
      " 'facetoface', 'lover', '120', 'peers', 'congrats', 'before', 'hr', 'genocide', 'symbols',\n",
      " 'practices', 'nation', 'autonomy', 'ask', 'diseases', 'porter', 'dots', 'names', 'least',\n",
      " 'demographic', 'appalling', 'system', 'exist', 'suspended', 'counseling', 'baltimore', 'unborn',\n",
      " 'quick', 'votes', 'operators', 'placements', 'someone', 'princess', 'post', 'queens', 'assaulted',\n",
      " 'output', 'bus', 'feminist', 'petition', 'mga', 'backpacks', 'rampant', 'janet', 'slowed',\n",
      " 'provides', 'lifesaving', 'magic', 'objectives', 'jeanpierre', 'cardiac', 'sporting', 'economy',\n",
      " 'amended', 'great', 'commissioner', 'invention', 'keith', 'wright', 'ptsd', 'relentless',\n",
      " 'manufacturing', 'organizing', 'fox', 'condemning', '202122', 'grades', 'increasing', 'subpoena',\n",
      " 'teachings', 'mcauliffe', 'idiots', 'parks', 'certainly', 'supplied', 'sc', 'drama', 'repeal',\n",
      " 'fury', 'alarm', 'ivermectin', 'refund', 'alliance', 'upload', 'protects', 'toxic', 'mayor',\n",
      " 'patch', 'also', 'gen', 'mature', 'inclusion', 'depression', 'friday', 'wash', 'amounts', 'tags',\n",
      " 'farming', 'weighed', 'plot', 'awareness', 'school', 'kaiser', 'murray', 'knowledge', 'pd', 'gray',\n",
      " 'autism', 'between', 'chain', 'passing', 'possess', 'infamous', 'wishing', 'infants', 'guardian',\n",
      " 'upgrade', 'suffering', 'patriots', 'fl', 'historically', 'drinking', 'greatly', 'steven',\n",
      " 'international', 'defends', 'israel', 'excited', 'waukesha', 'entrance', 'voices', 'tribe',\n",
      " 'annual', 'tolerance', 'disadvantage', 'tremendous', 'rival', 'harper', 'pin', 'hobby',\n",
      " 'prestigious', 'complaints', 'naturally', 'outraged', 'comic', 'weed', 'qualifying', '11',\n",
      " 'categories', 'march', 'spiritual', 'army', 'routine', 'amazon', '2009', 'flying', 'intelligent',\n",
      " 'healthier', 'dna', 'provost', 'et', 'deeper', 'inside', 'being', '125', 'richmond', 'silence',\n",
      " 'suburb', 'runners', 'barriers', '1998', 'sculpture', 'rewriting', 'prejudice', 'behaviors',\n",
      " 'benefited', 'blamed', 'postgraduate', 'respective', 'update', 'stress', 'catching',\n",
      " 'marginalized', 'scenarios', 'convince', 'listing', 'fundamentally', 'helping', 'huckabee', '7',\n",
      " 'insight', 'men', 'hed', 'postcovid', 'hong', 'tune', 'debates', 'slot', 'language', 'performing',\n",
      " 'emphasizes', 'cindy', 'anymore', 'fatality', 'bucks', 'oldschool', 'booty', 'wa', 'newsom',\n",
      " 'milford', 'sends', 'tab', 'dark', 'wanting', 'attributes', 'se', 'zara', 'molly', 'sucking',\n",
      " 'phrase', 'overturn', 'vaxxed', 'broader', 'enjoy', 'whistleblowers', 'gain', '202324', '2030',\n",
      " 'convey', 'dave', 'lecturers', 'everincreasing', 'remembering', 'mountains', 'essential',\n",
      " 'opposition', 'fortunate', 'appointments', 'telegram', 'throats', 'overreach', 'griffin', 'pox',\n",
      " 'olilondontv', 'spokesperson', 'institutional', 'breast', 'paint', 'mom', 'coordination', 'abrams',\n",
      " '1989', 'owing', 'falls', 'actual', 'closely', '2010', 'nigeria', 'clubs', 'involve',\n",
      " 'transparency', 'wine', 'quite', 'brian', 'driven', 'fault', 'tina', 'equivalent', 'affecting',\n",
      " 'ontario', 'emails', 'teens', 'norfolk', 'switched', 'liability', 'implementing', 'understanding',\n",
      " 'stays', 'monster', 'remote', 'rogan', 'shell', 'gratitude', 'conservative', 'were', 'exhibit',\n",
      " 'short', 'comment', 'racerelated', 'create', 'fetish', 'lakotaman1', 'toronto', 'priests',\n",
      " 'johnsons', 'american', '600', 'equally', 'onset', 'lgbtqia', 'receives', 'doctrine',\n",
      " 'emergencies', 'mum', 'dysphoria', 'parentalrights', 'those', 'immunity', 'harmony',\n",
      " 'interference', 'professors', 'highquality', 'okay', 'holder', 'acknowledging', 'lakh', 'late',\n",
      " 'respected', 'poses', 'terfs', 'intends', 'four', 'irony', 'organised', 'graphics', 'roblox',\n",
      " 'tubes', 'blood', 'kirk', 'censoring', 'b', 'buddy', 'marketing', 'split', 'sanctioned', 'comes',\n",
      " 'seconds', 'larger', 'ninth', 'normal', 'trajectory', 'evidencebased', 'published', 'meetings',\n",
      " 'harris', 'donation', 'andrea', 'doubt', 'theyll', 'agencys', 'overtime', 'garland', 'athome',\n",
      " 'view', 'backtoschool', 'device', 'slight', 'feminine', 'delhi', 'valenzuela', 'workpermit',\n",
      " 'graham', 'preserving', 'addresses', 'harass', 'williamson', 'businesses', 'funeral', 'albertas',\n",
      " 'installing', 'confronting', 'passport', 'poc', 'terf', 'stacey', 'dating', 'share', 'practiced',\n",
      " 'torn', 'fraction', 'confident', 'approaching', 'pm', 'odds', 'minutes', 'agricultural', 'takes',\n",
      " 'persons', 'reminds', 'accounted', 'reversed', 'issued', 'zwerner', 'sixth', 'functions',\n",
      " 'georgetown', 'underneath', 'sees', 'sane', 'classmate', 'hooked', 'yep', 'net', 'institutions',\n",
      " 'inbox', 'attends', 'logan', 'administered', 'minimize', 'assist', 'open', 'cough', 'investments',\n",
      " '115', 'holidays', 'impressive', 'sacrifice', 'eve', 'kris', 'nice', 'approached', 'deans',\n",
      " 'taught', 'guards', 'enable', 'empire', 'renew', 'discover', 'joy', 'lack', 'restart', 'defeated',\n",
      " 'cuz', 'modernday', 'connected', 'ancient', 'bot', 'brett', 'transportation', 'ethical', 'fifteen',\n",
      " 'mile', 'letter', 'distinct', 'recent', 'rs', 'communications', 'signed', 'invoice', 'offering',\n",
      " 'bob', 'grasp', 'ch75', 'permanently', 'losing', 'boyfriend', 'accuracy', 'smooth', 'sitting',\n",
      " 'japanese', 'conduct', 'pandemic', 'fabric', 'connect', 'steadily', 'documentary', 'casual',\n",
      " 'svetlana', 'amend', 'flexibility', 'older', 'stealing', 'incorporated', 'maintains',\n",
      " 'infiltrating', 'referenced', 'weighs', 'emotional', 'growing', 'rescinded', 'scheduled',\n",
      " 'premium', 'overwhelmed', 'bullied', 'until', 'plans', 'faced', 'ralph', 'q', 'metal', 'times',\n",
      " 'mic', 'foot', 'michelangelos', 'lone', 'letters', 'extended', 'legislation', 'boosted', 'bureau',\n",
      " 'based', 'kkk', 'honour', 'brand', 'victoria', 'stars', 'tbh', 'tables', 'distribution',\n",
      " 'battleground', 'election', 'politicians', '60s', 'occur', 'pta', 'contribution', 'duration',\n",
      " 'pink', 'map', 'abilities', 'ring', 'brother', 'counselors', 'continuously', 'mascot', 'rank',\n",
      " 'songs', 'taken', 'learner', 'majority', 'ur', 'testing', 'somewhat', 'audio', 'positioned',\n",
      " 'tracked', 'harsh', 'teacher', 'information', 'thankful', 'teams', 'shoulders', 'sincere',\n",
      " 'suburbs', 'fully', 'editing', 'dishonest', 'governors', 'saturday', 'lying', 'district',\n",
      " 'clearing', 'test', 'road', '21', 'segregated', 'resignation', 'genitalia', 'empty', 'peace',\n",
      " 'yards', 'endorse', '1990s', 'handing', 'speakers', 'chips', 'p', 'landing', 'civilization',\n",
      " 'notice', 'meat', 'prosecutors', 'mans', 'minority', 'testament', 'unconscious', '46', 'cs',\n",
      " 'subjective', 'directly', 'chemical', 'eliminate', 'rooms', 'remind', 'separation', 'tiffany',\n",
      " 'expressed', 'lawmaker', 'helpful', 'nominee', 'dust', 'analysis', 'utility', 'podcasts', 'greene',\n",
      " 'cloth', 'animals', 'propaganda', 'knife', 'needing', 'censorship', 'explosion', 'abusers',\n",
      " 'immediately', 'literature', 'adf', 'expectation', 'tons', 'president', 'absolute', 'islam',\n",
      " 'riverside', 'original', 'sensory', 'refugees', 'script', 'goes', 'presented', 'volume',\n",
      " 'childrens', 'jacksonville', 'certifications', 'pandemics', 'reform', 'if', 'schooler', 'moreover',\n",
      " 'continuing', 'spreads', 'its', 'mutilation', 'distancing', 'drink', 'investigator', 'ethnicity',\n",
      " 'gateway', 'pushback', 'never', 'recommending', 'twisted', 'personal', 'fuel', 'sale', 'patron',\n",
      " 'applicant', 'partners', 'authorization', 'queen', 'aggressive', 'prayers', 'ad', 'someones',\n",
      " 'docs', 'premier', 'materials', 'prompt', 'permitting', 'uw', '13', 'phd', 'retail', 'inquiry',\n",
      " 'piper4missouri', 'intersection', 'careers', '6027713500', 'flag', 'voter', 'membership', 'study',\n",
      " 'ppe', 'threatened', 'resumed', 'conditions', 'considerable', 'icky', 'relations', 'disability',\n",
      " 'physics', 'advancements', 'class', 'hold', 'false', 'contains', 'visas', 'stating', 'incredible',\n",
      " 'n', 'arrangements', 'serving', 'expense', 'examination', 'apart', 'enabled', 'allen', 'method',\n",
      " 'investors', 'does', 'librarian', 'headlines', 'lose', 'frequent', 'affidavit', 'establishments',\n",
      " 'stripped', 'evening', 'unfortunately', 'behave', 'hanging', 'sentinel', 'characteristics',\n",
      " 'privilege', 'audrey', 'perspective', 'readings', 'spokeswoman', 'providence', 'maintained',\n",
      " 'obligations', 'nathan', 'accepted', 'generals', 'ruling', 'outlining', 'sections', 'subject',\n",
      " 'safely', 'gym', 'mi', 'leaked', 'discouraged', 'illustration', 'achieving', 'herald', 'shipping',\n",
      " 'games', 'teresa', 'firing', 'high', 'abuses', 'daniels', 'answering', 'twoyear', 'cynthia', 'cvs',\n",
      " 'items', 'pockets', 'bears', 'drop', 'incentives', 'boosting', 'hotbutton', 'supplement', 'cat',\n",
      " 'approximately', 'description', 'educating', 'colorblind', 'units', 'quietly', 'james',\n",
      " 'engineers', 'recognized', 'firsthand', 'rumble', 'tasked', 'visiting', 'jab', 'thesis', 'sec',\n",
      " 'conversations', 'radiation', 'decide', 'clue', 'shoots', 'visited', 'discretion', 'juneteenth',\n",
      " 'thomas', 'courses', 'polyam', 'adam', 'stole', 'gunman', 'shelter', 'kits', 'puta', 'contain',\n",
      " 'mere', 'spokesman', 'cum', 'democracy', 'cake', 'collected', 'neighbor', 'surrounded', 'em',\n",
      " 'adhere', 'disruptions', 'donating', 'suspect', 'official', 'advertisement', 'gops', 'ebay',\n",
      " 'mortality', 'reveals', 'coworkers', 'company', 'reynolds', 'newer', 'allison', 'hbcus', 'laying',\n",
      " 'commenting', '2025', 'chinas', 'pregnancy', 'veto', 'histories', 'curricula', 'borders', 'los',\n",
      " 'you', 'ultra', 'antiwhite', 'critique', 'sheer', 'headphones', 'bluest', 'franks', 'responds',\n",
      " 'swift', 'organizations', 'skin', 'ran', 'exacerbated', 'rome', 'consulting', 'shine',\n",
      " 'graduation', 'nsba', 'visit', 'anderson', 'sudden', 'binary', 'exposure', 'expressentry',\n",
      " 'informing', 'former', 'michael', 'childs', 'term', 'thousand', 'defines', 'alignment',\n",
      " 'procedure', 'oppose', 'luxury', 'dad', 'comprised', 'contemporary', 'actors', 'announces',\n",
      " 'monroe', 'homework', 'clarified', 'agree', 'wedding', 'generational', 'keller', 'potentially',\n",
      " 'independents', 'chief', 'dana', 'always', 'adding', 'pie', 'evil', 'instagram', 'somewhere',\n",
      " 'medically', 'vhs', 'implicit', 'property', 'deputy', 'factor', 'replace', 'finances', 'saved',\n",
      " 'wipe', 'ohsu', 'nationalism', 'walensky', 'forty', 'uganda', 'features', 'substantially', '56',\n",
      " 'scary', 'employees', 'cluster', 'msnbc', 'biases', 'hurt', 'clothing', 'proving', 'boise',\n",
      " 'primary', 'filed', 'influence', 'lesson', 'spray', 'separately', 'collapse', 'hurts', 'severely',\n",
      " 'recovering', '1557', 'familiar', 'coauthor', 'testified', 'resources', 'popularity',\n",
      " 'conversation', 'politicized', 'attachment', 'challenger', 'movements', 'er', 'to', 'wake',\n",
      " 'heard', 'eradicate', 'offers', 'issue', 'iron', 'partnerships', 'genetic', 'horse', 'casey',\n",
      " 'natasha', 'vital', 'vote', 'fails', 'appealed', 'forming', 'vocabulary', '34', 'seven',\n",
      " 'circulation', '20', 'trials', 'mixed', 'divisions', 'represents', 'tvs', 'memorial', 'getty',\n",
      " 'alabama', 'weapons', 'mens', 'smiling', 'slap', 'receiving', 'judging', 'article', 'november',\n",
      " 'est', 'franklin', 'incentive', 'niche', 'adapt', 'option', 'compliment', 'resolved', 'indeed',\n",
      " 'hardcore', 'vax', 'leftwing', 'develop', 'bullet', 'console', 'suddenly', 'assistant', 'moved',\n",
      " 'investigate', 'elses', 'nintendo', 'they', 'britain', 'deped', 'sexism', 'arena', 'respect',\n",
      " 'viewed', 'younger', 'elevated', 'acting', 'sites', 'screening', 'posted', 'muslims',\n",
      " 'competition', 'youtube', 'sarasota', 'portable', 'graduating', 'secret', 'champions', 'whoever',\n",
      " 'module', 'blm', 'undergrad', 'scheme', 'proactive', 'allow', 'cursive', '60000', 'ma',\n",
      " 'politicization', 'desperately', 'gotta', 'command', 'impacted', 'earn', 'dee', 'cards',\n",
      " 'associate', 'warned', 'pivot', 'dcnf', 'volleyball', 'designed', 'deleted', 'meaningful',\n",
      " 'aspirations', 'delivered', 'paid', 'david', 'had', 'gretchen', 'status', 'antibody', 'ground',\n",
      " 'assets', 'giveaway', 'damage', 'sel', 'communication', 'standards', 'simultaneously', 'territory',\n",
      " 'systems', 'consumption', 'oonglydoomples', 'eric', 'grammar', 'myriad', '4mkt', 'balances',\n",
      " 'filter', 'ts', 'easing', 'personalities', 'shorter', 'ideal', 'promotions', 'loses', 'snow',\n",
      " 'happiness', 'french', 'eg', 'associated', 'formula', 'chapters', 'imagine', 'socialemotional',\n",
      " 'compelling', 'edwards', 'only', 'try', 'insanity', 'ignoring', 'amoneyresists', 'japan', 'well',\n",
      " 'declines', 'ballots', 'prefer', 'apologized', 'warrant', 'metropolitan', 'calif', 'racing',\n",
      " 'enormous', 'ssl', 'get', 'bennyjohnson', 'placed', 'builds', 'rapist', 'must', 'boundaries',\n",
      " 'accomplish', 'islands', 'grade', 'gold', 'skip', 'died', 'grows', 'rests', 'activists', 'gaming',\n",
      " 'player', 'incapable', 'prescription', 'linking', 'and', 'afterwards', 'beneath', 'seats', 'all',\n",
      " 'pack', 'diabetes', 'neighborhood', 'spouse', 'relation', 'compulsory', 'places', 'revolution',\n",
      " 'pointing', 'stunning', 'changes', 'hdsb', 'potential', 'maskwearing', 'unreasonable', 'client',\n",
      " 'destroyed', 'records', 'loves', 'stage', 'tenets', 'greg', 'caused', 'agency', 'incorporate',\n",
      " 'democrat', 'diverse', 'gang', 'neither', 'reported', 'hormone', 'successfully', 'storm',\n",
      " 'dresses', 'silent', 'continuous', 'countrys', 'exploded', 'ppp', 'acknowledges', 'antisemitic',\n",
      " 'defund', 'bond', 'julie', 'acts', 'citys', 'landmark', 'detailing', 'looks', 'neighbors',\n",
      " 'chelsea', 'cherry', 'ship', 'second', 'hysteria', 'sets', 'cream', 'luck', 'audience',\n",
      " 'escalating', 'irrelevant', 'vowed', 'immigrationlaw', 'consultants', 'integration', 'exercises',\n",
      " '3000', 'chicago', 'deem', 'bid', 'measured', 'supremacist', 'banged', 'crack', 'ice',\n",
      " 'homeschool', 'file', 'an', 'companys', 'sentence', 'andre', 'q261', 'samuel', 'conviction',\n",
      " 'amiga', 'messages', '1619', 'blue', 'vehemently', 'survivors', 'panic', 'embraces',\n",
      " 'nonconforming', 'realistic', 'at', 'arab', 'fueled', 'raceethnicity', 'government', 'innovative',\n",
      " 'mention', 'assistance', 'composition', 'leagues', 'carefully', 'um', 'ps2', '2500', 'fringe',\n",
      " 'earlier', 'reason', 'mentally', 'titles', 'wood', 'syllabus', 'outlet', 'could', 'surfaced',\n",
      " 'newman', 'includes', 'rd', 'pcr', 'underage', 'pretty', 'vying', 'narrowly', 'throughout',\n",
      " 'diagnosis', 'club', 'conway', 'strangers', 'dogs', 'senate', 'southern', 'river', 'methodology',\n",
      " 'compared', 'fulfill', 'peterborough', 'essays', 'doj', 'pupil', 'pushes', 'abby', 'rgb', 'horror',\n",
      " 'counselor', 'inequity', 'travel', 'douglas', 'capture', 'country', 'currently', 'con',\n",
      " 'infection', 'agencies', 'crt251', '8', 'nc', 'steps', 'mccarthy', 'pertaining', 'fix', 'rbreich',\n",
      " 'centuries', 'blame', 'few', 'hale', 'recruitment', 'clients', 'punch', 'tiny', 'previous', 'lung',\n",
      " 'y', 'convenience', 'typically', 'stone', 'alice', 'upon', 'timing', 'shadow', 'angry',\n",
      " 'ageappropriate', 'play', 'multicultural', 'becky', 'seattle', 'initiatives', 'crawford',\n",
      " 'invited', 'theorists', 'suppressed', 'expertise', 'coupled', 'insensitive', 'solid', 'shouting',\n",
      " 'implement', 'wages', 'accusing', 'notably', 'january', 'offense', 'exemption', 'showed',\n",
      " 'otherwise', 'reflects', 'focused', 'jessica', 'demonstrations', 'soros', 'flipping', 'classrooms',\n",
      " 'mechanisms', 'ahead', 'boss', 'basis', 'lisa', 'rolled', 'underpaid', 'bay', 'toni', 'stable',\n",
      " 'rankings', 'universe', 'sexualization', 'gostoso', 'harassment', 'number', 'communitys',\n",
      " 'desired', '1972', 'notwithstanding', 'couples', 'boobs', 'pulled', 'defined', 'without',\n",
      " 'founding', 'albany', 'filing', 'surged', 'recognise', 'aligned', 'seasons', 'slated', 'considers',\n",
      " 'warrior', 'mp', 'tentative', 'shame', 'pursuing', 'emphasis', 'lead', 'qa', 'planning', 'outcome',\n",
      " 'hardware', 'damaging', 'guilty', 'protective', 'liberal', 'uc', 'crt5', 'terminate', 'collecting',\n",
      " 'fell', 'assumptions', 'appreciation', 'distributed', 'donate', 'targeting', 'tries', 'notify',\n",
      " 'inspire', 'guys', 'adventure', 'give', 'drinks', 'shoulder', 'section', 'finishing', 'examples',\n",
      " 'transit', 'stabbed', 'pornographic', 'affair', 'timbers', 'crisis', 'spirit', 'unc', 'betsy',\n",
      " 'natalie', 'pov', 'restaurants', 'thanked', 'dramatically', '2008', 'lists', 'memorandum', 'ielts',\n",
      " 'lol', '313jui', 'prizewinning', 'cofounder', 'heaven', 'repealed', 'local', 'samsung', 'math',\n",
      " 'canada', 'sources', 'widespread', 'negatively', 'mother', 'field', 'slate', 'opponent', 'prize',\n",
      " 'guarantees', 'intercourse', 'opening', 'slowly', 'depressed', 'folk', 'guests', 'oppressor',\n",
      " 'investigators', 'repairs', 'victory', 'sits', 'grab', 'revenues', 'inclusivity', 'swear',\n",
      " 'proponents', 'theirs', 'fought', 'regular', 'question', 'province', 'hill', 'threatens',\n",
      " 'hillsdale', 'listening', 'bbn', 'departments', 'plasma', '1900', 'protecting', 'explained',\n",
      " 'discrimination', 'bud', 'doubts', 'pulls', 'convergence', '1978', 'cumshot', 'wonder', 'circuit',\n",
      " 'individuals', 'soccer', 'block', 'hasnt', 'antivirus', 'pressing', 'friend', 'massacre',\n",
      " 'capitalism', 'strictly', 'electrical', '12', 'gordon', 'threatening', 'blatant', 'blowjob',\n",
      " 'brave', 'n64', 'hey', 'defensive', 'arent', 'beach', 'detected', 'parkland', 'crosscountry',\n",
      " 'right', 'necessarily', '9th', 'stamford', 'brevard', 'sf', 'tech', 'public', 'anti', 'pledged',\n",
      " 'gary', 'adjust', 'mandating', 'appealing', 'industry', 'pacific', 'angeles', 'budgets',\n",
      " 'reckoning', 'plays', 'forefront', 'depth', 'seasonal', 'detail', 'insert', 'adventures', 'user',\n",
      " 'political', 'asset', 'adolescents', 'prompting', 'oped', 'deal', 'adjusted', 'fired', 'he',\n",
      " 'amid', 'corrupt', 'fauci', 'fruit', 'lawsuit', 'noon', 'unanimously', '36', 'bargaining',\n",
      " 'agendas', 'canadians', 'pre', 'ashamed', 'hall', 'concerned', 'both', 'shots', 'computing',\n",
      " 'downtown', 'spencer', 'pages', 'vengeance', 'llc', 'circle', 'interventions', 'fearful', 'mix',\n",
      " 'methods', 'exactly', 'works', 'rescind', 'outdated', 'chick', 'integrate', 'disregard', 'whilst',\n",
      " 'granted', 'boxes', 'carolyn', 'doctor', 'backs', 'deaf', 'stephens', 'gathering', 'strip',\n",
      " 'following', 'halls', '1996', 'locking', 'semester', 'report', '20000', 'simulation', 'secure',\n",
      " '26mn4', 'goals', 'final', 'domain', 'controlling', 'concept', 'scored', 'depends', 'outdoors',\n",
      " 'grutter', 'paying', 'exemptions', 'vaccine', 'reference', 'reedy', 'hopeful', 'offered',\n",
      " 'opposing', 'gallery', 'naughty', 'especially', 'agenda', 'disorders', 'cells', 'technique',\n",
      " 'prosecute', 'theyve', '1200', 'improving', 'period', 'disciplines', 'facilitate', 'stunt',\n",
      " 'voted', 'formally', '6yearold', 'argue', 'routines', 'spoken', 'traditionally', 'operated',\n",
      " 'jews', 'consortium', 'coverings', 'historian', 'thrilled', 'eating', 'bar', 'schoolboard',\n",
      " 'marked', 'laurie', 'ideological', 'reject', 'coughing', 'montessori', 'holes', 'womans', 'silver',\n",
      " 'bullies', 'summary', 'everyones', 'purely', 'deemed', 'problem', 'aug', 'slammed', 'chapter',\n",
      " 'removed', 'determination', 'lengthy', 'thick', 'through', 'southwest', 'stephanie',\n",
      " 'genderaffirming', 'jobs', 'restricting', 'academically', 'trans', 'worn', 'pit', 'manager',\n",
      " 'hampshire', '3d', 'surface', 'decided', 'dawn', 'herself', 'addressed', 'openly', 'advancement',\n",
      " 'porn', 'af', 'compilation', 'couldnt', 'undergraduate', 'integrity', 'suck', 'financing', 'elite',\n",
      " 'duke', 'donors', 'doc', 'preparing', 'checking', 'gp', 'area', 'lgbt', '44', 'car', 'closure',\n",
      " 'dress', 'symptom', 'chaste', 'claimed', 'babies', 'placement', 'editorial', 'forgiven', 'diploma',\n",
      " 'unite', 'competitive', 'resign', 'whove', 'liberalism', 'sheets', 'updated', 'quest', 'harassed',\n",
      " 'walt', 'representing', 'global', 'dying', 'duncan', 'symbol', 'neglect', 'robotics',\n",
      " 'administrative', 'mighty', 'mistakes', 'aka', 'receive', 'ratio', 'researchers', 'bodily',\n",
      " 'architecture', 'mississippi', 'guardians', 'these', 'clarence', 'attend', 'criticized', 'blacks',\n",
      " 'separated', 'ana', 'denounce', 'amnesty', 'academia', 'commissions', 'debora', 'safe',\n",
      " 'interfere', '850', 'discovery', 'nov', 'triggers', 'freshmen', 'seemingly', 'prom', 'debt',\n",
      " 'transition', 'survived', 'pride', 'themselves', 'uptake', 'string', 'talk', 'satanic',\n",
      " 'statelevel', 'concepts', 'came', 'robinson', 'entire', 'consecutive', 'stand', 'notified',\n",
      " 'desire', 'hates', 'belongs', 'stop', 'gift', 'americas', 'spy', 'striking', '2020', 'rips',\n",
      " 'ibram', 'coming', 'pronoun', 'proteins', 'erase', 'exceed', 'pathway', 'coaches', 'fb', 'flood',\n",
      " 'move', 'poorer', 'unrelated', 'brands', 'epidemiology', 'contacts', 'lock', 'engineer', 'windsor',\n",
      " 'exhausting', 'onsite', 'promotion', 'check', 'urgent', 'victims', 'gotten', 'moines', 'sarscov2',\n",
      " 'rachel', 'directing', 'directive', 'login', 'garbage', 'one', '2003', 'handson', 'automotive',\n",
      " 'upgrading', 'permanent', 'investigation', 'instruction', 'prior', 'purge', 'foundation', 'look',\n",
      " 'longtime', 'ruined', 'strive', 'airlines', 'bureaucrats', 's', 'lcd', 'asked', 'lecturer',\n",
      " '202223', 'relatively', 'tricky', 'uncertainty', 'investing', 'flipped', 'inclined', '60',\n",
      " 'demonstrating', 'discusses', 'bigotry', '9', '64', 'defining', 'households', 'threats', 'finding',\n",
      " 'coaching', 'victorian', 'radio', 'derek', 'northern', 'concord', 'shirt', 'robert', 'takeover',\n",
      " 'variants', 'postpandemic', 'mps', 'worth', 'protestors', 'dragon', 'sickness', 'parental',\n",
      " 'predators', 'arise', 'prioritize', 'history', 'del', 'that', 'jane', 'robb', 'bloody', 'above',\n",
      " 'relied', 'wrong', 'riding', 'outlawed', 'presumably', 'licenses', 'fly', 'spend', 'depending',\n",
      " 'alone', 'newspapers', 'robin', 'andy', 'followed', 'studyvisa', 'dismiss', 'location', 'summit',\n",
      " 'finished', 'shot', 'masquerading', 'phillips', 'lawsuits', 'debut', 'submission', 'pencil',\n",
      " 'tours', 'throwing', 'extending', 'marco', 'trafficking', 'responses', 'simon', 'willing', 'cdcs',\n",
      " 'highest', 'transmitted', 'memphis', 'lacking', 'anxiety', 'complications', 'existing',\n",
      " 'justified', 'responding', 'howard', 'd', 'knight', 'richards', 'samantha', 'rainbow', 'believes',\n",
      " '2dee20', 'murder', 'renee', 'wage', 'stringent', 'viewing', 'tall', 'delayed', 'retire', 'afraid',\n",
      " 'slurs', 'install', 'breakdown', 'clash', 'bbw', 'hunters', 'put', 'prohibit', 'gross',\n",
      " 'forbidden', 'wider', 'delete', '63', 'lord', 'sheet', 'cape', 'mrna', 'promotes', 'appropriate',\n",
      " 'offline', 'penalty', 'christina', 'icu', 'misgendering', 'tension', 'prove', 'retirement',\n",
      " 'democratic', 'punishing', 'signal', 'lift', 'handbook', 'investigated', 'fires', 'eligibility',\n",
      " 'perry', 'bodycam', 'lancaster', 'crt600', 'mandated', 'configuration', 'pres', 'colorado',\n",
      " 'chapek', 'absenteeism', 'failing', 'india', 'emotionally', 'named', 'url', 'experimental',\n",
      " 'argument', 'uncovered', 'plaintiff', 'readers', 'teaches', 'spotted', 'conceptualjames', 'early',\n",
      " 'sponsor', 'western', 'independent', 'graded', 'grief', 'everywhere', 'horses', 'responded',\n",
      " 'winner', 'steel', 'lines', 'deutsch', 'lake', 'differ', 'closings', 'rapid', 'meals', 'chances',\n",
      " 'casino', 'believe', 'blocked', 'sexual', 'temperature', 'hs', 'crt101', 'costeffective',\n",
      " 'empowering', 'kevin', 'suggests', 'censor', 'dystopian', 'controversial', 'plug', 'colour',\n",
      " 'joining', 'optimistic', 'guided', 'thoughts', 'strains', 'large', 'discriminate', 'decline',\n",
      " 'sun', 'olympic', 'hundred', 'career', 'fees', 'invasion', 'miserable', 'tai', 'temple', 'unicef',\n",
      " 'advising', 'kristin', 'nta', 'grounded', 'emphasizing', 'cleared', 'examining', 'lowering',\n",
      " 'evolving', 'electronic', 'coverup', 'hoax', 'cert', 'eastern', 'unless', 'combined', 'penny',\n",
      " 'chilling', 'possibilities', 'state', 'avoided', 'rifles', 'programmes', 'super', 'scores',\n",
      " 'lobbying', 'perhaps', 'showered', 'bully', 'cathy', 'buying', 'designs', 'what', 'expansion',\n",
      " 'prospect', 'frozen', 'kay', 'veterans', 'printing', 'journal', 'feeling', 'headed', 'pierce',\n",
      " 'niagara', 'mind', 'shocking', 'lafayette', 'employing']\n"
     ]
    }
   ],
   "source": [
    "pprint(context_words, compact=True, width=100)"
   ],
   "metadata": {
    "collapsed": false
   }
  },
  {
   "cell_type": "markdown",
   "source": [
    "/2. Method for reading posts of specified months of the dataset"
   ],
   "metadata": {
    "collapsed": false
   }
  },
  {
   "cell_type": "code",
   "execution_count": 72,
   "outputs": [],
   "source": [
    "input_dir = DIR / f\"split/{split_type}\"\n",
    "csv_files = glob.glob(str(input_dir / \"*.csv\"))\n",
    "\n",
    "# filter for starting-months\n",
    "csv_files = [filename for filename in csv_files if filename.split(\"_to_\")[0][-3:] in months]\n",
    "\n",
    "# use dict to be able to identify the dfs later on\n",
    "splits = {}"
   ],
   "metadata": {
    "collapsed": false
   }
  },
  {
   "cell_type": "code",
   "execution_count": 73,
   "outputs": [],
   "source": [
    "for filename in csv_files:\n",
    "    df = pd.read_csv(filename)\n",
    "    splits[filename.split(\"_to_\")[0][-3:]] = df"
   ],
   "metadata": {
    "collapsed": false
   }
  },
  {
   "cell_type": "markdown",
   "source": [
    "## Build Model"
   ],
   "metadata": {
    "collapsed": false
   }
  },
  {
   "cell_type": "code",
   "execution_count": 74,
   "outputs": [
    {
     "data": {
      "text/plain": "  0%|          | 0/11 [00:00<?, ?it/s]",
      "application/vnd.jupyter.widget-view+json": {
       "version_major": 2,
       "version_minor": 0,
       "model_id": "f7313a2b229248e9adb62fa649f66b73"
      },
      "application/json": {
       "n": 0,
       "total": 11,
       "elapsed": 0.0025510787963867188,
       "ncols": null,
       "nrows": null,
       "prefix": "",
       "ascii": false,
       "unit": "it",
       "unit_scale": false,
       "rate": null,
       "bar_format": null,
       "postfix": null,
       "unit_divisor": 1000,
       "initial": 0,
       "colour": null
      }
     },
     "metadata": {},
     "output_type": "display_data"
    }
   ],
   "source": [
    "ppmi_models = {key: PPMIModel.construct_from_texts(value, context_words=context_words, min_freq=min_freq) for key, value in tqdm(splits.items())}"
   ],
   "metadata": {
    "collapsed": false
   }
  },
  {
   "cell_type": "markdown",
   "source": [
    "### Control"
   ],
   "metadata": {
    "collapsed": false
   }
  },
  {
   "cell_type": "code",
   "execution_count": 75,
   "outputs": [],
   "source": [
    "ppmi_model = ppmi_models[next(iter(ppmi_models))]"
   ],
   "metadata": {
    "collapsed": false
   }
  },
  {
   "cell_type": "code",
   "execution_count": 76,
   "outputs": [
    {
     "data": {
      "text/plain": "array([[0.        , 0.        , 0.        , ..., 0.        , 2.05667708,\n        0.        ],\n       [0.        , 0.        , 0.        , ..., 0.        , 0.8169862 ,\n        0.        ],\n       [0.        , 0.        , 0.        , ..., 0.        , 2.21386267,\n        0.        ],\n       ...,\n       [0.        , 0.        , 0.        , ..., 0.        , 1.10116564,\n        0.        ],\n       [0.        , 0.        , 0.        , ..., 0.        , 2.37513081,\n        0.        ],\n       [0.        , 0.        , 0.        , ..., 0.        , 1.43903746,\n        0.        ]])"
     },
     "execution_count": 76,
     "metadata": {},
     "output_type": "execute_result"
    }
   ],
   "source": [
    "ppmi_model.compute_ppmi_matrix()"
   ],
   "metadata": {
    "collapsed": false
   }
  },
  {
   "cell_type": "code",
   "execution_count": 77,
   "outputs": [
    {
     "data": {
      "text/plain": "(12243, 5000)"
     },
     "execution_count": 77,
     "metadata": {},
     "output_type": "execute_result"
    }
   ],
   "source": [
    "ppmi_model.ppmi_matrix.shape"
   ],
   "metadata": {
    "collapsed": false
   }
  },
  {
   "cell_type": "code",
   "execution_count": 78,
   "outputs": [
    {
     "data": {
      "text/plain": "dict_keys(['Mar', 'Jan', 'Feb', 'Jun', 'Sep', 'Apr', 'Oct', 'Aug', 'Dec', 'Nov', 'Jul'])"
     },
     "execution_count": 78,
     "metadata": {},
     "output_type": "execute_result"
    }
   ],
   "source": [
    "ppmi_models.keys()"
   ],
   "metadata": {
    "collapsed": false
   }
  },
  {
   "cell_type": "markdown",
   "source": [
    "## Vocab"
   ],
   "metadata": {
    "collapsed": false
   }
  },
  {
   "cell_type": "code",
   "execution_count": 79,
   "outputs": [
    {
     "name": "stdout",
     "output_type": "stream",
     "text": [
      "Vocabulary size of timestep Mar: 12243\n",
      "Vocabulary size of timestep Jan: 11687\n",
      "Vocabulary size of timestep Feb: 10446\n",
      "Vocabulary size of timestep Jun: 9760\n",
      "Vocabulary size of timestep Sep: 10444\n",
      "Vocabulary size of timestep Apr: 10208\n",
      "Vocabulary size of timestep Oct: 13448\n",
      "Vocabulary size of timestep Aug: 11428\n",
      "Vocabulary size of timestep Dec: 11992\n",
      "Vocabulary size of timestep Nov: 13232\n",
      "Vocabulary size of timestep Jul: 10295\n"
     ]
    }
   ],
   "source": [
    "for key, ppmi_model in ppmi_models.items():\n",
    "    print(f\"Vocabulary size of timestep {key}: {ppmi_model.get_vocabulary_size()}\")"
   ],
   "metadata": {
    "collapsed": false
   }
  },
  {
   "cell_type": "markdown",
   "source": [
    "## Calulate & Save"
   ],
   "metadata": {
    "collapsed": false
   }
  },
  {
   "cell_type": "code",
   "execution_count": 80,
   "outputs": [
    {
     "name": "stdout",
     "output_type": "stream",
     "text": [
      "PPMI data for 03 saved successfully.\n",
      "Vocabulary Size: 12243\n",
      "PPMI data for 01 saved successfully.\n",
      "Vocabulary Size: 11687\n",
      "PPMI data for 02 saved successfully.\n",
      "Vocabulary Size: 10446\n",
      "PPMI data for 06 saved successfully.\n",
      "Vocabulary Size: 9760\n",
      "PPMI data for 09 saved successfully.\n",
      "Vocabulary Size: 10444\n",
      "PPMI data for 04 saved successfully.\n",
      "Vocabulary Size: 10208\n",
      "PPMI data for 10 saved successfully.\n",
      "Vocabulary Size: 13448\n",
      "PPMI data for 08 saved successfully.\n",
      "Vocabulary Size: 11428\n",
      "PPMI data for 12 saved successfully.\n",
      "Vocabulary Size: 11992\n",
      "PPMI data for 11 saved successfully.\n",
      "Vocabulary Size: 13232\n",
      "PPMI data for 07 saved successfully.\n",
      "Vocabulary Size: 10295\n",
      "--------------- done ---------------\n",
      "PPMI-Data stored to: ../../data/ppmi-matrices/monthly/5000\n",
      "Number of context-words: 5000\n"
     ]
    }
   ],
   "source": [
    "output_dir = DIR / f\"ppmi-matrices/{split_type}/{number_of_context_words}\"\n",
    "output_dir.mkdir(parents=True, exist_ok=True)\n",
    "\n",
    "# save common context-words\n",
    "with open(output_dir / f\"context-words.pkl\", \"wb\") as f:\n",
    "    pickle.dump(context_words, f)\n",
    "\n",
    "# save vocab and ppmi-matrices\n",
    "for key, ppmi_model in ppmi_models.items():\n",
    "    ppmi_model.compute_ppmi_matrix(window_size=window_size)\n",
    "    ppmi_model.save(month_codes[key], output_dir)\n",
    "\n",
    "print(\"--------------- done ---------------\")\n",
    "print(f\"PPMI-Data stored to: {str(output_dir)}\")\n",
    "print(f\"Number of context-words: {len(context_words)}\")"
   ],
   "metadata": {
    "collapsed": false
   }
  },
  {
   "cell_type": "code",
   "execution_count": 80,
   "outputs": [],
   "source": [],
   "metadata": {
    "collapsed": false
   }
  }
 ],
 "metadata": {
  "kernelspec": {
   "display_name": "Python 3",
   "language": "python",
   "name": "python3"
  },
  "language_info": {
   "codemirror_mode": {
    "name": "ipython",
    "version": 2
   },
   "file_extension": ".py",
   "mimetype": "text/x-python",
   "name": "python",
   "nbconvert_exporter": "python",
   "pygments_lexer": "ipython2",
   "version": "2.7.6"
  }
 },
 "nbformat": 4,
 "nbformat_minor": 0
}
