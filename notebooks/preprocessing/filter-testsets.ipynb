{
 "cells": [
  {
   "cell_type": "code",
   "execution_count": 1,
   "metadata": {
    "collapsed": true
   },
   "outputs": [],
   "source": [
    "import pandas as pd\n",
    "from pathlib import Path\n",
    "from pprint import pprint"
   ]
  },
  {
   "cell_type": "markdown",
   "source": [
    "# Setup"
   ],
   "metadata": {
    "collapsed": false
   }
  },
  {
   "cell_type": "code",
   "execution_count": 47,
   "outputs": [],
   "source": [
    "path_to_entity_data = Path(\"../../data/processed/entities/\")\n",
    "path_to_processed_data = Path(\"../../data/processed/entities\")\n",
    "path_to_test_data = Path(\"../../data\") / \"test\"\n",
    "path_to_output_data = Path(\"../../data/processed/\")"
   ],
   "metadata": {
    "collapsed": false
   }
  },
  {
   "cell_type": "markdown",
   "source": [
    "# Entity Data"
   ],
   "metadata": {
    "collapsed": false
   }
  },
  {
   "cell_type": "code",
   "execution_count": 49,
   "outputs": [],
   "source": [
    "entity_data = pd.read_csv(path_to_entity_data / \"persons_pantheon_data.csv\", delimiter=\",\", encoding=\"latin1\")"
   ],
   "metadata": {
    "collapsed": false
   }
  },
  {
   "cell_type": "code",
   "execution_count": 50,
   "outputs": [
    {
     "data": {
      "text/plain": "Index(['name', 'domain'], dtype='object')"
     },
     "execution_count": 50,
     "metadata": {},
     "output_type": "execute_result"
    }
   ],
   "source": [
    "entity_data.columns"
   ],
   "metadata": {
    "collapsed": false
   }
  },
  {
   "cell_type": "code",
   "execution_count": 51,
   "outputs": [],
   "source": [
    "entity_data.columns = entity_data.columns.str.lower()"
   ],
   "metadata": {
    "collapsed": false
   }
  },
  {
   "cell_type": "code",
   "execution_count": 52,
   "outputs": [],
   "source": [
    "# we only need the words and the tags\n",
    "entity_data = entity_data.drop(columns=[\"domain\"])"
   ],
   "metadata": {
    "collapsed": false
   }
  },
  {
   "cell_type": "code",
   "execution_count": 53,
   "outputs": [
    {
     "data": {
      "text/plain": "         name\n0    \"noynoy\"\n1  'ulukalala\n2        13th\n3        14th\n4      `abbas",
      "text/html": "<div>\n<style scoped>\n    .dataframe tbody tr th:only-of-type {\n        vertical-align: middle;\n    }\n\n    .dataframe tbody tr th {\n        vertical-align: top;\n    }\n\n    .dataframe thead th {\n        text-align: right;\n    }\n</style>\n<table border=\"1\" class=\"dataframe\">\n  <thead>\n    <tr style=\"text-align: right;\">\n      <th></th>\n      <th>name</th>\n    </tr>\n  </thead>\n  <tbody>\n    <tr>\n      <th>0</th>\n      <td>\"noynoy\"</td>\n    </tr>\n    <tr>\n      <th>1</th>\n      <td>'ulukalala</td>\n    </tr>\n    <tr>\n      <th>2</th>\n      <td>13th</td>\n    </tr>\n    <tr>\n      <th>3</th>\n      <td>14th</td>\n    </tr>\n    <tr>\n      <th>4</th>\n      <td>`abbas</td>\n    </tr>\n  </tbody>\n</table>\n</div>"
     },
     "execution_count": 53,
     "metadata": {},
     "output_type": "execute_result"
    }
   ],
   "source": [
    "entity_data.head()"
   ],
   "metadata": {
    "collapsed": false
   }
  },
  {
   "cell_type": "code",
   "execution_count": 54,
   "outputs": [
    {
     "data": {
      "text/plain": "12123"
     },
     "execution_count": 54,
     "metadata": {},
     "output_type": "execute_result"
    }
   ],
   "source": [
    "len(entity_data)"
   ],
   "metadata": {
    "collapsed": false
   }
  },
  {
   "cell_type": "markdown",
   "source": [
    "Convert tokens to lowercase"
   ],
   "metadata": {
    "collapsed": false
   }
  },
  {
   "cell_type": "code",
   "execution_count": 55,
   "outputs": [],
   "source": [
    "entity_data.loc[:, 'name'] = entity_data['name'].str.lower()"
   ],
   "metadata": {
    "collapsed": false
   }
  },
  {
   "cell_type": "code",
   "execution_count": 56,
   "outputs": [
    {
     "data": {
      "text/plain": "         name\n0    \"noynoy\"\n1  'ulukalala\n2        13th\n3        14th\n4      `abbas",
      "text/html": "<div>\n<style scoped>\n    .dataframe tbody tr th:only-of-type {\n        vertical-align: middle;\n    }\n\n    .dataframe tbody tr th {\n        vertical-align: top;\n    }\n\n    .dataframe thead th {\n        text-align: right;\n    }\n</style>\n<table border=\"1\" class=\"dataframe\">\n  <thead>\n    <tr style=\"text-align: right;\">\n      <th></th>\n      <th>name</th>\n    </tr>\n  </thead>\n  <tbody>\n    <tr>\n      <th>0</th>\n      <td>\"noynoy\"</td>\n    </tr>\n    <tr>\n      <th>1</th>\n      <td>'ulukalala</td>\n    </tr>\n    <tr>\n      <th>2</th>\n      <td>13th</td>\n    </tr>\n    <tr>\n      <th>3</th>\n      <td>14th</td>\n    </tr>\n    <tr>\n      <th>4</th>\n      <td>`abbas</td>\n    </tr>\n  </tbody>\n</table>\n</div>"
     },
     "execution_count": 56,
     "metadata": {},
     "output_type": "execute_result"
    }
   ],
   "source": [
    "entity_data.head()"
   ],
   "metadata": {
    "collapsed": false
   }
  },
  {
   "cell_type": "code",
   "execution_count": 57,
   "outputs": [],
   "source": [
    "entity_data.to_csv(path_to_output_data / \"entity-list.csv\", index=False)"
   ],
   "metadata": {
    "collapsed": false
   }
  },
  {
   "cell_type": "markdown",
   "source": [
    "# Test-Data"
   ],
   "metadata": {
    "collapsed": false
   }
  },
  {
   "cell_type": "code",
   "execution_count": 58,
   "outputs": [],
   "source": [
    "test_data = pd.read_csv(path_to_test_data / \"testset_1.csv\")"
   ],
   "metadata": {
    "collapsed": false
   }
  },
  {
   "cell_type": "code",
   "execution_count": 59,
   "outputs": [
    {
     "data": {
      "text/plain": "11027"
     },
     "execution_count": 59,
     "metadata": {},
     "output_type": "execute_result"
    }
   ],
   "source": [
    "len(test_data)"
   ],
   "metadata": {
    "collapsed": false
   }
  },
  {
   "cell_type": "code",
   "execution_count": 60,
   "outputs": [
    {
     "name": "stdout",
     "output_type": "stream",
     "text": [
      "Testset\n",
      "Testcases (all): 11027\n",
      "Testcases (unique): 499\n"
     ]
    }
   ],
   "source": [
    "test_data.columns = ['truth', 'equivalent']\n",
    "test_data = test_data.sort_values(by='truth', ascending=True)\n",
    "test_cases = test_data['truth'].unique()\n",
    "print(\"Testset\")\n",
    "print(f\"Testcases (all): {len(test_data)}\")\n",
    "print(f\"Testcases (unique): {len(test_cases)}\")"
   ],
   "metadata": {
    "collapsed": false
   }
  },
  {
   "cell_type": "code",
   "execution_count": 62,
   "outputs": [],
   "source": [
    "test_data['name'] = test_data['truth'].apply(lambda x: x.split('-')[0])"
   ],
   "metadata": {
    "collapsed": false
   }
  },
  {
   "cell_type": "code",
   "execution_count": 80,
   "outputs": [
    {
     "data": {
      "text/plain": "8370    49ers\n8351    49ers\n8352    49ers\n8353    49ers\n8354    49ers\n        ...  \n9632     zika\n9630     zika\n9629     zika\n9628     zika\n9631     zika\nName: name, Length: 11027, dtype: object"
     },
     "execution_count": 80,
     "metadata": {},
     "output_type": "execute_result"
    }
   ],
   "source": [
    "test_data.name"
   ],
   "metadata": {
    "collapsed": false
   }
  },
  {
   "cell_type": "code",
   "execution_count": 83,
   "outputs": [
    {
     "data": {
      "text/plain": "Series([], Name: name, dtype: object)"
     },
     "execution_count": 83,
     "metadata": {},
     "output_type": "execute_result"
    }
   ],
   "source": [
    "entity_data.name[entity_data.name == \"49ers\"]"
   ],
   "metadata": {
    "collapsed": false
   }
  },
  {
   "cell_type": "code",
   "execution_count": 87,
   "outputs": [],
   "source": [
    "merged_data = pd.merge(test_data, entity_data, how='inner', on='name')"
   ],
   "metadata": {
    "collapsed": false
   }
  },
  {
   "cell_type": "code",
   "execution_count": 88,
   "outputs": [
    {
     "data": {
      "text/plain": "             truth     equivalent     name\n0      agassi-1999  djokovic-2015   agassi\n1      agassi-1999   sampras-1994   agassi\n2      agassi-1999  djokovic-2014   agassi\n3      agassi-1999     nadal-2013   agassi\n4      agassi-1999  djokovic-2012   agassi\n...            ...            ...      ...\n8266  yeltsin-1999     putin-2000  yeltsin\n8267  yeltsin-1999     putin-2001  yeltsin\n8268  yeltsin-1999     putin-2002  yeltsin\n8269  yeltsin-1999     putin-2004  yeltsin\n8270  yeltsin-1999   yeltsin-1997  yeltsin\n\n[8271 rows x 3 columns]",
      "text/html": "<div>\n<style scoped>\n    .dataframe tbody tr th:only-of-type {\n        vertical-align: middle;\n    }\n\n    .dataframe tbody tr th {\n        vertical-align: top;\n    }\n\n    .dataframe thead th {\n        text-align: right;\n    }\n</style>\n<table border=\"1\" class=\"dataframe\">\n  <thead>\n    <tr style=\"text-align: right;\">\n      <th></th>\n      <th>truth</th>\n      <th>equivalent</th>\n      <th>name</th>\n    </tr>\n  </thead>\n  <tbody>\n    <tr>\n      <th>0</th>\n      <td>agassi-1999</td>\n      <td>djokovic-2015</td>\n      <td>agassi</td>\n    </tr>\n    <tr>\n      <th>1</th>\n      <td>agassi-1999</td>\n      <td>sampras-1994</td>\n      <td>agassi</td>\n    </tr>\n    <tr>\n      <th>2</th>\n      <td>agassi-1999</td>\n      <td>djokovic-2014</td>\n      <td>agassi</td>\n    </tr>\n    <tr>\n      <th>3</th>\n      <td>agassi-1999</td>\n      <td>nadal-2013</td>\n      <td>agassi</td>\n    </tr>\n    <tr>\n      <th>4</th>\n      <td>agassi-1999</td>\n      <td>djokovic-2012</td>\n      <td>agassi</td>\n    </tr>\n    <tr>\n      <th>...</th>\n      <td>...</td>\n      <td>...</td>\n      <td>...</td>\n    </tr>\n    <tr>\n      <th>8266</th>\n      <td>yeltsin-1999</td>\n      <td>putin-2000</td>\n      <td>yeltsin</td>\n    </tr>\n    <tr>\n      <th>8267</th>\n      <td>yeltsin-1999</td>\n      <td>putin-2001</td>\n      <td>yeltsin</td>\n    </tr>\n    <tr>\n      <th>8268</th>\n      <td>yeltsin-1999</td>\n      <td>putin-2002</td>\n      <td>yeltsin</td>\n    </tr>\n    <tr>\n      <th>8269</th>\n      <td>yeltsin-1999</td>\n      <td>putin-2004</td>\n      <td>yeltsin</td>\n    </tr>\n    <tr>\n      <th>8270</th>\n      <td>yeltsin-1999</td>\n      <td>yeltsin-1997</td>\n      <td>yeltsin</td>\n    </tr>\n  </tbody>\n</table>\n<p>8271 rows × 3 columns</p>\n</div>"
     },
     "execution_count": 88,
     "metadata": {},
     "output_type": "execute_result"
    }
   ],
   "source": [
    "merged_data"
   ],
   "metadata": {
    "collapsed": false
   }
  },
  {
   "cell_type": "code",
   "execution_count": 94,
   "outputs": [],
   "source": [
    "merged_data.to_csv(path_to_test_data / \"testset_1_filtered.csv\", index=False)"
   ],
   "metadata": {
    "collapsed": false
   }
  },
  {
   "cell_type": "code",
   "execution_count": 95,
   "outputs": [
    {
     "data": {
      "text/plain": "             truth     equivalent     name\n0      agassi-1999  djokovic-2015   agassi\n1      agassi-1999   sampras-1994   agassi\n2      agassi-1999  djokovic-2014   agassi\n3      agassi-1999     nadal-2013   agassi\n4      agassi-1999  djokovic-2012   agassi\n...            ...            ...      ...\n8266  yeltsin-1999     putin-2000  yeltsin\n8267  yeltsin-1999     putin-2001  yeltsin\n8268  yeltsin-1999     putin-2002  yeltsin\n8269  yeltsin-1999     putin-2004  yeltsin\n8270  yeltsin-1999   yeltsin-1997  yeltsin\n\n[8271 rows x 3 columns]",
      "text/html": "<div>\n<style scoped>\n    .dataframe tbody tr th:only-of-type {\n        vertical-align: middle;\n    }\n\n    .dataframe tbody tr th {\n        vertical-align: top;\n    }\n\n    .dataframe thead th {\n        text-align: right;\n    }\n</style>\n<table border=\"1\" class=\"dataframe\">\n  <thead>\n    <tr style=\"text-align: right;\">\n      <th></th>\n      <th>truth</th>\n      <th>equivalent</th>\n      <th>name</th>\n    </tr>\n  </thead>\n  <tbody>\n    <tr>\n      <th>0</th>\n      <td>agassi-1999</td>\n      <td>djokovic-2015</td>\n      <td>agassi</td>\n    </tr>\n    <tr>\n      <th>1</th>\n      <td>agassi-1999</td>\n      <td>sampras-1994</td>\n      <td>agassi</td>\n    </tr>\n    <tr>\n      <th>2</th>\n      <td>agassi-1999</td>\n      <td>djokovic-2014</td>\n      <td>agassi</td>\n    </tr>\n    <tr>\n      <th>3</th>\n      <td>agassi-1999</td>\n      <td>nadal-2013</td>\n      <td>agassi</td>\n    </tr>\n    <tr>\n      <th>4</th>\n      <td>agassi-1999</td>\n      <td>djokovic-2012</td>\n      <td>agassi</td>\n    </tr>\n    <tr>\n      <th>...</th>\n      <td>...</td>\n      <td>...</td>\n      <td>...</td>\n    </tr>\n    <tr>\n      <th>8266</th>\n      <td>yeltsin-1999</td>\n      <td>putin-2000</td>\n      <td>yeltsin</td>\n    </tr>\n    <tr>\n      <th>8267</th>\n      <td>yeltsin-1999</td>\n      <td>putin-2001</td>\n      <td>yeltsin</td>\n    </tr>\n    <tr>\n      <th>8268</th>\n      <td>yeltsin-1999</td>\n      <td>putin-2002</td>\n      <td>yeltsin</td>\n    </tr>\n    <tr>\n      <th>8269</th>\n      <td>yeltsin-1999</td>\n      <td>putin-2004</td>\n      <td>yeltsin</td>\n    </tr>\n    <tr>\n      <th>8270</th>\n      <td>yeltsin-1999</td>\n      <td>yeltsin-1997</td>\n      <td>yeltsin</td>\n    </tr>\n  </tbody>\n</table>\n<p>8271 rows × 3 columns</p>\n</div>"
     },
     "execution_count": 95,
     "metadata": {},
     "output_type": "execute_result"
    }
   ],
   "source": [
    "merged_data"
   ],
   "metadata": {
    "collapsed": false
   }
  },
  {
   "cell_type": "code",
   "execution_count": 28,
   "outputs": [],
   "source": [],
   "metadata": {
    "collapsed": false
   }
  }
 ],
 "metadata": {
  "kernelspec": {
   "display_name": "Python 3",
   "language": "python",
   "name": "python3"
  },
  "language_info": {
   "codemirror_mode": {
    "name": "ipython",
    "version": 2
   },
   "file_extension": ".py",
   "mimetype": "text/x-python",
   "name": "python",
   "nbconvert_exporter": "python",
   "pygments_lexer": "ipython2",
   "version": "2.7.6"
  }
 },
 "nbformat": 4,
 "nbformat_minor": 0
}
