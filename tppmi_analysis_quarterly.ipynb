{
 "cells": [
  {
   "cell_type": "markdown",
   "source": [
    "# TPPMI Variants Analysis"
   ],
   "metadata": {
    "collapsed": false
   }
  },
  {
   "cell_type": "code",
   "execution_count": 1,
   "metadata": {
    "collapsed": true
   },
   "outputs": [],
   "source": [
    "import pickle\n",
    "from glob import glob\n",
    "from pathlib import Path\n",
    "import scipy.sparse as sp\n",
    "from tqdm.notebook import tqdm\n",
    "from gensim.models.word2vec import Word2Vec\n",
    "from packages.TPPMI.ppmi_model import PPMIModel\n",
    "from packages.TPPMI.tppmi_model import TPPMIModel\n",
    "\n",
    "from embedding_visualization import \\\n",
    "    plot_word_vectors_tppmi,  plot_word_vectors"
   ]
  },
  {
   "cell_type": "code",
   "execution_count": null,
   "outputs": [],
   "source": [],
   "metadata": {
    "collapsed": false
   }
  }
 ],
 "metadata": {
  "kernelspec": {
   "display_name": "Python 3",
   "language": "python",
   "name": "python3"
  },
  "language_info": {
   "codemirror_mode": {
    "name": "ipython",
    "version": 2
   },
   "file_extension": ".py",
   "mimetype": "text/x-python",
   "name": "python",
   "nbconvert_exporter": "python",
   "pygments_lexer": "ipython2",
   "version": "2.7.6"
  }
 },
 "nbformat": 4,
 "nbformat_minor": 0
}
