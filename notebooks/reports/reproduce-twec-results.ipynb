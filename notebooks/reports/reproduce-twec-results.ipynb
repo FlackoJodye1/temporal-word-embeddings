{
 "cells": [
  {
   "cell_type": "code",
   "execution_count": 197,
   "metadata": {
    "collapsed": true
   },
   "outputs": [],
   "source": [
    "import json\n",
    "import pickle\n",
    "import pandas as pd\n",
    "from glob import glob\n",
    "from pathlib import Path\n",
    "from scipy import spatial\n",
    "import scipy.sparse as sp\n",
    "from itertools import islice\n",
    "from tqdm.notebook import tqdm\n",
    "from gensim.models.word2vec import Word2Vec\n",
    "\n",
    "import sys\n",
    "sys.path.append('../../')\n",
    "\n",
    "from src.packages.TPPMI.ppmi_model import PPMIModel\n",
    "from src.packages.TPPMI.tppmi_model import TPPMIModel"
   ]
  },
  {
   "cell_type": "markdown",
   "source": [
    "# Imports"
   ],
   "metadata": {
    "collapsed": false
   }
  },
  {
   "cell_type": "code",
   "execution_count": 82,
   "outputs": [],
   "source": [
    "path_to_test_data = Path(\"../../data\") / \"test\"\n",
    "path_to_tppmi_model = Path(\"../../data\") / \"ppmi-matrices\" / \"nyt-data\"\n",
    "path_to_twec_model = Path(\"../../model\") / \"nyt-data\" / \"cade\" / \"model\""
   ],
   "metadata": {
    "collapsed": false
   }
  },
  {
   "cell_type": "markdown",
   "source": [
    "## Testsets"
   ],
   "metadata": {
    "collapsed": false
   }
  },
  {
   "cell_type": "markdown",
   "source": [
    "### Testset 1\n",
    "\n",
    "Based on publicly recorded knowledge that for each year lists different names for a particular role, such as U.S. president, U.K. prime minister, NFL superbowl champion team, and so on."
   ],
   "metadata": {
    "collapsed": false
   }
  },
  {
   "cell_type": "code",
   "execution_count": 83,
   "outputs": [],
   "source": [
    "test_data_1 = pd.read_csv(path_to_test_data / \"testset_1.csv\")"
   ],
   "metadata": {
    "collapsed": false
   }
  },
  {
   "cell_type": "code",
   "execution_count": 84,
   "outputs": [],
   "source": [
    "test_data_1.columns = ['truth', 'equivalent']"
   ],
   "metadata": {
    "collapsed": false
   }
  },
  {
   "cell_type": "code",
   "execution_count": 85,
   "outputs": [],
   "source": [
    "test_cases_1 = test_data_1['truth'].unique()"
   ],
   "metadata": {
    "collapsed": false
   }
  },
  {
   "cell_type": "code",
   "execution_count": 86,
   "outputs": [],
   "source": [
    "test_data_1 = test_data_1.sort_values(by='truth', ascending=True)"
   ],
   "metadata": {
    "collapsed": false
   }
  },
  {
   "cell_type": "code",
   "execution_count": 87,
   "outputs": [
    {
     "name": "stdout",
     "output_type": "stream",
     "text": [
      "Testset1 contains 499 test cases\n"
     ]
    }
   ],
   "source": [
    "print(f\"Testset1 contains {len(test_cases_1)} test cases\")"
   ],
   "metadata": {
    "collapsed": false
   }
  },
  {
   "cell_type": "markdown",
   "source": [
    "### Testset 2\n",
    "\n",
    "Testset 2 is human-generated, for exploring more interesting concepts like emerging technologies, brands and major events (e.g., disease outbreaks and financial crisis). For constructing the test word pairs, we first select emerging terms which have not been popularized before 1994, then query their well known precedents during 1990 to 1994 (e.g., app-2012 can correspond to software-1990)."
   ],
   "metadata": {
    "collapsed": false
   }
  },
  {
   "cell_type": "code",
   "execution_count": 88,
   "outputs": [],
   "source": [
    "test_data_2 = pd.read_csv(path_to_test_data / \"testset_2.csv\")"
   ],
   "metadata": {
    "collapsed": false
   }
  },
  {
   "cell_type": "code",
   "execution_count": 89,
   "outputs": [],
   "source": [
    "test_data_2.columns = ['truth', 'equivalent']"
   ],
   "metadata": {
    "collapsed": false
   }
  },
  {
   "cell_type": "code",
   "execution_count": 90,
   "outputs": [],
   "source": [
    "test_data_2 = test_data_2.sort_values(by='truth', ascending=True)"
   ],
   "metadata": {
    "collapsed": false
   }
  },
  {
   "cell_type": "code",
   "execution_count": 91,
   "outputs": [
    {
     "data": {
      "text/plain": "             truth    equivalent\n57  amazoncom-2000  walmart-1993\n63  amazoncom-2000     macy-1994\n62  amazoncom-2000     macy-1993\n61  amazoncom-2000     macy-1992\n60  amazoncom-2000     macy-1991",
      "text/html": "<div>\n<style scoped>\n    .dataframe tbody tr th:only-of-type {\n        vertical-align: middle;\n    }\n\n    .dataframe tbody tr th {\n        vertical-align: top;\n    }\n\n    .dataframe thead th {\n        text-align: right;\n    }\n</style>\n<table border=\"1\" class=\"dataframe\">\n  <thead>\n    <tr style=\"text-align: right;\">\n      <th></th>\n      <th>truth</th>\n      <th>equivalent</th>\n    </tr>\n  </thead>\n  <tbody>\n    <tr>\n      <th>57</th>\n      <td>amazoncom-2000</td>\n      <td>walmart-1993</td>\n    </tr>\n    <tr>\n      <th>63</th>\n      <td>amazoncom-2000</td>\n      <td>macy-1994</td>\n    </tr>\n    <tr>\n      <th>62</th>\n      <td>amazoncom-2000</td>\n      <td>macy-1993</td>\n    </tr>\n    <tr>\n      <th>61</th>\n      <td>amazoncom-2000</td>\n      <td>macy-1992</td>\n    </tr>\n    <tr>\n      <th>60</th>\n      <td>amazoncom-2000</td>\n      <td>macy-1991</td>\n    </tr>\n  </tbody>\n</table>\n</div>"
     },
     "execution_count": 91,
     "metadata": {},
     "output_type": "execute_result"
    }
   ],
   "source": [
    "test_data_2.head()"
   ],
   "metadata": {
    "collapsed": false
   }
  },
  {
   "cell_type": "markdown",
   "source": [
    "## Models"
   ],
   "metadata": {
    "collapsed": false
   }
  },
  {
   "cell_type": "markdown",
   "source": [
    "### TWEC"
   ],
   "metadata": {
    "collapsed": false
   }
  },
  {
   "cell_type": "code",
   "execution_count": 92,
   "outputs": [],
   "source": [
    "cade_model_filenames = glob(str(path_to_twec_model / \"*.model\"))"
   ],
   "metadata": {
    "collapsed": false
   }
  },
  {
   "cell_type": "code",
   "execution_count": 93,
   "outputs": [
    {
     "data": {
      "text/plain": "PosixPath('../../model/nyt-data/cade/model')"
     },
     "execution_count": 93,
     "metadata": {},
     "output_type": "execute_result"
    }
   ],
   "source": [
    "path_to_twec_model"
   ],
   "metadata": {
    "collapsed": false
   }
  },
  {
   "cell_type": "code",
   "execution_count": 94,
   "outputs": [
    {
     "data": {
      "text/plain": "['../../model/nyt-data/cade/model/1994_data.model',\n '../../model/nyt-data/cade/model/2000_data.model',\n '../../model/nyt-data/cade/model/1999_data.model',\n '../../model/nyt-data/cade/model/2011_data.model',\n '../../model/nyt-data/cade/model/2008_data.model',\n '../../model/nyt-data/cade/model/2014_data.model',\n '../../model/nyt-data/cade/model/2005_data.model',\n '../../model/nyt-data/cade/model/1991_data.model',\n '../../model/nyt-data/cade/model/1996_data.model',\n '../../model/nyt-data/cade/model/2002_data.model',\n '../../model/nyt-data/cade/model/2013_data.model',\n '../../model/nyt-data/cade/model/2016_data.model',\n '../../model/nyt-data/cade/model/2007_data.model',\n '../../model/nyt-data/cade/model/1993_data.model',\n '../../model/nyt-data/cade/model/2009_data.model',\n '../../model/nyt-data/cade/model/2015_data.model',\n '../../model/nyt-data/cade/model/1990_data.model',\n '../../model/nyt-data/cade/model/2004_data.model',\n '../../model/nyt-data/cade/model/2001_data.model',\n '../../model/nyt-data/cade/model/1995_data.model',\n '../../model/nyt-data/cade/model/1998_data.model',\n '../../model/nyt-data/cade/model/2010_data.model',\n '../../model/nyt-data/cade/model/1992_data.model',\n '../../model/nyt-data/cade/model/2006_data.model',\n '../../model/nyt-data/cade/model/2003_data.model',\n '../../model/nyt-data/cade/model/1997_data.model',\n '../../model/nyt-data/cade/model/2012_data.model']"
     },
     "execution_count": 94,
     "metadata": {},
     "output_type": "execute_result"
    }
   ],
   "source": [
    "cade_model_filenames"
   ],
   "metadata": {
    "collapsed": false
   }
  },
  {
   "cell_type": "code",
   "execution_count": 95,
   "outputs": [
    {
     "data": {
      "text/plain": "  0%|          | 0/27 [00:00<?, ?it/s]",
      "application/vnd.jupyter.widget-view+json": {
       "version_major": 2,
       "version_minor": 0,
       "model_id": "6a1fe44967964e05b18c909870ea3f08"
      },
      "application/json": {
       "n": 0,
       "total": 27,
       "elapsed": 0.006424903869628906,
       "ncols": null,
       "nrows": null,
       "prefix": "",
       "ascii": false,
       "unit": "it",
       "unit_scale": false,
       "rate": null,
       "bar_format": null,
       "postfix": null,
       "unit_divisor": 1000,
       "initial": 0,
       "colour": null
      }
     },
     "metadata": {},
     "output_type": "display_data"
    }
   ],
   "source": [
    "# load models\n",
    "cade_models = {f\"model_{model_file.split('_data')[0][-4:]}\":Word2Vec.load(model_file) for model_file in tqdm(cade_model_filenames)}"
   ],
   "metadata": {
    "collapsed": false
   }
  },
  {
   "cell_type": "code",
   "execution_count": 96,
   "outputs": [],
   "source": [
    "cade_models = {model_key: cade_models[model_key] for model_key in sorted(cade_models, key=lambda x: int(x.split('_')[1]))}"
   ],
   "metadata": {
    "collapsed": false
   }
  },
  {
   "cell_type": "code",
   "execution_count": 97,
   "outputs": [
    {
     "data": {
      "text/plain": "dict_keys(['model_1990', 'model_1991', 'model_1992', 'model_1993', 'model_1994', 'model_1995', 'model_1996', 'model_1997', 'model_1998', 'model_1999', 'model_2000', 'model_2001', 'model_2002', 'model_2003', 'model_2004', 'model_2005', 'model_2006', 'model_2007', 'model_2008', 'model_2009', 'model_2010', 'model_2011', 'model_2012', 'model_2013', 'model_2014', 'model_2015', 'model_2016'])"
     },
     "execution_count": 97,
     "metadata": {},
     "output_type": "execute_result"
    }
   ],
   "source": [
    "cade_models.keys()"
   ],
   "metadata": {
    "collapsed": false
   }
  },
  {
   "cell_type": "markdown",
   "source": [
    "#### Testset 1"
   ],
   "metadata": {
    "collapsed": false
   }
  },
  {
   "cell_type": "code",
   "execution_count": 98,
   "outputs": [],
   "source": [
    "test_case_dict_1 = dict()\n",
    "counter = 0"
   ],
   "metadata": {
    "collapsed": false
   }
  },
  {
   "cell_type": "code",
   "execution_count": 99,
   "outputs": [
    {
     "data": {
      "text/plain": "499"
     },
     "execution_count": 99,
     "metadata": {},
     "output_type": "execute_result"
    }
   ],
   "source": [
    "len(test_cases_1)"
   ],
   "metadata": {
    "collapsed": false
   }
  },
  {
   "cell_type": "code",
   "execution_count": 100,
   "outputs": [
    {
     "name": "stdout",
     "output_type": "stream",
     "text": [
      "2\n"
     ]
    }
   ],
   "source": [
    "for test_case in test_cases_1:\n",
    "    word, year = test_case.split(\"-\")\n",
    "    ground_model = cade_models[f\"model_{year}\"]\n",
    "    if word in ground_model.wv.vocab:\n",
    "        test_case_dict_1[test_case] = ground_model.wv.get_vector(word)\n",
    "    else:\n",
    "        counter = counter + 1\n",
    "print(counter)"
   ],
   "metadata": {
    "collapsed": false
   }
  },
  {
   "cell_type": "code",
   "execution_count": 101,
   "outputs": [],
   "source": [
    "cade_model = cade_models[next(iter(cade_models))]"
   ],
   "metadata": {
    "collapsed": false
   }
  },
  {
   "cell_type": "code",
   "execution_count": 102,
   "outputs": [],
   "source": [
    "def get_similarities_of_model(model, test_word, top_n = 10):\n",
    "    # Compute cosine similarity between specified embedding and all embeddings in the model\n",
    "    test_word_embedding = test_word[1]\n",
    "    test_word_key = test_word[0]\n",
    "    word_similarities = dict()\n",
    "    for reference_word in model.wv.vocab:\n",
    "        reference_word_embedding = model.wv[reference_word]\n",
    "        similarity = 1 - spatial.distance.cosine(test_word_embedding, reference_word_embedding)\n",
    "        word_similarities[reference_word] = similarity\n",
    "\n",
    "    # Sort words by similarity\n",
    "    sorted_similarities = sorted(word_similarities.items(), key=lambda item: item[1], reverse=True)\n",
    "\n",
    "    # Get top_n similar words\n",
    "    return sorted_similarities[:top_n]"
   ],
   "metadata": {
    "collapsed": false
   }
  },
  {
   "cell_type": "code",
   "execution_count": 103,
   "outputs": [],
   "source": [
    "def get_similarities_of_models(model_dict: dict, test_word_dict: dict):\n",
    "    similarities = dict()\n",
    "    for test_word in tqdm(test_word_dict.items()):\n",
    "        similarities[test_word[0]] = dict()\n",
    "        for model in model_dict.items():\n",
    "            similarities[test_word[0]][model[0].split(\"_\")[1]] = get_similarities_of_model(model[1], test_word)\n",
    "    return similarities"
   ],
   "metadata": {
    "collapsed": false
   }
  },
  {
   "cell_type": "code",
   "execution_count": 104,
   "outputs": [],
   "source": [
    "'''\n",
    "# Takes long to execute\n",
    "cade_similarities = get_similarities_of_models(cade_models, test_case_dict_1)\n",
    "with open(path_to_test_data / 'cade_t1.json', 'w') as f:\n",
    "    json.dump( cade_similarities, f, indent=4)''';"
   ],
   "metadata": {
    "collapsed": false
   }
  },
  {
   "cell_type": "code",
   "execution_count": 105,
   "outputs": [],
   "source": [
    "with open(path_to_test_data / 'cade_t1.json', 'r') as json_file:\n",
    "    cade_similarities = json.load(json_file)"
   ],
   "metadata": {
    "collapsed": false
   }
  },
  {
   "cell_type": "code",
   "execution_count": 141,
   "outputs": [],
   "source": [
    "first_key = next(iter(cade_similarities))\n",
    "first = cade_similarities[next(iter(cade_similarities))]"
   ],
   "metadata": {
    "collapsed": false
   }
  },
  {
   "cell_type": "code",
   "execution_count": 142,
   "outputs": [
    {
     "data": {
      "text/plain": "'bush-1990'"
     },
     "execution_count": 142,
     "metadata": {},
     "output_type": "execute_result"
    }
   ],
   "source": [
    "first_key"
   ],
   "metadata": {
    "collapsed": false
   }
  },
  {
   "cell_type": "code",
   "execution_count": 143,
   "outputs": [
    {
     "data": {
      "text/plain": "{'1990': [['bush', 1],\n  ['bushs', 0.866192638874054],\n  ['gorbachev', 0.8211690783500671],\n  ['lithuania', 0.7609381079673767],\n  ['conservatives', 0.7489315867424011],\n  ['hussein', 0.7443727254867554],\n  ['shamir', 0.734448254108429],\n  ['gorbachevs', 0.7306549549102783],\n  ['stalemate', 0.7097168564796448],\n  ['husseins', 0.7055761814117432]],\n '1991': [['bush', 0.948120653629303],\n  ['bushs', 0.8322234153747559],\n  ['sununu', 0.8044367432594299],\n  ['gorbachev', 0.7639114856719971],\n  ['gorbachevs', 0.760785698890686],\n  ['hosni', 0.7602129578590393],\n  ['mubarak', 0.7572333812713623],\n  ['baker', 0.75714510679245],\n  ['kemp', 0.7527531385421753],\n  ['yeltsin', 0.7031477689743042]],\n '1992': [['bush', 0.9445867538452148],\n  ['bushs', 0.8651612401008606],\n  ['clinton', 0.7914848327636719],\n  ['yeltsin', 0.7668893933296204],\n  ['clintons', 0.7362542748451233],\n  ['reelected', 0.7336463928222656],\n  ['perot', 0.7271304130554199],\n  ['mubarak', 0.7240527272224426],\n  ['aides', 0.7186276912689209],\n  ['courtship', 0.7106348276138306]],\n '1993': [['clinton', 0.9312871694564819],\n  ['bush', 0.8303619027137756],\n  ['clintons', 0.8159435391426086],\n  ['yeltsin', 0.8084862232208252],\n  ['bushs', 0.7448374032974243],\n  ['gore', 0.734764575958252],\n  ['yeltsins', 0.7345187664031982],\n  ['lawmakers', 0.7064996957778931],\n  ['pledge', 0.7035197019577026],\n  ['arafat', 0.6979948878288269]],\n '1994': [['clinton', 0.9207460880279541],\n  ['bush', 0.7951658964157104],\n  ['yeltsin', 0.7790224552154541],\n  ['milosevic', 0.7497968673706055],\n  ['reagan', 0.7380390167236328],\n  ['clintons', 0.7356705069541931],\n  ['yeltsins', 0.7277669906616211],\n  ['romney', 0.7213423848152161],\n  ['mobutu', 0.717382550239563],\n  ['rowland', 0.7149838209152222]],\n '1995': [['clinton', 0.9388715028762817],\n  ['clintons', 0.8166330456733704],\n  ['yeltsin', 0.8101651072502136],\n  ['veto', 0.7898672223091125],\n  ['gingrich', 0.7727323174476624],\n  ['dole', 0.7675624489784241],\n  ['perot', 0.7436712384223938],\n  ['gingrichs', 0.7428078055381775],\n  ['milosevic', 0.7305166721343994],\n  ['bush', 0.7160763144493103]],\n '1996': [['clinton', 0.8790947198867798],\n  ['yeltsin', 0.853015124797821],\n  ['yeltsins', 0.768021285533905],\n  ['clintons', 0.7668575644493103],\n  ['mubarak', 0.7603861689567566],\n  ['dole', 0.7501471042633057],\n  ['netanyahu', 0.7450718879699707],\n  ['ernesto', 0.7277493476867676],\n  ['candidacy', 0.7274243235588074],\n  ['peres', 0.7137749195098877]],\n '1997': [['clinton', 0.8846144676208496],\n  ['gore', 0.7864860892295837],\n  ['clintons', 0.7570804953575134],\n  ['jiang', 0.7348266839981079],\n  ['gingrich', 0.7202381491661072],\n  ['yeltsin', 0.7070748209953308],\n  ['concessions', 0.7033240795135498],\n  ['bipartisan', 0.6990619897842407],\n  ['apology', 0.6960182189941406],\n  ['milosevic', 0.6803407669067383]],\n '1998': [['clinton', 0.8190107941627502],\n  ['yeltsin', 0.7597770094871521],\n  ['annan', 0.7369959354400635],\n  ['gingrich', 0.7366824746131897],\n  ['clintons', 0.7268805503845215],\n  ['gingrichs', 0.7206107974052429],\n  ['bush', 0.7055656909942627],\n  ['netanyahu', 0.6937452554702759],\n  ['compromise', 0.6911075711250305],\n  ['hussein', 0.6813720464706421]],\n '1999': [['clinton', 0.8542473912239075],\n  ['gore', 0.786644697189331],\n  ['jiang', 0.7684614062309265],\n  ['clintons', 0.75117427110672],\n  ['milosevic', 0.7314196228981018],\n  ['bushs', 0.7208417057991028],\n  ['quayle', 0.719782829284668],\n  ['bush', 0.714616596698761],\n  ['yeltsin', 0.7102580070495605],\n  ['gores', 0.7044141292572021]],\n '2000': [['clinton', 0.8430954217910767],\n  ['bush', 0.7999154329299927],\n  ['gore', 0.7944010496139526],\n  ['clintons', 0.7764118909835815],\n  ['putin', 0.7483077645301819],\n  ['bushs', 0.7266854047775269],\n  ['gores', 0.7218851447105408],\n  ['barak', 0.7196117043495178],\n  ['bradley', 0.7094841003417969],\n  ['mccain', 0.7002176642417908]],\n '2001': [['bush', 0.9371134042739868],\n  ['bushs', 0.8613898754119873],\n  ['rumsfeld', 0.8060389757156372],\n  ['clinton', 0.7950712442398071],\n  ['jiang', 0.7855191826820374],\n  ['putin', 0.774149477481842],\n  ['fleischer', 0.7506261467933655],\n  ['mccain', 0.7192003130912781],\n  ['pataki', 0.715099036693573],\n  ['hussein', 0.7146933078765869]],\n '2002': [['bush', 0.9519178867340088],\n  ['bushs', 0.8780479431152344],\n  ['chvez', 0.8625660538673401],\n  ['mubarak', 0.7616592645645142],\n  ['fleischer', 0.7485463619232178],\n  ['chirac', 0.7310493588447571],\n  ['musharraf', 0.7230362296104431],\n  ['ouster', 0.7160519957542419],\n  ['arafat', 0.7145393490791321],\n  ['cheney', 0.7036094069480896]],\n '2003': [['bush', 0.9455066323280334],\n  ['bushs', 0.8420149087905884],\n  ['bluntly', 0.7381094694137573],\n  ['powell', 0.7148681282997131],\n  ['rumsfeld', 0.7105639576911926],\n  ['chvez', 0.6972800493240356],\n  ['pataki', 0.6904670000076294],\n  ['kerry', 0.6876351833343506],\n  ['gephardt', 0.6838074326515198],\n  ['allies', 0.6759749054908752]],\n '2004': [['bush', 0.928915798664093],\n  ['bushs', 0.7966126203536987],\n  ['kerry', 0.7637223601341248],\n  ['cheney', 0.725164532661438],\n  ['kerrys', 0.7213141918182373],\n  ['chvez', 0.7184540033340454],\n  ['candidacy', 0.7064411640167236],\n  ['pledge', 0.6974602341651917],\n  ['reagan', 0.6751077175140381],\n  ['rumsfeld', 0.6719875335693359]],\n '2005': [['bush', 0.9460586905479431],\n  ['bushs', 0.8529431223869324],\n  ['syrias', 0.7559011578559875],\n  ['hu', 0.7520532608032227],\n  ['alassad', 0.7431162595748901],\n  ['abbas', 0.7392468452453613],\n  ['constituents', 0.7379649877548218],\n  ['bashar', 0.7361201643943787],\n  ['blair', 0.7238979339599609],\n  ['blairs', 0.7139206528663635]],\n '2006': [['bush', 0.8681569695472717],\n  ['bushs', 0.7732503414154053],\n  ['criticism', 0.7290318012237549],\n  ['abbas', 0.7138871550559998],\n  ['corzine', 0.7055178284645081],\n  ['spencer', 0.6888731718063354],\n  ['cheney', 0.6838105916976929],\n  ['webb', 0.681750476360321],\n  ['election', 0.6786506175994873],\n  ['suozzi', 0.6641109585762024]],\n '2007': [['bush', 0.8989852070808411],\n  ['obama', 0.8221457004547119],\n  ['ahmadinejad', 0.8131780028343201],\n  ['bushs', 0.8115912675857544],\n  ['mccain', 0.8033773303031921],\n  ['clinton', 0.7738354802131653],\n  ['romney', 0.7720286250114441],\n  ['edwards', 0.7579010128974915],\n  ['mccains', 0.7568188905715942],\n  ['putin', 0.7446193099021912]],\n '2008': [['obama', 0.8186348080635071],\n  ['bush', 0.8090670108795166],\n  ['mccain', 0.8016802072525024],\n  ['mccains', 0.7804271578788757],\n  ['presidentelect', 0.7544313669204712],\n  ['ahmadinejad', 0.7434179782867432],\n  ['bushs', 0.7425340414047241],\n  ['obamas', 0.7361195087432861],\n  ['musharraf', 0.7353572845458984],\n  ['surge', 0.7107258439064026]],\n '2009': [['obama', 0.9051617980003357],\n  ['clinton', 0.841151237487793],\n  ['bush', 0.817613959312439],\n  ['obamas', 0.7842427492141724],\n  ['outgoing', 0.7534849643707275],\n  ['bushs', 0.7356911897659302],\n  ['clintons', 0.7316253781318665],\n  ['presidentelect', 0.6944944858551025],\n  ['medvedev', 0.6904539465904236],\n  ['remarks', 0.6828299760818481]],\n '2010': [['obama', 0.9422307014465332],\n  ['obamas', 0.8818833231925964],\n  ['karzai', 0.7830761671066284],\n  ['clinton', 0.7739994525909424],\n  ['chvez', 0.7517008185386658],\n  ['ahmadinejad', 0.7443678379058838],\n  ['medvedev', 0.7373772859573364],\n  ['bush', 0.732611358165741],\n  ['clintons', 0.7071915864944458],\n  ['gingrich', 0.7018843293190002]],\n '2011': [['obama', 0.9354138970375061],\n  ['obamas', 0.8265235424041748],\n  ['assad', 0.7407543659210205],\n  ['karzai', 0.7355639934539795],\n  ['romney', 0.7309984564781189],\n  ['advisers', 0.7281495332717896],\n  ['mubarak', 0.7268018126487732],\n  ['gingrich', 0.7259521484375],\n  ['mcconnell', 0.7223920822143555],\n  ['bushs', 0.7198325991630554]],\n '2012': [['obama', 0.8998898863792419],\n  ['obamas', 0.8117126226425171],\n  ['morsi', 0.8069139122962952],\n  ['karzai', 0.7649503946304321],\n  ['romney', 0.7621932625770569],\n  ['putin', 0.7416254878044128],\n  ['romneys', 0.7344574332237244],\n  ['ahmadinejad', 0.7313159108161926],\n  ['putins', 0.7306291460990906],\n  ['gingrichs', 0.7287943363189697]],\n '2013': [['obama', 0.9624760746955872],\n  ['obamas', 0.8462404012680054],\n  ['karzai', 0.8090038299560547],\n  ['kerry', 0.7768118977546692],\n  ['ahmadinejad', 0.7515767216682434],\n  ['xi', 0.7482821345329285],\n  ['boehner', 0.7405255436897278],\n  ['hollande', 0.7142232060432434],\n  ['morsi', 0.7120386362075806],\n  ['alassad', 0.7112186551094055]],\n '2014': [['obama', 0.9429222941398621],\n  ['obamas', 0.8323078155517578],\n  ['xi', 0.817399799823761],\n  ['maliki', 0.7638111114501953],\n  ['kerrys', 0.7444440722465515],\n  ['kerry', 0.7411719560623169],\n  ['clintons', 0.7332884073257446],\n  ['bush', 0.7315329313278198],\n  ['kleins', 0.7145468592643738],\n  ['karzai', 0.7133269906044006]],\n '2015': [['obama', 0.9367241263389587],\n  ['obamas', 0.8535053730010986],\n  ['netanyahu', 0.834839403629303],\n  ['bush', 0.7969987392425537],\n  ['boehner', 0.7732219696044922],\n  ['clinton', 0.7700546383857727],\n  ['kerry', 0.7625065445899963],\n  ['bushs', 0.7499929070472717],\n  ['iran', 0.7440107464790344],\n  ['clintons', 0.7206642031669617]],\n '2016': [['obama', 0.8921812176704407],\n  ['obamas', 0.8287585377693176],\n  ['clinton', 0.79658043384552],\n  ['bush', 0.7832072377204895],\n  ['abe', 0.742868185043335],\n  ['declaring', 0.7349752187728882],\n  ['romneys', 0.7212070226669312],\n  ['bushs', 0.6968479156494141],\n  ['ryans', 0.6945921182632446],\n  ['trump', 0.6933043599128723]]}"
     },
     "execution_count": 143,
     "metadata": {},
     "output_type": "execute_result"
    }
   ],
   "source": [
    "first"
   ],
   "metadata": {
    "collapsed": false
   }
  },
  {
   "cell_type": "code",
   "execution_count": 107,
   "outputs": [
    {
     "name": "stdout",
     "output_type": "stream",
     "text": [
      "bush-1990\n",
      "{'1990': [['bush', 1], ['bushs', 0.866192638874054], ['gorbachev', 0.8211690783500671], ['lithuania', 0.7609381079673767], ['conservatives', 0.7489315867424011], ['hussein', 0.7443727254867554], ['shamir', 0.734448254108429], ['gorbachevs', 0.7306549549102783], ['stalemate', 0.7097168564796448], ['husseins', 0.7055761814117432]], '1991': [['bush', 0.948120653629303], ['bushs', 0.8322234153747559], ['sununu', 0.8044367432594299], ['gorbachev', 0.7639114856719971], ['gorbachevs', 0.760785698890686], ['hosni', 0.7602129578590393], ['mubarak', 0.7572333812713623], ['baker', 0.75714510679245], ['kemp', 0.7527531385421753], ['yeltsin', 0.7031477689743042]], '1992': [['bush', 0.9445867538452148], ['bushs', 0.8651612401008606], ['clinton', 0.7914848327636719], ['yeltsin', 0.7668893933296204], ['clintons', 0.7362542748451233], ['reelected', 0.7336463928222656], ['perot', 0.7271304130554199], ['mubarak', 0.7240527272224426], ['aides', 0.7186276912689209], ['courtship', 0.7106348276138306]], '1993': [['clinton', 0.9312871694564819], ['bush', 0.8303619027137756], ['clintons', 0.8159435391426086], ['yeltsin', 0.8084862232208252], ['bushs', 0.7448374032974243], ['gore', 0.734764575958252], ['yeltsins', 0.7345187664031982], ['lawmakers', 0.7064996957778931], ['pledge', 0.7035197019577026], ['arafat', 0.6979948878288269]], '1994': [['clinton', 0.9207460880279541], ['bush', 0.7951658964157104], ['yeltsin', 0.7790224552154541], ['milosevic', 0.7497968673706055], ['reagan', 0.7380390167236328], ['clintons', 0.7356705069541931], ['yeltsins', 0.7277669906616211], ['romney', 0.7213423848152161], ['mobutu', 0.717382550239563], ['rowland', 0.7149838209152222]], '1995': [['clinton', 0.9388715028762817], ['clintons', 0.8166330456733704], ['yeltsin', 0.8101651072502136], ['veto', 0.7898672223091125], ['gingrich', 0.7727323174476624], ['dole', 0.7675624489784241], ['perot', 0.7436712384223938], ['gingrichs', 0.7428078055381775], ['milosevic', 0.7305166721343994], ['bush', 0.7160763144493103]], '1996': [['clinton', 0.8790947198867798], ['yeltsin', 0.853015124797821], ['yeltsins', 0.768021285533905], ['clintons', 0.7668575644493103], ['mubarak', 0.7603861689567566], ['dole', 0.7501471042633057], ['netanyahu', 0.7450718879699707], ['ernesto', 0.7277493476867676], ['candidacy', 0.7274243235588074], ['peres', 0.7137749195098877]], '1997': [['clinton', 0.8846144676208496], ['gore', 0.7864860892295837], ['clintons', 0.7570804953575134], ['jiang', 0.7348266839981079], ['gingrich', 0.7202381491661072], ['yeltsin', 0.7070748209953308], ['concessions', 0.7033240795135498], ['bipartisan', 0.6990619897842407], ['apology', 0.6960182189941406], ['milosevic', 0.6803407669067383]], '1998': [['clinton', 0.8190107941627502], ['yeltsin', 0.7597770094871521], ['annan', 0.7369959354400635], ['gingrich', 0.7366824746131897], ['clintons', 0.7268805503845215], ['gingrichs', 0.7206107974052429], ['bush', 0.7055656909942627], ['netanyahu', 0.6937452554702759], ['compromise', 0.6911075711250305], ['hussein', 0.6813720464706421]], '1999': [['clinton', 0.8542473912239075], ['gore', 0.786644697189331], ['jiang', 0.7684614062309265], ['clintons', 0.75117427110672], ['milosevic', 0.7314196228981018], ['bushs', 0.7208417057991028], ['quayle', 0.719782829284668], ['bush', 0.714616596698761], ['yeltsin', 0.7102580070495605], ['gores', 0.7044141292572021]], '2000': [['clinton', 0.8430954217910767], ['bush', 0.7999154329299927], ['gore', 0.7944010496139526], ['clintons', 0.7764118909835815], ['putin', 0.7483077645301819], ['bushs', 0.7266854047775269], ['gores', 0.7218851447105408], ['barak', 0.7196117043495178], ['bradley', 0.7094841003417969], ['mccain', 0.7002176642417908]], '2001': [['bush', 0.9371134042739868], ['bushs', 0.8613898754119873], ['rumsfeld', 0.8060389757156372], ['clinton', 0.7950712442398071], ['jiang', 0.7855191826820374], ['putin', 0.774149477481842], ['fleischer', 0.7506261467933655], ['mccain', 0.7192003130912781], ['pataki', 0.715099036693573], ['hussein', 0.7146933078765869]], '2002': [['bush', 0.9519178867340088], ['bushs', 0.8780479431152344], ['chvez', 0.8625660538673401], ['mubarak', 0.7616592645645142], ['fleischer', 0.7485463619232178], ['chirac', 0.7310493588447571], ['musharraf', 0.7230362296104431], ['ouster', 0.7160519957542419], ['arafat', 0.7145393490791321], ['cheney', 0.7036094069480896]], '2003': [['bush', 0.9455066323280334], ['bushs', 0.8420149087905884], ['bluntly', 0.7381094694137573], ['powell', 0.7148681282997131], ['rumsfeld', 0.7105639576911926], ['chvez', 0.6972800493240356], ['pataki', 0.6904670000076294], ['kerry', 0.6876351833343506], ['gephardt', 0.6838074326515198], ['allies', 0.6759749054908752]], '2004': [['bush', 0.928915798664093], ['bushs', 0.7966126203536987], ['kerry', 0.7637223601341248], ['cheney', 0.725164532661438], ['kerrys', 0.7213141918182373], ['chvez', 0.7184540033340454], ['candidacy', 0.7064411640167236], ['pledge', 0.6974602341651917], ['reagan', 0.6751077175140381], ['rumsfeld', 0.6719875335693359]], '2005': [['bush', 0.9460586905479431], ['bushs', 0.8529431223869324], ['syrias', 0.7559011578559875], ['hu', 0.7520532608032227], ['alassad', 0.7431162595748901], ['abbas', 0.7392468452453613], ['constituents', 0.7379649877548218], ['bashar', 0.7361201643943787], ['blair', 0.7238979339599609], ['blairs', 0.7139206528663635]], '2006': [['bush', 0.8681569695472717], ['bushs', 0.7732503414154053], ['criticism', 0.7290318012237549], ['abbas', 0.7138871550559998], ['corzine', 0.7055178284645081], ['spencer', 0.6888731718063354], ['cheney', 0.6838105916976929], ['webb', 0.681750476360321], ['election', 0.6786506175994873], ['suozzi', 0.6641109585762024]], '2007': [['bush', 0.8989852070808411], ['obama', 0.8221457004547119], ['ahmadinejad', 0.8131780028343201], ['bushs', 0.8115912675857544], ['mccain', 0.8033773303031921], ['clinton', 0.7738354802131653], ['romney', 0.7720286250114441], ['edwards', 0.7579010128974915], ['mccains', 0.7568188905715942], ['putin', 0.7446193099021912]], '2008': [['obama', 0.8186348080635071], ['bush', 0.8090670108795166], ['mccain', 0.8016802072525024], ['mccains', 0.7804271578788757], ['presidentelect', 0.7544313669204712], ['ahmadinejad', 0.7434179782867432], ['bushs', 0.7425340414047241], ['obamas', 0.7361195087432861], ['musharraf', 0.7353572845458984], ['surge', 0.7107258439064026]], '2009': [['obama', 0.9051617980003357], ['clinton', 0.841151237487793], ['bush', 0.817613959312439], ['obamas', 0.7842427492141724], ['outgoing', 0.7534849643707275], ['bushs', 0.7356911897659302], ['clintons', 0.7316253781318665], ['presidentelect', 0.6944944858551025], ['medvedev', 0.6904539465904236], ['remarks', 0.6828299760818481]], '2010': [['obama', 0.9422307014465332], ['obamas', 0.8818833231925964], ['karzai', 0.7830761671066284], ['clinton', 0.7739994525909424], ['chvez', 0.7517008185386658], ['ahmadinejad', 0.7443678379058838], ['medvedev', 0.7373772859573364], ['bush', 0.732611358165741], ['clintons', 0.7071915864944458], ['gingrich', 0.7018843293190002]], '2011': [['obama', 0.9354138970375061], ['obamas', 0.8265235424041748], ['assad', 0.7407543659210205], ['karzai', 0.7355639934539795], ['romney', 0.7309984564781189], ['advisers', 0.7281495332717896], ['mubarak', 0.7268018126487732], ['gingrich', 0.7259521484375], ['mcconnell', 0.7223920822143555], ['bushs', 0.7198325991630554]], '2012': [['obama', 0.8998898863792419], ['obamas', 0.8117126226425171], ['morsi', 0.8069139122962952], ['karzai', 0.7649503946304321], ['romney', 0.7621932625770569], ['putin', 0.7416254878044128], ['romneys', 0.7344574332237244], ['ahmadinejad', 0.7313159108161926], ['putins', 0.7306291460990906], ['gingrichs', 0.7287943363189697]], '2013': [['obama', 0.9624760746955872], ['obamas', 0.8462404012680054], ['karzai', 0.8090038299560547], ['kerry', 0.7768118977546692], ['ahmadinejad', 0.7515767216682434], ['xi', 0.7482821345329285], ['boehner', 0.7405255436897278], ['hollande', 0.7142232060432434], ['morsi', 0.7120386362075806], ['alassad', 0.7112186551094055]], '2014': [['obama', 0.9429222941398621], ['obamas', 0.8323078155517578], ['xi', 0.817399799823761], ['maliki', 0.7638111114501953], ['kerrys', 0.7444440722465515], ['kerry', 0.7411719560623169], ['clintons', 0.7332884073257446], ['bush', 0.7315329313278198], ['kleins', 0.7145468592643738], ['karzai', 0.7133269906044006]], '2015': [['obama', 0.9367241263389587], ['obamas', 0.8535053730010986], ['netanyahu', 0.834839403629303], ['bush', 0.7969987392425537], ['boehner', 0.7732219696044922], ['clinton', 0.7700546383857727], ['kerry', 0.7625065445899963], ['bushs', 0.7499929070472717], ['iran', 0.7440107464790344], ['clintons', 0.7206642031669617]], '2016': [['obama', 0.8921812176704407], ['obamas', 0.8287585377693176], ['clinton', 0.79658043384552], ['bush', 0.7832072377204895], ['abe', 0.742868185043335], ['declaring', 0.7349752187728882], ['romneys', 0.7212070226669312], ['bushs', 0.6968479156494141], ['ryans', 0.6945921182632446], ['trump', 0.6933043599128723]]}\n"
     ]
    }
   ],
   "source": [
    "for key, value in cade_similarities.items():\n",
    "    print(key)\n",
    "    print(value)\n",
    "    break"
   ],
   "metadata": {
    "collapsed": false
   }
  },
  {
   "cell_type": "code",
   "execution_count": 108,
   "outputs": [],
   "source": [
    "first;"
   ],
   "metadata": {
    "collapsed": false
   }
  },
  {
   "cell_type": "markdown",
   "source": [
    "### TPPMI"
   ],
   "metadata": {
    "collapsed": false
   }
  },
  {
   "cell_type": "code",
   "execution_count": 109,
   "outputs": [],
   "source": [
    "ppmi_data_files = sorted(glob(str(path_to_tppmi_model  / \"*.npz\")))\n",
    "words_files = sorted(glob(str(path_to_tppmi_model  / \"*.pkl\")))"
   ],
   "metadata": {
    "collapsed": false
   }
  },
  {
   "cell_type": "markdown",
   "source": [
    "Split context-words from timestamped-vocabularies"
   ],
   "metadata": {
    "collapsed": false
   }
  },
  {
   "cell_type": "code",
   "execution_count": 110,
   "outputs": [],
   "source": [
    "context_words_file = [path for path in words_files if \"context-words\" in path]\n",
    "ppmi_vocab_files = [path for path in words_files if \"context-words\" not in path]"
   ],
   "metadata": {
    "collapsed": false
   }
  },
  {
   "cell_type": "code",
   "execution_count": 111,
   "outputs": [],
   "source": [
    "# Get ppmi-matrices and vocab\n",
    "ppmi_matrices = {}\n",
    "\n",
    "for filenames in zip(ppmi_vocab_files, ppmi_data_files):\n",
    "    ppmi_matrix = sp.load_npz(filenames[1])\n",
    "    with open(filenames[0], \"rb\") as f:\n",
    "        vocab = pickle.load(f)\n",
    "    key = filenames[0].split(\"ppmi-\")[2][0:4]\n",
    "    ppmi_matrices[key] = {\"ppmi_matrix\" : ppmi_matrix, \"vocab\": vocab}\n",
    "\n",
    "# Get common context-words\n",
    "with open(context_words_file[0], \"rb\") as f:\n",
    "    context_words = pickle.load(f)"
   ],
   "metadata": {
    "collapsed": false
   }
  },
  {
   "cell_type": "code",
   "execution_count": 112,
   "outputs": [
    {
     "data": {
      "text/plain": "dict_keys(['1990', '1991', '1992', '1993', '1994', '1995', '1996', '1997', '1998', '1999', '2000', '2001', '2002', '2003', '2004', '2005', '2006', '2007', '2008', '2009', '2010', '2011', '2012', '2013', '2014', '2015', '2016'])"
     },
     "execution_count": 112,
     "metadata": {},
     "output_type": "execute_result"
    }
   ],
   "source": [
    "ppmi_matrices.keys()"
   ],
   "metadata": {
    "collapsed": false
   }
  },
  {
   "cell_type": "markdown",
   "source": [
    "Create ppmi_model objects"
   ],
   "metadata": {
    "collapsed": false
   }
  },
  {
   "cell_type": "code",
   "execution_count": 113,
   "outputs": [],
   "source": [
    "ppmi_models = {key: PPMIModel.construct_from_data(ppmi_data[\"ppmi_matrix\"], ppmi_data[\"vocab\"], context_words) for key, ppmi_data in ppmi_matrices.items()}"
   ],
   "metadata": {
    "collapsed": false
   }
  },
  {
   "cell_type": "code",
   "execution_count": 114,
   "outputs": [],
   "source": [
    "tppmi_model = TPPMIModel(ppmi_models, dates=\"years\")"
   ],
   "metadata": {
    "collapsed": false
   }
  },
  {
   "cell_type": "markdown",
   "source": [
    "# Evaluation Method"
   ],
   "metadata": {
    "collapsed": false
   }
  },
  {
   "cell_type": "markdown",
   "source": [
    "## MRR (Mean Reciprocal Rank)"
   ],
   "metadata": {
    "collapsed": false
   }
  },
  {
   "cell_type": "code",
   "execution_count": 115,
   "outputs": [],
   "source": [
    "def calculate_mrr_for_key(data_dict, key):\n",
    "    \"\"\"\n",
    "    Calculate the Mean Reciprocal Rank (MRR) for a given key in the data dictionary.\n",
    "\n",
    "    Parameters:\n",
    "    data_dict (dict): The dictionary containing years as keys and lists of word-score pairs as values.\n",
    "    key (str): The key in the dictionary to calculate MRR for. Assumes format 'word-year'.\n",
    "\n",
    "    Returns:\n",
    "    float: The MRR for the given key.\n",
    "    \"\"\"\n",
    "    test_word = key.split('-')[0]  # Assuming the \"test word\" is the part of the key before the hyphen\n",
    "    total_reciprocal_rank = 0\n",
    "    num_years = 0\n",
    "\n",
    "    for year, word_score_pairs in data_dict[key].items():\n",
    "        for rank, (word, score) in enumerate(word_score_pairs, start=1):\n",
    "            if word == test_word:\n",
    "                total_reciprocal_rank += 1.0 / rank\n",
    "                break  # Stop looking once the first instance of the test word is found\n",
    "        num_years += 1\n",
    "\n",
    "    # Calculate MRR\n",
    "    if num_years > 0:\n",
    "        return total_reciprocal_rank / num_years\n",
    "    else:\n",
    "        return 0.0  # Return 0 if there are no years/data to calculate MRR"
   ],
   "metadata": {
    "collapsed": false
   }
  },
  {
   "cell_type": "code",
   "execution_count": 116,
   "outputs": [
    {
     "name": "stdout",
     "output_type": "stream",
     "text": [
      "bush-1990\n"
     ]
    },
    {
     "data": {
      "text/plain": "{'1990': [['bush', 1],\n  ['bushs', 0.866192638874054],\n  ['gorbachev', 0.8211690783500671],\n  ['lithuania', 0.7609381079673767],\n  ['conservatives', 0.7489315867424011],\n  ['hussein', 0.7443727254867554],\n  ['shamir', 0.734448254108429],\n  ['gorbachevs', 0.7306549549102783],\n  ['stalemate', 0.7097168564796448],\n  ['husseins', 0.7055761814117432]],\n '1991': [['bush', 0.948120653629303],\n  ['bushs', 0.8322234153747559],\n  ['sununu', 0.8044367432594299],\n  ['gorbachev', 0.7639114856719971],\n  ['gorbachevs', 0.760785698890686],\n  ['hosni', 0.7602129578590393],\n  ['mubarak', 0.7572333812713623],\n  ['baker', 0.75714510679245],\n  ['kemp', 0.7527531385421753],\n  ['yeltsin', 0.7031477689743042]],\n '1992': [['bush', 0.9445867538452148],\n  ['bushs', 0.8651612401008606],\n  ['clinton', 0.7914848327636719],\n  ['yeltsin', 0.7668893933296204],\n  ['clintons', 0.7362542748451233],\n  ['reelected', 0.7336463928222656],\n  ['perot', 0.7271304130554199],\n  ['mubarak', 0.7240527272224426],\n  ['aides', 0.7186276912689209],\n  ['courtship', 0.7106348276138306]],\n '1993': [['clinton', 0.9312871694564819],\n  ['bush', 0.8303619027137756],\n  ['clintons', 0.8159435391426086],\n  ['yeltsin', 0.8084862232208252],\n  ['bushs', 0.7448374032974243],\n  ['gore', 0.734764575958252],\n  ['yeltsins', 0.7345187664031982],\n  ['lawmakers', 0.7064996957778931],\n  ['pledge', 0.7035197019577026],\n  ['arafat', 0.6979948878288269]],\n '1994': [['clinton', 0.9207460880279541],\n  ['bush', 0.7951658964157104],\n  ['yeltsin', 0.7790224552154541],\n  ['milosevic', 0.7497968673706055],\n  ['reagan', 0.7380390167236328],\n  ['clintons', 0.7356705069541931],\n  ['yeltsins', 0.7277669906616211],\n  ['romney', 0.7213423848152161],\n  ['mobutu', 0.717382550239563],\n  ['rowland', 0.7149838209152222]],\n '1995': [['clinton', 0.9388715028762817],\n  ['clintons', 0.8166330456733704],\n  ['yeltsin', 0.8101651072502136],\n  ['veto', 0.7898672223091125],\n  ['gingrich', 0.7727323174476624],\n  ['dole', 0.7675624489784241],\n  ['perot', 0.7436712384223938],\n  ['gingrichs', 0.7428078055381775],\n  ['milosevic', 0.7305166721343994],\n  ['bush', 0.7160763144493103]],\n '1996': [['clinton', 0.8790947198867798],\n  ['yeltsin', 0.853015124797821],\n  ['yeltsins', 0.768021285533905],\n  ['clintons', 0.7668575644493103],\n  ['mubarak', 0.7603861689567566],\n  ['dole', 0.7501471042633057],\n  ['netanyahu', 0.7450718879699707],\n  ['ernesto', 0.7277493476867676],\n  ['candidacy', 0.7274243235588074],\n  ['peres', 0.7137749195098877]],\n '1997': [['clinton', 0.8846144676208496],\n  ['gore', 0.7864860892295837],\n  ['clintons', 0.7570804953575134],\n  ['jiang', 0.7348266839981079],\n  ['gingrich', 0.7202381491661072],\n  ['yeltsin', 0.7070748209953308],\n  ['concessions', 0.7033240795135498],\n  ['bipartisan', 0.6990619897842407],\n  ['apology', 0.6960182189941406],\n  ['milosevic', 0.6803407669067383]],\n '1998': [['clinton', 0.8190107941627502],\n  ['yeltsin', 0.7597770094871521],\n  ['annan', 0.7369959354400635],\n  ['gingrich', 0.7366824746131897],\n  ['clintons', 0.7268805503845215],\n  ['gingrichs', 0.7206107974052429],\n  ['bush', 0.7055656909942627],\n  ['netanyahu', 0.6937452554702759],\n  ['compromise', 0.6911075711250305],\n  ['hussein', 0.6813720464706421]],\n '1999': [['clinton', 0.8542473912239075],\n  ['gore', 0.786644697189331],\n  ['jiang', 0.7684614062309265],\n  ['clintons', 0.75117427110672],\n  ['milosevic', 0.7314196228981018],\n  ['bushs', 0.7208417057991028],\n  ['quayle', 0.719782829284668],\n  ['bush', 0.714616596698761],\n  ['yeltsin', 0.7102580070495605],\n  ['gores', 0.7044141292572021]],\n '2000': [['clinton', 0.8430954217910767],\n  ['bush', 0.7999154329299927],\n  ['gore', 0.7944010496139526],\n  ['clintons', 0.7764118909835815],\n  ['putin', 0.7483077645301819],\n  ['bushs', 0.7266854047775269],\n  ['gores', 0.7218851447105408],\n  ['barak', 0.7196117043495178],\n  ['bradley', 0.7094841003417969],\n  ['mccain', 0.7002176642417908]],\n '2001': [['bush', 0.9371134042739868],\n  ['bushs', 0.8613898754119873],\n  ['rumsfeld', 0.8060389757156372],\n  ['clinton', 0.7950712442398071],\n  ['jiang', 0.7855191826820374],\n  ['putin', 0.774149477481842],\n  ['fleischer', 0.7506261467933655],\n  ['mccain', 0.7192003130912781],\n  ['pataki', 0.715099036693573],\n  ['hussein', 0.7146933078765869]],\n '2002': [['bush', 0.9519178867340088],\n  ['bushs', 0.8780479431152344],\n  ['chvez', 0.8625660538673401],\n  ['mubarak', 0.7616592645645142],\n  ['fleischer', 0.7485463619232178],\n  ['chirac', 0.7310493588447571],\n  ['musharraf', 0.7230362296104431],\n  ['ouster', 0.7160519957542419],\n  ['arafat', 0.7145393490791321],\n  ['cheney', 0.7036094069480896]],\n '2003': [['bush', 0.9455066323280334],\n  ['bushs', 0.8420149087905884],\n  ['bluntly', 0.7381094694137573],\n  ['powell', 0.7148681282997131],\n  ['rumsfeld', 0.7105639576911926],\n  ['chvez', 0.6972800493240356],\n  ['pataki', 0.6904670000076294],\n  ['kerry', 0.6876351833343506],\n  ['gephardt', 0.6838074326515198],\n  ['allies', 0.6759749054908752]],\n '2004': [['bush', 0.928915798664093],\n  ['bushs', 0.7966126203536987],\n  ['kerry', 0.7637223601341248],\n  ['cheney', 0.725164532661438],\n  ['kerrys', 0.7213141918182373],\n  ['chvez', 0.7184540033340454],\n  ['candidacy', 0.7064411640167236],\n  ['pledge', 0.6974602341651917],\n  ['reagan', 0.6751077175140381],\n  ['rumsfeld', 0.6719875335693359]],\n '2005': [['bush', 0.9460586905479431],\n  ['bushs', 0.8529431223869324],\n  ['syrias', 0.7559011578559875],\n  ['hu', 0.7520532608032227],\n  ['alassad', 0.7431162595748901],\n  ['abbas', 0.7392468452453613],\n  ['constituents', 0.7379649877548218],\n  ['bashar', 0.7361201643943787],\n  ['blair', 0.7238979339599609],\n  ['blairs', 0.7139206528663635]],\n '2006': [['bush', 0.8681569695472717],\n  ['bushs', 0.7732503414154053],\n  ['criticism', 0.7290318012237549],\n  ['abbas', 0.7138871550559998],\n  ['corzine', 0.7055178284645081],\n  ['spencer', 0.6888731718063354],\n  ['cheney', 0.6838105916976929],\n  ['webb', 0.681750476360321],\n  ['election', 0.6786506175994873],\n  ['suozzi', 0.6641109585762024]],\n '2007': [['bush', 0.8989852070808411],\n  ['obama', 0.8221457004547119],\n  ['ahmadinejad', 0.8131780028343201],\n  ['bushs', 0.8115912675857544],\n  ['mccain', 0.8033773303031921],\n  ['clinton', 0.7738354802131653],\n  ['romney', 0.7720286250114441],\n  ['edwards', 0.7579010128974915],\n  ['mccains', 0.7568188905715942],\n  ['putin', 0.7446193099021912]],\n '2008': [['obama', 0.8186348080635071],\n  ['bush', 0.8090670108795166],\n  ['mccain', 0.8016802072525024],\n  ['mccains', 0.7804271578788757],\n  ['presidentelect', 0.7544313669204712],\n  ['ahmadinejad', 0.7434179782867432],\n  ['bushs', 0.7425340414047241],\n  ['obamas', 0.7361195087432861],\n  ['musharraf', 0.7353572845458984],\n  ['surge', 0.7107258439064026]],\n '2009': [['obama', 0.9051617980003357],\n  ['clinton', 0.841151237487793],\n  ['bush', 0.817613959312439],\n  ['obamas', 0.7842427492141724],\n  ['outgoing', 0.7534849643707275],\n  ['bushs', 0.7356911897659302],\n  ['clintons', 0.7316253781318665],\n  ['presidentelect', 0.6944944858551025],\n  ['medvedev', 0.6904539465904236],\n  ['remarks', 0.6828299760818481]],\n '2010': [['obama', 0.9422307014465332],\n  ['obamas', 0.8818833231925964],\n  ['karzai', 0.7830761671066284],\n  ['clinton', 0.7739994525909424],\n  ['chvez', 0.7517008185386658],\n  ['ahmadinejad', 0.7443678379058838],\n  ['medvedev', 0.7373772859573364],\n  ['bush', 0.732611358165741],\n  ['clintons', 0.7071915864944458],\n  ['gingrich', 0.7018843293190002]],\n '2011': [['obama', 0.9354138970375061],\n  ['obamas', 0.8265235424041748],\n  ['assad', 0.7407543659210205],\n  ['karzai', 0.7355639934539795],\n  ['romney', 0.7309984564781189],\n  ['advisers', 0.7281495332717896],\n  ['mubarak', 0.7268018126487732],\n  ['gingrich', 0.7259521484375],\n  ['mcconnell', 0.7223920822143555],\n  ['bushs', 0.7198325991630554]],\n '2012': [['obama', 0.8998898863792419],\n  ['obamas', 0.8117126226425171],\n  ['morsi', 0.8069139122962952],\n  ['karzai', 0.7649503946304321],\n  ['romney', 0.7621932625770569],\n  ['putin', 0.7416254878044128],\n  ['romneys', 0.7344574332237244],\n  ['ahmadinejad', 0.7313159108161926],\n  ['putins', 0.7306291460990906],\n  ['gingrichs', 0.7287943363189697]],\n '2013': [['obama', 0.9624760746955872],\n  ['obamas', 0.8462404012680054],\n  ['karzai', 0.8090038299560547],\n  ['kerry', 0.7768118977546692],\n  ['ahmadinejad', 0.7515767216682434],\n  ['xi', 0.7482821345329285],\n  ['boehner', 0.7405255436897278],\n  ['hollande', 0.7142232060432434],\n  ['morsi', 0.7120386362075806],\n  ['alassad', 0.7112186551094055]],\n '2014': [['obama', 0.9429222941398621],\n  ['obamas', 0.8323078155517578],\n  ['xi', 0.817399799823761],\n  ['maliki', 0.7638111114501953],\n  ['kerrys', 0.7444440722465515],\n  ['kerry', 0.7411719560623169],\n  ['clintons', 0.7332884073257446],\n  ['bush', 0.7315329313278198],\n  ['kleins', 0.7145468592643738],\n  ['karzai', 0.7133269906044006]],\n '2015': [['obama', 0.9367241263389587],\n  ['obamas', 0.8535053730010986],\n  ['netanyahu', 0.834839403629303],\n  ['bush', 0.7969987392425537],\n  ['boehner', 0.7732219696044922],\n  ['clinton', 0.7700546383857727],\n  ['kerry', 0.7625065445899963],\n  ['bushs', 0.7499929070472717],\n  ['iran', 0.7440107464790344],\n  ['clintons', 0.7206642031669617]],\n '2016': [['obama', 0.8921812176704407],\n  ['obamas', 0.8287585377693176],\n  ['clinton', 0.79658043384552],\n  ['bush', 0.7832072377204895],\n  ['abe', 0.742868185043335],\n  ['declaring', 0.7349752187728882],\n  ['romneys', 0.7212070226669312],\n  ['bushs', 0.6968479156494141],\n  ['ryans', 0.6945921182632446],\n  ['trump', 0.6933043599128723]]}"
     },
     "execution_count": 116,
     "metadata": {},
     "output_type": "execute_result"
    }
   ],
   "source": [
    "first_key = \"bush-1990\"\n",
    "print(first_key)\n",
    "first"
   ],
   "metadata": {
    "collapsed": false
   }
  },
  {
   "cell_type": "code",
   "execution_count": 117,
   "outputs": [],
   "source": [
    "test_list = test_data_1[test_data_1.truth == \"bush-1990\"].copy()"
   ],
   "metadata": {
    "collapsed": false
   }
  },
  {
   "cell_type": "code",
   "execution_count": 118,
   "outputs": [],
   "source": [
    "test_list['year'] = test_list['equivalent'].apply(lambda x: int(x.split('-')[1]))  # Extract year and convert to int\n",
    "test_list = test_list.sort_values(by='year')  # Sort by the new 'year' column\n",
    "test_list = test_list.drop('year', axis=1)"
   ],
   "metadata": {
    "collapsed": false
   }
  },
  {
   "cell_type": "code",
   "execution_count": 119,
   "outputs": [
    {
     "data": {
      "text/plain": "        truth    equivalent\n0   bush-1990  clinton-1992\n1   bush-1990  clinton-1993\n2   bush-1990  clinton-1994\n3   bush-1990  clinton-1995\n4   bush-1990  clinton-1996\n5   bush-1990  clinton-1997\n6   bush-1990  clinton-1998\n7   bush-1990  clinton-1999\n8   bush-1990     bush-2000\n9   bush-1990     bush-2001\n10  bush-1990     bush-2002\n11  bush-1990     bush-2003\n12  bush-1990     bush-2004\n13  bush-1990     bush-2005\n14  bush-1990     bush-2006\n15  bush-1990     bush-2007\n16  bush-1990    obama-2008\n17  bush-1990    obama-2009\n18  bush-1990    obama-2010\n19  bush-1990    obama-2011\n20  bush-1990    obama-2012\n21  bush-1990    obama-2013\n22  bush-1990    obama-2014\n23  bush-1990    obama-2015\n24  bush-1990    obama-2016",
      "text/html": "<div>\n<style scoped>\n    .dataframe tbody tr th:only-of-type {\n        vertical-align: middle;\n    }\n\n    .dataframe tbody tr th {\n        vertical-align: top;\n    }\n\n    .dataframe thead th {\n        text-align: right;\n    }\n</style>\n<table border=\"1\" class=\"dataframe\">\n  <thead>\n    <tr style=\"text-align: right;\">\n      <th></th>\n      <th>truth</th>\n      <th>equivalent</th>\n    </tr>\n  </thead>\n  <tbody>\n    <tr>\n      <th>0</th>\n      <td>bush-1990</td>\n      <td>clinton-1992</td>\n    </tr>\n    <tr>\n      <th>1</th>\n      <td>bush-1990</td>\n      <td>clinton-1993</td>\n    </tr>\n    <tr>\n      <th>2</th>\n      <td>bush-1990</td>\n      <td>clinton-1994</td>\n    </tr>\n    <tr>\n      <th>3</th>\n      <td>bush-1990</td>\n      <td>clinton-1995</td>\n    </tr>\n    <tr>\n      <th>4</th>\n      <td>bush-1990</td>\n      <td>clinton-1996</td>\n    </tr>\n    <tr>\n      <th>5</th>\n      <td>bush-1990</td>\n      <td>clinton-1997</td>\n    </tr>\n    <tr>\n      <th>6</th>\n      <td>bush-1990</td>\n      <td>clinton-1998</td>\n    </tr>\n    <tr>\n      <th>7</th>\n      <td>bush-1990</td>\n      <td>clinton-1999</td>\n    </tr>\n    <tr>\n      <th>8</th>\n      <td>bush-1990</td>\n      <td>bush-2000</td>\n    </tr>\n    <tr>\n      <th>9</th>\n      <td>bush-1990</td>\n      <td>bush-2001</td>\n    </tr>\n    <tr>\n      <th>10</th>\n      <td>bush-1990</td>\n      <td>bush-2002</td>\n    </tr>\n    <tr>\n      <th>11</th>\n      <td>bush-1990</td>\n      <td>bush-2003</td>\n    </tr>\n    <tr>\n      <th>12</th>\n      <td>bush-1990</td>\n      <td>bush-2004</td>\n    </tr>\n    <tr>\n      <th>13</th>\n      <td>bush-1990</td>\n      <td>bush-2005</td>\n    </tr>\n    <tr>\n      <th>14</th>\n      <td>bush-1990</td>\n      <td>bush-2006</td>\n    </tr>\n    <tr>\n      <th>15</th>\n      <td>bush-1990</td>\n      <td>bush-2007</td>\n    </tr>\n    <tr>\n      <th>16</th>\n      <td>bush-1990</td>\n      <td>obama-2008</td>\n    </tr>\n    <tr>\n      <th>17</th>\n      <td>bush-1990</td>\n      <td>obama-2009</td>\n    </tr>\n    <tr>\n      <th>18</th>\n      <td>bush-1990</td>\n      <td>obama-2010</td>\n    </tr>\n    <tr>\n      <th>19</th>\n      <td>bush-1990</td>\n      <td>obama-2011</td>\n    </tr>\n    <tr>\n      <th>20</th>\n      <td>bush-1990</td>\n      <td>obama-2012</td>\n    </tr>\n    <tr>\n      <th>21</th>\n      <td>bush-1990</td>\n      <td>obama-2013</td>\n    </tr>\n    <tr>\n      <th>22</th>\n      <td>bush-1990</td>\n      <td>obama-2014</td>\n    </tr>\n    <tr>\n      <th>23</th>\n      <td>bush-1990</td>\n      <td>obama-2015</td>\n    </tr>\n    <tr>\n      <th>24</th>\n      <td>bush-1990</td>\n      <td>obama-2016</td>\n    </tr>\n  </tbody>\n</table>\n</div>"
     },
     "execution_count": 119,
     "metadata": {},
     "output_type": "execute_result"
    }
   ],
   "source": [
    "test_list"
   ],
   "metadata": {
    "collapsed": false
   }
  },
  {
   "cell_type": "code",
   "execution_count": null,
   "outputs": [],
   "source": [
    "first_key = next(iter(cade_similarities))\n",
    "first = cade_similarities[next(iter(cade_similarities))]"
   ],
   "metadata": {
    "collapsed": false
   }
  },
  {
   "cell_type": "code",
   "execution_count": 230,
   "outputs": [],
   "source": [
    "def calculate_rank_metric(similarities: dict, test_data: pd.DataFrame, metric = \"MRR\", k = 10) -> float:\n",
    "    ranks = []\n",
    "    for key, value in similarities.items():\n",
    "        rank = calculate_mean_rank(key, value, test_data, metric, k)\n",
    "\n",
    "        ranks.append(rank)\n",
    "\n",
    "    if ranks:  # Ensure division by 0 does not occur\n",
    "        mean_rank = sum(ranks) / len(ranks)\n",
    "    else:\n",
    "        mean_rank = 0\n",
    "\n",
    "    return mean_rank"
   ],
   "metadata": {
    "collapsed": false
   }
  },
  {
   "cell_type": "code",
   "execution_count": 231,
   "outputs": [],
   "source": [
    "def calculate_mean_rank(test_key: str, testcase: dict, test_data: pd.DataFrame, metric = \"MRR\", k = 10)-> float:\n",
    "\n",
    "    test_data_for_key = test_data[test_data[\"truth\"] == test_key]\n",
    "    ranks = []\n",
    "\n",
    "    for key, value in testcase.items():\n",
    "        test_data_for_year = test_data_for_key[test_data_for_key[\"equivalent\"].str.endswith(key)]\n",
    "        word_list = [item[0] for item in value]\n",
    "\n",
    "        if len(test_data_for_year) == 0:\n",
    "            continue  # Skip if no data for year, as there's nothing to rank\n",
    "\n",
    "        # Assuming calculate_reciprocal_rank returns the reciprocal rank of the first correct answer\n",
    "        target_word = test_data_for_year[\"equivalent\"].iloc[0].split(\"-\")[0]\n",
    "        if metric == \"MRR\":\n",
    "            rank = calculate_reciprocal_rank(word_list, target_word)\n",
    "        else:\n",
    "            rank = calculate_precision_at_k(word_list, target_word, k)\n",
    "\n",
    "        ranks.append(rank)\n",
    "\n",
    "    if ranks:  # Ensure division by 0 does not occur\n",
    "        mean_rank = sum(ranks) / len(ranks)\n",
    "    else:\n",
    "        mean_rank = 0\n",
    "\n",
    "    return mean_rank"
   ],
   "metadata": {
    "collapsed": false
   }
  },
  {
   "cell_type": "code",
   "execution_count": 232,
   "outputs": [],
   "source": [
    "def calculate_reciprocal_rank(test_list: list, test_word: str) -> float:\n",
    "    \"\"\"\n",
    "    Calculate the reciprocal rank for a given test word in a list of strings.\n",
    "\n",
    "    Parameters:\n",
    "    test_list (list of str): The list of strings to search through.\n",
    "    test_word (str): The correct answer to find in the test_list.\n",
    "    Returns:\n",
    "    float: The reciprocal rank of the test_word in test_list, or 0 if not found.\n",
    "    \"\"\"\n",
    "    try:\n",
    "        rank = test_list.index(test_word) + 1  # Adding 1 because index is 0-based and rank is 1-based\n",
    "        return 1.0 / rank\n",
    "    except ValueError:\n",
    "        return 0.0  # test_word not found in test_list"
   ],
   "metadata": {
    "collapsed": false
   }
  },
  {
   "cell_type": "code",
   "execution_count": 233,
   "outputs": [],
   "source": [
    "def calculate_precision_at_k(test_list: list, test_word: str, k: int) -> int:\n",
    "    \"\"\"\n",
    "    Calculate the precision at K for a given test word in a list of strings.\n",
    "\n",
    "    Parameters:\n",
    "    test_list (list of str): The list of strings to search through, assumed to be ordered by relevance.\n",
    "    test_word (str): The correct answer to find in the test_list.\n",
    "    k (int): The number of top items to consider for calculating precision.\n",
    "\n",
    "    Returns:\n",
    "    int: The precision at K for the test_word in test_list.\n",
    "         If the target word is among these K words, then the Precision@K for test i\n",
    "         (denoted P@K[i]) is 1; else, it is 0\n",
    "    \"\"\"\n",
    "    if k <= 0:\n",
    "        raise ValueError(\"k must be a positive integer\")\n",
    "\n",
    "    # Take the top K elements from the list\n",
    "    top_k = test_list[:k]\n",
    "\n",
    "    # Check if the test_word is within the top K elements\n",
    "    if test_word in top_k:\n",
    "        return 1\n",
    "    else:\n",
    "        return 0"
   ],
   "metadata": {
    "collapsed": false
   }
  },
  {
   "cell_type": "code",
   "execution_count": 240,
   "outputs": [
    {
     "data": {
      "text/plain": "0.24758672564744716"
     },
     "execution_count": 240,
     "metadata": {},
     "output_type": "execute_result"
    }
   ],
   "source": [
    "calculate_rank_metric(cade_similarities, test_data_1, metric=\"MP\", k=1)"
   ],
   "metadata": {
    "collapsed": false
   }
  },
  {
   "cell_type": "code",
   "execution_count": 238,
   "outputs": [
    {
     "name": "stdout",
     "output_type": "stream",
     "text": [
      "Key\n",
      "<class 'str'>\n",
      "1990\n",
      "value\n",
      "<class 'list'>\n",
      "['bush', 'bushs', 'gorbachev', 'lithuania', 'conservatives', 'hussein', 'shamir', 'gorbachevs', 'stalemate', 'husseins']\n",
      "0\n"
     ]
    }
   ],
   "source": [
    "for key, value in first.items():\n",
    "    print(\"Key\")\n",
    "    print(type(key))\n",
    "    print(key)\n",
    "    word_list = [item[0] for item in value]\n",
    "    print(\"value\")\n",
    "    print(type(word_list))\n",
    "    print(word_list)\n",
    "    print(calculate_precision_at_k(word_list, \"gorbachev\", k = 2))\n",
    "    break"
   ],
   "metadata": {
    "collapsed": false
   }
  },
  {
   "cell_type": "markdown",
   "source": [
    "# Experiment"
   ],
   "metadata": {
    "collapsed": false
   }
  },
  {
   "cell_type": "markdown",
   "source": [
    "To examine the quality of embedding alignment, we create a task to query equivalences across years.\n",
    "\n",
    "For example, given obama-2012, we want to query its equivalent word in 2002. As we know obama is the U.S. president in 2012; its equivalent in 2002 is bush, who was the U.S. president at that time. In this way, we create two testsets"
   ],
   "metadata": {
    "collapsed": false
   }
  },
  {
   "cell_type": "code",
   "execution_count": null,
   "outputs": [],
   "source": [
    "test_data_1.head()"
   ],
   "metadata": {
    "collapsed": false
   }
  },
  {
   "cell_type": "markdown",
   "source": [
    "# Scrapyard"
   ],
   "metadata": {
    "collapsed": false
   }
  },
  {
   "cell_type": "code",
   "execution_count": 201,
   "outputs": [],
   "source": [
    "def calculate_mean_reciprocal_rank_test(test_key: str, testcase: dict, test_data: pd.DataFrame):\n",
    "    print(test_key)\n",
    "    test_data_for_key = test_data[test_data[\"truth\"] == test_key]\n",
    "    print(\"test_data_for_key\")\n",
    "    print(f\"length: {len(test_data_for_key)}\")\n",
    "    print(test_data_for_key)\n",
    "    ranks = []\n",
    "    for key, value in testcase.items():\n",
    "        print(f\"Key: {key}\")\n",
    "        test_data_for_year = test_data_for_key[test_data_for_key[\"equivalent\"].str.endswith(key)]\n",
    "        word_list = [item[0] for item in value]\n",
    "        print(\"WORD-LIST\")\n",
    "        print(word_list)\n",
    "        if len(test_data_for_year) == 0:\n",
    "            print(\"CONTINUE\")\n",
    "            continue # this means that it is the same year as the word we want to test --> no need to calculate\n",
    "        print(\"test_data_for_year\")\n",
    "        print(test_data_for_year)\n",
    "        print(test_data_for_year[\"equivalent\"].iloc[0].split(\"-\")[0])\n",
    "        reciprocal_rank = calculate_reciprocal_rank(word_list, test_data_for_year[\"equivalent\"].iloc[0].split(\"-\")[0])\n",
    "        print(reciprocal_rank)\n",
    "        ranks.append(reciprocal_rank)\n",
    "\n",
    "    if ranks:  # Ensure division by zero does not occur\n",
    "        mrr = sum(ranks) / len(ranks)\n",
    "    else:\n",
    "        mrr = 0\n",
    "    return mrr"
   ],
   "metadata": {
    "collapsed": false
   }
  }
 ],
 "metadata": {
  "kernelspec": {
   "display_name": "Python 3",
   "language": "python",
   "name": "python3"
  },
  "language_info": {
   "codemirror_mode": {
    "name": "ipython",
    "version": 2
   },
   "file_extension": ".py",
   "mimetype": "text/x-python",
   "name": "python",
   "nbconvert_exporter": "python",
   "pygments_lexer": "ipython2",
   "version": "2.7.6"
  }
 },
 "nbformat": 4,
 "nbformat_minor": 0
}
