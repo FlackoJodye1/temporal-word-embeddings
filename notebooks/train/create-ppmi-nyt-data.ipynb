{
 "cells": [
  {
   "cell_type": "markdown",
   "source": [
    "# Creation of Sparse PPMI Embeddings for the NYT Dataset"
   ],
   "metadata": {
    "collapsed": false
   }
  },
  {
   "cell_type": "code",
   "execution_count": 2,
   "outputs": [],
   "source": [
    "import glob\n",
    "import pickle\n",
    "import pandas as pd\n",
    "from pathlib import Path\n",
    "from pprint import pprint\n",
    "from tqdm.notebook import tqdm\n",
    "\n",
    "import sys\n",
    "sys.path.append('../../')\n",
    "\n",
    "from src.packages.TPPMI.ppmi_model import PPMIModel\n",
    "import src.packages.TPPMI.util as tppmi_util\n",
    "\n",
    "import nltk\n",
    "# nltk.download('punkt');"
   ],
   "metadata": {
    "collapsed": false
   }
  },
  {
   "cell_type": "markdown",
   "source": [
    "## Setup"
   ],
   "metadata": {
    "collapsed": false
   }
  },
  {
   "cell_type": "code",
   "execution_count": 3,
   "outputs": [],
   "source": [
    "DATA_DIR = Path(\"../../data\")\n",
    "input_dir =  DATA_DIR / \"processed\" / \"nyt-data\"\n",
    "min_freq = 0 # infrequent words have been removed in preprocessing\n",
    "window_size = 5 # default word2vec window-size\n",
    "number_of_context_words = 500"
   ],
   "metadata": {
    "collapsed": false
   }
  },
  {
   "cell_type": "markdown",
   "source": [
    "## Sample Context Words"
   ],
   "metadata": {
    "collapsed": false
   }
  },
  {
   "cell_type": "code",
   "execution_count": 4,
   "outputs": [],
   "source": [
    "df = pd.read_csv(input_dir / \"corpus_all.csv\")\n",
    "df = df[[\"text\"]]"
   ],
   "metadata": {
    "collapsed": false
   }
  },
  {
   "cell_type": "code",
   "execution_count": 5,
   "outputs": [],
   "source": [
    "df = df.dropna()"
   ],
   "metadata": {
    "collapsed": false
   }
  },
  {
   "cell_type": "code",
   "execution_count": 6,
   "outputs": [],
   "source": [
    "corpus = ' '.join(df[\"text\"])"
   ],
   "metadata": {
    "collapsed": false
   }
  },
  {
   "cell_type": "code",
   "execution_count": 7,
   "outputs": [],
   "source": [
    "top_n = max(2 * number_of_context_words, 2000)\n",
    "context_words = tppmi_util.sample_from_most_common_words(corpus, top_n=top_n,\n",
    "                                                         sample_size=number_of_context_words, remove_stopwords=False)"
   ],
   "metadata": {
    "collapsed": false
   }
  },
  {
   "cell_type": "code",
   "execution_count": 8,
   "outputs": [
    {
     "name": "stdout",
     "output_type": "stream",
     "text": [
      "['usually', 'criminal', 'wind', 'movies', 'larger', 'queens', 'forces', '29', 'long', 'aside',\n",
      " 'know', 'gov', 'j', 'south', 'continued', 'carolina', 'catch', 'films', 'thousands', 'century',\n",
      " 'kind', 'stood', 'crime', 'clear', 'example', 'issue', 'happen', 'track', 'additional', 'greater',\n",
      " 'month', 'turns', 'passing', 'county', 'bed', 'society', 'model', 'national', 'anything',\n",
      " 'california', 'action', 'boston', 'fresh', 'part', 'panel', 'ended', 'stadium', 'career',\n",
      " 'positive', 'insurance', 'cover', 'afternoon', 'estimated', 'scene', 'eventually', 'either',\n",
      " 'industry', 'nations', '27', 'reached', 'greatest', 'today', 'agreed', 'statement', 'left',\n",
      " 'determined', 'adding', 'high', 'jersey', 'established', 'critical', 'bridge', 'cars', 'average',\n",
      " 'word', 'job', 'emotional', 'letters', 'field', 'owned', 'jr', 'hear', 'turning', 'science',\n",
      " 'performed', 'characters', 'ago', 'joined', 'mind', 'los', 'gay', 'abuse', 'teachers', '200',\n",
      " 'must', 'late', 'clean', 'products', 'pick', '1996', 'brooklyn', 'yesterday', 'king', 'putting',\n",
      " 'agencies', 'partner', 'poor', 'onto', 'full', 'owners', 'source', 'tough', 'democrats', 'august',\n",
      " 'feet', 'reading', 'heads', 'throughout', 'needs', 'like', 'gives', 'experts', 'performance',\n",
      " 'ran', 'original', 'knows', 'emergency', 'author', 'shes', 'great', 'air', 'dr', 'rose', '2010',\n",
      " 'possible', '10', '31', 'weeks', 'fight', 'stand', 'image', 'july', 'despite', 'years', 'glass',\n",
      " 'artists', 'environmental', 'annual', 'extraordinary', 'ideas', 'game', 'ready', 'animals',\n",
      " 'wants', 'store', 'palestinian', 'responsible', 'giant', 'still', 'children', 'presidents',\n",
      " 'process', 'court', 'report', 'employees', 'creating', 'protection', 'agree', 'uses', 'section',\n",
      " 'senator', 'upper', 'reviews', 'kill', '1999', 'information', 'amount', 'changed', 'outside',\n",
      " 'photographs', 'light', 'continue', 'director', 'october', 'watch', 'moments', '7', 'character',\n",
      " 'de', 'meaning', 'technology', 'things', 'san', 'chris', 'israel', 'refused', 'showed', 'free',\n",
      " 'bottom', 'behind', 'entertainment', 'keeping', 'raise', 'heat', 'matters', 'explain', '2001',\n",
      " 'worth', 'important', 'lawyers', 'photos', 'released', 'variety', 'library', 'necessary',\n",
      " 'published', 'seat', 'broke', 'running', 'miss', 'arrested', 'fashion', 'broken', 'create',\n",
      " 'straight', 'forward', 'association', 'appear', 'treatment', '12', 'rooms', 'sports', 'brought',\n",
      " 'completely', 'playing', '55', 'go', 'task', 'cut', 'faith', 'yet', 'others', 'low', 'opera',\n",
      " 'six', 'international', 'relief', 'anyone', 'tv', 'corporation', 'womens', 'david', 'says', 'bus',\n",
      " 'site', 'happens', 'concern', 'walls', 'commission', 'mothers', 'even', '18', 'germany',\n",
      " 'shooting', 'concert', 'british', 'try', 'live', 'concerns', 'various', 'military', 'worried',\n",
      " '21', 'quarter', 'dark', 'table', 'island', 'say', 'republican', 'marketing', 'signs', 'human',\n",
      " 'save', 'garden', 'nearby', 'sometimes', 'night', 'books', 'texas', 'become', 'pass', 'key',\n",
      " 'born', 'november', 'argued', 'close', 'clubs', 'familiar', 'recalled', 'spokesman', 'identified',\n",
      " 'voice', 'protect', 'faces', 'highest', 'becomes', 'help', 'immediately', 'america', 'disease',\n",
      " 'making', 'sauce', 'drug', 'steve', 'culture', 'jets', 'joseph', 'lived', 'seem', 'send',\n",
      " 'presented', 'childrens', 'researchers', '2000', 'winter', '1', 'looks', 'zone', 'basketball',\n",
      " 'estate', 'would', 'largest', 'wife', 'hurt', 'st', 'blood', 'bills', 'write', '2012', 'needed',\n",
      " 'days', 'power', 'compared', 'demand', 'indeed', 'corporate', 'away', 'nearly', 'really', 'deep',\n",
      " 'plants', 'status', 'talking', 'frank', 'exchange', 'businesses', 'debt', 'path', 'selling', '16',\n",
      " 'moment', 'father', 'complex', 'jack', 'strategy', 'particular', 'central', 'want', 'lets',\n",
      " 'finding', 'urban', 'accused', '26', 'setting', '1991', 'fighting', 'beach', 'readers', 'sexual',\n",
      " 'reporters', 'standard', 'claims', 'salad', 'easily', 'without', 'bigger', 'performances',\n",
      " 'walked', 'thing', 'rare', 'champion', 'reality', 'offense', 'sept', 'pm', 'assistant', 'space',\n",
      " 'interview', '1993', 'future', 'aid', 'senate', 'screen', 'barely', 'used', 'fun', 'golf',\n",
      " 'documents', 'dangerous', '30', 'percent', 'bush', '25', 'spread', 'card', 'whatever', 'different',\n",
      " 'deputy', 'christian', 'mass', 'led', 'remain', 'planned', 'gave', 'japan', 'rights', 'behavior',\n",
      " 'yankees', 'virtually', 'higher', 'sales', 'nobody', 'bank', 'search', 'god', 'men', 'closed',\n",
      " 'england', 'f', 'young', 'pages', 'control', 'paid', 'forced', 'killed', 'group', 'regional',\n",
      " 'tried', 'fully', 'happened', 'million', 'blue', 'threat', 'troops', 'analysts', 'stands', 'bowl',\n",
      " 'pretty', 'girl', 'impact', 'cup', 'american', 'institute', 'perhaps', 'case', 'notes', 'upon',\n",
      " 'talked', 'hands', 'proved', 'remaining', 'organization', 'charged', 'art', 'total', 'small',\n",
      " 'required', 'difference', 'added', 'largely', 'jackson', 'economic', 'fish', 'governor', 'brain',\n",
      " 'runs', 'may', 'musical', 'lot', 'single', 'lost', 'data', 'continues', 'seconds', 'peace',\n",
      " 'finish', 'network', 'side', 'martin', 'contrast']\n"
     ]
    }
   ],
   "source": [
    "pprint(context_words, compact=True, width=100)"
   ],
   "metadata": {
    "collapsed": false
   }
  },
  {
   "cell_type": "markdown",
   "source": [
    "## Build Model"
   ],
   "metadata": {
    "collapsed": false
   }
  },
  {
   "cell_type": "code",
   "execution_count": 19,
   "outputs": [],
   "source": [
    "csv_files = glob.glob(str(input_dir /  \"*data.csv\"))\n",
    "\n",
    "# use dict to be able to identify the dfs later on\n",
    "splits = {}"
   ],
   "metadata": {
    "collapsed": false
   }
  },
  {
   "cell_type": "code",
   "execution_count": 20,
   "outputs": [],
   "source": [
    "for filename in csv_files:\n",
    "    df = pd.read_csv(filename)\n",
    "    splits[filename.split(\"_data\")[0][-4:]] = df"
   ],
   "metadata": {
    "collapsed": false
   }
  },
  {
   "cell_type": "code",
   "execution_count": 22,
   "outputs": [
    {
     "data": {
      "text/plain": "  0%|          | 0/27 [00:00<?, ?it/s]",
      "application/vnd.jupyter.widget-view+json": {
       "version_major": 2,
       "version_minor": 0,
       "model_id": "760dfba3532d4d4d890f8ffec0d18782"
      },
      "application/json": {
       "n": 0,
       "total": 27,
       "elapsed": 0.0059320926666259766,
       "ncols": null,
       "nrows": null,
       "prefix": "",
       "ascii": false,
       "unit": "it",
       "unit_scale": false,
       "rate": null,
       "bar_format": null,
       "postfix": null,
       "unit_divisor": 1000,
       "initial": 0,
       "colour": null
      }
     },
     "metadata": {},
     "output_type": "display_data"
    }
   ],
   "source": [
    "ppmi_models = {key: PPMIModel.construct_from_texts(value, context_words=context_words, min_freq=min_freq) for key, value in tqdm(splits.items())}"
   ],
   "metadata": {
    "collapsed": false
   }
  },
  {
   "cell_type": "markdown",
   "source": [
    "## Control"
   ],
   "metadata": {
    "collapsed": false
   }
  },
  {
   "cell_type": "code",
   "execution_count": 25,
   "outputs": [
    {
     "data": {
      "text/plain": "dict_keys(['2000', '2001', '1997', '1996', '2016', '1990', '1991', '2010', '2011', '2007', '2006', '1994', '1995', '2014', '2015', '2009', '2008', '2003', '2002', '2004', '2005', '1999', '1998', '1993', '1992', '2013', '2012'])"
     },
     "execution_count": 25,
     "metadata": {},
     "output_type": "execute_result"
    }
   ],
   "source": [
    "ppmi_models.keys()"
   ],
   "metadata": {
    "collapsed": false
   }
  },
  {
   "cell_type": "code",
   "execution_count": 23,
   "outputs": [],
   "source": [
    "ppmi_model = ppmi_models[next(iter(ppmi_models))]"
   ],
   "metadata": {
    "collapsed": false
   }
  },
  {
   "cell_type": "code",
   "execution_count": 24,
   "outputs": [
    {
     "data": {
      "text/plain": "(21756, 500)"
     },
     "execution_count": 24,
     "metadata": {},
     "output_type": "execute_result"
    }
   ],
   "source": [
    "ppmi_model.ppmi_matrix.shape"
   ],
   "metadata": {
    "collapsed": false
   }
  },
  {
   "cell_type": "markdown",
   "source": [
    "## Vocabulary"
   ],
   "metadata": {
    "collapsed": false
   }
  },
  {
   "cell_type": "code",
   "execution_count": 26,
   "outputs": [
    {
     "name": "stdout",
     "output_type": "stream",
     "text": [
      "Vocabulary size of timestep 2000: 21756\n",
      "Vocabulary size of timestep 2001: 21780\n",
      "Vocabulary size of timestep 1997: 21357\n",
      "Vocabulary size of timestep 1996: 21602\n",
      "Vocabulary size of timestep 2016: 21334\n",
      "Vocabulary size of timestep 1990: 21238\n",
      "Vocabulary size of timestep 1991: 21387\n",
      "Vocabulary size of timestep 2010: 21798\n",
      "Vocabulary size of timestep 2011: 21820\n",
      "Vocabulary size of timestep 2007: 21931\n",
      "Vocabulary size of timestep 2006: 19104\n",
      "Vocabulary size of timestep 1994: 21503\n",
      "Vocabulary size of timestep 1995: 21520\n",
      "Vocabulary size of timestep 2014: 21856\n",
      "Vocabulary size of timestep 2015: 21853\n",
      "Vocabulary size of timestep 2009: 21810\n",
      "Vocabulary size of timestep 2008: 21935\n",
      "Vocabulary size of timestep 2003: 21836\n",
      "Vocabulary size of timestep 2002: 21822\n",
      "Vocabulary size of timestep 2004: 21906\n",
      "Vocabulary size of timestep 2005: 21906\n",
      "Vocabulary size of timestep 1999: 21709\n",
      "Vocabulary size of timestep 1998: 21699\n",
      "Vocabulary size of timestep 1993: 21439\n",
      "Vocabulary size of timestep 1992: 21437\n",
      "Vocabulary size of timestep 2013: 21870\n",
      "Vocabulary size of timestep 2012: 21902\n"
     ]
    }
   ],
   "source": [
    "for key, ppmi_model in ppmi_models.items():\n",
    "    print(f\"Vocabulary size of timestep {key}: {ppmi_model.get_vocabulary_size()}\")"
   ],
   "metadata": {
    "collapsed": false
   }
  },
  {
   "cell_type": "markdown",
   "source": [
    "## Calulate & Save"
   ],
   "metadata": {
    "collapsed": false
   }
  },
  {
   "cell_type": "code",
   "execution_count": 27,
   "outputs": [
    {
     "name": "stdout",
     "output_type": "stream",
     "text": [
      "PPMI data for 2000 saved successfully.\n",
      "Vocabulary Size: 21756\n",
      "PPMI data for 2001 saved successfully.\n",
      "Vocabulary Size: 21780\n",
      "PPMI data for 1997 saved successfully.\n",
      "Vocabulary Size: 21357\n",
      "PPMI data for 1996 saved successfully.\n",
      "Vocabulary Size: 21602\n",
      "PPMI data for 2016 saved successfully.\n",
      "Vocabulary Size: 21334\n",
      "PPMI data for 1990 saved successfully.\n",
      "Vocabulary Size: 21238\n",
      "PPMI data for 1991 saved successfully.\n",
      "Vocabulary Size: 21387\n",
      "PPMI data for 2010 saved successfully.\n",
      "Vocabulary Size: 21798\n",
      "PPMI data for 2011 saved successfully.\n",
      "Vocabulary Size: 21820\n",
      "PPMI data for 2007 saved successfully.\n",
      "Vocabulary Size: 21931\n",
      "PPMI data for 2006 saved successfully.\n",
      "Vocabulary Size: 19104\n",
      "PPMI data for 1994 saved successfully.\n",
      "Vocabulary Size: 21503\n",
      "PPMI data for 1995 saved successfully.\n",
      "Vocabulary Size: 21520\n",
      "PPMI data for 2014 saved successfully.\n",
      "Vocabulary Size: 21856\n",
      "PPMI data for 2015 saved successfully.\n",
      "Vocabulary Size: 21853\n",
      "PPMI data for 2009 saved successfully.\n",
      "Vocabulary Size: 21810\n",
      "PPMI data for 2008 saved successfully.\n",
      "Vocabulary Size: 21935\n",
      "PPMI data for 2003 saved successfully.\n",
      "Vocabulary Size: 21836\n",
      "PPMI data for 2002 saved successfully.\n",
      "Vocabulary Size: 21822\n",
      "PPMI data for 2004 saved successfully.\n",
      "Vocabulary Size: 21906\n",
      "PPMI data for 2005 saved successfully.\n",
      "Vocabulary Size: 21906\n",
      "PPMI data for 1999 saved successfully.\n",
      "Vocabulary Size: 21709\n",
      "PPMI data for 1998 saved successfully.\n",
      "Vocabulary Size: 21699\n",
      "PPMI data for 1993 saved successfully.\n",
      "Vocabulary Size: 21439\n",
      "PPMI data for 1992 saved successfully.\n",
      "Vocabulary Size: 21437\n",
      "PPMI data for 2013 saved successfully.\n",
      "Vocabulary Size: 21870\n",
      "PPMI data for 2012 saved successfully.\n",
      "Vocabulary Size: 21902\n",
      "--------------- done ---------------\n",
      "PPMI-Data stored to: ../../data/ppmi-matrices/nyt-data\n",
      "Number of context-words: 500\n"
     ]
    }
   ],
   "source": [
    "output_dir = DATA_DIR / \"ppmi-matrices\" / \"nyt-data\"\n",
    "output_dir.mkdir(parents=True, exist_ok=True)\n",
    "\n",
    "# save common context-words\n",
    "with open(output_dir / f\"context-words.pkl\", \"wb\") as f:\n",
    "    pickle.dump(context_words, f)\n",
    "\n",
    "# save vocab and ppmi-matrices\n",
    "for key, ppmi_model in ppmi_models.items():\n",
    "    ppmi_model.compute_ppmi_matrix(window_size=window_size)\n",
    "    ppmi_model.save(key, output_dir)\n",
    "\n",
    "print(\"--------------- done ---------------\")\n",
    "print(f\"PPMI-Data stored to: {str(output_dir)}\")\n",
    "print(f\"Number of context-words: {len(context_words)}\")"
   ],
   "metadata": {
    "collapsed": false
   }
  },
  {
   "cell_type": "code",
   "execution_count": null,
   "outputs": [],
   "source": [],
   "metadata": {
    "collapsed": false
   }
  }
 ],
 "metadata": {
  "kernelspec": {
   "display_name": "Python 3",
   "language": "python",
   "name": "python3"
  },
  "language_info": {
   "codemirror_mode": {
    "name": "ipython",
    "version": 2
   },
   "file_extension": ".py",
   "mimetype": "text/x-python",
   "name": "python",
   "nbconvert_exporter": "python",
   "pygments_lexer": "ipython2",
   "version": "2.7.6"
  }
 },
 "nbformat": 4,
 "nbformat_minor": 0
}
