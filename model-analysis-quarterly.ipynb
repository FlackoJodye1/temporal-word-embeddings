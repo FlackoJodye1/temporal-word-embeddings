{
 "cells": [
  {
   "cell_type": "markdown",
   "source": [
    "# Model Analysis"
   ],
   "metadata": {
    "collapsed": false
   }
  },
  {
   "cell_type": "code",
   "execution_count": 2,
   "outputs": [],
   "source": [
    "import pickle\n",
    "from glob import glob\n",
    "from pathlib import Path\n",
    "import scipy.sparse as sp\n",
    "from tqdm.notebook import tqdm\n",
    "from gensim.models.word2vec import Word2Vec\n",
    "from packages.TPPMI.ppmi_model import PPMIModel\n",
    "from packages.TPPMI.tppmi_model import TPPMIModel\n",
    "\n",
    "from embedding_visualization import  \\\n",
    "    plot_word_vectors_cade,  plot_word_vectors_tppmi, print_most_similar_cade"
   ],
   "metadata": {
    "collapsed": false
   }
  },
  {
   "cell_type": "markdown",
   "source": [
    "## Setup"
   ],
   "metadata": {
    "collapsed": false
   }
  },
  {
   "cell_type": "markdown",
   "source": [
    "### Paths"
   ],
   "metadata": {
    "collapsed": false
   }
  },
  {
   "cell_type": "code",
   "execution_count": 3,
   "outputs": [],
   "source": [
    "model_path = Path(\"model/\")\n",
    "number_of_context_words = 500\n",
    "ppmi_path = Path(f\"data/ppmi-matrices/quarter/{number_of_context_words}\")"
   ],
   "metadata": {
    "collapsed": false
   }
  },
  {
   "cell_type": "markdown",
   "source": [
    "### Load Models"
   ],
   "metadata": {
    "collapsed": false
   }
  },
  {
   "cell_type": "code",
   "execution_count": 4,
   "outputs": [],
   "source": [
    "cade_model_filenames = glob(str(model_path / \"quarter\" / \"*.model\"))"
   ],
   "metadata": {
    "collapsed": false
   }
  },
  {
   "cell_type": "code",
   "execution_count": 5,
   "outputs": [
    {
     "data": {
      "text/plain": "  0%|          | 0/4 [00:00<?, ?it/s]",
      "application/vnd.jupyter.widget-view+json": {
       "version_major": 2,
       "version_minor": 0,
       "model_id": "fe6481bab24e451ba3620198f596100f"
      },
      "application/json": {
       "n": 0,
       "total": 4,
       "elapsed": 0.006335020065307617,
       "ncols": null,
       "nrows": null,
       "prefix": "",
       "ascii": false,
       "unit": "it",
       "unit_scale": false,
       "rate": null,
       "bar_format": null,
       "postfix": null,
       "unit_divisor": 1000,
       "initial": 0,
       "colour": null
      }
     },
     "metadata": {},
     "output_type": "display_data"
    }
   ],
   "source": [
    "# load models\n",
    "cade_models_quarterly = {f\"model_{model_file.split('_')[1][0:3].lower()}\":Word2Vec.load(model_file) for model_file in tqdm(cade_model_filenames)}"
   ],
   "metadata": {
    "collapsed": false
   }
  },
  {
   "cell_type": "markdown",
   "source": [
    "Put them in the right chronological order"
   ],
   "metadata": {
    "collapsed": false
   }
  },
  {
   "cell_type": "code",
   "execution_count": 6,
   "outputs": [],
   "source": [
    "order = ['jun', 'sep', 'dec', 'mar', 'apr']\n",
    "month_codes = {\"jun\": 6, \"sep\": 9, \"dec\": 12, \"mar\": 3}\n",
    "\n",
    "# Sort the keys based on the desired month order\n",
    "sorted_keys = sorted(cade_models_quarterly.keys(), key=lambda x: order.index(x.split('_')[1]))\n",
    "\n",
    "# Create a sorted dictionaries\n",
    "cade_models_quarterly = {key: cade_models_quarterly[key] for key in sorted_keys}"
   ],
   "metadata": {
    "collapsed": false
   }
  },
  {
   "cell_type": "code",
   "execution_count": 7,
   "outputs": [
    {
     "data": {
      "text/plain": "dict_keys(['model_jun', 'model_sep', 'model_dec', 'model_mar'])"
     },
     "execution_count": 7,
     "metadata": {},
     "output_type": "execute_result"
    }
   ],
   "source": [
    "cade_models_quarterly.keys()"
   ],
   "metadata": {
    "collapsed": false
   }
  },
  {
   "cell_type": "markdown",
   "source": [
    "### TPPMI"
   ],
   "metadata": {
    "collapsed": false
   }
  },
  {
   "cell_type": "code",
   "execution_count": 8,
   "outputs": [],
   "source": [
    "ppmi_data_files = sorted(glob(str(ppmi_path  / \"*.npz\")))\n",
    "words_files = sorted(glob(str(ppmi_path  / \"*.pkl\")))"
   ],
   "metadata": {
    "collapsed": false
   }
  },
  {
   "cell_type": "markdown",
   "source": [
    "Split context-words from timestamped-vocabularies"
   ],
   "metadata": {
    "collapsed": false
   }
  },
  {
   "cell_type": "code",
   "execution_count": 9,
   "outputs": [],
   "source": [
    "context_words_file = [path for path in words_files if \"context-words\" in path]\n",
    "ppmi_vocab_files = [path for path in words_files if \"context-words\" not in path]"
   ],
   "metadata": {
    "collapsed": false
   }
  },
  {
   "cell_type": "code",
   "execution_count": 10,
   "outputs": [],
   "source": [
    "# Get ppmi-matrices and vocab\n",
    "ppmi_matrices = {}\n",
    "\n",
    "for filenames in zip(ppmi_vocab_files, ppmi_data_files):\n",
    "    ppmi_matrix = sp.load_npz(filenames[1])\n",
    "    with open(filenames[0], \"rb\") as f:\n",
    "        vocab = pickle.load(f)\n",
    "    key = filenames[0].split(\"ppmi-\")[2][0:2]\n",
    "    ppmi_matrices[key] = {\"ppmi_matrix\" : ppmi_matrix, \"vocab\": vocab}\n",
    "\n",
    "# Get common context-words\n",
    "with open(context_words_file[0], \"rb\") as f:\n",
    "    context_words = pickle.load(f)"
   ],
   "metadata": {
    "collapsed": false
   }
  },
  {
   "cell_type": "code",
   "execution_count": 11,
   "outputs": [
    {
     "data": {
      "text/plain": "dict_keys(['03', '06', '09', '12'])"
     },
     "execution_count": 11,
     "metadata": {},
     "output_type": "execute_result"
    }
   ],
   "source": [
    "ppmi_matrices.keys()"
   ],
   "metadata": {
    "collapsed": false
   }
  },
  {
   "cell_type": "markdown",
   "source": [
    "Create ppmi_model objects"
   ],
   "metadata": {
    "collapsed": false
   }
  },
  {
   "cell_type": "code",
   "execution_count": 12,
   "outputs": [],
   "source": [
    "ppmi_models = {key: PPMIModel.construct_from_data(ppmi_data[\"ppmi_matrix\"], ppmi_data[\"vocab\"], context_words) for key, ppmi_data in ppmi_matrices.items()}"
   ],
   "metadata": {
    "collapsed": false
   }
  },
  {
   "cell_type": "code",
   "execution_count": 13,
   "outputs": [],
   "source": [
    "tppmi_model = TPPMIModel(ppmi_models)"
   ],
   "metadata": {
    "collapsed": false
   }
  },
  {
   "cell_type": "markdown",
   "source": [
    "## Covid"
   ],
   "metadata": {
    "collapsed": false
   }
  },
  {
   "cell_type": "code",
   "execution_count": 14,
   "outputs": [
    {
     "name": "stdout",
     "output_type": "stream",
     "text": [
      "Word: lockdowns\n",
      "Month: Jun\n",
      "[('disruptions', 0.815423846244812),\n",
      " ('eased', 0.8148480653762817),\n",
      " ('restrictions', 0.8083637356758118),\n",
      " ('closures', 0.8061288595199585),\n",
      " ('lockdown', 0.7959799766540527),\n",
      " ('closure', 0.7941170930862427),\n",
      " ('curbs', 0.7778494358062744),\n",
      " ('disruption', 0.763401210308075),\n",
      " ('quarantines', 0.7625197172164917),\n",
      " ('protocols', 0.761249303817749)]\n",
      "--------------------------------\n",
      "Month: Sep\n",
      "[('shutdowns', 0.8916682004928589),\n",
      " ('closings', 0.8569907546043396),\n",
      " ('draconian', 0.8482598066329956),\n",
      " ('mitigations', 0.8216508030891418),\n",
      " ('covidrelated', 0.8044072985649109),\n",
      " ('closures', 0.8002327084541321),\n",
      " ('restrictions', 0.7890362739562988),\n",
      " ('strict', 0.7837325930595398),\n",
      " ('lockdown', 0.7757399678230286),\n",
      " ('precautions', 0.7519178986549377)]\n",
      "--------------------------------\n",
      "Month: Dec\n",
      "[('closures', 0.8628657460212708),\n",
      " ('shutdowns', 0.859953761100769),\n",
      " ('shutdown', 0.8257884383201599),\n",
      " ('closings', 0.8155633211135864),\n",
      " ('protocols', 0.8074817061424255),\n",
      " ('lockdown', 0.7745775580406189),\n",
      " ('useless', 0.7448241114616394),\n",
      " ('recovered', 0.7368694543838501),\n",
      " ('covidrelated', 0.7368089556694031),\n",
      " ('harmlessness', 0.7333900332450867)]\n",
      "--------------------------------\n",
      "Month: Mar\n",
      "[('lockdown', 0.8962795734405518),\n",
      " ('shutdowns', 0.8599123358726501),\n",
      " ('closures', 0.8471870422363281),\n",
      " ('quarantines', 0.8283998370170593),\n",
      " ('prolonged', 0.8244290947914124),\n",
      " ('protocols', 0.7983336448669434),\n",
      " ('mandates', 0.7852495312690735),\n",
      " ('vax', 0.7850872874259949),\n",
      " ('devastating', 0.7687492966651917),\n",
      " ('covid19related', 0.7686577439308167)]\n",
      "--------------------------------\n"
     ]
    }
   ],
   "source": [
    "print_most_similar_cade(cade_models_quarterly, \"lockdowns\", top_n=10)"
   ],
   "metadata": {
    "collapsed": false
   }
  },
  {
   "cell_type": "markdown",
   "source": [
    "## CRT"
   ],
   "metadata": {
    "collapsed": false
   }
  },
  {
   "cell_type": "code",
   "execution_count": 15,
   "outputs": [
    {
     "name": "stdout",
     "output_type": "stream",
     "text": [
      "Word: crt\n",
      "Month: Jun\n",
      "[('marxist', 0.6683539748191833),\n",
      " ('marxism', 0.6651936173439026),\n",
      " ('socialism', 0.6600244641304016)]\n",
      "--------------------------------\n",
      "Month: Sep\n",
      "[('wokeism', 0.7039192914962769),\n",
      " ('garbage', 0.6873442530632019),\n",
      " ('reality', 0.6830105781555176)]\n",
      "--------------------------------\n",
      "Month: Dec\n",
      "[('crts', 0.6683191061019897),\n",
      " ('word', 0.6668873429298401),\n",
      " ('screen', 0.6599460244178772)]\n",
      "--------------------------------\n",
      "Month: Mar\n",
      "[('modern', 0.7213348746299744),\n",
      " ('word', 0.7110840678215027),\n",
      " ('lcd', 0.6734970808029175)]\n",
      "--------------------------------\n"
     ]
    }
   ],
   "source": [
    "print_most_similar_cade(cade_models_quarterly, \"crt\", top_n=3)"
   ],
   "metadata": {
    "collapsed": false
   }
  },
  {
   "cell_type": "markdown",
   "source": [
    "## Mass Shootings"
   ],
   "metadata": {
    "collapsed": false
   }
  },
  {
   "cell_type": "markdown",
   "source": [
    "### Overview"
   ],
   "metadata": {
    "collapsed": false
   }
  },
  {
   "cell_type": "markdown",
   "source": [
    "- **May:** Uvalde Robb Elementary School shooting (May 24, 2022)\n",
    "- **November:** Colorado Springs nightclub shooting (November 19, 2022)\n",
    "- **March:** Nashville school shooting (March 27, 2023)"
   ],
   "metadata": {
    "collapsed": false
   }
  },
  {
   "cell_type": "code",
   "execution_count": 16,
   "outputs": [],
   "source": [
    "target_word_shootings = \"shooting\"\n",
    "test_words_shootings = [\"uvalde\", \"colorado\", \"nashville\"]"
   ],
   "metadata": {
    "collapsed": false
   }
  },
  {
   "cell_type": "code",
   "execution_count": 17,
   "outputs": [],
   "source": [
    "title_shootings = f\"Evolution of the word {target_word_shootings} over time\""
   ],
   "metadata": {
    "collapsed": false
   }
  },
  {
   "cell_type": "markdown",
   "source": [
    "### Visualizations"
   ],
   "metadata": {
    "collapsed": false
   }
  },
  {
   "cell_type": "markdown",
   "source": [
    "#### Cade"
   ],
   "metadata": {
    "collapsed": false
   }
  },
  {
   "cell_type": "code",
   "execution_count": 18,
   "outputs": [
    {
     "data": {
      "text/html": "        <script type=\"text/javascript\">\n        window.PlotlyConfig = {MathJaxConfig: 'local'};\n        if (window.MathJax && window.MathJax.Hub && window.MathJax.Hub.Config) {window.MathJax.Hub.Config({SVG: {font: \"STIX-Web\"}});}\n        if (typeof require !== 'undefined') {\n        require.undef(\"plotly\");\n        requirejs.config({\n            paths: {\n                'plotly': ['https://cdn.plot.ly/plotly-2.25.2.min']\n            }\n        });\n        require(['plotly'], function(Plotly) {\n            window._Plotly = Plotly;\n        });\n        }\n        </script>\n        "
     },
     "metadata": {},
     "output_type": "display_data"
    },
    {
     "data": {
      "application/vnd.plotly.v1+json": {
       "data": [
        {
         "marker": {
          "color": "#636EFA"
         },
         "mode": "markers+text",
         "name": "uvalde",
         "showlegend": false,
         "text": [
          "uvalde"
         ],
         "textposition": "top center",
         "x": [
          -0.02192169986665249
         ],
         "y": [
          -0.18720504641532898
         ],
         "type": "scatter"
        },
        {
         "marker": {
          "color": "#636EFA",
          "size": 10,
          "symbol": "diamond"
         },
         "mode": "markers",
         "showlegend": false,
         "x": [
          -0.02192169986665249
         ],
         "y": [
          -0.18720504641532898
         ],
         "type": "scatter"
        },
        {
         "marker": {
          "color": "#AB63FA"
         },
         "mode": "markers+text",
         "name": "colorado",
         "showlegend": false,
         "text": [
          "colorado"
         ],
         "textposition": "top center",
         "x": [
          0.012971525080502033
         ],
         "y": [
          1.0981117486953735
         ],
         "type": "scatter"
        },
        {
         "marker": {
          "color": "#AB63FA",
          "size": 10,
          "symbol": "diamond"
         },
         "mode": "markers",
         "showlegend": false,
         "x": [
          0.012971525080502033
         ],
         "y": [
          1.0981117486953735
         ],
         "type": "scatter"
        },
        {
         "marker": {
          "color": "#00CC96"
         },
         "mode": "markers+text",
         "name": "nashville",
         "showlegend": false,
         "text": [
          "nashville"
         ],
         "textposition": "top center",
         "x": [
          1.230595588684082
         ],
         "y": [
          -0.04573922976851463
         ],
         "type": "scatter"
        },
        {
         "marker": {
          "color": "#00CC96",
          "size": 10,
          "symbol": "diamond"
         },
         "mode": "markers",
         "showlegend": false,
         "x": [
          1.230595588684082
         ],
         "y": [
          -0.04573922976851463
         ],
         "type": "scatter"
        },
        {
         "marker": {
          "color": "#EF553B"
         },
         "mode": "markers+text",
         "name": "shooting",
         "showlegend": false,
         "text": [
          "shooting"
         ],
         "textposition": "top center",
         "x": [
          -1.0184876918792725
         ],
         "y": [
          -1.2608884572982788
         ],
         "type": "scatter"
        },
        {
         "marker": {
          "color": "#EF553B",
          "size": 10,
          "symbol": "diamond"
         },
         "mode": "markers",
         "showlegend": false,
         "x": [
          -1.0184876918792725
         ],
         "y": [
          -1.2608884572982788
         ],
         "type": "scatter"
        },
        {
         "marker": {
          "color": "#636EFA"
         },
         "mode": "markers+text",
         "name": "uvalde",
         "showlegend": false,
         "text": [
          "uvalde"
         ],
         "textposition": "top center",
         "x": [
          0.1710413098335266
         ],
         "y": [
          0.0591137632727623
         ],
         "type": "scatter"
        },
        {
         "line": {
          "color": "#636EFA",
          "width": 1
         },
         "mode": "lines",
         "showlegend": false,
         "x": [
          -0.02192169986665249,
          0.1710413098335266
         ],
         "y": [
          -0.18720504641532898,
          0.0591137632727623
         ],
         "type": "scatter"
        },
        {
         "marker": {
          "color": "#AB63FA"
         },
         "mode": "markers+text",
         "name": "colorado",
         "showlegend": false,
         "text": [
          "colorado"
         ],
         "textposition": "top center",
         "x": [
          0.7377104759216309
         ],
         "y": [
          1.6358532905578613
         ],
         "type": "scatter"
        },
        {
         "line": {
          "color": "#AB63FA",
          "width": 1
         },
         "mode": "lines",
         "showlegend": false,
         "x": [
          0.012971525080502033,
          0.7377104759216309
         ],
         "y": [
          1.0981117486953735,
          1.6358532905578613
         ],
         "type": "scatter"
        },
        {
         "marker": {
          "color": "#00CC96"
         },
         "mode": "markers+text",
         "name": "nashville",
         "showlegend": false,
         "text": [
          "nashville"
         ],
         "textposition": "top center",
         "x": [
          1.0342891216278076
         ],
         "y": [
          0.5520426630973816
         ],
         "type": "scatter"
        },
        {
         "line": {
          "color": "#00CC96",
          "width": 1
         },
         "mode": "lines",
         "showlegend": false,
         "x": [
          1.230595588684082,
          1.0342891216278076
         ],
         "y": [
          -0.04573922976851463,
          0.5520426630973816
         ],
         "type": "scatter"
        },
        {
         "marker": {
          "color": "#EF553B"
         },
         "mode": "markers+text",
         "name": "shooting",
         "showlegend": false,
         "text": [
          "shooting"
         ],
         "textposition": "top center",
         "x": [
          -1.3350460529327393
         ],
         "y": [
          -1.3478623628616333
         ],
         "type": "scatter"
        },
        {
         "line": {
          "color": "#EF553B",
          "width": 1
         },
         "mode": "lines",
         "showlegend": false,
         "x": [
          -1.0184876918792725,
          -1.3350460529327393
         ],
         "y": [
          -1.2608884572982788,
          -1.3478623628616333
         ],
         "type": "scatter"
        },
        {
         "marker": {
          "color": "#636EFA"
         },
         "mode": "markers+text",
         "name": "uvalde",
         "showlegend": false,
         "text": [
          "uvalde"
         ],
         "textposition": "top center",
         "x": [
          0.5551108717918396
         ],
         "y": [
          0.6559445261955261
         ],
         "type": "scatter"
        },
        {
         "line": {
          "color": "#636EFA",
          "width": 1
         },
         "mode": "lines",
         "showlegend": false,
         "x": [
          0.1710413098335266,
          0.5551108717918396
         ],
         "y": [
          0.0591137632727623,
          0.6559445261955261
         ],
         "type": "scatter"
        },
        {
         "marker": {
          "color": "#AB63FA"
         },
         "mode": "markers+text",
         "name": "colorado",
         "showlegend": false,
         "text": [
          "colorado"
         ],
         "textposition": "top center",
         "x": [
          0.2894771695137024
         ],
         "y": [
          0.9309515357017517
         ],
         "type": "scatter"
        },
        {
         "line": {
          "color": "#AB63FA",
          "width": 1
         },
         "mode": "lines",
         "showlegend": false,
         "x": [
          0.7377104759216309,
          0.2894771695137024
         ],
         "y": [
          1.6358532905578613,
          0.9309515357017517
         ],
         "type": "scatter"
        },
        {
         "marker": {
          "color": "#00CC96"
         },
         "mode": "markers+text",
         "name": "nashville",
         "showlegend": false,
         "text": [
          "nashville"
         ],
         "textposition": "top center",
         "x": [
          1.2489064931869507
         ],
         "y": [
          0.2811579704284668
         ],
         "type": "scatter"
        },
        {
         "line": {
          "color": "#00CC96",
          "width": 1
         },
         "mode": "lines",
         "showlegend": false,
         "x": [
          1.0342891216278076,
          1.2489064931869507
         ],
         "y": [
          0.5520426630973816,
          0.2811579704284668
         ],
         "type": "scatter"
        },
        {
         "marker": {
          "color": "#EF553B"
         },
         "mode": "markers+text",
         "name": "shooting",
         "showlegend": false,
         "text": [
          "shooting"
         ],
         "textposition": "top center",
         "x": [
          -1.282792568206787
         ],
         "y": [
          -1.0603402853012085
         ],
         "type": "scatter"
        },
        {
         "line": {
          "color": "#EF553B",
          "width": 1
         },
         "mode": "lines",
         "showlegend": false,
         "x": [
          -1.3350460529327393,
          -1.282792568206787
         ],
         "y": [
          -1.3478623628616333,
          -1.0603402853012085
         ],
         "type": "scatter"
        },
        {
         "marker": {
          "color": "#636EFA"
         },
         "mode": "markers+text",
         "name": "uvalde",
         "showlegend": false,
         "text": [
          "uvalde"
         ],
         "textposition": "top center",
         "x": [
          0.9371484518051147
         ],
         "y": [
          0.22573065757751465
         ],
         "type": "scatter"
        },
        {
         "line": {
          "color": "#636EFA",
          "width": 1
         },
         "mode": "lines",
         "showlegend": false,
         "x": [
          0.5551108717918396,
          0.9371484518051147
         ],
         "y": [
          0.6559445261955261,
          0.22573065757751465
         ],
         "type": "scatter"
        },
        {
         "marker": {
          "color": "#AB63FA"
         },
         "mode": "markers+text",
         "name": "colorado",
         "showlegend": false,
         "text": [
          "colorado"
         ],
         "textposition": "top center",
         "x": [
          0.643921434879303
         ],
         "y": [
          1.2837265729904175
         ],
         "type": "scatter"
        },
        {
         "line": {
          "color": "#AB63FA",
          "width": 1
         },
         "mode": "lines",
         "showlegend": false,
         "x": [
          0.2894771695137024,
          0.643921434879303
         ],
         "y": [
          0.9309515357017517,
          1.2837265729904175
         ],
         "type": "scatter"
        },
        {
         "marker": {
          "color": "#00CC96"
         },
         "mode": "markers+text",
         "name": "nashville",
         "showlegend": false,
         "text": [
          "nashville"
         ],
         "textposition": "top center",
         "x": [
          -1.565542221069336
         ],
         "y": [
          -1.717772364616394
         ],
         "type": "scatter"
        },
        {
         "line": {
          "color": "#00CC96",
          "width": 1
         },
         "mode": "lines",
         "showlegend": false,
         "x": [
          1.2489064931869507,
          -1.565542221069336
         ],
         "y": [
          0.2811579704284668,
          -1.717772364616394
         ],
         "type": "scatter"
        },
        {
         "marker": {
          "color": "#EF553B"
         },
         "mode": "markers+text",
         "name": "shooting",
         "showlegend": false,
         "text": [
          "shooting"
         ],
         "textposition": "top center",
         "x": [
          -1.6373822689056396
         ],
         "y": [
          -1.1028248071670532
         ],
         "type": "scatter"
        },
        {
         "line": {
          "color": "#EF553B",
          "width": 1
         },
         "mode": "lines",
         "showlegend": false,
         "x": [
          -1.282792568206787,
          -1.6373822689056396
         ],
         "y": [
          -1.0603402853012085,
          -1.1028248071670532
         ],
         "type": "scatter"
        }
       ],
       "layout": {
        "legend": {
         "x": 1.02,
         "y": 1.0
        },
        "template": {
         "data": {
          "barpolar": [
           {
            "marker": {
             "line": {
              "color": "#E5ECF6",
              "width": 0.5
             },
             "pattern": {
              "fillmode": "overlay",
              "size": 10,
              "solidity": 0.2
             }
            },
            "type": "barpolar"
           }
          ],
          "bar": [
           {
            "error_x": {
             "color": "#2a3f5f"
            },
            "error_y": {
             "color": "#2a3f5f"
            },
            "marker": {
             "line": {
              "color": "#E5ECF6",
              "width": 0.5
             },
             "pattern": {
              "fillmode": "overlay",
              "size": 10,
              "solidity": 0.2
             }
            },
            "type": "bar"
           }
          ],
          "carpet": [
           {
            "aaxis": {
             "endlinecolor": "#2a3f5f",
             "gridcolor": "white",
             "linecolor": "white",
             "minorgridcolor": "white",
             "startlinecolor": "#2a3f5f"
            },
            "baxis": {
             "endlinecolor": "#2a3f5f",
             "gridcolor": "white",
             "linecolor": "white",
             "minorgridcolor": "white",
             "startlinecolor": "#2a3f5f"
            },
            "type": "carpet"
           }
          ],
          "choropleth": [
           {
            "colorbar": {
             "outlinewidth": 0,
             "ticks": ""
            },
            "type": "choropleth"
           }
          ],
          "contourcarpet": [
           {
            "colorbar": {
             "outlinewidth": 0,
             "ticks": ""
            },
            "type": "contourcarpet"
           }
          ],
          "contour": [
           {
            "colorbar": {
             "outlinewidth": 0,
             "ticks": ""
            },
            "colorscale": [
             [
              0.0,
              "#0d0887"
             ],
             [
              0.1111111111111111,
              "#46039f"
             ],
             [
              0.2222222222222222,
              "#7201a8"
             ],
             [
              0.3333333333333333,
              "#9c179e"
             ],
             [
              0.4444444444444444,
              "#bd3786"
             ],
             [
              0.5555555555555556,
              "#d8576b"
             ],
             [
              0.6666666666666666,
              "#ed7953"
             ],
             [
              0.7777777777777778,
              "#fb9f3a"
             ],
             [
              0.8888888888888888,
              "#fdca26"
             ],
             [
              1.0,
              "#f0f921"
             ]
            ],
            "type": "contour"
           }
          ],
          "heatmapgl": [
           {
            "colorbar": {
             "outlinewidth": 0,
             "ticks": ""
            },
            "colorscale": [
             [
              0.0,
              "#0d0887"
             ],
             [
              0.1111111111111111,
              "#46039f"
             ],
             [
              0.2222222222222222,
              "#7201a8"
             ],
             [
              0.3333333333333333,
              "#9c179e"
             ],
             [
              0.4444444444444444,
              "#bd3786"
             ],
             [
              0.5555555555555556,
              "#d8576b"
             ],
             [
              0.6666666666666666,
              "#ed7953"
             ],
             [
              0.7777777777777778,
              "#fb9f3a"
             ],
             [
              0.8888888888888888,
              "#fdca26"
             ],
             [
              1.0,
              "#f0f921"
             ]
            ],
            "type": "heatmapgl"
           }
          ],
          "heatmap": [
           {
            "colorbar": {
             "outlinewidth": 0,
             "ticks": ""
            },
            "colorscale": [
             [
              0.0,
              "#0d0887"
             ],
             [
              0.1111111111111111,
              "#46039f"
             ],
             [
              0.2222222222222222,
              "#7201a8"
             ],
             [
              0.3333333333333333,
              "#9c179e"
             ],
             [
              0.4444444444444444,
              "#bd3786"
             ],
             [
              0.5555555555555556,
              "#d8576b"
             ],
             [
              0.6666666666666666,
              "#ed7953"
             ],
             [
              0.7777777777777778,
              "#fb9f3a"
             ],
             [
              0.8888888888888888,
              "#fdca26"
             ],
             [
              1.0,
              "#f0f921"
             ]
            ],
            "type": "heatmap"
           }
          ],
          "histogram2dcontour": [
           {
            "colorbar": {
             "outlinewidth": 0,
             "ticks": ""
            },
            "colorscale": [
             [
              0.0,
              "#0d0887"
             ],
             [
              0.1111111111111111,
              "#46039f"
             ],
             [
              0.2222222222222222,
              "#7201a8"
             ],
             [
              0.3333333333333333,
              "#9c179e"
             ],
             [
              0.4444444444444444,
              "#bd3786"
             ],
             [
              0.5555555555555556,
              "#d8576b"
             ],
             [
              0.6666666666666666,
              "#ed7953"
             ],
             [
              0.7777777777777778,
              "#fb9f3a"
             ],
             [
              0.8888888888888888,
              "#fdca26"
             ],
             [
              1.0,
              "#f0f921"
             ]
            ],
            "type": "histogram2dcontour"
           }
          ],
          "histogram2d": [
           {
            "colorbar": {
             "outlinewidth": 0,
             "ticks": ""
            },
            "colorscale": [
             [
              0.0,
              "#0d0887"
             ],
             [
              0.1111111111111111,
              "#46039f"
             ],
             [
              0.2222222222222222,
              "#7201a8"
             ],
             [
              0.3333333333333333,
              "#9c179e"
             ],
             [
              0.4444444444444444,
              "#bd3786"
             ],
             [
              0.5555555555555556,
              "#d8576b"
             ],
             [
              0.6666666666666666,
              "#ed7953"
             ],
             [
              0.7777777777777778,
              "#fb9f3a"
             ],
             [
              0.8888888888888888,
              "#fdca26"
             ],
             [
              1.0,
              "#f0f921"
             ]
            ],
            "type": "histogram2d"
           }
          ],
          "histogram": [
           {
            "marker": {
             "pattern": {
              "fillmode": "overlay",
              "size": 10,
              "solidity": 0.2
             }
            },
            "type": "histogram"
           }
          ],
          "mesh3d": [
           {
            "colorbar": {
             "outlinewidth": 0,
             "ticks": ""
            },
            "type": "mesh3d"
           }
          ],
          "parcoords": [
           {
            "line": {
             "colorbar": {
              "outlinewidth": 0,
              "ticks": ""
             }
            },
            "type": "parcoords"
           }
          ],
          "pie": [
           {
            "automargin": true,
            "type": "pie"
           }
          ],
          "scatter3d": [
           {
            "line": {
             "colorbar": {
              "outlinewidth": 0,
              "ticks": ""
             }
            },
            "marker": {
             "colorbar": {
              "outlinewidth": 0,
              "ticks": ""
             }
            },
            "type": "scatter3d"
           }
          ],
          "scattercarpet": [
           {
            "marker": {
             "colorbar": {
              "outlinewidth": 0,
              "ticks": ""
             }
            },
            "type": "scattercarpet"
           }
          ],
          "scattergeo": [
           {
            "marker": {
             "colorbar": {
              "outlinewidth": 0,
              "ticks": ""
             }
            },
            "type": "scattergeo"
           }
          ],
          "scattergl": [
           {
            "marker": {
             "colorbar": {
              "outlinewidth": 0,
              "ticks": ""
             }
            },
            "type": "scattergl"
           }
          ],
          "scattermapbox": [
           {
            "marker": {
             "colorbar": {
              "outlinewidth": 0,
              "ticks": ""
             }
            },
            "type": "scattermapbox"
           }
          ],
          "scatterpolargl": [
           {
            "marker": {
             "colorbar": {
              "outlinewidth": 0,
              "ticks": ""
             }
            },
            "type": "scatterpolargl"
           }
          ],
          "scatterpolar": [
           {
            "marker": {
             "colorbar": {
              "outlinewidth": 0,
              "ticks": ""
             }
            },
            "type": "scatterpolar"
           }
          ],
          "scatter": [
           {
            "fillpattern": {
             "fillmode": "overlay",
             "size": 10,
             "solidity": 0.2
            },
            "type": "scatter"
           }
          ],
          "scatterternary": [
           {
            "marker": {
             "colorbar": {
              "outlinewidth": 0,
              "ticks": ""
             }
            },
            "type": "scatterternary"
           }
          ],
          "surface": [
           {
            "colorbar": {
             "outlinewidth": 0,
             "ticks": ""
            },
            "colorscale": [
             [
              0.0,
              "#0d0887"
             ],
             [
              0.1111111111111111,
              "#46039f"
             ],
             [
              0.2222222222222222,
              "#7201a8"
             ],
             [
              0.3333333333333333,
              "#9c179e"
             ],
             [
              0.4444444444444444,
              "#bd3786"
             ],
             [
              0.5555555555555556,
              "#d8576b"
             ],
             [
              0.6666666666666666,
              "#ed7953"
             ],
             [
              0.7777777777777778,
              "#fb9f3a"
             ],
             [
              0.8888888888888888,
              "#fdca26"
             ],
             [
              1.0,
              "#f0f921"
             ]
            ],
            "type": "surface"
           }
          ],
          "table": [
           {
            "cells": {
             "fill": {
              "color": "#EBF0F8"
             },
             "line": {
              "color": "white"
             }
            },
            "header": {
             "fill": {
              "color": "#C8D4E3"
             },
             "line": {
              "color": "white"
             }
            },
            "type": "table"
           }
          ]
         },
         "layout": {
          "annotationdefaults": {
           "arrowcolor": "#2a3f5f",
           "arrowhead": 0,
           "arrowwidth": 1
          },
          "autotypenumbers": "strict",
          "coloraxis": {
           "colorbar": {
            "outlinewidth": 0,
            "ticks": ""
           }
          },
          "colorscale": {
           "diverging": [
            [
             0,
             "#8e0152"
            ],
            [
             0.1,
             "#c51b7d"
            ],
            [
             0.2,
             "#de77ae"
            ],
            [
             0.3,
             "#f1b6da"
            ],
            [
             0.4,
             "#fde0ef"
            ],
            [
             0.5,
             "#f7f7f7"
            ],
            [
             0.6,
             "#e6f5d0"
            ],
            [
             0.7,
             "#b8e186"
            ],
            [
             0.8,
             "#7fbc41"
            ],
            [
             0.9,
             "#4d9221"
            ],
            [
             1,
             "#276419"
            ]
           ],
           "sequential": [
            [
             0.0,
             "#0d0887"
            ],
            [
             0.1111111111111111,
             "#46039f"
            ],
            [
             0.2222222222222222,
             "#7201a8"
            ],
            [
             0.3333333333333333,
             "#9c179e"
            ],
            [
             0.4444444444444444,
             "#bd3786"
            ],
            [
             0.5555555555555556,
             "#d8576b"
            ],
            [
             0.6666666666666666,
             "#ed7953"
            ],
            [
             0.7777777777777778,
             "#fb9f3a"
            ],
            [
             0.8888888888888888,
             "#fdca26"
            ],
            [
             1.0,
             "#f0f921"
            ]
           ],
           "sequentialminus": [
            [
             0.0,
             "#0d0887"
            ],
            [
             0.1111111111111111,
             "#46039f"
            ],
            [
             0.2222222222222222,
             "#7201a8"
            ],
            [
             0.3333333333333333,
             "#9c179e"
            ],
            [
             0.4444444444444444,
             "#bd3786"
            ],
            [
             0.5555555555555556,
             "#d8576b"
            ],
            [
             0.6666666666666666,
             "#ed7953"
            ],
            [
             0.7777777777777778,
             "#fb9f3a"
            ],
            [
             0.8888888888888888,
             "#fdca26"
            ],
            [
             1.0,
             "#f0f921"
            ]
           ]
          },
          "colorway": [
           "#636efa",
           "#EF553B",
           "#00cc96",
           "#ab63fa",
           "#FFA15A",
           "#19d3f3",
           "#FF6692",
           "#B6E880",
           "#FF97FF",
           "#FECB52"
          ],
          "font": {
           "color": "#2a3f5f"
          },
          "geo": {
           "bgcolor": "white",
           "lakecolor": "white",
           "landcolor": "#E5ECF6",
           "showlakes": true,
           "showland": true,
           "subunitcolor": "white"
          },
          "hoverlabel": {
           "align": "left"
          },
          "hovermode": "closest",
          "mapbox": {
           "style": "light"
          },
          "paper_bgcolor": "white",
          "plot_bgcolor": "#E5ECF6",
          "polar": {
           "angularaxis": {
            "gridcolor": "white",
            "linecolor": "white",
            "ticks": ""
           },
           "bgcolor": "#E5ECF6",
           "radialaxis": {
            "gridcolor": "white",
            "linecolor": "white",
            "ticks": ""
           }
          },
          "scene": {
           "xaxis": {
            "backgroundcolor": "#E5ECF6",
            "gridcolor": "white",
            "gridwidth": 2,
            "linecolor": "white",
            "showbackground": true,
            "ticks": "",
            "zerolinecolor": "white"
           },
           "yaxis": {
            "backgroundcolor": "#E5ECF6",
            "gridcolor": "white",
            "gridwidth": 2,
            "linecolor": "white",
            "showbackground": true,
            "ticks": "",
            "zerolinecolor": "white"
           },
           "zaxis": {
            "backgroundcolor": "#E5ECF6",
            "gridcolor": "white",
            "gridwidth": 2,
            "linecolor": "white",
            "showbackground": true,
            "ticks": "",
            "zerolinecolor": "white"
           }
          },
          "shapedefaults": {
           "line": {
            "color": "#2a3f5f"
           }
          },
          "ternary": {
           "aaxis": {
            "gridcolor": "white",
            "linecolor": "white",
            "ticks": ""
           },
           "baxis": {
            "gridcolor": "white",
            "linecolor": "white",
            "ticks": ""
           },
           "bgcolor": "#E5ECF6",
           "caxis": {
            "gridcolor": "white",
            "linecolor": "white",
            "ticks": ""
           }
          },
          "title": {
           "x": 0.05
          },
          "xaxis": {
           "automargin": true,
           "gridcolor": "white",
           "linecolor": "white",
           "ticks": "",
           "title": {
            "standoff": 15
           },
           "zerolinecolor": "white",
           "zerolinewidth": 2
          },
          "yaxis": {
           "automargin": true,
           "gridcolor": "white",
           "linecolor": "white",
           "ticks": "",
           "title": {
            "standoff": 15
           },
           "zerolinecolor": "white",
           "zerolinewidth": 2
          }
         }
        },
        "title": {
         "text": "2D Visualization of Word Vectors"
        },
        "xaxis": {
         "range": [
          -2,
          2
         ],
         "title": {
          "text": "PC1"
         }
        },
        "yaxis": {
         "range": [
          -2,
          2
         ],
         "title": {
          "text": "PC2"
         }
        }
       },
       "config": {
        "showLink": false,
        "linkText": "Export to plot.ly",
        "plotlyServerURL": "https://plot.ly"
       }
      },
      "text/html": "<div>                            <div id=\"b6e37e1d-929d-4d52-a6a2-ce638a839a4e\" class=\"plotly-graph-div\" style=\"height:525px; width:100%;\"></div>            <script type=\"text/javascript\">                require([\"plotly\"], function(Plotly) {                    window.PLOTLYENV=window.PLOTLYENV || {};                                    if (document.getElementById(\"b6e37e1d-929d-4d52-a6a2-ce638a839a4e\")) {                    Plotly.newPlot(                        \"b6e37e1d-929d-4d52-a6a2-ce638a839a4e\",                        [{\"marker\":{\"color\":\"#636EFA\"},\"mode\":\"markers+text\",\"name\":\"uvalde\",\"showlegend\":false,\"text\":[\"uvalde\"],\"textposition\":\"top center\",\"x\":[-0.02192169986665249],\"y\":[-0.18720504641532898],\"type\":\"scatter\"},{\"marker\":{\"color\":\"#636EFA\",\"size\":10,\"symbol\":\"diamond\"},\"mode\":\"markers\",\"showlegend\":false,\"x\":[-0.02192169986665249],\"y\":[-0.18720504641532898],\"type\":\"scatter\"},{\"marker\":{\"color\":\"#AB63FA\"},\"mode\":\"markers+text\",\"name\":\"colorado\",\"showlegend\":false,\"text\":[\"colorado\"],\"textposition\":\"top center\",\"x\":[0.012971525080502033],\"y\":[1.0981117486953735],\"type\":\"scatter\"},{\"marker\":{\"color\":\"#AB63FA\",\"size\":10,\"symbol\":\"diamond\"},\"mode\":\"markers\",\"showlegend\":false,\"x\":[0.012971525080502033],\"y\":[1.0981117486953735],\"type\":\"scatter\"},{\"marker\":{\"color\":\"#00CC96\"},\"mode\":\"markers+text\",\"name\":\"nashville\",\"showlegend\":false,\"text\":[\"nashville\"],\"textposition\":\"top center\",\"x\":[1.230595588684082],\"y\":[-0.04573922976851463],\"type\":\"scatter\"},{\"marker\":{\"color\":\"#00CC96\",\"size\":10,\"symbol\":\"diamond\"},\"mode\":\"markers\",\"showlegend\":false,\"x\":[1.230595588684082],\"y\":[-0.04573922976851463],\"type\":\"scatter\"},{\"marker\":{\"color\":\"#EF553B\"},\"mode\":\"markers+text\",\"name\":\"shooting\",\"showlegend\":false,\"text\":[\"shooting\"],\"textposition\":\"top center\",\"x\":[-1.0184876918792725],\"y\":[-1.2608884572982788],\"type\":\"scatter\"},{\"marker\":{\"color\":\"#EF553B\",\"size\":10,\"symbol\":\"diamond\"},\"mode\":\"markers\",\"showlegend\":false,\"x\":[-1.0184876918792725],\"y\":[-1.2608884572982788],\"type\":\"scatter\"},{\"marker\":{\"color\":\"#636EFA\"},\"mode\":\"markers+text\",\"name\":\"uvalde\",\"showlegend\":false,\"text\":[\"uvalde\"],\"textposition\":\"top center\",\"x\":[0.1710413098335266],\"y\":[0.0591137632727623],\"type\":\"scatter\"},{\"line\":{\"color\":\"#636EFA\",\"width\":1},\"mode\":\"lines\",\"showlegend\":false,\"x\":[-0.02192169986665249,0.1710413098335266],\"y\":[-0.18720504641532898,0.0591137632727623],\"type\":\"scatter\"},{\"marker\":{\"color\":\"#AB63FA\"},\"mode\":\"markers+text\",\"name\":\"colorado\",\"showlegend\":false,\"text\":[\"colorado\"],\"textposition\":\"top center\",\"x\":[0.7377104759216309],\"y\":[1.6358532905578613],\"type\":\"scatter\"},{\"line\":{\"color\":\"#AB63FA\",\"width\":1},\"mode\":\"lines\",\"showlegend\":false,\"x\":[0.012971525080502033,0.7377104759216309],\"y\":[1.0981117486953735,1.6358532905578613],\"type\":\"scatter\"},{\"marker\":{\"color\":\"#00CC96\"},\"mode\":\"markers+text\",\"name\":\"nashville\",\"showlegend\":false,\"text\":[\"nashville\"],\"textposition\":\"top center\",\"x\":[1.0342891216278076],\"y\":[0.5520426630973816],\"type\":\"scatter\"},{\"line\":{\"color\":\"#00CC96\",\"width\":1},\"mode\":\"lines\",\"showlegend\":false,\"x\":[1.230595588684082,1.0342891216278076],\"y\":[-0.04573922976851463,0.5520426630973816],\"type\":\"scatter\"},{\"marker\":{\"color\":\"#EF553B\"},\"mode\":\"markers+text\",\"name\":\"shooting\",\"showlegend\":false,\"text\":[\"shooting\"],\"textposition\":\"top center\",\"x\":[-1.3350460529327393],\"y\":[-1.3478623628616333],\"type\":\"scatter\"},{\"line\":{\"color\":\"#EF553B\",\"width\":1},\"mode\":\"lines\",\"showlegend\":false,\"x\":[-1.0184876918792725,-1.3350460529327393],\"y\":[-1.2608884572982788,-1.3478623628616333],\"type\":\"scatter\"},{\"marker\":{\"color\":\"#636EFA\"},\"mode\":\"markers+text\",\"name\":\"uvalde\",\"showlegend\":false,\"text\":[\"uvalde\"],\"textposition\":\"top center\",\"x\":[0.5551108717918396],\"y\":[0.6559445261955261],\"type\":\"scatter\"},{\"line\":{\"color\":\"#636EFA\",\"width\":1},\"mode\":\"lines\",\"showlegend\":false,\"x\":[0.1710413098335266,0.5551108717918396],\"y\":[0.0591137632727623,0.6559445261955261],\"type\":\"scatter\"},{\"marker\":{\"color\":\"#AB63FA\"},\"mode\":\"markers+text\",\"name\":\"colorado\",\"showlegend\":false,\"text\":[\"colorado\"],\"textposition\":\"top center\",\"x\":[0.2894771695137024],\"y\":[0.9309515357017517],\"type\":\"scatter\"},{\"line\":{\"color\":\"#AB63FA\",\"width\":1},\"mode\":\"lines\",\"showlegend\":false,\"x\":[0.7377104759216309,0.2894771695137024],\"y\":[1.6358532905578613,0.9309515357017517],\"type\":\"scatter\"},{\"marker\":{\"color\":\"#00CC96\"},\"mode\":\"markers+text\",\"name\":\"nashville\",\"showlegend\":false,\"text\":[\"nashville\"],\"textposition\":\"top center\",\"x\":[1.2489064931869507],\"y\":[0.2811579704284668],\"type\":\"scatter\"},{\"line\":{\"color\":\"#00CC96\",\"width\":1},\"mode\":\"lines\",\"showlegend\":false,\"x\":[1.0342891216278076,1.2489064931869507],\"y\":[0.5520426630973816,0.2811579704284668],\"type\":\"scatter\"},{\"marker\":{\"color\":\"#EF553B\"},\"mode\":\"markers+text\",\"name\":\"shooting\",\"showlegend\":false,\"text\":[\"shooting\"],\"textposition\":\"top center\",\"x\":[-1.282792568206787],\"y\":[-1.0603402853012085],\"type\":\"scatter\"},{\"line\":{\"color\":\"#EF553B\",\"width\":1},\"mode\":\"lines\",\"showlegend\":false,\"x\":[-1.3350460529327393,-1.282792568206787],\"y\":[-1.3478623628616333,-1.0603402853012085],\"type\":\"scatter\"},{\"marker\":{\"color\":\"#636EFA\"},\"mode\":\"markers+text\",\"name\":\"uvalde\",\"showlegend\":false,\"text\":[\"uvalde\"],\"textposition\":\"top center\",\"x\":[0.9371484518051147],\"y\":[0.22573065757751465],\"type\":\"scatter\"},{\"line\":{\"color\":\"#636EFA\",\"width\":1},\"mode\":\"lines\",\"showlegend\":false,\"x\":[0.5551108717918396,0.9371484518051147],\"y\":[0.6559445261955261,0.22573065757751465],\"type\":\"scatter\"},{\"marker\":{\"color\":\"#AB63FA\"},\"mode\":\"markers+text\",\"name\":\"colorado\",\"showlegend\":false,\"text\":[\"colorado\"],\"textposition\":\"top center\",\"x\":[0.643921434879303],\"y\":[1.2837265729904175],\"type\":\"scatter\"},{\"line\":{\"color\":\"#AB63FA\",\"width\":1},\"mode\":\"lines\",\"showlegend\":false,\"x\":[0.2894771695137024,0.643921434879303],\"y\":[0.9309515357017517,1.2837265729904175],\"type\":\"scatter\"},{\"marker\":{\"color\":\"#00CC96\"},\"mode\":\"markers+text\",\"name\":\"nashville\",\"showlegend\":false,\"text\":[\"nashville\"],\"textposition\":\"top center\",\"x\":[-1.565542221069336],\"y\":[-1.717772364616394],\"type\":\"scatter\"},{\"line\":{\"color\":\"#00CC96\",\"width\":1},\"mode\":\"lines\",\"showlegend\":false,\"x\":[1.2489064931869507,-1.565542221069336],\"y\":[0.2811579704284668,-1.717772364616394],\"type\":\"scatter\"},{\"marker\":{\"color\":\"#EF553B\"},\"mode\":\"markers+text\",\"name\":\"shooting\",\"showlegend\":false,\"text\":[\"shooting\"],\"textposition\":\"top center\",\"x\":[-1.6373822689056396],\"y\":[-1.1028248071670532],\"type\":\"scatter\"},{\"line\":{\"color\":\"#EF553B\",\"width\":1},\"mode\":\"lines\",\"showlegend\":false,\"x\":[-1.282792568206787,-1.6373822689056396],\"y\":[-1.0603402853012085,-1.1028248071670532],\"type\":\"scatter\"}],                        {\"legend\":{\"x\":1.02,\"y\":1.0},\"template\":{\"data\":{\"barpolar\":[{\"marker\":{\"line\":{\"color\":\"#E5ECF6\",\"width\":0.5},\"pattern\":{\"fillmode\":\"overlay\",\"size\":10,\"solidity\":0.2}},\"type\":\"barpolar\"}],\"bar\":[{\"error_x\":{\"color\":\"#2a3f5f\"},\"error_y\":{\"color\":\"#2a3f5f\"},\"marker\":{\"line\":{\"color\":\"#E5ECF6\",\"width\":0.5},\"pattern\":{\"fillmode\":\"overlay\",\"size\":10,\"solidity\":0.2}},\"type\":\"bar\"}],\"carpet\":[{\"aaxis\":{\"endlinecolor\":\"#2a3f5f\",\"gridcolor\":\"white\",\"linecolor\":\"white\",\"minorgridcolor\":\"white\",\"startlinecolor\":\"#2a3f5f\"},\"baxis\":{\"endlinecolor\":\"#2a3f5f\",\"gridcolor\":\"white\",\"linecolor\":\"white\",\"minorgridcolor\":\"white\",\"startlinecolor\":\"#2a3f5f\"},\"type\":\"carpet\"}],\"choropleth\":[{\"colorbar\":{\"outlinewidth\":0,\"ticks\":\"\"},\"type\":\"choropleth\"}],\"contourcarpet\":[{\"colorbar\":{\"outlinewidth\":0,\"ticks\":\"\"},\"type\":\"contourcarpet\"}],\"contour\":[{\"colorbar\":{\"outlinewidth\":0,\"ticks\":\"\"},\"colorscale\":[[0.0,\"#0d0887\"],[0.1111111111111111,\"#46039f\"],[0.2222222222222222,\"#7201a8\"],[0.3333333333333333,\"#9c179e\"],[0.4444444444444444,\"#bd3786\"],[0.5555555555555556,\"#d8576b\"],[0.6666666666666666,\"#ed7953\"],[0.7777777777777778,\"#fb9f3a\"],[0.8888888888888888,\"#fdca26\"],[1.0,\"#f0f921\"]],\"type\":\"contour\"}],\"heatmapgl\":[{\"colorbar\":{\"outlinewidth\":0,\"ticks\":\"\"},\"colorscale\":[[0.0,\"#0d0887\"],[0.1111111111111111,\"#46039f\"],[0.2222222222222222,\"#7201a8\"],[0.3333333333333333,\"#9c179e\"],[0.4444444444444444,\"#bd3786\"],[0.5555555555555556,\"#d8576b\"],[0.6666666666666666,\"#ed7953\"],[0.7777777777777778,\"#fb9f3a\"],[0.8888888888888888,\"#fdca26\"],[1.0,\"#f0f921\"]],\"type\":\"heatmapgl\"}],\"heatmap\":[{\"colorbar\":{\"outlinewidth\":0,\"ticks\":\"\"},\"colorscale\":[[0.0,\"#0d0887\"],[0.1111111111111111,\"#46039f\"],[0.2222222222222222,\"#7201a8\"],[0.3333333333333333,\"#9c179e\"],[0.4444444444444444,\"#bd3786\"],[0.5555555555555556,\"#d8576b\"],[0.6666666666666666,\"#ed7953\"],[0.7777777777777778,\"#fb9f3a\"],[0.8888888888888888,\"#fdca26\"],[1.0,\"#f0f921\"]],\"type\":\"heatmap\"}],\"histogram2dcontour\":[{\"colorbar\":{\"outlinewidth\":0,\"ticks\":\"\"},\"colorscale\":[[0.0,\"#0d0887\"],[0.1111111111111111,\"#46039f\"],[0.2222222222222222,\"#7201a8\"],[0.3333333333333333,\"#9c179e\"],[0.4444444444444444,\"#bd3786\"],[0.5555555555555556,\"#d8576b\"],[0.6666666666666666,\"#ed7953\"],[0.7777777777777778,\"#fb9f3a\"],[0.8888888888888888,\"#fdca26\"],[1.0,\"#f0f921\"]],\"type\":\"histogram2dcontour\"}],\"histogram2d\":[{\"colorbar\":{\"outlinewidth\":0,\"ticks\":\"\"},\"colorscale\":[[0.0,\"#0d0887\"],[0.1111111111111111,\"#46039f\"],[0.2222222222222222,\"#7201a8\"],[0.3333333333333333,\"#9c179e\"],[0.4444444444444444,\"#bd3786\"],[0.5555555555555556,\"#d8576b\"],[0.6666666666666666,\"#ed7953\"],[0.7777777777777778,\"#fb9f3a\"],[0.8888888888888888,\"#fdca26\"],[1.0,\"#f0f921\"]],\"type\":\"histogram2d\"}],\"histogram\":[{\"marker\":{\"pattern\":{\"fillmode\":\"overlay\",\"size\":10,\"solidity\":0.2}},\"type\":\"histogram\"}],\"mesh3d\":[{\"colorbar\":{\"outlinewidth\":0,\"ticks\":\"\"},\"type\":\"mesh3d\"}],\"parcoords\":[{\"line\":{\"colorbar\":{\"outlinewidth\":0,\"ticks\":\"\"}},\"type\":\"parcoords\"}],\"pie\":[{\"automargin\":true,\"type\":\"pie\"}],\"scatter3d\":[{\"line\":{\"colorbar\":{\"outlinewidth\":0,\"ticks\":\"\"}},\"marker\":{\"colorbar\":{\"outlinewidth\":0,\"ticks\":\"\"}},\"type\":\"scatter3d\"}],\"scattercarpet\":[{\"marker\":{\"colorbar\":{\"outlinewidth\":0,\"ticks\":\"\"}},\"type\":\"scattercarpet\"}],\"scattergeo\":[{\"marker\":{\"colorbar\":{\"outlinewidth\":0,\"ticks\":\"\"}},\"type\":\"scattergeo\"}],\"scattergl\":[{\"marker\":{\"colorbar\":{\"outlinewidth\":0,\"ticks\":\"\"}},\"type\":\"scattergl\"}],\"scattermapbox\":[{\"marker\":{\"colorbar\":{\"outlinewidth\":0,\"ticks\":\"\"}},\"type\":\"scattermapbox\"}],\"scatterpolargl\":[{\"marker\":{\"colorbar\":{\"outlinewidth\":0,\"ticks\":\"\"}},\"type\":\"scatterpolargl\"}],\"scatterpolar\":[{\"marker\":{\"colorbar\":{\"outlinewidth\":0,\"ticks\":\"\"}},\"type\":\"scatterpolar\"}],\"scatter\":[{\"fillpattern\":{\"fillmode\":\"overlay\",\"size\":10,\"solidity\":0.2},\"type\":\"scatter\"}],\"scatterternary\":[{\"marker\":{\"colorbar\":{\"outlinewidth\":0,\"ticks\":\"\"}},\"type\":\"scatterternary\"}],\"surface\":[{\"colorbar\":{\"outlinewidth\":0,\"ticks\":\"\"},\"colorscale\":[[0.0,\"#0d0887\"],[0.1111111111111111,\"#46039f\"],[0.2222222222222222,\"#7201a8\"],[0.3333333333333333,\"#9c179e\"],[0.4444444444444444,\"#bd3786\"],[0.5555555555555556,\"#d8576b\"],[0.6666666666666666,\"#ed7953\"],[0.7777777777777778,\"#fb9f3a\"],[0.8888888888888888,\"#fdca26\"],[1.0,\"#f0f921\"]],\"type\":\"surface\"}],\"table\":[{\"cells\":{\"fill\":{\"color\":\"#EBF0F8\"},\"line\":{\"color\":\"white\"}},\"header\":{\"fill\":{\"color\":\"#C8D4E3\"},\"line\":{\"color\":\"white\"}},\"type\":\"table\"}]},\"layout\":{\"annotationdefaults\":{\"arrowcolor\":\"#2a3f5f\",\"arrowhead\":0,\"arrowwidth\":1},\"autotypenumbers\":\"strict\",\"coloraxis\":{\"colorbar\":{\"outlinewidth\":0,\"ticks\":\"\"}},\"colorscale\":{\"diverging\":[[0,\"#8e0152\"],[0.1,\"#c51b7d\"],[0.2,\"#de77ae\"],[0.3,\"#f1b6da\"],[0.4,\"#fde0ef\"],[0.5,\"#f7f7f7\"],[0.6,\"#e6f5d0\"],[0.7,\"#b8e186\"],[0.8,\"#7fbc41\"],[0.9,\"#4d9221\"],[1,\"#276419\"]],\"sequential\":[[0.0,\"#0d0887\"],[0.1111111111111111,\"#46039f\"],[0.2222222222222222,\"#7201a8\"],[0.3333333333333333,\"#9c179e\"],[0.4444444444444444,\"#bd3786\"],[0.5555555555555556,\"#d8576b\"],[0.6666666666666666,\"#ed7953\"],[0.7777777777777778,\"#fb9f3a\"],[0.8888888888888888,\"#fdca26\"],[1.0,\"#f0f921\"]],\"sequentialminus\":[[0.0,\"#0d0887\"],[0.1111111111111111,\"#46039f\"],[0.2222222222222222,\"#7201a8\"],[0.3333333333333333,\"#9c179e\"],[0.4444444444444444,\"#bd3786\"],[0.5555555555555556,\"#d8576b\"],[0.6666666666666666,\"#ed7953\"],[0.7777777777777778,\"#fb9f3a\"],[0.8888888888888888,\"#fdca26\"],[1.0,\"#f0f921\"]]},\"colorway\":[\"#636efa\",\"#EF553B\",\"#00cc96\",\"#ab63fa\",\"#FFA15A\",\"#19d3f3\",\"#FF6692\",\"#B6E880\",\"#FF97FF\",\"#FECB52\"],\"font\":{\"color\":\"#2a3f5f\"},\"geo\":{\"bgcolor\":\"white\",\"lakecolor\":\"white\",\"landcolor\":\"#E5ECF6\",\"showlakes\":true,\"showland\":true,\"subunitcolor\":\"white\"},\"hoverlabel\":{\"align\":\"left\"},\"hovermode\":\"closest\",\"mapbox\":{\"style\":\"light\"},\"paper_bgcolor\":\"white\",\"plot_bgcolor\":\"#E5ECF6\",\"polar\":{\"angularaxis\":{\"gridcolor\":\"white\",\"linecolor\":\"white\",\"ticks\":\"\"},\"bgcolor\":\"#E5ECF6\",\"radialaxis\":{\"gridcolor\":\"white\",\"linecolor\":\"white\",\"ticks\":\"\"}},\"scene\":{\"xaxis\":{\"backgroundcolor\":\"#E5ECF6\",\"gridcolor\":\"white\",\"gridwidth\":2,\"linecolor\":\"white\",\"showbackground\":true,\"ticks\":\"\",\"zerolinecolor\":\"white\"},\"yaxis\":{\"backgroundcolor\":\"#E5ECF6\",\"gridcolor\":\"white\",\"gridwidth\":2,\"linecolor\":\"white\",\"showbackground\":true,\"ticks\":\"\",\"zerolinecolor\":\"white\"},\"zaxis\":{\"backgroundcolor\":\"#E5ECF6\",\"gridcolor\":\"white\",\"gridwidth\":2,\"linecolor\":\"white\",\"showbackground\":true,\"ticks\":\"\",\"zerolinecolor\":\"white\"}},\"shapedefaults\":{\"line\":{\"color\":\"#2a3f5f\"}},\"ternary\":{\"aaxis\":{\"gridcolor\":\"white\",\"linecolor\":\"white\",\"ticks\":\"\"},\"baxis\":{\"gridcolor\":\"white\",\"linecolor\":\"white\",\"ticks\":\"\"},\"bgcolor\":\"#E5ECF6\",\"caxis\":{\"gridcolor\":\"white\",\"linecolor\":\"white\",\"ticks\":\"\"}},\"title\":{\"x\":0.05},\"xaxis\":{\"automargin\":true,\"gridcolor\":\"white\",\"linecolor\":\"white\",\"ticks\":\"\",\"title\":{\"standoff\":15},\"zerolinecolor\":\"white\",\"zerolinewidth\":2},\"yaxis\":{\"automargin\":true,\"gridcolor\":\"white\",\"linecolor\":\"white\",\"ticks\":\"\",\"title\":{\"standoff\":15},\"zerolinecolor\":\"white\",\"zerolinewidth\":2}}},\"title\":{\"text\":\"2D Visualization of Word Vectors\"},\"xaxis\":{\"range\":[-2,2],\"title\":{\"text\":\"PC1\"}},\"yaxis\":{\"range\":[-2,2],\"title\":{\"text\":\"PC2\"}}},                        {\"responsive\": true}                    ).then(function(){\n                            \nvar gd = document.getElementById('b6e37e1d-929d-4d52-a6a2-ce638a839a4e');\nvar x = new MutationObserver(function (mutations, observer) {{\n        var display = window.getComputedStyle(gd).display;\n        if (!display || display === 'none') {{\n            console.log([gd, 'removed!']);\n            Plotly.purge(gd);\n            observer.disconnect();\n        }}\n}});\n\n// Listen for the removal of the full notebook cells\nvar notebookContainer = gd.closest('#notebook-container');\nif (notebookContainer) {{\n    x.observe(notebookContainer, {childList: true});\n}}\n\n// Listen for the clearing of the current output cell\nvar outputEl = gd.closest('.output');\nif (outputEl) {{\n    x.observe(outputEl, {childList: true});\n}}\n\n                        })                };                });            </script>        </div>"
     },
     "metadata": {},
     "output_type": "display_data"
    }
   ],
   "source": [
    "plot_word_vectors_cade(cade_models_quarterly, test_words_shootings + [target_word_shootings], range=[-2, 2], use_tsne=True, perplexity=3)"
   ],
   "metadata": {
    "collapsed": false
   }
  },
  {
   "cell_type": "markdown",
   "source": [
    "#### TPPMI"
   ],
   "metadata": {
    "collapsed": false
   }
  },
  {
   "cell_type": "code",
   "execution_count": 19,
   "outputs": [
    {
     "name": "stdout",
     "output_type": "stream",
     "text": [
      "All words are contained in the vocabulary\n"
     ]
    }
   ],
   "source": [
    "tppmi_shootings = tppmi_model.get_tppmi(test_words_shootings + [target_word_shootings], smooth=True)"
   ],
   "metadata": {
    "collapsed": false
   }
  },
  {
   "cell_type": "code",
   "execution_count": 21,
   "outputs": [
    {
     "name": "stdout",
     "output_type": "stream",
     "text": [
      "All words are contained in the vocabulary\n"
     ]
    },
    {
     "data": {
      "text/html": "        <script type=\"text/javascript\">\n        window.PlotlyConfig = {MathJaxConfig: 'local'};\n        if (window.MathJax && window.MathJax.Hub && window.MathJax.Hub.Config) {window.MathJax.Hub.Config({SVG: {font: \"STIX-Web\"}});}\n        if (typeof require !== 'undefined') {\n        require.undef(\"plotly\");\n        requirejs.config({\n            paths: {\n                'plotly': ['https://cdn.plot.ly/plotly-2.25.2.min']\n            }\n        });\n        require(['plotly'], function(Plotly) {\n            window._Plotly = Plotly;\n        });\n        }\n        </script>\n        "
     },
     "metadata": {},
     "output_type": "display_data"
    },
    {
     "data": {
      "application/vnd.plotly.v1+json": {
       "data": [
        {
         "marker": {
          "color": "#636EFA"
         },
         "mode": "markers+text",
         "name": "uvalde",
         "showlegend": false,
         "text": [
          "uvalde"
         ],
         "textposition": "top center",
         "x": [
          -3.345507888501946
         ],
         "y": [
          0.6205980416175007
         ],
         "type": "scatter"
        },
        {
         "marker": {
          "color": "#636EFA",
          "size": 10,
          "symbol": "diamond"
         },
         "mode": "markers",
         "showlegend": false,
         "x": [
          -3.345507888501946
         ],
         "y": [
          0.6205980416175007
         ],
         "type": "scatter"
        },
        {
         "marker": {
          "color": "#636EFA"
         },
         "mode": "markers+text",
         "name": "uvalde",
         "showlegend": false,
         "text": [
          "uvalde"
         ],
         "textposition": "top center",
         "x": [
          1.6301492142900966
         ],
         "y": [
          0.9494069710460948
         ],
         "type": "scatter"
        },
        {
         "line": {
          "color": "#636EFA",
          "width": 1
         },
         "mode": "lines",
         "showlegend": false,
         "x": [
          -3.345507888501946,
          1.6301492142900966
         ],
         "y": [
          0.6205980416175007,
          0.9494069710460948
         ],
         "type": "scatter"
        },
        {
         "marker": {
          "color": "#636EFA"
         },
         "mode": "markers+text",
         "name": "uvalde",
         "showlegend": false,
         "text": [
          "uvalde"
         ],
         "textposition": "top center",
         "x": [
          -2.8177789775585325
         ],
         "y": [
          0.3370526411368421
         ],
         "type": "scatter"
        },
        {
         "line": {
          "color": "#636EFA",
          "width": 1
         },
         "mode": "lines",
         "showlegend": false,
         "x": [
          1.6301492142900966,
          -2.8177789775585325
         ],
         "y": [
          0.9494069710460948,
          0.3370526411368421
         ],
         "type": "scatter"
        },
        {
         "marker": {
          "color": "#636EFA"
         },
         "mode": "markers+text",
         "name": "uvalde",
         "showlegend": false,
         "text": [
          "uvalde"
         ],
         "textposition": "top center",
         "x": [
          1.1880576763982165
         ],
         "y": [
          -3.630943898244526
         ],
         "type": "scatter"
        },
        {
         "line": {
          "color": "#636EFA",
          "width": 1
         },
         "mode": "lines",
         "showlegend": false,
         "x": [
          -2.8177789775585325,
          1.1880576763982165
         ],
         "y": [
          0.3370526411368421,
          -3.630943898244526
         ],
         "type": "scatter"
        },
        {
         "marker": {
          "color": "#AB63FA"
         },
         "mode": "markers+text",
         "name": "colorado",
         "showlegend": false,
         "text": [
          "colorado"
         ],
         "textposition": "top center",
         "x": [
          0.9762259412528445
         ],
         "y": [
          1.4134705402949252
         ],
         "type": "scatter"
        },
        {
         "marker": {
          "color": "#AB63FA",
          "size": 10,
          "symbol": "diamond"
         },
         "mode": "markers",
         "showlegend": false,
         "x": [
          0.9762259412528445
         ],
         "y": [
          1.4134705402949252
         ],
         "type": "scatter"
        },
        {
         "marker": {
          "color": "#AB63FA"
         },
         "mode": "markers+text",
         "name": "colorado",
         "showlegend": false,
         "text": [
          "colorado"
         ],
         "textposition": "top center",
         "x": [
          -2.3296353537858376
         ],
         "y": [
          9.325824781270088
         ],
         "type": "scatter"
        },
        {
         "line": {
          "color": "#AB63FA",
          "width": 1
         },
         "mode": "lines",
         "showlegend": false,
         "x": [
          0.9762259412528445,
          -2.3296353537858376
         ],
         "y": [
          1.4134705402949252,
          9.325824781270088
         ],
         "type": "scatter"
        },
        {
         "marker": {
          "color": "#AB63FA"
         },
         "mode": "markers+text",
         "name": "colorado",
         "showlegend": false,
         "text": [
          "colorado"
         ],
         "textposition": "top center",
         "x": [
          0.27149135840234234
         ],
         "y": [
          1.3129752146576004
         ],
         "type": "scatter"
        },
        {
         "line": {
          "color": "#AB63FA",
          "width": 1
         },
         "mode": "lines",
         "showlegend": false,
         "x": [
          -2.3296353537858376,
          0.27149135840234234
         ],
         "y": [
          9.325824781270088,
          1.3129752146576004
         ],
         "type": "scatter"
        },
        {
         "marker": {
          "color": "#AB63FA"
         },
         "mode": "markers+text",
         "name": "colorado",
         "showlegend": false,
         "text": [
          "colorado"
         ],
         "textposition": "top center",
         "x": [
          -4.357739173713078
         ],
         "y": [
          -0.3642953191803326
         ],
         "type": "scatter"
        },
        {
         "line": {
          "color": "#AB63FA",
          "width": 1
         },
         "mode": "lines",
         "showlegend": false,
         "x": [
          0.27149135840234234,
          -4.357739173713078
         ],
         "y": [
          1.3129752146576004,
          -0.3642953191803326
         ],
         "type": "scatter"
        },
        {
         "marker": {
          "color": "#00CC96"
         },
         "mode": "markers+text",
         "name": "nashville",
         "showlegend": false,
         "text": [
          "nashville"
         ],
         "textposition": "top center",
         "x": [
          10.898833991683599
         ],
         "y": [
          -0.6814913162175217
         ],
         "type": "scatter"
        },
        {
         "marker": {
          "color": "#00CC96",
          "size": 10,
          "symbol": "diamond"
         },
         "mode": "markers",
         "showlegend": false,
         "x": [
          10.898833991683599
         ],
         "y": [
          -0.6814913162175217
         ],
         "type": "scatter"
        },
        {
         "marker": {
          "color": "#00CC96"
         },
         "mode": "markers+text",
         "name": "nashville",
         "showlegend": false,
         "text": [
          "nashville"
         ],
         "textposition": "top center",
         "x": [
          -3.854133719017929
         ],
         "y": [
          -3.7623257785464173
         ],
         "type": "scatter"
        },
        {
         "line": {
          "color": "#00CC96",
          "width": 1
         },
         "mode": "lines",
         "showlegend": false,
         "x": [
          10.898833991683599,
          -3.854133719017929
         ],
         "y": [
          -0.6814913162175217,
          -3.7623257785464173
         ],
         "type": "scatter"
        },
        {
         "marker": {
          "color": "#00CC96"
         },
         "mode": "markers+text",
         "name": "nashville",
         "showlegend": false,
         "text": [
          "nashville"
         ],
         "textposition": "top center",
         "x": [
          -1.4714976141770475
         ],
         "y": [
          3.2019485095697444
         ],
         "type": "scatter"
        },
        {
         "line": {
          "color": "#00CC96",
          "width": 1
         },
         "mode": "lines",
         "showlegend": false,
         "x": [
          -3.854133719017929,
          -1.4714976141770475
         ],
         "y": [
          -3.7623257785464173,
          3.2019485095697444
         ],
         "type": "scatter"
        },
        {
         "marker": {
          "color": "#00CC96"
         },
         "mode": "markers+text",
         "name": "nashville",
         "showlegend": false,
         "text": [
          "nashville"
         ],
         "textposition": "top center",
         "x": [
          -5.302734239898646
         ],
         "y": [
          -7.993226003846211
         ],
         "type": "scatter"
        },
        {
         "line": {
          "color": "#00CC96",
          "width": 1
         },
         "mode": "lines",
         "showlegend": false,
         "x": [
          -1.4714976141770475,
          -5.302734239898646
         ],
         "y": [
          3.2019485095697444,
          -7.993226003846211
         ],
         "type": "scatter"
        },
        {
         "marker": {
          "color": "#EF553B"
         },
         "mode": "markers+text",
         "name": "shooting",
         "showlegend": false,
         "text": [
          "shooting"
         ],
         "textposition": "top center",
         "x": [
          5.031263440184786
         ],
         "y": [
          -1.8346068895359402
         ],
         "type": "scatter"
        },
        {
         "marker": {
          "color": "#EF553B",
          "size": 10,
          "symbol": "diamond"
         },
         "mode": "markers",
         "showlegend": false,
         "x": [
          5.031263440184786
         ],
         "y": [
          -1.8346068895359402
         ],
         "type": "scatter"
        },
        {
         "marker": {
          "color": "#EF553B"
         },
         "mode": "markers+text",
         "name": "shooting",
         "showlegend": false,
         "text": [
          "shooting"
         ],
         "textposition": "top center",
         "x": [
          5.4490493195495215
         ],
         "y": [
          -1.823605220507951
         ],
         "type": "scatter"
        },
        {
         "line": {
          "color": "#EF553B",
          "width": 1
         },
         "mode": "lines",
         "showlegend": false,
         "x": [
          5.031263440184786,
          5.4490493195495215
         ],
         "y": [
          -1.8346068895359402,
          -1.823605220507951
         ],
         "type": "scatter"
        },
        {
         "marker": {
          "color": "#EF553B"
         },
         "mode": "markers+text",
         "name": "shooting",
         "showlegend": false,
         "text": [
          "shooting"
         ],
         "textposition": "top center",
         "x": [
          -1.3437612792798823
         ],
         "y": [
          -0.6053646669417525
         ],
         "type": "scatter"
        },
        {
         "line": {
          "color": "#EF553B",
          "width": 1
         },
         "mode": "lines",
         "showlegend": false,
         "x": [
          5.4490493195495215,
          -1.3437612792798823
         ],
         "y": [
          -1.823605220507951,
          -0.6053646669417525
         ],
         "type": "scatter"
        },
        {
         "marker": {
          "color": "#EF553B"
         },
         "mode": "markers+text",
         "name": "shooting",
         "showlegend": false,
         "text": [
          "shooting"
         ],
         "textposition": "top center",
         "x": [
          -0.6222826958285204
         ],
         "y": [
          3.534582393427848
         ],
         "type": "scatter"
        },
        {
         "line": {
          "color": "#EF553B",
          "width": 1
         },
         "mode": "lines",
         "showlegend": false,
         "x": [
          -1.3437612792798823,
          -0.6222826958285204
         ],
         "y": [
          -0.6053646669417525,
          3.534582393427848
         ],
         "type": "scatter"
        }
       ],
       "layout": {
        "legend": {
         "x": 1.02,
         "y": 1.0
        },
        "template": {
         "data": {
          "barpolar": [
           {
            "marker": {
             "line": {
              "color": "#E5ECF6",
              "width": 0.5
             },
             "pattern": {
              "fillmode": "overlay",
              "size": 10,
              "solidity": 0.2
             }
            },
            "type": "barpolar"
           }
          ],
          "bar": [
           {
            "error_x": {
             "color": "#2a3f5f"
            },
            "error_y": {
             "color": "#2a3f5f"
            },
            "marker": {
             "line": {
              "color": "#E5ECF6",
              "width": 0.5
             },
             "pattern": {
              "fillmode": "overlay",
              "size": 10,
              "solidity": 0.2
             }
            },
            "type": "bar"
           }
          ],
          "carpet": [
           {
            "aaxis": {
             "endlinecolor": "#2a3f5f",
             "gridcolor": "white",
             "linecolor": "white",
             "minorgridcolor": "white",
             "startlinecolor": "#2a3f5f"
            },
            "baxis": {
             "endlinecolor": "#2a3f5f",
             "gridcolor": "white",
             "linecolor": "white",
             "minorgridcolor": "white",
             "startlinecolor": "#2a3f5f"
            },
            "type": "carpet"
           }
          ],
          "choropleth": [
           {
            "colorbar": {
             "outlinewidth": 0,
             "ticks": ""
            },
            "type": "choropleth"
           }
          ],
          "contourcarpet": [
           {
            "colorbar": {
             "outlinewidth": 0,
             "ticks": ""
            },
            "type": "contourcarpet"
           }
          ],
          "contour": [
           {
            "colorbar": {
             "outlinewidth": 0,
             "ticks": ""
            },
            "colorscale": [
             [
              0.0,
              "#0d0887"
             ],
             [
              0.1111111111111111,
              "#46039f"
             ],
             [
              0.2222222222222222,
              "#7201a8"
             ],
             [
              0.3333333333333333,
              "#9c179e"
             ],
             [
              0.4444444444444444,
              "#bd3786"
             ],
             [
              0.5555555555555556,
              "#d8576b"
             ],
             [
              0.6666666666666666,
              "#ed7953"
             ],
             [
              0.7777777777777778,
              "#fb9f3a"
             ],
             [
              0.8888888888888888,
              "#fdca26"
             ],
             [
              1.0,
              "#f0f921"
             ]
            ],
            "type": "contour"
           }
          ],
          "heatmapgl": [
           {
            "colorbar": {
             "outlinewidth": 0,
             "ticks": ""
            },
            "colorscale": [
             [
              0.0,
              "#0d0887"
             ],
             [
              0.1111111111111111,
              "#46039f"
             ],
             [
              0.2222222222222222,
              "#7201a8"
             ],
             [
              0.3333333333333333,
              "#9c179e"
             ],
             [
              0.4444444444444444,
              "#bd3786"
             ],
             [
              0.5555555555555556,
              "#d8576b"
             ],
             [
              0.6666666666666666,
              "#ed7953"
             ],
             [
              0.7777777777777778,
              "#fb9f3a"
             ],
             [
              0.8888888888888888,
              "#fdca26"
             ],
             [
              1.0,
              "#f0f921"
             ]
            ],
            "type": "heatmapgl"
           }
          ],
          "heatmap": [
           {
            "colorbar": {
             "outlinewidth": 0,
             "ticks": ""
            },
            "colorscale": [
             [
              0.0,
              "#0d0887"
             ],
             [
              0.1111111111111111,
              "#46039f"
             ],
             [
              0.2222222222222222,
              "#7201a8"
             ],
             [
              0.3333333333333333,
              "#9c179e"
             ],
             [
              0.4444444444444444,
              "#bd3786"
             ],
             [
              0.5555555555555556,
              "#d8576b"
             ],
             [
              0.6666666666666666,
              "#ed7953"
             ],
             [
              0.7777777777777778,
              "#fb9f3a"
             ],
             [
              0.8888888888888888,
              "#fdca26"
             ],
             [
              1.0,
              "#f0f921"
             ]
            ],
            "type": "heatmap"
           }
          ],
          "histogram2dcontour": [
           {
            "colorbar": {
             "outlinewidth": 0,
             "ticks": ""
            },
            "colorscale": [
             [
              0.0,
              "#0d0887"
             ],
             [
              0.1111111111111111,
              "#46039f"
             ],
             [
              0.2222222222222222,
              "#7201a8"
             ],
             [
              0.3333333333333333,
              "#9c179e"
             ],
             [
              0.4444444444444444,
              "#bd3786"
             ],
             [
              0.5555555555555556,
              "#d8576b"
             ],
             [
              0.6666666666666666,
              "#ed7953"
             ],
             [
              0.7777777777777778,
              "#fb9f3a"
             ],
             [
              0.8888888888888888,
              "#fdca26"
             ],
             [
              1.0,
              "#f0f921"
             ]
            ],
            "type": "histogram2dcontour"
           }
          ],
          "histogram2d": [
           {
            "colorbar": {
             "outlinewidth": 0,
             "ticks": ""
            },
            "colorscale": [
             [
              0.0,
              "#0d0887"
             ],
             [
              0.1111111111111111,
              "#46039f"
             ],
             [
              0.2222222222222222,
              "#7201a8"
             ],
             [
              0.3333333333333333,
              "#9c179e"
             ],
             [
              0.4444444444444444,
              "#bd3786"
             ],
             [
              0.5555555555555556,
              "#d8576b"
             ],
             [
              0.6666666666666666,
              "#ed7953"
             ],
             [
              0.7777777777777778,
              "#fb9f3a"
             ],
             [
              0.8888888888888888,
              "#fdca26"
             ],
             [
              1.0,
              "#f0f921"
             ]
            ],
            "type": "histogram2d"
           }
          ],
          "histogram": [
           {
            "marker": {
             "pattern": {
              "fillmode": "overlay",
              "size": 10,
              "solidity": 0.2
             }
            },
            "type": "histogram"
           }
          ],
          "mesh3d": [
           {
            "colorbar": {
             "outlinewidth": 0,
             "ticks": ""
            },
            "type": "mesh3d"
           }
          ],
          "parcoords": [
           {
            "line": {
             "colorbar": {
              "outlinewidth": 0,
              "ticks": ""
             }
            },
            "type": "parcoords"
           }
          ],
          "pie": [
           {
            "automargin": true,
            "type": "pie"
           }
          ],
          "scatter3d": [
           {
            "line": {
             "colorbar": {
              "outlinewidth": 0,
              "ticks": ""
             }
            },
            "marker": {
             "colorbar": {
              "outlinewidth": 0,
              "ticks": ""
             }
            },
            "type": "scatter3d"
           }
          ],
          "scattercarpet": [
           {
            "marker": {
             "colorbar": {
              "outlinewidth": 0,
              "ticks": ""
             }
            },
            "type": "scattercarpet"
           }
          ],
          "scattergeo": [
           {
            "marker": {
             "colorbar": {
              "outlinewidth": 0,
              "ticks": ""
             }
            },
            "type": "scattergeo"
           }
          ],
          "scattergl": [
           {
            "marker": {
             "colorbar": {
              "outlinewidth": 0,
              "ticks": ""
             }
            },
            "type": "scattergl"
           }
          ],
          "scattermapbox": [
           {
            "marker": {
             "colorbar": {
              "outlinewidth": 0,
              "ticks": ""
             }
            },
            "type": "scattermapbox"
           }
          ],
          "scatterpolargl": [
           {
            "marker": {
             "colorbar": {
              "outlinewidth": 0,
              "ticks": ""
             }
            },
            "type": "scatterpolargl"
           }
          ],
          "scatterpolar": [
           {
            "marker": {
             "colorbar": {
              "outlinewidth": 0,
              "ticks": ""
             }
            },
            "type": "scatterpolar"
           }
          ],
          "scatter": [
           {
            "fillpattern": {
             "fillmode": "overlay",
             "size": 10,
             "solidity": 0.2
            },
            "type": "scatter"
           }
          ],
          "scatterternary": [
           {
            "marker": {
             "colorbar": {
              "outlinewidth": 0,
              "ticks": ""
             }
            },
            "type": "scatterternary"
           }
          ],
          "surface": [
           {
            "colorbar": {
             "outlinewidth": 0,
             "ticks": ""
            },
            "colorscale": [
             [
              0.0,
              "#0d0887"
             ],
             [
              0.1111111111111111,
              "#46039f"
             ],
             [
              0.2222222222222222,
              "#7201a8"
             ],
             [
              0.3333333333333333,
              "#9c179e"
             ],
             [
              0.4444444444444444,
              "#bd3786"
             ],
             [
              0.5555555555555556,
              "#d8576b"
             ],
             [
              0.6666666666666666,
              "#ed7953"
             ],
             [
              0.7777777777777778,
              "#fb9f3a"
             ],
             [
              0.8888888888888888,
              "#fdca26"
             ],
             [
              1.0,
              "#f0f921"
             ]
            ],
            "type": "surface"
           }
          ],
          "table": [
           {
            "cells": {
             "fill": {
              "color": "#EBF0F8"
             },
             "line": {
              "color": "white"
             }
            },
            "header": {
             "fill": {
              "color": "#C8D4E3"
             },
             "line": {
              "color": "white"
             }
            },
            "type": "table"
           }
          ]
         },
         "layout": {
          "annotationdefaults": {
           "arrowcolor": "#2a3f5f",
           "arrowhead": 0,
           "arrowwidth": 1
          },
          "autotypenumbers": "strict",
          "coloraxis": {
           "colorbar": {
            "outlinewidth": 0,
            "ticks": ""
           }
          },
          "colorscale": {
           "diverging": [
            [
             0,
             "#8e0152"
            ],
            [
             0.1,
             "#c51b7d"
            ],
            [
             0.2,
             "#de77ae"
            ],
            [
             0.3,
             "#f1b6da"
            ],
            [
             0.4,
             "#fde0ef"
            ],
            [
             0.5,
             "#f7f7f7"
            ],
            [
             0.6,
             "#e6f5d0"
            ],
            [
             0.7,
             "#b8e186"
            ],
            [
             0.8,
             "#7fbc41"
            ],
            [
             0.9,
             "#4d9221"
            ],
            [
             1,
             "#276419"
            ]
           ],
           "sequential": [
            [
             0.0,
             "#0d0887"
            ],
            [
             0.1111111111111111,
             "#46039f"
            ],
            [
             0.2222222222222222,
             "#7201a8"
            ],
            [
             0.3333333333333333,
             "#9c179e"
            ],
            [
             0.4444444444444444,
             "#bd3786"
            ],
            [
             0.5555555555555556,
             "#d8576b"
            ],
            [
             0.6666666666666666,
             "#ed7953"
            ],
            [
             0.7777777777777778,
             "#fb9f3a"
            ],
            [
             0.8888888888888888,
             "#fdca26"
            ],
            [
             1.0,
             "#f0f921"
            ]
           ],
           "sequentialminus": [
            [
             0.0,
             "#0d0887"
            ],
            [
             0.1111111111111111,
             "#46039f"
            ],
            [
             0.2222222222222222,
             "#7201a8"
            ],
            [
             0.3333333333333333,
             "#9c179e"
            ],
            [
             0.4444444444444444,
             "#bd3786"
            ],
            [
             0.5555555555555556,
             "#d8576b"
            ],
            [
             0.6666666666666666,
             "#ed7953"
            ],
            [
             0.7777777777777778,
             "#fb9f3a"
            ],
            [
             0.8888888888888888,
             "#fdca26"
            ],
            [
             1.0,
             "#f0f921"
            ]
           ]
          },
          "colorway": [
           "#636efa",
           "#EF553B",
           "#00cc96",
           "#ab63fa",
           "#FFA15A",
           "#19d3f3",
           "#FF6692",
           "#B6E880",
           "#FF97FF",
           "#FECB52"
          ],
          "font": {
           "color": "#2a3f5f"
          },
          "geo": {
           "bgcolor": "white",
           "lakecolor": "white",
           "landcolor": "#E5ECF6",
           "showlakes": true,
           "showland": true,
           "subunitcolor": "white"
          },
          "hoverlabel": {
           "align": "left"
          },
          "hovermode": "closest",
          "mapbox": {
           "style": "light"
          },
          "paper_bgcolor": "white",
          "plot_bgcolor": "#E5ECF6",
          "polar": {
           "angularaxis": {
            "gridcolor": "white",
            "linecolor": "white",
            "ticks": ""
           },
           "bgcolor": "#E5ECF6",
           "radialaxis": {
            "gridcolor": "white",
            "linecolor": "white",
            "ticks": ""
           }
          },
          "scene": {
           "xaxis": {
            "backgroundcolor": "#E5ECF6",
            "gridcolor": "white",
            "gridwidth": 2,
            "linecolor": "white",
            "showbackground": true,
            "ticks": "",
            "zerolinecolor": "white"
           },
           "yaxis": {
            "backgroundcolor": "#E5ECF6",
            "gridcolor": "white",
            "gridwidth": 2,
            "linecolor": "white",
            "showbackground": true,
            "ticks": "",
            "zerolinecolor": "white"
           },
           "zaxis": {
            "backgroundcolor": "#E5ECF6",
            "gridcolor": "white",
            "gridwidth": 2,
            "linecolor": "white",
            "showbackground": true,
            "ticks": "",
            "zerolinecolor": "white"
           }
          },
          "shapedefaults": {
           "line": {
            "color": "#2a3f5f"
           }
          },
          "ternary": {
           "aaxis": {
            "gridcolor": "white",
            "linecolor": "white",
            "ticks": ""
           },
           "baxis": {
            "gridcolor": "white",
            "linecolor": "white",
            "ticks": ""
           },
           "bgcolor": "#E5ECF6",
           "caxis": {
            "gridcolor": "white",
            "linecolor": "white",
            "ticks": ""
           }
          },
          "title": {
           "x": 0.05
          },
          "xaxis": {
           "automargin": true,
           "gridcolor": "white",
           "linecolor": "white",
           "ticks": "",
           "title": {
            "standoff": 15
           },
           "zerolinecolor": "white",
           "zerolinewidth": 2
          },
          "yaxis": {
           "automargin": true,
           "gridcolor": "white",
           "linecolor": "white",
           "ticks": "",
           "title": {
            "standoff": 15
           },
           "zerolinecolor": "white",
           "zerolinewidth": 2
          }
         }
        },
        "title": {
         "text": "2D Visualization of Word Vectors"
        },
        "xaxis": {
         "range": [
          -15,
          15
         ],
         "title": {
          "text": "PC1"
         }
        },
        "yaxis": {
         "range": [
          -15,
          15
         ],
         "title": {
          "text": "PC2"
         }
        }
       },
       "config": {
        "showLink": false,
        "linkText": "Export to plot.ly",
        "plotlyServerURL": "https://plot.ly"
       }
      },
      "text/html": "<div>                            <div id=\"9791f7b4-a0e6-49ea-99e0-287d7502ad32\" class=\"plotly-graph-div\" style=\"height:525px; width:100%;\"></div>            <script type=\"text/javascript\">                require([\"plotly\"], function(Plotly) {                    window.PLOTLYENV=window.PLOTLYENV || {};                                    if (document.getElementById(\"9791f7b4-a0e6-49ea-99e0-287d7502ad32\")) {                    Plotly.newPlot(                        \"9791f7b4-a0e6-49ea-99e0-287d7502ad32\",                        [{\"marker\":{\"color\":\"#636EFA\"},\"mode\":\"markers+text\",\"name\":\"uvalde\",\"showlegend\":false,\"text\":[\"uvalde\"],\"textposition\":\"top center\",\"x\":[-3.345507888501946],\"y\":[0.6205980416175007],\"type\":\"scatter\"},{\"marker\":{\"color\":\"#636EFA\",\"size\":10,\"symbol\":\"diamond\"},\"mode\":\"markers\",\"showlegend\":false,\"x\":[-3.345507888501946],\"y\":[0.6205980416175007],\"type\":\"scatter\"},{\"marker\":{\"color\":\"#636EFA\"},\"mode\":\"markers+text\",\"name\":\"uvalde\",\"showlegend\":false,\"text\":[\"uvalde\"],\"textposition\":\"top center\",\"x\":[1.6301492142900966],\"y\":[0.9494069710460948],\"type\":\"scatter\"},{\"line\":{\"color\":\"#636EFA\",\"width\":1},\"mode\":\"lines\",\"showlegend\":false,\"x\":[-3.345507888501946,1.6301492142900966],\"y\":[0.6205980416175007,0.9494069710460948],\"type\":\"scatter\"},{\"marker\":{\"color\":\"#636EFA\"},\"mode\":\"markers+text\",\"name\":\"uvalde\",\"showlegend\":false,\"text\":[\"uvalde\"],\"textposition\":\"top center\",\"x\":[-2.8177789775585325],\"y\":[0.3370526411368421],\"type\":\"scatter\"},{\"line\":{\"color\":\"#636EFA\",\"width\":1},\"mode\":\"lines\",\"showlegend\":false,\"x\":[1.6301492142900966,-2.8177789775585325],\"y\":[0.9494069710460948,0.3370526411368421],\"type\":\"scatter\"},{\"marker\":{\"color\":\"#636EFA\"},\"mode\":\"markers+text\",\"name\":\"uvalde\",\"showlegend\":false,\"text\":[\"uvalde\"],\"textposition\":\"top center\",\"x\":[1.1880576763982165],\"y\":[-3.630943898244526],\"type\":\"scatter\"},{\"line\":{\"color\":\"#636EFA\",\"width\":1},\"mode\":\"lines\",\"showlegend\":false,\"x\":[-2.8177789775585325,1.1880576763982165],\"y\":[0.3370526411368421,-3.630943898244526],\"type\":\"scatter\"},{\"marker\":{\"color\":\"#AB63FA\"},\"mode\":\"markers+text\",\"name\":\"colorado\",\"showlegend\":false,\"text\":[\"colorado\"],\"textposition\":\"top center\",\"x\":[0.9762259412528445],\"y\":[1.4134705402949252],\"type\":\"scatter\"},{\"marker\":{\"color\":\"#AB63FA\",\"size\":10,\"symbol\":\"diamond\"},\"mode\":\"markers\",\"showlegend\":false,\"x\":[0.9762259412528445],\"y\":[1.4134705402949252],\"type\":\"scatter\"},{\"marker\":{\"color\":\"#AB63FA\"},\"mode\":\"markers+text\",\"name\":\"colorado\",\"showlegend\":false,\"text\":[\"colorado\"],\"textposition\":\"top center\",\"x\":[-2.3296353537858376],\"y\":[9.325824781270088],\"type\":\"scatter\"},{\"line\":{\"color\":\"#AB63FA\",\"width\":1},\"mode\":\"lines\",\"showlegend\":false,\"x\":[0.9762259412528445,-2.3296353537858376],\"y\":[1.4134705402949252,9.325824781270088],\"type\":\"scatter\"},{\"marker\":{\"color\":\"#AB63FA\"},\"mode\":\"markers+text\",\"name\":\"colorado\",\"showlegend\":false,\"text\":[\"colorado\"],\"textposition\":\"top center\",\"x\":[0.27149135840234234],\"y\":[1.3129752146576004],\"type\":\"scatter\"},{\"line\":{\"color\":\"#AB63FA\",\"width\":1},\"mode\":\"lines\",\"showlegend\":false,\"x\":[-2.3296353537858376,0.27149135840234234],\"y\":[9.325824781270088,1.3129752146576004],\"type\":\"scatter\"},{\"marker\":{\"color\":\"#AB63FA\"},\"mode\":\"markers+text\",\"name\":\"colorado\",\"showlegend\":false,\"text\":[\"colorado\"],\"textposition\":\"top center\",\"x\":[-4.357739173713078],\"y\":[-0.3642953191803326],\"type\":\"scatter\"},{\"line\":{\"color\":\"#AB63FA\",\"width\":1},\"mode\":\"lines\",\"showlegend\":false,\"x\":[0.27149135840234234,-4.357739173713078],\"y\":[1.3129752146576004,-0.3642953191803326],\"type\":\"scatter\"},{\"marker\":{\"color\":\"#00CC96\"},\"mode\":\"markers+text\",\"name\":\"nashville\",\"showlegend\":false,\"text\":[\"nashville\"],\"textposition\":\"top center\",\"x\":[10.898833991683599],\"y\":[-0.6814913162175217],\"type\":\"scatter\"},{\"marker\":{\"color\":\"#00CC96\",\"size\":10,\"symbol\":\"diamond\"},\"mode\":\"markers\",\"showlegend\":false,\"x\":[10.898833991683599],\"y\":[-0.6814913162175217],\"type\":\"scatter\"},{\"marker\":{\"color\":\"#00CC96\"},\"mode\":\"markers+text\",\"name\":\"nashville\",\"showlegend\":false,\"text\":[\"nashville\"],\"textposition\":\"top center\",\"x\":[-3.854133719017929],\"y\":[-3.7623257785464173],\"type\":\"scatter\"},{\"line\":{\"color\":\"#00CC96\",\"width\":1},\"mode\":\"lines\",\"showlegend\":false,\"x\":[10.898833991683599,-3.854133719017929],\"y\":[-0.6814913162175217,-3.7623257785464173],\"type\":\"scatter\"},{\"marker\":{\"color\":\"#00CC96\"},\"mode\":\"markers+text\",\"name\":\"nashville\",\"showlegend\":false,\"text\":[\"nashville\"],\"textposition\":\"top center\",\"x\":[-1.4714976141770475],\"y\":[3.2019485095697444],\"type\":\"scatter\"},{\"line\":{\"color\":\"#00CC96\",\"width\":1},\"mode\":\"lines\",\"showlegend\":false,\"x\":[-3.854133719017929,-1.4714976141770475],\"y\":[-3.7623257785464173,3.2019485095697444],\"type\":\"scatter\"},{\"marker\":{\"color\":\"#00CC96\"},\"mode\":\"markers+text\",\"name\":\"nashville\",\"showlegend\":false,\"text\":[\"nashville\"],\"textposition\":\"top center\",\"x\":[-5.302734239898646],\"y\":[-7.993226003846211],\"type\":\"scatter\"},{\"line\":{\"color\":\"#00CC96\",\"width\":1},\"mode\":\"lines\",\"showlegend\":false,\"x\":[-1.4714976141770475,-5.302734239898646],\"y\":[3.2019485095697444,-7.993226003846211],\"type\":\"scatter\"},{\"marker\":{\"color\":\"#EF553B\"},\"mode\":\"markers+text\",\"name\":\"shooting\",\"showlegend\":false,\"text\":[\"shooting\"],\"textposition\":\"top center\",\"x\":[5.031263440184786],\"y\":[-1.8346068895359402],\"type\":\"scatter\"},{\"marker\":{\"color\":\"#EF553B\",\"size\":10,\"symbol\":\"diamond\"},\"mode\":\"markers\",\"showlegend\":false,\"x\":[5.031263440184786],\"y\":[-1.8346068895359402],\"type\":\"scatter\"},{\"marker\":{\"color\":\"#EF553B\"},\"mode\":\"markers+text\",\"name\":\"shooting\",\"showlegend\":false,\"text\":[\"shooting\"],\"textposition\":\"top center\",\"x\":[5.4490493195495215],\"y\":[-1.823605220507951],\"type\":\"scatter\"},{\"line\":{\"color\":\"#EF553B\",\"width\":1},\"mode\":\"lines\",\"showlegend\":false,\"x\":[5.031263440184786,5.4490493195495215],\"y\":[-1.8346068895359402,-1.823605220507951],\"type\":\"scatter\"},{\"marker\":{\"color\":\"#EF553B\"},\"mode\":\"markers+text\",\"name\":\"shooting\",\"showlegend\":false,\"text\":[\"shooting\"],\"textposition\":\"top center\",\"x\":[-1.3437612792798823],\"y\":[-0.6053646669417525],\"type\":\"scatter\"},{\"line\":{\"color\":\"#EF553B\",\"width\":1},\"mode\":\"lines\",\"showlegend\":false,\"x\":[5.4490493195495215,-1.3437612792798823],\"y\":[-1.823605220507951,-0.6053646669417525],\"type\":\"scatter\"},{\"marker\":{\"color\":\"#EF553B\"},\"mode\":\"markers+text\",\"name\":\"shooting\",\"showlegend\":false,\"text\":[\"shooting\"],\"textposition\":\"top center\",\"x\":[-0.6222826958285204],\"y\":[3.534582393427848],\"type\":\"scatter\"},{\"line\":{\"color\":\"#EF553B\",\"width\":1},\"mode\":\"lines\",\"showlegend\":false,\"x\":[-1.3437612792798823,-0.6222826958285204],\"y\":[-0.6053646669417525,3.534582393427848],\"type\":\"scatter\"}],                        {\"legend\":{\"x\":1.02,\"y\":1.0},\"template\":{\"data\":{\"barpolar\":[{\"marker\":{\"line\":{\"color\":\"#E5ECF6\",\"width\":0.5},\"pattern\":{\"fillmode\":\"overlay\",\"size\":10,\"solidity\":0.2}},\"type\":\"barpolar\"}],\"bar\":[{\"error_x\":{\"color\":\"#2a3f5f\"},\"error_y\":{\"color\":\"#2a3f5f\"},\"marker\":{\"line\":{\"color\":\"#E5ECF6\",\"width\":0.5},\"pattern\":{\"fillmode\":\"overlay\",\"size\":10,\"solidity\":0.2}},\"type\":\"bar\"}],\"carpet\":[{\"aaxis\":{\"endlinecolor\":\"#2a3f5f\",\"gridcolor\":\"white\",\"linecolor\":\"white\",\"minorgridcolor\":\"white\",\"startlinecolor\":\"#2a3f5f\"},\"baxis\":{\"endlinecolor\":\"#2a3f5f\",\"gridcolor\":\"white\",\"linecolor\":\"white\",\"minorgridcolor\":\"white\",\"startlinecolor\":\"#2a3f5f\"},\"type\":\"carpet\"}],\"choropleth\":[{\"colorbar\":{\"outlinewidth\":0,\"ticks\":\"\"},\"type\":\"choropleth\"}],\"contourcarpet\":[{\"colorbar\":{\"outlinewidth\":0,\"ticks\":\"\"},\"type\":\"contourcarpet\"}],\"contour\":[{\"colorbar\":{\"outlinewidth\":0,\"ticks\":\"\"},\"colorscale\":[[0.0,\"#0d0887\"],[0.1111111111111111,\"#46039f\"],[0.2222222222222222,\"#7201a8\"],[0.3333333333333333,\"#9c179e\"],[0.4444444444444444,\"#bd3786\"],[0.5555555555555556,\"#d8576b\"],[0.6666666666666666,\"#ed7953\"],[0.7777777777777778,\"#fb9f3a\"],[0.8888888888888888,\"#fdca26\"],[1.0,\"#f0f921\"]],\"type\":\"contour\"}],\"heatmapgl\":[{\"colorbar\":{\"outlinewidth\":0,\"ticks\":\"\"},\"colorscale\":[[0.0,\"#0d0887\"],[0.1111111111111111,\"#46039f\"],[0.2222222222222222,\"#7201a8\"],[0.3333333333333333,\"#9c179e\"],[0.4444444444444444,\"#bd3786\"],[0.5555555555555556,\"#d8576b\"],[0.6666666666666666,\"#ed7953\"],[0.7777777777777778,\"#fb9f3a\"],[0.8888888888888888,\"#fdca26\"],[1.0,\"#f0f921\"]],\"type\":\"heatmapgl\"}],\"heatmap\":[{\"colorbar\":{\"outlinewidth\":0,\"ticks\":\"\"},\"colorscale\":[[0.0,\"#0d0887\"],[0.1111111111111111,\"#46039f\"],[0.2222222222222222,\"#7201a8\"],[0.3333333333333333,\"#9c179e\"],[0.4444444444444444,\"#bd3786\"],[0.5555555555555556,\"#d8576b\"],[0.6666666666666666,\"#ed7953\"],[0.7777777777777778,\"#fb9f3a\"],[0.8888888888888888,\"#fdca26\"],[1.0,\"#f0f921\"]],\"type\":\"heatmap\"}],\"histogram2dcontour\":[{\"colorbar\":{\"outlinewidth\":0,\"ticks\":\"\"},\"colorscale\":[[0.0,\"#0d0887\"],[0.1111111111111111,\"#46039f\"],[0.2222222222222222,\"#7201a8\"],[0.3333333333333333,\"#9c179e\"],[0.4444444444444444,\"#bd3786\"],[0.5555555555555556,\"#d8576b\"],[0.6666666666666666,\"#ed7953\"],[0.7777777777777778,\"#fb9f3a\"],[0.8888888888888888,\"#fdca26\"],[1.0,\"#f0f921\"]],\"type\":\"histogram2dcontour\"}],\"histogram2d\":[{\"colorbar\":{\"outlinewidth\":0,\"ticks\":\"\"},\"colorscale\":[[0.0,\"#0d0887\"],[0.1111111111111111,\"#46039f\"],[0.2222222222222222,\"#7201a8\"],[0.3333333333333333,\"#9c179e\"],[0.4444444444444444,\"#bd3786\"],[0.5555555555555556,\"#d8576b\"],[0.6666666666666666,\"#ed7953\"],[0.7777777777777778,\"#fb9f3a\"],[0.8888888888888888,\"#fdca26\"],[1.0,\"#f0f921\"]],\"type\":\"histogram2d\"}],\"histogram\":[{\"marker\":{\"pattern\":{\"fillmode\":\"overlay\",\"size\":10,\"solidity\":0.2}},\"type\":\"histogram\"}],\"mesh3d\":[{\"colorbar\":{\"outlinewidth\":0,\"ticks\":\"\"},\"type\":\"mesh3d\"}],\"parcoords\":[{\"line\":{\"colorbar\":{\"outlinewidth\":0,\"ticks\":\"\"}},\"type\":\"parcoords\"}],\"pie\":[{\"automargin\":true,\"type\":\"pie\"}],\"scatter3d\":[{\"line\":{\"colorbar\":{\"outlinewidth\":0,\"ticks\":\"\"}},\"marker\":{\"colorbar\":{\"outlinewidth\":0,\"ticks\":\"\"}},\"type\":\"scatter3d\"}],\"scattercarpet\":[{\"marker\":{\"colorbar\":{\"outlinewidth\":0,\"ticks\":\"\"}},\"type\":\"scattercarpet\"}],\"scattergeo\":[{\"marker\":{\"colorbar\":{\"outlinewidth\":0,\"ticks\":\"\"}},\"type\":\"scattergeo\"}],\"scattergl\":[{\"marker\":{\"colorbar\":{\"outlinewidth\":0,\"ticks\":\"\"}},\"type\":\"scattergl\"}],\"scattermapbox\":[{\"marker\":{\"colorbar\":{\"outlinewidth\":0,\"ticks\":\"\"}},\"type\":\"scattermapbox\"}],\"scatterpolargl\":[{\"marker\":{\"colorbar\":{\"outlinewidth\":0,\"ticks\":\"\"}},\"type\":\"scatterpolargl\"}],\"scatterpolar\":[{\"marker\":{\"colorbar\":{\"outlinewidth\":0,\"ticks\":\"\"}},\"type\":\"scatterpolar\"}],\"scatter\":[{\"fillpattern\":{\"fillmode\":\"overlay\",\"size\":10,\"solidity\":0.2},\"type\":\"scatter\"}],\"scatterternary\":[{\"marker\":{\"colorbar\":{\"outlinewidth\":0,\"ticks\":\"\"}},\"type\":\"scatterternary\"}],\"surface\":[{\"colorbar\":{\"outlinewidth\":0,\"ticks\":\"\"},\"colorscale\":[[0.0,\"#0d0887\"],[0.1111111111111111,\"#46039f\"],[0.2222222222222222,\"#7201a8\"],[0.3333333333333333,\"#9c179e\"],[0.4444444444444444,\"#bd3786\"],[0.5555555555555556,\"#d8576b\"],[0.6666666666666666,\"#ed7953\"],[0.7777777777777778,\"#fb9f3a\"],[0.8888888888888888,\"#fdca26\"],[1.0,\"#f0f921\"]],\"type\":\"surface\"}],\"table\":[{\"cells\":{\"fill\":{\"color\":\"#EBF0F8\"},\"line\":{\"color\":\"white\"}},\"header\":{\"fill\":{\"color\":\"#C8D4E3\"},\"line\":{\"color\":\"white\"}},\"type\":\"table\"}]},\"layout\":{\"annotationdefaults\":{\"arrowcolor\":\"#2a3f5f\",\"arrowhead\":0,\"arrowwidth\":1},\"autotypenumbers\":\"strict\",\"coloraxis\":{\"colorbar\":{\"outlinewidth\":0,\"ticks\":\"\"}},\"colorscale\":{\"diverging\":[[0,\"#8e0152\"],[0.1,\"#c51b7d\"],[0.2,\"#de77ae\"],[0.3,\"#f1b6da\"],[0.4,\"#fde0ef\"],[0.5,\"#f7f7f7\"],[0.6,\"#e6f5d0\"],[0.7,\"#b8e186\"],[0.8,\"#7fbc41\"],[0.9,\"#4d9221\"],[1,\"#276419\"]],\"sequential\":[[0.0,\"#0d0887\"],[0.1111111111111111,\"#46039f\"],[0.2222222222222222,\"#7201a8\"],[0.3333333333333333,\"#9c179e\"],[0.4444444444444444,\"#bd3786\"],[0.5555555555555556,\"#d8576b\"],[0.6666666666666666,\"#ed7953\"],[0.7777777777777778,\"#fb9f3a\"],[0.8888888888888888,\"#fdca26\"],[1.0,\"#f0f921\"]],\"sequentialminus\":[[0.0,\"#0d0887\"],[0.1111111111111111,\"#46039f\"],[0.2222222222222222,\"#7201a8\"],[0.3333333333333333,\"#9c179e\"],[0.4444444444444444,\"#bd3786\"],[0.5555555555555556,\"#d8576b\"],[0.6666666666666666,\"#ed7953\"],[0.7777777777777778,\"#fb9f3a\"],[0.8888888888888888,\"#fdca26\"],[1.0,\"#f0f921\"]]},\"colorway\":[\"#636efa\",\"#EF553B\",\"#00cc96\",\"#ab63fa\",\"#FFA15A\",\"#19d3f3\",\"#FF6692\",\"#B6E880\",\"#FF97FF\",\"#FECB52\"],\"font\":{\"color\":\"#2a3f5f\"},\"geo\":{\"bgcolor\":\"white\",\"lakecolor\":\"white\",\"landcolor\":\"#E5ECF6\",\"showlakes\":true,\"showland\":true,\"subunitcolor\":\"white\"},\"hoverlabel\":{\"align\":\"left\"},\"hovermode\":\"closest\",\"mapbox\":{\"style\":\"light\"},\"paper_bgcolor\":\"white\",\"plot_bgcolor\":\"#E5ECF6\",\"polar\":{\"angularaxis\":{\"gridcolor\":\"white\",\"linecolor\":\"white\",\"ticks\":\"\"},\"bgcolor\":\"#E5ECF6\",\"radialaxis\":{\"gridcolor\":\"white\",\"linecolor\":\"white\",\"ticks\":\"\"}},\"scene\":{\"xaxis\":{\"backgroundcolor\":\"#E5ECF6\",\"gridcolor\":\"white\",\"gridwidth\":2,\"linecolor\":\"white\",\"showbackground\":true,\"ticks\":\"\",\"zerolinecolor\":\"white\"},\"yaxis\":{\"backgroundcolor\":\"#E5ECF6\",\"gridcolor\":\"white\",\"gridwidth\":2,\"linecolor\":\"white\",\"showbackground\":true,\"ticks\":\"\",\"zerolinecolor\":\"white\"},\"zaxis\":{\"backgroundcolor\":\"#E5ECF6\",\"gridcolor\":\"white\",\"gridwidth\":2,\"linecolor\":\"white\",\"showbackground\":true,\"ticks\":\"\",\"zerolinecolor\":\"white\"}},\"shapedefaults\":{\"line\":{\"color\":\"#2a3f5f\"}},\"ternary\":{\"aaxis\":{\"gridcolor\":\"white\",\"linecolor\":\"white\",\"ticks\":\"\"},\"baxis\":{\"gridcolor\":\"white\",\"linecolor\":\"white\",\"ticks\":\"\"},\"bgcolor\":\"#E5ECF6\",\"caxis\":{\"gridcolor\":\"white\",\"linecolor\":\"white\",\"ticks\":\"\"}},\"title\":{\"x\":0.05},\"xaxis\":{\"automargin\":true,\"gridcolor\":\"white\",\"linecolor\":\"white\",\"ticks\":\"\",\"title\":{\"standoff\":15},\"zerolinecolor\":\"white\",\"zerolinewidth\":2},\"yaxis\":{\"automargin\":true,\"gridcolor\":\"white\",\"linecolor\":\"white\",\"ticks\":\"\",\"title\":{\"standoff\":15},\"zerolinecolor\":\"white\",\"zerolinewidth\":2}}},\"title\":{\"text\":\"2D Visualization of Word Vectors\"},\"xaxis\":{\"range\":[-15,15],\"title\":{\"text\":\"PC1\"}},\"yaxis\":{\"range\":[-15,15],\"title\":{\"text\":\"PC2\"}}},                        {\"responsive\": true}                    ).then(function(){\n                            \nvar gd = document.getElementById('9791f7b4-a0e6-49ea-99e0-287d7502ad32');\nvar x = new MutationObserver(function (mutations, observer) {{\n        var display = window.getComputedStyle(gd).display;\n        if (!display || display === 'none') {{\n            console.log([gd, 'removed!']);\n            Plotly.purge(gd);\n            observer.disconnect();\n        }}\n}});\n\n// Listen for the removal of the full notebook cells\nvar notebookContainer = gd.closest('#notebook-container');\nif (notebookContainer) {{\n    x.observe(notebookContainer, {childList: true});\n}}\n\n// Listen for the clearing of the current output cell\nvar outputEl = gd.closest('.output');\nif (outputEl) {{\n    x.observe(outputEl, {childList: true});\n}}\n\n                        })                };                });            </script>        </div>"
     },
     "metadata": {},
     "output_type": "display_data"
    }
   ],
   "source": [
    "plot_word_vectors_tppmi(tppmi_model, test_words_shootings + [target_word_shootings],\n",
    "                        use_tsne=False, range=[-15, 15])"
   ],
   "metadata": {
    "collapsed": false
   }
  },
  {
   "cell_type": "code",
   "execution_count": 22,
   "outputs": [
    {
     "name": "stdout",
     "output_type": "stream",
     "text": [
      "All words are contained in the vocabulary\n"
     ]
    }
   ],
   "source": [
    "tppmi_shootings = tppmi_model.get_tppmi(test_words_shootings + [target_word_shootings])"
   ],
   "metadata": {
    "collapsed": false
   }
  },
  {
   "cell_type": "markdown",
   "source": [
    "## Elon Musk Twitter takeover"
   ],
   "metadata": {
    "collapsed": false
   }
  },
  {
   "cell_type": "markdown",
   "source": [
    "### Overview"
   ],
   "metadata": {
    "collapsed": false
   }
  },
  {
   "cell_type": "markdown",
   "source": [
    "Business magnate Elon Musk initiated an acquisition of American social media company Twitter, Inc. on April 14, 2022, and concluded it on October 27, 2022. Musk had begun buying shares of the company in January 2022, becoming its largest shareholder by April with a 9.1 percent ownership stake\n",
    "\n",
    "source: [Wikipedia article](https://en.wikipedia.org/wiki/Acquisition_of_Twitter_by_Elon_Musk#:~:text=Business%20magnate%20Elon%20Musk%20initiated,a%209.1%20percent%20ownership%20stake.)"
   ],
   "metadata": {
    "collapsed": false
   }
  },
  {
   "cell_type": "code",
   "execution_count": 23,
   "outputs": [],
   "source": [
    "target_word_twitter = \"twitter\"\n",
    "test_words_twitter = [\"facebook\",  \"elon\", \"instagram\"]"
   ],
   "metadata": {
    "collapsed": false
   }
  },
  {
   "cell_type": "code",
   "execution_count": 24,
   "outputs": [],
   "source": [
    "title_twitter = f\"Evolution of the word {target_word_twitter} over time\""
   ],
   "metadata": {
    "collapsed": false
   }
  },
  {
   "cell_type": "markdown",
   "source": [
    "### Visualizations"
   ],
   "metadata": {
    "collapsed": false
   }
  },
  {
   "cell_type": "code",
   "execution_count": 25,
   "outputs": [
    {
     "data": {
      "text/html": "        <script type=\"text/javascript\">\n        window.PlotlyConfig = {MathJaxConfig: 'local'};\n        if (window.MathJax && window.MathJax.Hub && window.MathJax.Hub.Config) {window.MathJax.Hub.Config({SVG: {font: \"STIX-Web\"}});}\n        if (typeof require !== 'undefined') {\n        require.undef(\"plotly\");\n        requirejs.config({\n            paths: {\n                'plotly': ['https://cdn.plot.ly/plotly-2.25.2.min']\n            }\n        });\n        require(['plotly'], function(Plotly) {\n            window._Plotly = Plotly;\n        });\n        }\n        </script>\n        "
     },
     "metadata": {},
     "output_type": "display_data"
    },
    {
     "data": {
      "application/vnd.plotly.v1+json": {
       "data": [
        {
         "marker": {
          "color": "#636EFA"
         },
         "mode": "markers+text",
         "name": "facebook",
         "showlegend": false,
         "text": [
          "facebook"
         ],
         "textposition": "top center",
         "x": [
          -1.599210500717163
         ],
         "y": [
          -2.2607522010803223
         ],
         "type": "scatter"
        },
        {
         "marker": {
          "color": "#636EFA",
          "size": 10,
          "symbol": "diamond"
         },
         "mode": "markers",
         "showlegend": false,
         "x": [
          -1.599210500717163
         ],
         "y": [
          -2.2607522010803223
         ],
         "type": "scatter"
        },
        {
         "marker": {
          "color": "#00CC96"
         },
         "mode": "markers+text",
         "name": "elon",
         "showlegend": false,
         "text": [
          "elon"
         ],
         "textposition": "top center",
         "x": [
          5.390510082244873
         ],
         "y": [
          0.7062152028083801
         ],
         "type": "scatter"
        },
        {
         "marker": {
          "color": "#00CC96",
          "size": 10,
          "symbol": "diamond"
         },
         "mode": "markers",
         "showlegend": false,
         "x": [
          5.390510082244873
         ],
         "y": [
          0.7062152028083801
         ],
         "type": "scatter"
        },
        {
         "marker": {
          "color": "#AB63FA"
         },
         "mode": "markers+text",
         "name": "instagram",
         "showlegend": false,
         "text": [
          "instagram"
         ],
         "textposition": "top center",
         "x": [
          2.7530465126037598
         ],
         "y": [
          -0.5041781067848206
         ],
         "type": "scatter"
        },
        {
         "marker": {
          "color": "#AB63FA",
          "size": 10,
          "symbol": "diamond"
         },
         "mode": "markers",
         "showlegend": false,
         "x": [
          2.7530465126037598
         ],
         "y": [
          -0.5041781067848206
         ],
         "type": "scatter"
        },
        {
         "marker": {
          "color": "#EF553B"
         },
         "mode": "markers+text",
         "name": "twitter",
         "showlegend": false,
         "text": [
          "twitter"
         ],
         "textposition": "top center",
         "x": [
          -4.921722412109375
         ],
         "y": [
          0.8351337313652039
         ],
         "type": "scatter"
        },
        {
         "marker": {
          "color": "#EF553B",
          "size": 10,
          "symbol": "diamond"
         },
         "mode": "markers",
         "showlegend": false,
         "x": [
          -4.921722412109375
         ],
         "y": [
          0.8351337313652039
         ],
         "type": "scatter"
        },
        {
         "marker": {
          "color": "#636EFA"
         },
         "mode": "markers+text",
         "name": "facebook",
         "showlegend": false,
         "text": [
          "facebook"
         ],
         "textposition": "top center",
         "x": [
          -3.700291395187378
         ],
         "y": [
          -2.775137424468994
         ],
         "type": "scatter"
        },
        {
         "line": {
          "color": "#636EFA",
          "width": 1
         },
         "mode": "lines",
         "showlegend": false,
         "x": [
          -1.599210500717163,
          -3.700291395187378
         ],
         "y": [
          -2.2607522010803223,
          -2.775137424468994
         ],
         "type": "scatter"
        },
        {
         "marker": {
          "color": "#00CC96"
         },
         "mode": "markers+text",
         "name": "elon",
         "showlegend": false,
         "text": [
          "elon"
         ],
         "textposition": "top center",
         "x": [
          4.648174285888672
         ],
         "y": [
          1.2562888860702515
         ],
         "type": "scatter"
        },
        {
         "line": {
          "color": "#00CC96",
          "width": 1
         },
         "mode": "lines",
         "showlegend": false,
         "x": [
          5.390510082244873,
          4.648174285888672
         ],
         "y": [
          0.7062152028083801,
          1.2562888860702515
         ],
         "type": "scatter"
        },
        {
         "marker": {
          "color": "#AB63FA"
         },
         "mode": "markers+text",
         "name": "instagram",
         "showlegend": false,
         "text": [
          "instagram"
         ],
         "textposition": "top center",
         "x": [
          1.913591980934143
         ],
         "y": [
          -1.2509032487869263
         ],
         "type": "scatter"
        },
        {
         "line": {
          "color": "#AB63FA",
          "width": 1
         },
         "mode": "lines",
         "showlegend": false,
         "x": [
          2.7530465126037598,
          1.913591980934143
         ],
         "y": [
          -0.5041781067848206,
          -1.2509032487869263
         ],
         "type": "scatter"
        },
        {
         "marker": {
          "color": "#EF553B"
         },
         "mode": "markers+text",
         "name": "twitter",
         "showlegend": false,
         "text": [
          "twitter"
         ],
         "textposition": "top center",
         "x": [
          -3.3303301334381104
         ],
         "y": [
          1.232944130897522
         ],
         "type": "scatter"
        },
        {
         "line": {
          "color": "#EF553B",
          "width": 1
         },
         "mode": "lines",
         "showlegend": false,
         "x": [
          -4.921722412109375,
          -3.3303301334381104
         ],
         "y": [
          0.8351337313652039,
          1.232944130897522
         ],
         "type": "scatter"
        },
        {
         "marker": {
          "color": "#636EFA"
         },
         "mode": "markers+text",
         "name": "facebook",
         "showlegend": false,
         "text": [
          "facebook"
         ],
         "textposition": "top center",
         "x": [
          -2.706298828125
         ],
         "y": [
          -2.414163112640381
         ],
         "type": "scatter"
        },
        {
         "line": {
          "color": "#636EFA",
          "width": 1
         },
         "mode": "lines",
         "showlegend": false,
         "x": [
          -3.700291395187378,
          -2.706298828125
         ],
         "y": [
          -2.775137424468994,
          -2.414163112640381
         ],
         "type": "scatter"
        },
        {
         "marker": {
          "color": "#00CC96"
         },
         "mode": "markers+text",
         "name": "elon",
         "showlegend": false,
         "text": [
          "elon"
         ],
         "textposition": "top center",
         "x": [
          1.3278496265411377
         ],
         "y": [
          3.226074457168579
         ],
         "type": "scatter"
        },
        {
         "line": {
          "color": "#00CC96",
          "width": 1
         },
         "mode": "lines",
         "showlegend": false,
         "x": [
          4.648174285888672,
          1.3278496265411377
         ],
         "y": [
          1.2562888860702515,
          3.226074457168579
         ],
         "type": "scatter"
        },
        {
         "marker": {
          "color": "#AB63FA"
         },
         "mode": "markers+text",
         "name": "instagram",
         "showlegend": false,
         "text": [
          "instagram"
         ],
         "textposition": "top center",
         "x": [
          3.9044787883758545
         ],
         "y": [
          -0.8605618476867676
         ],
         "type": "scatter"
        },
        {
         "line": {
          "color": "#AB63FA",
          "width": 1
         },
         "mode": "lines",
         "showlegend": false,
         "x": [
          1.913591980934143,
          3.9044787883758545
         ],
         "y": [
          -1.2509032487869263,
          -0.8605618476867676
         ],
         "type": "scatter"
        },
        {
         "marker": {
          "color": "#EF553B"
         },
         "mode": "markers+text",
         "name": "twitter",
         "showlegend": false,
         "text": [
          "twitter"
         ],
         "textposition": "top center",
         "x": [
          -4.8561482429504395
         ],
         "y": [
          3.8729283809661865
         ],
         "type": "scatter"
        },
        {
         "line": {
          "color": "#EF553B",
          "width": 1
         },
         "mode": "lines",
         "showlegend": false,
         "x": [
          -3.3303301334381104,
          -4.8561482429504395
         ],
         "y": [
          1.232944130897522,
          3.8729283809661865
         ],
         "type": "scatter"
        },
        {
         "marker": {
          "color": "#636EFA"
         },
         "mode": "markers+text",
         "name": "facebook",
         "showlegend": false,
         "text": [
          "facebook"
         ],
         "textposition": "top center",
         "x": [
          -2.3372409343719482
         ],
         "y": [
          -3.551328420639038
         ],
         "type": "scatter"
        },
        {
         "line": {
          "color": "#636EFA",
          "width": 1
         },
         "mode": "lines",
         "showlegend": false,
         "x": [
          -2.706298828125,
          -2.3372409343719482
         ],
         "y": [
          -2.414163112640381,
          -3.551328420639038
         ],
         "type": "scatter"
        },
        {
         "marker": {
          "color": "#00CC96"
         },
         "mode": "markers+text",
         "name": "elon",
         "showlegend": false,
         "text": [
          "elon"
         ],
         "textposition": "top center",
         "x": [
          4.402961254119873
         ],
         "y": [
          1.0025233030319214
         ],
         "type": "scatter"
        },
        {
         "line": {
          "color": "#00CC96",
          "width": 1
         },
         "mode": "lines",
         "showlegend": false,
         "x": [
          1.3278496265411377,
          4.402961254119873
         ],
         "y": [
          3.226074457168579,
          1.0025233030319214
         ],
         "type": "scatter"
        },
        {
         "marker": {
          "color": "#AB63FA"
         },
         "mode": "markers+text",
         "name": "instagram",
         "showlegend": false,
         "text": [
          "instagram"
         ],
         "textposition": "top center",
         "x": [
          3.360734462738037
         ],
         "y": [
          -0.8652584552764893
         ],
         "type": "scatter"
        },
        {
         "line": {
          "color": "#AB63FA",
          "width": 1
         },
         "mode": "lines",
         "showlegend": false,
         "x": [
          3.9044787883758545,
          3.360734462738037
         ],
         "y": [
          -0.8605618476867676,
          -0.8652584552764893
         ],
         "type": "scatter"
        },
        {
         "marker": {
          "color": "#EF553B"
         },
         "mode": "markers+text",
         "name": "twitter",
         "showlegend": false,
         "text": [
          "twitter"
         ],
         "textposition": "top center",
         "x": [
          -4.2500996589660645
         ],
         "y": [
          2.3501789569854736
         ],
         "type": "scatter"
        },
        {
         "line": {
          "color": "#EF553B",
          "width": 1
         },
         "mode": "lines",
         "showlegend": false,
         "x": [
          -4.8561482429504395,
          -4.2500996589660645
         ],
         "y": [
          3.8729283809661865,
          2.3501789569854736
         ],
         "type": "scatter"
        }
       ],
       "layout": {
        "legend": {
         "x": 1.02,
         "y": 1.0
        },
        "template": {
         "data": {
          "barpolar": [
           {
            "marker": {
             "line": {
              "color": "#E5ECF6",
              "width": 0.5
             },
             "pattern": {
              "fillmode": "overlay",
              "size": 10,
              "solidity": 0.2
             }
            },
            "type": "barpolar"
           }
          ],
          "bar": [
           {
            "error_x": {
             "color": "#2a3f5f"
            },
            "error_y": {
             "color": "#2a3f5f"
            },
            "marker": {
             "line": {
              "color": "#E5ECF6",
              "width": 0.5
             },
             "pattern": {
              "fillmode": "overlay",
              "size": 10,
              "solidity": 0.2
             }
            },
            "type": "bar"
           }
          ],
          "carpet": [
           {
            "aaxis": {
             "endlinecolor": "#2a3f5f",
             "gridcolor": "white",
             "linecolor": "white",
             "minorgridcolor": "white",
             "startlinecolor": "#2a3f5f"
            },
            "baxis": {
             "endlinecolor": "#2a3f5f",
             "gridcolor": "white",
             "linecolor": "white",
             "minorgridcolor": "white",
             "startlinecolor": "#2a3f5f"
            },
            "type": "carpet"
           }
          ],
          "choropleth": [
           {
            "colorbar": {
             "outlinewidth": 0,
             "ticks": ""
            },
            "type": "choropleth"
           }
          ],
          "contourcarpet": [
           {
            "colorbar": {
             "outlinewidth": 0,
             "ticks": ""
            },
            "type": "contourcarpet"
           }
          ],
          "contour": [
           {
            "colorbar": {
             "outlinewidth": 0,
             "ticks": ""
            },
            "colorscale": [
             [
              0.0,
              "#0d0887"
             ],
             [
              0.1111111111111111,
              "#46039f"
             ],
             [
              0.2222222222222222,
              "#7201a8"
             ],
             [
              0.3333333333333333,
              "#9c179e"
             ],
             [
              0.4444444444444444,
              "#bd3786"
             ],
             [
              0.5555555555555556,
              "#d8576b"
             ],
             [
              0.6666666666666666,
              "#ed7953"
             ],
             [
              0.7777777777777778,
              "#fb9f3a"
             ],
             [
              0.8888888888888888,
              "#fdca26"
             ],
             [
              1.0,
              "#f0f921"
             ]
            ],
            "type": "contour"
           }
          ],
          "heatmapgl": [
           {
            "colorbar": {
             "outlinewidth": 0,
             "ticks": ""
            },
            "colorscale": [
             [
              0.0,
              "#0d0887"
             ],
             [
              0.1111111111111111,
              "#46039f"
             ],
             [
              0.2222222222222222,
              "#7201a8"
             ],
             [
              0.3333333333333333,
              "#9c179e"
             ],
             [
              0.4444444444444444,
              "#bd3786"
             ],
             [
              0.5555555555555556,
              "#d8576b"
             ],
             [
              0.6666666666666666,
              "#ed7953"
             ],
             [
              0.7777777777777778,
              "#fb9f3a"
             ],
             [
              0.8888888888888888,
              "#fdca26"
             ],
             [
              1.0,
              "#f0f921"
             ]
            ],
            "type": "heatmapgl"
           }
          ],
          "heatmap": [
           {
            "colorbar": {
             "outlinewidth": 0,
             "ticks": ""
            },
            "colorscale": [
             [
              0.0,
              "#0d0887"
             ],
             [
              0.1111111111111111,
              "#46039f"
             ],
             [
              0.2222222222222222,
              "#7201a8"
             ],
             [
              0.3333333333333333,
              "#9c179e"
             ],
             [
              0.4444444444444444,
              "#bd3786"
             ],
             [
              0.5555555555555556,
              "#d8576b"
             ],
             [
              0.6666666666666666,
              "#ed7953"
             ],
             [
              0.7777777777777778,
              "#fb9f3a"
             ],
             [
              0.8888888888888888,
              "#fdca26"
             ],
             [
              1.0,
              "#f0f921"
             ]
            ],
            "type": "heatmap"
           }
          ],
          "histogram2dcontour": [
           {
            "colorbar": {
             "outlinewidth": 0,
             "ticks": ""
            },
            "colorscale": [
             [
              0.0,
              "#0d0887"
             ],
             [
              0.1111111111111111,
              "#46039f"
             ],
             [
              0.2222222222222222,
              "#7201a8"
             ],
             [
              0.3333333333333333,
              "#9c179e"
             ],
             [
              0.4444444444444444,
              "#bd3786"
             ],
             [
              0.5555555555555556,
              "#d8576b"
             ],
             [
              0.6666666666666666,
              "#ed7953"
             ],
             [
              0.7777777777777778,
              "#fb9f3a"
             ],
             [
              0.8888888888888888,
              "#fdca26"
             ],
             [
              1.0,
              "#f0f921"
             ]
            ],
            "type": "histogram2dcontour"
           }
          ],
          "histogram2d": [
           {
            "colorbar": {
             "outlinewidth": 0,
             "ticks": ""
            },
            "colorscale": [
             [
              0.0,
              "#0d0887"
             ],
             [
              0.1111111111111111,
              "#46039f"
             ],
             [
              0.2222222222222222,
              "#7201a8"
             ],
             [
              0.3333333333333333,
              "#9c179e"
             ],
             [
              0.4444444444444444,
              "#bd3786"
             ],
             [
              0.5555555555555556,
              "#d8576b"
             ],
             [
              0.6666666666666666,
              "#ed7953"
             ],
             [
              0.7777777777777778,
              "#fb9f3a"
             ],
             [
              0.8888888888888888,
              "#fdca26"
             ],
             [
              1.0,
              "#f0f921"
             ]
            ],
            "type": "histogram2d"
           }
          ],
          "histogram": [
           {
            "marker": {
             "pattern": {
              "fillmode": "overlay",
              "size": 10,
              "solidity": 0.2
             }
            },
            "type": "histogram"
           }
          ],
          "mesh3d": [
           {
            "colorbar": {
             "outlinewidth": 0,
             "ticks": ""
            },
            "type": "mesh3d"
           }
          ],
          "parcoords": [
           {
            "line": {
             "colorbar": {
              "outlinewidth": 0,
              "ticks": ""
             }
            },
            "type": "parcoords"
           }
          ],
          "pie": [
           {
            "automargin": true,
            "type": "pie"
           }
          ],
          "scatter3d": [
           {
            "line": {
             "colorbar": {
              "outlinewidth": 0,
              "ticks": ""
             }
            },
            "marker": {
             "colorbar": {
              "outlinewidth": 0,
              "ticks": ""
             }
            },
            "type": "scatter3d"
           }
          ],
          "scattercarpet": [
           {
            "marker": {
             "colorbar": {
              "outlinewidth": 0,
              "ticks": ""
             }
            },
            "type": "scattercarpet"
           }
          ],
          "scattergeo": [
           {
            "marker": {
             "colorbar": {
              "outlinewidth": 0,
              "ticks": ""
             }
            },
            "type": "scattergeo"
           }
          ],
          "scattergl": [
           {
            "marker": {
             "colorbar": {
              "outlinewidth": 0,
              "ticks": ""
             }
            },
            "type": "scattergl"
           }
          ],
          "scattermapbox": [
           {
            "marker": {
             "colorbar": {
              "outlinewidth": 0,
              "ticks": ""
             }
            },
            "type": "scattermapbox"
           }
          ],
          "scatterpolargl": [
           {
            "marker": {
             "colorbar": {
              "outlinewidth": 0,
              "ticks": ""
             }
            },
            "type": "scatterpolargl"
           }
          ],
          "scatterpolar": [
           {
            "marker": {
             "colorbar": {
              "outlinewidth": 0,
              "ticks": ""
             }
            },
            "type": "scatterpolar"
           }
          ],
          "scatter": [
           {
            "fillpattern": {
             "fillmode": "overlay",
             "size": 10,
             "solidity": 0.2
            },
            "type": "scatter"
           }
          ],
          "scatterternary": [
           {
            "marker": {
             "colorbar": {
              "outlinewidth": 0,
              "ticks": ""
             }
            },
            "type": "scatterternary"
           }
          ],
          "surface": [
           {
            "colorbar": {
             "outlinewidth": 0,
             "ticks": ""
            },
            "colorscale": [
             [
              0.0,
              "#0d0887"
             ],
             [
              0.1111111111111111,
              "#46039f"
             ],
             [
              0.2222222222222222,
              "#7201a8"
             ],
             [
              0.3333333333333333,
              "#9c179e"
             ],
             [
              0.4444444444444444,
              "#bd3786"
             ],
             [
              0.5555555555555556,
              "#d8576b"
             ],
             [
              0.6666666666666666,
              "#ed7953"
             ],
             [
              0.7777777777777778,
              "#fb9f3a"
             ],
             [
              0.8888888888888888,
              "#fdca26"
             ],
             [
              1.0,
              "#f0f921"
             ]
            ],
            "type": "surface"
           }
          ],
          "table": [
           {
            "cells": {
             "fill": {
              "color": "#EBF0F8"
             },
             "line": {
              "color": "white"
             }
            },
            "header": {
             "fill": {
              "color": "#C8D4E3"
             },
             "line": {
              "color": "white"
             }
            },
            "type": "table"
           }
          ]
         },
         "layout": {
          "annotationdefaults": {
           "arrowcolor": "#2a3f5f",
           "arrowhead": 0,
           "arrowwidth": 1
          },
          "autotypenumbers": "strict",
          "coloraxis": {
           "colorbar": {
            "outlinewidth": 0,
            "ticks": ""
           }
          },
          "colorscale": {
           "diverging": [
            [
             0,
             "#8e0152"
            ],
            [
             0.1,
             "#c51b7d"
            ],
            [
             0.2,
             "#de77ae"
            ],
            [
             0.3,
             "#f1b6da"
            ],
            [
             0.4,
             "#fde0ef"
            ],
            [
             0.5,
             "#f7f7f7"
            ],
            [
             0.6,
             "#e6f5d0"
            ],
            [
             0.7,
             "#b8e186"
            ],
            [
             0.8,
             "#7fbc41"
            ],
            [
             0.9,
             "#4d9221"
            ],
            [
             1,
             "#276419"
            ]
           ],
           "sequential": [
            [
             0.0,
             "#0d0887"
            ],
            [
             0.1111111111111111,
             "#46039f"
            ],
            [
             0.2222222222222222,
             "#7201a8"
            ],
            [
             0.3333333333333333,
             "#9c179e"
            ],
            [
             0.4444444444444444,
             "#bd3786"
            ],
            [
             0.5555555555555556,
             "#d8576b"
            ],
            [
             0.6666666666666666,
             "#ed7953"
            ],
            [
             0.7777777777777778,
             "#fb9f3a"
            ],
            [
             0.8888888888888888,
             "#fdca26"
            ],
            [
             1.0,
             "#f0f921"
            ]
           ],
           "sequentialminus": [
            [
             0.0,
             "#0d0887"
            ],
            [
             0.1111111111111111,
             "#46039f"
            ],
            [
             0.2222222222222222,
             "#7201a8"
            ],
            [
             0.3333333333333333,
             "#9c179e"
            ],
            [
             0.4444444444444444,
             "#bd3786"
            ],
            [
             0.5555555555555556,
             "#d8576b"
            ],
            [
             0.6666666666666666,
             "#ed7953"
            ],
            [
             0.7777777777777778,
             "#fb9f3a"
            ],
            [
             0.8888888888888888,
             "#fdca26"
            ],
            [
             1.0,
             "#f0f921"
            ]
           ]
          },
          "colorway": [
           "#636efa",
           "#EF553B",
           "#00cc96",
           "#ab63fa",
           "#FFA15A",
           "#19d3f3",
           "#FF6692",
           "#B6E880",
           "#FF97FF",
           "#FECB52"
          ],
          "font": {
           "color": "#2a3f5f"
          },
          "geo": {
           "bgcolor": "white",
           "lakecolor": "white",
           "landcolor": "#E5ECF6",
           "showlakes": true,
           "showland": true,
           "subunitcolor": "white"
          },
          "hoverlabel": {
           "align": "left"
          },
          "hovermode": "closest",
          "mapbox": {
           "style": "light"
          },
          "paper_bgcolor": "white",
          "plot_bgcolor": "#E5ECF6",
          "polar": {
           "angularaxis": {
            "gridcolor": "white",
            "linecolor": "white",
            "ticks": ""
           },
           "bgcolor": "#E5ECF6",
           "radialaxis": {
            "gridcolor": "white",
            "linecolor": "white",
            "ticks": ""
           }
          },
          "scene": {
           "xaxis": {
            "backgroundcolor": "#E5ECF6",
            "gridcolor": "white",
            "gridwidth": 2,
            "linecolor": "white",
            "showbackground": true,
            "ticks": "",
            "zerolinecolor": "white"
           },
           "yaxis": {
            "backgroundcolor": "#E5ECF6",
            "gridcolor": "white",
            "gridwidth": 2,
            "linecolor": "white",
            "showbackground": true,
            "ticks": "",
            "zerolinecolor": "white"
           },
           "zaxis": {
            "backgroundcolor": "#E5ECF6",
            "gridcolor": "white",
            "gridwidth": 2,
            "linecolor": "white",
            "showbackground": true,
            "ticks": "",
            "zerolinecolor": "white"
           }
          },
          "shapedefaults": {
           "line": {
            "color": "#2a3f5f"
           }
          },
          "ternary": {
           "aaxis": {
            "gridcolor": "white",
            "linecolor": "white",
            "ticks": ""
           },
           "baxis": {
            "gridcolor": "white",
            "linecolor": "white",
            "ticks": ""
           },
           "bgcolor": "#E5ECF6",
           "caxis": {
            "gridcolor": "white",
            "linecolor": "white",
            "ticks": ""
           }
          },
          "title": {
           "x": 0.05
          },
          "xaxis": {
           "automargin": true,
           "gridcolor": "white",
           "linecolor": "white",
           "ticks": "",
           "title": {
            "standoff": 15
           },
           "zerolinecolor": "white",
           "zerolinewidth": 2
          },
          "yaxis": {
           "automargin": true,
           "gridcolor": "white",
           "linecolor": "white",
           "ticks": "",
           "title": {
            "standoff": 15
           },
           "zerolinecolor": "white",
           "zerolinewidth": 2
          }
         }
        },
        "title": {
         "text": "2D Visualization of Word Vectors"
        },
        "xaxis": {
         "range": [
          -8,
          8
         ],
         "title": {
          "text": "PC1"
         }
        },
        "yaxis": {
         "range": [
          -8,
          8
         ],
         "title": {
          "text": "PC2"
         }
        }
       },
       "config": {
        "showLink": false,
        "linkText": "Export to plot.ly",
        "plotlyServerURL": "https://plot.ly"
       }
      },
      "text/html": "<div>                            <div id=\"21c36cbd-6b7c-4aec-bb8e-c07e49f05717\" class=\"plotly-graph-div\" style=\"height:525px; width:100%;\"></div>            <script type=\"text/javascript\">                require([\"plotly\"], function(Plotly) {                    window.PLOTLYENV=window.PLOTLYENV || {};                                    if (document.getElementById(\"21c36cbd-6b7c-4aec-bb8e-c07e49f05717\")) {                    Plotly.newPlot(                        \"21c36cbd-6b7c-4aec-bb8e-c07e49f05717\",                        [{\"marker\":{\"color\":\"#636EFA\"},\"mode\":\"markers+text\",\"name\":\"facebook\",\"showlegend\":false,\"text\":[\"facebook\"],\"textposition\":\"top center\",\"x\":[-1.599210500717163],\"y\":[-2.2607522010803223],\"type\":\"scatter\"},{\"marker\":{\"color\":\"#636EFA\",\"size\":10,\"symbol\":\"diamond\"},\"mode\":\"markers\",\"showlegend\":false,\"x\":[-1.599210500717163],\"y\":[-2.2607522010803223],\"type\":\"scatter\"},{\"marker\":{\"color\":\"#00CC96\"},\"mode\":\"markers+text\",\"name\":\"elon\",\"showlegend\":false,\"text\":[\"elon\"],\"textposition\":\"top center\",\"x\":[5.390510082244873],\"y\":[0.7062152028083801],\"type\":\"scatter\"},{\"marker\":{\"color\":\"#00CC96\",\"size\":10,\"symbol\":\"diamond\"},\"mode\":\"markers\",\"showlegend\":false,\"x\":[5.390510082244873],\"y\":[0.7062152028083801],\"type\":\"scatter\"},{\"marker\":{\"color\":\"#AB63FA\"},\"mode\":\"markers+text\",\"name\":\"instagram\",\"showlegend\":false,\"text\":[\"instagram\"],\"textposition\":\"top center\",\"x\":[2.7530465126037598],\"y\":[-0.5041781067848206],\"type\":\"scatter\"},{\"marker\":{\"color\":\"#AB63FA\",\"size\":10,\"symbol\":\"diamond\"},\"mode\":\"markers\",\"showlegend\":false,\"x\":[2.7530465126037598],\"y\":[-0.5041781067848206],\"type\":\"scatter\"},{\"marker\":{\"color\":\"#EF553B\"},\"mode\":\"markers+text\",\"name\":\"twitter\",\"showlegend\":false,\"text\":[\"twitter\"],\"textposition\":\"top center\",\"x\":[-4.921722412109375],\"y\":[0.8351337313652039],\"type\":\"scatter\"},{\"marker\":{\"color\":\"#EF553B\",\"size\":10,\"symbol\":\"diamond\"},\"mode\":\"markers\",\"showlegend\":false,\"x\":[-4.921722412109375],\"y\":[0.8351337313652039],\"type\":\"scatter\"},{\"marker\":{\"color\":\"#636EFA\"},\"mode\":\"markers+text\",\"name\":\"facebook\",\"showlegend\":false,\"text\":[\"facebook\"],\"textposition\":\"top center\",\"x\":[-3.700291395187378],\"y\":[-2.775137424468994],\"type\":\"scatter\"},{\"line\":{\"color\":\"#636EFA\",\"width\":1},\"mode\":\"lines\",\"showlegend\":false,\"x\":[-1.599210500717163,-3.700291395187378],\"y\":[-2.2607522010803223,-2.775137424468994],\"type\":\"scatter\"},{\"marker\":{\"color\":\"#00CC96\"},\"mode\":\"markers+text\",\"name\":\"elon\",\"showlegend\":false,\"text\":[\"elon\"],\"textposition\":\"top center\",\"x\":[4.648174285888672],\"y\":[1.2562888860702515],\"type\":\"scatter\"},{\"line\":{\"color\":\"#00CC96\",\"width\":1},\"mode\":\"lines\",\"showlegend\":false,\"x\":[5.390510082244873,4.648174285888672],\"y\":[0.7062152028083801,1.2562888860702515],\"type\":\"scatter\"},{\"marker\":{\"color\":\"#AB63FA\"},\"mode\":\"markers+text\",\"name\":\"instagram\",\"showlegend\":false,\"text\":[\"instagram\"],\"textposition\":\"top center\",\"x\":[1.913591980934143],\"y\":[-1.2509032487869263],\"type\":\"scatter\"},{\"line\":{\"color\":\"#AB63FA\",\"width\":1},\"mode\":\"lines\",\"showlegend\":false,\"x\":[2.7530465126037598,1.913591980934143],\"y\":[-0.5041781067848206,-1.2509032487869263],\"type\":\"scatter\"},{\"marker\":{\"color\":\"#EF553B\"},\"mode\":\"markers+text\",\"name\":\"twitter\",\"showlegend\":false,\"text\":[\"twitter\"],\"textposition\":\"top center\",\"x\":[-3.3303301334381104],\"y\":[1.232944130897522],\"type\":\"scatter\"},{\"line\":{\"color\":\"#EF553B\",\"width\":1},\"mode\":\"lines\",\"showlegend\":false,\"x\":[-4.921722412109375,-3.3303301334381104],\"y\":[0.8351337313652039,1.232944130897522],\"type\":\"scatter\"},{\"marker\":{\"color\":\"#636EFA\"},\"mode\":\"markers+text\",\"name\":\"facebook\",\"showlegend\":false,\"text\":[\"facebook\"],\"textposition\":\"top center\",\"x\":[-2.706298828125],\"y\":[-2.414163112640381],\"type\":\"scatter\"},{\"line\":{\"color\":\"#636EFA\",\"width\":1},\"mode\":\"lines\",\"showlegend\":false,\"x\":[-3.700291395187378,-2.706298828125],\"y\":[-2.775137424468994,-2.414163112640381],\"type\":\"scatter\"},{\"marker\":{\"color\":\"#00CC96\"},\"mode\":\"markers+text\",\"name\":\"elon\",\"showlegend\":false,\"text\":[\"elon\"],\"textposition\":\"top center\",\"x\":[1.3278496265411377],\"y\":[3.226074457168579],\"type\":\"scatter\"},{\"line\":{\"color\":\"#00CC96\",\"width\":1},\"mode\":\"lines\",\"showlegend\":false,\"x\":[4.648174285888672,1.3278496265411377],\"y\":[1.2562888860702515,3.226074457168579],\"type\":\"scatter\"},{\"marker\":{\"color\":\"#AB63FA\"},\"mode\":\"markers+text\",\"name\":\"instagram\",\"showlegend\":false,\"text\":[\"instagram\"],\"textposition\":\"top center\",\"x\":[3.9044787883758545],\"y\":[-0.8605618476867676],\"type\":\"scatter\"},{\"line\":{\"color\":\"#AB63FA\",\"width\":1},\"mode\":\"lines\",\"showlegend\":false,\"x\":[1.913591980934143,3.9044787883758545],\"y\":[-1.2509032487869263,-0.8605618476867676],\"type\":\"scatter\"},{\"marker\":{\"color\":\"#EF553B\"},\"mode\":\"markers+text\",\"name\":\"twitter\",\"showlegend\":false,\"text\":[\"twitter\"],\"textposition\":\"top center\",\"x\":[-4.8561482429504395],\"y\":[3.8729283809661865],\"type\":\"scatter\"},{\"line\":{\"color\":\"#EF553B\",\"width\":1},\"mode\":\"lines\",\"showlegend\":false,\"x\":[-3.3303301334381104,-4.8561482429504395],\"y\":[1.232944130897522,3.8729283809661865],\"type\":\"scatter\"},{\"marker\":{\"color\":\"#636EFA\"},\"mode\":\"markers+text\",\"name\":\"facebook\",\"showlegend\":false,\"text\":[\"facebook\"],\"textposition\":\"top center\",\"x\":[-2.3372409343719482],\"y\":[-3.551328420639038],\"type\":\"scatter\"},{\"line\":{\"color\":\"#636EFA\",\"width\":1},\"mode\":\"lines\",\"showlegend\":false,\"x\":[-2.706298828125,-2.3372409343719482],\"y\":[-2.414163112640381,-3.551328420639038],\"type\":\"scatter\"},{\"marker\":{\"color\":\"#00CC96\"},\"mode\":\"markers+text\",\"name\":\"elon\",\"showlegend\":false,\"text\":[\"elon\"],\"textposition\":\"top center\",\"x\":[4.402961254119873],\"y\":[1.0025233030319214],\"type\":\"scatter\"},{\"line\":{\"color\":\"#00CC96\",\"width\":1},\"mode\":\"lines\",\"showlegend\":false,\"x\":[1.3278496265411377,4.402961254119873],\"y\":[3.226074457168579,1.0025233030319214],\"type\":\"scatter\"},{\"marker\":{\"color\":\"#AB63FA\"},\"mode\":\"markers+text\",\"name\":\"instagram\",\"showlegend\":false,\"text\":[\"instagram\"],\"textposition\":\"top center\",\"x\":[3.360734462738037],\"y\":[-0.8652584552764893],\"type\":\"scatter\"},{\"line\":{\"color\":\"#AB63FA\",\"width\":1},\"mode\":\"lines\",\"showlegend\":false,\"x\":[3.9044787883758545,3.360734462738037],\"y\":[-0.8605618476867676,-0.8652584552764893],\"type\":\"scatter\"},{\"marker\":{\"color\":\"#EF553B\"},\"mode\":\"markers+text\",\"name\":\"twitter\",\"showlegend\":false,\"text\":[\"twitter\"],\"textposition\":\"top center\",\"x\":[-4.2500996589660645],\"y\":[2.3501789569854736],\"type\":\"scatter\"},{\"line\":{\"color\":\"#EF553B\",\"width\":1},\"mode\":\"lines\",\"showlegend\":false,\"x\":[-4.8561482429504395,-4.2500996589660645],\"y\":[3.8729283809661865,2.3501789569854736],\"type\":\"scatter\"}],                        {\"legend\":{\"x\":1.02,\"y\":1.0},\"template\":{\"data\":{\"barpolar\":[{\"marker\":{\"line\":{\"color\":\"#E5ECF6\",\"width\":0.5},\"pattern\":{\"fillmode\":\"overlay\",\"size\":10,\"solidity\":0.2}},\"type\":\"barpolar\"}],\"bar\":[{\"error_x\":{\"color\":\"#2a3f5f\"},\"error_y\":{\"color\":\"#2a3f5f\"},\"marker\":{\"line\":{\"color\":\"#E5ECF6\",\"width\":0.5},\"pattern\":{\"fillmode\":\"overlay\",\"size\":10,\"solidity\":0.2}},\"type\":\"bar\"}],\"carpet\":[{\"aaxis\":{\"endlinecolor\":\"#2a3f5f\",\"gridcolor\":\"white\",\"linecolor\":\"white\",\"minorgridcolor\":\"white\",\"startlinecolor\":\"#2a3f5f\"},\"baxis\":{\"endlinecolor\":\"#2a3f5f\",\"gridcolor\":\"white\",\"linecolor\":\"white\",\"minorgridcolor\":\"white\",\"startlinecolor\":\"#2a3f5f\"},\"type\":\"carpet\"}],\"choropleth\":[{\"colorbar\":{\"outlinewidth\":0,\"ticks\":\"\"},\"type\":\"choropleth\"}],\"contourcarpet\":[{\"colorbar\":{\"outlinewidth\":0,\"ticks\":\"\"},\"type\":\"contourcarpet\"}],\"contour\":[{\"colorbar\":{\"outlinewidth\":0,\"ticks\":\"\"},\"colorscale\":[[0.0,\"#0d0887\"],[0.1111111111111111,\"#46039f\"],[0.2222222222222222,\"#7201a8\"],[0.3333333333333333,\"#9c179e\"],[0.4444444444444444,\"#bd3786\"],[0.5555555555555556,\"#d8576b\"],[0.6666666666666666,\"#ed7953\"],[0.7777777777777778,\"#fb9f3a\"],[0.8888888888888888,\"#fdca26\"],[1.0,\"#f0f921\"]],\"type\":\"contour\"}],\"heatmapgl\":[{\"colorbar\":{\"outlinewidth\":0,\"ticks\":\"\"},\"colorscale\":[[0.0,\"#0d0887\"],[0.1111111111111111,\"#46039f\"],[0.2222222222222222,\"#7201a8\"],[0.3333333333333333,\"#9c179e\"],[0.4444444444444444,\"#bd3786\"],[0.5555555555555556,\"#d8576b\"],[0.6666666666666666,\"#ed7953\"],[0.7777777777777778,\"#fb9f3a\"],[0.8888888888888888,\"#fdca26\"],[1.0,\"#f0f921\"]],\"type\":\"heatmapgl\"}],\"heatmap\":[{\"colorbar\":{\"outlinewidth\":0,\"ticks\":\"\"},\"colorscale\":[[0.0,\"#0d0887\"],[0.1111111111111111,\"#46039f\"],[0.2222222222222222,\"#7201a8\"],[0.3333333333333333,\"#9c179e\"],[0.4444444444444444,\"#bd3786\"],[0.5555555555555556,\"#d8576b\"],[0.6666666666666666,\"#ed7953\"],[0.7777777777777778,\"#fb9f3a\"],[0.8888888888888888,\"#fdca26\"],[1.0,\"#f0f921\"]],\"type\":\"heatmap\"}],\"histogram2dcontour\":[{\"colorbar\":{\"outlinewidth\":0,\"ticks\":\"\"},\"colorscale\":[[0.0,\"#0d0887\"],[0.1111111111111111,\"#46039f\"],[0.2222222222222222,\"#7201a8\"],[0.3333333333333333,\"#9c179e\"],[0.4444444444444444,\"#bd3786\"],[0.5555555555555556,\"#d8576b\"],[0.6666666666666666,\"#ed7953\"],[0.7777777777777778,\"#fb9f3a\"],[0.8888888888888888,\"#fdca26\"],[1.0,\"#f0f921\"]],\"type\":\"histogram2dcontour\"}],\"histogram2d\":[{\"colorbar\":{\"outlinewidth\":0,\"ticks\":\"\"},\"colorscale\":[[0.0,\"#0d0887\"],[0.1111111111111111,\"#46039f\"],[0.2222222222222222,\"#7201a8\"],[0.3333333333333333,\"#9c179e\"],[0.4444444444444444,\"#bd3786\"],[0.5555555555555556,\"#d8576b\"],[0.6666666666666666,\"#ed7953\"],[0.7777777777777778,\"#fb9f3a\"],[0.8888888888888888,\"#fdca26\"],[1.0,\"#f0f921\"]],\"type\":\"histogram2d\"}],\"histogram\":[{\"marker\":{\"pattern\":{\"fillmode\":\"overlay\",\"size\":10,\"solidity\":0.2}},\"type\":\"histogram\"}],\"mesh3d\":[{\"colorbar\":{\"outlinewidth\":0,\"ticks\":\"\"},\"type\":\"mesh3d\"}],\"parcoords\":[{\"line\":{\"colorbar\":{\"outlinewidth\":0,\"ticks\":\"\"}},\"type\":\"parcoords\"}],\"pie\":[{\"automargin\":true,\"type\":\"pie\"}],\"scatter3d\":[{\"line\":{\"colorbar\":{\"outlinewidth\":0,\"ticks\":\"\"}},\"marker\":{\"colorbar\":{\"outlinewidth\":0,\"ticks\":\"\"}},\"type\":\"scatter3d\"}],\"scattercarpet\":[{\"marker\":{\"colorbar\":{\"outlinewidth\":0,\"ticks\":\"\"}},\"type\":\"scattercarpet\"}],\"scattergeo\":[{\"marker\":{\"colorbar\":{\"outlinewidth\":0,\"ticks\":\"\"}},\"type\":\"scattergeo\"}],\"scattergl\":[{\"marker\":{\"colorbar\":{\"outlinewidth\":0,\"ticks\":\"\"}},\"type\":\"scattergl\"}],\"scattermapbox\":[{\"marker\":{\"colorbar\":{\"outlinewidth\":0,\"ticks\":\"\"}},\"type\":\"scattermapbox\"}],\"scatterpolargl\":[{\"marker\":{\"colorbar\":{\"outlinewidth\":0,\"ticks\":\"\"}},\"type\":\"scatterpolargl\"}],\"scatterpolar\":[{\"marker\":{\"colorbar\":{\"outlinewidth\":0,\"ticks\":\"\"}},\"type\":\"scatterpolar\"}],\"scatter\":[{\"fillpattern\":{\"fillmode\":\"overlay\",\"size\":10,\"solidity\":0.2},\"type\":\"scatter\"}],\"scatterternary\":[{\"marker\":{\"colorbar\":{\"outlinewidth\":0,\"ticks\":\"\"}},\"type\":\"scatterternary\"}],\"surface\":[{\"colorbar\":{\"outlinewidth\":0,\"ticks\":\"\"},\"colorscale\":[[0.0,\"#0d0887\"],[0.1111111111111111,\"#46039f\"],[0.2222222222222222,\"#7201a8\"],[0.3333333333333333,\"#9c179e\"],[0.4444444444444444,\"#bd3786\"],[0.5555555555555556,\"#d8576b\"],[0.6666666666666666,\"#ed7953\"],[0.7777777777777778,\"#fb9f3a\"],[0.8888888888888888,\"#fdca26\"],[1.0,\"#f0f921\"]],\"type\":\"surface\"}],\"table\":[{\"cells\":{\"fill\":{\"color\":\"#EBF0F8\"},\"line\":{\"color\":\"white\"}},\"header\":{\"fill\":{\"color\":\"#C8D4E3\"},\"line\":{\"color\":\"white\"}},\"type\":\"table\"}]},\"layout\":{\"annotationdefaults\":{\"arrowcolor\":\"#2a3f5f\",\"arrowhead\":0,\"arrowwidth\":1},\"autotypenumbers\":\"strict\",\"coloraxis\":{\"colorbar\":{\"outlinewidth\":0,\"ticks\":\"\"}},\"colorscale\":{\"diverging\":[[0,\"#8e0152\"],[0.1,\"#c51b7d\"],[0.2,\"#de77ae\"],[0.3,\"#f1b6da\"],[0.4,\"#fde0ef\"],[0.5,\"#f7f7f7\"],[0.6,\"#e6f5d0\"],[0.7,\"#b8e186\"],[0.8,\"#7fbc41\"],[0.9,\"#4d9221\"],[1,\"#276419\"]],\"sequential\":[[0.0,\"#0d0887\"],[0.1111111111111111,\"#46039f\"],[0.2222222222222222,\"#7201a8\"],[0.3333333333333333,\"#9c179e\"],[0.4444444444444444,\"#bd3786\"],[0.5555555555555556,\"#d8576b\"],[0.6666666666666666,\"#ed7953\"],[0.7777777777777778,\"#fb9f3a\"],[0.8888888888888888,\"#fdca26\"],[1.0,\"#f0f921\"]],\"sequentialminus\":[[0.0,\"#0d0887\"],[0.1111111111111111,\"#46039f\"],[0.2222222222222222,\"#7201a8\"],[0.3333333333333333,\"#9c179e\"],[0.4444444444444444,\"#bd3786\"],[0.5555555555555556,\"#d8576b\"],[0.6666666666666666,\"#ed7953\"],[0.7777777777777778,\"#fb9f3a\"],[0.8888888888888888,\"#fdca26\"],[1.0,\"#f0f921\"]]},\"colorway\":[\"#636efa\",\"#EF553B\",\"#00cc96\",\"#ab63fa\",\"#FFA15A\",\"#19d3f3\",\"#FF6692\",\"#B6E880\",\"#FF97FF\",\"#FECB52\"],\"font\":{\"color\":\"#2a3f5f\"},\"geo\":{\"bgcolor\":\"white\",\"lakecolor\":\"white\",\"landcolor\":\"#E5ECF6\",\"showlakes\":true,\"showland\":true,\"subunitcolor\":\"white\"},\"hoverlabel\":{\"align\":\"left\"},\"hovermode\":\"closest\",\"mapbox\":{\"style\":\"light\"},\"paper_bgcolor\":\"white\",\"plot_bgcolor\":\"#E5ECF6\",\"polar\":{\"angularaxis\":{\"gridcolor\":\"white\",\"linecolor\":\"white\",\"ticks\":\"\"},\"bgcolor\":\"#E5ECF6\",\"radialaxis\":{\"gridcolor\":\"white\",\"linecolor\":\"white\",\"ticks\":\"\"}},\"scene\":{\"xaxis\":{\"backgroundcolor\":\"#E5ECF6\",\"gridcolor\":\"white\",\"gridwidth\":2,\"linecolor\":\"white\",\"showbackground\":true,\"ticks\":\"\",\"zerolinecolor\":\"white\"},\"yaxis\":{\"backgroundcolor\":\"#E5ECF6\",\"gridcolor\":\"white\",\"gridwidth\":2,\"linecolor\":\"white\",\"showbackground\":true,\"ticks\":\"\",\"zerolinecolor\":\"white\"},\"zaxis\":{\"backgroundcolor\":\"#E5ECF6\",\"gridcolor\":\"white\",\"gridwidth\":2,\"linecolor\":\"white\",\"showbackground\":true,\"ticks\":\"\",\"zerolinecolor\":\"white\"}},\"shapedefaults\":{\"line\":{\"color\":\"#2a3f5f\"}},\"ternary\":{\"aaxis\":{\"gridcolor\":\"white\",\"linecolor\":\"white\",\"ticks\":\"\"},\"baxis\":{\"gridcolor\":\"white\",\"linecolor\":\"white\",\"ticks\":\"\"},\"bgcolor\":\"#E5ECF6\",\"caxis\":{\"gridcolor\":\"white\",\"linecolor\":\"white\",\"ticks\":\"\"}},\"title\":{\"x\":0.05},\"xaxis\":{\"automargin\":true,\"gridcolor\":\"white\",\"linecolor\":\"white\",\"ticks\":\"\",\"title\":{\"standoff\":15},\"zerolinecolor\":\"white\",\"zerolinewidth\":2},\"yaxis\":{\"automargin\":true,\"gridcolor\":\"white\",\"linecolor\":\"white\",\"ticks\":\"\",\"title\":{\"standoff\":15},\"zerolinecolor\":\"white\",\"zerolinewidth\":2}}},\"title\":{\"text\":\"2D Visualization of Word Vectors\"},\"xaxis\":{\"range\":[-8,8],\"title\":{\"text\":\"PC1\"}},\"yaxis\":{\"range\":[-8,8],\"title\":{\"text\":\"PC2\"}}},                        {\"responsive\": true}                    ).then(function(){\n                            \nvar gd = document.getElementById('21c36cbd-6b7c-4aec-bb8e-c07e49f05717');\nvar x = new MutationObserver(function (mutations, observer) {{\n        var display = window.getComputedStyle(gd).display;\n        if (!display || display === 'none') {{\n            console.log([gd, 'removed!']);\n            Plotly.purge(gd);\n            observer.disconnect();\n        }}\n}});\n\n// Listen for the removal of the full notebook cells\nvar notebookContainer = gd.closest('#notebook-container');\nif (notebookContainer) {{\n    x.observe(notebookContainer, {childList: true});\n}}\n\n// Listen for the clearing of the current output cell\nvar outputEl = gd.closest('.output');\nif (outputEl) {{\n    x.observe(outputEl, {childList: true});\n}}\n\n                        })                };                });            </script>        </div>"
     },
     "metadata": {},
     "output_type": "display_data"
    }
   ],
   "source": [
    "plot_word_vectors_cade(cade_models_quarterly, test_words_twitter + [target_word_twitter], range=[-8, 8])"
   ],
   "metadata": {
    "collapsed": false
   }
  },
  {
   "cell_type": "code",
   "execution_count": 26,
   "outputs": [
    {
     "name": "stdout",
     "output_type": "stream",
     "text": [
      "All words are contained in the vocabulary\n"
     ]
    }
   ],
   "source": [
    "tppmi_twitter = tppmi_model.get_tppmi(test_words_twitter + [target_word_twitter])"
   ],
   "metadata": {
    "collapsed": false
   }
  },
  {
   "cell_type": "code",
   "execution_count": 28,
   "outputs": [
    {
     "name": "stdout",
     "output_type": "stream",
     "text": [
      "All words are contained in the vocabulary\n"
     ]
    },
    {
     "data": {
      "text/html": "        <script type=\"text/javascript\">\n        window.PlotlyConfig = {MathJaxConfig: 'local'};\n        if (window.MathJax && window.MathJax.Hub && window.MathJax.Hub.Config) {window.MathJax.Hub.Config({SVG: {font: \"STIX-Web\"}});}\n        if (typeof require !== 'undefined') {\n        require.undef(\"plotly\");\n        requirejs.config({\n            paths: {\n                'plotly': ['https://cdn.plot.ly/plotly-2.25.2.min']\n            }\n        });\n        require(['plotly'], function(Plotly) {\n            window._Plotly = Plotly;\n        });\n        }\n        </script>\n        "
     },
     "metadata": {},
     "output_type": "display_data"
    },
    {
     "data": {
      "application/vnd.plotly.v1+json": {
       "data": [
        {
         "marker": {
          "color": "#636EFA"
         },
         "mode": "markers+text",
         "name": "uvalde",
         "showlegend": false,
         "text": [
          "uvalde"
         ],
         "textposition": "top center",
         "x": [
          -3.345507888501946
         ],
         "y": [
          0.6205980416175007
         ],
         "type": "scatter"
        },
        {
         "marker": {
          "color": "#636EFA",
          "size": 10,
          "symbol": "diamond"
         },
         "mode": "markers",
         "showlegend": false,
         "x": [
          -3.345507888501946
         ],
         "y": [
          0.6205980416175007
         ],
         "type": "scatter"
        },
        {
         "marker": {
          "color": "#636EFA"
         },
         "mode": "markers+text",
         "name": "uvalde",
         "showlegend": false,
         "text": [
          "uvalde"
         ],
         "textposition": "top center",
         "x": [
          1.6301492142900966
         ],
         "y": [
          0.9494069710460948
         ],
         "type": "scatter"
        },
        {
         "line": {
          "color": "#636EFA",
          "width": 1
         },
         "mode": "lines",
         "showlegend": false,
         "x": [
          -3.345507888501946,
          1.6301492142900966
         ],
         "y": [
          0.6205980416175007,
          0.9494069710460948
         ],
         "type": "scatter"
        },
        {
         "marker": {
          "color": "#636EFA"
         },
         "mode": "markers+text",
         "name": "uvalde",
         "showlegend": false,
         "text": [
          "uvalde"
         ],
         "textposition": "top center",
         "x": [
          -2.8177789775585325
         ],
         "y": [
          0.3370526411368421
         ],
         "type": "scatter"
        },
        {
         "line": {
          "color": "#636EFA",
          "width": 1
         },
         "mode": "lines",
         "showlegend": false,
         "x": [
          1.6301492142900966,
          -2.8177789775585325
         ],
         "y": [
          0.9494069710460948,
          0.3370526411368421
         ],
         "type": "scatter"
        },
        {
         "marker": {
          "color": "#636EFA"
         },
         "mode": "markers+text",
         "name": "uvalde",
         "showlegend": false,
         "text": [
          "uvalde"
         ],
         "textposition": "top center",
         "x": [
          1.1880576763982165
         ],
         "y": [
          -3.630943898244526
         ],
         "type": "scatter"
        },
        {
         "line": {
          "color": "#636EFA",
          "width": 1
         },
         "mode": "lines",
         "showlegend": false,
         "x": [
          -2.8177789775585325,
          1.1880576763982165
         ],
         "y": [
          0.3370526411368421,
          -3.630943898244526
         ],
         "type": "scatter"
        },
        {
         "marker": {
          "color": "#AB63FA"
         },
         "mode": "markers+text",
         "name": "colorado",
         "showlegend": false,
         "text": [
          "colorado"
         ],
         "textposition": "top center",
         "x": [
          0.9762259412528445
         ],
         "y": [
          1.4134705402949252
         ],
         "type": "scatter"
        },
        {
         "marker": {
          "color": "#AB63FA",
          "size": 10,
          "symbol": "diamond"
         },
         "mode": "markers",
         "showlegend": false,
         "x": [
          0.9762259412528445
         ],
         "y": [
          1.4134705402949252
         ],
         "type": "scatter"
        },
        {
         "marker": {
          "color": "#AB63FA"
         },
         "mode": "markers+text",
         "name": "colorado",
         "showlegend": false,
         "text": [
          "colorado"
         ],
         "textposition": "top center",
         "x": [
          -2.3296353537858376
         ],
         "y": [
          9.325824781270088
         ],
         "type": "scatter"
        },
        {
         "line": {
          "color": "#AB63FA",
          "width": 1
         },
         "mode": "lines",
         "showlegend": false,
         "x": [
          0.9762259412528445,
          -2.3296353537858376
         ],
         "y": [
          1.4134705402949252,
          9.325824781270088
         ],
         "type": "scatter"
        },
        {
         "marker": {
          "color": "#AB63FA"
         },
         "mode": "markers+text",
         "name": "colorado",
         "showlegend": false,
         "text": [
          "colorado"
         ],
         "textposition": "top center",
         "x": [
          0.27149135840234234
         ],
         "y": [
          1.3129752146576004
         ],
         "type": "scatter"
        },
        {
         "line": {
          "color": "#AB63FA",
          "width": 1
         },
         "mode": "lines",
         "showlegend": false,
         "x": [
          -2.3296353537858376,
          0.27149135840234234
         ],
         "y": [
          9.325824781270088,
          1.3129752146576004
         ],
         "type": "scatter"
        },
        {
         "marker": {
          "color": "#AB63FA"
         },
         "mode": "markers+text",
         "name": "colorado",
         "showlegend": false,
         "text": [
          "colorado"
         ],
         "textposition": "top center",
         "x": [
          -4.357739173713078
         ],
         "y": [
          -0.3642953191803326
         ],
         "type": "scatter"
        },
        {
         "line": {
          "color": "#AB63FA",
          "width": 1
         },
         "mode": "lines",
         "showlegend": false,
         "x": [
          0.27149135840234234,
          -4.357739173713078
         ],
         "y": [
          1.3129752146576004,
          -0.3642953191803326
         ],
         "type": "scatter"
        },
        {
         "marker": {
          "color": "#00CC96"
         },
         "mode": "markers+text",
         "name": "nashville",
         "showlegend": false,
         "text": [
          "nashville"
         ],
         "textposition": "top center",
         "x": [
          10.898833991683599
         ],
         "y": [
          -0.6814913162175217
         ],
         "type": "scatter"
        },
        {
         "marker": {
          "color": "#00CC96",
          "size": 10,
          "symbol": "diamond"
         },
         "mode": "markers",
         "showlegend": false,
         "x": [
          10.898833991683599
         ],
         "y": [
          -0.6814913162175217
         ],
         "type": "scatter"
        },
        {
         "marker": {
          "color": "#00CC96"
         },
         "mode": "markers+text",
         "name": "nashville",
         "showlegend": false,
         "text": [
          "nashville"
         ],
         "textposition": "top center",
         "x": [
          -3.854133719017929
         ],
         "y": [
          -3.7623257785464173
         ],
         "type": "scatter"
        },
        {
         "line": {
          "color": "#00CC96",
          "width": 1
         },
         "mode": "lines",
         "showlegend": false,
         "x": [
          10.898833991683599,
          -3.854133719017929
         ],
         "y": [
          -0.6814913162175217,
          -3.7623257785464173
         ],
         "type": "scatter"
        },
        {
         "marker": {
          "color": "#00CC96"
         },
         "mode": "markers+text",
         "name": "nashville",
         "showlegend": false,
         "text": [
          "nashville"
         ],
         "textposition": "top center",
         "x": [
          -1.4714976141770475
         ],
         "y": [
          3.2019485095697444
         ],
         "type": "scatter"
        },
        {
         "line": {
          "color": "#00CC96",
          "width": 1
         },
         "mode": "lines",
         "showlegend": false,
         "x": [
          -3.854133719017929,
          -1.4714976141770475
         ],
         "y": [
          -3.7623257785464173,
          3.2019485095697444
         ],
         "type": "scatter"
        },
        {
         "marker": {
          "color": "#00CC96"
         },
         "mode": "markers+text",
         "name": "nashville",
         "showlegend": false,
         "text": [
          "nashville"
         ],
         "textposition": "top center",
         "x": [
          -5.302734239898646
         ],
         "y": [
          -7.993226003846211
         ],
         "type": "scatter"
        },
        {
         "line": {
          "color": "#00CC96",
          "width": 1
         },
         "mode": "lines",
         "showlegend": false,
         "x": [
          -1.4714976141770475,
          -5.302734239898646
         ],
         "y": [
          3.2019485095697444,
          -7.993226003846211
         ],
         "type": "scatter"
        },
        {
         "marker": {
          "color": "#EF553B"
         },
         "mode": "markers+text",
         "name": "shooting",
         "showlegend": false,
         "text": [
          "shooting"
         ],
         "textposition": "top center",
         "x": [
          5.031263440184786
         ],
         "y": [
          -1.8346068895359402
         ],
         "type": "scatter"
        },
        {
         "marker": {
          "color": "#EF553B",
          "size": 10,
          "symbol": "diamond"
         },
         "mode": "markers",
         "showlegend": false,
         "x": [
          5.031263440184786
         ],
         "y": [
          -1.8346068895359402
         ],
         "type": "scatter"
        },
        {
         "marker": {
          "color": "#EF553B"
         },
         "mode": "markers+text",
         "name": "shooting",
         "showlegend": false,
         "text": [
          "shooting"
         ],
         "textposition": "top center",
         "x": [
          5.4490493195495215
         ],
         "y": [
          -1.823605220507951
         ],
         "type": "scatter"
        },
        {
         "line": {
          "color": "#EF553B",
          "width": 1
         },
         "mode": "lines",
         "showlegend": false,
         "x": [
          5.031263440184786,
          5.4490493195495215
         ],
         "y": [
          -1.8346068895359402,
          -1.823605220507951
         ],
         "type": "scatter"
        },
        {
         "marker": {
          "color": "#EF553B"
         },
         "mode": "markers+text",
         "name": "shooting",
         "showlegend": false,
         "text": [
          "shooting"
         ],
         "textposition": "top center",
         "x": [
          -1.3437612792798823
         ],
         "y": [
          -0.6053646669417525
         ],
         "type": "scatter"
        },
        {
         "line": {
          "color": "#EF553B",
          "width": 1
         },
         "mode": "lines",
         "showlegend": false,
         "x": [
          5.4490493195495215,
          -1.3437612792798823
         ],
         "y": [
          -1.823605220507951,
          -0.6053646669417525
         ],
         "type": "scatter"
        },
        {
         "marker": {
          "color": "#EF553B"
         },
         "mode": "markers+text",
         "name": "shooting",
         "showlegend": false,
         "text": [
          "shooting"
         ],
         "textposition": "top center",
         "x": [
          -0.6222826958285204
         ],
         "y": [
          3.534582393427848
         ],
         "type": "scatter"
        },
        {
         "line": {
          "color": "#EF553B",
          "width": 1
         },
         "mode": "lines",
         "showlegend": false,
         "x": [
          -1.3437612792798823,
          -0.6222826958285204
         ],
         "y": [
          -0.6053646669417525,
          3.534582393427848
         ],
         "type": "scatter"
        }
       ],
       "layout": {
        "legend": {
         "x": 1.02,
         "y": 1.0
        },
        "template": {
         "data": {
          "barpolar": [
           {
            "marker": {
             "line": {
              "color": "#E5ECF6",
              "width": 0.5
             },
             "pattern": {
              "fillmode": "overlay",
              "size": 10,
              "solidity": 0.2
             }
            },
            "type": "barpolar"
           }
          ],
          "bar": [
           {
            "error_x": {
             "color": "#2a3f5f"
            },
            "error_y": {
             "color": "#2a3f5f"
            },
            "marker": {
             "line": {
              "color": "#E5ECF6",
              "width": 0.5
             },
             "pattern": {
              "fillmode": "overlay",
              "size": 10,
              "solidity": 0.2
             }
            },
            "type": "bar"
           }
          ],
          "carpet": [
           {
            "aaxis": {
             "endlinecolor": "#2a3f5f",
             "gridcolor": "white",
             "linecolor": "white",
             "minorgridcolor": "white",
             "startlinecolor": "#2a3f5f"
            },
            "baxis": {
             "endlinecolor": "#2a3f5f",
             "gridcolor": "white",
             "linecolor": "white",
             "minorgridcolor": "white",
             "startlinecolor": "#2a3f5f"
            },
            "type": "carpet"
           }
          ],
          "choropleth": [
           {
            "colorbar": {
             "outlinewidth": 0,
             "ticks": ""
            },
            "type": "choropleth"
           }
          ],
          "contourcarpet": [
           {
            "colorbar": {
             "outlinewidth": 0,
             "ticks": ""
            },
            "type": "contourcarpet"
           }
          ],
          "contour": [
           {
            "colorbar": {
             "outlinewidth": 0,
             "ticks": ""
            },
            "colorscale": [
             [
              0.0,
              "#0d0887"
             ],
             [
              0.1111111111111111,
              "#46039f"
             ],
             [
              0.2222222222222222,
              "#7201a8"
             ],
             [
              0.3333333333333333,
              "#9c179e"
             ],
             [
              0.4444444444444444,
              "#bd3786"
             ],
             [
              0.5555555555555556,
              "#d8576b"
             ],
             [
              0.6666666666666666,
              "#ed7953"
             ],
             [
              0.7777777777777778,
              "#fb9f3a"
             ],
             [
              0.8888888888888888,
              "#fdca26"
             ],
             [
              1.0,
              "#f0f921"
             ]
            ],
            "type": "contour"
           }
          ],
          "heatmapgl": [
           {
            "colorbar": {
             "outlinewidth": 0,
             "ticks": ""
            },
            "colorscale": [
             [
              0.0,
              "#0d0887"
             ],
             [
              0.1111111111111111,
              "#46039f"
             ],
             [
              0.2222222222222222,
              "#7201a8"
             ],
             [
              0.3333333333333333,
              "#9c179e"
             ],
             [
              0.4444444444444444,
              "#bd3786"
             ],
             [
              0.5555555555555556,
              "#d8576b"
             ],
             [
              0.6666666666666666,
              "#ed7953"
             ],
             [
              0.7777777777777778,
              "#fb9f3a"
             ],
             [
              0.8888888888888888,
              "#fdca26"
             ],
             [
              1.0,
              "#f0f921"
             ]
            ],
            "type": "heatmapgl"
           }
          ],
          "heatmap": [
           {
            "colorbar": {
             "outlinewidth": 0,
             "ticks": ""
            },
            "colorscale": [
             [
              0.0,
              "#0d0887"
             ],
             [
              0.1111111111111111,
              "#46039f"
             ],
             [
              0.2222222222222222,
              "#7201a8"
             ],
             [
              0.3333333333333333,
              "#9c179e"
             ],
             [
              0.4444444444444444,
              "#bd3786"
             ],
             [
              0.5555555555555556,
              "#d8576b"
             ],
             [
              0.6666666666666666,
              "#ed7953"
             ],
             [
              0.7777777777777778,
              "#fb9f3a"
             ],
             [
              0.8888888888888888,
              "#fdca26"
             ],
             [
              1.0,
              "#f0f921"
             ]
            ],
            "type": "heatmap"
           }
          ],
          "histogram2dcontour": [
           {
            "colorbar": {
             "outlinewidth": 0,
             "ticks": ""
            },
            "colorscale": [
             [
              0.0,
              "#0d0887"
             ],
             [
              0.1111111111111111,
              "#46039f"
             ],
             [
              0.2222222222222222,
              "#7201a8"
             ],
             [
              0.3333333333333333,
              "#9c179e"
             ],
             [
              0.4444444444444444,
              "#bd3786"
             ],
             [
              0.5555555555555556,
              "#d8576b"
             ],
             [
              0.6666666666666666,
              "#ed7953"
             ],
             [
              0.7777777777777778,
              "#fb9f3a"
             ],
             [
              0.8888888888888888,
              "#fdca26"
             ],
             [
              1.0,
              "#f0f921"
             ]
            ],
            "type": "histogram2dcontour"
           }
          ],
          "histogram2d": [
           {
            "colorbar": {
             "outlinewidth": 0,
             "ticks": ""
            },
            "colorscale": [
             [
              0.0,
              "#0d0887"
             ],
             [
              0.1111111111111111,
              "#46039f"
             ],
             [
              0.2222222222222222,
              "#7201a8"
             ],
             [
              0.3333333333333333,
              "#9c179e"
             ],
             [
              0.4444444444444444,
              "#bd3786"
             ],
             [
              0.5555555555555556,
              "#d8576b"
             ],
             [
              0.6666666666666666,
              "#ed7953"
             ],
             [
              0.7777777777777778,
              "#fb9f3a"
             ],
             [
              0.8888888888888888,
              "#fdca26"
             ],
             [
              1.0,
              "#f0f921"
             ]
            ],
            "type": "histogram2d"
           }
          ],
          "histogram": [
           {
            "marker": {
             "pattern": {
              "fillmode": "overlay",
              "size": 10,
              "solidity": 0.2
             }
            },
            "type": "histogram"
           }
          ],
          "mesh3d": [
           {
            "colorbar": {
             "outlinewidth": 0,
             "ticks": ""
            },
            "type": "mesh3d"
           }
          ],
          "parcoords": [
           {
            "line": {
             "colorbar": {
              "outlinewidth": 0,
              "ticks": ""
             }
            },
            "type": "parcoords"
           }
          ],
          "pie": [
           {
            "automargin": true,
            "type": "pie"
           }
          ],
          "scatter3d": [
           {
            "line": {
             "colorbar": {
              "outlinewidth": 0,
              "ticks": ""
             }
            },
            "marker": {
             "colorbar": {
              "outlinewidth": 0,
              "ticks": ""
             }
            },
            "type": "scatter3d"
           }
          ],
          "scattercarpet": [
           {
            "marker": {
             "colorbar": {
              "outlinewidth": 0,
              "ticks": ""
             }
            },
            "type": "scattercarpet"
           }
          ],
          "scattergeo": [
           {
            "marker": {
             "colorbar": {
              "outlinewidth": 0,
              "ticks": ""
             }
            },
            "type": "scattergeo"
           }
          ],
          "scattergl": [
           {
            "marker": {
             "colorbar": {
              "outlinewidth": 0,
              "ticks": ""
             }
            },
            "type": "scattergl"
           }
          ],
          "scattermapbox": [
           {
            "marker": {
             "colorbar": {
              "outlinewidth": 0,
              "ticks": ""
             }
            },
            "type": "scattermapbox"
           }
          ],
          "scatterpolargl": [
           {
            "marker": {
             "colorbar": {
              "outlinewidth": 0,
              "ticks": ""
             }
            },
            "type": "scatterpolargl"
           }
          ],
          "scatterpolar": [
           {
            "marker": {
             "colorbar": {
              "outlinewidth": 0,
              "ticks": ""
             }
            },
            "type": "scatterpolar"
           }
          ],
          "scatter": [
           {
            "fillpattern": {
             "fillmode": "overlay",
             "size": 10,
             "solidity": 0.2
            },
            "type": "scatter"
           }
          ],
          "scatterternary": [
           {
            "marker": {
             "colorbar": {
              "outlinewidth": 0,
              "ticks": ""
             }
            },
            "type": "scatterternary"
           }
          ],
          "surface": [
           {
            "colorbar": {
             "outlinewidth": 0,
             "ticks": ""
            },
            "colorscale": [
             [
              0.0,
              "#0d0887"
             ],
             [
              0.1111111111111111,
              "#46039f"
             ],
             [
              0.2222222222222222,
              "#7201a8"
             ],
             [
              0.3333333333333333,
              "#9c179e"
             ],
             [
              0.4444444444444444,
              "#bd3786"
             ],
             [
              0.5555555555555556,
              "#d8576b"
             ],
             [
              0.6666666666666666,
              "#ed7953"
             ],
             [
              0.7777777777777778,
              "#fb9f3a"
             ],
             [
              0.8888888888888888,
              "#fdca26"
             ],
             [
              1.0,
              "#f0f921"
             ]
            ],
            "type": "surface"
           }
          ],
          "table": [
           {
            "cells": {
             "fill": {
              "color": "#EBF0F8"
             },
             "line": {
              "color": "white"
             }
            },
            "header": {
             "fill": {
              "color": "#C8D4E3"
             },
             "line": {
              "color": "white"
             }
            },
            "type": "table"
           }
          ]
         },
         "layout": {
          "annotationdefaults": {
           "arrowcolor": "#2a3f5f",
           "arrowhead": 0,
           "arrowwidth": 1
          },
          "autotypenumbers": "strict",
          "coloraxis": {
           "colorbar": {
            "outlinewidth": 0,
            "ticks": ""
           }
          },
          "colorscale": {
           "diverging": [
            [
             0,
             "#8e0152"
            ],
            [
             0.1,
             "#c51b7d"
            ],
            [
             0.2,
             "#de77ae"
            ],
            [
             0.3,
             "#f1b6da"
            ],
            [
             0.4,
             "#fde0ef"
            ],
            [
             0.5,
             "#f7f7f7"
            ],
            [
             0.6,
             "#e6f5d0"
            ],
            [
             0.7,
             "#b8e186"
            ],
            [
             0.8,
             "#7fbc41"
            ],
            [
             0.9,
             "#4d9221"
            ],
            [
             1,
             "#276419"
            ]
           ],
           "sequential": [
            [
             0.0,
             "#0d0887"
            ],
            [
             0.1111111111111111,
             "#46039f"
            ],
            [
             0.2222222222222222,
             "#7201a8"
            ],
            [
             0.3333333333333333,
             "#9c179e"
            ],
            [
             0.4444444444444444,
             "#bd3786"
            ],
            [
             0.5555555555555556,
             "#d8576b"
            ],
            [
             0.6666666666666666,
             "#ed7953"
            ],
            [
             0.7777777777777778,
             "#fb9f3a"
            ],
            [
             0.8888888888888888,
             "#fdca26"
            ],
            [
             1.0,
             "#f0f921"
            ]
           ],
           "sequentialminus": [
            [
             0.0,
             "#0d0887"
            ],
            [
             0.1111111111111111,
             "#46039f"
            ],
            [
             0.2222222222222222,
             "#7201a8"
            ],
            [
             0.3333333333333333,
             "#9c179e"
            ],
            [
             0.4444444444444444,
             "#bd3786"
            ],
            [
             0.5555555555555556,
             "#d8576b"
            ],
            [
             0.6666666666666666,
             "#ed7953"
            ],
            [
             0.7777777777777778,
             "#fb9f3a"
            ],
            [
             0.8888888888888888,
             "#fdca26"
            ],
            [
             1.0,
             "#f0f921"
            ]
           ]
          },
          "colorway": [
           "#636efa",
           "#EF553B",
           "#00cc96",
           "#ab63fa",
           "#FFA15A",
           "#19d3f3",
           "#FF6692",
           "#B6E880",
           "#FF97FF",
           "#FECB52"
          ],
          "font": {
           "color": "#2a3f5f"
          },
          "geo": {
           "bgcolor": "white",
           "lakecolor": "white",
           "landcolor": "#E5ECF6",
           "showlakes": true,
           "showland": true,
           "subunitcolor": "white"
          },
          "hoverlabel": {
           "align": "left"
          },
          "hovermode": "closest",
          "mapbox": {
           "style": "light"
          },
          "paper_bgcolor": "white",
          "plot_bgcolor": "#E5ECF6",
          "polar": {
           "angularaxis": {
            "gridcolor": "white",
            "linecolor": "white",
            "ticks": ""
           },
           "bgcolor": "#E5ECF6",
           "radialaxis": {
            "gridcolor": "white",
            "linecolor": "white",
            "ticks": ""
           }
          },
          "scene": {
           "xaxis": {
            "backgroundcolor": "#E5ECF6",
            "gridcolor": "white",
            "gridwidth": 2,
            "linecolor": "white",
            "showbackground": true,
            "ticks": "",
            "zerolinecolor": "white"
           },
           "yaxis": {
            "backgroundcolor": "#E5ECF6",
            "gridcolor": "white",
            "gridwidth": 2,
            "linecolor": "white",
            "showbackground": true,
            "ticks": "",
            "zerolinecolor": "white"
           },
           "zaxis": {
            "backgroundcolor": "#E5ECF6",
            "gridcolor": "white",
            "gridwidth": 2,
            "linecolor": "white",
            "showbackground": true,
            "ticks": "",
            "zerolinecolor": "white"
           }
          },
          "shapedefaults": {
           "line": {
            "color": "#2a3f5f"
           }
          },
          "ternary": {
           "aaxis": {
            "gridcolor": "white",
            "linecolor": "white",
            "ticks": ""
           },
           "baxis": {
            "gridcolor": "white",
            "linecolor": "white",
            "ticks": ""
           },
           "bgcolor": "#E5ECF6",
           "caxis": {
            "gridcolor": "white",
            "linecolor": "white",
            "ticks": ""
           }
          },
          "title": {
           "x": 0.05
          },
          "xaxis": {
           "automargin": true,
           "gridcolor": "white",
           "linecolor": "white",
           "ticks": "",
           "title": {
            "standoff": 15
           },
           "zerolinecolor": "white",
           "zerolinewidth": 2
          },
          "yaxis": {
           "automargin": true,
           "gridcolor": "white",
           "linecolor": "white",
           "ticks": "",
           "title": {
            "standoff": 15
           },
           "zerolinecolor": "white",
           "zerolinewidth": 2
          }
         }
        },
        "title": {
         "text": "2D Visualization of Word Vectors"
        },
        "xaxis": {
         "range": [
          -10,
          20
         ],
         "title": {
          "text": "PC1"
         }
        },
        "yaxis": {
         "range": [
          -10,
          20
         ],
         "title": {
          "text": "PC2"
         }
        }
       },
       "config": {
        "showLink": false,
        "linkText": "Export to plot.ly",
        "plotlyServerURL": "https://plot.ly"
       }
      },
      "text/html": "<div>                            <div id=\"01c8f9bc-4a2e-446e-9616-a426dfade385\" class=\"plotly-graph-div\" style=\"height:525px; width:100%;\"></div>            <script type=\"text/javascript\">                require([\"plotly\"], function(Plotly) {                    window.PLOTLYENV=window.PLOTLYENV || {};                                    if (document.getElementById(\"01c8f9bc-4a2e-446e-9616-a426dfade385\")) {                    Plotly.newPlot(                        \"01c8f9bc-4a2e-446e-9616-a426dfade385\",                        [{\"marker\":{\"color\":\"#636EFA\"},\"mode\":\"markers+text\",\"name\":\"uvalde\",\"showlegend\":false,\"text\":[\"uvalde\"],\"textposition\":\"top center\",\"x\":[-3.345507888501946],\"y\":[0.6205980416175007],\"type\":\"scatter\"},{\"marker\":{\"color\":\"#636EFA\",\"size\":10,\"symbol\":\"diamond\"},\"mode\":\"markers\",\"showlegend\":false,\"x\":[-3.345507888501946],\"y\":[0.6205980416175007],\"type\":\"scatter\"},{\"marker\":{\"color\":\"#636EFA\"},\"mode\":\"markers+text\",\"name\":\"uvalde\",\"showlegend\":false,\"text\":[\"uvalde\"],\"textposition\":\"top center\",\"x\":[1.6301492142900966],\"y\":[0.9494069710460948],\"type\":\"scatter\"},{\"line\":{\"color\":\"#636EFA\",\"width\":1},\"mode\":\"lines\",\"showlegend\":false,\"x\":[-3.345507888501946,1.6301492142900966],\"y\":[0.6205980416175007,0.9494069710460948],\"type\":\"scatter\"},{\"marker\":{\"color\":\"#636EFA\"},\"mode\":\"markers+text\",\"name\":\"uvalde\",\"showlegend\":false,\"text\":[\"uvalde\"],\"textposition\":\"top center\",\"x\":[-2.8177789775585325],\"y\":[0.3370526411368421],\"type\":\"scatter\"},{\"line\":{\"color\":\"#636EFA\",\"width\":1},\"mode\":\"lines\",\"showlegend\":false,\"x\":[1.6301492142900966,-2.8177789775585325],\"y\":[0.9494069710460948,0.3370526411368421],\"type\":\"scatter\"},{\"marker\":{\"color\":\"#636EFA\"},\"mode\":\"markers+text\",\"name\":\"uvalde\",\"showlegend\":false,\"text\":[\"uvalde\"],\"textposition\":\"top center\",\"x\":[1.1880576763982165],\"y\":[-3.630943898244526],\"type\":\"scatter\"},{\"line\":{\"color\":\"#636EFA\",\"width\":1},\"mode\":\"lines\",\"showlegend\":false,\"x\":[-2.8177789775585325,1.1880576763982165],\"y\":[0.3370526411368421,-3.630943898244526],\"type\":\"scatter\"},{\"marker\":{\"color\":\"#AB63FA\"},\"mode\":\"markers+text\",\"name\":\"colorado\",\"showlegend\":false,\"text\":[\"colorado\"],\"textposition\":\"top center\",\"x\":[0.9762259412528445],\"y\":[1.4134705402949252],\"type\":\"scatter\"},{\"marker\":{\"color\":\"#AB63FA\",\"size\":10,\"symbol\":\"diamond\"},\"mode\":\"markers\",\"showlegend\":false,\"x\":[0.9762259412528445],\"y\":[1.4134705402949252],\"type\":\"scatter\"},{\"marker\":{\"color\":\"#AB63FA\"},\"mode\":\"markers+text\",\"name\":\"colorado\",\"showlegend\":false,\"text\":[\"colorado\"],\"textposition\":\"top center\",\"x\":[-2.3296353537858376],\"y\":[9.325824781270088],\"type\":\"scatter\"},{\"line\":{\"color\":\"#AB63FA\",\"width\":1},\"mode\":\"lines\",\"showlegend\":false,\"x\":[0.9762259412528445,-2.3296353537858376],\"y\":[1.4134705402949252,9.325824781270088],\"type\":\"scatter\"},{\"marker\":{\"color\":\"#AB63FA\"},\"mode\":\"markers+text\",\"name\":\"colorado\",\"showlegend\":false,\"text\":[\"colorado\"],\"textposition\":\"top center\",\"x\":[0.27149135840234234],\"y\":[1.3129752146576004],\"type\":\"scatter\"},{\"line\":{\"color\":\"#AB63FA\",\"width\":1},\"mode\":\"lines\",\"showlegend\":false,\"x\":[-2.3296353537858376,0.27149135840234234],\"y\":[9.325824781270088,1.3129752146576004],\"type\":\"scatter\"},{\"marker\":{\"color\":\"#AB63FA\"},\"mode\":\"markers+text\",\"name\":\"colorado\",\"showlegend\":false,\"text\":[\"colorado\"],\"textposition\":\"top center\",\"x\":[-4.357739173713078],\"y\":[-0.3642953191803326],\"type\":\"scatter\"},{\"line\":{\"color\":\"#AB63FA\",\"width\":1},\"mode\":\"lines\",\"showlegend\":false,\"x\":[0.27149135840234234,-4.357739173713078],\"y\":[1.3129752146576004,-0.3642953191803326],\"type\":\"scatter\"},{\"marker\":{\"color\":\"#00CC96\"},\"mode\":\"markers+text\",\"name\":\"nashville\",\"showlegend\":false,\"text\":[\"nashville\"],\"textposition\":\"top center\",\"x\":[10.898833991683599],\"y\":[-0.6814913162175217],\"type\":\"scatter\"},{\"marker\":{\"color\":\"#00CC96\",\"size\":10,\"symbol\":\"diamond\"},\"mode\":\"markers\",\"showlegend\":false,\"x\":[10.898833991683599],\"y\":[-0.6814913162175217],\"type\":\"scatter\"},{\"marker\":{\"color\":\"#00CC96\"},\"mode\":\"markers+text\",\"name\":\"nashville\",\"showlegend\":false,\"text\":[\"nashville\"],\"textposition\":\"top center\",\"x\":[-3.854133719017929],\"y\":[-3.7623257785464173],\"type\":\"scatter\"},{\"line\":{\"color\":\"#00CC96\",\"width\":1},\"mode\":\"lines\",\"showlegend\":false,\"x\":[10.898833991683599,-3.854133719017929],\"y\":[-0.6814913162175217,-3.7623257785464173],\"type\":\"scatter\"},{\"marker\":{\"color\":\"#00CC96\"},\"mode\":\"markers+text\",\"name\":\"nashville\",\"showlegend\":false,\"text\":[\"nashville\"],\"textposition\":\"top center\",\"x\":[-1.4714976141770475],\"y\":[3.2019485095697444],\"type\":\"scatter\"},{\"line\":{\"color\":\"#00CC96\",\"width\":1},\"mode\":\"lines\",\"showlegend\":false,\"x\":[-3.854133719017929,-1.4714976141770475],\"y\":[-3.7623257785464173,3.2019485095697444],\"type\":\"scatter\"},{\"marker\":{\"color\":\"#00CC96\"},\"mode\":\"markers+text\",\"name\":\"nashville\",\"showlegend\":false,\"text\":[\"nashville\"],\"textposition\":\"top center\",\"x\":[-5.302734239898646],\"y\":[-7.993226003846211],\"type\":\"scatter\"},{\"line\":{\"color\":\"#00CC96\",\"width\":1},\"mode\":\"lines\",\"showlegend\":false,\"x\":[-1.4714976141770475,-5.302734239898646],\"y\":[3.2019485095697444,-7.993226003846211],\"type\":\"scatter\"},{\"marker\":{\"color\":\"#EF553B\"},\"mode\":\"markers+text\",\"name\":\"shooting\",\"showlegend\":false,\"text\":[\"shooting\"],\"textposition\":\"top center\",\"x\":[5.031263440184786],\"y\":[-1.8346068895359402],\"type\":\"scatter\"},{\"marker\":{\"color\":\"#EF553B\",\"size\":10,\"symbol\":\"diamond\"},\"mode\":\"markers\",\"showlegend\":false,\"x\":[5.031263440184786],\"y\":[-1.8346068895359402],\"type\":\"scatter\"},{\"marker\":{\"color\":\"#EF553B\"},\"mode\":\"markers+text\",\"name\":\"shooting\",\"showlegend\":false,\"text\":[\"shooting\"],\"textposition\":\"top center\",\"x\":[5.4490493195495215],\"y\":[-1.823605220507951],\"type\":\"scatter\"},{\"line\":{\"color\":\"#EF553B\",\"width\":1},\"mode\":\"lines\",\"showlegend\":false,\"x\":[5.031263440184786,5.4490493195495215],\"y\":[-1.8346068895359402,-1.823605220507951],\"type\":\"scatter\"},{\"marker\":{\"color\":\"#EF553B\"},\"mode\":\"markers+text\",\"name\":\"shooting\",\"showlegend\":false,\"text\":[\"shooting\"],\"textposition\":\"top center\",\"x\":[-1.3437612792798823],\"y\":[-0.6053646669417525],\"type\":\"scatter\"},{\"line\":{\"color\":\"#EF553B\",\"width\":1},\"mode\":\"lines\",\"showlegend\":false,\"x\":[5.4490493195495215,-1.3437612792798823],\"y\":[-1.823605220507951,-0.6053646669417525],\"type\":\"scatter\"},{\"marker\":{\"color\":\"#EF553B\"},\"mode\":\"markers+text\",\"name\":\"shooting\",\"showlegend\":false,\"text\":[\"shooting\"],\"textposition\":\"top center\",\"x\":[-0.6222826958285204],\"y\":[3.534582393427848],\"type\":\"scatter\"},{\"line\":{\"color\":\"#EF553B\",\"width\":1},\"mode\":\"lines\",\"showlegend\":false,\"x\":[-1.3437612792798823,-0.6222826958285204],\"y\":[-0.6053646669417525,3.534582393427848],\"type\":\"scatter\"}],                        {\"legend\":{\"x\":1.02,\"y\":1.0},\"template\":{\"data\":{\"barpolar\":[{\"marker\":{\"line\":{\"color\":\"#E5ECF6\",\"width\":0.5},\"pattern\":{\"fillmode\":\"overlay\",\"size\":10,\"solidity\":0.2}},\"type\":\"barpolar\"}],\"bar\":[{\"error_x\":{\"color\":\"#2a3f5f\"},\"error_y\":{\"color\":\"#2a3f5f\"},\"marker\":{\"line\":{\"color\":\"#E5ECF6\",\"width\":0.5},\"pattern\":{\"fillmode\":\"overlay\",\"size\":10,\"solidity\":0.2}},\"type\":\"bar\"}],\"carpet\":[{\"aaxis\":{\"endlinecolor\":\"#2a3f5f\",\"gridcolor\":\"white\",\"linecolor\":\"white\",\"minorgridcolor\":\"white\",\"startlinecolor\":\"#2a3f5f\"},\"baxis\":{\"endlinecolor\":\"#2a3f5f\",\"gridcolor\":\"white\",\"linecolor\":\"white\",\"minorgridcolor\":\"white\",\"startlinecolor\":\"#2a3f5f\"},\"type\":\"carpet\"}],\"choropleth\":[{\"colorbar\":{\"outlinewidth\":0,\"ticks\":\"\"},\"type\":\"choropleth\"}],\"contourcarpet\":[{\"colorbar\":{\"outlinewidth\":0,\"ticks\":\"\"},\"type\":\"contourcarpet\"}],\"contour\":[{\"colorbar\":{\"outlinewidth\":0,\"ticks\":\"\"},\"colorscale\":[[0.0,\"#0d0887\"],[0.1111111111111111,\"#46039f\"],[0.2222222222222222,\"#7201a8\"],[0.3333333333333333,\"#9c179e\"],[0.4444444444444444,\"#bd3786\"],[0.5555555555555556,\"#d8576b\"],[0.6666666666666666,\"#ed7953\"],[0.7777777777777778,\"#fb9f3a\"],[0.8888888888888888,\"#fdca26\"],[1.0,\"#f0f921\"]],\"type\":\"contour\"}],\"heatmapgl\":[{\"colorbar\":{\"outlinewidth\":0,\"ticks\":\"\"},\"colorscale\":[[0.0,\"#0d0887\"],[0.1111111111111111,\"#46039f\"],[0.2222222222222222,\"#7201a8\"],[0.3333333333333333,\"#9c179e\"],[0.4444444444444444,\"#bd3786\"],[0.5555555555555556,\"#d8576b\"],[0.6666666666666666,\"#ed7953\"],[0.7777777777777778,\"#fb9f3a\"],[0.8888888888888888,\"#fdca26\"],[1.0,\"#f0f921\"]],\"type\":\"heatmapgl\"}],\"heatmap\":[{\"colorbar\":{\"outlinewidth\":0,\"ticks\":\"\"},\"colorscale\":[[0.0,\"#0d0887\"],[0.1111111111111111,\"#46039f\"],[0.2222222222222222,\"#7201a8\"],[0.3333333333333333,\"#9c179e\"],[0.4444444444444444,\"#bd3786\"],[0.5555555555555556,\"#d8576b\"],[0.6666666666666666,\"#ed7953\"],[0.7777777777777778,\"#fb9f3a\"],[0.8888888888888888,\"#fdca26\"],[1.0,\"#f0f921\"]],\"type\":\"heatmap\"}],\"histogram2dcontour\":[{\"colorbar\":{\"outlinewidth\":0,\"ticks\":\"\"},\"colorscale\":[[0.0,\"#0d0887\"],[0.1111111111111111,\"#46039f\"],[0.2222222222222222,\"#7201a8\"],[0.3333333333333333,\"#9c179e\"],[0.4444444444444444,\"#bd3786\"],[0.5555555555555556,\"#d8576b\"],[0.6666666666666666,\"#ed7953\"],[0.7777777777777778,\"#fb9f3a\"],[0.8888888888888888,\"#fdca26\"],[1.0,\"#f0f921\"]],\"type\":\"histogram2dcontour\"}],\"histogram2d\":[{\"colorbar\":{\"outlinewidth\":0,\"ticks\":\"\"},\"colorscale\":[[0.0,\"#0d0887\"],[0.1111111111111111,\"#46039f\"],[0.2222222222222222,\"#7201a8\"],[0.3333333333333333,\"#9c179e\"],[0.4444444444444444,\"#bd3786\"],[0.5555555555555556,\"#d8576b\"],[0.6666666666666666,\"#ed7953\"],[0.7777777777777778,\"#fb9f3a\"],[0.8888888888888888,\"#fdca26\"],[1.0,\"#f0f921\"]],\"type\":\"histogram2d\"}],\"histogram\":[{\"marker\":{\"pattern\":{\"fillmode\":\"overlay\",\"size\":10,\"solidity\":0.2}},\"type\":\"histogram\"}],\"mesh3d\":[{\"colorbar\":{\"outlinewidth\":0,\"ticks\":\"\"},\"type\":\"mesh3d\"}],\"parcoords\":[{\"line\":{\"colorbar\":{\"outlinewidth\":0,\"ticks\":\"\"}},\"type\":\"parcoords\"}],\"pie\":[{\"automargin\":true,\"type\":\"pie\"}],\"scatter3d\":[{\"line\":{\"colorbar\":{\"outlinewidth\":0,\"ticks\":\"\"}},\"marker\":{\"colorbar\":{\"outlinewidth\":0,\"ticks\":\"\"}},\"type\":\"scatter3d\"}],\"scattercarpet\":[{\"marker\":{\"colorbar\":{\"outlinewidth\":0,\"ticks\":\"\"}},\"type\":\"scattercarpet\"}],\"scattergeo\":[{\"marker\":{\"colorbar\":{\"outlinewidth\":0,\"ticks\":\"\"}},\"type\":\"scattergeo\"}],\"scattergl\":[{\"marker\":{\"colorbar\":{\"outlinewidth\":0,\"ticks\":\"\"}},\"type\":\"scattergl\"}],\"scattermapbox\":[{\"marker\":{\"colorbar\":{\"outlinewidth\":0,\"ticks\":\"\"}},\"type\":\"scattermapbox\"}],\"scatterpolargl\":[{\"marker\":{\"colorbar\":{\"outlinewidth\":0,\"ticks\":\"\"}},\"type\":\"scatterpolargl\"}],\"scatterpolar\":[{\"marker\":{\"colorbar\":{\"outlinewidth\":0,\"ticks\":\"\"}},\"type\":\"scatterpolar\"}],\"scatter\":[{\"fillpattern\":{\"fillmode\":\"overlay\",\"size\":10,\"solidity\":0.2},\"type\":\"scatter\"}],\"scatterternary\":[{\"marker\":{\"colorbar\":{\"outlinewidth\":0,\"ticks\":\"\"}},\"type\":\"scatterternary\"}],\"surface\":[{\"colorbar\":{\"outlinewidth\":0,\"ticks\":\"\"},\"colorscale\":[[0.0,\"#0d0887\"],[0.1111111111111111,\"#46039f\"],[0.2222222222222222,\"#7201a8\"],[0.3333333333333333,\"#9c179e\"],[0.4444444444444444,\"#bd3786\"],[0.5555555555555556,\"#d8576b\"],[0.6666666666666666,\"#ed7953\"],[0.7777777777777778,\"#fb9f3a\"],[0.8888888888888888,\"#fdca26\"],[1.0,\"#f0f921\"]],\"type\":\"surface\"}],\"table\":[{\"cells\":{\"fill\":{\"color\":\"#EBF0F8\"},\"line\":{\"color\":\"white\"}},\"header\":{\"fill\":{\"color\":\"#C8D4E3\"},\"line\":{\"color\":\"white\"}},\"type\":\"table\"}]},\"layout\":{\"annotationdefaults\":{\"arrowcolor\":\"#2a3f5f\",\"arrowhead\":0,\"arrowwidth\":1},\"autotypenumbers\":\"strict\",\"coloraxis\":{\"colorbar\":{\"outlinewidth\":0,\"ticks\":\"\"}},\"colorscale\":{\"diverging\":[[0,\"#8e0152\"],[0.1,\"#c51b7d\"],[0.2,\"#de77ae\"],[0.3,\"#f1b6da\"],[0.4,\"#fde0ef\"],[0.5,\"#f7f7f7\"],[0.6,\"#e6f5d0\"],[0.7,\"#b8e186\"],[0.8,\"#7fbc41\"],[0.9,\"#4d9221\"],[1,\"#276419\"]],\"sequential\":[[0.0,\"#0d0887\"],[0.1111111111111111,\"#46039f\"],[0.2222222222222222,\"#7201a8\"],[0.3333333333333333,\"#9c179e\"],[0.4444444444444444,\"#bd3786\"],[0.5555555555555556,\"#d8576b\"],[0.6666666666666666,\"#ed7953\"],[0.7777777777777778,\"#fb9f3a\"],[0.8888888888888888,\"#fdca26\"],[1.0,\"#f0f921\"]],\"sequentialminus\":[[0.0,\"#0d0887\"],[0.1111111111111111,\"#46039f\"],[0.2222222222222222,\"#7201a8\"],[0.3333333333333333,\"#9c179e\"],[0.4444444444444444,\"#bd3786\"],[0.5555555555555556,\"#d8576b\"],[0.6666666666666666,\"#ed7953\"],[0.7777777777777778,\"#fb9f3a\"],[0.8888888888888888,\"#fdca26\"],[1.0,\"#f0f921\"]]},\"colorway\":[\"#636efa\",\"#EF553B\",\"#00cc96\",\"#ab63fa\",\"#FFA15A\",\"#19d3f3\",\"#FF6692\",\"#B6E880\",\"#FF97FF\",\"#FECB52\"],\"font\":{\"color\":\"#2a3f5f\"},\"geo\":{\"bgcolor\":\"white\",\"lakecolor\":\"white\",\"landcolor\":\"#E5ECF6\",\"showlakes\":true,\"showland\":true,\"subunitcolor\":\"white\"},\"hoverlabel\":{\"align\":\"left\"},\"hovermode\":\"closest\",\"mapbox\":{\"style\":\"light\"},\"paper_bgcolor\":\"white\",\"plot_bgcolor\":\"#E5ECF6\",\"polar\":{\"angularaxis\":{\"gridcolor\":\"white\",\"linecolor\":\"white\",\"ticks\":\"\"},\"bgcolor\":\"#E5ECF6\",\"radialaxis\":{\"gridcolor\":\"white\",\"linecolor\":\"white\",\"ticks\":\"\"}},\"scene\":{\"xaxis\":{\"backgroundcolor\":\"#E5ECF6\",\"gridcolor\":\"white\",\"gridwidth\":2,\"linecolor\":\"white\",\"showbackground\":true,\"ticks\":\"\",\"zerolinecolor\":\"white\"},\"yaxis\":{\"backgroundcolor\":\"#E5ECF6\",\"gridcolor\":\"white\",\"gridwidth\":2,\"linecolor\":\"white\",\"showbackground\":true,\"ticks\":\"\",\"zerolinecolor\":\"white\"},\"zaxis\":{\"backgroundcolor\":\"#E5ECF6\",\"gridcolor\":\"white\",\"gridwidth\":2,\"linecolor\":\"white\",\"showbackground\":true,\"ticks\":\"\",\"zerolinecolor\":\"white\"}},\"shapedefaults\":{\"line\":{\"color\":\"#2a3f5f\"}},\"ternary\":{\"aaxis\":{\"gridcolor\":\"white\",\"linecolor\":\"white\",\"ticks\":\"\"},\"baxis\":{\"gridcolor\":\"white\",\"linecolor\":\"white\",\"ticks\":\"\"},\"bgcolor\":\"#E5ECF6\",\"caxis\":{\"gridcolor\":\"white\",\"linecolor\":\"white\",\"ticks\":\"\"}},\"title\":{\"x\":0.05},\"xaxis\":{\"automargin\":true,\"gridcolor\":\"white\",\"linecolor\":\"white\",\"ticks\":\"\",\"title\":{\"standoff\":15},\"zerolinecolor\":\"white\",\"zerolinewidth\":2},\"yaxis\":{\"automargin\":true,\"gridcolor\":\"white\",\"linecolor\":\"white\",\"ticks\":\"\",\"title\":{\"standoff\":15},\"zerolinecolor\":\"white\",\"zerolinewidth\":2}}},\"title\":{\"text\":\"2D Visualization of Word Vectors\"},\"xaxis\":{\"range\":[-10,20],\"title\":{\"text\":\"PC1\"}},\"yaxis\":{\"range\":[-10,20],\"title\":{\"text\":\"PC2\"}}},                        {\"responsive\": true}                    ).then(function(){\n                            \nvar gd = document.getElementById('01c8f9bc-4a2e-446e-9616-a426dfade385');\nvar x = new MutationObserver(function (mutations, observer) {{\n        var display = window.getComputedStyle(gd).display;\n        if (!display || display === 'none') {{\n            console.log([gd, 'removed!']);\n            Plotly.purge(gd);\n            observer.disconnect();\n        }}\n}});\n\n// Listen for the removal of the full notebook cells\nvar notebookContainer = gd.closest('#notebook-container');\nif (notebookContainer) {{\n    x.observe(notebookContainer, {childList: true});\n}}\n\n// Listen for the clearing of the current output cell\nvar outputEl = gd.closest('.output');\nif (outputEl) {{\n    x.observe(outputEl, {childList: true});\n}}\n\n                        })                };                });            </script>        </div>"
     },
     "metadata": {},
     "output_type": "display_data"
    }
   ],
   "source": [
    "plot_word_vectors_tppmi(tppmi_model, test_words_shootings + [target_word_shootings], range=[-10, 20])"
   ],
   "metadata": {
    "collapsed": false
   }
  },
  {
   "cell_type": "markdown",
   "source": [
    "## President"
   ],
   "metadata": {
    "collapsed": false
   }
  },
  {
   "cell_type": "markdown",
   "source": [
    "### Overview"
   ],
   "metadata": {
    "collapsed": false
   }
  },
  {
   "cell_type": "markdown",
   "source": [
    "June:\n",
    "- Boris Johnson: vote of no confidence June 6, 2022\n",
    "- Lyndon B Johnson: Talks leading up to the civil rights act July 2, (1964)\n",
    "- Janet Godwin: The Iowa City-based education testing company ACT will be laying off 106 employees by July 1.\n",
    "\n",
    "September:\n",
    "- Scott Hagel: Vice president of marketing\n",
    "\n",
    "January:\n",
    "- Richard Cordoray: Considered as vice chairman of the federal reserve for banking supervision\n",
    "\n",
    "March/April:\n",
    "- Donald Trump: Trump charged with 34 felony counts in hush money scheme"
   ],
   "metadata": {
    "collapsed": false
   }
  },
  {
   "cell_type": "code",
   "execution_count": 27,
   "outputs": [],
   "source": [
    "target_word_president = \"president\"\n",
    "test_words_president = [\"johnson\", \"trump\", \"biden\", \"former\", \"obama\", \"minister\"]"
   ],
   "metadata": {
    "collapsed": false
   }
  },
  {
   "cell_type": "markdown",
   "source": [
    "### Visualizations"
   ],
   "metadata": {
    "collapsed": false
   }
  },
  {
   "cell_type": "code",
   "execution_count": null,
   "outputs": [],
   "source": [
    "plot_word_vectors_cade(cade_models_quarterly, test_words_president + [target_word_president], range=[-10, 10])"
   ],
   "metadata": {
    "collapsed": false
   }
  },
  {
   "cell_type": "code",
   "execution_count": null,
   "outputs": [],
   "source": [
    "tppmi_president = tppmi_model.get_tppmi(test_words_president + [target_word_president])"
   ],
   "metadata": {
    "collapsed": false
   }
  },
  {
   "cell_type": "code",
   "execution_count": null,
   "outputs": [],
   "source": [
    "plot_word_vectors_tppmi(tppmi_model.get_2d_representation(test_words_president + [target_word_president]), range=[-10, 15])"
   ],
   "metadata": {
    "collapsed": false
   }
  },
  {
   "cell_type": "code",
   "execution_count": null,
   "outputs": [],
   "source": [],
   "metadata": {
    "collapsed": false
   }
  }
 ],
 "metadata": {
  "kernelspec": {
   "display_name": "Python 3",
   "language": "python",
   "name": "python3"
  },
  "language_info": {
   "codemirror_mode": {
    "name": "ipython",
    "version": 2
   },
   "file_extension": ".py",
   "mimetype": "text/x-python",
   "name": "python",
   "nbconvert_exporter": "python",
   "pygments_lexer": "ipython2",
   "version": "2.7.6"
  }
 },
 "nbformat": 4,
 "nbformat_minor": 0
}
