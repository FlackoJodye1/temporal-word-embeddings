{
 "cells": [
  {
   "cell_type": "code",
   "execution_count": 1,
   "metadata": {
    "collapsed": true
   },
   "outputs": [],
   "source": [
    "import pandas as pd\n",
    "from glob import glob\n",
    "from pathlib import Path"
   ]
  },
  {
   "cell_type": "markdown",
   "source": [
    "# Imports"
   ],
   "metadata": {
    "collapsed": false
   }
  },
  {
   "cell_type": "code",
   "execution_count": 2,
   "outputs": [],
   "source": [
    "DATA_DIR = Path(\"../../data\")\n",
    "input_dir = DATA_DIR / \"raw\" / \"nyt-data\""
   ],
   "metadata": {
    "collapsed": false
   }
  },
  {
   "cell_type": "code",
   "execution_count": 3,
   "outputs": [],
   "source": [
    "file_paths = glob(str(input_dir / \"*.json\"))"
   ],
   "metadata": {
    "collapsed": false
   }
  },
  {
   "cell_type": "code",
   "execution_count": 4,
   "outputs": [
    {
     "data": {
      "text/plain": "['../../data/raw/nyt-data/paragraphs.json',\n '../../data/raw/nyt-data/articles-search.json']"
     },
     "execution_count": 4,
     "metadata": {},
     "output_type": "execute_result"
    }
   ],
   "source": [
    "file_paths"
   ],
   "metadata": {
    "collapsed": false
   }
  },
  {
   "cell_type": "markdown",
   "source": [
    "# Exploration"
   ],
   "metadata": {
    "collapsed": false
   }
  },
  {
   "cell_type": "code",
   "execution_count": 5,
   "outputs": [],
   "source": [
    "articles = pd.read_json(file_paths[0], orient='records')\n",
    "paragraphs = pd.read_json(file_paths[1], orient='records')"
   ],
   "metadata": {
    "collapsed": false
   }
  },
  {
   "cell_type": "code",
   "execution_count": 6,
   "outputs": [
    {
     "data": {
      "text/plain": "                                                 url  \\\n0  http://www.nytimes.com/1997/01/01/arts/after-a...   \n1  http://www.nytimes.com/1997/01/01/world/serb-p...   \n2  http://www.nytimes.com/1997/01/01/sports/for-4...   \n3  http://www.nytimes.com/1997/01/01/world/islami...   \n4  http://www.nytimes.com/1997/01/01/opinion/l-me...   \n\n                         id                                         paragraphs  \n0  4fd20e5c8eb7c8105d77f747  [after the rush of holiday festivities and the...  \n1  4fd20cf08eb7c8105d77c720  [belgrade, serbia, wednesday, jan. 1—, with th...  \n2  4fd1fd738eb7c8105d75d42e  [san francisco, dec. 31—, the change was made,...  \n3  4fd1fd738eb7c8105d75d42b  [isfahan, iran—, isfahan, wrote jean chardin, ...  \n4  4fd1fd738eb7c8105d75d432  [to the editor:, your dec. 30 front-page repor...  ",
      "text/html": "<div>\n<style scoped>\n    .dataframe tbody tr th:only-of-type {\n        vertical-align: middle;\n    }\n\n    .dataframe tbody tr th {\n        vertical-align: top;\n    }\n\n    .dataframe thead th {\n        text-align: right;\n    }\n</style>\n<table border=\"1\" class=\"dataframe\">\n  <thead>\n    <tr style=\"text-align: right;\">\n      <th></th>\n      <th>url</th>\n      <th>id</th>\n      <th>paragraphs</th>\n    </tr>\n  </thead>\n  <tbody>\n    <tr>\n      <th>0</th>\n      <td>http://www.nytimes.com/1997/01/01/arts/after-a...</td>\n      <td>4fd20e5c8eb7c8105d77f747</td>\n      <td>[after the rush of holiday festivities and the...</td>\n    </tr>\n    <tr>\n      <th>1</th>\n      <td>http://www.nytimes.com/1997/01/01/world/serb-p...</td>\n      <td>4fd20cf08eb7c8105d77c720</td>\n      <td>[belgrade, serbia, wednesday, jan. 1—, with th...</td>\n    </tr>\n    <tr>\n      <th>2</th>\n      <td>http://www.nytimes.com/1997/01/01/sports/for-4...</td>\n      <td>4fd1fd738eb7c8105d75d42e</td>\n      <td>[san francisco, dec. 31—, the change was made,...</td>\n    </tr>\n    <tr>\n      <th>3</th>\n      <td>http://www.nytimes.com/1997/01/01/world/islami...</td>\n      <td>4fd1fd738eb7c8105d75d42b</td>\n      <td>[isfahan, iran—, isfahan, wrote jean chardin, ...</td>\n    </tr>\n    <tr>\n      <th>4</th>\n      <td>http://www.nytimes.com/1997/01/01/opinion/l-me...</td>\n      <td>4fd1fd738eb7c8105d75d432</td>\n      <td>[to the editor:, your dec. 30 front-page repor...</td>\n    </tr>\n  </tbody>\n</table>\n</div>"
     },
     "execution_count": 6,
     "metadata": {},
     "output_type": "execute_result"
    }
   ],
   "source": [
    "articles.head()"
   ],
   "metadata": {
    "collapsed": false
   }
  },
  {
   "cell_type": "code",
   "execution_count": 7,
   "outputs": [
    {
     "data": {
      "text/plain": "url           object\nid            object\nparagraphs    object\ndtype: object"
     },
     "execution_count": 7,
     "metadata": {},
     "output_type": "execute_result"
    }
   ],
   "source": [
    "articles.dtypes"
   ],
   "metadata": {
    "collapsed": false
   }
  },
  {
   "cell_type": "code",
   "execution_count": 8,
   "outputs": [
    {
     "data": {
      "text/plain": "                                                lead  \\\n0  After the rush of holiday festivities and the ...   \n1  With the high-pitched chirps of thousands of w...   \n2  The change was made, appropriately, after the ...   \n3  Isfahan, wrote Jean Chardin, the 17th-century ...   \n4  To the Editor: Your Dec. 30 front-page report ...   \n\n                                              author  \\\n0  {'person': [{'organization': '', 'role': 'repo...   \n1  {'person': [{'organization': '', 'role': 'repo...   \n2  {'person': [{'organization': '', 'role': 'repo...   \n3  {'person': [{'organization': '', 'role': 'repo...   \n4                                               None   \n\n                                            headline  \\\n0  After All the Champagne, Time to Smell the Coffee   \n1               Serb Protests Take On a Holiday Mood   \n2            For 49ers, Pressure Will Be On the Line   \n3         Islamic Militancy vs. Money-Making in Iran   \n4            Memo to Helms: Why and How We Need U.N.   \n\n                                            abstract  \\\n0  Jon Pareles reviews new CD's by Greg Brown, Bi...   \n1  Anti-Government protesters in Belgrade welcome...   \n2  Preview of San Francisco 49ers' playoff game a...   \n3  Iran is locked in fierce and bitter struggle o...   \n4  Letter from Paul Kennedy, Yale history profess...   \n\n                                 locations  word_count  \\\n0                                       []       530.0   \n1  [BELGRADE (SERBIA), SERBIA, YUGOSLAVIA]       723.0   \n2                                       []       799.0   \n3                                   [IRAN]      1194.0   \n4                                       []       373.0   \n\n                                             snippet              source  \\\n0  After the rush of holiday festivities and the ...  The New York Times   \n1  With the high-pitched chirps of thousands of w...  The New York Times   \n2  The change was made, appropriately, after the ...  The New York Times   \n3  Isfahan, wrote Jean Chardin, the 17th-century ...  The New York Times   \n4  To the Editor:    Your Dec. 30 front-page repo...  The New York Times   \n\n                               subjects  \\\n0           [RECORDINGS (AUDIO), MUSIC]   \n1  [NEW YEAR, DEMONSTRATIONS AND RIOTS]   \n2             [PLAYOFF GAMES, FOOTBALL]   \n3  [WOMEN, ISLAM, TRAVEL AND VACATIONS]   \n4                                    []   \n\n                                                 url            desk  \\\n0  http://www.nytimes.com/1997/01/01/arts/after-a...   Cultural Desk   \n1  http://www.nytimes.com/1997/01/01/world/serb-p...    Foreign Desk   \n2  http://www.nytimes.com/1997/01/01/sports/for-4...     Sports Desk   \n3  http://www.nytimes.com/1997/01/01/world/islami...    Foreign Desk   \n4  http://www.nytimes.com/1997/01/01/opinion/l-me...  Editorial Desk   \n\n        date  section    type                        id  \n0 1997-01-01     Arts  Review  4fd20e5c8eb7c8105d77f747  \n1 1997-01-01    World    News  4fd20cf08eb7c8105d77c720  \n2 1997-01-01   Sports    News  4fd1fd738eb7c8105d75d42e  \n3 1997-01-01    World    News  4fd1fd738eb7c8105d75d42b  \n4 1997-01-01  Opinion  Letter  4fd1fd738eb7c8105d75d432  ",
      "text/html": "<div>\n<style scoped>\n    .dataframe tbody tr th:only-of-type {\n        vertical-align: middle;\n    }\n\n    .dataframe tbody tr th {\n        vertical-align: top;\n    }\n\n    .dataframe thead th {\n        text-align: right;\n    }\n</style>\n<table border=\"1\" class=\"dataframe\">\n  <thead>\n    <tr style=\"text-align: right;\">\n      <th></th>\n      <th>lead</th>\n      <th>author</th>\n      <th>headline</th>\n      <th>abstract</th>\n      <th>locations</th>\n      <th>word_count</th>\n      <th>snippet</th>\n      <th>source</th>\n      <th>subjects</th>\n      <th>url</th>\n      <th>desk</th>\n      <th>date</th>\n      <th>section</th>\n      <th>type</th>\n      <th>id</th>\n    </tr>\n  </thead>\n  <tbody>\n    <tr>\n      <th>0</th>\n      <td>After the rush of holiday festivities and the ...</td>\n      <td>{'person': [{'organization': '', 'role': 'repo...</td>\n      <td>After All the Champagne, Time to Smell the Coffee</td>\n      <td>Jon Pareles reviews new CD's by Greg Brown, Bi...</td>\n      <td>[]</td>\n      <td>530.0</td>\n      <td>After the rush of holiday festivities and the ...</td>\n      <td>The New York Times</td>\n      <td>[RECORDINGS (AUDIO), MUSIC]</td>\n      <td>http://www.nytimes.com/1997/01/01/arts/after-a...</td>\n      <td>Cultural Desk</td>\n      <td>1997-01-01</td>\n      <td>Arts</td>\n      <td>Review</td>\n      <td>4fd20e5c8eb7c8105d77f747</td>\n    </tr>\n    <tr>\n      <th>1</th>\n      <td>With the high-pitched chirps of thousands of w...</td>\n      <td>{'person': [{'organization': '', 'role': 'repo...</td>\n      <td>Serb Protests Take On a Holiday Mood</td>\n      <td>Anti-Government protesters in Belgrade welcome...</td>\n      <td>[BELGRADE (SERBIA), SERBIA, YUGOSLAVIA]</td>\n      <td>723.0</td>\n      <td>With the high-pitched chirps of thousands of w...</td>\n      <td>The New York Times</td>\n      <td>[NEW YEAR, DEMONSTRATIONS AND RIOTS]</td>\n      <td>http://www.nytimes.com/1997/01/01/world/serb-p...</td>\n      <td>Foreign Desk</td>\n      <td>1997-01-01</td>\n      <td>World</td>\n      <td>News</td>\n      <td>4fd20cf08eb7c8105d77c720</td>\n    </tr>\n    <tr>\n      <th>2</th>\n      <td>The change was made, appropriately, after the ...</td>\n      <td>{'person': [{'organization': '', 'role': 'repo...</td>\n      <td>For 49ers, Pressure Will Be On the Line</td>\n      <td>Preview of San Francisco 49ers' playoff game a...</td>\n      <td>[]</td>\n      <td>799.0</td>\n      <td>The change was made, appropriately, after the ...</td>\n      <td>The New York Times</td>\n      <td>[PLAYOFF GAMES, FOOTBALL]</td>\n      <td>http://www.nytimes.com/1997/01/01/sports/for-4...</td>\n      <td>Sports Desk</td>\n      <td>1997-01-01</td>\n      <td>Sports</td>\n      <td>News</td>\n      <td>4fd1fd738eb7c8105d75d42e</td>\n    </tr>\n    <tr>\n      <th>3</th>\n      <td>Isfahan, wrote Jean Chardin, the 17th-century ...</td>\n      <td>{'person': [{'organization': '', 'role': 'repo...</td>\n      <td>Islamic Militancy vs. Money-Making in Iran</td>\n      <td>Iran is locked in fierce and bitter struggle o...</td>\n      <td>[IRAN]</td>\n      <td>1194.0</td>\n      <td>Isfahan, wrote Jean Chardin, the 17th-century ...</td>\n      <td>The New York Times</td>\n      <td>[WOMEN, ISLAM, TRAVEL AND VACATIONS]</td>\n      <td>http://www.nytimes.com/1997/01/01/world/islami...</td>\n      <td>Foreign Desk</td>\n      <td>1997-01-01</td>\n      <td>World</td>\n      <td>News</td>\n      <td>4fd1fd738eb7c8105d75d42b</td>\n    </tr>\n    <tr>\n      <th>4</th>\n      <td>To the Editor: Your Dec. 30 front-page report ...</td>\n      <td>None</td>\n      <td>Memo to Helms: Why and How We Need U.N.</td>\n      <td>Letter from Paul Kennedy, Yale history profess...</td>\n      <td>[]</td>\n      <td>373.0</td>\n      <td>To the Editor:    Your Dec. 30 front-page repo...</td>\n      <td>The New York Times</td>\n      <td>[]</td>\n      <td>http://www.nytimes.com/1997/01/01/opinion/l-me...</td>\n      <td>Editorial Desk</td>\n      <td>1997-01-01</td>\n      <td>Opinion</td>\n      <td>Letter</td>\n      <td>4fd1fd738eb7c8105d75d432</td>\n    </tr>\n  </tbody>\n</table>\n</div>"
     },
     "execution_count": 8,
     "metadata": {},
     "output_type": "execute_result"
    }
   ],
   "source": [
    "paragraphs.head()"
   ],
   "metadata": {
    "collapsed": false
   }
  },
  {
   "cell_type": "code",
   "execution_count": 9,
   "outputs": [
    {
     "data": {
      "text/plain": "lead                  object\nauthor                object\nheadline              object\nabstract              object\nlocations             object\nword_count           float64\nsnippet               object\nsource                object\nsubjects              object\nurl                   object\ndesk                  object\ndate          datetime64[ns]\nsection               object\ntype                  object\nid                    object\ndtype: object"
     },
     "execution_count": 9,
     "metadata": {},
     "output_type": "execute_result"
    }
   ],
   "source": [
    "paragraphs.dtypes"
   ],
   "metadata": {
    "collapsed": false
   }
  },
  {
   "cell_type": "markdown",
   "source": [
    "# Conversions"
   ],
   "metadata": {
    "collapsed": false
   }
  },
  {
   "cell_type": "markdown",
   "source": [
    "Isolate relevant columns\n",
    "\n",
    "paragraphs: id, paragraphs (contains the text of the articles)\n",
    "articles: id, date"
   ],
   "metadata": {
    "collapsed": false
   }
  },
  {
   "cell_type": "code",
   "execution_count": 10,
   "outputs": [],
   "source": [
    "paragraphs = paragraphs[['id', 'date']]\n",
    "articles = articles[['id', 'paragraphs']]"
   ],
   "metadata": {
    "collapsed": false
   }
  },
  {
   "cell_type": "markdown",
   "source": [
    "Now we can merge them into one dataframe"
   ],
   "metadata": {
    "collapsed": false
   }
  },
  {
   "cell_type": "code",
   "execution_count": 11,
   "outputs": [],
   "source": [
    "data = pd.merge(paragraphs, articles, on='id', how='inner')"
   ],
   "metadata": {
    "collapsed": false
   }
  },
  {
   "cell_type": "code",
   "execution_count": 12,
   "outputs": [],
   "source": [
    "data = data.rename(columns={'paragraphs': 'text'})"
   ],
   "metadata": {
    "collapsed": false
   }
  },
  {
   "cell_type": "code",
   "execution_count": 13,
   "outputs": [
    {
     "data": {
      "text/plain": "['belgrade, serbia, wednesday, jan. 1—',\n 'with the high-pitched chirps of thousands of whistles and a display of fireworks, anti-government protesters welcomed in the new year, expressing hope for the beginnings of democracy in serbia and for the end of one-man rule by slobodan milosevic.',\n \"on a sound stage erected in front of the snow-clad statue of prince mihailo in the central republic square, rock groups and actors led the new year's eve festivities, interspersed with cameo appearances by leaders of the opposition.\",\n \"the forbidding police presence during the previous six days of demonstrations was not on display on new year's eve, and the heavy snow let up. that gave the revelers a chance to regain the warm feelings and good humor that characterized much of the past six weeks of protest, which took shape after the government annulled opposition victories in municipal elections in november.\",\n \"the boisterous celebration, and a similar street party held by university students a few blocks away, marked a break with tradition for serbs, who usually spend new year's eve with their families at home. but to keep up the momentum of the protests, the opposition decided to organize a celebration and encouraged people to leave their homes to celebrate the new year en masse by gathering around midnight.\",\n 'casting a shadow over the high spirits of the night was uncertainty over what mr. milosevic would do about demands that the organization for security and cooperation in europe presented to him on friday that he respect the election results.',\n 'during a brief new year statement just before midnight on government television, mr. milosevic did not mention the crisis that has begun to erode his position. he said 1997 would be a year of reform citing privatization and a turn toward a market economy.',\n 'the leaders of the opposition have said they would call off the demonstrations if he reinstated the election results. they would then seek formal talks for movement toward democracy on other fronts, including opening up the news media and freeing the economy from state control, the leaders said.',\n \"while the november elections are the focus of the demonstrations, the protests have developed much broader themes as well, evident everywhere in the night's urban street party.\",\n \"outside belgrade university's philosophy department, a large sign above the students' outdoor stage read, happy free new year.\",\n 'aleksander djukic, 22, a political science student who is on the organizing committee of the student protest, said the past had been so disappointing that he hoped 1997 would bring a cornucopia of wishes-come-true.',\n 'we need so many things, he said. liberty, freedom, happiness. i hope next year will bring all of that. actually if anything nice happens, it would be good after all these years.',\n \"the partying did not attract only young people. middle-aged couples from the remnants of serbia's middle class who have attended the daily rallies came to the square wearing their marching uniforms of heavy coats and protest buttons. but this time they also trailed balloons and party hats.\",\n 'a retired couple, ilija and zivka drinic, carrying a container of hot tea spiked with brandy, said that at the very least they hoped the opposition victories would be reinstated.',\n 'that would be only a start, said mr. drinic, 64. but it is most important we get the biggest towns in serbia, and that we have clever people in the local government to make things run better.',\n 'he said it was essential that a television channel be created that would not be in the hands of the government. with the current government control of all television channels in serbia, mr. drinic said, relatives he had visited recently who live 100 miles south of belgrade had no knowledge of the opposition rallies. my brother was completely confused when i told him, he said.',\n \"the highest-ranking united states diplomat in belgrade, the charge d'affaires, richard miles, met with the serbian foreign minister, milan milutinovic, on monday, urging that mr. milosevic accept the demands of the european group.\",\n 'several diplomats in belgrade said on monday that they saw signs that mr. milosevic was prepared to accept the proposal. they pointed out that, in public comments, none of his ministers had rejected the demands. but other diplomats warned that because mr. milosevic makes all decisions himself, apparently without consultation, it was impossible to be sure what he would do.',\n \"photo: new year's eve brought a festive atmosphere to the demonstrations in belgrade. after six weeks of dogged protests against the government, serbs broke tradition for the holiday by celebrating en masse. (reuters)\"]"
     },
     "execution_count": 13,
     "metadata": {},
     "output_type": "execute_result"
    }
   ],
   "source": [
    "data.iloc[1][\"text\"]"
   ],
   "metadata": {
    "collapsed": false
   }
  },
  {
   "cell_type": "markdown",
   "source": [
    "Convert the values of the text attribute from a list of strings to one string"
   ],
   "metadata": {
    "collapsed": false
   }
  },
  {
   "cell_type": "code",
   "execution_count": 14,
   "outputs": [],
   "source": [
    "data['text'] = data['text'].apply(lambda x: ' '.join(x))"
   ],
   "metadata": {
    "collapsed": false
   }
  },
  {
   "cell_type": "code",
   "execution_count": 15,
   "outputs": [
    {
     "data": {
      "text/plain": "\"belgrade, serbia, wednesday, jan. 1— with the high-pitched chirps of thousands of whistles and a display of fireworks, anti-government protesters welcomed in the new year, expressing hope for the beginnings of democracy in serbia and for the end of one-man rule by slobodan milosevic. on a sound stage erected in front of the snow-clad statue of prince mihailo in the central republic square, rock groups and actors led the new year's eve festivities, interspersed with cameo appearances by leaders of the opposition. the forbidding police presence during the previous six days of demonstrations was not on display on new year's eve, and the heavy snow let up. that gave the revelers a chance to regain the warm feelings and good humor that characterized much of the past six weeks of protest, which took shape after the government annulled opposition victories in municipal elections in november. the boisterous celebration, and a similar street party held by university students a few blocks away, marked a break with tradition for serbs, who usually spend new year's eve with their families at home. but to keep up the momentum of the protests, the opposition decided to organize a celebration and encouraged people to leave their homes to celebrate the new year en masse by gathering around midnight. casting a shadow over the high spirits of the night was uncertainty over what mr. milosevic would do about demands that the organization for security and cooperation in europe presented to him on friday that he respect the election results. during a brief new year statement just before midnight on government television, mr. milosevic did not mention the crisis that has begun to erode his position. he said 1997 would be a year of reform citing privatization and a turn toward a market economy. the leaders of the opposition have said they would call off the demonstrations if he reinstated the election results. they would then seek formal talks for movement toward democracy on other fronts, including opening up the news media and freeing the economy from state control, the leaders said. while the november elections are the focus of the demonstrations, the protests have developed much broader themes as well, evident everywhere in the night's urban street party. outside belgrade university's philosophy department, a large sign above the students' outdoor stage read, happy free new year. aleksander djukic, 22, a political science student who is on the organizing committee of the student protest, said the past had been so disappointing that he hoped 1997 would bring a cornucopia of wishes-come-true. we need so many things, he said. liberty, freedom, happiness. i hope next year will bring all of that. actually if anything nice happens, it would be good after all these years. the partying did not attract only young people. middle-aged couples from the remnants of serbia's middle class who have attended the daily rallies came to the square wearing their marching uniforms of heavy coats and protest buttons. but this time they also trailed balloons and party hats. a retired couple, ilija and zivka drinic, carrying a container of hot tea spiked with brandy, said that at the very least they hoped the opposition victories would be reinstated. that would be only a start, said mr. drinic, 64. but it is most important we get the biggest towns in serbia, and that we have clever people in the local government to make things run better. he said it was essential that a television channel be created that would not be in the hands of the government. with the current government control of all television channels in serbia, mr. drinic said, relatives he had visited recently who live 100 miles south of belgrade had no knowledge of the opposition rallies. my brother was completely confused when i told him, he said. the highest-ranking united states diplomat in belgrade, the charge d'affaires, richard miles, met with the serbian foreign minister, milan milutinovic, on monday, urging that mr. milosevic accept the demands of the european group. several diplomats in belgrade said on monday that they saw signs that mr. milosevic was prepared to accept the proposal. they pointed out that, in public comments, none of his ministers had rejected the demands. but other diplomats warned that because mr. milosevic makes all decisions himself, apparently without consultation, it was impossible to be sure what he would do. photo: new year's eve brought a festive atmosphere to the demonstrations in belgrade. after six weeks of dogged protests against the government, serbs broke tradition for the holiday by celebrating en masse. (reuters)\""
     },
     "execution_count": 15,
     "metadata": {},
     "output_type": "execute_result"
    }
   ],
   "source": [
    "data.iloc[1][\"text\"]"
   ],
   "metadata": {
    "collapsed": false
   }
  },
  {
   "cell_type": "code",
   "execution_count": 16,
   "outputs": [
    {
     "data": {
      "text/plain": "id      0.0\ndate    0.0\ntext    0.0\ndtype: float64"
     },
     "execution_count": 16,
     "metadata": {},
     "output_type": "execute_result"
    }
   ],
   "source": [
    "data.isnull().sum().divide(len(data)).sort_values(ascending=False)"
   ],
   "metadata": {
    "collapsed": false
   }
  },
  {
   "cell_type": "markdown",
   "source": [
    "There are no missing values"
   ],
   "metadata": {
    "collapsed": false
   }
  },
  {
   "cell_type": "markdown",
   "source": [
    "Sort by Date"
   ],
   "metadata": {
    "collapsed": false
   }
  },
  {
   "cell_type": "code",
   "execution_count": 17,
   "outputs": [],
   "source": [
    "data['date'] =  pd.to_datetime(data['date'])"
   ],
   "metadata": {
    "collapsed": false
   }
  },
  {
   "cell_type": "code",
   "execution_count": 18,
   "outputs": [],
   "source": [
    "data.sort_values('date', inplace=True);"
   ],
   "metadata": {
    "collapsed": false
   }
  },
  {
   "cell_type": "code",
   "execution_count": 19,
   "outputs": [
    {
     "name": "stdout",
     "output_type": "stream",
     "text": [
      "Period of time: ('1990-01-01', '2016-06-05')\n"
     ]
    }
   ],
   "source": [
    "# Get the range of dates\n",
    "period = (data['date'].min(), data['date'].max())\n",
    "\n",
    "# Format the output\n",
    "formatted_range = tuple(date.strftime(\"%Y-%m-%d\") for date in period)\n",
    "print(\"Period of time:\", formatted_range)"
   ],
   "metadata": {
    "collapsed": false
   }
  },
  {
   "cell_type": "markdown",
   "source": [
    "# Preprocessing\n",
    "\n",
    "As described by Yao et al. in their Paper \"Dynamic Word Embeddings for Evolving Semantic Discovery\" they follow these preprocessing steps:\n",
    "\n",
    "- Convert to lowercase\n",
    "- Remove Punctuation\n",
    "- Remove stop-words\n",
    "- Remove rare words (< 200x in the whole corpus)"
   ],
   "metadata": {
    "collapsed": false
   }
  },
  {
   "cell_type": "markdown",
   "source": [
    "## 1. Convert to lowercase\n"
   ],
   "metadata": {
    "collapsed": false
   }
  },
  {
   "cell_type": "code",
   "execution_count": 20,
   "outputs": [],
   "source": [
    "data[\"text\"] = data[\"text\"].str.lower()"
   ],
   "metadata": {
    "collapsed": false
   }
  },
  {
   "cell_type": "markdown",
   "source": [
    "## 2. Remove Punctuations\n",
    "\n",
    "Eliminate the punctuation, URL, and @"
   ],
   "metadata": {
    "collapsed": false
   }
  },
  {
   "cell_type": "code",
   "execution_count": 21,
   "outputs": [],
   "source": [
    "import re\n",
    "\n",
    "def clean_text(text):\n",
    "    text = re.sub(r\"(@\\[A-Za-z0-9]+)|([^0-9A-Za-z \\t])|(\\w+:\\/\\/\\S+)|^rt|http.+?\", \"\", text)\n",
    "\n",
    "    return text"
   ],
   "metadata": {
    "collapsed": false
   }
  },
  {
   "cell_type": "code",
   "execution_count": 22,
   "outputs": [],
   "source": [
    "data[\"text\"] = data[\"text\"].apply(clean_text)"
   ],
   "metadata": {
    "collapsed": false
   }
  },
  {
   "cell_type": "markdown",
   "source": [
    "### 3. Remove Stopwords"
   ],
   "metadata": {
    "collapsed": false
   }
  },
  {
   "cell_type": "code",
   "execution_count": 23,
   "outputs": [],
   "source": [
    "import nltk\n",
    "# nltk.download('punkt')\n",
    "\n",
    "def remove_stopwords(text):\n",
    "    from nltk.corpus import stopwords\n",
    "    from nltk.tokenize import word_tokenize\n",
    "\n",
    "    stop_words = set(stopwords.words(\"english\"))\n",
    "    word_tokens = word_tokenize(text)\n",
    "    filtered_text = [word for word in word_tokens if word not in stop_words]\n",
    "    return \" \".join(filtered_text)"
   ],
   "metadata": {
    "collapsed": false
   }
  },
  {
   "cell_type": "code",
   "execution_count": 24,
   "outputs": [],
   "source": [
    "data[\"text\"] = data[\"text\"].apply(remove_stopwords)"
   ],
   "metadata": {
    "collapsed": false
   }
  },
  {
   "cell_type": "markdown",
   "source": [
    "## 4. Remove rare words"
   ],
   "metadata": {
    "collapsed": false
   }
  },
  {
   "cell_type": "code",
   "execution_count": 25,
   "outputs": [],
   "source": [
    "def remove_rare_words(df, n = 200):\n",
    "    from collections import Counter\n",
    "\n",
    "    # Step 1: Tokenize the text in each row into words\n",
    "    df['tokens'] = df['text'].str.split()\n",
    "\n",
    "    # Step 2: Count the occurrences of each word across the entire dataset\n",
    "    word_counts = Counter(word for tokens in df['tokens'] for word in tokens)\n",
    "\n",
    "    print(f\"Total: {len(word_counts)}\")\n",
    "\n",
    "    # Step 3: Filter out words that occur less than 200 times\n",
    "    words_to_keep = {word for word, count in word_counts.items() if count > n}\n",
    "\n",
    "    print(f\"Filtered: {len(words_to_keep)}\")\n",
    "\n",
    "    # Step 4: Reconstruct the text by joining the remaining words back together\n",
    "    df['text_filtered'] = df['tokens'].apply(lambda tokens: ' '.join(word for word in tokens if word in words_to_keep))\n",
    "\n",
    "    df['text'] = df['text_filtered']\n",
    "\n",
    "    return df.drop(columns=['tokens', 'text_filtered'])"
   ],
   "metadata": {
    "collapsed": false
   }
  },
  {
   "cell_type": "code",
   "execution_count": 26,
   "outputs": [
    {
     "name": "stdout",
     "output_type": "stream",
     "text": [
      "Total: 545057\n",
      "Filtered: 22062\n"
     ]
    }
   ],
   "source": [
    "data = remove_rare_words(data)"
   ],
   "metadata": {
    "collapsed": false
   }
  },
  {
   "cell_type": "markdown",
   "source": [
    "Let us now check if all observations survived the text-cleaning"
   ],
   "metadata": {
    "collapsed": false
   }
  },
  {
   "cell_type": "code",
   "execution_count": 27,
   "outputs": [
    {
     "data": {
      "text/plain": "0"
     },
     "execution_count": 27,
     "metadata": {},
     "output_type": "execute_result"
    }
   ],
   "source": [
    "data[\"text\"].isna().sum()"
   ],
   "metadata": {
    "collapsed": false
   }
  },
  {
   "cell_type": "code",
   "execution_count": 28,
   "outputs": [
    {
     "name": "stdout",
     "output_type": "stream",
     "text": [
      "Number of texts with zero length: 7054\n"
     ]
    }
   ],
   "source": [
    "num_texts_with_zero_length = (data[\"text\"].str.len() == 0).sum()\n",
    "\n",
    "print(f\"Number of texts with zero length: {num_texts_with_zero_length}\")"
   ],
   "metadata": {
    "collapsed": false
   }
  },
  {
   "cell_type": "markdown",
   "source": [
    "These are texts which only consisted of stopwords/rare-words.\n",
    "They did not survive the text-cleaning process and are subsequently removed"
   ],
   "metadata": {
    "collapsed": false
   }
  },
  {
   "cell_type": "code",
   "execution_count": 29,
   "outputs": [],
   "source": [
    "data = data[data[\"text\"].str.len() > 0]"
   ],
   "metadata": {
    "collapsed": false
   }
  },
  {
   "cell_type": "code",
   "execution_count": 30,
   "outputs": [
    {
     "data": {
      "text/plain": "                             id       date  \\\n24510  4fd190908eb7c8105d697ccf 1990-01-01   \n24511  4fd191f48eb7c8105d69a979 1990-01-01   \n24512  4fd19b228eb7c8105d6abae7 1990-01-01   \n24513  4fd18d4e8eb7c8105d691a2a 1990-01-01   \n24514  4fd19b228eb7c8105d6abadd 1990-01-01   \n\n                                                    text  \n24510  third national basketball association season c...  \n24511  seoul south korea dec 31 former president test...  \n24512  editor william call navy oped nov 29 seriously...  \n24513  diary h l edited charles illustrated pages alf...  \n24514  madrid dec 31 nobel prize literature jose rece...  ",
      "text/html": "<div>\n<style scoped>\n    .dataframe tbody tr th:only-of-type {\n        vertical-align: middle;\n    }\n\n    .dataframe tbody tr th {\n        vertical-align: top;\n    }\n\n    .dataframe thead th {\n        text-align: right;\n    }\n</style>\n<table border=\"1\" class=\"dataframe\">\n  <thead>\n    <tr style=\"text-align: right;\">\n      <th></th>\n      <th>id</th>\n      <th>date</th>\n      <th>text</th>\n    </tr>\n  </thead>\n  <tbody>\n    <tr>\n      <th>24510</th>\n      <td>4fd190908eb7c8105d697ccf</td>\n      <td>1990-01-01</td>\n      <td>third national basketball association season c...</td>\n    </tr>\n    <tr>\n      <th>24511</th>\n      <td>4fd191f48eb7c8105d69a979</td>\n      <td>1990-01-01</td>\n      <td>seoul south korea dec 31 former president test...</td>\n    </tr>\n    <tr>\n      <th>24512</th>\n      <td>4fd19b228eb7c8105d6abae7</td>\n      <td>1990-01-01</td>\n      <td>editor william call navy oped nov 29 seriously...</td>\n    </tr>\n    <tr>\n      <th>24513</th>\n      <td>4fd18d4e8eb7c8105d691a2a</td>\n      <td>1990-01-01</td>\n      <td>diary h l edited charles illustrated pages alf...</td>\n    </tr>\n    <tr>\n      <th>24514</th>\n      <td>4fd19b228eb7c8105d6abadd</td>\n      <td>1990-01-01</td>\n      <td>madrid dec 31 nobel prize literature jose rece...</td>\n    </tr>\n  </tbody>\n</table>\n</div>"
     },
     "execution_count": 30,
     "metadata": {},
     "output_type": "execute_result"
    }
   ],
   "source": [
    "data.head()"
   ],
   "metadata": {
    "collapsed": false
   }
  },
  {
   "cell_type": "code",
   "execution_count": 31,
   "outputs": [
    {
     "data": {
      "text/plain": "98360"
     },
     "execution_count": 31,
     "metadata": {},
     "output_type": "execute_result"
    }
   ],
   "source": [
    "len(data)"
   ],
   "metadata": {
    "collapsed": false
   }
  },
  {
   "cell_type": "markdown",
   "source": [
    "Save whole corpus as one"
   ],
   "metadata": {
    "collapsed": false
   }
  },
  {
   "cell_type": "code",
   "execution_count": 32,
   "outputs": [],
   "source": [
    "output_dir = DATA_DIR / \"processed\" / \"nyt-data\"\n",
    "data.to_csv(output_dir / \"corpus_all.csv\", index=False, mode='w')"
   ],
   "metadata": {
    "collapsed": false
   }
  },
  {
   "cell_type": "markdown",
   "source": [
    "# Split & Save"
   ],
   "metadata": {
    "collapsed": false
   }
  },
  {
   "cell_type": "code",
   "execution_count": 33,
   "outputs": [],
   "source": [
    "data[\"year\"] = data[\"date\"].dt.year"
   ],
   "metadata": {
    "collapsed": false
   }
  },
  {
   "cell_type": "code",
   "execution_count": 34,
   "outputs": [],
   "source": [
    "grouped = data.groupby('year')"
   ],
   "metadata": {
    "collapsed": false
   }
  },
  {
   "cell_type": "code",
   "execution_count": 35,
   "outputs": [
    {
     "name": "stdout",
     "output_type": "stream",
     "text": [
      "Saved 1990_data.csv\n",
      "Saved 1991_data.csv\n",
      "Saved 1992_data.csv\n",
      "Saved 1993_data.csv\n",
      "Saved 1994_data.csv\n",
      "Saved 1995_data.csv\n",
      "Saved 1996_data.csv\n",
      "Saved 1997_data.csv\n",
      "Saved 1998_data.csv\n",
      "Saved 1999_data.csv\n",
      "Saved 2000_data.csv\n",
      "Saved 2001_data.csv\n",
      "Saved 2002_data.csv\n",
      "Saved 2003_data.csv\n",
      "Saved 2004_data.csv\n",
      "Saved 2005_data.csv\n",
      "Saved 2006_data.csv\n",
      "Saved 2007_data.csv\n",
      "Saved 2008_data.csv\n",
      "Saved 2009_data.csv\n",
      "Saved 2010_data.csv\n",
      "Saved 2011_data.csv\n",
      "Saved 2012_data.csv\n",
      "Saved 2013_data.csv\n",
      "Saved 2014_data.csv\n",
      "Saved 2015_data.csv\n",
      "Saved 2016_data.csv\n"
     ]
    }
   ],
   "source": [
    "output_dir = DATA_DIR / \"processed\" / \"nyt-data\"\n",
    "\n",
    "output_dir.mkdir(parents=True, exist_ok=True)\n",
    "\n",
    "for year, group in grouped:\n",
    "    filename = f'{year}_data.csv'\n",
    "    group.to_csv(output_dir / filename, index=False)\n",
    "    print(f'Saved {filename}')"
   ],
   "metadata": {
    "collapsed": false
   }
  },
  {
   "cell_type": "code",
   "execution_count": 35,
   "outputs": [],
   "source": [],
   "metadata": {
    "collapsed": false
   }
  }
 ],
 "metadata": {
  "kernelspec": {
   "display_name": "Python 3",
   "language": "python",
   "name": "python3"
  },
  "language_info": {
   "codemirror_mode": {
    "name": "ipython",
    "version": 2
   },
   "file_extension": ".py",
   "mimetype": "text/x-python",
   "name": "python",
   "nbconvert_exporter": "python",
   "pygments_lexer": "ipython2",
   "version": "2.7.6"
  }
 },
 "nbformat": 4,
 "nbformat_minor": 0
}
