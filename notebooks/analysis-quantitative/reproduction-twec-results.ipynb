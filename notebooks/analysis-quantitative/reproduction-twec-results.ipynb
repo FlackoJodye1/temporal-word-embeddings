{
 "cells": [
  {
   "cell_type": "code",
   "execution_count": 1,
   "outputs": [],
   "source": [
    "%load_ext autoreload"
   ],
   "metadata": {
    "collapsed": false
   }
  },
  {
   "cell_type": "code",
   "execution_count": 2,
   "metadata": {
    "collapsed": true
   },
   "outputs": [],
   "source": [
    "import json\n",
    "import pickle\n",
    "\n",
    "import numpy as np\n",
    "import pandas as pd\n",
    "from glob import glob\n",
    "from pathlib import Path\n",
    "from scipy import spatial\n",
    "import scipy.sparse as sp\n",
    "from itertools import islice\n",
    "from tqdm.notebook import tqdm\n",
    "from gensim.models.word2vec import Word2Vec\n",
    "\n",
    "import sys\n",
    "sys.path.append('../../')\n",
    "\n",
    "from src.packages.TPPMI.ppmi_model import PPMIModel\n",
    "from src.packages.TPPMI.tppmi_model import TPPMIModel"
   ]
  },
  {
   "cell_type": "markdown",
   "source": [
    "# Imports"
   ],
   "metadata": {
    "collapsed": false
   }
  },
  {
   "cell_type": "code",
   "execution_count": 3,
   "outputs": [],
   "source": [
    "path_to_test_data = Path(\"../../data\") / \"test\"\n",
    "path_to_tppmi_model = Path(\"../../data\") / \"ppmi-matrices\" / \"nyt-data\"\n",
    "path_to_twec_model = Path(\"../../model\") / \"nyt-data\" / \"cade\" / \"model\"\n",
    "path_to_static_model = Path(\"../../model\") / \"nyt-data\" / \"static\""
   ],
   "metadata": {
    "collapsed": false
   }
  },
  {
   "cell_type": "markdown",
   "source": [
    "# Functions\n",
    "\n",
    "(to be outsourced later)"
   ],
   "metadata": {
    "collapsed": false
   }
  },
  {
   "cell_type": "markdown",
   "source": [
    "## Similarity Calculations"
   ],
   "metadata": {
    "collapsed": false
   }
  },
  {
   "cell_type": "markdown",
   "source": [
    "Create dictionary of the test-set for each particular model"
   ],
   "metadata": {
    "collapsed": false
   }
  },
  {
   "cell_type": "code",
   "execution_count": 4,
   "outputs": [],
   "source": [
    "def create_test_case_dict_cade(test_cases : np.ndarray, models: dict) -> dict:\n",
    "    test_case_dict = dict()\n",
    "    counter = 0\n",
    "    for test_case in test_cases:\n",
    "        word, year = test_case.split(\"-\")\n",
    "        ground_model = models[f\"model_{year}\"]\n",
    "        if word in ground_model.wv.vocab:\n",
    "            test_case_dict[test_case] = ground_model.wv.get_vector(word)\n",
    "        else:\n",
    "            counter = counter + 1\n",
    "    print(f\"{counter} Testcases are not in the vocab of the model(s)\")\n",
    "    return test_case_dict"
   ],
   "metadata": {
    "collapsed": false
   }
  },
  {
   "cell_type": "code",
   "execution_count": 5,
   "outputs": [],
   "source": [
    "def create_test_case_dict_static(model, test_cases : np.ndarray) -> dict:\n",
    "    test_case_dict = dict()\n",
    "    counter = 0\n",
    "    for test_case in test_cases:\n",
    "        word, year = test_case.split(\"-\")\n",
    "        if word in model.wv.vocab:\n",
    "            test_case_dict[test_case] = model.wv.get_vector(word)\n",
    "        else:\n",
    "            counter = counter + 1\n",
    "    print(f\"{counter} Testcases are not in the vocab of the model\")\n",
    "    return test_case_dict"
   ],
   "metadata": {
    "collapsed": false
   }
  },
  {
   "cell_type": "markdown",
   "source": [
    "Calculate the top-10 most similar words to each word-vector/word-embedding from the test-set in each year"
   ],
   "metadata": {
    "collapsed": false
   }
  },
  {
   "cell_type": "code",
   "execution_count": 6,
   "outputs": [],
   "source": [
    "def get_similarities_of_models(model_dict: dict, test_word_dict: dict) -> dict:\n",
    "    similarities = dict()\n",
    "    for test_word in tqdm(test_word_dict.items()):\n",
    "        similarities[test_word[0]] = dict()\n",
    "        for model in model_dict.items():\n",
    "            similarities[test_word[0]][model[0].split(\"_\")[1]] = model[1].wv.similar_by_vector(test_word[1])\n",
    "    return similarities"
   ],
   "metadata": {
    "collapsed": false
   }
  },
  {
   "cell_type": "code",
   "execution_count": 7,
   "outputs": [],
   "source": [
    "'''def get_similarites_of_models_tppmi(model_dict: dict, test_word_dict: dict) -> dict:\n",
    "    similarities = dict()\n",
    "    for test_word in tqdm(test_word_dict.items()):\n",
    "        similarities[test_word[0]] = dict()\n",
    "        for model in model_dict.items():\n",
    "            similarities[test_word[0]][model[0].split(\"_\")[1]] = model[1].get''';"
   ],
   "metadata": {
    "collapsed": false
   }
  },
  {
   "cell_type": "code",
   "execution_count": 8,
   "outputs": [],
   "source": [
    "def get_similarities_of_models_static(model, test_word_dict: dict) -> dict:\n",
    "    similarities = dict()\n",
    "    for test_word in tqdm(test_word_dict.items()):\n",
    "        similarities[test_word[0]] = model.wv.similar_by_vector(test_word[1])\n",
    "    return similarities"
   ],
   "metadata": {
    "collapsed": false
   }
  },
  {
   "cell_type": "markdown",
   "source": [
    "## Evaluation Metrics"
   ],
   "metadata": {
    "collapsed": false
   }
  },
  {
   "cell_type": "code",
   "execution_count": 9,
   "outputs": [],
   "source": [
    "def calculate_reciprocal_rank(test_list: list, test_word: str) -> float:\n",
    "    \"\"\"\n",
    "    Calculate the reciprocal rank for a given test word in a list of strings.\n",
    "\n",
    "    Parameters:\n",
    "    test_list (list of str): The list of strings to search through.\n",
    "    test_word (str): The correct answer to find in the test_list.\n",
    "    Returns:\n",
    "    float: The reciprocal rank of the test_word in test_list, or 0 if not found.\n",
    "    \"\"\"\n",
    "    try:\n",
    "        rank = test_list.index(test_word) + 1  # Adding 1 because index is 0-based and rank is 1-based\n",
    "        return 1.0 / rank\n",
    "    except ValueError:\n",
    "        return 0.0  # test_word not found in test_list"
   ],
   "metadata": {
    "collapsed": false
   }
  },
  {
   "cell_type": "code",
   "execution_count": 10,
   "outputs": [],
   "source": [
    "def calculate_precision_at_k(test_list: list, test_word: str, k: int) -> int:\n",
    "    \"\"\"\n",
    "    Calculate the precision at K for a given test word in a list of strings.\n",
    "\n",
    "    Parameters:\n",
    "    test_list (list of str): The list of strings to search through, assumed to be ordered by relevance.\n",
    "    test_word (str): The correct answer to find in the test_list.\n",
    "    k (int): The number of top items to consider for calculating precision.\n",
    "\n",
    "    Returns:\n",
    "    int: The precision at K for the test_word in test_list.\n",
    "         If the target word is among these K words, then the Precision@K for test i\n",
    "         (denoted P@K[i]) is 1; else, it is 0\n",
    "    \"\"\"\n",
    "    if k <= 0:\n",
    "        raise ValueError(\"k must be a positive integer\")\n",
    "\n",
    "    # Take the top K elements from the list\n",
    "    top_k = test_list[:k]\n",
    "\n",
    "    # Check if the test_word is within the top K elements\n",
    "    if test_word in top_k:\n",
    "        return 1\n",
    "    else:\n",
    "        return 0"
   ],
   "metadata": {
    "collapsed": false
   }
  },
  {
   "cell_type": "code",
   "execution_count": 11,
   "outputs": [],
   "source": [
    "def calculate_mean_rank(test_key: str, testcase: dict, test_data: pd.DataFrame, metric = \"MRR\", k = 10)-> float:\n",
    "\n",
    "    test_data_for_key = test_data[test_data[\"truth\"] == test_key]\n",
    "    ranks = []\n",
    "\n",
    "    for key, value in testcase.items():\n",
    "        test_data_for_year = test_data_for_key[test_data_for_key[\"equivalent\"].str.endswith(key)]\n",
    "        word_list = [item[0] for item in value]\n",
    "\n",
    "        if len(test_data_for_year) == 0:\n",
    "            continue  # Skip if no data for year, as there's nothing to rank\n",
    "        target_word = test_data_for_year[\"equivalent\"].iloc[0].split(\"-\")[0]\n",
    "        if metric == \"MRR\":\n",
    "            rank = calculate_reciprocal_rank(word_list, target_word)\n",
    "        else:\n",
    "            rank = calculate_precision_at_k(word_list, target_word, k)\n",
    "\n",
    "        ranks.append(rank)\n",
    "\n",
    "    if ranks:  # Ensure division by 0 does not occur\n",
    "        mean_rank = sum(ranks) / len(ranks)\n",
    "    else:\n",
    "        mean_rank = 0\n",
    "\n",
    "    return mean_rank"
   ],
   "metadata": {
    "collapsed": false
   }
  },
  {
   "cell_type": "code",
   "execution_count": 12,
   "outputs": [],
   "source": [
    "def calculate_rank_metric(similarities: dict, test_data: pd.DataFrame, metric = \"MRR\", k = 10) -> float:\n",
    "    ranks = []\n",
    "    for key, value in similarities.items():\n",
    "        rank = calculate_mean_rank(key, value, test_data, metric, k)\n",
    "\n",
    "        ranks.append(rank)\n",
    "\n",
    "    if ranks:  # Ensure division by 0 does not occur\n",
    "        mean_rank = sum(ranks) / len(ranks)\n",
    "    else:\n",
    "        mean_rank = 0\n",
    "\n",
    "    return mean_rank"
   ],
   "metadata": {
    "collapsed": false
   }
  },
  {
   "cell_type": "code",
   "execution_count": 13,
   "outputs": [],
   "source": [
    "def calculate_rank_metric_static(similarities: dict, test_data: pd.DataFrame, metric = \"MRR\", k = 10) -> float:\n",
    "\n",
    "    ranks = []\n",
    "    counter = 0\n",
    "\n",
    "    for key, value in similarities.items():\n",
    "        test_data_for_key = test_data[test_data[\"truth\"] == key]\n",
    "        word_list = [item[0] for item in value]\n",
    "        for _, test_case in test_data_for_key.iterrows():\n",
    "            target_word = test_case[\"equivalent\"].split(\"-\")[0]\n",
    "            if metric == \"MRR\":\n",
    "                rank = calculate_reciprocal_rank(word_list, target_word)\n",
    "            else:\n",
    "                rank = calculate_precision_at_k(word_list, target_word, k)\n",
    "            ranks.append(rank)\n",
    "            counter = counter + 1\n",
    "\n",
    "\n",
    "    if ranks:  # Ensure division by 0 does not occur\n",
    "        mean_rank = sum(ranks) / len(ranks)\n",
    "    else:\n",
    "        mean_rank = 0\n",
    "\n",
    "    return mean_rank"
   ],
   "metadata": {
    "collapsed": false
   }
  },
  {
   "cell_type": "markdown",
   "source": [
    "# Setup"
   ],
   "metadata": {
    "collapsed": false
   }
  },
  {
   "cell_type": "markdown",
   "source": [
    "## Testsets"
   ],
   "metadata": {
    "collapsed": false
   }
  },
  {
   "cell_type": "markdown",
   "source": [
    "### Testset 1\n",
    "\n",
    "Based on publicly recorded knowledge that for each year lists different names for a particular role, such as U.S. president, U.K. prime minister, NFL superbowl champion team, and so on."
   ],
   "metadata": {
    "collapsed": false
   }
  },
  {
   "cell_type": "code",
   "execution_count": 14,
   "outputs": [],
   "source": [
    "test_data_1_all = pd.read_csv(path_to_test_data / \"testset_1.csv\")"
   ],
   "metadata": {
    "collapsed": false
   }
  },
  {
   "cell_type": "code",
   "execution_count": 15,
   "outputs": [],
   "source": [
    "test_data_1_all.columns = ['truth', 'equivalent']"
   ],
   "metadata": {
    "collapsed": false
   }
  },
  {
   "cell_type": "code",
   "execution_count": 16,
   "outputs": [],
   "source": [
    "test_data_1_all = test_data_1_all.sort_values(by='truth', ascending=True)"
   ],
   "metadata": {
    "collapsed": false
   }
  },
  {
   "cell_type": "code",
   "execution_count": 17,
   "outputs": [],
   "source": [
    "test_cases_1_all = test_data_1_all['truth'].unique()"
   ],
   "metadata": {
    "collapsed": false
   }
  },
  {
   "cell_type": "code",
   "execution_count": 18,
   "outputs": [
    {
     "name": "stdout",
     "output_type": "stream",
     "text": [
      "Testset 1\n",
      "Testcases (all): 11027\n",
      "Testcases (unique): 499\n"
     ]
    }
   ],
   "source": [
    "print(\"Testset 1\")\n",
    "print(f\"Testcases (all): {len(test_data_1_all)}\")\n",
    "print(f\"Testcases (unique): {len(test_cases_1_all)}\")"
   ],
   "metadata": {
    "collapsed": false
   }
  },
  {
   "cell_type": "markdown",
   "source": [
    "Now we want to split the testset into static & dynamic testcases as was done by Di Carlo et al. in their paper \"Training Temporal Word Embeddings with a Compass\""
   ],
   "metadata": {
    "collapsed": false
   }
  },
  {
   "cell_type": "code",
   "execution_count": 19,
   "outputs": [],
   "source": [
    "# Splitting the columns into words and years\n",
    "split_truth = test_data_1_all['truth'].str.split('-', expand=True)\n",
    "split_equivalent = test_data_1_all['equivalent'].str.split('-', expand=True)\n",
    "\n",
    "# Creating masks for \"static\" and \"dynamic\" conditions\n",
    "static_mask = split_truth[0] == split_equivalent[0]\n",
    "dynamic_mask = split_truth[0] != split_equivalent[0]\n",
    "\n",
    "# Applying the masks to create the separate DataFrames\n",
    "test_data_1_static = test_data_1_all[static_mask]\n",
    "test_data_1_dynamic = test_data_1_all[dynamic_mask]"
   ],
   "metadata": {
    "collapsed": false
   }
  },
  {
   "cell_type": "code",
   "execution_count": 20,
   "outputs": [],
   "source": [
    "test_cases_1_static = test_data_1_static['truth'].unique()\n",
    "test_cases_1_dynamic = test_data_1_dynamic['truth'].unique()"
   ],
   "metadata": {
    "collapsed": false
   }
  },
  {
   "cell_type": "code",
   "execution_count": 21,
   "outputs": [
    {
     "name": "stdout",
     "output_type": "stream",
     "text": [
      "Static\n",
      "Testcases (all): 2937\n",
      "Testcases (unique): 443\n"
     ]
    }
   ],
   "source": [
    "print(\"Static\")\n",
    "print(f\"Testcases (all): {len(test_data_1_static)}\")\n",
    "print(f\"Testcases (unique): {len(test_cases_1_static)}\")"
   ],
   "metadata": {
    "collapsed": false
   }
  },
  {
   "cell_type": "code",
   "execution_count": 22,
   "outputs": [
    {
     "name": "stdout",
     "output_type": "stream",
     "text": [
      "Dynamic\n",
      "Testcases (all): 8090\n",
      "Testcases (unique): 499\n"
     ]
    }
   ],
   "source": [
    "print(\"Dynamic\")\n",
    "print(f\"Testcases (all): {len(test_data_1_dynamic)}\")\n",
    "print(f\"Testcases (unique): {len(test_cases_1_dynamic)}\")"
   ],
   "metadata": {
    "collapsed": false
   }
  },
  {
   "cell_type": "markdown",
   "source": [
    "### Testset 2\n",
    "\n",
    "Testset 2 is human-generated, for exploring more interesting concepts like emerging technologies, brands and major events (e.g., disease outbreaks and financial crisis). For constructing the test word pairs, we first select emerging terms which have not been popularized before 1994, then query their well known precedents during 1990 to 1994 (e.g., app-2012 can correspond to software-1990)."
   ],
   "metadata": {
    "collapsed": false
   }
  },
  {
   "cell_type": "code",
   "execution_count": 23,
   "outputs": [],
   "source": [
    "test_data_2 = pd.read_csv(path_to_test_data / \"testset_2.csv\")"
   ],
   "metadata": {
    "collapsed": false
   }
  },
  {
   "cell_type": "code",
   "execution_count": 24,
   "outputs": [],
   "source": [
    "test_data_2.columns = ['truth', 'equivalent']"
   ],
   "metadata": {
    "collapsed": false
   }
  },
  {
   "cell_type": "code",
   "execution_count": 25,
   "outputs": [],
   "source": [
    "test_cases_2 = test_data_2['truth'].unique()"
   ],
   "metadata": {
    "collapsed": false
   }
  },
  {
   "cell_type": "code",
   "execution_count": 26,
   "outputs": [],
   "source": [
    "test_data_2 = test_data_2.sort_values(by='truth', ascending=True)"
   ],
   "metadata": {
    "collapsed": false
   }
  },
  {
   "cell_type": "code",
   "execution_count": 27,
   "outputs": [
    {
     "data": {
      "text/plain": "             truth    equivalent\n57  amazoncom-2000  walmart-1993\n63  amazoncom-2000     macy-1994\n62  amazoncom-2000     macy-1993\n61  amazoncom-2000     macy-1992\n60  amazoncom-2000     macy-1991",
      "text/html": "<div>\n<style scoped>\n    .dataframe tbody tr th:only-of-type {\n        vertical-align: middle;\n    }\n\n    .dataframe tbody tr th {\n        vertical-align: top;\n    }\n\n    .dataframe thead th {\n        text-align: right;\n    }\n</style>\n<table border=\"1\" class=\"dataframe\">\n  <thead>\n    <tr style=\"text-align: right;\">\n      <th></th>\n      <th>truth</th>\n      <th>equivalent</th>\n    </tr>\n  </thead>\n  <tbody>\n    <tr>\n      <th>57</th>\n      <td>amazoncom-2000</td>\n      <td>walmart-1993</td>\n    </tr>\n    <tr>\n      <th>63</th>\n      <td>amazoncom-2000</td>\n      <td>macy-1994</td>\n    </tr>\n    <tr>\n      <th>62</th>\n      <td>amazoncom-2000</td>\n      <td>macy-1993</td>\n    </tr>\n    <tr>\n      <th>61</th>\n      <td>amazoncom-2000</td>\n      <td>macy-1992</td>\n    </tr>\n    <tr>\n      <th>60</th>\n      <td>amazoncom-2000</td>\n      <td>macy-1991</td>\n    </tr>\n  </tbody>\n</table>\n</div>"
     },
     "execution_count": 27,
     "metadata": {},
     "output_type": "execute_result"
    }
   ],
   "source": [
    "test_data_2.head()"
   ],
   "metadata": {
    "collapsed": false
   }
  },
  {
   "cell_type": "code",
   "execution_count": 28,
   "outputs": [
    {
     "name": "stdout",
     "output_type": "stream",
     "text": [
      "Testset 2\n",
      "Testcases (all): 444\n",
      "Testcases (unique): 46\n"
     ]
    }
   ],
   "source": [
    "print(\"Testset 2\")\n",
    "print(f\"Testcases (all): {len(test_data_2)}\")\n",
    "print(f\"Testcases (unique): {len(test_cases_2)}\")"
   ],
   "metadata": {
    "collapsed": false
   }
  },
  {
   "cell_type": "markdown",
   "source": [
    "## Models"
   ],
   "metadata": {
    "collapsed": false
   }
  },
  {
   "cell_type": "markdown",
   "source": [
    "### TWEC"
   ],
   "metadata": {
    "collapsed": false
   }
  },
  {
   "cell_type": "code",
   "execution_count": 29,
   "outputs": [],
   "source": [
    "model_filenames_cade = glob(str(path_to_twec_model / \"*_data.model\"))"
   ],
   "metadata": {
    "collapsed": false
   }
  },
  {
   "cell_type": "code",
   "execution_count": 30,
   "outputs": [
    {
     "data": {
      "text/plain": "['../../model/nyt-data/cade/model/1994_data.model',\n '../../model/nyt-data/cade/model/2000_data.model',\n '../../model/nyt-data/cade/model/1999_data.model',\n '../../model/nyt-data/cade/model/2011_data.model',\n '../../model/nyt-data/cade/model/2008_data.model',\n '../../model/nyt-data/cade/model/2014_data.model',\n '../../model/nyt-data/cade/model/2005_data.model',\n '../../model/nyt-data/cade/model/1991_data.model',\n '../../model/nyt-data/cade/model/1996_data.model',\n '../../model/nyt-data/cade/model/2002_data.model',\n '../../model/nyt-data/cade/model/2013_data.model',\n '../../model/nyt-data/cade/model/2016_data.model',\n '../../model/nyt-data/cade/model/2007_data.model',\n '../../model/nyt-data/cade/model/1993_data.model',\n '../../model/nyt-data/cade/model/2009_data.model',\n '../../model/nyt-data/cade/model/2015_data.model',\n '../../model/nyt-data/cade/model/1990_data.model',\n '../../model/nyt-data/cade/model/2004_data.model',\n '../../model/nyt-data/cade/model/2001_data.model',\n '../../model/nyt-data/cade/model/1995_data.model',\n '../../model/nyt-data/cade/model/1998_data.model',\n '../../model/nyt-data/cade/model/2010_data.model',\n '../../model/nyt-data/cade/model/1992_data.model',\n '../../model/nyt-data/cade/model/2006_data.model',\n '../../model/nyt-data/cade/model/2003_data.model',\n '../../model/nyt-data/cade/model/1997_data.model',\n '../../model/nyt-data/cade/model/2012_data.model']"
     },
     "execution_count": 30,
     "metadata": {},
     "output_type": "execute_result"
    }
   ],
   "source": [
    "model_filenames_cade"
   ],
   "metadata": {
    "collapsed": false
   }
  },
  {
   "cell_type": "code",
   "execution_count": 31,
   "outputs": [
    {
     "data": {
      "text/plain": "  0%|          | 0/27 [00:00<?, ?it/s]",
      "application/vnd.jupyter.widget-view+json": {
       "version_major": 2,
       "version_minor": 0,
       "model_id": "585409241ac643149cb66dc4f636280e"
      },
      "application/json": {
       "n": 0,
       "total": 27,
       "elapsed": 0.0041961669921875,
       "ncols": null,
       "nrows": null,
       "prefix": "",
       "ascii": false,
       "unit": "it",
       "unit_scale": false,
       "rate": null,
       "bar_format": null,
       "postfix": null,
       "unit_divisor": 1000,
       "initial": 0,
       "colour": null
      }
     },
     "metadata": {},
     "output_type": "display_data"
    }
   ],
   "source": [
    "# load models\n",
    "models_cade = {f\"model_{model_file.split('_data')[0][-4:]}\":Word2Vec.load(model_file) for model_file in tqdm(model_filenames_cade)}"
   ],
   "metadata": {
    "collapsed": false
   }
  },
  {
   "cell_type": "code",
   "execution_count": 32,
   "outputs": [
    {
     "data": {
      "text/plain": "{'model_1994': <gensim.models.word2vec.Word2Vec at 0x166e96dc0>,\n 'model_2000': <gensim.models.word2vec.Word2Vec at 0x167087b50>,\n 'model_1999': <gensim.models.word2vec.Word2Vec at 0x1682b3e50>,\n 'model_2011': <gensim.models.word2vec.Word2Vec at 0x167c87af0>,\n 'model_2008': <gensim.models.word2vec.Word2Vec at 0x168ef2fd0>,\n 'model_2014': <gensim.models.word2vec.Word2Vec at 0x169528880>,\n 'model_2005': <gensim.models.word2vec.Word2Vec at 0x169b4b5b0>,\n 'model_1991': <gensim.models.word2vec.Word2Vec at 0x169b4b4c0>,\n 'model_1996': <gensim.models.word2vec.Word2Vec at 0x16a75b640>,\n 'model_2002': <gensim.models.word2vec.Word2Vec at 0x167333100>,\n 'model_2013': <gensim.models.word2vec.Word2Vec at 0x174b469d0>,\n 'model_2016': <gensim.models.word2vec.Word2Vec at 0x173096f70>,\n 'model_2007': <gensim.models.word2vec.Word2Vec at 0x17574aa60>,\n 'model_1993': <gensim.models.word2vec.Word2Vec at 0x175171a30>,\n 'model_2009': <gensim.models.word2vec.Word2Vec at 0x1763817c0>,\n 'model_2015': <gensim.models.word2vec.Word2Vec at 0x16a4f0070>,\n 'model_1990': <gensim.models.word2vec.Word2Vec at 0x176fe06d0>,\n 'model_2004': <gensim.models.word2vec.Word2Vec at 0x17475b070>,\n 'model_2001': <gensim.models.word2vec.Word2Vec at 0x177c02e50>,\n 'model_1995': <gensim.models.word2vec.Word2Vec at 0x1775b2490>,\n 'model_1998': <gensim.models.word2vec.Word2Vec at 0x288836130>,\n 'model_2010': <gensim.models.word2vec.Word2Vec at 0x28823aac0>,\n 'model_1992': <gensim.models.word2vec.Word2Vec at 0x289477f10>,\n 'model_2006': <gensim.models.word2vec.Word2Vec at 0x288e54e80>,\n 'model_2003': <gensim.models.word2vec.Word2Vec at 0x289f33850>,\n 'model_1997': <gensim.models.word2vec.Word2Vec at 0x289a699d0>,\n 'model_2012': <gensim.models.word2vec.Word2Vec at 0x28abd91c0>}"
     },
     "execution_count": 32,
     "metadata": {},
     "output_type": "execute_result"
    }
   ],
   "source": [
    "models_cade"
   ],
   "metadata": {
    "collapsed": false
   }
  },
  {
   "cell_type": "code",
   "execution_count": 33,
   "outputs": [],
   "source": [
    "models_cade = {model_key: models_cade[model_key] for model_key in sorted(models_cade, key=lambda x: int(x.split('_')[1]))}"
   ],
   "metadata": {
    "collapsed": false
   }
  },
  {
   "cell_type": "code",
   "execution_count": 35,
   "outputs": [
    {
     "data": {
      "text/plain": "{'model_1990': <gensim.models.word2vec.Word2Vec at 0x176fe06d0>,\n 'model_1991': <gensim.models.word2vec.Word2Vec at 0x169b4b4c0>,\n 'model_1992': <gensim.models.word2vec.Word2Vec at 0x289477f10>,\n 'model_1993': <gensim.models.word2vec.Word2Vec at 0x175171a30>,\n 'model_1994': <gensim.models.word2vec.Word2Vec at 0x166e96dc0>,\n 'model_1995': <gensim.models.word2vec.Word2Vec at 0x1775b2490>,\n 'model_1996': <gensim.models.word2vec.Word2Vec at 0x16a75b640>,\n 'model_1997': <gensim.models.word2vec.Word2Vec at 0x289a699d0>,\n 'model_1998': <gensim.models.word2vec.Word2Vec at 0x288836130>,\n 'model_1999': <gensim.models.word2vec.Word2Vec at 0x1682b3e50>,\n 'model_2000': <gensim.models.word2vec.Word2Vec at 0x167087b50>,\n 'model_2001': <gensim.models.word2vec.Word2Vec at 0x177c02e50>,\n 'model_2002': <gensim.models.word2vec.Word2Vec at 0x167333100>,\n 'model_2003': <gensim.models.word2vec.Word2Vec at 0x289f33850>,\n 'model_2004': <gensim.models.word2vec.Word2Vec at 0x17475b070>,\n 'model_2005': <gensim.models.word2vec.Word2Vec at 0x169b4b5b0>,\n 'model_2006': <gensim.models.word2vec.Word2Vec at 0x288e54e80>,\n 'model_2007': <gensim.models.word2vec.Word2Vec at 0x17574aa60>,\n 'model_2008': <gensim.models.word2vec.Word2Vec at 0x168ef2fd0>,\n 'model_2009': <gensim.models.word2vec.Word2Vec at 0x1763817c0>,\n 'model_2010': <gensim.models.word2vec.Word2Vec at 0x28823aac0>,\n 'model_2011': <gensim.models.word2vec.Word2Vec at 0x167c87af0>,\n 'model_2012': <gensim.models.word2vec.Word2Vec at 0x28abd91c0>,\n 'model_2013': <gensim.models.word2vec.Word2Vec at 0x174b469d0>,\n 'model_2014': <gensim.models.word2vec.Word2Vec at 0x169528880>,\n 'model_2015': <gensim.models.word2vec.Word2Vec at 0x16a4f0070>,\n 'model_2016': <gensim.models.word2vec.Word2Vec at 0x173096f70>}"
     },
     "execution_count": 35,
     "metadata": {},
     "output_type": "execute_result"
    }
   ],
   "source": [
    "models_cade"
   ],
   "metadata": {
    "collapsed": false
   }
  },
  {
   "cell_type": "code",
   "execution_count": 36,
   "outputs": [
    {
     "data": {
      "text/plain": "dict_keys(['model_1990', 'model_1991', 'model_1992', 'model_1993', 'model_1994', 'model_1995', 'model_1996', 'model_1997', 'model_1998', 'model_1999', 'model_2000', 'model_2001', 'model_2002', 'model_2003', 'model_2004', 'model_2005', 'model_2006', 'model_2007', 'model_2008', 'model_2009', 'model_2010', 'model_2011', 'model_2012', 'model_2013', 'model_2014', 'model_2015', 'model_2016'])"
     },
     "execution_count": 36,
     "metadata": {},
     "output_type": "execute_result"
    }
   ],
   "source": [
    "models_cade.keys()"
   ],
   "metadata": {
    "collapsed": false
   }
  },
  {
   "cell_type": "markdown",
   "source": [
    "Create dictionary of testsets that contain all test-words along with their embedding in the respective year"
   ],
   "metadata": {
    "collapsed": false
   }
  },
  {
   "cell_type": "code",
   "execution_count": 37,
   "outputs": [
    {
     "name": "stdout",
     "output_type": "stream",
     "text": [
      "2 Testcases are not in the vocab of the model(s)\n"
     ]
    }
   ],
   "source": [
    "test_case_dict_cade_all = create_test_case_dict_cade(test_cases_1_all, models_cade)"
   ],
   "metadata": {
    "collapsed": false
   }
  },
  {
   "cell_type": "code",
   "execution_count": 38,
   "outputs": [
    {
     "name": "stdout",
     "output_type": "stream",
     "text": [
      "2 Testcases are not in the vocab of the model(s)\n"
     ]
    }
   ],
   "source": [
    "test_case_dict_cade_static = create_test_case_dict_cade(test_cases_1_static, models_cade)"
   ],
   "metadata": {
    "collapsed": false
   }
  },
  {
   "cell_type": "code",
   "execution_count": 39,
   "outputs": [
    {
     "name": "stdout",
     "output_type": "stream",
     "text": [
      "2 Testcases are not in the vocab of the model(s)\n"
     ]
    }
   ],
   "source": [
    "test_case_dict_cade_dynamic = create_test_case_dict_cade(test_cases_1_dynamic, models_cade)"
   ],
   "metadata": {
    "collapsed": false
   }
  },
  {
   "cell_type": "markdown",
   "source": [
    "Retrieve most similar words for each testword in each year"
   ],
   "metadata": {
    "collapsed": false
   }
  },
  {
   "cell_type": "code",
   "execution_count": 40,
   "outputs": [
    {
     "data": {
      "text/plain": "  0%|          | 0/497 [00:00<?, ?it/s]",
      "application/vnd.jupyter.widget-view+json": {
       "version_major": 2,
       "version_minor": 0,
       "model_id": "cad57cd132624baf91cf57a02f232415"
      },
      "application/json": {
       "n": 0,
       "total": 497,
       "elapsed": 0.004708766937255859,
       "ncols": null,
       "nrows": null,
       "prefix": "",
       "ascii": false,
       "unit": "it",
       "unit_scale": false,
       "rate": null,
       "bar_format": null,
       "postfix": null,
       "unit_divisor": 1000,
       "initial": 0,
       "colour": null
      }
     },
     "metadata": {},
     "output_type": "display_data"
    }
   ],
   "source": [
    "similarities_cade_all = get_similarities_of_models(models_cade, test_case_dict_cade_all)"
   ],
   "metadata": {
    "collapsed": false
   }
  },
  {
   "cell_type": "code",
   "execution_count": 41,
   "outputs": [
    {
     "data": {
      "text/plain": "  0%|          | 0/441 [00:00<?, ?it/s]",
      "application/vnd.jupyter.widget-view+json": {
       "version_major": 2,
       "version_minor": 0,
       "model_id": "6472ca7d39ae43fc9125972f30ff1897"
      },
      "application/json": {
       "n": 0,
       "total": 441,
       "elapsed": 0.0038030147552490234,
       "ncols": null,
       "nrows": null,
       "prefix": "",
       "ascii": false,
       "unit": "it",
       "unit_scale": false,
       "rate": null,
       "bar_format": null,
       "postfix": null,
       "unit_divisor": 1000,
       "initial": 0,
       "colour": null
      }
     },
     "metadata": {},
     "output_type": "display_data"
    }
   ],
   "source": [
    "similarities_cade_static = get_similarities_of_models(models_cade, test_case_dict_cade_static)"
   ],
   "metadata": {
    "collapsed": false
   }
  },
  {
   "cell_type": "code",
   "execution_count": 42,
   "outputs": [
    {
     "data": {
      "text/plain": "  0%|          | 0/497 [00:00<?, ?it/s]",
      "application/vnd.jupyter.widget-view+json": {
       "version_major": 2,
       "version_minor": 0,
       "model_id": "d90b57df20a441fca6ca527b9449086b"
      },
      "application/json": {
       "n": 0,
       "total": 497,
       "elapsed": 0.004006862640380859,
       "ncols": null,
       "nrows": null,
       "prefix": "",
       "ascii": false,
       "unit": "it",
       "unit_scale": false,
       "rate": null,
       "bar_format": null,
       "postfix": null,
       "unit_divisor": 1000,
       "initial": 0,
       "colour": null
      }
     },
     "metadata": {},
     "output_type": "display_data"
    }
   ],
   "source": [
    "similarities_cade_dynamic = get_similarities_of_models(models_cade, test_case_dict_cade_dynamic)"
   ],
   "metadata": {
    "collapsed": false
   }
  },
  {
   "cell_type": "markdown",
   "source": [
    "### Static Word2Vec"
   ],
   "metadata": {
    "collapsed": false
   }
  },
  {
   "cell_type": "code",
   "execution_count": 43,
   "outputs": [],
   "source": [
    "model_static = Word2Vec.load(str(path_to_static_model / \"w2v_model.model\"))"
   ],
   "metadata": {
    "collapsed": false
   }
  },
  {
   "cell_type": "code",
   "execution_count": 44,
   "outputs": [
    {
     "name": "stdout",
     "output_type": "stream",
     "text": [
      "0 Testcases are not in the vocab of the model\n"
     ]
    }
   ],
   "source": [
    "test_case_dict_static_all = create_test_case_dict_static(model_static, test_cases_1_all)"
   ],
   "metadata": {
    "collapsed": false
   }
  },
  {
   "cell_type": "code",
   "execution_count": 45,
   "outputs": [
    {
     "name": "stdout",
     "output_type": "stream",
     "text": [
      "0 Testcases are not in the vocab of the model\n"
     ]
    }
   ],
   "source": [
    "test_case_dict_static_static = create_test_case_dict_static(model_static, test_cases_1_static)"
   ],
   "metadata": {
    "collapsed": false
   }
  },
  {
   "cell_type": "code",
   "execution_count": 46,
   "outputs": [
    {
     "name": "stdout",
     "output_type": "stream",
     "text": [
      "0 Testcases are not in the vocab of the model\n"
     ]
    }
   ],
   "source": [
    "test_case_dict_static_dynamic = create_test_case_dict_static(model_static, test_cases_1_dynamic)"
   ],
   "metadata": {
    "collapsed": false
   }
  },
  {
   "cell_type": "code",
   "execution_count": 47,
   "outputs": [
    {
     "data": {
      "text/plain": "  0%|          | 0/499 [00:00<?, ?it/s]",
      "application/vnd.jupyter.widget-view+json": {
       "version_major": 2,
       "version_minor": 0,
       "model_id": "a56b97e1ab37454e8867915424d69491"
      },
      "application/json": {
       "n": 0,
       "total": 499,
       "elapsed": 0.0027120113372802734,
       "ncols": null,
       "nrows": null,
       "prefix": "",
       "ascii": false,
       "unit": "it",
       "unit_scale": false,
       "rate": null,
       "bar_format": null,
       "postfix": null,
       "unit_divisor": 1000,
       "initial": 0,
       "colour": null
      }
     },
     "metadata": {},
     "output_type": "display_data"
    }
   ],
   "source": [
    "similarities_static_all = get_similarities_of_models_static(model_static, test_case_dict_static_all)"
   ],
   "metadata": {
    "collapsed": false
   }
  },
  {
   "cell_type": "code",
   "execution_count": 48,
   "outputs": [
    {
     "data": {
      "text/plain": "  0%|          | 0/443 [00:00<?, ?it/s]",
      "application/vnd.jupyter.widget-view+json": {
       "version_major": 2,
       "version_minor": 0,
       "model_id": "2d41c0736fce4ff59294924554e234c6"
      },
      "application/json": {
       "n": 0,
       "total": 443,
       "elapsed": 0.0035789012908935547,
       "ncols": null,
       "nrows": null,
       "prefix": "",
       "ascii": false,
       "unit": "it",
       "unit_scale": false,
       "rate": null,
       "bar_format": null,
       "postfix": null,
       "unit_divisor": 1000,
       "initial": 0,
       "colour": null
      }
     },
     "metadata": {},
     "output_type": "display_data"
    }
   ],
   "source": [
    "similarities_static_static = get_similarities_of_models_static(model_static, test_case_dict_static_static)"
   ],
   "metadata": {
    "collapsed": false
   }
  },
  {
   "cell_type": "code",
   "execution_count": 49,
   "outputs": [
    {
     "data": {
      "text/plain": "  0%|          | 0/499 [00:00<?, ?it/s]",
      "application/vnd.jupyter.widget-view+json": {
       "version_major": 2,
       "version_minor": 0,
       "model_id": "3bc64e7701c74d9288718ca0f994481f"
      },
      "application/json": {
       "n": 0,
       "total": 499,
       "elapsed": 0.0021817684173583984,
       "ncols": null,
       "nrows": null,
       "prefix": "",
       "ascii": false,
       "unit": "it",
       "unit_scale": false,
       "rate": null,
       "bar_format": null,
       "postfix": null,
       "unit_divisor": 1000,
       "initial": 0,
       "colour": null
      }
     },
     "metadata": {},
     "output_type": "display_data"
    }
   ],
   "source": [
    "similarities_static_dynamic = get_similarities_of_models_static(model_static, test_case_dict_static_dynamic)"
   ],
   "metadata": {
    "collapsed": false
   }
  },
  {
   "cell_type": "markdown",
   "source": [
    "### TPPMI"
   ],
   "metadata": {
    "collapsed": false
   }
  },
  {
   "cell_type": "code",
   "execution_count": 50,
   "outputs": [],
   "source": [
    "%autoreload 2\n",
    "\n",
    "from src.packages.TPPMI.ppmi_model import PPMIModel\n",
    "from src.packages.TPPMI.tppmi_model import TPPMIModel"
   ],
   "metadata": {
    "collapsed": false
   }
  },
  {
   "cell_type": "code",
   "execution_count": 51,
   "outputs": [],
   "source": [
    "ppmi_data_files = sorted(glob(str(path_to_tppmi_model  / \"*.npz\")))\n",
    "words_files = sorted(glob(str(path_to_tppmi_model  / \"*.pkl\")))"
   ],
   "metadata": {
    "collapsed": false
   }
  },
  {
   "cell_type": "markdown",
   "source": [
    "Split context-words from timestamped-vocabularies"
   ],
   "metadata": {
    "collapsed": false
   }
  },
  {
   "cell_type": "code",
   "execution_count": 52,
   "outputs": [],
   "source": [
    "context_words_file = [path for path in words_files if \"context-words\" in path]\n",
    "ppmi_vocab_files = [path for path in words_files if \"context-words\" not in path]"
   ],
   "metadata": {
    "collapsed": false
   }
  },
  {
   "cell_type": "code",
   "execution_count": 53,
   "outputs": [],
   "source": [
    "# Get ppmi-matrices and vocab\n",
    "ppmi_matrices = {}\n",
    "\n",
    "for filenames in zip(ppmi_vocab_files, ppmi_data_files):\n",
    "    ppmi_matrix = sp.load_npz(filenames[1])\n",
    "    with open(filenames[0], \"rb\") as f:\n",
    "        vocab = pickle.load(f)\n",
    "    key = filenames[0].split(\"ppmi-\")[2][0:4]\n",
    "    ppmi_matrices[key] = {\"ppmi_matrix\" : ppmi_matrix, \"vocab\": vocab}\n",
    "\n",
    "# Get common context-words\n",
    "with open(context_words_file[0], \"rb\") as f:\n",
    "    context_words = pickle.load(f)"
   ],
   "metadata": {
    "collapsed": false
   }
  },
  {
   "cell_type": "code",
   "execution_count": 54,
   "outputs": [
    {
     "data": {
      "text/plain": "dict_keys(['1990', '1991', '1992', '1993', '1994', '1995', '1996', '1997', '1998', '1999', '2000', '2001', '2002', '2003', '2004', '2005', '2006', '2007', '2008', '2009', '2010', '2011', '2012', '2013', '2014', '2015', '2016'])"
     },
     "execution_count": 54,
     "metadata": {},
     "output_type": "execute_result"
    }
   ],
   "source": [
    "ppmi_matrices.keys()"
   ],
   "metadata": {
    "collapsed": false
   }
  },
  {
   "cell_type": "markdown",
   "source": [
    "Create ppmi_model objects"
   ],
   "metadata": {
    "collapsed": false
   }
  },
  {
   "cell_type": "code",
   "execution_count": 55,
   "outputs": [],
   "source": [
    "ppmi_models = {key: PPMIModel.construct_from_data(ppmi_data[\"ppmi_matrix\"], ppmi_data[\"vocab\"], context_words) for key, ppmi_data in ppmi_matrices.items()}"
   ],
   "metadata": {
    "collapsed": false
   }
  },
  {
   "cell_type": "code",
   "execution_count": 56,
   "outputs": [],
   "source": [
    "tppmi_model = TPPMIModel(ppmi_models, dates=\"years\")"
   ],
   "metadata": {
    "collapsed": false
   }
  },
  {
   "cell_type": "code",
   "execution_count": 57,
   "outputs": [],
   "source": [
    "def create_test_case_dict_tppmi(model: TPPMIModel, test_cases : np.ndarray) -> dict:\n",
    "    test_case_dict = dict()\n",
    "    counter = 0\n",
    "    for test_case in test_cases:\n",
    "        word, year = test_case.split(\"-\")\n",
    "        if model.is_in_vocab_of_timestep(word, year):\n",
    "            df = model.get_tppmi([word])\n",
    "            df = df[next(iter(df))]\n",
    "            test_case_dict[test_case] = df.loc[f\"{word}_{year}\"].to_numpy()\n",
    "        else:\n",
    "            counter = counter + 1\n",
    "    print(f\"{counter} Testcases are not in the vocab of the model\")\n",
    "\n",
    "    return test_case_dict"
   ],
   "metadata": {
    "collapsed": false
   }
  },
  {
   "cell_type": "code",
   "execution_count": 58,
   "outputs": [],
   "source": [
    "def get_similarites_of_models_tppmi(model: TPPMIModel, test_word_dict: dict) -> dict:\n",
    "    similarities = dict()\n",
    "    for word, vector in tqdm(islice(test_word_dict.items(), 1, 5)):\n",
    "        similarities[word] = model.most_similar_words_by_vector(vector)\n",
    "    return similarities"
   ],
   "metadata": {
    "collapsed": false
   }
  },
  {
   "cell_type": "code",
   "execution_count": 59,
   "outputs": [
    {
     "name": "stdout",
     "output_type": "stream",
     "text": [
      "All words are contained in the vocabulary\n",
      "All words are contained in the vocabulary\n",
      "All words are contained in the vocabulary\n",
      "All words are contained in the vocabulary\n",
      "albright - not in vocab of timestep: 1990\n",
      "albright - not in vocab of timestep: 1992\n",
      "albright - not in vocab of timestep: 2013\n",
      "All words are contained in the vocabulary\n",
      "albright - not in vocab of timestep: 1990\n",
      "albright - not in vocab of timestep: 1992\n",
      "albright - not in vocab of timestep: 2013\n",
      "All words are contained in the vocabulary\n",
      "albright - not in vocab of timestep: 1990\n",
      "albright - not in vocab of timestep: 1992\n",
      "albright - not in vocab of timestep: 2013\n",
      "All words are contained in the vocabulary\n",
      "albright - not in vocab of timestep: 1990\n",
      "albright - not in vocab of timestep: 1992\n",
      "albright - not in vocab of timestep: 2013\n",
      "All words are contained in the vocabulary\n",
      "athens - not in vocab of timestep: 2006\n",
      "All words are contained in the vocabulary\n",
      "All words are contained in the vocabulary\n",
      "All words are contained in the vocabulary\n",
      "All words are contained in the vocabulary\n",
      "barak - not in vocab of timestep: 1990\n",
      "barak - not in vocab of timestep: 1991\n",
      "barak - not in vocab of timestep: 1992\n",
      "barak - not in vocab of timestep: 1994\n",
      "barak - not in vocab of timestep: 1995\n",
      "barak - not in vocab of timestep: 2003\n",
      "barak - not in vocab of timestep: 2006\n",
      "barak - not in vocab of timestep: 2016\n",
      "All words are contained in the vocabulary\n",
      "barak - not in vocab of timestep: 1990\n",
      "barak - not in vocab of timestep: 1991\n",
      "barak - not in vocab of timestep: 1992\n",
      "barak - not in vocab of timestep: 1994\n",
      "barak - not in vocab of timestep: 1995\n",
      "barak - not in vocab of timestep: 2003\n",
      "barak - not in vocab of timestep: 2006\n",
      "barak - not in vocab of timestep: 2016\n",
      "All words are contained in the vocabulary\n",
      "All words are contained in the vocabulary\n",
      "All words are contained in the vocabulary\n",
      "All words are contained in the vocabulary\n",
      "benedict - not in vocab of timestep: 1997\n",
      "All words are contained in the vocabulary\n",
      "benedict - not in vocab of timestep: 1997\n",
      "All words are contained in the vocabulary\n",
      "benedict - not in vocab of timestep: 1997\n",
      "All words are contained in the vocabulary\n",
      "benedict - not in vocab of timestep: 1997\n",
      "All words are contained in the vocabulary\n",
      "benedict - not in vocab of timestep: 1997\n",
      "All words are contained in the vocabulary\n",
      "benedict - not in vocab of timestep: 1997\n",
      "All words are contained in the vocabulary\n",
      "benedict - not in vocab of timestep: 1997\n",
      "All words are contained in the vocabulary\n",
      "benedict - not in vocab of timestep: 1997\n",
      "All words are contained in the vocabulary\n",
      "bernanke - not in vocab of timestep: 1990\n",
      "bernanke - not in vocab of timestep: 1991\n",
      "bernanke - not in vocab of timestep: 1992\n",
      "bernanke - not in vocab of timestep: 1994\n",
      "bernanke - not in vocab of timestep: 1995\n",
      "bernanke - not in vocab of timestep: 1996\n",
      "bernanke - not in vocab of timestep: 1997\n",
      "bernanke - not in vocab of timestep: 1998\n",
      "bernanke - not in vocab of timestep: 1999\n",
      "bernanke - not in vocab of timestep: 2000\n",
      "bernanke - not in vocab of timestep: 2001\n",
      "bernanke - not in vocab of timestep: 2016\n",
      "All words are contained in the vocabulary\n",
      "bernanke - not in vocab of timestep: 1990\n",
      "bernanke - not in vocab of timestep: 1991\n",
      "bernanke - not in vocab of timestep: 1992\n",
      "bernanke - not in vocab of timestep: 1994\n",
      "bernanke - not in vocab of timestep: 1995\n",
      "bernanke - not in vocab of timestep: 1996\n",
      "bernanke - not in vocab of timestep: 1997\n",
      "bernanke - not in vocab of timestep: 1998\n",
      "bernanke - not in vocab of timestep: 1999\n",
      "bernanke - not in vocab of timestep: 2000\n",
      "bernanke - not in vocab of timestep: 2001\n",
      "bernanke - not in vocab of timestep: 2016\n",
      "All words are contained in the vocabulary\n",
      "bernanke - not in vocab of timestep: 1990\n",
      "bernanke - not in vocab of timestep: 1991\n",
      "bernanke - not in vocab of timestep: 1992\n",
      "bernanke - not in vocab of timestep: 1994\n",
      "bernanke - not in vocab of timestep: 1995\n",
      "bernanke - not in vocab of timestep: 1996\n",
      "bernanke - not in vocab of timestep: 1997\n",
      "bernanke - not in vocab of timestep: 1998\n",
      "bernanke - not in vocab of timestep: 1999\n",
      "bernanke - not in vocab of timestep: 2000\n",
      "bernanke - not in vocab of timestep: 2001\n",
      "bernanke - not in vocab of timestep: 2016\n",
      "All words are contained in the vocabulary\n",
      "bernanke - not in vocab of timestep: 1990\n",
      "bernanke - not in vocab of timestep: 1991\n",
      "bernanke - not in vocab of timestep: 1992\n",
      "bernanke - not in vocab of timestep: 1994\n",
      "bernanke - not in vocab of timestep: 1995\n",
      "bernanke - not in vocab of timestep: 1996\n",
      "bernanke - not in vocab of timestep: 1997\n",
      "bernanke - not in vocab of timestep: 1998\n",
      "bernanke - not in vocab of timestep: 1999\n",
      "bernanke - not in vocab of timestep: 2000\n",
      "bernanke - not in vocab of timestep: 2001\n",
      "bernanke - not in vocab of timestep: 2016\n",
      "All words are contained in the vocabulary\n",
      "bernanke - not in vocab of timestep: 1990\n",
      "bernanke - not in vocab of timestep: 1991\n",
      "bernanke - not in vocab of timestep: 1992\n",
      "bernanke - not in vocab of timestep: 1994\n",
      "bernanke - not in vocab of timestep: 1995\n",
      "bernanke - not in vocab of timestep: 1996\n",
      "bernanke - not in vocab of timestep: 1997\n",
      "bernanke - not in vocab of timestep: 1998\n",
      "bernanke - not in vocab of timestep: 1999\n",
      "bernanke - not in vocab of timestep: 2000\n",
      "bernanke - not in vocab of timestep: 2001\n",
      "bernanke - not in vocab of timestep: 2016\n",
      "All words are contained in the vocabulary\n",
      "bernanke - not in vocab of timestep: 1990\n",
      "bernanke - not in vocab of timestep: 1991\n",
      "bernanke - not in vocab of timestep: 1992\n",
      "bernanke - not in vocab of timestep: 1994\n",
      "bernanke - not in vocab of timestep: 1995\n",
      "bernanke - not in vocab of timestep: 1996\n",
      "bernanke - not in vocab of timestep: 1997\n",
      "bernanke - not in vocab of timestep: 1998\n",
      "bernanke - not in vocab of timestep: 1999\n",
      "bernanke - not in vocab of timestep: 2000\n",
      "bernanke - not in vocab of timestep: 2001\n",
      "bernanke - not in vocab of timestep: 2016\n",
      "All words are contained in the vocabulary\n",
      "bernanke - not in vocab of timestep: 1990\n",
      "bernanke - not in vocab of timestep: 1991\n",
      "bernanke - not in vocab of timestep: 1992\n",
      "bernanke - not in vocab of timestep: 1994\n",
      "bernanke - not in vocab of timestep: 1995\n",
      "bernanke - not in vocab of timestep: 1996\n",
      "bernanke - not in vocab of timestep: 1997\n",
      "bernanke - not in vocab of timestep: 1998\n",
      "bernanke - not in vocab of timestep: 1999\n",
      "bernanke - not in vocab of timestep: 2000\n",
      "bernanke - not in vocab of timestep: 2001\n",
      "bernanke - not in vocab of timestep: 2016\n",
      "All words are contained in the vocabulary\n",
      "bernanke - not in vocab of timestep: 1990\n",
      "bernanke - not in vocab of timestep: 1991\n",
      "bernanke - not in vocab of timestep: 1992\n",
      "bernanke - not in vocab of timestep: 1994\n",
      "bernanke - not in vocab of timestep: 1995\n",
      "bernanke - not in vocab of timestep: 1996\n",
      "bernanke - not in vocab of timestep: 1997\n",
      "bernanke - not in vocab of timestep: 1998\n",
      "bernanke - not in vocab of timestep: 1999\n",
      "bernanke - not in vocab of timestep: 2000\n",
      "bernanke - not in vocab of timestep: 2001\n",
      "bernanke - not in vocab of timestep: 2016\n",
      "All words are contained in the vocabulary\n",
      "All words are contained in the vocabulary\n",
      "All words are contained in the vocabulary\n",
      "All words are contained in the vocabulary\n",
      "All words are contained in the vocabulary\n",
      "All words are contained in the vocabulary\n",
      "All words are contained in the vocabulary\n",
      "All words are contained in the vocabulary\n",
      "All words are contained in the vocabulary\n",
      "All words are contained in the vocabulary\n",
      "All words are contained in the vocabulary\n",
      "All words are contained in the vocabulary\n",
      "All words are contained in the vocabulary\n",
      "All words are contained in the vocabulary\n",
      "All words are contained in the vocabulary\n",
      "All words are contained in the vocabulary\n",
      "All words are contained in the vocabulary\n",
      "All words are contained in the vocabulary\n",
      "All words are contained in the vocabulary\n",
      "All words are contained in the vocabulary\n",
      "All words are contained in the vocabulary\n",
      "blasio - not in vocab of timestep: 1990\n",
      "blasio - not in vocab of timestep: 1991\n",
      "blasio - not in vocab of timestep: 1992\n",
      "blasio - not in vocab of timestep: 1993\n",
      "blasio - not in vocab of timestep: 1994\n",
      "blasio - not in vocab of timestep: 1995\n",
      "blasio - not in vocab of timestep: 1996\n",
      "blasio - not in vocab of timestep: 1997\n",
      "blasio - not in vocab of timestep: 1998\n",
      "blasio - not in vocab of timestep: 1999\n",
      "blasio - not in vocab of timestep: 2001\n",
      "blasio - not in vocab of timestep: 2005\n",
      "blasio - not in vocab of timestep: 2006\n",
      "All words are contained in the vocabulary\n",
      "blasio - not in vocab of timestep: 1990\n",
      "blasio - not in vocab of timestep: 1991\n",
      "blasio - not in vocab of timestep: 1992\n",
      "blasio - not in vocab of timestep: 1993\n",
      "blasio - not in vocab of timestep: 1994\n",
      "blasio - not in vocab of timestep: 1995\n",
      "blasio - not in vocab of timestep: 1996\n",
      "blasio - not in vocab of timestep: 1997\n",
      "blasio - not in vocab of timestep: 1998\n",
      "blasio - not in vocab of timestep: 1999\n",
      "blasio - not in vocab of timestep: 2001\n",
      "blasio - not in vocab of timestep: 2005\n",
      "blasio - not in vocab of timestep: 2006\n",
      "All words are contained in the vocabulary\n",
      "blasio - not in vocab of timestep: 1990\n",
      "blasio - not in vocab of timestep: 1991\n",
      "blasio - not in vocab of timestep: 1992\n",
      "blasio - not in vocab of timestep: 1993\n",
      "blasio - not in vocab of timestep: 1994\n",
      "blasio - not in vocab of timestep: 1995\n",
      "blasio - not in vocab of timestep: 1996\n",
      "blasio - not in vocab of timestep: 1997\n",
      "blasio - not in vocab of timestep: 1998\n",
      "blasio - not in vocab of timestep: 1999\n",
      "blasio - not in vocab of timestep: 2001\n",
      "blasio - not in vocab of timestep: 2005\n",
      "blasio - not in vocab of timestep: 2006\n",
      "All words are contained in the vocabulary\n",
      "bloomberg - not in vocab of timestep: 1990\n",
      "bloomberg - not in vocab of timestep: 1991\n",
      "All words are contained in the vocabulary\n",
      "bloomberg - not in vocab of timestep: 1990\n",
      "bloomberg - not in vocab of timestep: 1991\n",
      "All words are contained in the vocabulary\n",
      "bloomberg - not in vocab of timestep: 1990\n",
      "bloomberg - not in vocab of timestep: 1991\n",
      "All words are contained in the vocabulary\n",
      "bloomberg - not in vocab of timestep: 1990\n",
      "bloomberg - not in vocab of timestep: 1991\n",
      "All words are contained in the vocabulary\n",
      "bloomberg - not in vocab of timestep: 1990\n",
      "bloomberg - not in vocab of timestep: 1991\n",
      "All words are contained in the vocabulary\n",
      "bloomberg - not in vocab of timestep: 1990\n",
      "bloomberg - not in vocab of timestep: 1991\n",
      "All words are contained in the vocabulary\n",
      "bloomberg - not in vocab of timestep: 1990\n",
      "bloomberg - not in vocab of timestep: 1991\n",
      "All words are contained in the vocabulary\n",
      "bloomberg - not in vocab of timestep: 1990\n",
      "bloomberg - not in vocab of timestep: 1991\n",
      "All words are contained in the vocabulary\n",
      "bloomberg - not in vocab of timestep: 1990\n",
      "bloomberg - not in vocab of timestep: 1991\n",
      "All words are contained in the vocabulary\n",
      "bloomberg - not in vocab of timestep: 1990\n",
      "bloomberg - not in vocab of timestep: 1991\n",
      "All words are contained in the vocabulary\n",
      "bloomberg - not in vocab of timestep: 1990\n",
      "bloomberg - not in vocab of timestep: 1991\n",
      "All words are contained in the vocabulary\n",
      "bloomberg - not in vocab of timestep: 1990\n",
      "bloomberg - not in vocab of timestep: 1991\n",
      "All words are contained in the vocabulary\n",
      "All words are contained in the vocabulary\n",
      "All words are contained in the vocabulary\n",
      "All words are contained in the vocabulary\n",
      "All words are contained in the vocabulary\n",
      "All words are contained in the vocabulary\n",
      "All words are contained in the vocabulary\n",
      "All words are contained in the vocabulary\n",
      "All words are contained in the vocabulary\n",
      "All words are contained in the vocabulary\n",
      "All words are contained in the vocabulary\n",
      "All words are contained in the vocabulary\n",
      "All words are contained in the vocabulary\n",
      "All words are contained in the vocabulary\n",
      "All words are contained in the vocabulary\n",
      "All words are contained in the vocabulary\n",
      "All words are contained in the vocabulary\n",
      "All words are contained in the vocabulary\n",
      "All words are contained in the vocabulary\n",
      "All words are contained in the vocabulary\n",
      "All words are contained in the vocabulary\n",
      "All words are contained in the vocabulary\n",
      "All words are contained in the vocabulary\n",
      "All words are contained in the vocabulary\n",
      "All words are contained in the vocabulary\n",
      "All words are contained in the vocabulary\n",
      "All words are contained in the vocabulary\n",
      "All words are contained in the vocabulary\n",
      "All words are contained in the vocabulary\n",
      "All words are contained in the vocabulary\n",
      "All words are contained in the vocabulary\n",
      "All words are contained in the vocabulary\n",
      "All words are contained in the vocabulary\n",
      "All words are contained in the vocabulary\n",
      "All words are contained in the vocabulary\n",
      "All words are contained in the vocabulary\n",
      "All words are contained in the vocabulary\n",
      "cavaliers - not in vocab of timestep: 2006\n",
      "All words are contained in the vocabulary\n",
      "All words are contained in the vocabulary\n",
      "cheney - not in vocab of timestep: 1997\n",
      "cheney - not in vocab of timestep: 1999\n",
      "All words are contained in the vocabulary\n",
      "cheney - not in vocab of timestep: 1997\n",
      "cheney - not in vocab of timestep: 1999\n",
      "All words are contained in the vocabulary\n",
      "cheney - not in vocab of timestep: 1997\n",
      "cheney - not in vocab of timestep: 1999\n",
      "All words are contained in the vocabulary\n",
      "cheney - not in vocab of timestep: 1997\n",
      "cheney - not in vocab of timestep: 1999\n",
      "All words are contained in the vocabulary\n",
      "cheney - not in vocab of timestep: 1997\n",
      "cheney - not in vocab of timestep: 1999\n",
      "All words are contained in the vocabulary\n",
      "cheney - not in vocab of timestep: 1997\n",
      "cheney - not in vocab of timestep: 1999\n",
      "All words are contained in the vocabulary\n",
      "cheney - not in vocab of timestep: 1997\n",
      "cheney - not in vocab of timestep: 1999\n",
      "All words are contained in the vocabulary\n",
      "cheney - not in vocab of timestep: 1997\n",
      "cheney - not in vocab of timestep: 1999\n",
      "All words are contained in the vocabulary\n",
      "chirac - not in vocab of timestep: 1993\n",
      "chirac - not in vocab of timestep: 1994\n",
      "chirac - not in vocab of timestep: 2009\n",
      "chirac - not in vocab of timestep: 2013\n",
      "chirac - not in vocab of timestep: 2016\n",
      "All words are contained in the vocabulary\n",
      "chirac - not in vocab of timestep: 1993\n",
      "chirac - not in vocab of timestep: 1994\n",
      "chirac - not in vocab of timestep: 2009\n",
      "chirac - not in vocab of timestep: 2013\n",
      "chirac - not in vocab of timestep: 2016\n",
      "All words are contained in the vocabulary\n",
      "chirac - not in vocab of timestep: 1993\n",
      "chirac - not in vocab of timestep: 1994\n",
      "chirac - not in vocab of timestep: 2009\n",
      "chirac - not in vocab of timestep: 2013\n",
      "chirac - not in vocab of timestep: 2016\n",
      "All words are contained in the vocabulary\n",
      "chirac - not in vocab of timestep: 1993\n",
      "chirac - not in vocab of timestep: 1994\n",
      "chirac - not in vocab of timestep: 2009\n",
      "chirac - not in vocab of timestep: 2013\n",
      "chirac - not in vocab of timestep: 2016\n",
      "All words are contained in the vocabulary\n",
      "chirac - not in vocab of timestep: 1993\n",
      "chirac - not in vocab of timestep: 1994\n",
      "chirac - not in vocab of timestep: 2009\n",
      "chirac - not in vocab of timestep: 2013\n",
      "chirac - not in vocab of timestep: 2016\n",
      "All words are contained in the vocabulary\n",
      "chirac - not in vocab of timestep: 1993\n",
      "chirac - not in vocab of timestep: 1994\n",
      "chirac - not in vocab of timestep: 2009\n",
      "chirac - not in vocab of timestep: 2013\n",
      "chirac - not in vocab of timestep: 2016\n",
      "All words are contained in the vocabulary\n",
      "chirac - not in vocab of timestep: 1993\n",
      "chirac - not in vocab of timestep: 1994\n",
      "chirac - not in vocab of timestep: 2009\n",
      "chirac - not in vocab of timestep: 2013\n",
      "chirac - not in vocab of timestep: 2016\n",
      "All words are contained in the vocabulary\n",
      "chirac - not in vocab of timestep: 1993\n",
      "chirac - not in vocab of timestep: 1994\n",
      "chirac - not in vocab of timestep: 2009\n",
      "chirac - not in vocab of timestep: 2013\n",
      "chirac - not in vocab of timestep: 2016\n",
      "All words are contained in the vocabulary\n",
      "chirac - not in vocab of timestep: 1993\n",
      "chirac - not in vocab of timestep: 1994\n",
      "chirac - not in vocab of timestep: 2009\n",
      "chirac - not in vocab of timestep: 2013\n",
      "chirac - not in vocab of timestep: 2016\n",
      "All words are contained in the vocabulary\n",
      "chirac - not in vocab of timestep: 1993\n",
      "chirac - not in vocab of timestep: 1994\n",
      "chirac - not in vocab of timestep: 2009\n",
      "chirac - not in vocab of timestep: 2013\n",
      "chirac - not in vocab of timestep: 2016\n",
      "All words are contained in the vocabulary\n",
      "chirac - not in vocab of timestep: 1993\n",
      "chirac - not in vocab of timestep: 1994\n",
      "chirac - not in vocab of timestep: 2009\n",
      "chirac - not in vocab of timestep: 2013\n",
      "chirac - not in vocab of timestep: 2016\n",
      "All words are contained in the vocabulary\n",
      "chirac - not in vocab of timestep: 1993\n",
      "chirac - not in vocab of timestep: 1994\n",
      "chirac - not in vocab of timestep: 2009\n",
      "chirac - not in vocab of timestep: 2013\n",
      "chirac - not in vocab of timestep: 2016\n",
      "All words are contained in the vocabulary\n",
      "cholera - not in vocab of timestep: 2006\n",
      "All words are contained in the vocabulary\n",
      "All words are contained in the vocabulary\n",
      "All words are contained in the vocabulary\n",
      "All words are contained in the vocabulary\n",
      "All words are contained in the vocabulary\n",
      "All words are contained in the vocabulary\n",
      "All words are contained in the vocabulary\n",
      "All words are contained in the vocabulary\n",
      "All words are contained in the vocabulary\n",
      "All words are contained in the vocabulary\n",
      "All words are contained in the vocabulary\n",
      "All words are contained in the vocabulary\n",
      "All words are contained in the vocabulary\n",
      "All words are contained in the vocabulary\n",
      "All words are contained in the vocabulary\n",
      "All words are contained in the vocabulary\n",
      "All words are contained in the vocabulary\n",
      "All words are contained in the vocabulary\n",
      "All words are contained in the vocabulary\n",
      "All words are contained in the vocabulary\n",
      "All words are contained in the vocabulary\n",
      "All words are contained in the vocabulary\n",
      "crowe - not in vocab of timestep: 1996\n",
      "All words are contained in the vocabulary\n",
      "dempsey - not in vocab of timestep: 1993\n",
      "All words are contained in the vocabulary\n",
      "dempsey - not in vocab of timestep: 1993\n",
      "All words are contained in the vocabulary\n",
      "dempsey - not in vocab of timestep: 1993\n",
      "All words are contained in the vocabulary\n",
      "dempsey - not in vocab of timestep: 1993\n",
      "All words are contained in the vocabulary\n",
      "dicaprio - not in vocab of timestep: 1990\n",
      "dicaprio - not in vocab of timestep: 1991\n",
      "dicaprio - not in vocab of timestep: 1992\n",
      "dicaprio - not in vocab of timestep: 1993\n",
      "dicaprio - not in vocab of timestep: 1995\n",
      "dicaprio - not in vocab of timestep: 1996\n",
      "All words are contained in the vocabulary\n",
      "dinkins - not in vocab of timestep: 2006\n",
      "All words are contained in the vocabulary\n",
      "dinkins - not in vocab of timestep: 2006\n",
      "All words are contained in the vocabulary\n",
      "dinkins - not in vocab of timestep: 2006\n",
      "All words are contained in the vocabulary\n",
      "dinkins - not in vocab of timestep: 2006\n",
      "All words are contained in the vocabulary\n",
      "djokovic - not in vocab of timestep: 1990\n",
      "djokovic - not in vocab of timestep: 1991\n",
      "djokovic - not in vocab of timestep: 1992\n",
      "djokovic - not in vocab of timestep: 1993\n",
      "djokovic - not in vocab of timestep: 1994\n",
      "djokovic - not in vocab of timestep: 1995\n",
      "djokovic - not in vocab of timestep: 1996\n",
      "djokovic - not in vocab of timestep: 1997\n",
      "djokovic - not in vocab of timestep: 1998\n",
      "djokovic - not in vocab of timestep: 1999\n",
      "djokovic - not in vocab of timestep: 2000\n",
      "djokovic - not in vocab of timestep: 2001\n",
      "djokovic - not in vocab of timestep: 2002\n",
      "djokovic - not in vocab of timestep: 2003\n",
      "djokovic - not in vocab of timestep: 2004\n",
      "djokovic - not in vocab of timestep: 2005\n",
      "djokovic - not in vocab of timestep: 2006\n",
      "All words are contained in the vocabulary\n",
      "djokovic - not in vocab of timestep: 1990\n",
      "djokovic - not in vocab of timestep: 1991\n",
      "djokovic - not in vocab of timestep: 1992\n",
      "djokovic - not in vocab of timestep: 1993\n",
      "djokovic - not in vocab of timestep: 1994\n",
      "djokovic - not in vocab of timestep: 1995\n",
      "djokovic - not in vocab of timestep: 1996\n",
      "djokovic - not in vocab of timestep: 1997\n",
      "djokovic - not in vocab of timestep: 1998\n",
      "djokovic - not in vocab of timestep: 1999\n",
      "djokovic - not in vocab of timestep: 2000\n",
      "djokovic - not in vocab of timestep: 2001\n",
      "djokovic - not in vocab of timestep: 2002\n",
      "djokovic - not in vocab of timestep: 2003\n",
      "djokovic - not in vocab of timestep: 2004\n",
      "djokovic - not in vocab of timestep: 2005\n",
      "djokovic - not in vocab of timestep: 2006\n",
      "All words are contained in the vocabulary\n",
      "djokovic - not in vocab of timestep: 1990\n",
      "djokovic - not in vocab of timestep: 1991\n",
      "djokovic - not in vocab of timestep: 1992\n",
      "djokovic - not in vocab of timestep: 1993\n",
      "djokovic - not in vocab of timestep: 1994\n",
      "djokovic - not in vocab of timestep: 1995\n",
      "djokovic - not in vocab of timestep: 1996\n",
      "djokovic - not in vocab of timestep: 1997\n",
      "djokovic - not in vocab of timestep: 1998\n",
      "djokovic - not in vocab of timestep: 1999\n",
      "djokovic - not in vocab of timestep: 2000\n",
      "djokovic - not in vocab of timestep: 2001\n",
      "djokovic - not in vocab of timestep: 2002\n",
      "djokovic - not in vocab of timestep: 2003\n",
      "djokovic - not in vocab of timestep: 2004\n",
      "djokovic - not in vocab of timestep: 2005\n",
      "djokovic - not in vocab of timestep: 2006\n",
      "All words are contained in the vocabulary\n",
      "djokovic - not in vocab of timestep: 1990\n",
      "djokovic - not in vocab of timestep: 1991\n",
      "djokovic - not in vocab of timestep: 1992\n",
      "djokovic - not in vocab of timestep: 1993\n",
      "djokovic - not in vocab of timestep: 1994\n",
      "djokovic - not in vocab of timestep: 1995\n",
      "djokovic - not in vocab of timestep: 1996\n",
      "djokovic - not in vocab of timestep: 1997\n",
      "djokovic - not in vocab of timestep: 1998\n",
      "djokovic - not in vocab of timestep: 1999\n",
      "djokovic - not in vocab of timestep: 2000\n",
      "djokovic - not in vocab of timestep: 2001\n",
      "djokovic - not in vocab of timestep: 2002\n",
      "djokovic - not in vocab of timestep: 2003\n",
      "djokovic - not in vocab of timestep: 2004\n",
      "djokovic - not in vocab of timestep: 2005\n",
      "djokovic - not in vocab of timestep: 2006\n",
      "All words are contained in the vocabulary\n",
      "ebola - not in vocab of timestep: 1991\n",
      "ebola - not in vocab of timestep: 1992\n",
      "ebola - not in vocab of timestep: 1993\n",
      "ebola - not in vocab of timestep: 1994\n",
      "ebola - not in vocab of timestep: 1997\n",
      "ebola - not in vocab of timestep: 2000\n",
      "ebola - not in vocab of timestep: 2006\n",
      "ebola - not in vocab of timestep: 2007\n",
      "ebola - not in vocab of timestep: 2011\n",
      "All words are contained in the vocabulary\n",
      "edberg - not in vocab of timestep: 1998\n",
      "edberg - not in vocab of timestep: 2000\n",
      "edberg - not in vocab of timestep: 2001\n",
      "edberg - not in vocab of timestep: 2005\n",
      "edberg - not in vocab of timestep: 2006\n",
      "edberg - not in vocab of timestep: 2008\n",
      "edberg - not in vocab of timestep: 2010\n",
      "edberg - not in vocab of timestep: 2011\n",
      "edberg - not in vocab of timestep: 2012\n",
      "All words are contained in the vocabulary\n",
      "edberg - not in vocab of timestep: 1998\n",
      "edberg - not in vocab of timestep: 2000\n",
      "edberg - not in vocab of timestep: 2001\n",
      "edberg - not in vocab of timestep: 2005\n",
      "edberg - not in vocab of timestep: 2006\n",
      "edberg - not in vocab of timestep: 2008\n",
      "edberg - not in vocab of timestep: 2010\n",
      "edberg - not in vocab of timestep: 2011\n",
      "edberg - not in vocab of timestep: 2012\n",
      "All words are contained in the vocabulary\n",
      "euro - not in vocab of timestep: 1990\n",
      "All words are contained in the vocabulary\n",
      "euro - not in vocab of timestep: 1990\n",
      "All words are contained in the vocabulary\n",
      "euro - not in vocab of timestep: 1990\n",
      "All words are contained in the vocabulary\n",
      "federer - not in vocab of timestep: 1990\n",
      "federer - not in vocab of timestep: 1991\n",
      "federer - not in vocab of timestep: 1992\n",
      "federer - not in vocab of timestep: 1993\n",
      "federer - not in vocab of timestep: 1994\n",
      "federer - not in vocab of timestep: 1995\n",
      "federer - not in vocab of timestep: 1996\n",
      "federer - not in vocab of timestep: 1997\n",
      "All words are contained in the vocabulary\n",
      "federer - not in vocab of timestep: 1990\n",
      "federer - not in vocab of timestep: 1991\n",
      "federer - not in vocab of timestep: 1992\n",
      "federer - not in vocab of timestep: 1993\n",
      "federer - not in vocab of timestep: 1994\n",
      "federer - not in vocab of timestep: 1995\n",
      "federer - not in vocab of timestep: 1996\n",
      "federer - not in vocab of timestep: 1997\n",
      "All words are contained in the vocabulary\n",
      "federer - not in vocab of timestep: 1990\n",
      "federer - not in vocab of timestep: 1991\n",
      "federer - not in vocab of timestep: 1992\n",
      "federer - not in vocab of timestep: 1993\n",
      "federer - not in vocab of timestep: 1994\n",
      "federer - not in vocab of timestep: 1995\n",
      "federer - not in vocab of timestep: 1996\n",
      "federer - not in vocab of timestep: 1997\n",
      "All words are contained in the vocabulary\n",
      "federer - not in vocab of timestep: 1990\n",
      "federer - not in vocab of timestep: 1991\n",
      "federer - not in vocab of timestep: 1992\n",
      "federer - not in vocab of timestep: 1993\n",
      "federer - not in vocab of timestep: 1994\n",
      "federer - not in vocab of timestep: 1995\n",
      "federer - not in vocab of timestep: 1996\n",
      "federer - not in vocab of timestep: 1997\n",
      "All words are contained in the vocabulary\n",
      "federer - not in vocab of timestep: 1990\n",
      "federer - not in vocab of timestep: 1991\n",
      "federer - not in vocab of timestep: 1992\n",
      "federer - not in vocab of timestep: 1993\n",
      "federer - not in vocab of timestep: 1994\n",
      "federer - not in vocab of timestep: 1995\n",
      "federer - not in vocab of timestep: 1996\n",
      "federer - not in vocab of timestep: 1997\n",
      "All words are contained in the vocabulary\n",
      "All words are contained in the vocabulary\n",
      "All words are contained in the vocabulary\n",
      "All words are contained in the vocabulary\n",
      "All words are contained in the vocabulary\n",
      "All words are contained in the vocabulary\n",
      "freeh - not in vocab of timestep: 1990\n",
      "freeh - not in vocab of timestep: 1991\n",
      "freeh - not in vocab of timestep: 1992\n",
      "freeh - not in vocab of timestep: 2003\n",
      "freeh - not in vocab of timestep: 2006\n",
      "freeh - not in vocab of timestep: 2011\n",
      "freeh - not in vocab of timestep: 2016\n",
      "All words are contained in the vocabulary\n",
      "freeh - not in vocab of timestep: 1990\n",
      "freeh - not in vocab of timestep: 1991\n",
      "freeh - not in vocab of timestep: 1992\n",
      "freeh - not in vocab of timestep: 2003\n",
      "freeh - not in vocab of timestep: 2006\n",
      "freeh - not in vocab of timestep: 2011\n",
      "freeh - not in vocab of timestep: 2016\n",
      "All words are contained in the vocabulary\n",
      "freeh - not in vocab of timestep: 1990\n",
      "freeh - not in vocab of timestep: 1991\n",
      "freeh - not in vocab of timestep: 1992\n",
      "freeh - not in vocab of timestep: 2003\n",
      "freeh - not in vocab of timestep: 2006\n",
      "freeh - not in vocab of timestep: 2011\n",
      "freeh - not in vocab of timestep: 2016\n",
      "All words are contained in the vocabulary\n",
      "freeh - not in vocab of timestep: 1990\n",
      "freeh - not in vocab of timestep: 1991\n",
      "freeh - not in vocab of timestep: 1992\n",
      "freeh - not in vocab of timestep: 2003\n",
      "freeh - not in vocab of timestep: 2006\n",
      "freeh - not in vocab of timestep: 2011\n",
      "freeh - not in vocab of timestep: 2016\n",
      "All words are contained in the vocabulary\n",
      "freeh - not in vocab of timestep: 1990\n",
      "freeh - not in vocab of timestep: 1991\n",
      "freeh - not in vocab of timestep: 1992\n",
      "freeh - not in vocab of timestep: 2003\n",
      "freeh - not in vocab of timestep: 2006\n",
      "freeh - not in vocab of timestep: 2011\n",
      "freeh - not in vocab of timestep: 2016\n",
      "All words are contained in the vocabulary\n",
      "freeh - not in vocab of timestep: 1990\n",
      "freeh - not in vocab of timestep: 1991\n",
      "freeh - not in vocab of timestep: 1992\n",
      "freeh - not in vocab of timestep: 2003\n",
      "freeh - not in vocab of timestep: 2006\n",
      "freeh - not in vocab of timestep: 2011\n",
      "freeh - not in vocab of timestep: 2016\n",
      "All words are contained in the vocabulary\n",
      "freeh - not in vocab of timestep: 1990\n",
      "freeh - not in vocab of timestep: 1991\n",
      "freeh - not in vocab of timestep: 1992\n",
      "freeh - not in vocab of timestep: 2003\n",
      "freeh - not in vocab of timestep: 2006\n",
      "freeh - not in vocab of timestep: 2011\n",
      "freeh - not in vocab of timestep: 2016\n",
      "All words are contained in the vocabulary\n",
      "freeh - not in vocab of timestep: 1990\n",
      "freeh - not in vocab of timestep: 1991\n",
      "freeh - not in vocab of timestep: 1992\n",
      "freeh - not in vocab of timestep: 2003\n",
      "freeh - not in vocab of timestep: 2006\n",
      "freeh - not in vocab of timestep: 2011\n",
      "freeh - not in vocab of timestep: 2016\n",
      "All words are contained in the vocabulary\n",
      "All words are contained in the vocabulary\n",
      "All words are contained in the vocabulary\n",
      "All words are contained in the vocabulary\n",
      "All words are contained in the vocabulary\n",
      "All words are contained in the vocabulary\n",
      "All words are contained in the vocabulary\n",
      "All words are contained in the vocabulary\n",
      "All words are contained in the vocabulary\n",
      "All words are contained in the vocabulary\n",
      "All words are contained in the vocabulary\n",
      "All words are contained in the vocabulary\n",
      "All words are contained in the vocabulary\n",
      "All words are contained in the vocabulary\n",
      "All words are contained in the vocabulary\n",
      "All words are contained in the vocabulary\n",
      "All words are contained in the vocabulary\n",
      "All words are contained in the vocabulary\n",
      "All words are contained in the vocabulary\n",
      "All words are contained in the vocabulary\n",
      "All words are contained in the vocabulary\n",
      "All words are contained in the vocabulary\n",
      "All words are contained in the vocabulary\n",
      "All words are contained in the vocabulary\n",
      "All words are contained in the vocabulary\n",
      "All words are contained in the vocabulary\n",
      "All words are contained in the vocabulary\n",
      "All words are contained in the vocabulary\n",
      "All words are contained in the vocabulary\n",
      "All words are contained in the vocabulary\n",
      "All words are contained in the vocabulary\n",
      "All words are contained in the vocabulary\n",
      "All words are contained in the vocabulary\n",
      "All words are contained in the vocabulary\n",
      "All words are contained in the vocabulary\n",
      "All words are contained in the vocabulary\n",
      "All words are contained in the vocabulary\n",
      "All words are contained in the vocabulary\n",
      "All words are contained in the vocabulary\n",
      "All words are contained in the vocabulary\n",
      "All words are contained in the vocabulary\n",
      "All words are contained in the vocabulary\n",
      "All words are contained in the vocabulary\n",
      "All words are contained in the vocabulary\n",
      "All words are contained in the vocabulary\n",
      "All words are contained in the vocabulary\n",
      "hewitt - not in vocab of timestep: 1990\n",
      "All words are contained in the vocabulary\n",
      "hewitt - not in vocab of timestep: 1990\n",
      "All words are contained in the vocabulary\n",
      "All words are contained in the vocabulary\n",
      "hollande - not in vocab of timestep: 1990\n",
      "hollande - not in vocab of timestep: 1991\n",
      "hollande - not in vocab of timestep: 1992\n",
      "hollande - not in vocab of timestep: 1993\n",
      "hollande - not in vocab of timestep: 1994\n",
      "hollande - not in vocab of timestep: 1995\n",
      "hollande - not in vocab of timestep: 1996\n",
      "hollande - not in vocab of timestep: 1997\n",
      "hollande - not in vocab of timestep: 1998\n",
      "hollande - not in vocab of timestep: 1999\n",
      "hollande - not in vocab of timestep: 2000\n",
      "hollande - not in vocab of timestep: 2001\n",
      "hollande - not in vocab of timestep: 2003\n",
      "hollande - not in vocab of timestep: 2004\n",
      "hollande - not in vocab of timestep: 2005\n",
      "hollande - not in vocab of timestep: 2006\n",
      "hollande - not in vocab of timestep: 2007\n",
      "hollande - not in vocab of timestep: 2009\n",
      "All words are contained in the vocabulary\n",
      "hollande - not in vocab of timestep: 1990\n",
      "hollande - not in vocab of timestep: 1991\n",
      "hollande - not in vocab of timestep: 1992\n",
      "hollande - not in vocab of timestep: 1993\n",
      "hollande - not in vocab of timestep: 1994\n",
      "hollande - not in vocab of timestep: 1995\n",
      "hollande - not in vocab of timestep: 1996\n",
      "hollande - not in vocab of timestep: 1997\n",
      "hollande - not in vocab of timestep: 1998\n",
      "hollande - not in vocab of timestep: 1999\n",
      "hollande - not in vocab of timestep: 2000\n",
      "hollande - not in vocab of timestep: 2001\n",
      "hollande - not in vocab of timestep: 2003\n",
      "hollande - not in vocab of timestep: 2004\n",
      "hollande - not in vocab of timestep: 2005\n",
      "hollande - not in vocab of timestep: 2006\n",
      "hollande - not in vocab of timestep: 2007\n",
      "hollande - not in vocab of timestep: 2009\n",
      "All words are contained in the vocabulary\n",
      "hollande - not in vocab of timestep: 1990\n",
      "hollande - not in vocab of timestep: 1991\n",
      "hollande - not in vocab of timestep: 1992\n",
      "hollande - not in vocab of timestep: 1993\n",
      "hollande - not in vocab of timestep: 1994\n",
      "hollande - not in vocab of timestep: 1995\n",
      "hollande - not in vocab of timestep: 1996\n",
      "hollande - not in vocab of timestep: 1997\n",
      "hollande - not in vocab of timestep: 1998\n",
      "hollande - not in vocab of timestep: 1999\n",
      "hollande - not in vocab of timestep: 2000\n",
      "hollande - not in vocab of timestep: 2001\n",
      "hollande - not in vocab of timestep: 2003\n",
      "hollande - not in vocab of timestep: 2004\n",
      "hollande - not in vocab of timestep: 2005\n",
      "hollande - not in vocab of timestep: 2006\n",
      "hollande - not in vocab of timestep: 2007\n",
      "hollande - not in vocab of timestep: 2009\n",
      "All words are contained in the vocabulary\n",
      "hollande - not in vocab of timestep: 1990\n",
      "hollande - not in vocab of timestep: 1991\n",
      "hollande - not in vocab of timestep: 1992\n",
      "hollande - not in vocab of timestep: 1993\n",
      "hollande - not in vocab of timestep: 1994\n",
      "hollande - not in vocab of timestep: 1995\n",
      "hollande - not in vocab of timestep: 1996\n",
      "hollande - not in vocab of timestep: 1997\n",
      "hollande - not in vocab of timestep: 1998\n",
      "hollande - not in vocab of timestep: 1999\n",
      "hollande - not in vocab of timestep: 2000\n",
      "hollande - not in vocab of timestep: 2001\n",
      "hollande - not in vocab of timestep: 2003\n",
      "hollande - not in vocab of timestep: 2004\n",
      "hollande - not in vocab of timestep: 2005\n",
      "hollande - not in vocab of timestep: 2006\n",
      "hollande - not in vocab of timestep: 2007\n",
      "hollande - not in vocab of timestep: 2009\n",
      "All words are contained in the vocabulary\n",
      "hollande - not in vocab of timestep: 1990\n",
      "hollande - not in vocab of timestep: 1991\n",
      "hollande - not in vocab of timestep: 1992\n",
      "hollande - not in vocab of timestep: 1993\n",
      "hollande - not in vocab of timestep: 1994\n",
      "hollande - not in vocab of timestep: 1995\n",
      "hollande - not in vocab of timestep: 1996\n",
      "hollande - not in vocab of timestep: 1997\n",
      "hollande - not in vocab of timestep: 1998\n",
      "hollande - not in vocab of timestep: 1999\n",
      "hollande - not in vocab of timestep: 2000\n",
      "hollande - not in vocab of timestep: 2001\n",
      "hollande - not in vocab of timestep: 2003\n",
      "hollande - not in vocab of timestep: 2004\n",
      "hollande - not in vocab of timestep: 2005\n",
      "hollande - not in vocab of timestep: 2006\n",
      "hollande - not in vocab of timestep: 2007\n",
      "hollande - not in vocab of timestep: 2009\n",
      "All words are contained in the vocabulary\n",
      "All words are contained in the vocabulary\n",
      "All words are contained in the vocabulary\n",
      "All words are contained in the vocabulary\n",
      "ike - not in vocab of timestep: 2006\n",
      "All words are contained in the vocabulary\n",
      "katrina - not in vocab of timestep: 1990\n",
      "katrina - not in vocab of timestep: 1991\n",
      "katrina - not in vocab of timestep: 1994\n",
      "katrina - not in vocab of timestep: 1998\n",
      "katrina - not in vocab of timestep: 2001\n",
      "All words are contained in the vocabulary\n",
      "All words are contained in the vocabulary\n",
      "All words are contained in the vocabulary\n",
      "All words are contained in the vocabulary\n",
      "All words are contained in the vocabulary\n",
      "kidman - not in vocab of timestep: 1990\n",
      "kidman - not in vocab of timestep: 1991\n",
      "kidman - not in vocab of timestep: 1992\n",
      "kidman - not in vocab of timestep: 1993\n",
      "kidman - not in vocab of timestep: 1994\n",
      "kidman - not in vocab of timestep: 1996\n",
      "All words are contained in the vocabulary\n",
      "All words are contained in the vocabulary\n",
      "kohl - not in vocab of timestep: 2006\n",
      "kohl - not in vocab of timestep: 2011\n",
      "kohl - not in vocab of timestep: 2012\n",
      "kohl - not in vocab of timestep: 2016\n",
      "All words are contained in the vocabulary\n",
      "kohl - not in vocab of timestep: 2006\n",
      "kohl - not in vocab of timestep: 2011\n",
      "kohl - not in vocab of timestep: 2012\n",
      "kohl - not in vocab of timestep: 2016\n",
      "All words are contained in the vocabulary\n",
      "kohl - not in vocab of timestep: 2006\n",
      "kohl - not in vocab of timestep: 2011\n",
      "kohl - not in vocab of timestep: 2012\n",
      "kohl - not in vocab of timestep: 2016\n",
      "All words are contained in the vocabulary\n",
      "kohl - not in vocab of timestep: 2006\n",
      "kohl - not in vocab of timestep: 2011\n",
      "kohl - not in vocab of timestep: 2012\n",
      "kohl - not in vocab of timestep: 2016\n",
      "All words are contained in the vocabulary\n",
      "kohl - not in vocab of timestep: 2006\n",
      "kohl - not in vocab of timestep: 2011\n",
      "kohl - not in vocab of timestep: 2012\n",
      "kohl - not in vocab of timestep: 2016\n",
      "All words are contained in the vocabulary\n",
      "kohl - not in vocab of timestep: 2006\n",
      "kohl - not in vocab of timestep: 2011\n",
      "kohl - not in vocab of timestep: 2012\n",
      "kohl - not in vocab of timestep: 2016\n",
      "All words are contained in the vocabulary\n",
      "kohl - not in vocab of timestep: 2006\n",
      "kohl - not in vocab of timestep: 2011\n",
      "kohl - not in vocab of timestep: 2012\n",
      "kohl - not in vocab of timestep: 2016\n",
      "All words are contained in the vocabulary\n",
      "kohl - not in vocab of timestep: 2006\n",
      "kohl - not in vocab of timestep: 2011\n",
      "kohl - not in vocab of timestep: 2012\n",
      "kohl - not in vocab of timestep: 2016\n",
      "All words are contained in the vocabulary\n",
      "All words are contained in the vocabulary\n",
      "All words are contained in the vocabulary\n",
      "All words are contained in the vocabulary\n",
      "All words are contained in the vocabulary\n",
      "All words are contained in the vocabulary\n",
      "All words are contained in the vocabulary\n",
      "larson - not in vocab of timestep: 1997\n",
      "larson - not in vocab of timestep: 1998\n",
      "All words are contained in the vocabulary\n",
      "All words are contained in the vocabulary\n",
      "likud - not in vocab of timestep: 2006\n",
      "likud - not in vocab of timestep: 2008\n",
      "likud - not in vocab of timestep: 2016\n",
      "All words are contained in the vocabulary\n",
      "likud - not in vocab of timestep: 2006\n",
      "likud - not in vocab of timestep: 2008\n",
      "likud - not in vocab of timestep: 2016\n",
      "All words are contained in the vocabulary\n",
      "All words are contained in the vocabulary\n",
      "All words are contained in the vocabulary\n",
      "All words are contained in the vocabulary\n",
      "All words are contained in the vocabulary\n",
      "All words are contained in the vocabulary\n",
      "All words are contained in the vocabulary\n",
      "All words are contained in the vocabulary\n",
      "All words are contained in the vocabulary\n",
      "All words are contained in the vocabulary\n",
      "All words are contained in the vocabulary\n",
      "All words are contained in the vocabulary\n",
      "All words are contained in the vocabulary\n",
      "medvedev - not in vocab of timestep: 1998\n",
      "medvedev - not in vocab of timestep: 2001\n",
      "medvedev - not in vocab of timestep: 2002\n",
      "medvedev - not in vocab of timestep: 2003\n",
      "medvedev - not in vocab of timestep: 2004\n",
      "medvedev - not in vocab of timestep: 2005\n",
      "medvedev - not in vocab of timestep: 2006\n",
      "All words are contained in the vocabulary\n",
      "medvedev - not in vocab of timestep: 1998\n",
      "medvedev - not in vocab of timestep: 2001\n",
      "medvedev - not in vocab of timestep: 2002\n",
      "medvedev - not in vocab of timestep: 2003\n",
      "medvedev - not in vocab of timestep: 2004\n",
      "medvedev - not in vocab of timestep: 2005\n",
      "medvedev - not in vocab of timestep: 2006\n",
      "All words are contained in the vocabulary\n",
      "medvedev - not in vocab of timestep: 1998\n",
      "medvedev - not in vocab of timestep: 2001\n",
      "medvedev - not in vocab of timestep: 2002\n",
      "medvedev - not in vocab of timestep: 2003\n",
      "medvedev - not in vocab of timestep: 2004\n",
      "medvedev - not in vocab of timestep: 2005\n",
      "medvedev - not in vocab of timestep: 2006\n",
      "All words are contained in the vocabulary\n",
      "medvedev - not in vocab of timestep: 1998\n",
      "medvedev - not in vocab of timestep: 2001\n",
      "medvedev - not in vocab of timestep: 2002\n",
      "medvedev - not in vocab of timestep: 2003\n",
      "medvedev - not in vocab of timestep: 2004\n",
      "medvedev - not in vocab of timestep: 2005\n",
      "medvedev - not in vocab of timestep: 2006\n",
      "All words are contained in the vocabulary\n",
      "merkel - not in vocab of timestep: 1990\n",
      "merkel - not in vocab of timestep: 1991\n",
      "merkel - not in vocab of timestep: 1992\n",
      "merkel - not in vocab of timestep: 1993\n",
      "merkel - not in vocab of timestep: 1994\n",
      "merkel - not in vocab of timestep: 1995\n",
      "merkel - not in vocab of timestep: 1996\n",
      "merkel - not in vocab of timestep: 1997\n",
      "merkel - not in vocab of timestep: 1998\n",
      "merkel - not in vocab of timestep: 1999\n",
      "merkel - not in vocab of timestep: 2000\n",
      "merkel - not in vocab of timestep: 2002\n",
      "merkel - not in vocab of timestep: 2006\n",
      "All words are contained in the vocabulary\n",
      "merkel - not in vocab of timestep: 1990\n",
      "merkel - not in vocab of timestep: 1991\n",
      "merkel - not in vocab of timestep: 1992\n",
      "merkel - not in vocab of timestep: 1993\n",
      "merkel - not in vocab of timestep: 1994\n",
      "merkel - not in vocab of timestep: 1995\n",
      "merkel - not in vocab of timestep: 1996\n",
      "merkel - not in vocab of timestep: 1997\n",
      "merkel - not in vocab of timestep: 1998\n",
      "merkel - not in vocab of timestep: 1999\n",
      "merkel - not in vocab of timestep: 2000\n",
      "merkel - not in vocab of timestep: 2002\n",
      "merkel - not in vocab of timestep: 2006\n",
      "All words are contained in the vocabulary\n",
      "merkel - not in vocab of timestep: 1990\n",
      "merkel - not in vocab of timestep: 1991\n",
      "merkel - not in vocab of timestep: 1992\n",
      "merkel - not in vocab of timestep: 1993\n",
      "merkel - not in vocab of timestep: 1994\n",
      "merkel - not in vocab of timestep: 1995\n",
      "merkel - not in vocab of timestep: 1996\n",
      "merkel - not in vocab of timestep: 1997\n",
      "merkel - not in vocab of timestep: 1998\n",
      "merkel - not in vocab of timestep: 1999\n",
      "merkel - not in vocab of timestep: 2000\n",
      "merkel - not in vocab of timestep: 2002\n",
      "merkel - not in vocab of timestep: 2006\n",
      "All words are contained in the vocabulary\n",
      "merkel - not in vocab of timestep: 1990\n",
      "merkel - not in vocab of timestep: 1991\n",
      "merkel - not in vocab of timestep: 1992\n",
      "merkel - not in vocab of timestep: 1993\n",
      "merkel - not in vocab of timestep: 1994\n",
      "merkel - not in vocab of timestep: 1995\n",
      "merkel - not in vocab of timestep: 1996\n",
      "merkel - not in vocab of timestep: 1997\n",
      "merkel - not in vocab of timestep: 1998\n",
      "merkel - not in vocab of timestep: 1999\n",
      "merkel - not in vocab of timestep: 2000\n",
      "merkel - not in vocab of timestep: 2002\n",
      "merkel - not in vocab of timestep: 2006\n",
      "All words are contained in the vocabulary\n",
      "merkel - not in vocab of timestep: 1990\n",
      "merkel - not in vocab of timestep: 1991\n",
      "merkel - not in vocab of timestep: 1992\n",
      "merkel - not in vocab of timestep: 1993\n",
      "merkel - not in vocab of timestep: 1994\n",
      "merkel - not in vocab of timestep: 1995\n",
      "merkel - not in vocab of timestep: 1996\n",
      "merkel - not in vocab of timestep: 1997\n",
      "merkel - not in vocab of timestep: 1998\n",
      "merkel - not in vocab of timestep: 1999\n",
      "merkel - not in vocab of timestep: 2000\n",
      "merkel - not in vocab of timestep: 2002\n",
      "merkel - not in vocab of timestep: 2006\n",
      "All words are contained in the vocabulary\n",
      "merkel - not in vocab of timestep: 1990\n",
      "merkel - not in vocab of timestep: 1991\n",
      "merkel - not in vocab of timestep: 1992\n",
      "merkel - not in vocab of timestep: 1993\n",
      "merkel - not in vocab of timestep: 1994\n",
      "merkel - not in vocab of timestep: 1995\n",
      "merkel - not in vocab of timestep: 1996\n",
      "merkel - not in vocab of timestep: 1997\n",
      "merkel - not in vocab of timestep: 1998\n",
      "merkel - not in vocab of timestep: 1999\n",
      "merkel - not in vocab of timestep: 2000\n",
      "merkel - not in vocab of timestep: 2002\n",
      "merkel - not in vocab of timestep: 2006\n",
      "All words are contained in the vocabulary\n",
      "merkel - not in vocab of timestep: 1990\n",
      "merkel - not in vocab of timestep: 1991\n",
      "merkel - not in vocab of timestep: 1992\n",
      "merkel - not in vocab of timestep: 1993\n",
      "merkel - not in vocab of timestep: 1994\n",
      "merkel - not in vocab of timestep: 1995\n",
      "merkel - not in vocab of timestep: 1996\n",
      "merkel - not in vocab of timestep: 1997\n",
      "merkel - not in vocab of timestep: 1998\n",
      "merkel - not in vocab of timestep: 1999\n",
      "merkel - not in vocab of timestep: 2000\n",
      "merkel - not in vocab of timestep: 2002\n",
      "merkel - not in vocab of timestep: 2006\n",
      "All words are contained in the vocabulary\n",
      "merkel - not in vocab of timestep: 1990\n",
      "merkel - not in vocab of timestep: 1991\n",
      "merkel - not in vocab of timestep: 1992\n",
      "merkel - not in vocab of timestep: 1993\n",
      "merkel - not in vocab of timestep: 1994\n",
      "merkel - not in vocab of timestep: 1995\n",
      "merkel - not in vocab of timestep: 1996\n",
      "merkel - not in vocab of timestep: 1997\n",
      "merkel - not in vocab of timestep: 1998\n",
      "merkel - not in vocab of timestep: 1999\n",
      "merkel - not in vocab of timestep: 2000\n",
      "merkel - not in vocab of timestep: 2002\n",
      "merkel - not in vocab of timestep: 2006\n",
      "All words are contained in the vocabulary\n",
      "merkel - not in vocab of timestep: 1990\n",
      "merkel - not in vocab of timestep: 1991\n",
      "merkel - not in vocab of timestep: 1992\n",
      "merkel - not in vocab of timestep: 1993\n",
      "merkel - not in vocab of timestep: 1994\n",
      "merkel - not in vocab of timestep: 1995\n",
      "merkel - not in vocab of timestep: 1996\n",
      "merkel - not in vocab of timestep: 1997\n",
      "merkel - not in vocab of timestep: 1998\n",
      "merkel - not in vocab of timestep: 1999\n",
      "merkel - not in vocab of timestep: 2000\n",
      "merkel - not in vocab of timestep: 2002\n",
      "merkel - not in vocab of timestep: 2006\n",
      "All words are contained in the vocabulary\n",
      "merkel - not in vocab of timestep: 1990\n",
      "merkel - not in vocab of timestep: 1991\n",
      "merkel - not in vocab of timestep: 1992\n",
      "merkel - not in vocab of timestep: 1993\n",
      "merkel - not in vocab of timestep: 1994\n",
      "merkel - not in vocab of timestep: 1995\n",
      "merkel - not in vocab of timestep: 1996\n",
      "merkel - not in vocab of timestep: 1997\n",
      "merkel - not in vocab of timestep: 1998\n",
      "merkel - not in vocab of timestep: 1999\n",
      "merkel - not in vocab of timestep: 2000\n",
      "merkel - not in vocab of timestep: 2002\n",
      "merkel - not in vocab of timestep: 2006\n",
      "All words are contained in the vocabulary\n",
      "merkel - not in vocab of timestep: 1990\n",
      "merkel - not in vocab of timestep: 1991\n",
      "merkel - not in vocab of timestep: 1992\n",
      "merkel - not in vocab of timestep: 1993\n",
      "merkel - not in vocab of timestep: 1994\n",
      "merkel - not in vocab of timestep: 1995\n",
      "merkel - not in vocab of timestep: 1996\n",
      "merkel - not in vocab of timestep: 1997\n",
      "merkel - not in vocab of timestep: 1998\n",
      "merkel - not in vocab of timestep: 1999\n",
      "merkel - not in vocab of timestep: 2000\n",
      "merkel - not in vocab of timestep: 2002\n",
      "merkel - not in vocab of timestep: 2006\n",
      "All words are contained in the vocabulary\n",
      "mitterrand - not in vocab of timestep: 2000\n",
      "mitterrand - not in vocab of timestep: 2004\n",
      "mitterrand - not in vocab of timestep: 2006\n",
      "mitterrand - not in vocab of timestep: 2016\n",
      "All words are contained in the vocabulary\n",
      "mitterrand - not in vocab of timestep: 2000\n",
      "mitterrand - not in vocab of timestep: 2004\n",
      "mitterrand - not in vocab of timestep: 2006\n",
      "mitterrand - not in vocab of timestep: 2016\n",
      "All words are contained in the vocabulary\n",
      "mitterrand - not in vocab of timestep: 2000\n",
      "mitterrand - not in vocab of timestep: 2004\n",
      "mitterrand - not in vocab of timestep: 2006\n",
      "mitterrand - not in vocab of timestep: 2016\n",
      "All words are contained in the vocabulary\n",
      "mitterrand - not in vocab of timestep: 2000\n",
      "mitterrand - not in vocab of timestep: 2004\n",
      "mitterrand - not in vocab of timestep: 2006\n",
      "mitterrand - not in vocab of timestep: 2016\n",
      "All words are contained in the vocabulary\n",
      "mitterrand - not in vocab of timestep: 2000\n",
      "mitterrand - not in vocab of timestep: 2004\n",
      "mitterrand - not in vocab of timestep: 2006\n",
      "mitterrand - not in vocab of timestep: 2016\n",
      "All words are contained in the vocabulary\n",
      "modi - not in vocab of timestep: 1990\n",
      "modi - not in vocab of timestep: 1991\n",
      "modi - not in vocab of timestep: 1992\n",
      "modi - not in vocab of timestep: 1993\n",
      "modi - not in vocab of timestep: 1994\n",
      "modi - not in vocab of timestep: 1995\n",
      "modi - not in vocab of timestep: 1996\n",
      "modi - not in vocab of timestep: 1997\n",
      "modi - not in vocab of timestep: 1998\n",
      "modi - not in vocab of timestep: 1999\n",
      "modi - not in vocab of timestep: 2000\n",
      "modi - not in vocab of timestep: 2001\n",
      "modi - not in vocab of timestep: 2003\n",
      "modi - not in vocab of timestep: 2004\n",
      "modi - not in vocab of timestep: 2005\n",
      "modi - not in vocab of timestep: 2006\n",
      "modi - not in vocab of timestep: 2007\n",
      "modi - not in vocab of timestep: 2008\n",
      "modi - not in vocab of timestep: 2010\n",
      "modi - not in vocab of timestep: 2011\n",
      "All words are contained in the vocabulary\n",
      "modi - not in vocab of timestep: 1990\n",
      "modi - not in vocab of timestep: 1991\n",
      "modi - not in vocab of timestep: 1992\n",
      "modi - not in vocab of timestep: 1993\n",
      "modi - not in vocab of timestep: 1994\n",
      "modi - not in vocab of timestep: 1995\n",
      "modi - not in vocab of timestep: 1996\n",
      "modi - not in vocab of timestep: 1997\n",
      "modi - not in vocab of timestep: 1998\n",
      "modi - not in vocab of timestep: 1999\n",
      "modi - not in vocab of timestep: 2000\n",
      "modi - not in vocab of timestep: 2001\n",
      "modi - not in vocab of timestep: 2003\n",
      "modi - not in vocab of timestep: 2004\n",
      "modi - not in vocab of timestep: 2005\n",
      "modi - not in vocab of timestep: 2006\n",
      "modi - not in vocab of timestep: 2007\n",
      "modi - not in vocab of timestep: 2008\n",
      "modi - not in vocab of timestep: 2010\n",
      "modi - not in vocab of timestep: 2011\n",
      "All words are contained in the vocabulary\n",
      "modi - not in vocab of timestep: 1990\n",
      "modi - not in vocab of timestep: 1991\n",
      "modi - not in vocab of timestep: 1992\n",
      "modi - not in vocab of timestep: 1993\n",
      "modi - not in vocab of timestep: 1994\n",
      "modi - not in vocab of timestep: 1995\n",
      "modi - not in vocab of timestep: 1996\n",
      "modi - not in vocab of timestep: 1997\n",
      "modi - not in vocab of timestep: 1998\n",
      "modi - not in vocab of timestep: 1999\n",
      "modi - not in vocab of timestep: 2000\n",
      "modi - not in vocab of timestep: 2001\n",
      "modi - not in vocab of timestep: 2003\n",
      "modi - not in vocab of timestep: 2004\n",
      "modi - not in vocab of timestep: 2005\n",
      "modi - not in vocab of timestep: 2006\n",
      "modi - not in vocab of timestep: 2007\n",
      "modi - not in vocab of timestep: 2008\n",
      "modi - not in vocab of timestep: 2010\n",
      "modi - not in vocab of timestep: 2011\n",
      "All words are contained in the vocabulary\n",
      "All words are contained in the vocabulary\n",
      "mueller - not in vocab of timestep: 1990\n",
      "mueller - not in vocab of timestep: 2006\n",
      "All words are contained in the vocabulary\n",
      "mueller - not in vocab of timestep: 1990\n",
      "mueller - not in vocab of timestep: 2006\n",
      "All words are contained in the vocabulary\n",
      "mueller - not in vocab of timestep: 1990\n",
      "mueller - not in vocab of timestep: 2006\n",
      "All words are contained in the vocabulary\n",
      "mueller - not in vocab of timestep: 1990\n",
      "mueller - not in vocab of timestep: 2006\n",
      "All words are contained in the vocabulary\n",
      "mueller - not in vocab of timestep: 1990\n",
      "mueller - not in vocab of timestep: 2006\n",
      "All words are contained in the vocabulary\n",
      "mueller - not in vocab of timestep: 1990\n",
      "mueller - not in vocab of timestep: 2006\n",
      "All words are contained in the vocabulary\n",
      "mueller - not in vocab of timestep: 1990\n",
      "mueller - not in vocab of timestep: 2006\n",
      "All words are contained in the vocabulary\n",
      "mueller - not in vocab of timestep: 1990\n",
      "mueller - not in vocab of timestep: 2006\n",
      "All words are contained in the vocabulary\n",
      "mueller - not in vocab of timestep: 1990\n",
      "mueller - not in vocab of timestep: 2006\n",
      "All words are contained in the vocabulary\n",
      "mueller - not in vocab of timestep: 1990\n",
      "mueller - not in vocab of timestep: 2006\n",
      "All words are contained in the vocabulary\n",
      "mueller - not in vocab of timestep: 1990\n",
      "mueller - not in vocab of timestep: 2006\n",
      "All words are contained in the vocabulary\n",
      "mullen - not in vocab of timestep: 1994\n",
      "mullen - not in vocab of timestep: 2001\n",
      "All words are contained in the vocabulary\n",
      "mullen - not in vocab of timestep: 1994\n",
      "mullen - not in vocab of timestep: 2001\n",
      "All words are contained in the vocabulary\n",
      "mullen - not in vocab of timestep: 1994\n",
      "mullen - not in vocab of timestep: 2001\n",
      "All words are contained in the vocabulary\n",
      "mullen - not in vocab of timestep: 1994\n",
      "mullen - not in vocab of timestep: 2001\n",
      "All words are contained in the vocabulary\n",
      "All words are contained in the vocabulary\n",
      "All words are contained in the vocabulary\n",
      "All words are contained in the vocabulary\n",
      "All words are contained in the vocabulary\n",
      "All words are contained in the vocabulary\n",
      "nadal - not in vocab of timestep: 1990\n",
      "nadal - not in vocab of timestep: 1991\n",
      "nadal - not in vocab of timestep: 1992\n",
      "nadal - not in vocab of timestep: 1995\n",
      "nadal - not in vocab of timestep: 1996\n",
      "nadal - not in vocab of timestep: 1997\n",
      "nadal - not in vocab of timestep: 1998\n",
      "nadal - not in vocab of timestep: 2000\n",
      "nadal - not in vocab of timestep: 2001\n",
      "nadal - not in vocab of timestep: 2002\n",
      "nadal - not in vocab of timestep: 2003\n",
      "All words are contained in the vocabulary\n",
      "nadal - not in vocab of timestep: 1990\n",
      "nadal - not in vocab of timestep: 1991\n",
      "nadal - not in vocab of timestep: 1992\n",
      "nadal - not in vocab of timestep: 1995\n",
      "nadal - not in vocab of timestep: 1996\n",
      "nadal - not in vocab of timestep: 1997\n",
      "nadal - not in vocab of timestep: 1998\n",
      "nadal - not in vocab of timestep: 2000\n",
      "nadal - not in vocab of timestep: 2001\n",
      "nadal - not in vocab of timestep: 2002\n",
      "nadal - not in vocab of timestep: 2003\n",
      "All words are contained in the vocabulary\n",
      "nadal - not in vocab of timestep: 1990\n",
      "nadal - not in vocab of timestep: 1991\n",
      "nadal - not in vocab of timestep: 1992\n",
      "nadal - not in vocab of timestep: 1995\n",
      "nadal - not in vocab of timestep: 1996\n",
      "nadal - not in vocab of timestep: 1997\n",
      "nadal - not in vocab of timestep: 1998\n",
      "nadal - not in vocab of timestep: 2000\n",
      "nadal - not in vocab of timestep: 2001\n",
      "nadal - not in vocab of timestep: 2002\n",
      "nadal - not in vocab of timestep: 2003\n",
      "All words are contained in the vocabulary\n",
      "netanyahu - not in vocab of timestep: 1990\n",
      "netanyahu - not in vocab of timestep: 2001\n",
      "netanyahu - not in vocab of timestep: 2006\n",
      "netanyahu - not in vocab of timestep: 2008\n",
      "All words are contained in the vocabulary\n",
      "netanyahu - not in vocab of timestep: 1990\n",
      "netanyahu - not in vocab of timestep: 2001\n",
      "netanyahu - not in vocab of timestep: 2006\n",
      "netanyahu - not in vocab of timestep: 2008\n",
      "All words are contained in the vocabulary\n",
      "netanyahu - not in vocab of timestep: 1990\n",
      "netanyahu - not in vocab of timestep: 2001\n",
      "netanyahu - not in vocab of timestep: 2006\n",
      "netanyahu - not in vocab of timestep: 2008\n",
      "All words are contained in the vocabulary\n",
      "netanyahu - not in vocab of timestep: 1990\n",
      "netanyahu - not in vocab of timestep: 2001\n",
      "netanyahu - not in vocab of timestep: 2006\n",
      "netanyahu - not in vocab of timestep: 2008\n",
      "All words are contained in the vocabulary\n",
      "netanyahu - not in vocab of timestep: 1990\n",
      "netanyahu - not in vocab of timestep: 2001\n",
      "netanyahu - not in vocab of timestep: 2006\n",
      "netanyahu - not in vocab of timestep: 2008\n",
      "All words are contained in the vocabulary\n",
      "netanyahu - not in vocab of timestep: 1990\n",
      "netanyahu - not in vocab of timestep: 2001\n",
      "netanyahu - not in vocab of timestep: 2006\n",
      "netanyahu - not in vocab of timestep: 2008\n",
      "All words are contained in the vocabulary\n",
      "netanyahu - not in vocab of timestep: 1990\n",
      "netanyahu - not in vocab of timestep: 2001\n",
      "netanyahu - not in vocab of timestep: 2006\n",
      "netanyahu - not in vocab of timestep: 2008\n",
      "All words are contained in the vocabulary\n",
      "netanyahu - not in vocab of timestep: 1990\n",
      "netanyahu - not in vocab of timestep: 2001\n",
      "netanyahu - not in vocab of timestep: 2006\n",
      "netanyahu - not in vocab of timestep: 2008\n",
      "All words are contained in the vocabulary\n",
      "netanyahu - not in vocab of timestep: 1990\n",
      "netanyahu - not in vocab of timestep: 2001\n",
      "netanyahu - not in vocab of timestep: 2006\n",
      "netanyahu - not in vocab of timestep: 2008\n",
      "All words are contained in the vocabulary\n",
      "netanyahu - not in vocab of timestep: 1990\n",
      "netanyahu - not in vocab of timestep: 2001\n",
      "netanyahu - not in vocab of timestep: 2006\n",
      "netanyahu - not in vocab of timestep: 2008\n",
      "All words are contained in the vocabulary\n",
      "netanyahu - not in vocab of timestep: 1990\n",
      "netanyahu - not in vocab of timestep: 2001\n",
      "netanyahu - not in vocab of timestep: 2006\n",
      "netanyahu - not in vocab of timestep: 2008\n",
      "All words are contained in the vocabulary\n",
      "All words are contained in the vocabulary\n",
      "obama - not in vocab of timestep: 1991\n",
      "obama - not in vocab of timestep: 1992\n",
      "obama - not in vocab of timestep: 1993\n",
      "obama - not in vocab of timestep: 1994\n",
      "obama - not in vocab of timestep: 1995\n",
      "obama - not in vocab of timestep: 1996\n",
      "obama - not in vocab of timestep: 1997\n",
      "obama - not in vocab of timestep: 1998\n",
      "obama - not in vocab of timestep: 1999\n",
      "obama - not in vocab of timestep: 2000\n",
      "obama - not in vocab of timestep: 2001\n",
      "obama - not in vocab of timestep: 2002\n",
      "obama - not in vocab of timestep: 2003\n",
      "All words are contained in the vocabulary\n",
      "obama - not in vocab of timestep: 1991\n",
      "obama - not in vocab of timestep: 1992\n",
      "obama - not in vocab of timestep: 1993\n",
      "obama - not in vocab of timestep: 1994\n",
      "obama - not in vocab of timestep: 1995\n",
      "obama - not in vocab of timestep: 1996\n",
      "obama - not in vocab of timestep: 1997\n",
      "obama - not in vocab of timestep: 1998\n",
      "obama - not in vocab of timestep: 1999\n",
      "obama - not in vocab of timestep: 2000\n",
      "obama - not in vocab of timestep: 2001\n",
      "obama - not in vocab of timestep: 2002\n",
      "obama - not in vocab of timestep: 2003\n",
      "All words are contained in the vocabulary\n",
      "obama - not in vocab of timestep: 1991\n",
      "obama - not in vocab of timestep: 1992\n",
      "obama - not in vocab of timestep: 1993\n",
      "obama - not in vocab of timestep: 1994\n",
      "obama - not in vocab of timestep: 1995\n",
      "obama - not in vocab of timestep: 1996\n",
      "obama - not in vocab of timestep: 1997\n",
      "obama - not in vocab of timestep: 1998\n",
      "obama - not in vocab of timestep: 1999\n",
      "obama - not in vocab of timestep: 2000\n",
      "obama - not in vocab of timestep: 2001\n",
      "obama - not in vocab of timestep: 2002\n",
      "obama - not in vocab of timestep: 2003\n",
      "All words are contained in the vocabulary\n",
      "obama - not in vocab of timestep: 1991\n",
      "obama - not in vocab of timestep: 1992\n",
      "obama - not in vocab of timestep: 1993\n",
      "obama - not in vocab of timestep: 1994\n",
      "obama - not in vocab of timestep: 1995\n",
      "obama - not in vocab of timestep: 1996\n",
      "obama - not in vocab of timestep: 1997\n",
      "obama - not in vocab of timestep: 1998\n",
      "obama - not in vocab of timestep: 1999\n",
      "obama - not in vocab of timestep: 2000\n",
      "obama - not in vocab of timestep: 2001\n",
      "obama - not in vocab of timestep: 2002\n",
      "obama - not in vocab of timestep: 2003\n",
      "All words are contained in the vocabulary\n",
      "obama - not in vocab of timestep: 1991\n",
      "obama - not in vocab of timestep: 1992\n",
      "obama - not in vocab of timestep: 1993\n",
      "obama - not in vocab of timestep: 1994\n",
      "obama - not in vocab of timestep: 1995\n",
      "obama - not in vocab of timestep: 1996\n",
      "obama - not in vocab of timestep: 1997\n",
      "obama - not in vocab of timestep: 1998\n",
      "obama - not in vocab of timestep: 1999\n",
      "obama - not in vocab of timestep: 2000\n",
      "obama - not in vocab of timestep: 2001\n",
      "obama - not in vocab of timestep: 2002\n",
      "obama - not in vocab of timestep: 2003\n",
      "All words are contained in the vocabulary\n",
      "obama - not in vocab of timestep: 1991\n",
      "obama - not in vocab of timestep: 1992\n",
      "obama - not in vocab of timestep: 1993\n",
      "obama - not in vocab of timestep: 1994\n",
      "obama - not in vocab of timestep: 1995\n",
      "obama - not in vocab of timestep: 1996\n",
      "obama - not in vocab of timestep: 1997\n",
      "obama - not in vocab of timestep: 1998\n",
      "obama - not in vocab of timestep: 1999\n",
      "obama - not in vocab of timestep: 2000\n",
      "obama - not in vocab of timestep: 2001\n",
      "obama - not in vocab of timestep: 2002\n",
      "obama - not in vocab of timestep: 2003\n",
      "All words are contained in the vocabulary\n",
      "obama - not in vocab of timestep: 1991\n",
      "obama - not in vocab of timestep: 1992\n",
      "obama - not in vocab of timestep: 1993\n",
      "obama - not in vocab of timestep: 1994\n",
      "obama - not in vocab of timestep: 1995\n",
      "obama - not in vocab of timestep: 1996\n",
      "obama - not in vocab of timestep: 1997\n",
      "obama - not in vocab of timestep: 1998\n",
      "obama - not in vocab of timestep: 1999\n",
      "obama - not in vocab of timestep: 2000\n",
      "obama - not in vocab of timestep: 2001\n",
      "obama - not in vocab of timestep: 2002\n",
      "obama - not in vocab of timestep: 2003\n",
      "All words are contained in the vocabulary\n",
      "obama - not in vocab of timestep: 1991\n",
      "obama - not in vocab of timestep: 1992\n",
      "obama - not in vocab of timestep: 1993\n",
      "obama - not in vocab of timestep: 1994\n",
      "obama - not in vocab of timestep: 1995\n",
      "obama - not in vocab of timestep: 1996\n",
      "obama - not in vocab of timestep: 1997\n",
      "obama - not in vocab of timestep: 1998\n",
      "obama - not in vocab of timestep: 1999\n",
      "obama - not in vocab of timestep: 2000\n",
      "obama - not in vocab of timestep: 2001\n",
      "obama - not in vocab of timestep: 2002\n",
      "obama - not in vocab of timestep: 2003\n",
      "All words are contained in the vocabulary\n",
      "obama - not in vocab of timestep: 1991\n",
      "obama - not in vocab of timestep: 1992\n",
      "obama - not in vocab of timestep: 1993\n",
      "obama - not in vocab of timestep: 1994\n",
      "obama - not in vocab of timestep: 1995\n",
      "obama - not in vocab of timestep: 1996\n",
      "obama - not in vocab of timestep: 1997\n",
      "obama - not in vocab of timestep: 1998\n",
      "obama - not in vocab of timestep: 1999\n",
      "obama - not in vocab of timestep: 2000\n",
      "obama - not in vocab of timestep: 2001\n",
      "obama - not in vocab of timestep: 2002\n",
      "obama - not in vocab of timestep: 2003\n",
      "All words are contained in the vocabulary\n",
      "All words are contained in the vocabulary\n",
      "All words are contained in the vocabulary\n",
      "All words are contained in the vocabulary\n",
      "panetta - not in vocab of timestep: 1991\n",
      "panetta - not in vocab of timestep: 2000\n",
      "panetta - not in vocab of timestep: 2006\n",
      "panetta - not in vocab of timestep: 2007\n",
      "panetta - not in vocab of timestep: 2008\n",
      "panetta - not in vocab of timestep: 2015\n",
      "All words are contained in the vocabulary\n",
      "panetta - not in vocab of timestep: 1991\n",
      "panetta - not in vocab of timestep: 2000\n",
      "panetta - not in vocab of timestep: 2006\n",
      "panetta - not in vocab of timestep: 2007\n",
      "panetta - not in vocab of timestep: 2008\n",
      "panetta - not in vocab of timestep: 2015\n",
      "All words are contained in the vocabulary\n",
      "All words are contained in the vocabulary\n",
      "All words are contained in the vocabulary\n",
      "All words are contained in the vocabulary\n",
      "All words are contained in the vocabulary\n",
      "All words are contained in the vocabulary\n",
      "All words are contained in the vocabulary\n",
      "peres - not in vocab of timestep: 2004\n",
      "All words are contained in the vocabulary\n",
      "petraeus - not in vocab of timestep: 1990\n",
      "petraeus - not in vocab of timestep: 1991\n",
      "petraeus - not in vocab of timestep: 1992\n",
      "petraeus - not in vocab of timestep: 1993\n",
      "petraeus - not in vocab of timestep: 1994\n",
      "petraeus - not in vocab of timestep: 1995\n",
      "petraeus - not in vocab of timestep: 1996\n",
      "petraeus - not in vocab of timestep: 1997\n",
      "petraeus - not in vocab of timestep: 1998\n",
      "petraeus - not in vocab of timestep: 1999\n",
      "petraeus - not in vocab of timestep: 2000\n",
      "petraeus - not in vocab of timestep: 2001\n",
      "petraeus - not in vocab of timestep: 2002\n",
      "petraeus - not in vocab of timestep: 2006\n",
      "All words are contained in the vocabulary\n",
      "petraeus - not in vocab of timestep: 1990\n",
      "petraeus - not in vocab of timestep: 1991\n",
      "petraeus - not in vocab of timestep: 1992\n",
      "petraeus - not in vocab of timestep: 1993\n",
      "petraeus - not in vocab of timestep: 1994\n",
      "petraeus - not in vocab of timestep: 1995\n",
      "petraeus - not in vocab of timestep: 1996\n",
      "petraeus - not in vocab of timestep: 1997\n",
      "petraeus - not in vocab of timestep: 1998\n",
      "petraeus - not in vocab of timestep: 1999\n",
      "petraeus - not in vocab of timestep: 2000\n",
      "petraeus - not in vocab of timestep: 2001\n",
      "petraeus - not in vocab of timestep: 2002\n",
      "petraeus - not in vocab of timestep: 2006\n",
      "All words are contained in the vocabulary\n",
      "pistons - not in vocab of timestep: 1999\n",
      "All words are contained in the vocabulary\n",
      "pistons - not in vocab of timestep: 1999\n",
      "All words are contained in the vocabulary\n",
      "plague - not in vocab of timestep: 2006\n",
      "All words are contained in the vocabulary\n",
      "All words are contained in the vocabulary\n",
      "All words are contained in the vocabulary\n",
      "All words are contained in the vocabulary\n",
      "All words are contained in the vocabulary\n",
      "All words are contained in the vocabulary\n",
      "All words are contained in the vocabulary\n",
      "All words are contained in the vocabulary\n",
      "putin - not in vocab of timestep: 1990\n",
      "putin - not in vocab of timestep: 1991\n",
      "putin - not in vocab of timestep: 1992\n",
      "putin - not in vocab of timestep: 1993\n",
      "putin - not in vocab of timestep: 1994\n",
      "putin - not in vocab of timestep: 1995\n",
      "putin - not in vocab of timestep: 1997\n",
      "putin - not in vocab of timestep: 1998\n",
      "All words are contained in the vocabulary\n",
      "putin - not in vocab of timestep: 1990\n",
      "putin - not in vocab of timestep: 1991\n",
      "putin - not in vocab of timestep: 1992\n",
      "putin - not in vocab of timestep: 1993\n",
      "putin - not in vocab of timestep: 1994\n",
      "putin - not in vocab of timestep: 1995\n",
      "putin - not in vocab of timestep: 1997\n",
      "putin - not in vocab of timestep: 1998\n",
      "All words are contained in the vocabulary\n",
      "putin - not in vocab of timestep: 1990\n",
      "putin - not in vocab of timestep: 1991\n",
      "putin - not in vocab of timestep: 1992\n",
      "putin - not in vocab of timestep: 1993\n",
      "putin - not in vocab of timestep: 1994\n",
      "putin - not in vocab of timestep: 1995\n",
      "putin - not in vocab of timestep: 1997\n",
      "putin - not in vocab of timestep: 1998\n",
      "All words are contained in the vocabulary\n",
      "putin - not in vocab of timestep: 1990\n",
      "putin - not in vocab of timestep: 1991\n",
      "putin - not in vocab of timestep: 1992\n",
      "putin - not in vocab of timestep: 1993\n",
      "putin - not in vocab of timestep: 1994\n",
      "putin - not in vocab of timestep: 1995\n",
      "putin - not in vocab of timestep: 1997\n",
      "putin - not in vocab of timestep: 1998\n",
      "All words are contained in the vocabulary\n",
      "putin - not in vocab of timestep: 1990\n",
      "putin - not in vocab of timestep: 1991\n",
      "putin - not in vocab of timestep: 1992\n",
      "putin - not in vocab of timestep: 1993\n",
      "putin - not in vocab of timestep: 1994\n",
      "putin - not in vocab of timestep: 1995\n",
      "putin - not in vocab of timestep: 1997\n",
      "putin - not in vocab of timestep: 1998\n",
      "All words are contained in the vocabulary\n",
      "putin - not in vocab of timestep: 1990\n",
      "putin - not in vocab of timestep: 1991\n",
      "putin - not in vocab of timestep: 1992\n",
      "putin - not in vocab of timestep: 1993\n",
      "putin - not in vocab of timestep: 1994\n",
      "putin - not in vocab of timestep: 1995\n",
      "putin - not in vocab of timestep: 1997\n",
      "putin - not in vocab of timestep: 1998\n",
      "All words are contained in the vocabulary\n",
      "putin - not in vocab of timestep: 1990\n",
      "putin - not in vocab of timestep: 1991\n",
      "putin - not in vocab of timestep: 1992\n",
      "putin - not in vocab of timestep: 1993\n",
      "putin - not in vocab of timestep: 1994\n",
      "putin - not in vocab of timestep: 1995\n",
      "putin - not in vocab of timestep: 1997\n",
      "putin - not in vocab of timestep: 1998\n",
      "All words are contained in the vocabulary\n",
      "putin - not in vocab of timestep: 1990\n",
      "putin - not in vocab of timestep: 1991\n",
      "putin - not in vocab of timestep: 1992\n",
      "putin - not in vocab of timestep: 1993\n",
      "putin - not in vocab of timestep: 1994\n",
      "putin - not in vocab of timestep: 1995\n",
      "putin - not in vocab of timestep: 1997\n",
      "putin - not in vocab of timestep: 1998\n",
      "All words are contained in the vocabulary\n",
      "putin - not in vocab of timestep: 1990\n",
      "putin - not in vocab of timestep: 1991\n",
      "putin - not in vocab of timestep: 1992\n",
      "putin - not in vocab of timestep: 1993\n",
      "putin - not in vocab of timestep: 1994\n",
      "putin - not in vocab of timestep: 1995\n",
      "putin - not in vocab of timestep: 1997\n",
      "putin - not in vocab of timestep: 1998\n",
      "All words are contained in the vocabulary\n",
      "putin - not in vocab of timestep: 1990\n",
      "putin - not in vocab of timestep: 1991\n",
      "putin - not in vocab of timestep: 1992\n",
      "putin - not in vocab of timestep: 1993\n",
      "putin - not in vocab of timestep: 1994\n",
      "putin - not in vocab of timestep: 1995\n",
      "putin - not in vocab of timestep: 1997\n",
      "putin - not in vocab of timestep: 1998\n",
      "All words are contained in the vocabulary\n",
      "putin - not in vocab of timestep: 1990\n",
      "putin - not in vocab of timestep: 1991\n",
      "putin - not in vocab of timestep: 1992\n",
      "putin - not in vocab of timestep: 1993\n",
      "putin - not in vocab of timestep: 1994\n",
      "putin - not in vocab of timestep: 1995\n",
      "putin - not in vocab of timestep: 1997\n",
      "putin - not in vocab of timestep: 1998\n",
      "All words are contained in the vocabulary\n",
      "putin - not in vocab of timestep: 1990\n",
      "putin - not in vocab of timestep: 1991\n",
      "putin - not in vocab of timestep: 1992\n",
      "putin - not in vocab of timestep: 1993\n",
      "putin - not in vocab of timestep: 1994\n",
      "putin - not in vocab of timestep: 1995\n",
      "putin - not in vocab of timestep: 1997\n",
      "putin - not in vocab of timestep: 1998\n",
      "All words are contained in the vocabulary\n",
      "putin - not in vocab of timestep: 1990\n",
      "putin - not in vocab of timestep: 1991\n",
      "putin - not in vocab of timestep: 1992\n",
      "putin - not in vocab of timestep: 1993\n",
      "putin - not in vocab of timestep: 1994\n",
      "putin - not in vocab of timestep: 1995\n",
      "putin - not in vocab of timestep: 1997\n",
      "putin - not in vocab of timestep: 1998\n",
      "All words are contained in the vocabulary\n",
      "quayle - not in vocab of timestep: 2002\n",
      "quayle - not in vocab of timestep: 2005\n",
      "quayle - not in vocab of timestep: 2014\n",
      "quayle - not in vocab of timestep: 2016\n",
      "All words are contained in the vocabulary\n",
      "quayle - not in vocab of timestep: 2002\n",
      "quayle - not in vocab of timestep: 2005\n",
      "quayle - not in vocab of timestep: 2014\n",
      "quayle - not in vocab of timestep: 2016\n",
      "All words are contained in the vocabulary\n",
      "rabin - not in vocab of timestep: 1990\n",
      "All words are contained in the vocabulary\n",
      "rabin - not in vocab of timestep: 1990\n",
      "All words are contained in the vocabulary\n",
      "rabin - not in vocab of timestep: 1990\n",
      "All words are contained in the vocabulary\n",
      "All words are contained in the vocabulary\n",
      "ravens - not in vocab of timestep: 1990\n",
      "ravens - not in vocab of timestep: 1992\n",
      "All words are contained in the vocabulary\n",
      "ravens - not in vocab of timestep: 1990\n",
      "ravens - not in vocab of timestep: 1992\n",
      "All words are contained in the vocabulary\n",
      "All words are contained in the vocabulary\n",
      "All words are contained in the vocabulary\n",
      "All words are contained in the vocabulary\n",
      "All words are contained in the vocabulary\n",
      "All words are contained in the vocabulary\n",
      "All words are contained in the vocabulary\n",
      "All words are contained in the vocabulary\n",
      "All words are contained in the vocabulary\n",
      "All words are contained in the vocabulary\n",
      "All words are contained in the vocabulary\n",
      "All words are contained in the vocabulary\n",
      "All words are contained in the vocabulary\n",
      "All words are contained in the vocabulary\n",
      "All words are contained in the vocabulary\n",
      "All words are contained in the vocabulary\n",
      "All words are contained in the vocabulary\n",
      "All words are contained in the vocabulary\n",
      "All words are contained in the vocabulary\n",
      "All words are contained in the vocabulary\n",
      "All words are contained in the vocabulary\n",
      "All words are contained in the vocabulary\n",
      "All words are contained in the vocabulary\n",
      "All words are contained in the vocabulary\n",
      "All words are contained in the vocabulary\n",
      "All words are contained in the vocabulary\n",
      "All words are contained in the vocabulary\n",
      "All words are contained in the vocabulary\n",
      "All words are contained in the vocabulary\n",
      "All words are contained in the vocabulary\n",
      "All words are contained in the vocabulary\n",
      "All words are contained in the vocabulary\n",
      "All words are contained in the vocabulary\n",
      "All words are contained in the vocabulary\n",
      "All words are contained in the vocabulary\n",
      "All words are contained in the vocabulary\n",
      "All words are contained in the vocabulary\n",
      "roddick - not in vocab of timestep: 1990\n",
      "roddick - not in vocab of timestep: 1991\n",
      "roddick - not in vocab of timestep: 1992\n",
      "roddick - not in vocab of timestep: 1993\n",
      "roddick - not in vocab of timestep: 1995\n",
      "roddick - not in vocab of timestep: 1996\n",
      "roddick - not in vocab of timestep: 1997\n",
      "roddick - not in vocab of timestep: 1998\n",
      "roddick - not in vocab of timestep: 1999\n",
      "roddick - not in vocab of timestep: 2000\n",
      "roddick - not in vocab of timestep: 2015\n",
      "All words are contained in the vocabulary\n",
      "All words are contained in the vocabulary\n",
      "All words are contained in the vocabulary\n",
      "All words are contained in the vocabulary\n",
      "All words are contained in the vocabulary\n",
      "All words are contained in the vocabulary\n",
      "All words are contained in the vocabulary\n",
      "All words are contained in the vocabulary\n",
      "All words are contained in the vocabulary\n",
      "sarkozy - not in vocab of timestep: 1990\n",
      "sarkozy - not in vocab of timestep: 1991\n",
      "sarkozy - not in vocab of timestep: 1992\n",
      "sarkozy - not in vocab of timestep: 1993\n",
      "sarkozy - not in vocab of timestep: 1994\n",
      "sarkozy - not in vocab of timestep: 1995\n",
      "sarkozy - not in vocab of timestep: 1996\n",
      "sarkozy - not in vocab of timestep: 1997\n",
      "sarkozy - not in vocab of timestep: 1998\n",
      "sarkozy - not in vocab of timestep: 1999\n",
      "sarkozy - not in vocab of timestep: 2000\n",
      "sarkozy - not in vocab of timestep: 2001\n",
      "sarkozy - not in vocab of timestep: 2002\n",
      "sarkozy - not in vocab of timestep: 2006\n",
      "All words are contained in the vocabulary\n",
      "sarkozy - not in vocab of timestep: 1990\n",
      "sarkozy - not in vocab of timestep: 1991\n",
      "sarkozy - not in vocab of timestep: 1992\n",
      "sarkozy - not in vocab of timestep: 1993\n",
      "sarkozy - not in vocab of timestep: 1994\n",
      "sarkozy - not in vocab of timestep: 1995\n",
      "sarkozy - not in vocab of timestep: 1996\n",
      "sarkozy - not in vocab of timestep: 1997\n",
      "sarkozy - not in vocab of timestep: 1998\n",
      "sarkozy - not in vocab of timestep: 1999\n",
      "sarkozy - not in vocab of timestep: 2000\n",
      "sarkozy - not in vocab of timestep: 2001\n",
      "sarkozy - not in vocab of timestep: 2002\n",
      "sarkozy - not in vocab of timestep: 2006\n",
      "All words are contained in the vocabulary\n",
      "sarkozy - not in vocab of timestep: 1990\n",
      "sarkozy - not in vocab of timestep: 1991\n",
      "sarkozy - not in vocab of timestep: 1992\n",
      "sarkozy - not in vocab of timestep: 1993\n",
      "sarkozy - not in vocab of timestep: 1994\n",
      "sarkozy - not in vocab of timestep: 1995\n",
      "sarkozy - not in vocab of timestep: 1996\n",
      "sarkozy - not in vocab of timestep: 1997\n",
      "sarkozy - not in vocab of timestep: 1998\n",
      "sarkozy - not in vocab of timestep: 1999\n",
      "sarkozy - not in vocab of timestep: 2000\n",
      "sarkozy - not in vocab of timestep: 2001\n",
      "sarkozy - not in vocab of timestep: 2002\n",
      "sarkozy - not in vocab of timestep: 2006\n",
      "All words are contained in the vocabulary\n",
      "sarkozy - not in vocab of timestep: 1990\n",
      "sarkozy - not in vocab of timestep: 1991\n",
      "sarkozy - not in vocab of timestep: 1992\n",
      "sarkozy - not in vocab of timestep: 1993\n",
      "sarkozy - not in vocab of timestep: 1994\n",
      "sarkozy - not in vocab of timestep: 1995\n",
      "sarkozy - not in vocab of timestep: 1996\n",
      "sarkozy - not in vocab of timestep: 1997\n",
      "sarkozy - not in vocab of timestep: 1998\n",
      "sarkozy - not in vocab of timestep: 1999\n",
      "sarkozy - not in vocab of timestep: 2000\n",
      "sarkozy - not in vocab of timestep: 2001\n",
      "sarkozy - not in vocab of timestep: 2002\n",
      "sarkozy - not in vocab of timestep: 2006\n",
      "All words are contained in the vocabulary\n",
      "sarkozy - not in vocab of timestep: 1990\n",
      "sarkozy - not in vocab of timestep: 1991\n",
      "sarkozy - not in vocab of timestep: 1992\n",
      "sarkozy - not in vocab of timestep: 1993\n",
      "sarkozy - not in vocab of timestep: 1994\n",
      "sarkozy - not in vocab of timestep: 1995\n",
      "sarkozy - not in vocab of timestep: 1996\n",
      "sarkozy - not in vocab of timestep: 1997\n",
      "sarkozy - not in vocab of timestep: 1998\n",
      "sarkozy - not in vocab of timestep: 1999\n",
      "sarkozy - not in vocab of timestep: 2000\n",
      "sarkozy - not in vocab of timestep: 2001\n",
      "sarkozy - not in vocab of timestep: 2002\n",
      "sarkozy - not in vocab of timestep: 2006\n",
      "All words are contained in the vocabulary\n",
      "sars - not in vocab of timestep: 1990\n",
      "sars - not in vocab of timestep: 1991\n",
      "sars - not in vocab of timestep: 1992\n",
      "sars - not in vocab of timestep: 1993\n",
      "sars - not in vocab of timestep: 1994\n",
      "sars - not in vocab of timestep: 1995\n",
      "sars - not in vocab of timestep: 1996\n",
      "sars - not in vocab of timestep: 1997\n",
      "sars - not in vocab of timestep: 1999\n",
      "sars - not in vocab of timestep: 2000\n",
      "sars - not in vocab of timestep: 2001\n",
      "sars - not in vocab of timestep: 2002\n",
      "sars - not in vocab of timestep: 2006\n",
      "sars - not in vocab of timestep: 2007\n",
      "sars - not in vocab of timestep: 2010\n",
      "sars - not in vocab of timestep: 2016\n",
      "All words are contained in the vocabulary\n",
      "All words are contained in the vocabulary\n",
      "All words are contained in the vocabulary\n",
      "All words are contained in the vocabulary\n",
      "All words are contained in the vocabulary\n",
      "All words are contained in the vocabulary\n",
      "All words are contained in the vocabulary\n",
      "All words are contained in the vocabulary\n",
      "All words are contained in the vocabulary\n",
      "All words are contained in the vocabulary\n",
      "shelton - not in vocab of timestep: 1993\n",
      "All words are contained in the vocabulary\n",
      "shelton - not in vocab of timestep: 1993\n",
      "All words are contained in the vocabulary\n",
      "shelton - not in vocab of timestep: 1993\n",
      "All words are contained in the vocabulary\n",
      "shelton - not in vocab of timestep: 1993\n",
      "All words are contained in the vocabulary\n",
      "All words are contained in the vocabulary\n",
      "All words are contained in the vocabulary\n",
      "All words are contained in the vocabulary\n",
      "All words are contained in the vocabulary\n",
      "All words are contained in the vocabulary\n",
      "All words are contained in the vocabulary\n",
      "All words are contained in the vocabulary\n",
      "All words are contained in the vocabulary\n",
      "All words are contained in the vocabulary\n",
      "All words are contained in the vocabulary\n",
      "spacey - not in vocab of timestep: 1990\n",
      "spacey - not in vocab of timestep: 1993\n",
      "spacey - not in vocab of timestep: 1995\n",
      "spacey - not in vocab of timestep: 2016\n",
      "All words are contained in the vocabulary\n",
      "All words are contained in the vocabulary\n",
      "All words are contained in the vocabulary\n",
      "All words are contained in the vocabulary\n",
      "All words are contained in the vocabulary\n",
      "All words are contained in the vocabulary\n",
      "All words are contained in the vocabulary\n",
      "All words are contained in the vocabulary\n",
      "All words are contained in the vocabulary\n",
      "All words are contained in the vocabulary\n",
      "All words are contained in the vocabulary\n",
      "All words are contained in the vocabulary\n",
      "All words are contained in the vocabulary\n",
      "All words are contained in the vocabulary\n",
      "All words are contained in the vocabulary\n",
      "All words are contained in the vocabulary\n",
      "All words are contained in the vocabulary\n",
      "All words are contained in the vocabulary\n",
      "All words are contained in the vocabulary\n",
      "All words are contained in the vocabulary\n",
      "All words are contained in the vocabulary\n",
      "yeltsin - not in vocab of timestep: 2006\n",
      "yeltsin - not in vocab of timestep: 2010\n",
      "All words are contained in the vocabulary\n",
      "yeltsin - not in vocab of timestep: 2006\n",
      "yeltsin - not in vocab of timestep: 2010\n",
      "All words are contained in the vocabulary\n",
      "yeltsin - not in vocab of timestep: 2006\n",
      "yeltsin - not in vocab of timestep: 2010\n",
      "All words are contained in the vocabulary\n",
      "yeltsin - not in vocab of timestep: 2006\n",
      "yeltsin - not in vocab of timestep: 2010\n",
      "All words are contained in the vocabulary\n",
      "yeltsin - not in vocab of timestep: 2006\n",
      "yeltsin - not in vocab of timestep: 2010\n",
      "All words are contained in the vocabulary\n",
      "yeltsin - not in vocab of timestep: 2006\n",
      "yeltsin - not in vocab of timestep: 2010\n",
      "All words are contained in the vocabulary\n",
      "yeltsin - not in vocab of timestep: 2006\n",
      "yeltsin - not in vocab of timestep: 2010\n",
      "All words are contained in the vocabulary\n",
      "yeltsin - not in vocab of timestep: 2006\n",
      "yeltsin - not in vocab of timestep: 2010\n",
      "All words are contained in the vocabulary\n",
      "yeltsin - not in vocab of timestep: 2006\n",
      "yeltsin - not in vocab of timestep: 2010\n",
      "All words are contained in the vocabulary\n",
      "zika - not in vocab of timestep: 1990\n",
      "zika - not in vocab of timestep: 1991\n",
      "zika - not in vocab of timestep: 1992\n",
      "zika - not in vocab of timestep: 1993\n",
      "zika - not in vocab of timestep: 1994\n",
      "zika - not in vocab of timestep: 1995\n",
      "zika - not in vocab of timestep: 1997\n",
      "zika - not in vocab of timestep: 1998\n",
      "zika - not in vocab of timestep: 1999\n",
      "zika - not in vocab of timestep: 2000\n",
      "zika - not in vocab of timestep: 2001\n",
      "zika - not in vocab of timestep: 2002\n",
      "zika - not in vocab of timestep: 2003\n",
      "zika - not in vocab of timestep: 2004\n",
      "zika - not in vocab of timestep: 2005\n",
      "zika - not in vocab of timestep: 2006\n",
      "zika - not in vocab of timestep: 2007\n",
      "zika - not in vocab of timestep: 2008\n",
      "zika - not in vocab of timestep: 2009\n",
      "zika - not in vocab of timestep: 2011\n",
      "zika - not in vocab of timestep: 2012\n",
      "zika - not in vocab of timestep: 2013\n",
      "zika - not in vocab of timestep: 2014\n",
      "zika - not in vocab of timestep: 2015\n",
      "2 Testcases are not in the vocab of the model\n"
     ]
    }
   ],
   "source": [
    "test_case_dict_tppmi = create_test_case_dict_tppmi(tppmi_model, test_cases_1_all)"
   ],
   "metadata": {
    "collapsed": false
   }
  },
  {
   "cell_type": "code",
   "execution_count": 60,
   "outputs": [],
   "source": [
    "# similarities_tppmi = get_similarites_of_models_tppmi(tppmi_model, test_case_dict_tppmi)"
   ],
   "metadata": {
    "collapsed": false
   }
  },
  {
   "cell_type": "code",
   "execution_count": 61,
   "outputs": [],
   "source": [
    "'''test_cade = similarities_cade_all[next(iter(similarities_cade_all))]\n",
    "test_tppmi = similarities_tppmi[next(iter(similarities_tppmi))]\n",
    "\n",
    "similarities_tppmi''';"
   ],
   "metadata": {
    "collapsed": false
   }
  },
  {
   "cell_type": "markdown",
   "source": [
    "# Experiment"
   ],
   "metadata": {
    "collapsed": false
   }
  },
  {
   "cell_type": "markdown",
   "source": [
    "To examine the quality of embedding alignment, we create a task to query equivalences across years.\n",
    "\n",
    "For example, given obama-2012, we want to query its equivalent word in 2002. As we know obama is the U.S. president in 2012; its equivalent in 2002 is bush, who was the U.S. president at that time. In this way, we create two testsets.\n",
    "\n",
    "All results are rounded to three decimal places."
   ],
   "metadata": {
    "collapsed": false
   }
  },
  {
   "cell_type": "code",
   "execution_count": 62,
   "outputs": [],
   "source": [
    "cutoffs = [1, 3, 5, 10]\n",
    "list_of_types = [\"static\", \"dynamic\", \"all\"]\n",
    "\n",
    "list_of_data_cade = [[similarities_cade_static, test_data_1_static],\n",
    "                     [similarities_cade_dynamic, test_data_1_dynamic], [similarities_cade_all, test_data_1_all]]\n",
    "list_of_data_static = [[similarities_static_static, test_data_1_static],\n",
    "                       [similarities_static_dynamic, test_data_1_dynamic], [similarities_static_all, test_data_1_all]]\n",
    "\n",
    "config_dict_cade = {key: value for key, value in zip(list_of_types, list_of_data_cade)}\n",
    "config_dict_static = {key: value for key, value in zip(list_of_types, list_of_data_static)}\n",
    "\n",
    "scores_cade = {key: dict() for key in list_of_types}\n",
    "scores_static = {key: dict() for key in list_of_types}"
   ],
   "metadata": {
    "collapsed": false
   }
  },
  {
   "cell_type": "markdown",
   "source": [
    "## Mean Reciprocal Rank (@10)\n",
    "\n",
    "The Mean Reciprocal Rank (MRR) is a statistical measure used to evaluate the performance of a system that returns a ranked list of responses to queries. It is the average of the reciprocal ranks of the first correct answer for each query, where the reciprocal rank is the inverse of the rank at which the first relevant answer is found.\n",
    "It is evaluated @10"
   ],
   "metadata": {
    "collapsed": false
   }
  },
  {
   "cell_type": "markdown",
   "source": [
    "### TWEC"
   ],
   "metadata": {
    "collapsed": false
   }
  },
  {
   "cell_type": "code",
   "execution_count": 63,
   "outputs": [
    {
     "data": {
      "text/plain": "  0%|          | 0/3 [00:00<?, ?it/s]",
      "application/vnd.jupyter.widget-view+json": {
       "version_major": 2,
       "version_minor": 0,
       "model_id": "869dc3581a51497ca5b68554164c76cd"
      },
      "application/json": {
       "n": 0,
       "total": 3,
       "elapsed": 0.0019311904907226562,
       "ncols": null,
       "nrows": null,
       "prefix": "",
       "ascii": false,
       "unit": "it",
       "unit_scale": false,
       "rate": null,
       "bar_format": null,
       "postfix": null,
       "unit_divisor": 1000,
       "initial": 0,
       "colour": null
      }
     },
     "metadata": {},
     "output_type": "display_data"
    }
   ],
   "source": [
    "for key, value in tqdm(config_dict_cade.items()):\n",
    "    scores_cade[key][\"mrr@10\"] = round(calculate_rank_metric(value[0], value[1], metric='MRR'), 3)"
   ],
   "metadata": {
    "collapsed": false
   }
  },
  {
   "cell_type": "markdown",
   "source": [
    "### Static Word2Vec"
   ],
   "metadata": {
    "collapsed": false
   }
  },
  {
   "cell_type": "code",
   "execution_count": 64,
   "outputs": [
    {
     "data": {
      "text/plain": "  0%|          | 0/3 [00:00<?, ?it/s]",
      "application/vnd.jupyter.widget-view+json": {
       "version_major": 2,
       "version_minor": 0,
       "model_id": "975f6636157a410cad76cf0db5af9382"
      },
      "application/json": {
       "n": 0,
       "total": 3,
       "elapsed": 0.0018608570098876953,
       "ncols": null,
       "nrows": null,
       "prefix": "",
       "ascii": false,
       "unit": "it",
       "unit_scale": false,
       "rate": null,
       "bar_format": null,
       "postfix": null,
       "unit_divisor": 1000,
       "initial": 0,
       "colour": null
      }
     },
     "metadata": {},
     "output_type": "display_data"
    }
   ],
   "source": [
    "for key, value in tqdm(config_dict_static.items()):\n",
    "    scores_static[key][\"mrr@10\"] = round(calculate_rank_metric_static(value[0], value[1], metric='MRR'), 3)"
   ],
   "metadata": {
    "collapsed": false
   }
  },
  {
   "cell_type": "markdown",
   "source": [
    "## Mean Precision (@K)\n",
    "\n",
    "As introduced by Yao et al.(2018) the MP@K is defined as such: consider the K words most similar to the query embedding for the given year. The Precision@K for a particular test i, represented as P@K[i], equals 1 if the target word appears within this set of K words; otherwise, it assumes a value of 0."
   ],
   "metadata": {
    "collapsed": false
   }
  },
  {
   "cell_type": "markdown",
   "source": [
    "### TWEC"
   ],
   "metadata": {
    "collapsed": false
   }
  },
  {
   "cell_type": "code",
   "execution_count": 65,
   "outputs": [
    {
     "data": {
      "text/plain": "  0%|          | 0/3 [00:00<?, ?it/s]",
      "application/vnd.jupyter.widget-view+json": {
       "version_major": 2,
       "version_minor": 0,
       "model_id": "26f410e0c05a4c13abc59976db7a03b9"
      },
      "application/json": {
       "n": 0,
       "total": 3,
       "elapsed": 0.002125978469848633,
       "ncols": null,
       "nrows": null,
       "prefix": "",
       "ascii": false,
       "unit": "it",
       "unit_scale": false,
       "rate": null,
       "bar_format": null,
       "postfix": null,
       "unit_divisor": 1000,
       "initial": 0,
       "colour": null
      }
     },
     "metadata": {},
     "output_type": "display_data"
    }
   ],
   "source": [
    "for key, value in tqdm(config_dict_cade.items()):\n",
    "    for k in cutoffs:\n",
    "        score_key = f\"mp@{k}\"\n",
    "        scores_cade[key][score_key] = round(calculate_rank_metric(value[0], value[1], metric='MP', k=k), 3)"
   ],
   "metadata": {
    "collapsed": false
   }
  },
  {
   "cell_type": "markdown",
   "source": [
    "### Static Word2Vec"
   ],
   "metadata": {
    "collapsed": false
   }
  },
  {
   "cell_type": "code",
   "execution_count": 66,
   "outputs": [
    {
     "data": {
      "text/plain": "  0%|          | 0/3 [00:00<?, ?it/s]",
      "application/vnd.jupyter.widget-view+json": {
       "version_major": 2,
       "version_minor": 0,
       "model_id": "2938c28f24cc483c9c0bef8242b46fcc"
      },
      "application/json": {
       "n": 0,
       "total": 3,
       "elapsed": 0.0026731491088867188,
       "ncols": null,
       "nrows": null,
       "prefix": "",
       "ascii": false,
       "unit": "it",
       "unit_scale": false,
       "rate": null,
       "bar_format": null,
       "postfix": null,
       "unit_divisor": 1000,
       "initial": 0,
       "colour": null
      }
     },
     "metadata": {},
     "output_type": "display_data"
    }
   ],
   "source": [
    "for key, value in tqdm(config_dict_static.items()):\n",
    "    for k in cutoffs:\n",
    "        score_key = f\"mp@{k}\"\n",
    "        scores_static[key][score_key] = round(calculate_rank_metric_static(value[0], value[1], metric='MP', k=k), 3)"
   ],
   "metadata": {
    "collapsed": false
   }
  },
  {
   "cell_type": "markdown",
   "source": [
    "## Results"
   ],
   "metadata": {
    "collapsed": false
   }
  },
  {
   "cell_type": "code",
   "execution_count": 67,
   "outputs": [
    {
     "name": "stdout",
     "output_type": "stream",
     "text": [
      "Scores of TWEC\n"
     ]
    },
    {
     "data": {
      "text/plain": "         mrr@10   mp@1   mp@3   mp@5  mp@10\nstatic    0.583  0.501  0.649  0.696  0.741\ndynamic   0.341  0.260  0.400  0.450  0.511\nall       0.390  0.310  0.450  0.500  0.555",
      "text/html": "<div>\n<style scoped>\n    .dataframe tbody tr th:only-of-type {\n        vertical-align: middle;\n    }\n\n    .dataframe tbody tr th {\n        vertical-align: top;\n    }\n\n    .dataframe thead th {\n        text-align: right;\n    }\n</style>\n<table border=\"1\" class=\"dataframe\">\n  <thead>\n    <tr style=\"text-align: right;\">\n      <th></th>\n      <th>mrr@10</th>\n      <th>mp@1</th>\n      <th>mp@3</th>\n      <th>mp@5</th>\n      <th>mp@10</th>\n    </tr>\n  </thead>\n  <tbody>\n    <tr>\n      <th>static</th>\n      <td>0.583</td>\n      <td>0.501</td>\n      <td>0.649</td>\n      <td>0.696</td>\n      <td>0.741</td>\n    </tr>\n    <tr>\n      <th>dynamic</th>\n      <td>0.341</td>\n      <td>0.260</td>\n      <td>0.400</td>\n      <td>0.450</td>\n      <td>0.511</td>\n    </tr>\n    <tr>\n      <th>all</th>\n      <td>0.390</td>\n      <td>0.310</td>\n      <td>0.450</td>\n      <td>0.500</td>\n      <td>0.555</td>\n    </tr>\n  </tbody>\n</table>\n</div>"
     },
     "metadata": {},
     "output_type": "display_data"
    },
    {
     "name": "stdout",
     "output_type": "stream",
     "text": [
      "Scores of Static Word2Vec (Baseline)\n"
     ]
    },
    {
     "data": {
      "text/plain": "         mrr@10   mp@1   mp@3   mp@5  mp@10\nstatic    1.000  1.000  1.000  1.000  1.000\ndynamic   0.147  0.000  0.240  0.372  0.463\nall       0.374  0.266  0.442  0.539  0.606",
      "text/html": "<div>\n<style scoped>\n    .dataframe tbody tr th:only-of-type {\n        vertical-align: middle;\n    }\n\n    .dataframe tbody tr th {\n        vertical-align: top;\n    }\n\n    .dataframe thead th {\n        text-align: right;\n    }\n</style>\n<table border=\"1\" class=\"dataframe\">\n  <thead>\n    <tr style=\"text-align: right;\">\n      <th></th>\n      <th>mrr@10</th>\n      <th>mp@1</th>\n      <th>mp@3</th>\n      <th>mp@5</th>\n      <th>mp@10</th>\n    </tr>\n  </thead>\n  <tbody>\n    <tr>\n      <th>static</th>\n      <td>1.000</td>\n      <td>1.000</td>\n      <td>1.000</td>\n      <td>1.000</td>\n      <td>1.000</td>\n    </tr>\n    <tr>\n      <th>dynamic</th>\n      <td>0.147</td>\n      <td>0.000</td>\n      <td>0.240</td>\n      <td>0.372</td>\n      <td>0.463</td>\n    </tr>\n    <tr>\n      <th>all</th>\n      <td>0.374</td>\n      <td>0.266</td>\n      <td>0.442</td>\n      <td>0.539</td>\n      <td>0.606</td>\n    </tr>\n  </tbody>\n</table>\n</div>"
     },
     "metadata": {},
     "output_type": "display_data"
    }
   ],
   "source": [
    "score_table_cade = pd.DataFrame(scores_cade).T\n",
    "score_table_static = pd.DataFrame(scores_static).T\n",
    "print(\"Scores of TWEC\")\n",
    "display(score_table_cade)\n",
    "print(\"Scores of Static Word2Vec (Baseline)\")\n",
    "display(score_table_static)"
   ],
   "metadata": {
    "collapsed": false
   }
  },
  {
   "cell_type": "markdown",
   "source": [
    "----------------------------------------------------------------------------------------------------------------\n",
    "----------------------------------------------------------------------------------------------------------------\n",
    "----------------------------------------------------------------------------------------------------------------"
   ],
   "metadata": {
    "collapsed": false
   }
  },
  {
   "cell_type": "markdown",
   "source": [
    "# Scrapyard"
   ],
   "metadata": {
    "collapsed": false
   }
  },
  {
   "cell_type": "code",
   "execution_count": null,
   "outputs": [],
   "source": [
    "def calculate_mean_reciprocal_rank_test(test_key: str, testcase: dict, test_data: pd.DataFrame):\n",
    "    print(test_key)\n",
    "    test_data_for_key = test_data[test_data[\"truth\"] == test_key]\n",
    "    print(\"test_data_for_key\")\n",
    "    print(f\"length: {len(test_data_for_key)}\")\n",
    "    print(test_data_for_key)\n",
    "    ranks = []\n",
    "    for key, value in testcase.items():\n",
    "        print(f\"Key: {key}\")\n",
    "        test_data_for_year = test_data_for_key[test_data_for_key[\"equivalent\"].str.endswith(key)]\n",
    "        word_list = [item[0] for item in value]\n",
    "        print(\"WORD-LIST\")\n",
    "        print(word_list)\n",
    "        if len(test_data_for_year) == 0:\n",
    "            print(\"CONTINUE\")\n",
    "            continue # this means that it is the same year as the word we want to test --> no need to calculate\n",
    "        print(\"test_data_for_year\")\n",
    "        print(test_data_for_year)\n",
    "        print(test_data_for_year[\"equivalent\"].iloc[0].split(\"-\")[0])\n",
    "        reciprocal_rank = calculate_reciprocal_rank(word_list, test_data_for_year[\"equivalent\"].iloc[0].split(\"-\")[0])\n",
    "        print(reciprocal_rank)\n",
    "        ranks.append(reciprocal_rank)\n",
    "\n",
    "    if ranks:  # Ensure division by zero does not occur\n",
    "        mrr = sum(ranks) / len(ranks)\n",
    "    else:\n",
    "        mrr = 0\n",
    "    return mrr"
   ],
   "metadata": {
    "collapsed": false
   }
  },
  {
   "cell_type": "code",
   "execution_count": null,
   "outputs": [],
   "source": [
    "def calculate_mrr_for_key(data_dict, key):\n",
    "    \"\"\"\n",
    "    Calculate the Mean Reciprocal Rank (MRR) for a given key in the data dictionary.\n",
    "\n",
    "    Parameters:\n",
    "    data_dict (dict): The dictionary containing years as keys and lists of word-score pairs as values.\n",
    "    key (str): The key in the dictionary to calculate MRR for. Assumes format 'word-year'.\n",
    "\n",
    "    Returns:\n",
    "    float: The MRR for the given key.\n",
    "    \"\"\"\n",
    "    test_word = key.split('-')[0]  # Assuming the \"test word\" is the part of the key before the hyphen\n",
    "    total_reciprocal_rank = 0\n",
    "    num_years = 0\n",
    "\n",
    "    for year, word_score_pairs in data_dict[key].items():\n",
    "        for rank, (word, score) in enumerate(word_score_pairs, start=1):\n",
    "            if word == test_word:\n",
    "                total_reciprocal_rank += 1.0 / rank\n",
    "                break  # Stop looking once the first instance of the test word is found\n",
    "        num_years += 1\n",
    "\n",
    "    # Calculate MRR\n",
    "    if num_years > 0:\n",
    "        return total_reciprocal_rank / num_years\n",
    "    else:\n",
    "        return 0.0  # Return 0 if there are no years/data to calculate MRR"
   ],
   "metadata": {
    "collapsed": false
   }
  },
  {
   "cell_type": "code",
   "execution_count": null,
   "outputs": [],
   "source": [
    "def get_similarities_of_model_manual(model, test_word, top_n = 10) -> list:\n",
    "    # Compute cosine similarity between specified embedding and all embeddings in the model\n",
    "    test_word_embedding = test_word[1]\n",
    "    word_similarities = dict()\n",
    "    for reference_word in model.wv.vocab:\n",
    "        reference_word_embedding = model.wv[reference_word]\n",
    "        similarity = 1 - spatial.distance.cosine(test_word_embedding, reference_word_embedding)\n",
    "        word_similarities[reference_word] = similarity\n",
    "\n",
    "    # Sort words by similarity\n",
    "    sorted_similarities = sorted(word_similarities.items(), key=lambda item: item[1], reverse=True)\n",
    "\n",
    "    print(\"Sorted Similarities\")\n",
    "    print(sorted_similarities[:top_n])\n",
    "\n",
    "    # Get top_n similar words\n",
    "    return sorted_similarities[:top_n]"
   ],
   "metadata": {
    "collapsed": false
   }
  }
 ],
 "metadata": {
  "kernelspec": {
   "display_name": "Python 3",
   "language": "python",
   "name": "python3"
  },
  "language_info": {
   "codemirror_mode": {
    "name": "ipython",
    "version": 2
   },
   "file_extension": ".py",
   "mimetype": "text/x-python",
   "name": "python",
   "nbconvert_exporter": "python",
   "pygments_lexer": "ipython2",
   "version": "2.7.6"
  }
 },
 "nbformat": 4,
 "nbformat_minor": 0
}
