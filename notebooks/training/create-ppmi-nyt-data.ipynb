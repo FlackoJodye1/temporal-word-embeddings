{
 "cells": [
  {
   "cell_type": "markdown",
   "source": [
    "# Creation of Sparse PPMI Embeddings for the NYT Dataset"
   ],
   "metadata": {
    "collapsed": false
   }
  },
  {
   "cell_type": "code",
   "execution_count": 1,
   "outputs": [],
   "source": [
    "import glob\n",
    "import pickle\n",
    "import pandas as pd\n",
    "from pathlib import Path\n",
    "from pprint import pprint\n",
    "from tqdm.notebook import tqdm\n",
    "\n",
    "import sys\n",
    "sys.path.append('../../')\n",
    "\n",
    "from src.packages.TPPMI.ppmi_model import PPMIModel\n",
    "from src.packages.TPPMI.tppmi_model import TPPMIModel\n",
    "import src.packages.TPPMI.util as tppmi_util\n",
    "\n",
    "import nltk\n",
    "# nltk.download('punkt');"
   ],
   "metadata": {
    "collapsed": false
   }
  },
  {
   "cell_type": "markdown",
   "source": [
    "## Setup"
   ],
   "metadata": {
    "collapsed": false
   }
  },
  {
   "cell_type": "code",
   "execution_count": 2,
   "outputs": [],
   "source": [
    "DATA_DIR = Path(\"../../data\")\n",
    "input_dir =  DATA_DIR / \"processed\" / \"nyt-data\"\n",
    "min_freq = 0 # infrequent words have been removed in preprocessing\n",
    "window_size = 5 # default word2vec window-size\n",
    "number_of_context_words = 500"
   ],
   "metadata": {
    "collapsed": false
   }
  },
  {
   "cell_type": "markdown",
   "source": [
    "## Sample Context Words"
   ],
   "metadata": {
    "collapsed": false
   }
  },
  {
   "cell_type": "code",
   "execution_count": 3,
   "outputs": [],
   "source": [
    "df = pd.read_csv(input_dir / \"corpus_all.csv\")\n",
    "df = df[[\"text\"]]"
   ],
   "metadata": {
    "collapsed": false
   }
  },
  {
   "cell_type": "code",
   "execution_count": 4,
   "outputs": [],
   "source": [
    "df = df.dropna()"
   ],
   "metadata": {
    "collapsed": false
   }
  },
  {
   "cell_type": "code",
   "execution_count": 5,
   "outputs": [],
   "source": [
    "corpus = ' '.join(df[\"text\"])"
   ],
   "metadata": {
    "collapsed": false
   }
  },
  {
   "cell_type": "code",
   "execution_count": 6,
   "outputs": [],
   "source": [
    "top_n = max(2 * number_of_context_words, 2000)\n",
    "context_words = tppmi_util.sample_from_most_common_words(corpus, top_n=top_n,\n",
    "                                                         sample_size=number_of_context_words, remove_stopwords=False)"
   ],
   "metadata": {
    "collapsed": false
   }
  },
  {
   "cell_type": "code",
   "execution_count": 7,
   "outputs": [
    {
     "name": "stdout",
     "output_type": "stream",
     "text": [
      "['becoming', 'dec', 'things', 'ever', 'questions', 'peter', 'jury', 'mexico', 'calling', 'offense',\n",
      " 'search', 'federal', 'many', 'property', 'bed', 'sites', 'union', 'none', 'impact', 'pitch',\n",
      " 'faith', 'gets', 'playing', 'points', '1980s', 'fish', 'homes', 'first', 'read', 'higher', 'per',\n",
      " 'think', 'ice', 'science', 'twice', 'chris', 'basketball', 'presence', 'hurt', 'kids', 'japan',\n",
      " 'comments', 'line', 'attention', 'looking', 'described', 'died', '15', 'seasons', 'e', '2',\n",
      " 'program', 'cut', 'specific', 'quiet', 'order', 'action', 'helped', 'basic', 'particular',\n",
      " 'respect', 'facing', 'brother', 'traffic', 'banks', 'numbers', 'father', 'matter', 'run', 'show',\n",
      " 'polls', 'commissioner', 'running', 'wait', 'court', 'left', 'look', 'movement', 'direction',\n",
      " 'feb', 'finally', 'extra', 'pick', '2012', 'reputation', 'make', 'mike', 'johnson', 'explained',\n",
      " 'found', 'standard', 'walked', 'operations', 'daily', 'kill', 'super', 'passed', '1994',\n",
      " 'governor', 'argument', 'bottom', 'uses', 'valley', 'september', 'options', '20', '2007',\n",
      " 'trading', 'opening', 'plane', 'three', '3', 'dont', '1996', 'worst', 'account', 'player', 'takes',\n",
      " 'generation', 'elected', 'menu', 'brown', 'planned', 'partner', 'full', 'houses', 'must',\n",
      " 'district', 'shop', 'trying', 'family', 'male', 'saturday', 'son', 'leaders', 'ask', 'hopes',\n",
      " 'artists', 'market', 'joe', 'business', 'freedom', 'effect', 'eye', 'last', 'directly', 'site',\n",
      " 'measure', 'rangers', 'beach', 'score', 'adding', 'largely', 'receive', '17', 'monday', 'games',\n",
      " 'hundreds', 'expect', 'festival', 'politicians', 'artist', 'sexual', 'havent', '45', 'weeks',\n",
      " 'slow', 'effective', 'taking', 'third', 'shooting', 'photo', 'remember', 'effort', '1993',\n",
      " 'dining', 'dangerous', 'production', 'faces', 'agency', 'reality', 'drawing', 'field', 'authority',\n",
      " 'losing', 'health', 'piece', '80', 'together', 'centers', 'put', 'opponents', 'fashion', 'title',\n",
      " 'performed', 'interests', 'president', 'play', 'whatever', 'mothers', 'king', 'stopped',\n",
      " 'committed', 'j', 'easier', 'behind', 'accept', 'yet', 'shares', 'includes', 'clearly', 'designed',\n",
      " 'neighborhood', 'open', 'parents', 'film', 'gun', 'fell', 'believe', 'rating', 'steps', 'ways',\n",
      " 'management', 'clear', 'van', 'met', 'failed', 'bar', 'written', 'scott', 'financial', 'stuff',\n",
      " 'clinton', 'representative', 'prevent', 'crisis', 'perhaps', 'plenty', 'photos', 'grow', 'joined',\n",
      " 'data', 'writer', 'grew', 'quality', 'oil', 'brooklyn', '7', 'new', 'city', 'increasingly', 'loss',\n",
      " '2001', 'romney', 'problem', 'congressional', 'cold', 'keep', 'called', 'girl', 'jazz', 'block',\n",
      " 'china', 'turn', 'declared', 'rice', 'barely', 'restaurant', 'got', 'images', 'groups', 'original',\n",
      " 'always', 'relations', 'asked', 'proposal', 'truth', 'reason', '2010', 'gives', 'release',\n",
      " 'pictures', 'voters', 'turned', 'features', 'russian', 'dinner', 'round', 'elsewhere', 'spring',\n",
      " 'benefits', 'mother', 'youve', 'longer', 'areas', 'visitors', 'loans', 'published', 'operation',\n",
      " 'dozen', 'actors', 'sets', 'lack', 'one', 'hearing', 'doubt', 'led', 'environmental', 'light',\n",
      " 'sex', 'change', 'attorney', 'estimated', 'jr', 'throughout', 'showed', '5', 'parts', 'complete',\n",
      " 'bank', 'wanted', 'greater', 'age', 'development', 'executives', 'lower', '25', 'sales', 'friday',\n",
      " 'seats', 'watch', 'protect', 'matters', 'emotional', 'interviews', 'knicks', 'go', 'took', 'rest',\n",
      " 'regular', 'begin', 'went', 'dropped', 'goals', 'response', 'brief', 'figures', 'successful',\n",
      " 'horse', 'leaving', 'likely', 'draft', 'professional', 'bit', 'cant', 'isnt', 'ratings', 'period',\n",
      " 'childrens', 'summer', 'books', 'cash', 'relationship', 'works', 'firms', 'jim', 'courts', 'style',\n",
      " 'guard', 'along', 'older', 'quickly', 'positive', 'name', '55', 'married', 'become', 'nice',\n",
      " 'would', 'country', 'january', 'evening', 'quarter', 'seventh', 'conversation', 'increase',\n",
      " 'entertainment', 'lets', 'rather', 'americas', 'eight', 'surprise', 'clubs', 'saying', 'direct',\n",
      " 'single', 'jones', 'energy', 'determined', 'earned', 'catch', 'injury', 'quite', 'built', 'told',\n",
      " 'showing', 'black', 'nearly', 'voice', 'choice', 'add', 'week', 'bill', 'law', 'pop', 'started',\n",
      " 'going', 'soldiers', 'concern', 'focused', 'later', 'reduce', '40', 'charles', 'tournament',\n",
      " 'trip', 'physical', 'citys', 'extraordinary', 'year', 'defensive', 'heavy', 'gov', 'starting',\n",
      " 'advantage', 'reaction', 'necessary', 'process', 'writers', 'april', 'email', 'mets', 'years',\n",
      " 'institute', '2009', 'easy', 'interested', 'hear', 'related', 'early', 'plant', 'month', 'members',\n",
      " 'practice', 'waiting', 'friend', 'government', 'republican', 'brought', 'guys', 'long', 'fear',\n",
      " 'held', 'decisions', 'tour', 'technology', 'information', 'behavior', 'reform', 'door', 'border',\n",
      " 'baseball', 'clean', 'yards', 'driving', 'virginia', 'community', 'analysts', 'effects', 'editor',\n",
      " 'palestinian', 'obvious', 'entire', 'chance', 'song', 'public', 'lee', 'near', 'fifth', 'like',\n",
      " 'players', 'restaurants', 'wind', 'watched', 'central', 'sound', 'upon', 'weight', 'nature',\n",
      " 'blood']\n"
     ]
    }
   ],
   "source": [
    "pprint(context_words, compact=True, width=100)"
   ],
   "metadata": {
    "collapsed": false
   }
  },
  {
   "cell_type": "markdown",
   "source": [
    "## Build Model"
   ],
   "metadata": {
    "collapsed": false
   }
  },
  {
   "cell_type": "code",
   "execution_count": 8,
   "outputs": [],
   "source": [
    "csv_files = glob.glob(str(input_dir /  \"*data.csv\"))\n",
    "\n",
    "# use dict to be able to identify the dfs later on\n",
    "splits = {}"
   ],
   "metadata": {
    "collapsed": false
   }
  },
  {
   "cell_type": "code",
   "execution_count": 9,
   "outputs": [],
   "source": [
    "for filename in csv_files:\n",
    "    df = pd.read_csv(filename)\n",
    "    splits[filename.split(\"_data\")[0][-4:]] = df"
   ],
   "metadata": {
    "collapsed": false
   }
  },
  {
   "cell_type": "code",
   "execution_count": 10,
   "outputs": [
    {
     "data": {
      "text/plain": "  0%|          | 0/27 [00:00<?, ?it/s]",
      "application/vnd.jupyter.widget-view+json": {
       "version_major": 2,
       "version_minor": 0,
       "model_id": "ba61a68614da413bae119d97eae45484"
      },
      "application/json": {
       "n": 0,
       "total": 27,
       "elapsed": 0.005435943603515625,
       "ncols": null,
       "nrows": null,
       "prefix": "",
       "ascii": false,
       "unit": "it",
       "unit_scale": false,
       "rate": null,
       "bar_format": null,
       "postfix": null,
       "unit_divisor": 1000,
       "initial": 0,
       "colour": null
      }
     },
     "metadata": {},
     "output_type": "display_data"
    }
   ],
   "source": [
    "ppmi_models = {key: PPMIModel.construct_from_texts(value, context_words=context_words, min_freq=min_freq) for key, value in tqdm(splits.items())}"
   ],
   "metadata": {
    "collapsed": false
   }
  },
  {
   "cell_type": "markdown",
   "source": [
    "## Control"
   ],
   "metadata": {
    "collapsed": false
   }
  },
  {
   "cell_type": "code",
   "execution_count": 11,
   "outputs": [
    {
     "data": {
      "text/plain": "dict_keys(['2000', '2001', '1997', '1996', '2016', '1990', '1991', '2010', '2011', '2007', '2006', '1994', '1995', '2014', '2015', '2009', '2008', '2003', '2002', '2004', '2005', '1999', '1998', '1993', '1992', '2013', '2012'])"
     },
     "execution_count": 11,
     "metadata": {},
     "output_type": "execute_result"
    }
   ],
   "source": [
    "ppmi_models.keys()"
   ],
   "metadata": {
    "collapsed": false
   }
  },
  {
   "cell_type": "code",
   "execution_count": 12,
   "outputs": [],
   "source": [
    "ppmi_model = ppmi_models[next(iter(ppmi_models))]"
   ],
   "metadata": {
    "collapsed": false
   }
  },
  {
   "cell_type": "code",
   "execution_count": 13,
   "outputs": [
    {
     "data": {
      "text/plain": "(21756, 500)"
     },
     "execution_count": 13,
     "metadata": {},
     "output_type": "execute_result"
    }
   ],
   "source": [
    "ppmi_model.ppmi_matrix.shape"
   ],
   "metadata": {
    "collapsed": false
   }
  },
  {
   "cell_type": "markdown",
   "source": [
    "## Vocabulary"
   ],
   "metadata": {
    "collapsed": false
   }
  },
  {
   "cell_type": "code",
   "execution_count": 14,
   "outputs": [
    {
     "name": "stdout",
     "output_type": "stream",
     "text": [
      "Vocabulary size of timestep 2000: 21756\n",
      "Vocabulary size of timestep 2001: 21780\n",
      "Vocabulary size of timestep 1997: 21357\n",
      "Vocabulary size of timestep 1996: 21602\n",
      "Vocabulary size of timestep 2016: 21334\n",
      "Vocabulary size of timestep 1990: 21238\n",
      "Vocabulary size of timestep 1991: 21387\n",
      "Vocabulary size of timestep 2010: 21798\n",
      "Vocabulary size of timestep 2011: 21820\n",
      "Vocabulary size of timestep 2007: 21931\n",
      "Vocabulary size of timestep 2006: 19104\n",
      "Vocabulary size of timestep 1994: 21503\n",
      "Vocabulary size of timestep 1995: 21520\n",
      "Vocabulary size of timestep 2014: 21856\n",
      "Vocabulary size of timestep 2015: 21853\n",
      "Vocabulary size of timestep 2009: 21810\n",
      "Vocabulary size of timestep 2008: 21935\n",
      "Vocabulary size of timestep 2003: 21836\n",
      "Vocabulary size of timestep 2002: 21822\n",
      "Vocabulary size of timestep 2004: 21906\n",
      "Vocabulary size of timestep 2005: 21906\n",
      "Vocabulary size of timestep 1999: 21709\n",
      "Vocabulary size of timestep 1998: 21699\n",
      "Vocabulary size of timestep 1993: 21439\n",
      "Vocabulary size of timestep 1992: 21437\n",
      "Vocabulary size of timestep 2013: 21870\n",
      "Vocabulary size of timestep 2012: 21902\n"
     ]
    }
   ],
   "source": [
    "for key, ppmi_model in ppmi_models.items():\n",
    "    print(f\"Vocabulary size of timestep {key}: {ppmi_model.get_vocabulary_size()}\")"
   ],
   "metadata": {
    "collapsed": false
   }
  },
  {
   "cell_type": "markdown",
   "source": [
    "## Calulate & Save"
   ],
   "metadata": {
    "collapsed": false
   }
  },
  {
   "cell_type": "code",
   "execution_count": 15,
   "outputs": [
    {
     "ename": "IndentationError",
     "evalue": "expected an indented block (1125737645.py, line 9)",
     "output_type": "error",
     "traceback": [
      "\u001B[0;36m  Cell \u001B[0;32mIn[15], line 9\u001B[0;36m\u001B[0m\n\u001B[0;31m    for key, ppmi_model in ppmi_models.items():\u001B[0m\n\u001B[0m    ^\u001B[0m\n\u001B[0;31mIndentationError\u001B[0m\u001B[0;31m:\u001B[0m expected an indented block\n"
     ]
    }
   ],
   "source": [
    "output_dir = DATA_DIR / \"ppmi-matrices\" / \"nyt-data\"\n",
    "output_dir.mkdir(parents=True, exist_ok=True)\n",
    "\n",
    "# save common context-words\n",
    "with open(output_dir / f\"context-words.pkl\", \"wb\") as f:\n",
    "     #pickle.dump(context_words, f)\n",
    "\n",
    "# save vocab and ppmi-matrices\n",
    "for key, ppmi_model in ppmi_models.items():\n",
    "    ppmi_model.compute_ppmi_matrix(window_size=window_size)\n",
    "    #ppmi_model.save(key, output_dir)\n",
    "\n",
    "print(\"--------------- done ---------------\")\n",
    "print(f\"PPMI-Data stored to: {str(output_dir)}\")\n",
    "print(f\"Number of context-words: {len(context_words)}\")"
   ],
   "metadata": {
    "collapsed": false
   }
  },
  {
   "cell_type": "markdown",
   "source": [
    "## Normalize (optional)"
   ],
   "metadata": {
    "collapsed": false
   }
  },
  {
   "cell_type": "code",
   "execution_count": null,
   "outputs": [],
   "source": [
    "tppmi_model = TPPMIModel(ppmi_models, dates=\"years\")"
   ],
   "metadata": {
    "collapsed": false
   }
  }
 ],
 "metadata": {
  "kernelspec": {
   "display_name": "Python 3",
   "language": "python",
   "name": "python3"
  },
  "language_info": {
   "codemirror_mode": {
    "name": "ipython",
    "version": 2
   },
   "file_extension": ".py",
   "mimetype": "text/x-python",
   "name": "python",
   "nbconvert_exporter": "python",
   "pygments_lexer": "ipython2",
   "version": "2.7.6"
  }
 },
 "nbformat": 4,
 "nbformat_minor": 0
}
