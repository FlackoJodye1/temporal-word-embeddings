{
 "cells": [
  {
   "cell_type": "code",
   "execution_count": 1,
   "outputs": [],
   "source": [
    "%load_ext autoreload"
   ],
   "metadata": {
    "collapsed": false
   }
  },
  {
   "cell_type": "code",
   "execution_count": 2,
   "metadata": {
    "collapsed": true
   },
   "outputs": [],
   "source": [
    "import json\n",
    "import pickle\n",
    "import pandas as pd\n",
    "from glob import glob\n",
    "from pathlib import Path\n",
    "import scipy.sparse as sp\n",
    "from tqdm.notebook import tqdm\n",
    "from gensim.models.word2vec import Word2Vec\n",
    "\n",
    "import sys\n",
    "sys.path.append('../../')\n",
    "\n",
    "import src.test.util as test_util"
   ]
  },
  {
   "cell_type": "markdown",
   "source": [
    "# Imports"
   ],
   "metadata": {
    "collapsed": false
   }
  },
  {
   "cell_type": "code",
   "execution_count": 3,
   "outputs": [],
   "source": [
    "path_to_test_data = Path(\"../../data\") / \"test\"\n",
    "path_to_tppmi_model = Path(\"../../data\") / \"ppmi-matrices\" / \"nyt-data\"\n",
    "path_to_twec_model = Path(\"../../model\") / \"nyt-data\" / \"cade\" / \"model\"\n",
    "path_to_static_model = Path(\"../../model\") / \"nyt-data\" / \"static\""
   ],
   "metadata": {
    "collapsed": false
   }
  },
  {
   "cell_type": "markdown",
   "source": [
    "# Setup"
   ],
   "metadata": {
    "collapsed": false
   }
  },
  {
   "cell_type": "markdown",
   "source": [
    "## Testsets"
   ],
   "metadata": {
    "collapsed": false
   }
  },
  {
   "cell_type": "markdown",
   "source": [
    "### Testset 1\n",
    "\n",
    "Based on publicly recorded knowledge that for each year lists different names for a particular role, such as U.S. president, U.K. prime minister, NFL superbowl champion team, and so on."
   ],
   "metadata": {
    "collapsed": false
   }
  },
  {
   "cell_type": "code",
   "execution_count": 4,
   "outputs": [],
   "source": [
    "test_data_1_all = pd.read_csv(path_to_test_data / \"testset_1.csv\")"
   ],
   "metadata": {
    "collapsed": false
   }
  },
  {
   "cell_type": "code",
   "execution_count": 5,
   "outputs": [],
   "source": [
    "test_data_1_all.columns = ['truth', 'equivalent']"
   ],
   "metadata": {
    "collapsed": false
   }
  },
  {
   "cell_type": "code",
   "execution_count": 6,
   "outputs": [],
   "source": [
    "test_data_1_all = test_data_1_all.sort_values(by='truth', ascending=True)"
   ],
   "metadata": {
    "collapsed": false
   }
  },
  {
   "cell_type": "code",
   "execution_count": 7,
   "outputs": [],
   "source": [
    "test_cases_1_all = test_data_1_all['truth'].unique()"
   ],
   "metadata": {
    "collapsed": false
   }
  },
  {
   "cell_type": "code",
   "execution_count": 8,
   "outputs": [
    {
     "name": "stdout",
     "output_type": "stream",
     "text": [
      "Testset\n",
      "Testcases (all): 11027\n",
      "Testcases (unique): 499\n"
     ]
    }
   ],
   "source": [
    "print(\"Testset\")\n",
    "print(f\"Testcases (all): {len(test_data_1_all)}\")\n",
    "print(f\"Testcases (unique): {len(test_cases_1_all)}\")"
   ],
   "metadata": {
    "collapsed": false
   }
  },
  {
   "cell_type": "markdown",
   "source": [
    "Now we want to split the testset into static & dynamic testcases as was done by Di Carlo et al. in their paper \"Training Temporal Word Embeddings with a Compass\""
   ],
   "metadata": {
    "collapsed": false
   }
  },
  {
   "cell_type": "code",
   "execution_count": 9,
   "outputs": [],
   "source": [
    "# Splitting the columns into words and years\n",
    "split_truth = test_data_1_all['truth'].str.split('-', expand=True)\n",
    "split_equivalent = test_data_1_all['equivalent'].str.split('-', expand=True)\n",
    "\n",
    "# Creating masks for \"static\" and \"dynamic\" conditions\n",
    "static_mask = split_truth[0] == split_equivalent[0]\n",
    "dynamic_mask = split_truth[0] != split_equivalent[0]\n",
    "\n",
    "# Applying the masks to create the separate DataFrames\n",
    "test_data_1_static = test_data_1_all[static_mask]\n",
    "test_data_1_dynamic = test_data_1_all[dynamic_mask]"
   ],
   "metadata": {
    "collapsed": false
   }
  },
  {
   "cell_type": "code",
   "execution_count": 10,
   "outputs": [],
   "source": [
    "test_cases_1_static = test_data_1_static['truth'].unique()\n",
    "test_cases_1_dynamic = test_data_1_dynamic['truth'].unique()"
   ],
   "metadata": {
    "collapsed": false
   }
  },
  {
   "cell_type": "code",
   "execution_count": 11,
   "outputs": [
    {
     "name": "stdout",
     "output_type": "stream",
     "text": [
      "Static\n",
      "Testcases (all): 2937\n",
      "Testcases (unique): 443\n"
     ]
    }
   ],
   "source": [
    "print(\"Static\")\n",
    "print(f\"Testcases (all): {len(test_data_1_static)}\")\n",
    "print(f\"Testcases (unique): {len(test_cases_1_static)}\")"
   ],
   "metadata": {
    "collapsed": false
   }
  },
  {
   "cell_type": "code",
   "execution_count": 12,
   "outputs": [
    {
     "name": "stdout",
     "output_type": "stream",
     "text": [
      "Dynamic\n",
      "Testcases (all): 8090\n",
      "Testcases (unique): 499\n"
     ]
    }
   ],
   "source": [
    "print(\"Dynamic\")\n",
    "print(f\"Testcases (all): {len(test_data_1_dynamic)}\")\n",
    "print(f\"Testcases (unique): {len(test_cases_1_dynamic)}\")"
   ],
   "metadata": {
    "collapsed": false
   }
  },
  {
   "cell_type": "markdown",
   "source": [
    "## Models"
   ],
   "metadata": {
    "collapsed": false
   }
  },
  {
   "cell_type": "markdown",
   "source": [
    "### TWEC"
   ],
   "metadata": {
    "collapsed": false
   }
  },
  {
   "cell_type": "code",
   "execution_count": 13,
   "outputs": [],
   "source": [
    "model_filenames_cade = glob(str(path_to_twec_model / \"*_data.model\"))"
   ],
   "metadata": {
    "collapsed": false
   }
  },
  {
   "cell_type": "code",
   "execution_count": 14,
   "outputs": [
    {
     "data": {
      "text/plain": "['../../model/nyt-data/cade/model/1994_data.model',\n '../../model/nyt-data/cade/model/2000_data.model',\n '../../model/nyt-data/cade/model/1999_data.model',\n '../../model/nyt-data/cade/model/2011_data.model',\n '../../model/nyt-data/cade/model/2008_data.model',\n '../../model/nyt-data/cade/model/2014_data.model',\n '../../model/nyt-data/cade/model/2005_data.model',\n '../../model/nyt-data/cade/model/1991_data.model',\n '../../model/nyt-data/cade/model/1996_data.model',\n '../../model/nyt-data/cade/model/2002_data.model',\n '../../model/nyt-data/cade/model/2013_data.model',\n '../../model/nyt-data/cade/model/2016_data.model',\n '../../model/nyt-data/cade/model/2007_data.model',\n '../../model/nyt-data/cade/model/1993_data.model',\n '../../model/nyt-data/cade/model/2009_data.model',\n '../../model/nyt-data/cade/model/2015_data.model',\n '../../model/nyt-data/cade/model/1990_data.model',\n '../../model/nyt-data/cade/model/2004_data.model',\n '../../model/nyt-data/cade/model/2001_data.model',\n '../../model/nyt-data/cade/model/1995_data.model',\n '../../model/nyt-data/cade/model/1998_data.model',\n '../../model/nyt-data/cade/model/2010_data.model',\n '../../model/nyt-data/cade/model/1992_data.model',\n '../../model/nyt-data/cade/model/2006_data.model',\n '../../model/nyt-data/cade/model/2003_data.model',\n '../../model/nyt-data/cade/model/1997_data.model',\n '../../model/nyt-data/cade/model/2012_data.model']"
     },
     "execution_count": 14,
     "metadata": {},
     "output_type": "execute_result"
    }
   ],
   "source": [
    "model_filenames_cade"
   ],
   "metadata": {
    "collapsed": false
   }
  },
  {
   "cell_type": "code",
   "execution_count": 15,
   "outputs": [
    {
     "data": {
      "text/plain": "  0%|          | 0/27 [00:00<?, ?it/s]",
      "application/vnd.jupyter.widget-view+json": {
       "version_major": 2,
       "version_minor": 0,
       "model_id": "e1892bc062f34c0b8978845798d126e0"
      },
      "application/json": {
       "n": 0,
       "total": 27,
       "elapsed": 0.003029346466064453,
       "ncols": null,
       "nrows": null,
       "prefix": "",
       "ascii": false,
       "unit": "it",
       "unit_scale": false,
       "rate": null,
       "bar_format": null,
       "postfix": null,
       "unit_divisor": 1000,
       "initial": 0,
       "colour": null
      }
     },
     "metadata": {},
     "output_type": "display_data"
    }
   ],
   "source": [
    "# load models\n",
    "models_cade = {f\"model_{model_file.split('_data')[0][-4:]}\":Word2Vec.load(model_file) for model_file in tqdm(model_filenames_cade)}"
   ],
   "metadata": {
    "collapsed": false
   }
  },
  {
   "cell_type": "code",
   "execution_count": 16,
   "outputs": [],
   "source": [
    "models_cade = {model_key: models_cade[model_key] for model_key in sorted(models_cade, key=lambda x: int(x.split('_')[1]))}"
   ],
   "metadata": {
    "collapsed": false
   }
  },
  {
   "cell_type": "code",
   "execution_count": 17,
   "outputs": [
    {
     "data": {
      "text/plain": "dict_keys(['model_1990', 'model_1991', 'model_1992', 'model_1993', 'model_1994', 'model_1995', 'model_1996', 'model_1997', 'model_1998', 'model_1999', 'model_2000', 'model_2001', 'model_2002', 'model_2003', 'model_2004', 'model_2005', 'model_2006', 'model_2007', 'model_2008', 'model_2009', 'model_2010', 'model_2011', 'model_2012', 'model_2013', 'model_2014', 'model_2015', 'model_2016'])"
     },
     "execution_count": 17,
     "metadata": {},
     "output_type": "execute_result"
    }
   ],
   "source": [
    "models_cade.keys()"
   ],
   "metadata": {
    "collapsed": false
   }
  },
  {
   "cell_type": "markdown",
   "source": [
    "Create dictionary of testsets that contain all test-words along with their embedding in the respective year"
   ],
   "metadata": {
    "collapsed": false
   }
  },
  {
   "cell_type": "code",
   "execution_count": 18,
   "outputs": [
    {
     "name": "stdout",
     "output_type": "stream",
     "text": [
      "2 Testcases are not in the vocab of the model(s)\n"
     ]
    }
   ],
   "source": [
    "test_case_dict_cade_all = test_util.create_test_case_dict_cade(test_cases_1_all, models_cade)"
   ],
   "metadata": {
    "collapsed": false
   }
  },
  {
   "cell_type": "code",
   "execution_count": 19,
   "outputs": [
    {
     "name": "stdout",
     "output_type": "stream",
     "text": [
      "2 Testcases are not in the vocab of the model(s)\n"
     ]
    }
   ],
   "source": [
    "test_case_dict_cade_static = test_util.create_test_case_dict_cade(test_cases_1_static, models_cade)"
   ],
   "metadata": {
    "collapsed": false
   }
  },
  {
   "cell_type": "code",
   "execution_count": 20,
   "outputs": [
    {
     "name": "stdout",
     "output_type": "stream",
     "text": [
      "2 Testcases are not in the vocab of the model(s)\n"
     ]
    }
   ],
   "source": [
    "test_case_dict_cade_dynamic = test_util.create_test_case_dict_cade(test_cases_1_dynamic, models_cade)"
   ],
   "metadata": {
    "collapsed": false
   }
  },
  {
   "cell_type": "markdown",
   "source": [
    "Retrieve most similar words for each testword in each year"
   ],
   "metadata": {
    "collapsed": false
   }
  },
  {
   "cell_type": "code",
   "execution_count": 21,
   "outputs": [
    {
     "data": {
      "text/plain": "  0%|          | 0/497 [00:00<?, ?it/s]",
      "application/vnd.jupyter.widget-view+json": {
       "version_major": 2,
       "version_minor": 0,
       "model_id": "09af8d7ce46644c196be26d342eaa38e"
      },
      "application/json": {
       "n": 0,
       "total": 497,
       "elapsed": 0.0017139911651611328,
       "ncols": null,
       "nrows": null,
       "prefix": "",
       "ascii": false,
       "unit": "it",
       "unit_scale": false,
       "rate": null,
       "bar_format": null,
       "postfix": null,
       "unit_divisor": 1000,
       "initial": 0,
       "colour": null
      }
     },
     "metadata": {},
     "output_type": "display_data"
    }
   ],
   "source": [
    "similarities_cade_all = test_util.get_similarities_of_models(models_cade, test_case_dict_cade_all)"
   ],
   "metadata": {
    "collapsed": false
   }
  },
  {
   "cell_type": "code",
   "execution_count": 22,
   "outputs": [
    {
     "data": {
      "text/plain": "  0%|          | 0/441 [00:00<?, ?it/s]",
      "application/vnd.jupyter.widget-view+json": {
       "version_major": 2,
       "version_minor": 0,
       "model_id": "30a5e65652864573ace0d78b6fde1fac"
      },
      "application/json": {
       "n": 0,
       "total": 441,
       "elapsed": 0.005402803421020508,
       "ncols": null,
       "nrows": null,
       "prefix": "",
       "ascii": false,
       "unit": "it",
       "unit_scale": false,
       "rate": null,
       "bar_format": null,
       "postfix": null,
       "unit_divisor": 1000,
       "initial": 0,
       "colour": null
      }
     },
     "metadata": {},
     "output_type": "display_data"
    }
   ],
   "source": [
    "similarities_cade_static = test_util.get_similarities_of_models(models_cade, test_case_dict_cade_static)"
   ],
   "metadata": {
    "collapsed": false
   }
  },
  {
   "cell_type": "code",
   "execution_count": 23,
   "outputs": [
    {
     "data": {
      "text/plain": "  0%|          | 0/497 [00:00<?, ?it/s]",
      "application/vnd.jupyter.widget-view+json": {
       "version_major": 2,
       "version_minor": 0,
       "model_id": "c7fcde5c3ee44ff783719f41eaca393e"
      },
      "application/json": {
       "n": 0,
       "total": 497,
       "elapsed": 0.0017042160034179688,
       "ncols": null,
       "nrows": null,
       "prefix": "",
       "ascii": false,
       "unit": "it",
       "unit_scale": false,
       "rate": null,
       "bar_format": null,
       "postfix": null,
       "unit_divisor": 1000,
       "initial": 0,
       "colour": null
      }
     },
     "metadata": {},
     "output_type": "display_data"
    }
   ],
   "source": [
    "similarities_cade_dynamic = test_util.get_similarities_of_models(models_cade, test_case_dict_cade_dynamic)"
   ],
   "metadata": {
    "collapsed": false
   }
  },
  {
   "cell_type": "markdown",
   "source": [
    "### Static Word2Vec"
   ],
   "metadata": {
    "collapsed": false
   }
  },
  {
   "cell_type": "code",
   "execution_count": 24,
   "outputs": [],
   "source": [
    "model_static = Word2Vec.load(str(path_to_static_model / \"w2v_model.model\"))"
   ],
   "metadata": {
    "collapsed": false
   }
  },
  {
   "cell_type": "code",
   "execution_count": 25,
   "outputs": [
    {
     "name": "stdout",
     "output_type": "stream",
     "text": [
      "0 Testcases are not in the vocab of the model\n"
     ]
    }
   ],
   "source": [
    "test_case_dict_static_all = test_util.create_test_case_dict_static(model_static, test_cases_1_all)"
   ],
   "metadata": {
    "collapsed": false
   }
  },
  {
   "cell_type": "code",
   "execution_count": 26,
   "outputs": [
    {
     "name": "stdout",
     "output_type": "stream",
     "text": [
      "0 Testcases are not in the vocab of the model\n"
     ]
    }
   ],
   "source": [
    "test_case_dict_static_static = test_util.create_test_case_dict_static(model_static, test_cases_1_static)"
   ],
   "metadata": {
    "collapsed": false
   }
  },
  {
   "cell_type": "code",
   "execution_count": 27,
   "outputs": [
    {
     "name": "stdout",
     "output_type": "stream",
     "text": [
      "0 Testcases are not in the vocab of the model\n"
     ]
    }
   ],
   "source": [
    "test_case_dict_static_dynamic = test_util.create_test_case_dict_static(model_static, test_cases_1_dynamic)"
   ],
   "metadata": {
    "collapsed": false
   }
  },
  {
   "cell_type": "code",
   "execution_count": 28,
   "outputs": [
    {
     "data": {
      "text/plain": "  0%|          | 0/499 [00:00<?, ?it/s]",
      "application/vnd.jupyter.widget-view+json": {
       "version_major": 2,
       "version_minor": 0,
       "model_id": "690bf9d341da4e369cdfd2746632e5cc"
      },
      "application/json": {
       "n": 0,
       "total": 499,
       "elapsed": 0.0020051002502441406,
       "ncols": null,
       "nrows": null,
       "prefix": "",
       "ascii": false,
       "unit": "it",
       "unit_scale": false,
       "rate": null,
       "bar_format": null,
       "postfix": null,
       "unit_divisor": 1000,
       "initial": 0,
       "colour": null
      }
     },
     "metadata": {},
     "output_type": "display_data"
    }
   ],
   "source": [
    "similarities_static_all = test_util.get_similarities_of_models_static(model_static, test_case_dict_static_all)"
   ],
   "metadata": {
    "collapsed": false
   }
  },
  {
   "cell_type": "code",
   "execution_count": 29,
   "outputs": [
    {
     "data": {
      "text/plain": "  0%|          | 0/443 [00:00<?, ?it/s]",
      "application/vnd.jupyter.widget-view+json": {
       "version_major": 2,
       "version_minor": 0,
       "model_id": "5c99eb2a7f9842d6a31274da556bd07e"
      },
      "application/json": {
       "n": 0,
       "total": 443,
       "elapsed": 0.002511262893676758,
       "ncols": null,
       "nrows": null,
       "prefix": "",
       "ascii": false,
       "unit": "it",
       "unit_scale": false,
       "rate": null,
       "bar_format": null,
       "postfix": null,
       "unit_divisor": 1000,
       "initial": 0,
       "colour": null
      }
     },
     "metadata": {},
     "output_type": "display_data"
    }
   ],
   "source": [
    "similarities_static_static = test_util.get_similarities_of_models_static(model_static, test_case_dict_static_static)"
   ],
   "metadata": {
    "collapsed": false
   }
  },
  {
   "cell_type": "code",
   "execution_count": 30,
   "outputs": [
    {
     "data": {
      "text/plain": "  0%|          | 0/499 [00:00<?, ?it/s]",
      "application/vnd.jupyter.widget-view+json": {
       "version_major": 2,
       "version_minor": 0,
       "model_id": "ad4f0c910a99466fac471cf7032db100"
      },
      "application/json": {
       "n": 0,
       "total": 499,
       "elapsed": 0.011792182922363281,
       "ncols": null,
       "nrows": null,
       "prefix": "",
       "ascii": false,
       "unit": "it",
       "unit_scale": false,
       "rate": null,
       "bar_format": null,
       "postfix": null,
       "unit_divisor": 1000,
       "initial": 0,
       "colour": null
      }
     },
     "metadata": {},
     "output_type": "display_data"
    }
   ],
   "source": [
    "similarities_static_dynamic = test_util.get_similarities_of_models_static(model_static, test_case_dict_static_dynamic)"
   ],
   "metadata": {
    "collapsed": false
   }
  },
  {
   "cell_type": "markdown",
   "source": [
    "### TPPMI"
   ],
   "metadata": {
    "collapsed": false
   }
  },
  {
   "cell_type": "code",
   "execution_count": 31,
   "outputs": [],
   "source": [
    "%autoreload 2\n",
    "\n",
    "from src.packages.TPPMI.ppmi_model import PPMIModel\n",
    "from src.packages.TPPMI.tppmi_model import TPPMIModel\n",
    "import src.test.util as test_util"
   ],
   "metadata": {
    "collapsed": false
   }
  },
  {
   "cell_type": "code",
   "execution_count": 32,
   "outputs": [],
   "source": [
    "sub_dirs = [\"500\", \"1000\"] # each dir stores ppmi-data with the respective number of context words\n",
    "\n",
    "# Collecting .npz files\n",
    "ppmi_data_files = sorted([file for dir in sub_dirs\n",
    "                          for file in glob(str(path_to_tppmi_model / dir / \"*.npz\"))])\n",
    "\n",
    "# Collecting .pkl files\n",
    "words_files = sorted([file for dir in sub_dirs\n",
    "                      for file in glob(str(path_to_tppmi_model / dir / \"*.pkl\"))])"
   ],
   "metadata": {
    "collapsed": false
   }
  },
  {
   "cell_type": "markdown",
   "source": [
    "Split context-words from timestamped-vocabularies"
   ],
   "metadata": {
    "collapsed": false
   }
  },
  {
   "cell_type": "code",
   "execution_count": 34,
   "outputs": [],
   "source": [
    "context_words_files = [path for path in words_files if \"context-words\" in path]\n",
    "ppmi_vocab_files = [path for path in words_files if \"context-words\" not in path]"
   ],
   "metadata": {
    "collapsed": false
   }
  },
  {
   "cell_type": "code",
   "execution_count": 35,
   "outputs": [
    {
     "name": "stdout",
     "output_type": "stream",
     "text": [
      "../../data/ppmi-matrices/nyt-data/1000/context-words.pkl\n",
      "../../data/ppmi-matrices/nyt-data/500/context-words.pkl\n"
     ]
    }
   ],
   "source": [
    "for context_words_file in context_words_files:\n",
    "    print(context_words_file)"
   ],
   "metadata": {
    "collapsed": false
   }
  },
  {
   "cell_type": "code",
   "execution_count": 36,
   "outputs": [],
   "source": [
    "# Get ppmi-matrices and vocab\n",
    "ppmi_matrices_500 = {}\n",
    "ppmi_matrices_1000 = {}\n",
    "\n",
    "for filenames in zip(ppmi_vocab_files, ppmi_data_files):\n",
    "    ppmi_matrix = sp.load_npz(filenames[1])\n",
    "    with open(filenames[0], \"rb\") as f:\n",
    "        vocab = pickle.load(f)\n",
    "    key = filenames[0].split(\"ppmi-\")[2][0:4]\n",
    "    if \"500\" in filenames[0] and \"500\" in filenames[1]:\n",
    "        ppmi_matrices_500[key] = {\"ppmi_matrix\" : ppmi_matrix, \"vocab\": vocab}\n",
    "    elif \"1000\" in filenames[0] and \"1000\" in filenames[1]:\n",
    "        ppmi_matrices_1000[key] = {\"ppmi_matrix\" : ppmi_matrix, \"vocab\": vocab}\n",
    "    else:\n",
    "        raise Exception\n",
    "\n",
    "# Get common context-words\n",
    "for context_words_file in context_words_files:\n",
    "    with open(context_words_file, \"rb\") as f:\n",
    "        if \"500\" in str(context_words_file):\n",
    "            context_words_500 = pickle.load(f)\n",
    "        elif \"1000\" in str(context_words_file):\n",
    "            context_words_1000 = pickle.load(f)\n",
    "        else:\n",
    "            print(context_words_file)\n",
    "            raise Exception"
   ],
   "metadata": {
    "collapsed": false
   }
  },
  {
   "cell_type": "code",
   "execution_count": 37,
   "outputs": [
    {
     "data": {
      "text/plain": "dict_keys(['1990', '1991', '1992', '1993', '1994', '1995', '1996', '1997', '1998', '1999', '2000', '2001', '2002', '2003', '2004', '2005', '2006', '2007', '2008', '2009', '2010', '2011', '2012', '2013', '2014', '2015', '2016'])"
     },
     "execution_count": 37,
     "metadata": {},
     "output_type": "execute_result"
    }
   ],
   "source": [
    "ppmi_matrices_500.keys()"
   ],
   "metadata": {
    "collapsed": false
   }
  },
  {
   "cell_type": "markdown",
   "source": [
    "Create ppmi_model objects"
   ],
   "metadata": {
    "collapsed": false
   }
  },
  {
   "cell_type": "code",
   "execution_count": 38,
   "outputs": [],
   "source": [
    "ppmi_models_500 = {key: PPMIModel.construct_from_data(ppmi_data[\"ppmi_matrix\"], ppmi_data[\"vocab\"], context_words_500, normalize=True) for key, ppmi_data in ppmi_matrices_500.items()}\n",
    "\n",
    "ppmi_models_1000 = {key: PPMIModel.construct_from_data(ppmi_data[\"ppmi_matrix\"], ppmi_data[\"vocab\"], context_words_1000, normalize=True) for key, ppmi_data in ppmi_matrices_1000.items()}"
   ],
   "metadata": {
    "collapsed": false
   }
  },
  {
   "cell_type": "code",
   "execution_count": 39,
   "outputs": [],
   "source": [
    "tppmi_model_500 = TPPMIModel(ppmi_models_500, dates=\"years\", smooth=False)\n",
    "tppmi_model_1000 = TPPMIModel(ppmi_models_1000, dates=\"years\", smooth=False)"
   ],
   "metadata": {
    "collapsed": false
   }
  },
  {
   "cell_type": "code",
   "execution_count": 40,
   "outputs": [
    {
     "name": "stdout",
     "output_type": "stream",
     "text": [
      "19 Testcases are not in the vocab of the model\n"
     ]
    }
   ],
   "source": [
    "test_case_dict_tppmi_500_all = test_util.create_test_case_dict_tppmi(tppmi_model_500, test_cases_1_all)"
   ],
   "metadata": {
    "collapsed": false
   }
  },
  {
   "cell_type": "code",
   "execution_count": 41,
   "outputs": [
    {
     "name": "stdout",
     "output_type": "stream",
     "text": [
      "19 Testcases are not in the vocab of the model\n"
     ]
    }
   ],
   "source": [
    "test_case_dict_tppmi_1000_all = test_util.create_test_case_dict_tppmi(tppmi_model_1000, test_cases_1_all)"
   ],
   "metadata": {
    "collapsed": false
   }
  },
  {
   "cell_type": "code",
   "execution_count": 42,
   "outputs": [
    {
     "name": "stdout",
     "output_type": "stream",
     "text": [
      "15 Testcases are not in the vocab of the model\n"
     ]
    }
   ],
   "source": [
    "test_case_dict_tppmi_500_static = test_util.create_test_case_dict_tppmi(tppmi_model_500, test_cases_1_static)"
   ],
   "metadata": {
    "collapsed": false
   }
  },
  {
   "cell_type": "code",
   "execution_count": 43,
   "outputs": [
    {
     "name": "stdout",
     "output_type": "stream",
     "text": [
      "15 Testcases are not in the vocab of the model\n"
     ]
    }
   ],
   "source": [
    "test_case_dict_tppmi_1000_static = test_util.create_test_case_dict_tppmi(tppmi_model_1000, test_cases_1_static)"
   ],
   "metadata": {
    "collapsed": false
   }
  },
  {
   "cell_type": "code",
   "execution_count": 44,
   "outputs": [
    {
     "name": "stdout",
     "output_type": "stream",
     "text": [
      "19 Testcases are not in the vocab of the model\n"
     ]
    }
   ],
   "source": [
    "test_case_dict_tppmi_500_dynamic = test_util.create_test_case_dict_tppmi(tppmi_model_500, test_cases_1_dynamic)"
   ],
   "metadata": {
    "collapsed": false
   }
  },
  {
   "cell_type": "code",
   "execution_count": 45,
   "outputs": [
    {
     "name": "stdout",
     "output_type": "stream",
     "text": [
      "19 Testcases are not in the vocab of the model\n"
     ]
    }
   ],
   "source": [
    "test_case_dict_tppmi_1000_dynamic = test_util.create_test_case_dict_tppmi(tppmi_model_1000, test_cases_1_dynamic)"
   ],
   "metadata": {
    "collapsed": false
   }
  },
  {
   "cell_type": "code",
   "execution_count": 46,
   "outputs": [
    {
     "data": {
      "text/plain": "  0%|          | 0/480 [00:00<?, ?it/s]",
      "application/vnd.jupyter.widget-view+json": {
       "version_major": 2,
       "version_minor": 0,
       "model_id": "b9539a2c822d451d90c014d882075a53"
      },
      "application/json": {
       "n": 0,
       "total": 480,
       "elapsed": 0.0021820068359375,
       "ncols": null,
       "nrows": null,
       "prefix": "",
       "ascii": false,
       "unit": "it",
       "unit_scale": false,
       "rate": null,
       "bar_format": null,
       "postfix": null,
       "unit_divisor": 1000,
       "initial": 0,
       "colour": null
      }
     },
     "metadata": {},
     "output_type": "display_data"
    }
   ],
   "source": [
    "similarities_tppmi_500_all = test_util.get_similarites_of_models_tppmi(tppmi_model_500, test_case_dict_tppmi_500_all)"
   ],
   "metadata": {
    "collapsed": false
   }
  },
  {
   "cell_type": "code",
   "execution_count": 47,
   "outputs": [
    {
     "data": {
      "text/plain": "  0%|          | 0/480 [00:00<?, ?it/s]",
      "application/vnd.jupyter.widget-view+json": {
       "version_major": 2,
       "version_minor": 0,
       "model_id": "6848922684de4b5fa4b7ca7e906aac75"
      },
      "application/json": {
       "n": 0,
       "total": 480,
       "elapsed": 0.003647327423095703,
       "ncols": null,
       "nrows": null,
       "prefix": "",
       "ascii": false,
       "unit": "it",
       "unit_scale": false,
       "rate": null,
       "bar_format": null,
       "postfix": null,
       "unit_divisor": 1000,
       "initial": 0,
       "colour": null
      }
     },
     "metadata": {},
     "output_type": "display_data"
    }
   ],
   "source": [
    "similarities_tppmi_1000_all = test_util.get_similarites_of_models_tppmi(tppmi_model_1000, test_case_dict_tppmi_1000_all)"
   ],
   "metadata": {
    "collapsed": false
   }
  },
  {
   "cell_type": "code",
   "execution_count": 48,
   "outputs": [
    {
     "data": {
      "text/plain": "  0%|          | 0/428 [00:00<?, ?it/s]",
      "application/vnd.jupyter.widget-view+json": {
       "version_major": 2,
       "version_minor": 0,
       "model_id": "c28c1c9c11b54f0daef6f6e623d07301"
      },
      "application/json": {
       "n": 0,
       "total": 428,
       "elapsed": 0.007020711898803711,
       "ncols": null,
       "nrows": null,
       "prefix": "",
       "ascii": false,
       "unit": "it",
       "unit_scale": false,
       "rate": null,
       "bar_format": null,
       "postfix": null,
       "unit_divisor": 1000,
       "initial": 0,
       "colour": null
      }
     },
     "metadata": {},
     "output_type": "display_data"
    }
   ],
   "source": [
    "similarities_tppmi_500_static = test_util.get_similarites_of_models_tppmi(tppmi_model_500, test_case_dict_tppmi_500_static)"
   ],
   "metadata": {
    "collapsed": false
   }
  },
  {
   "cell_type": "code",
   "execution_count": 49,
   "outputs": [
    {
     "data": {
      "text/plain": "  0%|          | 0/428 [00:00<?, ?it/s]",
      "application/vnd.jupyter.widget-view+json": {
       "version_major": 2,
       "version_minor": 0,
       "model_id": "874ad3391c9b4ee88128ef040f30acec"
      },
      "application/json": {
       "n": 0,
       "total": 428,
       "elapsed": 0.0033850669860839844,
       "ncols": null,
       "nrows": null,
       "prefix": "",
       "ascii": false,
       "unit": "it",
       "unit_scale": false,
       "rate": null,
       "bar_format": null,
       "postfix": null,
       "unit_divisor": 1000,
       "initial": 0,
       "colour": null
      }
     },
     "metadata": {},
     "output_type": "display_data"
    }
   ],
   "source": [
    "similarities_tppmi_1000_static = test_util.get_similarites_of_models_tppmi(tppmi_model_1000, test_case_dict_tppmi_1000_static)"
   ],
   "metadata": {
    "collapsed": false
   }
  },
  {
   "cell_type": "code",
   "execution_count": 50,
   "outputs": [
    {
     "data": {
      "text/plain": "  0%|          | 0/480 [00:00<?, ?it/s]",
      "application/vnd.jupyter.widget-view+json": {
       "version_major": 2,
       "version_minor": 0,
       "model_id": "817fff140a844820b25c829dcac990c5"
      },
      "application/json": {
       "n": 0,
       "total": 480,
       "elapsed": 0.005925178527832031,
       "ncols": null,
       "nrows": null,
       "prefix": "",
       "ascii": false,
       "unit": "it",
       "unit_scale": false,
       "rate": null,
       "bar_format": null,
       "postfix": null,
       "unit_divisor": 1000,
       "initial": 0,
       "colour": null
      }
     },
     "metadata": {},
     "output_type": "display_data"
    }
   ],
   "source": [
    "similarities_tppmi_500_dynamic = test_util.get_similarites_of_models_tppmi(tppmi_model_500, test_case_dict_tppmi_500_dynamic)"
   ],
   "metadata": {
    "collapsed": false
   }
  },
  {
   "cell_type": "code",
   "execution_count": 51,
   "outputs": [
    {
     "data": {
      "text/plain": "  0%|          | 0/480 [00:00<?, ?it/s]",
      "application/vnd.jupyter.widget-view+json": {
       "version_major": 2,
       "version_minor": 0,
       "model_id": "13b07adf7da340349262b5c80e6569a0"
      },
      "application/json": {
       "n": 0,
       "total": 480,
       "elapsed": 0.005363941192626953,
       "ncols": null,
       "nrows": null,
       "prefix": "",
       "ascii": false,
       "unit": "it",
       "unit_scale": false,
       "rate": null,
       "bar_format": null,
       "postfix": null,
       "unit_divisor": 1000,
       "initial": 0,
       "colour": null
      }
     },
     "metadata": {},
     "output_type": "display_data"
    }
   ],
   "source": [
    "similarities_tppmi_1000_dynamic = test_util.get_similarites_of_models_tppmi(tppmi_model_1000, test_case_dict_tppmi_1000_dynamic)"
   ],
   "metadata": {
    "collapsed": false
   }
  },
  {
   "cell_type": "markdown",
   "source": [
    "# Experiment"
   ],
   "metadata": {
    "collapsed": false
   }
  },
  {
   "cell_type": "markdown",
   "source": [
    "To examine the quality of embedding alignment, we create a task to query equivalences across years.\n",
    "\n",
    "For example, given obama-2012, we want to query its equivalent word in 2002. As we know obama is the U.S. president in 2012; its equivalent in 2002 is bush, who was the U.S. president at that time. In this way, we create two testsets.\n",
    "\n",
    "All results are rounded to three decimal places."
   ],
   "metadata": {
    "collapsed": false
   }
  },
  {
   "cell_type": "code",
   "execution_count": 63,
   "outputs": [],
   "source": [
    "cutoffs = [1, 3, 5, 10]\n",
    "list_of_types = [\"static\", \"dynamic\", \"all\"]\n",
    "\n",
    "list_of_data_cade = [[similarities_cade_static, test_data_1_static],\n",
    "                     [similarities_cade_dynamic, test_data_1_dynamic], [similarities_cade_all, test_data_1_all]]\n",
    "list_of_data_tppmi_500 = [[similarities_tppmi_500_static, test_data_1_static],\n",
    "                       [similarities_tppmi_500_dynamic, test_data_1_dynamic], [similarities_tppmi_500_all, test_data_1_all]]\n",
    "list_of_data_tppmi_1000 = [[similarities_tppmi_1000_static, test_data_1_static],\n",
    "                          [similarities_tppmi_1000_dynamic, test_data_1_dynamic], [similarities_tppmi_1000_all, test_data_1_all]]\n",
    "list_of_data_static = [[similarities_static_static, test_data_1_static],\n",
    "                       [similarities_static_dynamic, test_data_1_dynamic], [similarities_static_all, test_data_1_all]]\n",
    "\n",
    "config_dict_cade = {key: value for key, value in zip(list_of_types, list_of_data_cade)}\n",
    "config_dict_tppmi_500 = {key: value for key, value in zip(list_of_types, list_of_data_tppmi_500)}\n",
    "config_dict_tppmi_1000 = {key: value for key, value in zip(list_of_types, list_of_data_tppmi_1000)}\n",
    "config_dict_static = {key: value for key, value in zip(list_of_types, list_of_data_static)}\n",
    "\n",
    "scores_cade = {key: dict() for key in list_of_types}\n",
    "scores_static = {key: dict() for key in list_of_types}\n",
    "scores_tppmi_500 = {key: dict() for key in list_of_types}\n",
    "scores_tppmi_1000 = {key: dict() for key in list_of_types}"
   ],
   "metadata": {
    "collapsed": false
   }
  },
  {
   "cell_type": "markdown",
   "source": [
    "## Mean Reciprocal Rank (@10)\n",
    "\n",
    "The Mean Reciprocal Rank (MRR) is a statistical measure used to evaluate the performance of a system that returns a ranked list of responses to queries. It is the average of the reciprocal ranks of the first correct answer for each query, where the reciprocal rank is the inverse of the rank at which the first relevant answer is found.\n",
    "It is evaluated @10"
   ],
   "metadata": {
    "collapsed": false
   }
  },
  {
   "cell_type": "markdown",
   "source": [
    "### TWEC"
   ],
   "metadata": {
    "collapsed": false
   }
  },
  {
   "cell_type": "code",
   "execution_count": 65,
   "outputs": [
    {
     "data": {
      "text/plain": "  0%|          | 0/3 [00:00<?, ?it/s]",
      "application/vnd.jupyter.widget-view+json": {
       "version_major": 2,
       "version_minor": 0,
       "model_id": "cdc9150867a34130999d7ff3e2aa0db4"
      },
      "application/json": {
       "n": 0,
       "total": 3,
       "elapsed": 0.0018689632415771484,
       "ncols": null,
       "nrows": null,
       "prefix": "",
       "ascii": false,
       "unit": "it",
       "unit_scale": false,
       "rate": null,
       "bar_format": null,
       "postfix": null,
       "unit_divisor": 1000,
       "initial": 0,
       "colour": null
      }
     },
     "metadata": {},
     "output_type": "display_data"
    }
   ],
   "source": [
    "for key, value in tqdm(config_dict_cade.items()):\n",
    "    scores_cade[key][\"mrr@10\"] = round(test_util.calculate_rank_metric(value[0], value[1], metric='MRR'), 3)"
   ],
   "metadata": {
    "collapsed": false
   }
  },
  {
   "cell_type": "markdown",
   "source": [
    "### Static Word2Vec"
   ],
   "metadata": {
    "collapsed": false
   }
  },
  {
   "cell_type": "code",
   "execution_count": 66,
   "outputs": [
    {
     "data": {
      "text/plain": "  0%|          | 0/3 [00:00<?, ?it/s]",
      "application/vnd.jupyter.widget-view+json": {
       "version_major": 2,
       "version_minor": 0,
       "model_id": "c504d4a21aca4c0f9b23e83512c855b2"
      },
      "application/json": {
       "n": 0,
       "total": 3,
       "elapsed": 0.002552032470703125,
       "ncols": null,
       "nrows": null,
       "prefix": "",
       "ascii": false,
       "unit": "it",
       "unit_scale": false,
       "rate": null,
       "bar_format": null,
       "postfix": null,
       "unit_divisor": 1000,
       "initial": 0,
       "colour": null
      }
     },
     "metadata": {},
     "output_type": "display_data"
    }
   ],
   "source": [
    "for key, value in tqdm(config_dict_static.items()):\n",
    "    scores_static[key][\"mrr@10\"] = round(test_util.calculate_rank_metric_static(value[0], value[1], metric='MRR'), 3)"
   ],
   "metadata": {
    "collapsed": false
   }
  },
  {
   "cell_type": "markdown",
   "source": [
    "### TPPMI"
   ],
   "metadata": {
    "collapsed": false
   }
  },
  {
   "cell_type": "code",
   "execution_count": 67,
   "outputs": [
    {
     "data": {
      "text/plain": "  0%|          | 0/3 [00:00<?, ?it/s]",
      "application/vnd.jupyter.widget-view+json": {
       "version_major": 2,
       "version_minor": 0,
       "model_id": "bdb2d1498b7343848856f707184f20ef"
      },
      "application/json": {
       "n": 0,
       "total": 3,
       "elapsed": 0.0027310848236083984,
       "ncols": null,
       "nrows": null,
       "prefix": "",
       "ascii": false,
       "unit": "it",
       "unit_scale": false,
       "rate": null,
       "bar_format": null,
       "postfix": null,
       "unit_divisor": 1000,
       "initial": 0,
       "colour": null
      }
     },
     "metadata": {},
     "output_type": "display_data"
    }
   ],
   "source": [
    "for key, value in tqdm(config_dict_tppmi_500.items()):\n",
    "    scores_tppmi_500[key][\"mrr@10\"] = round(test_util.calculate_rank_metric(value[0], value[1], metric='MRR'), 3)"
   ],
   "metadata": {
    "collapsed": false
   }
  },
  {
   "cell_type": "code",
   "execution_count": 68,
   "outputs": [
    {
     "data": {
      "text/plain": "  0%|          | 0/3 [00:00<?, ?it/s]",
      "application/vnd.jupyter.widget-view+json": {
       "version_major": 2,
       "version_minor": 0,
       "model_id": "5069ab5abbbe40de8c85b99209cf18a1"
      },
      "application/json": {
       "n": 0,
       "total": 3,
       "elapsed": 0.002301931381225586,
       "ncols": null,
       "nrows": null,
       "prefix": "",
       "ascii": false,
       "unit": "it",
       "unit_scale": false,
       "rate": null,
       "bar_format": null,
       "postfix": null,
       "unit_divisor": 1000,
       "initial": 0,
       "colour": null
      }
     },
     "metadata": {},
     "output_type": "display_data"
    }
   ],
   "source": [
    "for key, value in tqdm(config_dict_tppmi_1000.items()):\n",
    "    scores_tppmi_1000[key][\"mrr@10\"] = round(test_util.calculate_rank_metric(value[0], value[1], metric='MRR'), 3)"
   ],
   "metadata": {
    "collapsed": false
   }
  },
  {
   "cell_type": "markdown",
   "source": [
    "## Mean Precision (@K)\n",
    "\n",
    "As introduced by Yao et al.(2018) the MP@K is defined as such: consider the K words most similar to the query embedding for the given year. The Precision@K for a particular test i, represented as P@K[i], equals 1 if the target word appears within this set of K words; otherwise, it assumes a value of 0."
   ],
   "metadata": {
    "collapsed": false
   }
  },
  {
   "cell_type": "markdown",
   "source": [
    "### TWEC"
   ],
   "metadata": {
    "collapsed": false
   }
  },
  {
   "cell_type": "code",
   "execution_count": 69,
   "outputs": [
    {
     "data": {
      "text/plain": "  0%|          | 0/3 [00:00<?, ?it/s]",
      "application/vnd.jupyter.widget-view+json": {
       "version_major": 2,
       "version_minor": 0,
       "model_id": "c08007efc26f49d7b38a9d326d56ba0a"
      },
      "application/json": {
       "n": 0,
       "total": 3,
       "elapsed": 0.003242015838623047,
       "ncols": null,
       "nrows": null,
       "prefix": "",
       "ascii": false,
       "unit": "it",
       "unit_scale": false,
       "rate": null,
       "bar_format": null,
       "postfix": null,
       "unit_divisor": 1000,
       "initial": 0,
       "colour": null
      }
     },
     "metadata": {},
     "output_type": "display_data"
    }
   ],
   "source": [
    "for key, value in tqdm(config_dict_cade.items()):\n",
    "    for k in cutoffs:\n",
    "        score_key = f\"mp@{k}\"\n",
    "        scores_cade[key][score_key] = round(test_util.calculate_rank_metric(value[0], value[1], metric='MP', k=k), 3)"
   ],
   "metadata": {
    "collapsed": false
   }
  },
  {
   "cell_type": "markdown",
   "source": [
    "### Static Word2Vec"
   ],
   "metadata": {
    "collapsed": false
   }
  },
  {
   "cell_type": "code",
   "execution_count": 70,
   "outputs": [
    {
     "data": {
      "text/plain": "  0%|          | 0/3 [00:00<?, ?it/s]",
      "application/vnd.jupyter.widget-view+json": {
       "version_major": 2,
       "version_minor": 0,
       "model_id": "e5d420ee95cc4d0baf7a068c06d399ad"
      },
      "application/json": {
       "n": 0,
       "total": 3,
       "elapsed": 0.002227306365966797,
       "ncols": null,
       "nrows": null,
       "prefix": "",
       "ascii": false,
       "unit": "it",
       "unit_scale": false,
       "rate": null,
       "bar_format": null,
       "postfix": null,
       "unit_divisor": 1000,
       "initial": 0,
       "colour": null
      }
     },
     "metadata": {},
     "output_type": "display_data"
    }
   ],
   "source": [
    "for key, value in tqdm(config_dict_static.items()):\n",
    "    for k in cutoffs:\n",
    "        score_key = f\"mp@{k}\"\n",
    "        scores_static[key][score_key] = round(test_util.calculate_rank_metric_static(value[0], value[1], metric='MP', k=k), 3)"
   ],
   "metadata": {
    "collapsed": false
   }
  },
  {
   "cell_type": "markdown",
   "source": [
    "### TPPMI"
   ],
   "metadata": {
    "collapsed": false
   }
  },
  {
   "cell_type": "code",
   "execution_count": 71,
   "outputs": [
    {
     "data": {
      "text/plain": "  0%|          | 0/3 [00:00<?, ?it/s]",
      "application/vnd.jupyter.widget-view+json": {
       "version_major": 2,
       "version_minor": 0,
       "model_id": "67534f0fb1bd43a6a951e7d400baf875"
      },
      "application/json": {
       "n": 0,
       "total": 3,
       "elapsed": 0.0019919872283935547,
       "ncols": null,
       "nrows": null,
       "prefix": "",
       "ascii": false,
       "unit": "it",
       "unit_scale": false,
       "rate": null,
       "bar_format": null,
       "postfix": null,
       "unit_divisor": 1000,
       "initial": 0,
       "colour": null
      }
     },
     "metadata": {},
     "output_type": "display_data"
    }
   ],
   "source": [
    "for key, value in tqdm(config_dict_tppmi_500.items()):\n",
    "    for k in cutoffs:\n",
    "        score_key = f\"mp@{k}\"\n",
    "        scores_tppmi_500[key][score_key] = round(test_util.calculate_rank_metric(value[0], value[1], metric='MP', k=k), 3)"
   ],
   "metadata": {
    "collapsed": false
   }
  },
  {
   "cell_type": "code",
   "execution_count": 72,
   "outputs": [
    {
     "data": {
      "text/plain": "  0%|          | 0/3 [00:00<?, ?it/s]",
      "application/vnd.jupyter.widget-view+json": {
       "version_major": 2,
       "version_minor": 0,
       "model_id": "435e21b60a7a406c8a3b9dfad1714c00"
      },
      "application/json": {
       "n": 0,
       "total": 3,
       "elapsed": 0.0023658275604248047,
       "ncols": null,
       "nrows": null,
       "prefix": "",
       "ascii": false,
       "unit": "it",
       "unit_scale": false,
       "rate": null,
       "bar_format": null,
       "postfix": null,
       "unit_divisor": 1000,
       "initial": 0,
       "colour": null
      }
     },
     "metadata": {},
     "output_type": "display_data"
    }
   ],
   "source": [
    "for key, value in tqdm(config_dict_tppmi_1000.items()):\n",
    "    for k in cutoffs:\n",
    "        score_key = f\"mp@{k}\"\n",
    "        scores_tppmi_1000[key][score_key] = round(test_util.calculate_rank_metric(value[0], value[1], metric='MP', k=k), 3)"
   ],
   "metadata": {
    "collapsed": false
   }
  },
  {
   "cell_type": "markdown",
   "source": [
    "## Results"
   ],
   "metadata": {
    "collapsed": false
   }
  },
  {
   "cell_type": "code",
   "execution_count": 73,
   "outputs": [
    {
     "name": "stdout",
     "output_type": "stream",
     "text": [
      "Scores of TWEC\n"
     ]
    },
    {
     "data": {
      "text/plain": "         mrr@10   mp@1   mp@3   mp@5  mp@10\nstatic    0.587  0.501  0.656  0.708  0.746\ndynamic   0.346  0.268  0.398  0.451  0.512\nall       0.394  0.316  0.448  0.501  0.556",
      "text/html": "<div>\n<style scoped>\n    .dataframe tbody tr th:only-of-type {\n        vertical-align: middle;\n    }\n\n    .dataframe tbody tr th {\n        vertical-align: top;\n    }\n\n    .dataframe thead th {\n        text-align: right;\n    }\n</style>\n<table border=\"1\" class=\"dataframe\">\n  <thead>\n    <tr style=\"text-align: right;\">\n      <th></th>\n      <th>mrr@10</th>\n      <th>mp@1</th>\n      <th>mp@3</th>\n      <th>mp@5</th>\n      <th>mp@10</th>\n    </tr>\n  </thead>\n  <tbody>\n    <tr>\n      <th>static</th>\n      <td>0.587</td>\n      <td>0.501</td>\n      <td>0.656</td>\n      <td>0.708</td>\n      <td>0.746</td>\n    </tr>\n    <tr>\n      <th>dynamic</th>\n      <td>0.346</td>\n      <td>0.268</td>\n      <td>0.398</td>\n      <td>0.451</td>\n      <td>0.512</td>\n    </tr>\n    <tr>\n      <th>all</th>\n      <td>0.394</td>\n      <td>0.316</td>\n      <td>0.448</td>\n      <td>0.501</td>\n      <td>0.556</td>\n    </tr>\n  </tbody>\n</table>\n</div>"
     },
     "metadata": {},
     "output_type": "display_data"
    },
    {
     "name": "stdout",
     "output_type": "stream",
     "text": [
      "Scores of TPPMI (500 context-words)\n"
     ]
    },
    {
     "data": {
      "text/plain": "         mrr@10   mp@1   mp@3   mp@5  mp@10\nstatic    0.254  0.198  0.287  0.333  0.390\ndynamic   0.094  0.063  0.106  0.134  0.178\nall       0.131  0.094  0.150  0.181  0.227",
      "text/html": "<div>\n<style scoped>\n    .dataframe tbody tr th:only-of-type {\n        vertical-align: middle;\n    }\n\n    .dataframe tbody tr th {\n        vertical-align: top;\n    }\n\n    .dataframe thead th {\n        text-align: right;\n    }\n</style>\n<table border=\"1\" class=\"dataframe\">\n  <thead>\n    <tr style=\"text-align: right;\">\n      <th></th>\n      <th>mrr@10</th>\n      <th>mp@1</th>\n      <th>mp@3</th>\n      <th>mp@5</th>\n      <th>mp@10</th>\n    </tr>\n  </thead>\n  <tbody>\n    <tr>\n      <th>static</th>\n      <td>0.254</td>\n      <td>0.198</td>\n      <td>0.287</td>\n      <td>0.333</td>\n      <td>0.390</td>\n    </tr>\n    <tr>\n      <th>dynamic</th>\n      <td>0.094</td>\n      <td>0.063</td>\n      <td>0.106</td>\n      <td>0.134</td>\n      <td>0.178</td>\n    </tr>\n    <tr>\n      <th>all</th>\n      <td>0.131</td>\n      <td>0.094</td>\n      <td>0.150</td>\n      <td>0.181</td>\n      <td>0.227</td>\n    </tr>\n  </tbody>\n</table>\n</div>"
     },
     "metadata": {},
     "output_type": "display_data"
    },
    {
     "name": "stdout",
     "output_type": "stream",
     "text": [
      "Scores of TPPMI (1000 context-words)\n"
     ]
    },
    {
     "data": {
      "text/plain": "         mrr@10   mp@1   mp@3   mp@5  mp@10\nstatic    0.361  0.281  0.405  0.476  0.548\ndynamic   0.169  0.117  0.197  0.240  0.299\nall       0.209  0.150  0.241  0.290  0.353",
      "text/html": "<div>\n<style scoped>\n    .dataframe tbody tr th:only-of-type {\n        vertical-align: middle;\n    }\n\n    .dataframe tbody tr th {\n        vertical-align: top;\n    }\n\n    .dataframe thead th {\n        text-align: right;\n    }\n</style>\n<table border=\"1\" class=\"dataframe\">\n  <thead>\n    <tr style=\"text-align: right;\">\n      <th></th>\n      <th>mrr@10</th>\n      <th>mp@1</th>\n      <th>mp@3</th>\n      <th>mp@5</th>\n      <th>mp@10</th>\n    </tr>\n  </thead>\n  <tbody>\n    <tr>\n      <th>static</th>\n      <td>0.361</td>\n      <td>0.281</td>\n      <td>0.405</td>\n      <td>0.476</td>\n      <td>0.548</td>\n    </tr>\n    <tr>\n      <th>dynamic</th>\n      <td>0.169</td>\n      <td>0.117</td>\n      <td>0.197</td>\n      <td>0.240</td>\n      <td>0.299</td>\n    </tr>\n    <tr>\n      <th>all</th>\n      <td>0.209</td>\n      <td>0.150</td>\n      <td>0.241</td>\n      <td>0.290</td>\n      <td>0.353</td>\n    </tr>\n  </tbody>\n</table>\n</div>"
     },
     "metadata": {},
     "output_type": "display_data"
    },
    {
     "name": "stdout",
     "output_type": "stream",
     "text": [
      "Scores of Static Word2Vec (Baseline)\n"
     ]
    },
    {
     "data": {
      "text/plain": "         mrr@10   mp@1   mp@3   mp@5  mp@10\nstatic    1.000  1.000  1.000  1.000  1.000\ndynamic   0.147  0.000  0.240  0.372  0.463\nall       0.374  0.266  0.442  0.539  0.606",
      "text/html": "<div>\n<style scoped>\n    .dataframe tbody tr th:only-of-type {\n        vertical-align: middle;\n    }\n\n    .dataframe tbody tr th {\n        vertical-align: top;\n    }\n\n    .dataframe thead th {\n        text-align: right;\n    }\n</style>\n<table border=\"1\" class=\"dataframe\">\n  <thead>\n    <tr style=\"text-align: right;\">\n      <th></th>\n      <th>mrr@10</th>\n      <th>mp@1</th>\n      <th>mp@3</th>\n      <th>mp@5</th>\n      <th>mp@10</th>\n    </tr>\n  </thead>\n  <tbody>\n    <tr>\n      <th>static</th>\n      <td>1.000</td>\n      <td>1.000</td>\n      <td>1.000</td>\n      <td>1.000</td>\n      <td>1.000</td>\n    </tr>\n    <tr>\n      <th>dynamic</th>\n      <td>0.147</td>\n      <td>0.000</td>\n      <td>0.240</td>\n      <td>0.372</td>\n      <td>0.463</td>\n    </tr>\n    <tr>\n      <th>all</th>\n      <td>0.374</td>\n      <td>0.266</td>\n      <td>0.442</td>\n      <td>0.539</td>\n      <td>0.606</td>\n    </tr>\n  </tbody>\n</table>\n</div>"
     },
     "metadata": {},
     "output_type": "display_data"
    }
   ],
   "source": [
    "score_table_cade = pd.DataFrame(scores_cade).T\n",
    "score_table_static = pd.DataFrame(scores_static).T\n",
    "score_table_tppmi_500 = pd.DataFrame(scores_tppmi_500).T\n",
    "score_table_tppmi_1000 = pd.DataFrame(scores_tppmi_1000).T\n",
    "print(\"Scores of TWEC\")\n",
    "display(score_table_cade)\n",
    "print(\"Scores of TPPMI (500 context-words)\")\n",
    "display(score_table_tppmi_500)\n",
    "print(\"Scores of TPPMI (1000 context-words)\")\n",
    "display(score_table_tppmi_1000)\n",
    "print(\"Scores of Static Word2Vec (Baseline)\")\n",
    "display(score_table_static)"
   ],
   "metadata": {
    "collapsed": false
   }
  },
  {
   "cell_type": "markdown",
   "source": [
    "----------------------------------------------------------------------------------------------------------------\n",
    "----------------------------------------------------------------------------------------------------------------\n",
    "----------------------------------------------------------------------------------------------------------------"
   ],
   "metadata": {
    "collapsed": false
   }
  },
  {
   "cell_type": "code",
   "execution_count": 62,
   "outputs": [],
   "source": [
    "output_dir = Path(\"../../data/results/nyt-data\")\n",
    "output_dir.mkdir(parents=True, exist_ok=True)\n",
    "\n",
    "# Saving the CADE score table to CSV\n",
    "score_table_cade.to_csv(output_dir / \"score_table_cade.csv\", index=True)\n",
    "\n",
    "# Saving the TPPMI score table to CSV\n",
    "score_table_tppmi_500.to_csv(output_dir / 'score_table_tppmi_500.csv', index=True)\n",
    "score_table_tppmi_1000.to_csv(output_dir / 'score_table_tppmi_1000.csv', index=True)\n",
    "\n",
    "# Saving the Static Word2Vec (Baseline) score table to CSV\n",
    "score_table_static.to_csv(output_dir / 'score_table_static.csv', index=True)\n"
   ],
   "metadata": {
    "collapsed": false
   }
  },
  {
   "cell_type": "code",
   "execution_count": 62,
   "outputs": [],
   "source": [],
   "metadata": {
    "collapsed": false
   }
  }
 ],
 "metadata": {
  "kernelspec": {
   "display_name": "Python 3",
   "language": "python",
   "name": "python3"
  },
  "language_info": {
   "codemirror_mode": {
    "name": "ipython",
    "version": 2
   },
   "file_extension": ".py",
   "mimetype": "text/x-python",
   "name": "python",
   "nbconvert_exporter": "python",
   "pygments_lexer": "ipython2",
   "version": "2.7.6"
  }
 },
 "nbformat": 4,
 "nbformat_minor": 0
}
