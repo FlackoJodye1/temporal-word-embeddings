{
 "cells": [
  {
   "cell_type": "code",
   "execution_count": null,
   "outputs": [],
   "source": [
    "%load_ext autoreload"
   ],
   "metadata": {
    "collapsed": false,
    "pycharm": {
     "is_executing": true
    }
   }
  },
  {
   "cell_type": "code",
   "execution_count": null,
   "metadata": {
    "collapsed": true
   },
   "outputs": [],
   "source": [
    "import json\n",
    "import pickle\n",
    "\n",
    "import numpy as np\n",
    "import pandas as pd\n",
    "from glob import glob\n",
    "from pathlib import Path\n",
    "from scipy import spatial\n",
    "import scipy.sparse as sp\n",
    "from itertools import islice\n",
    "from tqdm.notebook import tqdm\n",
    "from gensim.models.word2vec import Word2Vec\n",
    "\n",
    "import sys\n",
    "sys.path.append('../../')\n",
    "\n",
    "import src.test.util as test_util\n",
    "\n",
    "from src.packages.TPPMI.ppmi_model import PPMIModel\n",
    "from src.packages.TPPMI.tppmi_model import TPPMIModel"
   ]
  },
  {
   "cell_type": "markdown",
   "source": [
    "# Imports"
   ],
   "metadata": {
    "collapsed": false
   }
  },
  {
   "cell_type": "code",
   "execution_count": null,
   "outputs": [],
   "source": [
    "path_to_test_data = Path(\"../../data\") / \"test\"\n",
    "path_to_tppmi_model = Path(\"../../data\") / \"ppmi-matrices\" / \"nyt-data\"\n",
    "path_to_twec_model = Path(\"../../model\") / \"nyt-data\" / \"cade\" / \"model\"\n",
    "path_to_static_model = Path(\"../../model\") / \"nyt-data\" / \"static\""
   ],
   "metadata": {
    "collapsed": false
   }
  },
  {
   "cell_type": "markdown",
   "source": [
    "# Functions\n",
    "\n",
    "(to be outsourced later)"
   ],
   "metadata": {
    "collapsed": false
   }
  },
  {
   "cell_type": "markdown",
   "source": [
    "## Similarity Calculations"
   ],
   "metadata": {
    "collapsed": false
   }
  },
  {
   "cell_type": "markdown",
   "source": [
    "Create dictionary of the test-set for each particular model"
   ],
   "metadata": {
    "collapsed": false
   }
  },
  {
   "cell_type": "code",
   "execution_count": null,
   "outputs": [],
   "source": [
    "def create_test_case_dict_cade(test_cases : np.ndarray, models: dict) -> dict:\n",
    "    test_case_dict = dict()\n",
    "    counter = 0\n",
    "    for test_case in test_cases:\n",
    "        word, year = test_case.split(\"-\")\n",
    "        ground_model = models[f\"model_{year}\"]\n",
    "        if word in ground_model.wv.vocab:\n",
    "            test_case_dict[test_case] = ground_model.wv.get_vector(word)\n",
    "        else:\n",
    "            counter = counter + 1\n",
    "    print(f\"{counter} Testcases are not in the vocab of the model(s)\")\n",
    "    return test_case_dict"
   ],
   "metadata": {
    "collapsed": false
   }
  },
  {
   "cell_type": "code",
   "execution_count": null,
   "outputs": [],
   "source": [
    "def create_test_case_dict_static(model, test_cases : np.ndarray) -> dict:\n",
    "    test_case_dict = dict()\n",
    "    counter = 0\n",
    "    for test_case in test_cases:\n",
    "        word, year = test_case.split(\"-\")\n",
    "        if word in model.wv.vocab:\n",
    "            test_case_dict[test_case] = model.wv.get_vector(word)\n",
    "        else:\n",
    "            counter = counter + 1\n",
    "    print(f\"{counter} Testcases are not in the vocab of the model\")\n",
    "    return test_case_dict"
   ],
   "metadata": {
    "collapsed": false
   }
  },
  {
   "cell_type": "markdown",
   "source": [
    "Calculate the top-10 most similar words to each word-vector/word-embedding from the test-set in each year"
   ],
   "metadata": {
    "collapsed": false
   }
  },
  {
   "cell_type": "code",
   "execution_count": null,
   "outputs": [],
   "source": [
    "def get_similarities_of_models(model_dict: dict, test_word_dict: dict) -> dict:\n",
    "    similarities = dict()\n",
    "    for test_word in tqdm(test_word_dict.items()):\n",
    "        similarities[test_word[0]] = dict()\n",
    "        for model in model_dict.items():\n",
    "            similarities[test_word[0]][model[0].split(\"_\")[1]] = model[1].wv.similar_by_vector(test_word[1])\n",
    "    return similarities"
   ],
   "metadata": {
    "collapsed": false
   }
  },
  {
   "cell_type": "code",
   "execution_count": null,
   "outputs": [],
   "source": [
    "def get_similarities_of_models_static(model, test_word_dict: dict) -> dict:\n",
    "    similarities = dict()\n",
    "    for test_word in tqdm(test_word_dict.items()):\n",
    "        similarities[test_word[0]] = model.wv.similar_by_vector(test_word[1])\n",
    "    return similarities"
   ],
   "metadata": {
    "collapsed": false
   }
  },
  {
   "cell_type": "markdown",
   "source": [
    "## Evaluation Metrics"
   ],
   "metadata": {
    "collapsed": false
   }
  },
  {
   "cell_type": "code",
   "execution_count": null,
   "outputs": [],
   "source": [
    "def calculate_reciprocal_rank(test_list: list, test_word: str) -> float:\n",
    "    \"\"\"\n",
    "    Calculate the reciprocal rank for a given test word in a list of strings.\n",
    "\n",
    "    Parameters:\n",
    "    test_list (list of str): The list of strings to search through.\n",
    "    test_word (str): The correct answer to find in the test_list.\n",
    "    Returns:\n",
    "    float: The reciprocal rank of the test_word in test_list, or 0 if not found.\n",
    "    \"\"\"\n",
    "    try:\n",
    "        rank = test_list.index(test_word) + 1  # Adding 1 because index is 0-based and rank is 1-based\n",
    "        return 1.0 / rank\n",
    "    except ValueError:\n",
    "        return 0.0  # test_word not found in test_list"
   ],
   "metadata": {
    "collapsed": false
   }
  },
  {
   "cell_type": "code",
   "execution_count": null,
   "outputs": [],
   "source": [
    "def calculate_precision_at_k(test_list: list, test_word: str, k: int) -> int:\n",
    "    \"\"\"\n",
    "    Calculate the precision at K for a given test word in a list of strings.\n",
    "\n",
    "    Parameters:\n",
    "    test_list (list of str): The list of strings to search through, assumed to be ordered by relevance.\n",
    "    test_word (str): The correct answer to find in the test_list.\n",
    "    k (int): The number of top items to consider for calculating precision.\n",
    "\n",
    "    Returns:\n",
    "    int: The precision at K for the test_word in test_list.\n",
    "         If the target word is among these K words, then the Precision@K for test i\n",
    "         (denoted P@K[i]) is 1; else, it is 0\n",
    "    \"\"\"\n",
    "    if k <= 0:\n",
    "        raise ValueError(\"k must be a positive integer\")\n",
    "\n",
    "    # Take the top K elements from the list\n",
    "    top_k = test_list[:k]\n",
    "\n",
    "    # Check if the test_word is within the top K elements\n",
    "    if test_word in top_k:\n",
    "        return 1\n",
    "    else:\n",
    "        return 0"
   ],
   "metadata": {
    "collapsed": false
   }
  },
  {
   "cell_type": "code",
   "execution_count": null,
   "outputs": [],
   "source": [
    "def calculate_mean_rank(test_key: str, testcase: dict, test_data: pd.DataFrame, metric = \"MRR\", k = 10)-> float:\n",
    "\n",
    "    test_data_for_key = test_data[test_data[\"truth\"] == test_key]\n",
    "    ranks = []\n",
    "\n",
    "    for key, value in testcase.items():\n",
    "        test_data_for_year = test_data_for_key[test_data_for_key[\"equivalent\"].str.endswith(key)]\n",
    "        word_list = [item[0] for item in value]\n",
    "\n",
    "        if len(test_data_for_year) == 0:\n",
    "            continue  # Skip if no data for year, as there's nothing to rank\n",
    "        target_word = test_data_for_year[\"equivalent\"].iloc[0].split(\"-\")[0]\n",
    "        if metric == \"MRR\":\n",
    "            rank = calculate_reciprocal_rank(word_list, target_word)\n",
    "        else:\n",
    "            rank = calculate_precision_at_k(word_list, target_word, k)\n",
    "\n",
    "        ranks.append(rank)\n",
    "\n",
    "    if ranks:  # Ensure division by 0 does not occur\n",
    "        mean_rank = sum(ranks) / len(ranks)\n",
    "    else:\n",
    "        mean_rank = 0\n",
    "\n",
    "    return mean_rank"
   ],
   "metadata": {
    "collapsed": false
   }
  },
  {
   "cell_type": "code",
   "execution_count": null,
   "outputs": [],
   "source": [
    "def calculate_rank_metric(similarities: dict, test_data: pd.DataFrame, metric = \"MRR\", k = 10) -> float:\n",
    "    ranks = []\n",
    "    for key, value in similarities.items():\n",
    "        rank = calculate_mean_rank(key, value, test_data, metric, k)\n",
    "\n",
    "        ranks.append(rank)\n",
    "\n",
    "    if ranks:  # Ensure division by 0 does not occur\n",
    "        mean_rank = sum(ranks) / len(ranks)\n",
    "    else:\n",
    "        mean_rank = 0\n",
    "\n",
    "    return mean_rank"
   ],
   "metadata": {
    "collapsed": false
   }
  },
  {
   "cell_type": "code",
   "execution_count": null,
   "outputs": [],
   "source": [
    "def calculate_rank_metric_static(similarities: dict, test_data: pd.DataFrame, metric = \"MRR\", k = 10) -> float:\n",
    "\n",
    "    ranks = []\n",
    "    counter = 0\n",
    "\n",
    "    for key, value in similarities.items():\n",
    "        test_data_for_key = test_data[test_data[\"truth\"] == key]\n",
    "        word_list = [item[0] for item in value]\n",
    "        for _, test_case in test_data_for_key.iterrows():\n",
    "            target_word = test_case[\"equivalent\"].split(\"-\")[0]\n",
    "            if metric == \"MRR\":\n",
    "                rank = calculate_reciprocal_rank(word_list, target_word)\n",
    "            else:\n",
    "                rank = calculate_precision_at_k(word_list, target_word, k)\n",
    "            ranks.append(rank)\n",
    "            counter = counter + 1\n",
    "\n",
    "\n",
    "    if ranks:  # Ensure division by 0 does not occur\n",
    "        mean_rank = sum(ranks) / len(ranks)\n",
    "    else:\n",
    "        mean_rank = 0\n",
    "\n",
    "    return mean_rank"
   ],
   "metadata": {
    "collapsed": false
   }
  },
  {
   "cell_type": "markdown",
   "source": [
    "# Setup"
   ],
   "metadata": {
    "collapsed": false
   }
  },
  {
   "cell_type": "markdown",
   "source": [
    "## Testsets"
   ],
   "metadata": {
    "collapsed": false
   }
  },
  {
   "cell_type": "markdown",
   "source": [
    "### Testset 1\n",
    "\n",
    "Based on publicly recorded knowledge that for each year lists different names for a particular role, such as U.S. president, U.K. prime minister, NFL superbowl champion team, and so on."
   ],
   "metadata": {
    "collapsed": false
   }
  },
  {
   "cell_type": "code",
   "execution_count": null,
   "outputs": [],
   "source": [
    "test_data_1_all = pd.read_csv(path_to_test_data / \"testset_1.csv\")"
   ],
   "metadata": {
    "collapsed": false
   }
  },
  {
   "cell_type": "code",
   "execution_count": null,
   "outputs": [],
   "source": [
    "test_data_1_all.columns = ['truth', 'equivalent']"
   ],
   "metadata": {
    "collapsed": false
   }
  },
  {
   "cell_type": "code",
   "execution_count": null,
   "outputs": [],
   "source": [
    "test_data_1_all = test_data_1_all.sort_values(by='truth', ascending=True)"
   ],
   "metadata": {
    "collapsed": false
   }
  },
  {
   "cell_type": "code",
   "execution_count": null,
   "outputs": [],
   "source": [
    "test_cases_1_all = test_data_1_all['truth'].unique()"
   ],
   "metadata": {
    "collapsed": false
   }
  },
  {
   "cell_type": "code",
   "execution_count": null,
   "outputs": [],
   "source": [
    "print(\"Testset 1\")\n",
    "print(f\"Testcases (all): {len(test_data_1_all)}\")\n",
    "print(f\"Testcases (unique): {len(test_cases_1_all)}\")"
   ],
   "metadata": {
    "collapsed": false
   }
  },
  {
   "cell_type": "markdown",
   "source": [
    "Now we want to split the testset into static & dynamic testcases as was done by Di Carlo et al. in their paper \"Training Temporal Word Embeddings with a Compass\""
   ],
   "metadata": {
    "collapsed": false
   }
  },
  {
   "cell_type": "code",
   "execution_count": null,
   "outputs": [],
   "source": [
    "# Splitting the columns into words and years\n",
    "split_truth = test_data_1_all['truth'].str.split('-', expand=True)\n",
    "split_equivalent = test_data_1_all['equivalent'].str.split('-', expand=True)\n",
    "\n",
    "# Creating masks for \"static\" and \"dynamic\" conditions\n",
    "static_mask = split_truth[0] == split_equivalent[0]\n",
    "dynamic_mask = split_truth[0] != split_equivalent[0]\n",
    "\n",
    "# Applying the masks to create the separate DataFrames\n",
    "test_data_1_static = test_data_1_all[static_mask]\n",
    "test_data_1_dynamic = test_data_1_all[dynamic_mask]"
   ],
   "metadata": {
    "collapsed": false
   }
  },
  {
   "cell_type": "code",
   "execution_count": null,
   "outputs": [],
   "source": [
    "test_cases_1_static = test_data_1_static['truth'].unique()\n",
    "test_cases_1_dynamic = test_data_1_dynamic['truth'].unique()"
   ],
   "metadata": {
    "collapsed": false
   }
  },
  {
   "cell_type": "code",
   "execution_count": null,
   "outputs": [],
   "source": [
    "print(\"Static\")\n",
    "print(f\"Testcases (all): {len(test_data_1_static)}\")\n",
    "print(f\"Testcases (unique): {len(test_cases_1_static)}\")"
   ],
   "metadata": {
    "collapsed": false
   }
  },
  {
   "cell_type": "code",
   "execution_count": null,
   "outputs": [],
   "source": [
    "print(\"Dynamic\")\n",
    "print(f\"Testcases (all): {len(test_data_1_dynamic)}\")\n",
    "print(f\"Testcases (unique): {len(test_cases_1_dynamic)}\")"
   ],
   "metadata": {
    "collapsed": false
   }
  },
  {
   "cell_type": "markdown",
   "source": [
    "### Testset 2\n",
    "\n",
    "Testset 2 is human-generated, for exploring more interesting concepts like emerging technologies, brands and major events (e.g., disease outbreaks and financial crisis). For constructing the test word pairs, we first select emerging terms which have not been popularized before 1994, then query their well known precedents during 1990 to 1994 (e.g., app-2012 can correspond to software-1990)."
   ],
   "metadata": {
    "collapsed": false
   }
  },
  {
   "cell_type": "code",
   "execution_count": null,
   "outputs": [],
   "source": [
    "test_data_2 = pd.read_csv(path_to_test_data / \"testset_2.csv\")"
   ],
   "metadata": {
    "collapsed": false
   }
  },
  {
   "cell_type": "code",
   "execution_count": null,
   "outputs": [],
   "source": [
    "test_data_2.columns = ['truth', 'equivalent']"
   ],
   "metadata": {
    "collapsed": false
   }
  },
  {
   "cell_type": "code",
   "execution_count": null,
   "outputs": [],
   "source": [
    "test_cases_2 = test_data_2['truth'].unique()"
   ],
   "metadata": {
    "collapsed": false
   }
  },
  {
   "cell_type": "code",
   "execution_count": null,
   "outputs": [],
   "source": [
    "test_data_2 = test_data_2.sort_values(by='truth', ascending=True)"
   ],
   "metadata": {
    "collapsed": false
   }
  },
  {
   "cell_type": "code",
   "execution_count": null,
   "outputs": [],
   "source": [
    "test_data_2.head()"
   ],
   "metadata": {
    "collapsed": false
   }
  },
  {
   "cell_type": "code",
   "execution_count": null,
   "outputs": [],
   "source": [
    "print(\"Testset 2\")\n",
    "print(f\"Testcases (all): {len(test_data_2)}\")\n",
    "print(f\"Testcases (unique): {len(test_cases_2)}\")"
   ],
   "metadata": {
    "collapsed": false
   }
  },
  {
   "cell_type": "markdown",
   "source": [
    "## Models"
   ],
   "metadata": {
    "collapsed": false
   }
  },
  {
   "cell_type": "markdown",
   "source": [
    "### TWEC"
   ],
   "metadata": {
    "collapsed": false
   }
  },
  {
   "cell_type": "code",
   "execution_count": null,
   "outputs": [],
   "source": [
    "model_filenames_cade = glob(str(path_to_twec_model / \"*_data.model\"))"
   ],
   "metadata": {
    "collapsed": false
   }
  },
  {
   "cell_type": "code",
   "execution_count": null,
   "outputs": [],
   "source": [
    "model_filenames_cade"
   ],
   "metadata": {
    "collapsed": false
   }
  },
  {
   "cell_type": "code",
   "execution_count": null,
   "outputs": [],
   "source": [
    "# load models\n",
    "models_cade = {f\"model_{model_file.split('_data')[0][-4:]}\":Word2Vec.load(model_file) for model_file in tqdm(model_filenames_cade)}"
   ],
   "metadata": {
    "collapsed": false
   }
  },
  {
   "cell_type": "code",
   "execution_count": null,
   "outputs": [],
   "source": [
    "models_cade"
   ],
   "metadata": {
    "collapsed": false
   }
  },
  {
   "cell_type": "code",
   "execution_count": null,
   "outputs": [],
   "source": [
    "models_cade = {model_key: models_cade[model_key] for model_key in sorted(models_cade, key=lambda x: int(x.split('_')[1]))}"
   ],
   "metadata": {
    "collapsed": false
   }
  },
  {
   "cell_type": "code",
   "execution_count": null,
   "outputs": [],
   "source": [
    "models_cade"
   ],
   "metadata": {
    "collapsed": false
   }
  },
  {
   "cell_type": "code",
   "execution_count": null,
   "outputs": [],
   "source": [
    "models_cade.keys()"
   ],
   "metadata": {
    "collapsed": false
   }
  },
  {
   "cell_type": "markdown",
   "source": [
    "Create dictionary of testsets that contain all test-words along with their embedding in the respective year"
   ],
   "metadata": {
    "collapsed": false
   }
  },
  {
   "cell_type": "code",
   "execution_count": null,
   "outputs": [],
   "source": [
    "test_case_dict_cade_all = test_util.create_test_case_dict_cade(test_cases_1_all, models_cade)"
   ],
   "metadata": {
    "collapsed": false
   }
  },
  {
   "cell_type": "code",
   "execution_count": null,
   "outputs": [],
   "source": [
    "test_case_dict_cade_static = test_util.create_test_case_dict_cade(test_cases_1_static, models_cade)"
   ],
   "metadata": {
    "collapsed": false
   }
  },
  {
   "cell_type": "code",
   "execution_count": null,
   "outputs": [],
   "source": [
    "test_case_dict_cade_dynamic = test_util.create_test_case_dict_cade(test_cases_1_dynamic, models_cade)"
   ],
   "metadata": {
    "collapsed": false
   }
  },
  {
   "cell_type": "markdown",
   "source": [
    "Retrieve most similar words for each testword in each year"
   ],
   "metadata": {
    "collapsed": false
   }
  },
  {
   "cell_type": "code",
   "execution_count": 38,
   "outputs": [
    {
     "data": {
      "text/plain": "  0%|          | 0/497 [00:00<?, ?it/s]",
      "application/vnd.jupyter.widget-view+json": {
       "version_major": 2,
       "version_minor": 0,
       "model_id": "aa8f9a6adc344ecfb714fa3d84b67786"
      },
      "application/json": {
       "n": 0,
       "total": 497,
       "elapsed": 0.0017747879028320312,
       "ncols": null,
       "nrows": null,
       "prefix": "",
       "ascii": false,
       "unit": "it",
       "unit_scale": false,
       "rate": null,
       "bar_format": null,
       "postfix": null,
       "unit_divisor": 1000,
       "initial": 0,
       "colour": null
      }
     },
     "metadata": {},
     "output_type": "display_data"
    }
   ],
   "source": [
    "similarities_cade_all = test_util.get_similarities_of_models(models_cade, test_case_dict_cade_all)"
   ],
   "metadata": {
    "collapsed": false
   }
  },
  {
   "cell_type": "code",
   "execution_count": 39,
   "outputs": [
    {
     "data": {
      "text/plain": "  0%|          | 0/441 [00:00<?, ?it/s]",
      "application/vnd.jupyter.widget-view+json": {
       "version_major": 2,
       "version_minor": 0,
       "model_id": "bd5054d69cba4b3e908d6a45a1901e10"
      },
      "application/json": {
       "n": 0,
       "total": 441,
       "elapsed": 0.0037240982055664062,
       "ncols": null,
       "nrows": null,
       "prefix": "",
       "ascii": false,
       "unit": "it",
       "unit_scale": false,
       "rate": null,
       "bar_format": null,
       "postfix": null,
       "unit_divisor": 1000,
       "initial": 0,
       "colour": null
      }
     },
     "metadata": {},
     "output_type": "display_data"
    }
   ],
   "source": [
    "similarities_cade_static = test_util.get_similarities_of_models(models_cade, test_case_dict_cade_static)"
   ],
   "metadata": {
    "collapsed": false
   }
  },
  {
   "cell_type": "code",
   "execution_count": 40,
   "outputs": [
    {
     "data": {
      "text/plain": "  0%|          | 0/497 [00:00<?, ?it/s]",
      "application/vnd.jupyter.widget-view+json": {
       "version_major": 2,
       "version_minor": 0,
       "model_id": "8b69d37c2a4d42fdb3cc8c11cc6e39e5"
      },
      "application/json": {
       "n": 0,
       "total": 497,
       "elapsed": 0.002990245819091797,
       "ncols": null,
       "nrows": null,
       "prefix": "",
       "ascii": false,
       "unit": "it",
       "unit_scale": false,
       "rate": null,
       "bar_format": null,
       "postfix": null,
       "unit_divisor": 1000,
       "initial": 0,
       "colour": null
      }
     },
     "metadata": {},
     "output_type": "display_data"
    }
   ],
   "source": [
    "similarities_cade_dynamic = test_util.get_similarities_of_models(models_cade, test_case_dict_cade_dynamic)"
   ],
   "metadata": {
    "collapsed": false
   }
  },
  {
   "cell_type": "markdown",
   "source": [
    "### Static Word2Vec"
   ],
   "metadata": {
    "collapsed": false
   }
  },
  {
   "cell_type": "code",
   "execution_count": 42,
   "outputs": [],
   "source": [
    "model_static = Word2Vec.load(str(path_to_static_model / \"w2v_model.model\"))"
   ],
   "metadata": {
    "collapsed": false
   }
  },
  {
   "cell_type": "code",
   "execution_count": 43,
   "outputs": [
    {
     "name": "stdout",
     "output_type": "stream",
     "text": [
      "0 Testcases are not in the vocab of the model\n"
     ]
    }
   ],
   "source": [
    "test_case_dict_static_all = test_util.create_test_case_dict_static(model_static, test_cases_1_all)"
   ],
   "metadata": {
    "collapsed": false
   }
  },
  {
   "cell_type": "code",
   "execution_count": 44,
   "outputs": [
    {
     "name": "stdout",
     "output_type": "stream",
     "text": [
      "0 Testcases are not in the vocab of the model\n"
     ]
    }
   ],
   "source": [
    "test_case_dict_static_static = test_util.create_test_case_dict_static(model_static, test_cases_1_static)"
   ],
   "metadata": {
    "collapsed": false
   }
  },
  {
   "cell_type": "code",
   "execution_count": 45,
   "outputs": [
    {
     "name": "stdout",
     "output_type": "stream",
     "text": [
      "0 Testcases are not in the vocab of the model\n"
     ]
    }
   ],
   "source": [
    "test_case_dict_static_dynamic = test_util.create_test_case_dict_static(model_static, test_cases_1_dynamic)"
   ],
   "metadata": {
    "collapsed": false
   }
  },
  {
   "cell_type": "code",
   "execution_count": 46,
   "outputs": [
    {
     "data": {
      "text/plain": "  0%|          | 0/499 [00:00<?, ?it/s]",
      "application/vnd.jupyter.widget-view+json": {
       "version_major": 2,
       "version_minor": 0,
       "model_id": "4ccda7597c744f67a33f5ccdbe791b4a"
      },
      "application/json": {
       "n": 0,
       "total": 499,
       "elapsed": 0.0018739700317382812,
       "ncols": null,
       "nrows": null,
       "prefix": "",
       "ascii": false,
       "unit": "it",
       "unit_scale": false,
       "rate": null,
       "bar_format": null,
       "postfix": null,
       "unit_divisor": 1000,
       "initial": 0,
       "colour": null
      }
     },
     "metadata": {},
     "output_type": "display_data"
    }
   ],
   "source": [
    "similarities_static_all = test_util.get_similarities_of_models_static(model_static, test_case_dict_static_all)"
   ],
   "metadata": {
    "collapsed": false
   }
  },
  {
   "cell_type": "code",
   "execution_count": 47,
   "outputs": [
    {
     "data": {
      "text/plain": "  0%|          | 0/443 [00:00<?, ?it/s]",
      "application/vnd.jupyter.widget-view+json": {
       "version_major": 2,
       "version_minor": 0,
       "model_id": "55a4f44480b8447d9bc12a70b78d241f"
      },
      "application/json": {
       "n": 0,
       "total": 443,
       "elapsed": 0.003996849060058594,
       "ncols": null,
       "nrows": null,
       "prefix": "",
       "ascii": false,
       "unit": "it",
       "unit_scale": false,
       "rate": null,
       "bar_format": null,
       "postfix": null,
       "unit_divisor": 1000,
       "initial": 0,
       "colour": null
      }
     },
     "metadata": {},
     "output_type": "display_data"
    }
   ],
   "source": [
    "similarities_static_static = test_util.get_similarities_of_models_static(model_static, test_case_dict_static_static)"
   ],
   "metadata": {
    "collapsed": false
   }
  },
  {
   "cell_type": "code",
   "execution_count": 48,
   "outputs": [
    {
     "data": {
      "text/plain": "  0%|          | 0/499 [00:00<?, ?it/s]",
      "application/vnd.jupyter.widget-view+json": {
       "version_major": 2,
       "version_minor": 0,
       "model_id": "2883083d44274373bb7d4d79db292af8"
      },
      "application/json": {
       "n": 0,
       "total": 499,
       "elapsed": 0.0032389163970947266,
       "ncols": null,
       "nrows": null,
       "prefix": "",
       "ascii": false,
       "unit": "it",
       "unit_scale": false,
       "rate": null,
       "bar_format": null,
       "postfix": null,
       "unit_divisor": 1000,
       "initial": 0,
       "colour": null
      }
     },
     "metadata": {},
     "output_type": "display_data"
    }
   ],
   "source": [
    "similarities_static_dynamic = test_util.get_similarities_of_models_static(model_static, test_case_dict_static_dynamic)"
   ],
   "metadata": {
    "collapsed": false
   }
  },
  {
   "cell_type": "markdown",
   "source": [
    "### TPPMI"
   ],
   "metadata": {
    "collapsed": false
   }
  },
  {
   "cell_type": "code",
   "execution_count": 49,
   "outputs": [
    {
     "name": "stderr",
     "output_type": "stream",
     "text": [
      "UsageError: Line magic function `%autoreload` not found.\n"
     ]
    }
   ],
   "source": [
    "%autoreload 2\n",
    "\n",
    "from src.packages.TPPMI.ppmi_model import PPMIModel\n",
    "from src.packages.TPPMI.tppmi_model import TPPMIModel"
   ],
   "metadata": {
    "collapsed": false
   }
  },
  {
   "cell_type": "code",
   "execution_count": 50,
   "outputs": [],
   "source": [
    "ppmi_data_files = sorted(glob(str(path_to_tppmi_model  / \"*.npz\")))\n",
    "words_files = sorted(glob(str(path_to_tppmi_model  / \"*.pkl\")))"
   ],
   "metadata": {
    "collapsed": false
   }
  },
  {
   "cell_type": "markdown",
   "source": [
    "Split context-words from timestamped-vocabularies"
   ],
   "metadata": {
    "collapsed": false
   }
  },
  {
   "cell_type": "code",
   "execution_count": 51,
   "outputs": [],
   "source": [
    "context_words_file = [path for path in words_files if \"context-words\" in path]\n",
    "ppmi_vocab_files = [path for path in words_files if \"context-words\" not in path]"
   ],
   "metadata": {
    "collapsed": false
   }
  },
  {
   "cell_type": "code",
   "execution_count": 52,
   "outputs": [],
   "source": [
    "# Get ppmi-matrices and vocab\n",
    "ppmi_matrices = {}\n",
    "\n",
    "for filenames in zip(ppmi_vocab_files, ppmi_data_files):\n",
    "    ppmi_matrix = sp.load_npz(filenames[1])\n",
    "    with open(filenames[0], \"rb\") as f:\n",
    "        vocab = pickle.load(f)\n",
    "    key = filenames[0].split(\"ppmi-\")[2][0:4]\n",
    "    ppmi_matrices[key] = {\"ppmi_matrix\" : ppmi_matrix, \"vocab\": vocab}\n",
    "\n",
    "# Get common context-words\n",
    "with open(context_words_file[0], \"rb\") as f:\n",
    "    context_words = pickle.load(f)"
   ],
   "metadata": {
    "collapsed": false
   }
  },
  {
   "cell_type": "code",
   "execution_count": 53,
   "outputs": [
    {
     "data": {
      "text/plain": "dict_keys(['1990', '1991', '1992', '1993', '1994', '1995', '1996', '1997', '1998', '1999', '2000', '2001', '2002', '2003', '2004', '2005', '2006', '2007', '2008', '2009', '2010', '2011', '2012', '2013', '2014', '2015', '2016'])"
     },
     "execution_count": 53,
     "metadata": {},
     "output_type": "execute_result"
    }
   ],
   "source": [
    "ppmi_matrices.keys()"
   ],
   "metadata": {
    "collapsed": false
   }
  },
  {
   "cell_type": "markdown",
   "source": [
    "Create ppmi_model objects"
   ],
   "metadata": {
    "collapsed": false
   }
  },
  {
   "cell_type": "code",
   "execution_count": 54,
   "outputs": [],
   "source": [
    "ppmi_models = {key: PPMIModel.construct_from_data(ppmi_data[\"ppmi_matrix\"], ppmi_data[\"vocab\"], context_words) for key, ppmi_data in ppmi_matrices.items()}"
   ],
   "metadata": {
    "collapsed": false
   }
  },
  {
   "cell_type": "code",
   "execution_count": 55,
   "outputs": [],
   "source": [
    "tppmi_model = TPPMIModel(ppmi_models, dates=\"years\")"
   ],
   "metadata": {
    "collapsed": false
   }
  },
  {
   "cell_type": "code",
   "execution_count": 56,
   "outputs": [],
   "source": [
    "def create_test_case_dict_tppmi(model: TPPMIModel, test_cases : np.ndarray) -> dict:\n",
    "    test_case_dict = dict()\n",
    "    counter = 0\n",
    "    for test_case in test_cases:\n",
    "        word, year = test_case.split(\"-\")\n",
    "        if model.is_in_vocab_of_timestep(word, year):\n",
    "            df = model.get_tppmi([word])\n",
    "            df = df[next(iter(df))]\n",
    "            test_case_dict[test_case] = df.loc[f\"{word}_{year}\"].to_numpy()\n",
    "        else:\n",
    "            counter = counter + 1\n",
    "    print(f\"{counter} Testcases are not in the vocab of the model\")\n",
    "\n",
    "    return test_case_dict"
   ],
   "metadata": {
    "collapsed": false
   }
  },
  {
   "cell_type": "code",
   "execution_count": 57,
   "outputs": [],
   "source": [
    "def get_similarites_of_models_tppmi(model: TPPMIModel, test_word_dict: dict) -> dict:\n",
    "    similarities = dict()\n",
    "    for word, vector in tqdm(test_word_dict.items()):\n",
    "        similarities[word] = model.most_similar_words_by_vector(vector)\n",
    "    return similarities"
   ],
   "metadata": {
    "collapsed": false
   }
  },
  {
   "cell_type": "code",
   "execution_count": 58,
   "outputs": [
    {
     "name": "stdout",
     "output_type": "stream",
     "text": [
      "All words are contained in the vocabulary\n",
      "All words are contained in the vocabulary\n",
      "All words are contained in the vocabulary\n",
      "All words are contained in the vocabulary\n",
      "albright - not in vocab of timestep: 1990\n",
      "albright - not in vocab of timestep: 1992\n",
      "albright - not in vocab of timestep: 2013\n",
      "All words are contained in the vocabulary\n",
      "albright - not in vocab of timestep: 1990\n",
      "albright - not in vocab of timestep: 1992\n",
      "albright - not in vocab of timestep: 2013\n",
      "All words are contained in the vocabulary\n",
      "albright - not in vocab of timestep: 1990\n",
      "albright - not in vocab of timestep: 1992\n",
      "albright - not in vocab of timestep: 2013\n",
      "All words are contained in the vocabulary\n",
      "albright - not in vocab of timestep: 1990\n",
      "albright - not in vocab of timestep: 1992\n",
      "albright - not in vocab of timestep: 2013\n",
      "All words are contained in the vocabulary\n",
      "athens - not in vocab of timestep: 2006\n",
      "All words are contained in the vocabulary\n",
      "All words are contained in the vocabulary\n",
      "All words are contained in the vocabulary\n",
      "All words are contained in the vocabulary\n",
      "barak - not in vocab of timestep: 1990\n",
      "barak - not in vocab of timestep: 1991\n",
      "barak - not in vocab of timestep: 1992\n",
      "barak - not in vocab of timestep: 1994\n",
      "barak - not in vocab of timestep: 1995\n",
      "barak - not in vocab of timestep: 2003\n",
      "barak - not in vocab of timestep: 2006\n",
      "barak - not in vocab of timestep: 2016\n",
      "All words are contained in the vocabulary\n",
      "barak - not in vocab of timestep: 1990\n",
      "barak - not in vocab of timestep: 1991\n",
      "barak - not in vocab of timestep: 1992\n",
      "barak - not in vocab of timestep: 1994\n",
      "barak - not in vocab of timestep: 1995\n",
      "barak - not in vocab of timestep: 2003\n",
      "barak - not in vocab of timestep: 2006\n",
      "barak - not in vocab of timestep: 2016\n",
      "All words are contained in the vocabulary\n",
      "All words are contained in the vocabulary\n",
      "All words are contained in the vocabulary\n",
      "All words are contained in the vocabulary\n",
      "benedict - not in vocab of timestep: 1997\n",
      "All words are contained in the vocabulary\n",
      "benedict - not in vocab of timestep: 1997\n",
      "All words are contained in the vocabulary\n",
      "benedict - not in vocab of timestep: 1997\n",
      "All words are contained in the vocabulary\n",
      "benedict - not in vocab of timestep: 1997\n",
      "All words are contained in the vocabulary\n",
      "benedict - not in vocab of timestep: 1997\n",
      "All words are contained in the vocabulary\n",
      "benedict - not in vocab of timestep: 1997\n",
      "All words are contained in the vocabulary\n",
      "benedict - not in vocab of timestep: 1997\n",
      "All words are contained in the vocabulary\n",
      "benedict - not in vocab of timestep: 1997\n",
      "All words are contained in the vocabulary\n",
      "bernanke - not in vocab of timestep: 1990\n",
      "bernanke - not in vocab of timestep: 1991\n",
      "bernanke - not in vocab of timestep: 1992\n",
      "bernanke - not in vocab of timestep: 1994\n",
      "bernanke - not in vocab of timestep: 1995\n",
      "bernanke - not in vocab of timestep: 1996\n",
      "bernanke - not in vocab of timestep: 1997\n",
      "bernanke - not in vocab of timestep: 1998\n",
      "bernanke - not in vocab of timestep: 1999\n",
      "bernanke - not in vocab of timestep: 2000\n",
      "bernanke - not in vocab of timestep: 2001\n",
      "bernanke - not in vocab of timestep: 2016\n",
      "All words are contained in the vocabulary\n",
      "bernanke - not in vocab of timestep: 1990\n",
      "bernanke - not in vocab of timestep: 1991\n",
      "bernanke - not in vocab of timestep: 1992\n",
      "bernanke - not in vocab of timestep: 1994\n",
      "bernanke - not in vocab of timestep: 1995\n",
      "bernanke - not in vocab of timestep: 1996\n",
      "bernanke - not in vocab of timestep: 1997\n",
      "bernanke - not in vocab of timestep: 1998\n",
      "bernanke - not in vocab of timestep: 1999\n",
      "bernanke - not in vocab of timestep: 2000\n",
      "bernanke - not in vocab of timestep: 2001\n",
      "bernanke - not in vocab of timestep: 2016\n",
      "All words are contained in the vocabulary\n",
      "bernanke - not in vocab of timestep: 1990\n",
      "bernanke - not in vocab of timestep: 1991\n",
      "bernanke - not in vocab of timestep: 1992\n",
      "bernanke - not in vocab of timestep: 1994\n",
      "bernanke - not in vocab of timestep: 1995\n",
      "bernanke - not in vocab of timestep: 1996\n",
      "bernanke - not in vocab of timestep: 1997\n",
      "bernanke - not in vocab of timestep: 1998\n",
      "bernanke - not in vocab of timestep: 1999\n",
      "bernanke - not in vocab of timestep: 2000\n",
      "bernanke - not in vocab of timestep: 2001\n",
      "bernanke - not in vocab of timestep: 2016\n",
      "All words are contained in the vocabulary\n",
      "bernanke - not in vocab of timestep: 1990\n",
      "bernanke - not in vocab of timestep: 1991\n",
      "bernanke - not in vocab of timestep: 1992\n",
      "bernanke - not in vocab of timestep: 1994\n",
      "bernanke - not in vocab of timestep: 1995\n",
      "bernanke - not in vocab of timestep: 1996\n",
      "bernanke - not in vocab of timestep: 1997\n",
      "bernanke - not in vocab of timestep: 1998\n",
      "bernanke - not in vocab of timestep: 1999\n",
      "bernanke - not in vocab of timestep: 2000\n",
      "bernanke - not in vocab of timestep: 2001\n",
      "bernanke - not in vocab of timestep: 2016\n",
      "All words are contained in the vocabulary\n",
      "bernanke - not in vocab of timestep: 1990\n",
      "bernanke - not in vocab of timestep: 1991\n",
      "bernanke - not in vocab of timestep: 1992\n",
      "bernanke - not in vocab of timestep: 1994\n",
      "bernanke - not in vocab of timestep: 1995\n",
      "bernanke - not in vocab of timestep: 1996\n",
      "bernanke - not in vocab of timestep: 1997\n",
      "bernanke - not in vocab of timestep: 1998\n",
      "bernanke - not in vocab of timestep: 1999\n",
      "bernanke - not in vocab of timestep: 2000\n",
      "bernanke - not in vocab of timestep: 2001\n",
      "bernanke - not in vocab of timestep: 2016\n",
      "All words are contained in the vocabulary\n",
      "bernanke - not in vocab of timestep: 1990\n",
      "bernanke - not in vocab of timestep: 1991\n",
      "bernanke - not in vocab of timestep: 1992\n",
      "bernanke - not in vocab of timestep: 1994\n",
      "bernanke - not in vocab of timestep: 1995\n",
      "bernanke - not in vocab of timestep: 1996\n",
      "bernanke - not in vocab of timestep: 1997\n",
      "bernanke - not in vocab of timestep: 1998\n",
      "bernanke - not in vocab of timestep: 1999\n",
      "bernanke - not in vocab of timestep: 2000\n",
      "bernanke - not in vocab of timestep: 2001\n",
      "bernanke - not in vocab of timestep: 2016\n",
      "All words are contained in the vocabulary\n",
      "bernanke - not in vocab of timestep: 1990\n",
      "bernanke - not in vocab of timestep: 1991\n",
      "bernanke - not in vocab of timestep: 1992\n",
      "bernanke - not in vocab of timestep: 1994\n",
      "bernanke - not in vocab of timestep: 1995\n",
      "bernanke - not in vocab of timestep: 1996\n",
      "bernanke - not in vocab of timestep: 1997\n",
      "bernanke - not in vocab of timestep: 1998\n",
      "bernanke - not in vocab of timestep: 1999\n",
      "bernanke - not in vocab of timestep: 2000\n",
      "bernanke - not in vocab of timestep: 2001\n",
      "bernanke - not in vocab of timestep: 2016\n",
      "All words are contained in the vocabulary\n",
      "bernanke - not in vocab of timestep: 1990\n",
      "bernanke - not in vocab of timestep: 1991\n",
      "bernanke - not in vocab of timestep: 1992\n",
      "bernanke - not in vocab of timestep: 1994\n",
      "bernanke - not in vocab of timestep: 1995\n",
      "bernanke - not in vocab of timestep: 1996\n",
      "bernanke - not in vocab of timestep: 1997\n",
      "bernanke - not in vocab of timestep: 1998\n",
      "bernanke - not in vocab of timestep: 1999\n",
      "bernanke - not in vocab of timestep: 2000\n",
      "bernanke - not in vocab of timestep: 2001\n",
      "bernanke - not in vocab of timestep: 2016\n",
      "All words are contained in the vocabulary\n",
      "All words are contained in the vocabulary\n",
      "All words are contained in the vocabulary\n",
      "All words are contained in the vocabulary\n",
      "All words are contained in the vocabulary\n",
      "All words are contained in the vocabulary\n",
      "All words are contained in the vocabulary\n",
      "All words are contained in the vocabulary\n",
      "All words are contained in the vocabulary\n",
      "All words are contained in the vocabulary\n",
      "All words are contained in the vocabulary\n",
      "All words are contained in the vocabulary\n",
      "All words are contained in the vocabulary\n",
      "All words are contained in the vocabulary\n",
      "All words are contained in the vocabulary\n",
      "All words are contained in the vocabulary\n",
      "All words are contained in the vocabulary\n",
      "All words are contained in the vocabulary\n",
      "All words are contained in the vocabulary\n",
      "All words are contained in the vocabulary\n",
      "All words are contained in the vocabulary\n",
      "blasio - not in vocab of timestep: 1990\n",
      "blasio - not in vocab of timestep: 1991\n",
      "blasio - not in vocab of timestep: 1992\n",
      "blasio - not in vocab of timestep: 1993\n",
      "blasio - not in vocab of timestep: 1994\n",
      "blasio - not in vocab of timestep: 1995\n",
      "blasio - not in vocab of timestep: 1996\n",
      "blasio - not in vocab of timestep: 1997\n",
      "blasio - not in vocab of timestep: 1998\n",
      "blasio - not in vocab of timestep: 1999\n",
      "blasio - not in vocab of timestep: 2001\n",
      "blasio - not in vocab of timestep: 2005\n",
      "blasio - not in vocab of timestep: 2006\n",
      "All words are contained in the vocabulary\n",
      "blasio - not in vocab of timestep: 1990\n",
      "blasio - not in vocab of timestep: 1991\n",
      "blasio - not in vocab of timestep: 1992\n",
      "blasio - not in vocab of timestep: 1993\n",
      "blasio - not in vocab of timestep: 1994\n",
      "blasio - not in vocab of timestep: 1995\n",
      "blasio - not in vocab of timestep: 1996\n",
      "blasio - not in vocab of timestep: 1997\n",
      "blasio - not in vocab of timestep: 1998\n",
      "blasio - not in vocab of timestep: 1999\n",
      "blasio - not in vocab of timestep: 2001\n",
      "blasio - not in vocab of timestep: 2005\n",
      "blasio - not in vocab of timestep: 2006\n",
      "All words are contained in the vocabulary\n",
      "blasio - not in vocab of timestep: 1990\n",
      "blasio - not in vocab of timestep: 1991\n",
      "blasio - not in vocab of timestep: 1992\n",
      "blasio - not in vocab of timestep: 1993\n",
      "blasio - not in vocab of timestep: 1994\n",
      "blasio - not in vocab of timestep: 1995\n",
      "blasio - not in vocab of timestep: 1996\n",
      "blasio - not in vocab of timestep: 1997\n",
      "blasio - not in vocab of timestep: 1998\n",
      "blasio - not in vocab of timestep: 1999\n",
      "blasio - not in vocab of timestep: 2001\n",
      "blasio - not in vocab of timestep: 2005\n",
      "blasio - not in vocab of timestep: 2006\n",
      "All words are contained in the vocabulary\n",
      "bloomberg - not in vocab of timestep: 1990\n",
      "bloomberg - not in vocab of timestep: 1991\n",
      "All words are contained in the vocabulary\n",
      "bloomberg - not in vocab of timestep: 1990\n",
      "bloomberg - not in vocab of timestep: 1991\n",
      "All words are contained in the vocabulary\n",
      "bloomberg - not in vocab of timestep: 1990\n",
      "bloomberg - not in vocab of timestep: 1991\n",
      "All words are contained in the vocabulary\n",
      "bloomberg - not in vocab of timestep: 1990\n",
      "bloomberg - not in vocab of timestep: 1991\n",
      "All words are contained in the vocabulary\n",
      "bloomberg - not in vocab of timestep: 1990\n",
      "bloomberg - not in vocab of timestep: 1991\n",
      "All words are contained in the vocabulary\n",
      "bloomberg - not in vocab of timestep: 1990\n",
      "bloomberg - not in vocab of timestep: 1991\n",
      "All words are contained in the vocabulary\n",
      "bloomberg - not in vocab of timestep: 1990\n",
      "bloomberg - not in vocab of timestep: 1991\n",
      "All words are contained in the vocabulary\n",
      "bloomberg - not in vocab of timestep: 1990\n",
      "bloomberg - not in vocab of timestep: 1991\n",
      "All words are contained in the vocabulary\n",
      "bloomberg - not in vocab of timestep: 1990\n",
      "bloomberg - not in vocab of timestep: 1991\n",
      "All words are contained in the vocabulary\n",
      "bloomberg - not in vocab of timestep: 1990\n",
      "bloomberg - not in vocab of timestep: 1991\n",
      "All words are contained in the vocabulary\n",
      "bloomberg - not in vocab of timestep: 1990\n",
      "bloomberg - not in vocab of timestep: 1991\n",
      "All words are contained in the vocabulary\n",
      "bloomberg - not in vocab of timestep: 1990\n",
      "bloomberg - not in vocab of timestep: 1991\n",
      "All words are contained in the vocabulary\n",
      "All words are contained in the vocabulary\n",
      "All words are contained in the vocabulary\n",
      "All words are contained in the vocabulary\n",
      "All words are contained in the vocabulary\n",
      "All words are contained in the vocabulary\n",
      "All words are contained in the vocabulary\n",
      "All words are contained in the vocabulary\n",
      "All words are contained in the vocabulary\n",
      "All words are contained in the vocabulary\n",
      "All words are contained in the vocabulary\n",
      "All words are contained in the vocabulary\n",
      "All words are contained in the vocabulary\n",
      "All words are contained in the vocabulary\n",
      "All words are contained in the vocabulary\n",
      "All words are contained in the vocabulary\n",
      "All words are contained in the vocabulary\n",
      "All words are contained in the vocabulary\n",
      "All words are contained in the vocabulary\n",
      "All words are contained in the vocabulary\n",
      "All words are contained in the vocabulary\n",
      "All words are contained in the vocabulary\n",
      "All words are contained in the vocabulary\n",
      "All words are contained in the vocabulary\n",
      "All words are contained in the vocabulary\n",
      "All words are contained in the vocabulary\n",
      "All words are contained in the vocabulary\n",
      "All words are contained in the vocabulary\n",
      "All words are contained in the vocabulary\n",
      "All words are contained in the vocabulary\n",
      "All words are contained in the vocabulary\n",
      "All words are contained in the vocabulary\n",
      "All words are contained in the vocabulary\n",
      "All words are contained in the vocabulary\n",
      "All words are contained in the vocabulary\n",
      "All words are contained in the vocabulary\n",
      "All words are contained in the vocabulary\n",
      "cavaliers - not in vocab of timestep: 2006\n",
      "All words are contained in the vocabulary\n",
      "All words are contained in the vocabulary\n",
      "cheney - not in vocab of timestep: 1997\n",
      "cheney - not in vocab of timestep: 1999\n",
      "All words are contained in the vocabulary\n",
      "cheney - not in vocab of timestep: 1997\n",
      "cheney - not in vocab of timestep: 1999\n",
      "All words are contained in the vocabulary\n",
      "cheney - not in vocab of timestep: 1997\n",
      "cheney - not in vocab of timestep: 1999\n",
      "All words are contained in the vocabulary\n",
      "cheney - not in vocab of timestep: 1997\n",
      "cheney - not in vocab of timestep: 1999\n",
      "All words are contained in the vocabulary\n",
      "cheney - not in vocab of timestep: 1997\n",
      "cheney - not in vocab of timestep: 1999\n",
      "All words are contained in the vocabulary\n",
      "cheney - not in vocab of timestep: 1997\n",
      "cheney - not in vocab of timestep: 1999\n",
      "All words are contained in the vocabulary\n",
      "cheney - not in vocab of timestep: 1997\n",
      "cheney - not in vocab of timestep: 1999\n",
      "All words are contained in the vocabulary\n",
      "cheney - not in vocab of timestep: 1997\n",
      "cheney - not in vocab of timestep: 1999\n",
      "All words are contained in the vocabulary\n",
      "chirac - not in vocab of timestep: 1993\n",
      "chirac - not in vocab of timestep: 1994\n",
      "chirac - not in vocab of timestep: 2009\n",
      "chirac - not in vocab of timestep: 2013\n",
      "chirac - not in vocab of timestep: 2016\n",
      "All words are contained in the vocabulary\n",
      "chirac - not in vocab of timestep: 1993\n",
      "chirac - not in vocab of timestep: 1994\n",
      "chirac - not in vocab of timestep: 2009\n",
      "chirac - not in vocab of timestep: 2013\n",
      "chirac - not in vocab of timestep: 2016\n",
      "All words are contained in the vocabulary\n",
      "chirac - not in vocab of timestep: 1993\n",
      "chirac - not in vocab of timestep: 1994\n",
      "chirac - not in vocab of timestep: 2009\n",
      "chirac - not in vocab of timestep: 2013\n",
      "chirac - not in vocab of timestep: 2016\n",
      "All words are contained in the vocabulary\n",
      "chirac - not in vocab of timestep: 1993\n",
      "chirac - not in vocab of timestep: 1994\n",
      "chirac - not in vocab of timestep: 2009\n",
      "chirac - not in vocab of timestep: 2013\n",
      "chirac - not in vocab of timestep: 2016\n",
      "All words are contained in the vocabulary\n",
      "chirac - not in vocab of timestep: 1993\n",
      "chirac - not in vocab of timestep: 1994\n",
      "chirac - not in vocab of timestep: 2009\n",
      "chirac - not in vocab of timestep: 2013\n",
      "chirac - not in vocab of timestep: 2016\n",
      "All words are contained in the vocabulary\n",
      "chirac - not in vocab of timestep: 1993\n",
      "chirac - not in vocab of timestep: 1994\n",
      "chirac - not in vocab of timestep: 2009\n",
      "chirac - not in vocab of timestep: 2013\n",
      "chirac - not in vocab of timestep: 2016\n",
      "All words are contained in the vocabulary\n",
      "chirac - not in vocab of timestep: 1993\n",
      "chirac - not in vocab of timestep: 1994\n",
      "chirac - not in vocab of timestep: 2009\n",
      "chirac - not in vocab of timestep: 2013\n",
      "chirac - not in vocab of timestep: 2016\n",
      "All words are contained in the vocabulary\n",
      "chirac - not in vocab of timestep: 1993\n",
      "chirac - not in vocab of timestep: 1994\n",
      "chirac - not in vocab of timestep: 2009\n",
      "chirac - not in vocab of timestep: 2013\n",
      "chirac - not in vocab of timestep: 2016\n",
      "All words are contained in the vocabulary\n",
      "chirac - not in vocab of timestep: 1993\n",
      "chirac - not in vocab of timestep: 1994\n",
      "chirac - not in vocab of timestep: 2009\n",
      "chirac - not in vocab of timestep: 2013\n",
      "chirac - not in vocab of timestep: 2016\n",
      "All words are contained in the vocabulary\n",
      "chirac - not in vocab of timestep: 1993\n",
      "chirac - not in vocab of timestep: 1994\n",
      "chirac - not in vocab of timestep: 2009\n",
      "chirac - not in vocab of timestep: 2013\n",
      "chirac - not in vocab of timestep: 2016\n",
      "All words are contained in the vocabulary\n",
      "chirac - not in vocab of timestep: 1993\n",
      "chirac - not in vocab of timestep: 1994\n",
      "chirac - not in vocab of timestep: 2009\n",
      "chirac - not in vocab of timestep: 2013\n",
      "chirac - not in vocab of timestep: 2016\n",
      "All words are contained in the vocabulary\n",
      "chirac - not in vocab of timestep: 1993\n",
      "chirac - not in vocab of timestep: 1994\n",
      "chirac - not in vocab of timestep: 2009\n",
      "chirac - not in vocab of timestep: 2013\n",
      "chirac - not in vocab of timestep: 2016\n",
      "All words are contained in the vocabulary\n",
      "cholera - not in vocab of timestep: 2006\n",
      "All words are contained in the vocabulary\n",
      "All words are contained in the vocabulary\n",
      "All words are contained in the vocabulary\n",
      "All words are contained in the vocabulary\n",
      "All words are contained in the vocabulary\n",
      "All words are contained in the vocabulary\n",
      "All words are contained in the vocabulary\n",
      "All words are contained in the vocabulary\n",
      "All words are contained in the vocabulary\n",
      "All words are contained in the vocabulary\n",
      "All words are contained in the vocabulary\n",
      "All words are contained in the vocabulary\n",
      "All words are contained in the vocabulary\n",
      "All words are contained in the vocabulary\n",
      "All words are contained in the vocabulary\n",
      "All words are contained in the vocabulary\n",
      "All words are contained in the vocabulary\n",
      "All words are contained in the vocabulary\n",
      "All words are contained in the vocabulary\n",
      "All words are contained in the vocabulary\n",
      "All words are contained in the vocabulary\n",
      "All words are contained in the vocabulary\n",
      "crowe - not in vocab of timestep: 1996\n",
      "All words are contained in the vocabulary\n",
      "dempsey - not in vocab of timestep: 1993\n",
      "All words are contained in the vocabulary\n",
      "dempsey - not in vocab of timestep: 1993\n",
      "All words are contained in the vocabulary\n",
      "dempsey - not in vocab of timestep: 1993\n",
      "All words are contained in the vocabulary\n",
      "dempsey - not in vocab of timestep: 1993\n",
      "All words are contained in the vocabulary\n",
      "dicaprio - not in vocab of timestep: 1990\n",
      "dicaprio - not in vocab of timestep: 1991\n",
      "dicaprio - not in vocab of timestep: 1992\n",
      "dicaprio - not in vocab of timestep: 1993\n",
      "dicaprio - not in vocab of timestep: 1995\n",
      "dicaprio - not in vocab of timestep: 1996\n",
      "All words are contained in the vocabulary\n",
      "dinkins - not in vocab of timestep: 2006\n",
      "All words are contained in the vocabulary\n",
      "dinkins - not in vocab of timestep: 2006\n",
      "All words are contained in the vocabulary\n",
      "dinkins - not in vocab of timestep: 2006\n",
      "All words are contained in the vocabulary\n",
      "dinkins - not in vocab of timestep: 2006\n",
      "All words are contained in the vocabulary\n",
      "djokovic - not in vocab of timestep: 1990\n",
      "djokovic - not in vocab of timestep: 1991\n",
      "djokovic - not in vocab of timestep: 1992\n",
      "djokovic - not in vocab of timestep: 1993\n",
      "djokovic - not in vocab of timestep: 1994\n",
      "djokovic - not in vocab of timestep: 1995\n",
      "djokovic - not in vocab of timestep: 1996\n",
      "djokovic - not in vocab of timestep: 1997\n",
      "djokovic - not in vocab of timestep: 1998\n",
      "djokovic - not in vocab of timestep: 1999\n",
      "djokovic - not in vocab of timestep: 2000\n",
      "djokovic - not in vocab of timestep: 2001\n",
      "djokovic - not in vocab of timestep: 2002\n",
      "djokovic - not in vocab of timestep: 2003\n",
      "djokovic - not in vocab of timestep: 2004\n",
      "djokovic - not in vocab of timestep: 2005\n",
      "djokovic - not in vocab of timestep: 2006\n",
      "All words are contained in the vocabulary\n",
      "djokovic - not in vocab of timestep: 1990\n",
      "djokovic - not in vocab of timestep: 1991\n",
      "djokovic - not in vocab of timestep: 1992\n",
      "djokovic - not in vocab of timestep: 1993\n",
      "djokovic - not in vocab of timestep: 1994\n",
      "djokovic - not in vocab of timestep: 1995\n",
      "djokovic - not in vocab of timestep: 1996\n",
      "djokovic - not in vocab of timestep: 1997\n",
      "djokovic - not in vocab of timestep: 1998\n",
      "djokovic - not in vocab of timestep: 1999\n",
      "djokovic - not in vocab of timestep: 2000\n",
      "djokovic - not in vocab of timestep: 2001\n",
      "djokovic - not in vocab of timestep: 2002\n",
      "djokovic - not in vocab of timestep: 2003\n",
      "djokovic - not in vocab of timestep: 2004\n",
      "djokovic - not in vocab of timestep: 2005\n",
      "djokovic - not in vocab of timestep: 2006\n",
      "All words are contained in the vocabulary\n",
      "djokovic - not in vocab of timestep: 1990\n",
      "djokovic - not in vocab of timestep: 1991\n",
      "djokovic - not in vocab of timestep: 1992\n",
      "djokovic - not in vocab of timestep: 1993\n",
      "djokovic - not in vocab of timestep: 1994\n",
      "djokovic - not in vocab of timestep: 1995\n",
      "djokovic - not in vocab of timestep: 1996\n",
      "djokovic - not in vocab of timestep: 1997\n",
      "djokovic - not in vocab of timestep: 1998\n",
      "djokovic - not in vocab of timestep: 1999\n",
      "djokovic - not in vocab of timestep: 2000\n",
      "djokovic - not in vocab of timestep: 2001\n",
      "djokovic - not in vocab of timestep: 2002\n",
      "djokovic - not in vocab of timestep: 2003\n",
      "djokovic - not in vocab of timestep: 2004\n",
      "djokovic - not in vocab of timestep: 2005\n",
      "djokovic - not in vocab of timestep: 2006\n",
      "All words are contained in the vocabulary\n",
      "djokovic - not in vocab of timestep: 1990\n",
      "djokovic - not in vocab of timestep: 1991\n",
      "djokovic - not in vocab of timestep: 1992\n",
      "djokovic - not in vocab of timestep: 1993\n",
      "djokovic - not in vocab of timestep: 1994\n",
      "djokovic - not in vocab of timestep: 1995\n",
      "djokovic - not in vocab of timestep: 1996\n",
      "djokovic - not in vocab of timestep: 1997\n",
      "djokovic - not in vocab of timestep: 1998\n",
      "djokovic - not in vocab of timestep: 1999\n",
      "djokovic - not in vocab of timestep: 2000\n",
      "djokovic - not in vocab of timestep: 2001\n",
      "djokovic - not in vocab of timestep: 2002\n",
      "djokovic - not in vocab of timestep: 2003\n",
      "djokovic - not in vocab of timestep: 2004\n",
      "djokovic - not in vocab of timestep: 2005\n",
      "djokovic - not in vocab of timestep: 2006\n",
      "All words are contained in the vocabulary\n",
      "ebola - not in vocab of timestep: 1991\n",
      "ebola - not in vocab of timestep: 1992\n",
      "ebola - not in vocab of timestep: 1993\n",
      "ebola - not in vocab of timestep: 1994\n",
      "ebola - not in vocab of timestep: 1997\n",
      "ebola - not in vocab of timestep: 2000\n",
      "ebola - not in vocab of timestep: 2006\n",
      "ebola - not in vocab of timestep: 2007\n",
      "ebola - not in vocab of timestep: 2011\n",
      "All words are contained in the vocabulary\n",
      "edberg - not in vocab of timestep: 1998\n",
      "edberg - not in vocab of timestep: 2000\n",
      "edberg - not in vocab of timestep: 2001\n",
      "edberg - not in vocab of timestep: 2005\n",
      "edberg - not in vocab of timestep: 2006\n",
      "edberg - not in vocab of timestep: 2008\n",
      "edberg - not in vocab of timestep: 2010\n",
      "edberg - not in vocab of timestep: 2011\n",
      "edberg - not in vocab of timestep: 2012\n",
      "All words are contained in the vocabulary\n",
      "edberg - not in vocab of timestep: 1998\n",
      "edberg - not in vocab of timestep: 2000\n",
      "edberg - not in vocab of timestep: 2001\n",
      "edberg - not in vocab of timestep: 2005\n",
      "edberg - not in vocab of timestep: 2006\n",
      "edberg - not in vocab of timestep: 2008\n",
      "edberg - not in vocab of timestep: 2010\n",
      "edberg - not in vocab of timestep: 2011\n",
      "edberg - not in vocab of timestep: 2012\n",
      "All words are contained in the vocabulary\n",
      "euro - not in vocab of timestep: 1990\n",
      "All words are contained in the vocabulary\n",
      "euro - not in vocab of timestep: 1990\n",
      "All words are contained in the vocabulary\n",
      "euro - not in vocab of timestep: 1990\n",
      "All words are contained in the vocabulary\n",
      "federer - not in vocab of timestep: 1990\n",
      "federer - not in vocab of timestep: 1991\n",
      "federer - not in vocab of timestep: 1992\n",
      "federer - not in vocab of timestep: 1993\n",
      "federer - not in vocab of timestep: 1994\n",
      "federer - not in vocab of timestep: 1995\n",
      "federer - not in vocab of timestep: 1996\n",
      "federer - not in vocab of timestep: 1997\n",
      "All words are contained in the vocabulary\n",
      "federer - not in vocab of timestep: 1990\n",
      "federer - not in vocab of timestep: 1991\n",
      "federer - not in vocab of timestep: 1992\n",
      "federer - not in vocab of timestep: 1993\n",
      "federer - not in vocab of timestep: 1994\n",
      "federer - not in vocab of timestep: 1995\n",
      "federer - not in vocab of timestep: 1996\n",
      "federer - not in vocab of timestep: 1997\n",
      "All words are contained in the vocabulary\n",
      "federer - not in vocab of timestep: 1990\n",
      "federer - not in vocab of timestep: 1991\n",
      "federer - not in vocab of timestep: 1992\n",
      "federer - not in vocab of timestep: 1993\n",
      "federer - not in vocab of timestep: 1994\n",
      "federer - not in vocab of timestep: 1995\n",
      "federer - not in vocab of timestep: 1996\n",
      "federer - not in vocab of timestep: 1997\n",
      "All words are contained in the vocabulary\n",
      "federer - not in vocab of timestep: 1990\n",
      "federer - not in vocab of timestep: 1991\n",
      "federer - not in vocab of timestep: 1992\n",
      "federer - not in vocab of timestep: 1993\n",
      "federer - not in vocab of timestep: 1994\n",
      "federer - not in vocab of timestep: 1995\n",
      "federer - not in vocab of timestep: 1996\n",
      "federer - not in vocab of timestep: 1997\n",
      "All words are contained in the vocabulary\n",
      "federer - not in vocab of timestep: 1990\n",
      "federer - not in vocab of timestep: 1991\n",
      "federer - not in vocab of timestep: 1992\n",
      "federer - not in vocab of timestep: 1993\n",
      "federer - not in vocab of timestep: 1994\n",
      "federer - not in vocab of timestep: 1995\n",
      "federer - not in vocab of timestep: 1996\n",
      "federer - not in vocab of timestep: 1997\n",
      "All words are contained in the vocabulary\n",
      "All words are contained in the vocabulary\n",
      "All words are contained in the vocabulary\n",
      "All words are contained in the vocabulary\n",
      "All words are contained in the vocabulary\n",
      "All words are contained in the vocabulary\n",
      "freeh - not in vocab of timestep: 1990\n",
      "freeh - not in vocab of timestep: 1991\n",
      "freeh - not in vocab of timestep: 1992\n",
      "freeh - not in vocab of timestep: 2003\n",
      "freeh - not in vocab of timestep: 2006\n",
      "freeh - not in vocab of timestep: 2011\n",
      "freeh - not in vocab of timestep: 2016\n",
      "All words are contained in the vocabulary\n",
      "freeh - not in vocab of timestep: 1990\n",
      "freeh - not in vocab of timestep: 1991\n",
      "freeh - not in vocab of timestep: 1992\n",
      "freeh - not in vocab of timestep: 2003\n",
      "freeh - not in vocab of timestep: 2006\n",
      "freeh - not in vocab of timestep: 2011\n",
      "freeh - not in vocab of timestep: 2016\n",
      "All words are contained in the vocabulary\n",
      "freeh - not in vocab of timestep: 1990\n",
      "freeh - not in vocab of timestep: 1991\n",
      "freeh - not in vocab of timestep: 1992\n",
      "freeh - not in vocab of timestep: 2003\n",
      "freeh - not in vocab of timestep: 2006\n",
      "freeh - not in vocab of timestep: 2011\n",
      "freeh - not in vocab of timestep: 2016\n",
      "All words are contained in the vocabulary\n",
      "freeh - not in vocab of timestep: 1990\n",
      "freeh - not in vocab of timestep: 1991\n",
      "freeh - not in vocab of timestep: 1992\n",
      "freeh - not in vocab of timestep: 2003\n",
      "freeh - not in vocab of timestep: 2006\n",
      "freeh - not in vocab of timestep: 2011\n",
      "freeh - not in vocab of timestep: 2016\n",
      "All words are contained in the vocabulary\n",
      "freeh - not in vocab of timestep: 1990\n",
      "freeh - not in vocab of timestep: 1991\n",
      "freeh - not in vocab of timestep: 1992\n",
      "freeh - not in vocab of timestep: 2003\n",
      "freeh - not in vocab of timestep: 2006\n",
      "freeh - not in vocab of timestep: 2011\n",
      "freeh - not in vocab of timestep: 2016\n",
      "All words are contained in the vocabulary\n",
      "freeh - not in vocab of timestep: 1990\n",
      "freeh - not in vocab of timestep: 1991\n",
      "freeh - not in vocab of timestep: 1992\n",
      "freeh - not in vocab of timestep: 2003\n",
      "freeh - not in vocab of timestep: 2006\n",
      "freeh - not in vocab of timestep: 2011\n",
      "freeh - not in vocab of timestep: 2016\n",
      "All words are contained in the vocabulary\n",
      "freeh - not in vocab of timestep: 1990\n",
      "freeh - not in vocab of timestep: 1991\n",
      "freeh - not in vocab of timestep: 1992\n",
      "freeh - not in vocab of timestep: 2003\n",
      "freeh - not in vocab of timestep: 2006\n",
      "freeh - not in vocab of timestep: 2011\n",
      "freeh - not in vocab of timestep: 2016\n",
      "All words are contained in the vocabulary\n",
      "freeh - not in vocab of timestep: 1990\n",
      "freeh - not in vocab of timestep: 1991\n",
      "freeh - not in vocab of timestep: 1992\n",
      "freeh - not in vocab of timestep: 2003\n",
      "freeh - not in vocab of timestep: 2006\n",
      "freeh - not in vocab of timestep: 2011\n",
      "freeh - not in vocab of timestep: 2016\n",
      "All words are contained in the vocabulary\n",
      "All words are contained in the vocabulary\n",
      "All words are contained in the vocabulary\n",
      "All words are contained in the vocabulary\n",
      "All words are contained in the vocabulary\n",
      "All words are contained in the vocabulary\n",
      "All words are contained in the vocabulary\n",
      "All words are contained in the vocabulary\n",
      "All words are contained in the vocabulary\n",
      "All words are contained in the vocabulary\n",
      "All words are contained in the vocabulary\n",
      "All words are contained in the vocabulary\n",
      "All words are contained in the vocabulary\n",
      "All words are contained in the vocabulary\n",
      "All words are contained in the vocabulary\n",
      "All words are contained in the vocabulary\n",
      "All words are contained in the vocabulary\n",
      "All words are contained in the vocabulary\n",
      "All words are contained in the vocabulary\n",
      "All words are contained in the vocabulary\n",
      "All words are contained in the vocabulary\n",
      "All words are contained in the vocabulary\n",
      "All words are contained in the vocabulary\n",
      "All words are contained in the vocabulary\n",
      "All words are contained in the vocabulary\n",
      "All words are contained in the vocabulary\n",
      "All words are contained in the vocabulary\n",
      "All words are contained in the vocabulary\n",
      "All words are contained in the vocabulary\n",
      "All words are contained in the vocabulary\n",
      "All words are contained in the vocabulary\n",
      "All words are contained in the vocabulary\n",
      "All words are contained in the vocabulary\n",
      "All words are contained in the vocabulary\n",
      "All words are contained in the vocabulary\n",
      "All words are contained in the vocabulary\n",
      "All words are contained in the vocabulary\n",
      "All words are contained in the vocabulary\n",
      "All words are contained in the vocabulary\n",
      "All words are contained in the vocabulary\n",
      "All words are contained in the vocabulary\n",
      "All words are contained in the vocabulary\n",
      "All words are contained in the vocabulary\n",
      "All words are contained in the vocabulary\n",
      "All words are contained in the vocabulary\n",
      "All words are contained in the vocabulary\n",
      "hewitt - not in vocab of timestep: 1990\n",
      "All words are contained in the vocabulary\n",
      "hewitt - not in vocab of timestep: 1990\n",
      "All words are contained in the vocabulary\n",
      "All words are contained in the vocabulary\n",
      "hollande - not in vocab of timestep: 1990\n",
      "hollande - not in vocab of timestep: 1991\n",
      "hollande - not in vocab of timestep: 1992\n",
      "hollande - not in vocab of timestep: 1993\n",
      "hollande - not in vocab of timestep: 1994\n",
      "hollande - not in vocab of timestep: 1995\n",
      "hollande - not in vocab of timestep: 1996\n",
      "hollande - not in vocab of timestep: 1997\n",
      "hollande - not in vocab of timestep: 1998\n",
      "hollande - not in vocab of timestep: 1999\n",
      "hollande - not in vocab of timestep: 2000\n",
      "hollande - not in vocab of timestep: 2001\n",
      "hollande - not in vocab of timestep: 2003\n",
      "hollande - not in vocab of timestep: 2004\n",
      "hollande - not in vocab of timestep: 2005\n",
      "hollande - not in vocab of timestep: 2006\n",
      "hollande - not in vocab of timestep: 2007\n",
      "hollande - not in vocab of timestep: 2009\n",
      "All words are contained in the vocabulary\n",
      "hollande - not in vocab of timestep: 1990\n",
      "hollande - not in vocab of timestep: 1991\n",
      "hollande - not in vocab of timestep: 1992\n",
      "hollande - not in vocab of timestep: 1993\n",
      "hollande - not in vocab of timestep: 1994\n",
      "hollande - not in vocab of timestep: 1995\n",
      "hollande - not in vocab of timestep: 1996\n",
      "hollande - not in vocab of timestep: 1997\n",
      "hollande - not in vocab of timestep: 1998\n",
      "hollande - not in vocab of timestep: 1999\n",
      "hollande - not in vocab of timestep: 2000\n",
      "hollande - not in vocab of timestep: 2001\n",
      "hollande - not in vocab of timestep: 2003\n",
      "hollande - not in vocab of timestep: 2004\n",
      "hollande - not in vocab of timestep: 2005\n",
      "hollande - not in vocab of timestep: 2006\n",
      "hollande - not in vocab of timestep: 2007\n",
      "hollande - not in vocab of timestep: 2009\n",
      "All words are contained in the vocabulary\n",
      "hollande - not in vocab of timestep: 1990\n",
      "hollande - not in vocab of timestep: 1991\n",
      "hollande - not in vocab of timestep: 1992\n",
      "hollande - not in vocab of timestep: 1993\n",
      "hollande - not in vocab of timestep: 1994\n",
      "hollande - not in vocab of timestep: 1995\n",
      "hollande - not in vocab of timestep: 1996\n",
      "hollande - not in vocab of timestep: 1997\n",
      "hollande - not in vocab of timestep: 1998\n",
      "hollande - not in vocab of timestep: 1999\n",
      "hollande - not in vocab of timestep: 2000\n",
      "hollande - not in vocab of timestep: 2001\n",
      "hollande - not in vocab of timestep: 2003\n",
      "hollande - not in vocab of timestep: 2004\n",
      "hollande - not in vocab of timestep: 2005\n",
      "hollande - not in vocab of timestep: 2006\n",
      "hollande - not in vocab of timestep: 2007\n",
      "hollande - not in vocab of timestep: 2009\n",
      "All words are contained in the vocabulary\n",
      "hollande - not in vocab of timestep: 1990\n",
      "hollande - not in vocab of timestep: 1991\n",
      "hollande - not in vocab of timestep: 1992\n",
      "hollande - not in vocab of timestep: 1993\n",
      "hollande - not in vocab of timestep: 1994\n",
      "hollande - not in vocab of timestep: 1995\n",
      "hollande - not in vocab of timestep: 1996\n",
      "hollande - not in vocab of timestep: 1997\n",
      "hollande - not in vocab of timestep: 1998\n",
      "hollande - not in vocab of timestep: 1999\n",
      "hollande - not in vocab of timestep: 2000\n",
      "hollande - not in vocab of timestep: 2001\n",
      "hollande - not in vocab of timestep: 2003\n",
      "hollande - not in vocab of timestep: 2004\n",
      "hollande - not in vocab of timestep: 2005\n",
      "hollande - not in vocab of timestep: 2006\n",
      "hollande - not in vocab of timestep: 2007\n",
      "hollande - not in vocab of timestep: 2009\n",
      "All words are contained in the vocabulary\n",
      "hollande - not in vocab of timestep: 1990\n",
      "hollande - not in vocab of timestep: 1991\n",
      "hollande - not in vocab of timestep: 1992\n",
      "hollande - not in vocab of timestep: 1993\n",
      "hollande - not in vocab of timestep: 1994\n",
      "hollande - not in vocab of timestep: 1995\n",
      "hollande - not in vocab of timestep: 1996\n",
      "hollande - not in vocab of timestep: 1997\n",
      "hollande - not in vocab of timestep: 1998\n",
      "hollande - not in vocab of timestep: 1999\n",
      "hollande - not in vocab of timestep: 2000\n",
      "hollande - not in vocab of timestep: 2001\n",
      "hollande - not in vocab of timestep: 2003\n",
      "hollande - not in vocab of timestep: 2004\n",
      "hollande - not in vocab of timestep: 2005\n",
      "hollande - not in vocab of timestep: 2006\n",
      "hollande - not in vocab of timestep: 2007\n",
      "hollande - not in vocab of timestep: 2009\n",
      "All words are contained in the vocabulary\n",
      "All words are contained in the vocabulary\n",
      "All words are contained in the vocabulary\n",
      "All words are contained in the vocabulary\n",
      "ike - not in vocab of timestep: 2006\n",
      "All words are contained in the vocabulary\n",
      "katrina - not in vocab of timestep: 1990\n",
      "katrina - not in vocab of timestep: 1991\n",
      "katrina - not in vocab of timestep: 1994\n",
      "katrina - not in vocab of timestep: 1998\n",
      "katrina - not in vocab of timestep: 2001\n",
      "All words are contained in the vocabulary\n",
      "All words are contained in the vocabulary\n",
      "All words are contained in the vocabulary\n",
      "All words are contained in the vocabulary\n",
      "All words are contained in the vocabulary\n",
      "kidman - not in vocab of timestep: 1990\n",
      "kidman - not in vocab of timestep: 1991\n",
      "kidman - not in vocab of timestep: 1992\n",
      "kidman - not in vocab of timestep: 1993\n",
      "kidman - not in vocab of timestep: 1994\n",
      "kidman - not in vocab of timestep: 1996\n",
      "All words are contained in the vocabulary\n",
      "All words are contained in the vocabulary\n",
      "kohl - not in vocab of timestep: 2006\n",
      "kohl - not in vocab of timestep: 2011\n",
      "kohl - not in vocab of timestep: 2012\n",
      "kohl - not in vocab of timestep: 2016\n",
      "All words are contained in the vocabulary\n",
      "kohl - not in vocab of timestep: 2006\n",
      "kohl - not in vocab of timestep: 2011\n",
      "kohl - not in vocab of timestep: 2012\n",
      "kohl - not in vocab of timestep: 2016\n",
      "All words are contained in the vocabulary\n",
      "kohl - not in vocab of timestep: 2006\n",
      "kohl - not in vocab of timestep: 2011\n",
      "kohl - not in vocab of timestep: 2012\n",
      "kohl - not in vocab of timestep: 2016\n",
      "All words are contained in the vocabulary\n",
      "kohl - not in vocab of timestep: 2006\n",
      "kohl - not in vocab of timestep: 2011\n",
      "kohl - not in vocab of timestep: 2012\n",
      "kohl - not in vocab of timestep: 2016\n",
      "All words are contained in the vocabulary\n",
      "kohl - not in vocab of timestep: 2006\n",
      "kohl - not in vocab of timestep: 2011\n",
      "kohl - not in vocab of timestep: 2012\n",
      "kohl - not in vocab of timestep: 2016\n",
      "All words are contained in the vocabulary\n",
      "kohl - not in vocab of timestep: 2006\n",
      "kohl - not in vocab of timestep: 2011\n",
      "kohl - not in vocab of timestep: 2012\n",
      "kohl - not in vocab of timestep: 2016\n",
      "All words are contained in the vocabulary\n",
      "kohl - not in vocab of timestep: 2006\n",
      "kohl - not in vocab of timestep: 2011\n",
      "kohl - not in vocab of timestep: 2012\n",
      "kohl - not in vocab of timestep: 2016\n",
      "All words are contained in the vocabulary\n",
      "kohl - not in vocab of timestep: 2006\n",
      "kohl - not in vocab of timestep: 2011\n",
      "kohl - not in vocab of timestep: 2012\n",
      "kohl - not in vocab of timestep: 2016\n",
      "All words are contained in the vocabulary\n",
      "All words are contained in the vocabulary\n",
      "All words are contained in the vocabulary\n",
      "All words are contained in the vocabulary\n",
      "All words are contained in the vocabulary\n",
      "All words are contained in the vocabulary\n",
      "All words are contained in the vocabulary\n",
      "larson - not in vocab of timestep: 1997\n",
      "larson - not in vocab of timestep: 1998\n",
      "All words are contained in the vocabulary\n",
      "All words are contained in the vocabulary\n",
      "likud - not in vocab of timestep: 2006\n",
      "likud - not in vocab of timestep: 2008\n",
      "likud - not in vocab of timestep: 2016\n",
      "All words are contained in the vocabulary\n",
      "likud - not in vocab of timestep: 2006\n",
      "likud - not in vocab of timestep: 2008\n",
      "likud - not in vocab of timestep: 2016\n",
      "All words are contained in the vocabulary\n",
      "All words are contained in the vocabulary\n",
      "All words are contained in the vocabulary\n",
      "All words are contained in the vocabulary\n",
      "All words are contained in the vocabulary\n",
      "All words are contained in the vocabulary\n",
      "All words are contained in the vocabulary\n",
      "All words are contained in the vocabulary\n",
      "All words are contained in the vocabulary\n",
      "All words are contained in the vocabulary\n",
      "All words are contained in the vocabulary\n",
      "All words are contained in the vocabulary\n",
      "All words are contained in the vocabulary\n",
      "medvedev - not in vocab of timestep: 1998\n",
      "medvedev - not in vocab of timestep: 2001\n",
      "medvedev - not in vocab of timestep: 2002\n",
      "medvedev - not in vocab of timestep: 2003\n",
      "medvedev - not in vocab of timestep: 2004\n",
      "medvedev - not in vocab of timestep: 2005\n",
      "medvedev - not in vocab of timestep: 2006\n",
      "All words are contained in the vocabulary\n",
      "medvedev - not in vocab of timestep: 1998\n",
      "medvedev - not in vocab of timestep: 2001\n",
      "medvedev - not in vocab of timestep: 2002\n",
      "medvedev - not in vocab of timestep: 2003\n",
      "medvedev - not in vocab of timestep: 2004\n",
      "medvedev - not in vocab of timestep: 2005\n",
      "medvedev - not in vocab of timestep: 2006\n",
      "All words are contained in the vocabulary\n",
      "medvedev - not in vocab of timestep: 1998\n",
      "medvedev - not in vocab of timestep: 2001\n",
      "medvedev - not in vocab of timestep: 2002\n",
      "medvedev - not in vocab of timestep: 2003\n",
      "medvedev - not in vocab of timestep: 2004\n",
      "medvedev - not in vocab of timestep: 2005\n",
      "medvedev - not in vocab of timestep: 2006\n",
      "All words are contained in the vocabulary\n",
      "medvedev - not in vocab of timestep: 1998\n",
      "medvedev - not in vocab of timestep: 2001\n",
      "medvedev - not in vocab of timestep: 2002\n",
      "medvedev - not in vocab of timestep: 2003\n",
      "medvedev - not in vocab of timestep: 2004\n",
      "medvedev - not in vocab of timestep: 2005\n",
      "medvedev - not in vocab of timestep: 2006\n",
      "All words are contained in the vocabulary\n",
      "merkel - not in vocab of timestep: 1990\n",
      "merkel - not in vocab of timestep: 1991\n",
      "merkel - not in vocab of timestep: 1992\n",
      "merkel - not in vocab of timestep: 1993\n",
      "merkel - not in vocab of timestep: 1994\n",
      "merkel - not in vocab of timestep: 1995\n",
      "merkel - not in vocab of timestep: 1996\n",
      "merkel - not in vocab of timestep: 1997\n",
      "merkel - not in vocab of timestep: 1998\n",
      "merkel - not in vocab of timestep: 1999\n",
      "merkel - not in vocab of timestep: 2000\n",
      "merkel - not in vocab of timestep: 2002\n",
      "merkel - not in vocab of timestep: 2006\n",
      "All words are contained in the vocabulary\n",
      "merkel - not in vocab of timestep: 1990\n",
      "merkel - not in vocab of timestep: 1991\n",
      "merkel - not in vocab of timestep: 1992\n",
      "merkel - not in vocab of timestep: 1993\n",
      "merkel - not in vocab of timestep: 1994\n",
      "merkel - not in vocab of timestep: 1995\n",
      "merkel - not in vocab of timestep: 1996\n",
      "merkel - not in vocab of timestep: 1997\n",
      "merkel - not in vocab of timestep: 1998\n",
      "merkel - not in vocab of timestep: 1999\n",
      "merkel - not in vocab of timestep: 2000\n",
      "merkel - not in vocab of timestep: 2002\n",
      "merkel - not in vocab of timestep: 2006\n",
      "All words are contained in the vocabulary\n",
      "merkel - not in vocab of timestep: 1990\n",
      "merkel - not in vocab of timestep: 1991\n",
      "merkel - not in vocab of timestep: 1992\n",
      "merkel - not in vocab of timestep: 1993\n",
      "merkel - not in vocab of timestep: 1994\n",
      "merkel - not in vocab of timestep: 1995\n",
      "merkel - not in vocab of timestep: 1996\n",
      "merkel - not in vocab of timestep: 1997\n",
      "merkel - not in vocab of timestep: 1998\n",
      "merkel - not in vocab of timestep: 1999\n",
      "merkel - not in vocab of timestep: 2000\n",
      "merkel - not in vocab of timestep: 2002\n",
      "merkel - not in vocab of timestep: 2006\n",
      "All words are contained in the vocabulary\n",
      "merkel - not in vocab of timestep: 1990\n",
      "merkel - not in vocab of timestep: 1991\n",
      "merkel - not in vocab of timestep: 1992\n",
      "merkel - not in vocab of timestep: 1993\n",
      "merkel - not in vocab of timestep: 1994\n",
      "merkel - not in vocab of timestep: 1995\n",
      "merkel - not in vocab of timestep: 1996\n",
      "merkel - not in vocab of timestep: 1997\n",
      "merkel - not in vocab of timestep: 1998\n",
      "merkel - not in vocab of timestep: 1999\n",
      "merkel - not in vocab of timestep: 2000\n",
      "merkel - not in vocab of timestep: 2002\n",
      "merkel - not in vocab of timestep: 2006\n",
      "All words are contained in the vocabulary\n",
      "merkel - not in vocab of timestep: 1990\n",
      "merkel - not in vocab of timestep: 1991\n",
      "merkel - not in vocab of timestep: 1992\n",
      "merkel - not in vocab of timestep: 1993\n",
      "merkel - not in vocab of timestep: 1994\n",
      "merkel - not in vocab of timestep: 1995\n",
      "merkel - not in vocab of timestep: 1996\n",
      "merkel - not in vocab of timestep: 1997\n",
      "merkel - not in vocab of timestep: 1998\n",
      "merkel - not in vocab of timestep: 1999\n",
      "merkel - not in vocab of timestep: 2000\n",
      "merkel - not in vocab of timestep: 2002\n",
      "merkel - not in vocab of timestep: 2006\n",
      "All words are contained in the vocabulary\n",
      "merkel - not in vocab of timestep: 1990\n",
      "merkel - not in vocab of timestep: 1991\n",
      "merkel - not in vocab of timestep: 1992\n",
      "merkel - not in vocab of timestep: 1993\n",
      "merkel - not in vocab of timestep: 1994\n",
      "merkel - not in vocab of timestep: 1995\n",
      "merkel - not in vocab of timestep: 1996\n",
      "merkel - not in vocab of timestep: 1997\n",
      "merkel - not in vocab of timestep: 1998\n",
      "merkel - not in vocab of timestep: 1999\n",
      "merkel - not in vocab of timestep: 2000\n",
      "merkel - not in vocab of timestep: 2002\n",
      "merkel - not in vocab of timestep: 2006\n",
      "All words are contained in the vocabulary\n",
      "merkel - not in vocab of timestep: 1990\n",
      "merkel - not in vocab of timestep: 1991\n",
      "merkel - not in vocab of timestep: 1992\n",
      "merkel - not in vocab of timestep: 1993\n",
      "merkel - not in vocab of timestep: 1994\n",
      "merkel - not in vocab of timestep: 1995\n",
      "merkel - not in vocab of timestep: 1996\n",
      "merkel - not in vocab of timestep: 1997\n",
      "merkel - not in vocab of timestep: 1998\n",
      "merkel - not in vocab of timestep: 1999\n",
      "merkel - not in vocab of timestep: 2000\n",
      "merkel - not in vocab of timestep: 2002\n",
      "merkel - not in vocab of timestep: 2006\n",
      "All words are contained in the vocabulary\n",
      "merkel - not in vocab of timestep: 1990\n",
      "merkel - not in vocab of timestep: 1991\n",
      "merkel - not in vocab of timestep: 1992\n",
      "merkel - not in vocab of timestep: 1993\n",
      "merkel - not in vocab of timestep: 1994\n",
      "merkel - not in vocab of timestep: 1995\n",
      "merkel - not in vocab of timestep: 1996\n",
      "merkel - not in vocab of timestep: 1997\n",
      "merkel - not in vocab of timestep: 1998\n",
      "merkel - not in vocab of timestep: 1999\n",
      "merkel - not in vocab of timestep: 2000\n",
      "merkel - not in vocab of timestep: 2002\n",
      "merkel - not in vocab of timestep: 2006\n",
      "All words are contained in the vocabulary\n",
      "merkel - not in vocab of timestep: 1990\n",
      "merkel - not in vocab of timestep: 1991\n",
      "merkel - not in vocab of timestep: 1992\n",
      "merkel - not in vocab of timestep: 1993\n",
      "merkel - not in vocab of timestep: 1994\n",
      "merkel - not in vocab of timestep: 1995\n",
      "merkel - not in vocab of timestep: 1996\n",
      "merkel - not in vocab of timestep: 1997\n",
      "merkel - not in vocab of timestep: 1998\n",
      "merkel - not in vocab of timestep: 1999\n",
      "merkel - not in vocab of timestep: 2000\n",
      "merkel - not in vocab of timestep: 2002\n",
      "merkel - not in vocab of timestep: 2006\n",
      "All words are contained in the vocabulary\n",
      "merkel - not in vocab of timestep: 1990\n",
      "merkel - not in vocab of timestep: 1991\n",
      "merkel - not in vocab of timestep: 1992\n",
      "merkel - not in vocab of timestep: 1993\n",
      "merkel - not in vocab of timestep: 1994\n",
      "merkel - not in vocab of timestep: 1995\n",
      "merkel - not in vocab of timestep: 1996\n",
      "merkel - not in vocab of timestep: 1997\n",
      "merkel - not in vocab of timestep: 1998\n",
      "merkel - not in vocab of timestep: 1999\n",
      "merkel - not in vocab of timestep: 2000\n",
      "merkel - not in vocab of timestep: 2002\n",
      "merkel - not in vocab of timestep: 2006\n",
      "All words are contained in the vocabulary\n",
      "merkel - not in vocab of timestep: 1990\n",
      "merkel - not in vocab of timestep: 1991\n",
      "merkel - not in vocab of timestep: 1992\n",
      "merkel - not in vocab of timestep: 1993\n",
      "merkel - not in vocab of timestep: 1994\n",
      "merkel - not in vocab of timestep: 1995\n",
      "merkel - not in vocab of timestep: 1996\n",
      "merkel - not in vocab of timestep: 1997\n",
      "merkel - not in vocab of timestep: 1998\n",
      "merkel - not in vocab of timestep: 1999\n",
      "merkel - not in vocab of timestep: 2000\n",
      "merkel - not in vocab of timestep: 2002\n",
      "merkel - not in vocab of timestep: 2006\n",
      "All words are contained in the vocabulary\n",
      "mitterrand - not in vocab of timestep: 2000\n",
      "mitterrand - not in vocab of timestep: 2004\n",
      "mitterrand - not in vocab of timestep: 2006\n",
      "mitterrand - not in vocab of timestep: 2016\n",
      "All words are contained in the vocabulary\n",
      "mitterrand - not in vocab of timestep: 2000\n",
      "mitterrand - not in vocab of timestep: 2004\n",
      "mitterrand - not in vocab of timestep: 2006\n",
      "mitterrand - not in vocab of timestep: 2016\n",
      "All words are contained in the vocabulary\n",
      "mitterrand - not in vocab of timestep: 2000\n",
      "mitterrand - not in vocab of timestep: 2004\n",
      "mitterrand - not in vocab of timestep: 2006\n",
      "mitterrand - not in vocab of timestep: 2016\n",
      "All words are contained in the vocabulary\n",
      "mitterrand - not in vocab of timestep: 2000\n",
      "mitterrand - not in vocab of timestep: 2004\n",
      "mitterrand - not in vocab of timestep: 2006\n",
      "mitterrand - not in vocab of timestep: 2016\n",
      "All words are contained in the vocabulary\n",
      "mitterrand - not in vocab of timestep: 2000\n",
      "mitterrand - not in vocab of timestep: 2004\n",
      "mitterrand - not in vocab of timestep: 2006\n",
      "mitterrand - not in vocab of timestep: 2016\n",
      "All words are contained in the vocabulary\n",
      "modi - not in vocab of timestep: 1990\n",
      "modi - not in vocab of timestep: 1991\n",
      "modi - not in vocab of timestep: 1992\n",
      "modi - not in vocab of timestep: 1993\n",
      "modi - not in vocab of timestep: 1994\n",
      "modi - not in vocab of timestep: 1995\n",
      "modi - not in vocab of timestep: 1996\n",
      "modi - not in vocab of timestep: 1997\n",
      "modi - not in vocab of timestep: 1998\n",
      "modi - not in vocab of timestep: 1999\n",
      "modi - not in vocab of timestep: 2000\n",
      "modi - not in vocab of timestep: 2001\n",
      "modi - not in vocab of timestep: 2003\n",
      "modi - not in vocab of timestep: 2004\n",
      "modi - not in vocab of timestep: 2005\n",
      "modi - not in vocab of timestep: 2006\n",
      "modi - not in vocab of timestep: 2007\n",
      "modi - not in vocab of timestep: 2008\n",
      "modi - not in vocab of timestep: 2010\n",
      "modi - not in vocab of timestep: 2011\n",
      "All words are contained in the vocabulary\n",
      "modi - not in vocab of timestep: 1990\n",
      "modi - not in vocab of timestep: 1991\n",
      "modi - not in vocab of timestep: 1992\n",
      "modi - not in vocab of timestep: 1993\n",
      "modi - not in vocab of timestep: 1994\n",
      "modi - not in vocab of timestep: 1995\n",
      "modi - not in vocab of timestep: 1996\n",
      "modi - not in vocab of timestep: 1997\n",
      "modi - not in vocab of timestep: 1998\n",
      "modi - not in vocab of timestep: 1999\n",
      "modi - not in vocab of timestep: 2000\n",
      "modi - not in vocab of timestep: 2001\n",
      "modi - not in vocab of timestep: 2003\n",
      "modi - not in vocab of timestep: 2004\n",
      "modi - not in vocab of timestep: 2005\n",
      "modi - not in vocab of timestep: 2006\n",
      "modi - not in vocab of timestep: 2007\n",
      "modi - not in vocab of timestep: 2008\n",
      "modi - not in vocab of timestep: 2010\n",
      "modi - not in vocab of timestep: 2011\n",
      "All words are contained in the vocabulary\n",
      "modi - not in vocab of timestep: 1990\n",
      "modi - not in vocab of timestep: 1991\n",
      "modi - not in vocab of timestep: 1992\n",
      "modi - not in vocab of timestep: 1993\n",
      "modi - not in vocab of timestep: 1994\n",
      "modi - not in vocab of timestep: 1995\n",
      "modi - not in vocab of timestep: 1996\n",
      "modi - not in vocab of timestep: 1997\n",
      "modi - not in vocab of timestep: 1998\n",
      "modi - not in vocab of timestep: 1999\n",
      "modi - not in vocab of timestep: 2000\n",
      "modi - not in vocab of timestep: 2001\n",
      "modi - not in vocab of timestep: 2003\n",
      "modi - not in vocab of timestep: 2004\n",
      "modi - not in vocab of timestep: 2005\n",
      "modi - not in vocab of timestep: 2006\n",
      "modi - not in vocab of timestep: 2007\n",
      "modi - not in vocab of timestep: 2008\n",
      "modi - not in vocab of timestep: 2010\n",
      "modi - not in vocab of timestep: 2011\n",
      "All words are contained in the vocabulary\n",
      "All words are contained in the vocabulary\n",
      "mueller - not in vocab of timestep: 1990\n",
      "mueller - not in vocab of timestep: 2006\n",
      "All words are contained in the vocabulary\n",
      "mueller - not in vocab of timestep: 1990\n",
      "mueller - not in vocab of timestep: 2006\n",
      "All words are contained in the vocabulary\n",
      "mueller - not in vocab of timestep: 1990\n",
      "mueller - not in vocab of timestep: 2006\n",
      "All words are contained in the vocabulary\n",
      "mueller - not in vocab of timestep: 1990\n",
      "mueller - not in vocab of timestep: 2006\n",
      "All words are contained in the vocabulary\n",
      "mueller - not in vocab of timestep: 1990\n",
      "mueller - not in vocab of timestep: 2006\n",
      "All words are contained in the vocabulary\n",
      "mueller - not in vocab of timestep: 1990\n",
      "mueller - not in vocab of timestep: 2006\n",
      "All words are contained in the vocabulary\n",
      "mueller - not in vocab of timestep: 1990\n",
      "mueller - not in vocab of timestep: 2006\n",
      "All words are contained in the vocabulary\n",
      "mueller - not in vocab of timestep: 1990\n",
      "mueller - not in vocab of timestep: 2006\n",
      "All words are contained in the vocabulary\n",
      "mueller - not in vocab of timestep: 1990\n",
      "mueller - not in vocab of timestep: 2006\n",
      "All words are contained in the vocabulary\n",
      "mueller - not in vocab of timestep: 1990\n",
      "mueller - not in vocab of timestep: 2006\n",
      "All words are contained in the vocabulary\n",
      "mueller - not in vocab of timestep: 1990\n",
      "mueller - not in vocab of timestep: 2006\n",
      "All words are contained in the vocabulary\n",
      "mullen - not in vocab of timestep: 1994\n",
      "mullen - not in vocab of timestep: 2001\n",
      "All words are contained in the vocabulary\n",
      "mullen - not in vocab of timestep: 1994\n",
      "mullen - not in vocab of timestep: 2001\n",
      "All words are contained in the vocabulary\n",
      "mullen - not in vocab of timestep: 1994\n",
      "mullen - not in vocab of timestep: 2001\n",
      "All words are contained in the vocabulary\n",
      "mullen - not in vocab of timestep: 1994\n",
      "mullen - not in vocab of timestep: 2001\n",
      "All words are contained in the vocabulary\n",
      "All words are contained in the vocabulary\n",
      "All words are contained in the vocabulary\n",
      "All words are contained in the vocabulary\n",
      "All words are contained in the vocabulary\n",
      "All words are contained in the vocabulary\n",
      "nadal - not in vocab of timestep: 1990\n",
      "nadal - not in vocab of timestep: 1991\n",
      "nadal - not in vocab of timestep: 1992\n",
      "nadal - not in vocab of timestep: 1995\n",
      "nadal - not in vocab of timestep: 1996\n",
      "nadal - not in vocab of timestep: 1997\n",
      "nadal - not in vocab of timestep: 1998\n",
      "nadal - not in vocab of timestep: 2000\n",
      "nadal - not in vocab of timestep: 2001\n",
      "nadal - not in vocab of timestep: 2002\n",
      "nadal - not in vocab of timestep: 2003\n",
      "All words are contained in the vocabulary\n",
      "nadal - not in vocab of timestep: 1990\n",
      "nadal - not in vocab of timestep: 1991\n",
      "nadal - not in vocab of timestep: 1992\n",
      "nadal - not in vocab of timestep: 1995\n",
      "nadal - not in vocab of timestep: 1996\n",
      "nadal - not in vocab of timestep: 1997\n",
      "nadal - not in vocab of timestep: 1998\n",
      "nadal - not in vocab of timestep: 2000\n",
      "nadal - not in vocab of timestep: 2001\n",
      "nadal - not in vocab of timestep: 2002\n",
      "nadal - not in vocab of timestep: 2003\n",
      "All words are contained in the vocabulary\n",
      "nadal - not in vocab of timestep: 1990\n",
      "nadal - not in vocab of timestep: 1991\n",
      "nadal - not in vocab of timestep: 1992\n",
      "nadal - not in vocab of timestep: 1995\n",
      "nadal - not in vocab of timestep: 1996\n",
      "nadal - not in vocab of timestep: 1997\n",
      "nadal - not in vocab of timestep: 1998\n",
      "nadal - not in vocab of timestep: 2000\n",
      "nadal - not in vocab of timestep: 2001\n",
      "nadal - not in vocab of timestep: 2002\n",
      "nadal - not in vocab of timestep: 2003\n",
      "All words are contained in the vocabulary\n",
      "netanyahu - not in vocab of timestep: 1990\n",
      "netanyahu - not in vocab of timestep: 2001\n",
      "netanyahu - not in vocab of timestep: 2006\n",
      "netanyahu - not in vocab of timestep: 2008\n",
      "All words are contained in the vocabulary\n",
      "netanyahu - not in vocab of timestep: 1990\n",
      "netanyahu - not in vocab of timestep: 2001\n",
      "netanyahu - not in vocab of timestep: 2006\n",
      "netanyahu - not in vocab of timestep: 2008\n",
      "All words are contained in the vocabulary\n",
      "netanyahu - not in vocab of timestep: 1990\n",
      "netanyahu - not in vocab of timestep: 2001\n",
      "netanyahu - not in vocab of timestep: 2006\n",
      "netanyahu - not in vocab of timestep: 2008\n",
      "All words are contained in the vocabulary\n",
      "netanyahu - not in vocab of timestep: 1990\n",
      "netanyahu - not in vocab of timestep: 2001\n",
      "netanyahu - not in vocab of timestep: 2006\n",
      "netanyahu - not in vocab of timestep: 2008\n",
      "All words are contained in the vocabulary\n",
      "netanyahu - not in vocab of timestep: 1990\n",
      "netanyahu - not in vocab of timestep: 2001\n",
      "netanyahu - not in vocab of timestep: 2006\n",
      "netanyahu - not in vocab of timestep: 2008\n",
      "All words are contained in the vocabulary\n",
      "netanyahu - not in vocab of timestep: 1990\n",
      "netanyahu - not in vocab of timestep: 2001\n",
      "netanyahu - not in vocab of timestep: 2006\n",
      "netanyahu - not in vocab of timestep: 2008\n",
      "All words are contained in the vocabulary\n",
      "netanyahu - not in vocab of timestep: 1990\n",
      "netanyahu - not in vocab of timestep: 2001\n",
      "netanyahu - not in vocab of timestep: 2006\n",
      "netanyahu - not in vocab of timestep: 2008\n",
      "All words are contained in the vocabulary\n",
      "netanyahu - not in vocab of timestep: 1990\n",
      "netanyahu - not in vocab of timestep: 2001\n",
      "netanyahu - not in vocab of timestep: 2006\n",
      "netanyahu - not in vocab of timestep: 2008\n",
      "All words are contained in the vocabulary\n",
      "netanyahu - not in vocab of timestep: 1990\n",
      "netanyahu - not in vocab of timestep: 2001\n",
      "netanyahu - not in vocab of timestep: 2006\n",
      "netanyahu - not in vocab of timestep: 2008\n",
      "All words are contained in the vocabulary\n",
      "netanyahu - not in vocab of timestep: 1990\n",
      "netanyahu - not in vocab of timestep: 2001\n",
      "netanyahu - not in vocab of timestep: 2006\n",
      "netanyahu - not in vocab of timestep: 2008\n",
      "All words are contained in the vocabulary\n",
      "netanyahu - not in vocab of timestep: 1990\n",
      "netanyahu - not in vocab of timestep: 2001\n",
      "netanyahu - not in vocab of timestep: 2006\n",
      "netanyahu - not in vocab of timestep: 2008\n",
      "All words are contained in the vocabulary\n",
      "All words are contained in the vocabulary\n",
      "obama - not in vocab of timestep: 1991\n",
      "obama - not in vocab of timestep: 1992\n",
      "obama - not in vocab of timestep: 1993\n",
      "obama - not in vocab of timestep: 1994\n",
      "obama - not in vocab of timestep: 1995\n",
      "obama - not in vocab of timestep: 1996\n",
      "obama - not in vocab of timestep: 1997\n",
      "obama - not in vocab of timestep: 1998\n",
      "obama - not in vocab of timestep: 1999\n",
      "obama - not in vocab of timestep: 2000\n",
      "obama - not in vocab of timestep: 2001\n",
      "obama - not in vocab of timestep: 2002\n",
      "obama - not in vocab of timestep: 2003\n",
      "All words are contained in the vocabulary\n",
      "obama - not in vocab of timestep: 1991\n",
      "obama - not in vocab of timestep: 1992\n",
      "obama - not in vocab of timestep: 1993\n",
      "obama - not in vocab of timestep: 1994\n",
      "obama - not in vocab of timestep: 1995\n",
      "obama - not in vocab of timestep: 1996\n",
      "obama - not in vocab of timestep: 1997\n",
      "obama - not in vocab of timestep: 1998\n",
      "obama - not in vocab of timestep: 1999\n",
      "obama - not in vocab of timestep: 2000\n",
      "obama - not in vocab of timestep: 2001\n",
      "obama - not in vocab of timestep: 2002\n",
      "obama - not in vocab of timestep: 2003\n",
      "All words are contained in the vocabulary\n",
      "obama - not in vocab of timestep: 1991\n",
      "obama - not in vocab of timestep: 1992\n",
      "obama - not in vocab of timestep: 1993\n",
      "obama - not in vocab of timestep: 1994\n",
      "obama - not in vocab of timestep: 1995\n",
      "obama - not in vocab of timestep: 1996\n",
      "obama - not in vocab of timestep: 1997\n",
      "obama - not in vocab of timestep: 1998\n",
      "obama - not in vocab of timestep: 1999\n",
      "obama - not in vocab of timestep: 2000\n",
      "obama - not in vocab of timestep: 2001\n",
      "obama - not in vocab of timestep: 2002\n",
      "obama - not in vocab of timestep: 2003\n",
      "All words are contained in the vocabulary\n",
      "obama - not in vocab of timestep: 1991\n",
      "obama - not in vocab of timestep: 1992\n",
      "obama - not in vocab of timestep: 1993\n",
      "obama - not in vocab of timestep: 1994\n",
      "obama - not in vocab of timestep: 1995\n",
      "obama - not in vocab of timestep: 1996\n",
      "obama - not in vocab of timestep: 1997\n",
      "obama - not in vocab of timestep: 1998\n",
      "obama - not in vocab of timestep: 1999\n",
      "obama - not in vocab of timestep: 2000\n",
      "obama - not in vocab of timestep: 2001\n",
      "obama - not in vocab of timestep: 2002\n",
      "obama - not in vocab of timestep: 2003\n",
      "All words are contained in the vocabulary\n",
      "obama - not in vocab of timestep: 1991\n",
      "obama - not in vocab of timestep: 1992\n",
      "obama - not in vocab of timestep: 1993\n",
      "obama - not in vocab of timestep: 1994\n",
      "obama - not in vocab of timestep: 1995\n",
      "obama - not in vocab of timestep: 1996\n",
      "obama - not in vocab of timestep: 1997\n",
      "obama - not in vocab of timestep: 1998\n",
      "obama - not in vocab of timestep: 1999\n",
      "obama - not in vocab of timestep: 2000\n",
      "obama - not in vocab of timestep: 2001\n",
      "obama - not in vocab of timestep: 2002\n",
      "obama - not in vocab of timestep: 2003\n",
      "All words are contained in the vocabulary\n",
      "obama - not in vocab of timestep: 1991\n",
      "obama - not in vocab of timestep: 1992\n",
      "obama - not in vocab of timestep: 1993\n",
      "obama - not in vocab of timestep: 1994\n",
      "obama - not in vocab of timestep: 1995\n",
      "obama - not in vocab of timestep: 1996\n",
      "obama - not in vocab of timestep: 1997\n",
      "obama - not in vocab of timestep: 1998\n",
      "obama - not in vocab of timestep: 1999\n",
      "obama - not in vocab of timestep: 2000\n",
      "obama - not in vocab of timestep: 2001\n",
      "obama - not in vocab of timestep: 2002\n",
      "obama - not in vocab of timestep: 2003\n",
      "All words are contained in the vocabulary\n",
      "obama - not in vocab of timestep: 1991\n",
      "obama - not in vocab of timestep: 1992\n",
      "obama - not in vocab of timestep: 1993\n",
      "obama - not in vocab of timestep: 1994\n",
      "obama - not in vocab of timestep: 1995\n",
      "obama - not in vocab of timestep: 1996\n",
      "obama - not in vocab of timestep: 1997\n",
      "obama - not in vocab of timestep: 1998\n",
      "obama - not in vocab of timestep: 1999\n",
      "obama - not in vocab of timestep: 2000\n",
      "obama - not in vocab of timestep: 2001\n",
      "obama - not in vocab of timestep: 2002\n",
      "obama - not in vocab of timestep: 2003\n",
      "All words are contained in the vocabulary\n",
      "obama - not in vocab of timestep: 1991\n",
      "obama - not in vocab of timestep: 1992\n",
      "obama - not in vocab of timestep: 1993\n",
      "obama - not in vocab of timestep: 1994\n",
      "obama - not in vocab of timestep: 1995\n",
      "obama - not in vocab of timestep: 1996\n",
      "obama - not in vocab of timestep: 1997\n",
      "obama - not in vocab of timestep: 1998\n",
      "obama - not in vocab of timestep: 1999\n",
      "obama - not in vocab of timestep: 2000\n",
      "obama - not in vocab of timestep: 2001\n",
      "obama - not in vocab of timestep: 2002\n",
      "obama - not in vocab of timestep: 2003\n",
      "All words are contained in the vocabulary\n",
      "obama - not in vocab of timestep: 1991\n",
      "obama - not in vocab of timestep: 1992\n",
      "obama - not in vocab of timestep: 1993\n",
      "obama - not in vocab of timestep: 1994\n",
      "obama - not in vocab of timestep: 1995\n",
      "obama - not in vocab of timestep: 1996\n",
      "obama - not in vocab of timestep: 1997\n",
      "obama - not in vocab of timestep: 1998\n",
      "obama - not in vocab of timestep: 1999\n",
      "obama - not in vocab of timestep: 2000\n",
      "obama - not in vocab of timestep: 2001\n",
      "obama - not in vocab of timestep: 2002\n",
      "obama - not in vocab of timestep: 2003\n",
      "All words are contained in the vocabulary\n",
      "All words are contained in the vocabulary\n",
      "All words are contained in the vocabulary\n",
      "All words are contained in the vocabulary\n",
      "panetta - not in vocab of timestep: 1991\n",
      "panetta - not in vocab of timestep: 2000\n",
      "panetta - not in vocab of timestep: 2006\n",
      "panetta - not in vocab of timestep: 2007\n",
      "panetta - not in vocab of timestep: 2008\n",
      "panetta - not in vocab of timestep: 2015\n",
      "All words are contained in the vocabulary\n",
      "panetta - not in vocab of timestep: 1991\n",
      "panetta - not in vocab of timestep: 2000\n",
      "panetta - not in vocab of timestep: 2006\n",
      "panetta - not in vocab of timestep: 2007\n",
      "panetta - not in vocab of timestep: 2008\n",
      "panetta - not in vocab of timestep: 2015\n",
      "All words are contained in the vocabulary\n",
      "All words are contained in the vocabulary\n",
      "All words are contained in the vocabulary\n",
      "All words are contained in the vocabulary\n",
      "All words are contained in the vocabulary\n",
      "All words are contained in the vocabulary\n",
      "All words are contained in the vocabulary\n",
      "peres - not in vocab of timestep: 2004\n",
      "All words are contained in the vocabulary\n",
      "petraeus - not in vocab of timestep: 1990\n",
      "petraeus - not in vocab of timestep: 1991\n",
      "petraeus - not in vocab of timestep: 1992\n",
      "petraeus - not in vocab of timestep: 1993\n",
      "petraeus - not in vocab of timestep: 1994\n",
      "petraeus - not in vocab of timestep: 1995\n",
      "petraeus - not in vocab of timestep: 1996\n",
      "petraeus - not in vocab of timestep: 1997\n",
      "petraeus - not in vocab of timestep: 1998\n",
      "petraeus - not in vocab of timestep: 1999\n",
      "petraeus - not in vocab of timestep: 2000\n",
      "petraeus - not in vocab of timestep: 2001\n",
      "petraeus - not in vocab of timestep: 2002\n",
      "petraeus - not in vocab of timestep: 2006\n",
      "All words are contained in the vocabulary\n",
      "petraeus - not in vocab of timestep: 1990\n",
      "petraeus - not in vocab of timestep: 1991\n",
      "petraeus - not in vocab of timestep: 1992\n",
      "petraeus - not in vocab of timestep: 1993\n",
      "petraeus - not in vocab of timestep: 1994\n",
      "petraeus - not in vocab of timestep: 1995\n",
      "petraeus - not in vocab of timestep: 1996\n",
      "petraeus - not in vocab of timestep: 1997\n",
      "petraeus - not in vocab of timestep: 1998\n",
      "petraeus - not in vocab of timestep: 1999\n",
      "petraeus - not in vocab of timestep: 2000\n",
      "petraeus - not in vocab of timestep: 2001\n",
      "petraeus - not in vocab of timestep: 2002\n",
      "petraeus - not in vocab of timestep: 2006\n",
      "All words are contained in the vocabulary\n",
      "pistons - not in vocab of timestep: 1999\n",
      "All words are contained in the vocabulary\n",
      "pistons - not in vocab of timestep: 1999\n",
      "All words are contained in the vocabulary\n",
      "plague - not in vocab of timestep: 2006\n",
      "All words are contained in the vocabulary\n",
      "All words are contained in the vocabulary\n",
      "All words are contained in the vocabulary\n",
      "All words are contained in the vocabulary\n",
      "All words are contained in the vocabulary\n",
      "All words are contained in the vocabulary\n",
      "All words are contained in the vocabulary\n",
      "All words are contained in the vocabulary\n",
      "putin - not in vocab of timestep: 1990\n",
      "putin - not in vocab of timestep: 1991\n",
      "putin - not in vocab of timestep: 1992\n",
      "putin - not in vocab of timestep: 1993\n",
      "putin - not in vocab of timestep: 1994\n",
      "putin - not in vocab of timestep: 1995\n",
      "putin - not in vocab of timestep: 1997\n",
      "putin - not in vocab of timestep: 1998\n",
      "All words are contained in the vocabulary\n",
      "putin - not in vocab of timestep: 1990\n",
      "putin - not in vocab of timestep: 1991\n",
      "putin - not in vocab of timestep: 1992\n",
      "putin - not in vocab of timestep: 1993\n",
      "putin - not in vocab of timestep: 1994\n",
      "putin - not in vocab of timestep: 1995\n",
      "putin - not in vocab of timestep: 1997\n",
      "putin - not in vocab of timestep: 1998\n",
      "All words are contained in the vocabulary\n",
      "putin - not in vocab of timestep: 1990\n",
      "putin - not in vocab of timestep: 1991\n",
      "putin - not in vocab of timestep: 1992\n",
      "putin - not in vocab of timestep: 1993\n",
      "putin - not in vocab of timestep: 1994\n",
      "putin - not in vocab of timestep: 1995\n",
      "putin - not in vocab of timestep: 1997\n",
      "putin - not in vocab of timestep: 1998\n",
      "All words are contained in the vocabulary\n",
      "putin - not in vocab of timestep: 1990\n",
      "putin - not in vocab of timestep: 1991\n",
      "putin - not in vocab of timestep: 1992\n",
      "putin - not in vocab of timestep: 1993\n",
      "putin - not in vocab of timestep: 1994\n",
      "putin - not in vocab of timestep: 1995\n",
      "putin - not in vocab of timestep: 1997\n",
      "putin - not in vocab of timestep: 1998\n",
      "All words are contained in the vocabulary\n",
      "putin - not in vocab of timestep: 1990\n",
      "putin - not in vocab of timestep: 1991\n",
      "putin - not in vocab of timestep: 1992\n",
      "putin - not in vocab of timestep: 1993\n",
      "putin - not in vocab of timestep: 1994\n",
      "putin - not in vocab of timestep: 1995\n",
      "putin - not in vocab of timestep: 1997\n",
      "putin - not in vocab of timestep: 1998\n",
      "All words are contained in the vocabulary\n",
      "putin - not in vocab of timestep: 1990\n",
      "putin - not in vocab of timestep: 1991\n",
      "putin - not in vocab of timestep: 1992\n",
      "putin - not in vocab of timestep: 1993\n",
      "putin - not in vocab of timestep: 1994\n",
      "putin - not in vocab of timestep: 1995\n",
      "putin - not in vocab of timestep: 1997\n",
      "putin - not in vocab of timestep: 1998\n",
      "All words are contained in the vocabulary\n",
      "putin - not in vocab of timestep: 1990\n",
      "putin - not in vocab of timestep: 1991\n",
      "putin - not in vocab of timestep: 1992\n",
      "putin - not in vocab of timestep: 1993\n",
      "putin - not in vocab of timestep: 1994\n",
      "putin - not in vocab of timestep: 1995\n",
      "putin - not in vocab of timestep: 1997\n",
      "putin - not in vocab of timestep: 1998\n",
      "All words are contained in the vocabulary\n",
      "putin - not in vocab of timestep: 1990\n",
      "putin - not in vocab of timestep: 1991\n",
      "putin - not in vocab of timestep: 1992\n",
      "putin - not in vocab of timestep: 1993\n",
      "putin - not in vocab of timestep: 1994\n",
      "putin - not in vocab of timestep: 1995\n",
      "putin - not in vocab of timestep: 1997\n",
      "putin - not in vocab of timestep: 1998\n",
      "All words are contained in the vocabulary\n",
      "putin - not in vocab of timestep: 1990\n",
      "putin - not in vocab of timestep: 1991\n",
      "putin - not in vocab of timestep: 1992\n",
      "putin - not in vocab of timestep: 1993\n",
      "putin - not in vocab of timestep: 1994\n",
      "putin - not in vocab of timestep: 1995\n",
      "putin - not in vocab of timestep: 1997\n",
      "putin - not in vocab of timestep: 1998\n",
      "All words are contained in the vocabulary\n",
      "putin - not in vocab of timestep: 1990\n",
      "putin - not in vocab of timestep: 1991\n",
      "putin - not in vocab of timestep: 1992\n",
      "putin - not in vocab of timestep: 1993\n",
      "putin - not in vocab of timestep: 1994\n",
      "putin - not in vocab of timestep: 1995\n",
      "putin - not in vocab of timestep: 1997\n",
      "putin - not in vocab of timestep: 1998\n",
      "All words are contained in the vocabulary\n",
      "putin - not in vocab of timestep: 1990\n",
      "putin - not in vocab of timestep: 1991\n",
      "putin - not in vocab of timestep: 1992\n",
      "putin - not in vocab of timestep: 1993\n",
      "putin - not in vocab of timestep: 1994\n",
      "putin - not in vocab of timestep: 1995\n",
      "putin - not in vocab of timestep: 1997\n",
      "putin - not in vocab of timestep: 1998\n",
      "All words are contained in the vocabulary\n",
      "putin - not in vocab of timestep: 1990\n",
      "putin - not in vocab of timestep: 1991\n",
      "putin - not in vocab of timestep: 1992\n",
      "putin - not in vocab of timestep: 1993\n",
      "putin - not in vocab of timestep: 1994\n",
      "putin - not in vocab of timestep: 1995\n",
      "putin - not in vocab of timestep: 1997\n",
      "putin - not in vocab of timestep: 1998\n",
      "All words are contained in the vocabulary\n",
      "putin - not in vocab of timestep: 1990\n",
      "putin - not in vocab of timestep: 1991\n",
      "putin - not in vocab of timestep: 1992\n",
      "putin - not in vocab of timestep: 1993\n",
      "putin - not in vocab of timestep: 1994\n",
      "putin - not in vocab of timestep: 1995\n",
      "putin - not in vocab of timestep: 1997\n",
      "putin - not in vocab of timestep: 1998\n",
      "All words are contained in the vocabulary\n",
      "quayle - not in vocab of timestep: 2002\n",
      "quayle - not in vocab of timestep: 2005\n",
      "quayle - not in vocab of timestep: 2014\n",
      "quayle - not in vocab of timestep: 2016\n",
      "All words are contained in the vocabulary\n",
      "quayle - not in vocab of timestep: 2002\n",
      "quayle - not in vocab of timestep: 2005\n",
      "quayle - not in vocab of timestep: 2014\n",
      "quayle - not in vocab of timestep: 2016\n",
      "All words are contained in the vocabulary\n",
      "rabin - not in vocab of timestep: 1990\n",
      "All words are contained in the vocabulary\n",
      "rabin - not in vocab of timestep: 1990\n",
      "All words are contained in the vocabulary\n",
      "rabin - not in vocab of timestep: 1990\n",
      "All words are contained in the vocabulary\n",
      "All words are contained in the vocabulary\n",
      "ravens - not in vocab of timestep: 1990\n",
      "ravens - not in vocab of timestep: 1992\n",
      "All words are contained in the vocabulary\n",
      "ravens - not in vocab of timestep: 1990\n",
      "ravens - not in vocab of timestep: 1992\n",
      "All words are contained in the vocabulary\n",
      "All words are contained in the vocabulary\n",
      "All words are contained in the vocabulary\n",
      "All words are contained in the vocabulary\n",
      "All words are contained in the vocabulary\n",
      "All words are contained in the vocabulary\n",
      "All words are contained in the vocabulary\n",
      "All words are contained in the vocabulary\n",
      "All words are contained in the vocabulary\n",
      "All words are contained in the vocabulary\n",
      "All words are contained in the vocabulary\n",
      "All words are contained in the vocabulary\n",
      "All words are contained in the vocabulary\n",
      "All words are contained in the vocabulary\n",
      "All words are contained in the vocabulary\n",
      "All words are contained in the vocabulary\n",
      "All words are contained in the vocabulary\n",
      "All words are contained in the vocabulary\n",
      "All words are contained in the vocabulary\n",
      "All words are contained in the vocabulary\n",
      "All words are contained in the vocabulary\n",
      "All words are contained in the vocabulary\n",
      "All words are contained in the vocabulary\n",
      "All words are contained in the vocabulary\n",
      "All words are contained in the vocabulary\n",
      "All words are contained in the vocabulary\n",
      "All words are contained in the vocabulary\n",
      "All words are contained in the vocabulary\n",
      "All words are contained in the vocabulary\n",
      "All words are contained in the vocabulary\n",
      "All words are contained in the vocabulary\n",
      "All words are contained in the vocabulary\n",
      "All words are contained in the vocabulary\n",
      "All words are contained in the vocabulary\n",
      "All words are contained in the vocabulary\n",
      "All words are contained in the vocabulary\n",
      "All words are contained in the vocabulary\n",
      "roddick - not in vocab of timestep: 1990\n",
      "roddick - not in vocab of timestep: 1991\n",
      "roddick - not in vocab of timestep: 1992\n",
      "roddick - not in vocab of timestep: 1993\n",
      "roddick - not in vocab of timestep: 1995\n",
      "roddick - not in vocab of timestep: 1996\n",
      "roddick - not in vocab of timestep: 1997\n",
      "roddick - not in vocab of timestep: 1998\n",
      "roddick - not in vocab of timestep: 1999\n",
      "roddick - not in vocab of timestep: 2000\n",
      "roddick - not in vocab of timestep: 2015\n",
      "All words are contained in the vocabulary\n",
      "All words are contained in the vocabulary\n",
      "All words are contained in the vocabulary\n",
      "All words are contained in the vocabulary\n",
      "All words are contained in the vocabulary\n",
      "All words are contained in the vocabulary\n",
      "All words are contained in the vocabulary\n",
      "All words are contained in the vocabulary\n",
      "All words are contained in the vocabulary\n",
      "sarkozy - not in vocab of timestep: 1990\n",
      "sarkozy - not in vocab of timestep: 1991\n",
      "sarkozy - not in vocab of timestep: 1992\n",
      "sarkozy - not in vocab of timestep: 1993\n",
      "sarkozy - not in vocab of timestep: 1994\n",
      "sarkozy - not in vocab of timestep: 1995\n",
      "sarkozy - not in vocab of timestep: 1996\n",
      "sarkozy - not in vocab of timestep: 1997\n",
      "sarkozy - not in vocab of timestep: 1998\n",
      "sarkozy - not in vocab of timestep: 1999\n",
      "sarkozy - not in vocab of timestep: 2000\n",
      "sarkozy - not in vocab of timestep: 2001\n",
      "sarkozy - not in vocab of timestep: 2002\n",
      "sarkozy - not in vocab of timestep: 2006\n",
      "All words are contained in the vocabulary\n",
      "sarkozy - not in vocab of timestep: 1990\n",
      "sarkozy - not in vocab of timestep: 1991\n",
      "sarkozy - not in vocab of timestep: 1992\n",
      "sarkozy - not in vocab of timestep: 1993\n",
      "sarkozy - not in vocab of timestep: 1994\n",
      "sarkozy - not in vocab of timestep: 1995\n",
      "sarkozy - not in vocab of timestep: 1996\n",
      "sarkozy - not in vocab of timestep: 1997\n",
      "sarkozy - not in vocab of timestep: 1998\n",
      "sarkozy - not in vocab of timestep: 1999\n",
      "sarkozy - not in vocab of timestep: 2000\n",
      "sarkozy - not in vocab of timestep: 2001\n",
      "sarkozy - not in vocab of timestep: 2002\n",
      "sarkozy - not in vocab of timestep: 2006\n",
      "All words are contained in the vocabulary\n",
      "sarkozy - not in vocab of timestep: 1990\n",
      "sarkozy - not in vocab of timestep: 1991\n",
      "sarkozy - not in vocab of timestep: 1992\n",
      "sarkozy - not in vocab of timestep: 1993\n",
      "sarkozy - not in vocab of timestep: 1994\n",
      "sarkozy - not in vocab of timestep: 1995\n",
      "sarkozy - not in vocab of timestep: 1996\n",
      "sarkozy - not in vocab of timestep: 1997\n",
      "sarkozy - not in vocab of timestep: 1998\n",
      "sarkozy - not in vocab of timestep: 1999\n",
      "sarkozy - not in vocab of timestep: 2000\n",
      "sarkozy - not in vocab of timestep: 2001\n",
      "sarkozy - not in vocab of timestep: 2002\n",
      "sarkozy - not in vocab of timestep: 2006\n",
      "All words are contained in the vocabulary\n",
      "sarkozy - not in vocab of timestep: 1990\n",
      "sarkozy - not in vocab of timestep: 1991\n",
      "sarkozy - not in vocab of timestep: 1992\n",
      "sarkozy - not in vocab of timestep: 1993\n",
      "sarkozy - not in vocab of timestep: 1994\n",
      "sarkozy - not in vocab of timestep: 1995\n",
      "sarkozy - not in vocab of timestep: 1996\n",
      "sarkozy - not in vocab of timestep: 1997\n",
      "sarkozy - not in vocab of timestep: 1998\n",
      "sarkozy - not in vocab of timestep: 1999\n",
      "sarkozy - not in vocab of timestep: 2000\n",
      "sarkozy - not in vocab of timestep: 2001\n",
      "sarkozy - not in vocab of timestep: 2002\n",
      "sarkozy - not in vocab of timestep: 2006\n",
      "All words are contained in the vocabulary\n",
      "sarkozy - not in vocab of timestep: 1990\n",
      "sarkozy - not in vocab of timestep: 1991\n",
      "sarkozy - not in vocab of timestep: 1992\n",
      "sarkozy - not in vocab of timestep: 1993\n",
      "sarkozy - not in vocab of timestep: 1994\n",
      "sarkozy - not in vocab of timestep: 1995\n",
      "sarkozy - not in vocab of timestep: 1996\n",
      "sarkozy - not in vocab of timestep: 1997\n",
      "sarkozy - not in vocab of timestep: 1998\n",
      "sarkozy - not in vocab of timestep: 1999\n",
      "sarkozy - not in vocab of timestep: 2000\n",
      "sarkozy - not in vocab of timestep: 2001\n",
      "sarkozy - not in vocab of timestep: 2002\n",
      "sarkozy - not in vocab of timestep: 2006\n",
      "All words are contained in the vocabulary\n",
      "sars - not in vocab of timestep: 1990\n",
      "sars - not in vocab of timestep: 1991\n",
      "sars - not in vocab of timestep: 1992\n",
      "sars - not in vocab of timestep: 1993\n",
      "sars - not in vocab of timestep: 1994\n",
      "sars - not in vocab of timestep: 1995\n",
      "sars - not in vocab of timestep: 1996\n",
      "sars - not in vocab of timestep: 1997\n",
      "sars - not in vocab of timestep: 1999\n",
      "sars - not in vocab of timestep: 2000\n",
      "sars - not in vocab of timestep: 2001\n",
      "sars - not in vocab of timestep: 2002\n",
      "sars - not in vocab of timestep: 2006\n",
      "sars - not in vocab of timestep: 2007\n",
      "sars - not in vocab of timestep: 2010\n",
      "sars - not in vocab of timestep: 2016\n",
      "All words are contained in the vocabulary\n",
      "All words are contained in the vocabulary\n",
      "All words are contained in the vocabulary\n",
      "All words are contained in the vocabulary\n",
      "All words are contained in the vocabulary\n",
      "All words are contained in the vocabulary\n",
      "All words are contained in the vocabulary\n",
      "All words are contained in the vocabulary\n",
      "All words are contained in the vocabulary\n",
      "All words are contained in the vocabulary\n",
      "shelton - not in vocab of timestep: 1993\n",
      "All words are contained in the vocabulary\n",
      "shelton - not in vocab of timestep: 1993\n",
      "All words are contained in the vocabulary\n",
      "shelton - not in vocab of timestep: 1993\n",
      "All words are contained in the vocabulary\n",
      "shelton - not in vocab of timestep: 1993\n",
      "All words are contained in the vocabulary\n",
      "All words are contained in the vocabulary\n",
      "All words are contained in the vocabulary\n",
      "All words are contained in the vocabulary\n",
      "All words are contained in the vocabulary\n",
      "All words are contained in the vocabulary\n",
      "All words are contained in the vocabulary\n",
      "All words are contained in the vocabulary\n",
      "All words are contained in the vocabulary\n",
      "All words are contained in the vocabulary\n",
      "All words are contained in the vocabulary\n",
      "spacey - not in vocab of timestep: 1990\n",
      "spacey - not in vocab of timestep: 1993\n",
      "spacey - not in vocab of timestep: 1995\n",
      "spacey - not in vocab of timestep: 2016\n",
      "All words are contained in the vocabulary\n",
      "All words are contained in the vocabulary\n",
      "All words are contained in the vocabulary\n",
      "All words are contained in the vocabulary\n",
      "All words are contained in the vocabulary\n",
      "All words are contained in the vocabulary\n",
      "All words are contained in the vocabulary\n",
      "All words are contained in the vocabulary\n",
      "All words are contained in the vocabulary\n",
      "All words are contained in the vocabulary\n",
      "All words are contained in the vocabulary\n",
      "All words are contained in the vocabulary\n",
      "All words are contained in the vocabulary\n",
      "All words are contained in the vocabulary\n",
      "All words are contained in the vocabulary\n",
      "All words are contained in the vocabulary\n",
      "All words are contained in the vocabulary\n",
      "All words are contained in the vocabulary\n",
      "All words are contained in the vocabulary\n",
      "All words are contained in the vocabulary\n",
      "All words are contained in the vocabulary\n",
      "yeltsin - not in vocab of timestep: 2006\n",
      "yeltsin - not in vocab of timestep: 2010\n",
      "All words are contained in the vocabulary\n",
      "yeltsin - not in vocab of timestep: 2006\n",
      "yeltsin - not in vocab of timestep: 2010\n",
      "All words are contained in the vocabulary\n",
      "yeltsin - not in vocab of timestep: 2006\n",
      "yeltsin - not in vocab of timestep: 2010\n",
      "All words are contained in the vocabulary\n",
      "yeltsin - not in vocab of timestep: 2006\n",
      "yeltsin - not in vocab of timestep: 2010\n",
      "All words are contained in the vocabulary\n",
      "yeltsin - not in vocab of timestep: 2006\n",
      "yeltsin - not in vocab of timestep: 2010\n",
      "All words are contained in the vocabulary\n",
      "yeltsin - not in vocab of timestep: 2006\n",
      "yeltsin - not in vocab of timestep: 2010\n",
      "All words are contained in the vocabulary\n",
      "yeltsin - not in vocab of timestep: 2006\n",
      "yeltsin - not in vocab of timestep: 2010\n",
      "All words are contained in the vocabulary\n",
      "yeltsin - not in vocab of timestep: 2006\n",
      "yeltsin - not in vocab of timestep: 2010\n",
      "All words are contained in the vocabulary\n",
      "yeltsin - not in vocab of timestep: 2006\n",
      "yeltsin - not in vocab of timestep: 2010\n",
      "All words are contained in the vocabulary\n",
      "zika - not in vocab of timestep: 1990\n",
      "zika - not in vocab of timestep: 1991\n",
      "zika - not in vocab of timestep: 1992\n",
      "zika - not in vocab of timestep: 1993\n",
      "zika - not in vocab of timestep: 1994\n",
      "zika - not in vocab of timestep: 1995\n",
      "zika - not in vocab of timestep: 1997\n",
      "zika - not in vocab of timestep: 1998\n",
      "zika - not in vocab of timestep: 1999\n",
      "zika - not in vocab of timestep: 2000\n",
      "zika - not in vocab of timestep: 2001\n",
      "zika - not in vocab of timestep: 2002\n",
      "zika - not in vocab of timestep: 2003\n",
      "zika - not in vocab of timestep: 2004\n",
      "zika - not in vocab of timestep: 2005\n",
      "zika - not in vocab of timestep: 2006\n",
      "zika - not in vocab of timestep: 2007\n",
      "zika - not in vocab of timestep: 2008\n",
      "zika - not in vocab of timestep: 2009\n",
      "zika - not in vocab of timestep: 2011\n",
      "zika - not in vocab of timestep: 2012\n",
      "zika - not in vocab of timestep: 2013\n",
      "zika - not in vocab of timestep: 2014\n",
      "zika - not in vocab of timestep: 2015\n",
      "2 Testcases are not in the vocab of the model\n"
     ]
    }
   ],
   "source": [
    "test_case_dict_tppmi = test_util.create_test_case_dict_tppmi(tppmi_model, test_cases_1_all)"
   ],
   "metadata": {
    "collapsed": false
   }
  },
  {
   "cell_type": "code",
   "execution_count": 59,
   "outputs": [],
   "source": [
    "# Takes very long, load from .json instead\n",
    "'''similarities_tppmi = test_util.get_similarites_of_models_tppmi(tppmi_model, test_case_dict_tppmi)\n",
    "\n",
    "# Writing JSON data\n",
    "with open(path_to_test_data / 'tppmi-similarities.json', 'w') as file:\n",
    "    json.dump(similarities_tppmi, file, indent=4)''';"
   ],
   "metadata": {
    "collapsed": false
   }
  },
  {
   "cell_type": "code",
   "execution_count": 60,
   "outputs": [],
   "source": [
    "with open(path_to_test_data / 'tppmi-similarities.json', 'r') as file:\n",
    "    similarities_tppmi_all = json.load(file)"
   ],
   "metadata": {
    "collapsed": false
   }
  },
  {
   "cell_type": "code",
   "execution_count": 61,
   "outputs": [],
   "source": [
    "'''test_cade = similarities_cade_all[next(iter(similarities_cade_all))]\n",
    "test_tppmi = similarities_tppmi[next(iter(similarities_tppmi))]\n",
    "\n",
    "similarities_tppmi''';"
   ],
   "metadata": {
    "collapsed": false
   }
  },
  {
   "cell_type": "markdown",
   "source": [
    "# Experiment"
   ],
   "metadata": {
    "collapsed": false
   }
  },
  {
   "cell_type": "markdown",
   "source": [
    "To examine the quality of embedding alignment, we create a task to query equivalences across years.\n",
    "\n",
    "For example, given obama-2012, we want to query its equivalent word in 2002. As we know obama is the U.S. president in 2012; its equivalent in 2002 is bush, who was the U.S. president at that time. In this way, we create two testsets.\n",
    "\n",
    "All results are rounded to three decimal places."
   ],
   "metadata": {
    "collapsed": false
   }
  },
  {
   "cell_type": "code",
   "execution_count": 63,
   "outputs": [],
   "source": [
    "cutoffs = [1, 3, 5, 10]\n",
    "list_of_types = [\"static\", \"dynamic\", \"all\"]\n",
    "\n",
    "list_of_data_cade = [[similarities_cade_static, test_data_1_static],\n",
    "                     [similarities_cade_dynamic, test_data_1_dynamic], [similarities_cade_all, test_data_1_all]]\n",
    "list_of_data_static = [[similarities_static_static, test_data_1_static],\n",
    "                       [similarities_static_dynamic, test_data_1_dynamic], [similarities_static_all, test_data_1_all]]\n",
    "\n",
    "config_dict_cade = {key: value for key, value in zip(list_of_types, list_of_data_cade)}\n",
    "config_dict_static = {key: value for key, value in zip(list_of_types, list_of_data_static)}\n",
    "\n",
    "scores_cade = {key: dict() for key in list_of_types}\n",
    "scores_static = {key: dict() for key in list_of_types}\n",
    "scores_tppmi = {key: dict() for key in list_of_types}"
   ],
   "metadata": {
    "collapsed": false
   }
  },
  {
   "cell_type": "markdown",
   "source": [
    "## Mean Reciprocal Rank (@10)\n",
    "\n",
    "The Mean Reciprocal Rank (MRR) is a statistical measure used to evaluate the performance of a system that returns a ranked list of responses to queries. It is the average of the reciprocal ranks of the first correct answer for each query, where the reciprocal rank is the inverse of the rank at which the first relevant answer is found.\n",
    "It is evaluated @10"
   ],
   "metadata": {
    "collapsed": false
   }
  },
  {
   "cell_type": "markdown",
   "source": [
    "### TWEC"
   ],
   "metadata": {
    "collapsed": false
   }
  },
  {
   "cell_type": "code",
   "execution_count": 64,
   "outputs": [
    {
     "data": {
      "text/plain": "  0%|          | 0/3 [00:00<?, ?it/s]",
      "application/vnd.jupyter.widget-view+json": {
       "version_major": 2,
       "version_minor": 0,
       "model_id": "4b6e7dcb3ea347d49bd471d2681a6513"
      },
      "application/json": {
       "n": 0,
       "total": 3,
       "elapsed": 0.001968860626220703,
       "ncols": null,
       "nrows": null,
       "prefix": "",
       "ascii": false,
       "unit": "it",
       "unit_scale": false,
       "rate": null,
       "bar_format": null,
       "postfix": null,
       "unit_divisor": 1000,
       "initial": 0,
       "colour": null
      }
     },
     "metadata": {},
     "output_type": "display_data"
    }
   ],
   "source": [
    "for key, value in tqdm(config_dict_cade.items()):\n",
    "    scores_cade[key][\"mrr@10\"] = round(test_util.calculate_rank_metric(value[0], value[1], metric='MRR'), 3)"
   ],
   "metadata": {
    "collapsed": false
   }
  },
  {
   "cell_type": "markdown",
   "source": [
    "### Static Word2Vec"
   ],
   "metadata": {
    "collapsed": false
   }
  },
  {
   "cell_type": "code",
   "execution_count": 65,
   "outputs": [
    {
     "data": {
      "text/plain": "  0%|          | 0/3 [00:00<?, ?it/s]",
      "application/vnd.jupyter.widget-view+json": {
       "version_major": 2,
       "version_minor": 0,
       "model_id": "6648fc57831a4be699af50e136e8e9a2"
      },
      "application/json": {
       "n": 0,
       "total": 3,
       "elapsed": 0.0024759769439697266,
       "ncols": null,
       "nrows": null,
       "prefix": "",
       "ascii": false,
       "unit": "it",
       "unit_scale": false,
       "rate": null,
       "bar_format": null,
       "postfix": null,
       "unit_divisor": 1000,
       "initial": 0,
       "colour": null
      }
     },
     "metadata": {},
     "output_type": "display_data"
    }
   ],
   "source": [
    "for key, value in tqdm(config_dict_static.items()):\n",
    "    scores_static[key][\"mrr@10\"] = round(test_util.calculate_rank_metric_static(value[0], value[1], metric='MRR'), 3)"
   ],
   "metadata": {
    "collapsed": false
   }
  },
  {
   "cell_type": "markdown",
   "source": [
    "### TPPMI"
   ],
   "metadata": {
    "collapsed": false
   }
  },
  {
   "cell_type": "code",
   "execution_count": 66,
   "outputs": [],
   "source": [
    "scores_tppmi[\"all\"][\"mrr@10\"] = round(test_util.calculate_rank_metric_static(similarities_tppmi_all, test_data_1_all, metric='MRR'), 3)"
   ],
   "metadata": {
    "collapsed": false
   }
  },
  {
   "cell_type": "markdown",
   "source": [
    "## Mean Precision (@K)\n",
    "\n",
    "As introduced by Yao et al.(2018) the MP@K is defined as such: consider the K words most similar to the query embedding for the given year. The Precision@K for a particular test i, represented as P@K[i], equals 1 if the target word appears within this set of K words; otherwise, it assumes a value of 0."
   ],
   "metadata": {
    "collapsed": false
   }
  },
  {
   "cell_type": "markdown",
   "source": [
    "### TWEC"
   ],
   "metadata": {
    "collapsed": false
   }
  },
  {
   "cell_type": "code",
   "execution_count": 67,
   "outputs": [
    {
     "data": {
      "text/plain": "  0%|          | 0/3 [00:00<?, ?it/s]",
      "application/vnd.jupyter.widget-view+json": {
       "version_major": 2,
       "version_minor": 0,
       "model_id": "718dace0a71c408b902c278b5786ee67"
      },
      "application/json": {
       "n": 0,
       "total": 3,
       "elapsed": 0.0019409656524658203,
       "ncols": null,
       "nrows": null,
       "prefix": "",
       "ascii": false,
       "unit": "it",
       "unit_scale": false,
       "rate": null,
       "bar_format": null,
       "postfix": null,
       "unit_divisor": 1000,
       "initial": 0,
       "colour": null
      }
     },
     "metadata": {},
     "output_type": "display_data"
    }
   ],
   "source": [
    "for key, value in tqdm(config_dict_cade.items()):\n",
    "    for k in cutoffs:\n",
    "        score_key = f\"mp@{k}\"\n",
    "        scores_cade[key][score_key] = round(test_util.calculate_rank_metric(value[0], value[1], metric='MP', k=k), 3)"
   ],
   "metadata": {
    "collapsed": false
   }
  },
  {
   "cell_type": "markdown",
   "source": [
    "### Static Word2Vec"
   ],
   "metadata": {
    "collapsed": false
   }
  },
  {
   "cell_type": "code",
   "execution_count": 68,
   "outputs": [
    {
     "data": {
      "text/plain": "  0%|          | 0/3 [00:00<?, ?it/s]",
      "application/vnd.jupyter.widget-view+json": {
       "version_major": 2,
       "version_minor": 0,
       "model_id": "138f8dc21ea140b28c85c271a1534b6e"
      },
      "application/json": {
       "n": 0,
       "total": 3,
       "elapsed": 0.0025420188903808594,
       "ncols": null,
       "nrows": null,
       "prefix": "",
       "ascii": false,
       "unit": "it",
       "unit_scale": false,
       "rate": null,
       "bar_format": null,
       "postfix": null,
       "unit_divisor": 1000,
       "initial": 0,
       "colour": null
      }
     },
     "metadata": {},
     "output_type": "display_data"
    }
   ],
   "source": [
    "for key, value in tqdm(config_dict_static.items()):\n",
    "    for k in cutoffs:\n",
    "        score_key = f\"mp@{k}\"\n",
    "        scores_static[key][score_key] = round(test_util.calculate_rank_metric_static(value[0], value[1], metric='MP', k=k), 3)"
   ],
   "metadata": {
    "collapsed": false
   }
  },
  {
   "cell_type": "markdown",
   "source": [
    "### TPPMI"
   ],
   "metadata": {
    "collapsed": false
   }
  },
  {
   "cell_type": "code",
   "execution_count": 69,
   "outputs": [],
   "source": [
    "for k in cutoffs:\n",
    "    score_key = f\"mp@{k}\"\n",
    "    scores_tppmi[\"all\"][score_key] = round(test_util.calculate_rank_metric_static(similarities_tppmi_all, test_data_1_all, metric='MP', k=k), 3)"
   ],
   "metadata": {
    "collapsed": false
   }
  },
  {
   "cell_type": "markdown",
   "source": [
    "## Results"
   ],
   "metadata": {
    "collapsed": false
   }
  },
  {
   "cell_type": "code",
   "execution_count": 70,
   "outputs": [
    {
     "name": "stdout",
     "output_type": "stream",
     "text": [
      "Scores of TWEC\n"
     ]
    },
    {
     "data": {
      "text/plain": "         mrr@10   mp@1   mp@3   mp@5  mp@10\nstatic    0.587  0.501  0.656  0.708  0.746\ndynamic   0.346  0.268  0.398  0.451  0.512\nall       0.394  0.316  0.448  0.501  0.556",
      "text/html": "<div>\n<style scoped>\n    .dataframe tbody tr th:only-of-type {\n        vertical-align: middle;\n    }\n\n    .dataframe tbody tr th {\n        vertical-align: top;\n    }\n\n    .dataframe thead th {\n        text-align: right;\n    }\n</style>\n<table border=\"1\" class=\"dataframe\">\n  <thead>\n    <tr style=\"text-align: right;\">\n      <th></th>\n      <th>mrr@10</th>\n      <th>mp@1</th>\n      <th>mp@3</th>\n      <th>mp@5</th>\n      <th>mp@10</th>\n    </tr>\n  </thead>\n  <tbody>\n    <tr>\n      <th>static</th>\n      <td>0.587</td>\n      <td>0.501</td>\n      <td>0.656</td>\n      <td>0.708</td>\n      <td>0.746</td>\n    </tr>\n    <tr>\n      <th>dynamic</th>\n      <td>0.346</td>\n      <td>0.268</td>\n      <td>0.398</td>\n      <td>0.451</td>\n      <td>0.512</td>\n    </tr>\n    <tr>\n      <th>all</th>\n      <td>0.394</td>\n      <td>0.316</td>\n      <td>0.448</td>\n      <td>0.501</td>\n      <td>0.556</td>\n    </tr>\n  </tbody>\n</table>\n</div>"
     },
     "metadata": {},
     "output_type": "display_data"
    },
    {
     "name": "stdout",
     "output_type": "stream",
     "text": [
      "Scores of TPPMI\n"
     ]
    },
    {
     "data": {
      "text/plain": "         mrr@10  mp@1  mp@3  mp@5  mp@10\nstatic      NaN   NaN   NaN   NaN    NaN\ndynamic     NaN   NaN   NaN   NaN    NaN\nall         0.0   0.0   0.0   0.0    0.0",
      "text/html": "<div>\n<style scoped>\n    .dataframe tbody tr th:only-of-type {\n        vertical-align: middle;\n    }\n\n    .dataframe tbody tr th {\n        vertical-align: top;\n    }\n\n    .dataframe thead th {\n        text-align: right;\n    }\n</style>\n<table border=\"1\" class=\"dataframe\">\n  <thead>\n    <tr style=\"text-align: right;\">\n      <th></th>\n      <th>mrr@10</th>\n      <th>mp@1</th>\n      <th>mp@3</th>\n      <th>mp@5</th>\n      <th>mp@10</th>\n    </tr>\n  </thead>\n  <tbody>\n    <tr>\n      <th>static</th>\n      <td>NaN</td>\n      <td>NaN</td>\n      <td>NaN</td>\n      <td>NaN</td>\n      <td>NaN</td>\n    </tr>\n    <tr>\n      <th>dynamic</th>\n      <td>NaN</td>\n      <td>NaN</td>\n      <td>NaN</td>\n      <td>NaN</td>\n      <td>NaN</td>\n    </tr>\n    <tr>\n      <th>all</th>\n      <td>0.0</td>\n      <td>0.0</td>\n      <td>0.0</td>\n      <td>0.0</td>\n      <td>0.0</td>\n    </tr>\n  </tbody>\n</table>\n</div>"
     },
     "metadata": {},
     "output_type": "display_data"
    },
    {
     "name": "stdout",
     "output_type": "stream",
     "text": [
      "Scores of Static Word2Vec (Baseline)\n"
     ]
    },
    {
     "data": {
      "text/plain": "         mrr@10   mp@1   mp@3   mp@5  mp@10\nstatic    1.000  1.000  1.000  1.000  1.000\ndynamic   0.147  0.000  0.240  0.372  0.463\nall       0.374  0.266  0.442  0.539  0.606",
      "text/html": "<div>\n<style scoped>\n    .dataframe tbody tr th:only-of-type {\n        vertical-align: middle;\n    }\n\n    .dataframe tbody tr th {\n        vertical-align: top;\n    }\n\n    .dataframe thead th {\n        text-align: right;\n    }\n</style>\n<table border=\"1\" class=\"dataframe\">\n  <thead>\n    <tr style=\"text-align: right;\">\n      <th></th>\n      <th>mrr@10</th>\n      <th>mp@1</th>\n      <th>mp@3</th>\n      <th>mp@5</th>\n      <th>mp@10</th>\n    </tr>\n  </thead>\n  <tbody>\n    <tr>\n      <th>static</th>\n      <td>1.000</td>\n      <td>1.000</td>\n      <td>1.000</td>\n      <td>1.000</td>\n      <td>1.000</td>\n    </tr>\n    <tr>\n      <th>dynamic</th>\n      <td>0.147</td>\n      <td>0.000</td>\n      <td>0.240</td>\n      <td>0.372</td>\n      <td>0.463</td>\n    </tr>\n    <tr>\n      <th>all</th>\n      <td>0.374</td>\n      <td>0.266</td>\n      <td>0.442</td>\n      <td>0.539</td>\n      <td>0.606</td>\n    </tr>\n  </tbody>\n</table>\n</div>"
     },
     "metadata": {},
     "output_type": "display_data"
    }
   ],
   "source": [
    "score_table_cade = pd.DataFrame(scores_cade).T\n",
    "score_table_static = pd.DataFrame(scores_static).T\n",
    "score_table_tppmi = pd.DataFrame(scores_tppmi).T\n",
    "print(\"Scores of TWEC\")\n",
    "display(score_table_cade)\n",
    "print(\"Scores of TPPMI\")\n",
    "display(score_table_tppmi)\n",
    "print(\"Scores of Static Word2Vec (Baseline)\")\n",
    "display(score_table_static)"
   ],
   "metadata": {
    "collapsed": false
   }
  },
  {
   "cell_type": "markdown",
   "source": [
    "----------------------------------------------------------------------------------------------------------------\n",
    "----------------------------------------------------------------------------------------------------------------\n",
    "----------------------------------------------------------------------------------------------------------------"
   ],
   "metadata": {
    "collapsed": false
   }
  },
  {
   "cell_type": "code",
   "execution_count": null,
   "outputs": [],
   "source": [],
   "metadata": {
    "collapsed": false
   }
  }
 ],
 "metadata": {
  "kernelspec": {
   "display_name": "Python 3",
   "language": "python",
   "name": "python3"
  },
  "language_info": {
   "codemirror_mode": {
    "name": "ipython",
    "version": 2
   },
   "file_extension": ".py",
   "mimetype": "text/x-python",
   "name": "python",
   "nbconvert_exporter": "python",
   "pygments_lexer": "ipython2",
   "version": "2.7.6"
  }
 },
 "nbformat": 4,
 "nbformat_minor": 0
}
