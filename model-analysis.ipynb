{
 "cells": [
  {
   "cell_type": "markdown",
   "metadata": {},
   "source": [
    "# Model Analysis"
   ]
  },
  {
   "cell_type": "code",
   "execution_count": null,
   "metadata": {},
   "outputs": [],
   "source": [
    "import pandas as pd\n",
    "from glob import glob\n",
    "from pathlib import Path\n",
    "import scipy.sparse as sp\n",
    "from tqdm.notebook import tqdm\n",
    "from gensim.models.word2vec import Word2Vec\n",
    "from packages.TPPMI.ppmi_model import PPMIModel\n",
    "from packages.TPPMI.tppmi_model import TPPMIModel\n",
    "\n",
    "from embedding_visualization import plot_temporal_changing_embedding, \\\n",
    "    plot_cosine_similarity, plot_word_vectors_tppmi, plot_cosine_similarity_tppmi"
   ]
  },
  {
   "cell_type": "code",
   "execution_count": null,
   "metadata": {},
   "outputs": [],
   "source": [
    "model_path = Path(\"model/\")\n",
    "ppmi_size = \"medium\"\n",
    "ppmi_path = Path(f\"data/ppmi-matrices/{ppmi_size}\")"
   ]
  },
  {
   "cell_type": "code",
   "execution_count": null,
   "metadata": {},
   "outputs": [],
   "source": [
    "model_static = Word2Vec.load(str(model_path / \"word2vec.model\"))"
   ]
  },
  {
   "cell_type": "code",
   "execution_count": null,
   "metadata": {},
   "outputs": [],
   "source": [
    "def print_most_similar_cade(models, target_word, top_n=3):\n",
    "    print(f\"Word: {target_word}\")\n",
    "    for key, value in models.items():\n",
    "        print(f\"Month: {key.split('_')[1].capitalize()}\")\n",
    "        try:\n",
    "            print(value.wv.most_similar(target_word, topn=top_n))\n",
    "        except KeyError:\n",
    "            print(f\"{target_word} not in vocab\")\n",
    "        print(\"--------------------------------\")"
   ]
  },
  {
   "cell_type": "markdown",
   "metadata": {},
   "source": [
    "## Load models for months"
   ]
  },
  {
   "cell_type": "markdown",
   "metadata": {},
   "source": [
    "### Cade"
   ]
  },
  {
   "cell_type": "code",
   "execution_count": null,
   "metadata": {},
   "outputs": [],
   "source": [
    "model_path_monthly = model_path / \"monthly\"\n",
    "model_filenames = glob(str(model_path_monthly / \"*.model\"))"
   ]
  },
  {
   "cell_type": "code",
   "execution_count": null,
   "metadata": {},
   "outputs": [],
   "source": [
    "models_monthly = {f\"model_{model_file.split('_')[1][0:3].lower()}\":Word2Vec.load(model_file) for model_file in tqdm(model_filenames)}"
   ]
  },
  {
   "cell_type": "code",
   "execution_count": null,
   "metadata": {},
   "outputs": [],
   "source": [
    "models_monthly.keys()"
   ]
  },
  {
   "cell_type": "markdown",
   "metadata": {},
   "source": [
    "Order the models"
   ]
  },
  {
   "cell_type": "code",
   "execution_count": null,
   "metadata": {},
   "outputs": [],
   "source": [
    "order = ['jun', 'jul', 'aug', 'sep', 'oct', 'nov', 'dec', 'jan', 'feb', 'mar', 'apr']\n",
    "month_codes = {\"jun\": 6, \"jul\": 7, \"aug\": 8, \"sep\": 9, \"oct\": 10, \"nov\": 11, \"dec\": 12, \"jan\": 1, \"feb\": 2, \"mar\": 3, \"apr\": 4}\n",
    "\n",
    "# Sort the keys based on the desired month order\n",
    "sorted_keys = sorted(models_monthly.keys(), key=lambda x: order.index(x.split('_')[1]))\n",
    "\n",
    "# Create a sorted dictionary using a dictionary comprehension\n",
    "models_monthly = {key: models_monthly[key] for key in sorted_keys}"
   ]
  },
  {
   "cell_type": "markdown",
   "metadata": {},
   "source": [
    "### TPPMI"
   ]
  },
  {
   "cell_type": "code",
   "execution_count": null,
   "metadata": {},
   "outputs": [],
   "source": [
    "# Get names of the files\n",
    "ppmi_data_filenames = sorted(glob(str(ppmi_path / \"*.npz\"))) # contains ppmi data\n",
    "ppmi_vocab_filenames = sorted(glob(str(ppmi_path / \"*.pkl\"))) # contains vocab (column- and rownames)"
   ]
  },
  {
   "cell_type": "code",
   "execution_count": null,
   "metadata": {},
   "outputs": [],
   "source": [
    "import pickle\n",
    "\n",
    "ppmi_matrices = {}\n",
    "\n",
    "for filenames in zip(ppmi_vocab_filenames, ppmi_data_filenames):\n",
    "    ppmi_matrix = sp.load_npz(filenames[1])\n",
    "    with open(filenames[0], \"rb\") as f:\n",
    "        vocab = pickle.load(f)\n",
    "    key = filenames[0].split(\"ppmi-\")[2][0:2]\n",
    "    ppmi_matrices[key] = {\"ppmi_matrix\" : ppmi_matrix, \"vocab\": vocab}"
   ]
  },
  {
   "cell_type": "code",
   "execution_count": null,
   "metadata": {},
   "outputs": [],
   "source": [
    "ppmi_matrices.keys()"
   ]
  },
  {
   "cell_type": "markdown",
   "metadata": {},
   "source": [
    "Create ppmi_model objects"
   ]
  },
  {
   "cell_type": "code",
   "execution_count": null,
   "metadata": {},
   "outputs": [],
   "source": [
    "ppmi_models = {key: PPMIModel.construct_from_data(ppmi_data[\"ppmi_matrix\"], ppmi_data[\"vocab\"]) for key, ppmi_data in ppmi_matrices.items()}"
   ]
  },
  {
   "cell_type": "code",
   "execution_count": null,
   "metadata": {},
   "outputs": [],
   "source": [
    "tppmi_model = TPPMIModel(ppmi_models)"
   ]
  },
  {
   "cell_type": "code",
   "execution_count": null,
   "metadata": {},
   "outputs": [],
   "source": [
    "print(f\"Size of the vocabulary: {tppmi_model.get_vocabulary_size()}\")"
   ]
  },
  {
   "cell_type": "markdown",
   "metadata": {},
   "source": [
    "## Release of Brittney Griner"
   ]
  },
  {
   "cell_type": "markdown",
   "metadata": {},
   "source": [
    "### Overview"
   ]
  },
  {
   "cell_type": "markdown",
   "metadata": {},
   "source": [
    "On December 8, 2022, Russia and the United States conducted a prisoner exchange, trading Brittney Griner, an American basketball player, for Viktor Bout, a Russian arms dealer. Griner, a WNBA champion star and Team USA Olympic athlete, had been convicted of smuggling and possession of cannabis in Russia earlier in 2022 and sentenced to nine years in prison.\n",
    "\n",
    "Source: [Wikipedia article](https://en.wikipedia.org/wiki/Viktor_Bout%E2%80%93Brittney_Griner_prisoner_exchange)"
   ]
  },
  {
   "cell_type": "code",
   "execution_count": null,
   "metadata": {},
   "outputs": [],
   "source": [
    "target_word_griner = \"brittney\""
   ]
  },
  {
   "cell_type": "code",
   "execution_count": null,
   "metadata": {},
   "outputs": [],
   "source": [
    "selected_months_griner = [\"sep\", \"oct\", \"nov\", \"dec\", \"jan\"]\n",
    "selected_models_monthly_griner = {f\"model_{month}\": models_monthly[f\"model_{month}\"] for month in selected_months_griner}"
   ]
  },
  {
   "cell_type": "code",
   "execution_count": null,
   "metadata": {},
   "outputs": [],
   "source": [
    "title_griner = f\"Evolution of the word {target_word_griner} over time\"\n",
    "subtitle_griner = f\"Period: {' - '.join([month.capitalize() for month in selected_months_griner])}\""
   ]
  },
  {
   "cell_type": "code",
   "execution_count": null,
   "metadata": {},
   "outputs": [],
   "source": [
    "print_most_similar_cade(selected_models_monthly_griner, target_word_griner, top_n=3)"
   ]
  },
  {
   "cell_type": "markdown",
   "metadata": {},
   "source": [
    "#### CADE"
   ]
  },
  {
   "cell_type": "markdown",
   "metadata": {},
   "source": [
    "### Temporally changing embeddings"
   ]
  },
  {
   "cell_type": "code",
   "execution_count": null,
   "metadata": {},
   "outputs": [],
   "source": [
    "plot_temporal_changing_embedding(target_word_griner, selected_models_monthly_griner, top_n=3, title=title_griner, subtitle=subtitle_griner, use_tsne=False)"
   ]
  },
  {
   "cell_type": "markdown",
   "metadata": {},
   "source": [
    "### Cosine similarities"
   ]
  },
  {
   "cell_type": "code",
   "execution_count": null,
   "metadata": {},
   "outputs": [],
   "source": [
    "test_words_griner = [\"russia\", \"karen\", \"putin\"]"
   ]
  },
  {
   "cell_type": "code",
   "execution_count": null,
   "metadata": {},
   "outputs": [],
   "source": [
    "plot_cosine_similarity(target_word_griner, test_words_griner, selected_models_monthly_griner, event=\"dec\", event_name=\"Brittney Griner is released from prison\")"
   ]
  },
  {
   "cell_type": "markdown",
   "metadata": {},
   "source": [
    "### TPPMI"
   ]
  },
  {
   "cell_type": "code",
   "execution_count": null,
   "metadata": {},
   "outputs": [],
   "source": [
    "target_word_griner = \"brittney\"\n",
    "selected_months = [6, 7, 8]\n",
    "tppmi_griner = tppmi_model.get_tppmi(test_words_griner + [target_word_griner], selected_months=selected_months)"
   ]
  },
  {
   "cell_type": "code",
   "execution_count": null,
   "metadata": {},
   "outputs": [],
   "source": [
    "test_words_griner = [\"putin\", \"victor\"]\n",
    "plot_word_vectors_tppmi(tppmi_model.get_2d_representation([target_word_griner] + test_words_griner, selected_months=selected_months, use_tsne=False))"
   ]
  },
  {
   "cell_type": "code",
   "execution_count": null,
   "metadata": {},
   "outputs": [],
   "source": [
    "#plot_cosine_similarity_tppmi(target_word_griner, test_words_griner, tppmi_model, selected_months)"
   ]
  },
  {
   "cell_type": "markdown",
   "metadata": {},
   "source": [
    "## Elon Musk Twitter takeover"
   ]
  },
  {
   "cell_type": "markdown",
   "metadata": {},
   "source": [
    "### Overview"
   ]
  },
  {
   "cell_type": "markdown",
   "metadata": {},
   "source": [
    "Business magnate Elon Musk initiated an acquisition of American social media company Twitter, Inc. on April 14, 2022, and concluded it on October 27, 2022. Musk had begun buying shares of the company in January 2022, becoming its largest shareholder by April with a 9.1 percent ownership stake\n",
    "\n",
    "source: [Wikipedia article](https://en.wikipedia.org/wiki/Acquisition_of_Twitter_by_Elon_Musk#:~:text=Business%20magnate%20Elon%20Musk%20initiated,a%209.1%20percent%20ownership%20stake.)"
   ]
  },
  {
   "cell_type": "code",
   "execution_count": null,
   "metadata": {},
   "outputs": [],
   "source": [
    "target_word_twitter = \"twitter\""
   ]
  },
  {
   "cell_type": "code",
   "execution_count": null,
   "metadata": {},
   "outputs": [],
   "source": [
    "selected_months_twitter = [\"sep\", \"oct\", \"nov\", \"dec\"]\n",
    "selected_models_monthly_twitter = {f\"model_{month}\": models_monthly[f\"model_{month}\"] for month in selected_months_twitter}"
   ]
  },
  {
   "cell_type": "code",
   "execution_count": null,
   "metadata": {},
   "outputs": [],
   "source": [
    "title_twitter = f\"Evolution of the word {target_word_twitter} over time\"\n",
    "subtitle_twitter = f\"Period: {' - '.join([month.capitalize() for month in selected_months_twitter])}\""
   ]
  },
  {
   "cell_type": "code",
   "execution_count": null,
   "metadata": {},
   "outputs": [],
   "source": [
    "print_most_similar_cade(selected_models_monthly_twitter, target_word_twitter)"
   ]
  },
  {
   "cell_type": "markdown",
   "metadata": {},
   "source": [
    "### Temporaly changing embeddings"
   ]
  },
  {
   "cell_type": "code",
   "execution_count": null,
   "metadata": {},
   "outputs": [],
   "source": [
    "plot_temporal_changing_embedding(target_word_twitter, selected_models_monthly_twitter, top_n=2, title=title_twitter, subtitle=subtitle_twitter, use_tsne=True)"
   ]
  },
  {
   "cell_type": "markdown",
   "metadata": {},
   "source": [
    "### Cosine similarities"
   ]
  },
  {
   "cell_type": "code",
   "execution_count": null,
   "metadata": {},
   "outputs": [],
   "source": [
    "test_words_twitter = [\"facebook\",  \"elon\", \"blue\", \"liberal\"]"
   ]
  },
  {
   "cell_type": "code",
   "execution_count": null,
   "metadata": {},
   "outputs": [],
   "source": [
    "plot_cosine_similarity(target_word_twitter, test_words_twitter, models_monthly, \"nov\", \"Elon Musk takes over Twitter\")"
   ]
  },
  {
   "cell_type": "markdown",
   "metadata": {},
   "source": [
    "### TPPMI"
   ]
  },
  {
   "cell_type": "code",
   "execution_count": null,
   "metadata": {},
   "outputs": [],
   "source": [
    "tppmi_twitter = tppmi_model.get_tppmi(test_words_twitter + [target_word_twitter])"
   ]
  },
  {
   "cell_type": "code",
   "execution_count": null,
   "metadata": {},
   "outputs": [],
   "source": [
    "selected_months = [9, 10, 11, 12]\n",
    "plot_word_vectors_tppmi(tppmi_model.get_2d_representation(test_words_twitter + [target_word_twitter], selected_months=None, use_tsne=False))"
   ]
  },
  {
   "cell_type": "code",
   "execution_count": null,
   "metadata": {},
   "outputs": [],
   "source": [
    "plot_cosine_similarity_tppmi(\"twitter\", [\"facebook\", \"elon\", \"musk\"], tppmi_model, selected_months = [10, 11, 12])"
   ]
  },
  {
   "cell_type": "markdown",
   "metadata": {},
   "source": [
    "## Attack on Paul Pelosi"
   ]
  },
  {
   "cell_type": "markdown",
   "metadata": {},
   "source": [
    "### Overview"
   ]
  },
  {
   "cell_type": "markdown",
   "metadata": {},
   "source": [
    "On October 28, 2022, an intruder attacked Paul Pelosi, the 82-year-old husband of Nancy Pelosi, then the Speaker of the United States House of Representatives. The assailant beat Paul Pelosi with a hammer during a home invasion burglary of the couple's residence in Pacific Heights, San Francisco. He was seriously injured and underwent surgery for his fractured skull.\n",
    "\n",
    "source: [Wikipedia article](https://en.wikipedia.org/wiki/Attack_on_Paul_Pelosi)"
   ]
  },
  {
   "cell_type": "code",
   "execution_count": null,
   "metadata": {},
   "outputs": [],
   "source": [
    "target_word_pelosi = \"paul\""
   ]
  },
  {
   "cell_type": "code",
   "execution_count": null,
   "metadata": {},
   "outputs": [],
   "source": [
    "selected_months_pelosi = [\"oct\", \"nov\", \"dec\", \"jan\"]\n",
    "selected_models_monthly_pelosi = {f\"model_{month}\": models_monthly[f\"model_{month}\"] for month in selected_months_pelosi}"
   ]
  },
  {
   "cell_type": "code",
   "execution_count": null,
   "metadata": {},
   "outputs": [],
   "source": [
    "title_pelosi = f\"Evolution of the word {target_word_pelosi} over time\"\n",
    "subtitle_pelosi = f\"Period: {' - '.join([month.capitalize() for month in selected_months_pelosi])}\""
   ]
  },
  {
   "cell_type": "code",
   "execution_count": null,
   "metadata": {},
   "outputs": [],
   "source": [
    "print_most_similar_cade(selected_models_monthly_pelosi, target_word_pelosi, top_n = 4)"
   ]
  },
  {
   "cell_type": "markdown",
   "metadata": {},
   "source": [
    "### Temporally changing embeddings"
   ]
  },
  {
   "cell_type": "code",
   "execution_count": null,
   "metadata": {},
   "outputs": [],
   "source": [
    "plot_temporal_changing_embedding(target_word_pelosi, selected_models_monthly_pelosi, top_n=3, title=title_pelosi, subtitle=subtitle_pelosi, use_tsne=True)"
   ]
  },
  {
   "cell_type": "markdown",
   "metadata": {},
   "source": [
    "### Cosine similarities"
   ]
  },
  {
   "cell_type": "code",
   "execution_count": null,
   "metadata": {},
   "outputs": [],
   "source": [
    "print_most_similar_cade(models_monthly, target_word_pelosi)"
   ]
  },
  {
   "cell_type": "code",
   "execution_count": null,
   "metadata": {},
   "outputs": [],
   "source": [
    "test_words_pelosi = [\"attack\", \"democrats\", \"invasion\", \"hammer\", \"intruder\"]"
   ]
  },
  {
   "cell_type": "code",
   "execution_count": null,
   "metadata": {},
   "outputs": [],
   "source": [
    "plot_cosine_similarity(target_word_pelosi, test_words_pelosi, models_monthly, event=\"nov\", event_name=\"Attack on Paul Pelosi\")"
   ]
  },
  {
   "cell_type": "markdown",
   "metadata": {},
   "source": [
    "### TPPMI"
   ]
  },
  {
   "cell_type": "code",
   "execution_count": null,
   "metadata": {},
   "outputs": [],
   "source": [
    "tppmi_pelosi = tppmi_model.get_tppmi(test_words_pelosi + [target_word_pelosi])"
   ]
  },
  {
   "cell_type": "code",
   "execution_count": null,
   "metadata": {},
   "outputs": [],
   "source": [
    "test_words_pelosi = [\"attack\", \"democrats\", \"invasion\"]\n",
    "selected_months_pelosi = [10, 11, 12]\n",
    "plot_word_vectors_tppmi(tppmi_model.get_2d_representation(test_words_pelosi + [target_word_pelosi], use_tsne=False, selected_months = selected_months_pelosi))"
   ]
  },
  {
   "cell_type": "code",
   "execution_count": null,
   "metadata": {},
   "outputs": [],
   "source": [
    "plot_cosine_similarity_tppmi(target_word_pelosi, test_words_pelosi, tppmi_model, selected_months = selected_months_pelosi)"
   ]
  },
  {
   "cell_type": "markdown",
   "metadata": {},
   "source": [
    "## Colorado Springs shooting at LGBTQ nightclub"
   ]
  },
  {
   "cell_type": "markdown",
   "metadata": {},
   "source": [
    "### Overview"
   ]
  },
  {
   "cell_type": "markdown",
   "metadata": {},
   "source": [
    "On November 19–20, 2022, an anti-LGBT-motivated mass shooting occurred at Club Q, a gay bar in Colorado Springs, Colorado, United States. Five people were murdered, and 25 others were injured, 19 of them by gunfire. The shooter, 22-year-old Anderson Lee Aldrich, was also injured while being restrained, and was taken to a local hospital\n",
    "\n",
    "source: [wikipedia article](https://en.wikipedia.org/wiki/Colorado_Springs_nightclub_shooting)"
   ]
  },
  {
   "cell_type": "code",
   "execution_count": null,
   "metadata": {},
   "outputs": [],
   "source": [
    "target_word_colorado_springs = \"nightclub\""
   ]
  },
  {
   "cell_type": "code",
   "execution_count": null,
   "metadata": {},
   "outputs": [],
   "source": [
    "selected_months_colorado_springs = [\"oct\", \"nov\", \"dec\", \"jan\"]\n",
    "selected_models_monthly_colorado_springs = {f\"model_{month}\": models_monthly[f\"model_{month}\"] for month in selected_months_colorado_springs}"
   ]
  },
  {
   "cell_type": "code",
   "execution_count": null,
   "metadata": {},
   "outputs": [],
   "source": [
    "title_colorado_springs = f\"Evolution of the word {target_word_colorado_springs} over time\"\n",
    "subtitle_colorado_springs = f\"Period: {' - '.join([month.capitalize() for month in selected_months_colorado_springs])}\""
   ]
  },
  {
   "cell_type": "code",
   "execution_count": null,
   "metadata": {},
   "outputs": [],
   "source": [
    "print_most_similar_cade(selected_models_monthly_colorado_springs, target_word_colorado_springs)"
   ]
  },
  {
   "cell_type": "markdown",
   "metadata": {},
   "source": [
    "### Temporarily changing embeddings"
   ]
  },
  {
   "cell_type": "code",
   "execution_count": null,
   "metadata": {},
   "outputs": [],
   "source": [
    "plot_temporal_changing_embedding(target_word_colorado_springs, selected_models_monthly_colorado_springs,\n",
    "                                 top_n=4, title=title_colorado_springs, subtitle=subtitle_colorado_springs, use_tsne=True)"
   ]
  },
  {
   "cell_type": "markdown",
   "metadata": {},
   "source": [
    "### Cosine similarities"
   ]
  },
  {
   "cell_type": "code",
   "execution_count": null,
   "metadata": {},
   "outputs": [],
   "source": [
    "test_words_colorado_springs = [\"music\", \"gunman\", \"massacre\"]"
   ]
  },
  {
   "cell_type": "code",
   "execution_count": null,
   "metadata": {},
   "outputs": [],
   "source": [
    "plot_cosine_similarity(target_word_colorado_springs, test_words_colorado_springs, selected_models_monthly_colorado_springs, event=\"dec\", event_name=\"Colorado Springs nightclub shooting\")"
   ]
  },
  {
   "cell_type": "markdown",
   "metadata": {},
   "source": [
    "### TPPMI"
   ]
  },
  {
   "cell_type": "code",
   "execution_count": null,
   "metadata": {},
   "outputs": [],
   "source": [
    "tppmi_colorado_springs = tppmi_model.get_tppmi(test_words_colorado_springs + [target_word_colorado_springs])"
   ]
  },
  {
   "cell_type": "code",
   "execution_count": null,
   "metadata": {},
   "outputs": [],
   "source": [
    "target_word_colorado_springs = \"colorado\"\n",
    "selected_months_colorado_springs = [9, 10, 11, 12]"
   ]
  },
  {
   "cell_type": "code",
   "execution_count": null,
   "metadata": {},
   "outputs": [],
   "source": [
    "test_words_colorado_springs = [\"massacre\", \"kansas\"]\n",
    "plot_word_vectors_tppmi(tppmi_model.get_2d_representation(test_words_colorado_springs + [target_word_colorado_springs], use_tsne=False, selected_months = selected_months_colorado_springs))"
   ]
  },
  {
   "cell_type": "code",
   "execution_count": null,
   "metadata": {},
   "outputs": [],
   "source": []
  }
 ],
 "metadata": {
  "kernelspec": {
   "display_name": "Python 3 (ipykernel)",
   "language": "python",
   "name": "python3"
  },
  "language_info": {
   "codemirror_mode": {
    "name": "ipython",
    "version": 3
   },
   "file_extension": ".py",
   "mimetype": "text/x-python",
   "name": "python",
   "nbconvert_exporter": "python",
   "pygments_lexer": "ipython3",
   "version": "3.11.4"
  }
 },
 "nbformat": 4,
 "nbformat_minor": 1
}
