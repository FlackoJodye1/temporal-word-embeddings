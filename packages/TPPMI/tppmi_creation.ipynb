{
 "cells": [
  {
   "cell_type": "markdown",
   "source": [
    "# PPMI"
   ],
   "metadata": {
    "collapsed": false
   }
  },
  {
   "cell_type": "code",
   "execution_count": 127,
   "outputs": [
    {
     "name": "stderr",
     "output_type": "stream",
     "text": [
      "[nltk_data] Downloading package punkt to\n",
      "[nltk_data]     /Users/paulschmitt/nltk_data...\n",
      "[nltk_data]   Package punkt is already up-to-date!\n"
     ]
    }
   ],
   "source": [
    "import glob\n",
    "import pickle\n",
    "import pandas as pd\n",
    "from pathlib import Path\n",
    "import util as tppmi_util\n",
    "from pprint import pprint\n",
    "from tqdm.notebook import tqdm\n",
    "from ppmi_model import PPMIModel\n",
    "\n",
    "import nltk\n",
    "nltk.download('punkt');"
   ],
   "metadata": {
    "collapsed": false
   }
  },
  {
   "cell_type": "markdown",
   "source": [
    "## Setup"
   ],
   "metadata": {
    "collapsed": false
   }
  },
  {
   "cell_type": "code",
   "execution_count": 128,
   "outputs": [],
   "source": [
    "DIR = Path(\"../../data\")\n",
    "size = \"medium\"\n",
    "split_type = \"quarter\"\n",
    "min_freq = 5 # large = 2, medium = 5, short = 500\n",
    "window_size = 5 # default word2vec window-size\n",
    "number_of_context_words = 5000\n",
    "months = [\"Jun\", \"Jul\", \"Aug\", \"Sep\", \"Oct\", \"Nov\", \"Dec\", \"Jan\", \"Feb\", \"Mar\", \"Apr\"]\n",
    "month_codes = {\"Jun\": \"06\", \"Jul\": \"07\", \"Aug\": \"08\", \"Sep\": \"09\", \"Oct\": \"10\", \"Nov\": \"11\", \"Dec\": \"12\", \"Jan\": \"01\", \"Feb\": \"02\", \"Mar\": \"03\", \"Apr\": \"04\"}"
   ],
   "metadata": {
    "collapsed": false
   }
  },
  {
   "cell_type": "markdown",
   "source": [
    "## Build Corpus"
   ],
   "metadata": {
    "collapsed": false
   }
  },
  {
   "cell_type": "markdown",
   "source": [
    " /1. Texts of the entire dataset split into sentences"
   ],
   "metadata": {
    "collapsed": false
   }
  },
  {
   "cell_type": "code",
   "execution_count": 129,
   "outputs": [],
   "source": [
    "df = pd.read_csv(DIR / \"processed_data.csv\")\n",
    "df = df[[\"text\"]]"
   ],
   "metadata": {
    "collapsed": false
   }
  },
  {
   "cell_type": "code",
   "execution_count": 130,
   "outputs": [],
   "source": [
    "df = df.dropna()"
   ],
   "metadata": {
    "collapsed": false
   }
  },
  {
   "cell_type": "code",
   "execution_count": 131,
   "outputs": [],
   "source": [
    "corpus = ' '.join(df[\"text\"])"
   ],
   "metadata": {
    "collapsed": false
   }
  },
  {
   "cell_type": "code",
   "execution_count": 132,
   "outputs": [],
   "source": [
    "context_words = tppmi_util.get_most_common_words(corpus, top_n=number_of_context_words, remove_stopwords=False)"
   ],
   "metadata": {
    "collapsed": false
   }
  },
  {
   "cell_type": "code",
   "execution_count": 133,
   "outputs": [
    {
     "name": "stdout",
     "output_type": "stream",
     "text": [
      "['the', 'to', 'and', 'of', 'a', 'in', 'for', 'that', 'school', 'is', 'on', 'i', 'with', 'are', 'it',\n",
      " 'as', 'have', 'at', 'this', 'be', 'you', 'by', 'not', 'was', 'they', 'from', 'students', 'their',\n",
      " 'board', 'or', 'schools', 'but', 'an', 'we', 'has', 'said', 'who', 'about', 'its', 'all', 'will',\n",
      " 'my', 'he', 'if', 'more', 'were', 'people', 'our', 'so', 'what', 'race', 'can', 'parents',\n",
      " 'education', 'one', 'your', 'would', 'when', 'out', 'also', 'been', 'his', 'no', 'crt', 'children',\n",
      " 'up', 'do', 'them', 'new', 'like', 'which', 'just', 'she', 'public', 'teachers', 'had', 'her',\n",
      " 'covid', 'how', 'kids', 'other', 'after', 'some', 'there', 'year', 'state', 'because', 'get',\n",
      " 'dont', 'covid19', 'district', 'being', 'time', 'student', 'over', 'trans', 'than', 'us', 'now',\n",
      " 'me', 'rights', 'years', 'these', 'into', 'only', 'many', 'should', 'first', 'critical', 'high',\n",
      " 'any', 'theory', 'even', 'health', 'those', 'during', 'post', 'teacher', 'know', 'make', 'most',\n",
      " 'work', 'against', 'two', 'last', 'im', 'while', 'where', 'need', 'want', 'back', 'could', 'right',\n",
      " 'law', 'university', 'county', 'then', 'think', 'online', 'pandemic', 'author', 'say', 'day',\n",
      " 'through', 'see', 'diversity', 'community', 'college', 'did', 'well', 'states', 'members', 'still',\n",
      " 'boards', 'support', 'going', 'before', 'go', 'deleted', 'gender', 'books', 'may', 'way', 'local',\n",
      " 'book', 'every', 'why', 'take', 'news', 'use', 'learning', 'child', 'vaccine', 'made', 'teaching',\n",
      " 'much', 'mask', 'black', 'such', 'white', 'florida', '2022', 'here', 'good', 'down', 'same',\n",
      " 'meeting', 'since', 'government', 'help', 'parental', 'very', 'including', 'bill', 'staff',\n",
      " 'thats', 'really', 'says', 'according', 'desantis', 'masks', 'history', 'social', 'part', 'week',\n",
      " 'him', 'president', 'city', 'home', 'class', 'american', 'never', 'told', 'districts', 'group',\n",
      " 'across', 'too', '1', 'care', 'read', 'things', 'under', 'policy', 'country', 'got', 'didnt', 'am',\n",
      " 'national', '2', 'both', 'system', 'around', 'off', 'court', 'classroom', 'issues', 'own', 'house',\n",
      " 'another', 'taught', 'does', 'political', 'without', 'report', 'ban', 'free', 'three', 'federal',\n",
      " 'program', 'best', 'family', 'days', 'used', 'candidates', 'life', 'next', 'long', 'cant',\n",
      " 'doesnt', '3', 'vote', 'republican', 'medical', 'better', 'department', 'due', 'woke', 'keep',\n",
      " '2021', 'between', 'policies', 'different', 'election', 'place', 'police', 'found', 'world', 'lot',\n",
      " 'must', 'member', 'come', 'republicans', 'mandates', 'young', 'theyre', 'among', 'each', 'parent',\n",
      " 'media', 'put', 'having', 'give', 'change', 'today', 'youre', 'teach', 'information', 'something',\n",
      " 'look', 'mandate', 'actually', 'gay', 'making', 'getting', 'end', 'conservative', 'job', 'doing',\n",
      " 'biden', 'called', 'office', 'important', 'transgender', 'number', 'study', 'vaccines',\n",
      " 'officials', 'former', 'using', 'left', 'money', 'sex', 'show', 'banning', 'stop', 'working',\n",
      " 'case', 'racism', 'feel', 'thing', 'find', 'big', 'again', 'old', 'issue', '2020', 'always',\n",
      " 'already', 'lgbtq', 'texas', 'trying', 'superintendent', 'person', 'open', 'cases', 'course',\n",
      " 'research', 'sure', 'believe', 'groups', 'buy', 'away', 'few', 'million', 'able', 'isnt', 'love',\n",
      " 'based', 'however', 'times', 'others', 'elementary', 'saying', 'act', 'families', 'several',\n",
      " 'grade', 'point', 'until', 'great', 'start', 'america', 'plan', 'everyone', '5', 'curriculum',\n",
      " 'programs', 'full', 'meetings', 'least', 'governor', 'set', 'experience', 'identity', 'level',\n",
      " 'data', 'dr', '10', 'girls', 'bans', 'pay', 'might', 'less', 'within', 'needs', 'continue',\n",
      " 'legal', 'women', 'sexual', 'past', 'control', '4', 'little', 'required', 'real', 'ive', 'trump',\n",
      " 'action', 'equity', 'reading', 'order', 'learn', 'months', 'provide', 'access', 'classes',\n",
      " 'though', 'went', 'decision', 'theres', 'asked', 'whether', 'become', 'please', 'administration',\n",
      " 'test', 'far', 'name', 'ago', 'democrats', 'yet', 'training', 'month', '2023', 'recent', 'someone',\n",
      " 'done', 'top', 'video', 'team', 'academic', 'business', 'ever', 'took', 'man', '6', 'following',\n",
      " 'races', 'director', 'party', 'private', 'face', 'taking', 'enough', 'run', 'sports', 'monday',\n",
      " 'power', 'educational', 'higher', 'banned', 'statement', 'safety', 'story', 'inclusion', 'early',\n",
      " 'nothing', 'anything', 'wear', 'laws', 'classrooms', 'running', 'available', 'tell', 'center',\n",
      " 'age', 'campus', 'mental', 'let', 'committee', 'hard', 'gov', 'problem', 'instead', 'fact',\n",
      " 'funding', 'current', 'library', 'general', 'came', 'per', 'union', 'especially', 'services',\n",
      " 'once', 'started', 'four', 'seen', 'matter', 'special', '12', 'call', 'live', 'bad', 'future',\n",
      " 'association', 'given', 'website', 'california', 'tuesday', 'response', 'legislation', 'middle',\n",
      " 'process', 'hours', 'justice', 'understand', 'shop', 'campaign', 'include', 'anyone', 'safe',\n",
      " 'reported', 'often', 'society', 'elections', 'example', 'yes', 'friends', 'concerned', 'likely',\n",
      " 'true', 'etc', 'culture', 'side', 'elected', 'racial', 'science', 'voters', 'allowed', 'second',\n",
      " 'means', 'freedom', 'kid', 'universities', 'voted', 'weeks', 'play', 'recently', 'vaccination',\n",
      " 'makes', 'everything', 'lives', 'studies', 'impact', 'comes', 'masking', 'looking', 'later',\n",
      " 'idea', 'united', 'protect', 'talk', 'arent', 'list', 'gop', 'comment', 'virginia', 'march', 'try',\n",
      " '20', 'held', 'shooting', 'workers', 'christian', 'coming', 'colleges', 'ron', 'york', 'increase',\n",
      " 'risk', 'themselves', 'project', 'council', 'faculty', 'related', 'plans', 'outside', 'together',\n",
      " 'area', 'five', 'questions', 'educators', 'men', 'event', 'hes', 'washington', 'racist', 'passed',\n",
      " 'received', 'fall', 'hate', 'friday', 'wrong', 'close', 'employees', 'efforts', 'human', 'allow',\n",
      " 'possible', 'speech', 'focus', 'term', 'leaders', 'americans', 'majority', 'added', 'candidate',\n",
      " 'address', 'mean', 'taken', 'development', 'professor', 'wont', 'reason', 'wednesday', 'share',\n",
      " 'principal', 'shows', 'email', 'fight', 'concerns', 'woman', 'primary', 'further', 'wants',\n",
      " 'certain', 'despite', 'testing', 'create', 'ap', 'announced', 'results', 'choice', 'grooming',\n",
      " 'letter', 'thursday', 'agenda', 'north', 'talking', 'content', 'math', 'kind', 'youth', 'question',\n",
      " '15', 'small', 'view', 'almost', 'wrote', 'god', 'thought', 'move', 'behind', 'girl', 'ask',\n",
      " 'service', 'color', 'forced', 'clear', 'room', 'nearly', 'return', 'either', 'attend', 'wearing',\n",
      " 'along', 'night', 'require', 'personal', 'watch', 'whole', 'role', 'article', 'follow', 'earlier',\n",
      " 'leave', 'bring', 'childrens', 'longer', 'supreme', 'tv', 'sent', 'wanted', 'request', 'rather',\n",
      " 'pm', 'war', 'changes', 'force', 'spread', 'lost', 'currently', 'communities', 'gets',\n",
      " 'admissions', 'game', 'maybe', 'closed', 'politics', 'november', 'needed', 'approved', '30',\n",
      " 'june', 'abortion', 'led', 'building', 'id', 'major', '7', 'cdc', 'january', 'summer', 'similar',\n",
      " '8', 'involved', 'violence', 'position', 'ensure', 'press', 'latest', 'libraries', 'virus',\n",
      " 'senate', 'evidence', 'daily', 'meet', '100', 'probably', 'restrictions', 'stay', 'resources',\n",
      " 'decisions', 'chief', 'ones', 'south', 'opportunity', 'requirements', 'hope', 'international',\n",
      " 'games', 'result', 'democratic', 'company', 'religious', 'remember', 'april', 'percent',\n",
      " 'conservatives', 'else', 'language', 'lead', 'cannot', 'entire', 'medicine', 'closures', 'wasnt',\n",
      " 'included', 'whats', 'institutions', 'body', 'positive', 'leadership', 'measures', 'sick', 'won',\n",
      " 'rules', 'voting', 'head', 'attorney', 'executive', 'saw', 'judge', 'line', 'paid', 'push', 'via',\n",
      " 'ways', 'single', 'truth', 'drag', 'large', 'individuals', 'challenges', 'third', 'common',\n",
      " 'mother', 'boys', 'known', 'systems', 'events', 'expected', 'ideology', 'contact', 'worked',\n",
      " 'adults', 'calling', 'key', 'comments', 'began', 'tax', 'created', 'individual', 'discrimination',\n",
      " 'six', 'receive', 'technology', 'half', 'agree', 'hold', 'loan', 'released', 'levels', 'consider',\n",
      " 'twitter', 'words', 'environment', 'rate', 'security', 'ontario', 'friend', 'china', 'signed',\n",
      " 'nation', 'administrators', 'living', 'food', 'problems', 'works', 'link', 'skills', 'record',\n",
      " 'organization', '18', 'send', 'pretty', 'male', 'rates', 'disease', 'budget', 'activities',\n",
      " 'review', 'k12', 'moms', 'july', 'august', 'church', 'instruction', 'interest', 'lawsuit',\n",
      " 'attack', 'discussion', 'lack', 'gave', 'civil', 'october', 'west', 'seems', 'normal', 'shot',\n",
      " 'hear', 'throughout', 'areas', 'attention', 'emergency', 'movement', 'gun', 'check', 'provided',\n",
      " 'heard', 'death', 'giving', 'sense', 'offer', 'potential', 'mind', 'bills', 'thank', 'career',\n",
      " '11', 'forward', 'regarding', 'tried', 'win', 'goes', 'quality', 'funds', 'effect', 'financial',\n",
      " 'calls', 'stand', 'liberty', 'diverse', 'exactly', 'joe', 'mom', 'multiple', 'period',\n",
      " 'vaccinated', 'market', 'published', 'jobs', 'happened', 'september', 'catholic', 'english',\n",
      " 'fire', '25', 'wordpress', 'boy', 'unions', 'daughter', 'breaking', 'removed', 'mandated',\n",
      " 'proposed', 'heart', 'deal', 'significant', 'decided', 'sign', 'son', 'spent', 'cost', 'materials',\n",
      " 'absolutely', 'click', 'trust', 'effort', 'practice', 'queer', 'asking', 'late', '9', 'includes',\n",
      " '14', 'cause', '50', 'became', 'wouldnt', 'situation', 'senior', 'thinking', 'opportunities',\n",
      " 'mark', 'professional', 'simply', 'crime', 'fired', 'break', 'whose', 'form', 'fox', 'continues',\n",
      " 'liberal', 'father', 'shes', 'present', 'filed', 'canada', 'additional', 'step', 'starting',\n",
      " 'indoctrination', 'patients', 'prevent', 'series', 'global', 'low', 'grades', 'title', 'town',\n",
      " 'ill', 'standards', 'reports', 'john', 'debt', 'lets', 'assault', 'telling', 'hand', '13', 'pass',\n",
      " 'officer', 'points', 'teen', 'military', 'source', 'discuss', 'choose', 'addition', 'showed',\n",
      " 'add', 'various', 'population', 'knowledge', 'values', 'weve', 'mass', 'democrat', 'strong',\n",
      " 'considered', 'field', 'failed', 'fbi', 'previous', 'turn', 'speak', 'red', '2019', 'cultural',\n",
      " 'word', 'fully', 'claim', 'lessons', '16', 'providing', 'air', 'increased', 'lawmakers', 'playing',\n",
      " 'remove', 'rep', 'stuff', 'hospital', 'official', 'mr', 'growing', 'relief', 'below', 'huge',\n",
      " 'literally', 'crts', 'takes', 'topics', 'ability', 'although', 'thanks', 'continued', 'ideas',\n",
      " 'st', 'respect', 'claims', 'fear', 'immediately', 'scores', 'worse', 'nations', 'actions',\n",
      " 'killed', 'tests', 'fucking', 'brought', '19', 'guidance', 'posted', 'happen', 'san', 'debate',\n",
      " 'crisis', 'businesses', 'female', 'front', 'release', 'orientation', 'athletes', 'chair',\n",
      " 'speaking', 'childs', 'benefits', 'status', 'exam', 'rise', 'seeing', 'particularly', 'pushing',\n",
      " 'healthcare', 'writing', 'material', 'happening', 'remain', 'votes', 'threats', 'understanding',\n",
      " 'shut', 'session', 'minutes', 'facebook', 'total', 'soon', 'morning', 'digital', 'serve', '17',\n",
      " 'investigation', 'hearing', 'fair', 'leading', 'treatment', 'residents', 'congress', 'specific',\n",
      " 'lower', 'stated', 'complete', 'sometimes', 'flu', 'threat', 'abuse', 'inside', 'december',\n",
      " 'arizona', 'foundation', 'central', 'season', 'message', 'trustees', 'difficult', 'compared',\n",
      " 'beyond', 'felt', 'stories', 'charter', 'terms', 'effective', 'protection', 'necessary',\n",
      " 'michigan', 'oh', 'dollars', 'happy', 'art', 'survey', 'knew', 'focused', 'seat', 'bit', 'extra',\n",
      " 'putting', 'unless', 'final', 'pronouns', 'mayor', '24', 'womens', 'places', 'type', 'authority',\n",
      " 'positions', 'officers', 'completely', 'remote', 'previously', 'mandatory', 'page', 'subject',\n",
      " 'spending', 'supporting', 'shared', 'graduate', 'organizations', 'average', 'management',\n",
      " 'doctors', 'physical', 'lol', 'changed', 'challenge', 'behavior', 'largest', 'allowing', 'amount',\n",
      " 'visit', 'lockdowns', 'millions', 'degree', 'hit', 'answer', 'shit', 'fun', 'teams', 'improve',\n",
      " 'activists', 'opinion', 'inflation', 'dei', 'near', 'beginning', 'floridas', 'independent',\n",
      " 'inperson', 'prior', 'promote', 'countries', 'contract', 'couldnt', 'alone', 'courses', 'experts',\n",
      " 'ahead', 'february', 'usually', 'account', 'save', 'success', 'died', 'whatever', 'secondary',\n",
      " 'interview', 'practices', 'african', 'actual', 'planning', 'asian', 'jan', 'supported', 'worth',\n",
      " 'birth', 'property', 'numbers', '40', 'johnson', 'requiring', 'couple', 'economic', 'rest',\n",
      " 'written', 'model', 'toward', 'heres', 'issued', 'value', 'exposed', 'space', 'voice', 'seats',\n",
      " 'associated', 'helped', 'tags', 'loss', 'platform', 'disney', 'conference', 'seeking', 'learned',\n",
      " 'secretary', 'yeah', 'apply', 'showing', 'poor', 'date', 'build', 'upon', 'difference', 'bus',\n",
      " 'expand', 'caused', 'short', 'leader', 'serious', 'guy', 'strike', 'fighting', 'seem', 'above',\n",
      " 'carolina', 'provides', 'finally', 'phone', 'amendment', 'code', 'fund', 'adding', 'proposal',\n",
      " 'billion', 'identify', 'definitely', 'measure', 'concern', 'basic', 'rule', 'approach',\n",
      " 'thousands', 'served', 'facilities', 'target', 'effects', 'noted', 'de', 'adult', 'join',\n",
      " 'institute', 'companies', 'bidens', 'harvard', 'reasons', 'committed', 'radical', 'chinese',\n",
      " 'symptoms', 'goal', 'centers', 'spoke', 'havent', 'looks', '21', 'experiences', 'analysis',\n",
      " 'kindergarten', 'spring', 'arrested', 'myself', 'nationwide', 'decades', 'lesson', 'helping',\n",
      " 'greater', 'basis', 'track', 'amid', 'keeping', 'towards', 'governors', 'designed', 'equal',\n",
      " 'successful', 'proud', 'uk', 'appropriate', 'agency', 'main', 'protest', 'coronavirus', 'baby',\n",
      " 'benefit', 'protecting', 'regardless', 'cut', 'racing', 'music', 'religion', 'chance', 'older',\n",
      " 'ready', 'energy', 'controversial', 'credit', 'academy', 'allows', 'schedule', 'enforcement',\n",
      " 'chicago', 'creating', 'cent', 'gone', 'legislature', 'ran', 'werent', 'theyve', 'childhood',\n",
      " 'accused', 'introduced', 'citizens', 'illegal', 'gives', 'hands', 'raise', 'quite', 'overall',\n",
      " 'georgia', 'minister', '28', 'sexuality', 'easy', 'club', 'decide', 'nov', 'region', 'offered',\n",
      " 'none', 'infection', 'trustee', 'details', 'hot', 'original', '23', 'annual', 'performance',\n",
      " 'requires', 'write', 'reality', 'assistant', 'site', 'ballot', 'attacks', '22', 'smith', 'price',\n",
      " 'claimed', 'image', 'david', 'demand', 'application', 'politicians', 'park', 'update', 'dangerous',\n",
      " 'light', 'limited', 'wait', 'regular', 'therefore', 'listen', 'domestic', 'loans', 'responsible',\n",
      " 'vice', 'shouldnt', 'courts', 'pushed', 'biological', 'enrollment', 'youngkin', 'names', 'raised',\n",
      " 'travel', 'mostly', 'ok', 'hundreds', 'file', 'deaths', 'expect', 'opposition', 'v', 'toronto',\n",
      " 'met', 'exist', 'water', 'search', 'industry', 'turned', 'guns', 'specifically', 'straight',\n",
      " 'fuck', 'requirement', 'spend', 'guidelines', 'photo', 'progress', 'develop', 'store', 'car',\n",
      " 'wife', 'booster', 'nice', 'itself', 'facing', 'attempt', 'options', 'transition', 'option',\n",
      " 'yourself', 'harm', 'climate', 'virtual', 'marriage', 'false', 'wellbeing', 'paper', 'himself',\n",
      " 'winter', 'governments', 'hospitals', 'opens', 'considering', 'note', 'division', 'healthy',\n",
      " 'moving', 'screen', 'charge', 'wave', 'directly', 'fine', 'views', 'ongoing', 'followed', 's',\n",
      " 'increasing', 'section', 'kept', 'americas', 'moved', 'lunch', 'mentioned', 'resolution',\n",
      " 'popular', 'reduce', 'usa', 'arts', 'notice', 'dead', 'la', 'housing', 'supposed', 'saturday',\n",
      " 'shots', 'appeared', 'begin', 'cover', 'clearly', 'recommended', 'plus', 'brown', 'dad', 'respond',\n",
      " 'forget', 'drop', 'particular', 'targeted', 'meanwhile', 'zero', 'commission', 'played', 'youll',\n",
      " 'canadian', 'explain', 'authorities', 'oct', 'transmission', 'reach', 'meant', 'core', 'records',\n",
      " 'fake', 'internet', 'avoid', 'discussions', 'happens', 'range', 'simple', 'biggest', 'legislative',\n",
      " 'applicants', 'mention', 'grand', 'ended', 'conditions', 'aware', 'hiring', 'lgbt', 'amazing',\n",
      " 'cities', 'critics', 'growth', 'host', 'certainly', 'tech', 'ohio', 'wish', 'folks', 'interested',\n",
      " 'c', 'videos', 'western', 'street', '2024', 'emotional', 'highly', 'attendance', 'hell', 'george',\n",
      " 'indian', 'direct', 'michael', 'progressive', 'experienced', 'leaving', 'google', 'minority',\n",
      " 'slavery', 'researchers', 'deserve', 'severe', 'responsibility', 'network', 'evil', 'negative',\n",
      " 'otherwise', 'mission', 'border', 'perfect', 'censorship', 'facts', 'truly', 'consent',\n",
      " 'democracy', 'affirmative', 'conversation', 'costs', 'uvalde', 'wisconsin', 'influence',\n",
      " 'tennessee', 'commitment', 'promoting', 'ass', 'rightwing', 'ruling', 'blame', 'super', 'strategy',\n",
      " 'highest', 'hall', 'protests', '60', 'reporting', '2018', 'holding', 'b', 'updated', 'blue',\n",
      " 'imagine', 'incident', 'supports', 'nashville', 'bc', 'pressure', 'hour', 'signs', 'guess',\n",
      " 'moment', 'changing', 'inclusive', 'constitution', 'homes', 'dc', 'activist', 'colorado',\n",
      " 'shooter', 'bathroom', 'matters', 'identified', 'pride', 'reached', 'topic', 'miss', 'affected',\n",
      " 'text', 'encourage', 'generation', 'sorry', 'husband', 'deep', 'consequences', 'card', 'illinois',\n",
      " 'masked', 'largely', 'systemic', 'natural', 'agreed', 'road', 'outcomes', 'income', 'spaces',\n",
      " 'province', 'except', 'taxes', 'modern', 'sunday', 'steps', 'participate', 'nor', 'attending',\n",
      " 'worst', 'economy', 'vs', 'setting', 'award', 'advanced', 'documents', 'table', 'concept', 'seek',\n",
      " 'tab', 'picture', 'illness', 'argued', 'standard', 'correct', 'unique', 'employment', 'limit',\n",
      " 'faced', 'favor', 'launched', 'offers', 'becoming', 'lockdown', 'advocate', 'criminal',\n",
      " 'developed', 'finding', 'los', 'initiatives', 'aid', 'seven', 'ed', 'pick', 'relationship',\n",
      " 'generally', 'attended', 'n', 'knows', 'fellow', 'lies', 'feeling', 'peoples', 'r', 'active',\n",
      " 'exams', 'agreement', 'door', 'planned', 'factors', 'football', 'parts', 'ms', 'victims', 'east',\n",
      " 'grant', 'equality', 'remains', 'sending', 'purpose', 'presented', 'lose', 'iowa', 'donald',\n",
      " 'priority', 'prevention', 'unified', 'quickly', 'massive', 'projects', 'retired', 'believes',\n",
      " 'insurance', 'informed', 'crazy', 'version', 'definition', 'extremely', 'battle', 'welcome',\n",
      " 'paul', 'advocates', 'admin', 'thomas', 'refused', 'importance', 'concepts', 'southern', 'goals',\n",
      " 'protected', 'targeting', 'james', 'd', '31', 'born', 'guide', 'encouraged', 'basically', 'lawyer',\n",
      " 'infections', 'eight', 'design', 'paying', 'dropped', 'oklahoma', 'posts', 'propaganda', 'youve',\n",
      " 'beliefs', 'offices', 'weekend', 'arkansas', 'lie', 'stress', 'traditional', 'stopped', 'separate',\n",
      " 'named', 'caught', 'valley', 'nonbinary', 'fill', 'drive', 'figure', 'advice', 'chapter',\n",
      " 'campuses', 'placed', 'charged', 'engineering', 'enjoy', 'appointed', 'opposed', 'investment',\n",
      " 'aug', 'tested', 'sound', 'india', 'helps', 'capital', 'indoor', 'green', 'nursing', 'eligible',\n",
      " 'violent', 'vaccinations', '26', 'terrorists', 'younger', 'argue', 'associate', 'fucked',\n",
      " 'shootings', 'argument', 'dress', 'built', 'numerous', 'loved', 'easily', 'endorsed', 'sit',\n",
      " 'size', 'challenging', 'tvs', 'whom', 'doctor', 'prepare', 'walk', 'employee', 'determine',\n",
      " 'supporters', 'angeles', 'theyll', 'totally', 'missing', 'porn', 'tools', 'tweet', 'statewide',\n",
      " 'accept', 'watching', 'explained', 'approval', 'scholarship', 'perhaps', 'x', 'standing', 'anyway',\n",
      " 'lots', 'sharing', 'native', 'appear', 'ministry', 'grow', 'shown', 'applications', 'discussed',\n",
      " 'location', 'willing', 'sen', 'guys', 'affect', 'institution', 'described', '27', 'proof',\n",
      " 'claiming', 'rising', 'knowing', 'cnn', 'victory', 'extreme', 'poll', 'supply', 'professionals',\n",
      " 'bringing', 'advance', 'looked', 'alleged', 'settings', 'sort', 'scheduled', 'funded',\n",
      " 'apparently', 'pennsylvania', 'easier', 'professors', 'offering', 'adopted', 'motion', 'forcing',\n",
      " 'incumbent', 'inappropriate', 'blood', 'essential', 'ages', 'jesus', 'recommendations', 'scott',\n",
      " 'cancer', 'charges', 'sexually', 'interests', 'coach', 'buildings', 'wake', 'kill', 'initiative',\n",
      " 'boston', 'driving', 'solutions', 'images', 'presidential', 'roles', 'variety', 'app', 'tells',\n",
      " 'panel', 'joined', 'missed', 'everywhere', 'conducted', '0', 'emails', 'flag', 'sarah',\n",
      " 'statements', 'existing', 'w', 'unfortunately', 'enter', 'examples', 'therapy', 'vulnerable',\n",
      " 'opponents', 'receiving', 'opened', 'nonprofit', 'semester', 'missouri', 'jones', 'implement',\n",
      " 'background', 'rural', 'carry', 'factor', 'cock', 'andor', 'colleagues', 'damage', 'ethnic',\n",
      " 'representative', 'king', 'ma', 'prices', 'worried', 'dean', 'universal', 'feels', 'shortage',\n",
      " 'sounds', 'brain', 'mike', 'sad', 'rejected', 'cross', 'gas', 'profession', 'dealing', 'advocacy',\n",
      " 'wonder', 'conduct', 'fit', 'glenn', 'drug', 'bank', 'activity', 'failing', 'anymore', 'items',\n",
      " 'established', 'bible', 'participation', 'computer', 'respiratory', 'additionally', 'graduation',\n",
      " 'journal', 'universitys', 'divisive', 'principals', 'criticism', 'engage', 'diseases', 'upcoming',\n",
      " 'pupils', 'ultimately', 'realize', 'struggling', 'opening', 'chairman', 'bathrooms', 'hurt',\n",
      " 'maintain', 'strategies', 'constitutional', 'nobody', 'ceo', '29', 'lines', 'faith', 'possibly',\n",
      " 'clinical', 'die', 'denied', 'voter', 'ix', 'defending', 'stupid', 'publicly', 'treated',\n",
      " 'speaker', 'teens', 'uses', 'expressed', 'whos', 'seriously', 'labor', 'communication', 'faces',\n",
      " 'funny', 'represent', 'failure', 'ukraine', 'skin', 'wing', 'returning', 'returned', 'allegedly',\n",
      " 'salary', 'todays', 'wars', 'resource', 'discussing', 'assessment', 'firm', 'bullying',\n",
      " 'immunization', 'alternative', 'revealed', 'privilege', 'hey', 'sought', 'dedicated', 'angry',\n",
      " 'teaches', 'appears', 'antitrans', 'responded', 'hello', 'agencies', 'priorities', 'context',\n",
      " 'block', 'jennifer', 'minors', 'recommend', 'persons', 'disability', 'commissioner', 'certificate',\n",
      " 'outbreak', 'closing', 'explicit', 'mandating', 'reelection', 'achievement', 'queen', 'articles',\n",
      " 'types', 'hasnt', 'advisory', 'admission', 'jersey', 'lee', 'studying', 'eventually', 'bar',\n",
      " 'schooling', 'trial', 'london', 'transparency', 'obviously', 'gonna', 'chris', 'anxiety', 'wide',\n",
      " 'coverage', 'restrict', 'rifles', 'challenged', 'demands', 'hill', 'personally', 'regional',\n",
      " 'implemented', 'larger', 'confirmed', 'wokeism', 'corporate', 'mine', 'strongly', 'serving', 'vax',\n",
      " 'australia', 'counties', 'complaint', 'intended', 'violated', 'rich', 'spokesperson', 'suggested',\n",
      " 'meaning', 'administrator', 'representatives', 'achieve', 'defense', 'piece', 'applied',\n",
      " 'christians', 'dec', 'excited', 'beautiful', 'e', 'indigenous', 'competition', 'thinks', 'hire',\n",
      " 'orders', 'socalled', 'loudoun', 'liberals', 'petition', 'condition', 'removing', 'feb', 'harder',\n",
      " 'quote', 'treat', 'land', 'suggest', 'privacy', 'cancel', 'accepted', 'stage', 'citys',\n",
      " 'recognized', 'conversations', 'departments', 'prove', 'ground', 'accountability', 'backgrounds',\n",
      " 'handle', 'nature', 'interesting', 'engagement', 'lake', 'forms', 'profile', 'trumps', 'pussy',\n",
      " 'products', 'addressing', 'yesterday', 'attempts', 'narrative', 'awareness', 'principles',\n",
      " 'victim', 'cupe', 'memo', 'manager', 'custody', 'm', 'serves', '35', 'okay', 'stem', 'peers',\n",
      " 'devices', 'arguments', 'subjects', 'raising', 'idaho', 'base', 'beach', 'authors', 'learners',\n",
      " 'framework', 'exposure', 'recognize', 'brand', 'solution', 'clean', 'senator', 'foster', 'losing',\n",
      " '1st', 'rhetoric', 'causes', 'educator', 'officially', 'decline', 'historical', 'holiday',\n",
      " 'character', 'suspended', 'waiting', 'evening', 'educate', 'copy', 'fewer', 'administrative',\n",
      " 'harassment', 'dog', 'payments', 'eye', 'struggle', 'sector', 'dick', 'indiana', 'winning',\n",
      " 'forgiveness', 'quarantine', 'junior', 'advertisement', 'assigned', 'refuse', 'findings',\n",
      " 'increasingly', 'aim', 'worry', 'bias', 'boxes', 'expert', 'killing', 'involving', 'warning',\n",
      " 'pledge', 'oppose', 'accurate', 'unit', 'assistance', 'choices', 'secure', 'passing', 'eyes',\n",
      " '2016', 'viral', 'scientific', 'workforce', 'doj', 'starts', 'replace', 'jim', 'shall',\n",
      " 'teachings', 'submit', 'denver', 'tomorrow', 'protocols', 'criticized', 'drivers', 'reasonable',\n",
      " 'film', 'connection', 'complaints', 'gap', 'discipline', 'disagree', 'qualified', 'nine',\n",
      " 'neither', 'socialism', 'extended', '1000', 'assembly', 'controversy', 'thoughts', 'dozens',\n",
      " 'forum', 'supplies', 'developing', 'twice', 'herself', 'warned', 'immunity', 'empower', 'ruled',\n",
      " 'cis', 'notes', 'declined', 'decade', 'appeal', 'honestly', 'effectively', 'scholars',\n",
      " 'encouraging', 'attorneys', 'turning', 'consistent', 'powerful', 'shift', 'jewish', 'complex',\n",
      " 'players', 'lied', 'immigration', 'afraid', 'maga', 'continuing', 'gotten', 'taylor', 'limits',\n",
      " 'significantly', 'ottawa', 'typically', 'bunch', 'perspective', 'originally', 'librarians',\n",
      " 'entirely', 'jackson', 'advantage', 'glad', 'sue', 'titles', 'smart', 'filled', 'relationships',\n",
      " 'reflect', 'kelly', 'british', 'youtube', 'participating', 'sessions', 'self', 'relevant',\n",
      " 'requests', 'municipal', 'crowd', 'movie', 'box', '90', 'voices', 'historically', 'kevin',\n",
      " 'genderaffirming', 'sept', 'cited', 'aimed', 'onto', 'groomer', 'weekly', 'nurses', 'foreign',\n",
      " 'personnel', 'jury', 'score', 'fourth', 'u', 'prepared', 'display', 'transportation', 'expression',\n",
      " 'prohibits', 'infected', 'direction', 'prison', 'reads', 'honor', 'jr', 'talked', 'garland',\n",
      " 'presence', 'infrastructure', 'origin', 'percentage', 'characters', 'star', 'aged', 'defend',\n",
      " 'armed', 'disabilities', 'capitol', 'alabama', 'pen', 'regulations', 'floor', 'comprehensive',\n",
      " 'gain', 'pointed', 'construction', 'completed', 'favorite', 'opposite', 'lesbian', 'representing',\n",
      " 'messages', 'literacy', 'preferred', '80', 'ends', 'monitor', 'balance', 'harmful', 'parties',\n",
      " 'fix', 'affairs', 'immune', 'adoption', 'tool', 'thus', 'honest', 'count', 'rooms', 'leftist',\n",
      " 'lab', 'babies', 'roughly', 'backed', 'permanent', 'partnership', 'photos', 'curricula', 'adopt',\n",
      " 'info', 'gift', 'wall', 'express', 'inform', 'bay', 'partners', 'isolation', 'widely', 'arguing',\n",
      " 'identities', 'announcement', 'guilty', 'path', 'transgenderism', 'ethnicity', '2nd', 'minnesota',\n",
      " 'represents', 'double', 'capacity', '200', 'finish', '500', 'suicide', 'opposing', 'j', 'belief',\n",
      " 'longterm', 'furry', 'era', 'hispanic', 'rid', 'spot', 'partisan', 'sub', 'reporter', 'procedures',\n",
      " 'immigrants', 'michelle', 'alliance', 'minimum', 'shame', 'fell', 'sitting', 'sites', 'graders',\n",
      " 'ventilation', 'mothers', 'partner', 'island', 'doubt', 'catch', 'tonight', 'plenty', 'celebrate',\n",
      " 'threatening', 'sanders', 'centre', 'competing', 'approve', 'weather', 'impacts', 'recommendation',\n",
      " 'williams', 'tiktok', 'somehow', 'hair', 'sat', 'potentially', 'round', 'duty', 'newly', 'crimes',\n",
      " 'psychological', 'quick', 'ending', 'meals', 'surge', 'input', 'excellent', 'fees', 'trade',\n",
      " 'lived', 'suit', 'hosted', '70', 'demanding', 'omicron', 'appreciate', 'trip', 'panic', 'episode',\n",
      " 'vision', 'features', 'lying', 'eat', 'enrolled', 'optional', 'talks', 'declared', 'grew',\n",
      " 'communications', 'steve', 'arrest', 'accountable', 'appeals', 'opinions', 'campaigns', 'fast',\n",
      " 'removal', 'fauci', 'admitted', 'dark', 'competitive', 'initial', 'leaves', 'cops', 'phd',\n",
      " 'reform', 'investigate', 'registered', 'deeply', 'accounts', 't', 'organized', 'hide', 'impacted',\n",
      " 'proper', 'william', 'tuition', 'kansas', 'minor', 'feelings', 'becomes', 'answers', 'moral',\n",
      " 'prohibit', 'threatened', 'trend', 'internal', 'noise', 'thread', 'daughters', 'forces',\n",
      " 'focusing', 'statistics', 'covered', 'superior', 'protections', 'actively', 'sources',\n",
      " 'legislators', 'non', 'attempted', 'addressed', 'judges', 'broad', 'murder', 'mobile', 'doors',\n",
      " 'register', 'speakers', 'anal', 'upset', 'sued', 'fraud', 'novel', 'academics', 'unable',\n",
      " 'product', 'improved', 'rally', 'submitted', 'martin', 'abbott', 'afford', 'anti', 'corporation',\n",
      " 'suggests', 'involvement', 'acting', 'undergraduate', 'conspiracy', 'minds', 'chose', 'locker',\n",
      " 'violation', 'train', 'function', 'yale', 'columbia', 'obtained', 'shortages', 'conflict',\n",
      " 'certified', 'wonderful', 'bigger', 'legally', '2017', 'worlds', 'ad', 'driver', 'countrys',\n",
      " 'follows', 'proposals', 'wanting', 'literature', 'christmas', 'instance', 'ridiculous',\n",
      " 'referring', 'fresh', 'directed', 'homework', 'broken', 'finance', 'ensuring', 'marxist', 'hired',\n",
      " 'anywhere', 'reduced', 'leads', 'russian', 'updates', 'litter', 'pac', 'jordan', 'protesting',\n",
      " 'ryan', 'presentation', 'constantly', 'distancing', 'tough', 'reportedly', 'misinformation',\n",
      " 'consideration', 'weird', 'assist', 'dream', 'richard', 'excellence', 'engaged', 'terrorist',\n",
      " 'sport', 'recovery', 'purchase', 'cold', 'robert', 'boarding', 'salesforce', 'facility',\n",
      " 'administrations', 'impossible', 'eliminate', 'sets', 'french', 'ben', 'participants', 'viruses',\n",
      " 'queens', 'provincial', 'married', 'francisco', 'mary', 'surprise', 'collection', 'circuit',\n",
      " 'manage', 'wins', 'determined', 'clinic', 'document', 'classmates', 'believed', 'parker', '2015',\n",
      " '2000', 'scholarships', 'davis', 'behalf', 'enacted', 'alberta', 'web', 'operations', 'located',\n",
      " 'occurred', 'listed', 'bottom', 'seeks', 'lawyers', 'accessible', 'fail', 'drugs', 'athletic',\n",
      " 'concerning', 'oregon', 'wow', 'matt', 'throw', 'expectations', 'broke', 'aims', 'hopes',\n",
      " 'basketball', 'establish', 'variant', 'feedback', 'chinas', 'admit', 'sides', 'comfortable',\n",
      " 'initially', 'instructional', 'linked', 'bought', 'inherently', 'improving', 'anticrt', 'smaller',\n",
      " 'nonpartisan', 'afternoon', 'scale', 'bid', 'backlash', 'reference', 'miller', 'cast', 'cool',\n",
      " 'infectious', 'aspects', 'awards', 'production', 'properly', 'listening', 'buses', 'risks',\n",
      " 'sales', 'unvaccinated', 'referred', 'task', 'finds', 'invited', 'grants', 'comply', 'exact',\n",
      " 'urged', 'crucial', 'begins', 'perspectives', 'fl', 'ignore', 'acts', 'attacked', 'indeed',\n",
      " 'justices', 'highschool', 'doses', 'workplace', 'legacy', 'pro', 'wild', '45', 'surprised',\n",
      " 'programming', 'poverty', 'farright', 'entitled', 'army', 'trained', 'busy', 'unlike', 'kinds',\n",
      " 'featured', 'polls', 'beat', 'cuts', 'masters', 'spreading', 'cash', 'replaced', 'blm',\n",
      " 'pregnancy', 'rsv', 'regularly', 'secret', 'uncomfortable', 'earned', 'founded', 'churches',\n",
      " 'allegations', 'granted', 'europe', 'obvious', 'cycle', 'dose', 'match', 'earn', 'founder',\n",
      " 'walking', 'committees', 'citing', 'representation', 'select', 'increases', 'letters', 'rufo',\n",
      " 'underrepresented', 'furries', 'fields', 'aside', 'babe', 'pulled', 'joy', 'marxism',\n",
      " 'unanimously', 'massachusetts', 'touch', 'careers', 'recall', 'illnesses', 'tom', 'minute',\n",
      " 'method', 'amy', 'television', 'selected', 'represented', 'graphic', 'congressional', 'hoping',\n",
      " 'turns', 'implementing', 'minorities', 'greatest', 'waste', 'permission', 'nonsense', 'methods',\n",
      " 'chosen', 'holocaust', 'heavily', 'midterm', 'everybody', 'relations', 'proven', 'ordered',\n",
      " 'dozen', 'depending', 'century', 'diego', 'enforce', 'historic', 'graduated', 'boost', 'northern',\n",
      " 'homosexuality', 'utah', 'volunteer', 'danger', 'podcast', 'holidays', 'finished', 'fulltime',\n",
      " 'drew', 'tips', 'explains', 'f', 'repeatedly', 'parenting', 'feet', 'differences', 'insane',\n",
      " 'rock', 'bodies', 'bs', 'hotline', 'suddenly', 'orange', 'surgery', 'stands', 'clinics', 'visa',\n",
      " 'certification', 'approximately', 'scene', 'situations', 'category', 'ten', 'resigned', 'connect',\n",
      " 'exercise', 'deny', 'fought', 'libsoftiktok', 'brief', 'trouble', 'exchange', 'locked', 'lifted',\n",
      " 'assume', 'miami', 'harris', 'essentially', 'openly', 'england', 'superintendents', 'monkeypox',\n",
      " 'preparing', 'confidence', 'causing', 'isd', 'stood', 'russia', 'laura', 'worker', 'lawsuits',\n",
      " 'termination', 'weapons', 'stock', '32', 'download', 'hd', 'l', 'silence', 'counsel', 'holds',\n",
      " 'antilgbtq', 'exists', 'erininthemorn', 'mi', 'attempting', 'ca', 'textbooks', 'quit', 'supremacy',\n",
      " 'widespread', 'fundamental', 'sciences', 'disabled', 'radio', 'assignments', 'joining',\n",
      " 'employers', 'style', '3rd', 'supportive', 'audience', 'nurse', 'indoors', 'impose', 'yall',\n",
      " 'requested', 'sale', 'pull', 'bond', 'dems', 'belong', 'river', 'desire', 'arredondo', 'beijing',\n",
      " 'retirement', 'improvement', 'outrage', 'compete', 'creative', 'routine', 'experiencing', 'trauma',\n",
      " 'biblical', 'circumstances', 'machine', 'rare', 'letting', 'brings', 'entry', 'vital',\n",
      " 'recognition', 'resulted', 'destroy', 'tenure', 'delivered', 'en', 'zoom', 'incredibly',\n",
      " 'recorded', 'links', 'resident', 'leftwing', 'successfully', 'runs', 'distance', 'elite',\n",
      " 'stanford', 'dear', 'depression', 'louisiana', 'oil', 'quarter', 'noting', 'educated', 'revenue',\n",
      " 'degrees', 'brother', 'marketing', 'surrounding', 'ann', 'collective', 'pregnant', 'elect',\n",
      " 'sleep', 'league', 'interim', 'figures', '75', 'broward', 'lisa', 'covering', 'suffered',\n",
      " 'legislatures', 'complained', 'whites', 'disgusting', 'theories', 'sexy', 'users', 'racebased',\n",
      " '4th', 'temporary', 'lord', 'scary', 'reject', 'coalition', 'falls', 'prime', 'models',\n",
      " 'placement', 'explore', 'puts', 'speed', 'launch', 'flags', 'equipment', 'injuries', 'boosters',\n",
      " 'forever', 'resume', 'preschool', 'boundaries', 'mrs', 'cares', '4k', 'ny', 'deliver', 'readers',\n",
      " 'expanded', 'locations', 'abortions', 'providers', 'slow', 'estate', 'manner', 'rapid', 'shelves',\n",
      " 'technical', 'et', 'strategic', 'christopher', 'greg', '43', 'papers', 'parks', 'grounds', 'tend',\n",
      " 'veteran', 'connected', 'square', 'immediate', 'player', 'expensive', '1619', 'produce', 'al',\n",
      " 'promise', 'operating', 'scholar', 'borders', 'marginalized', 'houston', 'pursue', 'anger', 'crap',\n",
      " 'prohibited', 'homeschooling', 'newsletter', 'environmental', 'arm', 'reproductive', 'shocked',\n",
      " 'reduction', 'inc', 'vast', 'newport', 'neighborhood', 'prep', 'describe', 'terrible', 'heads',\n",
      " 'ignored', 'deemed', 'un', 'andrew', 'breaks', 'suspect', 'owner', 'blocked', 'subscribe', 'youd',\n",
      " 'tour', 'disruption', 'affordable', 'pornographic', 'expanding', 'pa', 'connecticut', 'virtually',\n",
      " 'politically', 'everyday', 'description', 'scientists', 'directors', 'obtain', 'broader',\n",
      " 'transfer', 'software', 'sees', 'mainstream', 'cat', 'borrowers', 'japan', 'programme',\n",
      " 'elizabeth', 'austin', 'acceptance', 'preventing', 'eric', 'pages', 'strange', 'incidents', 'van',\n",
      " 'cell', 'mccarthy', 'violate', 'patient', 'govt', 'grateful', 'frequently', 'watched', 'pain', 'p',\n",
      " 'sister', 'graduates', 'mad', 'define', 'license', 'fairfax', 'maryland', 'muslim', 'existence',\n",
      " 'remaining', 'apart', 'operate', 'visitors', 'questioning', 'japanese', 'canceled', 'estimated',\n",
      " 'pornography', 'targets', 'phones', 'joint', 'loves', 'hunter', 'alongside', 'sons', 'segregation',\n",
      " 'extend', 'structure', 'nyc', 'oppression', 'tired', 'awarded', 'concluded', 'reopen', 'mouth',\n",
      " 'walked', 'outbreaks', 'attacking', 'latino', 'educating', 'restricting', 'picked', 'constant',\n",
      " 'reducing', 'jason', 'oversight', 'resign', 'fifth', 'charles', 'christ', 'firing', 'scared',\n",
      " 'meaningful', 'rape', 'raceconscious', 'helpful', 'elsewhere', 'fears', 'closure', 'hb',\n",
      " 'ideologies', 'lady', 'jail', 'reminder', 'ward', 'recruitment', 'assignment', 'delivery',\n",
      " 'governance', 'appointment', 'discriminatory', 'heavy', 'tweeted', 'rose', 'registration',\n",
      " 'promoted', 'peter', 'disruptions', 'keeps', 'discovered', 'applying', 'expertise', 'abc',\n",
      " 'device', 'blonde', 'heroes', 'random', 'criteria', 'familiar', 'reporters', 'lens', 'daniel',\n",
      " 'european', 'entertainment', 'gold', '2014', 'closer', 'va', 'tim', 'acknowledge', 'contribute',\n",
      " 'managed', 'phase', 'preparation', 'powers', 'communist', 'grown', 'alumni', 'kim', 'stuck',\n",
      " 'cars', 'freshman', 'mail', 'sold', 'md', 'noticed', 'earth', 'detroit', 'handling', 'specialist',\n",
      " 'perform', 'innovation', 'trends', 'reviewed', 'entered', 'shape', 'presidents', 'substitute',\n",
      " 'adams', 'examination', 'grace', '41', 'outcome', '300', 'kentucky', 'print', 'refusing',\n",
      " 'arrived', 'instances', 'collaboration', 'argues', 'reply', 'heritage', 'grading', 'blog',\n",
      " 'duties', 'gaps', 'clothes', 'headlines', 'deadly', 'advocating', 'maine', 'cards', 'prominent',\n",
      " '34', 'raises', 'blacks', 'deputy', 'mixed', 'useful', 'selection', 'cute', 'defined',\n",
      " 'antiracism', 'deadline', 'dakota', 'dying', 'contributions', 'bridge', 'timothy', 'ashley',\n",
      " 'equitable', 'calendar', 'theyd', 'welfare', 'song', 'k', 'asks', 'karen', 'component', 'ballots',\n",
      " 'user', 'cancelled', 'waterloo', 'fucks', 'protesters', 'horrible', 'exemptions', '8th', 'stating',\n",
      " 'owners', 'bullshit', 'shares', 'driven', 'reopening', 'closely', 'councils', 'files',\n",
      " 'unprecedented', 'wore', 'barriers', 'lewis', 'activism', 'reverse', 'ie', 'passes',\n",
      " 'corporations', 'salaries', '6th', 'wage', 'flat', 'seemed', 'responsibilities', 'bed',\n",
      " 'intervention', 'philadelphia', 'mexico', 'peace', 'implementation', 'primarily', 'identifying',\n",
      " 'gained', 'equivalent', 'generations', 'hopefully', 'heat', 'eating', 'editor', 'obama', 'marks',\n",
      " 'unconstitutional', 'invest', 'investigating', 'themes', 'youngkins', 'theme', 'toxic',\n",
      " 'necessarily', 'pause', 'buying', 'combined', 'journey', 'hong', 'lcd', 'promotes', 'detailed',\n",
      " 'struggles', 'reaction', 'promised', 'draw', 'limiting', 'variants', 'shopping', 'aspect', 'gods',\n",
      " 'posting', 'township', 'mississippi', 'breasts', 'merit', 'switch', 'y', 'louis', 'filter',\n",
      " 'taxpayers', 'signal', 'pc', 'treatments', 'awesome', 'compliance', 'ii', 'affirming', 'windows',\n",
      " 'suffering', 'friendly', 'residential', 'carried', 'remarks', 'sarasota', 'instagram', 'exemption',\n",
      " 'hosting', 'sun', '400', 'premier', 'dumb', 'roll', 'intellectual', 'brian', 'africa', 'pastor',\n",
      " 'anderson', 'worldwide', 'advised', 'master', 'teenager', 'fathers', 'combat', 'till', 'payment',\n",
      " 'adam', 'creation', 'justify', 'filing', 'assuming', 'murdered', 'governing', 'nationally', 'dude',\n",
      " '90s', 'clubs', 'taxpayer', 'federation', 'cardiac', 'bullied', 'tube', 'mode', 'loud', 'o',\n",
      " 'engaging', 'item', 'choosing', 'announce', 'perfectly', 'barely', 'fascism', 'prompted',\n",
      " 'responses', 'resignation', 'acceptable', 'feature', 'outdoor', 'emerged', 'moderate',\n",
      " 'intelligence', 'usual', 'divide', 'veterans', 'lowest', 'suggesting', 'cum', 'signing',\n",
      " 'wokeness', 'amazon', 'dan', 'govrondesantis', 'opponent', 'strength', 'gen', 'indoctrinating',\n",
      " 'yep', 'safely', 'interviews', 'remained', 'homeschool', 'childcare', 'fairness', 'questioned',\n",
      " 'forgive', 'battles', 'na', 'suffer', 'clark', 'replacement', 'nbc', 'anne', 'portion',\n",
      " 'counselors', 'incredible', 'indoctrinate', 'net', 'wilson', 'samesex', 'donations', 'dismissed',\n",
      " 'biology', 'band', 'performed', 'forgot', 'tip', 'streets', 'regulation', 'realized', 'weight',\n",
      " 'outstanding', 'bob', 'sell', 'explicitly', 'terminated', 'ourselves', 'rating', 'prank',\n",
      " 'violating', 'intent', 'solve', 'pfizer', 'amen', 'gaming', '2003', '150', 'xbox', 'formula',\n",
      " 'urban', 'somewhere', 'examine', 'ignorant', 'hi', 'confused', 'pictures', 'excuse', 'normally',\n",
      " 'luck', 'jojofromjerz', 'saved', 'sadly', 'gubernatorial', 'gathering', 'debates', 'extremist',\n",
      " 'quiet', 'fascist', 'affecting', 'align', 'lecture', 'socially', 'miles', 'formal', 'stance',\n",
      " 'plays', 'fiscal', 'bars', 'countys', 'consultant', 'damn', 'kitty', 'edition', 'falling',\n",
      " 'entering', 'residence', 'nebraska', 'checks', 'depends', 'vehicle', 'innovative', 'succeed',\n",
      " 'hampshire', 'patrick', 'judicial', 'citizen', 'storm', 'standardized', 'newsom', 'demanded',\n",
      " 'fed', 'dance', 'miamidade', 'giant', 'ideological', 'merely', 'existed', 'tucker',\n",
      " 'establishment', 'struck', 'contributed', 'clients', 'monitoring', 'burden', 'reuters', 'snow',\n",
      " 'halloween', 'polio', 'tallahassee', 'jews', 'corner', 'performing', 'staffing', 'innocent',\n",
      " 'eliminating', 'spirit', 'emily', 'tutoring', 'jimjordan', 'occur', 'socioeconomic', 'essay',\n",
      " 'abroad', 'moore', 'fashion', 'station', 'animals', 'environments', 'recover', 'platforms',\n",
      " 'prince', 'writer', 'max', 'violates', 'milf', 'autonomy', 'produced', 'denying', 'provision',\n",
      " 'speaks', 'athlete', 'screens', 'fda', 'mrna', 'mount', 'wealth', 'ford', 'banks', 'desk',\n",
      " 'associations', 'iii', 'oral', 'complain', 'shoot', 'walker', 'feed', 'ethics', 'populations',\n",
      " 'typical', 'houses', 'groomers', 'hamilton', 'sample', 'pediatric', '10000', 'moves', 'similarly',\n",
      " 'enhance', 'alex', 'germany', 'donate', 'highlighted', 'memory', 'separation', 'capable',\n",
      " 'longtime', 'absolute', 'defeated', 'possibility', 'imposed', 'staying', 'males', 'defund',\n",
      " 'cultures', 'solely', 'hs', 'labeled', 'joke', 'units', 'authorized', 'socialist', 'republic',\n",
      " 'actors', 'respondents', 'operation', 'tight', 'confident', 'relatively', 'movies', 'a1',\n",
      " 'racially', 'el', 'encourages', 'gym', 'introduce', 'prefer', 'demonstrate', 'restaurants',\n",
      " 'footage', 'dept', 'greene', 'resulting', 'losses', 'sponsored', 'pilot', 'testimony', 'exclusive',\n",
      " 'injury', 'mistake', 'prayer', 'destroying', 'allies', '95', 'highlights', '48', 'kong',\n",
      " 'institutional', 'websites', 'eastern', 'channel', 'package', 'discourse', 'newspaper', 'tied',\n",
      " 'extremists', '202223', 'ziegler', 'bell', 'vacation', 'mountain', 'daycare', 'clothing', 'window',\n",
      " 'oppressed', 'acknowledged', 'matthew', 'assaulted', 'enroll', 'gathered', 'brandon', 'motivated',\n",
      " '42', 'counselor', 'spanish', 'dare', 'differently', 'wages', 'bet', 'carlson', 'lists', 'fights',\n",
      " 'draft', 'measles', 'notified', 'upper', 'tracking', 'cry', 'dates', 'bargaining', 'endorsement',\n",
      " 'delhi', 'prohibiting', 'joseph', 'dogs', 'inspired', 'objective', 'mix', 'strict', 'alert',\n",
      " 'seattle', 'screening', 'dads', 'evaluation', 'besides', 'install', 'monthly', 'nope', 'refer',\n",
      " 'provinces', 'approaches', 'filters', 'parish', '5th', 'wade', 'consistently', 'columbus', '36',\n",
      " 'drawing', 'outreach', 'amateur', 'stores', 'holy', 'hundred', 'fault', 'susan', 'coordinator',\n",
      " 'athletics', 'australian', 'santa', 'nazis', 'whatsapp', 'formed', 'merrick', 'jonathan',\n",
      " 'affects', 'fort', 'ties', 'embedded', 'branch', 'periods', 'guest', 'unlikely', 'terminate',\n",
      " 'awful', 'defended', 'physically', 'pool', 'roe', 'midterms', 'investigations', 'passion', 'slate',\n",
      " 'unc', 'likes', '55', 'anthony', 'improvements', 'remotely', 'dropping', 'describes', 'victoria',\n",
      " 'globe', 'mayors', 'lauren', 'expansion', 'accepting', 'processes', 'stephen', 'linda', 'alive',\n",
      " 'festival', '2012', 'henry', 'guarantee', 'emerging', 'split', 'ceremony', 'journalism', 'backing',\n",
      " 'electric', 'towns', 'equally', 'jump', 'eg', 'distribution', 'counseling', 'labour', 'ideal',\n",
      " 'cambridge', 'error', 'transitioning', 'suing', 'suspension', 'titled', 'abomination', 'mentally',\n",
      " 'welcoming', 'silent', 'legitimate', 'responding', 'stayed', 'coaches', 'recruiting', 'fairly',\n",
      " 'confusion', 'jefferson', 'diagnosed', 'madison', 'sb', 'complaining', 'punishment', 'hatred',\n",
      " 'covers', 'camp', 'injured', 'jeff', 'cdcs', 'philosophy', 'bear', 'curriculums', 'retention',\n",
      " 'customers', 'chaos', 'practical', 'guard', 'frustration', 'teenagers', 'integrity', 'enjoyed',\n",
      " 'hybrid', 'understood', 'valid', 'creates', '1776', 'begun', 'accommodations', 'katie', 'shortly',\n",
      " 'fans', 'disrupted', 'restore', 'pete', 'tiny', 'cabinet', 'accordance', 'mess', 'beauty', 'meets',\n",
      " '51', 'ignoring', 'expenses', '20222023', 'apple', 'deceived', 'regard', 'economics', 'lock',\n",
      " 'hpv', 'museum', 'pair', '202122', 'camera', 'maintaining', '44', 'regions', 'restricted',\n",
      " 'autism', 'downtown', 'wondering', 'lawrence', 'caring', 'talent', 'arms', 'observed', 'teenage',\n",
      " 'pointing', 'schoolchildren', 'reveals', 'indicated', 'resistance', 'employer', 'divisions',\n",
      " 'classical', 'patriot', 'conclusion', '33', 'influenza', 'extension', 'pending', 'locally',\n",
      " 'embrace', 'roberts', 'adds', 'unsafe', 'cult', 'drawn', 'hadnt', 'elderly', 'mrandyngo',\n",
      " 'participated', 'mainly', 'contrast', 'amongst', 'contracts', 'olds', 'whiteness', 'vancouver',\n",
      " 'urging', 'agents', 'zone', 'nazi', 'skill', 'admits', 'safer', 'riding', 'rt', 'ex', 'fee',\n",
      " 'assessments', 'culturally', 'scrutiny', 'bigotry', 'counts', 'enable', 'employed', 'load',\n",
      " 'delayed', 'procedure', 'cutting', 'spike', 'corrupt', 'discriminate', 'sparked', 'az', 'massacre',\n",
      " 'nearby', 'viewed', 'stick', 'height', 'emphasis', 'evaluate', 'desantiss', '3d', 'lucky',\n",
      " 'deciding', 'a3p', 'creek', 'weingarten', 'zwerner', 'genocide', 'neighbors', 'sarscov2',\n",
      " 'companys', 'dubbed', 'jessica', 'wire', 'referendum', 'repeated', 'garbage', 'celebrated',\n",
      " 'coast', 'founding', 'celebration', 'references', 'charity', 'theater', 'object', 'atlanta',\n",
      " 'psychology', 'handful', 'weapon', 'unnecessary', 'delay', 'whenever', 'recommends', 'disturbing',\n",
      " 'chamber', 'shooters', 'celebrating', 'freedoms', 'antiracist', 'applies', 'divided', 'billions',\n",
      " 'focuses', 'ppl', 'inequality', 'sel', 'shoes', 'kennedy', 'explaining', 'detail', 'puberty',\n",
      " 'overturn', 'receives', 'johns', 'scheme', 'springs', 'alcohol', 'connections', 'absence',\n",
      " 'realchrisrufo', '2010', 'deceiving', 'map', 'chain', 'stressed', 'shutdowns', 'brevard',\n",
      " 'behaviors', 'crash', 'ride', 'slightly', 'commercial', 'sony', 'julie', 'marie', 'rainbow',\n",
      " 'bishop', 'librarian', 'respected', 'restroom', 'introduction', 'itunes', 'nc', 'compensation',\n",
      " 'slave', 'mortgage', 'precautions', 'studied', 'animal', 'reveal', 'assess', 'household',\n",
      " 'memorial', 'languages', 'ranked', 'rely', 'da', 'struggled', '65', 'applicable', 'flip', 'clause',\n",
      " 'plaintiffs', 'censor', 'commissioners', 'z', 'exposing', 'transphobic', 'exciting', 'hopkins',\n",
      " 'abilities', 'ray', 'everincreasing', 'deceptionism', 'lifetime', 'somebody', 'kinda', 'winner',\n",
      " 'coaching', 'fat', 'protested', 'stream', 'communicate', 'jab', 'port', 'restaurant', 'nights',\n",
      " 'workshop', 'exceptions', 'suburban', 'cognitive', 'pursuing', 'attitude', 'pack', 'getty',\n",
      " 'donors', 'precedent', 'confirm', 'classic', 'uc', 'temporarily', 'sweet', 'humans', 'sharp',\n",
      " 'disaster', 'wed', 'champion', 'polling', 'ucla', 'contentious', 'stronger', 'fan', '12th',\n",
      " 'journalists', 'audio', 'loving', 'guilt', 'root', 'fuel', 'maintenance', 'vermont', 'elements',\n",
      " 'manifesto', 'boss', 'ads', 'stable', 'dressed', 'antifa', 'entrance', 'logic', 'hed', 'absent',\n",
      " 'grad', 'itunesports', 'independence', 'hiding', 'segment', 'appearance', 'birthday', 'uniform',\n",
      " 'cleaning', '10th', 'laptop', 'schoolboard', 'tuesdays', 'cheap', 'destroyed', 'rachel', 'seniors',\n",
      " 'newest', 'nancy', 'apartment', 'ease', 'featuring', 'se', 'counter', 'combination', 'nicole',\n",
      " 'controlled', 'computers', 'ultrafeminism', 'pet', 'preferences', 'trusted', 'agendas',\n",
      " 'screaming', 'metal', 'shocking', 'movements', 'magazine', 'grassroots', 'graduating', 'stephanie',\n",
      " 'outright', 'worn', 'surgeries', 'investments', 'pure', 'montgomery', 'perceived', 'horny',\n",
      " 'busty', 'op', 'killer', 'apparent', 'hotel', 'hateful', 'lincoln', 'foot', 'messaging', 'surely',\n",
      " 'decrease', 'mild', 'server', 'owned', 'requesting', 'controls', 'unfair', 'empathy', 'montana',\n",
      " 'kathy', 'accommodation', 'surveys', 'advancing', 'fabric', 'default', 'valuable', 'sentence',\n",
      " 'tulsa', 'wellness', 'pretend', 'sensitive', 'opt', 'pacific', 'somewhat', 'youngest', 'colour',\n",
      " 'spoken', 'sa', 'marked', 'managing', 'cup', 'recess', 'visual', 'min', 'declining', 'donated',\n",
      " 'protective', 'phrase', 'repeat', 'magic', 'workplaces', 'rarely', 'doug', 'effectiveness', 'jack',\n",
      " 'volunteers', 'accusations', 'sucks', 'soldiers', 'promotion', 'sixth', '5000', 'reaching',\n",
      " 'provisions', 'stakeholders', 'tony', 'versus', 'eligibility', 'berkeley', 'contest', 'handled',\n",
      " 'cloud', 'disparities', 'fla', 'ct', 'rescue', 'colors', 'soccer', 'exception', 'mathematics',\n",
      " 'credits', 'introducing', 'ball', 'sponsor', 'co', 'guardians', 'instructors', 'gather',\n",
      " 'stopping', 'france', 'punish', '100000', 'transparent', 'commit', 'treating', 'provider',\n",
      " 'unclear', 'epidemic', 'virginias', 'archive', 'extent', 'identifies', 'outraged', 'collect',\n",
      " 'hardcore', 'pray', 'summary', 'tradition', 'monitors', 'dollar', 'contain', 'absences', 'felony',\n",
      " '37', 'hoax', 'anybody', 'heading', 'client', 'scenario', 'facetoface', 'careful', 'floyd',\n",
      " 'pulling', 'firms', 'qualify', 'coffee', 'spectrum', 'bright', 'devastating', 're', 'frame',\n",
      " 'writes', 'profit', 'dixon', 'contains', 'nick', 'passage', 'sin', 'journalist', 'scare',\n",
      " 'interventions', 'boat', 'label', 'reviews', 'indoctrinated', 'sweeping', 'couples', 'peak',\n",
      " 'intersectionality', 'citizenship', 'huckabee', 'visible', 'solid', 'guardian', 'useless',\n",
      " 'formally', 'bureau', 'leftists', 'lifting', 'sudden', 'reflects', 'exploring', 'aggressive',\n",
      " 'spell', '1930', 'farm', 'announces', 'outlets', 'sustainable', 'foxnews', 'con', 'richneck',\n",
      " '2011', 'homeless', 'decent', 'lowincome', 'flipped', 'destruction', 'indicate', 'palm',\n",
      " 'carrying', 'supervisors', 'incumbents', 'physicians', 'moreover', 'carter', 'retain', 'honors',\n",
      " 'offensive', 'championship', 'drama', 'frequent', 'allen', 'comparison', 'violations', 'yr',\n",
      " 'unity', 'disproportionately', 'gross', 'naked', 'halton', 'pdf', 'strikes', 'hale', 'blamed',\n",
      " 'broadly', 'tries', 'israel', 'manufacturing', 'convention', 'recruit', 'abused', 'physician',\n",
      " 'oakland', 'budgets', 'moments', 'savings', 'village', 'wider', 'eliminated', 'mitigation',\n",
      " 'deals', 'takeover', 'sends', 'terrorism', 'tweets', 'erin', 'hidden', 'whereas', 'visiting',\n",
      " 'navigate', 'handed', 'reserve', 'technologies', 'lori', 'saving', 'tran', 'strain',\n",
      " 'disinformation', 'purposes', 'responsive', 'crowded', 'wanna', 'scope', 'judiciary', 'capitalism',\n",
      " 'strengthen', 'honored', 'robb', 'earning', 'transport', 'declaration', 'harms', 'unknown',\n",
      " 'emotions', 'mature', 'investing', 'barbara', 'respectively', 'traffic', 'substantial', 'reopened',\n",
      " 'checking', 'corruption', 'collected', '85', 'discover', 'melissa', 'lane', 'hostile', 'yours',\n",
      " 'dignity', 'reliable', 'heated', 'negotiations', 'prepandemic', 'shutting', 'visited', 'contacted',\n",
      " 'parking', 'amounts', 'automatically', 'prevented', 'bryan', 'ranks', 'pj', 'crying', 'assaults',\n",
      " 'deeper', 'camps', 'qualifications', 'financially', 'diploma', 'approves', 'nuclear', 'maximum',\n",
      " 'visits', 'highlight', 'outlet', 'texts', 'customer', 'genders', 'bio', 'addresses', '2013',\n",
      " 'frustrated', 'trending', 'stars', 'imposing', 'aclu', 'fouryear', 'tactics', 'protocol',\n",
      " 'revised', 'faster', 'entities', 'bbc', 'ebony', 'gavin', 'lifestyle', 'behaviour', 'achieved',\n",
      " 'harry', 'soul', 'fever', 'grandparents', 'principle', 'flight', 'campbell', 'behavioral',\n",
      " 'amanda', 'douglas', 'vouchers', 'quebec', 'carefully', 'remind', 'efficacy', 'techniques',\n",
      " 'backtoschool', 'q', 'ai', 'ticket', 'insight', 'avenue', 'forth', 'investigated', 'vocal',\n",
      " 'parenthood', 'restrooms', 'kitchen', 'selling', 'summit', 'prosthetic', 'tag', 'walkout',\n",
      " 'wealthy', 'overwhelming', 'instructions', 'steven', 'zerocovid', 'grader', 'dallas', 'wears',\n",
      " 'cells', '20212022', 'thompson', 'database', 'bless', 'ignorance', 'academically', 'nmk61', 'shed',\n",
      " 'barred', 'compare', 'sheriff', 'settlement', 'thrive', 'breakfast', 'wet', 'privileged', 'basics',\n",
      " 'pocket', 'sweden', 'designated', 'precovid', 'incoming', 'wright', 'expose', 'rent', 'landmark',\n",
      " 'immunizations', 'convince', 'academia', 'hygiene', 'apologize', 'prioritize', 'neutral', 'retro',\n",
      " 'shanghai', 'preference', 'deserves', 'stone', 'corps', 'urgent', 'alexander', 'omg', 'tens',\n",
      " 'importantly', 'licensed', 'electronic', 'sheriffs', 'burning', 'kicked', 'curious', 'portland',\n",
      " 'adhd', 'charlie', 'reputation', 'publication', 'nose', '14th', 'fentanyl', 'survive', 'ranging',\n",
      " 'expense', 'belonging', 'listing', 'veto', 'ally', 'checked', 'demonstrated', 'frank',\n",
      " 'contributing', 'assets', 'correctly', 'litigation', 'industrial', 'doe', 'edge', 'instructor',\n",
      " 'chances', 'emailed', 'caucus', 'structural', 'partys', '52', 'followers', 'laid', 'strip',\n",
      " 'chronic', 'accusing', 'heather', 'royal', 'terry', 'experiment', 'highquality', 'northwest', '47',\n",
      " 'challenger', 'floridians', 'singlesex', 'jane', 'senators', 'prolife', 'defines', 'contrary',\n",
      " 'therapist', 'christianity', 'waves', 'ultimate', 'markets', 'intense', 'extremism', '38', 'dumps',\n",
      " 'reed', 'socialemotional', 'televisions', 'dramatic', 'injunction', 'repair', 'embraced', 'scotus',\n",
      " 'cbs', 'dialogue', 'lengthy', 'routinely', 'dinner', '39', 'hills', 'bridges', 'involve',\n",
      " 'girlfriend', 'posters', 'revolution', 'rapidly', 'passionate', 'fallen', 'rosa', 'glass',\n",
      " 'airport', 'insurrection', 'functions', 'angela', 'centres', 'thrown', 'consumer', 'ton',\n",
      " 'subsequent', 'painting', 'oncampus', 'tickets', 'oldest', 'transit', 'tits', 'arrival',\n",
      " 'enforced', 'categories', 'prof', 'nomination', 'shock', 'dispute', 'progressives', 'administered',\n",
      " 'hardly', 'lift', 'hero', 'log', 'blow', 'pipeline', 'renewed', 'asia', 'oxford',\n",
      " 'congratulations', 'mistakes', 'musical', 'pupil', 'returns', 'pleased', 'fb', 'intention',\n",
      " 'answered', 'postcovid', 'morgan', 'regards', 'artists', 'calm', 'agent', 'extensive', 'protects',\n",
      " 'preserve', 'horse', 'suspected', 'complicated', 'threaten', 'stolen', 'mitchell', 'gates', 'peer',\n",
      " 'n95', 'bdsm', 'difficulties', 'fixed', 'creator', 'relating', 'timeline', 'commonly', 'german',\n",
      " 'disneys', 'mondays', 'fantasy', 'xi', 'shirt', 'organizing', 'caller', 'vudu', 'irs', 'sworn',\n",
      " 'describing', 'notify', 'preliminary', 'cameras', 'dictate', 'pieces', 'greatly', 'bennyjohnson',\n",
      " 'racists', 'delays', 'empty', 'convinced', 'pence', 'warn', 'ya', 'regime', 'involves',\n",
      " 'demographics', 'trillion', 'tank', 'youngsters', 'decreased', 'criminals', 'trips', 'nevada',\n",
      " '20000', 'writers', 'drink', 'extracurricular', 'trading', 'experimental', 'opposes', 'searching',\n",
      " 'bike', 'liberties', 'pace', 'headed', 'implications', 'vary', 'vehicles', 'assistants',\n",
      " 'properties', 'undergo', 'sam', 'promises', 'detected', 'donation', 'concert', 'sizes', 'cook',\n",
      " 'ranking', 'g', 'manhattan', 'completion', 'barnes', 'positively', 'plant', 'compelling', 'lynn',\n",
      " 'wishes', 'solidarity', 'ratio', 'richmond', 'absenteeism', '1970s', 'cohort', 'maria', 'suitable',\n",
      " 'gary', 'schedules', 'explanation', 'rolling', 'tremendous', '50000', 'toll', 'humanity',\n",
      " 'furthermore', 'sucking', 'courage', 'disciplinary', 'erase', 'paint', 'dies', 'narrow', 'adverse',\n",
      " 'structures', 'famous', 'apps', 'pushes', 'contested']\n"
     ]
    }
   ],
   "source": [
    "pprint(context_words, compact=True, width=100)"
   ],
   "metadata": {
    "collapsed": false
   }
  },
  {
   "cell_type": "markdown",
   "source": [
    "/2. Method for reading posts of specified months of the dataset"
   ],
   "metadata": {
    "collapsed": false
   }
  },
  {
   "cell_type": "code",
   "execution_count": 134,
   "outputs": [],
   "source": [
    "input_dir = DIR / f\"split/{split_type}\"\n",
    "csv_files = glob.glob(str(input_dir / \"*.csv\"))\n",
    "\n",
    "# filter for starting-months\n",
    "csv_files = [filename for filename in csv_files if filename.split(\"_to_\")[0][-3:] in months]\n",
    "\n",
    "# use dict to be able to identify the dfs later on\n",
    "splits = {}"
   ],
   "metadata": {
    "collapsed": false
   }
  },
  {
   "cell_type": "code",
   "execution_count": 135,
   "outputs": [],
   "source": [
    "for filename in csv_files:\n",
    "    df = pd.read_csv(filename)\n",
    "    splits[filename.split(\"_to_\")[0][-3:]] = df"
   ],
   "metadata": {
    "collapsed": false
   }
  },
  {
   "cell_type": "markdown",
   "source": [
    "## Build Model"
   ],
   "metadata": {
    "collapsed": false
   }
  },
  {
   "cell_type": "code",
   "execution_count": 136,
   "outputs": [
    {
     "data": {
      "text/plain": "  0%|          | 0/4 [00:00<?, ?it/s]",
      "application/vnd.jupyter.widget-view+json": {
       "version_major": 2,
       "version_minor": 0,
       "model_id": "d2d4ebc1abaf40a5b7c84960a4244fca"
      },
      "application/json": {
       "n": 0,
       "total": 4,
       "elapsed": 0.002602100372314453,
       "ncols": null,
       "nrows": null,
       "prefix": "",
       "ascii": false,
       "unit": "it",
       "unit_scale": false,
       "rate": null,
       "bar_format": null,
       "postfix": null,
       "unit_divisor": 1000,
       "initial": 0,
       "colour": null
      }
     },
     "metadata": {},
     "output_type": "display_data"
    }
   ],
   "source": [
    "ppmi_models = {key: PPMIModel.construct_from_texts(value, context_words=context_words, min_freq=min_freq, ) for key, value in tqdm(splits.items())}"
   ],
   "metadata": {
    "collapsed": false
   }
  },
  {
   "cell_type": "code",
   "execution_count": 137,
   "outputs": [],
   "source": [
    "ppmi_model = ppmi_models[next(iter(ppmi_models))]"
   ],
   "metadata": {
    "collapsed": false
   }
  },
  {
   "cell_type": "code",
   "execution_count": 138,
   "outputs": [
    {
     "data": {
      "text/plain": "{'the': 0,\n 'to': 1,\n 'and': 2,\n 'of': 3,\n 'a': 4,\n 'in': 5,\n 'for': 6,\n 'that': 7,\n 'school': 8,\n 'is': 9,\n 'on': 10,\n 'i': 11,\n 'with': 12,\n 'are': 13,\n 'it': 14,\n 'as': 15,\n 'have': 16,\n 'at': 17,\n 'this': 18,\n 'be': 19,\n 'you': 20,\n 'by': 21,\n 'not': 22,\n 'was': 23,\n 'they': 24,\n 'from': 25,\n 'students': 26,\n 'their': 27,\n 'board': 28,\n 'or': 29,\n 'schools': 30,\n 'but': 31,\n 'an': 32,\n 'we': 33,\n 'has': 34,\n 'said': 35,\n 'who': 36,\n 'about': 37,\n 'its': 38,\n 'all': 39,\n 'will': 40,\n 'my': 41,\n 'he': 42,\n 'if': 43,\n 'more': 44,\n 'were': 45,\n 'people': 46,\n 'our': 47,\n 'so': 48,\n 'what': 49,\n 'race': 50,\n 'can': 51,\n 'parents': 52,\n 'education': 53,\n 'one': 54,\n 'your': 55,\n 'would': 56,\n 'when': 57,\n 'out': 58,\n 'also': 59,\n 'been': 60,\n 'his': 61,\n 'no': 62,\n 'crt': 63,\n 'children': 64,\n 'up': 65,\n 'do': 66,\n 'them': 67,\n 'new': 68,\n 'like': 69,\n 'which': 70,\n 'just': 71,\n 'she': 72,\n 'public': 73,\n 'teachers': 74,\n 'had': 75,\n 'her': 76,\n 'covid': 77,\n 'how': 78,\n 'kids': 79,\n 'other': 80,\n 'after': 81,\n 'some': 82,\n 'there': 83,\n 'year': 84,\n 'state': 85,\n 'because': 86,\n 'get': 87,\n 'dont': 88,\n 'covid19': 89,\n 'district': 90,\n 'being': 91,\n 'time': 92,\n 'student': 93,\n 'over': 94,\n 'trans': 95,\n 'than': 96,\n 'us': 97,\n 'now': 98,\n 'me': 99,\n 'rights': 100,\n 'years': 101,\n 'these': 102,\n 'into': 103,\n 'only': 104,\n 'many': 105,\n 'should': 106,\n 'first': 107,\n 'critical': 108,\n 'high': 109,\n 'any': 110,\n 'theory': 111,\n 'even': 112,\n 'health': 113,\n 'those': 114,\n 'during': 115,\n 'post': 116,\n 'teacher': 117,\n 'know': 118,\n 'make': 119,\n 'most': 120,\n 'work': 121,\n 'against': 122,\n 'two': 123,\n 'last': 124,\n 'im': 125,\n 'while': 126,\n 'where': 127,\n 'need': 128,\n 'want': 129,\n 'back': 130,\n 'could': 131,\n 'right': 132,\n 'law': 133,\n 'university': 134,\n 'county': 135,\n 'then': 136,\n 'think': 137,\n 'online': 138,\n 'pandemic': 139,\n 'author': 140,\n 'say': 141,\n 'day': 142,\n 'through': 143,\n 'see': 144,\n 'diversity': 145,\n 'community': 146,\n 'college': 147,\n 'did': 148,\n 'well': 149,\n 'states': 150,\n 'members': 151,\n 'still': 152,\n 'boards': 153,\n 'support': 154,\n 'going': 155,\n 'before': 156,\n 'go': 157,\n 'deleted': 158,\n 'gender': 159,\n 'books': 160,\n 'may': 161,\n 'way': 162,\n 'local': 163,\n 'book': 164,\n 'every': 165,\n 'why': 166,\n 'take': 167,\n 'news': 168,\n 'use': 169,\n 'learning': 170,\n 'child': 171,\n 'vaccine': 172,\n 'made': 173,\n 'teaching': 174,\n 'much': 175,\n 'mask': 176,\n 'black': 177,\n 'such': 178,\n 'white': 179,\n 'florida': 180,\n '2022': 181,\n 'here': 182,\n 'good': 183,\n 'down': 184,\n 'same': 185,\n 'meeting': 186,\n 'since': 187,\n 'government': 188,\n 'help': 189,\n 'parental': 190,\n 'very': 191,\n 'including': 192,\n 'bill': 193,\n 'staff': 194,\n 'thats': 195,\n 'really': 196,\n 'says': 197,\n 'according': 198,\n 'desantis': 199,\n 'masks': 200,\n 'history': 201,\n 'social': 202,\n 'part': 203,\n 'week': 204,\n 'him': 205,\n 'president': 206,\n 'city': 207,\n 'home': 208,\n 'class': 209,\n 'american': 210,\n 'never': 211,\n 'told': 212,\n 'districts': 213,\n 'group': 214,\n 'across': 215,\n 'too': 216,\n '1': 217,\n 'care': 218,\n 'read': 219,\n 'things': 220,\n 'under': 221,\n 'policy': 222,\n 'country': 223,\n 'got': 224,\n 'didnt': 225,\n 'am': 226,\n 'national': 227,\n '2': 228,\n 'both': 229,\n 'system': 230,\n 'around': 231,\n 'off': 232,\n 'court': 233,\n 'classroom': 234,\n 'issues': 235,\n 'own': 236,\n 'house': 237,\n 'another': 238,\n 'taught': 239,\n 'does': 240,\n 'political': 241,\n 'without': 242,\n 'report': 243,\n 'ban': 244,\n 'free': 245,\n 'three': 246,\n 'federal': 247,\n 'program': 248,\n 'best': 249,\n 'family': 250,\n 'days': 251,\n 'used': 252,\n 'candidates': 253,\n 'life': 254,\n 'next': 255,\n 'long': 256,\n 'cant': 257,\n 'doesnt': 258,\n '3': 259,\n 'vote': 260,\n 'republican': 261,\n 'medical': 262,\n 'better': 263,\n 'department': 264,\n 'due': 265,\n 'woke': 266,\n 'keep': 267,\n '2021': 268,\n 'between': 269,\n 'policies': 270,\n 'different': 271,\n 'election': 272,\n 'place': 273,\n 'police': 274,\n 'found': 275,\n 'world': 276,\n 'lot': 277,\n 'must': 278,\n 'member': 279,\n 'come': 280,\n 'republicans': 281,\n 'mandates': 282,\n 'young': 283,\n 'theyre': 284,\n 'among': 285,\n 'each': 286,\n 'parent': 287,\n 'media': 288,\n 'put': 289,\n 'having': 290,\n 'give': 291,\n 'change': 292,\n 'today': 293,\n 'youre': 294,\n 'teach': 295,\n 'information': 296,\n 'something': 297,\n 'look': 298,\n 'mandate': 299,\n 'actually': 300,\n 'gay': 301,\n 'making': 302,\n 'getting': 303,\n 'end': 304,\n 'conservative': 305,\n 'job': 306,\n 'doing': 307,\n 'biden': 308,\n 'called': 309,\n 'office': 310,\n 'important': 311,\n 'transgender': 312,\n 'number': 313,\n 'study': 314,\n 'vaccines': 315,\n 'officials': 316,\n 'former': 317,\n 'using': 318,\n 'left': 319,\n 'money': 320,\n 'sex': 321,\n 'show': 322,\n 'banning': 323,\n 'stop': 324,\n 'working': 325,\n 'case': 326,\n 'racism': 327,\n 'feel': 328,\n 'thing': 329,\n 'find': 330,\n 'big': 331,\n 'again': 332,\n 'old': 333,\n 'issue': 334,\n '2020': 335,\n 'always': 336,\n 'already': 337,\n 'lgbtq': 338,\n 'texas': 339,\n 'trying': 340,\n 'superintendent': 341,\n 'person': 342,\n 'open': 343,\n 'cases': 344,\n 'course': 345,\n 'research': 346,\n 'sure': 347,\n 'believe': 348,\n 'groups': 349,\n 'buy': 350,\n 'away': 351,\n 'few': 352,\n 'million': 353,\n 'able': 354,\n 'isnt': 355,\n 'love': 356,\n 'based': 357,\n 'however': 358,\n 'times': 359,\n 'others': 360,\n 'elementary': 361,\n 'saying': 362,\n 'act': 363,\n 'families': 364,\n 'several': 365,\n 'grade': 366,\n 'point': 367,\n 'until': 368,\n 'great': 369,\n 'start': 370,\n 'america': 371,\n 'plan': 372,\n 'everyone': 373,\n '5': 374,\n 'curriculum': 375,\n 'programs': 376,\n 'full': 377,\n 'meetings': 378,\n 'least': 379,\n 'governor': 380,\n 'set': 381,\n 'experience': 382,\n 'identity': 383,\n 'level': 384,\n 'data': 385,\n 'dr': 386,\n '10': 387,\n 'girls': 388,\n 'bans': 389,\n 'pay': 390,\n 'might': 391,\n 'less': 392,\n 'within': 393,\n 'needs': 394,\n 'continue': 395,\n 'legal': 396,\n 'women': 397,\n 'sexual': 398,\n 'past': 399,\n 'control': 400,\n '4': 401,\n 'little': 402,\n 'required': 403,\n 'real': 404,\n 'ive': 405,\n 'trump': 406,\n 'action': 407,\n 'equity': 408,\n 'reading': 409,\n 'order': 410,\n 'learn': 411,\n 'months': 412,\n 'provide': 413,\n 'access': 414,\n 'classes': 415,\n 'though': 416,\n 'went': 417,\n 'decision': 418,\n 'theres': 419,\n 'asked': 420,\n 'whether': 421,\n 'become': 422,\n 'please': 423,\n 'administration': 424,\n 'test': 425,\n 'far': 426,\n 'name': 427,\n 'ago': 428,\n 'democrats': 429,\n 'yet': 430,\n 'training': 431,\n 'month': 432,\n '2023': 433,\n 'recent': 434,\n 'someone': 435,\n 'done': 436,\n 'top': 437,\n 'video': 438,\n 'team': 439,\n 'academic': 440,\n 'business': 441,\n 'ever': 442,\n 'took': 443,\n 'man': 444,\n '6': 445,\n 'following': 446,\n 'races': 447,\n 'director': 448,\n 'party': 449,\n 'private': 450,\n 'face': 451,\n 'taking': 452,\n 'enough': 453,\n 'run': 454,\n 'sports': 455,\n 'monday': 456,\n 'power': 457,\n 'educational': 458,\n 'higher': 459,\n 'banned': 460,\n 'statement': 461,\n 'safety': 462,\n 'story': 463,\n 'inclusion': 464,\n 'early': 465,\n 'nothing': 466,\n 'anything': 467,\n 'wear': 468,\n 'laws': 469,\n 'classrooms': 470,\n 'running': 471,\n 'available': 472,\n 'tell': 473,\n 'center': 474,\n 'age': 475,\n 'campus': 476,\n 'mental': 477,\n 'let': 478,\n 'committee': 479,\n 'hard': 480,\n 'gov': 481,\n 'problem': 482,\n 'instead': 483,\n 'fact': 484,\n 'funding': 485,\n 'current': 486,\n 'library': 487,\n 'general': 488,\n 'came': 489,\n 'per': 490,\n 'union': 491,\n 'especially': 492,\n 'services': 493,\n 'once': 494,\n 'started': 495,\n 'four': 496,\n 'seen': 497,\n 'matter': 498,\n 'special': 499,\n '12': 500,\n 'call': 501,\n 'live': 502,\n 'bad': 503,\n 'future': 504,\n 'association': 505,\n 'given': 506,\n 'website': 507,\n 'california': 508,\n 'tuesday': 509,\n 'response': 510,\n 'legislation': 511,\n 'middle': 512,\n 'process': 513,\n 'hours': 514,\n 'justice': 515,\n 'understand': 516,\n 'shop': 517,\n 'campaign': 518,\n 'include': 519,\n 'anyone': 520,\n 'safe': 521,\n 'reported': 522,\n 'often': 523,\n 'society': 524,\n 'elections': 525,\n 'example': 526,\n 'yes': 527,\n 'friends': 528,\n 'concerned': 529,\n 'likely': 530,\n 'true': 531,\n 'etc': 532,\n 'culture': 533,\n 'side': 534,\n 'elected': 535,\n 'racial': 536,\n 'science': 537,\n 'voters': 538,\n 'allowed': 539,\n 'second': 540,\n 'means': 541,\n 'freedom': 542,\n 'kid': 543,\n 'universities': 544,\n 'voted': 545,\n 'weeks': 546,\n 'play': 547,\n 'recently': 548,\n 'vaccination': 549,\n 'makes': 550,\n 'everything': 551,\n 'lives': 552,\n 'studies': 553,\n 'impact': 554,\n 'comes': 555,\n 'masking': 556,\n 'looking': 557,\n 'later': 558,\n 'idea': 559,\n 'united': 560,\n 'protect': 561,\n 'talk': 562,\n 'arent': 563,\n 'list': 564,\n 'gop': 565,\n 'comment': 566,\n 'virginia': 567,\n 'march': 568,\n 'try': 569,\n '20': 570,\n 'held': 571,\n 'shooting': 572,\n 'workers': 573,\n 'christian': 574,\n 'coming': 575,\n 'colleges': 576,\n 'ron': 577,\n 'york': 578,\n 'increase': 579,\n 'risk': 580,\n 'themselves': 581,\n 'project': 582,\n 'council': 583,\n 'faculty': 584,\n 'related': 585,\n 'plans': 586,\n 'outside': 587,\n 'together': 588,\n 'area': 589,\n 'five': 590,\n 'questions': 591,\n 'educators': 592,\n 'men': 593,\n 'event': 594,\n 'hes': 595,\n 'washington': 596,\n 'racist': 597,\n 'passed': 598,\n 'received': 599,\n 'fall': 600,\n 'hate': 601,\n 'friday': 602,\n 'wrong': 603,\n 'close': 604,\n 'employees': 605,\n 'efforts': 606,\n 'human': 607,\n 'allow': 608,\n 'possible': 609,\n 'speech': 610,\n 'focus': 611,\n 'term': 612,\n 'leaders': 613,\n 'americans': 614,\n 'majority': 615,\n 'added': 616,\n 'candidate': 617,\n 'address': 618,\n 'mean': 619,\n 'taken': 620,\n 'development': 621,\n 'professor': 622,\n 'wont': 623,\n 'reason': 624,\n 'wednesday': 625,\n 'share': 626,\n 'principal': 627,\n 'shows': 628,\n 'email': 629,\n 'fight': 630,\n 'concerns': 631,\n 'woman': 632,\n 'primary': 633,\n 'further': 634,\n 'wants': 635,\n 'certain': 636,\n 'despite': 637,\n 'testing': 638,\n 'create': 639,\n 'ap': 640,\n 'announced': 641,\n 'results': 642,\n 'choice': 643,\n 'grooming': 644,\n 'letter': 645,\n 'thursday': 646,\n 'agenda': 647,\n 'north': 648,\n 'talking': 649,\n 'content': 650,\n 'math': 651,\n 'kind': 652,\n 'youth': 653,\n 'question': 654,\n '15': 655,\n 'small': 656,\n 'view': 657,\n 'almost': 658,\n 'wrote': 659,\n 'god': 660,\n 'thought': 661,\n 'move': 662,\n 'behind': 663,\n 'girl': 664,\n 'ask': 665,\n 'service': 666,\n 'color': 667,\n 'forced': 668,\n 'clear': 669,\n 'room': 670,\n 'nearly': 671,\n 'return': 672,\n 'either': 673,\n 'attend': 674,\n 'wearing': 675,\n 'along': 676,\n 'night': 677,\n 'require': 678,\n 'personal': 679,\n 'watch': 680,\n 'whole': 681,\n 'role': 682,\n 'article': 683,\n 'follow': 684,\n 'earlier': 685,\n 'leave': 686,\n 'bring': 687,\n 'childrens': 688,\n 'longer': 689,\n 'supreme': 690,\n 'tv': 691,\n 'sent': 692,\n 'wanted': 693,\n 'request': 694,\n 'rather': 695,\n 'pm': 696,\n 'war': 697,\n 'changes': 698,\n 'force': 699,\n 'spread': 700,\n 'lost': 701,\n 'currently': 702,\n 'communities': 703,\n 'gets': 704,\n 'admissions': 705,\n 'game': 706,\n 'maybe': 707,\n 'closed': 708,\n 'politics': 709,\n 'november': 710,\n 'needed': 711,\n 'approved': 712,\n '30': 713,\n 'june': 714,\n 'abortion': 715,\n 'led': 716,\n 'building': 717,\n 'id': 718,\n 'major': 719,\n '7': 720,\n 'cdc': 721,\n 'january': 722,\n 'summer': 723,\n 'similar': 724,\n '8': 725,\n 'involved': 726,\n 'violence': 727,\n 'position': 728,\n 'ensure': 729,\n 'press': 730,\n 'latest': 731,\n 'libraries': 732,\n 'virus': 733,\n 'senate': 734,\n 'evidence': 735,\n 'daily': 736,\n 'meet': 737,\n '100': 738,\n 'probably': 739,\n 'restrictions': 740,\n 'stay': 741,\n 'resources': 742,\n 'decisions': 743,\n 'chief': 744,\n 'ones': 745,\n 'south': 746,\n 'opportunity': 747,\n 'requirements': 748,\n 'hope': 749,\n 'international': 750,\n 'games': 751,\n 'result': 752,\n 'democratic': 753,\n 'company': 754,\n 'religious': 755,\n 'remember': 756,\n 'april': 757,\n 'percent': 758,\n 'conservatives': 759,\n 'else': 760,\n 'language': 761,\n 'lead': 762,\n 'cannot': 763,\n 'entire': 764,\n 'medicine': 765,\n 'closures': 766,\n 'wasnt': 767,\n 'included': 768,\n 'whats': 769,\n 'institutions': 770,\n 'body': 771,\n 'positive': 772,\n 'leadership': 773,\n 'measures': 774,\n 'sick': 775,\n 'won': 776,\n 'rules': 777,\n 'voting': 778,\n 'head': 779,\n 'attorney': 780,\n 'executive': 781,\n 'saw': 782,\n 'judge': 783,\n 'line': 784,\n 'paid': 785,\n 'push': 786,\n 'via': 787,\n 'ways': 788,\n 'single': 789,\n 'truth': 790,\n 'drag': 791,\n 'large': 792,\n 'individuals': 793,\n 'challenges': 794,\n 'third': 795,\n 'common': 796,\n 'mother': 797,\n 'boys': 798,\n 'known': 799,\n 'systems': 800,\n 'events': 801,\n 'expected': 802,\n 'ideology': 803,\n 'contact': 804,\n 'worked': 805,\n 'adults': 806,\n 'calling': 807,\n 'key': 808,\n 'comments': 809,\n 'began': 810,\n 'tax': 811,\n 'created': 812,\n 'individual': 813,\n 'discrimination': 814,\n 'six': 815,\n 'receive': 816,\n 'technology': 817,\n 'half': 818,\n 'agree': 819,\n 'hold': 820,\n 'loan': 821,\n 'released': 822,\n 'levels': 823,\n 'consider': 824,\n 'twitter': 825,\n 'words': 826,\n 'environment': 827,\n 'rate': 828,\n 'security': 829,\n 'ontario': 830,\n 'friend': 831,\n 'china': 832,\n 'signed': 833,\n 'nation': 834,\n 'administrators': 835,\n 'living': 836,\n 'food': 837,\n 'problems': 838,\n 'works': 839,\n 'link': 840,\n 'skills': 841,\n 'record': 842,\n 'organization': 843,\n '18': 844,\n 'send': 845,\n 'pretty': 846,\n 'male': 847,\n 'rates': 848,\n 'disease': 849,\n 'budget': 850,\n 'activities': 851,\n 'review': 852,\n 'k12': 853,\n 'moms': 854,\n 'july': 855,\n 'august': 856,\n 'church': 857,\n 'instruction': 858,\n 'interest': 859,\n 'lawsuit': 860,\n 'attack': 861,\n 'discussion': 862,\n 'lack': 863,\n 'gave': 864,\n 'civil': 865,\n 'october': 866,\n 'west': 867,\n 'seems': 868,\n 'normal': 869,\n 'shot': 870,\n 'hear': 871,\n 'throughout': 872,\n 'areas': 873,\n 'attention': 874,\n 'emergency': 875,\n 'movement': 876,\n 'gun': 877,\n 'check': 878,\n 'provided': 879,\n 'heard': 880,\n 'death': 881,\n 'giving': 882,\n 'sense': 883,\n 'offer': 884,\n 'potential': 885,\n 'mind': 886,\n 'bills': 887,\n 'thank': 888,\n 'career': 889,\n '11': 890,\n 'forward': 891,\n 'regarding': 892,\n 'tried': 893,\n 'win': 894,\n 'goes': 895,\n 'quality': 896,\n 'funds': 897,\n 'effect': 898,\n 'financial': 899,\n 'calls': 900,\n 'stand': 901,\n 'liberty': 902,\n 'diverse': 903,\n 'exactly': 904,\n 'joe': 905,\n 'mom': 906,\n 'multiple': 907,\n 'period': 908,\n 'vaccinated': 909,\n 'market': 910,\n 'published': 911,\n 'jobs': 912,\n 'happened': 913,\n 'september': 914,\n 'catholic': 915,\n 'english': 916,\n 'fire': 917,\n '25': 918,\n 'wordpress': 919,\n 'boy': 920,\n 'unions': 921,\n 'daughter': 922,\n 'breaking': 923,\n 'removed': 924,\n 'mandated': 925,\n 'proposed': 926,\n 'heart': 927,\n 'deal': 928,\n 'significant': 929,\n 'decided': 930,\n 'sign': 931,\n 'son': 932,\n 'spent': 933,\n 'cost': 934,\n 'materials': 935,\n 'absolutely': 936,\n 'click': 937,\n 'trust': 938,\n 'effort': 939,\n 'practice': 940,\n 'queer': 941,\n 'asking': 942,\n 'late': 943,\n '9': 944,\n 'includes': 945,\n '14': 946,\n 'cause': 947,\n '50': 948,\n 'became': 949,\n 'wouldnt': 950,\n 'situation': 951,\n 'senior': 952,\n 'thinking': 953,\n 'opportunities': 954,\n 'mark': 955,\n 'professional': 956,\n 'simply': 957,\n 'crime': 958,\n 'fired': 959,\n 'break': 960,\n 'whose': 961,\n 'form': 962,\n 'fox': 963,\n 'continues': 964,\n 'liberal': 965,\n 'father': 966,\n 'shes': 967,\n 'present': 968,\n 'filed': 969,\n 'canada': 970,\n 'additional': 971,\n 'step': 972,\n 'starting': 973,\n 'indoctrination': 974,\n 'patients': 975,\n 'prevent': 976,\n 'series': 977,\n 'global': 978,\n 'low': 979,\n 'grades': 980,\n 'title': 981,\n 'town': 982,\n 'ill': 983,\n 'standards': 984,\n 'reports': 985,\n 'john': 986,\n 'debt': 987,\n 'lets': 988,\n 'assault': 989,\n 'telling': 990,\n 'hand': 991,\n '13': 992,\n 'pass': 993,\n 'officer': 994,\n 'points': 995,\n 'teen': 996,\n 'military': 997,\n 'source': 998,\n 'discuss': 999,\n ...}"
     },
     "execution_count": 138,
     "metadata": {},
     "output_type": "execute_result"
    }
   ],
   "source": [
    "ppmi_model.context_word2ind"
   ],
   "metadata": {
    "collapsed": false
   }
  },
  {
   "cell_type": "code",
   "execution_count": 139,
   "outputs": [
    {
     "data": {
      "text/plain": "array([[0., 0., 0., ..., 0., 0., 0.],\n       [0., 0., 0., ..., 0., 0., 0.],\n       [0., 0., 0., ..., 0., 0., 0.],\n       ...,\n       [0., 0., 0., ..., 0., 0., 0.],\n       [0., 0., 0., ..., 0., 0., 0.],\n       [0., 0., 0., ..., 0., 0., 0.]])"
     },
     "execution_count": 139,
     "metadata": {},
     "output_type": "execute_result"
    }
   ],
   "source": [
    "ppmi_model.ppmi_matrix"
   ],
   "metadata": {
    "collapsed": false
   }
  },
  {
   "cell_type": "code",
   "execution_count": 140,
   "outputs": [
    {
     "name": "stderr",
     "output_type": "stream",
     "text": [
      "/Users/paulschmitt/DataspellProjects/temporal-word-embeddings/packages/TPPMI/ppmi_model.py:162: RuntimeWarning: invalid value encountered in divide\n",
      "  prob_cols_given_row = (co_matrix.T / center_counts).T\n",
      "/Users/paulschmitt/DataspellProjects/temporal-word-embeddings/packages/TPPMI/ppmi_model.py:169: RuntimeWarning: invalid value encountered in divide\n",
      "  ratio = prob_cols_given_row / prob_of_cols\n"
     ]
    },
    {
     "data": {
      "text/plain": "array([[0.        , 0.        , 1.29527448, ..., 0.        , 0.        ,\n        0.        ],\n       [0.28670733, 0.        , 0.10742906, ..., 0.        , 0.        ,\n        0.        ],\n       [0.        , 0.        , 0.        , ..., 0.        , 0.        ,\n        0.        ],\n       ...,\n       [0.        , 1.49426345, 0.49170348, ..., 0.        , 0.        ,\n        0.        ],\n       [0.24073661, 0.99348816, 0.3963933 , ..., 0.        , 0.        ,\n        0.        ],\n       [0.40503966, 0.        , 1.07152197, ..., 0.        , 0.        ,\n        0.        ]])"
     },
     "execution_count": 140,
     "metadata": {},
     "output_type": "execute_result"
    }
   ],
   "source": [
    "ppmi_model.compute_ppmi_matrix()"
   ],
   "metadata": {
    "collapsed": false
   }
  },
  {
   "cell_type": "code",
   "execution_count": 141,
   "outputs": [
    {
     "data": {
      "text/plain": "dict_keys(['Jun', 'Sep', 'Dec', 'Mar'])"
     },
     "execution_count": 141,
     "metadata": {},
     "output_type": "execute_result"
    }
   ],
   "source": [
    "ppmi_models.keys()"
   ],
   "metadata": {
    "collapsed": false
   }
  },
  {
   "cell_type": "markdown",
   "source": [
    "Quick Check"
   ],
   "metadata": {
    "collapsed": false
   }
  },
  {
   "cell_type": "code",
   "execution_count": 142,
   "outputs": [],
   "source": [
    "test = ppmi_models[\"Sep\"]\n",
    "#test.get_as_df().head(10)"
   ],
   "metadata": {
    "collapsed": false
   }
  },
  {
   "cell_type": "code",
   "execution_count": 143,
   "outputs": [
    {
     "data": {
      "text/plain": "(23099, 5000)"
     },
     "execution_count": 143,
     "metadata": {},
     "output_type": "execute_result"
    }
   ],
   "source": [
    "test.get_shape() # vocab x context_words"
   ],
   "metadata": {
    "collapsed": false
   }
  },
  {
   "cell_type": "markdown",
   "source": [
    "## Vocab"
   ],
   "metadata": {
    "collapsed": false
   }
  },
  {
   "cell_type": "code",
   "execution_count": 144,
   "outputs": [
    {
     "name": "stdout",
     "output_type": "stream",
     "text": [
      "Vocabulary size of timestep Jun: 20024\n",
      "Vocabulary size of timestep Sep: 23099\n",
      "Vocabulary size of timestep Dec: 21632\n",
      "Vocabulary size of timestep Mar: 16743\n"
     ]
    }
   ],
   "source": [
    "for key, ppmi_model in ppmi_models.items():\n",
    "    print(f\"Vocabulary size of timestep {key}: {ppmi_model.get_vocabulary_size()}\")"
   ],
   "metadata": {
    "collapsed": false
   }
  },
  {
   "cell_type": "markdown",
   "source": [
    "## Compute PPMI Matrix"
   ],
   "metadata": {
    "collapsed": false
   }
  },
  {
   "cell_type": "markdown",
   "source": [
    "### Calulate & Save"
   ],
   "metadata": {
    "collapsed": false
   }
  },
  {
   "cell_type": "code",
   "execution_count": 145,
   "outputs": [
    {
     "name": "stdout",
     "output_type": "stream",
     "text": [
      "Number of context-words: 5000\n",
      "PPMI data for 06 saved successfully.\n",
      "Vocabulary Size: 20024\n",
      "PPMI data for 09 saved successfully.\n",
      "Vocabulary Size: 23099\n",
      "PPMI data for 12 saved successfully.\n",
      "Vocabulary Size: 21632\n",
      "PPMI data for 03 saved successfully.\n",
      "Vocabulary Size: 16743\n",
      "--------------- done ---------------\n"
     ]
    }
   ],
   "source": [
    "output_dir = DIR / f\"ppmi-matrices/quarter/{len(context_words)}\"\n",
    "\n",
    "# save common context-words\n",
    "print(f\"Number of context-words: {len(context_words)}\")\n",
    "with open(output_dir / f\"context-words.pkl\", \"wb\") as f:\n",
    "    pickle.dump(context_words, f)\n",
    "\n",
    "# save vocab and ppmi-matrices\n",
    "for key, ppmi_model in ppmi_models.items():\n",
    "    ppmi_model.compute_ppmi_matrix(window_size=window_size)\n",
    "    ppmi_model.save(month_codes[key], output_dir)\n",
    "print(\"--------------- done ---------------\")"
   ],
   "metadata": {
    "collapsed": false
   }
  },
  {
   "cell_type": "markdown",
   "source": [
    "### Control"
   ],
   "metadata": {
    "collapsed": false
   }
  },
  {
   "cell_type": "code",
   "execution_count": 146,
   "outputs": [],
   "source": [
    "#ppmi_model.save(month_code, DIR / \"ppmi-matrices\" / size)"
   ],
   "metadata": {
    "collapsed": false
   }
  },
  {
   "cell_type": "code",
   "execution_count": 147,
   "outputs": [],
   "source": [
    "'''loaded_sparse_ppmi_matrix = sp.load_npz(f\"ppmi-{month_code}-01.npz\")\n",
    "dense_ppmi_matrix = loaded_sparse_ppmi_matrix.toarray()\n",
    "\n",
    "with open(f\"ppmi-{month_code}-01.pkl\", \"rb\") as f:\n",
    "    index_to_word = pickle.load(f)''';"
   ],
   "metadata": {
    "collapsed": false
   }
  },
  {
   "cell_type": "code",
   "execution_count": 148,
   "outputs": [],
   "source": [
    "# ppmi_matrix_df = ppmi_model.get_as_df()"
   ],
   "metadata": {
    "collapsed": false
   }
  },
  {
   "cell_type": "markdown",
   "source": [
    "## Save"
   ],
   "metadata": {
    "collapsed": false
   }
  },
  {
   "cell_type": "code",
   "execution_count": 149,
   "outputs": [],
   "source": [
    "''''# Add quotechars to row and column names\n",
    "ppmi_matrix_df.index = '\"' + ppmi_matrix_df.index + '\"'\n",
    "ppmi_matrix_df.columns = '\"' + ppmi_matrix_df.columns + '\"''';"
   ],
   "metadata": {
    "collapsed": false
   }
  },
  {
   "cell_type": "code",
   "execution_count": 150,
   "outputs": [],
   "source": [
    "'''filename = f\"ppmi-2022-{month_code}-01.txt\"\n",
    "ppmi_path = DIR / \"ppmi-matrices\"\n",
    "\n",
    "ppmi_path.mkdir(parents=True, exist_ok=True)\n",
    "#ppmi_matrix_df.to_csv(ppmi_path / filename, sep=\" \", index=True, quoting=3)''';"
   ],
   "metadata": {
    "collapsed": false
   }
  },
  {
   "cell_type": "code",
   "execution_count": 151,
   "outputs": [],
   "source": [
    "'''print(f\"{month}({month_code}) - done\")\n",
    "   print(f\"Vocabulary-Size: {ppmi_model.get_vocabulary_size()}\")''';"
   ],
   "metadata": {
    "collapsed": false
   }
  }
 ],
 "metadata": {
  "kernelspec": {
   "display_name": "Python 3",
   "language": "python",
   "name": "python3"
  },
  "language_info": {
   "codemirror_mode": {
    "name": "ipython",
    "version": 2
   },
   "file_extension": ".py",
   "mimetype": "text/x-python",
   "name": "python",
   "nbconvert_exporter": "python",
   "pygments_lexer": "ipython2",
   "version": "2.7.6"
  }
 },
 "nbformat": 4,
 "nbformat_minor": 0
}
