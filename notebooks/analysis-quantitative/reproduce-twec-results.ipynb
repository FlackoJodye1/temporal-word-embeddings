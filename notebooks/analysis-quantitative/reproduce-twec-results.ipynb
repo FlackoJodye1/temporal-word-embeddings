{
 "cells": [
  {
   "cell_type": "code",
   "execution_count": null,
   "outputs": [],
   "source": [
    "%load_ext autoreload"
   ],
   "metadata": {
    "collapsed": false
   }
  },
  {
   "cell_type": "code",
   "execution_count": null,
   "metadata": {
    "collapsed": true
   },
   "outputs": [],
   "source": [
    "import json\n",
    "import pickle\n",
    "\n",
    "import numpy as np\n",
    "import pandas as pd\n",
    "from glob import glob\n",
    "from pathlib import Path\n",
    "from scipy import spatial\n",
    "import scipy.sparse as sp\n",
    "from itertools import islice\n",
    "from tqdm.notebook import tqdm\n",
    "from gensim.models.word2vec import Word2Vec\n",
    "\n",
    "import sys\n",
    "sys.path.append('../../')\n",
    "\n",
    "from src.packages.TPPMI.ppmi_model import PPMIModel\n",
    "from src.packages.TPPMI.tppmi_model import TPPMIModel"
   ]
  },
  {
   "cell_type": "markdown",
   "source": [
    "# Imports"
   ],
   "metadata": {
    "collapsed": false
   }
  },
  {
   "cell_type": "code",
   "execution_count": null,
   "outputs": [],
   "source": [
    "path_to_test_data = Path(\"../../data\") / \"test\"\n",
    "path_to_tppmi_model = Path(\"../../data\") / \"ppmi-matrices\" / \"nyt-data\"\n",
    "path_to_twec_model = Path(\"../../model\") / \"nyt-data\" / \"cade\" / \"model\"\n",
    "path_to_static_model = Path(\"../../model\") / \"nyt-data\" / \"static\""
   ],
   "metadata": {
    "collapsed": false
   }
  },
  {
   "cell_type": "markdown",
   "source": [
    "# Functions\n",
    "\n",
    "(to be outsourced later)"
   ],
   "metadata": {
    "collapsed": false
   }
  },
  {
   "cell_type": "markdown",
   "source": [
    "## Similarity Calculations"
   ],
   "metadata": {
    "collapsed": false
   }
  },
  {
   "cell_type": "markdown",
   "source": [
    "Create dictionary of the test-set for each particular model"
   ],
   "metadata": {
    "collapsed": false
   }
  },
  {
   "cell_type": "code",
   "execution_count": null,
   "outputs": [],
   "source": [
    "def create_test_case_dict_cade(test_cases : np.ndarray, models: dict) -> dict:\n",
    "    test_case_dict = dict()\n",
    "    counter = 0\n",
    "    for test_case in test_cases:\n",
    "        word, year = test_case.split(\"-\")\n",
    "        ground_model = models[f\"model_{year}\"]\n",
    "        if word in ground_model.wv.vocab:\n",
    "            test_case_dict[test_case] = ground_model.wv.get_vector(word)\n",
    "        else:\n",
    "            counter = counter + 1\n",
    "    print(f\"{counter} Testcases are not in the vocab of the model(s)\")\n",
    "    return test_case_dict"
   ],
   "metadata": {
    "collapsed": false
   }
  },
  {
   "cell_type": "code",
   "execution_count": null,
   "outputs": [],
   "source": [
    "def create_test_case_dict_static(model, test_cases : np.ndarray) -> dict:\n",
    "    test_case_dict = dict()\n",
    "    counter = 0\n",
    "    for test_case in test_cases:\n",
    "        word, year = test_case.split(\"-\")\n",
    "        if word in model.wv.vocab:\n",
    "            test_case_dict[test_case] = model.wv.get_vector(word)\n",
    "        else:\n",
    "            counter = counter + 1\n",
    "    print(f\"{counter} Testcases are not in the vocab of the model\")\n",
    "    return test_case_dict"
   ],
   "metadata": {
    "collapsed": false
   }
  },
  {
   "cell_type": "markdown",
   "source": [
    "Calculate the top-10 most similar words to each word-vector/word-embedding from the test-set in each year"
   ],
   "metadata": {
    "collapsed": false
   }
  },
  {
   "cell_type": "code",
   "execution_count": null,
   "outputs": [],
   "source": [
    "def get_similarities_of_models(model_dict: dict, test_word_dict: dict) -> dict:\n",
    "    similarities = dict()\n",
    "    for test_word in tqdm(test_word_dict.items()):\n",
    "        similarities[test_word[0]] = dict()\n",
    "        for model in model_dict.items():\n",
    "            similarities[test_word[0]][model[0].split(\"_\")[1]] = model[1].wv.similar_by_vector(test_word[1])\n",
    "    return similarities"
   ],
   "metadata": {
    "collapsed": false
   }
  },
  {
   "cell_type": "code",
   "execution_count": null,
   "outputs": [],
   "source": [
    "'''def get_similarites_of_models_tppmi(model_dict: dict, test_word_dict: dict) -> dict:\n",
    "    similarities = dict()\n",
    "    for test_word in tqdm(test_word_dict.items()):\n",
    "        similarities[test_word[0]] = dict()\n",
    "        for model in model_dict.items():\n",
    "            similarities[test_word[0]][model[0].split(\"_\")[1]] = model[1].get''';"
   ],
   "metadata": {
    "collapsed": false
   }
  },
  {
   "cell_type": "code",
   "execution_count": null,
   "outputs": [],
   "source": [
    "def get_similarities_of_models_static(model, test_word_dict: dict) -> dict:\n",
    "    similarities = dict()\n",
    "    for test_word in tqdm(test_word_dict.items()):\n",
    "        similarities[test_word[0]] = model.wv.similar_by_vector(test_word[1])\n",
    "    return similarities"
   ],
   "metadata": {
    "collapsed": false
   }
  },
  {
   "cell_type": "markdown",
   "source": [
    "## Evaluation Metrics"
   ],
   "metadata": {
    "collapsed": false
   }
  },
  {
   "cell_type": "code",
   "execution_count": null,
   "outputs": [],
   "source": [
    "def calculate_reciprocal_rank(test_list: list, test_word: str) -> float:\n",
    "    \"\"\"\n",
    "    Calculate the reciprocal rank for a given test word in a list of strings.\n",
    "\n",
    "    Parameters:\n",
    "    test_list (list of str): The list of strings to search through.\n",
    "    test_word (str): The correct answer to find in the test_list.\n",
    "    Returns:\n",
    "    float: The reciprocal rank of the test_word in test_list, or 0 if not found.\n",
    "    \"\"\"\n",
    "    try:\n",
    "        rank = test_list.index(test_word) + 1  # Adding 1 because index is 0-based and rank is 1-based\n",
    "        return 1.0 / rank\n",
    "    except ValueError:\n",
    "        return 0.0  # test_word not found in test_list"
   ],
   "metadata": {
    "collapsed": false
   }
  },
  {
   "cell_type": "code",
   "execution_count": null,
   "outputs": [],
   "source": [
    "def calculate_precision_at_k(test_list: list, test_word: str, k: int) -> int:\n",
    "    \"\"\"\n",
    "    Calculate the precision at K for a given test word in a list of strings.\n",
    "\n",
    "    Parameters:\n",
    "    test_list (list of str): The list of strings to search through, assumed to be ordered by relevance.\n",
    "    test_word (str): The correct answer to find in the test_list.\n",
    "    k (int): The number of top items to consider for calculating precision.\n",
    "\n",
    "    Returns:\n",
    "    int: The precision at K for the test_word in test_list.\n",
    "         If the target word is among these K words, then the Precision@K for test i\n",
    "         (denoted P@K[i]) is 1; else, it is 0\n",
    "    \"\"\"\n",
    "    if k <= 0:\n",
    "        raise ValueError(\"k must be a positive integer\")\n",
    "\n",
    "    # Take the top K elements from the list\n",
    "    top_k = test_list[:k]\n",
    "\n",
    "    # Check if the test_word is within the top K elements\n",
    "    if test_word in top_k:\n",
    "        return 1\n",
    "    else:\n",
    "        return 0"
   ],
   "metadata": {
    "collapsed": false
   }
  },
  {
   "cell_type": "code",
   "execution_count": null,
   "outputs": [],
   "source": [
    "def calculate_mean_rank(test_key: str, testcase: dict, test_data: pd.DataFrame, metric = \"MRR\", k = 10)-> float:\n",
    "\n",
    "    test_data_for_key = test_data[test_data[\"truth\"] == test_key]\n",
    "    ranks = []\n",
    "\n",
    "    for key, value in testcase.items():\n",
    "        test_data_for_year = test_data_for_key[test_data_for_key[\"equivalent\"].str.endswith(key)]\n",
    "        word_list = [item[0] for item in value]\n",
    "\n",
    "        if len(test_data_for_year) == 0:\n",
    "            continue  # Skip if no data for year, as there's nothing to rank\n",
    "        target_word = test_data_for_year[\"equivalent\"].iloc[0].split(\"-\")[0]\n",
    "        if metric == \"MRR\":\n",
    "            rank = calculate_reciprocal_rank(word_list, target_word)\n",
    "        else:\n",
    "            rank = calculate_precision_at_k(word_list, target_word, k)\n",
    "\n",
    "        ranks.append(rank)\n",
    "\n",
    "    if ranks:  # Ensure division by 0 does not occur\n",
    "        mean_rank = sum(ranks) / len(ranks)\n",
    "    else:\n",
    "        mean_rank = 0\n",
    "\n",
    "    return mean_rank"
   ],
   "metadata": {
    "collapsed": false
   }
  },
  {
   "cell_type": "code",
   "execution_count": null,
   "outputs": [],
   "source": [
    "def calculate_rank_metric(similarities: dict, test_data: pd.DataFrame, metric = \"MRR\", k = 10) -> float:\n",
    "    ranks = []\n",
    "    for key, value in similarities.items():\n",
    "        rank = calculate_mean_rank(key, value, test_data, metric, k)\n",
    "\n",
    "        ranks.append(rank)\n",
    "\n",
    "    if ranks:  # Ensure division by 0 does not occur\n",
    "        mean_rank = sum(ranks) / len(ranks)\n",
    "    else:\n",
    "        mean_rank = 0\n",
    "\n",
    "    return mean_rank"
   ],
   "metadata": {
    "collapsed": false
   }
  },
  {
   "cell_type": "code",
   "execution_count": null,
   "outputs": [],
   "source": [
    "def calculate_rank_metric_static(similarities: dict, test_data: pd.DataFrame, metric = \"MRR\", k = 10) -> float:\n",
    "\n",
    "    ranks = []\n",
    "    counter = 0\n",
    "\n",
    "    for key, value in similarities.items():\n",
    "        test_data_for_key = test_data[test_data[\"truth\"] == key]\n",
    "        word_list = [item[0] for item in value]\n",
    "        for _, test_case in test_data_for_key.iterrows():\n",
    "            target_word = test_case[\"equivalent\"].split(\"-\")[0]\n",
    "            if metric == \"MRR\":\n",
    "                rank = calculate_reciprocal_rank(word_list, target_word)\n",
    "            else:\n",
    "                rank = calculate_precision_at_k(word_list, target_word, k)\n",
    "            ranks.append(rank)\n",
    "            counter = counter + 1\n",
    "\n",
    "\n",
    "    if ranks:  # Ensure division by 0 does not occur\n",
    "        mean_rank = sum(ranks) / len(ranks)\n",
    "    else:\n",
    "        mean_rank = 0\n",
    "\n",
    "    return mean_rank"
   ],
   "metadata": {
    "collapsed": false
   }
  },
  {
   "cell_type": "markdown",
   "source": [
    "# Setup"
   ],
   "metadata": {
    "collapsed": false
   }
  },
  {
   "cell_type": "markdown",
   "source": [
    "## Testsets"
   ],
   "metadata": {
    "collapsed": false
   }
  },
  {
   "cell_type": "markdown",
   "source": [
    "### Testset 1\n",
    "\n",
    "Based on publicly recorded knowledge that for each year lists different names for a particular role, such as U.S. president, U.K. prime minister, NFL superbowl champion team, and so on."
   ],
   "metadata": {
    "collapsed": false
   }
  },
  {
   "cell_type": "code",
   "execution_count": null,
   "outputs": [],
   "source": [
    "test_data_1_all = pd.read_csv(path_to_test_data / \"testset_1.csv\")"
   ],
   "metadata": {
    "collapsed": false
   }
  },
  {
   "cell_type": "code",
   "execution_count": null,
   "outputs": [],
   "source": [
    "test_data_1_all.columns = ['truth', 'equivalent']"
   ],
   "metadata": {
    "collapsed": false
   }
  },
  {
   "cell_type": "code",
   "execution_count": null,
   "outputs": [],
   "source": [
    "test_data_1_all = test_data_1_all.sort_values(by='truth', ascending=True)"
   ],
   "metadata": {
    "collapsed": false
   }
  },
  {
   "cell_type": "code",
   "execution_count": null,
   "outputs": [],
   "source": [
    "test_cases_1_all = test_data_1_all['truth'].unique()"
   ],
   "metadata": {
    "collapsed": false
   }
  },
  {
   "cell_type": "code",
   "execution_count": null,
   "outputs": [],
   "source": [
    "print(\"Testset 1\")\n",
    "print(f\"Testcases (all): {len(test_data_1_all)}\")\n",
    "print(f\"Testcases (unique): {len(test_cases_1_all)}\")"
   ],
   "metadata": {
    "collapsed": false
   }
  },
  {
   "cell_type": "markdown",
   "source": [
    "Now we want to split the testset into static & dynamic testcases as was done by Di Carlo et al. in their paper \"Training Temporal Word Embeddings with a Compass\""
   ],
   "metadata": {
    "collapsed": false
   }
  },
  {
   "cell_type": "code",
   "execution_count": null,
   "outputs": [],
   "source": [
    "# Splitting the columns into words and years\n",
    "split_truth = test_data_1_all['truth'].str.split('-', expand=True)\n",
    "split_equivalent = test_data_1_all['equivalent'].str.split('-', expand=True)\n",
    "\n",
    "# Creating masks for \"static\" and \"dynamic\" conditions\n",
    "static_mask = split_truth[0] == split_equivalent[0]\n",
    "dynamic_mask = split_truth[0] != split_equivalent[0]\n",
    "\n",
    "# Applying the masks to create the separate DataFrames\n",
    "test_data_1_static = test_data_1_all[static_mask]\n",
    "test_data_1_dynamic = test_data_1_all[dynamic_mask]"
   ],
   "metadata": {
    "collapsed": false
   }
  },
  {
   "cell_type": "code",
   "execution_count": null,
   "outputs": [],
   "source": [
    "test_cases_1_static = test_data_1_static['truth'].unique()\n",
    "test_cases_1_dynamic = test_data_1_dynamic['truth'].unique()"
   ],
   "metadata": {
    "collapsed": false
   }
  },
  {
   "cell_type": "code",
   "execution_count": null,
   "outputs": [],
   "source": [
    "print(\"Static\")\n",
    "print(f\"Testcases (all): {len(test_data_1_static)}\")\n",
    "print(f\"Testcases (unique): {len(test_cases_1_static)}\")"
   ],
   "metadata": {
    "collapsed": false
   }
  },
  {
   "cell_type": "code",
   "execution_count": null,
   "outputs": [],
   "source": [
    "print(\"Dynamic\")\n",
    "print(f\"Testcases (all): {len(test_data_1_dynamic)}\")\n",
    "print(f\"Testcases (unique): {len(test_cases_1_dynamic)}\")"
   ],
   "metadata": {
    "collapsed": false
   }
  },
  {
   "cell_type": "markdown",
   "source": [
    "### Testset 2\n",
    "\n",
    "Testset 2 is human-generated, for exploring more interesting concepts like emerging technologies, brands and major events (e.g., disease outbreaks and financial crisis). For constructing the test word pairs, we first select emerging terms which have not been popularized before 1994, then query their well known precedents during 1990 to 1994 (e.g., app-2012 can correspond to software-1990)."
   ],
   "metadata": {
    "collapsed": false
   }
  },
  {
   "cell_type": "code",
   "execution_count": null,
   "outputs": [],
   "source": [
    "test_data_2 = pd.read_csv(path_to_test_data / \"testset_2.csv\")"
   ],
   "metadata": {
    "collapsed": false
   }
  },
  {
   "cell_type": "code",
   "execution_count": null,
   "outputs": [],
   "source": [
    "test_data_2.columns = ['truth', 'equivalent']"
   ],
   "metadata": {
    "collapsed": false
   }
  },
  {
   "cell_type": "code",
   "execution_count": null,
   "outputs": [],
   "source": [
    "test_cases_2 = test_data_2['truth'].unique()"
   ],
   "metadata": {
    "collapsed": false
   }
  },
  {
   "cell_type": "code",
   "execution_count": null,
   "outputs": [],
   "source": [
    "test_data_2 = test_data_2.sort_values(by='truth', ascending=True)"
   ],
   "metadata": {
    "collapsed": false
   }
  },
  {
   "cell_type": "code",
   "execution_count": null,
   "outputs": [],
   "source": [
    "test_data_2.head()"
   ],
   "metadata": {
    "collapsed": false
   }
  },
  {
   "cell_type": "code",
   "execution_count": null,
   "outputs": [],
   "source": [
    "print(\"Testset 2\")\n",
    "print(f\"Testcases (all): {len(test_data_2)}\")\n",
    "print(f\"Testcases (unique): {len(test_cases_2)}\")"
   ],
   "metadata": {
    "collapsed": false
   }
  },
  {
   "cell_type": "markdown",
   "source": [
    "## Models"
   ],
   "metadata": {
    "collapsed": false
   }
  },
  {
   "cell_type": "markdown",
   "source": [
    "### TWEC"
   ],
   "metadata": {
    "collapsed": false
   }
  },
  {
   "cell_type": "code",
   "execution_count": null,
   "outputs": [],
   "source": [
    "model_filenames_cade = glob(str(path_to_twec_model / \"*.model\"))"
   ],
   "metadata": {
    "collapsed": false
   }
  },
  {
   "cell_type": "code",
   "execution_count": null,
   "outputs": [],
   "source": [
    "# load models\n",
    "models_cade = {f\"model_{model_file.split('_data')[0][-4:]}\":Word2Vec.load(model_file) for model_file in tqdm(model_filenames_cade)}"
   ],
   "metadata": {
    "collapsed": false
   }
  },
  {
   "cell_type": "code",
   "execution_count": null,
   "outputs": [],
   "source": [
    "models_cade = {model_key: models_cade[model_key] for model_key in sorted(models_cade, key=lambda x: int(x.split('_')[1]))}"
   ],
   "metadata": {
    "collapsed": false
   }
  },
  {
   "cell_type": "code",
   "execution_count": null,
   "outputs": [],
   "source": [
    "models_cade.keys()"
   ],
   "metadata": {
    "collapsed": false
   }
  },
  {
   "cell_type": "markdown",
   "source": [
    "Create dictionary of testsets that contain all test-words along with their embedding in the respective year"
   ],
   "metadata": {
    "collapsed": false
   }
  },
  {
   "cell_type": "code",
   "execution_count": null,
   "outputs": [],
   "source": [
    "test_case_dict_cade_all = create_test_case_dict_cade(test_cases_1_all, models_cade)"
   ],
   "metadata": {
    "collapsed": false
   }
  },
  {
   "cell_type": "code",
   "execution_count": null,
   "outputs": [],
   "source": [
    "test_case_dict_cade_static = create_test_case_dict_cade(test_cases_1_static, models_cade)"
   ],
   "metadata": {
    "collapsed": false
   }
  },
  {
   "cell_type": "code",
   "execution_count": null,
   "outputs": [],
   "source": [
    "test_case_dict_cade_dynamic = create_test_case_dict_cade(test_cases_1_dynamic, models_cade)"
   ],
   "metadata": {
    "collapsed": false
   }
  },
  {
   "cell_type": "markdown",
   "source": [
    "Retrieve most similar words for each testword in each year"
   ],
   "metadata": {
    "collapsed": false
   }
  },
  {
   "cell_type": "code",
   "execution_count": null,
   "outputs": [],
   "source": [
    "similarities_cade_all = get_similarities_of_models(models_cade, test_case_dict_cade_all)"
   ],
   "metadata": {
    "collapsed": false
   }
  },
  {
   "cell_type": "code",
   "execution_count": null,
   "outputs": [],
   "source": [
    "similarities_cade_static = get_similarities_of_models(models_cade, test_case_dict_cade_static)"
   ],
   "metadata": {
    "collapsed": false
   }
  },
  {
   "cell_type": "code",
   "execution_count": null,
   "outputs": [],
   "source": [
    "similarities_cade_dynamic = get_similarities_of_models(models_cade, test_case_dict_cade_dynamic)"
   ],
   "metadata": {
    "collapsed": false
   }
  },
  {
   "cell_type": "markdown",
   "source": [
    "### Static Word2Vec"
   ],
   "metadata": {
    "collapsed": false
   }
  },
  {
   "cell_type": "code",
   "execution_count": null,
   "outputs": [],
   "source": [
    "model_static = Word2Vec.load(str(path_to_static_model / \"w2v_model.model\"))"
   ],
   "metadata": {
    "collapsed": false
   }
  },
  {
   "cell_type": "code",
   "execution_count": null,
   "outputs": [],
   "source": [
    "test_case_dict_static_all = create_test_case_dict_static(model_static, test_cases_1_all)"
   ],
   "metadata": {
    "collapsed": false
   }
  },
  {
   "cell_type": "code",
   "execution_count": null,
   "outputs": [],
   "source": [
    "test_case_dict_static_static = create_test_case_dict_static(model_static, test_cases_1_static)"
   ],
   "metadata": {
    "collapsed": false
   }
  },
  {
   "cell_type": "code",
   "execution_count": null,
   "outputs": [],
   "source": [
    "test_case_dict_static_dynamic = create_test_case_dict_static(model_static, test_cases_1_dynamic)"
   ],
   "metadata": {
    "collapsed": false
   }
  },
  {
   "cell_type": "code",
   "execution_count": null,
   "outputs": [],
   "source": [
    "similarities_static_all = get_similarities_of_models_static(model_static, test_case_dict_static_all)"
   ],
   "metadata": {
    "collapsed": false
   }
  },
  {
   "cell_type": "code",
   "execution_count": null,
   "outputs": [],
   "source": [
    "similarities_static_static = get_similarities_of_models_static(model_static, test_case_dict_static_static)"
   ],
   "metadata": {
    "collapsed": false
   }
  },
  {
   "cell_type": "code",
   "execution_count": null,
   "outputs": [],
   "source": [
    "similarities_static_dynamic = get_similarities_of_models_static(model_static, test_case_dict_static_dynamic)"
   ],
   "metadata": {
    "collapsed": false
   }
  },
  {
   "cell_type": "markdown",
   "source": [
    "### TPPMI"
   ],
   "metadata": {
    "collapsed": false
   }
  },
  {
   "cell_type": "code",
   "execution_count": null,
   "outputs": [],
   "source": [
    "%autoreload 2\n",
    "\n",
    "from src.packages.TPPMI.ppmi_model import PPMIModel\n",
    "from src.packages.TPPMI.tppmi_model import TPPMIModel"
   ],
   "metadata": {
    "collapsed": false
   }
  },
  {
   "cell_type": "code",
   "execution_count": null,
   "outputs": [],
   "source": [
    "ppmi_data_files = sorted(glob(str(path_to_tppmi_model  / \"*.npz\")))\n",
    "words_files = sorted(glob(str(path_to_tppmi_model  / \"*.pkl\")))"
   ],
   "metadata": {
    "collapsed": false
   }
  },
  {
   "cell_type": "markdown",
   "source": [
    "Split context-words from timestamped-vocabularies"
   ],
   "metadata": {
    "collapsed": false
   }
  },
  {
   "cell_type": "code",
   "execution_count": null,
   "outputs": [],
   "source": [
    "context_words_file = [path for path in words_files if \"context-words\" in path]\n",
    "ppmi_vocab_files = [path for path in words_files if \"context-words\" not in path]"
   ],
   "metadata": {
    "collapsed": false
   }
  },
  {
   "cell_type": "code",
   "execution_count": null,
   "outputs": [],
   "source": [
    "# Get ppmi-matrices and vocab\n",
    "ppmi_matrices = {}\n",
    "\n",
    "for filenames in zip(ppmi_vocab_files, ppmi_data_files):\n",
    "    ppmi_matrix = sp.load_npz(filenames[1])\n",
    "    with open(filenames[0], \"rb\") as f:\n",
    "        vocab = pickle.load(f)\n",
    "    key = filenames[0].split(\"ppmi-\")[2][0:4]\n",
    "    ppmi_matrices[key] = {\"ppmi_matrix\" : ppmi_matrix, \"vocab\": vocab}\n",
    "\n",
    "# Get common context-words\n",
    "with open(context_words_file[0], \"rb\") as f:\n",
    "    context_words = pickle.load(f)"
   ],
   "metadata": {
    "collapsed": false
   }
  },
  {
   "cell_type": "code",
   "execution_count": null,
   "outputs": [],
   "source": [
    "ppmi_matrices.keys()"
   ],
   "metadata": {
    "collapsed": false
   }
  },
  {
   "cell_type": "markdown",
   "source": [
    "Create ppmi_model objects"
   ],
   "metadata": {
    "collapsed": false
   }
  },
  {
   "cell_type": "code",
   "execution_count": null,
   "outputs": [],
   "source": [
    "ppmi_models = {key: PPMIModel.construct_from_data(ppmi_data[\"ppmi_matrix\"], ppmi_data[\"vocab\"], context_words) for key, ppmi_data in ppmi_matrices.items()}"
   ],
   "metadata": {
    "collapsed": false
   }
  },
  {
   "cell_type": "code",
   "execution_count": null,
   "outputs": [],
   "source": [
    "tppmi_model = TPPMIModel(ppmi_models, dates=\"years\")"
   ],
   "metadata": {
    "collapsed": false
   }
  },
  {
   "cell_type": "code",
   "execution_count": null,
   "outputs": [],
   "source": [
    "def create_test_case_dict_tppmi(model: TPPMIModel, test_cases : np.ndarray) -> dict:\n",
    "    test_case_dict = dict()\n",
    "    counter = 0\n",
    "    for test_case in test_cases:\n",
    "        word, year = test_case.split(\"-\")\n",
    "        if model.is_in_vocab_of_timestep(word, year):\n",
    "            df = model.get_tppmi([word])\n",
    "            df = df[next(iter(df))]\n",
    "            test_case_dict[test_case] = df.loc[f\"{word}_{year}\"].to_numpy()\n",
    "        else:\n",
    "            counter = counter + 1\n",
    "    print(f\"{counter} Testcases are not in the vocab of the model\")\n",
    "\n",
    "    return test_case_dict"
   ],
   "metadata": {
    "collapsed": false
   }
  },
  {
   "cell_type": "code",
   "execution_count": 66,
   "outputs": [],
   "source": [
    "def get_similarites_of_models_tppmi(model: TPPMIModel, test_word_dict: dict) -> dict:\n",
    "    similarities = dict()\n",
    "    for word, vector in tqdm(islice(test_word_dict.items(), 1, 5)):\n",
    "        similarities[word] = model.most_similar_words_by_vector(vector)\n",
    "    return similarities"
   ],
   "metadata": {
    "collapsed": false
   }
  },
  {
   "cell_type": "code",
   "execution_count": null,
   "outputs": [],
   "source": [
    "test_case_dict_tppmi = create_test_case_dict_tppmi(tppmi_model, test_cases_1_all)"
   ],
   "metadata": {
    "collapsed": false
   }
  },
  {
   "cell_type": "code",
   "execution_count": 67,
   "outputs": [
    {
     "data": {
      "text/plain": "0it [00:00, ?it/s]",
      "application/vnd.jupyter.widget-view+json": {
       "version_major": 2,
       "version_minor": 0,
       "model_id": "0e570b3f0969402ba5d397ec3b3a8446"
      },
      "application/json": {
       "n": 0,
       "total": null,
       "elapsed": 0.0033521652221679688,
       "ncols": null,
       "nrows": null,
       "prefix": "",
       "ascii": false,
       "unit": "it",
       "unit_scale": false,
       "rate": null,
       "bar_format": null,
       "postfix": null,
       "unit_divisor": 1000,
       "initial": 0,
       "colour": null
      }
     },
     "metadata": {},
     "output_type": "display_data"
    }
   ],
   "source": [
    "similarities_tppmi = get_similarites_of_models_tppmi(tppmi_model, test_case_dict_tppmi)"
   ],
   "metadata": {
    "collapsed": false
   }
  },
  {
   "cell_type": "code",
   "execution_count": 70,
   "outputs": [],
   "source": [
    "test_cade = similarities_cade_all[next(iter(similarities_cade_all))]\n",
    "test_tppmi = similarities_tppmi[next(iter(similarities_tppmi))]"
   ],
   "metadata": {
    "collapsed": false
   }
  },
  {
   "cell_type": "code",
   "execution_count": 74,
   "outputs": [
    {
     "data": {
      "text/plain": "{'49ers-1995': {'1990': [('coupons', 0.3269244231294404),\n   ('fernandez', 0.29820825528036937),\n   ('395', 0.29652155447102096),\n   ('daily', 0.2908593507468572),\n   ('related', 0.2851201428327224),\n   ('fractures', 0.2828100473564472),\n   ('culmination', 0.2815798570250545),\n   ('169', 0.27766529108972404),\n   ('305', 0.2774162085694624),\n   ('year', 0.27398523747421605)],\n  '1991': [('stereotype', 0.3036919148978866),\n   ('3', 0.29181292830373173),\n   ('345', 0.28334760559465877),\n   ('salary', 0.2770197660890292),\n   ('retired', 0.27536378364451286),\n   ('totaled', 0.2735152082960416),\n   ('1600', 0.26985182824201814),\n   ('role', 0.2693777286225959),\n   ('less', 0.26593032772666503),\n   ('growth', 0.2657923957223305)],\n  '1992': [('daily', 0.2947119165234403),\n   ('rest', 0.29290064235063473),\n   ('worst', 0.2916314683526703),\n   ('strings', 0.2886845872485833),\n   ('street', 0.2880198734227336),\n   ('leading', 0.2837028220459335),\n   ('continuously', 0.2836514643097114),\n   ('onslaught', 0.2802192697043868),\n   ('pickles', 0.2788765747927696),\n   ('spoke', 0.2726456118535831)],\n  '1993': [('430', 0.3656285887866973),\n   ('daily', 0.29581862657324576),\n   ('230', 0.2927879904239016),\n   ('grammy', 0.282551492263196),\n   ('1', 0.27854519679561884),\n   ('dare', 0.2767567436176943),\n   ('price', 0.2662181662279041),\n   ('year', 0.26543621256132777),\n   ('moreover', 0.2637451869342674),\n   ('gift', 0.26318362680062474)],\n  '1994': [('17000', 0.3192094136483903),\n   ('advice', 0.2926758407313278),\n   ('festivals', 0.2915551251622979),\n   ('smaller', 0.28549757436339424),\n   ('person', 0.28475618958421706),\n   ('hour', 0.28180559692715446),\n   ('cbss', 0.28135655121164155),\n   ('spotted', 0.2799060918038822),\n   ('comparable', 0.2786545729390811),\n   ('generally', 0.27764790010665896)],\n  '1995': [('1045', 0.33083155890382066),\n   ('takes', 0.3162934396959819),\n   ('true', 0.3016985040432429),\n   ('10', 0.29631840248975183),\n   ('ale', 0.29440460296780907),\n   ('typically', 0.2913974160705134),\n   ('work', 0.29021757813908095),\n   ('person', 0.2769376529973903),\n   ('price', 0.27623494915554453),\n   ('youngster', 0.27612320184548733)],\n  '1996': [('awoke', 0.33456349318418915),\n   ('except', 0.30738912415960906),\n   ('earned', 0.30520405011898194),\n   ('609', 0.2997998126547534),\n   ('weekdays', 0.2898838781810025),\n   ('sweating', 0.289750001985305),\n   ('previous', 0.28375777115838535),\n   ('life', 0.2830796489656788),\n   ('hero', 0.2807548285372187),\n   ('420', 0.28021928380378297)],\n  '1997': [('thrift', 0.30867373204527143),\n   ('farmed', 0.29440460296780907),\n   ('whiskey', 0.294404602967809),\n   ('learned', 0.28159271407964775),\n   ('characters', 0.27950687736175944),\n   ('owner', 0.27897133625479137),\n   ('earned', 0.27751383613377034),\n   ('10', 0.2765016365285341),\n   ('months', 0.2736627124064168),\n   ('4', 0.2674736294137133)],\n  '1998': [('compared', 0.3250819276991543),\n   ('daily', 0.3146665251820999),\n   ('146', 0.29520826043210163),\n   ('5811212', 0.29440460296780907),\n   ('7191300', 0.29440460296780907),\n   ('845', 0.294404602967809),\n   ('3074747', 0.294404602967809),\n   ('2396200', 0.294404602967809),\n   ('macaroni', 0.29183934814041257),\n   ('racial', 0.2856220190719961)],\n  '1999': [('416', 0.35842499252826676),\n   ('onbase', 0.3500803954342489),\n   ('life', 0.30869575156001355),\n   ('taxexempt', 0.3047926599204973),\n   ('daily', 0.2998369640896526),\n   ('worse', 0.2995061846943089),\n   ('3074747', 0.294404602967809),\n   ('shorter', 0.29064525754707654),\n   ('majors', 0.28655735865671694),\n   ('yorks', 0.28353453592990924)],\n  '2000': [('184', 0.3126915818116191),\n   ('year', 0.3022793835584792),\n   ('3074747', 0.29440460296780907),\n   ('908', 0.294404602967809),\n   ('earned', 0.2923035736423839),\n   ('person', 0.28468292992364747),\n   ('premium', 0.28333339352620956),\n   ('65', 0.2816847013314427),\n   ('50', 0.2808961782664539),\n   ('character', 0.28077944191887366)],\n  '2001': [('261', 0.32053925644018233),\n   ('229', 0.30931622779667894),\n   ('wednesdays', 0.29678362814027953),\n   ('batting', 0.2879935272577905),\n   ('daily', 0.2750736872479836),\n   ('day', 0.27395764407366613),\n   ('gets', 0.2728477269205543),\n   ('year', 0.2702641327272889),\n   ('considered', 0.26989313230251993),\n   ('exceeded', 0.2697115075937767)],\n  '2002': [('major', 0.3150965319788664),\n   ('dangerous', 0.2981479453901527),\n   ('7191300', 0.294404602967809),\n   ('noel', 0.294404602967809),\n   ('daily', 0.2878903073485682),\n   ('63', 0.2847331666722682),\n   ('offered', 0.2834865323930366),\n   ('compared', 0.2790418052682512),\n   ('accepted', 0.2757679932127053),\n   ('252', 0.27137618930256513)],\n  '2003': [('daily', 0.3116514567850103),\n   ('7191300', 0.294404602967809),\n   ('65', 0.2936373253474752),\n   ('price', 0.29188299158150655),\n   ('couples', 0.28938059389683657),\n   ('258', 0.2859837625673742),\n   ('skin', 0.2804788803870059),\n   ('rose', 0.2762881477032181),\n   ('career', 0.272490746709614),\n   ('58', 0.27144058164745216)],\n  '2004': [('208', 0.31984498999092537),\n   ('7191300', 0.294404602967809),\n   ('gelder', 0.294404602967809),\n   ('handguns', 0.294404602967809),\n   ('chez', 0.294404602967809),\n   ('695', 0.29364263331787066),\n   ('year', 0.2882413708893975),\n   ('batting', 0.2869538837317478),\n   ('earned', 0.28118218603836337),\n   ('slope', 0.2780650237951713)],\n  '2005': [('pancake', 0.30334469538160713),\n   ('ticket', 0.2987014860668956),\n   ('francois', 0.294404602967809),\n   ('arent', 0.2878613221467787),\n   ('active', 0.2858605483207318),\n   ('viewers', 0.2853517522566318),\n   ('laughed', 0.2827998964327828),\n   ('embrace', 0.2806594164909096),\n   ('husband', 0.27951545505365644),\n   ('dairy', 0.2784843117114276)],\n  '2006': [('drank', 0.29835565632507344),\n   ('impressionist', 0.28937433881626096),\n   ('orchestrated', 0.2775392501669219),\n   ('takes', 0.272523782145931),\n   ('lakers', 0.26907939697566624),\n   ('295', 0.2687295664927432),\n   ('tried', 0.26489217460374703),\n   ('540', 0.2596985334816031),\n   ('feinsteins', 0.2596985334816031),\n   ('regency', 0.2596985334816031)],\n  '2007': [('weight', 0.30864832262655034),\n   ('rose', 0.29946821857879724),\n   ('c', 0.29924231588811273),\n   ('rodman', 0.294404602967809),\n   ('var', 0.294404602967809),\n   ('cary', 0.294404602967809),\n   ('year', 0.2916287206189118),\n   ('earned', 0.28625469976638196),\n   ('lunch', 0.28320866019052815),\n   ('freedom', 0.2828355068965275)],\n  '2008': [('year', 0.30561517225471696),\n   ('3', 0.3019033785698321),\n   ('train', 0.2999101311305481),\n   ('far', 0.29412103382747995),\n   ('literary', 0.2856429200708671),\n   ('conventional', 0.2847140084292247),\n   ('2', 0.283607148144406),\n   ('performed', 0.28231672805941826),\n   ('2007', 0.2814305275748266),\n   ('86', 0.2796006568944664)],\n  '2009': [('open', 0.3218549453755265),\n   ('915', 0.30188735588050325),\n   ('158', 0.30117618199251167),\n   ('offered', 0.29774353126150993),\n   ('belt', 0.29603423454524136),\n   ('11000', 0.2913958399951223),\n   ('today', 0.2907182488707394),\n   ('se', 0.2886378415263173),\n   ('aimed', 0.28682118371827436),\n   ('10', 0.2850937939969646)],\n  '2010': [('10', 0.31070774590157846),\n   ('colder', 0.30749883171613646),\n   ('127', 0.2954741120128385),\n   ('55', 0.2930773276271654),\n   ('similar', 0.2926371445219463),\n   ('growth', 0.28486158553237667),\n   ('slightly', 0.27938629384974895),\n   ('4', 0.27583661466883114),\n   ('offers', 0.2756711066047688),\n   ('40', 0.2744277737776149)],\n  '2011': [('weekdays', 0.32689140409085116),\n   ('515', 0.3257040763464566),\n   ('shown', 0.3171157223212286),\n   ('somewhat', 0.29743744021093643),\n   ('cheat', 0.2937267848683636),\n   ('9', 0.2911686039296771),\n   ('217', 0.2882022298158119),\n   ('50', 0.287241355928584),\n   ('945', 0.286509680574865),\n   ('liberty', 0.28373048452363364)],\n  '2012': [('1109', 0.3249892628201731),\n   ('year', 0.3046550122284529),\n   ('202', 0.30003257976899805),\n   ('376', 0.29968820093043336),\n   ('daily', 0.291375653376102),\n   ('217', 0.2891195418391061),\n   ('beneficiary', 0.2874128688465824),\n   ('railroad', 0.2830431241978999),\n   ('tuesdays', 0.2804080211109044),\n   ('sessions', 0.279439674519238)],\n  '2013': [('2', 0.3072660194926393),\n   ('340', 0.3023643311808627),\n   ('344', 0.3011836314354294),\n   ('53', 0.29456017412841506),\n   ('rangel', 0.294404602967809),\n   ('morningside', 0.294404602967809),\n   ('376', 0.294404602967809),\n   ('less', 0.2938703207225794),\n   ('harvey', 0.28200154744327416),\n   ('equal', 0.27994481230172447)],\n  '2014': [('42', 0.33870535757951636),\n   ('1109', 0.32326005089065957),\n   ('lucas', 0.2997898765861683),\n   ('daily', 0.29860353560510694),\n   ('10', 0.29709029103994933),\n   ('industrial', 0.29668927944858675),\n   ('author', 0.2867751831493854),\n   ('wedding', 0.28571678688613655),\n   ('growth', 0.28372977361764323),\n   ('year', 0.2828130771280095)],\n  '2015': [('1250', 0.3285544427207442),\n   ('tutoring', 0.3111879101502757),\n   ('average', 0.3044020526846045),\n   ('threecourse', 0.294404602967809),\n   ('year', 0.29399062238943174),\n   ('100000', 0.29073368199429067),\n   ('10', 0.2906766372443148),\n   ('1986', 0.2890424654683099),\n   ('43rd', 0.2871992470013341),\n   ('344', 0.285920940343005)],\n  '2016': [('156', 0.3127248521314141),\n   ('msg', 0.296019564174398),\n   ('clarinetist', 0.29440460296780907),\n   ('morningside', 0.29440460296780907),\n   ('sleek', 0.28774241463589695),\n   ('bored', 0.2876096854377118),\n   ('107', 0.2839281917696026),\n   ('2d', 0.27912085316494445),\n   ('matter', 0.2739112765700565),\n   ('13', 0.2737692149299352)]},\n 'agassi-1999': {'1990': [('learned', 0.29683337148651057),\n   ('noted', 0.27897082033831855),\n   ('telling', 0.2751799440417056),\n   ('anguished', 0.2736458416809691),\n   ('present', 0.2715261924092577),\n   ('locations', 0.2712426107841039),\n   ('campus', 0.27118134541489547),\n   ('stewed', 0.2707282155940765),\n   ('personalized', 0.2695980645728246),\n   ('black', 0.2688764032725876)],\n  '1991': [('awaited', 0.35365857916245025),\n   ('mostly', 0.2965364502484891),\n   ('thunder', 0.2882019935998591),\n   ('father', 0.2869824373313644),\n   ('autograph', 0.28195319455169454),\n   ('readers', 0.2774526888776206),\n   ('enthusiasm', 0.27720035159719564),\n   ('grew', 0.27065224641881414),\n   ('face', 0.2697246447963573),\n   ('neediest', 0.26828678437957054)],\n  '1992': [('library', 0.3313048736523063),\n   ('measles', 0.3072417540348715),\n   ('residents', 0.29273754008103675),\n   ('include', 0.2850810101262891),\n   ('jealousy', 0.2840081339354213),\n   ('given', 0.28107267349210147),\n   ('crown', 0.28060999254820607),\n   ('controversy', 0.2791587766562028),\n   ('huge', 0.2684617352533599),\n   ('reading', 0.26832031221194175)],\n  '1993': [('lonely', 0.3014178729362024),\n   ('calls', 0.299416393876103),\n   ('hundreds', 0.29623622152078044),\n   ('mozart', 0.28975846722816445),\n   ('china', 0.28952916399324946),\n   ('year', 0.2837181271621807),\n   ('dusty', 0.2819013126119909),\n   ('figure', 0.28129844693949896),\n   ('artist', 0.2786910516427477),\n   ('found', 0.27809309891014117)],\n  '1994': [('users', 0.3336463186124654),\n   ('bourgeois', 0.29813533830355426),\n   ('combinations', 0.2744373948697454),\n   ('however', 0.2689055025827623),\n   ('received', 0.2666871601164529),\n   ('community', 0.2646827949013183),\n   ('bond', 0.2636060824010585),\n   ('golden', 0.261449615485042),\n   ('latest', 0.2613462567058828),\n   ('rest', 0.2612874147942834)],\n  '1995': [('full', 0.2879699028784766),\n   ('inmates', 0.28359117065183836),\n   ('area', 0.2791264905511202),\n   ('receive', 0.27771277098041014),\n   ('spent', 0.2775265101226972),\n   ('beginning', 0.27599734856463937),\n   ('seem', 0.27294393388801746),\n   ('seaver', 0.27180681319839006),\n   ('1986', 0.27128512489528195),\n   ('millions', 0.26594048268448295)],\n  '1996': [('theo', 0.29852251620858766),\n   ('died', 0.293113147014493),\n   ('goes', 0.28498274117535227),\n   ('work', 0.2785002073870012),\n   ('stopped', 0.27669299383918944),\n   ('dispose', 0.27609493694228293),\n   ('irrefutable', 0.27609493694228293),\n   ('frankenstein', 0.27609493694228293),\n   ('pennington', 0.27609493694228293),\n   ('feingold', 0.27609493694228293)],\n  '1997': [('century', 0.31002654342175295),\n   ('ate', 0.30600085884023315),\n   ('often', 0.29719167882405517),\n   ('monthly', 0.2929076286690339),\n   ('apocalypse', 0.2819734653926837),\n   ('patton', 0.2819734653926837),\n   ('redefine', 0.2819734653926837),\n   ('firepower', 0.2819734653926837),\n   ('rudd', 0.2819734653926837),\n   ('collide', 0.2819734653926837)],\n  '1998': [('access', 0.3321361698186955),\n   ('similar', 0.3002091684373444),\n   ('eastern', 0.29160402794607965),\n   ('maybe', 0.2908923604549104),\n   ('150', 0.2880082955075107),\n   ('sometimes', 0.2868642435056981),\n   ('preaching', 0.28686201668797984),\n   ('cheap', 0.2864819694323217),\n   ('often', 0.28567244015709087),\n   ('species', 0.2808078443555706)],\n  '1999': [('hundred', 0.31352353217666334),\n   ('local', 0.3055696059182967),\n   ('calls', 0.30235624781150117),\n   ('packets', 0.29987569606749664),\n   ('cursing', 0.296312862222691),\n   ('cars', 0.2930964976115079),\n   ('slowed', 0.29265883978476165),\n   ('year', 0.2913018414575603),\n   ('syrah', 0.2881814662686199),\n   ('flow', 0.28596474352405726)],\n  '2000': [('youve', 0.29779124195203877),\n   ('relative', 0.2967173486779224),\n   ('arts', 0.29625104934954344),\n   ('artist', 0.29312485050603465),\n   ('cutting', 0.2884610110796208),\n   ('pages', 0.2875868424096011),\n   ('hair', 0.2817490315580991),\n   ('continues', 0.28070523523838303),\n   ('road', 0.2791997822097861),\n   ('memorial', 0.2758537835954238)],\n  '2001': [('presidential', 0.30736118335281754),\n   ('arts', 0.2881438839235886),\n   ('collected', 0.28799837044898796),\n   ('opened', 0.28443924982744306),\n   ('begging', 0.28244222619162584),\n   ('sign', 0.28181000088746344),\n   ('make', 0.2782053412112635),\n   ('flooded', 0.2773165516047132),\n   ('post', 0.2771868160654198),\n   ('status', 0.2748758454676115)],\n  '2002': [('365', 0.2936346897293919),\n   ('narrative', 0.28888475541080777),\n   ('internet', 0.28757345223528974),\n   ('especially', 0.28166362927005634),\n   ('testing', 0.2769079439631258),\n   ('patrons', 0.27677847663513155),\n   ('mostly', 0.27423550562570564),\n   ('bring', 0.27412817144714413),\n   ('chimney', 0.2738363854059718),\n   ('sorkin', 0.2738363854059718)],\n  '2003': [('employees', 0.3107158357420717),\n   ('sometimes', 0.29843575295689917),\n   ('people', 0.28511373717364347),\n   ('remembered', 0.28494777522715947),\n   ('began', 0.27973548763984424),\n   ('hundreds', 0.2789223659411739),\n   ('built', 0.2786214092769109),\n   ('discovered', 0.27754541577050157),\n   ('bump', 0.27413182208516756),\n   ('conflict', 0.27298439032017313)],\n  '2004': [('writers', 0.3198976274935612),\n   ('arts', 0.31546817251100817),\n   ('lives', 0.30783888939774795),\n   ('region', 0.3073058548706917),\n   ('slang', 0.30389073837510777),\n   ('live', 0.2989561648929088),\n   ('academy', 0.2986078918241089),\n   ('desperate', 0.28234163812241536),\n   ('painting', 0.28146380515015995),\n   ('create', 0.2808581273314554)],\n  '2005': [('glide', 0.28440203972632616),\n   ('alphabet', 0.279629412392386),\n   ('remain', 0.27826968017404097),\n   ('came', 0.27669050760796104),\n   ('gogh', 0.27172063582517114),\n   ('1994', 0.27118538590456404),\n   ('continued', 0.2683712088428766),\n   ('picked', 0.2680501774825074),\n   ('resulted', 0.267970508348818),\n   ('skills', 0.2665106302691128)],\n  '2006': [('hormones', 0.30930989391453334),\n   ('hill', 0.2892967271284075),\n   ('silence', 0.2873469389623809),\n   ('sometimes', 0.28612771781275786),\n   ('often', 0.2745398684326117),\n   ('silent', 0.2682371901702044),\n   ('make', 0.2601035023183779),\n   ('intake', 0.2596747613307901),\n   ('breathtaking', 0.2595001998073216),\n   ('evoke', 0.2574001632417919)],\n  '2007': [('tshirts', 0.3330619885010483),\n   ('putins', 0.3032356910715917),\n   ('period', 0.2873152734754555),\n   ('treated', 0.28178739705086825),\n   ('oddball', 0.27800559301460703),\n   ('save', 0.27561820348405247),\n   ('citizens', 0.2738880426012079),\n   ('sometimes', 0.27322834466472784),\n   ('kindness', 0.2684742176633591),\n   ('organized', 0.2662013952295996)],\n  '2008': [('estate', 0.30037013855573563),\n   ('neediest', 0.2996249874326847),\n   ('sites', 0.2957392792108574),\n   ('scribbled', 0.2884525281184238),\n   ('lots', 0.2860427322944239),\n   ('politico', 0.28155245591802),\n   ('viewed', 0.276088675075053),\n   ('clever', 0.2753238364336405),\n   ('purchase', 0.2745967315692381),\n   ('members', 0.2743572298310821)],\n  '2009': [('mostly', 0.3321839000987576),\n   ('known', 0.31700679505844664),\n   ('describing', 0.3057907398247188),\n   ('archaeological', 0.29828895747701123),\n   ('2000', 0.2944427950747601),\n   ('noticed', 0.2896139085573113),\n   ('often', 0.28878829134082146),\n   ('major', 0.2838483943029261),\n   ('sent', 0.28213778933768113),\n   ('sometimes', 0.28177906474154063)],\n  '2010': [('similar', 0.30971627719117395),\n   ('food', 0.308612275457448),\n   ('residents', 0.30025276926965483),\n   ('films', 0.29732658502996434),\n   ('submissions', 0.2971648796565685),\n   ('result', 0.29385129829106765),\n   ('iris', 0.28934356460046695),\n   ('explaining', 0.2876865811026121),\n   ('goes', 0.285257836111291),\n   ('published', 0.2841251769836658)],\n  '2011': [('remained', 0.30383935731435546),\n   ('nazi', 0.30187634543118186),\n   ('made', 0.3008822630179454),\n   ('appeared', 0.293500254502052),\n   ('references', 0.28830499245590485),\n   ('recorded', 0.2871961729940999),\n   ('sometimes', 0.2852468297376998),\n   ('showed', 0.28202673936685657),\n   ('short', 0.2782073923099175),\n   ('museums', 0.27439595536257605)],\n  '2012': [('ones', 0.34204146815104053),\n   ('died', 0.302249178816425),\n   ('grew', 0.2923776825361482),\n   ('visited', 0.2877671394800035),\n   ('salvaged', 0.283491928368782),\n   ('organized', 0.28295408377103376),\n   ('princess', 0.2772649642613713),\n   ('see', 0.2759142017506),\n   ('considered', 0.2754615335551113),\n   ('lives', 0.27526047694647665)],\n  '2013': [('sometimes', 0.32335201300002636),\n   ('married', 0.3166634985958633),\n   ('letters', 0.3066998782570024),\n   ('theyre', 0.30640216332900067),\n   ('lived', 0.30273878408148475),\n   ('joined', 0.2974336737210306),\n   ('survey', 0.29102097615017125),\n   ('popularity', 0.28615924958139904),\n   ('heroic', 0.28128693780290814),\n   ('often', 0.27888173929776494)],\n  '2014': [('help', 0.3054393112289788),\n   ('heights', 0.30347564183982095),\n   ('present', 0.2973154807153021),\n   ('big', 0.28752787005284414),\n   ('symbol', 0.2862445850006938),\n   ('protests', 0.2842496390581181),\n   ('chelsea', 0.2834461916240431),\n   ('see', 0.28146642965979196),\n   ('correction', 0.2792021256849666),\n   ('friends', 0.2777092343767917)],\n  '2015': [('catching', 0.3036312960052589),\n   ('though', 0.3026313876674594),\n   ('little', 0.29679012147788714),\n   ('mostly', 0.28713038340716157),\n   ('thousands', 0.28674725448078375),\n   ('places', 0.28652626431909795),\n   ('lives', 0.2853797125769948),\n   ('admit', 0.2836673857078551),\n   ('often', 0.28246408030177306),\n   ('experience', 0.2787979533611716)],\n  '2016': [('lives', 0.36420816802965944),\n   ('africas', 0.303043497155943),\n   ('ended', 0.28848675797293394),\n   ('graces', 0.27180681319839006),\n   ('galaxies', 0.27180681319839006),\n   ('eastern', 0.26631949435139485),\n   ('oz', 0.26580109475205416),\n   ('bad', 0.26378360324219996),\n   ('community', 0.26049208391374135),\n   ('block', 0.25871737107713016)]},\n 'albright-1997': {'1990': [('mexican', 0.302287542750009),\n   ('complicity', 0.29090827480434006),\n   ('commercial', 0.2794341387190372),\n   ('advertisers', 0.2722660490152046),\n   ('tysons', 0.26696399741545646),\n   ('antiamerican', 0.2636093390673457),\n   ('mailer', 0.2627247538139849),\n   ('benefiting', 0.2608515892998171),\n   ('plate', 0.2602743267687686),\n   ('outfield', 0.25902297949270103)],\n  '1991': [('jihad', 0.27149687120234994),\n   ('belong', 0.26192283359191526),\n   ('complicity', 0.2572672733151414),\n   ('membership', 0.2572315042797124),\n   ('interrupting', 0.24952982524706457),\n   ('1986', 0.24871412940043341),\n   ('gulf', 0.24466509729302702),\n   ('entire', 0.23970123332420692),\n   ('suggested', 0.2380520180925959),\n   ('enormous', 0.23803098942219617)],\n  '1992': [('angel', 0.3130242679242254),\n   ('extensive', 0.275096435559955),\n   ('denied', 0.27133472144379267),\n   ('daryl', 0.2710571656370734),\n   ('alarm', 0.26767582500594916),\n   ('pitcher', 0.2674678212243917),\n   ('ring', 0.2637733096302047),\n   ('every', 0.2617444828266546),\n   ('vessels', 0.25774231074326576),\n   ('understanding', 0.25709900187592066)],\n  '1993': [('cartel', 0.2743362612249374),\n   ('writings', 0.2725602312492089),\n   ('sweetbreads', 0.27201452310782487),\n   ('nuance', 0.27006993627808307),\n   ('bond', 0.26682751127584836),\n   ('officers', 0.2627391042862917),\n   ('free', 0.25988534795903057),\n   ('houses', 0.2591267930498848),\n   ('patients', 0.2586625277346362),\n   ('roller', 0.25400106389003946)],\n  '1994': [('rigor', 0.2978612124789967),\n   ('regional', 0.28929461937647616),\n   ('grounded', 0.27441312150432723),\n   ('culture', 0.26973013268493923),\n   ('pri', 0.2691287685356964),\n   ('merchants', 0.2662623173162522),\n   ('step', 0.265584438850686),\n   ('bodys', 0.2623913182391798),\n   ('signaling', 0.25693924768187676),\n   ('stephen', 0.25667765906231343)],\n  '1995': [('planting', 0.2896878654217257),\n   ('fact', 0.2886479173572029),\n   ('sidekick', 0.28704417168146257),\n   ('position', 0.27856093783223174),\n   ('evidence', 0.2669235100638202),\n   ('mrs', 0.2600996809621828),\n   ('mexican', 0.25539343492414374),\n   ('attack', 0.2503341901210287),\n   ('appeared', 0.2479289641642249),\n   ('eg', 0.24533003137592588)],\n  '1996': [('demonstrated', 0.3032868106467031),\n   ('affinity', 0.2715580139208306),\n   ('drug', 0.26881692968047854),\n   ('benevolent', 0.26308353858140815),\n   ('known', 0.2574658590470159),\n   ('doorstep', 0.25586279516490246),\n   ('january', 0.2524204522865549),\n   ('enviable', 0.2510695043554537),\n   ('assorted', 0.2510198889119188),\n   ('consistently', 0.2502353914180764)],\n  '1997': [('shapiro', 0.2784806429792433),\n   ('dishes', 0.2681056673837698),\n   ('cryptic', 0.2637226466729286),\n   ('major', 0.2601456532466324),\n   ('mistrust', 0.25918856968745363),\n   ('treat', 0.2590157607212141),\n   ('era', 0.2564099232693432),\n   ('comment', 0.2554487924620323),\n   ('fiveday', 0.2524532267262354),\n   ('consecutive', 0.25201536027516636)],\n  '1998': [('operatives', 0.27774251364205027),\n   ('offices', 0.27334479731005445),\n   ('crisis', 0.2691517250624296),\n   ('showed', 0.2681010621976613),\n   ('posing', 0.2674812908346773),\n   ('benefits', 0.2569989867119747),\n   ('infusion', 0.25593666049137304),\n   ('published', 0.2558356235423893),\n   ('strains', 0.2555792019816681),\n   ('gunned', 0.25296654951478986)],\n  '1999': [('operations', 0.2880102902397556),\n   ('letter', 0.260434725555276),\n   ('afterward', 0.2591116178208782),\n   ('rehab', 0.25818882672157667),\n   ('insane', 0.25722660535336644),\n   ('jews', 0.2567753050526839),\n   ('checked', 0.25414984633039495),\n   ('french', 0.2524889286324991),\n   ('plan', 0.25230133501314006),\n   ('testing', 0.25209437944058294)],\n  '2000': [('witt', 0.3127066668549625),\n   ('mafia', 0.2909375613231026),\n   ('commercial', 0.2893438388008624),\n   ('offering', 0.2652085615469741),\n   ('rainbow', 0.2604845937191926),\n   ('food', 0.2587494134982922),\n   ('championship', 0.2558009672135077),\n   ('lower', 0.2532081706045085),\n   ('innercity', 0.25072667676029115),\n   ('formed', 0.2478646397577673)],\n  '2001': [('cadre', 0.2823571065264976),\n   ('saudi', 0.28146182893380217),\n   ('supporters', 0.2682914447961535),\n   ('arabia', 0.25982867193937575),\n   ('aggressively', 0.2596902296299904),\n   ('pan', 0.25787611628604923),\n   ('vegetable', 0.2568182721270789),\n   ('interplay', 0.2539100106956803),\n   ('pie', 0.24939108002813254),\n   ('interest', 0.24896413414796215)],\n  '2002': [('drawn', 0.29177325010503186),\n   ('len', 0.2728554431690984),\n   ('effects', 0.2678804255989112),\n   ('replacements', 0.2622811499087759),\n   ('mckinsey', 0.2618302412171416),\n   ('indian', 0.2604778414570552),\n   ('cell', 0.25755032793660776),\n   ('christian', 0.25553821811485894),\n   ('insurgency', 0.2552592610627171),\n   ('scallop', 0.24760079409270697)],\n  '2003': [('overdose', 0.28925026227664613),\n   ('winners', 0.28682599690581584),\n   ('roy', 0.27683278999084854),\n   ('helped', 0.27483873996092206),\n   ('153', 0.2745876890436754),\n   ('routed', 0.27284904505853635),\n   ('role', 0.26406706442614075),\n   ('banks', 0.25836135431792834),\n   ('cole', 0.25767675456358874),\n   ('maxwells', 0.2511257765339234)],\n  '2004': [('gripped', 0.27948023102041303),\n   ('owned', 0.2785297064329452),\n   ('followed', 0.27775610629928027),\n   ('mrs', 0.2714064027489653),\n   ('struck', 0.2545361595307417),\n   ('noted', 0.2530464183117372),\n   ('grill', 0.25096732616684175),\n   ('jr', 0.2509229177537526),\n   ('midnight', 0.24844541762031605),\n   ('found', 0.24836640832488974)],\n  '2005': [('jos', 0.30873328866612787),\n   ('prescriptions', 0.29546103477561597),\n   ('likeminded', 0.27653186603422236),\n   ('mechanism', 0.2694667363790202),\n   ('treat', 0.26032635996946873),\n   ('dizzy', 0.25557893710447066),\n   ('1998', 0.25426990165389474),\n   ('rubins', 0.24741416498355545),\n   ('winnick', 0.24741416498355545),\n   ('canucks', 0.24741416498355545)],\n  '2006': [('blockbuster', 0.2913119490258173),\n   ('went', 0.2632943336488551),\n   ('ranges', 0.2572417195068895),\n   ('elbow', 0.2505818518351046),\n   ('differently', 0.24906291127351257),\n   ('appealing', 0.24869002056206502),\n   ('diversion', 0.24531925945408012),\n   ('arches', 0.24445093517737337),\n   ('nonviolent', 0.23952923207999594),\n   ('prosecutor', 0.23450954166941906)],\n  '2007': [('struggled', 0.28850729811748504),\n   ('lower', 0.267181604240664),\n   ('7441600', 0.26011975949696625),\n   ('predatory', 0.25693333150193154),\n   ('betting', 0.25541806944767526),\n   ('forcing', 0.254655208206313),\n   ('astor', 0.24834449652948096),\n   ('landed', 0.24801656887472295),\n   ('violence', 0.24728478697094344),\n   ('jong', 0.24491063196697496)],\n  '2008': [('taylor', 0.2955481470780045),\n   ('baking', 0.2835387655010772),\n   ('identical', 0.2833458114500774),\n   ('major', 0.28001007949663853),\n   ('trafficking', 0.2608711077993034),\n   ('supply', 0.2587624734204479),\n   ('pointed', 0.25810920007966637),\n   ('130', 0.2569938918392342),\n   ('cross', 0.25601594179192094),\n   ('chimpanzees', 0.25553432314958163)],\n  '2009': [('lightning', 0.31027082200266026),\n   ('offices', 0.268169332641728),\n   ('orleans', 0.26426002743496807),\n   ('matthews', 0.2622083435585462),\n   ('reportedly', 0.25914002745778103),\n   ('cho', 0.258368085415893),\n   ('silvers', 0.258368085415893),\n   ('esther', 0.258368085415893),\n   ('frankenstein', 0.258368085415893),\n   ('cucumbers', 0.258368085415893)],\n  '2010': [('gain', 0.2925320972473141),\n   ('cartel', 0.2791525962355141),\n   ('local', 0.26934175409493677),\n   ('ingratiating', 0.2684114249140011),\n   ('websites', 0.2684114249140011),\n   ('viktor', 0.2684114249140011),\n   ('moonves', 0.2684114249140011),\n   ('prague', 0.2684114249140011),\n   ('brasserie', 0.2684114249140011),\n   ('hollande', 0.2684114249140011)],\n  '2011': [('combined', 0.27673014536933055),\n   ('none', 0.26845786148327244),\n   ('aromatic', 0.26526138008094197),\n   ('influence', 0.2636413939558299),\n   ('irrefutable', 0.2631376247579567),\n   ('feingold', 0.2631376247579567),\n   ('dunning', 0.2631376247579567),\n   ('arlen', 0.2631376247579567),\n   ('albright', 0.2631376247579567),\n   ('fein', 0.2631376247579567)],\n  '2012': [('tour', 0.3039507809852233),\n   ('palo', 0.28080518243234537),\n   ('stable', 0.27225416398106583),\n   ('eve', 0.27199286379240484),\n   ('unknown', 0.2716045132412909),\n   ('telling', 0.2661532289984475),\n   ('depiction', 0.2648716256063727),\n   ('posada', 0.2639130100404677),\n   ('shallots', 0.2639130100404677),\n   ('netscape', 0.2639130100404677)],\n  '2013': [('shark', 0.28920825237527675),\n   ('fame', 0.2760537942104274),\n   ('welcome', 0.27565660370384226),\n   ('hormone', 0.26468574553348573),\n   ('damage', 0.26450980109375766),\n   ('carpenters', 0.2641898412107364),\n   ('grays', 0.2641898412107364),\n   ('worldcom', 0.2641898412107364),\n   ('pontiac', 0.2641898412107364),\n   ('countdown', 0.2641898412107364)],\n  '2014': [('administration', 0.28726345116165214),\n   ('remained', 0.27787878127047566),\n   ('success', 0.27406708300544114),\n   ('hines', 0.2591155107771951),\n   ('mp3', 0.2591155107771951),\n   ('sirloin', 0.2591155107771951),\n   ('invincible', 0.2591155107771951),\n   ('lazio', 0.2591155107771951),\n   ('winemakers', 0.2591155107771951),\n   ('azerbaijan', 0.2591155107771951)],\n  '2015': [('local', 0.33036439958793484),\n   ('effect', 0.2962543227796359),\n   ('blasio', 0.29027498294312254),\n   ('melee', 0.28939005072354435),\n   ('brotherhood', 0.2822929682230959),\n   ('climactic', 0.2777629924649567),\n   ('door', 0.27208579071898104),\n   ('enforcement', 0.2705031228547305),\n   ('mexican', 0.27041037152804775),\n   ('racial', 0.2617670828487649)],\n  '2016': [('meddling', 0.29021873184031316),\n   ('wall', 0.2815982583107196),\n   ('distract', 0.2664161603582633),\n   ('302', 0.2621530059195863),\n   ('verdicts', 0.2621530059195863),\n   ('chimney', 0.2621530059195863),\n   ('sorkin', 0.2621530059195863),\n   ('shanahan', 0.2621530059195863),\n   ('lucille', 0.2621530059195863),\n   ('cucumbers', 0.2621530059195863)]},\n 'albright-1998': {'1990': [('goods', 0.2899527216076701),\n   ('jersey', 0.27539527608561887),\n   ('guided', 0.2727009969635687),\n   ('headed', 0.2695545877430369),\n   ('experience', 0.2686623547579995),\n   ('free', 0.26360792589220533),\n   ('special', 0.2626627878348332),\n   ('diminished', 0.2587860208319099),\n   ('blue', 0.25704536515461957),\n   ('yesterday', 0.2564316635033332)],\n  '1991': [('safety', 0.29480985553065886),\n   ('tackle', 0.2827337299724248),\n   ('spokesman', 0.2789901974461392),\n   ('investigate', 0.27773461424881474),\n   ('let', 0.27755080011329225),\n   ('proposal', 0.2725634199603818),\n   ('left', 0.2651188203655925),\n   ('confronting', 0.26200127109001387),\n   ('feels', 0.2613209236614425),\n   ('commissioners', 0.26060465704118996)],\n  '1992': [('within', 0.31112603716312515),\n   ('left', 0.2847201956108599),\n   ('miller', 0.28383021439159983),\n   ('farm', 0.28172135569723034),\n   ('operating', 0.2805403449939978),\n   ('bushs', 0.27859953740299864),\n   ('formed', 0.2698597001672604),\n   ('homeless', 0.26719103344414064),\n   ('talent', 0.26677594679143657),\n   ('dinkins', 0.26197217262950806)],\n  '1993': [('members', 0.28930161137523325),\n   ('clevelands', 0.28337971331173056),\n   ('special', 0.2726189170383525),\n   ('mclaughlin', 0.26199798728720697),\n   ('recommendations', 0.2587223914804125),\n   ('looks', 0.2575477842718002),\n   ('trip', 0.2570144639563768),\n   ('scoring', 0.2537499061147176),\n   ('interest', 0.25135208398078995),\n   ('jones', 0.25075202504044575)],\n  '1994': [('joe', 0.2820493788171264),\n   ('side', 0.2755030992437555),\n   ('erik', 0.27483863550256105),\n   ('bloodshed', 0.27235665674374965),\n   ('included', 0.2700864518039632),\n   ('defeat', 0.26406234102794934),\n   ('proposed', 0.26225441129440397),\n   ('ask', 0.25928698557136687),\n   ('fans', 0.2584885728475173),\n   ('status', 0.2583093325581608)],\n  '1995': [('comfort', 0.3322080146166329),\n   ('1991', 0.2732595044546028),\n   ('older', 0.2627252922886193),\n   ('playoff', 0.2622609327524103),\n   ('member', 0.26076026700455573),\n   ('trap', 0.260287456438976),\n   ('weeks', 0.26011347814671376),\n   ('emerged', 0.2591219220510616),\n   ('believe', 0.2577848355955966),\n   ('members', 0.2564023500610354)],\n  '1996': [('emerge', 0.28625871478228504),\n   ('jenkins', 0.2828512824099752),\n   ('fix', 0.27642776222622184),\n   ('independent', 0.2708215519170459),\n   ('eagles', 0.26385085546337234),\n   ('pass', 0.263706420844697),\n   ('29', 0.262092332187094),\n   ('special', 0.2572221051372052),\n   ('members', 0.25677339055544474),\n   ('conceivable', 0.2562288977757678)],\n  '1997': [('special', 0.290110512956425),\n   ('quantify', 0.2897995458044636),\n   ('serious', 0.289136207170685),\n   ('dignified', 0.2845979727714118),\n   ('members', 0.279945512635968),\n   ('list', 0.27499318901869185),\n   ('generation', 0.27122123155876116),\n   ('scholarships', 0.2681826559341016),\n   ('whos', 0.26606350248429156),\n   ('mainly', 0.265656222660218)],\n  '1998': [('tense', 0.3349706615128649),\n   ('preston', 0.3202337237346195),\n   ('photo', 0.28455134803087256),\n   ('quarterback', 0.281161292129363),\n   ('passes', 0.27285956655678884),\n   ('quietly', 0.2639831051803461),\n   ('calling', 0.26371503757768705),\n   ('boston', 0.26334279965535656),\n   ('income', 0.2630047091924936),\n   ('declare', 0.262144559163618)],\n  '1999': [('member', 0.305718122875199),\n   ('safety', 0.2995290945515726),\n   ('embodiment', 0.2961425584184925),\n   ('pacific', 0.29112405851464473),\n   ('beaten', 0.2876537927614564),\n   ('jeff', 0.2844890032384406),\n   ('gartner', 0.2795170739425205),\n   ('central', 0.2735928578909602),\n   ('failure', 0.2728682538801178),\n   ('pass', 0.2667843302773071)],\n  '2000': [('trade', 0.31580123286594364),\n   ('community', 0.30533784787455615),\n   ('headed', 0.30354655335685193),\n   ('historical', 0.3002226210929189),\n   ('albany', 0.2808227948153671),\n   ('end', 0.2750820912917437),\n   ('apparently', 0.27368509225851656),\n   ('create', 0.27137045198503773),\n   ('kinship', 0.2687674990094495),\n   ('standing', 0.26611981817621716)],\n  '2001': [('heard', 0.31430177748527327),\n   ('pennington', 0.2715535099914093),\n   ('facing', 0.270143100189054),\n   ('smith', 0.26877975876879406),\n   ('live', 0.26751803278442055),\n   ('irony', 0.2659470969833898),\n   ('spokesman', 0.26213694501372803),\n   ('landmark', 0.26014447775080446),\n   ('headed', 0.2590766808771951),\n   ('end', 0.25831172416711023)],\n  '2002': [('end', 0.28224507361504564),\n   ('plagued', 0.2731439097561175),\n   ('bully', 0.2711682051268726),\n   ('seemed', 0.26882974388268416),\n   ('24yearold', 0.26683649273213284),\n   ('comfort', 0.2658978536543797),\n   ('begun', 0.2643745240634721),\n   ('spokesman', 0.2637969925788936),\n   ('independent', 0.2610256787516545),\n   ('buried', 0.2605249075524222)],\n  '2003': [('complete', 0.3020664581542566),\n   ('strike', 0.29706185485760067),\n   ('zone', 0.2816349362692929),\n   ('al', 0.27204043952308293),\n   ('previously', 0.26891202360226585),\n   ('virtually', 0.2675133251528553),\n   ('spokesman', 0.2613964939923115),\n   ('society', 0.2591236365308279),\n   ('lazio', 0.25747381220422355),\n   ('champ', 0.25747381220422355)],\n  '2004': [('village', 0.30696341746952915),\n   ('pass', 0.2914760376513158),\n   ('volcker', 0.29041493941034835),\n   ('fifth', 0.2881234416072118),\n   ('giving', 0.28692821017893305),\n   ('hand', 0.28418024441500356),\n   ('seemingly', 0.2838072448819378),\n   ('pavano', 0.28253184928926794),\n   ('appointed', 0.2815565778869697),\n   ('pate', 0.2796176139037901)],\n  '2005': [('alabama', 0.3154598967602259),\n   ('dream', 0.3096997025656746),\n   ('lurid', 0.29808728777107635),\n   ('credited', 0.2971330134500295),\n   ('sections', 0.2796253007599611),\n   ('pale', 0.27761661629629153),\n   ('safety', 0.27700573543229795),\n   ('missing', 0.2741992225694693),\n   ('indian', 0.26921805846734415),\n   ('nice', 0.2657038061834771)],\n  '2006': [('india', 0.28244676082214787),\n   ('mutual', 0.26827275362834585),\n   ('another', 0.2671297178216866),\n   ('snack', 0.26503040416775725),\n   ('jets', 0.2602530645432059),\n   ('left', 0.2582316482289502),\n   ('guitarist', 0.2515927686445574),\n   ('runs', 0.2502941370124328),\n   ('end', 0.25025179974625794),\n   ('sacks', 0.24536688307227356)],\n  '2007': [('injury', 0.28944635769631083),\n   ('widowed', 0.28638422947473813),\n   ('kickoff', 0.2860534322549753),\n   ('jong', 0.28402672868791834),\n   ('peugeot', 0.28402672868791834),\n   ('leafs', 0.28402672868791834),\n   ('das', 0.28402672868791834),\n   ('hindus', 0.28402672868791834),\n   ('macedonia', 0.28402672868791834),\n   ('strikers', 0.28402672868791834)],\n  '2008': [('personally', 0.30955554219122317),\n   ('hurt', 0.30715666472026676),\n   ('member', 0.2877188238354422),\n   ('anthology', 0.28730926806762835),\n   ('writes', 0.28610650197982607),\n   ('charge', 0.28482597121852665),\n   ('marlboro', 0.2829964058005806),\n   ('consider', 0.28203791969584613),\n   ('darren', 0.27355602662869627),\n   ('catch', 0.2722248800263706)],\n  '2009': [('proposed', 0.2983651568788474),\n   ('mainly', 0.2803418628270179),\n   ('stillman', 0.2766591172657918),\n   ('converged', 0.27587050647110567),\n   ('defensive', 0.27173388575310986),\n   ('understands', 0.26944160468596373),\n   ('happiness', 0.2672125091512517),\n   ('recognizing', 0.2668888427281733),\n   ('manner', 0.26468052351067217),\n   ('truth', 0.2646676983423478)],\n  '2010': [('deep', 0.29240823230539187),\n   ('investigating', 0.2869991480031595),\n   ('offensive', 0.28027640124651365),\n   ('quarterback', 0.2801351846945136),\n   ('area', 0.2787298946642142),\n   ('members', 0.2787246589384755),\n   ('end', 0.27286919517318675),\n   ('concerned', 0.2697486431771077),\n   ('zone', 0.26721740931282806),\n   ('hearing', 0.2670676557704452)],\n  '2011': [('country', 0.32592129118517044),\n   ('safety', 0.32296931431190423),\n   ('b', 0.29641490946860655),\n   ('faced', 0.28088359056915074),\n   ('associations', 0.27512278135706975),\n   ('facing', 0.27497377205852225),\n   ('states', 0.2699059624904297),\n   ('threat', 0.26783071449696744),\n   ('propelled', 0.26692680937485985),\n   ('unless', 0.26366192436778524)],\n  '2012': [('firing', 0.3014205257335879),\n   ('worst', 0.2807812660496621),\n   ('canada', 0.2802626602442),\n   ('wouldbe', 0.27825769318766247),\n   ('established', 0.2779480413067883),\n   ('kevin', 0.2746609555020467),\n   ('dealing', 0.2725246728095393),\n   ('christian', 0.2701189210516532),\n   ('puts', 0.26984768392461034),\n   ('ability', 0.26870362118422536)],\n  '2013': [('documentary', 0.2953874924561045),\n   ('complicated', 0.2875439058220812),\n   ('disarming', 0.2868122733860006),\n   ('nesting', 0.28288103215103366),\n   ('ant', 0.2812571949617737),\n   ('hardly', 0.27995043354934346),\n   ('task', 0.27595721304564674),\n   ('carpenters', 0.2704076191346414),\n   ('grays', 0.2704076191346414),\n   ('worldcom', 0.2704076191346414)],\n  '2014': [('recognize', 0.2950481426481374),\n   ('starrs', 0.28779285453654074),\n   ('behalf', 0.2865351205283989),\n   ('writes', 0.2832445574341216),\n   ('trade', 0.2759151750397397),\n   ('view', 0.27456103945993104),\n   ('hines', 0.27073587601140386),\n   ('mp3', 0.27073587601140386),\n   ('sirloin', 0.27073587601140386),\n   ('invincible', 0.27073587601140386)],\n  '2015': [('supports', 0.2899733622644306),\n   ('carlyle', 0.2889618120962175),\n   ('stifling', 0.28874133444034894),\n   ('detainees', 0.2836432440290217),\n   ('comfort', 0.2811269867293001),\n   ('judges', 0.2792092752889337),\n   ('seahawks', 0.27617004349859886),\n   ('blue', 0.27267233112690265),\n   ('safe', 0.2684827034064851),\n   ('included', 0.26782774457023634)],\n  '2016': [('302', 0.2790986533028277),\n   ('verdicts', 0.2790986533028277),\n   ('chimney', 0.2790986533028277),\n   ('sorkin', 0.2790986533028277),\n   ('shanahan', 0.2790986533028277),\n   ('lucille', 0.2790986533028277),\n   ('cucumbers', 0.2790986533028277),\n   ('philips', 0.2790986533028277),\n   ('choruses', 0.2790986533028277),\n   ('buttery', 0.2790986533028277)]}}"
     },
     "execution_count": 74,
     "metadata": {},
     "output_type": "execute_result"
    }
   ],
   "source": [
    "similarities_tppmi"
   ],
   "metadata": {
    "collapsed": false
   }
  },
  {
   "cell_type": "code",
   "execution_count": 73,
   "outputs": [
    {
     "data": {
      "text/plain": "{'1990': [('49ers', 1.0000001192092896),\n  ('rams', 0.9488654732704163),\n  ('oilers', 0.9248101711273193),\n  ('broncos', 0.9226671457290649),\n  ('quarterback', 0.9176782369613647),\n  ('everett', 0.9172369241714478),\n  ('pistons', 0.9117545485496521),\n  ('giants', 0.8867501616477966),\n  ('vikings', 0.8861081600189209),\n  ('eagles', 0.881359875202179)],\n '1991': [('redskins', 0.9279803037643433),\n  ('quarterback', 0.9190942049026489),\n  ('falcons', 0.9190706610679626),\n  ('giants', 0.9173158407211304),\n  ('49ers', 0.8958008289337158),\n  ('lions', 0.8946662545204163),\n  ('jets', 0.8874433636665344),\n  ('receiver', 0.8686596751213074),\n  ('anderson', 0.8684384822845459),\n  ('colts', 0.8663473129272461)],\n '1992': [('falcons', 0.9366346001625061),\n  ('quarterback', 0.9302259683609009),\n  ('redskins', 0.9067943096160889),\n  ('receivers', 0.8937031626701355),\n  ('49ers', 0.8927772045135498),\n  ('bengals', 0.8849469423294067),\n  ('jets', 0.8845481276512146),\n  ('eagles', 0.8816682696342468),\n  ('fullback', 0.8770096898078918),\n  ('broncos', 0.8740648031234741)],\n '1993': [('eagles', 0.9366618394851685),\n  ('jets', 0.9282525777816772),\n  ('cowboys', 0.9267734289169312),\n  ('dolphins', 0.9238585233688354),\n  ('quarterback', 0.9213754534721375),\n  ('kicker', 0.9054298400878906),\n  ('denver', 0.8990776538848877),\n  ('broncos', 0.8951841592788696),\n  ('steelers', 0.8950001001358032),\n  ('buffalo', 0.8923734426498413)],\n '1994': [('patriots', 0.9544544816017151),\n  ('cowboys', 0.9356839060783386),\n  ('dolphins', 0.9329313039779663),\n  ('49ers', 0.9187604188919067),\n  ('vikings', 0.9159921407699585),\n  ('quarterback', 0.9155102372169495),\n  ('giants', 0.9153855443000793),\n  ('punt', 0.9148611426353455),\n  ('jets', 0.9088796377182007),\n  ('boomer', 0.9027135968208313)],\n '1995': [('49ers', 0.936673641204834),\n  ('steelers', 0.9363126158714294),\n  ('cowboys', 0.9352389574050903),\n  ('quarterback', 0.9131302833557129),\n  ('eagles', 0.9104986190795898),\n  ('giants', 0.9049394130706787),\n  ('falcons', 0.9048586487770081),\n  ('dallas', 0.904013454914093),\n  ('jets', 0.8963427543640137),\n  ('sanders', 0.8922778964042664)],\n '1996': [('quarterback', 0.9282775521278381),\n  ('cowboys', 0.8919278383255005),\n  ('raiders', 0.891392707824707),\n  ('eagles', 0.88564133644104),\n  ('chargers', 0.8793225884437561),\n  ('islanders', 0.8759604096412659),\n  ('colts', 0.8718175888061523),\n  ('harbaugh', 0.869116485118866),\n  ('penguins', 0.8636856079101562),\n  ('giants', 0.8607006669044495)],\n '1997': [('49ers', 0.9422916769981384),\n  ('packers', 0.9420352578163147),\n  ('quarterback', 0.9410825967788696),\n  ('steelers', 0.8963553309440613),\n  ('cowboys', 0.8855978846549988),\n  ('brett', 0.8776079416275024),\n  ('favre', 0.8719291090965271),\n  ('elliott', 0.868243396282196),\n  ('broncos', 0.8668164610862732),\n  ('flyers', 0.856122612953186)],\n '1998': [('broncos', 0.9486509561538696),\n  ('chargers', 0.9335585832595825),\n  ('packers', 0.9303168654441833),\n  ('quarterback', 0.916027843952179),\n  ('elway', 0.9047186374664307),\n  ('cornerback', 0.903478741645813),\n  ('49ers', 0.8980773091316223),\n  ('rangers', 0.8942374587059021),\n  ('giants', 0.8824515342712402),\n  ('steelers', 0.8821896314620972)],\n '1999': [('packers', 0.9293553829193115),\n  ('broncos', 0.9038300514221191),\n  ('dolphins', 0.901673436164856),\n  ('redskins', 0.8940111398696899),\n  ('quarterback', 0.8932206034660339),\n  ('falcons', 0.8873318433761597),\n  ('rams', 0.8843270540237427),\n  ('giants', 0.8766708970069885),\n  ('jets', 0.8760402798652649),\n  ('preseason', 0.8739132881164551)],\n '2000': [('quarterback', 0.9248946309089661),\n  ('vikings', 0.9109051823616028),\n  ('cowboys', 0.8912011384963989),\n  ('redskins', 0.8862771987915039),\n  ('sideline', 0.8861850500106812),\n  ('dallas', 0.8836141228675842),\n  ('broncos', 0.877173125743866),\n  ('lakers', 0.876374363899231),\n  ('cornerback', 0.871240496635437),\n  ('buccaneers', 0.8711727857589722)],\n '2001': [('broncos', 0.928446888923645),\n  ('raiders', 0.9219328165054321),\n  ('eagles', 0.9182928204536438),\n  ('ravens', 0.9174281358718872),\n  ('cornerback', 0.9042219519615173),\n  ('interception', 0.8935720920562744),\n  ('quarterback', 0.8891690969467163),\n  ('linebacker', 0.8767937421798706),\n  ('giants', 0.8760024309158325),\n  ('receiver', 0.8738644123077393)],\n '2002': [('ravens', 0.9227917194366455),\n  ('eagles', 0.8948106169700623),\n  ('rams', 0.8931785225868225),\n  ('dolphins', 0.891930341720581),\n  ('mcnabb', 0.8908185958862305),\n  ('broncos', 0.8905405402183533),\n  ('dixon', 0.8895976543426514),\n  ('patriots', 0.8884668946266174),\n  ('colts', 0.8819859623908997),\n  ('raiders', 0.8817906379699707)],\n '2003': [('raiders', 0.947046160697937),\n  ('buccaneers', 0.9210420846939087),\n  ('quarterback', 0.9048913717269897),\n  ('devils', 0.9041978120803833),\n  ('cowboys', 0.9036727547645569),\n  ('bucs', 0.9022058844566345),\n  ('giants', 0.8934500217437744),\n  ('steelers', 0.8857930898666382),\n  ('patriots', 0.8853706121444702),\n  ('woodson', 0.8768871426582336)],\n '2004': [('colts', 0.9377157092094421),\n  ('patriots', 0.9113370776176453),\n  ('quarterback', 0.9090312123298645),\n  ('cowboys', 0.9076536297798157),\n  ('indianapolis', 0.8924013376235962),\n  ('linebacker', 0.8890750408172607),\n  ('panthers', 0.8881256580352783),\n  ('vikings', 0.887283205986023),\n  ('giants', 0.8811875581741333),\n  ('rams', 0.8806283473968506)],\n '2005': [('raiders', 0.9191591739654541),\n  ('quarterback', 0.9112871885299683),\n  ('patriots', 0.8994312286376953),\n  ('manning', 0.8959085941314697),\n  ('receiver', 0.8915486931800842),\n  ('falcons', 0.8881291747093201),\n  ('bengals', 0.883776843547821),\n  ('eagles', 0.8819935321807861),\n  ('steelers', 0.880749523639679),\n  ('pennington', 0.8804275989532471)],\n '2006': [('quarterback', 0.9017019867897034),\n  ('patriots', 0.874426543712616),\n  ('vikings', 0.8701546788215637),\n  ('dolphins', 0.8698483109474182),\n  ('steelers', 0.8694456815719604),\n  ('cowboys', 0.8654314279556274),\n  ('ravens', 0.8598604798316956),\n  ('broncos', 0.8586660027503967),\n  ('browns', 0.8523899912834167),\n  ('seattle', 0.8471534848213196)],\n '2007': [('chargers', 0.9566976428031921),\n  ('buccaneers', 0.9312744736671448),\n  ('ravens', 0.9223423600196838),\n  ('packers', 0.914108157157898),\n  ('49ers', 0.9119831919670105),\n  ('seahawks', 0.8954682350158691),\n  ('cowboys', 0.8934162259101868),\n  ('quarterback', 0.8924252986907959),\n  ('eagles', 0.8849897384643555),\n  ('vikings', 0.8837589621543884)],\n '2008': [('seahawks', 0.9401129484176636),\n  ('quarterback', 0.919957160949707),\n  ('chargers', 0.9111369848251343),\n  ('cowboys', 0.9044334888458252),\n  ('49ers', 0.9043347835540771),\n  ('redskins', 0.9001998901367188),\n  ('jets', 0.8928196430206299),\n  ('rangers', 0.8876249194145203),\n  ('patriots', 0.8873512744903564),\n  ('colts', 0.8865346908569336)],\n '2009': [('jets', 0.9169201254844666),\n  ('ravens', 0.9145559072494507),\n  ('patriots', 0.9085580110549927),\n  ('falcons', 0.9043482542037964),\n  ('steelers', 0.9026022553443909),\n  ('colts', 0.9013990759849548),\n  ('brady', 0.8998203873634338),\n  ('giants', 0.8945105075836182),\n  ('cardinals', 0.8937428593635559),\n  ('eagles', 0.8933985233306885)],\n '2010': [('vikings', 0.9296723008155823),\n  ('raiders', 0.924685537815094),\n  ('chargers', 0.9156837463378906),\n  ('jacksonville', 0.9117937088012695),\n  ('quarterback', 0.9093247056007385),\n  ('redskins', 0.9071609377861023),\n  ('broncos', 0.9063035249710083),\n  ('steelers', 0.9051779508590698),\n  ('patriots', 0.8904330134391785),\n  ('cowboys', 0.889702320098877)],\n '2011': [('patriots', 0.9254782199859619),\n  ('broncos', 0.9245043396949768),\n  ('packers', 0.918341875076294),\n  ('steelers', 0.9153525233268738),\n  ('cowboys', 0.9082358479499817),\n  ('ravens', 0.907483696937561),\n  ('colts', 0.8977952599525452),\n  ('raiders', 0.8908424377441406),\n  ('indianapolis', 0.8861538767814636),\n  ('dolphins', 0.8837717175483704)],\n '2012': [('falcons', 0.9358762502670288),\n  ('broncos', 0.9321466088294983),\n  ('seahawks', 0.9279190301895142),\n  ('cowboys', 0.9130846858024597),\n  ('colts', 0.9080843925476074),\n  ('49ers', 0.9076746106147766),\n  ('packers', 0.8996078968048096),\n  ('jaguars', 0.897129237651825),\n  ('romo', 0.8901164531707764),\n  ('panthers', 0.8883088827133179)],\n '2013': [('packers', 0.9411574602127075),\n  ('ravens', 0.9143583178520203),\n  ('patriots', 0.9122995734214783),\n  ('49ers', 0.9108966588973999),\n  ('cowboys', 0.9086935520172119),\n  ('redskins', 0.906792938709259),\n  ('quarterback', 0.9032341837882996),\n  ('colts', 0.9015669226646423),\n  ('eagles', 0.8982650637626648),\n  ('broncos', 0.8903522491455078)],\n '2014': [('broncos', 0.9219045042991638),\n  ('bengals', 0.9170437455177307),\n  ('chargers', 0.9153494238853455),\n  ('receiver', 0.9148644208908081),\n  ('seahawks', 0.904745876789093),\n  ('quarterback', 0.8965839147567749),\n  ('colts', 0.8904288411140442),\n  ('manning', 0.8861643075942993),\n  ('ravens', 0.8859977126121521),\n  ('jets', 0.885227620601654)],\n '2015': [('cowboys', 0.9237746000289917),\n  ('seahawks', 0.9140368103981018),\n  ('quarterback', 0.9121161699295044),\n  ('broncos', 0.9115679264068604),\n  ('packers', 0.9104750752449036),\n  ('patriots', 0.9082663059234619),\n  ('punt', 0.9055269956588745),\n  ('eagles', 0.9050511121749878),\n  ('denver', 0.9031362533569336),\n  ('steelers', 0.8876437544822693)],\n '2016': [('panthers', 0.909795880317688),\n  ('quarterback', 0.9024330973625183),\n  ('broncos', 0.8881915211677551),\n  ('newton', 0.8827296495437622),\n  ('islanders', 0.8733648061752319),\n  ('denver', 0.8670740723609924),\n  ('touchdown', 0.8570906519889832),\n  ('spurs', 0.850273072719574),\n  ('warriors', 0.8472061157226562),\n  ('defensive', 0.8429855704307556)]}"
     },
     "execution_count": 73,
     "metadata": {},
     "output_type": "execute_result"
    }
   ],
   "source": [
    "test_cade"
   ],
   "metadata": {
    "collapsed": false
   }
  },
  {
   "cell_type": "code",
   "execution_count": 72,
   "outputs": [
    {
     "data": {
      "text/plain": "{'1990': [('coupons', 0.3269244231294404),\n  ('fernandez', 0.29820825528036937),\n  ('395', 0.29652155447102096),\n  ('daily', 0.2908593507468572),\n  ('related', 0.2851201428327224),\n  ('fractures', 0.2828100473564472),\n  ('culmination', 0.2815798570250545),\n  ('169', 0.27766529108972404),\n  ('305', 0.2774162085694624),\n  ('year', 0.27398523747421605)],\n '1991': [('stereotype', 0.3036919148978866),\n  ('3', 0.29181292830373173),\n  ('345', 0.28334760559465877),\n  ('salary', 0.2770197660890292),\n  ('retired', 0.27536378364451286),\n  ('totaled', 0.2735152082960416),\n  ('1600', 0.26985182824201814),\n  ('role', 0.2693777286225959),\n  ('less', 0.26593032772666503),\n  ('growth', 0.2657923957223305)],\n '1992': [('daily', 0.2947119165234403),\n  ('rest', 0.29290064235063473),\n  ('worst', 0.2916314683526703),\n  ('strings', 0.2886845872485833),\n  ('street', 0.2880198734227336),\n  ('leading', 0.2837028220459335),\n  ('continuously', 0.2836514643097114),\n  ('onslaught', 0.2802192697043868),\n  ('pickles', 0.2788765747927696),\n  ('spoke', 0.2726456118535831)],\n '1993': [('430', 0.3656285887866973),\n  ('daily', 0.29581862657324576),\n  ('230', 0.2927879904239016),\n  ('grammy', 0.282551492263196),\n  ('1', 0.27854519679561884),\n  ('dare', 0.2767567436176943),\n  ('price', 0.2662181662279041),\n  ('year', 0.26543621256132777),\n  ('moreover', 0.2637451869342674),\n  ('gift', 0.26318362680062474)],\n '1994': [('17000', 0.3192094136483903),\n  ('advice', 0.2926758407313278),\n  ('festivals', 0.2915551251622979),\n  ('smaller', 0.28549757436339424),\n  ('person', 0.28475618958421706),\n  ('hour', 0.28180559692715446),\n  ('cbss', 0.28135655121164155),\n  ('spotted', 0.2799060918038822),\n  ('comparable', 0.2786545729390811),\n  ('generally', 0.27764790010665896)],\n '1995': [('1045', 0.33083155890382066),\n  ('takes', 0.3162934396959819),\n  ('true', 0.3016985040432429),\n  ('10', 0.29631840248975183),\n  ('ale', 0.29440460296780907),\n  ('typically', 0.2913974160705134),\n  ('work', 0.29021757813908095),\n  ('person', 0.2769376529973903),\n  ('price', 0.27623494915554453),\n  ('youngster', 0.27612320184548733)],\n '1996': [('awoke', 0.33456349318418915),\n  ('except', 0.30738912415960906),\n  ('earned', 0.30520405011898194),\n  ('609', 0.2997998126547534),\n  ('weekdays', 0.2898838781810025),\n  ('sweating', 0.289750001985305),\n  ('previous', 0.28375777115838535),\n  ('life', 0.2830796489656788),\n  ('hero', 0.2807548285372187),\n  ('420', 0.28021928380378297)],\n '1997': [('thrift', 0.30867373204527143),\n  ('farmed', 0.29440460296780907),\n  ('whiskey', 0.294404602967809),\n  ('learned', 0.28159271407964775),\n  ('characters', 0.27950687736175944),\n  ('owner', 0.27897133625479137),\n  ('earned', 0.27751383613377034),\n  ('10', 0.2765016365285341),\n  ('months', 0.2736627124064168),\n  ('4', 0.2674736294137133)],\n '1998': [('compared', 0.3250819276991543),\n  ('daily', 0.3146665251820999),\n  ('146', 0.29520826043210163),\n  ('5811212', 0.29440460296780907),\n  ('7191300', 0.29440460296780907),\n  ('845', 0.294404602967809),\n  ('3074747', 0.294404602967809),\n  ('2396200', 0.294404602967809),\n  ('macaroni', 0.29183934814041257),\n  ('racial', 0.2856220190719961)],\n '1999': [('416', 0.35842499252826676),\n  ('onbase', 0.3500803954342489),\n  ('life', 0.30869575156001355),\n  ('taxexempt', 0.3047926599204973),\n  ('daily', 0.2998369640896526),\n  ('worse', 0.2995061846943089),\n  ('3074747', 0.294404602967809),\n  ('shorter', 0.29064525754707654),\n  ('majors', 0.28655735865671694),\n  ('yorks', 0.28353453592990924)],\n '2000': [('184', 0.3126915818116191),\n  ('year', 0.3022793835584792),\n  ('3074747', 0.29440460296780907),\n  ('908', 0.294404602967809),\n  ('earned', 0.2923035736423839),\n  ('person', 0.28468292992364747),\n  ('premium', 0.28333339352620956),\n  ('65', 0.2816847013314427),\n  ('50', 0.2808961782664539),\n  ('character', 0.28077944191887366)],\n '2001': [('261', 0.32053925644018233),\n  ('229', 0.30931622779667894),\n  ('wednesdays', 0.29678362814027953),\n  ('batting', 0.2879935272577905),\n  ('daily', 0.2750736872479836),\n  ('day', 0.27395764407366613),\n  ('gets', 0.2728477269205543),\n  ('year', 0.2702641327272889),\n  ('considered', 0.26989313230251993),\n  ('exceeded', 0.2697115075937767)],\n '2002': [('major', 0.3150965319788664),\n  ('dangerous', 0.2981479453901527),\n  ('7191300', 0.294404602967809),\n  ('noel', 0.294404602967809),\n  ('daily', 0.2878903073485682),\n  ('63', 0.2847331666722682),\n  ('offered', 0.2834865323930366),\n  ('compared', 0.2790418052682512),\n  ('accepted', 0.2757679932127053),\n  ('252', 0.27137618930256513)],\n '2003': [('daily', 0.3116514567850103),\n  ('7191300', 0.294404602967809),\n  ('65', 0.2936373253474752),\n  ('price', 0.29188299158150655),\n  ('couples', 0.28938059389683657),\n  ('258', 0.2859837625673742),\n  ('skin', 0.2804788803870059),\n  ('rose', 0.2762881477032181),\n  ('career', 0.272490746709614),\n  ('58', 0.27144058164745216)],\n '2004': [('208', 0.31984498999092537),\n  ('7191300', 0.294404602967809),\n  ('gelder', 0.294404602967809),\n  ('handguns', 0.294404602967809),\n  ('chez', 0.294404602967809),\n  ('695', 0.29364263331787066),\n  ('year', 0.2882413708893975),\n  ('batting', 0.2869538837317478),\n  ('earned', 0.28118218603836337),\n  ('slope', 0.2780650237951713)],\n '2005': [('pancake', 0.30334469538160713),\n  ('ticket', 0.2987014860668956),\n  ('francois', 0.294404602967809),\n  ('arent', 0.2878613221467787),\n  ('active', 0.2858605483207318),\n  ('viewers', 0.2853517522566318),\n  ('laughed', 0.2827998964327828),\n  ('embrace', 0.2806594164909096),\n  ('husband', 0.27951545505365644),\n  ('dairy', 0.2784843117114276)],\n '2006': [('drank', 0.29835565632507344),\n  ('impressionist', 0.28937433881626096),\n  ('orchestrated', 0.2775392501669219),\n  ('takes', 0.272523782145931),\n  ('lakers', 0.26907939697566624),\n  ('295', 0.2687295664927432),\n  ('tried', 0.26489217460374703),\n  ('540', 0.2596985334816031),\n  ('feinsteins', 0.2596985334816031),\n  ('regency', 0.2596985334816031)],\n '2007': [('weight', 0.30864832262655034),\n  ('rose', 0.29946821857879724),\n  ('c', 0.29924231588811273),\n  ('rodman', 0.294404602967809),\n  ('var', 0.294404602967809),\n  ('cary', 0.294404602967809),\n  ('year', 0.2916287206189118),\n  ('earned', 0.28625469976638196),\n  ('lunch', 0.28320866019052815),\n  ('freedom', 0.2828355068965275)],\n '2008': [('year', 0.30561517225471696),\n  ('3', 0.3019033785698321),\n  ('train', 0.2999101311305481),\n  ('far', 0.29412103382747995),\n  ('literary', 0.2856429200708671),\n  ('conventional', 0.2847140084292247),\n  ('2', 0.283607148144406),\n  ('performed', 0.28231672805941826),\n  ('2007', 0.2814305275748266),\n  ('86', 0.2796006568944664)],\n '2009': [('open', 0.3218549453755265),\n  ('915', 0.30188735588050325),\n  ('158', 0.30117618199251167),\n  ('offered', 0.29774353126150993),\n  ('belt', 0.29603423454524136),\n  ('11000', 0.2913958399951223),\n  ('today', 0.2907182488707394),\n  ('se', 0.2886378415263173),\n  ('aimed', 0.28682118371827436),\n  ('10', 0.2850937939969646)],\n '2010': [('10', 0.31070774590157846),\n  ('colder', 0.30749883171613646),\n  ('127', 0.2954741120128385),\n  ('55', 0.2930773276271654),\n  ('similar', 0.2926371445219463),\n  ('growth', 0.28486158553237667),\n  ('slightly', 0.27938629384974895),\n  ('4', 0.27583661466883114),\n  ('offers', 0.2756711066047688),\n  ('40', 0.2744277737776149)],\n '2011': [('weekdays', 0.32689140409085116),\n  ('515', 0.3257040763464566),\n  ('shown', 0.3171157223212286),\n  ('somewhat', 0.29743744021093643),\n  ('cheat', 0.2937267848683636),\n  ('9', 0.2911686039296771),\n  ('217', 0.2882022298158119),\n  ('50', 0.287241355928584),\n  ('945', 0.286509680574865),\n  ('liberty', 0.28373048452363364)],\n '2012': [('1109', 0.3249892628201731),\n  ('year', 0.3046550122284529),\n  ('202', 0.30003257976899805),\n  ('376', 0.29968820093043336),\n  ('daily', 0.291375653376102),\n  ('217', 0.2891195418391061),\n  ('beneficiary', 0.2874128688465824),\n  ('railroad', 0.2830431241978999),\n  ('tuesdays', 0.2804080211109044),\n  ('sessions', 0.279439674519238)],\n '2013': [('2', 0.3072660194926393),\n  ('340', 0.3023643311808627),\n  ('344', 0.3011836314354294),\n  ('53', 0.29456017412841506),\n  ('rangel', 0.294404602967809),\n  ('morningside', 0.294404602967809),\n  ('376', 0.294404602967809),\n  ('less', 0.2938703207225794),\n  ('harvey', 0.28200154744327416),\n  ('equal', 0.27994481230172447)],\n '2014': [('42', 0.33870535757951636),\n  ('1109', 0.32326005089065957),\n  ('lucas', 0.2997898765861683),\n  ('daily', 0.29860353560510694),\n  ('10', 0.29709029103994933),\n  ('industrial', 0.29668927944858675),\n  ('author', 0.2867751831493854),\n  ('wedding', 0.28571678688613655),\n  ('growth', 0.28372977361764323),\n  ('year', 0.2828130771280095)],\n '2015': [('1250', 0.3285544427207442),\n  ('tutoring', 0.3111879101502757),\n  ('average', 0.3044020526846045),\n  ('threecourse', 0.294404602967809),\n  ('year', 0.29399062238943174),\n  ('100000', 0.29073368199429067),\n  ('10', 0.2906766372443148),\n  ('1986', 0.2890424654683099),\n  ('43rd', 0.2871992470013341),\n  ('344', 0.285920940343005)],\n '2016': [('156', 0.3127248521314141),\n  ('msg', 0.296019564174398),\n  ('clarinetist', 0.29440460296780907),\n  ('morningside', 0.29440460296780907),\n  ('sleek', 0.28774241463589695),\n  ('bored', 0.2876096854377118),\n  ('107', 0.2839281917696026),\n  ('2d', 0.27912085316494445),\n  ('matter', 0.2739112765700565),\n  ('13', 0.2737692149299352)]}"
     },
     "execution_count": 72,
     "metadata": {},
     "output_type": "execute_result"
    }
   ],
   "source": [
    "test_tppmi"
   ],
   "metadata": {
    "collapsed": false
   }
  },
  {
   "cell_type": "markdown",
   "source": [
    "# Experiment"
   ],
   "metadata": {
    "collapsed": false
   }
  },
  {
   "cell_type": "markdown",
   "source": [
    "To examine the quality of embedding alignment, we create a task to query equivalences across years.\n",
    "\n",
    "For example, given obama-2012, we want to query its equivalent word in 2002. As we know obama is the U.S. president in 2012; its equivalent in 2002 is bush, who was the U.S. president at that time. In this way, we create two testsets.\n",
    "\n",
    "All results are rounded to three decimal places."
   ],
   "metadata": {
    "collapsed": false
   }
  },
  {
   "cell_type": "code",
   "execution_count": null,
   "outputs": [],
   "source": [
    "cutoffs = [1, 3, 5, 10]\n",
    "list_of_types = [\"all\", \"static\", \"dynamic\"]\n",
    "\n",
    "list_of_data_cade = [[similarities_cade_all, test_data_1_all], [similarities_cade_static, test_data_1_static],\n",
    "                     [similarities_cade_dynamic, test_data_1_dynamic]]\n",
    "list_of_data_static = [[similarities_static_all, test_data_1_all], [similarities_static_static, test_data_1_static],\n",
    "                       [similarities_static_dynamic, test_data_1_dynamic]]\n",
    "\n",
    "config_dict_cade = {key: value for key, value in zip(list_of_types, list_of_data_cade)}\n",
    "config_dict_static = {key: value for key, value in zip(list_of_types, list_of_data_static)}\n",
    "\n",
    "scores_cade = {key: dict() for key in list_of_types}\n",
    "scores_static = {key: dict() for key in list_of_types}"
   ],
   "metadata": {
    "collapsed": false
   }
  },
  {
   "cell_type": "markdown",
   "source": [
    "## Mean Reciprocal Rank (@10)\n",
    "\n",
    "The Mean Reciprocal Rank (MRR) is a statistical measure used to evaluate the performance of a system that returns a ranked list of responses to queries. It is the average of the reciprocal ranks of the first correct answer for each query, where the reciprocal rank is the inverse of the rank at which the first relevant answer is found.\n",
    "It is evaluated @10"
   ],
   "metadata": {
    "collapsed": false
   }
  },
  {
   "cell_type": "markdown",
   "source": [
    "### TWEC"
   ],
   "metadata": {
    "collapsed": false
   }
  },
  {
   "cell_type": "code",
   "execution_count": null,
   "outputs": [],
   "source": [
    "for key, value in tqdm(config_dict_cade.items()):\n",
    "    scores_cade[key][\"mrr@10\"] = round(calculate_rank_metric(value[0], value[1], metric='MRR'), 3)"
   ],
   "metadata": {
    "collapsed": false
   }
  },
  {
   "cell_type": "markdown",
   "source": [
    "### Static Word2Vec"
   ],
   "metadata": {
    "collapsed": false
   }
  },
  {
   "cell_type": "code",
   "execution_count": null,
   "outputs": [],
   "source": [
    "for key, value in tqdm(config_dict_static.items()):\n",
    "    scores_static[key][\"mrr@10\"] = round(calculate_rank_metric_static(value[0], value[1], metric='MRR'), 3)"
   ],
   "metadata": {
    "collapsed": false
   }
  },
  {
   "cell_type": "markdown",
   "source": [
    "## Mean Precision (@K)\n",
    "\n",
    "As introduced by Yao et al.(2018) the MP@K is defined as such: consider the K words most similar to the query embedding for the given year. The Precision@K for a particular test i, represented as P@K[i], equals 1 if the target word appears within this set of K words; otherwise, it assumes a value of 0."
   ],
   "metadata": {
    "collapsed": false
   }
  },
  {
   "cell_type": "markdown",
   "source": [
    "### TWEC"
   ],
   "metadata": {
    "collapsed": false
   }
  },
  {
   "cell_type": "code",
   "execution_count": null,
   "outputs": [],
   "source": [
    "for key, value in tqdm(config_dict_cade.items()):\n",
    "    for k in cutoffs:\n",
    "        score_key = f\"mp@{k}\"\n",
    "        scores_cade[key][score_key] = round(calculate_rank_metric(value[0], value[1], metric='MP', k=k), 3)"
   ],
   "metadata": {
    "collapsed": false
   }
  },
  {
   "cell_type": "markdown",
   "source": [
    "### Static Word2Vec"
   ],
   "metadata": {
    "collapsed": false
   }
  },
  {
   "cell_type": "code",
   "execution_count": null,
   "outputs": [],
   "source": [
    "for key, value in tqdm(config_dict_static.items()):\n",
    "    for k in cutoffs:\n",
    "        score_key = f\"mp@{k}\"\n",
    "        scores_static[key][score_key] = round(calculate_rank_metric_static(value[0], value[1], metric='MP', k=k), 3)"
   ],
   "metadata": {
    "collapsed": false
   }
  },
  {
   "cell_type": "markdown",
   "source": [
    "## Results"
   ],
   "metadata": {
    "collapsed": false
   }
  },
  {
   "cell_type": "code",
   "execution_count": null,
   "outputs": [],
   "source": [
    "score_table_cade = pd.DataFrame(scores_cade).T\n",
    "score_table_static = pd.DataFrame(scores_static).T\n",
    "print(\"Scores of TWEC\")\n",
    "display(score_table_cade)\n",
    "print(\"Scores of Static Word2Vec (Baseline)\")\n",
    "display(score_table_static)"
   ],
   "metadata": {
    "collapsed": false
   }
  },
  {
   "cell_type": "markdown",
   "source": [
    "----------------------------------------------------------------------------------------------------------------\n",
    "----------------------------------------------------------------------------------------------------------------\n",
    "----------------------------------------------------------------------------------------------------------------"
   ],
   "metadata": {
    "collapsed": false
   }
  },
  {
   "cell_type": "markdown",
   "source": [
    "# Scrapyard"
   ],
   "metadata": {
    "collapsed": false
   }
  },
  {
   "cell_type": "code",
   "execution_count": null,
   "outputs": [],
   "source": [
    "def calculate_mean_reciprocal_rank_test(test_key: str, testcase: dict, test_data: pd.DataFrame):\n",
    "    print(test_key)\n",
    "    test_data_for_key = test_data[test_data[\"truth\"] == test_key]\n",
    "    print(\"test_data_for_key\")\n",
    "    print(f\"length: {len(test_data_for_key)}\")\n",
    "    print(test_data_for_key)\n",
    "    ranks = []\n",
    "    for key, value in testcase.items():\n",
    "        print(f\"Key: {key}\")\n",
    "        test_data_for_year = test_data_for_key[test_data_for_key[\"equivalent\"].str.endswith(key)]\n",
    "        word_list = [item[0] for item in value]\n",
    "        print(\"WORD-LIST\")\n",
    "        print(word_list)\n",
    "        if len(test_data_for_year) == 0:\n",
    "            print(\"CONTINUE\")\n",
    "            continue # this means that it is the same year as the word we want to test --> no need to calculate\n",
    "        print(\"test_data_for_year\")\n",
    "        print(test_data_for_year)\n",
    "        print(test_data_for_year[\"equivalent\"].iloc[0].split(\"-\")[0])\n",
    "        reciprocal_rank = calculate_reciprocal_rank(word_list, test_data_for_year[\"equivalent\"].iloc[0].split(\"-\")[0])\n",
    "        print(reciprocal_rank)\n",
    "        ranks.append(reciprocal_rank)\n",
    "\n",
    "    if ranks:  # Ensure division by zero does not occur\n",
    "        mrr = sum(ranks) / len(ranks)\n",
    "    else:\n",
    "        mrr = 0\n",
    "    return mrr"
   ],
   "metadata": {
    "collapsed": false
   }
  },
  {
   "cell_type": "code",
   "execution_count": null,
   "outputs": [],
   "source": [
    "def calculate_mrr_for_key(data_dict, key):\n",
    "    \"\"\"\n",
    "    Calculate the Mean Reciprocal Rank (MRR) for a given key in the data dictionary.\n",
    "\n",
    "    Parameters:\n",
    "    data_dict (dict): The dictionary containing years as keys and lists of word-score pairs as values.\n",
    "    key (str): The key in the dictionary to calculate MRR for. Assumes format 'word-year'.\n",
    "\n",
    "    Returns:\n",
    "    float: The MRR for the given key.\n",
    "    \"\"\"\n",
    "    test_word = key.split('-')[0]  # Assuming the \"test word\" is the part of the key before the hyphen\n",
    "    total_reciprocal_rank = 0\n",
    "    num_years = 0\n",
    "\n",
    "    for year, word_score_pairs in data_dict[key].items():\n",
    "        for rank, (word, score) in enumerate(word_score_pairs, start=1):\n",
    "            if word == test_word:\n",
    "                total_reciprocal_rank += 1.0 / rank\n",
    "                break  # Stop looking once the first instance of the test word is found\n",
    "        num_years += 1\n",
    "\n",
    "    # Calculate MRR\n",
    "    if num_years > 0:\n",
    "        return total_reciprocal_rank / num_years\n",
    "    else:\n",
    "        return 0.0  # Return 0 if there are no years/data to calculate MRR"
   ],
   "metadata": {
    "collapsed": false
   }
  },
  {
   "cell_type": "code",
   "execution_count": null,
   "outputs": [],
   "source": [
    "def get_similarities_of_model_manual(model, test_word, top_n = 10) -> list:\n",
    "    # Compute cosine similarity between specified embedding and all embeddings in the model\n",
    "    test_word_embedding = test_word[1]\n",
    "    word_similarities = dict()\n",
    "    for reference_word in model.wv.vocab:\n",
    "        reference_word_embedding = model.wv[reference_word]\n",
    "        similarity = 1 - spatial.distance.cosine(test_word_embedding, reference_word_embedding)\n",
    "        word_similarities[reference_word] = similarity\n",
    "\n",
    "    # Sort words by similarity\n",
    "    sorted_similarities = sorted(word_similarities.items(), key=lambda item: item[1], reverse=True)\n",
    "\n",
    "    print(\"Sorted Similarities\")\n",
    "    print(sorted_similarities[:top_n])\n",
    "\n",
    "    # Get top_n similar words\n",
    "    return sorted_similarities[:top_n]"
   ],
   "metadata": {
    "collapsed": false
   }
  }
 ],
 "metadata": {
  "kernelspec": {
   "display_name": "Python 3",
   "language": "python",
   "name": "python3"
  },
  "language_info": {
   "codemirror_mode": {
    "name": "ipython",
    "version": 2
   },
   "file_extension": ".py",
   "mimetype": "text/x-python",
   "name": "python",
   "nbconvert_exporter": "python",
   "pygments_lexer": "ipython2",
   "version": "2.7.6"
  }
 },
 "nbformat": 4,
 "nbformat_minor": 0
}
