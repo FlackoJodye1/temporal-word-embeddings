{
 "cells": [
  {
   "cell_type": "markdown",
   "source": [
    "# Creation of Sparse PPMI Embeddings"
   ],
   "metadata": {
    "collapsed": false
   }
  },
  {
   "cell_type": "code",
   "execution_count": 1,
   "outputs": [
    {
     "name": "stderr",
     "output_type": "stream",
     "text": [
      "[nltk_data] Downloading package punkt to\n",
      "[nltk_data]     /Users/paulschmitt/nltk_data...\n",
      "[nltk_data]   Package punkt is already up-to-date!\n"
     ]
    }
   ],
   "source": [
    "import glob\n",
    "import pickle\n",
    "import pandas as pd\n",
    "from pathlib import Path\n",
    "import util as tppmi_util\n",
    "from pprint import pprint\n",
    "from tqdm.notebook import tqdm\n",
    "from ppmi_model import PPMIModel\n",
    "\n",
    "import nltk\n",
    "nltk.download('punkt');"
   ],
   "metadata": {
    "collapsed": false
   }
  },
  {
   "cell_type": "markdown",
   "source": [
    "## Setup"
   ],
   "metadata": {
    "collapsed": false
   }
  },
  {
   "cell_type": "code",
   "execution_count": 2,
   "outputs": [],
   "source": [
    "DIR = Path(\"../../data\")\n",
    "size = \"medium\"\n",
    "split_type = \"monthly\"\n",
    "min_freq = 5 # large = 2, medium = 5, short = 500\n",
    "window_size = 5 # default word2vec window-size\n",
    "number_of_context_words = 500\n",
    "months = [\"Jun\", \"Jul\", \"Aug\", \"Sep\", \"Oct\", \"Nov\", \"Dec\", \"Jan\", \"Feb\", \"Mar\", \"Apr\"]\n",
    "month_codes = {\"Jun\": \"06\", \"Jul\": \"07\", \"Aug\": \"08\", \"Sep\": \"09\", \"Oct\": \"10\", \"Nov\": \"11\", \"Dec\": \"12\", \"Jan\": \"01\", \"Feb\": \"02\", \"Mar\": \"03\", \"Apr\": \"04\"}"
   ],
   "metadata": {
    "collapsed": false
   }
  },
  {
   "cell_type": "markdown",
   "source": [
    "## Build Corpus"
   ],
   "metadata": {
    "collapsed": false
   }
  },
  {
   "cell_type": "markdown",
   "source": [
    " /1. Texts of the entire dataset split into sentences"
   ],
   "metadata": {
    "collapsed": false
   }
  },
  {
   "cell_type": "code",
   "execution_count": 3,
   "outputs": [],
   "source": [
    "df = pd.read_csv(DIR / \"processed_data.csv\")\n",
    "df = df[[\"text\"]]"
   ],
   "metadata": {
    "collapsed": false
   }
  },
  {
   "cell_type": "code",
   "execution_count": 4,
   "outputs": [],
   "source": [
    "df = df.dropna()"
   ],
   "metadata": {
    "collapsed": false
   }
  },
  {
   "cell_type": "code",
   "execution_count": 5,
   "outputs": [],
   "source": [
    "corpus = ' '.join(df[\"text\"])"
   ],
   "metadata": {
    "collapsed": false
   }
  },
  {
   "cell_type": "code",
   "execution_count": 10,
   "outputs": [],
   "source": [
    "context_words = tppmi_util.get_most_common_words(corpus, top_n=number_of_context_words, remove_stopwords=False)"
   ],
   "metadata": {
    "collapsed": false
   }
  },
  {
   "cell_type": "code",
   "execution_count": 11,
   "outputs": [
    {
     "name": "stdout",
     "output_type": "stream",
     "text": [
      "['the', 'to', 'and', 'of', 'a', 'in', 'for', 'that', 'school', 'is', 'on', 'i', 'with', 'are', 'it',\n",
      " 'as', 'have', 'at', 'this', 'be', 'you', 'by', 'not', 'was', 'they', 'from', 'students', 'their',\n",
      " 'board', 'or', 'schools', 'but', 'an', 'we', 'has', 'said', 'who', 'about', 'its', 'all', 'will',\n",
      " 'my', 'he', 'if', 'more', 'were', 'people', 'our', 'so', 'what', 'race', 'can', 'parents',\n",
      " 'education', 'one', 'your', 'would', 'when', 'out', 'also', 'been', 'his', 'no', 'crt', 'children',\n",
      " 'up', 'do', 'them', 'new', 'like', 'which', 'just', 'she', 'public', 'teachers', 'had', 'her',\n",
      " 'covid', 'how', 'kids', 'other', 'after', 'some', 'there', 'year', 'state', 'because', 'get',\n",
      " 'dont', 'covid19', 'district', 'being', 'time', 'student', 'over', 'trans', 'than', 'us', 'now',\n",
      " 'me', 'rights', 'years', 'these', 'into', 'only', 'many', 'should', 'first', 'critical', 'high',\n",
      " 'any', 'theory', 'even', 'health', 'those', 'during', 'post', 'teacher', 'know', 'make', 'most',\n",
      " 'work', 'against', 'two', 'last', 'im', 'while', 'where', 'need', 'want', 'back', 'could', 'right',\n",
      " 'law', 'university', 'county', 'then', 'think', 'online', 'pandemic', 'author', 'say', 'day',\n",
      " 'through', 'see', 'diversity', 'community', 'college', 'did', 'well', 'states', 'members', 'still',\n",
      " 'boards', 'support', 'going', 'before', 'go', 'deleted', 'gender', 'books', 'may', 'way', 'local',\n",
      " 'book', 'every', 'why', 'take', 'news', 'use', 'learning', 'child', 'vaccine', 'made', 'teaching',\n",
      " 'much', 'mask', 'black', 'such', 'white', 'florida', '2022', 'here', 'good', 'down', 'same',\n",
      " 'meeting', 'since', 'government', 'help', 'parental', 'very', 'including', 'bill', 'staff',\n",
      " 'thats', 'really', 'says', 'according', 'desantis', 'masks', 'history', 'social', 'part', 'week',\n",
      " 'him', 'president', 'city', 'home', 'class', 'american', 'never', 'told', 'districts', 'group',\n",
      " 'across', 'too', '1', 'care', 'read', 'things', 'under', 'policy', 'country', 'got', 'didnt', 'am',\n",
      " 'national', '2', 'both', 'system', 'around', 'off', 'court', 'classroom', 'issues', 'own', 'house',\n",
      " 'another', 'taught', 'does', 'political', 'without', 'report', 'ban', 'free', 'three', 'federal',\n",
      " 'program', 'best', 'family', 'days', 'used', 'candidates', 'life', 'next', 'long', 'cant',\n",
      " 'doesnt', '3', 'vote', 'republican', 'medical', 'better', 'department', 'due', 'woke', 'keep',\n",
      " '2021', 'between', 'policies', 'different', 'election', 'place', 'police', 'found', 'world', 'lot',\n",
      " 'must', 'member', 'come', 'republicans', 'mandates', 'young', 'theyre', 'among', 'each', 'parent',\n",
      " 'media', 'put', 'having', 'give', 'change', 'today', 'youre', 'teach', 'information', 'something',\n",
      " 'look', 'mandate', 'actually', 'gay', 'making', 'getting', 'end', 'conservative', 'job', 'doing',\n",
      " 'biden', 'called', 'office', 'important', 'transgender', 'number', 'study', 'vaccines',\n",
      " 'officials', 'former', 'using', 'left', 'money', 'sex', 'show', 'banning', 'stop', 'working',\n",
      " 'case', 'racism', 'feel', 'thing', 'find', 'big', 'again', 'old', 'issue', '2020', 'always',\n",
      " 'already', 'lgbtq', 'texas', 'trying', 'superintendent', 'person', 'open', 'cases', 'course',\n",
      " 'research', 'sure', 'believe', 'groups', 'buy', 'away', 'few', 'million', 'able', 'isnt', 'love',\n",
      " 'based', 'however', 'times', 'others', 'elementary', 'saying', 'act', 'families', 'several',\n",
      " 'grade', 'point', 'until', 'great', 'start', 'america', 'plan', 'everyone', '5', 'curriculum',\n",
      " 'programs', 'full', 'meetings', 'least', 'governor', 'set', 'experience', 'identity', 'level',\n",
      " 'data', 'dr', '10', 'girls', 'bans', 'pay', 'might', 'less', 'within', 'needs', 'continue',\n",
      " 'legal', 'women', 'sexual', 'past', 'control', '4', 'little', 'required', 'real', 'ive', 'trump',\n",
      " 'action', 'equity', 'reading', 'order', 'learn', 'months', 'provide', 'access', 'classes',\n",
      " 'though', 'went', 'decision', 'theres', 'asked', 'whether', 'become', 'please', 'administration',\n",
      " 'test', 'far', 'name', 'ago', 'democrats', 'yet', 'training', 'month', '2023', 'recent', 'someone',\n",
      " 'done', 'top', 'video', 'team', 'academic', 'business', 'ever', 'took', 'man', '6', 'following',\n",
      " 'races', 'director', 'party', 'private', 'face', 'taking', 'enough', 'run', 'sports', 'monday',\n",
      " 'power', 'educational', 'higher', 'banned', 'statement', 'safety', 'story', 'inclusion', 'early',\n",
      " 'nothing', 'anything', 'wear', 'laws', 'classrooms', 'running', 'available', 'tell', 'center',\n",
      " 'age', 'campus', 'mental', 'let', 'committee', 'hard', 'gov', 'problem', 'instead', 'fact',\n",
      " 'funding', 'current', 'library', 'general', 'came', 'per', 'union', 'especially', 'services',\n",
      " 'once', 'started', 'four', 'seen', 'matter', 'special']\n"
     ]
    }
   ],
   "source": [
    "pprint(context_words, compact=True, width=100)"
   ],
   "metadata": {
    "collapsed": false
   }
  },
  {
   "cell_type": "markdown",
   "source": [
    "/2. Method for reading posts of specified months of the dataset"
   ],
   "metadata": {
    "collapsed": false
   }
  },
  {
   "cell_type": "code",
   "execution_count": 9,
   "outputs": [],
   "source": [
    "input_dir = DIR / f\"split/{split_type}\"\n",
    "csv_files = glob.glob(str(input_dir / \"*.csv\"))\n",
    "\n",
    "# filter for starting-months\n",
    "csv_files = [filename for filename in csv_files if filename.split(\"_to_\")[0][-3:] in months]\n",
    "\n",
    "# use dict to be able to identify the dfs later on\n",
    "splits = {}"
   ],
   "metadata": {
    "collapsed": false
   }
  },
  {
   "cell_type": "code",
   "execution_count": 10,
   "outputs": [],
   "source": [
    "for filename in csv_files:\n",
    "    df = pd.read_csv(filename)\n",
    "    splits[filename.split(\"_to_\")[0][-3:]] = df"
   ],
   "metadata": {
    "collapsed": false
   }
  },
  {
   "cell_type": "markdown",
   "source": [
    "## Build Model"
   ],
   "metadata": {
    "collapsed": false
   }
  },
  {
   "cell_type": "code",
   "execution_count": 11,
   "outputs": [
    {
     "data": {
      "text/plain": "  0%|          | 0/11 [00:00<?, ?it/s]",
      "application/vnd.jupyter.widget-view+json": {
       "version_major": 2,
       "version_minor": 0,
       "model_id": "a920a2d7613949c599bd616d0847695b"
      },
      "application/json": {
       "n": 0,
       "total": 11,
       "elapsed": 0.00403285026550293,
       "ncols": null,
       "nrows": null,
       "prefix": "",
       "ascii": false,
       "unit": "it",
       "unit_scale": false,
       "rate": null,
       "bar_format": null,
       "postfix": null,
       "unit_divisor": 1000,
       "initial": 0,
       "colour": null
      }
     },
     "metadata": {},
     "output_type": "display_data"
    }
   ],
   "source": [
    "ppmi_models = {key: PPMIModel.construct_from_texts(value, context_words=context_words, min_freq=min_freq) for key, value in tqdm(splits.items())}"
   ],
   "metadata": {
    "collapsed": false
   }
  },
  {
   "cell_type": "code",
   "execution_count": 12,
   "outputs": [],
   "source": [
    "ppmi_model = ppmi_models[next(iter(ppmi_models))]"
   ],
   "metadata": {
    "collapsed": false
   }
  },
  {
   "cell_type": "code",
   "execution_count": 13,
   "outputs": [
    {
     "data": {
      "text/plain": "array([[1.93726214e-01, 0.00000000e+00, 2.63862636e-03, ...,\n        0.00000000e+00, 0.00000000e+00, 0.00000000e+00],\n       [0.00000000e+00, 1.05091684e-01, 0.00000000e+00, ...,\n        1.67940210e+00, 1.67940210e+00, 1.67940210e+00],\n       [9.18289548e-01, 0.00000000e+00, 1.11161366e+00, ...,\n        2.84119326e+00, 2.84119326e+00, 2.84119326e+00],\n       ...,\n       [2.03636184e-01, 0.00000000e+00, 1.09278223e-01, ...,\n        2.12653990e+00, 2.12653990e+00, 2.12653990e+00],\n       [0.00000000e+00, 5.41647357e-01, 0.00000000e+00, ...,\n        2.62678340e+00, 2.62678340e+00, 2.62678340e+00],\n       [0.00000000e+00, 0.00000000e+00, 1.45204632e+00, ...,\n        2.17002501e+00, 2.17002501e+00, 2.17002501e+00]])"
     },
     "execution_count": 13,
     "metadata": {},
     "output_type": "execute_result"
    }
   ],
   "source": [
    "ppmi_model.compute_ppmi_matrix()"
   ],
   "metadata": {
    "collapsed": false
   }
  },
  {
   "cell_type": "code",
   "execution_count": 14,
   "outputs": [
    {
     "data": {
      "text/plain": "(12243, 20000)"
     },
     "execution_count": 14,
     "metadata": {},
     "output_type": "execute_result"
    }
   ],
   "source": [
    "ppmi_model.ppmi_matrix.shape"
   ],
   "metadata": {
    "collapsed": false
   }
  },
  {
   "cell_type": "code",
   "execution_count": 15,
   "outputs": [
    {
     "data": {
      "text/plain": "dict_keys(['Mar', 'Jan', 'Feb', 'Jun', 'Sep', 'Apr', 'Oct', 'Aug', 'Dec', 'Nov', 'Jul'])"
     },
     "execution_count": 15,
     "metadata": {},
     "output_type": "execute_result"
    }
   ],
   "source": [
    "ppmi_models.keys()"
   ],
   "metadata": {
    "collapsed": false
   }
  },
  {
   "cell_type": "markdown",
   "source": [
    "Quick Check"
   ],
   "metadata": {
    "collapsed": false
   }
  },
  {
   "cell_type": "code",
   "execution_count": 16,
   "outputs": [],
   "source": [
    "test = ppmi_models[\"Sep\"]\n",
    "#test.get_as_df().head(10)"
   ],
   "metadata": {
    "collapsed": false
   }
  },
  {
   "cell_type": "code",
   "execution_count": 17,
   "outputs": [
    {
     "data": {
      "text/plain": "(10444, 20000)"
     },
     "execution_count": 17,
     "metadata": {},
     "output_type": "execute_result"
    }
   ],
   "source": [
    "test.get_shape() # vocab x context_words"
   ],
   "metadata": {
    "collapsed": false
   }
  },
  {
   "cell_type": "markdown",
   "source": [
    "## Vocab"
   ],
   "metadata": {
    "collapsed": false
   }
  },
  {
   "cell_type": "code",
   "execution_count": 18,
   "outputs": [
    {
     "name": "stdout",
     "output_type": "stream",
     "text": [
      "Vocabulary size of timestep Mar: 12243\n",
      "Vocabulary size of timestep Jan: 11687\n",
      "Vocabulary size of timestep Feb: 10446\n",
      "Vocabulary size of timestep Jun: 9760\n",
      "Vocabulary size of timestep Sep: 10444\n",
      "Vocabulary size of timestep Apr: 10208\n",
      "Vocabulary size of timestep Oct: 13448\n",
      "Vocabulary size of timestep Aug: 11428\n",
      "Vocabulary size of timestep Dec: 11992\n",
      "Vocabulary size of timestep Nov: 13232\n",
      "Vocabulary size of timestep Jul: 10295\n"
     ]
    }
   ],
   "source": [
    "for key, ppmi_model in ppmi_models.items():\n",
    "    print(f\"Vocabulary size of timestep {key}: {ppmi_model.get_vocabulary_size()}\")"
   ],
   "metadata": {
    "collapsed": false
   }
  },
  {
   "cell_type": "markdown",
   "source": [
    "## Compute PPMI Matrix"
   ],
   "metadata": {
    "collapsed": false
   }
  },
  {
   "cell_type": "markdown",
   "source": [
    "### Calulate & Save"
   ],
   "metadata": {
    "collapsed": false
   }
  },
  {
   "cell_type": "code",
   "execution_count": 19,
   "outputs": [
    {
     "name": "stdout",
     "output_type": "stream",
     "text": [
      "Number of context-words: 20000\n",
      "PPMI data for 03 saved successfully.\n",
      "Vocabulary Size: 12243\n",
      "PPMI data for 01 saved successfully.\n",
      "Vocabulary Size: 11687\n",
      "PPMI data for 02 saved successfully.\n",
      "Vocabulary Size: 10446\n",
      "PPMI data for 06 saved successfully.\n",
      "Vocabulary Size: 9760\n",
      "PPMI data for 09 saved successfully.\n",
      "Vocabulary Size: 10444\n",
      "PPMI data for 04 saved successfully.\n",
      "Vocabulary Size: 10208\n",
      "PPMI data for 10 saved successfully.\n",
      "Vocabulary Size: 13448\n",
      "PPMI data for 08 saved successfully.\n",
      "Vocabulary Size: 11428\n",
      "PPMI data for 12 saved successfully.\n",
      "Vocabulary Size: 11992\n",
      "PPMI data for 11 saved successfully.\n",
      "Vocabulary Size: 13232\n",
      "PPMI data for 07 saved successfully.\n",
      "Vocabulary Size: 10295\n",
      "--------------- done ---------------\n"
     ]
    }
   ],
   "source": [
    "output_dir = DIR / f\"ppmi-matrices/split/{number_of_context_words}\"\n",
    "output_dir.mkdir(parents=True, exist_ok=True)\n",
    "\n",
    "# save common context-words\n",
    "print(f\"Number of context-words: {len(context_words)}\")\n",
    "with open(output_dir / f\"context-words.pkl\", \"wb\") as f:\n",
    "    pickle.dump(context_words, f)\n",
    "\n",
    "# save vocab and ppmi-matrices\n",
    "for key, ppmi_model in ppmi_models.items():\n",
    "    ppmi_model.compute_ppmi_matrix(window_size=window_size)\n",
    "    ppmi_model.save(month_codes[key], output_dir)\n",
    "print(\"--------------- done ---------------\")"
   ],
   "metadata": {
    "collapsed": false
   }
  },
  {
   "cell_type": "markdown",
   "source": [
    " ### Control"
   ],
   "metadata": {
    "collapsed": false
   }
  },
  {
   "cell_type": "code",
   "execution_count": 20,
   "outputs": [],
   "source": [
    "'''vocab_all = set()\n",
    "\n",
    "for _, ppmi_model in ppmi_models.items():\n",
    "    vocab_all.update(ppmi_model.vocab)''';"
   ],
   "metadata": {
    "collapsed": false
   }
  },
  {
   "cell_type": "code",
   "execution_count": 21,
   "outputs": [],
   "source": [
    "# len(vocab_all)"
   ],
   "metadata": {
    "collapsed": false
   }
  },
  {
   "cell_type": "code",
   "execution_count": 22,
   "outputs": [],
   "source": [
    "'''manual_dir = Path(\"../../data/ppmi-matrices/old_quarter\")\n",
    "with open(manual_dir / f\"context-words.pkl\", \"wb\") as f:\n",
    "    pickle.dump(list(vocab_all), f)''';"
   ],
   "metadata": {
    "collapsed": false
   }
  },
  {
   "cell_type": "markdown",
   "source": [
    "## Save"
   ],
   "metadata": {
    "collapsed": false
   }
  },
  {
   "cell_type": "code",
   "execution_count": 23,
   "outputs": [],
   "source": [
    "''''# Add quotechars to row and column names\n",
    "ppmi_matrix_df.index = '\"' + ppmi_matrix_df.index + '\"'\n",
    "ppmi_matrix_df.columns = '\"' + ppmi_matrix_df.columns + '\"''';"
   ],
   "metadata": {
    "collapsed": false
   }
  },
  {
   "cell_type": "code",
   "execution_count": 24,
   "outputs": [],
   "source": [
    "'''filename = f\"ppmi-2022-{month_code}-01.txt\"\n",
    "ppmi_path = DIR / \"ppmi-matrices\"\n",
    "\n",
    "ppmi_path.mkdir(parents=True, exist_ok=True)\n",
    "#ppmi_matrix_df.to_csv(ppmi_path / filename, sep=\" \", index=True, quoting=3)''';"
   ],
   "metadata": {
    "collapsed": false
   }
  },
  {
   "cell_type": "code",
   "execution_count": 25,
   "outputs": [],
   "source": [
    "'''print(f\"{month}({month_code}) - done\")\n",
    "   print(f\"Vocabulary-Size: {ppmi_model.get_vocabulary_size()}\")''';"
   ],
   "metadata": {
    "collapsed": false
   }
  }
 ],
 "metadata": {
  "kernelspec": {
   "display_name": "Python 3",
   "language": "python",
   "name": "python3"
  },
  "language_info": {
   "codemirror_mode": {
    "name": "ipython",
    "version": 2
   },
   "file_extension": ".py",
   "mimetype": "text/x-python",
   "name": "python",
   "nbconvert_exporter": "python",
   "pygments_lexer": "ipython2",
   "version": "2.7.6"
  }
 },
 "nbformat": 4,
 "nbformat_minor": 0
}
