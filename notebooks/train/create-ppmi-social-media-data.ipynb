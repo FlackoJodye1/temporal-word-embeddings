{
 "cells": [
  {
   "cell_type": "markdown",
   "source": [
    "# Creation of Sparse PPMI Embeddings for the Social Media Dataset"
   ],
   "metadata": {
    "collapsed": false
   }
  },
  {
   "cell_type": "code",
   "execution_count": 1,
   "outputs": [
    {
     "name": "stderr",
     "output_type": "stream",
     "text": [
      "[nltk_data] Downloading package punkt to\n",
      "[nltk_data]     /Users/paulschmitt/nltk_data...\n",
      "[nltk_data]   Package punkt is already up-to-date!\n"
     ]
    }
   ],
   "source": [
    "import glob\n",
    "import pickle\n",
    "import pandas as pd\n",
    "from pathlib import Path\n",
    "from pprint import pprint\n",
    "from tqdm.notebook import tqdm\n",
    "\n",
    "import sys\n",
    "sys.path.append('../../')\n",
    "\n",
    "from src.packages.TPPMI.ppmi_model import PPMIModel\n",
    "import src.packages.TPPMI.util as tppmi_util\n",
    "\n",
    "import nltk\n",
    "#nltk.download('punkt');"
   ],
   "metadata": {
    "collapsed": false
   }
  },
  {
   "cell_type": "markdown",
   "source": [
    "## Setup"
   ],
   "metadata": {
    "collapsed": false
   }
  },
  {
   "cell_type": "code",
   "execution_count": 2,
   "outputs": [],
   "source": [
    "DATA_DIR = Path(\"../../data\")\n",
    "input_dir =  DATA_DIR / \"processed\" / \"social-media-data\"\n",
    "split_type = \"monthly\"\n",
    "min_freq = 5\n",
    "window_size = 5 # default word2vec window-size\n",
    "number_of_context_words = 500\n",
    "months = [\"Jun\", \"Jul\", \"Aug\", \"Sep\", \"Oct\", \"Nov\", \"Dec\", \"Jan\", \"Feb\", \"Mar\", \"Apr\"]\n",
    "month_codes = {\"Jun\": \"06\", \"Jul\": \"07\", \"Aug\": \"08\", \"Sep\": \"09\", \"Oct\": \"10\", \"Nov\": \"11\", \"Dec\": \"12\", \"Jan\": \"01\", \"Feb\": \"02\", \"Mar\": \"03\", \"Apr\": \"04\"}"
   ],
   "metadata": {
    "collapsed": false
   }
  },
  {
   "cell_type": "markdown",
   "source": [
    "## Sample context words"
   ],
   "metadata": {
    "collapsed": false
   }
  },
  {
   "cell_type": "code",
   "execution_count": 163,
   "outputs": [],
   "source": [
    "df = pd.read_csv(input_dir / \"processed_data.csv\")\n",
    "df = df[[\"text\"]]"
   ],
   "metadata": {
    "collapsed": false
   }
  },
  {
   "cell_type": "code",
   "execution_count": 164,
   "outputs": [],
   "source": [
    "df = df.dropna()"
   ],
   "metadata": {
    "collapsed": false
   }
  },
  {
   "cell_type": "code",
   "execution_count": 165,
   "outputs": [],
   "source": [
    "corpus = ' '.join(df[\"text\"])"
   ],
   "metadata": {
    "collapsed": false
   }
  },
  {
   "cell_type": "code",
   "execution_count": 166,
   "outputs": [],
   "source": [
    "top_n = max(2 * number_of_context_words, 2000)\n",
    "context_words = tppmi_util.sample_from_most_common_words(corpus, top_n=top_n,\n",
    "                                                         sample_size=number_of_context_words, remove_stopwords=False)"
   ],
   "metadata": {
    "collapsed": false
   }
  },
  {
   "cell_type": "code",
   "execution_count": 167,
   "outputs": [
    {
     "name": "stdout",
     "output_type": "stream",
     "text": [
      "['dam', 'excuses', 'honestly', 'arbor', 'prevalence', 'wasted', 'unlike', 'method', 'gift', 'juicy',\n",
      " 'tries', 'immigrant', 'grace', 'rico', 'bikes', 'remarks', 'failed', 'backs', 'entity', 'scores',\n",
      " 'au', 'police', 'highest', 'relationship', 'declines', 'child', 'genitalia', 'indeed', 'money',\n",
      " 'marks', 'slot', '75', 'component', 'seattle', 'viewed', '78', 'dear', 'homosexual', 'lead',\n",
      " 'delivering', 'inclusive', 'edge', 'locking', 'cycles', 'sins', 'susan', 'coast', 'commitments',\n",
      " 'vaxxed', 'rolled', 'ed', 'diana', 'medicine', 'systems', 'transportation', 'applies', 'closet',\n",
      " 'prevention', '14', 'combine', 'original', 'narratives', 'recognizes', 'fit', 'museums',\n",
      " 'fascinating', 'another', 'alone', 'medium', 'ones', 'exclude', 'explore', 'relentless', 'sending',\n",
      " 'cbs', 'maam', 'secretary', 'hb', 'pose', 'political', 'luck', 'transport', 'junior',\n",
      " 'therapeutic', 'sources', 'fascist', 'inner', 'organizational', 'milf', 'origins', 'dirty',\n",
      " 'teeth', 'intended', 'b', 'weight', 'literary', 'nowadays', 'twice', 'applicable', 'investigated',\n",
      " 'guards', 'inject', '3rd', 'counting', 'causes', 'creates', 'daniel', 'blocking', 'attracted',\n",
      " 'kennedy', 'published', 'chapek', 'ill', 'communication', 'gunman', 'counterparts', 'max',\n",
      " 'inclined', 'judicialwatch', 'duncan', 'person', 'mps', 'frontline', 'carried', 'discriminatory',\n",
      " 'leg', 'blowing', 'masks', 'canadas', 'lets', 'caring', 'theythem', 'jr', 'thrilled', 'upholding',\n",
      " 'politics', 'torn', 'walk', 'understood', 'nancy', 'sucks', 'fbi', 'alternative', 'noise', 'work',\n",
      " 'uganda', 'addiction', 'rides', 'stanley', 'marry', 'judiciary', 'keith', 'faculty', 'budgets',\n",
      " 'inevitably', 'putting', 'yard', 'zone', 'resign', 'depression', 'runoff', 'paint', 'objecting',\n",
      " 'module', 'hanging', 'atheist', 'notices', 'soldiers', 'aged', 'babe', 'davis', 'nor9t', 'smooth',\n",
      " 'costly', 'vaccine', 'educators', '2000s', 'examined', 'umbrella', 'hears', 'shop', 'uproar',\n",
      " 'populations', 'bodycam', 'restroom', 'underserved', 'nea', 'applicants', 'classroom', 'leap',\n",
      " 'photographer', 'authored', 'beneficial', 'walkout', 'denied', 'words', '12yearold', 'youngkin',\n",
      " 'mentor', 'treat', 'jesse', 'demanded', 'apologize', 'border', 'boost', 'street', 'role',\n",
      " 'conscious', 'noted', 'relative', 'phone', '1557', 'c', 'probe', 'detection', 'make', 'cannabis',\n",
      " 'athletics', 'better', 'classics', 'recently', 'signatures', 'defended', 'answered', 'male',\n",
      " 'solid', '57', 'admitted', 'assisted', 'restriction', 'consumption', 'thats', 'accused', 'lives',\n",
      " 'pursuit', 'pushed', 'certification', 'cdcs', 'tutoring', 'boebert', 'interactive', 'monica',\n",
      " 'politicized', 'dictate', 'governing', 'hostile', 'compilation', 'acquisition', 'itunes',\n",
      " 'gostosa', 'credited', 'hhs', 'attachment', 'appropriately', 'pivot', 'decent', 'dennis', 'oliver',\n",
      " 'attached', 'establish', 'moore', 'broke', 'aging', 'injunction', 'resist', 'vibrant', 'handling',\n",
      " 'immoral', 'fee', 'british', 'withdrew', '15', 'royalty', 'strip', 'permitted', 'opt', 'horrific',\n",
      " 'academies', 'awful', 'participant', 'resources', 'natasha', 'loved', 'emily', 'describes',\n",
      " 'marxism', 'return', 'harassing', 'alexandria', 'bachelor', 'attended', 'grey', 'islander',\n",
      " 'uniform', 'teresa', 'concerning', 'culture', 'perspective', 'stephen', 'impose', 'jerry',\n",
      " 'felony', 'iep', 'forming', 'advise', 'academically', 'answers', 'functioning', 'ali', 'snow',\n",
      " 'ohios', 'termination', 'appeals', 'voice', 'blames', 'dept', 'cleveland', 'nysar7', 'vietnam',\n",
      " 'sad', 'carolina', 'briefing', 'warming', 'tentative', '82', 'shit', 'advertising', 'reelected',\n",
      " 'johnson', 'respectfully', 'worker', 'cancel', 'signal', 'foundation', 'ball', 'masquerading',\n",
      " 'defunding', 'burns', 'valenzuela', 'casey', 'greatest', 'historic', 'salt', 'unethical', 'mumbai',\n",
      " 'spotted', 'insist', 'groom', 'celebration', 'pathetic', 'raping', 'crt1', 'array', 'facilitating',\n",
      " 'chassis', 'marking', 'decision', 'smaller', 'transitions', 'humans', 'major', 'monday',\n",
      " 'responders', 'sexist', '51', 'newspaper', 'teacher', 'dubbed', 'sites', 'stepmom', 'divisive',\n",
      " '2d', 'treasurer', 'walker', 'genders', 'nursery', 'rn', 'liberation', 'alberta', 'view',\n",
      " 'wonderful', 'ugly', 'deadlines', 'playbook', 'stuffed', 'sounds', 'episode', 'bps', 'cried',\n",
      " 'adequate', 'begun', 'shaders', 'magically', 'allocation', 'rental', 'stressful', '19th',\n",
      " 'lecturer', 'schoolchildren', 'navigate', 'ruby', 'fcps', 'championships', 'assessed', 'ta',\n",
      " 'colored', 'alongside', 'foundations', '1500', 'freaking', 'pcr', 'reforms', 'heterosexual',\n",
      " 'iowa', 'necessarily', 'incredible', 'distrust', 'secular', 'isnt', 'campus', 'grammar',\n",
      " 'antisemitic', 'raging', 'commented', 'metropolitan', '52', 'africanamerican', 'neck', 'mentoring',\n",
      " 'posing', 'generational', 'buffalo', 'ineffective', 'artists', 'born', 'v1', 'incidents',\n",
      " 'suzanne', 'shapiro', 'reduce', 'questionnaire', 'va', 'definitions', 'fixing', 'yea', 'chemical',\n",
      " 'quantity', 'tools', 'boosting', 'ramifications', '76', 'hammer', 'associations', 'alnm6',\n",
      " 'statelevel', 'fifteen', 'getting', 'casino', 'side', 'museum', 'francisco', 'dental', 'lowest',\n",
      " 'plastic', 'unaware', 'girl', 'expect', 'ears', 'harass', 'cdcgov', 'reacted', 'unemployment',\n",
      " 'raised', 'reduces', 'falls', 'cover', 'doctors', 'charleston', '313jui', 'today', 'ideology',\n",
      " 'remains', 'respond', 'elements', 'knives', 'profession', 'emerging', 'competent', 'hdmi',\n",
      " 'adjusting', 'yup', 'newest', '41', 'wealthy', 'grave', 'pointed', 'fell', 'recovered', 'pee',\n",
      " 'twenty', 'momentum', 'need', 'remember', 'mills', 'demvoice1', 'internship', 'troubled', '12th',\n",
      " 'nazi', 'overtime', 'lease', 'abigail', 'pure', 'detention', 'units', 'pencil', 'christ',\n",
      " 'sustain', 'insurance', 'latino', 'endless', 'unanimously', '26', 'exams', 'combat', 'privilege',\n",
      " 'spanish', 'grandma', 'hike', 'details', 'zones', 'cindy', 'poison', 'bill', 'expense', 'related',\n",
      " 'resignation', 'tomfitton', 'wisdom', 'tallahassee', 'docs', 'onto', 'mistakes', 'appropriate',\n",
      " 'carrie', 'moderate', 'shoes', 'image', 'hrs', 'carbon', 'department', 'criticize', 'men',\n",
      " 'hundreds', '53', 'parks', 'grandmother', 'iron', 'uni', 'coach', 'grew', 'discouraged',\n",
      " 'messages', 'every', '5k', 'basketball', 'tax', 'clark', 'maskwearing', 'krystal', 'ideologies',\n",
      " 'respondents', 'decade', 'viewing', 'mood', 'anniversary', 'awareness', 'vaxx', 'hiding', 'dont',\n",
      " 'producing', 'charged', 'wire', 'msnbc', 'appalling', 'c19', 'declaration', 'temple', 'resolve',\n",
      " 'quarter', 'empowered', 'accompanying', 'trend', '29', 'trump', 'cringe', 'must', 'span',\n",
      " 'arrests', 'lancaster', 'interpreted', 'recipient', 'websites', 'collaborative', 'equal',\n",
      " 'suitable', 'wider', 'shitty', 'assignments', 'writer', 'bradley', 'namely', 'couple', 'annual',\n",
      " 'enjoyed', 'influences', 'youll', 'gotten', 'bout', 'vacant', 'judges', 'big', 'ib', 'moment',\n",
      " 'hosted', 'admin', 'hardworking', 'gave', 'arose', 'region', 'arms', 'drastically', 'surged',\n",
      " 'teaches', 'objection', 'mexico', 'asking', 'matches', 'isolating', 'objective', 'mandates',\n",
      " 'prioritize', 'movies', 'editorial', 'encourages', 'hillsdale', 'watching', 'laptops', 'm4l',\n",
      " 'conduct', 'postcovid', 'devoted', 'abroad', 'ableg', 'branches', 'way', 'renee', 'specify',\n",
      " 'weekend', 'legislature', 'seemingly', 'rep', 'constitutes', 'safer', 'lottery', '1200', 'vocal',\n",
      " 'blaming', 'severity', 'dem', 'abide', 'stopped', 'eve', 'nov', 'bud', 'crt251', 'contacted',\n",
      " 'muslims', 'pump', 'pounds', 'told', 'phillips', 'bed', 'prejudice', 'forever', 'adolescent',\n",
      " 'agreed', 'sell', 'rulings', 'shot', 'fauci', 'crash', 'presents', 'custody', 'brazil', 'size',\n",
      " 'yell', 'useful', 'oil', 'adoption', 'explicit', 'farleft', 'potter', 'archive', 'boosters',\n",
      " 'twisted', 'disrupted', 'foia', 'personnel', 'nevertheless', 'internationally', 'adult', 'walton',\n",
      " 'incorporating', 'chances', 'system', 'worrying', 'screaming', 'library', 'staffing',\n",
      " 'certificate', 'racist', 'compensate', 'widespread', 'tech', 'singer', 'referenced', 'acted',\n",
      " 'fashion', 'roy', 'injustices', 'lone', 'grid', 'dream', 'showed', 'pov', 'read', 'repayment',\n",
      " 'table', 'progressives', 'king', 'needs', 'individualized', 'standardized', 'survive',\n",
      " 'vaccination', 'cooperation', 'minorities', 'pastors', 'centered', 'locks', 'parish',\n",
      " 'epidemiology', '1989', 'quest', 'intelligent', 'rank', 'discipline', 'silly', 'continually',\n",
      " 'noble', 'participating', 'politico', 'bad', 'waiting', 'ambitious', 'approaching', 'forefront',\n",
      " 'ray', 'trainer', 'reading', 'mum', 'targets', 'nyu', 'viral', 'sexuality', 'parental', 'jerk',\n",
      " 'tx', 'convert', 'european', 'taxes', 'calling', 'wildly', 'rick', 'onethird', 'ensuring',\n",
      " 'motion', 'normal', 'civic', 'brand', 'statutes', 'dose', 'flags', 'bot', 'wellknown', 'grad',\n",
      " 'database', 'flexible', 'edmonton', 'ice', 'rifle', 'symbol', 'rise', 'dividing', 'emotionally',\n",
      " 'responds', '18yearold', 'quoted', '34', 'grader', 'tier', 'locally', 'recruiting', 'none',\n",
      " 'manual', 'donate', 'nra', 'owners', 'courageous', 'operations', 'genderaffirming', 'pedophiles',\n",
      " 'trophy', 'authorization', 'charge', 'admitting', 'privately', 'doug', 'superintendents', 'tribe',\n",
      " 'tau', 'ms', 'negotiations', 'texans', 'brief', 'contentious', 'clerk', 'substitute',\n",
      " 'healthbyjames', 'institute', 'cable', 'disappointment', 'scholarships', 'strikes', 'disclose',\n",
      " 'virtue', 'theyve', 'minimizers', 'striking', 'fulfilling', 'aligned', 'disability', 'neighboring',\n",
      " 'unc', 'saudi', 'involved', 'fitness', 'grow', 'majorities', 'vhs', 'asian', 'compensation',\n",
      " 'hated', 'bivalent', 'supposed', 'dissent', 'potus', 'k3', 'risks', 'ho', 'visited', '4n11',\n",
      " 'reluctant', 'shaped', 'elon', 'write', 'fridays', '22', 'testimony', 'written', 'bully',\n",
      " 'manufacturing', 'boring', 'thorough', 'strange', 'securing', 'perpetuate', 'interview',\n",
      " 'suggests', 'exploration', 'stores', 'productive', 'legitimate', 'shall', 'travis', 'wi',\n",
      " 'closure', 'hidden', 'frustration', 'math', 'covid19', 'chapel', 'subpoenas', 'completely', 'sake',\n",
      " 'regulated', 'confirms', 'williamson', 'trafalgar', 'relying', 'future', 'worse', 'filmed',\n",
      " 'selfregulation', 'maga', 'simulation', 'immunocompromised', 'covidrelated', 'ultrafeminism',\n",
      " 'pandemics', 'elite', 'prior', 'letter', 'samsung', 'message', 'elses', 'theyll', 'indictment',\n",
      " 'pleaded', 'observe', 'likewise', 'completing', 'variant', 'feeling', 'province', 'mountains',\n",
      " 'sometimes', 'two', 'preview', 'resynchronization', 'transformation', 'pm', 'equally',\n",
      " 'againstgrmrs', 'epoch', 'unusual', 'truthful', 'amiga', 'portrayed', 'title', 'run', 'perverts',\n",
      " 'nintendo', 'simpson', 'decisions', 'absence', 'enacting', 'regulate', 'surgeries', 'portland',\n",
      " 'chooses', 'fierce', 'institution', 'containing', 'implemented', 'respecting', 'nsw', 'diary',\n",
      " 'censor', 'marion', 'slavery', 'adjust', 'unconstitutional', 'notification', 'humanitarian',\n",
      " 'engineering', 'threatened', 'unite', 'vehicles', 'riding', 'via', 'corrected', 'daring',\n",
      " 'endorsements', 'engineer', 'discount', 'tend', 'transgenderism', 'berkeley', 'caregiver',\n",
      " 'traffic', 'cheaper', '21st', 'revenge', 'funds', 'socialism', 'johnsons', 'gops', 'draws',\n",
      " 'transitioning', 'inevitable', 'syndrome', 'invite', 'kok', 'soil', 'focusing', 'serve', 'bbw',\n",
      " 'interventions', 'input', 'liability', 'murder', 'wyoming', 'severe', 'conditioning', 'identity',\n",
      " 'recalls', 'shirts', 'suggest', 'delaware', 'integrate', 'horror', 'residents', 'occasion',\n",
      " 'shuttered', '4k', 'sub', 'shootings', 'improvements', 'performances', 'feminist', 'strategic',\n",
      " 'directors', 'tracy', 'quotas', 'debunked', 'trinitron', 'mason', 'self', 'continued', 'professor',\n",
      " 'variety', 'overview', 'able', 'syllabus', 'complaints', 'find', 'resolutions', 'ate', 'baawa',\n",
      " 'cartwright', 'computing', 'expertise', 'intimidation', 'laying', 'tutor', 'easily', 'scam',\n",
      " 'oklahoma', 'preventable', 'revolutionary', 'sand', 'bio', 'forget', 'arredondo', 'halt',\n",
      " 'extracurricular', 'lawrence', 'clinical', 'performed', 'turnout', 'dressed', 'cosplay', 'antonio',\n",
      " 'craig', 'corp', 'patriot', 'believing', 'arlington', 'diversity', '88', 'grateful', 'reserved',\n",
      " 'underneath', 'capability', 'miami', 'rational', 'contacts', 'dozens', 'llc', 'aims', 'denver',\n",
      " 'resigns', 'typical', 'assuming', 'deadname', 'immense', 'dangers', 'elective', 'mate', 'yo',\n",
      " 'december', 'curve', 'migrant', 'moscow', 'mo', 'oxford', 'decatur', 'divide', 'determining',\n",
      " 'pipeline', 'organizing', '89', 'familiar', 'majority', 'stepped', 'franks', 'methodology',\n",
      " 'stronger', 'adapt', 'switch', 'bids', 'contagious', 'developments', 'wording', 'computer', 'oak',\n",
      " 'hal', 'five', 'situations', 'opposing', 'composite', 'appoint', 'records', 'medical', 'employees',\n",
      " 'challenge', 'walensky', 'erase', '8th', 'friends', 'detrimental', 'constant', 'ordinary', 'ebay',\n",
      " 'orgy', 'quiet', 'jacob', 'pussy', 'proponent', 'viewpoints', 'usd', 'donald', 'kiss', 'tran',\n",
      " 'providers', 'scheme', 'lucas', 'bidens', 'chance', 'began', 'muscle', 'ought', 'horny', 'ba5',\n",
      " 'shout', 'labeled', 'known', 'sector', 'compelling', 'satanic', 'shifting', 'intent', 'perversion',\n",
      " 'hbcus', 'ashhk21', 'gut', 'lasting', 'holiday', 'monroe', 'abuses', 'allegations', 'supervision',\n",
      " 'grounded', 'centres', 'shore', 'technician', 'raceethnicity', 'bubble', 'meanwhile', 'flaws',\n",
      " 'lady', 'flights', 'sweden', 'arrangements', 'xi', 'publicly', 'notice', 'friend', 'wrote',\n",
      " 'washing', 'charlie', 'skeptical', 'moves', 'truth', 'reviews', 'discomfort', 'polling', 'asleep',\n",
      " 'sister', 'already', 'fluid', 'philadelphia', 'sydney', 'sold', 'exceptions', '7', 'wondered',\n",
      " 'sporting', 'invasion', 'mandating', 'zara', 'without', 'sunday', 'house', 'obvious', 'oregon',\n",
      " 'amateur', 'failures', '2030', 'superintendent', 'helping', 'animals', '72', 'crossing', 'vintage',\n",
      " 'a1', 'zoom', 'rests', 'brands', 'penalties', 'embracing', 'rogers', 'shelters', 'ranking',\n",
      " 'southwest', 'youngkins', 'mystery', 'aunt', 'cape', 'rampant', 'center', 'hvac', 'crt450',\n",
      " 'onset', 'wasnt', 'balanced', 'torres', 'printed', 'finally', 'basement', 'sides', 'wii',\n",
      " 'prompted', 'pediatric', 'loading', 'sa', 'queensland', 'worthy', 'branch', '1930', 'go',\n",
      " 'environments', 'pci', 'nypost', 'doses', 'orange', 'statemandated', 'partnership', 'filed',\n",
      " 'carey', 'cnn', 'recruit', 'flow', 'el', 'served', 'utter', 'billy', 'nz', 'evaluation', 'racists',\n",
      " 'fairness', 'fund', 'controls', 'effect', 'ethnic', 'senator', 'camp', 'senators', 'strengths',\n",
      " 'focus', 'editors', 'global', 'excited', 'reduction', 'wage', 'arabia', 'manny', 'upload',\n",
      " 'offerings', 'phones', '110', 'quiz', 'employer', 'invented', 'unreasonable', 'using',\n",
      " 'investigative', 'viruses', 'seemed', 'improved', 'canada', 'accelerated', 'properly', 'robux',\n",
      " 'divided', 'cdc', 'mondays', 'agendas', 'behavioral', 'voices', 'brandon', 'scan', 'robb', 'reedy',\n",
      " 'enjoy', 'ya', 'functions', 'aides', 'keller', 'worldwide', 'snap', 'concept', 'talking', 'lakes',\n",
      " 'newcomers', 'recount', 'mayoral', 'whether', 'defeat', 'choice', 'mandatory', 'driver', 'funny',\n",
      " 'sanctuary', 'elected', 'text', 'march', 'collegiate', 'genital', 'exposing', 'seth', 'freeman',\n",
      " 'enshrined', 'success', 'season', 'understands', 'cooking', 'township', 'achievement', 'gardens',\n",
      " 'bars', 'upgrading', 'reserve', 'hearing', 'jun', 'overturning', 'centre', 'professionally',\n",
      " 'fearful', 'vying', 'anxious', 'hung', '08', 'readers', 'definition', 'gains', 'hour', 'trail',\n",
      " 'blasted', 'net', 'survived', 'intersectionality', 'factual', 'restored', 'privileges', 'newport',\n",
      " 'yale', 'uh', 'passengers', 'sleeping', 'grievances', 'blows', 'killing', 'gf', 'strictly',\n",
      " 'suggestions', 'allies', 'tomorrow', 'restorative', 'premium', 'connections', 'clause', 'london',\n",
      " 'presence', 'sets', 'acceptable', 'thinking', 'guest', 'perception', 'flag', '11th', 'chart',\n",
      " 'prep', 'combined', 'zwerner', 'decided', 'stewart', 'minority', 'offense', 'reckoning',\n",
      " 'unlawful', 'jobs', 'nba', 'empty', 'gatherings', 'buying', 'resource', 'firsthand',\n",
      " 'interference', 'toddler', 'campaigned', 'repealed', 'visitors', 'trigger', 'bonuses', 'sport',\n",
      " 'funding', 'highprofile', 'heaven', 'hitler', 'counties', 'formed', 'hat', 'waive', 'categories',\n",
      " 'showered', 'adequately', 'monitor', 'afternoon', 'urban', 'eliminate', 'commercial', 'badge',\n",
      " 'autonomy', 'shortage', 'stating', 'randy', 'samesex', 'angie', 'constitute', 'poured',\n",
      " 'aggressive', 'al', 'singapore', 'fees', 'plasma', 'luis', 'chip', 'whistleblowers', 'springfield',\n",
      " 'faster', 'shooters', 'reveal', 'librarian', 'people', 'inherent', 'hormones', 'favour', '31',\n",
      " 'crt5', 'delay', 'elena', 'protest', 'investigators', 'vga', 'titled', 'production', 'extracting',\n",
      " 'besides', 'look', '69', 'difference', 'reactions', 'teachings', 'molly', 'consideration', 'black',\n",
      " 'placement', 'lately', 'nmk61', 'rd', 'jensen', 'john', 'solve', 'easier', 'russias', 'various',\n",
      " 'thankfully', 'aspirants', 'hoped', 'surgery', 'slide', 'subsequent', 'talked', 'brings', 'list',\n",
      " 'senior', 'birthday', 'toscano', 'fda', 'consequences', 'opted', 'car', 'affirm', 'chilling',\n",
      " 'sudden', 'proposing', 'harper', 'gospel', 'surrounding', 'protected', 'improve', 'involvement',\n",
      " 'implement', 'representative', 'stars', 'outrage', 'studyincanada', 'unified', 'banning',\n",
      " 'animation', 'resume', 'considerably', 'occupydemocrats', 'ng', 'ohsu', 'papers', 'recession',\n",
      " 'manipulation', 'swimming', 'camps', 'simply', 'aide', 'discovered', 'cvs', 'complaining',\n",
      " 'discourse', 'councils', 'fred', 'enslaved', 'proposed', 'dysphoria', 'revealing', 'performance',\n",
      " 'expectation', 'statewide', 'slate', 'collapsed', 'wright', 'sounding', 'involves', 'social',\n",
      " 'nonsense', 'retweet', 'arrive', 'firm', 'luther', 'personally', 'boston', 'provide', 'vet', 'lot',\n",
      " 'refer', 'deficit', 'jay', 'highschool', 'considering', 'highquality', 'opponent', 'resident',\n",
      " 'endured', 'valid', 'bareback', 'disappointing', 'nation', 'testified', 'legit', 'blatant',\n",
      " 'newsom', 'trouble', 'cluster', 'healthy', 'reckless', 'hr', 'saint', 'approach', 'nes', 'minutes',\n",
      " 'maybe', 'welcoming', 'im', 'yearly', 'youre', 'cat', 'desi', 'behavior', 'identify', 'chronic',\n",
      " 'focuses', 'kindness', 'script', 'dead', 'materials', 'underway', 'former', 'landscape', 'humor',\n",
      " 'selected', 'pickup', 'gates', 'abrams', 'travelling', 'protection', 'esser', 'said', 'practice',\n",
      " 'hospitalizations', 'instructions', 'recommends', 'rationale', 'breast', 'respected', 'court',\n",
      " 'spectrum', 'agency', 'curriculums', 'weaver', 'stages', 'lightfoot', 'hear', 'dedicated',\n",
      " 'backing', 'nine', 'highrisk', 'washington', 'merely', 'ps', 'lectures', 'desktop', 'chancellor',\n",
      " 'meet', 'headquarters', 'selection', 'undoubtedly', 'racing', 'compares', 'accurate', 'unity',\n",
      " 'antiblack', 'genuine', 'flipping', 'alumni', 'defamation', 'fever', 'makes', 'discuss', 'claire',\n",
      " 'maine', 'sean', 'scenarios', 'publishers', 'assistant', 'torontos', 'missing', 'pop', 'throwing',\n",
      " 'perhaps', 'ass', 'values', 'analyst', 'supporting', 'secrets', 'treating', 'challenged', 'warned',\n",
      " 'retaliation', 'business', 'decried', 'masked', 'starts', 'youths', 'competitive', 'tribute',\n",
      " 'britain', 'oversee', 'fill', 'estate', 'scholarship', 'debbie', 'benefit', 'withhold', 'hadnt',\n",
      " 'netflix', 'marco', 'print', 'taxpayerfunded', 'bdsm', 'scholar', 'battle', 'leader', 'producers',\n",
      " 'oz', 'kitty', 'reviewed', 'permission', 'seconds', 'sciences', 'screenings', 'event', 'sky',\n",
      " 'fulltime', 'guidelines', 'illness', 'fragile', 'reader', 'tags', 'cream', 'reasonably', 'daily',\n",
      " 'beat', 'quote', 'tell', 'accurately', 'tips', 'closing', 'locations', 'presentations', 'lined',\n",
      " 'patriotism', 'lesson', 'times', 'element', 'figuring', 'dialysis', 'hence', '2016', 'trains',\n",
      " 'consequence', 'mandate', 'indicate', 'female', 'variables', 'gold', 'myriad', 'latina', 'carries',\n",
      " 'translate', 'slated', 'concludes', 'perverted', 'jim', 'pp', 'singh', 'neither', 'network',\n",
      " 'unrelated', 'covered', 'homophobe', 'richmond', 'feed', 'deep', 'slurs', 'builder', 'entire',\n",
      " 'illustrated', 'negligence', 'hi', 'devos', 'veteran', 'counted', 'sucking', 'coming', 'ellen',\n",
      " 'assumptions', 'ignorant', 'islam', 'proceed', 'tip', 'su', 'loaded', 'outlined', 'federally',\n",
      " 'damning', 'suspensions', 'virginias', '98', 'runner', 'communities', 'mainstream', 'kimberly',\n",
      " 'cathode', 'buddy', 'craft', 'dixon', 'increases', 'replied', 'preventing', 'layer', 'tudor',\n",
      " 'holders', 'guiding', 'competition', 'neighborhood', 'explores', 'assessing', 'absences', 'button',\n",
      " 'churches', '56', 'structural', 'rufo', 'intimate', 'preparation', 'med', 'changed', 'encourage',\n",
      " 'interesting', 'bigger', 'illegal', 'government', 'comparison', 'web', 'encounter', 'broken',\n",
      " 'massachusetts', 'license', 'clay', 'ross', 'tory', 'demanding', 'subjected', 'snes', 'bother',\n",
      " 'pattern', 'sentiment', '70', 'native', 'kirk', '33', 'stakes', 'individual', 'running', 'field',\n",
      " 'lawmaker', 'knox', 'assistants', 'oonglydoomples', 'regard', 'esg', 'christian', 'accelerate',\n",
      " 'fighter', 'poisoning', 'naked', 'reasoning', 'leslie', 'r', 'suspends', 'states', 'evolved',\n",
      " 'survivor', 'architecture', 'greek', 'targeted', 'uncovered', 'ensures', '100', 'zero', 'imagined',\n",
      " 'sticks', 'jen', 'grocery', 'movie', 'hearts', 'false', 'dated', 'retained', 'ottawa', 'doubling',\n",
      " 'weekends', 'technology', 'followup', 'super', 'prospect', 'destroyed', 'whoever', 'preference',\n",
      " 'hazard', 'loads', 'rises', 'sorry', 'associates', 'aware', 'sen', 'prosthetic', 'committee',\n",
      " 'closes', 'andor', 'pronouns', 'readings', 'located', 'athlete', 'rebuke', 'ala', 'affect',\n",
      " 'capabilities', 'soft', 'fb', '92', 'successfully', 'instructional', 'wipe', 'cited', 'innovative',\n",
      " 'prepared', 'curricular', 'statistically', 'encountered', 'republicancontrolled', 'quietly',\n",
      " 'patrons', 'rural', 'collective', 'adjusted', 'survivors', 'projectors', 'visit', 'trading',\n",
      " 'australian', 'awaiting', 'watson', 'dig', 'contained', 'breakdown', 'pence', 'fyi', 'planning',\n",
      " 'insisted', 'regulatory', 'womans', 'memory', 'cake', 'absolute', 'booty', 'exam', 'vegas',\n",
      " 'service', 'obama', 'therefore', 'page', 'framed', 'comedy', 'private', '26mn4', 'divorced',\n",
      " 'delayed', 'scared', 'ielts', 'accomplish', 'determine', 'slammed', 'releasing', 'studying',\n",
      " 'morgan', 'northwest', 'partially', 'digital', 'room', 'pinellas', 'price', 'afterschool',\n",
      " 'miller', 'something', 'wing', 'suit', 'precisely', 'pal', 'ctv', 'pay', 'ford', 'decisionmaking',\n",
      " 'bell', 'health', 'regularly', 'club', 'bipartisan', 'signed', 'many', 'bond', 'currently',\n",
      " 'points', 'suffers', 'riders', 'stamp', 'forced', 'fires', 'battling', 'asthma', 'frank',\n",
      " 'indicators', 'miranda', 'alabama', 'clue', 'aligns', 'desantis', 'feedback', 'furniture',\n",
      " 'fraction', 'knowledgeable', 'deliberately', 'rachel', 'strong', 'local', 'easy', 'cancellation',\n",
      " 'scripture', 'publisher', 'roles', 'raw', 'freedom', 'defending', 'revenue', 'options', 'jokes',\n",
      " 'mom', 'stranger', 'sculpture', 'february', 'basics', 'constantly', 'methods', 'satisfy',\n",
      " 'quoting', 'respectively', 'presidential', 'holocaust', 'linda', 'bought', 'energy', 'caller',\n",
      " 'witness', 'adoptive', 'signing', 'psychological', 'wave', 'corporate', 'attending', 'teens',\n",
      " 'sincerely', 'treatment', 'cats', 'puberty', 'wards', 'alicia', '1970s', 'blocks', 'ian',\n",
      " 'transactions', 'tvs', 'pediatrician', 'linking', 'members', 'night', 'armed', 'value', 'locals',\n",
      " 'targeting', 'vaccinating', 'nichols', 'spread', '2007', 'propublica', 'comments', 'pharmacies',\n",
      " 'raceconscious', 'prevents', 'n95', 'blessing', 'qa', 'ideal', 'endemic', 'product', 'impressive',\n",
      " 'material', 'boards', 'particles', 'copyright', 'kent', 'tonight', 'argue', 'signs', 'consultants',\n",
      " 'gag', 'games', 'grants', 'medal', 'valued', 'races', 'flipped', 'maintain', 'volunteer',\n",
      " 'blockers', 'wheel', 'membership', 'search', 'boundaries', 'butt', 'cancelled', 'document',\n",
      " 'removed', '2a', 'spend', 'michelangelos', 'moms4liberty', 'ordered', 'autumn', 'limiting',\n",
      " 'contribute', 'uk', 'riot', 'dade', 'af', 'boobs', 'broyles', 'stopping', 'northern', 'summit',\n",
      " 'matter', '5g', 'flashpoint', 'condemning', 'suspension', 'bothered', 'implementing',\n",
      " 'photography', 'passionate', '47', 'literacy', 'lcds', 'triggers', 'pardon', 'samuel', 'help',\n",
      " 'breach', 'politically', 'hardware', 'rated', 'universally', 'attacked', 'loop', 'views', 'band',\n",
      " 'twink', 'payment', 'milk', 'modernday', 'reaches', 'irrelevant', 'crack', 'parentalrights',\n",
      " 'newsmax', 'wayne', 'carol', 'stimulus', 'screen', 'gentle', 'american', 'enough', 'routines',\n",
      " 'advisory', 'intellectual', 'exercises', 'jab', 'frustrating', 'homophobia', 'whitmer',\n",
      " 'effectively', 'conservatism', 'chalkbeat', 'august', 'carry', 'subsequently', 'bitch',\n",
      " 'improving', 'acknowledges', 'revolution', 'mentions', 'tensions', 'academy', 'justified',\n",
      " 'supremacist', 'promise', 'rock', 'accuse', 'africa', 'comment', 'luke', 'cooperate', 'power',\n",
      " 'investigation', 'folk', 'excitement', 'argues', 'concrete', 'diet', 'excellent', 'assured',\n",
      " 'outspoken', 'trends', 'initiated', 'immune', 'commissioner', 'unfortunately', 'broward',\n",
      " 'passion', 'horses', 'atlantic', 'jabs', 'crap', 'cuz', 'devastating', 'celebrated', 'concert',\n",
      " 'bachelors', 'implications', 'alter', 'huge', 'available', 'statistics', 'sign', 'measures',\n",
      " 'death', 'strangers', 'exceed', 'specialists', 'ana', 'sheets', 'switched', 'carlosgsmith', 'miss',\n",
      " 'wind', 'highway', 'agreeing', 'crown', 'addition', 'michelle', 'notorious', 'baltimore', 'aids',\n",
      " 'suck', 'pictured', 'forbidden', 'mac', 'pervasive', 'organisation', 'roads', 'watchdog', 'rica',\n",
      " 'basic', 'packed', 'groomers', 'concentration', 'peers', 'lag', 'taxpayers', 'fascism', 'pleasure',\n",
      " 'californias', 'gordon', 'tampa', 'cleaning', 'stepping', 'paragraph', 'hannah', 'optional',\n",
      " 'invasive', 'puta', 'outreach', 'crowds', 'saturdays', 'introduction', 'expire', 'support',\n",
      " 'amber', 'twitter', 'dominated', 'radio', 'preach', 'quitting', 'notifying', 'lausd', 'suddenly',\n",
      " 'restart', 'obscene', 'chief', 'stress', 'cancellations', 'wednesday', 'yorkers', 'hancock',\n",
      " 'domain', 'edtech', 'citizenship', 'hit', 'good', 'mi', '250', 'pressed', 'register', 'worn',\n",
      " 'shah', 'announced', 'occasional', 'drills', 'name', 'culo', 'adams', 'simpler', 'contracts',\n",
      " 'journey', 'seventh', 'outed', 'user', 'egg', 'entrepreneurs', 'consecutive', 'fun', 'allowed',\n",
      " 'temperatures', 'outline', 'renewed', 'employing', 'tiffany', 'held', 'indias', 'admits', 'babes',\n",
      " '2020', 'sues', 'religion', 'heads', 'thesis', 'stances', 'mitigations', 'tons', 'territory',\n",
      " 'novels', 'biases', 'disclosed', 'pakistani', 'distribution', 'ally', 'push', '83', 'prek',\n",
      " 'peter', 'moved', 'larry', 'dinner', 'brutal', 'recommending', 'breaks', 'unsuccessful', 'looks',\n",
      " 'suspected', 'capitalist', 'bs', 'shape', 'tree', 'undergo', 'tits', 'names', 'cums', 'stabbed',\n",
      " 'tested', 'requirement', 'refuses', 'mine', 'purchases', 'construct', '40', 'regulations',\n",
      " 'length', 'infect', 'leave', 'collection', 'leftist', 'mainly', 'rochelle', 'disciplinary',\n",
      " 'repeatedly', 'alpha', 'fueled', 'formation', 'possible', 'ancestors', 'nascar', 'fathers',\n",
      " 'unfairly', 'aaron', 'paying', 'empire', 'convergence', 'bro', 'penis', 'affirmation',\n",
      " 'sophisticated', 'corporal', 'removals', 'sec', 'birth', 'eat', 'fallen', 'attempts', 'throats',\n",
      " 'discrimination', 'engineers', 'filters', 'condemn', 'obtain', 'recess', 'accounts', 'abusers',\n",
      " 'italian', 'wounded', 'vacancies', 'awesome', 'looked', 'dumb', 'trajectory', 'headlines',\n",
      " 'artist', 'youngsters', 'accommodations', 'dm', '100000', 'combination', 'oppressed', 'sally',\n",
      " 'resolution', 'norman', 'loving', 'admissions', 'placements', 'hairy', 'door', 'ga', 'stunned',\n",
      " 'sacred', 'insanity', 'threat', 'towns', 'ultimate', 'likes', 'declining', 'preparing', 'crt',\n",
      " 'logan', 'restricts', 'teen', 'pizza', 'god', 'erasing', 'cafeteria', 'shade', 'needing',\n",
      " 'unemployed', 'persecution', 'raid', 'co2', 'jefferson', 'twist', 'pending', 'barrier', 'fish',\n",
      " 'fort', 'pretend', 'composition', 'illnesses', 'prosecution', 'consumer', 'victorian', 'gpa',\n",
      " 'distraction', 'andre', 'witnessed', 'federation', 'broadcast', 'properties', 'indicated',\n",
      " 'technical', '74', 'thanked', 'areas', 'emphasis', 'incident', 'trips', 'firms', 'brave',\n",
      " 'distribute', 'clash', 'cultures', 'organs', 'biased', 'interested', 'amnesty', 'satisfaction',\n",
      " 'priests', 'organic', 'acquire', 'cute', 'tapped', 'scotland', 'priority', 'nationalism',\n",
      " 'unfortunate', 'respect', 'silence', 'statements', 'rather', 'ppp', '55000', 'purchase', 'chairs',\n",
      " 'rapist', 'dining', 'ancient', 'wine', 'rightwing', 'hepatitis', 'established', 'evaluated', 'ii',\n",
      " 'discusses', 'proteins', 'elderly', 'prescription', 'damage', 'barry', 'turkey', 'esqueer',\n",
      " 'laughing', 'protested', 'emailed', 'noticeable', 'girls', 'hospitalization', 'custodians', 'jump',\n",
      " 'everybody', 'associate', 'parties', 'expert', 'suppress', 'order', 'accessed', 'roberts', 'aloud',\n",
      " 'contemporary', 'streets', 'protective', 'purity', 'hospital', 'harbor', 'cheap', 'welfare',\n",
      " 'pete', 'jimmy', 'job', 'fewer', '4th', 'evident', 'sms', 'immunity', 'trauma', 'jimjordan',\n",
      " 'world', 'administrative', 'jones', 'campaign', 'capture', 'intimidated', 'enrolled', 'appealing',\n",
      " 'amendments', 'magic', 'stemming', 'hypocrisy', 'ferguson', 'parts', '700', 'floridians', 'google',\n",
      " 'settings', 'wrong', 'honored', '2500', 'affiliation', 'leaning', 'launching', 'spent', 'saved',\n",
      " 'mere', 'adds', 'head', 'assault', 'floridas', 'mrna', 'sentences', 'forcing', 'entrenched',\n",
      " 'vallas', 'programs', 'adhere', 'comply', 'freak', 'abandoned', 'link', 'slight', 'pain',\n",
      " 'charities', 'hooked', 'emerged', 'pot', 'prospective', 'celebrities', 'baptist', 'bi', 'rubio',\n",
      " 'healthcare', 'loans', 'surrounded', 'cohen', 'greatly', 'toxic', 'wary', '60', 'road', 'rid',\n",
      " 'keeping', 'romance', 'chairwoman', 'lastly', 'christmas', 'nick', 'diego', 'gas', 'spreading',\n",
      " 'bathrooms', 'wifi', 'pants', '60000', 'victims', 'lifted', 'basically', 'americans', 'ups',\n",
      " 'headline', 'convenience', 'trainings', 'near', 'louder', 'swept', 'traditional', 'within',\n",
      " 'troops', 'community', '19', 'promotion', 'pritzker', 'terms', 'taliban', 'app', 'nude', 'md',\n",
      " 'connecting', '2017', 'llano', 'sc', 'displays', 'disciplined', 'scary', 'stack', 'backpack', '93',\n",
      " 'entirety', 'watched', 'accreditation', 'tbh', 'playing', 'specifically', 'abolish', 'employed',\n",
      " 'smart', 'compromise', 'credentials', 'though', '2011', 'violation', 'ontario', 'anyway',\n",
      " 'classes', 'spelling', 'selective', 'ceo', 'newly', 'latinos', 'parade', 'tracked', 'malaysia',\n",
      " 'reporting', 'enact', 'boy', 'reddit', 'accounted', 'complications', 'filling', 'fox', 'listed',\n",
      " '1998', 'drill', 'confronts', 'maintained', 'polio', 'fortunately', 'outstanding', 'genitals',\n",
      " 'levy', 'celebrating', 'discharge', 'planes', 'mrandyngo', 'dependent', 'edit', 'ht', 'certainly',\n",
      " 'attempt', 'mitigation', 'deem', 'category', 'coughing', 'attend', 'proposals', 'makers', 'blood',\n",
      " 'mod', 'farm', 'plans', 'instagram', 'suburbs', 'pays', 'went', 'hispanic', 'involving', 'surgeon',\n",
      " 'capitalism', 'affecting', 'honey', 'olympic', 'comparing', 'note', 'competitions', 'desires',\n",
      " 'guarantees', 'censored', 'chloe', 'beaten', '05', 'ongoing', 'discovery', 'bet', 'cohorts',\n",
      " 'expected', 'studio', 'erie', 'stories', 'idea', 'pc', 'suicidal', 'someones', '6027713500',\n",
      " 'theory', 'technological', 'draconian', 'sped', 'govern', 'solely', 'oxygen', 'approximately',\n",
      " 'overwhelmingly', 'pulitzer', 'spots', 'pray', 'eric', 'injected', 'covids', 'cheating',\n",
      " 'disgusting', 'yelling', 'maria', 'lean', 'assaulting', 'everyones', 'sandy', 'initiatives',\n",
      " 'youth', 'attacking', 'dramatically', 'approve', 'average', 'ut', 'emphasizes', 'arizonas',\n",
      " 'predominantly', 'gaining', 'premier', 'answering', '20', 'maths', 'opening', 'existing', 'simon',\n",
      " 'fetish', 'sd', 'source', 'frontpage', 'theatre', 'hard', 'flynn', 'cycle', 'fargo', 'brooks',\n",
      " 'cheryl', 'studyabroad', 'vetoed', 'save', 'lecture', 'reasonable', 'beginning', 'mutilation',\n",
      " 'mp', 'germany', 'garbage', 'preferred', 'networking', 'suppose', 'quick', 'orourke', 'board',\n",
      " 'tweeted', 'provisions', 'commit', 'accident', 'interactions', 'representation', 'donations',\n",
      " 'crt600', 'filing', 'limits', 'communism', 'meaningful', 'arguments', 'mentioned', 'draft',\n",
      " 'virtual', 'provinces', 'slogan', 'whove', 'bennyjohnson', 'outlaw', 'throw', 'forgot',\n",
      " 'homeschooling', 'proportion', 'hope', 'mmr', 'controversial', 'wa', 'solution', 'stamford',\n",
      " 'hatred', 'registration', 'inequality', 'dual', 'surface', 'straight', 'disappeared', 'mercy',\n",
      " 'hijacked', 'alcohol', 'ridiculous', 'listening', 'shocking', 'satan', 'rivals', 'lesser',\n",
      " 'portion', 'glen', 'rarely', 'approves', 'sincere', 'consequently', 'completion', 'multicultural',\n",
      " 'mic', 'cycling', 'nova', 'alot', 'website', 'proving', 'corona', 'places', 'examines', 'everyone',\n",
      " 'prosecutors', '48', 'folks', 'adults', 'studyvisa', 'journalism', 'conducted', 'intervene',\n",
      " 'protocols', 'submission', 'qatar', 'oppressor', 'window', 'classical', 'incompetence', 'mistake',\n",
      " 'old', 'constructed', 'comprehension', 'beds', 'cruise', 'bonds', 'trails', 'settle', 'skill',\n",
      " '87', 'realize', 'laugh', 'union', 'put', 'cumulative', 'peterson', 'ago', 'articles', 'federal',\n",
      " 'performing', 'systematically', 'zwerners', 'dancing', 'presumably', 'percentage', 'minimum',\n",
      " 'robust', 'option', 'apart', '70s', 'preferences', 'cables', '14th', 'saving', 'stunning', 'cd',\n",
      " 'cum', 'battles', 'say', 'juvenile', 'intolerance', 'western', 'tie', 'enter', 'color', 'received',\n",
      " 'next', 'rat', 'crowded', 'obtaining', 'attendance', 'suing', 'transition', 'hire', 'comprised',\n",
      " 'destination', 'testing', 'advancement', 'suspect', 'rips', 'pic', 'rating', 'want', 'plug',\n",
      " 'tulsa', 'nuclear', 'meat', 'successful', 'immigrationcanada', 'ignoring', 'pace', 'religions',\n",
      " 'suburban', 'improves', 'needed', 'outraged', 'echoed', 'hollywood', 'murray', 'follows',\n",
      " 'vehemently', 'ladies', 'throat', 'numbers', 'operation', 'grading', 'andy', 'virus', 'providence',\n",
      " 'mans', 'conclude', 'christine', 'crazy', 'pulled', 'harassment', 'email', 'chen', 'attempting',\n",
      " 'speaker', 'regional', 'phrases', 'playports', 'victim', 'banned', '1776', '1000', 'harms',\n",
      " 'confidence', 'experiencing', 'count', '150', 'dan', 'congress', 'aka', 'pres', 'emotions',\n",
      " 'viewers', 'extremely', 'knew', 'graves', 'comeback', 'clean', 'cap', 'assert', 'zealand',\n",
      " 'iphone', 'collecting', 'troubling', 'blanket', 'train', 'radiation', 'consulted', 'colleagues',\n",
      " 'advocacy', 'negro', 'judgment', 'studies', 'guilty', 'behave', 'sink', 'hostility', 'literature',\n",
      " 'designation', 'granted', 'state', 'emma', 'morons', 'emphasizing', 'aiming', 'reopened', 'repmtg',\n",
      " 'topic', 'dumps', 'slightly', 'shawn', 'professionals', 'masculinity', 'consensus', 'ski',\n",
      " 'stable', 'line', 'mitchell', 'practicing', 'jonathan', 'surveys', 'chuck', 'incredibly',\n",
      " 'respiratory', 'define', 'wild', 'damaged', 'restore', 'terror', 'commerce', 'working', 'contrast',\n",
      " 'rod', 'criminals', 'releases', '97', '2014', 'kingdom', 'funerals', 'breaking', 'storage',\n",
      " 'tournament', 'others', 'operators', 'dallas', 'strict', 'getty', 'whatsoever', 'misconduct',\n",
      " 'chamber', 'justification', 'supervisor', 'lines', 'stance', 'driven', 'pedagogy', 'voters',\n",
      " 'routinely', 'toronto', 'insisting', 'processes', 'deeper', '6th', 'chronicle', 'automatically',\n",
      " 'environmental', '2001', 'crimes', 'defends', 'marine', 'coaching', 'nhs', 'arif1q', 'mounting',\n",
      " 'drugs', 'panel', 'drafted', 'moms', 'overseas', 'incorporated', 'liberty', 'bag', 'label',\n",
      " 'square', 'courtroom', 'paperwork', 'marijuana', 'phd', 'tara', 'deemed', 'reaching', 'societal',\n",
      " 'programmes', 'knight', 'surprise', 'vile', 'brilliant', 'metrics', 'subbing', 'fits', 'revoke',\n",
      " 'puerto', 'competence', 'upper', 'player', 'witnesses', 'aim', '18', 'universal', 'swim',\n",
      " 'earlier', 'orientation', 'renew', 'secured', 'jean', 'academia', 'force', 'customer', 'year',\n",
      " 'hometown', 'paycheck', 'liberalism', 'african', 'misdemeanor', 'catherine', 'houston', 'law',\n",
      " 'donalds', 'load', 'step', 'legs', 'cruel', 'imo', 'dialogue', 'learner', 'travel', 'dealt',\n",
      " 'negative', 'silver', 'anyways', 'garcia', 'sophomore', 'cost', 'created', 'n', 'cars',\n",
      " 'presentation', 'mins', 'drunk', 'desire', 'enemies', 'la', 'gays', 'cash', 'final', 'industries',\n",
      " 'antifa', 'mortality', '2012', 'security', 'indigenous', 'urgent', 'shown', 'abortion',\n",
      " 'surrender', 'lawyers', 'directions', 'baker', 'issues', 'halted', 'uncomfortable', 'advance',\n",
      " 'masser', 'involve', 'exists', 'laptop', 'paper', 'structured', 'affiliated', 'scart', 'awarded',\n",
      " 'increasing', 'messed', 'rbreich', 'access', 'remain', 'raped', 'example', 'crossed', 'informing',\n",
      " 'hunter', 'diagnosed', 'necessary', 'elonmusk', 'checklist', 'minute', 'reminds', 'empathy',\n",
      " 'begins', 'carroll', 'orleans', 'priorities', 'low', 'face', 'studentvisa', 'organ', 'cis',\n",
      " 'natural', 'purple', 'replace', 'provides', 'differently', 'owens', 'goal', 'mainland',\n",
      " 'meningococcal', 'evidencebased', 'operate', 'wages', 'dave', 'hong', 'techniques', 'seven',\n",
      " 'miamidade', 'permanently', 'dollars', 'tommy', 'abilities', 'thoughtful', 'closed', 'rights',\n",
      " 'phil', 'publishing', 'outcomes', 'july', 'luxury', 'refugees', 'ch75', 'placed', 'thames',\n",
      " 'attacks', 'employment', 'manufacturers', 'surfaced', 'objected', 'free', 'pleasant', 'maker',\n",
      " 'assignment', 'tactic', 'object', 'strengthen', 'narrow', 'citizens', 'division', 'finals',\n",
      " 'hello', 'successor', 'essence', 'covid', 'eased', 'investigator', 'serial', 'sued', 'wokeness',\n",
      " 'gene', 'persons', 'scottish', 'assist', 'household', 'although', 'publication', 'characteristics',\n",
      " 'happier', 'unvaccinated', 'fouryear', 'critique', 'dana', 'workplaces', 'revisions', 'widescreen',\n",
      " 'enthusiasm', 'pill', 'sharing', 'indecent', 'away', 'abolishing', 'shorts', 'circles', 'facility',\n",
      " 'divorce', 'consult', 'pennsylvania', 'raise', 'disparity', '23', 'preschool', 'integrity',\n",
      " 'realized', 'giant', 'aspect', 'instant', 'drawn', 'outlining', 'weekly', 'retiring', 'demand',\n",
      " 'infectious', 'rescinded', 'ended', '786h1', 'kay', 'correctness', 'favourite', 'wales', 'thought',\n",
      " 'mastery', 'jo', 'christians', 'kemp', 'positions', 'downtown', 'solving', 'hub', 'organized',\n",
      " 'un', 'took', 'instrumental', 'households', 'leaving', 'parkland', 'turning', 'tradition',\n",
      " 'assistance', 'slam', 'movements', 'enthusiastic', 'indefinitely', 'builds', 'lockdowns',\n",
      " 'kidding', 'lift', 'biden', 'added', 'inspired', 'dismantle', 'soaring', 'goods', 'apple',\n",
      " 'hybrid', 'weapon', 'six', 'antivaccine', 'wrap', 'drinking', 'exploring', 'blew', 'joel', 'duke',\n",
      " 'carolyn', 'individually', 'collect', 'disappear', 'shouldnt', 'tolerance', 'demonstrators', 'fed',\n",
      " 'sim', 'contested', 'morals', 'rejecting', 'tough', 'slowed', 'usb', 'antimask', 'revision',\n",
      " 'pregnancy', 'however', 'affidavit', 'identifying', 'ensured', 'group', 'play', 'applications',\n",
      " 'partners', 'commonwealth', 'someone', 'bring', 'uses', 'immigrants', 'relied', 'sacrifice',\n",
      " 'weve', 'prioritizing', 'masturbation', 'trials', 'anna', 'stadium', 'salesforce', 'launched',\n",
      " 'engage', 'pledged', 'deals', 'telegraph', 'zinn', 'patricia', 'carefully', 'skills', 'toilets',\n",
      " 'failing', 'dropout', 'canadaimmigration', 'albert', 'colorado', 'talk', 'pertaining', 'heroes',\n",
      " 'stomach', '67', 'casual', 'enrolling', '20212022', 'concerned', 'repeal', 'daytoday', 'pfizer',\n",
      " 'finance', 'seem', 'balls', 'emissions', 'helps', 'paris', 'prevent', 'joy', 'encouraged',\n",
      " 'proficient', 'lieutenant', 'marxists', 'agreements', 'devices', 'wendy', 'disproportionately',\n",
      " 'inspiring', 'called', 'centers', 'decides', 'ppe', 'new', 'stocks', 'liu', 'suicides', 'meant',\n",
      " 'believed', 'partnered', 'accredited', 'thanks', 'degenerate', 'bureau', 'classic', 'obligations',\n",
      " 'adolescents', 'administer', 'mechanical', 'space', 'codes', 'humanity', 'safety', 'firefighters',\n",
      " 'accusing', 'plea', 'archives', 'enthusiasts', 'stereotypes', '1mahi0', 'disrespect', 'grades',\n",
      " 'thin', 'beacon', 'wheres', 'researcher', 'vanderbilt', 'rand', 'shutdowns', 'niagara', 'cheers',\n",
      " 'usda', 'therapists', 'bills', 'context', 'unmasked', 'fatigue', 'increasingly', 'gregory', 'yes',\n",
      " 'servants', 'teaching', 'abbott', 'widely', 'gaslighting', 'televisions', 'images', 'tens', 'arab',\n",
      " 'display', 'genetic', 'peterborough', 'think', 'prepare', 'youtube', 'tune', 'bilingual',\n",
      " 'monitoring', 'loves', 'obsessed', 'proposes', 'operating', 'obstacle', 'georges', 'supposedly',\n",
      " 'excluding', 'jazz', 'therapy', 'blank', 'lower', 'devil', 'activism', 'question', 'roommates',\n",
      " 'voicing', 'liberal', 'herd', 'impacted', 'quit', 'species', 'laurie', 'excellence', 'meantime',\n",
      " 'profit', 'novinha', 'directs', 'beliefs', 'generation', 'ads', 'teamed', 'steadily', 'colleges',\n",
      " 'important', 'kinda', 'killers', 'spencer', 'behaviour', 'factory', 'became', 'contaminated',\n",
      " 'doc', 'fines', 'jeanpierre', 'response', 'looking', 'responsibilities', 'monthly', 'afghanistan',\n",
      " 'suspicious', 'generate', 'antiracism', 'indicating', 'plants', 'lawful', 'shorter', 'correcting',\n",
      " 'chinas', 'controversy', 'softball', 'backwards', 'wed', 'gateway', 'longer', 'prosecutor',\n",
      " 'frequently', 'citys', 'scream', 'genderneutral', 'shock', 'rough', 'hunger', 'stringent',\n",
      " 'inschool', 'a2n', 'drinks', 'brainwashed', 'prof', 'expressentry', 'enterprise', 'hampshire',\n",
      " 'matthew', 'joyce', 'refusal', 'billionaire', 'universitys', 'declared', 'janet', 'duty',\n",
      " 'investigations', 'normalize', 'chocolate', 'chairperson', 'solo', 'solar', 'stands', 'bless',\n",
      " 'especially', 'popularity', 'challenger', 'wear', 'webcam', 'economist', 'researchers', 'thousand',\n",
      " 'wellness', 'virginia', 'tasked', 'ousted', 'freshmen', '1995', 'climate', 'unexpected',\n",
      " 'interests', 'critic', 'leaders', 'stupidity', 'case', 'stats', 'progress', 'co', 'subs', 'toilet',\n",
      " 'weighs', 'horrible', 'ignore', 'hoping', 'behaviors', 'magazine', 'imposing', 'shake', 'slut',\n",
      " 'erin', 'promises', 'borders', 'hall', 'gangs', 'hearings', 'describe', 'organisations', 'wouldnt',\n",
      " 'lab', 'darling', 'grievance', 'abuse', 'replaced', 'lisa', 'file', 'investing', 'place', 'lcd',\n",
      " 'fucking', 'per', 'compassion', 'shirt', 'assumption', 'chambers', 'textbooks', 'desantiss',\n",
      " 'analyzed', 'delta', 'players', 'truly', 'alignment', 'richards', 'quarantine', 'calculated',\n",
      " 'indoctrinating', 'ur', 'mater', 'custodian', 'monitored', 'martin', '1619', 'discretion', 'riots',\n",
      " 'project', 'vermont', 'strategy', 'copy', 'designs', 'anonymous', 'cock', 'abandon', 'decisive',\n",
      " 'comparable', 'seized', 'daniels', 'scientists', 'friendship', 'guests', 'se', 'emails', 'planet',\n",
      " 'amazing', 'joshua', 'drink', 'telegram', 'losing', 'mall', 'fame', 'dorms', 'one', '510',\n",
      " 'expelled', 'dislike', 'manipulated', 'cloud', 'counselor', 'openlytrans', 'southwestern', 'a3p',\n",
      " 'understand', 'terrible', 'scholastic', 'eligibility', 'anthem', 'textbook', 'turns', 'integrated',\n",
      " 'interior', 'nearby', 'suffer', 'embedded', 'realworld', 'potential', 'movement', 'electoral',\n",
      " 'duties', 'holder', 'restrict', 'leaves', 'grant', 'crypto', 'charters', 'pros', 'replacement',\n",
      " 'application', 'mentality', 'enroll', 'ptsd', 'spouse', 'lose', 'skip', 'expecting', 'probably',\n",
      " 'manage', 'discover', 'files', 'thing', 'predators', 'neglect', 'disruptive', 'subscription',\n",
      " 'que', 'menzies', 'scientist', 'pacs', 'ambassador', 'thursdays', 'arguing', 'secret', 'stunt',\n",
      " 'abortions', '000', 'hurricane', 'entitled', 'recommended', '81', '1996', 'underground', 'actors',\n",
      " '180', 'drop', 'west', 'uncertain', 'gubernatorial', 'brett', 'lighting', 'whites', 'tn', 'cents',\n",
      " 'palm', 'fisher', 'ca', 'store', 'bay', 'close', 'characterized', 'pit', 'naval', 'prizes',\n",
      " 'protests', 'darkness', 'estimated', 'represents', 'likelihood', 'springs', 'psychologist',\n",
      " 'reflection', 'supply', 'walt', 'volumes', 'process', 'minors', 'thick', 'vaccines', 'governors',\n",
      " 'pornographic', 'defensive', 'mix', 'resilience', 'promising', 'green', 'exploded', 'albany',\n",
      " 'cells', 'chairman', 'rich', 'antiwhite', 'facial', 'beings', 'questioned', 'coordinated',\n",
      " 'airport', 'touted', 'stipend', 'inspiration', 'documentation', 'icu', 'legend', 'polyam',\n",
      " 'modified', 'illegally', 'oct', 'opposition', 'debora', 'rob', 'hs', 'era', 'majors', 'overreach',\n",
      " 'garland', 'top', 'mouse', 'reported', 'criticized', 'earnings', 'david', 'possession',\n",
      " 'cognitive', 'short', 'podium', 'tolerate', 'malone', 'sex', 'kindergarten', 'median', 'excluded',\n",
      " 'notre', 'meghan', 'slowly', 'mandela', 'heavily', 'sexism', 'henderson', 'updating', 'character',\n",
      " 'knowledge', 'surges', 'traits', 'mt', 'attract', 'comic', 'defense', 'propose', 'warns',\n",
      " 'dashdobrofsky', 'cultural', 'transgender', 'believe', 'twtsmh', 'performers', 'deal', 'athome',\n",
      " 'reelection', 'demonstrate', 'transparent', 'kills', 'traditionally', 'inspection', 'coverage',\n",
      " 'meetings', 'phrase', 'begin', 'applied', 'tells', 'hardship', 'exposed', 'led', 'qanon', 'spin',\n",
      " 'hostage', 'qualities', 'precautions', 'crosscountry', 'ruined', 'embrace', 'concentrate',\n",
      " 'partnerships', 'affects', 'karen', 'get', 'crying', 'hey', 'wellington', 'succeed',\n",
      " 'volunteering', 'marketing', 'appear', 'robert', 'fulfill', 'signature', 'credit', 'evolving',\n",
      " 'external', 'problem', 'required', 'efficacy', 'simultaneously', 'bottle', 'detroit', 'summary',\n",
      " 'boys', 'capacity', 'thru', 'agrees', 'high', 'crt101', 'advice', 'attitudes', 'relates',\n",
      " 'stephanie', 'deans', 'publics', 'visiting', 'stole', 'pockets', 'meal', 'area', '20th', 'tried',\n",
      " 'continuous', 'webinar', 'diane', 'restaurants', 'nicholas', 'deployed', 'scandal', 'measured',\n",
      " 'disagree', 'psychology', 'punishment', 'evidence', 'pass', 'electricity', 'slap', 'conversations',\n",
      " 'itd', 'insane', 'claim', 'analog', 'happening', 'lansing', 'inflation', 'segment', 'picture',\n",
      " 'facts', 'create', 'number', 'arrest', 'persist', 'date', 'factories', 'rewarded', 'figure',\n",
      " 'emerge', 'actions', 'absurd', 'podcast', 'travelers', 'inbox', 'evaluations', 'hotel', 'url',\n",
      " 'cameras', 'sf', 'festival', 'outlines', 'recommend', 'contain', 'media', 'gen', 'prepandemic',\n",
      " 'worked', 'consoles', 'zoomer', 'electing', 'absenteeism', 'lynn', 'ends', '2025', 'buzz',\n",
      " 'residential', 'neighborhoods', 'severance', 'canadian', 'profiles', 'taste', 'verification',\n",
      " 'symptoms', 'love', 'choose', 'hysteria', 'meets', 'danny', 'sandra', 'gods', 'investments',\n",
      " 'stream', 'kinds', 'justices', 'lowered', 'victoria', 'restoration', 'indianapolis', 'address',\n",
      " 'parenthood', 'bow', 'oppose', 'represent', 'develop', 'drew', 'additionally', 'chiefs', 'hardly',\n",
      " 'trudeau', 'ts', 'release', 'disputes', 'da', '2018', 'anthony', 'founder', 'lessons',\n",
      " 'experience', 'radioactive', 'custom', 'hpv', 'restaurant', 'newark', 'separation', 'revenues',\n",
      " 'chaste', 'carrasquilla', 'continue', 'coverings', 'permit', 'level', 'negatively', 'borough',\n",
      " 'editor', 'j', 'twoyear', 'chain', 'dubai', 'questioning', 'english', 'null', 'examiner', 'joint',\n",
      " 'roberto', 'proves', 'elevated', 'graded', 'routine', 'rallied', 'sustainable', 'favored',\n",
      " 'purposes', 'sr', 'tetanus', 'everincreasing', 'appealed', 'eyes', 'mass', 'libraries', 'dress',\n",
      " 'slew', 'pushback', 'motor', 'sooner', 'halton', 'findings', 'willingness', 'wood', 'includes',\n",
      " 'politicians', 'isolated', 'owe', 'gone', 'receives', 'outfit', 'graphics', 'management',\n",
      " 'checking', 'ironic', 'catchall', 'proxy', 'immigrationconsultant', 'contacting', 'prominent',\n",
      " 'sponsor', 'steady', 'atmosphere', 'grown', 'batch', 'offices', 'participation', 'jacobs',\n",
      " 'outbreaks', 'french', 'justin', 'hosts', 'baffling', 'books', 'blast', 'summer', 'ac',\n",
      " 'disruption', 'booth', 'municipal', 'split', '32', 'assisting', 'remote', 'wont', 'authoritarian',\n",
      " 'applying', 'advancing', 'whatever', 'schoolers', 'todd', 'action', 'woman', 'powers',\n",
      " 'expressing', 'captain', 'oakville', 'abraham', 'like', 'unborn', 'install', 'culturally', 'cut',\n",
      " 'stolen', 'outdoor', 'boarding', 'counseling', 'debating', 'constitution', 'louis', 'pathway',\n",
      " 'flood', 'creek', 'participants', 'mental', 'occupation', 'wives', 'pressures', 'frederick',\n",
      " 'jessica', 'flying', 'ride', 'reference', 'misinformation', 'hes', '42', 'tv', 'edwards', 'logic',\n",
      " 'alike', 'pushes', 'curb', 'quality', 'flu', 'oncampus', 'confronting', 'war', 'introducing',\n",
      " 'concealed', 'isolation', 'cardiac', 'topics', 'happy', 'eq', 'diedsuddenly', 'score', 'steel',\n",
      " 'beijing', 'sensory', 'navy', 'touching', 'societies', 'rcmp', 'manner', 'contracted', 'blame',\n",
      " 'italy', 'peace', 'aimed', 'watch', 'pledges', 'highlight', 'winning', 'closings', 'deliver',\n",
      " 'cleared', 'eliminating', 'markers', 'proceedings', '20000', 'dealing', 'prove', 'upset', 'pupils',\n",
      " 'gov', 'threw', 'uc', 'gap', 'plaintiffs', 'closest', 'die', 'appointees', 'supporters',\n",
      " 'freezing', 'initial', 'deadly', 'wray', 'metro', 'chick', 'rollout', 'arrested', 'spell',\n",
      " 'families', 'rifles', 'trillion', 'park', 'glass', 'lobby', 'cedar', 'named', 'okeefe', 'often',\n",
      " 'belonging', 'mini', 'shutdown', 'miyares', 'perkins', 'stroke', 'regret', '4mkt', 'sb', 'tag',\n",
      " 'exist', 'embarrassing', 'physically', 'locker', 'unhappy', 'send', 'comes', 'anything',\n",
      " 'vacation', 'capitol', 'argued', 'cotton', 'eligible', 'sticking', 'rpg', 'air', 'met',\n",
      " 'destructive', 'organised', 'flawed', '200000', 'essential', 'firing', 'roger', 'worried',\n",
      " 'bacteria', 'varner', '2026', 'meaning', 'ah', 'libs', 'loss', '1900', 'counter', 'careful',\n",
      " 'rejects', 'period', 'automatic', 'commenting', 'asshole', 'string', 'arise', 'portable', '1992',\n",
      " 'availability', 'infiltrated', 'director', 'disasters', 'u', 'angry', 'kendi', 'forms', 'montana',\n",
      " 'expose', 'admission', 'doubt', 'retain', 'october', 'friedman', 'licensing', 'notion',\n",
      " 'similarly', 'portal', 'z', 'pretty', 'letting', 'week', 'realities', 'imaginary', 'surprised',\n",
      " 'pointing', 'inspire', 'handle', 'incapable', 'lunches', 'examine', 'minnesota', 'economic',\n",
      " 'sharon', 'helpful', 'julie', 'oversees', 'karl', 'symptomatic', 'andrea', 'sickness', 'ukrainian',\n",
      " 'bench', 'beating', 'reason', 'holy', 'grab', 'futures', 'para', 'barbara', 'existed', 'occurring',\n",
      " 'knowing', 'advancements', 'tobacco', 'yellow', 'lands', 'faith', 'staying', 'israel', 'millions',\n",
      " 'expansion', 'yet', 'inferior', 'tour', 'bridge', 'grows', 'asserted', 'interpret', '37',\n",
      " 'worship', 'extensive', 'patterns', 'justify', 'debut', 'licenses', '15000', 'innocent', '71',\n",
      " 'pharma', 'prank', 'channel', 'click', 'greene', 'tyranny', 'chicago', 'conducting', 'activity',\n",
      " 'alex', 'disabilities', 'detectors', 'raises', 'biologically', 'conversation', 'surplus',\n",
      " 'feasible', 'intermediate', 'fringe', 'piece', 'setbacks', 'punishing', 'restricting', 'irony',\n",
      " 'trusted', 'activities', 'renaissance', 'planned', 'carl', 'douglas', 'affairs', 'crucial',\n",
      " 'murdered', 'guys', 'poster', 'jews', 'denounce', 'airborne', 'small', 'defend', 'nail',\n",
      " 'charliekirk11', 'facilitate', 'clown', 'circulating', 'conservation', 'subscribers', 'usa',\n",
      " 'pieces', 'thus', 'section', 'championship', 'rev', 'nfl', 'significant', 'visible', 'maintains',\n",
      " 'acquired', 'ordering', 'queens', 'confirmation', 'layers', 'hierarchy', 'enables', 'manhattan',\n",
      " 'hills', 'clips', 'prisons', 'loan', 'sir', 'referendum', 'minor', 'plane', 'disagreed', 'fate',\n",
      " 'masturbating', 'fucked', 'lifelong', 'announcement', 'officials', '0', 'emphasize', 'vaccinated',\n",
      " 'males', 'mountain', 'menu', 'balancing', 'jill', 'contact', 'credits', 'offensive', 'denies',\n",
      " '850', 'intends', 'east', 'boundary', 'authority', 'significantly', 'reynolds', 'systematic',\n",
      " 'countys', 'estimate', 'tai', 'sadly', 'hiv', 'tracing', 'dire', 'idk', 'grief', 'educator',\n",
      " 'wasting', 'idaho', 'anal', 'wellbeing', 'cousins', 'sponsors', 'void', 'impressed', 'disregard',\n",
      " 'speak', 'bullying', 'singing', 'gifts', 'residency', 'height', 'natalie', 'forbids',\n",
      " 'undermining', 'classmates', 'least', 'break', 'produced', 'decreases', 'secretly', 'compiled',\n",
      " 'des', 'ap', 'legislatures', 'gate', 'enemy', 'usually', 'peoples', 'vocabulary', 'hoax', 'stitt',\n",
      " 'womens', 'comprehensive', 'seeks', 'covering', 'infected', 'orlando', 'principle', 'hospitals',\n",
      " 'analyze', 'kit', 'concord', 'korean', '55', 'accomplished', 'pdf', 'eastern', 'experiments',\n",
      " 'expands', 'missouri', 'timing', 'toy', 'proved', 'considerations', 'sept', 'biblical',\n",
      " 'documents', 'experts', 'strategist', 'exodus', 'films', 'prioritized', 'midwest', 'nominee',\n",
      " 'smoke', 'jane', 'erininthemorn', 'host', 'lafayette', 'defibrillators', 'shooter', 'seasons',\n",
      " 'later', 'sony', 'scale', 'dates', 'non', 'beloved', '9th', 'predict', 'refresh', 'corner',\n",
      " 'tours', 'assumed', 'pages', 'wherever', 'founding', 'transmitted', 'commission', 'alltime',\n",
      " 'safeguarding', 'links', 'departments', 'poised', 'criteria', 'del', 'laughed', 'tiktok', 'sheher',\n",
      " 'pixel', 'returns', 'convinced', 'cox', 'issue', 'steps', 'concepts', 'kong', 'dominant',\n",
      " 'memorial', 'sflecce', 'military', 'deliberate', 'collins', 'crt3', 'vital', 'replacing', 'bit',\n",
      " 'results', 'rapidly', 'trick', 'south', '2004', 'arthur', 'banners', 'windowadsbygoogle', 'werent',\n",
      " 'pfizers', 'professions', 'blueprint', 'silent', 'kicking', 'lgbt', 'degree', '202021', 'threats',\n",
      " 'mario', 'reinstated', 'january', 'meme', 'code', 'opened', 'newsoms', 'trusts', 'firstyear',\n",
      " 'contenders', 'relevant', 'recreation', 'stripped', 'agencys', 'nondiscrimination', 'enrolment',\n",
      " 'acknowledging', 'borrowers', 'entrance', 'arrival', 'marquette', 'graduating', 'invention',\n",
      " 'favorite', 'elimination', 'discussed', 'labels', 'successes', 'chilliwack', 'users', 'squad',\n",
      " 'las', 'confidential', 'collegelevel', 'imagery', 'factor', 'bugs', 'mocking', 'advising',\n",
      " 'careers', 'denise', 'fiction', 'percent', 'territories', 'lacked', 'anticrt', 'practices',\n",
      " 'heated', 'practitioners', 'whenever', 'adverse', 'allowing', 'bull', 'tho', 'issuing', 'affinity',\n",
      " 'bare', 'backtoschool', 'warrior', 'engagement', 'omg', 'educated', 'authorities', 'age', 'hughes',\n",
      " 'depending', 'belongs', 'billions', 'ucla', 'quickly', 'zip', 'inequity', 'immunizations',\n",
      " 'demonstration', 'insights', 'mentioning', 'zerocovid', 'largest', 'suspicion', 'cartoon',\n",
      " 'justice', 'yield', 'academics', 'complete', 'finished', '50000', 'incorporate', 'suffered',\n",
      " 'champion', 'chemistry', 'appeared', 'university', 'injuries', 'agent', 'secondary', 'wedge',\n",
      " 'shut', 'yoga', 'vaccinations', 'questions', 'tranny', 'sanctioned', 'encouragement',\n",
      " 'influencing', 'primarily', 'lots', 'enabling', 'weighing', 'surge', 'cites', 'son', 'erupted',\n",
      " 'detail', 'emergency', 'appointed', 'instructed', 'contribution', 'frightening', 'outlet', 'ton',\n",
      " 'doubled', 'long', 'overturn', 'select', 'fights', 'driving', 'coal', 'caste', 'dresses',\n",
      " 'immigrationlaw', 'speculation', 'shine', 'invitational', 'adam', 'unofficial', 'deceived',\n",
      " 'insult', 'reverse', 'exchange', 'sheer', 'physicians', 'software', 'brevard', 'sexual', 'frozen',\n",
      " 'hell', 'msm', 'winners', 'writing', 'normalcy', 'fantasy', 'sections', 'crystal', 'matching',\n",
      " 'dr', 'moving', 'obsession', 'trans', 'enabled', 'contend', 'tasks', 'decades', 'mastriano',\n",
      " 'directed', 'platform', 'exacerbated', 'amanda', 'mutual', 'weed', 'helen', 'pink', 'inviting',\n",
      " 'prairie', 'declare', '17yearold', 'vision', 'position', 'toni', 'ont', 'petition', 'mild', 'fuck',\n",
      " 'interfering', 'learned', 'pole', 'models', 'shaping', 'permits', 'sarah', 'sustainability',\n",
      " 'courtesy', 'endorse', 'talented', 'online', 'perry', 'chicagos', 'blow', 'couples', 'referred',\n",
      " '90', 'cure', 'eager', 'readily', 'prohibited', 'representatives', 'overnight', 'urges',\n",
      " 'observations', 'inc', 'beto', 'sought', 'everyday', 'stake', 'positioned', 'courts', 'attire',\n",
      " 'conferences', 'unnecessary', 'barack', 'skin', 'georgetown', 'stood', 'bngsh2', 'acip', 'ban',\n",
      " 'ohio', 'respective', 'terrorists', 'expenses', 'refused', '27', '10000', 'shoulder', 'proof']\n"
     ]
    }
   ],
   "source": [
    "pprint(context_words, compact=True, width=100)"
   ],
   "metadata": {
    "collapsed": false
   }
  },
  {
   "cell_type": "markdown",
   "source": [
    "## Build Model"
   ],
   "metadata": {
    "collapsed": false
   }
  },
  {
   "cell_type": "code",
   "execution_count": 168,
   "outputs": [],
   "source": [
    "csv_files = glob.glob(str(input_dir / split_type / \"*.csv\"))\n",
    "\n",
    "# filter for starting-months\n",
    "csv_files = [filename for filename in csv_files if filename.split(\"_to_\")[0][-3:] in months]\n",
    "\n",
    "# use dict to be able to identify the dfs later on\n",
    "splits = {}"
   ],
   "metadata": {
    "collapsed": false
   }
  },
  {
   "cell_type": "code",
   "execution_count": 169,
   "outputs": [],
   "source": [
    "for filename in csv_files:\n",
    "    df = pd.read_csv(filename)\n",
    "    splits[filename.split(\"_to_\")[0][-3:]] = df"
   ],
   "metadata": {
    "collapsed": false
   }
  },
  {
   "cell_type": "code",
   "execution_count": 170,
   "outputs": [
    {
     "data": {
      "text/plain": "  0%|          | 0/11 [00:00<?, ?it/s]",
      "application/vnd.jupyter.widget-view+json": {
       "version_major": 2,
       "version_minor": 0,
       "model_id": "2efd626a4902422c82194f29bd6dcf54"
      },
      "application/json": {
       "n": 0,
       "total": 11,
       "elapsed": 0.0021941661834716797,
       "ncols": null,
       "nrows": null,
       "prefix": "",
       "ascii": false,
       "unit": "it",
       "unit_scale": false,
       "rate": null,
       "bar_format": null,
       "postfix": null,
       "unit_divisor": 1000,
       "initial": 0,
       "colour": null
      }
     },
     "metadata": {},
     "output_type": "display_data"
    }
   ],
   "source": [
    "ppmi_models = {key: PPMIModel.construct_from_texts(value, context_words=context_words, min_freq=min_freq) for key, value in tqdm(splits.items())}"
   ],
   "metadata": {
    "collapsed": false
   }
  },
  {
   "cell_type": "markdown",
   "source": [
    "### Control"
   ],
   "metadata": {
    "collapsed": false
   }
  },
  {
   "cell_type": "code",
   "execution_count": 171,
   "outputs": [],
   "source": [
    "ppmi_model = ppmi_models[next(iter(ppmi_models))]"
   ],
   "metadata": {
    "collapsed": false
   }
  },
  {
   "cell_type": "code",
   "execution_count": 172,
   "outputs": [
    {
     "data": {
      "text/plain": "array([[2.85473166, 0.        , 0.        , ..., 0.        , 0.        ,\n        0.        ],\n       [2.39519934, 0.        , 0.        , ..., 0.        , 0.        ,\n        0.        ],\n       [2.39519934, 0.        , 0.        , ..., 0.        , 0.        ,\n        0.        ],\n       ...,\n       [2.24859587, 0.        , 0.        , ..., 0.        , 0.        ,\n        0.        ],\n       [1.38839462, 0.        , 0.        , ..., 0.        , 0.        ,\n        0.        ],\n       [1.03557325, 0.        , 0.        , ..., 0.        , 0.        ,\n        0.        ]])"
     },
     "execution_count": 172,
     "metadata": {},
     "output_type": "execute_result"
    }
   ],
   "source": [
    "ppmi_model.compute_ppmi_matrix()"
   ],
   "metadata": {
    "collapsed": false
   }
  },
  {
   "cell_type": "code",
   "execution_count": 173,
   "outputs": [
    {
     "data": {
      "text/plain": "(12108, 5000)"
     },
     "execution_count": 173,
     "metadata": {},
     "output_type": "execute_result"
    }
   ],
   "source": [
    "ppmi_model.ppmi_matrix.shape"
   ],
   "metadata": {
    "collapsed": false
   }
  },
  {
   "cell_type": "code",
   "execution_count": 174,
   "outputs": [
    {
     "data": {
      "text/plain": "dict_keys(['Mar', 'Jan', 'Feb', 'Jun', 'Sep', 'Apr', 'Oct', 'Aug', 'Dec', 'Nov', 'Jul'])"
     },
     "execution_count": 174,
     "metadata": {},
     "output_type": "execute_result"
    }
   ],
   "source": [
    "ppmi_models.keys()"
   ],
   "metadata": {
    "collapsed": false
   }
  },
  {
   "cell_type": "markdown",
   "source": [
    "## Vocabulary"
   ],
   "metadata": {
    "collapsed": false
   }
  },
  {
   "cell_type": "code",
   "execution_count": 175,
   "outputs": [
    {
     "name": "stdout",
     "output_type": "stream",
     "text": [
      "Vocabulary size of timestep Mar: 12108\n",
      "Vocabulary size of timestep Jan: 11553\n",
      "Vocabulary size of timestep Feb: 10313\n",
      "Vocabulary size of timestep Jun: 9629\n",
      "Vocabulary size of timestep Sep: 10310\n",
      "Vocabulary size of timestep Apr: 10076\n",
      "Vocabulary size of timestep Oct: 13314\n",
      "Vocabulary size of timestep Aug: 11294\n",
      "Vocabulary size of timestep Dec: 11857\n",
      "Vocabulary size of timestep Nov: 13099\n",
      "Vocabulary size of timestep Jul: 10162\n"
     ]
    }
   ],
   "source": [
    "for key, ppmi_model in ppmi_models.items():\n",
    "    print(f\"Vocabulary size of timestep {key}: {ppmi_model.get_vocabulary_size()}\")"
   ],
   "metadata": {
    "collapsed": false
   }
  },
  {
   "cell_type": "markdown",
   "source": [
    "## Calulate & Save"
   ],
   "metadata": {
    "collapsed": false
   }
  },
  {
   "cell_type": "code",
   "execution_count": 176,
   "outputs": [
    {
     "name": "stdout",
     "output_type": "stream",
     "text": [
      "PPMI data for 03 saved successfully.\n",
      "Vocabulary Size: 12108\n",
      "PPMI data for 01 saved successfully.\n",
      "Vocabulary Size: 11553\n",
      "PPMI data for 02 saved successfully.\n",
      "Vocabulary Size: 10313\n",
      "PPMI data for 06 saved successfully.\n",
      "Vocabulary Size: 9629\n",
      "PPMI data for 09 saved successfully.\n",
      "Vocabulary Size: 10310\n",
      "PPMI data for 04 saved successfully.\n",
      "Vocabulary Size: 10076\n",
      "PPMI data for 10 saved successfully.\n",
      "Vocabulary Size: 13314\n",
      "PPMI data for 08 saved successfully.\n",
      "Vocabulary Size: 11294\n",
      "PPMI data for 12 saved successfully.\n",
      "Vocabulary Size: 11857\n",
      "PPMI data for 11 saved successfully.\n",
      "Vocabulary Size: 13099\n",
      "PPMI data for 07 saved successfully.\n",
      "Vocabulary Size: 10162\n",
      "--------------- done ---------------\n",
      "PPMI-Data stored to: ../../data/ppmi-matrices/social-media-data/monthly/5000\n",
      "Number of context-words: 5000\n"
     ]
    }
   ],
   "source": [
    "output_dir = DATA_DIR / \"ppmi-matrices\" / \"social-media-data\" / split_type / str(number_of_context_words)\n",
    "output_dir.mkdir(parents=True, exist_ok=True)\n",
    "\n",
    "# save common context-words\n",
    "with open(output_dir / f\"context-words.pkl\", \"wb\") as f:\n",
    "    pickle.dump(context_words, f)\n",
    "\n",
    "# save vocab and ppmi-matrices\n",
    "for key, ppmi_model in ppmi_models.items():\n",
    "    ppmi_model.compute_ppmi_matrix(window_size=window_size)\n",
    "    ppmi_model.save(month_codes[key], output_dir)\n",
    "\n",
    "print(\"--------------- done ---------------\")\n",
    "print(f\"PPMI-Data stored to: {str(output_dir)}\")\n",
    "print(f\"Number of context-words: {len(context_words)}\")"
   ],
   "metadata": {
    "collapsed": false
   }
  },
  {
   "cell_type": "code",
   "execution_count": 176,
   "outputs": [],
   "source": [],
   "metadata": {
    "collapsed": false
   }
  }
 ],
 "metadata": {
  "kernelspec": {
   "display_name": "Python 3",
   "language": "python",
   "name": "python3"
  },
  "language_info": {
   "codemirror_mode": {
    "name": "ipython",
    "version": 2
   },
   "file_extension": ".py",
   "mimetype": "text/x-python",
   "name": "python",
   "nbconvert_exporter": "python",
   "pygments_lexer": "ipython2",
   "version": "2.7.6"
  }
 },
 "nbformat": 4,
 "nbformat_minor": 0
}
